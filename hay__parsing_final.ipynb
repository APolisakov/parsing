{
 "cells": [
  {
   "cell_type": "markdown",
   "id": "b5a67d0b",
   "metadata": {},
   "source": [
    "# Окончательный вариант парсинга"
   ]
  },
  {
   "cell_type": "markdown",
   "id": "d9d94afa",
   "metadata": {},
   "source": [
    "# подготовка к парсингу"
   ]
  },
  {
   "cell_type": "code",
   "execution_count": 1,
   "id": "f84e78a4",
   "metadata": {},
   "outputs": [],
   "source": [
    "import pandas as pd\n",
    "import numpy as np\n",
    "import requests\n",
    "from bs4 import BeautifulSoup as bs\n",
    "import re\n",
    "from tqdm.notebook import trange, tqdm\n",
    "from tqdm.gui import tqdm as tqdm_gui\n",
    "from IPython.display import display\n",
    "import datetime as dt\n",
    "import seaborn as sns\n",
    "import matplotlib.pyplot as plt"
   ]
  },
  {
   "cell_type": "markdown",
   "id": "50e2394a",
   "metadata": {},
   "source": [
    "импорт библиотек"
   ]
  },
  {
   "cell_type": "code",
   "execution_count": 2,
   "id": "40b4318c",
   "metadata": {},
   "outputs": [],
   "source": [
    "import warnings\n",
    "warnings.filterwarnings('ignore')"
   ]
  },
  {
   "cell_type": "markdown",
   "id": "283df9be",
   "metadata": {},
   "source": [
    "отключение ворнингов"
   ]
  },
  {
   "cell_type": "code",
   "execution_count": 3,
   "id": "db0e2f9e",
   "metadata": {},
   "outputs": [],
   "source": [
    "pd.set_option('display.max_colwidth', 1000)\n",
    "pd.set_option('display.max_columns', 1000)\n",
    "pd.set_option('display.max_rows', 1000)"
   ]
  },
  {
   "cell_type": "markdown",
   "id": "76c6f69a",
   "metadata": {},
   "source": [
    "задание параметров таблиц"
   ]
  },
  {
   "cell_type": "code",
   "execution_count": 4,
   "id": "caf0dc2d",
   "metadata": {},
   "outputs": [],
   "source": [
    "def find_id(x):\n",
    "    xxx = x.find('span', class_=\"ty-control-group__item\").text  \n",
    "    return xxx"
   ]
  },
  {
   "cell_type": "markdown",
   "id": "df262d57",
   "metadata": {},
   "source": [
    "функция создания столбца с кодом товара"
   ]
  },
  {
   "cell_type": "code",
   "execution_count": 5,
   "id": "b416d8fa",
   "metadata": {},
   "outputs": [],
   "source": [
    "def find_availability(t):\n",
    "    xxx = (t.find('a', class_=\"ty-control-group product-list-field cm-external-click\")\n",
    "           .text.replace('\\ue924','').replace('\\ue86c','').replace('\\n',''))\n",
    "    return xxx  "
   ]
  },
  {
   "cell_type": "markdown",
   "id": "6ee99509",
   "metadata": {},
   "source": [
    "функция создания столбца с парсингом наличия товара"
   ]
  },
  {
   "cell_type": "code",
   "execution_count": 6,
   "id": "e6d33de3",
   "metadata": {},
   "outputs": [],
   "source": [
    "def find_title(t):\n",
    "    xxx = t.find('a', class_=\"product-title\").text\n",
    "    return xxx"
   ]
  },
  {
   "cell_type": "markdown",
   "id": "e55649ab",
   "metadata": {},
   "source": [
    "функция создающая столбец с названием товара"
   ]
  },
  {
   "cell_type": "code",
   "execution_count": 7,
   "id": "56b59bb4",
   "metadata": {},
   "outputs": [],
   "source": [
    "def find_price(t):\n",
    "    xxx = t.find('span', class_=\"ty-price-num\").text.replace(u'\\xa0',u'')\n",
    "    return xxx"
   ]
  },
  {
   "cell_type": "markdown",
   "id": "f1152316",
   "metadata": {},
   "source": [
    "функция создающая столбец с продажной ценой товара"
   ]
  },
  {
   "cell_type": "code",
   "execution_count": 8,
   "id": "e2e3e51e",
   "metadata": {},
   "outputs": [],
   "source": [
    "def find_old_price(t):\n",
    "    try:\n",
    "        xxx = t.find('span', class_=\"ty-strike\").text.replace(u'\\xa0',u'').replace(u'руб',u'')\n",
    "        return xxx\n",
    "    except:\n",
    "        return np.NaN"
   ]
  },
  {
   "cell_type": "markdown",
   "id": "1382201a",
   "metadata": {},
   "source": [
    "функция созжающая столбец с предидущей ценой для акционного товара"
   ]
  },
  {
   "cell_type": "code",
   "execution_count": 9,
   "id": "aa448515",
   "metadata": {},
   "outputs": [],
   "source": [
    "def find_url(t):\n",
    "    xxx = t.find('a', class_=\"abt-single-image\")['href']\n",
    "    return xxx"
   ]
  },
  {
   "cell_type": "markdown",
   "id": "6eca4a17",
   "metadata": {},
   "source": [
    "Функция создающая столбец с урл адресом товара"
   ]
  },
  {
   "cell_type": "code",
   "execution_count": 10,
   "id": "085fc63b",
   "metadata": {},
   "outputs": [],
   "source": [
    "def preprocessing(x):\n",
    "    print(f'таблица имеет следующий вид:')\n",
    "    display(x.head())\n",
    "    print('*'*100)\n",
    "    print(f'таблица имеет {x.shape[0]} сторок и {x.shape[1]} столбцов')\n",
    "    print('*'*100)\n",
    "    print(f'в таблице обнаружено дублекатов:{x.duplicated().sum()}')\n",
    "    print('*'*100)\n",
    "    print('в таблице обнаружены пропуски в следующих столбцах:')\n",
    "    display(x.isna().sum())\n",
    "    print('*'*100)\n",
    "    print('Эти пропуски составлябт следующее количество в процентах')\n",
    "    display((x.isna().mean()* 100).round(1))\n",
    "    print('*'*100)\n",
    "    print('столбцы имеют следующие типы:')\n",
    "    display(x.dtypes)\n",
    "    x.columns = [y.lower().replace(' ', '_') for y in x.columns.values] \n",
    "    print('*'*100)\n",
    "    print('названия столбцов переписаны в нижнем регистре, пробелы заменены на нижнее подчеркивание')\n",
    "    print('*'*100)\n",
    "    display(x.info())"
   ]
  },
  {
   "cell_type": "markdown",
   "id": "938825e4",
   "metadata": {},
   "source": [
    "Функция для проверки датафрейма(вид дублекаты пропуски)"
   ]
  },
  {
   "cell_type": "code",
   "execution_count": 11,
   "id": "f5e1f4c1",
   "metadata": {},
   "outputs": [],
   "source": [
    "def parsing_2(url):\n",
    "    data = pd.DataFrame(columns=['url', 'id', 'date', 'availability', 'title', 'price', 'old_price'])\n",
    "    for i in tqdm(url):        \n",
    "        q = 1\n",
    "        while q>0:        \n",
    "            reqx = requests.get(i + str(q))\n",
    "            soup = bs(reqx.text, 'html.parser')\n",
    "            datax = pd.DataFrame({'url':pd.Series(soup.findAll('div', class_='ypi-grid-list__item_body'),dtype = 'object')})\n",
    "            data = pd.concat([data, datax], ignore_index=True)\n",
    "            if len(list(soup.findAll('div', class_='ypi-grid-list__item_body'))) > 0:\n",
    "                q = q + 1\n",
    "            else:\n",
    "                q = 0\n",
    "    data['id'] = data['url'].apply(find_id)\n",
    "    data['date'] = pd.to_datetime('today').normalize()\n",
    "    data['availability'] = data['url'].apply(find_availability)\n",
    "    data['title'] = data['url'].apply(find_title)\n",
    "    data['price'] = data['url'].apply(find_price)\n",
    "    data['old_price'] = data['url'].apply(find_old_price)\n",
    "    data['url'] = data['url'].apply(find_url)\n",
    "    data['price'] = data['price'].astype(float)\n",
    "    data.loc[data['old_price'] == '','old_price'] = np.nan\n",
    "    data['old_price'] = data['old_price'].astype(float)\n",
    "    return data"
   ]
  },
  {
   "cell_type": "markdown",
   "id": "ce9e3f74",
   "metadata": {},
   "source": [
    "Функция предварительного парсинга сайта, которая проходит по всем страницам в урл адресах переменной `all_url` и создает датафрейм в котором храняться: урл адреса товаров, индентефикатор товаров, дата предварительного парсинга товара, наличия товара, названия товара, цены товара, старой цены для акционного товара."
   ]
  },
  {
   "cell_type": "markdown",
   "id": "ccf8f7a9",
   "metadata": {},
   "source": [
    "# Парсинг цен кодов товара и url"
   ]
  },
  {
   "cell_type": "code",
   "execution_count": 12,
   "id": "de1837a3",
   "metadata": {},
   "outputs": [],
   "source": [
    "all_url = ['https://hi-tech.md/televizory-i-elektronika/page-',\n",
    "           'https://hi-tech.md/bytovaya-tehnika/page-',\n",
    "           'https://hi-tech.md/kompyuternaya-tehnika/page-',\n",
    "           'https://hi-tech.md/mebel-tekstil/kompyuternaya-mebel/ofisnye-kresla-i-stulya/komp.-kresla/page-',\n",
    "           'https://hi-tech.md/instrumenty-i-oborudovanie/elektroinstrument/page-',\n",
    "           'https://hi-tech.md/tovary-dlya-doma/page-'\n",
    "          ]"
   ]
  },
  {
   "cell_type": "markdown",
   "id": "c74534c5",
   "metadata": {},
   "source": [
    "all_url = ['https://hi-tech.md/televizory-i-elektronika/page-']"
   ]
  },
  {
   "cell_type": "markdown",
   "id": "a5a95a6d",
   "metadata": {},
   "source": [
    "all_url = ['https://hi-tech.md/bytovaya-tehnika/page-']"
   ]
  },
  {
   "cell_type": "markdown",
   "id": "96722603",
   "metadata": {},
   "source": [
    "all_url = ['https://hi-tech.md/kompyuternaya-tehnika/page-']"
   ]
  },
  {
   "cell_type": "markdown",
   "id": "e27255f9",
   "metadata": {},
   "source": [
    "all_url = ['https://hi-tech.md/mebel-tekstil/kompyuternaya-mebel/ofisnye-kresla-i-stulya/komp.-kresla/page-']"
   ]
  },
  {
   "cell_type": "markdown",
   "id": "6305750e",
   "metadata": {},
   "source": [
    "all_url = ['https://hi-tech.md/instrumenty-i-oborudovanie/elektroinstrument/page-']"
   ]
  },
  {
   "cell_type": "markdown",
   "id": "038ea45e",
   "metadata": {},
   "source": [
    "all_url = ['https://hi-tech.md/tovary-dlya-doma/page-']"
   ]
  },
  {
   "cell_type": "markdown",
   "id": "3adeb90c",
   "metadata": {},
   "source": [
    "переменная со списком ссылок на сайт для парсинга"
   ]
  },
  {
   "cell_type": "code",
   "execution_count": null,
   "id": "064954c3",
   "metadata": {
    "scrolled": true
   },
   "outputs": [
    {
     "data": {
      "application/vnd.jupyter.widget-view+json": {
       "model_id": "3dfef19223014b7a822bdfeaeb83b371",
       "version_major": 2,
       "version_minor": 0
      },
      "text/plain": [
       "  0%|          | 0/6 [00:00<?, ?it/s]"
      ]
     },
     "metadata": {},
     "output_type": "display_data"
    }
   ],
   "source": [
    "df = parsing_2(all_url)\n",
    "df"
   ]
  },
  {
   "cell_type": "markdown",
   "id": "41a328c8",
   "metadata": {},
   "source": [
    "предварительный парсинг"
   ]
  },
  {
   "cell_type": "code",
   "execution_count": null,
   "id": "f7dcb3c2",
   "metadata": {
    "scrolled": true
   },
   "outputs": [],
   "source": [
    "df = df.drop_duplicates().reset_index(drop=True)"
   ]
  },
  {
   "cell_type": "markdown",
   "id": "fee03afb",
   "metadata": {},
   "source": [
    "удаление дублекатов"
   ]
  },
  {
   "cell_type": "code",
   "execution_count": null,
   "id": "2d948198",
   "metadata": {},
   "outputs": [],
   "source": [
    "df.to_csv('csv/hi_tech_test_'+dt.datetime.now().strftime('%Y_%m_%d')+'.csv', index=False)"
   ]
  },
  {
   "cell_type": "markdown",
   "id": "3ebdbea7",
   "metadata": {},
   "source": [
    "создание резервной копии парсинга данных"
   ]
  },
  {
   "cell_type": "code",
   "execution_count": null,
   "id": "ae0de81b",
   "metadata": {},
   "outputs": [],
   "source": [
    "df = pd.read_csv('csv/hi_tech_test_'+dt.datetime.now().strftime('%Y_%m_%d')+'.csv')"
   ]
  },
  {
   "cell_type": "markdown",
   "id": "3362a83e",
   "metadata": {},
   "source": [
    "загрузка резервной копии парсинга данных"
   ]
  },
  {
   "cell_type": "markdown",
   "id": "290a3b7d",
   "metadata": {},
   "source": [
    "df = df.sample(30)"
   ]
  },
  {
   "cell_type": "markdown",
   "id": "b0b8dbde",
   "metadata": {},
   "source": [
    "тестовое уменьшение таблици"
   ]
  },
  {
   "cell_type": "code",
   "execution_count": null,
   "id": "a8992e7b",
   "metadata": {},
   "outputs": [],
   "source": [
    "def xxx(x):\n",
    "    reqx = requests.get(x)\n",
    "    soup = bs(reqx.text, 'html.parser')    \n",
    "    element = soup.findAll('div', class_='ty-warehouses-store__availability')\n",
    "    elem_2 = soup.findAll('div', class_='ty-breadcrumbs clearfix')\n",
    "    name = soup.findAll('span', class_='ty-breadcrumbs__current')\n",
    "    try:\n",
    "        d_0 = (element[0].text.strip().replace('В наличии', '1').replace('Нет в наличии','0')\n",
    "        .replace('Под заказ (1-3 дня)','0').replace('nan','0'))\n",
    "    except:\n",
    "        d_0 = (np.NaN)\n",
    "    try:\n",
    "        d_1 = (element[1].text.strip().replace('В наличии', '1').replace('Нет в наличии','0')\n",
    "        .replace('Под заказ (1-3 дня)','0').replace('nan','0'))\n",
    "    except:\n",
    "        d_1 = (np.NaN)\n",
    "    try:\n",
    "        d_2 = (element[2].text.strip().replace('В наличии', '1').replace('Нет в наличии','0')\n",
    "        .replace('Под заказ (1-3 дня)','0').replace('nan','0'))\n",
    "    except:\n",
    "        d_2 = (np.NaN)\n",
    "    try:\n",
    "        d_3 = (element[3].text.strip().replace('В наличии', '1').replace('Нет в наличии','0')\n",
    "        .replace('Под заказ (1-3 дня)','0').replace('nan','0'))\n",
    "    except:\n",
    "        d_3 = (np.NaN)\n",
    "    try:\n",
    "        d_4 = (element[4].text.strip().replace('В наличии', '1').replace('Нет в наличии','0')\n",
    "        .replace('Под заказ (1-3 дня)','0').replace('nan','0'))\n",
    "    except:\n",
    "        d_4 = (np.NaN)\n",
    "    try:\n",
    "        d_5 = (element[5].text.strip().replace('В наличии', '1').replace('Нет в наличии','0')\n",
    "        .replace('Под заказ (1-3 дня)','0').replace('nan','0'))\n",
    "    except:\n",
    "        d_5 = (np.NaN)\n",
    "    try:\n",
    "        d_6 = (element[6].text.strip().replace('В наличии', '1').replace('Нет в наличии','0')\n",
    "        .replace('Под заказ (1-3 дня)','0').replace('nan','0'))\n",
    "    except:\n",
    "        d_6 = (np.NaN)\n",
    "    try:\n",
    "        d_7 = (element[7].text.strip().replace('В наличии', '1').replace('Нет в наличии','0')\n",
    "        .replace('Под заказ (1-3 дня)','0').replace('nan','0'))\n",
    "    except:\n",
    "        d_7 = (np.NaN)\n",
    "    try:\n",
    "        d_8 = (element[8].text.strip().replace('В наличии', '1').replace('Нет в наличии','0')\n",
    "        .replace('Под заказ (1-3 дня)','0').replace('nan','0'))\n",
    "    except:\n",
    "        d_8 = (np.NaN)\n",
    "    try:\n",
    "        d_9 = (element[9].text.strip().replace('В наличии', '1').replace('Нет в наличии','0')\n",
    "        .replace('Под заказ (1-3 дня)','0').replace('nan','0'))\n",
    "    except:\n",
    "        d_9 = (np.NaN)\n",
    "    try:\n",
    "        d_10 = (element[10].text.strip().replace('В наличии', '1').replace('Нет в наличии','0')\n",
    "        .replace('Под заказ (1-3 дня)','0').replace('nan','0'))\n",
    "    except:\n",
    "        d_10 = (np.NaN)\n",
    "    try:\n",
    "        d_11 = (element[11].text.strip().replace('В наличии', '1').replace('Нет в наличии','0')\n",
    "        .replace('Под заказ (1-3 дня)','0').replace('nan','0'))\n",
    "    except:\n",
    "        d_11 = (np.NaN)\n",
    "    try:\n",
    "        d_12 = (element[12].text.strip().replace('В наличии', '1').replace('Нет в наличии','0')\n",
    "        .replace('Под заказ (1-3 дня)','0').replace('nan','0'))\n",
    "    except:\n",
    "        d_12 = (np.NaN)\n",
    "    try:\n",
    "        d_13 = (element[13].text.strip().replace('В наличии', '1').replace('Нет в наличии','0')\n",
    "        .replace('Под заказ (1-3 дня)','0').replace('nan','0'))\n",
    "    except:\n",
    "        d_13 = (np.NaN)\n",
    "        \n",
    "    try:\n",
    "        names = name[0].text\n",
    "        name_group = elem_2[0].text.replace('/'+str(names),'').replace('\\n','')\n",
    "        err = 'err'\n",
    "    except:\n",
    "        names = 'Noname'\n",
    "        name_group = 'Noname/Noname/Noname/Noname/Noname/Noname'\n",
    "        err = 'Noname_err'\n",
    "    try:\n",
    "        len_name = len((elem_2[0].text.replace('/'+str(names),'').replace('\\n','')).split('/'))\n",
    "    except:\n",
    "        len_name = 1\n",
    "        \n",
    "    try:\n",
    "        if len_name <= 1:\n",
    "            d_14 = 'err1'\n",
    "            d_15 = 'err1'\n",
    "            d_16 = 'err1'\n",
    "            d_17 = 'err1'\n",
    "        elif len_name <= 2:\n",
    "            d_14 = (name_group.split(\"/\")[1])\n",
    "            d_15 = (name_group.split(\"/\")[1])\n",
    "            d_16 = (name_group.split(\"/\")[1])\n",
    "            d_17 = (name_group.split(\"/\")[1])        \n",
    "        elif len_name <= 3:\n",
    "            d_14 = (name_group.split(\"/\")[1])\n",
    "            d_15 = (name_group.split(\"/\")[2])\n",
    "            d_16 = (name_group.split(\"/\")[2])\n",
    "            d_17 = (name_group.split(\"/\")[2])\n",
    "        elif len_name == 4:\n",
    "            d_14 = (name_group.split(\"/\")[1])\n",
    "            d_15 = (name_group.split(\"/\")[2])\n",
    "            d_16 = (name_group.split(\"/\")[3])  \n",
    "            d_17 = (name_group.split(\"/\")[3])\n",
    "        elif len_name > 4:\n",
    "            d_14 = (name_group.split(\"/\")[1])\n",
    "            d_15 = (name_group.split(\"/\")[2])\n",
    "            d_16 = (name_group.split(\"/\")[3])  \n",
    "            d_17 = (name_group.split(\"/\")[4])\n",
    "    except:\n",
    "        d_14 = 'err0'\n",
    "        d_15 = 'err0'\n",
    "        d_16 = 'err0'\n",
    "        d_17 = 'err0'\n",
    "        \n",
    "    return pd.Series([(d_0), (d_1), (d_2), (d_3), (d_4), (d_5), (d_6), (d_7), (d_8), (d_9), (d_10), (d_11), (d_12), (d_13), (d_14), (d_15), (d_16), (d_17)])"
   ]
  },
  {
   "cell_type": "markdown",
   "id": "52ea1dff",
   "metadata": {},
   "source": [
    "Функция основного парсинга, которая для каждой строки по урл адресу парсит и находит наличие товара в магахинах а также группу товара, категорию товара, подкатегорию товата и количество подкатегорий товара"
   ]
  },
  {
   "cell_type": "markdown",
   "id": "c2aff57b",
   "metadata": {},
   "source": [
    "# Парсинг остатков и групп товара"
   ]
  },
  {
   "cell_type": "code",
   "execution_count": null,
   "id": "ab37478d",
   "metadata": {},
   "outputs": [],
   "source": [
    "tqdm.pandas() \n",
    "df[['тир_юности_14а','тир_25_октября_69','бенд_спортивная_5','бенд_советская_5','бенд_советская_8','слободзея','днестровск',\n",
    "   'первомайск','григ_кмаркса_181а','григ_кмаркса_172','дубоссары','рыбн_вальченко_43','рыбн_кирова_135','каменка',\n",
    "   '_category','_subcategory','_group','_subgroup']] = df['url'].progress_apply(xxx)"
   ]
  },
  {
   "cell_type": "code",
   "execution_count": null,
   "id": "f4d2216d",
   "metadata": {},
   "outputs": [],
   "source": []
  },
  {
   "cell_type": "markdown",
   "id": "90abbd72",
   "metadata": {},
   "source": [
    "reqx = requests.get('https://hi-tech.md/tovary-dlya-doma/osveschenie/lyustry/lyustra-4pl-satipo-transparent-led15w-e27-5628-tkl/')\n",
    "soup = bs(reqx.text, 'html.parser')    \n",
    "element = soup.findAll('div', class_='ty-warehouses-store__availability')\n",
    "elem_2 = soup.findAll('div', class_='ty-breadcrumbs clearfix')\n",
    "name = soup.findAll('span', class_='ty-breadcrumbs__current')"
   ]
  },
  {
   "cell_type": "markdown",
   "id": "f8672a29",
   "metadata": {},
   "source": [
    "names = name[0].text\n",
    "name_group = elem_2[0].text.replace('/'+str(names),'').replace('\\n','')\n",
    "err = 'err'\n",
    "\n",
    "\n",
    "len_name = len((elem_2[0].text.replace('/'+str(names),'').replace('\\n','')).split('/'))\n",
    "\n",
    "\n",
    "if len_name <= 1:\n",
    "    d_14 = 'err1'\n",
    "    d_15 = 'err1'\n",
    "    d_16 = 'err1'\n",
    "    d_17 = 'err1'\n",
    "elif len_name <= 2:\n",
    "    d_14 = (name_group.split(\"/\")[1])\n",
    "    d_15 = (name_group.split(\"/\")[1])\n",
    "    d_16 = (name_group.split(\"/\")[1])\n",
    "    d_17 = (name_group.split(\"/\")[1])        \n",
    "elif len_name <= 3:\n",
    "    d_14 = (name_group.split(\"/\")[1])\n",
    "    d_15 = (name_group.split(\"/\")[2])\n",
    "    d_16 = (name_group.split(\"/\")[2])\n",
    "    d_17 = (name_group.split(\"/\")[2])\n",
    "elif len_name == 4:\n",
    "    d_14 = (name_group.split(\"/\")[1])\n",
    "    d_15 = (name_group.split(\"/\")[2])\n",
    "    d_16 = (name_group.split(\"/\")[3])  \n",
    "    d_17 = (name_group.split(\"/\")[3])\n",
    "elif len_name > 4:\n",
    "    d_14 = (name_group.split(\"/\")[1])\n",
    "    d_15 = (name_group.split(\"/\")[2])\n",
    "    d_16 = (name_group.split(\"/\")[3])  \n",
    "    d_17 = (name_group.split(\"/\")[4])\n",
    "print(d_14, d_15, d_16, d_17)"
   ]
  },
  {
   "cell_type": "code",
   "execution_count": null,
   "id": "edda17e2",
   "metadata": {},
   "outputs": [],
   "source": []
  },
  {
   "cell_type": "code",
   "execution_count": null,
   "id": "6b4d58b1",
   "metadata": {},
   "outputs": [],
   "source": []
  },
  {
   "cell_type": "code",
   "execution_count": null,
   "id": "5700abeb",
   "metadata": {},
   "outputs": [],
   "source": [
    "df._category.unique()"
   ]
  },
  {
   "cell_type": "code",
   "execution_count": null,
   "id": "389ea1d8",
   "metadata": {},
   "outputs": [],
   "source": [
    "df._subcategory.unique()"
   ]
  },
  {
   "cell_type": "code",
   "execution_count": null,
   "id": "58293d40",
   "metadata": {},
   "outputs": [],
   "source": [
    "df._group.unique()"
   ]
  },
  {
   "cell_type": "code",
   "execution_count": null,
   "id": "cb19e012",
   "metadata": {},
   "outputs": [],
   "source": [
    "df._subgroup.unique()"
   ]
  },
  {
   "cell_type": "markdown",
   "id": "982728f2",
   "metadata": {},
   "source": [
    "Основной парсинг"
   ]
  },
  {
   "cell_type": "code",
   "execution_count": null,
   "id": "f2260206",
   "metadata": {},
   "outputs": [],
   "source": [
    "df[df['_group']=='err_3']"
   ]
  },
  {
   "cell_type": "code",
   "execution_count": null,
   "id": "4dcedaa9",
   "metadata": {},
   "outputs": [],
   "source": []
  },
  {
   "cell_type": "code",
   "execution_count": null,
   "id": "f224964b",
   "metadata": {},
   "outputs": [],
   "source": []
  },
  {
   "cell_type": "code",
   "execution_count": null,
   "id": "825e33d1",
   "metadata": {
    "scrolled": false
   },
   "outputs": [],
   "source": [
    "preprocessing(df)"
   ]
  },
  {
   "cell_type": "code",
   "execution_count": null,
   "id": "486d9c8e",
   "metadata": {},
   "outputs": [],
   "source": [
    "df.to_csv('csv/hi_tech_test_'+dt.datetime.now().strftime('%Y_%m_%d')+'.csv', index=False)"
   ]
  },
  {
   "cell_type": "markdown",
   "id": "db907fbb",
   "metadata": {},
   "source": [
    "создание резервной копии парсинга данных"
   ]
  },
  {
   "cell_type": "code",
   "execution_count": null,
   "id": "7436ce99",
   "metadata": {},
   "outputs": [],
   "source": [
    "df = pd.read_csv('csv/hi_tech_test_'+dt.datetime.now().strftime('%Y_%m_%d')+'.csv')"
   ]
  },
  {
   "cell_type": "markdown",
   "id": "5d5d6881",
   "metadata": {},
   "source": [
    "загрузка резервной копии парсинга данных"
   ]
  },
  {
   "cell_type": "code",
   "execution_count": null,
   "id": "53653806",
   "metadata": {},
   "outputs": [],
   "source": [
    "df._category.unique()"
   ]
  },
  {
   "cell_type": "code",
   "execution_count": null,
   "id": "d1c13d02",
   "metadata": {},
   "outputs": [],
   "source": [
    "df['error_count'] = 0\n",
    "df.loc[df['каменка'].isna(), 'error_count'] = 1\n",
    "df['error_group'] = 0\n",
    "df.loc[df['_subgroup'].isna(), 'error_group'] = 1\n"
   ]
  },
  {
   "cell_type": "markdown",
   "id": "c6475ce8",
   "metadata": {},
   "source": [
    "Создание столбцов с флагом ошибки для товаров, для которых нет данных по остаткам хотябы в одном магазине"
   ]
  },
  {
   "cell_type": "code",
   "execution_count": null,
   "id": "830ab3db",
   "metadata": {},
   "outputs": [],
   "source": [
    "df.loc[df['error_count']==1 , ['тир_юности_14а', 'тир_25_октября_69', 'бенд_спортивная_5',\n",
    "       'бенд_советская_5', 'бенд_советская_8', 'слободзея', 'днестровск',\n",
    "       'первомайск', 'григ_кмаркса_181а', 'григ_кмаркса_172', 'дубоссары',\n",
    "       'рыбн_вальченко_43', 'рыбн_кирова_135', 'каменка']] = 0\n",
    "df.loc[df['error_group']==1 , ['_category',\n",
    "       '_subcategory', '_group', '_subgroup']] = 'No_group'"
   ]
  },
  {
   "cell_type": "markdown",
   "id": "95bf7a26",
   "metadata": {},
   "source": [
    "удаление наличия товара в магазинах и наименовании группы если у товара есть ошибки в этих данны"
   ]
  },
  {
   "cell_type": "code",
   "execution_count": null,
   "id": "c3f123de",
   "metadata": {},
   "outputs": [],
   "source": [
    "df['тир_юности_14а'] = df['тир_юности_14а'].astype('float')\n",
    "df['тир_25_октября_69'] = df['тир_25_октября_69'].astype('float')\n",
    "df['тирасполь'] = df['тир_юности_14а'] + df['тир_25_октября_69']\n",
    "df['бенд_спортивная_5'] = df['бенд_спортивная_5'].astype('float')\n",
    "df['бенд_советская_5'] = df['бенд_советская_5'].astype('float')\n",
    "df['бенд_советская_8'] = df['бенд_советская_8'].astype('float')\n",
    "df['бендеры'] = df['бенд_спортивная_5'] + df['бенд_советская_5'] + df['бенд_советская_8']\n",
    "df['слободзея'] = df['слободзея'].astype('float')\n",
    "df['днестровск'] = df['днестровск'].astype('float')\n",
    "df['первомайск'] = df['первомайск'].astype('float')\n",
    "df['григ_кмаркса_181а'] = df['григ_кмаркса_181а'].astype('float')\n",
    "df['григ_кмаркса_172'] = df['григ_кмаркса_172'].astype('float')\n",
    "df['григориополь'] = df['григ_кмаркса_181а'] + df['григ_кмаркса_172']\n",
    "df['дубоссары'] = df['дубоссары'].astype('float')\n",
    "df['рыбн_вальченко_43'] = df['рыбн_вальченко_43'].astype('float')\n",
    "df['рыбн_кирова_135'] = df['рыбн_кирова_135'].astype('float')\n",
    "df['рыбница'] = df['рыбн_вальченко_43'] + df['рыбн_кирова_135']\n",
    "df['каменка'] = df['каменка'].astype('float')\n",
    "df['all_shop'] = (df['тирасполь'] + df['бендеры'] + df['слободзея'] + df['днестровск'] +\n",
    "                  df['первомайск'] + df['григориополь'] + df['дубоссары'] + df['рыбница'] + df['каменка'])                 "
   ]
  },
  {
   "cell_type": "markdown",
   "id": "76eb939c",
   "metadata": {},
   "source": [
    "Изменение типов данных столбцов наличия товара в определенном магазине на тип данных `float`  и создания столбцов по наличию товара в магазинах городов"
   ]
  },
  {
   "cell_type": "code",
   "execution_count": null,
   "id": "04801c42",
   "metadata": {},
   "outputs": [],
   "source": [
    "df = df[['url', 'id', '_category', '_subcategory', '_group', '_subgroup', 'title',\n",
    "               'date',   'price', 'old_price', 'availability', 'all_shop', 'тирасполь',\n",
    "               'тир_юности_14а', 'тир_25_октября_69', 'бендеры', 'бенд_спортивная_5',\n",
    "               'бенд_советская_5', 'бенд_советская_8', 'рыбница', 'рыбн_вальченко_43', \n",
    "               'рыбн_кирова_135', 'дубоссары', 'днестровск', 'слободзея', 'первомайск',\n",
    "               'каменка', 'григориополь','григ_кмаркса_181а', 'григ_кмаркса_172',\n",
    "               'error_count', 'error_group', ]]"
   ]
  },
  {
   "cell_type": "markdown",
   "id": "dbe487ad",
   "metadata": {},
   "source": [
    "изменение порядка располажения столбцов"
   ]
  },
  {
   "cell_type": "code",
   "execution_count": null,
   "id": "44843dcf",
   "metadata": {
    "scrolled": false
   },
   "outputs": [],
   "source": [
    "preprocessing(df)"
   ]
  },
  {
   "cell_type": "markdown",
   "id": "23ddbd1e",
   "metadata": {},
   "source": [
    "просмотр данных после парсинга"
   ]
  },
  {
   "cell_type": "markdown",
   "id": "1c22a8c4",
   "metadata": {},
   "source": [
    "# Группировка товара"
   ]
  },
  {
   "cell_type": "markdown",
   "id": "01f53120",
   "metadata": {},
   "source": [
    "- разобраться с креслами в ногруп"
   ]
  },
  {
   "cell_type": "code",
   "execution_count": null,
   "id": "57c92365",
   "metadata": {},
   "outputs": [],
   "source": [
    "df.loc[df['_subcategory']=='Мультимедиа', '_subcategory'] = 'Аудиосистемы'\n",
    "df.loc[df['_group']=='Акустические системы', '_group'] = 'Акустика'\n",
    "df.loc[df['_group']=='Музыкальная техника', '_group'] = 'Акустика'\n",
    "df.loc[df['_subcategory']=='Умный дом с Яндекс','_subcategory'] = 'Аудиосистемы'\n",
    "df.loc[df['_group']=='Яндекс Станции', '_group'] = 'Акустика'\n",
    "df.loc[df['_group']=='AirPods', '_subcategory'] = 'Аудиосистемы'\n",
    "df.loc[df['_group']=='AirPods', '_group'] = 'Наушники'\n",
    "df.loc[df['_group']=='Apple Watch', '_group'] = 'Часы и браслеты'\n",
    "df.loc[df['_group']=='iPhone', '_group'] = 'Смартфоны'\n",
    "df.loc[df['_group']=='iPad', '_group'] = 'Планшеты'\n",
    "df.loc[df['_group']=='MacBook', '_group'] = 'Ноутбуки'\n",
    "df.loc[df['_group']=='iMac', '_group'] = 'Моноблоки'\n",
    "df.loc[df['_group']=='Часы и браслеты', '_subcategory'] = 'Гаджеты'\n",
    "df.loc[df['_group']=='Смартфоны', '_subcategory'] = 'Смартфоны и аксессуары'\n",
    "df.loc[df['_group']=='Планшеты', '_subcategory'] = 'Готовые решения'\n",
    "df.loc[df['_group']=='Ноутбуки', '_subcategory'] = 'Готовые решения'\n",
    "df.loc[df['_group']=='Моноблоки', '_subcategory'] = 'Готовые решения'\n",
    "df.loc[df['_subcategory']=='Стиральные и сушильные машины', '_group'] = 'Стиральные машины'\n",
    "df.loc[df['_subgroup']=='Сушильные машины', '_group'] = 'Сушильные машины'\n",
    "df.loc[df['_subgroup']=='Наклейки', '_group'] = 'Наклейки'\n",
    "df.loc[df['_subgroup']=='Подставки', '_group'] = 'Подставки'\n",
    "df.loc[df['_subgroup']=='Замки', '_group'] = 'Замки'\n",
    "df.loc[df['_subgroup']=='USB HUB', '_group'] = 'USB HUB'\n",
    "df.loc[df['_subgroup']=='Сумки и чехлы', '_group'] = 'Сумки и чехлы'\n",
    "df.loc[df['_subgroup']=='Защитные стекла', '_group'] = 'Защитные стекла'\n",
    "df.loc[df['_subgroup']=='Сумки и чехлы', '_group'] = 'Сумки и чехлы'\n",
    "df.loc[df['_subcategory']=='Мониторы','_group'] = 'Мониторы'"
   ]
  },
  {
   "cell_type": "code",
   "execution_count": null,
   "id": "e0323ed7",
   "metadata": {
    "scrolled": true
   },
   "outputs": [],
   "source": [
    "for i in df['_subcategory'].unique():\n",
    "    t = df[df['_subcategory']==i]\n",
    "    print(i)\n",
    "    print(t['_group'].unique())\n",
    "    print('-'*100)"
   ]
  },
  {
   "cell_type": "markdown",
   "id": "ad4ae26c",
   "metadata": {},
   "source": [
    "просмотр групп товаров в подкатегориях"
   ]
  },
  {
   "cell_type": "code",
   "execution_count": null,
   "id": "167c6bfe",
   "metadata": {},
   "outputs": [],
   "source": [
    "for i in df['_group'].unique():\n",
    "    t = df[df['_group']==i]\n",
    "    print(i)\n",
    "    print(t['_subgroup'].unique())\n",
    "    print('-'*100)"
   ]
  },
  {
   "cell_type": "code",
   "execution_count": null,
   "id": "9a1d64b3",
   "metadata": {},
   "outputs": [],
   "source": [
    "df._category.unique()"
   ]
  },
  {
   "cell_type": "code",
   "execution_count": null,
   "id": "59d49ce6",
   "metadata": {},
   "outputs": [],
   "source": [
    "df._subcategory.unique()"
   ]
  },
  {
   "cell_type": "code",
   "execution_count": null,
   "id": "8915c0af",
   "metadata": {},
   "outputs": [],
   "source": [
    "df._group.unique()"
   ]
  },
  {
   "cell_type": "code",
   "execution_count": null,
   "id": "8fb9ae3a",
   "metadata": {},
   "outputs": [],
   "source": [
    "df._subgroup.unique()"
   ]
  },
  {
   "cell_type": "markdown",
   "id": "d77bce23",
   "metadata": {},
   "source": [
    "# Подготовка анализа"
   ]
  },
  {
   "cell_type": "code",
   "execution_count": null,
   "id": "78e58c10",
   "metadata": {},
   "outputs": [],
   "source": [
    "df.head(2)"
   ]
  },
  {
   "cell_type": "code",
   "execution_count": null,
   "id": "a1f5bd2f",
   "metadata": {},
   "outputs": [],
   "source": [
    "brend = pd.read_excel('csv/brend.xlsx')"
   ]
  },
  {
   "cell_type": "code",
   "execution_count": null,
   "id": "16315563",
   "metadata": {},
   "outputs": [],
   "source": [
    "def lower(x):\n",
    "    return x.lower()\n",
    "brend['names'] = brend['name'].apply(lower)\n",
    "brend_up = brend.name.unique()\n",
    "brend_low = brend.names.unique()"
   ]
  },
  {
   "cell_type": "markdown",
   "id": "6d34081d",
   "metadata": {},
   "source": [
    "Создаем список брендов"
   ]
  },
  {
   "cell_type": "code",
   "execution_count": null,
   "id": "a6e9df35",
   "metadata": {},
   "outputs": [],
   "source": [
    "def brends(x):\n",
    "    xx = x.replace('\\xa0', ' ')\n",
    "    xx = xx.split(' ')    \n",
    "    for i in range(len(xx)-1):\n",
    "        if xx[i].lower() in brend_low:\n",
    "            return xx[i].lower()\n",
    "        elif (str(xx[i].lower())+' '+str(xx[i+1].lower())) in brend_low:\n",
    "            return (str(xx[i].lower())+' '+str(xx[i+1].lower()))    \n",
    "    else:    \n",
    "        return 'другой'\n",
    "tqdm.pandas()\n",
    "df['brend'] = df['title'].progress_apply(brends)"
   ]
  },
  {
   "cell_type": "markdown",
   "id": "8adb4a8b",
   "metadata": {},
   "source": [
    "создаем столбец с брендами"
   ]
  },
  {
   "cell_type": "code",
   "execution_count": null,
   "id": "1f8c87a3",
   "metadata": {},
   "outputs": [],
   "source": [
    "df['action_sale'] = 0\n",
    "df.loc[df['old_price'] > 0,'action_sale'] = 1"
   ]
  },
  {
   "cell_type": "markdown",
   "id": "5fcbcc3a",
   "metadata": {},
   "source": [
    "Создаем столбец с флагом акции"
   ]
  },
  {
   "cell_type": "code",
   "execution_count": null,
   "id": "802aea65",
   "metadata": {},
   "outputs": [],
   "source": [
    "df['sale'] = (100 - ((df['price']*100)/df['old_price'])).round(2) "
   ]
  },
  {
   "cell_type": "markdown",
   "id": "91917f95",
   "metadata": {},
   "source": [
    "создаем столбец показывающий скидку в процентах"
   ]
  },
  {
   "cell_type": "code",
   "execution_count": null,
   "id": "8addc73b",
   "metadata": {},
   "outputs": [],
   "source": [
    "def count_group(x):\n",
    "    return df[df['_group']==x]['id'].count()    \n",
    "tqdm.pandas()\n",
    "df['count_group'] = df['_group'].progress_apply(count_group)"
   ]
  },
  {
   "cell_type": "markdown",
   "id": "d7ef1d16",
   "metadata": {},
   "source": [
    "создание столбца с количеством товара в группе"
   ]
  },
  {
   "cell_type": "code",
   "execution_count": null,
   "id": "b7eee161",
   "metadata": {
    "scrolled": true
   },
   "outputs": [],
   "source": [
    "def count_group_presence(x):\n",
    "    return df[(df['availability']=='В наличии')&(df['_group']==x)]['id'].count()   \n",
    "tqdm.pandas()\n",
    "df['activ_count_group'] = df['_group'].progress_apply(count_group_presence)"
   ]
  },
  {
   "cell_type": "markdown",
   "id": "2a6594ce",
   "metadata": {},
   "source": [
    "создание столбца с количеством товара, который есть в наличии, в группе"
   ]
  },
  {
   "cell_type": "code",
   "execution_count": null,
   "id": "b796ecb2",
   "metadata": {},
   "outputs": [],
   "source": [
    "def dif_price(x):    \n",
    "    max_price = df[(df['availability']=='В наличии')&(df['_group']==x)]['price'].max()\n",
    "    min_price = df[(df['availability']=='В наличии')&(df['_group']==x)]['price'].min() \n",
    "    return max_price / min_price\n",
    "tqdm.pandas()\n",
    "df['dif_price'] = df['_group'].progress_apply(dif_price)"
   ]
  },
  {
   "cell_type": "markdown",
   "id": "c88e2d0f",
   "metadata": {},
   "source": [
    "создам столбец с отношением самой дорогой цены в группе к самой дешевой."
   ]
  },
  {
   "cell_type": "code",
   "execution_count": null,
   "id": "a1d6d899",
   "metadata": {},
   "outputs": [],
   "source": [
    "df['group_prise'] = df.groupby('_group')['price'].transform(lambda x: pd.cut(x, bins = 4, labels=[\"бюджет\", \"стандарт\", 'дорогой', \"элитный\"]))"
   ]
  },
  {
   "cell_type": "markdown",
   "id": "ea4ee02c",
   "metadata": {},
   "source": [
    "создание столбца с ценовой категорией товара"
   ]
  },
  {
   "cell_type": "code",
   "execution_count": null,
   "id": "9c53eae9",
   "metadata": {},
   "outputs": [],
   "source": [
    "df = df[['url', 'id', '_category', '_subcategory', '_group', '_subgroup', 'brend', \n",
    "         'title', 'date', 'price', 'old_price', 'action_sale', 'sale', 'group_prise', 'dif_price',\n",
    "         'availability', 'all_shop', 'count_group', 'activ_count_group',\n",
    "         'тирасполь', 'тир_юности_14а', 'тир_25_октября_69', 'бендеры',\n",
    "         'бенд_спортивная_5', 'бенд_советская_5', 'бенд_советская_8', 'рыбница',\n",
    "         'рыбн_вальченко_43', 'рыбн_кирова_135', 'дубоссары', 'днестровск',\n",
    "         'слободзея', 'первомайск', 'каменка', 'григориополь',\n",
    "         'григ_кмаркса_181а', 'григ_кмаркса_172', 'error_count', 'error_group']]"
   ]
  },
  {
   "cell_type": "code",
   "execution_count": null,
   "id": "1f1079bd",
   "metadata": {},
   "outputs": [],
   "source": [
    "df.to_csv('csv/hi_tech_end_'+dt.datetime.now().strftime('%Y_%m_%d')+'.csv', index=False) "
   ]
  },
  {
   "cell_type": "markdown",
   "id": "eeced9ff",
   "metadata": {},
   "source": [
    "# Аналитика акционных товаров"
   ]
  },
  {
   "cell_type": "code",
   "execution_count": null,
   "id": "78e0766a",
   "metadata": {},
   "outputs": [],
   "source": [
    "df"
   ]
  },
  {
   "cell_type": "code",
   "execution_count": null,
   "id": "b411cff6",
   "metadata": {},
   "outputs": [],
   "source": [
    "df.head(2)"
   ]
  },
  {
   "cell_type": "code",
   "execution_count": null,
   "id": "518edfe5",
   "metadata": {},
   "outputs": [],
   "source": [
    "df.groupby('_group')['price'].mean().reset_index()"
   ]
  },
  {
   "cell_type": "markdown",
   "id": "d4cc89c8",
   "metadata": {},
   "source": [
    "t = df.groupby('_group').agg({'price':['count','mean','median']}).reset_index()\n",
    "t.columns = ['_'.join(col).strip() for col in t.columns.values]\n",
    "t"
   ]
  },
  {
   "cell_type": "code",
   "execution_count": null,
   "id": "5e56b196",
   "metadata": {},
   "outputs": [],
   "source": [
    "plt.rcParams.update(plt.rcParamsDefault)"
   ]
  },
  {
   "cell_type": "code",
   "execution_count": null,
   "id": "796933e8",
   "metadata": {},
   "outputs": [],
   "source": [
    "df[df['_group']=='Пылесосы'].head(2)"
   ]
  },
  {
   "cell_type": "code",
   "execution_count": null,
   "id": "9428cccc",
   "metadata": {},
   "outputs": [],
   "source": [
    "separator = ['_group','brend','group_prise']"
   ]
  },
  {
   "cell_type": "code",
   "execution_count": null,
   "id": "9a7e97b2",
   "metadata": {
    "scrolled": true
   },
   "outputs": [],
   "source": [
    "for x in separator:\n",
    "    for i in df['_subcategory'].unique():        \n",
    "        plt.figure(figsize=(16,9))\n",
    "        sns.barplot(df[df['_subcategory']==i].groupby([x ,'action_sale'])['id'].count().sort_values(ascending=False).reset_index(),\n",
    "                       x=x, y='id', hue='action_sale')\n",
    "        plt.xticks(rotation=45)\n",
    "        plt.title(f'количество товаров разных {x} в подкатегории {i} распределенные по наличию акции ')\n",
    "        plt.xlabel(f' {i}')\n",
    "        plt.ylabel('количество товара')\n",
    "        plt.show()"
   ]
  },
  {
   "cell_type": "markdown",
   "id": "13de2dab",
   "metadata": {
    "scrolled": true
   },
   "source": [
    "for x in separator:\n",
    "    for i in df['_subcategory'].unique():        \n",
    "        plt.figure(figsize=(16,9))\n",
    "        sns.barplot(df[df['_subcategory']==i].groupby([x ,'action_sale'])['price'].mean().reset_index()\n",
    "                    .sort_values('price',ascending=False),x=x, y='price', color='blue', errorbar=None)\n",
    "        plt.xticks(rotation=45)\n",
    "        plt.title(f'средняя цена для разных{x} в подкатегории {i}')\n",
    "        plt.xlabel(f'{i}')\n",
    "        plt.ylabel('средняя цена')\n",
    "        plt.show()"
   ]
  },
  {
   "cell_type": "code",
   "execution_count": null,
   "id": "98e3c96e",
   "metadata": {},
   "outputs": [],
   "source": []
  }
 ],
 "metadata": {
  "kernelspec": {
   "display_name": "Python 3 (ipykernel)",
   "language": "python",
   "name": "python3"
  },
  "language_info": {
   "codemirror_mode": {
    "name": "ipython",
    "version": 3
   },
   "file_extension": ".py",
   "mimetype": "text/x-python",
   "name": "python",
   "nbconvert_exporter": "python",
   "pygments_lexer": "ipython3",
   "version": "3.11.3"
  }
 },
 "nbformat": 4,
 "nbformat_minor": 5
}
