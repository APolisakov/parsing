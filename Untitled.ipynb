{
 "cells": [
  {
   "cell_type": "code",
   "execution_count": 1,
   "id": "1f9bc9f4-3cfa-4f86-a61f-16fb26697f00",
   "metadata": {
    "editable": true,
    "slideshow": {
     "slide_type": ""
    },
    "tags": []
   },
   "outputs": [],
   "source": [
    "str1 = 'йцуке hh'"
   ]
  },
  {
   "cell_type": "code",
   "execution_count": 2,
   "id": "5e490ca7-5c40-46e4-8de7-65a32d0fa8dd",
   "metadata": {},
   "outputs": [],
   "source": [
    "str1 = ''.join(str1.lower().split())"
   ]
  },
  {
   "cell_type": "code",
   "execution_count": 3,
   "id": "65cb6fbe-d1c1-4132-a74b-a2c67ceafca0",
   "metadata": {},
   "outputs": [
    {
     "data": {
      "text/plain": [
       "['йцукеhh']"
      ]
     },
     "execution_count": 3,
     "metadata": {},
     "output_type": "execute_result"
    }
   ],
   "source": [
    "str1.lower().split()"
   ]
  },
  {
   "cell_type": "code",
   "execution_count": 4,
   "id": "6d59c5ff-606d-4c0f-8d7b-9cfd7e1ca0fa",
   "metadata": {},
   "outputs": [
    {
     "ename": "NameError",
     "evalue": "name 'jupyter' is not defined",
     "output_type": "error",
     "traceback": [
      "\u001b[1;31m---------------------------------------------------------------------------\u001b[0m",
      "\u001b[1;31mNameError\u001b[0m                                 Traceback (most recent call last)",
      "Cell \u001b[1;32mIn[4], line 1\u001b[0m\n\u001b[1;32m----> 1\u001b[0m jupyter \u001b[38;5;241m-\u001b[39m\u001b[38;5;241m-\u001b[39mpaths\n",
      "\u001b[1;31mNameError\u001b[0m: name 'jupyter' is not defined"
     ]
    }
   ],
   "source": [
    "jupyter --paths\n"
   ]
  },
  {
   "cell_type": "markdown",
   "id": "2557534a-014c-4c4d-a832-25892c0e83ae",
   "metadata": {
    "editable": true,
    "slideshow": {
     "slide_type": ""
    },
    "tags": []
   },
   "source": [
    "кhghfj"
   ]
  },
  {
   "cell_type": "markdown",
   "id": "0ca3a550-6068-49f2-9ed6-ef92b591057f",
   "metadata": {
    "editable": true,
    "slideshow": {
     "slide_type": ""
    },
    "tags": []
   },
   "source": [
    "когда заработает ru_RU gj подскажите пож \n"
   ]
  },
  {
   "cell_type": "code",
   "execution_count": null,
   "id": "27d5062b-7f04-4044-b68b-e8f7618880cd",
   "metadata": {},
   "outputs": [],
   "source": []
  }
 ],
 "metadata": {
  "kernelspec": {
   "display_name": "Python 3 (ipykernel)",
   "language": "python",
   "name": "python3"
  },
  "language_info": {
   "codemirror_mode": {
    "name": "ipython",
    "version": 3
   },
   "file_extension": ".py",
   "mimetype": "text/x-python",
   "name": "python",
   "nbconvert_exporter": "python",
   "pygments_lexer": "ipython3",
   "version": "3.11.3"
  },
  "widgets": {
   "application/vnd.jupyter.widget-state+json": {
    "state": {},
    "version_major": 2,
    "version_minor": 0
   }
  }
 },
 "nbformat": 4,
 "nbformat_minor": 5
}
