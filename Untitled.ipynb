{
 "cells": [
  {
   "cell_type": "code",
   "execution_count": 16,
   "id": "f84e78a4",
   "metadata": {},
   "outputs": [],
   "source": [
    "import pandas as pd\n",
    "import numpy as np\n",
    "import requests\n",
    "from bs4 import BeautifulSoup as bs\n",
    "import re\n",
    "from tqdm.notebook import trange, tqdm\n",
    "from tqdm.gui import tqdm as tqdm_gui\n",
    "from IPython.display import display"
   ]
  },
  {
   "cell_type": "code",
   "execution_count": 9,
   "id": "db0e2f9e",
   "metadata": {},
   "outputs": [],
   "source": [
    "pd.set_option('display.max_colwidth', 1000)\n",
    "pd.set_option('display.max_columns', 1000)\n",
    "pd.set_option('display.max_rows', 1000)"
   ]
  },
  {
   "cell_type": "code",
   "execution_count": 66,
   "id": "b60bd25f",
   "metadata": {},
   "outputs": [],
   "source": [
    "df = pd.DataFrame({'vol':[1,2,3],'vol2':[0,0,0]})"
   ]
  },
  {
   "cell_type": "code",
   "execution_count": 67,
   "id": "505ce8ba",
   "metadata": {},
   "outputs": [
    {
     "data": {
      "text/html": [
       "<div>\n",
       "<style scoped>\n",
       "    .dataframe tbody tr th:only-of-type {\n",
       "        vertical-align: middle;\n",
       "    }\n",
       "\n",
       "    .dataframe tbody tr th {\n",
       "        vertical-align: top;\n",
       "    }\n",
       "\n",
       "    .dataframe thead th {\n",
       "        text-align: right;\n",
       "    }\n",
       "</style>\n",
       "<table border=\"1\" class=\"dataframe\">\n",
       "  <thead>\n",
       "    <tr style=\"text-align: right;\">\n",
       "      <th></th>\n",
       "      <th>vol</th>\n",
       "      <th>vol2</th>\n",
       "    </tr>\n",
       "  </thead>\n",
       "  <tbody>\n",
       "    <tr>\n",
       "      <th>0</th>\n",
       "      <td>1</td>\n",
       "      <td>0</td>\n",
       "    </tr>\n",
       "    <tr>\n",
       "      <th>1</th>\n",
       "      <td>2</td>\n",
       "      <td>0</td>\n",
       "    </tr>\n",
       "    <tr>\n",
       "      <th>2</th>\n",
       "      <td>3</td>\n",
       "      <td>0</td>\n",
       "    </tr>\n",
       "  </tbody>\n",
       "</table>\n",
       "</div>"
      ],
      "text/plain": [
       "   vol  vol2\n",
       "0    1     0\n",
       "1    2     0\n",
       "2    3     0"
      ]
     },
     "execution_count": 67,
     "metadata": {},
     "output_type": "execute_result"
    }
   ],
   "source": [
    "df"
   ]
  },
  {
   "cell_type": "code",
   "execution_count": 68,
   "id": "ff787e39",
   "metadata": {},
   "outputs": [
    {
     "ename": "SyntaxError",
     "evalue": "incomplete input (3691122053.py, line 2)",
     "output_type": "error",
     "traceback": [
      "\u001b[1;36m  Cell \u001b[1;32mIn[68], line 2\u001b[1;36m\u001b[0m\n\u001b[1;33m    \u001b[0m\n\u001b[1;37m    ^\u001b[0m\n\u001b[1;31mSyntaxError\u001b[0m\u001b[1;31m:\u001b[0m incomplete input\n"
     ]
    }
   ],
   "source": [
    "def fun(x):\n",
    "    x1 = x['vol'] *2 \n"
   ]
  },
  {
   "cell_type": "code",
   "execution_count": 13,
   "id": "615030d3",
   "metadata": {},
   "outputs": [],
   "source": [
    "t = pd.read_csv('csv/hi_tech_test1_2024_6_11.csv')"
   ]
  },
  {
   "cell_type": "code",
   "execution_count": 65,
   "id": "97df163d",
   "metadata": {},
   "outputs": [
    {
     "data": {
      "text/html": [
       "<div>\n",
       "<style scoped>\n",
       "    .dataframe tbody tr th:only-of-type {\n",
       "        vertical-align: middle;\n",
       "    }\n",
       "\n",
       "    .dataframe tbody tr th {\n",
       "        vertical-align: top;\n",
       "    }\n",
       "\n",
       "    .dataframe thead th {\n",
       "        text-align: right;\n",
       "    }\n",
       "</style>\n",
       "<table border=\"1\" class=\"dataframe\">\n",
       "  <thead>\n",
       "    <tr style=\"text-align: right;\">\n",
       "      <th></th>\n",
       "      <th>soup_name</th>\n",
       "      <th>id</th>\n",
       "      <th>date</th>\n",
       "      <th>availability</th>\n",
       "      <th>title</th>\n",
       "      <th>price</th>\n",
       "      <th>old_price</th>\n",
       "    </tr>\n",
       "  </thead>\n",
       "  <tbody>\n",
       "    <tr>\n",
       "      <th>1529</th>\n",
       "      <td>https://hi-tech.md/bytovaya-tehnika/tovary-dlya-uhoda-za-odezhdoy/utyugi/utyug-gorenje-sih1100tbt/</td>\n",
       "      <td>Т-000070042</td>\n",
       "      <td>2024-06-11</td>\n",
       "      <td>В наличии</td>\n",
       "      <td>утюг дорожный Gorenje SIH1100TBT</td>\n",
       "      <td>340.0</td>\n",
       "      <td>NaN</td>\n",
       "    </tr>\n",
       "    <tr>\n",
       "      <th>1530</th>\n",
       "      <td>https://hi-tech.md/bytovaya-tehnika/prigotovlenie-napitkov/kofemolki/kofemolka-elektricheskaya-heinner-hcg-150ixgd/</td>\n",
       "      <td>Т-000071924</td>\n",
       "      <td>2024-06-11</td>\n",
       "      <td>В наличии</td>\n",
       "      <td>Кофемолка электрическая Heinner HCG-150IXGD</td>\n",
       "      <td>340.0</td>\n",
       "      <td>NaN</td>\n",
       "    </tr>\n",
       "    <tr>\n",
       "      <th>1531</th>\n",
       "      <td>https://hi-tech.md/bytovaya-tehnika/prigotovlenie-napitkov/kofemolki/kofemolka-elektricheskaya-heinner-hcg-150ss/</td>\n",
       "      <td>Т-000071922</td>\n",
       "      <td>2024-06-11</td>\n",
       "      <td>В наличии</td>\n",
       "      <td>Кофемолка электрическая Heinner HCG-150SS</td>\n",
       "      <td>340.0</td>\n",
       "      <td>NaN</td>\n",
       "    </tr>\n",
       "  </tbody>\n",
       "</table>\n",
       "</div>"
      ],
      "text/plain": [
       "                                                                                                                soup_name  \\\n",
       "1529                   https://hi-tech.md/bytovaya-tehnika/tovary-dlya-uhoda-za-odezhdoy/utyugi/utyug-gorenje-sih1100tbt/   \n",
       "1530  https://hi-tech.md/bytovaya-tehnika/prigotovlenie-napitkov/kofemolki/kofemolka-elektricheskaya-heinner-hcg-150ixgd/   \n",
       "1531    https://hi-tech.md/bytovaya-tehnika/prigotovlenie-napitkov/kofemolki/kofemolka-elektricheskaya-heinner-hcg-150ss/   \n",
       "\n",
       "               id        date availability  \\\n",
       "1529  Т-000070042  2024-06-11    В наличии   \n",
       "1530  Т-000071924  2024-06-11    В наличии   \n",
       "1531  Т-000071922  2024-06-11    В наличии   \n",
       "\n",
       "                                            title  price  old_price  \n",
       "1529             утюг дорожный Gorenje SIH1100TBT  340.0        NaN  \n",
       "1530  Кофемолка электрическая Heinner HCG-150IXGD  340.0        NaN  \n",
       "1531    Кофемолка электрическая Heinner HCG-150SS  340.0        NaN  "
      ]
     },
     "execution_count": 65,
     "metadata": {},
     "output_type": "execute_result"
    }
   ],
   "source": [
    "df = t.loc[[1529,1530,1531],:]"
   ]
  },
  {
   "cell_type": "code",
   "execution_count": 58,
   "id": "fb4e0a71",
   "metadata": {},
   "outputs": [],
   "source": [
    "reqx = requests.get(t.loc[1531,'soup_name'])\n",
    "soup = bs(reqx.text, 'html.parser')    \n",
    "element = soup.findAll('div', class_='ty-warehouses-store__availability')\n",
    "elem_2 = soup.findAll('div', class_='ty-breadcrumbs clearfix')\n",
    "name = soup.findAll('span', class_='ty-breadcrumbs__current')"
   ]
  },
  {
   "cell_type": "code",
   "execution_count": 59,
   "id": "9866eff4",
   "metadata": {},
   "outputs": [
    {
     "data": {
      "text/plain": [
       "'\\nВ наличии\\n'"
      ]
     },
     "execution_count": 59,
     "metadata": {},
     "output_type": "execute_result"
    }
   ],
   "source": [
    "element[0].text"
   ]
  },
  {
   "cell_type": "code",
   "execution_count": 60,
   "id": "0104063a",
   "metadata": {},
   "outputs": [
    {
     "data": {
      "text/plain": [
       "'\\nГлавная/Бытовая техника/Приготовление напитков/Кофемолки/Кофемолка электрическая Heinner HCG-150SS\\n'"
      ]
     },
     "execution_count": 60,
     "metadata": {},
     "output_type": "execute_result"
    }
   ],
   "source": [
    "elem_2[0].text"
   ]
  },
  {
   "cell_type": "code",
   "execution_count": 61,
   "id": "97bbbc42",
   "metadata": {},
   "outputs": [
    {
     "data": {
      "text/plain": [
       "'Кофемолка электрическая Heinner HCG-150SS'"
      ]
     },
     "execution_count": 61,
     "metadata": {},
     "output_type": "execute_result"
    }
   ],
   "source": [
    "name[0].text"
   ]
  },
  {
   "cell_type": "code",
   "execution_count": 62,
   "id": "9e9bf766",
   "metadata": {},
   "outputs": [
    {
     "data": {
      "text/plain": [
       "True"
      ]
     },
     "execution_count": 62,
     "metadata": {},
     "output_type": "execute_result"
    }
   ],
   "source": [
    "name[0].text.find('/')<0"
   ]
  },
  {
   "cell_type": "code",
   "execution_count": 63,
   "id": "f24fa9b4",
   "metadata": {},
   "outputs": [],
   "source": [
    " if name[0].text.find('/')<0:\n",
    "    ss = elem_2[0].text\n",
    "else:\n",
    "     ss = elem_2[0].text[:elem_2[0].text.rfind('/')] + ' ' + elem_2[0].text[elem_2[0].text.rfind('/')+1:]           "
   ]
  },
  {
   "cell_type": "code",
   "execution_count": 64,
   "id": "dd4287d1",
   "metadata": {},
   "outputs": [
    {
     "data": {
      "text/plain": [
       "5"
      ]
     },
     "execution_count": 64,
     "metadata": {},
     "output_type": "execute_result"
    }
   ],
   "source": [
    "len(ss.split('/'))"
   ]
  },
  {
   "cell_type": "code",
   "execution_count": null,
   "id": "dffd8e19",
   "metadata": {},
   "outputs": [],
   "source": []
  },
  {
   "cell_type": "code",
   "execution_count": null,
   "id": "955a4234",
   "metadata": {},
   "outputs": [],
   "source": []
  }
 ],
 "metadata": {
  "kernelspec": {
   "display_name": "Python 3 (ipykernel)",
   "language": "python",
   "name": "python3"
  },
  "language_info": {
   "codemirror_mode": {
    "name": "ipython",
    "version": 3
   },
   "file_extension": ".py",
   "mimetype": "text/x-python",
   "name": "python",
   "nbconvert_exporter": "python",
   "pygments_lexer": "ipython3",
   "version": "3.11.4"
  }
 },
 "nbformat": 4,
 "nbformat_minor": 5
}
