{
 "cells": [
  {
   "cell_type": "markdown",
   "id": "01beb3b0",
   "metadata": {},
   "source": [
    "# пробные функции"
   ]
  },
  {
   "cell_type": "code",
   "execution_count": 1,
   "id": "e321ce3c",
   "metadata": {},
   "outputs": [],
   "source": [
    "import pandas as pd\n",
    "import numpy as np\n",
    "import requests\n",
    "from bs4 import BeautifulSoup as bs\n",
    "import re\n",
    "from tqdm import trange, tqdm"
   ]
  },
  {
   "cell_type": "code",
   "execution_count": 2,
   "id": "cc25f6b6",
   "metadata": {},
   "outputs": [],
   "source": [
    "pd.set_option('display.max_colwidth', 1000)\n",
    "pd.set_option('display.max_columns', 1000)"
   ]
  },
  {
   "cell_type": "code",
   "execution_count": 3,
   "id": "3bf88641",
   "metadata": {},
   "outputs": [
    {
     "data": {
      "text/html": [
       "<div>\n",
       "<style scoped>\n",
       "    .dataframe tbody tr th:only-of-type {\n",
       "        vertical-align: middle;\n",
       "    }\n",
       "\n",
       "    .dataframe tbody tr th {\n",
       "        vertical-align: top;\n",
       "    }\n",
       "\n",
       "    .dataframe thead th {\n",
       "        text-align: right;\n",
       "    }\n",
       "</style>\n",
       "<table border=\"1\" class=\"dataframe\">\n",
       "  <thead>\n",
       "    <tr style=\"text-align: right;\">\n",
       "      <th></th>\n",
       "      <th>Unnamed: 0</th>\n",
       "      <th>soup_name</th>\n",
       "      <th>id</th>\n",
       "      <th>date</th>\n",
       "      <th>availability</th>\n",
       "      <th>title</th>\n",
       "      <th>price</th>\n",
       "      <th>old_price</th>\n",
       "      <th>action_sale</th>\n",
       "      <th>sale</th>\n",
       "      <th>category</th>\n",
       "      <th>subcategory</th>\n",
       "      <th>group</th>\n",
       "      <th>count_group</th>\n",
       "      <th>count_group_presence</th>\n",
       "      <th>dif_price</th>\n",
       "      <th>brend</th>\n",
       "    </tr>\n",
       "  </thead>\n",
       "  <tbody>\n",
       "    <tr>\n",
       "      <th>0</th>\n",
       "      <td>0</td>\n",
       "      <td>https://hi-tech.md/televizory-i-elektronika/batareyki-i-zaryadnye-ustroystva/batareyka-energenie-eg-ba-cr1220-01/</td>\n",
       "      <td>Т-000088228</td>\n",
       "      <td>2024-05-08</td>\n",
       "      <td>В наличии</td>\n",
       "      <td>Батарейка Energenie EG-BA-CR1220-01</td>\n",
       "      <td>4.0</td>\n",
       "      <td>NaN</td>\n",
       "      <td>0</td>\n",
       "      <td>NaN</td>\n",
       "      <td>televizory-i-elektronika</td>\n",
       "      <td>batareyki-i-zaryadnye-ustroystva</td>\n",
       "      <td>batareyki-i-zaryadnye-ustroystva</td>\n",
       "      <td>78</td>\n",
       "      <td>77</td>\n",
       "      <td>199.75</td>\n",
       "      <td>energenie</td>\n",
       "    </tr>\n",
       "    <tr>\n",
       "      <th>1</th>\n",
       "      <td>1</td>\n",
       "      <td>https://hi-tech.md/televizory-i-elektronika/batareyki-i-zaryadnye-ustroystva/batareyka-energenie-eg-ba-cr2016-01/</td>\n",
       "      <td>Т-000088229</td>\n",
       "      <td>2024-05-08</td>\n",
       "      <td>В наличии</td>\n",
       "      <td>Батарейка Energenie EG-BA-CR2016-01</td>\n",
       "      <td>4.0</td>\n",
       "      <td>NaN</td>\n",
       "      <td>0</td>\n",
       "      <td>NaN</td>\n",
       "      <td>televizory-i-elektronika</td>\n",
       "      <td>batareyki-i-zaryadnye-ustroystva</td>\n",
       "      <td>batareyki-i-zaryadnye-ustroystva</td>\n",
       "      <td>78</td>\n",
       "      <td>77</td>\n",
       "      <td>199.75</td>\n",
       "      <td>energenie</td>\n",
       "    </tr>\n",
       "    <tr>\n",
       "      <th>2</th>\n",
       "      <td>2</td>\n",
       "      <td>https://hi-tech.md/televizory-i-elektronika/batareyki-i-zaryadnye-ustroystva/batareyka-energenie-eg-ba-aa4-01/</td>\n",
       "      <td>Т-000088221</td>\n",
       "      <td>2024-05-08</td>\n",
       "      <td>В наличии</td>\n",
       "      <td>Батарейка Energenie EG-BA-AA4-01</td>\n",
       "      <td>5.0</td>\n",
       "      <td>NaN</td>\n",
       "      <td>0</td>\n",
       "      <td>NaN</td>\n",
       "      <td>televizory-i-elektronika</td>\n",
       "      <td>batareyki-i-zaryadnye-ustroystva</td>\n",
       "      <td>batareyki-i-zaryadnye-ustroystva</td>\n",
       "      <td>78</td>\n",
       "      <td>77</td>\n",
       "      <td>199.75</td>\n",
       "      <td>energenie</td>\n",
       "    </tr>\n",
       "    <tr>\n",
       "      <th>3</th>\n",
       "      <td>3</td>\n",
       "      <td>https://hi-tech.md/televizory-i-elektronika/batareyki-i-zaryadnye-ustroystva/batareyka-energenie-eg-ba-aaa4-01/</td>\n",
       "      <td>Т-000088222</td>\n",
       "      <td>2024-05-08</td>\n",
       "      <td>В наличии</td>\n",
       "      <td>Батарейка Energenie EG-BA-AAA4-01</td>\n",
       "      <td>5.0</td>\n",
       "      <td>NaN</td>\n",
       "      <td>0</td>\n",
       "      <td>NaN</td>\n",
       "      <td>televizory-i-elektronika</td>\n",
       "      <td>batareyki-i-zaryadnye-ustroystva</td>\n",
       "      <td>batareyki-i-zaryadnye-ustroystva</td>\n",
       "      <td>78</td>\n",
       "      <td>77</td>\n",
       "      <td>199.75</td>\n",
       "      <td>energenie</td>\n",
       "    </tr>\n",
       "    <tr>\n",
       "      <th>4</th>\n",
       "      <td>4</td>\n",
       "      <td>https://hi-tech.md/televizory-i-elektronika/batareyki-i-zaryadnye-ustroystva/batareyka-energenie-eg-ba-cr2025-01/</td>\n",
       "      <td>Т-000088230</td>\n",
       "      <td>2024-05-08</td>\n",
       "      <td>В наличии</td>\n",
       "      <td>Батарейка Energenie EG-BA-CR2025-01</td>\n",
       "      <td>5.0</td>\n",
       "      <td>NaN</td>\n",
       "      <td>0</td>\n",
       "      <td>NaN</td>\n",
       "      <td>televizory-i-elektronika</td>\n",
       "      <td>batareyki-i-zaryadnye-ustroystva</td>\n",
       "      <td>batareyki-i-zaryadnye-ustroystva</td>\n",
       "      <td>78</td>\n",
       "      <td>77</td>\n",
       "      <td>199.75</td>\n",
       "      <td>energenie</td>\n",
       "    </tr>\n",
       "  </tbody>\n",
       "</table>\n",
       "</div>"
      ],
      "text/plain": [
       "   Unnamed: 0  \\\n",
       "0           0   \n",
       "1           1   \n",
       "2           2   \n",
       "3           3   \n",
       "4           4   \n",
       "\n",
       "                                                                                                           soup_name  \\\n",
       "0  https://hi-tech.md/televizory-i-elektronika/batareyki-i-zaryadnye-ustroystva/batareyka-energenie-eg-ba-cr1220-01/   \n",
       "1  https://hi-tech.md/televizory-i-elektronika/batareyki-i-zaryadnye-ustroystva/batareyka-energenie-eg-ba-cr2016-01/   \n",
       "2     https://hi-tech.md/televizory-i-elektronika/batareyki-i-zaryadnye-ustroystva/batareyka-energenie-eg-ba-aa4-01/   \n",
       "3    https://hi-tech.md/televizory-i-elektronika/batareyki-i-zaryadnye-ustroystva/batareyka-energenie-eg-ba-aaa4-01/   \n",
       "4  https://hi-tech.md/televizory-i-elektronika/batareyki-i-zaryadnye-ustroystva/batareyka-energenie-eg-ba-cr2025-01/   \n",
       "\n",
       "            id        date availability                                title  \\\n",
       "0  Т-000088228  2024-05-08    В наличии  Батарейка Energenie EG-BA-CR1220-01   \n",
       "1  Т-000088229  2024-05-08    В наличии  Батарейка Energenie EG-BA-CR2016-01   \n",
       "2  Т-000088221  2024-05-08    В наличии     Батарейка Energenie EG-BA-AA4-01   \n",
       "3  Т-000088222  2024-05-08    В наличии    Батарейка Energenie EG-BA-AAA4-01   \n",
       "4  Т-000088230  2024-05-08    В наличии  Батарейка Energenie EG-BA-CR2025-01   \n",
       "\n",
       "   price  old_price  action_sale  sale                  category  \\\n",
       "0    4.0        NaN            0   NaN  televizory-i-elektronika   \n",
       "1    4.0        NaN            0   NaN  televizory-i-elektronika   \n",
       "2    5.0        NaN            0   NaN  televizory-i-elektronika   \n",
       "3    5.0        NaN            0   NaN  televizory-i-elektronika   \n",
       "4    5.0        NaN            0   NaN  televizory-i-elektronika   \n",
       "\n",
       "                        subcategory                             group  \\\n",
       "0  batareyki-i-zaryadnye-ustroystva  batareyki-i-zaryadnye-ustroystva   \n",
       "1  batareyki-i-zaryadnye-ustroystva  batareyki-i-zaryadnye-ustroystva   \n",
       "2  batareyki-i-zaryadnye-ustroystva  batareyki-i-zaryadnye-ustroystva   \n",
       "3  batareyki-i-zaryadnye-ustroystva  batareyki-i-zaryadnye-ustroystva   \n",
       "4  batareyki-i-zaryadnye-ustroystva  batareyki-i-zaryadnye-ustroystva   \n",
       "\n",
       "   count_group  count_group_presence  dif_price      brend  \n",
       "0           78                    77     199.75  energenie  \n",
       "1           78                    77     199.75  energenie  \n",
       "2           78                    77     199.75  energenie  \n",
       "3           78                    77     199.75  energenie  \n",
       "4           78                    77     199.75  energenie  "
      ]
     },
     "execution_count": 3,
     "metadata": {},
     "output_type": "execute_result"
    }
   ],
   "source": [
    "df = pd.read_csv('csv\\hi_prod.csv')\n",
    "df"
   ]
  },
  {
   "cell_type": "code",
   "execution_count": 4,
   "id": "fc82ffcd",
   "metadata": {},
   "outputs": [],
   "source": [
    "def availability(df):\n",
    "    for l, url in enumerate(df['soup_name'],0):        \n",
    "        reqx = requests.get(url)\n",
    "        soup = bs(reqx.text, 'html.parser')\n",
    "        data = []\n",
    "        element = soup.findAll('div', class_='ty-warehouses-store__availability')\n",
    "        for i in element:\n",
    "            data.append(i.text.strip().replace('В наличии', '1').replace('Под заказ (1-3 дня)','0'))\n",
    "        data = pd.DataFrame(data)\n",
    "        data = data.T\n",
    "        data.columns = ['Тирасполь__Юности_14А', 'Центр_Тирасполь_25_Октября_69',\n",
    "                'Центр_Бендеры_Спортивная_5', 'Бендеры_Советская_5',\n",
    "                'Бендеры__Советская_8', 'Слободзея_Ленина_97А',\n",
    "                'Днестровск_Строителей_18', 'Первомайск_Ленина_88',\n",
    "                'Григориополь_К._Маркса_181А', 'Григориополь__К._Маркса_172',\n",
    "                'Дубоссары_Горького_29', 'Рыбница_Вальченко_43/1', 'Рыбница_Кирова_135',\n",
    "                'Каменка_Кирова_240']\n",
    "        data['id'] = df['id']\n",
    "        data = df.join(data,lsuffix='x_', rsuffix='y_')\n",
    "\n",
    "    return data\n"
   ]
  },
  {
   "cell_type": "code",
   "execution_count": 5,
   "id": "65d32c49",
   "metadata": {},
   "outputs": [
    {
     "data": {
      "text/plain": [
       "0    https://hi-tech.md/televizory-i-elektronika/batareyki-i-zaryadnye-ustroystva/batareyka-energenie-eg-ba-cr1220-01/\n",
       "1    https://hi-tech.md/televizory-i-elektronika/batareyki-i-zaryadnye-ustroystva/batareyka-energenie-eg-ba-cr2016-01/\n",
       "2       https://hi-tech.md/televizory-i-elektronika/batareyki-i-zaryadnye-ustroystva/batareyka-energenie-eg-ba-aa4-01/\n",
       "3      https://hi-tech.md/televizory-i-elektronika/batareyki-i-zaryadnye-ustroystva/batareyka-energenie-eg-ba-aaa4-01/\n",
       "4    https://hi-tech.md/televizory-i-elektronika/batareyki-i-zaryadnye-ustroystva/batareyka-energenie-eg-ba-cr2025-01/\n",
       "Name: soup_name, dtype: object"
      ]
     },
     "execution_count": 5,
     "metadata": {},
     "output_type": "execute_result"
    }
   ],
   "source": [
    "df['soup_name']"
   ]
  },
  {
   "cell_type": "code",
   "execution_count": 20,
   "id": "560b7848",
   "metadata": {},
   "outputs": [],
   "source": [
    "col = ['Тирасполь__Юности_14А', 'Центр_Тирасполь_25_Октября_69',\n",
    "       'Центр_Бендеры_Спортивная_5', 'Бендеры_Советская_5',\n",
    "       'Бендеры__Советская_8', 'Слободзея_Ленина_97А',\n",
    "       'Днестровск_Строителей_18', 'Первомайск_Ленина_88',\n",
    "       'Григориополь_К._Маркса_181А', 'Григориополь__К._Маркса_172',\n",
    "       'Дубоссары_Горького_29', 'Рыбница_Вальченко_43/1', 'Рыбница_Кирова_135',\n",
    "       'Каменка_Кирова_240']  "
   ]
  },
  {
   "cell_type": "code",
   "execution_count": 6,
   "id": "064c382c",
   "metadata": {},
   "outputs": [],
   "source": [
    "reqx = requests.get('https://hi-tech.md/televizory-i-elektronika/batareyki-i-zaryadnye-ustroystva/bat.-panasonic-cr-1216el-1b/')"
   ]
  },
  {
   "cell_type": "code",
   "execution_count": 7,
   "id": "5c947ea1",
   "metadata": {},
   "outputs": [
    {
     "data": {
      "text/plain": [
       "<Response [200]>"
      ]
     },
     "execution_count": 7,
     "metadata": {},
     "output_type": "execute_result"
    }
   ],
   "source": [
    "reqx"
   ]
  },
  {
   "cell_type": "code",
   "execution_count": 8,
   "id": "ddcf2fda",
   "metadata": {},
   "outputs": [],
   "source": [
    "soup = bs(reqx.text, 'html.parser')"
   ]
  },
  {
   "cell_type": "code",
   "execution_count": 9,
   "id": "abeb76b7",
   "metadata": {},
   "outputs": [
    {
     "data": {
      "text/html": [
       "<div>\n",
       "<style scoped>\n",
       "    .dataframe tbody tr th:only-of-type {\n",
       "        vertical-align: middle;\n",
       "    }\n",
       "\n",
       "    .dataframe tbody tr th {\n",
       "        vertical-align: top;\n",
       "    }\n",
       "\n",
       "    .dataframe thead th {\n",
       "        text-align: right;\n",
       "    }\n",
       "</style>\n",
       "<table border=\"1\" class=\"dataframe\">\n",
       "  <thead>\n",
       "    <tr style=\"text-align: right;\">\n",
       "      <th></th>\n",
       "      <th>Тирасполь__Юности_14А</th>\n",
       "      <th>Центр_Тирасполь_25_Октября_69</th>\n",
       "      <th>Центр_Бендеры_Спортивная_5</th>\n",
       "      <th>Бендеры_Советская_5</th>\n",
       "      <th>Бендеры__Советская_8</th>\n",
       "      <th>Слободзея_Ленина_97А</th>\n",
       "      <th>Днестровск_Строителей_18</th>\n",
       "      <th>Первомайск_Ленина_88</th>\n",
       "      <th>Григориополь_К._Маркса_181А</th>\n",
       "      <th>Григориополь__К._Маркса_172</th>\n",
       "      <th>Дубоссары_Горького_29</th>\n",
       "      <th>Рыбница_Вальченко_43/1</th>\n",
       "      <th>Рыбница_Кирова_135</th>\n",
       "      <th>Каменка_Кирова_240</th>\n",
       "      <th>id</th>\n",
       "    </tr>\n",
       "  </thead>\n",
       "  <tbody>\n",
       "    <tr>\n",
       "      <th>0</th>\n",
       "      <td>1</td>\n",
       "      <td>1</td>\n",
       "      <td>1</td>\n",
       "      <td>1</td>\n",
       "      <td>0</td>\n",
       "      <td>1</td>\n",
       "      <td>1</td>\n",
       "      <td>0</td>\n",
       "      <td>1</td>\n",
       "      <td>0</td>\n",
       "      <td>1</td>\n",
       "      <td>1</td>\n",
       "      <td>1</td>\n",
       "      <td>0</td>\n",
       "      <td>Т-000037892</td>\n",
       "    </tr>\n",
       "  </tbody>\n",
       "</table>\n",
       "</div>"
      ],
      "text/plain": [
       "  Тирасполь__Юности_14А Центр_Тирасполь_25_Октября_69  \\\n",
       "0                     1                             1   \n",
       "\n",
       "  Центр_Бендеры_Спортивная_5 Бендеры_Советская_5 Бендеры__Советская_8  \\\n",
       "0                          1                   1                    0   \n",
       "\n",
       "  Слободзея_Ленина_97А Днестровск_Строителей_18 Первомайск_Ленина_88  \\\n",
       "0                    1                        1                    0   \n",
       "\n",
       "  Григориополь_К._Маркса_181А Григориополь__К._Маркса_172  \\\n",
       "0                           1                           0   \n",
       "\n",
       "  Дубоссары_Горького_29 Рыбница_Вальченко_43/1 Рыбница_Кирова_135  \\\n",
       "0                     1                      1                  1   \n",
       "\n",
       "  Каменка_Кирова_240           id  \n",
       "0                  0  Т-000037892  "
      ]
     },
     "execution_count": 9,
     "metadata": {},
     "output_type": "execute_result"
    }
   ],
   "source": [
    "data = []\n",
    "element = soup.findAll('div', class_='ty-warehouses-store__availability')\n",
    "for i in element:\n",
    "    data.append(i.text.strip().replace('В наличии', '1').replace('Под заказ (1-3 дня)','0'))\n",
    "id = soup.findAll('div', class_='ty-warehouses-store__availability')ty-product-block__sku\n",
    "\n",
    "\n",
    "\n",
    "data['id'] = 'Т-000037892'\n",
    "data"
   ]
  },
  {
   "cell_type": "code",
   "execution_count": 10,
   "id": "b5fdd6cb",
   "metadata": {
    "scrolled": true
   },
   "outputs": [
    {
     "data": {
      "text/html": [
       "<div>\n",
       "<style scoped>\n",
       "    .dataframe tbody tr th:only-of-type {\n",
       "        vertical-align: middle;\n",
       "    }\n",
       "\n",
       "    .dataframe tbody tr th {\n",
       "        vertical-align: top;\n",
       "    }\n",
       "\n",
       "    .dataframe thead th {\n",
       "        text-align: right;\n",
       "    }\n",
       "</style>\n",
       "<table border=\"1\" class=\"dataframe\">\n",
       "  <thead>\n",
       "    <tr style=\"text-align: right;\">\n",
       "      <th></th>\n",
       "      <th>0</th>\n",
       "      <th>1</th>\n",
       "      <th>2</th>\n",
       "      <th>3</th>\n",
       "      <th>4</th>\n",
       "      <th>5</th>\n",
       "      <th>6</th>\n",
       "      <th>7</th>\n",
       "      <th>8</th>\n",
       "      <th>9</th>\n",
       "      <th>10</th>\n",
       "      <th>11</th>\n",
       "      <th>12</th>\n",
       "      <th>13</th>\n",
       "    </tr>\n",
       "  </thead>\n",
       "  <tbody>\n",
       "    <tr>\n",
       "      <th>0</th>\n",
       "      <td>В_наличии</td>\n",
       "      <td>В_наличии</td>\n",
       "      <td>В_наличии</td>\n",
       "      <td>В_наличии</td>\n",
       "      <td>Под_заказ_(1-3_дня)</td>\n",
       "      <td>В_наличии</td>\n",
       "      <td>В_наличии</td>\n",
       "      <td>Под_заказ_(1-3_дня)</td>\n",
       "      <td>В_наличии</td>\n",
       "      <td>Под_заказ_(1-3_дня)</td>\n",
       "      <td>В_наличии</td>\n",
       "      <td>В_наличии</td>\n",
       "      <td>В_наличии</td>\n",
       "      <td>Под_заказ_(1-3_дня)</td>\n",
       "    </tr>\n",
       "  </tbody>\n",
       "</table>\n",
       "</div>"
      ],
      "text/plain": [
       "          0          1          2          3                    4          5   \\\n",
       "0  В_наличии  В_наличии  В_наличии  В_наличии  Под_заказ_(1-3_дня)  В_наличии   \n",
       "\n",
       "          6                    7          8                    9          10  \\\n",
       "0  В_наличии  Под_заказ_(1-3_дня)  В_наличии  Под_заказ_(1-3_дня)  В_наличии   \n",
       "\n",
       "          11         12                   13  \n",
       "0  В_наличии  В_наличии  Под_заказ_(1-3_дня)  "
      ]
     },
     "execution_count": 10,
     "metadata": {},
     "output_type": "execute_result"
    }
   ],
   "source": [
    "nal = pd.DataFrame([t.text.strip().replace(' ','_') for t in soup.findAll('div', class_='ty-warehouses-store__availability')])\n",
    "nal = nal.T\n",
    "nal"
   ]
  },
  {
   "cell_type": "code",
   "execution_count": 11,
   "id": "16165277",
   "metadata": {},
   "outputs": [],
   "source": [
    "sity = pd.DataFrame({'sity' : [t.text.strip().replace('Хайтек ','').replace('Магазин ','')\n",
    "                               .replace('Торговый ','').replace('Дом','').replace(' ','_').replace('-2','') \n",
    "                               for t in soup.findAll('a', class_='ty-warehouses-store__name')],\n",
    "                     'adres' : [t.text.strip().replace(' ','_').replace(',','').replace('ул.','') \n",
    "                                for t in soup.findAll('div', class_='ty-warehouses-store__address')]})"
   ]
  },
  {
   "cell_type": "code",
   "execution_count": 12,
   "id": "f455d1fe",
   "metadata": {},
   "outputs": [],
   "source": [
    "sity['sity'] = sity['sity'] + sity['adres'] "
   ]
  },
  {
   "cell_type": "code",
   "execution_count": 13,
   "id": "a10a73d0",
   "metadata": {},
   "outputs": [
    {
     "data": {
      "text/html": [
       "<div>\n",
       "<style scoped>\n",
       "    .dataframe tbody tr th:only-of-type {\n",
       "        vertical-align: middle;\n",
       "    }\n",
       "\n",
       "    .dataframe tbody tr th {\n",
       "        vertical-align: top;\n",
       "    }\n",
       "\n",
       "    .dataframe thead th {\n",
       "        text-align: right;\n",
       "    }\n",
       "</style>\n",
       "<table border=\"1\" class=\"dataframe\">\n",
       "  <thead>\n",
       "    <tr style=\"text-align: right;\">\n",
       "      <th></th>\n",
       "      <th>index</th>\n",
       "      <th>sity</th>\n",
       "    </tr>\n",
       "  </thead>\n",
       "  <tbody>\n",
       "    <tr>\n",
       "      <th>0</th>\n",
       "      <td>0</td>\n",
       "      <td>Тирасполь__Юности_14А</td>\n",
       "    </tr>\n",
       "    <tr>\n",
       "      <th>1</th>\n",
       "      <td>1</td>\n",
       "      <td>Центр_Тирасполь_25_Октября_69</td>\n",
       "    </tr>\n",
       "    <tr>\n",
       "      <th>2</th>\n",
       "      <td>2</td>\n",
       "      <td>Центр_Бендеры_Спортивная_5</td>\n",
       "    </tr>\n",
       "    <tr>\n",
       "      <th>3</th>\n",
       "      <td>3</td>\n",
       "      <td>Бендеры_Советская_5</td>\n",
       "    </tr>\n",
       "    <tr>\n",
       "      <th>4</th>\n",
       "      <td>4</td>\n",
       "      <td>Бендеры__Советская_8</td>\n",
       "    </tr>\n",
       "    <tr>\n",
       "      <th>5</th>\n",
       "      <td>5</td>\n",
       "      <td>Слободзея_Ленина_97А</td>\n",
       "    </tr>\n",
       "    <tr>\n",
       "      <th>6</th>\n",
       "      <td>6</td>\n",
       "      <td>Днестровск_Строителей_18</td>\n",
       "    </tr>\n",
       "    <tr>\n",
       "      <th>7</th>\n",
       "      <td>7</td>\n",
       "      <td>Первомайск_Ленина_88</td>\n",
       "    </tr>\n",
       "    <tr>\n",
       "      <th>8</th>\n",
       "      <td>8</td>\n",
       "      <td>Григориополь_К._Маркса_181А</td>\n",
       "    </tr>\n",
       "    <tr>\n",
       "      <th>9</th>\n",
       "      <td>9</td>\n",
       "      <td>Григориополь__К._Маркса_172</td>\n",
       "    </tr>\n",
       "    <tr>\n",
       "      <th>10</th>\n",
       "      <td>10</td>\n",
       "      <td>Дубоссары_Горького_29</td>\n",
       "    </tr>\n",
       "    <tr>\n",
       "      <th>11</th>\n",
       "      <td>11</td>\n",
       "      <td>Рыбница_Вальченко_43/1</td>\n",
       "    </tr>\n",
       "    <tr>\n",
       "      <th>12</th>\n",
       "      <td>12</td>\n",
       "      <td>Рыбница_Кирова_135</td>\n",
       "    </tr>\n",
       "    <tr>\n",
       "      <th>13</th>\n",
       "      <td>13</td>\n",
       "      <td>Каменка_Кирова_240</td>\n",
       "    </tr>\n",
       "  </tbody>\n",
       "</table>\n",
       "</div>"
      ],
      "text/plain": [
       "    index                           sity\n",
       "0       0          Тирасполь__Юности_14А\n",
       "1       1  Центр_Тирасполь_25_Октября_69\n",
       "2       2     Центр_Бендеры_Спортивная_5\n",
       "3       3            Бендеры_Советская_5\n",
       "4       4           Бендеры__Советская_8\n",
       "5       5           Слободзея_Ленина_97А\n",
       "6       6       Днестровск_Строителей_18\n",
       "7       7           Первомайск_Ленина_88\n",
       "8       8    Григориополь_К._Маркса_181А\n",
       "9       9    Григориополь__К._Маркса_172\n",
       "10     10          Дубоссары_Горького_29\n",
       "11     11         Рыбница_Вальченко_43/1\n",
       "12     12             Рыбница_Кирова_135\n",
       "13     13             Каменка_Кирова_240"
      ]
     },
     "execution_count": 13,
     "metadata": {},
     "output_type": "execute_result"
    }
   ],
   "source": [
    "sity = sity['sity'].reset_index(drop=True)\n",
    "sity.reset_index()"
   ]
  },
  {
   "cell_type": "code",
   "execution_count": 14,
   "id": "4d4da102",
   "metadata": {},
   "outputs": [
    {
     "data": {
      "text/plain": [
       "0             Тирасполь__Юности_14А\n",
       "1     Центр_Тирасполь_25_Октября_69\n",
       "2        Центр_Бендеры_Спортивная_5\n",
       "3               Бендеры_Советская_5\n",
       "4              Бендеры__Советская_8\n",
       "5              Слободзея_Ленина_97А\n",
       "6          Днестровск_Строителей_18\n",
       "7              Первомайск_Ленина_88\n",
       "8       Григориополь_К._Маркса_181А\n",
       "9       Григориополь__К._Маркса_172\n",
       "10            Дубоссары_Горького_29\n",
       "11           Рыбница_Вальченко_43/1\n",
       "12               Рыбница_Кирова_135\n",
       "13               Каменка_Кирова_240\n",
       "Name: sity, dtype: object"
      ]
     },
     "execution_count": 14,
     "metadata": {},
     "output_type": "execute_result"
    }
   ],
   "source": [
    "sity"
   ]
  },
  {
   "cell_type": "code",
   "execution_count": null,
   "id": "9c3e70ff",
   "metadata": {},
   "outputs": [],
   "source": []
  },
  {
   "cell_type": "code",
   "execution_count": 15,
   "id": "f606ff1a",
   "metadata": {},
   "outputs": [],
   "source": [
    "data = pd.DataFrame(columns=sity, data=nal.T)"
   ]
  },
  {
   "cell_type": "code",
   "execution_count": 16,
   "id": "904364ce",
   "metadata": {},
   "outputs": [],
   "source": [
    "t = pd.DataFrame(nal,columns=sity)"
   ]
  },
  {
   "cell_type": "code",
   "execution_count": 17,
   "id": "2958b24f",
   "metadata": {},
   "outputs": [
    {
     "data": {
      "text/plain": [
       "Index(['Тирасполь__Юности_14А', 'Центр_Тирасполь_25_Октября_69',\n",
       "       'Центр_Бендеры_Спортивная_5', 'Бендеры_Советская_5',\n",
       "       'Бендеры__Советская_8', 'Слободзея_Ленина_97А',\n",
       "       'Днестровск_Строителей_18', 'Первомайск_Ленина_88',\n",
       "       'Григориополь_К._Маркса_181А', 'Григориополь__К._Маркса_172',\n",
       "       'Дубоссары_Горького_29', 'Рыбница_Вальченко_43/1', 'Рыбница_Кирова_135',\n",
       "       'Каменка_Кирова_240'],\n",
       "      dtype='object', name='sity')"
      ]
     },
     "execution_count": 17,
     "metadata": {},
     "output_type": "execute_result"
    }
   ],
   "source": [
    "t.columns"
   ]
  },
  {
   "cell_type": "code",
   "execution_count": null,
   "id": "ae616d49",
   "metadata": {},
   "outputs": [],
   "source": []
  }
 ],
 "metadata": {
  "kernelspec": {
   "display_name": "Python 3 (ipykernel)",
   "language": "python",
   "name": "python3"
  },
  "language_info": {
   "codemirror_mode": {
    "name": "ipython",
    "version": 3
   },
   "file_extension": ".py",
   "mimetype": "text/x-python",
   "name": "python",
   "nbconvert_exporter": "python",
   "pygments_lexer": "ipython3",
   "version": "3.11.4"
  }
 },
 "nbformat": 4,
 "nbformat_minor": 5
}
