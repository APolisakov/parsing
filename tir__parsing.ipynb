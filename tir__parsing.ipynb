{
 "cells": [
  {
   "cell_type": "markdown",
   "id": "f661d034",
   "metadata": {},
   "source": [
    "# parsing_tir"
   ]
  },
  {
   "cell_type": "code",
   "execution_count": 1,
   "id": "c0a16e5a",
   "metadata": {},
   "outputs": [],
   "source": [
    "import pandas as pd\n",
    "import numpy as np\n",
    "import requests\n",
    "from bs4 import BeautifulSoup as bs\n",
    "import re\n",
    "from tqdm.notebook import trange, tqdm\n",
    "from tqdm.gui import tqdm as tqdm_gui\n",
    "import datetime as dt\n",
    "import seaborn as sns\n",
    "import matplotlib.pyplot as plt\n",
    "from IPython.display import display\n"
   ]
  },
  {
   "cell_type": "markdown",
   "id": "50e2394a",
   "metadata": {},
   "source": [
    "импорт библиотек"
   ]
  },
  {
   "cell_type": "markdown",
   "id": "e0b0f754",
   "metadata": {},
   "source": [
    "import warnings\n",
    "warnings.filterwarnings('ignore')"
   ]
  },
  {
   "cell_type": "code",
   "execution_count": 2,
   "id": "39938688",
   "metadata": {},
   "outputs": [],
   "source": [
    "pd.set_option('display.max_colwidth', 1000)\n",
    "pd.set_option('display.max_columns', 1000)\n",
    "pd.set_option('display.max_rows', 1000)"
   ]
  },
  {
   "cell_type": "code",
   "execution_count": 3,
   "id": "5a09642a",
   "metadata": {},
   "outputs": [],
   "source": [
    "def preprocessing(x):\n",
    "    print(f'таблица имеет следующий вид:')\n",
    "    display(x.head())\n",
    "    print('*'*100)\n",
    "    print(f'таблица имеет {x.shape[0]} сторок и {x.shape[1]} столбцов')\n",
    "    print('*'*100)\n",
    "    print(f'в таблице обнаружено дублекатов:{x.duplicated().sum()}')\n",
    "    print('*'*100)\n",
    "    print('в таблице обнаружены пропуски в следующих столбцах:')\n",
    "    display(x.isna().sum())\n",
    "    print('*'*100)\n",
    "    print('Эти пропуски составлябт следующее количество в процентах')\n",
    "    display((x.isna().mean()* 100).round(1))\n",
    "    print('*'*100)\n",
    "    print('столбцы имеют следующие типы:')\n",
    "    display(x.dtypes)\n",
    "    x.columns = [y.lower().replace(' ', '_') for y in x.columns.values] \n",
    "    print('*'*100)\n",
    "    print('названия столбцов переписаны в нижнем регистре, пробелы заменены на нижнее подчеркивание')\n",
    "    print('*'*100)\n",
    "    display(x.info())"
   ]
  },
  {
   "cell_type": "markdown",
   "id": "d21da9cc",
   "metadata": {},
   "source": [
    "создаем функцию предварительного просмотра данных"
   ]
  },
  {
   "cell_type": "markdown",
   "id": "e1781908",
   "metadata": {},
   "source": [
    "url = ['https://tiraet.com/catalog/PHoto--i-video/?PAGEN_1=']"
   ]
  },
  {
   "cell_type": "markdown",
   "id": "90eca301",
   "metadata": {},
   "source": [
    "url = ['https://tiraet.com/catalog/bytovaya/?PAGEN_1=102'] "
   ]
  },
  {
   "cell_type": "code",
   "execution_count": 4,
   "id": "aefab233",
   "metadata": {},
   "outputs": [],
   "source": [
    "oll_url=['https://tiraet.com/catalog/Komplektujuschie/?PAGEN_1=',\n",
    "         'https://tiraet.com/catalog/2873/?PAGEN_1=',\n",
    "         'https://tiraet.com/catalog/Kompjuternaja-mebel/?PAGEN_1=',\n",
    "         'https://tiraet.com/catalog/bytovaya/?PAGEN_1=',\n",
    "         'https://tiraet.com/catalog/ohrannye-sistemy/?PAGEN_1=',\n",
    "         'https://tiraet.com/catalog/svet-i-jelektrika/?PAGEN_1=',\n",
    "         'https://tiraet.com/catalog/orgtehnika/?PAGEN_1=',\n",
    "         'https://tiraet.com/catalog/PHoto--i-video/?PAGEN_1=',\n",
    "         'https://tiraet.com/catalog/setevoe-oborudovanie/?PAGEN_1=',\n",
    "         'https://tiraet.com/catalog/jelektropitanie/?PAGEN_1=',\n",
    "         'https://tiraet.com/catalog/uslugi/?PAGEN_1=',\n",
    "         'https://tiraet.com/catalog/avtojelektronika/?PAGEN_1=',\n",
    "         'https://tiraet.com/catalog/rashodnye-materialy/?PAGEN_1=',\n",
    "         \n",
    "]"
   ]
  },
  {
   "cell_type": "code",
   "execution_count": 5,
   "id": "7696c601",
   "metadata": {},
   "outputs": [],
   "source": [
    "j=1\n",
    "def parsing_2(url):\n",
    "    data = pd.DataFrame(columns=['title', 'url', 'date', 'availability', 'id', 'price', 'old_price'])    \n",
    "    for u in url:\n",
    "        reqx = requests.get(u)\n",
    "        soup = bs(reqx.text, 'html.parser')\n",
    "        max_page = soup.findAll('div', class_='nums')\n",
    "        maxx = int(max_page[0].text.strip().split('\\n')[-1])\n",
    "        for j in tqdm(range(1,maxx + 1)):        \n",
    "            reqx = requests.get(u + str(j))\n",
    "            soup = bs(reqx.text, 'html.parser')\n",
    "            element = soup.findAll('div', class_='item_info')\n",
    "            datax = []\n",
    "            for i in element:\n",
    "                datax.append({'title' : i.find('a', class_='dark_link js-notice-block__title option-font-bold font_sm').text.strip(),\n",
    "                             'url' : 'https://tiraet.com' + i.find('a', class_='dark_link js-notice-block__title option-font-bold font_sm')['href'],\n",
    "                             'date' : pd.to_datetime('today').normalize(),\n",
    "                             'availability' : i.find('div', class_='item-stock js-show-stores js-show-info-block').text.strip(),\n",
    "                             'id' : int(i.find('div', class_='article_block').text.replace('Арт.: ','')),\n",
    "                             'price' : float(i.find('div', class_='price_matrix_wrapper').text.strip().replace(' руб','').replace(',','.').replace(' ','')) if str(type(i.find('div', class_='price_matrix_wrapper'))) != \"<class 'NoneType'>\" else np.NaN ,\n",
    "                             'old_price' : float(i.find('div', class_='price_matrix_wrapper strike_block').text.strip().replace(' руб','').replace(',','.').replace(' ','')) if str(type(i.find('div', class_='price_matrix_wrapper strike_block'))) != \"<class 'NoneType'>\" else np.NaN \n",
    "                            })\n",
    "            datax = pd.DataFrame(datax)\n",
    "            data = pd.concat([data, datax] , ignore_index=True)\n",
    "    return data"
   ]
  },
  {
   "cell_type": "markdown",
   "id": "1bca0b9a",
   "metadata": {},
   "source": [
    "179  -  16  -  23  -  100  -  33  -  60  -  10  -  4  -  31  -  25  -  5  -  5  -  81 "
   ]
  },
  {
   "cell_type": "code",
   "execution_count": 6,
   "id": "580002b9",
   "metadata": {
    "scrolled": false
   },
   "outputs": [
    {
     "data": {
      "application/vnd.jupyter.widget-view+json": {
       "model_id": "c0b9ca93b3e64b64b64389753a48321b",
       "version_major": 2,
       "version_minor": 0
      },
      "text/plain": [
       "  0%|          | 0/185 [00:00<?, ?it/s]"
      ]
     },
     "metadata": {},
     "output_type": "display_data"
    },
    {
     "data": {
      "application/vnd.jupyter.widget-view+json": {
       "model_id": "7454aa187ffe4e4e8fde4cbba8ab7c46",
       "version_major": 2,
       "version_minor": 0
      },
      "text/plain": [
       "  0%|          | 0/16 [00:00<?, ?it/s]"
      ]
     },
     "metadata": {},
     "output_type": "display_data"
    },
    {
     "data": {
      "application/vnd.jupyter.widget-view+json": {
       "model_id": "d7febbe4817c4a58b468e6ceedd10362",
       "version_major": 2,
       "version_minor": 0
      },
      "text/plain": [
       "  0%|          | 0/25 [00:00<?, ?it/s]"
      ]
     },
     "metadata": {},
     "output_type": "display_data"
    },
    {
     "data": {
      "application/vnd.jupyter.widget-view+json": {
       "model_id": "b8474aec9f324841bddafc85cb3d56da",
       "version_major": 2,
       "version_minor": 0
      },
      "text/plain": [
       "  0%|          | 0/102 [00:00<?, ?it/s]"
      ]
     },
     "metadata": {},
     "output_type": "display_data"
    },
    {
     "data": {
      "application/vnd.jupyter.widget-view+json": {
       "model_id": "4250c6ab74ca40cbb6a21207eda96c2e",
       "version_major": 2,
       "version_minor": 0
      },
      "text/plain": [
       "  0%|          | 0/33 [00:00<?, ?it/s]"
      ]
     },
     "metadata": {},
     "output_type": "display_data"
    },
    {
     "data": {
      "application/vnd.jupyter.widget-view+json": {
       "model_id": "739d97d6f46a4acabe03b689b06e46d5",
       "version_major": 2,
       "version_minor": 0
      },
      "text/plain": [
       "  0%|          | 0/60 [00:00<?, ?it/s]"
      ]
     },
     "metadata": {},
     "output_type": "display_data"
    },
    {
     "data": {
      "application/vnd.jupyter.widget-view+json": {
       "model_id": "9489202cdc484067978c306c87dcef2f",
       "version_major": 2,
       "version_minor": 0
      },
      "text/plain": [
       "  0%|          | 0/12 [00:00<?, ?it/s]"
      ]
     },
     "metadata": {},
     "output_type": "display_data"
    },
    {
     "data": {
      "application/vnd.jupyter.widget-view+json": {
       "model_id": "59b410d78861475582c5c1764453fbc3",
       "version_major": 2,
       "version_minor": 0
      },
      "text/plain": [
       "  0%|          | 0/4 [00:00<?, ?it/s]"
      ]
     },
     "metadata": {},
     "output_type": "display_data"
    },
    {
     "data": {
      "application/vnd.jupyter.widget-view+json": {
       "model_id": "30c31897d20244748ba89a03fe0bf247",
       "version_major": 2,
       "version_minor": 0
      },
      "text/plain": [
       "  0%|          | 0/32 [00:00<?, ?it/s]"
      ]
     },
     "metadata": {},
     "output_type": "display_data"
    },
    {
     "data": {
      "application/vnd.jupyter.widget-view+json": {
       "model_id": "9e17848bb5874b3698528457a29ee450",
       "version_major": 2,
       "version_minor": 0
      },
      "text/plain": [
       "  0%|          | 0/25 [00:00<?, ?it/s]"
      ]
     },
     "metadata": {},
     "output_type": "display_data"
    },
    {
     "data": {
      "application/vnd.jupyter.widget-view+json": {
       "model_id": "486c8a72fcbd45a296696600ca612adc",
       "version_major": 2,
       "version_minor": 0
      },
      "text/plain": [
       "  0%|          | 0/5 [00:00<?, ?it/s]"
      ]
     },
     "metadata": {},
     "output_type": "display_data"
    },
    {
     "data": {
      "application/vnd.jupyter.widget-view+json": {
       "model_id": "e771f92edeec4ff3a9f642ddbde7ceb9",
       "version_major": 2,
       "version_minor": 0
      },
      "text/plain": [
       "  0%|          | 0/6 [00:00<?, ?it/s]"
      ]
     },
     "metadata": {},
     "output_type": "display_data"
    },
    {
     "data": {
      "application/vnd.jupyter.widget-view+json": {
       "model_id": "1af11e10de604c839cca73c78f0164d6",
       "version_major": 2,
       "version_minor": 0
      },
      "text/plain": [
       "  0%|          | 0/80 [00:00<?, ?it/s]"
      ]
     },
     "metadata": {},
     "output_type": "display_data"
    },
    {
     "data": {
      "text/html": [
       "<div>\n",
       "<style scoped>\n",
       "    .dataframe tbody tr th:only-of-type {\n",
       "        vertical-align: middle;\n",
       "    }\n",
       "\n",
       "    .dataframe tbody tr th {\n",
       "        vertical-align: top;\n",
       "    }\n",
       "\n",
       "    .dataframe thead th {\n",
       "        text-align: right;\n",
       "    }\n",
       "</style>\n",
       "<table border=\"1\" class=\"dataframe\">\n",
       "  <thead>\n",
       "    <tr style=\"text-align: right;\">\n",
       "      <th></th>\n",
       "      <th>title</th>\n",
       "      <th>url</th>\n",
       "      <th>date</th>\n",
       "      <th>availability</th>\n",
       "      <th>id</th>\n",
       "      <th>price</th>\n",
       "      <th>old_price</th>\n",
       "    </tr>\n",
       "  </thead>\n",
       "  <tbody>\n",
       "    <tr>\n",
       "      <th>0</th>\n",
       "      <td>HDD 3.5 SAS 3.0, 12Gb/s, 4Tb SEAGATE Exos 7E10 (ST4000NM001B) (7200rpm, 256Mb)</td>\n",
       "      <td>https://tiraet.com/catalog/Komplektujuschie/komplektujuschie/zhestkie-diski/hdd_3_5_sas_3_0_12gb_s_4tb_seagate_exos_7e10_st4000nm001b_7200rpm_256mb/</td>\n",
       "      <td>2024-06-23</td>\n",
       "      <td>Мало</td>\n",
       "      <td>86622</td>\n",
       "      <td>NaN</td>\n",
       "      <td>NaN</td>\n",
       "    </tr>\n",
       "    <tr>\n",
       "      <th>1</th>\n",
       "      <td>Переходник для мыши COM в PS/2 (A-235)</td>\n",
       "      <td>https://tiraet.com/catalog/Komplektujuschie/aksessuarycomp/kabelja-udliniteli-i-perehodniki/Perehodnik-dlja-myshi-COM-v-PS2-A-235/</td>\n",
       "      <td>2024-06-23</td>\n",
       "      <td>Много</td>\n",
       "      <td>284</td>\n",
       "      <td>5.0</td>\n",
       "      <td>NaN</td>\n",
       "    </tr>\n",
       "    <tr>\n",
       "      <th>2</th>\n",
       "      <td>Кабель MINI USB2.0 (A - MINI USB 4PM)1,8м (CC-USB2-AM4P-6)</td>\n",
       "      <td>https://tiraet.com/catalog/Komplektujuschie/aksessuarycomp/kabelja-udliniteli-i-perehodniki/kabel-mini-usb20-a---mini-usb-4pm18m-cc-usb2-am4p-6/</td>\n",
       "      <td>2024-06-23</td>\n",
       "      <td>Много</td>\n",
       "      <td>8683</td>\n",
       "      <td>5.0</td>\n",
       "      <td>NaN</td>\n",
       "    </tr>\n",
       "    <tr>\n",
       "      <th>3</th>\n",
       "      <td>BOX для CD/DVD Verbatim Slim, на 1 диск 120мм,  PVC (49979) Black 1шт</td>\n",
       "      <td>https://tiraet.com/catalog/Komplektujuschie/aksessuarycomp/sumki-dlja-diskov/box_dlya_cd_dvd_verbatim_slim_na_1_disk_120mm_pvc_49979_black_1sht/</td>\n",
       "      <td>2024-06-23</td>\n",
       "      <td>Много</td>\n",
       "      <td>85078</td>\n",
       "      <td>6.6</td>\n",
       "      <td>NaN</td>\n",
       "    </tr>\n",
       "    <tr>\n",
       "      <th>4</th>\n",
       "      <td>Диск CD-R 700MB VERBATIM, 52X (1шт) EXTRA PROTECTION(43411/43351/43437)</td>\n",
       "      <td>https://tiraet.com/catalog/Komplektujuschie/aksessuarycomp/diski/disk_cdr_700mb_verbatim_52x_1sht_extra_protection_43411_43351_43437/</td>\n",
       "      <td>2024-06-23</td>\n",
       "      <td>Много</td>\n",
       "      <td>12819</td>\n",
       "      <td>6.6</td>\n",
       "      <td>NaN</td>\n",
       "    </tr>\n",
       "    <tr>\n",
       "      <th>...</th>\n",
       "      <td>...</td>\n",
       "      <td>...</td>\n",
       "      <td>...</td>\n",
       "      <td>...</td>\n",
       "      <td>...</td>\n",
       "      <td>...</td>\n",
       "      <td>...</td>\n",
       "    </tr>\n",
       "    <tr>\n",
       "      <th>11565</th>\n",
       "      <td>Головка для плоттеров Canon PF-03 (2251B001)</td>\n",
       "      <td>https://tiraet.com/catalog/rashodnye-materialy/zapchasti-dlja-printerov-i-kopirov/zapchasti_print/golovka-dlja-plotterov-canon-pf-03-2251b001/</td>\n",
       "      <td>2024-06-23</td>\n",
       "      <td>Мало</td>\n",
       "      <td>27477</td>\n",
       "      <td>7920.0</td>\n",
       "      <td>NaN</td>\n",
       "    </tr>\n",
       "    <tr>\n",
       "      <th>11566</th>\n",
       "      <td>Узел термозакрепления (для сетевых апп)CANON iR2202/2204(FM1-F162-0XX)</td>\n",
       "      <td>https://tiraet.com/catalog/rashodnye-materialy/zapchasti-dlja-printerov-i-kopirov/zapchasti_print/uzel_termozakrepleniya_dlya_setevykh_app_canon_ir2202_2204_fm1_f162_0xx/</td>\n",
       "      <td>2024-06-23</td>\n",
       "      <td>Мало</td>\n",
       "      <td>55309</td>\n",
       "      <td>8085.0</td>\n",
       "      <td>NaN</td>\n",
       "    </tr>\n",
       "    <tr>\n",
       "      <th>11567</th>\n",
       "      <td>Головка для плоттеров Canon PF-04 (3630B001)</td>\n",
       "      <td>https://tiraet.com/catalog/rashodnye-materialy/zapchasti-dlja-printerov-i-kopirov/zapchasti_print/golovka_dlya_plotterov_canon_pf_04_3630b001/</td>\n",
       "      <td>2024-06-23</td>\n",
       "      <td>Мало</td>\n",
       "      <td>56144</td>\n",
       "      <td>8250.0</td>\n",
       "      <td>NaN</td>\n",
       "    </tr>\n",
       "    <tr>\n",
       "      <th>11568</th>\n",
       "      <td>Картридж EPSON MX-80/LX-300/400/800/850/880 Patron</td>\n",
       "      <td>https://tiraet.com/catalog/rashodnye-materialy/Rashodnye-k-matrichnym-printeram-kartridzhi-lenty/kartridji_matr/kartridzh-epson-lx-300400800850880mx-80/</td>\n",
       "      <td>2024-06-23</td>\n",
       "      <td>Нет в наличии</td>\n",
       "      <td>249</td>\n",
       "      <td>38.0</td>\n",
       "      <td>NaN</td>\n",
       "    </tr>\n",
       "    <tr>\n",
       "      <th>11569</th>\n",
       "      <td>Комплект восстановления Canon IR-1435  CET5280N (фотобарабан, ракель, ВПЗ,чип ф/б)</td>\n",
       "      <td>https://tiraet.com/catalog/rashodnye-materialy/Rashodnye-k-lazernym-printeram-kartridzhi-toner/chip_laser/komplekt_vosstanovleniya_canon_ir_1435_cet5280n_fotobaraban_rakel_vpz_chip_f_b/</td>\n",
       "      <td>2024-06-23</td>\n",
       "      <td>Нет в наличии</td>\n",
       "      <td>68689</td>\n",
       "      <td>594.0</td>\n",
       "      <td>NaN</td>\n",
       "    </tr>\n",
       "  </tbody>\n",
       "</table>\n",
       "<p>11570 rows × 7 columns</p>\n",
       "</div>"
      ],
      "text/plain": [
       "                                                                                    title  \\\n",
       "0          HDD 3.5 SAS 3.0, 12Gb/s, 4Tb SEAGATE Exos 7E10 (ST4000NM001B) (7200rpm, 256Mb)   \n",
       "1                                                  Переходник для мыши COM в PS/2 (A-235)   \n",
       "2                              Кабель MINI USB2.0 (A - MINI USB 4PM)1,8м (CC-USB2-AM4P-6)   \n",
       "3                   BOX для CD/DVD Verbatim Slim, на 1 диск 120мм,  PVC (49979) Black 1шт   \n",
       "4                 Диск CD-R 700MB VERBATIM, 52X (1шт) EXTRA PROTECTION(43411/43351/43437)   \n",
       "...                                                                                   ...   \n",
       "11565                                        Головка для плоттеров Canon PF-03 (2251B001)   \n",
       "11566              Узел термозакрепления (для сетевых апп)CANON iR2202/2204(FM1-F162-0XX)   \n",
       "11567                                        Головка для плоттеров Canon PF-04 (3630B001)   \n",
       "11568                                  Картридж EPSON MX-80/LX-300/400/800/850/880 Patron   \n",
       "11569  Комплект восстановления Canon IR-1435  CET5280N (фотобарабан, ракель, ВПЗ,чип ф/б)   \n",
       "\n",
       "                                                                                                                                                                                             url  \\\n",
       "0                                           https://tiraet.com/catalog/Komplektujuschie/komplektujuschie/zhestkie-diski/hdd_3_5_sas_3_0_12gb_s_4tb_seagate_exos_7e10_st4000nm001b_7200rpm_256mb/   \n",
       "1                                                             https://tiraet.com/catalog/Komplektujuschie/aksessuarycomp/kabelja-udliniteli-i-perehodniki/Perehodnik-dlja-myshi-COM-v-PS2-A-235/   \n",
       "2                                               https://tiraet.com/catalog/Komplektujuschie/aksessuarycomp/kabelja-udliniteli-i-perehodniki/kabel-mini-usb20-a---mini-usb-4pm18m-cc-usb2-am4p-6/   \n",
       "3                                               https://tiraet.com/catalog/Komplektujuschie/aksessuarycomp/sumki-dlja-diskov/box_dlya_cd_dvd_verbatim_slim_na_1_disk_120mm_pvc_49979_black_1sht/   \n",
       "4                                                          https://tiraet.com/catalog/Komplektujuschie/aksessuarycomp/diski/disk_cdr_700mb_verbatim_52x_1sht_extra_protection_43411_43351_43437/   \n",
       "...                                                                                                                                                                                          ...   \n",
       "11565                                             https://tiraet.com/catalog/rashodnye-materialy/zapchasti-dlja-printerov-i-kopirov/zapchasti_print/golovka-dlja-plotterov-canon-pf-03-2251b001/   \n",
       "11566                 https://tiraet.com/catalog/rashodnye-materialy/zapchasti-dlja-printerov-i-kopirov/zapchasti_print/uzel_termozakrepleniya_dlya_setevykh_app_canon_ir2202_2204_fm1_f162_0xx/   \n",
       "11567                                             https://tiraet.com/catalog/rashodnye-materialy/zapchasti-dlja-printerov-i-kopirov/zapchasti_print/golovka_dlya_plotterov_canon_pf_04_3630b001/   \n",
       "11568                                   https://tiraet.com/catalog/rashodnye-materialy/Rashodnye-k-matrichnym-printeram-kartridzhi-lenty/kartridji_matr/kartridzh-epson-lx-300400800850880mx-80/   \n",
       "11569  https://tiraet.com/catalog/rashodnye-materialy/Rashodnye-k-lazernym-printeram-kartridzhi-toner/chip_laser/komplekt_vosstanovleniya_canon_ir_1435_cet5280n_fotobaraban_rakel_vpz_chip_f_b/   \n",
       "\n",
       "            date   availability     id   price  old_price  \n",
       "0     2024-06-23           Мало  86622     NaN        NaN  \n",
       "1     2024-06-23          Много    284     5.0        NaN  \n",
       "2     2024-06-23          Много   8683     5.0        NaN  \n",
       "3     2024-06-23          Много  85078     6.6        NaN  \n",
       "4     2024-06-23          Много  12819     6.6        NaN  \n",
       "...          ...            ...    ...     ...        ...  \n",
       "11565 2024-06-23           Мало  27477  7920.0        NaN  \n",
       "11566 2024-06-23           Мало  55309  8085.0        NaN  \n",
       "11567 2024-06-23           Мало  56144  8250.0        NaN  \n",
       "11568 2024-06-23  Нет в наличии    249    38.0        NaN  \n",
       "11569 2024-06-23  Нет в наличии  68689   594.0        NaN  \n",
       "\n",
       "[11570 rows x 7 columns]"
      ]
     },
     "execution_count": 6,
     "metadata": {},
     "output_type": "execute_result"
    }
   ],
   "source": [
    "df = parsing_2(oll_url)\n",
    "df"
   ]
  },
  {
   "cell_type": "markdown",
   "id": "d63a9afb",
   "metadata": {},
   "source": [
    "df.to_csv('csv/tiraet_'+dt.datetime.now().strftime('%Y_%m_%d')+'.csv', index=False)  "
   ]
  },
  {
   "cell_type": "markdown",
   "id": "57d07400",
   "metadata": {},
   "source": [
    "df = pd.read_csv('csv/tiraet_'+dt.datetime.now().strftime('%Y_%m_%d')+'.csv')"
   ]
  },
  {
   "cell_type": "code",
   "execution_count": 7,
   "id": "d3fd7242",
   "metadata": {},
   "outputs": [],
   "source": [
    "tiraet_group = pd.read_csv('csv/atiraet_group.csv')"
   ]
  },
  {
   "cell_type": "code",
   "execution_count": 8,
   "id": "c3dd1bda",
   "metadata": {},
   "outputs": [],
   "source": [
    "df = df.merge(tiraet_group, how='left', on='id')"
   ]
  },
  {
   "cell_type": "code",
   "execution_count": 9,
   "id": "4e41f74c",
   "metadata": {},
   "outputs": [],
   "source": [
    "df_new = df[(df['_category'].isna()) | (df['_subcategory'].isna()) | (df['_group'].isna())]"
   ]
  },
  {
   "cell_type": "code",
   "execution_count": 10,
   "id": "c749214d",
   "metadata": {},
   "outputs": [],
   "source": [
    "df = df[~((df['_category'].isna()) | (df['_subcategory'].isna()) | (df['_group'].isna()))]"
   ]
  },
  {
   "cell_type": "code",
   "execution_count": 11,
   "id": "6576fb53",
   "metadata": {},
   "outputs": [],
   "source": [
    "def find_groups(x):\n",
    "    reqx = requests.get(x)\n",
    "    soup = bs(reqx.text, 'html.parser')    \n",
    "    elem_1 = soup.findAll('a', class_='breadcrumbs__link colored_theme_hover_bg-el-svg')\n",
    "    elem_2 = soup.findAll('div', class_='breadcrumbs__item')\n",
    "    try:\n",
    "        if len(elem_1) <=2:\n",
    "            if len(elem_2) <= 4:\n",
    "                d_14 = 'T_'+(elem_1[0].text.replace(',','').replace(' ','_').replace('-','_').lower())\n",
    "                d_15 = 'T_'+(elem_1[1].text.replace(',','').replace(' ','_').replace('-','_').lower())\n",
    "                d_16 = 'T_'+(elem_1[1].text.replace(',','').replace(' ','_').replace('-','_').lower())\n",
    "            else:\n",
    "                d_14 = 'T_'+(elem_1[0].text.replace(',','').replace(' ','_').replace('-','_').lower())\n",
    "                d_15 = 'T_'+(elem_1[1].text.replace(',','').replace(' ','_').replace('-','_').lower())\n",
    "                d_16 = 'T_'+(elem_2[4].text.replace(',','').replace(' ','_').replace('-','_').lower())\n",
    "        else:\n",
    "            d_14 = 'T_'+(elem_1[0].text.replace(',','').replace(' ','_').replace('-','_').lower())\n",
    "            d_15 = 'T_'+(elem_1[1].text.replace(',','').replace(' ','_').replace('-','_').lower())\n",
    "            d_16 = 'T_'+(elem_1[2].text.replace(',','').replace(' ','_').replace('-','_').lower())\n",
    "    except:\n",
    "        d_14 = 'err_'\n",
    "        d_15 = 'err_'\n",
    "        d_16 = 'err_'\n",
    "        \n",
    "    return pd.Series([ (d_14), (d_15), (d_16)])"
   ]
  },
  {
   "cell_type": "code",
   "execution_count": 12,
   "id": "1f8cd323",
   "metadata": {},
   "outputs": [
    {
     "data": {
      "application/vnd.jupyter.widget-view+json": {
       "model_id": "1ea6768be6474faf831cc94905bd8643",
       "version_major": 2,
       "version_minor": 0
      },
      "text/plain": [
       "  0%|          | 0/2 [00:00<?, ?it/s]"
      ]
     },
     "metadata": {},
     "output_type": "display_data"
    }
   ],
   "source": [
    "tqdm.pandas() \n",
    "df_new[['_category','_subcategory','_group']] = df_new['url'].progress_apply(find_groups)"
   ]
  },
  {
   "cell_type": "code",
   "execution_count": 13,
   "id": "764bf76c",
   "metadata": {},
   "outputs": [
    {
     "data": {
      "text/plain": [
       "array(['err_'], dtype=object)"
      ]
     },
     "execution_count": 13,
     "metadata": {},
     "output_type": "execute_result"
    }
   ],
   "source": [
    "df_new._category.unique()"
   ]
  },
  {
   "cell_type": "code",
   "execution_count": 14,
   "id": "d64a4f3a",
   "metadata": {},
   "outputs": [
    {
     "data": {
      "text/plain": [
       "array(['err_'], dtype=object)"
      ]
     },
     "execution_count": 14,
     "metadata": {},
     "output_type": "execute_result"
    }
   ],
   "source": [
    "df_new._subcategory.unique()"
   ]
  },
  {
   "cell_type": "code",
   "execution_count": 15,
   "id": "c92b1793",
   "metadata": {},
   "outputs": [
    {
     "data": {
      "text/plain": [
       "array(['err_'], dtype=object)"
      ]
     },
     "execution_count": 15,
     "metadata": {},
     "output_type": "execute_result"
    }
   ],
   "source": [
    "df_new._group.unique()"
   ]
  },
  {
   "cell_type": "code",
   "execution_count": 16,
   "id": "fa7c8b3a",
   "metadata": {},
   "outputs": [],
   "source": [
    "data = df_new[~(df_new['_category']=='err_')].reset_index(drop=True)\n",
    "data = data[['id', '_category','_subcategory','_group' ]]\n",
    "data = data.sort_values(['_category','_subcategory', '_group'])"
   ]
  },
  {
   "cell_type": "code",
   "execution_count": 17,
   "id": "d048a971",
   "metadata": {},
   "outputs": [],
   "source": [
    "tiraet_group = pd.concat([tiraet_group, data], ignore_index=True).sort_values(['_category','_subcategory', '_group']).reset_index(drop=True)\n",
    "tiraet_group.to_csv('csv/atiraet_group.csv', index=False)  "
   ]
  },
  {
   "cell_type": "code",
   "execution_count": 18,
   "id": "a62a4033",
   "metadata": {},
   "outputs": [],
   "source": [
    "df = pd.concat([df, df_new], ignore_index=True).sort_values(['_category','_subcategory', '_group']).reset_index(drop=True)"
   ]
  },
  {
   "cell_type": "code",
   "execution_count": 19,
   "id": "dae34514",
   "metadata": {},
   "outputs": [],
   "source": [
    "df.to_csv('csv/tiraet_final_'+dt.datetime.now().strftime('%Y_%m_%d')+'.csv', index=False)  "
   ]
  },
  {
   "cell_type": "code",
   "execution_count": 20,
   "id": "95a39ad0",
   "metadata": {},
   "outputs": [
    {
     "data": {
      "text/plain": [
       "2"
      ]
     },
     "execution_count": 20,
     "metadata": {},
     "output_type": "execute_result"
    }
   ],
   "source": [
    "df[df['_category']=='err_'].id.count()"
   ]
  },
  {
   "cell_type": "code",
   "execution_count": 21,
   "id": "b7d29db4",
   "metadata": {},
   "outputs": [
    {
     "data": {
      "text/html": [
       "<div>\n",
       "<style scoped>\n",
       "    .dataframe tbody tr th:only-of-type {\n",
       "        vertical-align: middle;\n",
       "    }\n",
       "\n",
       "    .dataframe tbody tr th {\n",
       "        vertical-align: top;\n",
       "    }\n",
       "\n",
       "    .dataframe thead th {\n",
       "        text-align: right;\n",
       "    }\n",
       "</style>\n",
       "<table border=\"1\" class=\"dataframe\">\n",
       "  <thead>\n",
       "    <tr style=\"text-align: right;\">\n",
       "      <th></th>\n",
       "      <th>title</th>\n",
       "      <th>url</th>\n",
       "      <th>date</th>\n",
       "      <th>availability</th>\n",
       "      <th>id</th>\n",
       "      <th>price</th>\n",
       "      <th>old_price</th>\n",
       "      <th>_category</th>\n",
       "      <th>_subcategory</th>\n",
       "      <th>_group</th>\n",
       "    </tr>\n",
       "  </thead>\n",
       "  <tbody>\n",
       "    <tr>\n",
       "      <th>11572</th>\n",
       "      <td>Подставка на колесах для телевизоров 32'-55' до 50кг. MACLEAN MC-661</td>\n",
       "      <td>https://tiraet.com/catalog/Kompjuternaja-mebel/mebel/tumby-pod-televizor/podstavka-na-kolesah-dlja-televizorov-32-55-do-50kg-maclean-mc-661/</td>\n",
       "      <td>2024-06-23</td>\n",
       "      <td>Мало</td>\n",
       "      <td>46281</td>\n",
       "      <td>2548.9</td>\n",
       "      <td>NaN</td>\n",
       "      <td>err_</td>\n",
       "      <td>err_</td>\n",
       "      <td>err_</td>\n",
       "    </tr>\n",
       "    <tr>\n",
       "      <th>11573</th>\n",
       "      <td>Музыкальный центр PANASONIC SC-PM700EE-S (2.0, 80Вт, CD, AM/FM, USB, BT, Д/У) SILVER/BLACK</td>\n",
       "      <td>https://tiraet.com/catalog/bytovaya/melkaja-bytovaja-tehnika/muzykalnye-centry/muzykalnyy_tsentr_panasonic_sc_pm700ee_s_2_0_80vt_cd_am_fm_usb_bt_d_u_silver_black/</td>\n",
       "      <td>2024-06-23</td>\n",
       "      <td>Мало</td>\n",
       "      <td>87153</td>\n",
       "      <td>3599.0</td>\n",
       "      <td>NaN</td>\n",
       "      <td>err_</td>\n",
       "      <td>err_</td>\n",
       "      <td>err_</td>\n",
       "    </tr>\n",
       "  </tbody>\n",
       "</table>\n",
       "</div>"
      ],
      "text/plain": [
       "                                                                                            title  \\\n",
       "11572                        Подставка на колесах для телевизоров 32'-55' до 50кг. MACLEAN MC-661   \n",
       "11573  Музыкальный центр PANASONIC SC-PM700EE-S (2.0, 80Вт, CD, AM/FM, USB, BT, Д/У) SILVER/BLACK   \n",
       "\n",
       "                                                                                                                                                                      url  \\\n",
       "11572                        https://tiraet.com/catalog/Kompjuternaja-mebel/mebel/tumby-pod-televizor/podstavka-na-kolesah-dlja-televizorov-32-55-do-50kg-maclean-mc-661/   \n",
       "11573  https://tiraet.com/catalog/bytovaya/melkaja-bytovaja-tehnika/muzykalnye-centry/muzykalnyy_tsentr_panasonic_sc_pm700ee_s_2_0_80vt_cd_am_fm_usb_bt_d_u_silver_black/   \n",
       "\n",
       "            date availability     id   price  old_price _category  \\\n",
       "11572 2024-06-23         Мало  46281  2548.9        NaN      err_   \n",
       "11573 2024-06-23         Мало  87153  3599.0        NaN      err_   \n",
       "\n",
       "      _subcategory _group  \n",
       "11572         err_   err_  \n",
       "11573         err_   err_  "
      ]
     },
     "execution_count": 21,
     "metadata": {},
     "output_type": "execute_result"
    }
   ],
   "source": [
    "df[df['_category']=='err_']"
   ]
  },
  {
   "cell_type": "code",
   "execution_count": 52,
   "id": "f68bfd34",
   "metadata": {},
   "outputs": [],
   "source": [
    "df['error_group'] = 0\n",
    "df.loc[df['_category']=='err', 'error_group'] = 1"
   ]
  },
  {
   "cell_type": "code",
   "execution_count": 23,
   "id": "56469f75",
   "metadata": {},
   "outputs": [
    {
     "data": {
      "text/html": [
       "<div>\n",
       "<style scoped>\n",
       "    .dataframe tbody tr th:only-of-type {\n",
       "        vertical-align: middle;\n",
       "    }\n",
       "\n",
       "    .dataframe tbody tr th {\n",
       "        vertical-align: top;\n",
       "    }\n",
       "\n",
       "    .dataframe thead th {\n",
       "        text-align: right;\n",
       "    }\n",
       "</style>\n",
       "<table border=\"1\" class=\"dataframe\">\n",
       "  <thead>\n",
       "    <tr style=\"text-align: right;\">\n",
       "      <th></th>\n",
       "      <th>title</th>\n",
       "      <th>url</th>\n",
       "      <th>date</th>\n",
       "      <th>availability</th>\n",
       "      <th>id</th>\n",
       "      <th>price</th>\n",
       "      <th>old_price</th>\n",
       "      <th>_category</th>\n",
       "      <th>_subcategory</th>\n",
       "      <th>_group</th>\n",
       "      <th>error_group</th>\n",
       "    </tr>\n",
       "  </thead>\n",
       "  <tbody>\n",
       "    <tr>\n",
       "      <th>0</th>\n",
       "      <td>Автомагнитола Sencor SCT 3018MR (FM/AM, CD, MP3/WMA, USB, AUX, 4*40W, ISO/RCA, 1DIN)</td>\n",
       "      <td>https://tiraet.com/catalog/avtojelektronika/avtomagnitoly/avtomagnitola_sencor_sct_3018mr_fm_am_cd_mp3_wma_usb_aux_4_40w_iso_rca_1din/</td>\n",
       "      <td>2024-06-23</td>\n",
       "      <td>Мало</td>\n",
       "      <td>78604</td>\n",
       "      <td>660.0</td>\n",
       "      <td>NaN</td>\n",
       "      <td>T_автотовары</td>\n",
       "      <td>T_автомагнитола</td>\n",
       "      <td>T_автомагнитола</td>\n",
       "      <td>NaN</td>\n",
       "    </tr>\n",
       "    <tr>\n",
       "      <th>1</th>\n",
       "      <td>Автомагнитола Kenwood KDC-130UG (FM/AM, MP3/WAV/WMA/FLAC, CD, USB, AUX, 4*50W, ISO/RCA, 1DIN) black</td>\n",
       "      <td>https://tiraet.com/catalog/avtojelektronika/avtomagnitoly/avtomagnitola_kenwood_kdc_130ug_fm_am_mp3_wav_wma_flac_cd_usb_aux_4_50w_iso_rca_1din_black/</td>\n",
       "      <td>2024-06-23</td>\n",
       "      <td>Мало</td>\n",
       "      <td>78235</td>\n",
       "      <td>1419.0</td>\n",
       "      <td>NaN</td>\n",
       "      <td>T_автотовары</td>\n",
       "      <td>T_автомагнитола</td>\n",
       "      <td>T_автомагнитола</td>\n",
       "      <td>NaN</td>\n",
       "    </tr>\n",
       "    <tr>\n",
       "      <th>2</th>\n",
       "      <td>Автомагнитола Kenwood KMM-BT209 (FM/AM, BT, USB, AUX, RCA, 4*50W, ISO, 1DIN)</td>\n",
       "      <td>https://tiraet.com/catalog/avtojelektronika/avtomagnitoly/avtomagnitola_kenwood_kmm_bt209_fm_am_bt_usb_aux_rca_4_50w_iso_1din/</td>\n",
       "      <td>2024-06-23</td>\n",
       "      <td>Достаточно</td>\n",
       "      <td>80185</td>\n",
       "      <td>1735.0</td>\n",
       "      <td>NaN</td>\n",
       "      <td>T_автотовары</td>\n",
       "      <td>T_автомагнитола</td>\n",
       "      <td>T_автомагнитола</td>\n",
       "      <td>NaN</td>\n",
       "    </tr>\n",
       "    <tr>\n",
       "      <th>3</th>\n",
       "      <td>Автомагнитола JVC KDX-382BT (FM/AM, Bluetooth, USB, 4*50W, ISO, AUX, 1DIN)</td>\n",
       "      <td>https://tiraet.com/catalog/avtojelektronika/avtomagnitoly/avtomagnitola_jvc_kdx_382bt_fm_am_bluetooth_usb_4_50w_iso_aux_1din/</td>\n",
       "      <td>2024-06-23</td>\n",
       "      <td>Мало</td>\n",
       "      <td>80184</td>\n",
       "      <td>1815.0</td>\n",
       "      <td>NaN</td>\n",
       "      <td>T_автотовары</td>\n",
       "      <td>T_автомагнитола</td>\n",
       "      <td>T_автомагнитола</td>\n",
       "      <td>NaN</td>\n",
       "    </tr>\n",
       "    <tr>\n",
       "      <th>4</th>\n",
       "      <td>Автомагнитола JVC KDT-702BT (FM/AM, Bluetooth, CD, USB, 4*50W, 1DIN)</td>\n",
       "      <td>https://tiraet.com/catalog/avtojelektronika/avtomagnitoly/avtomagnitola_jvc_kdt_702bt_fm_am_bluetooth_cd_usb_4_50w_1din/</td>\n",
       "      <td>2024-06-23</td>\n",
       "      <td>Достаточно</td>\n",
       "      <td>80183</td>\n",
       "      <td>2099.0</td>\n",
       "      <td>NaN</td>\n",
       "      <td>T_автотовары</td>\n",
       "      <td>T_автомагнитола</td>\n",
       "      <td>T_автомагнитола</td>\n",
       "      <td>NaN</td>\n",
       "    </tr>\n",
       "    <tr>\n",
       "      <th>...</th>\n",
       "      <td>...</td>\n",
       "      <td>...</td>\n",
       "      <td>...</td>\n",
       "      <td>...</td>\n",
       "      <td>...</td>\n",
       "      <td>...</td>\n",
       "      <td>...</td>\n",
       "      <td>...</td>\n",
       "      <td>...</td>\n",
       "      <td>...</td>\n",
       "      <td>...</td>\n",
       "    </tr>\n",
       "    <tr>\n",
       "      <th>11569</th>\n",
       "      <td>Элемент питания Duracell BASIC AA/LR6/MN1500 Alkaline  1.5V 24шт/уп  (DURACELL AA LR6 BL24)</td>\n",
       "      <td>https://tiraet.com/catalog/jelektropitanie/batarei-akkumuljatornye/jelementy-pitanija/element_pitaniya_duracell_basic_aa_lr6_mn1500_alkaline_1_5v_24sht_up_duracell_aa_lr6_bl24/</td>\n",
       "      <td>2024-06-23</td>\n",
       "      <td>Мало</td>\n",
       "      <td>84971</td>\n",
       "      <td>399.6</td>\n",
       "      <td>NaN</td>\n",
       "      <td>T_электропитание</td>\n",
       "      <td>T_элементы_питания</td>\n",
       "      <td>T_батарейки_аккумуляторы</td>\n",
       "      <td>NaN</td>\n",
       "    </tr>\n",
       "    <tr>\n",
       "      <th>11570</th>\n",
       "      <td>Элемент питания Duracell BASIC AAA/LR3/MN2400 Alkaline  1.5V 24шт/уп  (DURACELL BASIC AAA/LR3 BL24)</td>\n",
       "      <td>https://tiraet.com/catalog/jelektropitanie/batarei-akkumuljatornye/jelementy-pitanija/element_pitaniya_duracell_basic_aaa_lr3_mn2400_alkaline_1_5v_24sht_up_duracell_basic_aaa_lr3_bl24/</td>\n",
       "      <td>2024-06-23</td>\n",
       "      <td>Мало</td>\n",
       "      <td>84972</td>\n",
       "      <td>400.3</td>\n",
       "      <td>NaN</td>\n",
       "      <td>T_электропитание</td>\n",
       "      <td>T_элементы_питания</td>\n",
       "      <td>T_батарейки_аккумуляторы</td>\n",
       "      <td>NaN</td>\n",
       "    </tr>\n",
       "    <tr>\n",
       "      <th>11571</th>\n",
       "      <td>Батарея аккумуяторная (5809LYDD-ZJ) LI-ION 2000mAh, DC 7.4V/3A для термопринтеров POS-5809DD POS-5811DD</td>\n",
       "      <td>https://tiraet.com/catalog/jelektropitanie/batarei-akkumuljatornye/batareya_akkumuyatornaya_5809lydd_zj_li_ion_2000mah_dc_7_4v_3a_dlya_termoprinterov_pos_5809dd_pos_58/</td>\n",
       "      <td>2024-06-23</td>\n",
       "      <td>Много</td>\n",
       "      <td>82785</td>\n",
       "      <td>165.0</td>\n",
       "      <td>NaN</td>\n",
       "      <td>T_электропитание</td>\n",
       "      <td>T_элементы_питания</td>\n",
       "      <td>T_элементы_питания</td>\n",
       "      <td>NaN</td>\n",
       "    </tr>\n",
       "    <tr>\n",
       "      <th>11572</th>\n",
       "      <td>Подставка на колесах для телевизоров 32'-55' до 50кг. MACLEAN MC-661</td>\n",
       "      <td>https://tiraet.com/catalog/Kompjuternaja-mebel/mebel/tumby-pod-televizor/podstavka-na-kolesah-dlja-televizorov-32-55-do-50kg-maclean-mc-661/</td>\n",
       "      <td>2024-06-23</td>\n",
       "      <td>Мало</td>\n",
       "      <td>46281</td>\n",
       "      <td>2548.9</td>\n",
       "      <td>NaN</td>\n",
       "      <td>err_</td>\n",
       "      <td>err_</td>\n",
       "      <td>err_</td>\n",
       "      <td>NaN</td>\n",
       "    </tr>\n",
       "    <tr>\n",
       "      <th>11573</th>\n",
       "      <td>Музыкальный центр PANASONIC SC-PM700EE-S (2.0, 80Вт, CD, AM/FM, USB, BT, Д/У) SILVER/BLACK</td>\n",
       "      <td>https://tiraet.com/catalog/bytovaya/melkaja-bytovaja-tehnika/muzykalnye-centry/muzykalnyy_tsentr_panasonic_sc_pm700ee_s_2_0_80vt_cd_am_fm_usb_bt_d_u_silver_black/</td>\n",
       "      <td>2024-06-23</td>\n",
       "      <td>Мало</td>\n",
       "      <td>87153</td>\n",
       "      <td>3599.0</td>\n",
       "      <td>NaN</td>\n",
       "      <td>err_</td>\n",
       "      <td>err_</td>\n",
       "      <td>err_</td>\n",
       "      <td>NaN</td>\n",
       "    </tr>\n",
       "  </tbody>\n",
       "</table>\n",
       "<p>11574 rows × 11 columns</p>\n",
       "</div>"
      ],
      "text/plain": [
       "                                                                                                         title  \\\n",
       "0                         Автомагнитола Sencor SCT 3018MR (FM/AM, CD, MP3/WMA, USB, AUX, 4*40W, ISO/RCA, 1DIN)   \n",
       "1          Автомагнитола Kenwood KDC-130UG (FM/AM, MP3/WAV/WMA/FLAC, CD, USB, AUX, 4*50W, ISO/RCA, 1DIN) black   \n",
       "2                                 Автомагнитола Kenwood KMM-BT209 (FM/AM, BT, USB, AUX, RCA, 4*50W, ISO, 1DIN)   \n",
       "3                                   Автомагнитола JVC KDX-382BT (FM/AM, Bluetooth, USB, 4*50W, ISO, AUX, 1DIN)   \n",
       "4                                         Автомагнитола JVC KDT-702BT (FM/AM, Bluetooth, CD, USB, 4*50W, 1DIN)   \n",
       "...                                                                                                        ...   \n",
       "11569              Элемент питания Duracell BASIC AA/LR6/MN1500 Alkaline  1.5V 24шт/уп  (DURACELL AA LR6 BL24)   \n",
       "11570      Элемент питания Duracell BASIC AAA/LR3/MN2400 Alkaline  1.5V 24шт/уп  (DURACELL BASIC AAA/LR3 BL24)   \n",
       "11571  Батарея аккумуяторная (5809LYDD-ZJ) LI-ION 2000mAh, DC 7.4V/3A для термопринтеров POS-5809DD POS-5811DD   \n",
       "11572                                     Подставка на колесах для телевизоров 32'-55' до 50кг. MACLEAN MC-661   \n",
       "11573               Музыкальный центр PANASONIC SC-PM700EE-S (2.0, 80Вт, CD, AM/FM, USB, BT, Д/У) SILVER/BLACK   \n",
       "\n",
       "                                                                                                                                                                                            url  \\\n",
       "0                                                        https://tiraet.com/catalog/avtojelektronika/avtomagnitoly/avtomagnitola_sencor_sct_3018mr_fm_am_cd_mp3_wma_usb_aux_4_40w_iso_rca_1din/   \n",
       "1                                         https://tiraet.com/catalog/avtojelektronika/avtomagnitoly/avtomagnitola_kenwood_kdc_130ug_fm_am_mp3_wav_wma_flac_cd_usb_aux_4_50w_iso_rca_1din_black/   \n",
       "2                                                                https://tiraet.com/catalog/avtojelektronika/avtomagnitoly/avtomagnitola_kenwood_kmm_bt209_fm_am_bt_usb_aux_rca_4_50w_iso_1din/   \n",
       "3                                                                 https://tiraet.com/catalog/avtojelektronika/avtomagnitoly/avtomagnitola_jvc_kdx_382bt_fm_am_bluetooth_usb_4_50w_iso_aux_1din/   \n",
       "4                                                                      https://tiraet.com/catalog/avtojelektronika/avtomagnitoly/avtomagnitola_jvc_kdt_702bt_fm_am_bluetooth_cd_usb_4_50w_1din/   \n",
       "...                                                                                                                                                                                         ...   \n",
       "11569          https://tiraet.com/catalog/jelektropitanie/batarei-akkumuljatornye/jelementy-pitanija/element_pitaniya_duracell_basic_aa_lr6_mn1500_alkaline_1_5v_24sht_up_duracell_aa_lr6_bl24/   \n",
       "11570  https://tiraet.com/catalog/jelektropitanie/batarei-akkumuljatornye/jelementy-pitanija/element_pitaniya_duracell_basic_aaa_lr3_mn2400_alkaline_1_5v_24sht_up_duracell_basic_aaa_lr3_bl24/   \n",
       "11571                  https://tiraet.com/catalog/jelektropitanie/batarei-akkumuljatornye/batareya_akkumuyatornaya_5809lydd_zj_li_ion_2000mah_dc_7_4v_3a_dlya_termoprinterov_pos_5809dd_pos_58/   \n",
       "11572                                              https://tiraet.com/catalog/Kompjuternaja-mebel/mebel/tumby-pod-televizor/podstavka-na-kolesah-dlja-televizorov-32-55-do-50kg-maclean-mc-661/   \n",
       "11573                        https://tiraet.com/catalog/bytovaya/melkaja-bytovaja-tehnika/muzykalnye-centry/muzykalnyy_tsentr_panasonic_sc_pm700ee_s_2_0_80vt_cd_am_fm_usb_bt_d_u_silver_black/   \n",
       "\n",
       "            date availability     id   price  old_price         _category  \\\n",
       "0     2024-06-23         Мало  78604   660.0        NaN      T_автотовары   \n",
       "1     2024-06-23         Мало  78235  1419.0        NaN      T_автотовары   \n",
       "2     2024-06-23   Достаточно  80185  1735.0        NaN      T_автотовары   \n",
       "3     2024-06-23         Мало  80184  1815.0        NaN      T_автотовары   \n",
       "4     2024-06-23   Достаточно  80183  2099.0        NaN      T_автотовары   \n",
       "...          ...          ...    ...     ...        ...               ...   \n",
       "11569 2024-06-23         Мало  84971   399.6        NaN  T_электропитание   \n",
       "11570 2024-06-23         Мало  84972   400.3        NaN  T_электропитание   \n",
       "11571 2024-06-23        Много  82785   165.0        NaN  T_электропитание   \n",
       "11572 2024-06-23         Мало  46281  2548.9        NaN              err_   \n",
       "11573 2024-06-23         Мало  87153  3599.0        NaN              err_   \n",
       "\n",
       "             _subcategory                    _group  error_group  \n",
       "0         T_автомагнитола           T_автомагнитола          NaN  \n",
       "1         T_автомагнитола           T_автомагнитола          NaN  \n",
       "2         T_автомагнитола           T_автомагнитола          NaN  \n",
       "3         T_автомагнитола           T_автомагнитола          NaN  \n",
       "4         T_автомагнитола           T_автомагнитола          NaN  \n",
       "...                   ...                       ...          ...  \n",
       "11569  T_элементы_питания  T_батарейки_аккумуляторы          NaN  \n",
       "11570  T_элементы_питания  T_батарейки_аккумуляторы          NaN  \n",
       "11571  T_элементы_питания        T_элементы_питания          NaN  \n",
       "11572                err_                      err_          NaN  \n",
       "11573                err_                      err_          NaN  \n",
       "\n",
       "[11574 rows x 11 columns]"
      ]
     },
     "execution_count": 23,
     "metadata": {},
     "output_type": "execute_result"
    }
   ],
   "source": [
    "df"
   ]
  },
  {
   "cell_type": "code",
   "execution_count": 24,
   "id": "5ac063ea",
   "metadata": {},
   "outputs": [
    {
     "data": {
      "text/plain": [
       "0"
      ]
     },
     "execution_count": 24,
     "metadata": {},
     "output_type": "execute_result"
    }
   ],
   "source": [
    "len(data)"
   ]
  },
  {
   "cell_type": "code",
   "execution_count": 25,
   "id": "f44fa25c",
   "metadata": {
    "scrolled": true
   },
   "outputs": [
    {
     "name": "stdout",
     "output_type": "stream",
     "text": [
      "T_автотовары\n",
      "['T_автомагнитола' 'T_автопылесос' 'T_авторегистратор' 'T_автохолодильник'\n",
      " 'T_динамики' 'T_компрессоры' 'T_крепления_смартфонов/планшетов'\n",
      " 'T_модуляторы_fm' 'T_навигаторы_gps']\n",
      "----------------------------------------------------------------------------------------------------\n",
      "T_безопасность\n",
      "['T_видеонаблюдение' 'T_домофоны' 'T_монтаж_и_питание'\n",
      " 'T_оборудование_poe' 'T_сигнализация_охранно_пожарная' 'T_скуд'\n",
      " 'T_умный_дом']\n",
      "----------------------------------------------------------------------------------------------------\n",
      "T_бытовая_техника\n",
      "['T_гигиена_здоровье_уход' 'T_климатическая_техника'\n",
      " 'T_крупная_бытовая_техника' 'T_мелкая_бытовая_техника' 'T_телевизоры'\n",
      " 'T_техника_для_кухни' 'T_часы_наручные']\n",
      "----------------------------------------------------------------------------------------------------\n",
      "T_для_дома\n",
      "['T_бытовая_химия' 'T_запасные_части' 'T_инструменты' 'T_крепления'\n",
      " 'T_кухонная_утварь' 'T_мебель' 'T_текстиль' 'T_хозяйственный_инвентарь']\n",
      "----------------------------------------------------------------------------------------------------\n",
      "T_компьютерная_техника\n",
      "['T_аксессуары' 'T_комплектующие' 'T_компьютеры_ноутбуки_планшеты'\n",
      " 'T_манипуляторы' 'T_мониторы' 'T_мультимедиа' 'T_накопители']\n",
      "----------------------------------------------------------------------------------------------------\n",
      "T_мобильные_телефоны\n",
      "['T_смарт_брелки' 'T_смартфоны' 'T_стабилизаторы_селфи_палки'\n",
      " 'T_стекла_пленки' 'T_телефоны' 'T_чехлы']\n",
      "----------------------------------------------------------------------------------------------------\n",
      "T_оргтехника\n",
      "['T_банковское_оборудование' 'T_доски_интерактивные' 'T_ламинаторы'\n",
      " 'T_печатное_оборудование' 'T_проекционное_оборудование' 'T_сканеры'\n",
      " 'T_телефония' 'T_уничтожители']\n",
      "----------------------------------------------------------------------------------------------------\n",
      "T_расходные_материалы\n",
      "['T_бумага_лента_пленка' 'T_запчасти_принтеров_копиров_факсов'\n",
      " 'T_расходные_3d_принтера' 'T_расходные_картриджей_копиров'\n",
      " 'T_расходные_картриджей_лазерных_принтеров_факсов'\n",
      " 'T_расходные_матричных_принтеров' 'T_расходные_струйных_принтеров'\n",
      " 'T_смазки_и_средства_обслуживания']\n",
      "----------------------------------------------------------------------------------------------------\n",
      "T_светотехника\n",
      "['T_бытовое_освещение' 'T_кабельная_продукция' 'T_лампы'\n",
      " 'T_оборудование_электромонтажное' 'T_праздничная_светотехника'\n",
      " 'T_промышленное_офисное_освещение' 'T_разное' 'T_уличное_освещение'\n",
      " 'T_фитосветильники']\n",
      "----------------------------------------------------------------------------------------------------\n",
      "T_сетевое_и_серверное_оборудование\n",
      "['T_адаптеры_powerline_усилители_wifi' 'T_адаптеры_беспроводные'\n",
      " 'T_аксессуары_к_шкафам' 'T_антенны' 'T_грозозащита' 'T_кабель_патчкорд'\n",
      " 'T_карта_сетевая' 'T_коммутаторы' 'T_маршрутизаторы_модемы'\n",
      " 'T_медиаконвертеры' 'T_модули_оптические' 'T_патч_панели'\n",
      " 'T_розетка_коннектор' 'T_серверы' 'T_точки_доступа_мост'\n",
      " 'T_хранилище_сетевое' 'T_шкафы_стойки']\n",
      "----------------------------------------------------------------------------------------------------\n",
      "T_спорт_и_увлечения\n",
      "['T_игровые_приставки' 'T_игрушки' 'T_туризм']\n",
      "----------------------------------------------------------------------------------------------------\n",
      "T_фото_аудио\n",
      "['T_аудиотехника' 'T_фототехника']\n",
      "----------------------------------------------------------------------------------------------------\n",
      "T_электропитание\n",
      "['T_блоки_бесперебойного_питания' 'T_блоки_питания'\n",
      " 'T_зарядные_устройства' 'T_инверторы_напряжения'\n",
      " 'T_стабилизаторы_напряжения' 'T_удлинители' 'T_элементы_питания']\n",
      "----------------------------------------------------------------------------------------------------\n",
      "err_\n",
      "['err_']\n",
      "----------------------------------------------------------------------------------------------------\n"
     ]
    }
   ],
   "source": [
    "for i in df['_category'].unique():\n",
    "    t = df[df['_category']==i]\n",
    "    print(i)\n",
    "    print(t['_subcategory'].unique())\n",
    "    print('-'*100)"
   ]
  },
  {
   "cell_type": "code",
   "execution_count": null,
   "id": "3b63f138",
   "metadata": {},
   "outputs": [],
   "source": []
  },
  {
   "cell_type": "markdown",
   "id": "e8445e1b",
   "metadata": {},
   "source": [
    "# Аналитика акционных товаров"
   ]
  },
  {
   "cell_type": "code",
   "execution_count": 26,
   "id": "d291de15",
   "metadata": {},
   "outputs": [],
   "source": [
    "brend = pd.read_excel('csv/brend.xlsx')"
   ]
  },
  {
   "cell_type": "code",
   "execution_count": 27,
   "id": "3fd62f9c",
   "metadata": {},
   "outputs": [],
   "source": [
    "def lower(x):\n",
    "    return x.lower()\n",
    "brend['names'] = brend['name'].apply(lower)\n",
    "brend_up = brend.name.unique()\n",
    "brend_low = brend.names.unique()"
   ]
  },
  {
   "cell_type": "markdown",
   "id": "6d34081d",
   "metadata": {},
   "source": [
    "Создаем список брендов"
   ]
  },
  {
   "cell_type": "code",
   "execution_count": 28,
   "id": "a6cc999b",
   "metadata": {},
   "outputs": [
    {
     "data": {
      "application/vnd.jupyter.widget-view+json": {
       "model_id": "4d27c48f53da4d3dad367a95a081444b",
       "version_major": 2,
       "version_minor": 0
      },
      "text/plain": [
       "  0%|          | 0/11574 [00:00<?, ?it/s]"
      ]
     },
     "metadata": {},
     "output_type": "display_data"
    }
   ],
   "source": [
    "def brends(x):\n",
    "    xx = x.replace('\\xa0', ' ')\n",
    "    xx = xx.split(' ')    \n",
    "    for i in range(len(xx)-1):\n",
    "        if xx[i].lower() in brend_low:\n",
    "            return xx[i].lower()\n",
    "        elif (str(xx[i].lower())+' '+str(xx[i+1].lower())) in brend_low:\n",
    "            return (str(xx[i].lower())+' '+str(xx[i+1].lower()))    \n",
    "    else:    \n",
    "        return 'другой'\n",
    "tqdm.pandas()\n",
    "df['brend'] = df['title'].progress_apply(brends)"
   ]
  },
  {
   "cell_type": "markdown",
   "id": "8adb4a8b",
   "metadata": {},
   "source": [
    "создаем столбец с брендами"
   ]
  },
  {
   "cell_type": "code",
   "execution_count": 29,
   "id": "3b17f090",
   "metadata": {},
   "outputs": [],
   "source": [
    "df['action_sale'] = 0\n",
    "df.loc[df['old_price'] > 0,'action_sale'] = 1"
   ]
  },
  {
   "cell_type": "markdown",
   "id": "5fcbcc3a",
   "metadata": {},
   "source": [
    "Создаем столбец с флагом акции"
   ]
  },
  {
   "cell_type": "code",
   "execution_count": 30,
   "id": "87e44d83",
   "metadata": {},
   "outputs": [],
   "source": [
    "df['sale'] = (100 - ((df['price']*100)/df['old_price'])).round(2) "
   ]
  },
  {
   "cell_type": "markdown",
   "id": "91917f95",
   "metadata": {},
   "source": [
    "создаем столбец показывающий скидку в процентах"
   ]
  },
  {
   "cell_type": "code",
   "execution_count": 31,
   "id": "55f9287e",
   "metadata": {},
   "outputs": [
    {
     "data": {
      "application/vnd.jupyter.widget-view+json": {
       "model_id": "3418172d57ee4655bde44b6bf1ba6e7e",
       "version_major": 2,
       "version_minor": 0
      },
      "text/plain": [
       "  0%|          | 0/11574 [00:00<?, ?it/s]"
      ]
     },
     "metadata": {},
     "output_type": "display_data"
    }
   ],
   "source": [
    "def count_group(x):\n",
    "    return df[df['_group']==x]['id'].count()    \n",
    "tqdm.pandas()\n",
    "df['count_group'] = df['_group'].progress_apply(count_group)"
   ]
  },
  {
   "cell_type": "markdown",
   "id": "d7ef1d16",
   "metadata": {},
   "source": [
    "создание столбца с количеством товара в группе"
   ]
  },
  {
   "cell_type": "code",
   "execution_count": 50,
   "id": "6432c479",
   "metadata": {},
   "outputs": [
    {
     "data": {
      "application/vnd.jupyter.widget-view+json": {
       "model_id": "00ba7241e9a54f32af77840e4180033d",
       "version_major": 2,
       "version_minor": 0
      },
      "text/plain": [
       "  0%|          | 0/11574 [00:00<?, ?it/s]"
      ]
     },
     "metadata": {},
     "output_type": "display_data"
    }
   ],
   "source": [
    "def count_group_presence(x):\n",
    "    return df[(df['availability'].isin(['Мало','Достаточно','Много']))&(df['_group']==x)]['id'].count()   \n",
    "tqdm.pandas()\n",
    "df['activ_count_group'] = df['_group'].progress_apply(count_group_presence)"
   ]
  },
  {
   "cell_type": "markdown",
   "id": "2a6594ce",
   "metadata": {},
   "source": [
    "создание столбца с количеством товара, который есть в наличии, в группе"
   ]
  },
  {
   "cell_type": "code",
   "execution_count": 51,
   "id": "7b33f40d",
   "metadata": {},
   "outputs": [
    {
     "data": {
      "application/vnd.jupyter.widget-view+json": {
       "model_id": "d9edba52d6f745a4bfe6723312c20a89",
       "version_major": 2,
       "version_minor": 0
      },
      "text/plain": [
       "  0%|          | 0/11574 [00:00<?, ?it/s]"
      ]
     },
     "metadata": {},
     "output_type": "display_data"
    }
   ],
   "source": [
    "def dif_price(x):    \n",
    "    max_price = df[(df['availability'].isin(['Мало','Достаточно','Много']))&(df['_group']==x)]['price'].max()\n",
    "    min_price = df[(df['availability'].isin(['Мало','Достаточно','Много']))&(df['_group']==x)]['price'].min() \n",
    "    return max_price / min_price\n",
    "tqdm.pandas()\n",
    "df['dif_price'] = df['_group'].progress_apply(dif_price)"
   ]
  },
  {
   "cell_type": "markdown",
   "id": "c88e2d0f",
   "metadata": {},
   "source": [
    "создам столбец с отношением самой дорогой цены в группе к самой дешевой."
   ]
  },
  {
   "cell_type": "code",
   "execution_count": 53,
   "id": "4ab26dc0",
   "metadata": {},
   "outputs": [],
   "source": [
    "df['group_prise'] = df.groupby('_group')['price'].transform(lambda x: pd.cut(x, bins = 4, labels=[\"бюджет\", \"стандарт\", 'дорогой', \"элитный\"]))"
   ]
  },
  {
   "cell_type": "markdown",
   "id": "ea4ee02c",
   "metadata": {},
   "source": [
    "создание столбца с ценовой категорией товара"
   ]
  },
  {
   "cell_type": "code",
   "execution_count": 54,
   "id": "a4e3227a",
   "metadata": {},
   "outputs": [],
   "source": [
    "df = df[['url', 'id', '_category', '_subcategory', '_group', 'brend', \n",
    "         'title', 'date', 'price', 'old_price', 'action_sale', 'sale', 'group_prise', 'dif_price',\n",
    "         'availability', 'count_group', 'activ_count_group', 'error_group']]"
   ]
  },
  {
   "cell_type": "code",
   "execution_count": 58,
   "id": "7fc96ff3",
   "metadata": {},
   "outputs": [],
   "source": [
    "df['tir'] = 1"
   ]
  },
  {
   "cell_type": "code",
   "execution_count": 59,
   "id": "de0e1102",
   "metadata": {},
   "outputs": [],
   "source": [
    "df.to_csv('csv/tiraet_final_'+dt.datetime.now().strftime('%Y_%m_%d')+'.csv', index=False) "
   ]
  },
  {
   "cell_type": "code",
   "execution_count": 60,
   "id": "3cfbf34d",
   "metadata": {},
   "outputs": [
    {
     "data": {
      "text/html": [
       "<div>\n",
       "<style scoped>\n",
       "    .dataframe tbody tr th:only-of-type {\n",
       "        vertical-align: middle;\n",
       "    }\n",
       "\n",
       "    .dataframe tbody tr th {\n",
       "        vertical-align: top;\n",
       "    }\n",
       "\n",
       "    .dataframe thead th {\n",
       "        text-align: right;\n",
       "    }\n",
       "</style>\n",
       "<table border=\"1\" class=\"dataframe\">\n",
       "  <thead>\n",
       "    <tr style=\"text-align: right;\">\n",
       "      <th></th>\n",
       "      <th>url</th>\n",
       "      <th>id</th>\n",
       "      <th>_category</th>\n",
       "      <th>_subcategory</th>\n",
       "      <th>_group</th>\n",
       "      <th>brend</th>\n",
       "      <th>title</th>\n",
       "      <th>date</th>\n",
       "      <th>price</th>\n",
       "      <th>old_price</th>\n",
       "      <th>action_sale</th>\n",
       "      <th>sale</th>\n",
       "      <th>group_prise</th>\n",
       "      <th>dif_price</th>\n",
       "      <th>availability</th>\n",
       "      <th>count_group</th>\n",
       "      <th>activ_count_group</th>\n",
       "      <th>error_group</th>\n",
       "      <th>tir</th>\n",
       "    </tr>\n",
       "  </thead>\n",
       "  <tbody>\n",
       "    <tr>\n",
       "      <th>0</th>\n",
       "      <td>https://tiraet.com/catalog/avtojelektronika/avtomagnitoly/avtomagnitola_sencor_sct_3018mr_fm_am_cd_mp3_wma_usb_aux_4_40w_iso_rca_1din/</td>\n",
       "      <td>78604</td>\n",
       "      <td>T_автотовары</td>\n",
       "      <td>T_автомагнитола</td>\n",
       "      <td>T_автомагнитола</td>\n",
       "      <td>sencor</td>\n",
       "      <td>Автомагнитола Sencor SCT 3018MR (FM/AM, CD, MP3/WMA, USB, AUX, 4*40W, ISO/RCA, 1DIN)</td>\n",
       "      <td>2024-06-23</td>\n",
       "      <td>660.0</td>\n",
       "      <td>NaN</td>\n",
       "      <td>0</td>\n",
       "      <td>NaN</td>\n",
       "      <td>бюджет</td>\n",
       "      <td>3.331818</td>\n",
       "      <td>Мало</td>\n",
       "      <td>6</td>\n",
       "      <td>6</td>\n",
       "      <td>0</td>\n",
       "      <td>1</td>\n",
       "    </tr>\n",
       "    <tr>\n",
       "      <th>1</th>\n",
       "      <td>https://tiraet.com/catalog/avtojelektronika/avtomagnitoly/avtomagnitola_kenwood_kdc_130ug_fm_am_mp3_wav_wma_flac_cd_usb_aux_4_50w_iso_rca_1din_black/</td>\n",
       "      <td>78235</td>\n",
       "      <td>T_автотовары</td>\n",
       "      <td>T_автомагнитола</td>\n",
       "      <td>T_автомагнитола</td>\n",
       "      <td>kenwood</td>\n",
       "      <td>Автомагнитола Kenwood KDC-130UG (FM/AM, MP3/WAV/WMA/FLAC, CD, USB, AUX, 4*50W, ISO/RCA, 1DIN) black</td>\n",
       "      <td>2024-06-23</td>\n",
       "      <td>1419.0</td>\n",
       "      <td>NaN</td>\n",
       "      <td>0</td>\n",
       "      <td>NaN</td>\n",
       "      <td>стандарт</td>\n",
       "      <td>3.331818</td>\n",
       "      <td>Мало</td>\n",
       "      <td>6</td>\n",
       "      <td>6</td>\n",
       "      <td>0</td>\n",
       "      <td>1</td>\n",
       "    </tr>\n",
       "  </tbody>\n",
       "</table>\n",
       "</div>"
      ],
      "text/plain": [
       "                                                                                                                                                     url  \\\n",
       "0                 https://tiraet.com/catalog/avtojelektronika/avtomagnitoly/avtomagnitola_sencor_sct_3018mr_fm_am_cd_mp3_wma_usb_aux_4_40w_iso_rca_1din/   \n",
       "1  https://tiraet.com/catalog/avtojelektronika/avtomagnitoly/avtomagnitola_kenwood_kdc_130ug_fm_am_mp3_wav_wma_flac_cd_usb_aux_4_50w_iso_rca_1din_black/   \n",
       "\n",
       "      id     _category     _subcategory           _group    brend  \\\n",
       "0  78604  T_автотовары  T_автомагнитола  T_автомагнитола   sencor   \n",
       "1  78235  T_автотовары  T_автомагнитола  T_автомагнитола  kenwood   \n",
       "\n",
       "                                                                                                 title  \\\n",
       "0                 Автомагнитола Sencor SCT 3018MR (FM/AM, CD, MP3/WMA, USB, AUX, 4*40W, ISO/RCA, 1DIN)   \n",
       "1  Автомагнитола Kenwood KDC-130UG (FM/AM, MP3/WAV/WMA/FLAC, CD, USB, AUX, 4*50W, ISO/RCA, 1DIN) black   \n",
       "\n",
       "        date   price  old_price  action_sale  sale group_prise  dif_price  \\\n",
       "0 2024-06-23   660.0        NaN            0   NaN      бюджет   3.331818   \n",
       "1 2024-06-23  1419.0        NaN            0   NaN    стандарт   3.331818   \n",
       "\n",
       "  availability  count_group  activ_count_group  error_group  tir  \n",
       "0         Мало            6                  6            0    1  \n",
       "1         Мало            6                  6            0    1  "
      ]
     },
     "execution_count": 60,
     "metadata": {},
     "output_type": "execute_result"
    }
   ],
   "source": [
    "df.head(2)"
   ]
  },
  {
   "cell_type": "code",
   "execution_count": 57,
   "id": "6f990e76",
   "metadata": {},
   "outputs": [
    {
     "name": "stdout",
     "output_type": "stream",
     "text": [
      "таблица имеет следующий вид:\n"
     ]
    },
    {
     "data": {
      "text/html": [
       "<div>\n",
       "<style scoped>\n",
       "    .dataframe tbody tr th:only-of-type {\n",
       "        vertical-align: middle;\n",
       "    }\n",
       "\n",
       "    .dataframe tbody tr th {\n",
       "        vertical-align: top;\n",
       "    }\n",
       "\n",
       "    .dataframe thead th {\n",
       "        text-align: right;\n",
       "    }\n",
       "</style>\n",
       "<table border=\"1\" class=\"dataframe\">\n",
       "  <thead>\n",
       "    <tr style=\"text-align: right;\">\n",
       "      <th></th>\n",
       "      <th>url</th>\n",
       "      <th>id</th>\n",
       "      <th>_category</th>\n",
       "      <th>_subcategory</th>\n",
       "      <th>_group</th>\n",
       "      <th>brend</th>\n",
       "      <th>title</th>\n",
       "      <th>date</th>\n",
       "      <th>price</th>\n",
       "      <th>old_price</th>\n",
       "      <th>action_sale</th>\n",
       "      <th>sale</th>\n",
       "      <th>group_prise</th>\n",
       "      <th>dif_price</th>\n",
       "      <th>availability</th>\n",
       "      <th>count_group</th>\n",
       "      <th>activ_count_group</th>\n",
       "      <th>error_group</th>\n",
       "    </tr>\n",
       "  </thead>\n",
       "  <tbody>\n",
       "    <tr>\n",
       "      <th>0</th>\n",
       "      <td>https://tiraet.com/catalog/avtojelektronika/avtomagnitoly/avtomagnitola_sencor_sct_3018mr_fm_am_cd_mp3_wma_usb_aux_4_40w_iso_rca_1din/</td>\n",
       "      <td>78604</td>\n",
       "      <td>T_автотовары</td>\n",
       "      <td>T_автомагнитола</td>\n",
       "      <td>T_автомагнитола</td>\n",
       "      <td>sencor</td>\n",
       "      <td>Автомагнитола Sencor SCT 3018MR (FM/AM, CD, MP3/WMA, USB, AUX, 4*40W, ISO/RCA, 1DIN)</td>\n",
       "      <td>2024-06-23</td>\n",
       "      <td>660.0</td>\n",
       "      <td>NaN</td>\n",
       "      <td>0</td>\n",
       "      <td>NaN</td>\n",
       "      <td>бюджет</td>\n",
       "      <td>3.331818</td>\n",
       "      <td>Мало</td>\n",
       "      <td>6</td>\n",
       "      <td>6</td>\n",
       "      <td>0</td>\n",
       "    </tr>\n",
       "    <tr>\n",
       "      <th>1</th>\n",
       "      <td>https://tiraet.com/catalog/avtojelektronika/avtomagnitoly/avtomagnitola_kenwood_kdc_130ug_fm_am_mp3_wav_wma_flac_cd_usb_aux_4_50w_iso_rca_1din_black/</td>\n",
       "      <td>78235</td>\n",
       "      <td>T_автотовары</td>\n",
       "      <td>T_автомагнитола</td>\n",
       "      <td>T_автомагнитола</td>\n",
       "      <td>kenwood</td>\n",
       "      <td>Автомагнитола Kenwood KDC-130UG (FM/AM, MP3/WAV/WMA/FLAC, CD, USB, AUX, 4*50W, ISO/RCA, 1DIN) black</td>\n",
       "      <td>2024-06-23</td>\n",
       "      <td>1419.0</td>\n",
       "      <td>NaN</td>\n",
       "      <td>0</td>\n",
       "      <td>NaN</td>\n",
       "      <td>стандарт</td>\n",
       "      <td>3.331818</td>\n",
       "      <td>Мало</td>\n",
       "      <td>6</td>\n",
       "      <td>6</td>\n",
       "      <td>0</td>\n",
       "    </tr>\n",
       "    <tr>\n",
       "      <th>2</th>\n",
       "      <td>https://tiraet.com/catalog/avtojelektronika/avtomagnitoly/avtomagnitola_kenwood_kmm_bt209_fm_am_bt_usb_aux_rca_4_50w_iso_1din/</td>\n",
       "      <td>80185</td>\n",
       "      <td>T_автотовары</td>\n",
       "      <td>T_автомагнитола</td>\n",
       "      <td>T_автомагнитола</td>\n",
       "      <td>kenwood</td>\n",
       "      <td>Автомагнитола Kenwood KMM-BT209 (FM/AM, BT, USB, AUX, RCA, 4*50W, ISO, 1DIN)</td>\n",
       "      <td>2024-06-23</td>\n",
       "      <td>1735.0</td>\n",
       "      <td>NaN</td>\n",
       "      <td>0</td>\n",
       "      <td>NaN</td>\n",
       "      <td>дорогой</td>\n",
       "      <td>3.331818</td>\n",
       "      <td>Достаточно</td>\n",
       "      <td>6</td>\n",
       "      <td>6</td>\n",
       "      <td>0</td>\n",
       "    </tr>\n",
       "    <tr>\n",
       "      <th>3</th>\n",
       "      <td>https://tiraet.com/catalog/avtojelektronika/avtomagnitoly/avtomagnitola_jvc_kdx_382bt_fm_am_bluetooth_usb_4_50w_iso_aux_1din/</td>\n",
       "      <td>80184</td>\n",
       "      <td>T_автотовары</td>\n",
       "      <td>T_автомагнитола</td>\n",
       "      <td>T_автомагнитола</td>\n",
       "      <td>jvc</td>\n",
       "      <td>Автомагнитола JVC KDX-382BT (FM/AM, Bluetooth, USB, 4*50W, ISO, AUX, 1DIN)</td>\n",
       "      <td>2024-06-23</td>\n",
       "      <td>1815.0</td>\n",
       "      <td>NaN</td>\n",
       "      <td>0</td>\n",
       "      <td>NaN</td>\n",
       "      <td>элитный</td>\n",
       "      <td>3.331818</td>\n",
       "      <td>Мало</td>\n",
       "      <td>6</td>\n",
       "      <td>6</td>\n",
       "      <td>0</td>\n",
       "    </tr>\n",
       "    <tr>\n",
       "      <th>4</th>\n",
       "      <td>https://tiraet.com/catalog/avtojelektronika/avtomagnitoly/avtomagnitola_jvc_kdt_702bt_fm_am_bluetooth_cd_usb_4_50w_1din/</td>\n",
       "      <td>80183</td>\n",
       "      <td>T_автотовары</td>\n",
       "      <td>T_автомагнитола</td>\n",
       "      <td>T_автомагнитола</td>\n",
       "      <td>jvc</td>\n",
       "      <td>Автомагнитола JVC KDT-702BT (FM/AM, Bluetooth, CD, USB, 4*50W, 1DIN)</td>\n",
       "      <td>2024-06-23</td>\n",
       "      <td>2099.0</td>\n",
       "      <td>NaN</td>\n",
       "      <td>0</td>\n",
       "      <td>NaN</td>\n",
       "      <td>элитный</td>\n",
       "      <td>3.331818</td>\n",
       "      <td>Достаточно</td>\n",
       "      <td>6</td>\n",
       "      <td>6</td>\n",
       "      <td>0</td>\n",
       "    </tr>\n",
       "  </tbody>\n",
       "</table>\n",
       "</div>"
      ],
      "text/plain": [
       "                                                                                                                                                     url  \\\n",
       "0                 https://tiraet.com/catalog/avtojelektronika/avtomagnitoly/avtomagnitola_sencor_sct_3018mr_fm_am_cd_mp3_wma_usb_aux_4_40w_iso_rca_1din/   \n",
       "1  https://tiraet.com/catalog/avtojelektronika/avtomagnitoly/avtomagnitola_kenwood_kdc_130ug_fm_am_mp3_wav_wma_flac_cd_usb_aux_4_50w_iso_rca_1din_black/   \n",
       "2                         https://tiraet.com/catalog/avtojelektronika/avtomagnitoly/avtomagnitola_kenwood_kmm_bt209_fm_am_bt_usb_aux_rca_4_50w_iso_1din/   \n",
       "3                          https://tiraet.com/catalog/avtojelektronika/avtomagnitoly/avtomagnitola_jvc_kdx_382bt_fm_am_bluetooth_usb_4_50w_iso_aux_1din/   \n",
       "4                               https://tiraet.com/catalog/avtojelektronika/avtomagnitoly/avtomagnitola_jvc_kdt_702bt_fm_am_bluetooth_cd_usb_4_50w_1din/   \n",
       "\n",
       "      id     _category     _subcategory           _group    brend  \\\n",
       "0  78604  T_автотовары  T_автомагнитола  T_автомагнитола   sencor   \n",
       "1  78235  T_автотовары  T_автомагнитола  T_автомагнитола  kenwood   \n",
       "2  80185  T_автотовары  T_автомагнитола  T_автомагнитола  kenwood   \n",
       "3  80184  T_автотовары  T_автомагнитола  T_автомагнитола      jvc   \n",
       "4  80183  T_автотовары  T_автомагнитола  T_автомагнитола      jvc   \n",
       "\n",
       "                                                                                                 title  \\\n",
       "0                 Автомагнитола Sencor SCT 3018MR (FM/AM, CD, MP3/WMA, USB, AUX, 4*40W, ISO/RCA, 1DIN)   \n",
       "1  Автомагнитола Kenwood KDC-130UG (FM/AM, MP3/WAV/WMA/FLAC, CD, USB, AUX, 4*50W, ISO/RCA, 1DIN) black   \n",
       "2                         Автомагнитола Kenwood KMM-BT209 (FM/AM, BT, USB, AUX, RCA, 4*50W, ISO, 1DIN)   \n",
       "3                           Автомагнитола JVC KDX-382BT (FM/AM, Bluetooth, USB, 4*50W, ISO, AUX, 1DIN)   \n",
       "4                                 Автомагнитола JVC KDT-702BT (FM/AM, Bluetooth, CD, USB, 4*50W, 1DIN)   \n",
       "\n",
       "        date   price  old_price  action_sale  sale group_prise  dif_price  \\\n",
       "0 2024-06-23   660.0        NaN            0   NaN      бюджет   3.331818   \n",
       "1 2024-06-23  1419.0        NaN            0   NaN    стандарт   3.331818   \n",
       "2 2024-06-23  1735.0        NaN            0   NaN     дорогой   3.331818   \n",
       "3 2024-06-23  1815.0        NaN            0   NaN     элитный   3.331818   \n",
       "4 2024-06-23  2099.0        NaN            0   NaN     элитный   3.331818   \n",
       "\n",
       "  availability  count_group  activ_count_group  error_group  \n",
       "0         Мало            6                  6            0  \n",
       "1         Мало            6                  6            0  \n",
       "2   Достаточно            6                  6            0  \n",
       "3         Мало            6                  6            0  \n",
       "4   Достаточно            6                  6            0  "
      ]
     },
     "metadata": {},
     "output_type": "display_data"
    },
    {
     "name": "stdout",
     "output_type": "stream",
     "text": [
      "****************************************************************************************************\n",
      "таблица имеет 11574 сторок и 18 столбцов\n",
      "****************************************************************************************************\n",
      "в таблице обнаружено дублекатов:8\n",
      "****************************************************************************************************\n",
      "в таблице обнаружены пропуски в следующих столбцах:\n"
     ]
    },
    {
     "data": {
      "text/plain": [
       "url                      0\n",
       "id                       0\n",
       "_category                0\n",
       "_subcategory             0\n",
       "_group                   0\n",
       "brend                    0\n",
       "title                    0\n",
       "date                     0\n",
       "price                   12\n",
       "old_price            10056\n",
       "action_sale              0\n",
       "sale                 10056\n",
       "group_prise             12\n",
       "dif_price                2\n",
       "availability             0\n",
       "count_group              0\n",
       "activ_count_group        0\n",
       "error_group              0\n",
       "dtype: int64"
      ]
     },
     "metadata": {},
     "output_type": "display_data"
    },
    {
     "name": "stdout",
     "output_type": "stream",
     "text": [
      "****************************************************************************************************\n",
      "Эти пропуски составлябт следующее количество в процентах\n"
     ]
    },
    {
     "data": {
      "text/plain": [
       "url                   0.0\n",
       "id                    0.0\n",
       "_category             0.0\n",
       "_subcategory          0.0\n",
       "_group                0.0\n",
       "brend                 0.0\n",
       "title                 0.0\n",
       "date                  0.0\n",
       "price                 0.1\n",
       "old_price            86.9\n",
       "action_sale           0.0\n",
       "sale                 86.9\n",
       "group_prise           0.1\n",
       "dif_price             0.0\n",
       "availability          0.0\n",
       "count_group           0.0\n",
       "activ_count_group     0.0\n",
       "error_group           0.0\n",
       "dtype: float64"
      ]
     },
     "metadata": {},
     "output_type": "display_data"
    },
    {
     "name": "stdout",
     "output_type": "stream",
     "text": [
      "****************************************************************************************************\n",
      "столбцы имеют следующие типы:\n"
     ]
    },
    {
     "data": {
      "text/plain": [
       "url                          object\n",
       "id                           object\n",
       "_category                    object\n",
       "_subcategory                 object\n",
       "_group                       object\n",
       "brend                        object\n",
       "title                        object\n",
       "date                 datetime64[ns]\n",
       "price                       float64\n",
       "old_price                   float64\n",
       "action_sale                   int64\n",
       "sale                        float64\n",
       "group_prise                category\n",
       "dif_price                   float64\n",
       "availability                 object\n",
       "count_group                   int64\n",
       "activ_count_group             int64\n",
       "error_group                   int64\n",
       "dtype: object"
      ]
     },
     "metadata": {},
     "output_type": "display_data"
    },
    {
     "name": "stdout",
     "output_type": "stream",
     "text": [
      "****************************************************************************************************\n",
      "названия столбцов переписаны в нижнем регистре, пробелы заменены на нижнее подчеркивание\n",
      "****************************************************************************************************\n",
      "<class 'pandas.core.frame.DataFrame'>\n",
      "RangeIndex: 11574 entries, 0 to 11573\n",
      "Data columns (total 18 columns):\n",
      " #   Column             Non-Null Count  Dtype         \n",
      "---  ------             --------------  -----         \n",
      " 0   url                11574 non-null  object        \n",
      " 1   id                 11574 non-null  object        \n",
      " 2   _category          11574 non-null  object        \n",
      " 3   _subcategory       11574 non-null  object        \n",
      " 4   _group             11574 non-null  object        \n",
      " 5   brend              11574 non-null  object        \n",
      " 6   title              11574 non-null  object        \n",
      " 7   date               11574 non-null  datetime64[ns]\n",
      " 8   price              11562 non-null  float64       \n",
      " 9   old_price          1518 non-null   float64       \n",
      " 10  action_sale        11574 non-null  int64         \n",
      " 11  sale               1518 non-null   float64       \n",
      " 12  group_prise        11562 non-null  category      \n",
      " 13  dif_price          11572 non-null  float64       \n",
      " 14  availability       11574 non-null  object        \n",
      " 15  count_group        11574 non-null  int64         \n",
      " 16  activ_count_group  11574 non-null  int64         \n",
      " 17  error_group        11574 non-null  int64         \n",
      "dtypes: category(1), datetime64[ns](1), float64(4), int64(4), object(8)\n",
      "memory usage: 1.5+ MB\n"
     ]
    },
    {
     "data": {
      "text/plain": [
       "None"
      ]
     },
     "metadata": {},
     "output_type": "display_data"
    }
   ],
   "source": [
    "preprocessing(df)"
   ]
  },
  {
   "cell_type": "markdown",
   "id": "b7fa1bf9",
   "metadata": {},
   "source": [
    "# Тесты"
   ]
  },
  {
   "cell_type": "code",
   "execution_count": 38,
   "id": "ee9a947c",
   "metadata": {},
   "outputs": [],
   "source": [
    "reqx = requests.get('https://tiraet.com/catalog/rashodnye-materialy/')"
   ]
  },
  {
   "cell_type": "code",
   "execution_count": 39,
   "id": "a5c796a6",
   "metadata": {},
   "outputs": [],
   "source": [
    "soup = bs(reqx.text, 'html.parser')"
   ]
  },
  {
   "cell_type": "code",
   "execution_count": 40,
   "id": "dab08d4b",
   "metadata": {},
   "outputs": [],
   "source": [
    "element2 = soup.findAll('div', class_='inner_wrap TYPE_3')"
   ]
  },
  {
   "cell_type": "code",
   "execution_count": 41,
   "id": "9dcce316",
   "metadata": {},
   "outputs": [],
   "source": [
    "element2 = soup.find('span', class_=\"section-gallery-wrapper flexbox\")"
   ]
  },
  {
   "cell_type": "code",
   "execution_count": 42,
   "id": "7fee5921",
   "metadata": {},
   "outputs": [
    {
     "ename": "KeyError",
     "evalue": "3",
     "output_type": "error",
     "traceback": [
      "\u001b[1;31m---------------------------------------------------------------------------\u001b[0m",
      "\u001b[1;31mKeyError\u001b[0m                                  Traceback (most recent call last)",
      "Cell \u001b[1;32mIn[42], line 1\u001b[0m\n\u001b[1;32m----> 1\u001b[0m element2[\u001b[38;5;241m3\u001b[39m]\u001b[38;5;241m.\u001b[39mfind(\u001b[38;5;124m'\u001b[39m\u001b[38;5;124mspan\u001b[39m\u001b[38;5;124m'\u001b[39m, class_\u001b[38;5;241m=\u001b[39m\u001b[38;5;124m\"\u001b[39m\u001b[38;5;124msection-gallery-wrapper flexbox\u001b[39m\u001b[38;5;124m\"\u001b[39m)\u001b[38;5;241m.\u001b[39mtext\n",
      "File \u001b[1;32m~\\anaconda3\\Lib\\site-packages\\bs4\\element.py:1573\u001b[0m, in \u001b[0;36mTag.__getitem__\u001b[1;34m(self, key)\u001b[0m\n\u001b[0;32m   1570\u001b[0m \u001b[38;5;28;01mdef\u001b[39;00m \u001b[38;5;21m__getitem__\u001b[39m(\u001b[38;5;28mself\u001b[39m, key):\n\u001b[0;32m   1571\u001b[0m \u001b[38;5;250m    \u001b[39m\u001b[38;5;124;03m\"\"\"tag[key] returns the value of the 'key' attribute for the Tag,\u001b[39;00m\n\u001b[0;32m   1572\u001b[0m \u001b[38;5;124;03m    and throws an exception if it's not there.\"\"\"\u001b[39;00m\n\u001b[1;32m-> 1573\u001b[0m     \u001b[38;5;28;01mreturn\u001b[39;00m \u001b[38;5;28mself\u001b[39m\u001b[38;5;241m.\u001b[39mattrs[key]\n",
      "\u001b[1;31mKeyError\u001b[0m: 3"
     ]
    }
   ],
   "source": [
    "element2[3].find('span', class_=\"section-gallery-wrapper flexbox\").text"
   ]
  },
  {
   "cell_type": "code",
   "execution_count": null,
   "id": "630e7d08",
   "metadata": {},
   "outputs": [],
   "source": [
    "for i in element2:\n",
    "    print(element2[i].text)\n"
   ]
  },
  {
   "cell_type": "code",
   "execution_count": null,
   "id": "16549bea",
   "metadata": {},
   "outputs": [],
   "source": [
    "type(element2)"
   ]
  },
  {
   "cell_type": "code",
   "execution_count": null,
   "id": "22f9108f",
   "metadata": {},
   "outputs": [],
   "source": []
  },
  {
   "cell_type": "code",
   "execution_count": null,
   "id": "88f11455",
   "metadata": {},
   "outputs": [],
   "source": []
  }
 ],
 "metadata": {
  "kernelspec": {
   "display_name": "Python 3 (ipykernel)",
   "language": "python",
   "name": "python3"
  },
  "language_info": {
   "codemirror_mode": {
    "name": "ipython",
    "version": 3
   },
   "file_extension": ".py",
   "mimetype": "text/x-python",
   "name": "python",
   "nbconvert_exporter": "python",
   "pygments_lexer": "ipython3",
   "version": "3.11.3"
  }
 },
 "nbformat": 4,
 "nbformat_minor": 5
}
