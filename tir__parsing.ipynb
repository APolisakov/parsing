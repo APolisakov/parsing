{
 "cells": [
  {
   "cell_type": "markdown",
   "id": "f661d034",
   "metadata": {},
   "source": [
    "# parsing_tir"
   ]
  },
  {
   "cell_type": "code",
   "execution_count": 1,
   "id": "c0a16e5a",
   "metadata": {},
   "outputs": [],
   "source": [
    "import pandas as pd\n",
    "import numpy as np\n",
    "import requests\n",
    "from bs4 import BeautifulSoup as bs\n",
    "import re\n",
    "from tqdm.notebook import trange, tqdm\n",
    "from tqdm.gui import tqdm as tqdm_gui\n",
    "import datetime as dt\n",
    "import seaborn as sns\n",
    "import matplotlib.pyplot as plt\n",
    "from IPython.display import display\n"
   ]
  },
  {
   "cell_type": "markdown",
   "id": "50e2394a",
   "metadata": {},
   "source": [
    "импорт библиотек"
   ]
  },
  {
   "cell_type": "markdown",
   "id": "e0b0f754",
   "metadata": {},
   "source": [
    "import warnings\n",
    "warnings.filterwarnings('ignore')"
   ]
  },
  {
   "cell_type": "code",
   "execution_count": 2,
   "id": "39938688",
   "metadata": {},
   "outputs": [],
   "source": [
    "pd.set_option('display.max_colwidth', 1000)\n",
    "pd.set_option('display.max_columns', 1000)\n",
    "pd.set_option('display.max_rows', 1000)"
   ]
  },
  {
   "cell_type": "code",
   "execution_count": 3,
   "id": "5a09642a",
   "metadata": {},
   "outputs": [],
   "source": [
    "def preprocessing(x):\n",
    "    print(f'таблица имеет следующий вид:')\n",
    "    display(x.head())\n",
    "    print('*'*100)\n",
    "    print(f'таблица имеет {x.shape[0]} сторок и {x.shape[1]} столбцов')\n",
    "    print('*'*100)\n",
    "    print(f'в таблице обнаружено дублекатов:{x.duplicated().sum()}')\n",
    "    print('*'*100)\n",
    "    print('в таблице обнаружены пропуски в следующих столбцах:')\n",
    "    display(x.isna().sum())\n",
    "    print('*'*100)\n",
    "    print('Эти пропуски составлябт следующее количество в процентах')\n",
    "    display((x.isna().mean()* 100).round(1))\n",
    "    print('*'*100)\n",
    "    print('столбцы имеют следующие типы:')\n",
    "    display(x.dtypes)\n",
    "    x.columns = [y.lower().replace(' ', '_') for y in x.columns.values] \n",
    "    print('*'*100)\n",
    "    print('названия столбцов переписаны в нижнем регистре, пробелы заменены на нижнее подчеркивание')\n",
    "    print('*'*100)\n",
    "    display(x.info())"
   ]
  },
  {
   "cell_type": "markdown",
   "id": "d21da9cc",
   "metadata": {},
   "source": [
    "создаем функцию предварительного просмотра данных"
   ]
  },
  {
   "cell_type": "markdown",
   "id": "e1781908",
   "metadata": {},
   "source": [
    "url = ['https://tiraet.com/catalog/PHoto--i-video/?PAGEN_1=']"
   ]
  },
  {
   "cell_type": "markdown",
   "id": "90eca301",
   "metadata": {},
   "source": [
    "url = ['https://tiraet.com/catalog/bytovaya/?PAGEN_1=102'] "
   ]
  },
  {
   "cell_type": "code",
   "execution_count": 4,
   "id": "aefab233",
   "metadata": {},
   "outputs": [],
   "source": [
    "oll_url=['https://tiraet.com/catalog/Komplektujuschie/?PAGEN_1=',\n",
    "         'https://tiraet.com/catalog/2873/?PAGEN_1=',\n",
    "         'https://tiraet.com/catalog/Kompjuternaja-mebel/?PAGEN_1=',\n",
    "         'https://tiraet.com/catalog/bytovaya/?PAGEN_1=',\n",
    "         'https://tiraet.com/catalog/ohrannye-sistemy/?PAGEN_1=',\n",
    "         'https://tiraet.com/catalog/svet-i-jelektrika/?PAGEN_1=',\n",
    "         'https://tiraet.com/catalog/orgtehnika/?PAGEN_1=',\n",
    "         'https://tiraet.com/catalog/PHoto--i-video/?PAGEN_1=',\n",
    "         'https://tiraet.com/catalog/setevoe-oborudovanie/?PAGEN_1=',\n",
    "         'https://tiraet.com/catalog/jelektropitanie/?PAGEN_1=',\n",
    "         'https://tiraet.com/catalog/uslugi/?PAGEN_1=',\n",
    "         'https://tiraet.com/catalog/avtojelektronika/?PAGEN_1=',\n",
    "         'https://tiraet.com/catalog/rashodnye-materialy/?PAGEN_1=',\n",
    "         \n",
    "]"
   ]
  },
  {
   "cell_type": "code",
   "execution_count": 5,
   "id": "7696c601",
   "metadata": {},
   "outputs": [],
   "source": [
    "j=1\n",
    "def parsing_2(url):\n",
    "    data = pd.DataFrame(columns=['title', 'url', 'date', 'availability', 'id', 'price', 'old_price'])    \n",
    "    for u in url:\n",
    "        reqx = requests.get(u)\n",
    "        soup = bs(reqx.text, 'html.parser')\n",
    "        max_page = soup.findAll('div', class_='nums')\n",
    "        maxx = int(max_page[0].text.strip().split('\\n')[-1])\n",
    "        for j in tqdm(range(1,maxx + 1)):        \n",
    "            reqx = requests.get(u + str(j))\n",
    "            soup = bs(reqx.text, 'html.parser')\n",
    "            element = soup.findAll('div', class_='item_info')\n",
    "            datax = []\n",
    "            for i in element:\n",
    "                datax.append({'title' : i.find('a', class_='dark_link js-notice-block__title option-font-bold font_sm').text.strip(),\n",
    "                             'url' : 'https://tiraet.com' + i.find('a', class_='dark_link js-notice-block__title option-font-bold font_sm')['href'],\n",
    "                             'date' : pd.to_datetime('today').normalize(),\n",
    "                             'availability' : i.find('div', class_='item-stock js-show-stores js-show-info-block').text.strip(),\n",
    "                             'id' : int(i.find('div', class_='article_block').text.replace('Арт.: ','')),\n",
    "                             'price' : float(i.find('div', class_='price_matrix_wrapper').text.strip().replace(' руб','').replace(',','.').replace(' ','')) if str(type(i.find('div', class_='price_matrix_wrapper'))) != \"<class 'NoneType'>\" else np.NaN ,\n",
    "                             'old_price' : float(i.find('div', class_='price_matrix_wrapper strike_block').text.strip().replace(' руб','').replace(',','.').replace(' ','')) if str(type(i.find('div', class_='price_matrix_wrapper strike_block'))) != \"<class 'NoneType'>\" else np.NaN \n",
    "                            })\n",
    "            datax = pd.DataFrame(datax)\n",
    "            data = pd.concat([data, datax] , ignore_index=True)\n",
    "    return data"
   ]
  },
  {
   "cell_type": "markdown",
   "id": "1bca0b9a",
   "metadata": {},
   "source": [
    "179  -  16  -  23  -  100  -  33  -  60  -  10  -  4  -  31  -  25  -  5  -  5  -  81 "
   ]
  },
  {
   "cell_type": "code",
   "execution_count": 6,
   "id": "580002b9",
   "metadata": {
    "scrolled": false
   },
   "outputs": [
    {
     "data": {
      "application/vnd.jupyter.widget-view+json": {
       "model_id": "32bc3cd658c64c5e8b2ef07a4b540858",
       "version_major": 2,
       "version_minor": 0
      },
      "text/plain": [
       "  0%|          | 0/186 [00:00<?, ?it/s]"
      ]
     },
     "metadata": {},
     "output_type": "display_data"
    },
    {
     "data": {
      "application/vnd.jupyter.widget-view+json": {
       "model_id": "beb15baf4cc14b0b9e7f92a062ac9410",
       "version_major": 2,
       "version_minor": 0
      },
      "text/plain": [
       "  0%|          | 0/16 [00:00<?, ?it/s]"
      ]
     },
     "metadata": {},
     "output_type": "display_data"
    },
    {
     "data": {
      "application/vnd.jupyter.widget-view+json": {
       "model_id": "201d435e02e94aecb0c307ca40864075",
       "version_major": 2,
       "version_minor": 0
      },
      "text/plain": [
       "  0%|          | 0/26 [00:00<?, ?it/s]"
      ]
     },
     "metadata": {},
     "output_type": "display_data"
    },
    {
     "data": {
      "application/vnd.jupyter.widget-view+json": {
       "model_id": "86c913bcd97141289dbaeab10d5b83c5",
       "version_major": 2,
       "version_minor": 0
      },
      "text/plain": [
       "  0%|          | 0/101 [00:00<?, ?it/s]"
      ]
     },
     "metadata": {},
     "output_type": "display_data"
    },
    {
     "data": {
      "application/vnd.jupyter.widget-view+json": {
       "model_id": "937ea91056184a83919cff55590f4082",
       "version_major": 2,
       "version_minor": 0
      },
      "text/plain": [
       "  0%|          | 0/37 [00:00<?, ?it/s]"
      ]
     },
     "metadata": {},
     "output_type": "display_data"
    },
    {
     "data": {
      "application/vnd.jupyter.widget-view+json": {
       "model_id": "92104f4b97fa408da250a62012ebbb2f",
       "version_major": 2,
       "version_minor": 0
      },
      "text/plain": [
       "  0%|          | 0/60 [00:00<?, ?it/s]"
      ]
     },
     "metadata": {},
     "output_type": "display_data"
    },
    {
     "data": {
      "application/vnd.jupyter.widget-view+json": {
       "model_id": "92d54a1250284a48b22a2cb751880188",
       "version_major": 2,
       "version_minor": 0
      },
      "text/plain": [
       "  0%|          | 0/12 [00:00<?, ?it/s]"
      ]
     },
     "metadata": {},
     "output_type": "display_data"
    },
    {
     "data": {
      "application/vnd.jupyter.widget-view+json": {
       "model_id": "021496d8803440209498cd7102b064b8",
       "version_major": 2,
       "version_minor": 0
      },
      "text/plain": [
       "  0%|          | 0/4 [00:00<?, ?it/s]"
      ]
     },
     "metadata": {},
     "output_type": "display_data"
    },
    {
     "data": {
      "application/vnd.jupyter.widget-view+json": {
       "model_id": "f65b4cddff8d4c5889d40d4587a7bbeb",
       "version_major": 2,
       "version_minor": 0
      },
      "text/plain": [
       "  0%|          | 0/32 [00:00<?, ?it/s]"
      ]
     },
     "metadata": {},
     "output_type": "display_data"
    },
    {
     "data": {
      "application/vnd.jupyter.widget-view+json": {
       "model_id": "210ee1c6c5bc49deb8c2ee8eeccf561b",
       "version_major": 2,
       "version_minor": 0
      },
      "text/plain": [
       "  0%|          | 0/25 [00:00<?, ?it/s]"
      ]
     },
     "metadata": {},
     "output_type": "display_data"
    },
    {
     "data": {
      "application/vnd.jupyter.widget-view+json": {
       "model_id": "5b185b68f05a4008b87e395ff8dd3cc2",
       "version_major": 2,
       "version_minor": 0
      },
      "text/plain": [
       "  0%|          | 0/5 [00:00<?, ?it/s]"
      ]
     },
     "metadata": {},
     "output_type": "display_data"
    },
    {
     "data": {
      "application/vnd.jupyter.widget-view+json": {
       "model_id": "a97bc82aae0a422485e4664eb0591e9a",
       "version_major": 2,
       "version_minor": 0
      },
      "text/plain": [
       "  0%|          | 0/6 [00:00<?, ?it/s]"
      ]
     },
     "metadata": {},
     "output_type": "display_data"
    },
    {
     "data": {
      "application/vnd.jupyter.widget-view+json": {
       "model_id": "e3f96d6a2875467ba7e32087511d1068",
       "version_major": 2,
       "version_minor": 0
      },
      "text/plain": [
       "  0%|          | 0/80 [00:00<?, ?it/s]"
      ]
     },
     "metadata": {},
     "output_type": "display_data"
    },
    {
     "data": {
      "text/html": [
       "<div>\n",
       "<style scoped>\n",
       "    .dataframe tbody tr th:only-of-type {\n",
       "        vertical-align: middle;\n",
       "    }\n",
       "\n",
       "    .dataframe tbody tr th {\n",
       "        vertical-align: top;\n",
       "    }\n",
       "\n",
       "    .dataframe thead th {\n",
       "        text-align: right;\n",
       "    }\n",
       "</style>\n",
       "<table border=\"1\" class=\"dataframe\">\n",
       "  <thead>\n",
       "    <tr style=\"text-align: right;\">\n",
       "      <th></th>\n",
       "      <th>title</th>\n",
       "      <th>url</th>\n",
       "      <th>date</th>\n",
       "      <th>availability</th>\n",
       "      <th>id</th>\n",
       "      <th>price</th>\n",
       "      <th>old_price</th>\n",
       "    </tr>\n",
       "  </thead>\n",
       "  <tbody>\n",
       "    <tr>\n",
       "      <th>0</th>\n",
       "      <td>Стойка коммутацион.Netrack (NP5104) 19', 4U 482*177*530mm, black</td>\n",
       "      <td>https://tiraet.com/catalog/Komplektujuschie/komplektujuschie/Korpusa/stoyka_kommutatsion_netrack_np5104_19_4u_482_177_530mm_black/</td>\n",
       "      <td>2024-06-27</td>\n",
       "      <td>Достаточно</td>\n",
       "      <td>87094</td>\n",
       "      <td>NaN</td>\n",
       "      <td>NaN</td>\n",
       "    </tr>\n",
       "    <tr>\n",
       "      <th>1</th>\n",
       "      <td>Переходник для мыши COM в PS/2 (A-235)</td>\n",
       "      <td>https://tiraet.com/catalog/Komplektujuschie/aksessuarycomp/kabelja-udliniteli-i-perehodniki/Perehodnik-dlja-myshi-COM-v-PS2-A-235/</td>\n",
       "      <td>2024-06-27</td>\n",
       "      <td>Много</td>\n",
       "      <td>284</td>\n",
       "      <td>5.0</td>\n",
       "      <td>NaN</td>\n",
       "    </tr>\n",
       "    <tr>\n",
       "      <th>2</th>\n",
       "      <td>Кабель MINI USB2.0 (A - MINI USB 4PM)1,8м (CC-USB2-AM4P-6)</td>\n",
       "      <td>https://tiraet.com/catalog/Komplektujuschie/aksessuarycomp/kabelja-udliniteli-i-perehodniki/kabel-mini-usb20-a---mini-usb-4pm18m-cc-usb2-am4p-6/</td>\n",
       "      <td>2024-06-27</td>\n",
       "      <td>Много</td>\n",
       "      <td>8683</td>\n",
       "      <td>5.0</td>\n",
       "      <td>NaN</td>\n",
       "    </tr>\n",
       "    <tr>\n",
       "      <th>3</th>\n",
       "      <td>BOX для CD/DVD Verbatim Slim, на 1 диск 120мм,  PVC (49979) Black 1шт</td>\n",
       "      <td>https://tiraet.com/catalog/Komplektujuschie/aksessuarycomp/sumki-dlja-diskov/box_dlya_cd_dvd_verbatim_slim_na_1_disk_120mm_pvc_49979_black_1sht/</td>\n",
       "      <td>2024-06-27</td>\n",
       "      <td>Много</td>\n",
       "      <td>85078</td>\n",
       "      <td>6.6</td>\n",
       "      <td>NaN</td>\n",
       "    </tr>\n",
       "    <tr>\n",
       "      <th>4</th>\n",
       "      <td>Диск CD-R 700MB VERBATIM, 52X (1шт) EXTRA PROTECTION(43411/43351/43437)</td>\n",
       "      <td>https://tiraet.com/catalog/Komplektujuschie/aksessuarycomp/diski/disk_cdr_700mb_verbatim_52x_1sht_extra_protection_43411_43351_43437/</td>\n",
       "      <td>2024-06-27</td>\n",
       "      <td>Много</td>\n",
       "      <td>12819</td>\n",
       "      <td>6.6</td>\n",
       "      <td>NaN</td>\n",
       "    </tr>\n",
       "    <tr>\n",
       "      <th>...</th>\n",
       "      <td>...</td>\n",
       "      <td>...</td>\n",
       "      <td>...</td>\n",
       "      <td>...</td>\n",
       "      <td>...</td>\n",
       "      <td>...</td>\n",
       "      <td>...</td>\n",
       "    </tr>\n",
       "    <tr>\n",
       "      <th>11661</th>\n",
       "      <td>Головка для плоттеров Canon PF-03 (2251B001)</td>\n",
       "      <td>https://tiraet.com/catalog/rashodnye-materialy/zapchasti-dlja-printerov-i-kopirov/zapchasti_print/golovka-dlja-plotterov-canon-pf-03-2251b001/</td>\n",
       "      <td>2024-06-27</td>\n",
       "      <td>Мало</td>\n",
       "      <td>27477</td>\n",
       "      <td>7920.0</td>\n",
       "      <td>NaN</td>\n",
       "    </tr>\n",
       "    <tr>\n",
       "      <th>11662</th>\n",
       "      <td>Узел термозакрепления (для сетевых апп)CANON iR2202/2204(FM1-F162-0XX)</td>\n",
       "      <td>https://tiraet.com/catalog/rashodnye-materialy/zapchasti-dlja-printerov-i-kopirov/zapchasti_print/uzel_termozakrepleniya_dlya_setevykh_app_canon_ir2202_2204_fm1_f162_0xx/</td>\n",
       "      <td>2024-06-27</td>\n",
       "      <td>Мало</td>\n",
       "      <td>55309</td>\n",
       "      <td>8085.0</td>\n",
       "      <td>NaN</td>\n",
       "    </tr>\n",
       "    <tr>\n",
       "      <th>11663</th>\n",
       "      <td>Головка для плоттеров Canon PF-04 (3630B001)</td>\n",
       "      <td>https://tiraet.com/catalog/rashodnye-materialy/zapchasti-dlja-printerov-i-kopirov/zapchasti_print/golovka_dlya_plotterov_canon_pf_04_3630b001/</td>\n",
       "      <td>2024-06-27</td>\n",
       "      <td>Мало</td>\n",
       "      <td>56144</td>\n",
       "      <td>8250.0</td>\n",
       "      <td>NaN</td>\n",
       "    </tr>\n",
       "    <tr>\n",
       "      <th>11664</th>\n",
       "      <td>Картридж EPSON MX-80/LX-300/400/800/850/880 Patron</td>\n",
       "      <td>https://tiraet.com/catalog/rashodnye-materialy/Rashodnye-k-matrichnym-printeram-kartridzhi-lenty/kartridji_matr/kartridzh-epson-lx-300400800850880mx-80/</td>\n",
       "      <td>2024-06-27</td>\n",
       "      <td>Нет в наличии</td>\n",
       "      <td>249</td>\n",
       "      <td>38.0</td>\n",
       "      <td>NaN</td>\n",
       "    </tr>\n",
       "    <tr>\n",
       "      <th>11665</th>\n",
       "      <td>Комплект восстановления Canon IR-1435  CET5280N (фотобарабан, ракель, ВПЗ,чип ф/б)</td>\n",
       "      <td>https://tiraet.com/catalog/rashodnye-materialy/Rashodnye-k-lazernym-printeram-kartridzhi-toner/chip_laser/komplekt_vosstanovleniya_canon_ir_1435_cet5280n_fotobaraban_rakel_vpz_chip_f_b/</td>\n",
       "      <td>2024-06-27</td>\n",
       "      <td>Нет в наличии</td>\n",
       "      <td>68689</td>\n",
       "      <td>594.0</td>\n",
       "      <td>NaN</td>\n",
       "    </tr>\n",
       "  </tbody>\n",
       "</table>\n",
       "<p>11666 rows × 7 columns</p>\n",
       "</div>"
      ],
      "text/plain": [
       "                                                                                    title  \\\n",
       "0                        Стойка коммутацион.Netrack (NP5104) 19', 4U 482*177*530mm, black   \n",
       "1                                                  Переходник для мыши COM в PS/2 (A-235)   \n",
       "2                              Кабель MINI USB2.0 (A - MINI USB 4PM)1,8м (CC-USB2-AM4P-6)   \n",
       "3                   BOX для CD/DVD Verbatim Slim, на 1 диск 120мм,  PVC (49979) Black 1шт   \n",
       "4                 Диск CD-R 700MB VERBATIM, 52X (1шт) EXTRA PROTECTION(43411/43351/43437)   \n",
       "...                                                                                   ...   \n",
       "11661                                        Головка для плоттеров Canon PF-03 (2251B001)   \n",
       "11662              Узел термозакрепления (для сетевых апп)CANON iR2202/2204(FM1-F162-0XX)   \n",
       "11663                                        Головка для плоттеров Canon PF-04 (3630B001)   \n",
       "11664                                  Картридж EPSON MX-80/LX-300/400/800/850/880 Patron   \n",
       "11665  Комплект восстановления Canon IR-1435  CET5280N (фотобарабан, ракель, ВПЗ,чип ф/б)   \n",
       "\n",
       "                                                                                                                                                                                             url  \\\n",
       "0                                                             https://tiraet.com/catalog/Komplektujuschie/komplektujuschie/Korpusa/stoyka_kommutatsion_netrack_np5104_19_4u_482_177_530mm_black/   \n",
       "1                                                             https://tiraet.com/catalog/Komplektujuschie/aksessuarycomp/kabelja-udliniteli-i-perehodniki/Perehodnik-dlja-myshi-COM-v-PS2-A-235/   \n",
       "2                                               https://tiraet.com/catalog/Komplektujuschie/aksessuarycomp/kabelja-udliniteli-i-perehodniki/kabel-mini-usb20-a---mini-usb-4pm18m-cc-usb2-am4p-6/   \n",
       "3                                               https://tiraet.com/catalog/Komplektujuschie/aksessuarycomp/sumki-dlja-diskov/box_dlya_cd_dvd_verbatim_slim_na_1_disk_120mm_pvc_49979_black_1sht/   \n",
       "4                                                          https://tiraet.com/catalog/Komplektujuschie/aksessuarycomp/diski/disk_cdr_700mb_verbatim_52x_1sht_extra_protection_43411_43351_43437/   \n",
       "...                                                                                                                                                                                          ...   \n",
       "11661                                             https://tiraet.com/catalog/rashodnye-materialy/zapchasti-dlja-printerov-i-kopirov/zapchasti_print/golovka-dlja-plotterov-canon-pf-03-2251b001/   \n",
       "11662                 https://tiraet.com/catalog/rashodnye-materialy/zapchasti-dlja-printerov-i-kopirov/zapchasti_print/uzel_termozakrepleniya_dlya_setevykh_app_canon_ir2202_2204_fm1_f162_0xx/   \n",
       "11663                                             https://tiraet.com/catalog/rashodnye-materialy/zapchasti-dlja-printerov-i-kopirov/zapchasti_print/golovka_dlya_plotterov_canon_pf_04_3630b001/   \n",
       "11664                                   https://tiraet.com/catalog/rashodnye-materialy/Rashodnye-k-matrichnym-printeram-kartridzhi-lenty/kartridji_matr/kartridzh-epson-lx-300400800850880mx-80/   \n",
       "11665  https://tiraet.com/catalog/rashodnye-materialy/Rashodnye-k-lazernym-printeram-kartridzhi-toner/chip_laser/komplekt_vosstanovleniya_canon_ir_1435_cet5280n_fotobaraban_rakel_vpz_chip_f_b/   \n",
       "\n",
       "            date   availability     id   price  old_price  \n",
       "0     2024-06-27     Достаточно  87094     NaN        NaN  \n",
       "1     2024-06-27          Много    284     5.0        NaN  \n",
       "2     2024-06-27          Много   8683     5.0        NaN  \n",
       "3     2024-06-27          Много  85078     6.6        NaN  \n",
       "4     2024-06-27          Много  12819     6.6        NaN  \n",
       "...          ...            ...    ...     ...        ...  \n",
       "11661 2024-06-27           Мало  27477  7920.0        NaN  \n",
       "11662 2024-06-27           Мало  55309  8085.0        NaN  \n",
       "11663 2024-06-27           Мало  56144  8250.0        NaN  \n",
       "11664 2024-06-27  Нет в наличии    249    38.0        NaN  \n",
       "11665 2024-06-27  Нет в наличии  68689   594.0        NaN  \n",
       "\n",
       "[11666 rows x 7 columns]"
      ]
     },
     "execution_count": 6,
     "metadata": {},
     "output_type": "execute_result"
    }
   ],
   "source": [
    "df = parsing_2(oll_url)\n",
    "df"
   ]
  },
  {
   "cell_type": "markdown",
   "id": "d63a9afb",
   "metadata": {},
   "source": [
    "df.to_csv('csv/tiraet_'+dt.datetime.now().strftime('%Y_%m_%d')+'.csv', index=False)  "
   ]
  },
  {
   "cell_type": "markdown",
   "id": "57d07400",
   "metadata": {},
   "source": [
    "df = pd.read_csv('csv/tiraet_'+dt.datetime.now().strftime('%Y_%m_%d')+'.csv')"
   ]
  },
  {
   "cell_type": "code",
   "execution_count": 7,
   "id": "d3fd7242",
   "metadata": {},
   "outputs": [],
   "source": [
    "tiraet_group = pd.read_csv('csv/atiraet_group.csv')"
   ]
  },
  {
   "cell_type": "code",
   "execution_count": 8,
   "id": "c3dd1bda",
   "metadata": {},
   "outputs": [],
   "source": [
    "df = df.merge(tiraet_group, how='left', on='id')"
   ]
  },
  {
   "cell_type": "code",
   "execution_count": 9,
   "id": "4e41f74c",
   "metadata": {},
   "outputs": [],
   "source": [
    "df_new = df[(df['_category'].isna()) | (df['_subcategory'].isna()) | (df['_group'].isna())]"
   ]
  },
  {
   "cell_type": "code",
   "execution_count": 10,
   "id": "c749214d",
   "metadata": {},
   "outputs": [],
   "source": [
    "df = df[~((df['_category'].isna()) | (df['_subcategory'].isna()) | (df['_group'].isna()))]"
   ]
  },
  {
   "cell_type": "code",
   "execution_count": 11,
   "id": "6576fb53",
   "metadata": {},
   "outputs": [],
   "source": [
    "def find_groups(x):\n",
    "    reqx = requests.get(x)\n",
    "    soup = bs(reqx.text, 'html.parser')    \n",
    "    elem_1 = soup.findAll('a', class_='breadcrumbs__link colored_theme_hover_bg-el-svg')\n",
    "    elem_2 = soup.findAll('div', class_='breadcrumbs__item')\n",
    "    try:\n",
    "        if len(elem_1) <=2:\n",
    "            if len(elem_2) <= 4:\n",
    "                d_14 = 'T_'+(elem_1[0].text.replace(',','').replace(' ','_').replace('-','_').lower())\n",
    "                d_15 = 'T_'+(elem_1[1].text.replace(',','').replace(' ','_').replace('-','_').lower())\n",
    "                d_16 = 'T_'+(elem_1[1].text.replace(',','').replace(' ','_').replace('-','_').lower())\n",
    "            else:\n",
    "                d_14 = 'T_'+(elem_1[0].text.replace(',','').replace(' ','_').replace('-','_').lower())\n",
    "                d_15 = 'T_'+(elem_1[1].text.replace(',','').replace(' ','_').replace('-','_').lower())\n",
    "                d_16 = 'T_'+(elem_2[4].text.replace(',','').replace(' ','_').replace('-','_').lower())\n",
    "        else:\n",
    "            d_14 = 'T_'+(elem_1[0].text.replace(',','').replace(' ','_').replace('-','_').lower())\n",
    "            d_15 = 'T_'+(elem_1[1].text.replace(',','').replace(' ','_').replace('-','_').lower())\n",
    "            d_16 = 'T_'+(elem_1[2].text.replace(',','').replace(' ','_').replace('-','_').lower())\n",
    "    except:\n",
    "        d_14 = 'err_'\n",
    "        d_15 = 'err_'\n",
    "        d_16 = 'err_'\n",
    "        \n",
    "    return pd.Series([ (d_14), (d_15), (d_16)])"
   ]
  },
  {
   "cell_type": "code",
   "execution_count": 12,
   "id": "1f8cd323",
   "metadata": {},
   "outputs": [
    {
     "data": {
      "application/vnd.jupyter.widget-view+json": {
       "model_id": "49d96686c8a2481bbd90803a992e4c32",
       "version_major": 2,
       "version_minor": 0
      },
      "text/plain": [
       "  0%|          | 0/116 [00:00<?, ?it/s]"
      ]
     },
     "metadata": {},
     "output_type": "display_data"
    }
   ],
   "source": [
    "tqdm.pandas() \n",
    "df_new[['_category','_subcategory','_group']] = df_new['url'].progress_apply(find_groups)"
   ]
  },
  {
   "cell_type": "code",
   "execution_count": 13,
   "id": "764bf76c",
   "metadata": {},
   "outputs": [
    {
     "data": {
      "text/plain": [
       "array(['T_компьютерная_техника', 'T_для_дома', 'T_бытовая_техника',\n",
       "       'T_безопасность', 'T_фото_аудио',\n",
       "       'T_сетевое_и_серверное_оборудование', 'T_электропитание'],\n",
       "      dtype=object)"
      ]
     },
     "execution_count": 13,
     "metadata": {},
     "output_type": "execute_result"
    }
   ],
   "source": [
    "df_new._category.unique()"
   ]
  },
  {
   "cell_type": "code",
   "execution_count": 14,
   "id": "d64a4f3a",
   "metadata": {},
   "outputs": [
    {
     "data": {
      "text/plain": [
       "array(['T_аксессуары', 'T_накопители', 'T_комплектующие', 'T_мониторы',\n",
       "       'T_компьютеры_ноутбуки_планшеты', 'T_инструменты',\n",
       "       'T_запасные_части', 'T_гигиена_здоровье_уход',\n",
       "       'T_климатическая_техника', 'T_крупная_бытовая_техника',\n",
       "       'T_умный_дом', 'T_видеонаблюдение', 'T_домофоны', 'T_скуд',\n",
       "       'T_фототехника', 'T_коммутаторы', 'T_маршрутизаторы_модемы',\n",
       "       'T_хранилище_сетевое', 'T_блоки_питания'], dtype=object)"
      ]
     },
     "execution_count": 14,
     "metadata": {},
     "output_type": "execute_result"
    }
   ],
   "source": [
    "df_new._subcategory.unique()"
   ]
  },
  {
   "cell_type": "code",
   "execution_count": 15,
   "id": "c92b1793",
   "metadata": {},
   "outputs": [
    {
     "data": {
      "text/plain": [
       "array(['T_кабели_удлинители_переходники', 'T_карты_памяти',\n",
       "       'T_картридеры', 'T_память', 'T_накопители_usb', 'T_накопители_ssd',\n",
       "       'T_мониторы', 'T_ноутбуки', 'T_ручной_инструмент',\n",
       "       'T_запасные_части', 'T_измерительный_инструмент',\n",
       "       'T_электроинструмент', 'T_фены_щипцы_и_щетки', 'T_кондиционеры',\n",
       "       'T_морозильники', 'T_холодильники', 'T_пылесосы',\n",
       "       'T_розетка_беспроводная', 'T_видеорегистраторы_цифровые',\n",
       "       'T_видеокамеры_аналоговые', 'T_видеокамеры_цифровые',\n",
       "       'T_видеодомофоны', 'T_турникеты_шлагбаумы', 'T_штативы',\n",
       "       'T_коммутаторы', 'T_маршрутизаторы_модемы', 'T_хранилище_сетевое',\n",
       "       'T_блоки_питания_для_видеокамер'], dtype=object)"
      ]
     },
     "execution_count": 15,
     "metadata": {},
     "output_type": "execute_result"
    }
   ],
   "source": [
    "df_new._group.unique()"
   ]
  },
  {
   "cell_type": "code",
   "execution_count": 16,
   "id": "fa7c8b3a",
   "metadata": {},
   "outputs": [],
   "source": [
    "data = df_new[~(df_new['_category']=='err_')].reset_index(drop=True)\n",
    "data = data[['id', '_category','_subcategory','_group' ]]\n",
    "data = data.sort_values(['_category','_subcategory', '_group'])"
   ]
  },
  {
   "cell_type": "code",
   "execution_count": 17,
   "id": "d048a971",
   "metadata": {},
   "outputs": [],
   "source": [
    "tiraet_group = pd.concat([tiraet_group, data], ignore_index=True).sort_values(['_category','_subcategory', '_group']).reset_index(drop=True)\n",
    "tiraet_group.to_csv('csv/atiraet_group.csv', index=False)  "
   ]
  },
  {
   "cell_type": "code",
   "execution_count": 18,
   "id": "a62a4033",
   "metadata": {},
   "outputs": [],
   "source": [
    "df = pd.concat([df, df_new], ignore_index=True).sort_values(['_category','_subcategory', '_group']).reset_index(drop=True)"
   ]
  },
  {
   "cell_type": "markdown",
   "id": "a566f1fd",
   "metadata": {},
   "source": [
    "df.to_csv('csv/tiraet_final_'+dt.datetime.now().strftime('%Y_%m_%d')+'.csv', index=False)  "
   ]
  },
  {
   "cell_type": "code",
   "execution_count": 19,
   "id": "95a39ad0",
   "metadata": {},
   "outputs": [
    {
     "data": {
      "text/plain": [
       "0"
      ]
     },
     "execution_count": 19,
     "metadata": {},
     "output_type": "execute_result"
    }
   ],
   "source": [
    "df[df['_category']=='err_'].id.count()"
   ]
  },
  {
   "cell_type": "code",
   "execution_count": 20,
   "id": "b7d29db4",
   "metadata": {},
   "outputs": [
    {
     "data": {
      "text/html": [
       "<div>\n",
       "<style scoped>\n",
       "    .dataframe tbody tr th:only-of-type {\n",
       "        vertical-align: middle;\n",
       "    }\n",
       "\n",
       "    .dataframe tbody tr th {\n",
       "        vertical-align: top;\n",
       "    }\n",
       "\n",
       "    .dataframe thead th {\n",
       "        text-align: right;\n",
       "    }\n",
       "</style>\n",
       "<table border=\"1\" class=\"dataframe\">\n",
       "  <thead>\n",
       "    <tr style=\"text-align: right;\">\n",
       "      <th></th>\n",
       "      <th>title</th>\n",
       "      <th>url</th>\n",
       "      <th>date</th>\n",
       "      <th>availability</th>\n",
       "      <th>id</th>\n",
       "      <th>price</th>\n",
       "      <th>old_price</th>\n",
       "      <th>_category</th>\n",
       "      <th>_subcategory</th>\n",
       "      <th>_group</th>\n",
       "    </tr>\n",
       "  </thead>\n",
       "  <tbody>\n",
       "  </tbody>\n",
       "</table>\n",
       "</div>"
      ],
      "text/plain": [
       "Empty DataFrame\n",
       "Columns: [title, url, date, availability, id, price, old_price, _category, _subcategory, _group]\n",
       "Index: []"
      ]
     },
     "execution_count": 20,
     "metadata": {},
     "output_type": "execute_result"
    }
   ],
   "source": [
    "df[df['_category']=='err_']"
   ]
  },
  {
   "cell_type": "code",
   "execution_count": 21,
   "id": "f68bfd34",
   "metadata": {},
   "outputs": [],
   "source": [
    "df['error_group'] = 0\n",
    "df.loc[df['_category']=='err', 'error_group'] = 1"
   ]
  },
  {
   "cell_type": "code",
   "execution_count": 22,
   "id": "56469f75",
   "metadata": {},
   "outputs": [
    {
     "data": {
      "text/html": [
       "<div>\n",
       "<style scoped>\n",
       "    .dataframe tbody tr th:only-of-type {\n",
       "        vertical-align: middle;\n",
       "    }\n",
       "\n",
       "    .dataframe tbody tr th {\n",
       "        vertical-align: top;\n",
       "    }\n",
       "\n",
       "    .dataframe thead th {\n",
       "        text-align: right;\n",
       "    }\n",
       "</style>\n",
       "<table border=\"1\" class=\"dataframe\">\n",
       "  <thead>\n",
       "    <tr style=\"text-align: right;\">\n",
       "      <th></th>\n",
       "      <th>title</th>\n",
       "      <th>url</th>\n",
       "      <th>date</th>\n",
       "      <th>availability</th>\n",
       "      <th>id</th>\n",
       "      <th>price</th>\n",
       "      <th>old_price</th>\n",
       "      <th>_category</th>\n",
       "      <th>_subcategory</th>\n",
       "      <th>_group</th>\n",
       "      <th>error_group</th>\n",
       "    </tr>\n",
       "  </thead>\n",
       "  <tbody>\n",
       "    <tr>\n",
       "      <th>0</th>\n",
       "      <td>Автомагнитола Sencor SCT 3018MR (FM/AM, CD, MP3/WMA, USB, AUX, 4*40W, ISO/RCA, 1DIN)</td>\n",
       "      <td>https://tiraet.com/catalog/avtojelektronika/avtomagnitoly/avtomagnitola_sencor_sct_3018mr_fm_am_cd_mp3_wma_usb_aux_4_40w_iso_rca_1din/</td>\n",
       "      <td>2024-06-27</td>\n",
       "      <td>Мало</td>\n",
       "      <td>78604</td>\n",
       "      <td>660.0</td>\n",
       "      <td>NaN</td>\n",
       "      <td>T_автотовары</td>\n",
       "      <td>T_автомагнитола</td>\n",
       "      <td>T_автомагнитола</td>\n",
       "      <td>0</td>\n",
       "    </tr>\n",
       "    <tr>\n",
       "      <th>1</th>\n",
       "      <td>Автомагнитола Kenwood KDC-130UG (FM/AM, MP3/WAV/WMA/FLAC, CD, USB, AUX, 4*50W, ISO/RCA, 1DIN) black</td>\n",
       "      <td>https://tiraet.com/catalog/avtojelektronika/avtomagnitoly/avtomagnitola_kenwood_kdc_130ug_fm_am_mp3_wav_wma_flac_cd_usb_aux_4_50w_iso_rca_1din_black/</td>\n",
       "      <td>2024-06-27</td>\n",
       "      <td>Мало</td>\n",
       "      <td>78235</td>\n",
       "      <td>1419.0</td>\n",
       "      <td>NaN</td>\n",
       "      <td>T_автотовары</td>\n",
       "      <td>T_автомагнитола</td>\n",
       "      <td>T_автомагнитола</td>\n",
       "      <td>0</td>\n",
       "    </tr>\n",
       "    <tr>\n",
       "      <th>2</th>\n",
       "      <td>Автомагнитола Kenwood KMM-BT209 (FM/AM, BT, USB, AUX, RCA, 4*50W, ISO, 1DIN)</td>\n",
       "      <td>https://tiraet.com/catalog/avtojelektronika/avtomagnitoly/avtomagnitola_kenwood_kmm_bt209_fm_am_bt_usb_aux_rca_4_50w_iso_1din/</td>\n",
       "      <td>2024-06-27</td>\n",
       "      <td>Достаточно</td>\n",
       "      <td>80185</td>\n",
       "      <td>1735.0</td>\n",
       "      <td>NaN</td>\n",
       "      <td>T_автотовары</td>\n",
       "      <td>T_автомагнитола</td>\n",
       "      <td>T_автомагнитола</td>\n",
       "      <td>0</td>\n",
       "    </tr>\n",
       "    <tr>\n",
       "      <th>3</th>\n",
       "      <td>Автомагнитола JVC KDX-382BT (FM/AM, Bluetooth, USB, 4*50W, ISO, AUX, 1DIN)</td>\n",
       "      <td>https://tiraet.com/catalog/avtojelektronika/avtomagnitoly/avtomagnitola_jvc_kdx_382bt_fm_am_bluetooth_usb_4_50w_iso_aux_1din/</td>\n",
       "      <td>2024-06-27</td>\n",
       "      <td>Мало</td>\n",
       "      <td>80184</td>\n",
       "      <td>1815.0</td>\n",
       "      <td>NaN</td>\n",
       "      <td>T_автотовары</td>\n",
       "      <td>T_автомагнитола</td>\n",
       "      <td>T_автомагнитола</td>\n",
       "      <td>0</td>\n",
       "    </tr>\n",
       "    <tr>\n",
       "      <th>4</th>\n",
       "      <td>Автомагнитола JVC KDT-702BT (FM/AM, Bluetooth, CD, USB, 4*50W, 1DIN)</td>\n",
       "      <td>https://tiraet.com/catalog/avtojelektronika/avtomagnitoly/avtomagnitola_jvc_kdt_702bt_fm_am_bluetooth_cd_usb_4_50w_1din/</td>\n",
       "      <td>2024-06-27</td>\n",
       "      <td>Достаточно</td>\n",
       "      <td>80183</td>\n",
       "      <td>2099.0</td>\n",
       "      <td>NaN</td>\n",
       "      <td>T_автотовары</td>\n",
       "      <td>T_автомагнитола</td>\n",
       "      <td>T_автомагнитола</td>\n",
       "      <td>0</td>\n",
       "    </tr>\n",
       "    <tr>\n",
       "      <th>...</th>\n",
       "      <td>...</td>\n",
       "      <td>...</td>\n",
       "      <td>...</td>\n",
       "      <td>...</td>\n",
       "      <td>...</td>\n",
       "      <td>...</td>\n",
       "      <td>...</td>\n",
       "      <td>...</td>\n",
       "      <td>...</td>\n",
       "      <td>...</td>\n",
       "      <td>...</td>\n",
       "    </tr>\n",
       "    <tr>\n",
       "      <th>11665</th>\n",
       "      <td>Элемент питания everActive PRO Alkaline 9V 6LR61 (крона) 10шт/уп. (EV6LR61PRO-10PAK)</td>\n",
       "      <td>https://tiraet.com/catalog/jelektropitanie/batarei-akkumuljatornye/jelementy-pitanija/element_pitaniya_everactive_pro_alkaline_9v_6lr61_krona_10sht_up_ev6lr61pro_10pak/</td>\n",
       "      <td>2024-06-27</td>\n",
       "      <td>Достаточно</td>\n",
       "      <td>77384</td>\n",
       "      <td>299.0</td>\n",
       "      <td>NaN</td>\n",
       "      <td>T_электропитание</td>\n",
       "      <td>T_элементы_питания</td>\n",
       "      <td>T_батарейки_аккумуляторы</td>\n",
       "      <td>0</td>\n",
       "    </tr>\n",
       "    <tr>\n",
       "      <th>11666</th>\n",
       "      <td>Аккумулятор Panasonic ENELOOP (BK-3MCDE/4BE) AA, 2000mAh, Ni-MH, 1.2V 4шт/уп.   (214421)</td>\n",
       "      <td>https://tiraet.com/catalog/jelektropitanie/batarei-akkumuljatornye/jelementy-pitanija/akkumulyator_panasonic_eneloop_bk_3mcde_4be_aa_2000mah_ni_mh_1_2v_4sht_up_214421/</td>\n",
       "      <td>2024-06-27</td>\n",
       "      <td>Достаточно</td>\n",
       "      <td>78714</td>\n",
       "      <td>260.0</td>\n",
       "      <td>330.0</td>\n",
       "      <td>T_электропитание</td>\n",
       "      <td>T_элементы_питания</td>\n",
       "      <td>T_батарейки_аккумуляторы</td>\n",
       "      <td>0</td>\n",
       "    </tr>\n",
       "    <tr>\n",
       "      <th>11667</th>\n",
       "      <td>Элемент питания Duracell BASIC AA/LR6/MN1500 Alkaline  1.5V 24шт/уп  (DURACELL AA LR6 BL24)</td>\n",
       "      <td>https://tiraet.com/catalog/jelektropitanie/batarei-akkumuljatornye/jelementy-pitanija/element_pitaniya_duracell_basic_aa_lr6_mn1500_alkaline_1_5v_24sht_up_duracell_aa_lr6_bl24/</td>\n",
       "      <td>2024-06-27</td>\n",
       "      <td>Мало</td>\n",
       "      <td>84971</td>\n",
       "      <td>399.6</td>\n",
       "      <td>NaN</td>\n",
       "      <td>T_электропитание</td>\n",
       "      <td>T_элементы_питания</td>\n",
       "      <td>T_батарейки_аккумуляторы</td>\n",
       "      <td>0</td>\n",
       "    </tr>\n",
       "    <tr>\n",
       "      <th>11668</th>\n",
       "      <td>Элемент питания Duracell BASIC AAA/LR3/MN2400 Alkaline  1.5V 24шт/уп  (DURACELL BASIC AAA/LR3 BL24)</td>\n",
       "      <td>https://tiraet.com/catalog/jelektropitanie/batarei-akkumuljatornye/jelementy-pitanija/element_pitaniya_duracell_basic_aaa_lr3_mn2400_alkaline_1_5v_24sht_up_duracell_basic_aaa_lr3_bl24/</td>\n",
       "      <td>2024-06-27</td>\n",
       "      <td>Мало</td>\n",
       "      <td>84972</td>\n",
       "      <td>400.3</td>\n",
       "      <td>NaN</td>\n",
       "      <td>T_электропитание</td>\n",
       "      <td>T_элементы_питания</td>\n",
       "      <td>T_батарейки_аккумуляторы</td>\n",
       "      <td>0</td>\n",
       "    </tr>\n",
       "    <tr>\n",
       "      <th>11669</th>\n",
       "      <td>Батарея аккумуяторная (5809LYDD-ZJ) LI-ION 2000mAh, DC 7.4V/3A для термопринтеров POS-5809DD POS-5811DD</td>\n",
       "      <td>https://tiraet.com/catalog/jelektropitanie/batarei-akkumuljatornye/batareya_akkumuyatornaya_5809lydd_zj_li_ion_2000mah_dc_7_4v_3a_dlya_termoprinterov_pos_5809dd_pos_58/</td>\n",
       "      <td>2024-06-27</td>\n",
       "      <td>Много</td>\n",
       "      <td>82785</td>\n",
       "      <td>165.0</td>\n",
       "      <td>NaN</td>\n",
       "      <td>T_электропитание</td>\n",
       "      <td>T_элементы_питания</td>\n",
       "      <td>T_элементы_питания</td>\n",
       "      <td>0</td>\n",
       "    </tr>\n",
       "  </tbody>\n",
       "</table>\n",
       "<p>11670 rows × 11 columns</p>\n",
       "</div>"
      ],
      "text/plain": [
       "                                                                                                         title  \\\n",
       "0                         Автомагнитола Sencor SCT 3018MR (FM/AM, CD, MP3/WMA, USB, AUX, 4*40W, ISO/RCA, 1DIN)   \n",
       "1          Автомагнитола Kenwood KDC-130UG (FM/AM, MP3/WAV/WMA/FLAC, CD, USB, AUX, 4*50W, ISO/RCA, 1DIN) black   \n",
       "2                                 Автомагнитола Kenwood KMM-BT209 (FM/AM, BT, USB, AUX, RCA, 4*50W, ISO, 1DIN)   \n",
       "3                                   Автомагнитола JVC KDX-382BT (FM/AM, Bluetooth, USB, 4*50W, ISO, AUX, 1DIN)   \n",
       "4                                         Автомагнитола JVC KDT-702BT (FM/AM, Bluetooth, CD, USB, 4*50W, 1DIN)   \n",
       "...                                                                                                        ...   \n",
       "11665                     Элемент питания everActive PRO Alkaline 9V 6LR61 (крона) 10шт/уп. (EV6LR61PRO-10PAK)   \n",
       "11666                 Аккумулятор Panasonic ENELOOP (BK-3MCDE/4BE) AA, 2000mAh, Ni-MH, 1.2V 4шт/уп.   (214421)   \n",
       "11667              Элемент питания Duracell BASIC AA/LR6/MN1500 Alkaline  1.5V 24шт/уп  (DURACELL AA LR6 BL24)   \n",
       "11668      Элемент питания Duracell BASIC AAA/LR3/MN2400 Alkaline  1.5V 24шт/уп  (DURACELL BASIC AAA/LR3 BL24)   \n",
       "11669  Батарея аккумуяторная (5809LYDD-ZJ) LI-ION 2000mAh, DC 7.4V/3A для термопринтеров POS-5809DD POS-5811DD   \n",
       "\n",
       "                                                                                                                                                                                            url  \\\n",
       "0                                                        https://tiraet.com/catalog/avtojelektronika/avtomagnitoly/avtomagnitola_sencor_sct_3018mr_fm_am_cd_mp3_wma_usb_aux_4_40w_iso_rca_1din/   \n",
       "1                                         https://tiraet.com/catalog/avtojelektronika/avtomagnitoly/avtomagnitola_kenwood_kdc_130ug_fm_am_mp3_wav_wma_flac_cd_usb_aux_4_50w_iso_rca_1din_black/   \n",
       "2                                                                https://tiraet.com/catalog/avtojelektronika/avtomagnitoly/avtomagnitola_kenwood_kmm_bt209_fm_am_bt_usb_aux_rca_4_50w_iso_1din/   \n",
       "3                                                                 https://tiraet.com/catalog/avtojelektronika/avtomagnitoly/avtomagnitola_jvc_kdx_382bt_fm_am_bluetooth_usb_4_50w_iso_aux_1din/   \n",
       "4                                                                      https://tiraet.com/catalog/avtojelektronika/avtomagnitoly/avtomagnitola_jvc_kdt_702bt_fm_am_bluetooth_cd_usb_4_50w_1din/   \n",
       "...                                                                                                                                                                                         ...   \n",
       "11665                  https://tiraet.com/catalog/jelektropitanie/batarei-akkumuljatornye/jelementy-pitanija/element_pitaniya_everactive_pro_alkaline_9v_6lr61_krona_10sht_up_ev6lr61pro_10pak/   \n",
       "11666                   https://tiraet.com/catalog/jelektropitanie/batarei-akkumuljatornye/jelementy-pitanija/akkumulyator_panasonic_eneloop_bk_3mcde_4be_aa_2000mah_ni_mh_1_2v_4sht_up_214421/   \n",
       "11667          https://tiraet.com/catalog/jelektropitanie/batarei-akkumuljatornye/jelementy-pitanija/element_pitaniya_duracell_basic_aa_lr6_mn1500_alkaline_1_5v_24sht_up_duracell_aa_lr6_bl24/   \n",
       "11668  https://tiraet.com/catalog/jelektropitanie/batarei-akkumuljatornye/jelementy-pitanija/element_pitaniya_duracell_basic_aaa_lr3_mn2400_alkaline_1_5v_24sht_up_duracell_basic_aaa_lr3_bl24/   \n",
       "11669                  https://tiraet.com/catalog/jelektropitanie/batarei-akkumuljatornye/batareya_akkumuyatornaya_5809lydd_zj_li_ion_2000mah_dc_7_4v_3a_dlya_termoprinterov_pos_5809dd_pos_58/   \n",
       "\n",
       "            date availability     id   price  old_price         _category  \\\n",
       "0     2024-06-27         Мало  78604   660.0        NaN      T_автотовары   \n",
       "1     2024-06-27         Мало  78235  1419.0        NaN      T_автотовары   \n",
       "2     2024-06-27   Достаточно  80185  1735.0        NaN      T_автотовары   \n",
       "3     2024-06-27         Мало  80184  1815.0        NaN      T_автотовары   \n",
       "4     2024-06-27   Достаточно  80183  2099.0        NaN      T_автотовары   \n",
       "...          ...          ...    ...     ...        ...               ...   \n",
       "11665 2024-06-27   Достаточно  77384   299.0        NaN  T_электропитание   \n",
       "11666 2024-06-27   Достаточно  78714   260.0      330.0  T_электропитание   \n",
       "11667 2024-06-27         Мало  84971   399.6        NaN  T_электропитание   \n",
       "11668 2024-06-27         Мало  84972   400.3        NaN  T_электропитание   \n",
       "11669 2024-06-27        Много  82785   165.0        NaN  T_электропитание   \n",
       "\n",
       "             _subcategory                    _group  error_group  \n",
       "0         T_автомагнитола           T_автомагнитола            0  \n",
       "1         T_автомагнитола           T_автомагнитола            0  \n",
       "2         T_автомагнитола           T_автомагнитола            0  \n",
       "3         T_автомагнитола           T_автомагнитола            0  \n",
       "4         T_автомагнитола           T_автомагнитола            0  \n",
       "...                   ...                       ...          ...  \n",
       "11665  T_элементы_питания  T_батарейки_аккумуляторы            0  \n",
       "11666  T_элементы_питания  T_батарейки_аккумуляторы            0  \n",
       "11667  T_элементы_питания  T_батарейки_аккумуляторы            0  \n",
       "11668  T_элементы_питания  T_батарейки_аккумуляторы            0  \n",
       "11669  T_элементы_питания        T_элементы_питания            0  \n",
       "\n",
       "[11670 rows x 11 columns]"
      ]
     },
     "execution_count": 22,
     "metadata": {},
     "output_type": "execute_result"
    }
   ],
   "source": [
    "df"
   ]
  },
  {
   "cell_type": "code",
   "execution_count": 23,
   "id": "5ac063ea",
   "metadata": {},
   "outputs": [
    {
     "data": {
      "text/plain": [
       "116"
      ]
     },
     "execution_count": 23,
     "metadata": {},
     "output_type": "execute_result"
    }
   ],
   "source": [
    "len(data)"
   ]
  },
  {
   "cell_type": "code",
   "execution_count": 24,
   "id": "f44fa25c",
   "metadata": {
    "scrolled": true
   },
   "outputs": [
    {
     "name": "stdout",
     "output_type": "stream",
     "text": [
      "T_автотовары\n",
      "['T_автомагнитола' 'T_автопылесос' 'T_авторегистратор' 'T_автохолодильник'\n",
      " 'T_динамики' 'T_компрессоры' 'T_крепления_смартфонов/планшетов'\n",
      " 'T_модуляторы_fm' 'T_навигаторы_gps']\n",
      "----------------------------------------------------------------------------------------------------\n",
      "T_безопасность\n",
      "['T_видеонаблюдение' 'T_домофоны' 'T_монтаж_и_питание'\n",
      " 'T_оборудование_poe' 'T_сигнализация_охранно_пожарная' 'T_скуд'\n",
      " 'T_умный_дом']\n",
      "----------------------------------------------------------------------------------------------------\n",
      "T_бытовая_техника\n",
      "['T_гигиена_здоровье_уход' 'T_климатическая_техника'\n",
      " 'T_крупная_бытовая_техника' 'T_мелкая_бытовая_техника' 'T_телевизоры'\n",
      " 'T_техника_для_кухни' 'T_часы_наручные']\n",
      "----------------------------------------------------------------------------------------------------\n",
      "T_для_дома\n",
      "['T_бытовая_химия' 'T_запасные_части' 'T_инструменты' 'T_крепления'\n",
      " 'T_кухонная_утварь' 'T_мебель' 'T_текстиль' 'T_хозяйственный_инвентарь']\n",
      "----------------------------------------------------------------------------------------------------\n",
      "T_компьютерная_техника\n",
      "['T_аксессуары' 'T_комплектующие' 'T_компьютеры_ноутбуки_планшеты'\n",
      " 'T_манипуляторы' 'T_мониторы' 'T_мультимедиа' 'T_накопители']\n",
      "----------------------------------------------------------------------------------------------------\n",
      "T_мобильные_телефоны\n",
      "['T_смарт_брелки' 'T_смартфоны' 'T_стабилизаторы_селфи_палки'\n",
      " 'T_стекла_пленки' 'T_телефоны' 'T_чехлы']\n",
      "----------------------------------------------------------------------------------------------------\n",
      "T_оргтехника\n",
      "['T_банковское_оборудование' 'T_доски_интерактивные' 'T_ламинаторы'\n",
      " 'T_печатное_оборудование' 'T_проекционное_оборудование' 'T_сканеры'\n",
      " 'T_телефония' 'T_уничтожители']\n",
      "----------------------------------------------------------------------------------------------------\n",
      "T_расходные_материалы\n",
      "['T_бумага_лента_пленка' 'T_запчасти_принтеров_копиров_факсов'\n",
      " 'T_расходные_3d_принтера' 'T_расходные_картриджей_копиров'\n",
      " 'T_расходные_картриджей_лазерных_принтеров_факсов'\n",
      " 'T_расходные_матричных_принтеров' 'T_расходные_струйных_принтеров'\n",
      " 'T_смазки_и_средства_обслуживания']\n",
      "----------------------------------------------------------------------------------------------------\n",
      "T_светотехника\n",
      "['T_бытовое_освещение' 'T_кабельная_продукция' 'T_лампы'\n",
      " 'T_оборудование_электромонтажное' 'T_праздничная_светотехника'\n",
      " 'T_промышленное_офисное_освещение' 'T_разное' 'T_уличное_освещение'\n",
      " 'T_фитосветильники']\n",
      "----------------------------------------------------------------------------------------------------\n",
      "T_сетевое_и_серверное_оборудование\n",
      "['T_адаптеры_powerline_усилители_wifi' 'T_адаптеры_беспроводные'\n",
      " 'T_аксессуары_к_шкафам' 'T_антенны' 'T_грозозащита' 'T_кабель_патчкорд'\n",
      " 'T_карта_сетевая' 'T_коммутаторы' 'T_маршрутизаторы_модемы'\n",
      " 'T_медиаконвертеры' 'T_модули_оптические' 'T_патч_панели'\n",
      " 'T_розетка_коннектор' 'T_серверы' 'T_точки_доступа_мост'\n",
      " 'T_хранилище_сетевое' 'T_шкафы_стойки']\n",
      "----------------------------------------------------------------------------------------------------\n",
      "T_спорт_и_увлечения\n",
      "['T_игровые_приставки' 'T_игрушки' 'T_туризм']\n",
      "----------------------------------------------------------------------------------------------------\n",
      "T_фото_аудио\n",
      "['T_аудиотехника' 'T_фототехника']\n",
      "----------------------------------------------------------------------------------------------------\n",
      "T_электропитание\n",
      "['T_блоки_бесперебойного_питания' 'T_блоки_питания'\n",
      " 'T_зарядные_устройства' 'T_инверторы_напряжения'\n",
      " 'T_стабилизаторы_напряжения' 'T_удлинители' 'T_элементы_питания']\n",
      "----------------------------------------------------------------------------------------------------\n"
     ]
    }
   ],
   "source": [
    "for i in df['_category'].unique():\n",
    "    t = df[df['_category']==i]\n",
    "    print(i)\n",
    "    print(t['_subcategory'].unique())\n",
    "    print('-'*100)"
   ]
  },
  {
   "cell_type": "code",
   "execution_count": null,
   "id": "3b63f138",
   "metadata": {},
   "outputs": [],
   "source": []
  },
  {
   "cell_type": "markdown",
   "id": "e8445e1b",
   "metadata": {},
   "source": [
    "# Аналитика акционных товаров"
   ]
  },
  {
   "cell_type": "code",
   "execution_count": 25,
   "id": "d291de15",
   "metadata": {},
   "outputs": [],
   "source": [
    "brend = pd.read_excel('csv/brend.xlsx')"
   ]
  },
  {
   "cell_type": "code",
   "execution_count": 26,
   "id": "3fd62f9c",
   "metadata": {},
   "outputs": [],
   "source": [
    "def lower(x):\n",
    "    return x.lower()\n",
    "brend['names'] = brend['name'].apply(lower)\n",
    "brend_up = brend.name.unique()\n",
    "brend_low = brend.names.unique()"
   ]
  },
  {
   "cell_type": "markdown",
   "id": "6d34081d",
   "metadata": {},
   "source": [
    "Создаем список брендов"
   ]
  },
  {
   "cell_type": "code",
   "execution_count": 27,
   "id": "a6cc999b",
   "metadata": {},
   "outputs": [
    {
     "data": {
      "application/vnd.jupyter.widget-view+json": {
       "model_id": "24b9ce9d201d49d1a2b768724d9409da",
       "version_major": 2,
       "version_minor": 0
      },
      "text/plain": [
       "  0%|          | 0/11670 [00:00<?, ?it/s]"
      ]
     },
     "metadata": {},
     "output_type": "display_data"
    }
   ],
   "source": [
    "def brends(x):\n",
    "    xx = x.replace('\\xa0', ' ')\n",
    "    xx = xx.split(' ')    \n",
    "    for i in range(len(xx)-1):\n",
    "        if xx[i].lower() in brend_low:\n",
    "            return xx[i].lower()\n",
    "        elif (str(xx[i].lower())+' '+str(xx[i+1].lower())) in brend_low:\n",
    "            return (str(xx[i].lower())+' '+str(xx[i+1].lower()))    \n",
    "    else:    \n",
    "        return 'другой'\n",
    "tqdm.pandas()\n",
    "df['brend'] = df['title'].progress_apply(brends)"
   ]
  },
  {
   "cell_type": "markdown",
   "id": "8adb4a8b",
   "metadata": {},
   "source": [
    "создаем столбец с брендами"
   ]
  },
  {
   "cell_type": "code",
   "execution_count": 28,
   "id": "3b17f090",
   "metadata": {},
   "outputs": [],
   "source": [
    "df['action_sale'] = 0\n",
    "df.loc[df['old_price'] > 0,'action_sale'] = 1"
   ]
  },
  {
   "cell_type": "markdown",
   "id": "5fcbcc3a",
   "metadata": {},
   "source": [
    "Создаем столбец с флагом акции"
   ]
  },
  {
   "cell_type": "code",
   "execution_count": 29,
   "id": "87e44d83",
   "metadata": {},
   "outputs": [],
   "source": [
    "df['sale'] = (100 - ((df['price']*100)/df['old_price'])).round(2) "
   ]
  },
  {
   "cell_type": "markdown",
   "id": "91917f95",
   "metadata": {},
   "source": [
    "создаем столбец показывающий скидку в процентах"
   ]
  },
  {
   "cell_type": "code",
   "execution_count": 30,
   "id": "55f9287e",
   "metadata": {},
   "outputs": [
    {
     "data": {
      "application/vnd.jupyter.widget-view+json": {
       "model_id": "ae83f9e131cb44a0955802236737a9f7",
       "version_major": 2,
       "version_minor": 0
      },
      "text/plain": [
       "  0%|          | 0/11670 [00:00<?, ?it/s]"
      ]
     },
     "metadata": {},
     "output_type": "display_data"
    }
   ],
   "source": [
    "def count_group(x):\n",
    "    return df[df['_group']==x]['id'].count()    \n",
    "tqdm.pandas()\n",
    "df['count_group'] = df['_group'].progress_apply(count_group)"
   ]
  },
  {
   "cell_type": "markdown",
   "id": "d7ef1d16",
   "metadata": {},
   "source": [
    "создание столбца с количеством товара в группе"
   ]
  },
  {
   "cell_type": "code",
   "execution_count": 31,
   "id": "6432c479",
   "metadata": {},
   "outputs": [
    {
     "data": {
      "application/vnd.jupyter.widget-view+json": {
       "model_id": "52c369b3398b4e4eb0e8561d7d65c6b0",
       "version_major": 2,
       "version_minor": 0
      },
      "text/plain": [
       "  0%|          | 0/11670 [00:00<?, ?it/s]"
      ]
     },
     "metadata": {},
     "output_type": "display_data"
    }
   ],
   "source": [
    "def count_group_presence(x):\n",
    "    return df[(df['availability'].isin(['Мало','Достаточно','Много']))&(df['_group']==x)]['id'].count()   \n",
    "tqdm.pandas()\n",
    "df['activ_count_group'] = df['_group'].progress_apply(count_group_presence)"
   ]
  },
  {
   "cell_type": "markdown",
   "id": "2a6594ce",
   "metadata": {},
   "source": [
    "создание столбца с количеством товара, который есть в наличии, в группе"
   ]
  },
  {
   "cell_type": "code",
   "execution_count": 32,
   "id": "7b33f40d",
   "metadata": {},
   "outputs": [
    {
     "data": {
      "application/vnd.jupyter.widget-view+json": {
       "model_id": "9d81386790834dc6910aa53a9f1715e8",
       "version_major": 2,
       "version_minor": 0
      },
      "text/plain": [
       "  0%|          | 0/11670 [00:00<?, ?it/s]"
      ]
     },
     "metadata": {},
     "output_type": "display_data"
    }
   ],
   "source": [
    "def dif_price(x):    \n",
    "    max_price = df[(df['availability'].isin(['Мало','Достаточно','Много']))&(df['_group']==x)]['price'].max()\n",
    "    min_price = df[(df['availability'].isin(['Мало','Достаточно','Много']))&(df['_group']==x)]['price'].min() \n",
    "    return max_price / min_price\n",
    "tqdm.pandas()\n",
    "df['dif_price'] = df['_group'].progress_apply(dif_price)"
   ]
  },
  {
   "cell_type": "markdown",
   "id": "c88e2d0f",
   "metadata": {},
   "source": [
    "создам столбец с отношением самой дорогой цены в группе к самой дешевой."
   ]
  },
  {
   "cell_type": "code",
   "execution_count": 33,
   "id": "4ab26dc0",
   "metadata": {},
   "outputs": [],
   "source": [
    "df['group_prise'] = df.groupby('_group')['price'].transform(lambda x: pd.cut(x, bins = 4, labels=[\"бюджет\", \"стандарт\", 'дорогой', \"элитный\"]))"
   ]
  },
  {
   "cell_type": "markdown",
   "id": "ea4ee02c",
   "metadata": {},
   "source": [
    "создание столбца с ценовой категорией товара"
   ]
  },
  {
   "cell_type": "code",
   "execution_count": 34,
   "id": "a4e3227a",
   "metadata": {},
   "outputs": [],
   "source": [
    "df = df[['url', 'id', '_category', '_subcategory', '_group', 'brend', \n",
    "         'title', 'date', 'price', 'old_price', 'action_sale', 'sale', 'group_prise', 'dif_price',\n",
    "         'availability', 'count_group', 'activ_count_group', 'error_group']]"
   ]
  },
  {
   "cell_type": "code",
   "execution_count": 35,
   "id": "7fc96ff3",
   "metadata": {},
   "outputs": [
    {
     "name": "stderr",
     "output_type": "stream",
     "text": [
      "C:\\Users\\user\\AppData\\Local\\Temp\\ipykernel_15988\\2466544301.py:1: SettingWithCopyWarning: \n",
      "A value is trying to be set on a copy of a slice from a DataFrame.\n",
      "Try using .loc[row_indexer,col_indexer] = value instead\n",
      "\n",
      "See the caveats in the documentation: https://pandas.pydata.org/pandas-docs/stable/user_guide/indexing.html#returning-a-view-versus-a-copy\n",
      "  df['tir'] = 1\n"
     ]
    }
   ],
   "source": [
    "df['tir'] = 1"
   ]
  },
  {
   "cell_type": "code",
   "execution_count": 36,
   "id": "ec1c2a4f",
   "metadata": {},
   "outputs": [],
   "source": [
    "df = df.drop_duplicates().reset_index(drop=True)"
   ]
  },
  {
   "cell_type": "code",
   "execution_count": 37,
   "id": "de0e1102",
   "metadata": {},
   "outputs": [],
   "source": [
    "df.to_csv('csv/tiraet_final_'+dt.datetime.now().strftime('%Y_%m_%d')+'.csv', index=False) "
   ]
  },
  {
   "cell_type": "code",
   "execution_count": 38,
   "id": "3cfbf34d",
   "metadata": {},
   "outputs": [
    {
     "data": {
      "text/html": [
       "<div>\n",
       "<style scoped>\n",
       "    .dataframe tbody tr th:only-of-type {\n",
       "        vertical-align: middle;\n",
       "    }\n",
       "\n",
       "    .dataframe tbody tr th {\n",
       "        vertical-align: top;\n",
       "    }\n",
       "\n",
       "    .dataframe thead th {\n",
       "        text-align: right;\n",
       "    }\n",
       "</style>\n",
       "<table border=\"1\" class=\"dataframe\">\n",
       "  <thead>\n",
       "    <tr style=\"text-align: right;\">\n",
       "      <th></th>\n",
       "      <th>url</th>\n",
       "      <th>id</th>\n",
       "      <th>_category</th>\n",
       "      <th>_subcategory</th>\n",
       "      <th>_group</th>\n",
       "      <th>brend</th>\n",
       "      <th>title</th>\n",
       "      <th>date</th>\n",
       "      <th>price</th>\n",
       "      <th>old_price</th>\n",
       "      <th>action_sale</th>\n",
       "      <th>sale</th>\n",
       "      <th>group_prise</th>\n",
       "      <th>dif_price</th>\n",
       "      <th>availability</th>\n",
       "      <th>count_group</th>\n",
       "      <th>activ_count_group</th>\n",
       "      <th>error_group</th>\n",
       "      <th>tir</th>\n",
       "    </tr>\n",
       "  </thead>\n",
       "  <tbody>\n",
       "    <tr>\n",
       "      <th>0</th>\n",
       "      <td>https://tiraet.com/catalog/avtojelektronika/avtomagnitoly/avtomagnitola_sencor_sct_3018mr_fm_am_cd_mp3_wma_usb_aux_4_40w_iso_rca_1din/</td>\n",
       "      <td>78604</td>\n",
       "      <td>T_автотовары</td>\n",
       "      <td>T_автомагнитола</td>\n",
       "      <td>T_автомагнитола</td>\n",
       "      <td>sencor</td>\n",
       "      <td>Автомагнитола Sencor SCT 3018MR (FM/AM, CD, MP3/WMA, USB, AUX, 4*40W, ISO/RCA, 1DIN)</td>\n",
       "      <td>2024-06-27</td>\n",
       "      <td>660.0</td>\n",
       "      <td>NaN</td>\n",
       "      <td>0</td>\n",
       "      <td>NaN</td>\n",
       "      <td>бюджет</td>\n",
       "      <td>3.331818</td>\n",
       "      <td>Мало</td>\n",
       "      <td>6</td>\n",
       "      <td>6</td>\n",
       "      <td>0</td>\n",
       "      <td>1</td>\n",
       "    </tr>\n",
       "    <tr>\n",
       "      <th>1</th>\n",
       "      <td>https://tiraet.com/catalog/avtojelektronika/avtomagnitoly/avtomagnitola_kenwood_kdc_130ug_fm_am_mp3_wav_wma_flac_cd_usb_aux_4_50w_iso_rca_1din_black/</td>\n",
       "      <td>78235</td>\n",
       "      <td>T_автотовары</td>\n",
       "      <td>T_автомагнитола</td>\n",
       "      <td>T_автомагнитола</td>\n",
       "      <td>kenwood</td>\n",
       "      <td>Автомагнитола Kenwood KDC-130UG (FM/AM, MP3/WAV/WMA/FLAC, CD, USB, AUX, 4*50W, ISO/RCA, 1DIN) black</td>\n",
       "      <td>2024-06-27</td>\n",
       "      <td>1419.0</td>\n",
       "      <td>NaN</td>\n",
       "      <td>0</td>\n",
       "      <td>NaN</td>\n",
       "      <td>стандарт</td>\n",
       "      <td>3.331818</td>\n",
       "      <td>Мало</td>\n",
       "      <td>6</td>\n",
       "      <td>6</td>\n",
       "      <td>0</td>\n",
       "      <td>1</td>\n",
       "    </tr>\n",
       "  </tbody>\n",
       "</table>\n",
       "</div>"
      ],
      "text/plain": [
       "                                                                                                                                                     url  \\\n",
       "0                 https://tiraet.com/catalog/avtojelektronika/avtomagnitoly/avtomagnitola_sencor_sct_3018mr_fm_am_cd_mp3_wma_usb_aux_4_40w_iso_rca_1din/   \n",
       "1  https://tiraet.com/catalog/avtojelektronika/avtomagnitoly/avtomagnitola_kenwood_kdc_130ug_fm_am_mp3_wav_wma_flac_cd_usb_aux_4_50w_iso_rca_1din_black/   \n",
       "\n",
       "      id     _category     _subcategory           _group    brend  \\\n",
       "0  78604  T_автотовары  T_автомагнитола  T_автомагнитола   sencor   \n",
       "1  78235  T_автотовары  T_автомагнитола  T_автомагнитола  kenwood   \n",
       "\n",
       "                                                                                                 title  \\\n",
       "0                 Автомагнитола Sencor SCT 3018MR (FM/AM, CD, MP3/WMA, USB, AUX, 4*40W, ISO/RCA, 1DIN)   \n",
       "1  Автомагнитола Kenwood KDC-130UG (FM/AM, MP3/WAV/WMA/FLAC, CD, USB, AUX, 4*50W, ISO/RCA, 1DIN) black   \n",
       "\n",
       "        date   price  old_price  action_sale  sale group_prise  dif_price  \\\n",
       "0 2024-06-27   660.0        NaN            0   NaN      бюджет   3.331818   \n",
       "1 2024-06-27  1419.0        NaN            0   NaN    стандарт   3.331818   \n",
       "\n",
       "  availability  count_group  activ_count_group  error_group  tir  \n",
       "0         Мало            6                  6            0    1  \n",
       "1         Мало            6                  6            0    1  "
      ]
     },
     "execution_count": 38,
     "metadata": {},
     "output_type": "execute_result"
    }
   ],
   "source": [
    "df.head(2)"
   ]
  },
  {
   "cell_type": "code",
   "execution_count": 39,
   "id": "6f990e76",
   "metadata": {},
   "outputs": [
    {
     "name": "stdout",
     "output_type": "stream",
     "text": [
      "таблица имеет следующий вид:\n"
     ]
    },
    {
     "data": {
      "text/html": [
       "<div>\n",
       "<style scoped>\n",
       "    .dataframe tbody tr th:only-of-type {\n",
       "        vertical-align: middle;\n",
       "    }\n",
       "\n",
       "    .dataframe tbody tr th {\n",
       "        vertical-align: top;\n",
       "    }\n",
       "\n",
       "    .dataframe thead th {\n",
       "        text-align: right;\n",
       "    }\n",
       "</style>\n",
       "<table border=\"1\" class=\"dataframe\">\n",
       "  <thead>\n",
       "    <tr style=\"text-align: right;\">\n",
       "      <th></th>\n",
       "      <th>url</th>\n",
       "      <th>id</th>\n",
       "      <th>_category</th>\n",
       "      <th>_subcategory</th>\n",
       "      <th>_group</th>\n",
       "      <th>brend</th>\n",
       "      <th>title</th>\n",
       "      <th>date</th>\n",
       "      <th>price</th>\n",
       "      <th>old_price</th>\n",
       "      <th>action_sale</th>\n",
       "      <th>sale</th>\n",
       "      <th>group_prise</th>\n",
       "      <th>dif_price</th>\n",
       "      <th>availability</th>\n",
       "      <th>count_group</th>\n",
       "      <th>activ_count_group</th>\n",
       "      <th>error_group</th>\n",
       "      <th>tir</th>\n",
       "    </tr>\n",
       "  </thead>\n",
       "  <tbody>\n",
       "    <tr>\n",
       "      <th>0</th>\n",
       "      <td>https://tiraet.com/catalog/avtojelektronika/avtomagnitoly/avtomagnitola_sencor_sct_3018mr_fm_am_cd_mp3_wma_usb_aux_4_40w_iso_rca_1din/</td>\n",
       "      <td>78604</td>\n",
       "      <td>T_автотовары</td>\n",
       "      <td>T_автомагнитола</td>\n",
       "      <td>T_автомагнитола</td>\n",
       "      <td>sencor</td>\n",
       "      <td>Автомагнитола Sencor SCT 3018MR (FM/AM, CD, MP3/WMA, USB, AUX, 4*40W, ISO/RCA, 1DIN)</td>\n",
       "      <td>2024-06-27</td>\n",
       "      <td>660.0</td>\n",
       "      <td>NaN</td>\n",
       "      <td>0</td>\n",
       "      <td>NaN</td>\n",
       "      <td>бюджет</td>\n",
       "      <td>3.331818</td>\n",
       "      <td>Мало</td>\n",
       "      <td>6</td>\n",
       "      <td>6</td>\n",
       "      <td>0</td>\n",
       "      <td>1</td>\n",
       "    </tr>\n",
       "    <tr>\n",
       "      <th>1</th>\n",
       "      <td>https://tiraet.com/catalog/avtojelektronika/avtomagnitoly/avtomagnitola_kenwood_kdc_130ug_fm_am_mp3_wav_wma_flac_cd_usb_aux_4_50w_iso_rca_1din_black/</td>\n",
       "      <td>78235</td>\n",
       "      <td>T_автотовары</td>\n",
       "      <td>T_автомагнитола</td>\n",
       "      <td>T_автомагнитола</td>\n",
       "      <td>kenwood</td>\n",
       "      <td>Автомагнитола Kenwood KDC-130UG (FM/AM, MP3/WAV/WMA/FLAC, CD, USB, AUX, 4*50W, ISO/RCA, 1DIN) black</td>\n",
       "      <td>2024-06-27</td>\n",
       "      <td>1419.0</td>\n",
       "      <td>NaN</td>\n",
       "      <td>0</td>\n",
       "      <td>NaN</td>\n",
       "      <td>стандарт</td>\n",
       "      <td>3.331818</td>\n",
       "      <td>Мало</td>\n",
       "      <td>6</td>\n",
       "      <td>6</td>\n",
       "      <td>0</td>\n",
       "      <td>1</td>\n",
       "    </tr>\n",
       "    <tr>\n",
       "      <th>2</th>\n",
       "      <td>https://tiraet.com/catalog/avtojelektronika/avtomagnitoly/avtomagnitola_kenwood_kmm_bt209_fm_am_bt_usb_aux_rca_4_50w_iso_1din/</td>\n",
       "      <td>80185</td>\n",
       "      <td>T_автотовары</td>\n",
       "      <td>T_автомагнитола</td>\n",
       "      <td>T_автомагнитола</td>\n",
       "      <td>kenwood</td>\n",
       "      <td>Автомагнитола Kenwood KMM-BT209 (FM/AM, BT, USB, AUX, RCA, 4*50W, ISO, 1DIN)</td>\n",
       "      <td>2024-06-27</td>\n",
       "      <td>1735.0</td>\n",
       "      <td>NaN</td>\n",
       "      <td>0</td>\n",
       "      <td>NaN</td>\n",
       "      <td>дорогой</td>\n",
       "      <td>3.331818</td>\n",
       "      <td>Достаточно</td>\n",
       "      <td>6</td>\n",
       "      <td>6</td>\n",
       "      <td>0</td>\n",
       "      <td>1</td>\n",
       "    </tr>\n",
       "    <tr>\n",
       "      <th>3</th>\n",
       "      <td>https://tiraet.com/catalog/avtojelektronika/avtomagnitoly/avtomagnitola_jvc_kdx_382bt_fm_am_bluetooth_usb_4_50w_iso_aux_1din/</td>\n",
       "      <td>80184</td>\n",
       "      <td>T_автотовары</td>\n",
       "      <td>T_автомагнитола</td>\n",
       "      <td>T_автомагнитола</td>\n",
       "      <td>jvc</td>\n",
       "      <td>Автомагнитола JVC KDX-382BT (FM/AM, Bluetooth, USB, 4*50W, ISO, AUX, 1DIN)</td>\n",
       "      <td>2024-06-27</td>\n",
       "      <td>1815.0</td>\n",
       "      <td>NaN</td>\n",
       "      <td>0</td>\n",
       "      <td>NaN</td>\n",
       "      <td>элитный</td>\n",
       "      <td>3.331818</td>\n",
       "      <td>Мало</td>\n",
       "      <td>6</td>\n",
       "      <td>6</td>\n",
       "      <td>0</td>\n",
       "      <td>1</td>\n",
       "    </tr>\n",
       "    <tr>\n",
       "      <th>4</th>\n",
       "      <td>https://tiraet.com/catalog/avtojelektronika/avtomagnitoly/avtomagnitola_jvc_kdt_702bt_fm_am_bluetooth_cd_usb_4_50w_1din/</td>\n",
       "      <td>80183</td>\n",
       "      <td>T_автотовары</td>\n",
       "      <td>T_автомагнитола</td>\n",
       "      <td>T_автомагнитола</td>\n",
       "      <td>jvc</td>\n",
       "      <td>Автомагнитола JVC KDT-702BT (FM/AM, Bluetooth, CD, USB, 4*50W, 1DIN)</td>\n",
       "      <td>2024-06-27</td>\n",
       "      <td>2099.0</td>\n",
       "      <td>NaN</td>\n",
       "      <td>0</td>\n",
       "      <td>NaN</td>\n",
       "      <td>элитный</td>\n",
       "      <td>3.331818</td>\n",
       "      <td>Достаточно</td>\n",
       "      <td>6</td>\n",
       "      <td>6</td>\n",
       "      <td>0</td>\n",
       "      <td>1</td>\n",
       "    </tr>\n",
       "  </tbody>\n",
       "</table>\n",
       "</div>"
      ],
      "text/plain": [
       "                                                                                                                                                     url  \\\n",
       "0                 https://tiraet.com/catalog/avtojelektronika/avtomagnitoly/avtomagnitola_sencor_sct_3018mr_fm_am_cd_mp3_wma_usb_aux_4_40w_iso_rca_1din/   \n",
       "1  https://tiraet.com/catalog/avtojelektronika/avtomagnitoly/avtomagnitola_kenwood_kdc_130ug_fm_am_mp3_wav_wma_flac_cd_usb_aux_4_50w_iso_rca_1din_black/   \n",
       "2                         https://tiraet.com/catalog/avtojelektronika/avtomagnitoly/avtomagnitola_kenwood_kmm_bt209_fm_am_bt_usb_aux_rca_4_50w_iso_1din/   \n",
       "3                          https://tiraet.com/catalog/avtojelektronika/avtomagnitoly/avtomagnitola_jvc_kdx_382bt_fm_am_bluetooth_usb_4_50w_iso_aux_1din/   \n",
       "4                               https://tiraet.com/catalog/avtojelektronika/avtomagnitoly/avtomagnitola_jvc_kdt_702bt_fm_am_bluetooth_cd_usb_4_50w_1din/   \n",
       "\n",
       "      id     _category     _subcategory           _group    brend  \\\n",
       "0  78604  T_автотовары  T_автомагнитола  T_автомагнитола   sencor   \n",
       "1  78235  T_автотовары  T_автомагнитола  T_автомагнитола  kenwood   \n",
       "2  80185  T_автотовары  T_автомагнитола  T_автомагнитола  kenwood   \n",
       "3  80184  T_автотовары  T_автомагнитола  T_автомагнитола      jvc   \n",
       "4  80183  T_автотовары  T_автомагнитола  T_автомагнитола      jvc   \n",
       "\n",
       "                                                                                                 title  \\\n",
       "0                 Автомагнитола Sencor SCT 3018MR (FM/AM, CD, MP3/WMA, USB, AUX, 4*40W, ISO/RCA, 1DIN)   \n",
       "1  Автомагнитола Kenwood KDC-130UG (FM/AM, MP3/WAV/WMA/FLAC, CD, USB, AUX, 4*50W, ISO/RCA, 1DIN) black   \n",
       "2                         Автомагнитола Kenwood KMM-BT209 (FM/AM, BT, USB, AUX, RCA, 4*50W, ISO, 1DIN)   \n",
       "3                           Автомагнитола JVC KDX-382BT (FM/AM, Bluetooth, USB, 4*50W, ISO, AUX, 1DIN)   \n",
       "4                                 Автомагнитола JVC KDT-702BT (FM/AM, Bluetooth, CD, USB, 4*50W, 1DIN)   \n",
       "\n",
       "        date   price  old_price  action_sale  sale group_prise  dif_price  \\\n",
       "0 2024-06-27   660.0        NaN            0   NaN      бюджет   3.331818   \n",
       "1 2024-06-27  1419.0        NaN            0   NaN    стандарт   3.331818   \n",
       "2 2024-06-27  1735.0        NaN            0   NaN     дорогой   3.331818   \n",
       "3 2024-06-27  1815.0        NaN            0   NaN     элитный   3.331818   \n",
       "4 2024-06-27  2099.0        NaN            0   NaN     элитный   3.331818   \n",
       "\n",
       "  availability  count_group  activ_count_group  error_group  tir  \n",
       "0         Мало            6                  6            0    1  \n",
       "1         Мало            6                  6            0    1  \n",
       "2   Достаточно            6                  6            0    1  \n",
       "3         Мало            6                  6            0    1  \n",
       "4   Достаточно            6                  6            0    1  "
      ]
     },
     "metadata": {},
     "output_type": "display_data"
    },
    {
     "name": "stdout",
     "output_type": "stream",
     "text": [
      "****************************************************************************************************\n",
      "таблица имеет 11666 сторок и 19 столбцов\n",
      "****************************************************************************************************\n",
      "в таблице обнаружено дублекатов:0\n",
      "****************************************************************************************************\n",
      "в таблице обнаружены пропуски в следующих столбцах:\n"
     ]
    },
    {
     "data": {
      "text/plain": [
       "url                      0\n",
       "id                       0\n",
       "_category                0\n",
       "_subcategory             0\n",
       "_group                   0\n",
       "brend                    0\n",
       "title                    0\n",
       "date                     0\n",
       "price                    2\n",
       "old_price            10123\n",
       "action_sale              0\n",
       "sale                 10123\n",
       "group_prise              2\n",
       "dif_price                2\n",
       "availability             0\n",
       "count_group              0\n",
       "activ_count_group        0\n",
       "error_group              0\n",
       "tir                      0\n",
       "dtype: int64"
      ]
     },
     "metadata": {},
     "output_type": "display_data"
    },
    {
     "name": "stdout",
     "output_type": "stream",
     "text": [
      "****************************************************************************************************\n",
      "Эти пропуски составлябт следующее количество в процентах\n"
     ]
    },
    {
     "data": {
      "text/plain": [
       "url                   0.0\n",
       "id                    0.0\n",
       "_category             0.0\n",
       "_subcategory          0.0\n",
       "_group                0.0\n",
       "brend                 0.0\n",
       "title                 0.0\n",
       "date                  0.0\n",
       "price                 0.0\n",
       "old_price            86.8\n",
       "action_sale           0.0\n",
       "sale                 86.8\n",
       "group_prise           0.0\n",
       "dif_price             0.0\n",
       "availability          0.0\n",
       "count_group           0.0\n",
       "activ_count_group     0.0\n",
       "error_group           0.0\n",
       "tir                   0.0\n",
       "dtype: float64"
      ]
     },
     "metadata": {},
     "output_type": "display_data"
    },
    {
     "name": "stdout",
     "output_type": "stream",
     "text": [
      "****************************************************************************************************\n",
      "столбцы имеют следующие типы:\n"
     ]
    },
    {
     "data": {
      "text/plain": [
       "url                          object\n",
       "id                           object\n",
       "_category                    object\n",
       "_subcategory                 object\n",
       "_group                       object\n",
       "brend                        object\n",
       "title                        object\n",
       "date                 datetime64[ns]\n",
       "price                       float64\n",
       "old_price                   float64\n",
       "action_sale                   int64\n",
       "sale                        float64\n",
       "group_prise                category\n",
       "dif_price                   float64\n",
       "availability                 object\n",
       "count_group                   int64\n",
       "activ_count_group             int64\n",
       "error_group                   int64\n",
       "tir                           int64\n",
       "dtype: object"
      ]
     },
     "metadata": {},
     "output_type": "display_data"
    },
    {
     "name": "stdout",
     "output_type": "stream",
     "text": [
      "****************************************************************************************************\n",
      "названия столбцов переписаны в нижнем регистре, пробелы заменены на нижнее подчеркивание\n",
      "****************************************************************************************************\n",
      "<class 'pandas.core.frame.DataFrame'>\n",
      "RangeIndex: 11666 entries, 0 to 11665\n",
      "Data columns (total 19 columns):\n",
      " #   Column             Non-Null Count  Dtype         \n",
      "---  ------             --------------  -----         \n",
      " 0   url                11666 non-null  object        \n",
      " 1   id                 11666 non-null  object        \n",
      " 2   _category          11666 non-null  object        \n",
      " 3   _subcategory       11666 non-null  object        \n",
      " 4   _group             11666 non-null  object        \n",
      " 5   brend              11666 non-null  object        \n",
      " 6   title              11666 non-null  object        \n",
      " 7   date               11666 non-null  datetime64[ns]\n",
      " 8   price              11664 non-null  float64       \n",
      " 9   old_price          1543 non-null   float64       \n",
      " 10  action_sale        11666 non-null  int64         \n",
      " 11  sale               1543 non-null   float64       \n",
      " 12  group_prise        11664 non-null  category      \n",
      " 13  dif_price          11664 non-null  float64       \n",
      " 14  availability       11666 non-null  object        \n",
      " 15  count_group        11666 non-null  int64         \n",
      " 16  activ_count_group  11666 non-null  int64         \n",
      " 17  error_group        11666 non-null  int64         \n",
      " 18  tir                11666 non-null  int64         \n",
      "dtypes: category(1), datetime64[ns](1), float64(4), int64(5), object(8)\n",
      "memory usage: 1.6+ MB\n"
     ]
    },
    {
     "data": {
      "text/plain": [
       "None"
      ]
     },
     "metadata": {},
     "output_type": "display_data"
    }
   ],
   "source": [
    "preprocessing(df)"
   ]
  },
  {
   "cell_type": "markdown",
   "id": "b7fa1bf9",
   "metadata": {},
   "source": [
    "# Тесты"
   ]
  },
  {
   "cell_type": "code",
   "execution_count": 40,
   "id": "ee9a947c",
   "metadata": {},
   "outputs": [],
   "source": [
    "reqx = requests.get('https://tiraet.com/catalog/rashodnye-materialy/')"
   ]
  },
  {
   "cell_type": "code",
   "execution_count": 41,
   "id": "a5c796a6",
   "metadata": {},
   "outputs": [],
   "source": [
    "soup = bs(reqx.text, 'html.parser')"
   ]
  },
  {
   "cell_type": "code",
   "execution_count": 42,
   "id": "dab08d4b",
   "metadata": {},
   "outputs": [],
   "source": [
    "element2 = soup.findAll('div', class_='inner_wrap TYPE_3')"
   ]
  },
  {
   "cell_type": "code",
   "execution_count": 43,
   "id": "9dcce316",
   "metadata": {},
   "outputs": [],
   "source": [
    "element2 = soup.find('span', class_=\"section-gallery-wrapper flexbox\")"
   ]
  },
  {
   "cell_type": "code",
   "execution_count": 44,
   "id": "7fee5921",
   "metadata": {},
   "outputs": [
    {
     "ename": "KeyError",
     "evalue": "3",
     "output_type": "error",
     "traceback": [
      "\u001b[1;31m---------------------------------------------------------------------------\u001b[0m",
      "\u001b[1;31mKeyError\u001b[0m                                  Traceback (most recent call last)",
      "Cell \u001b[1;32mIn[44], line 1\u001b[0m\n\u001b[1;32m----> 1\u001b[0m element2[\u001b[38;5;241m3\u001b[39m]\u001b[38;5;241m.\u001b[39mfind(\u001b[38;5;124m'\u001b[39m\u001b[38;5;124mspan\u001b[39m\u001b[38;5;124m'\u001b[39m, class_\u001b[38;5;241m=\u001b[39m\u001b[38;5;124m\"\u001b[39m\u001b[38;5;124msection-gallery-wrapper flexbox\u001b[39m\u001b[38;5;124m\"\u001b[39m)\u001b[38;5;241m.\u001b[39mtext\n",
      "File \u001b[1;32m~\\anaconda3\\Lib\\site-packages\\bs4\\element.py:1573\u001b[0m, in \u001b[0;36mTag.__getitem__\u001b[1;34m(self, key)\u001b[0m\n\u001b[0;32m   1570\u001b[0m \u001b[38;5;28;01mdef\u001b[39;00m \u001b[38;5;21m__getitem__\u001b[39m(\u001b[38;5;28mself\u001b[39m, key):\n\u001b[0;32m   1571\u001b[0m \u001b[38;5;250m    \u001b[39m\u001b[38;5;124;03m\"\"\"tag[key] returns the value of the 'key' attribute for the Tag,\u001b[39;00m\n\u001b[0;32m   1572\u001b[0m \u001b[38;5;124;03m    and throws an exception if it's not there.\"\"\"\u001b[39;00m\n\u001b[1;32m-> 1573\u001b[0m     \u001b[38;5;28;01mreturn\u001b[39;00m \u001b[38;5;28mself\u001b[39m\u001b[38;5;241m.\u001b[39mattrs[key]\n",
      "\u001b[1;31mKeyError\u001b[0m: 3"
     ]
    }
   ],
   "source": [
    "element2[3].find('span', class_=\"section-gallery-wrapper flexbox\").text"
   ]
  },
  {
   "cell_type": "code",
   "execution_count": null,
   "id": "630e7d08",
   "metadata": {},
   "outputs": [],
   "source": [
    "for i in element2:\n",
    "    print(element2[i].text)\n"
   ]
  },
  {
   "cell_type": "code",
   "execution_count": null,
   "id": "16549bea",
   "metadata": {},
   "outputs": [],
   "source": [
    "type(element2)"
   ]
  },
  {
   "cell_type": "code",
   "execution_count": null,
   "id": "22f9108f",
   "metadata": {},
   "outputs": [],
   "source": []
  },
  {
   "cell_type": "code",
   "execution_count": null,
   "id": "88f11455",
   "metadata": {},
   "outputs": [],
   "source": []
  }
 ],
 "metadata": {
  "kernelspec": {
   "display_name": "Python 3 (ipykernel)",
   "language": "python",
   "name": "python3"
  },
  "language_info": {
   "codemirror_mode": {
    "name": "ipython",
    "version": 3
   },
   "file_extension": ".py",
   "mimetype": "text/x-python",
   "name": "python",
   "nbconvert_exporter": "python",
   "pygments_lexer": "ipython3",
   "version": "3.11.4"
  }
 },
 "nbformat": 4,
 "nbformat_minor": 5
}
