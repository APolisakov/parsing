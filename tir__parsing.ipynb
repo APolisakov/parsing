{
 "cells": [
  {
   "cell_type": "markdown",
   "id": "f661d034",
   "metadata": {},
   "source": [
    "# parsing_tir"
   ]
  },
  {
   "cell_type": "code",
   "execution_count": 1,
   "id": "c0a16e5a",
   "metadata": {},
   "outputs": [],
   "source": [
    "import pandas as pd\n",
    "import numpy as np\n",
    "import requests\n",
    "from bs4 import BeautifulSoup as bs\n",
    "import re\n",
    "from tqdm.notebook import trange, tqdm\n",
    "from tqdm.gui import tqdm as tqdm_gui\n",
    "import datetime as dt\n",
    "import seaborn as sns\n",
    "import matplotlib.pyplot as plt\n",
    "from IPython.display import display\n"
   ]
  },
  {
   "cell_type": "markdown",
   "id": "50e2394a",
   "metadata": {},
   "source": [
    "импорт библиотек"
   ]
  },
  {
   "cell_type": "markdown",
   "id": "e0b0f754",
   "metadata": {},
   "source": [
    "import warnings\n",
    "warnings.filterwarnings('ignore')"
   ]
  },
  {
   "cell_type": "code",
   "execution_count": 2,
   "id": "39938688",
   "metadata": {},
   "outputs": [],
   "source": [
    "pd.set_option('display.max_colwidth', 1000)\n",
    "pd.set_option('display.max_columns', 1000)\n",
    "pd.set_option('display.max_rows', 1000)"
   ]
  },
  {
   "cell_type": "markdown",
   "id": "8eefd992",
   "metadata": {},
   "source": [
    "reqx = requests.get('https://tiraet.com/catalog/bytovaya/?PAGEN_1=102')"
   ]
  },
  {
   "cell_type": "markdown",
   "id": "7415164c",
   "metadata": {},
   "source": [
    "soup = bs(reqx.text, 'html.parser')"
   ]
  },
  {
   "cell_type": "markdown",
   "id": "3d3d5bdd",
   "metadata": {},
   "source": [
    "element = soup.findAll('div', class_='item_info')"
   ]
  },
  {
   "cell_type": "markdown",
   "id": "4e5df1e1",
   "metadata": {},
   "source": [
    "element"
   ]
  },
  {
   "cell_type": "markdown",
   "id": "078b1fe2",
   "metadata": {},
   "source": [
    "title = element[7].find('a', class_='dark_link js-notice-block__title option-font-bold font_sm').text.strip()\n",
    "title"
   ]
  },
  {
   "cell_type": "markdown",
   "id": "2ea6e209",
   "metadata": {},
   "source": [
    "создаем переменную с наименованием товара"
   ]
  },
  {
   "cell_type": "markdown",
   "id": "7a72ff0e",
   "metadata": {},
   "source": [
    "urls = 'https://tiraet.com' + element[7].find('a', class_='dark_link js-notice-block__title option-font-bold font_sm')['href']"
   ]
  },
  {
   "cell_type": "markdown",
   "id": "d2799659",
   "metadata": {
    "scrolled": true
   },
   "source": [
    "counts = element[0].find('div', class_='item-stock js-show-stores js-show-info-block').text.strip()"
   ]
  },
  {
   "cell_type": "markdown",
   "id": "e8850e8c",
   "metadata": {},
   "source": [
    "art = int(element[0].find('div', class_='article_block').text.replace('Арт.: ',''))"
   ]
  },
  {
   "cell_type": "markdown",
   "id": "e8f1dbb7",
   "metadata": {},
   "source": [
    "price = float(element[7].find('div', class_='price_matrix_wrapper').text.strip().replace(' руб','').replace(',','.').replace(' ',''))"
   ]
  },
  {
   "cell_type": "markdown",
   "id": "5df9e50b",
   "metadata": {},
   "source": [
    "old_price = float(element[7].find('div', class_='price_matrix_wrapper strike_block').text.strip().replace(' руб','').replace(',','.').replace(' ','')) if str(type(element[7].find('div', class_='price_matrix_wrapper strike_block'))) != \"<class 'NoneType'>\" else 0"
   ]
  },
  {
   "cell_type": "markdown",
   "id": "a49e8976",
   "metadata": {},
   "source": [
    "datе = pd.to_datetime('today').normalize()"
   ]
  },
  {
   "cell_type": "markdown",
   "id": "b3db29fa",
   "metadata": {},
   "source": [
    "data = []\n",
    "for i in element:\n",
    "    data.append({'title' : i.find('a', class_='dark_link js-notice-block__title option-font-bold font_sm').text.strip(),\n",
    "                 'urls' : 'https://tiraet.com' + i.find('a', class_='dark_link js-notice-block__title option-font-bold font_sm')['href'],  \n",
    "                 'datе' : pd.to_datetime('today').normalize(),                \n",
    "                 'counts' : i.find('div', class_='item-stock js-show-stores js-show-info-block').text.strip(),\n",
    "                'id' : int(i.find('div', class_='article_block').text.replace('Арт.: ','')),\n",
    "                 'price' : float(i.find('div', class_='price_matrix_wrapper').text.strip().replace(' руб','').replace(',','.').replace(' ','')) if str(type(i.find('div', class_='price_matrix_wrapper'))) != \"<class 'NoneType'>\" else np.NaN    ,\n",
    "                 'old_price' : float(i.find('div', class_='price_matrix_wrapper strike_block').text.strip().replace(' руб','').replace(',','.').replace(' ','')) if str(type(i.find('div', class_='price_matrix_wrapper strike_block'))) != \"<class 'NoneType'>\" else np.NaN                \n",
    "                })"
   ]
  },
  {
   "cell_type": "markdown",
   "id": "db2db2a7",
   "metadata": {},
   "source": [
    "data = pd.DataFrame(data)\n",
    "data"
   ]
  },
  {
   "cell_type": "code",
   "execution_count": 3,
   "id": "5a09642a",
   "metadata": {},
   "outputs": [],
   "source": [
    "def preprocessing(x):\n",
    "    print(f'таблица имеет следующий вид:')\n",
    "    display(x.head())\n",
    "    print('*'*100)\n",
    "    print(f'таблица имеет {x.shape[0]} сторок и {x.shape[1]} столбцов')\n",
    "    print('*'*100)\n",
    "    print(f'в таблице обнаружено дублекатов:{x.duplicated().sum()}')\n",
    "    print('*'*100)\n",
    "    print('в таблице обнаружены пропуски в следующих столбцах:')\n",
    "    display(x.isna().sum())\n",
    "    print('*'*100)\n",
    "    print('Эти пропуски составлябт следующее количество в процентах')\n",
    "    display((x.isna().mean()* 100).round(1))\n",
    "    print('*'*100)\n",
    "    print('столбцы имеют следующие типы:')\n",
    "    display(x.dtypes)\n",
    "    x.columns = [y.lower().replace(' ', '_') for y in x.columns.values] \n",
    "    print('*'*100)\n",
    "    print('названия столбцов переписаны в нижнем регистре, пробелы заменены на нижнее подчеркивание')\n",
    "    print('*'*100)\n",
    "    display(x.info())"
   ]
  },
  {
   "cell_type": "markdown",
   "id": "d21da9cc",
   "metadata": {},
   "source": [
    "создаем функцию предварительного просмотра данных"
   ]
  },
  {
   "cell_type": "code",
   "execution_count": 4,
   "id": "f77f3847",
   "metadata": {},
   "outputs": [],
   "source": [
    "url = ['https://tiraet.com/catalog/PHoto--i-video/?PAGEN_1=']"
   ]
  },
  {
   "cell_type": "code",
   "execution_count": 5,
   "id": "e5f55a23",
   "metadata": {},
   "outputs": [],
   "source": [
    "url = ['https://tiraet.com/catalog/bytovaya/?PAGEN_1=102'] "
   ]
  },
  {
   "cell_type": "code",
   "execution_count": 6,
   "id": "aefab233",
   "metadata": {},
   "outputs": [],
   "source": [
    "oll_url=['https://tiraet.com/catalog/Komplektujuschie/?PAGEN_1=',\n",
    "         'https://tiraet.com/catalog/2873/?PAGEN_1=',\n",
    "         'https://tiraet.com/catalog/Kompjuternaja-mebel/?PAGEN_1=',\n",
    "         'https://tiraet.com/catalog/bytovaya/?PAGEN_1=',\n",
    "         'https://tiraet.com/catalog/ohrannye-sistemy/?PAGEN_1=',\n",
    "         'https://tiraet.com/catalog/svet-i-jelektrika/?PAGEN_1=',\n",
    "         'https://tiraet.com/catalog/orgtehnika/?PAGEN_1=',\n",
    "         'https://tiraet.com/catalog/PHoto--i-video/?PAGEN_1=',\n",
    "         'https://tiraet.com/catalog/setevoe-oborudovanie/?PAGEN_1=',\n",
    "         'https://tiraet.com/catalog/jelektropitanie/?PAGEN_1=',\n",
    "         'https://tiraet.com/catalog/uslugi/?PAGEN_1=',\n",
    "         'https://tiraet.com/catalog/avtojelektronika/?PAGEN_1=',\n",
    "         'https://tiraet.com/catalog/rashodnye-materialy/?PAGEN_1=',\n",
    "         \n",
    "]"
   ]
  },
  {
   "cell_type": "code",
   "execution_count": 7,
   "id": "7696c601",
   "metadata": {},
   "outputs": [],
   "source": [
    "j=1\n",
    "def parsing_2(url):\n",
    "    data = pd.DataFrame(columns=['title', 'urls', 'datе', 'counts', 'id', 'price', 'old_price'])    \n",
    "    for u in url:\n",
    "        reqx = requests.get(u)\n",
    "        soup = bs(reqx.text, 'html.parser')\n",
    "        max_page = soup.findAll('div', class_='nums')\n",
    "        maxx = int(max_page[0].text.strip().split('\\n')[-1])\n",
    "        for j in tqdm(range(1,maxx + 1)):        \n",
    "            reqx = requests.get(u + str(j))\n",
    "            soup = bs(reqx.text, 'html.parser')\n",
    "            element = soup.findAll('div', class_='item_info')\n",
    "            datax = []\n",
    "            for i in element:\n",
    "                datax.append({'title' : i.find('a', class_='dark_link js-notice-block__title option-font-bold font_sm').text.strip(),\n",
    "                             'urls' : 'https://tiraet.com' + i.find('a', class_='dark_link js-notice-block__title option-font-bold font_sm')['href'],\n",
    "                             'datе' : pd.to_datetime('today').normalize(),\n",
    "                             'counts' : i.find('div', class_='item-stock js-show-stores js-show-info-block').text.strip(),\n",
    "                             'id' : int(i.find('div', class_='article_block').text.replace('Арт.: ','')),\n",
    "                             'price' : float(i.find('div', class_='price_matrix_wrapper').text.strip().replace(' руб','').replace(',','.').replace(' ','')) if str(type(i.find('div', class_='price_matrix_wrapper'))) != \"<class 'NoneType'>\" else np.NaN ,\n",
    "                             'old_price' : float(i.find('div', class_='price_matrix_wrapper strike_block').text.strip().replace(' руб','').replace(',','.').replace(' ','')) if str(type(i.find('div', class_='price_matrix_wrapper strike_block'))) != \"<class 'NoneType'>\" else np.NaN \n",
    "                            })\n",
    "            datax = pd.DataFrame(datax)\n",
    "            data = pd.concat([data, datax] , ignore_index=True)\n",
    "    return data"
   ]
  },
  {
   "cell_type": "markdown",
   "id": "1bca0b9a",
   "metadata": {},
   "source": [
    "- 179\n",
    "- 16\n",
    "- 23\n",
    "- 100\n",
    "- 33\n",
    "- 60\n",
    "- 10\n",
    "- 4\n",
    "- 31\n",
    "- 25\n",
    "- 5\n",
    "- 5\n",
    "- 81"
   ]
  },
  {
   "cell_type": "code",
   "execution_count": 8,
   "id": "580002b9",
   "metadata": {
    "scrolled": false
   },
   "outputs": [
    {
     "data": {
      "application/vnd.jupyter.widget-view+json": {
       "model_id": "8d64676591af4993be0eae0924d151a0",
       "version_major": 2,
       "version_minor": 0
      },
      "text/plain": [
       "  0%|          | 0/185 [00:00<?, ?it/s]"
      ]
     },
     "metadata": {},
     "output_type": "display_data"
    },
    {
     "data": {
      "application/vnd.jupyter.widget-view+json": {
       "model_id": "9e6023f2c7f94aebb8f46be70d50385d",
       "version_major": 2,
       "version_minor": 0
      },
      "text/plain": [
       "  0%|          | 0/16 [00:00<?, ?it/s]"
      ]
     },
     "metadata": {},
     "output_type": "display_data"
    },
    {
     "data": {
      "application/vnd.jupyter.widget-view+json": {
       "model_id": "2638825f08c84a41bac870d2a7038a5f",
       "version_major": 2,
       "version_minor": 0
      },
      "text/plain": [
       "  0%|          | 0/25 [00:00<?, ?it/s]"
      ]
     },
     "metadata": {},
     "output_type": "display_data"
    },
    {
     "data": {
      "application/vnd.jupyter.widget-view+json": {
       "model_id": "d429ca59b9f843409ff78390728f47d7",
       "version_major": 2,
       "version_minor": 0
      },
      "text/plain": [
       "  0%|          | 0/102 [00:00<?, ?it/s]"
      ]
     },
     "metadata": {},
     "output_type": "display_data"
    },
    {
     "data": {
      "application/vnd.jupyter.widget-view+json": {
       "model_id": "933a120d908c4404a956105dc6f83b8a",
       "version_major": 2,
       "version_minor": 0
      },
      "text/plain": [
       "  0%|          | 0/33 [00:00<?, ?it/s]"
      ]
     },
     "metadata": {},
     "output_type": "display_data"
    },
    {
     "data": {
      "application/vnd.jupyter.widget-view+json": {
       "model_id": "463fdc9425dd4107bda0496c65c1b87c",
       "version_major": 2,
       "version_minor": 0
      },
      "text/plain": [
       "  0%|          | 0/60 [00:00<?, ?it/s]"
      ]
     },
     "metadata": {},
     "output_type": "display_data"
    },
    {
     "data": {
      "application/vnd.jupyter.widget-view+json": {
       "model_id": "c571dfba58cd461fb9beaa0400b17aaf",
       "version_major": 2,
       "version_minor": 0
      },
      "text/plain": [
       "  0%|          | 0/12 [00:00<?, ?it/s]"
      ]
     },
     "metadata": {},
     "output_type": "display_data"
    },
    {
     "data": {
      "application/vnd.jupyter.widget-view+json": {
       "model_id": "8c7ca3518dd845e1b414b9abe6ba9904",
       "version_major": 2,
       "version_minor": 0
      },
      "text/plain": [
       "  0%|          | 0/4 [00:00<?, ?it/s]"
      ]
     },
     "metadata": {},
     "output_type": "display_data"
    },
    {
     "data": {
      "application/vnd.jupyter.widget-view+json": {
       "model_id": "82441084f30b46998ce40f46b5151cf6",
       "version_major": 2,
       "version_minor": 0
      },
      "text/plain": [
       "  0%|          | 0/32 [00:00<?, ?it/s]"
      ]
     },
     "metadata": {},
     "output_type": "display_data"
    },
    {
     "data": {
      "application/vnd.jupyter.widget-view+json": {
       "model_id": "79cea9d5d7634d768a31372fbde79a9f",
       "version_major": 2,
       "version_minor": 0
      },
      "text/plain": [
       "  0%|          | 0/25 [00:00<?, ?it/s]"
      ]
     },
     "metadata": {},
     "output_type": "display_data"
    },
    {
     "data": {
      "application/vnd.jupyter.widget-view+json": {
       "model_id": "7e11ca4ea9c5448bb9aa9a4f330e7895",
       "version_major": 2,
       "version_minor": 0
      },
      "text/plain": [
       "  0%|          | 0/5 [00:00<?, ?it/s]"
      ]
     },
     "metadata": {},
     "output_type": "display_data"
    },
    {
     "data": {
      "application/vnd.jupyter.widget-view+json": {
       "model_id": "4bdbd3ee17c74b51944228ebeb940044",
       "version_major": 2,
       "version_minor": 0
      },
      "text/plain": [
       "  0%|          | 0/6 [00:00<?, ?it/s]"
      ]
     },
     "metadata": {},
     "output_type": "display_data"
    },
    {
     "data": {
      "application/vnd.jupyter.widget-view+json": {
       "model_id": "18f8bae8e3cd4fa6bbcc94b94ca45338",
       "version_major": 2,
       "version_minor": 0
      },
      "text/plain": [
       "  0%|          | 0/80 [00:00<?, ?it/s]"
      ]
     },
     "metadata": {},
     "output_type": "display_data"
    },
    {
     "data": {
      "text/html": [
       "<div>\n",
       "<style scoped>\n",
       "    .dataframe tbody tr th:only-of-type {\n",
       "        vertical-align: middle;\n",
       "    }\n",
       "\n",
       "    .dataframe tbody tr th {\n",
       "        vertical-align: top;\n",
       "    }\n",
       "\n",
       "    .dataframe thead th {\n",
       "        text-align: right;\n",
       "    }\n",
       "</style>\n",
       "<table border=\"1\" class=\"dataframe\">\n",
       "  <thead>\n",
       "    <tr style=\"text-align: right;\">\n",
       "      <th></th>\n",
       "      <th>title</th>\n",
       "      <th>urls</th>\n",
       "      <th>datе</th>\n",
       "      <th>counts</th>\n",
       "      <th>id</th>\n",
       "      <th>price</th>\n",
       "      <th>old_price</th>\n",
       "    </tr>\n",
       "  </thead>\n",
       "  <tbody>\n",
       "    <tr>\n",
       "      <th>0</th>\n",
       "      <td>HDD 3.5 SAS 3.0, 12Gb/s, 4Tb SEAGATE Exos 7E10 (ST4000NM001B) (7200rpm, 256Mb)</td>\n",
       "      <td>https://tiraet.com/catalog/Komplektujuschie/komplektujuschie/zhestkie-diski/hdd_3_5_sas_3_0_12gb_s_4tb_seagate_exos_7e10_st4000nm001b_7200rpm_256mb/</td>\n",
       "      <td>2024-06-20</td>\n",
       "      <td>Мало</td>\n",
       "      <td>86622</td>\n",
       "      <td>NaN</td>\n",
       "      <td>NaN</td>\n",
       "    </tr>\n",
       "    <tr>\n",
       "      <th>1</th>\n",
       "      <td>Переходник для мыши COM в PS/2 (A-235)</td>\n",
       "      <td>https://tiraet.com/catalog/Komplektujuschie/aksessuarycomp/kabelja-udliniteli-i-perehodniki/Perehodnik-dlja-myshi-COM-v-PS2-A-235/</td>\n",
       "      <td>2024-06-20</td>\n",
       "      <td>Много</td>\n",
       "      <td>284</td>\n",
       "      <td>5.0</td>\n",
       "      <td>NaN</td>\n",
       "    </tr>\n",
       "    <tr>\n",
       "      <th>2</th>\n",
       "      <td>Кабель MINI USB2.0 (A - MINI USB 4PM)1,8м (CC-USB2-AM4P-6)</td>\n",
       "      <td>https://tiraet.com/catalog/Komplektujuschie/aksessuarycomp/kabelja-udliniteli-i-perehodniki/kabel-mini-usb20-a---mini-usb-4pm18m-cc-usb2-am4p-6/</td>\n",
       "      <td>2024-06-20</td>\n",
       "      <td>Много</td>\n",
       "      <td>8683</td>\n",
       "      <td>5.0</td>\n",
       "      <td>NaN</td>\n",
       "    </tr>\n",
       "    <tr>\n",
       "      <th>3</th>\n",
       "      <td>BOX для CD/DVD Verbatim Slim, на 1 диск 120мм,  PVC (49979) Black 1шт</td>\n",
       "      <td>https://tiraet.com/catalog/Komplektujuschie/aksessuarycomp/sumki-dlja-diskov/box_dlya_cd_dvd_verbatim_slim_na_1_disk_120mm_pvc_49979_black_1sht/</td>\n",
       "      <td>2024-06-20</td>\n",
       "      <td>Много</td>\n",
       "      <td>85078</td>\n",
       "      <td>6.6</td>\n",
       "      <td>NaN</td>\n",
       "    </tr>\n",
       "    <tr>\n",
       "      <th>4</th>\n",
       "      <td>Диск CD-R 700MB VERBATIM, 52X (1шт) EXTRA PROTECTION(43411/43351/43437)</td>\n",
       "      <td>https://tiraet.com/catalog/Komplektujuschie/aksessuarycomp/diski/disk_cdr_700mb_verbatim_52x_1sht_extra_protection_43411_43351_43437/</td>\n",
       "      <td>2024-06-20</td>\n",
       "      <td>Много</td>\n",
       "      <td>12819</td>\n",
       "      <td>6.6</td>\n",
       "      <td>NaN</td>\n",
       "    </tr>\n",
       "    <tr>\n",
       "      <th>...</th>\n",
       "      <td>...</td>\n",
       "      <td>...</td>\n",
       "      <td>...</td>\n",
       "      <td>...</td>\n",
       "      <td>...</td>\n",
       "      <td>...</td>\n",
       "      <td>...</td>\n",
       "    </tr>\n",
       "    <tr>\n",
       "      <th>11581</th>\n",
       "      <td>Головка для плоттеров Canon PF-03 (2251B001)</td>\n",
       "      <td>https://tiraet.com/catalog/rashodnye-materialy/zapchasti-dlja-printerov-i-kopirov/zapchasti_print/golovka-dlja-plotterov-canon-pf-03-2251b001/</td>\n",
       "      <td>2024-06-20</td>\n",
       "      <td>Мало</td>\n",
       "      <td>27477</td>\n",
       "      <td>7920.0</td>\n",
       "      <td>NaN</td>\n",
       "    </tr>\n",
       "    <tr>\n",
       "      <th>11582</th>\n",
       "      <td>Узел термозакрепления (для сетевых апп)CANON iR2202/2204(FM1-F162-0XX)</td>\n",
       "      <td>https://tiraet.com/catalog/rashodnye-materialy/zapchasti-dlja-printerov-i-kopirov/zapchasti_print/uzel_termozakrepleniya_dlya_setevykh_app_canon_ir2202_2204_fm1_f162_0xx/</td>\n",
       "      <td>2024-06-20</td>\n",
       "      <td>Мало</td>\n",
       "      <td>55309</td>\n",
       "      <td>8085.0</td>\n",
       "      <td>NaN</td>\n",
       "    </tr>\n",
       "    <tr>\n",
       "      <th>11583</th>\n",
       "      <td>Головка для плоттеров Canon PF-04 (3630B001)</td>\n",
       "      <td>https://tiraet.com/catalog/rashodnye-materialy/zapchasti-dlja-printerov-i-kopirov/zapchasti_print/golovka_dlya_plotterov_canon_pf_04_3630b001/</td>\n",
       "      <td>2024-06-20</td>\n",
       "      <td>Мало</td>\n",
       "      <td>56144</td>\n",
       "      <td>8250.0</td>\n",
       "      <td>NaN</td>\n",
       "    </tr>\n",
       "    <tr>\n",
       "      <th>11584</th>\n",
       "      <td>Картридж EPSON MX-80/LX-300/400/800/850/880 Patron</td>\n",
       "      <td>https://tiraet.com/catalog/rashodnye-materialy/Rashodnye-k-matrichnym-printeram-kartridzhi-lenty/kartridji_matr/kartridzh-epson-lx-300400800850880mx-80/</td>\n",
       "      <td>2024-06-20</td>\n",
       "      <td>Нет в наличии</td>\n",
       "      <td>249</td>\n",
       "      <td>38.0</td>\n",
       "      <td>NaN</td>\n",
       "    </tr>\n",
       "    <tr>\n",
       "      <th>11585</th>\n",
       "      <td>Комплект восстановления Canon IR-1435  CET5280N (фотобарабан, ракель, ВПЗ,чип ф/б)</td>\n",
       "      <td>https://tiraet.com/catalog/rashodnye-materialy/Rashodnye-k-lazernym-printeram-kartridzhi-toner/chip_laser/komplekt_vosstanovleniya_canon_ir_1435_cet5280n_fotobaraban_rakel_vpz_chip_f_b/</td>\n",
       "      <td>2024-06-20</td>\n",
       "      <td>Нет в наличии</td>\n",
       "      <td>68689</td>\n",
       "      <td>594.0</td>\n",
       "      <td>NaN</td>\n",
       "    </tr>\n",
       "  </tbody>\n",
       "</table>\n",
       "<p>11586 rows × 7 columns</p>\n",
       "</div>"
      ],
      "text/plain": [
       "                                                                                    title  \\\n",
       "0          HDD 3.5 SAS 3.0, 12Gb/s, 4Tb SEAGATE Exos 7E10 (ST4000NM001B) (7200rpm, 256Mb)   \n",
       "1                                                  Переходник для мыши COM в PS/2 (A-235)   \n",
       "2                              Кабель MINI USB2.0 (A - MINI USB 4PM)1,8м (CC-USB2-AM4P-6)   \n",
       "3                   BOX для CD/DVD Verbatim Slim, на 1 диск 120мм,  PVC (49979) Black 1шт   \n",
       "4                 Диск CD-R 700MB VERBATIM, 52X (1шт) EXTRA PROTECTION(43411/43351/43437)   \n",
       "...                                                                                   ...   \n",
       "11581                                        Головка для плоттеров Canon PF-03 (2251B001)   \n",
       "11582              Узел термозакрепления (для сетевых апп)CANON iR2202/2204(FM1-F162-0XX)   \n",
       "11583                                        Головка для плоттеров Canon PF-04 (3630B001)   \n",
       "11584                                  Картридж EPSON MX-80/LX-300/400/800/850/880 Patron   \n",
       "11585  Комплект восстановления Canon IR-1435  CET5280N (фотобарабан, ракель, ВПЗ,чип ф/б)   \n",
       "\n",
       "                                                                                                                                                                                            urls  \\\n",
       "0                                           https://tiraet.com/catalog/Komplektujuschie/komplektujuschie/zhestkie-diski/hdd_3_5_sas_3_0_12gb_s_4tb_seagate_exos_7e10_st4000nm001b_7200rpm_256mb/   \n",
       "1                                                             https://tiraet.com/catalog/Komplektujuschie/aksessuarycomp/kabelja-udliniteli-i-perehodniki/Perehodnik-dlja-myshi-COM-v-PS2-A-235/   \n",
       "2                                               https://tiraet.com/catalog/Komplektujuschie/aksessuarycomp/kabelja-udliniteli-i-perehodniki/kabel-mini-usb20-a---mini-usb-4pm18m-cc-usb2-am4p-6/   \n",
       "3                                               https://tiraet.com/catalog/Komplektujuschie/aksessuarycomp/sumki-dlja-diskov/box_dlya_cd_dvd_verbatim_slim_na_1_disk_120mm_pvc_49979_black_1sht/   \n",
       "4                                                          https://tiraet.com/catalog/Komplektujuschie/aksessuarycomp/diski/disk_cdr_700mb_verbatim_52x_1sht_extra_protection_43411_43351_43437/   \n",
       "...                                                                                                                                                                                          ...   \n",
       "11581                                             https://tiraet.com/catalog/rashodnye-materialy/zapchasti-dlja-printerov-i-kopirov/zapchasti_print/golovka-dlja-plotterov-canon-pf-03-2251b001/   \n",
       "11582                 https://tiraet.com/catalog/rashodnye-materialy/zapchasti-dlja-printerov-i-kopirov/zapchasti_print/uzel_termozakrepleniya_dlya_setevykh_app_canon_ir2202_2204_fm1_f162_0xx/   \n",
       "11583                                             https://tiraet.com/catalog/rashodnye-materialy/zapchasti-dlja-printerov-i-kopirov/zapchasti_print/golovka_dlya_plotterov_canon_pf_04_3630b001/   \n",
       "11584                                   https://tiraet.com/catalog/rashodnye-materialy/Rashodnye-k-matrichnym-printeram-kartridzhi-lenty/kartridji_matr/kartridzh-epson-lx-300400800850880mx-80/   \n",
       "11585  https://tiraet.com/catalog/rashodnye-materialy/Rashodnye-k-lazernym-printeram-kartridzhi-toner/chip_laser/komplekt_vosstanovleniya_canon_ir_1435_cet5280n_fotobaraban_rakel_vpz_chip_f_b/   \n",
       "\n",
       "            datе         counts     id   price  old_price  \n",
       "0     2024-06-20           Мало  86622     NaN        NaN  \n",
       "1     2024-06-20          Много    284     5.0        NaN  \n",
       "2     2024-06-20          Много   8683     5.0        NaN  \n",
       "3     2024-06-20          Много  85078     6.6        NaN  \n",
       "4     2024-06-20          Много  12819     6.6        NaN  \n",
       "...          ...            ...    ...     ...        ...  \n",
       "11581 2024-06-20           Мало  27477  7920.0        NaN  \n",
       "11582 2024-06-20           Мало  55309  8085.0        NaN  \n",
       "11583 2024-06-20           Мало  56144  8250.0        NaN  \n",
       "11584 2024-06-20  Нет в наличии    249    38.0        NaN  \n",
       "11585 2024-06-20  Нет в наличии  68689   594.0        NaN  \n",
       "\n",
       "[11586 rows x 7 columns]"
      ]
     },
     "execution_count": 8,
     "metadata": {},
     "output_type": "execute_result"
    }
   ],
   "source": [
    "df = parsing_2(oll_url)\n",
    "df"
   ]
  },
  {
   "cell_type": "code",
   "execution_count": 9,
   "id": "898e3a24",
   "metadata": {},
   "outputs": [],
   "source": [
    "df.to_csv('csv/tiraet_'+dt.datetime.now().strftime('%Y_%m_%d')+'.csv', index=False)  "
   ]
  },
  {
   "cell_type": "code",
   "execution_count": 10,
   "id": "a7b6943b",
   "metadata": {},
   "outputs": [],
   "source": [
    "df = pd.read_csv('csv/tiraet_'+dt.datetime.now().strftime('%Y_%m_%d')+'.csv')"
   ]
  },
  {
   "cell_type": "code",
   "execution_count": 11,
   "id": "d3fd7242",
   "metadata": {},
   "outputs": [],
   "source": [
    "tiraet_group = pd.read_csv('csv/atiraet_group.csv', sep = '%')"
   ]
  },
  {
   "cell_type": "code",
   "execution_count": 12,
   "id": "c3dd1bda",
   "metadata": {},
   "outputs": [],
   "source": [
    "df = df.merge(tiraet_group, how='left', on='id')"
   ]
  },
  {
   "cell_type": "code",
   "execution_count": 13,
   "id": "4e41f74c",
   "metadata": {},
   "outputs": [],
   "source": [
    "df_new = df[(df['_category'].isna()) | (df['_subcategory'].isna()) | (df['_group'].isna())]"
   ]
  },
  {
   "cell_type": "code",
   "execution_count": 14,
   "id": "166c2367",
   "metadata": {},
   "outputs": [],
   "source": [
    "df = df[~((df['_category'].isna()) | (df['_subcategory'].isna()) | (df['_group'].isna()))]"
   ]
  },
  {
   "cell_type": "code",
   "execution_count": 15,
   "id": "6576fb53",
   "metadata": {},
   "outputs": [],
   "source": [
    "def find_groups(x):\n",
    "    reqx = requests.get(x)\n",
    "    soup = bs(reqx.text, 'html.parser')    \n",
    "    elem_1 = soup.findAll('a', class_='breadcrumbs__link colored_theme_hover_bg-el-svg')\n",
    "    elem_2 = soup.findAll('div', class_='breadcrumbs__item')\n",
    "    try:\n",
    "        if len(elem_1) <=2:\n",
    "            if len(elem_2) <= 4:\n",
    "                d_14 = (elem_1[0].text.replace(',','').replace(' ','_').lower())\n",
    "                d_15 = (elem_1[1].text.replace(',','').replace(' ','_').lower())\n",
    "                d_16 = (elem_1[1].text.replace(',','').replace(' ','_').lower())\n",
    "            else:\n",
    "                d_14 = (elem_1[0].text.replace(',','').replace(' ','_').lower())\n",
    "                d_15 = (elem_1[1].text.replace(',','').replace(' ','_').lower())\n",
    "                d_16 = (elem_2[4].text.replace(',','').replace(' ','_').lower())\n",
    "        else:\n",
    "            d_14 = (elem_1[0].text.replace(',','').replace(' ','_').lower())\n",
    "            d_15 = (elem_1[1].text.replace(',','').replace(' ','_').lower())\n",
    "            d_16 = (elem_1[2].text.replace(',','').replace(' ','_').lower())\n",
    "    except:\n",
    "        d_14 = 'err_'\n",
    "        d_15 = 'err_'\n",
    "        d_16 = 'err_'\n",
    "        \n",
    "    return pd.Series([ (d_14), (d_15), (d_16)])"
   ]
  },
  {
   "cell_type": "code",
   "execution_count": null,
   "id": "1f8cd323",
   "metadata": {},
   "outputs": [
    {
     "data": {
      "application/vnd.jupyter.widget-view+json": {
       "model_id": "d9d780c28ab8408298df8e2b1a3369a2",
       "version_major": 2,
       "version_minor": 0
      },
      "text/plain": [
       "  0%|          | 0/11586 [00:00<?, ?it/s]"
      ]
     },
     "metadata": {},
     "output_type": "display_data"
    }
   ],
   "source": [
    "tqdm.pandas() \n",
    "df_new[['_category','_subcategory','_group']] = df_new['urls'].progress_apply(find_groups)"
   ]
  },
  {
   "cell_type": "code",
   "execution_count": null,
   "id": "764bf76c",
   "metadata": {},
   "outputs": [],
   "source": [
    "df_new._category.unique()"
   ]
  },
  {
   "cell_type": "code",
   "execution_count": null,
   "id": "d64a4f3a",
   "metadata": {},
   "outputs": [],
   "source": [
    "df_new._subcategory.unique()"
   ]
  },
  {
   "cell_type": "code",
   "execution_count": null,
   "id": "c92b1793",
   "metadata": {},
   "outputs": [],
   "source": [
    "df_new._group.unique()"
   ]
  },
  {
   "cell_type": "code",
   "execution_count": null,
   "id": "fa7c8b3a",
   "metadata": {},
   "outputs": [],
   "source": [
    "data = df_new[~(df_new['_category']=='err_')].reset_index(drop=True)\n",
    "data = data[['id', '_category','_subcategory','_group' ]]\n",
    "data = data.sort_values(['_category','_subcategory', '_group'])"
   ]
  },
  {
   "cell_type": "code",
   "execution_count": null,
   "id": "beadf0c9",
   "metadata": {},
   "outputs": [],
   "source": [
    "tiraet_group = pd.concat([tiraet_group, data], ignore_index=True).sort_values(['_category','_subcategory', '_group']).reset_index(drop=True)\n",
    "tiraet_group.to_csv('csv/atiraet_group.csv', index=False, sep='%')  "
   ]
  },
  {
   "cell_type": "code",
   "execution_count": null,
   "id": "0b2757e7",
   "metadata": {},
   "outputs": [],
   "source": [
    "df = pd.concat([df, df_new], ignore_index=True).sort_values(['_category','_subcategory', '_group']).reset_index(drop=True)"
   ]
  },
  {
   "cell_type": "code",
   "execution_count": null,
   "id": "dae34514",
   "metadata": {},
   "outputs": [],
   "source": [
    "df.to_csv('csv/tiraet_final_'+dt.datetime.now().strftime('%Y_%m_%d')+'.csv', index=False)  "
   ]
  },
  {
   "cell_type": "code",
   "execution_count": null,
   "id": "e56f6bef",
   "metadata": {},
   "outputs": [],
   "source": []
  },
  {
   "cell_type": "code",
   "execution_count": null,
   "id": "fd300af4",
   "metadata": {},
   "outputs": [],
   "source": []
  },
  {
   "cell_type": "code",
   "execution_count": null,
   "id": "56469f75",
   "metadata": {},
   "outputs": [],
   "source": []
  },
  {
   "cell_type": "code",
   "execution_count": null,
   "id": "5ac063ea",
   "metadata": {},
   "outputs": [],
   "source": []
  },
  {
   "cell_type": "code",
   "execution_count": null,
   "id": "f44fa25c",
   "metadata": {},
   "outputs": [],
   "source": []
  },
  {
   "cell_type": "code",
   "execution_count": null,
   "id": "3cfbf34d",
   "metadata": {},
   "outputs": [],
   "source": []
  },
  {
   "cell_type": "markdown",
   "id": "b7fa1bf9",
   "metadata": {},
   "source": [
    "# Тесты"
   ]
  },
  {
   "cell_type": "code",
   "execution_count": null,
   "id": "ed8ef70e",
   "metadata": {},
   "outputs": [],
   "source": [
    "reqx = requests.get('https://tiraet.com/catalog/rashodnye-materialy/')"
   ]
  },
  {
   "cell_type": "code",
   "execution_count": null,
   "id": "6509210c",
   "metadata": {},
   "outputs": [],
   "source": [
    "soup = bs(reqx.text, 'html.parser')"
   ]
  },
  {
   "cell_type": "code",
   "execution_count": null,
   "id": "3cfe726a",
   "metadata": {},
   "outputs": [],
   "source": [
    "element2 = soup.findAll('div', class_='inner_wrap TYPE_3')"
   ]
  },
  {
   "cell_type": "code",
   "execution_count": null,
   "id": "2d57152d",
   "metadata": {},
   "outputs": [],
   "source": [
    "element2 = soup.find('span', class_=\"section-gallery-wrapper flexbox\")"
   ]
  },
  {
   "cell_type": "code",
   "execution_count": null,
   "id": "bcd25942",
   "metadata": {},
   "outputs": [],
   "source": [
    "element2[3].find('span', class_=\"section-gallery-wrapper flexbox\").text"
   ]
  },
  {
   "cell_type": "code",
   "execution_count": null,
   "id": "7c6eb5b3",
   "metadata": {},
   "outputs": [],
   "source": [
    "for i in element2:\n",
    "    print(element2[i].text)\n"
   ]
  },
  {
   "cell_type": "code",
   "execution_count": null,
   "id": "5c7eb65d",
   "metadata": {},
   "outputs": [],
   "source": [
    "type(element2)"
   ]
  },
  {
   "cell_type": "code",
   "execution_count": null,
   "id": "22f9108f",
   "metadata": {},
   "outputs": [],
   "source": []
  },
  {
   "cell_type": "code",
   "execution_count": null,
   "id": "88f11455",
   "metadata": {},
   "outputs": [],
   "source": []
  }
 ],
 "metadata": {
  "kernelspec": {
   "display_name": "Python 3 (ipykernel)",
   "language": "python",
   "name": "python3"
  },
  "language_info": {
   "codemirror_mode": {
    "name": "ipython",
    "version": 3
   },
   "file_extension": ".py",
   "mimetype": "text/x-python",
   "name": "python",
   "nbconvert_exporter": "python",
   "pygments_lexer": "ipython3",
   "version": "3.11.3"
  }
 },
 "nbformat": 4,
 "nbformat_minor": 5
}
