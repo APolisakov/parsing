{
 "cells": [
  {
   "cell_type": "code",
   "execution_count": 1,
   "id": "f84e78a4",
   "metadata": {},
   "outputs": [],
   "source": [
    "import pandas as pd\n",
    "import numpy as np\n",
    "import requests\n",
    "from bs4 import BeautifulSoup as bs\n",
    "import re\n",
    "from tqdm.notebook import trange, tqdm\n",
    "from tqdm.gui import tqdm as tqdm_gui\n",
    "from IPython.display import display\n",
    "import datetime as dt\n",
    "import seaborn as sns\n",
    "import matplotlib.pyplot as plt"
   ]
  },
  {
   "cell_type": "markdown",
   "id": "50e2394a",
   "metadata": {},
   "source": [
    "импорт библиотек"
   ]
  },
  {
   "cell_type": "code",
   "execution_count": 2,
   "id": "40b4318c",
   "metadata": {},
   "outputs": [],
   "source": [
    "import warnings\n",
    "warnings.filterwarnings('ignore')"
   ]
  },
  {
   "cell_type": "markdown",
   "id": "283df9be",
   "metadata": {},
   "source": [
    "отключение ворнингов"
   ]
  },
  {
   "cell_type": "code",
   "execution_count": 3,
   "id": "db0e2f9e",
   "metadata": {},
   "outputs": [],
   "source": [
    "pd.set_option('display.max_colwidth', 1000)\n",
    "pd.set_option('display.max_columns', 1000)\n",
    "pd.set_option('display.max_rows', 1000)"
   ]
  },
  {
   "cell_type": "markdown",
   "id": "76c6f69a",
   "metadata": {},
   "source": [
    "задание параметров таблиц"
   ]
  },
  {
   "cell_type": "code",
   "execution_count": 4,
   "id": "caf0dc2d",
   "metadata": {},
   "outputs": [],
   "source": [
    "def find_id(x):\n",
    "    xxx = x.find('span', class_=\"ty-control-group__item\").text  \n",
    "    return xxx"
   ]
  },
  {
   "cell_type": "markdown",
   "id": "df262d57",
   "metadata": {},
   "source": [
    "функция создания столбца с кодом товара"
   ]
  },
  {
   "cell_type": "code",
   "execution_count": 5,
   "id": "b416d8fa",
   "metadata": {},
   "outputs": [],
   "source": [
    "def find_availability(t):\n",
    "    xxx = (t.find('a', class_=\"ty-control-group product-list-field cm-external-click\")\n",
    "           .text.replace('\\ue924','').replace('\\ue86c','').replace('\\n',''))\n",
    "    return xxx  "
   ]
  },
  {
   "cell_type": "markdown",
   "id": "6ee99509",
   "metadata": {},
   "source": [
    "функция создания столбца с парсингом наличия товара"
   ]
  },
  {
   "cell_type": "code",
   "execution_count": 6,
   "id": "e6d33de3",
   "metadata": {},
   "outputs": [],
   "source": [
    "def find_title(t):\n",
    "    xxx = t.find('a', class_=\"product-title\").text\n",
    "    return xxx"
   ]
  },
  {
   "cell_type": "markdown",
   "id": "e55649ab",
   "metadata": {},
   "source": [
    "функция создающая столбец с названием товара"
   ]
  },
  {
   "cell_type": "code",
   "execution_count": 7,
   "id": "56b59bb4",
   "metadata": {},
   "outputs": [],
   "source": [
    "def find_price(t):\n",
    "    xxx = t.find('span', class_=\"ty-price-num\").text.replace(u'\\xa0',u'')\n",
    "    return xxx"
   ]
  },
  {
   "cell_type": "markdown",
   "id": "f1152316",
   "metadata": {},
   "source": [
    "функция создающая столбец с продажной ценой товара"
   ]
  },
  {
   "cell_type": "code",
   "execution_count": 8,
   "id": "e2e3e51e",
   "metadata": {},
   "outputs": [],
   "source": [
    "def find_old_price(t):\n",
    "    try:\n",
    "        xxx = t.find('span', class_=\"ty-strike\").text.replace(u'\\xa0',u'').replace(u'руб',u'')\n",
    "        return xxx\n",
    "    except:\n",
    "        return np.NaN"
   ]
  },
  {
   "cell_type": "markdown",
   "id": "1382201a",
   "metadata": {},
   "source": [
    "функция созжающая столбец с предидущей ценой для акционного товара"
   ]
  },
  {
   "cell_type": "code",
   "execution_count": 9,
   "id": "aa448515",
   "metadata": {},
   "outputs": [],
   "source": [
    "def find_url(t):\n",
    "    xxx = t.find('a', class_=\"abt-single-image\")['href']\n",
    "    return xxx"
   ]
  },
  {
   "cell_type": "markdown",
   "id": "6eca4a17",
   "metadata": {},
   "source": [
    "Функция создающая столбец с урл адресом товара"
   ]
  },
  {
   "cell_type": "code",
   "execution_count": 10,
   "id": "085fc63b",
   "metadata": {},
   "outputs": [],
   "source": [
    "def preprocessing(x):\n",
    "    print(f'таблица имеет следующий вид:')\n",
    "    display(x.head())\n",
    "    print('*'*100)\n",
    "    print(f'таблица имеет {x.shape[0]} сторок и {x.shape[1]} столбцов')\n",
    "    print('*'*100)\n",
    "    print(f'в таблице обнаружено дублекатов:{x.duplicated().sum()}')\n",
    "    print('*'*100)\n",
    "    print('в таблице обнаружены пропуски в следующих столбцах:')\n",
    "    display(x.isna().sum())\n",
    "    print('*'*100)\n",
    "    print('Эти пропуски составлябт следующее количество в процентах')\n",
    "    display((x.isna().mean()* 100).round(1))\n",
    "    print('*'*100)\n",
    "    print('столбцы имеют следующие типы:')\n",
    "    display(x.dtypes)\n",
    "    x.columns = [y.lower().replace(' ', '_') for y in x.columns.values] \n",
    "    print('*'*100)\n",
    "    print('названия столбцов переписаны в нижнем регистре, пробелы заменены на нижнее подчеркивание')\n",
    "    print('*'*100)\n",
    "    display(x.info())"
   ]
  },
  {
   "cell_type": "markdown",
   "id": "938825e4",
   "metadata": {},
   "source": [
    "Функция для проверки датафрейма(вид дублекаты пропуски)"
   ]
  },
  {
   "cell_type": "code",
   "execution_count": 11,
   "id": "f5e1f4c1",
   "metadata": {},
   "outputs": [],
   "source": [
    "def parsing_2(url):\n",
    "    data = pd.DataFrame(columns=['url', 'id', 'date', 'availability', 'title', 'price', 'old_price'])\n",
    "    for i in tqdm(url):        \n",
    "        q = 1\n",
    "        while q>0:        \n",
    "            reqx = requests.get(i + str(q))\n",
    "            soup = bs(reqx.text, 'html.parser')\n",
    "            datax = pd.DataFrame({'url':pd.Series(soup.findAll('div', class_='ypi-grid-list__item_body'),dtype = 'object')})\n",
    "            data = pd.concat([data, datax], ignore_index=True)\n",
    "            if len(list(soup.findAll('div', class_='ypi-grid-list__item_body'))) > 0:\n",
    "                q = q + 1\n",
    "            else:\n",
    "                q = 0\n",
    "    data['id'] = data['url'].apply(find_id)\n",
    "    data['date'] = pd.to_datetime('today').normalize()\n",
    "    data['availability'] = data['url'].apply(find_availability)\n",
    "    data['title'] = data['url'].apply(find_title)\n",
    "    data['price'] = data['url'].apply(find_price)\n",
    "    data['old_price'] = data['url'].apply(find_old_price)\n",
    "    data['url'] = data['url'].apply(find_url)\n",
    "    data['price'] = data['price'].astype(float)\n",
    "    data.loc[data['old_price'] == '','old_price'] = np.nan\n",
    "    data['old_price'] = data['old_price'].astype(float)\n",
    "    return data"
   ]
  },
  {
   "cell_type": "markdown",
   "id": "ce9e3f74",
   "metadata": {},
   "source": [
    "Функция предварительного парсинга сайта, которая проходит по всем страницам в урл адресах переменной `all_url` и создает датафрейм в котором храняться: урл адреса товаров, индентефикатор товаров, дата предварительного парсинга товара, наличия товара, названия товара, цены товара, старой цены для акционного товара."
   ]
  },
  {
   "cell_type": "markdown",
   "id": "ccf8f7a9",
   "metadata": {},
   "source": [
    "# Парсинг цен кодов товара и url"
   ]
  },
  {
   "cell_type": "code",
   "execution_count": 12,
   "id": "9c941385",
   "metadata": {},
   "outputs": [],
   "source": [
    "all_url = ['https://hi-tech.md/televizory-i-elektronika/page-',\n",
    "           'https://hi-tech.md/bytovaya-tehnika/page-',\n",
    "           'https://hi-tech.md/kompyuternaya-tehnika/page-',\n",
    "           'https://hi-tech.md/mebel-tekstil/kompyuternaya-mebel/ofisnye-kresla-i-stulya/komp.-kresla/page-',\n",
    "           'https://hi-tech.md/instrumenty-i-oborudovanie/elektroinstrument/page-',\n",
    "           'https://hi-tech.md/tovary-dlya-doma/page-'\n",
    "          ]"
   ]
  },
  {
   "cell_type": "markdown",
   "id": "3adeb90c",
   "metadata": {},
   "source": [
    "переменная со списком ссылок на сайт для парсинга"
   ]
  },
  {
   "cell_type": "code",
   "execution_count": 13,
   "id": "064954c3",
   "metadata": {
    "scrolled": false
   },
   "outputs": [
    {
     "data": {
      "application/vnd.jupyter.widget-view+json": {
       "model_id": "c6dd29d7bee14eca875093f4deaaae70",
       "version_major": 2,
       "version_minor": 0
      },
      "text/plain": [
       "  0%|          | 0/6 [00:00<?, ?it/s]"
      ]
     },
     "metadata": {},
     "output_type": "display_data"
    }
   ],
   "source": [
    "df = parsing_2(all_url)"
   ]
  },
  {
   "cell_type": "markdown",
   "id": "41a328c8",
   "metadata": {},
   "source": [
    "предварительный парсинг"
   ]
  },
  {
   "cell_type": "code",
   "execution_count": 14,
   "id": "f7dcb3c2",
   "metadata": {
    "scrolled": true
   },
   "outputs": [],
   "source": [
    "df = df.drop_duplicates().reset_index(drop=True)"
   ]
  },
  {
   "cell_type": "markdown",
   "id": "fee03afb",
   "metadata": {},
   "source": [
    "удаление дублекатов"
   ]
  },
  {
   "cell_type": "code",
   "execution_count": 15,
   "id": "b1fc258d",
   "metadata": {},
   "outputs": [],
   "source": [
    "df.to_csv('csv/hi_tech_test_'+dt.datetime.now().strftime('%Y_%m_%d')+'.csv', index=False)"
   ]
  },
  {
   "cell_type": "markdown",
   "id": "77757780",
   "metadata": {},
   "source": [
    "создание резервной копии парсинга данных"
   ]
  },
  {
   "cell_type": "code",
   "execution_count": 16,
   "id": "598938fa",
   "metadata": {},
   "outputs": [],
   "source": [
    "df = pd.read_csv('csv/hi_tech_test_'+dt.datetime.now().strftime('%Y_%m_%d')+'.csv')"
   ]
  },
  {
   "cell_type": "code",
   "execution_count": 17,
   "id": "b41c7edb",
   "metadata": {},
   "outputs": [
    {
     "name": "stdout",
     "output_type": "stream",
     "text": [
      "таблица имеет следующий вид:\n"
     ]
    },
    {
     "data": {
      "text/html": [
       "<div>\n",
       "<style scoped>\n",
       "    .dataframe tbody tr th:only-of-type {\n",
       "        vertical-align: middle;\n",
       "    }\n",
       "\n",
       "    .dataframe tbody tr th {\n",
       "        vertical-align: top;\n",
       "    }\n",
       "\n",
       "    .dataframe thead th {\n",
       "        text-align: right;\n",
       "    }\n",
       "</style>\n",
       "<table border=\"1\" class=\"dataframe\">\n",
       "  <thead>\n",
       "    <tr style=\"text-align: right;\">\n",
       "      <th></th>\n",
       "      <th>url</th>\n",
       "      <th>id</th>\n",
       "      <th>date</th>\n",
       "      <th>availability</th>\n",
       "      <th>title</th>\n",
       "      <th>price</th>\n",
       "      <th>old_price</th>\n",
       "    </tr>\n",
       "  </thead>\n",
       "  <tbody>\n",
       "    <tr>\n",
       "      <th>0</th>\n",
       "      <td>https://hi-tech.md/televizory-i-elektronika/batareyki-i-zaryadnye-ustroystva/batareyka-energenie-eg-ba-cr1220-01/</td>\n",
       "      <td>Т-000088228</td>\n",
       "      <td>2024-06-23</td>\n",
       "      <td>В наличии</td>\n",
       "      <td>Батарейка Energenie EG-BA-CR1220-01</td>\n",
       "      <td>4.0</td>\n",
       "      <td>NaN</td>\n",
       "    </tr>\n",
       "    <tr>\n",
       "      <th>1</th>\n",
       "      <td>https://hi-tech.md/televizory-i-elektronika/batareyki-i-zaryadnye-ustroystva/batareyka-energenie-eg-ba-cr2016-01/</td>\n",
       "      <td>Т-000088229</td>\n",
       "      <td>2024-06-23</td>\n",
       "      <td>В наличии</td>\n",
       "      <td>Батарейка Energenie EG-BA-CR2016-01</td>\n",
       "      <td>4.0</td>\n",
       "      <td>NaN</td>\n",
       "    </tr>\n",
       "    <tr>\n",
       "      <th>2</th>\n",
       "      <td>https://hi-tech.md/televizory-i-elektronika/batareyki-i-zaryadnye-ustroystva/batareyka-energenie-eg-ba-aa4-01/</td>\n",
       "      <td>Т-000088221</td>\n",
       "      <td>2024-06-23</td>\n",
       "      <td>В наличии</td>\n",
       "      <td>Батарейка Energenie EG-BA-AA4-01</td>\n",
       "      <td>5.0</td>\n",
       "      <td>NaN</td>\n",
       "    </tr>\n",
       "    <tr>\n",
       "      <th>3</th>\n",
       "      <td>https://hi-tech.md/televizory-i-elektronika/batareyki-i-zaryadnye-ustroystva/batareyka-energenie-eg-ba-aaa4-01/</td>\n",
       "      <td>Т-000088222</td>\n",
       "      <td>2024-06-23</td>\n",
       "      <td>В наличии</td>\n",
       "      <td>Батарейка Energenie EG-BA-AAA4-01</td>\n",
       "      <td>5.0</td>\n",
       "      <td>NaN</td>\n",
       "    </tr>\n",
       "    <tr>\n",
       "      <th>4</th>\n",
       "      <td>https://hi-tech.md/televizory-i-elektronika/batareyki-i-zaryadnye-ustroystva/batareyka-energenie-eg-ba-cr2025-01/</td>\n",
       "      <td>Т-000088230</td>\n",
       "      <td>2024-06-23</td>\n",
       "      <td>В наличии</td>\n",
       "      <td>Батарейка Energenie EG-BA-CR2025-01</td>\n",
       "      <td>5.0</td>\n",
       "      <td>NaN</td>\n",
       "    </tr>\n",
       "  </tbody>\n",
       "</table>\n",
       "</div>"
      ],
      "text/plain": [
       "                                                                                                                 url  \\\n",
       "0  https://hi-tech.md/televizory-i-elektronika/batareyki-i-zaryadnye-ustroystva/batareyka-energenie-eg-ba-cr1220-01/   \n",
       "1  https://hi-tech.md/televizory-i-elektronika/batareyki-i-zaryadnye-ustroystva/batareyka-energenie-eg-ba-cr2016-01/   \n",
       "2     https://hi-tech.md/televizory-i-elektronika/batareyki-i-zaryadnye-ustroystva/batareyka-energenie-eg-ba-aa4-01/   \n",
       "3    https://hi-tech.md/televizory-i-elektronika/batareyki-i-zaryadnye-ustroystva/batareyka-energenie-eg-ba-aaa4-01/   \n",
       "4  https://hi-tech.md/televizory-i-elektronika/batareyki-i-zaryadnye-ustroystva/batareyka-energenie-eg-ba-cr2025-01/   \n",
       "\n",
       "            id        date availability                                title  \\\n",
       "0  Т-000088228  2024-06-23    В наличии  Батарейка Energenie EG-BA-CR1220-01   \n",
       "1  Т-000088229  2024-06-23    В наличии  Батарейка Energenie EG-BA-CR2016-01   \n",
       "2  Т-000088221  2024-06-23    В наличии     Батарейка Energenie EG-BA-AA4-01   \n",
       "3  Т-000088222  2024-06-23    В наличии    Батарейка Energenie EG-BA-AAA4-01   \n",
       "4  Т-000088230  2024-06-23    В наличии  Батарейка Energenie EG-BA-CR2025-01   \n",
       "\n",
       "   price  old_price  \n",
       "0    4.0        NaN  \n",
       "1    4.0        NaN  \n",
       "2    5.0        NaN  \n",
       "3    5.0        NaN  \n",
       "4    5.0        NaN  "
      ]
     },
     "metadata": {},
     "output_type": "display_data"
    },
    {
     "name": "stdout",
     "output_type": "stream",
     "text": [
      "****************************************************************************************************\n",
      "таблица имеет 8734 сторок и 7 столбцов\n",
      "****************************************************************************************************\n",
      "в таблице обнаружено дублекатов:0\n",
      "****************************************************************************************************\n",
      "в таблице обнаружены пропуски в следующих столбцах:\n"
     ]
    },
    {
     "data": {
      "text/plain": [
       "url                0\n",
       "id                 0\n",
       "date               0\n",
       "availability       0\n",
       "title              0\n",
       "price              0\n",
       "old_price       6546\n",
       "dtype: int64"
      ]
     },
     "metadata": {},
     "output_type": "display_data"
    },
    {
     "name": "stdout",
     "output_type": "stream",
     "text": [
      "****************************************************************************************************\n",
      "Эти пропуски составлябт следующее количество в процентах\n"
     ]
    },
    {
     "data": {
      "text/plain": [
       "url              0.0\n",
       "id               0.0\n",
       "date             0.0\n",
       "availability     0.0\n",
       "title            0.0\n",
       "price            0.0\n",
       "old_price       74.9\n",
       "dtype: float64"
      ]
     },
     "metadata": {},
     "output_type": "display_data"
    },
    {
     "name": "stdout",
     "output_type": "stream",
     "text": [
      "****************************************************************************************************\n",
      "столбцы имеют следующие типы:\n"
     ]
    },
    {
     "data": {
      "text/plain": [
       "url              object\n",
       "id               object\n",
       "date             object\n",
       "availability     object\n",
       "title            object\n",
       "price           float64\n",
       "old_price       float64\n",
       "dtype: object"
      ]
     },
     "metadata": {},
     "output_type": "display_data"
    },
    {
     "name": "stdout",
     "output_type": "stream",
     "text": [
      "****************************************************************************************************\n",
      "названия столбцов переписаны в нижнем регистре, пробелы заменены на нижнее подчеркивание\n",
      "****************************************************************************************************\n",
      "<class 'pandas.core.frame.DataFrame'>\n",
      "RangeIndex: 8734 entries, 0 to 8733\n",
      "Data columns (total 7 columns):\n",
      " #   Column        Non-Null Count  Dtype  \n",
      "---  ------        --------------  -----  \n",
      " 0   url           8734 non-null   object \n",
      " 1   id            8734 non-null   object \n",
      " 2   date          8734 non-null   object \n",
      " 3   availability  8734 non-null   object \n",
      " 4   title         8734 non-null   object \n",
      " 5   price         8734 non-null   float64\n",
      " 6   old_price     2188 non-null   float64\n",
      "dtypes: float64(2), object(5)\n",
      "memory usage: 477.8+ KB\n"
     ]
    },
    {
     "data": {
      "text/plain": [
       "None"
      ]
     },
     "metadata": {},
     "output_type": "display_data"
    }
   ],
   "source": [
    "preprocessing(df)"
   ]
  },
  {
   "cell_type": "code",
   "execution_count": 18,
   "id": "5323f509",
   "metadata": {},
   "outputs": [],
   "source": [
    "hai_group = pd.read_csv('csv/ahay_group.csv')"
   ]
  },
  {
   "cell_type": "markdown",
   "id": "d07bed99",
   "metadata": {},
   "source": [
    "загрузка таблицы с группами товара"
   ]
  },
  {
   "cell_type": "code",
   "execution_count": 19,
   "id": "09ff7ce5",
   "metadata": {},
   "outputs": [],
   "source": [
    "df = df.merge(hai_group, how='left', on='id')"
   ]
  },
  {
   "cell_type": "markdown",
   "id": "00551e3b",
   "metadata": {},
   "source": [
    "обединение таблиц предварительного парсинга и таблицы групп товаров"
   ]
  },
  {
   "cell_type": "code",
   "execution_count": 20,
   "id": "e4242e86",
   "metadata": {},
   "outputs": [],
   "source": [
    "df_new = df[(df['_category'].isna()) | (df['_subcategory'].isna()) | (df['_group'].isna()) | (df['_subgroup'].isna())]"
   ]
  },
  {
   "cell_type": "markdown",
   "id": "57fc730a",
   "metadata": {},
   "source": [
    "создание тыблицы с товарами, у которых нет данных о группах"
   ]
  },
  {
   "cell_type": "code",
   "execution_count": 21,
   "id": "7a191804",
   "metadata": {},
   "outputs": [],
   "source": [
    "df = df[~((df['_category'].isna()) | (df['_subcategory'].isna()) | (df['_group'].isna()) | (df['_subgroup'].isna()))]"
   ]
  },
  {
   "cell_type": "markdown",
   "id": "7187aa58",
   "metadata": {},
   "source": [
    "отчистка таблицы парсинга от пропусков"
   ]
  },
  {
   "cell_type": "markdown",
   "id": "66ebd550",
   "metadata": {},
   "source": [
    "df = df.sample(30)"
   ]
  },
  {
   "cell_type": "markdown",
   "id": "cc765b94",
   "metadata": {},
   "source": [
    "тестовое уменьшение таблици"
   ]
  },
  {
   "cell_type": "code",
   "execution_count": 22,
   "id": "a8992e7b",
   "metadata": {},
   "outputs": [],
   "source": [
    "def xxx(x):\n",
    "    reqx = requests.get(x)\n",
    "    soup = bs(reqx.text, 'html.parser')    \n",
    "    elem_2 = soup.findAll('div', class_='ty-breadcrumbs clearfix')\n",
    "    name = soup.findAll('span', class_='ty-breadcrumbs__current')\n",
    "            \n",
    "    try:\n",
    "        names = name[0].text\n",
    "        name_group = elem_2[0].text.replace('/'+str(names),'').replace('\\n','')\n",
    "        err = 'err'\n",
    "    except:\n",
    "        names = 'Noname'\n",
    "        name_group = 'Noname/Noname/Noname/Noname/Noname/Noname'\n",
    "        err = 'Noname_err'\n",
    "    try:\n",
    "        len_name = len((elem_2[0].text.replace('/'+str(names),'').replace('\\n','')).split('/'))\n",
    "    except:\n",
    "        len_name = 1\n",
    "        \n",
    "    try:\n",
    "        if len_name <= 1:\n",
    "            d_14 = 'err1'\n",
    "            d_15 = 'err1'\n",
    "            d_16 = 'err1'\n",
    "            d_17 = 'err1'\n",
    "        elif len_name <= 2:\n",
    "            d_14 = 'H_'+(name_group.split(\"/\")[1]).replace(',','').replace(' ','_').replace('-','_').lower()\n",
    "            d_15 = 'H_'+(name_group.split(\"/\")[1]).replace(',','').replace(' ','_').replace('-','_').lower()\n",
    "            d_16 = 'H_'+(name_group.split(\"/\")[1]).replace(',','').replace(' ','_').replace('-','_').lower()\n",
    "            d_17 = 'H_'+(name_group.split(\"/\")[1]).replace(',','').replace(' ','_').replace('-','_').lower()      \n",
    "        elif len_name <= 3:\n",
    "            d_14 = 'H_'+(name_group.split(\"/\")[1]).replace(',','').replace(' ','_').replace('-','_').lower()\n",
    "            d_15 = 'H_'+(name_group.split(\"/\")[2]).replace(',','').replace(' ','_').replace('-','_').lower()\n",
    "            d_16 = 'H_'+(name_group.split(\"/\")[2]).replace(',','').replace(' ','_').replace('-','_').lower()\n",
    "            d_17 = 'H_'+(name_group.split(\"/\")[2]).replace(',','').replace(' ','_').replace('-','_').lower()\n",
    "        elif len_name == 4:\n",
    "            d_14 = 'H_'+(name_group.split(\"/\")[1]).replace(',','').replace(' ','_').replace('-','_').lower()\n",
    "            d_15 = 'H_'+(name_group.split(\"/\")[2]).replace(',','').replace(' ','_').replace('-','_').lower()\n",
    "            d_16 = 'H_'+(name_group.split(\"/\")[3]).replace(',','').replace(' ','_').replace('-','_').lower() \n",
    "            d_17 = 'H_'+(name_group.split(\"/\")[3]).replace(',','').replace(' ','_').replace('-','_').lower()\n",
    "        elif len_name > 4:\n",
    "            d_14 = 'H_'+(name_group.split(\"/\")[1]).replace(',','').replace(' ','_').replace('-','_').lower()\n",
    "            d_15 = 'H_'+(name_group.split(\"/\")[2]).replace(',','').replace(' ','_').replace('-','_').lower()\n",
    "            d_16 = 'H_'+(name_group.split(\"/\")[3]).replace(',','').replace(' ','_').replace('-','_').lower() \n",
    "            d_17 = 'H_'+(name_group.split(\"/\")[4]).replace(',','').replace(' ','_').replace('-','_').lower()\n",
    "    except:\n",
    "        d_14 = 'err0'\n",
    "        d_15 = 'err0'\n",
    "        d_16 = 'err0'\n",
    "        d_17 = 'err0'\n",
    "        \n",
    "    return pd.Series([(d_14), (d_15), (d_16), (d_17)])"
   ]
  },
  {
   "cell_type": "markdown",
   "id": "52ea1dff",
   "metadata": {},
   "source": [
    "Функция основного парсинга, которая для каждой строки по урл адресу парсит и находит наличие товара в магахинах а также группу товара, категорию товара, подкатегорию товата и количество подкатегорий товара"
   ]
  },
  {
   "cell_type": "markdown",
   "id": "c2aff57b",
   "metadata": {},
   "source": [
    "# Парсинг групп товара"
   ]
  },
  {
   "cell_type": "code",
   "execution_count": 23,
   "id": "ab37478d",
   "metadata": {},
   "outputs": [
    {
     "data": {
      "application/vnd.jupyter.widget-view+json": {
       "model_id": "0ab4a1d7f4ba460f846672b79cbded79",
       "version_major": 2,
       "version_minor": 0
      },
      "text/plain": [
       "  0%|          | 0/2053 [00:00<?, ?it/s]"
      ]
     },
     "metadata": {},
     "output_type": "display_data"
    }
   ],
   "source": [
    "tqdm.pandas() \n",
    "df_new[['_category','_subcategory','_group','_subgroup']] = df_new['url'].progress_apply(xxx)"
   ]
  },
  {
   "cell_type": "markdown",
   "id": "982728f2",
   "metadata": {},
   "source": [
    "Основной парсинг"
   ]
  },
  {
   "cell_type": "code",
   "execution_count": 24,
   "id": "b4b71738",
   "metadata": {},
   "outputs": [],
   "source": [
    "data = df_new[~((df_new['_category']=='err1') | (df_new['_category']=='err0'))].reset_index(drop=True)\n",
    "data = data[['id', '_category','_subcategory','_group', '_subgroup']]\n",
    "data = data.sort_values(['_category','_subcategory', '_group', '_subgroup'])"
   ]
  },
  {
   "cell_type": "markdown",
   "id": "65d97636",
   "metadata": {},
   "source": [
    "создание таблици с группами нового товара"
   ]
  },
  {
   "cell_type": "code",
   "execution_count": 25,
   "id": "73c52ca7",
   "metadata": {},
   "outputs": [],
   "source": [
    "hai_group = pd.concat([hai_group, data], ignore_index=True).sort_values(['_category','_subcategory', '_group', '_subgroup']).reset_index(drop=True)\n",
    "hai_group.to_csv('csv/ahay_group.csv', index=False)  "
   ]
  },
  {
   "cell_type": "markdown",
   "id": "e114f6ef",
   "metadata": {},
   "source": [
    "добавление в таблицу с группами товара новых данных"
   ]
  },
  {
   "cell_type": "code",
   "execution_count": 26,
   "id": "ea897ac9",
   "metadata": {},
   "outputs": [],
   "source": [
    "df = pd.concat([df, df_new], ignore_index=True).sort_values(['_category','_subcategory', '_group', '_subgroup']).reset_index(drop=True)"
   ]
  },
  {
   "cell_type": "markdown",
   "id": "8084b2ce",
   "metadata": {},
   "source": [
    "объединение таблици со старыми и новыми товарами"
   ]
  },
  {
   "cell_type": "code",
   "execution_count": 27,
   "id": "945119bc",
   "metadata": {},
   "outputs": [
    {
     "data": {
      "text/plain": [
       "array(['H_акция', 'H_бытовая_техника', 'H_компьютерная_техника',\n",
       "       'H_мебель_текстиль', 'H_стройка_и_ремонт',\n",
       "       'H_телевизоры_и_электроника', 'H_товар_без_акции',\n",
       "       'H_товар_по_акции', 'H_товары_для_дома'], dtype=object)"
      ]
     },
     "execution_count": 27,
     "metadata": {},
     "output_type": "execute_result"
    }
   ],
   "source": [
    "df._category.unique()"
   ]
  },
  {
   "cell_type": "code",
   "execution_count": 28,
   "id": "2c53ef86",
   "metadata": {},
   "outputs": [
    {
     "data": {
      "text/plain": [
       "array(['H_рассрочка_12_месяцев___без_переплаты!',\n",
       "       'H_аксессуары_для_мелкой_бытовой_техники',\n",
       "       'H_климатическая_техника', 'H_крупная_техника_для_кухни',\n",
       "       'H_мелкая_техника_для_кухни', 'H_минимойки',\n",
       "       'H_приготовление_напитков', 'H_приготовление_пищи',\n",
       "       'H_пылесосы_и_аксессуары', 'H_стиральные_и_сушильные_машины',\n",
       "       'H_техника_karcher', 'H_техника_для_здоровья',\n",
       "       'H_техника_для_красоты', 'H_товары_для_ухода_за_одеждой',\n",
       "       'H_установка_бытовой_техники', 'H_apple', 'H_аксессуары',\n",
       "       'H_видеотехника', 'H_готовые_решения', 'H_игровые_приставки',\n",
       "       'H_комплектующие', 'H_крепления', 'H_мониторы', 'H_мультимедиа',\n",
       "       'H_накопители', 'H_оргтехника', 'H_периферийные_устройства',\n",
       "       'H_проекторы_и_экраны', 'H_расходные_материалы',\n",
       "       'H_сетевое_оборудование', 'H_умный_дом_с_яндекс',\n",
       "       'H_электропитание', 'H_мебель_для_офиса', 'H_техника_для_дома',\n",
       "       'H_электроинструменты', 'H_аудиосистемы',\n",
       "       'H_батарейки_и_зарядные_устройства', 'H_гаджеты',\n",
       "       'H_крепления_для_тв', 'H_приставки_для_тв',\n",
       "       'H_смартфоны_и_аксессуары', 'H_телевизоры',\n",
       "       'H_телефоны_dect_и_проводные', 'H_товар_без_акции',\n",
       "       'H_товар_по_акции', 'H_бытовая_химия', 'H_кухонные_принадлежности',\n",
       "       'H_освещение', 'H_посуда_для_духовок_и_микроволновых_печей',\n",
       "       'H_сервировка_стола'], dtype=object)"
      ]
     },
     "execution_count": 28,
     "metadata": {},
     "output_type": "execute_result"
    }
   ],
   "source": [
    "df._subcategory.unique()"
   ]
  },
  {
   "cell_type": "code",
   "execution_count": 29,
   "id": "97b79ee9",
   "metadata": {},
   "outputs": [
    {
     "data": {
      "text/plain": [
       "array(['H_рассрочка_12_месяцев___без_переплаты!',\n",
       "       'H_аксессуары_для_зубных_щеток',\n",
       "       'H_аксессуары_для_электрических_бритв', 'H_бойлеры',\n",
       "       'H_вентиляторы', 'H_комплектующие_для_климатической_техники',\n",
       "       'H_кондиционеры', 'H_кондиционеры_кассетные',\n",
       "       'H_кондиционеры_мульти_сплит', 'H_кондиционеры_промышленные',\n",
       "       'H_котлы_газовые', 'H_обогреватели', 'H_отопительные_печи',\n",
       "       'H_увлажнители_комплексы', 'H_варочные_поверхности', 'H_вытяжки',\n",
       "       'H_духовые_шкафы', 'H_кронштейны_для_микроволновых_печей',\n",
       "       'H_микроволновые_печи', 'H_морозильники_и_лари',\n",
       "       'H_плиты_газовые_и_электрические', 'H_посудомоечные_машины',\n",
       "       'H_холодильники', 'H_электропечи_и_духовки', 'H_блендеры',\n",
       "       'H_вакууматоры', 'H_весы_кухонные', 'H_генераторы_льда',\n",
       "       'H_кухонные_комбайны', 'H_ломтерезки', 'H_миксеры',\n",
       "       'H_соковыжималки', 'H_соковыжималки_для_цитрусов', 'H_тостеры',\n",
       "       'H_чопперы', 'H_электромясорубки', 'H_минимойки', 'H_кофе',\n",
       "       'H_кофеварки', 'H_кофемашины', 'H_кофемолки', 'H_термопоты',\n",
       "       'H_турки_электрические', 'H_электрические_чайники', 'H_йогуртницы',\n",
       "       'H_мультиварки', 'H_мультиварки_скороварки', 'H_пароварки',\n",
       "       'H_сушилки_для_фруктов', 'H_сэндвичницы_и_вафельницы',\n",
       "       'H_фритюрницы_и_аэрогрили', 'H_хлебопечи', 'H_электрогрили',\n",
       "       'H_аксессуары_к_пылесосам', 'H_пылесосы',\n",
       "       'H_фильтры_и_мешки_для_пыли', 'H_вертикальные_стиральные_машины',\n",
       "       'H_полуавтоматические_стиральные_машины',\n",
       "       'H_стирально_сушильные_машины', 'H_стиральные_и_сушильные_машины',\n",
       "       'H_сушильные_машины', 'H_фронтальные_стиральные_машины',\n",
       "       'H_мешки_и_фильтры_karcher', 'H_ирригаторы',\n",
       "       'H_массажеры_ванночки_для_ног', 'H_медицинские_приборы',\n",
       "       'H_электрические_зубные_щетки', 'H_весы_напольные',\n",
       "       'H_выпрямители_и_плойки_для_волос', 'H_наборы_для_укладки_волос',\n",
       "       'H_плойки', 'H_триммеры_машинки_для_стрижки', 'H_фены_для_волос',\n",
       "       'H_электрические_бритвы', 'H_эпиляторы', 'H_гладильные_доски',\n",
       "       'H_машинки_для_удаления_катышков', 'H_отпариватели_для_одежды',\n",
       "       'H_парогенераторы', 'H_сушилки_для_белья', 'H_утюги',\n",
       "       'H_швейные_машины', 'H_установка_бытовой_техники', 'H_airpods',\n",
       "       'H_apple_watch', 'H_imac', 'H_ipad', 'H_iphone', 'H_macbook',\n",
       "       'H_аксессуары', 'H_cardreader', 'H_для_ноутбуков',\n",
       "       'H_для_планшетов', 'H_кабели_и_переходники', 'H_карманы',\n",
       "       'H_видеонаблюдение', 'H_видеорегистраторы', 'H_неттопы',\n",
       "       'H_ноутбуки', 'H_планшеты', 'H_системные_блоки',\n",
       "       'H_электронные_книги', 'H_геймпады', 'H_приставки',\n",
       "       'H_блоки_питания', 'H_видеокарты', 'H_звуковые_карты', 'H_корпуса',\n",
       "       'H_материнские_платы', 'H_модули_памяти', 'H_накопитель_(hdd)',\n",
       "       'H_накопитель_(ssd)', 'H_оптические_приводы', 'H_процессоры',\n",
       "       'H_системы_охлаждения', 'H_термопаста', 'H_крепления',\n",
       "       'H_smart_tv', 'H_изогнутый', 'H_плоский', 'H_акустика',\n",
       "       'H_микрофоны', 'H_наушники', 'H_радио', 'H_внешние_hdd_|_ssd',\n",
       "       'H_диски_cd_|_dvd', 'H_карты_памяти_sd_|_microsd',\n",
       "       'H_флешки_usb_|_type_c', 'H_кабели', 'H_принтеры_и_мфу',\n",
       "       'H_сканеры', 'H_уничтожители_документов', 'H_веб_камеры',\n",
       "       'H_клавиатуры', 'H_манипуляторы', 'H_мыши', 'H_поверхности',\n",
       "       'H_рули', 'H_проекторы', 'H_экраны', 'H_бумага', 'H_зипы',\n",
       "       'H_картриджи', 'H_стяжки', 'H_тонер', 'H_чернила',\n",
       "       'H_чистящие_средства', 'H_адаптеры', 'H_инструмент',\n",
       "       'H_кабель_сетевой', 'H_карты_сетевые', 'H_коммутаторы',\n",
       "       'H_патч_корды', 'H_повторители_wifi', 'H_розетки',\n",
       "       'H_сетевые_шкафы', 'H_точки_доступа', 'H_яндекс_станции',\n",
       "       'H_powerbank', 'H_батареи', 'H_зарядные_устройства', 'H_ибп',\n",
       "       'H_инверторы', 'H_стабилизаторы', 'H_фильтры',\n",
       "       'H_офисные_кресла_и_стулья', 'H_газонокосилки_и_триммеры',\n",
       "       'H_аппараты_для_сварки', 'H_дрели',\n",
       "       'H_инструмент_для_работы_по_дереву',\n",
       "       'H_наборы_инструментов_и_измерительные_приборы', 'H_перфораторы',\n",
       "       'H_расходные_материалы', 'H_строительные_фены',\n",
       "       'H_шлифовальные_машинки', 'H_шуруповерты', 'H_электроинструменты',\n",
       "       'H_акустические_системы', 'H_музыкальная_техника', 'H_плееры',\n",
       "       'H_саундбары', 'H_батарейки_и_зарядные_устройства', 'H_умный_дом',\n",
       "       'H_часы_и_браслеты', 'H_крепления_для_тв', 'H_приставки_для_тв',\n",
       "       'H_смартфоны', 'H_смартфоны_и_аксессуары', 'H_чехлы',\n",
       "       'H_телевизоры', 'H_телевизоры_samsung',\n",
       "       'H_телефоны_dect_и_проводные', 'H_товар_без_акции',\n",
       "       'H_товар_по_акции', 'H_средства_для_посудомоечных_машин',\n",
       "       'H_средства_для_стирки', 'H_средства_по_уходу_за_техникой',\n",
       "       'H_кухонные_аксессуары', 'H_ножи',\n",
       "       'H_ёмкости_для_сыпучих_и_контейнеры_для_еды', 'H_бра',\n",
       "       'H_интерьерное_освещение', 'H_лампочки_', 'H_лампы_настольные',\n",
       "       'H_люстры', 'H_светильники_светодиодные', 'H_фонари',\n",
       "       'H_формы_и_противни', 'H_заварочные_чайники',\n",
       "       'H_кофеварки_гейзерные', 'H_термосы_термокружки_термосумки',\n",
       "       'H_турки', 'H_фильтры_для_воды', 'H_чайники_для_плиты',\n",
       "       'H_кастрюли', 'H_ковши', 'H_крышки', 'H_наборы_посуды',\n",
       "       'H_сковороды', 'H_сотейники', 'H_кофейные_и_чайные_чашки',\n",
       "       'H_прочие_предметы_сервировки', 'H_салатники_и_блюда_',\n",
       "       'H_сервировка_стола', 'H_столовые_приборы',\n",
       "       'H_столовые_сервизы_и_тарелки', 'H_фужеры_бокалы_стаканы'],\n",
       "      dtype=object)"
      ]
     },
     "execution_count": 29,
     "metadata": {},
     "output_type": "execute_result"
    }
   ],
   "source": [
    "df._group.unique()"
   ]
  },
  {
   "cell_type": "markdown",
   "id": "b5bec77d",
   "metadata": {},
   "source": [
    "просмотр категорий, подкатегорий и групп товаров"
   ]
  },
  {
   "cell_type": "code",
   "execution_count": 30,
   "id": "bdc660e9",
   "metadata": {},
   "outputs": [
    {
     "data": {
      "text/plain": [
       "0"
      ]
     },
     "execution_count": 30,
     "metadata": {},
     "output_type": "execute_result"
    }
   ],
   "source": [
    "df[df['_category']=='err1'].id.count()"
   ]
  },
  {
   "cell_type": "code",
   "execution_count": 31,
   "id": "51857ea8",
   "metadata": {},
   "outputs": [
    {
     "data": {
      "text/plain": [
       "0"
      ]
     },
     "execution_count": 31,
     "metadata": {},
     "output_type": "execute_result"
    }
   ],
   "source": [
    "df[df['_category']=='err0'].id.count()"
   ]
  },
  {
   "cell_type": "code",
   "execution_count": 32,
   "id": "0ff727b3",
   "metadata": {},
   "outputs": [
    {
     "data": {
      "text/html": [
       "<div>\n",
       "<style scoped>\n",
       "    .dataframe tbody tr th:only-of-type {\n",
       "        vertical-align: middle;\n",
       "    }\n",
       "\n",
       "    .dataframe tbody tr th {\n",
       "        vertical-align: top;\n",
       "    }\n",
       "\n",
       "    .dataframe thead th {\n",
       "        text-align: right;\n",
       "    }\n",
       "</style>\n",
       "<table border=\"1\" class=\"dataframe\">\n",
       "  <thead>\n",
       "    <tr style=\"text-align: right;\">\n",
       "      <th></th>\n",
       "      <th>url</th>\n",
       "      <th>id</th>\n",
       "      <th>date</th>\n",
       "      <th>availability</th>\n",
       "      <th>title</th>\n",
       "      <th>price</th>\n",
       "      <th>old_price</th>\n",
       "      <th>_category</th>\n",
       "      <th>_subcategory</th>\n",
       "      <th>_group</th>\n",
       "      <th>_subgroup</th>\n",
       "    </tr>\n",
       "  </thead>\n",
       "  <tbody>\n",
       "  </tbody>\n",
       "</table>\n",
       "</div>"
      ],
      "text/plain": [
       "Empty DataFrame\n",
       "Columns: [url, id, date, availability, title, price, old_price, _category, _subcategory, _group, _subgroup]\n",
       "Index: []"
      ]
     },
     "execution_count": 32,
     "metadata": {},
     "output_type": "execute_result"
    }
   ],
   "source": [
    "df[df['_category']=='err1']"
   ]
  },
  {
   "cell_type": "code",
   "execution_count": 33,
   "id": "742ea1d9",
   "metadata": {},
   "outputs": [
    {
     "data": {
      "text/html": [
       "<div>\n",
       "<style scoped>\n",
       "    .dataframe tbody tr th:only-of-type {\n",
       "        vertical-align: middle;\n",
       "    }\n",
       "\n",
       "    .dataframe tbody tr th {\n",
       "        vertical-align: top;\n",
       "    }\n",
       "\n",
       "    .dataframe thead th {\n",
       "        text-align: right;\n",
       "    }\n",
       "</style>\n",
       "<table border=\"1\" class=\"dataframe\">\n",
       "  <thead>\n",
       "    <tr style=\"text-align: right;\">\n",
       "      <th></th>\n",
       "      <th>url</th>\n",
       "      <th>id</th>\n",
       "      <th>date</th>\n",
       "      <th>availability</th>\n",
       "      <th>title</th>\n",
       "      <th>price</th>\n",
       "      <th>old_price</th>\n",
       "      <th>_category</th>\n",
       "      <th>_subcategory</th>\n",
       "      <th>_group</th>\n",
       "      <th>_subgroup</th>\n",
       "    </tr>\n",
       "  </thead>\n",
       "  <tbody>\n",
       "  </tbody>\n",
       "</table>\n",
       "</div>"
      ],
      "text/plain": [
       "Empty DataFrame\n",
       "Columns: [url, id, date, availability, title, price, old_price, _category, _subcategory, _group, _subgroup]\n",
       "Index: []"
      ]
     },
     "execution_count": 33,
     "metadata": {},
     "output_type": "execute_result"
    }
   ],
   "source": [
    "df[df['_category']=='err0']"
   ]
  },
  {
   "cell_type": "markdown",
   "id": "afa2ab5e",
   "metadata": {},
   "source": [
    "просмотр товаров с ошибками"
   ]
  },
  {
   "cell_type": "code",
   "execution_count": 34,
   "id": "15117f36",
   "metadata": {},
   "outputs": [
    {
     "name": "stdout",
     "output_type": "stream",
     "text": [
      "таблица имеет следующий вид:\n"
     ]
    },
    {
     "data": {
      "text/html": [
       "<div>\n",
       "<style scoped>\n",
       "    .dataframe tbody tr th:only-of-type {\n",
       "        vertical-align: middle;\n",
       "    }\n",
       "\n",
       "    .dataframe tbody tr th {\n",
       "        vertical-align: top;\n",
       "    }\n",
       "\n",
       "    .dataframe thead th {\n",
       "        text-align: right;\n",
       "    }\n",
       "</style>\n",
       "<table border=\"1\" class=\"dataframe\">\n",
       "  <thead>\n",
       "    <tr style=\"text-align: right;\">\n",
       "      <th></th>\n",
       "      <th>url</th>\n",
       "      <th>id</th>\n",
       "      <th>date</th>\n",
       "      <th>availability</th>\n",
       "      <th>title</th>\n",
       "      <th>price</th>\n",
       "      <th>old_price</th>\n",
       "      <th>_category</th>\n",
       "      <th>_subcategory</th>\n",
       "      <th>_group</th>\n",
       "      <th>_subgroup</th>\n",
       "    </tr>\n",
       "  </thead>\n",
       "  <tbody>\n",
       "    <tr>\n",
       "      <th>0</th>\n",
       "      <td>https://hi-tech.md/bytovaya-tehnika/klimaticheskaya-tehnika/kondicionery/kondicioner-electrolux-eacs-07hat-n321y/</td>\n",
       "      <td>Т-000078544</td>\n",
       "      <td>2024-06-23</td>\n",
       "      <td>В наличии</td>\n",
       "      <td>кондиционер Electrolux EACS-07HAT/N3_21Y</td>\n",
       "      <td>3999.0</td>\n",
       "      <td>NaN</td>\n",
       "      <td>H_акция</td>\n",
       "      <td>H_рассрочка_12_месяцев___без_переплаты!</td>\n",
       "      <td>H_рассрочка_12_месяцев___без_переплаты!</td>\n",
       "      <td>H_рассрочка_12_месяцев___без_переплаты!</td>\n",
       "    </tr>\n",
       "    <tr>\n",
       "      <th>1</th>\n",
       "      <td>https://hi-tech.md/bytovaya-tehnika/aksessuary-dlya-melkoy-bytovoy-tehniki/aksessuary-dlya-zubnyh-schetok/nasadka-d-zub-schetki-panasonic-ew0940w830-2sht/</td>\n",
       "      <td>Т-000056675</td>\n",
       "      <td>2024-06-23</td>\n",
       "      <td>В наличии</td>\n",
       "      <td>насадка д/Зубная щетка Panasonic EW0940W830 2шт</td>\n",
       "      <td>34.0</td>\n",
       "      <td>68.0</td>\n",
       "      <td>H_бытовая_техника</td>\n",
       "      <td>H_аксессуары_для_мелкой_бытовой_техники</td>\n",
       "      <td>H_аксессуары_для_зубных_щеток</td>\n",
       "      <td>H_аксессуары_для_зубных_щеток</td>\n",
       "    </tr>\n",
       "    <tr>\n",
       "      <th>2</th>\n",
       "      <td>https://hi-tech.md/bytovaya-tehnika/aksessuary-dlya-melkoy-bytovoy-tehniki/aksessuary-dlya-zubnyh-schetok/nasadka-d-zub-schetki-braun-eb10-2k-kids-frozen-1sht/</td>\n",
       "      <td>Т-000021198</td>\n",
       "      <td>2024-06-23</td>\n",
       "      <td>В наличии</td>\n",
       "      <td>насадка д/Зубная щетка Braun EB10 Kids Frozen (1шт)</td>\n",
       "      <td>94.0</td>\n",
       "      <td>NaN</td>\n",
       "      <td>H_бытовая_техника</td>\n",
       "      <td>H_аксессуары_для_мелкой_бытовой_техники</td>\n",
       "      <td>H_аксессуары_для_зубных_щеток</td>\n",
       "      <td>H_аксессуары_для_зубных_щеток</td>\n",
       "    </tr>\n",
       "    <tr>\n",
       "      <th>3</th>\n",
       "      <td>https://hi-tech.md/bytovaya-tehnika/aksessuary-dlya-melkoy-bytovoy-tehniki/aksessuary-dlya-zubnyh-schetok/nasadka-d-zub-schetki-braun-eb18-3d-white-1sht/</td>\n",
       "      <td>Т-000068433</td>\n",
       "      <td>2024-06-23</td>\n",
       "      <td>В наличии</td>\n",
       "      <td>насадка д/Зубная щетка Braun EB18 3D White (1шт)</td>\n",
       "      <td>94.0</td>\n",
       "      <td>NaN</td>\n",
       "      <td>H_бытовая_техника</td>\n",
       "      <td>H_аксессуары_для_мелкой_бытовой_техники</td>\n",
       "      <td>H_аксессуары_для_зубных_щеток</td>\n",
       "      <td>H_аксессуары_для_зубных_щеток</td>\n",
       "    </tr>\n",
       "    <tr>\n",
       "      <th>4</th>\n",
       "      <td>https://hi-tech.md/bytovaya-tehnika/aksessuary-dlya-melkoy-bytovoy-tehniki/aksessuary-dlya-zubnyh-schetok/nasadka-d-zub-schetki-braun-eb20rb-10-1sht/</td>\n",
       "      <td>Т-000068766</td>\n",
       "      <td>2024-06-23</td>\n",
       "      <td>В наличии</td>\n",
       "      <td>насадка д/Зубная щетка Braun EB20 Precision Clean (1шт)</td>\n",
       "      <td>94.0</td>\n",
       "      <td>NaN</td>\n",
       "      <td>H_бытовая_техника</td>\n",
       "      <td>H_аксессуары_для_мелкой_бытовой_техники</td>\n",
       "      <td>H_аксессуары_для_зубных_щеток</td>\n",
       "      <td>H_аксессуары_для_зубных_щеток</td>\n",
       "    </tr>\n",
       "  </tbody>\n",
       "</table>\n",
       "</div>"
      ],
      "text/plain": [
       "                                                                                                                                                               url  \\\n",
       "0                                                https://hi-tech.md/bytovaya-tehnika/klimaticheskaya-tehnika/kondicionery/kondicioner-electrolux-eacs-07hat-n321y/   \n",
       "1       https://hi-tech.md/bytovaya-tehnika/aksessuary-dlya-melkoy-bytovoy-tehniki/aksessuary-dlya-zubnyh-schetok/nasadka-d-zub-schetki-panasonic-ew0940w830-2sht/   \n",
       "2  https://hi-tech.md/bytovaya-tehnika/aksessuary-dlya-melkoy-bytovoy-tehniki/aksessuary-dlya-zubnyh-schetok/nasadka-d-zub-schetki-braun-eb10-2k-kids-frozen-1sht/   \n",
       "3        https://hi-tech.md/bytovaya-tehnika/aksessuary-dlya-melkoy-bytovoy-tehniki/aksessuary-dlya-zubnyh-schetok/nasadka-d-zub-schetki-braun-eb18-3d-white-1sht/   \n",
       "4            https://hi-tech.md/bytovaya-tehnika/aksessuary-dlya-melkoy-bytovoy-tehniki/aksessuary-dlya-zubnyh-schetok/nasadka-d-zub-schetki-braun-eb20rb-10-1sht/   \n",
       "\n",
       "            id        date availability  \\\n",
       "0  Т-000078544  2024-06-23    В наличии   \n",
       "1  Т-000056675  2024-06-23    В наличии   \n",
       "2  Т-000021198  2024-06-23    В наличии   \n",
       "3  Т-000068433  2024-06-23    В наличии   \n",
       "4  Т-000068766  2024-06-23    В наличии   \n",
       "\n",
       "                                                     title   price  old_price  \\\n",
       "0                 кондиционер Electrolux EACS-07HAT/N3_21Y  3999.0        NaN   \n",
       "1          насадка д/Зубная щетка Panasonic EW0940W830 2шт    34.0       68.0   \n",
       "2      насадка д/Зубная щетка Braun EB10 Kids Frozen (1шт)    94.0        NaN   \n",
       "3         насадка д/Зубная щетка Braun EB18 3D White (1шт)    94.0        NaN   \n",
       "4  насадка д/Зубная щетка Braun EB20 Precision Clean (1шт)    94.0        NaN   \n",
       "\n",
       "           _category                             _subcategory  \\\n",
       "0            H_акция  H_рассрочка_12_месяцев___без_переплаты!   \n",
       "1  H_бытовая_техника  H_аксессуары_для_мелкой_бытовой_техники   \n",
       "2  H_бытовая_техника  H_аксессуары_для_мелкой_бытовой_техники   \n",
       "3  H_бытовая_техника  H_аксессуары_для_мелкой_бытовой_техники   \n",
       "4  H_бытовая_техника  H_аксессуары_для_мелкой_бытовой_техники   \n",
       "\n",
       "                                    _group  \\\n",
       "0  H_рассрочка_12_месяцев___без_переплаты!   \n",
       "1            H_аксессуары_для_зубных_щеток   \n",
       "2            H_аксессуары_для_зубных_щеток   \n",
       "3            H_аксессуары_для_зубных_щеток   \n",
       "4            H_аксессуары_для_зубных_щеток   \n",
       "\n",
       "                                 _subgroup  \n",
       "0  H_рассрочка_12_месяцев___без_переплаты!  \n",
       "1            H_аксессуары_для_зубных_щеток  \n",
       "2            H_аксессуары_для_зубных_щеток  \n",
       "3            H_аксессуары_для_зубных_щеток  \n",
       "4            H_аксессуары_для_зубных_щеток  "
      ]
     },
     "metadata": {},
     "output_type": "display_data"
    },
    {
     "name": "stdout",
     "output_type": "stream",
     "text": [
      "****************************************************************************************************\n",
      "таблица имеет 8734 сторок и 11 столбцов\n",
      "****************************************************************************************************\n",
      "в таблице обнаружено дублекатов:0\n",
      "****************************************************************************************************\n",
      "в таблице обнаружены пропуски в следующих столбцах:\n"
     ]
    },
    {
     "data": {
      "text/plain": [
       "url                0\n",
       "id                 0\n",
       "date               0\n",
       "availability       0\n",
       "title              0\n",
       "price              0\n",
       "old_price       6546\n",
       "_category          0\n",
       "_subcategory       0\n",
       "_group             0\n",
       "_subgroup          0\n",
       "dtype: int64"
      ]
     },
     "metadata": {},
     "output_type": "display_data"
    },
    {
     "name": "stdout",
     "output_type": "stream",
     "text": [
      "****************************************************************************************************\n",
      "Эти пропуски составлябт следующее количество в процентах\n"
     ]
    },
    {
     "data": {
      "text/plain": [
       "url              0.0\n",
       "id               0.0\n",
       "date             0.0\n",
       "availability     0.0\n",
       "title            0.0\n",
       "price            0.0\n",
       "old_price       74.9\n",
       "_category        0.0\n",
       "_subcategory     0.0\n",
       "_group           0.0\n",
       "_subgroup        0.0\n",
       "dtype: float64"
      ]
     },
     "metadata": {},
     "output_type": "display_data"
    },
    {
     "name": "stdout",
     "output_type": "stream",
     "text": [
      "****************************************************************************************************\n",
      "столбцы имеют следующие типы:\n"
     ]
    },
    {
     "data": {
      "text/plain": [
       "url              object\n",
       "id               object\n",
       "date             object\n",
       "availability     object\n",
       "title            object\n",
       "price           float64\n",
       "old_price       float64\n",
       "_category        object\n",
       "_subcategory     object\n",
       "_group           object\n",
       "_subgroup        object\n",
       "dtype: object"
      ]
     },
     "metadata": {},
     "output_type": "display_data"
    },
    {
     "name": "stdout",
     "output_type": "stream",
     "text": [
      "****************************************************************************************************\n",
      "названия столбцов переписаны в нижнем регистре, пробелы заменены на нижнее подчеркивание\n",
      "****************************************************************************************************\n",
      "<class 'pandas.core.frame.DataFrame'>\n",
      "RangeIndex: 8734 entries, 0 to 8733\n",
      "Data columns (total 11 columns):\n",
      " #   Column        Non-Null Count  Dtype  \n",
      "---  ------        --------------  -----  \n",
      " 0   url           8734 non-null   object \n",
      " 1   id            8734 non-null   object \n",
      " 2   date          8734 non-null   object \n",
      " 3   availability  8734 non-null   object \n",
      " 4   title         8734 non-null   object \n",
      " 5   price         8734 non-null   float64\n",
      " 6   old_price     2188 non-null   float64\n",
      " 7   _category     8734 non-null   object \n",
      " 8   _subcategory  8734 non-null   object \n",
      " 9   _group        8734 non-null   object \n",
      " 10  _subgroup     8734 non-null   object \n",
      "dtypes: float64(2), object(9)\n",
      "memory usage: 750.7+ KB\n"
     ]
    },
    {
     "data": {
      "text/plain": [
       "None"
      ]
     },
     "metadata": {},
     "output_type": "display_data"
    }
   ],
   "source": [
    "preprocessing(df)"
   ]
  },
  {
   "cell_type": "markdown",
   "id": "5e052a2e",
   "metadata": {},
   "source": [
    "просмотр данных о таблице"
   ]
  },
  {
   "cell_type": "code",
   "execution_count": 35,
   "id": "56e68878",
   "metadata": {},
   "outputs": [],
   "source": [
    "df.to_csv('csv/hi_tech_test_'+dt.datetime.now().strftime('%Y_%m_%d')+'.csv', index=False)"
   ]
  },
  {
   "cell_type": "markdown",
   "id": "ad0bf190",
   "metadata": {},
   "source": [
    "создание резервной копии парсинга данных"
   ]
  },
  {
   "cell_type": "code",
   "execution_count": 36,
   "id": "e636fb9f",
   "metadata": {},
   "outputs": [],
   "source": [
    "df = pd.read_csv('csv/hi_tech_test_'+dt.datetime.now().strftime('%Y_%m_%d')+'.csv')"
   ]
  },
  {
   "cell_type": "markdown",
   "id": "4c5e22f3",
   "metadata": {},
   "source": [
    "загрузка резервной копии парсинга данных"
   ]
  },
  {
   "cell_type": "code",
   "execution_count": 37,
   "id": "e79ad13a",
   "metadata": {},
   "outputs": [
    {
     "data": {
      "text/html": [
       "<div>\n",
       "<style scoped>\n",
       "    .dataframe tbody tr th:only-of-type {\n",
       "        vertical-align: middle;\n",
       "    }\n",
       "\n",
       "    .dataframe tbody tr th {\n",
       "        vertical-align: top;\n",
       "    }\n",
       "\n",
       "    .dataframe thead th {\n",
       "        text-align: right;\n",
       "    }\n",
       "</style>\n",
       "<table border=\"1\" class=\"dataframe\">\n",
       "  <thead>\n",
       "    <tr style=\"text-align: right;\">\n",
       "      <th></th>\n",
       "      <th>url</th>\n",
       "      <th>id</th>\n",
       "      <th>date</th>\n",
       "      <th>availability</th>\n",
       "      <th>title</th>\n",
       "      <th>price</th>\n",
       "      <th>old_price</th>\n",
       "      <th>_category</th>\n",
       "      <th>_subcategory</th>\n",
       "      <th>_group</th>\n",
       "      <th>_subgroup</th>\n",
       "    </tr>\n",
       "  </thead>\n",
       "  <tbody>\n",
       "    <tr>\n",
       "      <th>0</th>\n",
       "      <td>https://hi-tech.md/bytovaya-tehnika/klimaticheskaya-tehnika/kondicionery/kondicioner-electrolux-eacs-07hat-n321y/</td>\n",
       "      <td>Т-000078544</td>\n",
       "      <td>2024-06-23</td>\n",
       "      <td>В наличии</td>\n",
       "      <td>кондиционер Electrolux EACS-07HAT/N3_21Y</td>\n",
       "      <td>3999.0</td>\n",
       "      <td>NaN</td>\n",
       "      <td>H_акция</td>\n",
       "      <td>H_рассрочка_12_месяцев___без_переплаты!</td>\n",
       "      <td>H_рассрочка_12_месяцев___без_переплаты!</td>\n",
       "      <td>H_рассрочка_12_месяцев___без_переплаты!</td>\n",
       "    </tr>\n",
       "    <tr>\n",
       "      <th>1</th>\n",
       "      <td>https://hi-tech.md/bytovaya-tehnika/aksessuary-dlya-melkoy-bytovoy-tehniki/aksessuary-dlya-zubnyh-schetok/nasadka-d-zub-schetki-panasonic-ew0940w830-2sht/</td>\n",
       "      <td>Т-000056675</td>\n",
       "      <td>2024-06-23</td>\n",
       "      <td>В наличии</td>\n",
       "      <td>насадка д/Зубная щетка Panasonic EW0940W830 2шт</td>\n",
       "      <td>34.0</td>\n",
       "      <td>68.0</td>\n",
       "      <td>H_бытовая_техника</td>\n",
       "      <td>H_аксессуары_для_мелкой_бытовой_техники</td>\n",
       "      <td>H_аксессуары_для_зубных_щеток</td>\n",
       "      <td>H_аксессуары_для_зубных_щеток</td>\n",
       "    </tr>\n",
       "  </tbody>\n",
       "</table>\n",
       "</div>"
      ],
      "text/plain": [
       "                                                                                                                                                          url  \\\n",
       "0                                           https://hi-tech.md/bytovaya-tehnika/klimaticheskaya-tehnika/kondicionery/kondicioner-electrolux-eacs-07hat-n321y/   \n",
       "1  https://hi-tech.md/bytovaya-tehnika/aksessuary-dlya-melkoy-bytovoy-tehniki/aksessuary-dlya-zubnyh-schetok/nasadka-d-zub-schetki-panasonic-ew0940w830-2sht/   \n",
       "\n",
       "            id        date availability  \\\n",
       "0  Т-000078544  2024-06-23    В наличии   \n",
       "1  Т-000056675  2024-06-23    В наличии   \n",
       "\n",
       "                                             title   price  old_price  \\\n",
       "0         кондиционер Electrolux EACS-07HAT/N3_21Y  3999.0        NaN   \n",
       "1  насадка д/Зубная щетка Panasonic EW0940W830 2шт    34.0       68.0   \n",
       "\n",
       "           _category                             _subcategory  \\\n",
       "0            H_акция  H_рассрочка_12_месяцев___без_переплаты!   \n",
       "1  H_бытовая_техника  H_аксессуары_для_мелкой_бытовой_техники   \n",
       "\n",
       "                                    _group  \\\n",
       "0  H_рассрочка_12_месяцев___без_переплаты!   \n",
       "1            H_аксессуары_для_зубных_щеток   \n",
       "\n",
       "                                 _subgroup  \n",
       "0  H_рассрочка_12_месяцев___без_переплаты!  \n",
       "1            H_аксессуары_для_зубных_щеток  "
      ]
     },
     "execution_count": 37,
     "metadata": {},
     "output_type": "execute_result"
    }
   ],
   "source": [
    "df.head(2)"
   ]
  },
  {
   "cell_type": "code",
   "execution_count": 38,
   "id": "e007213d",
   "metadata": {},
   "outputs": [],
   "source": [
    "df['error_group'] = 0\n",
    "df.loc[df['_subgroup'].isna(), 'error_group'] = 1\n",
    "df.loc[df['_subgroup']=='err0', 'error_group'] = 1\n",
    "df.loc[df['_subgroup']=='err1', 'error_group'] = 1"
   ]
  },
  {
   "cell_type": "markdown",
   "id": "c6475ce8",
   "metadata": {},
   "source": [
    "Создание столбцов с флагом ошибки для товаров, для которых нет данных по остаткам хотябы в одном магазине"
   ]
  },
  {
   "cell_type": "code",
   "execution_count": 39,
   "id": "bd3fe729",
   "metadata": {},
   "outputs": [],
   "source": [
    "df.loc[df['error_group']==1 , ['_category',\n",
    "       '_subcategory', '_group', '_subgroup']] = 'H_no_group'"
   ]
  },
  {
   "cell_type": "markdown",
   "id": "95bf7a26",
   "metadata": {},
   "source": [
    "удаление наличия товара в магазинах и наименовании группы если у товара есть ошибки в этих данны"
   ]
  },
  {
   "cell_type": "markdown",
   "id": "76eb939c",
   "metadata": {},
   "source": [
    "Изменение типов данных столбцов наличия товара в определенном магазине на тип данных `float`  и создания столбцов по наличию товара в магазинах городов"
   ]
  },
  {
   "cell_type": "code",
   "execution_count": 40,
   "id": "2cc0d63f",
   "metadata": {},
   "outputs": [],
   "source": [
    "df = df[['url', 'id', '_category', '_subcategory', '_group', '_subgroup', 'title',\n",
    "               'date',   'price', 'old_price', 'availability', 'error_group', ]]"
   ]
  },
  {
   "cell_type": "markdown",
   "id": "dbe487ad",
   "metadata": {},
   "source": [
    "изменение порядка располажения столбцов"
   ]
  },
  {
   "cell_type": "code",
   "execution_count": 41,
   "id": "bfa9ccac",
   "metadata": {},
   "outputs": [
    {
     "name": "stdout",
     "output_type": "stream",
     "text": [
      "таблица имеет следующий вид:\n"
     ]
    },
    {
     "data": {
      "text/html": [
       "<div>\n",
       "<style scoped>\n",
       "    .dataframe tbody tr th:only-of-type {\n",
       "        vertical-align: middle;\n",
       "    }\n",
       "\n",
       "    .dataframe tbody tr th {\n",
       "        vertical-align: top;\n",
       "    }\n",
       "\n",
       "    .dataframe thead th {\n",
       "        text-align: right;\n",
       "    }\n",
       "</style>\n",
       "<table border=\"1\" class=\"dataframe\">\n",
       "  <thead>\n",
       "    <tr style=\"text-align: right;\">\n",
       "      <th></th>\n",
       "      <th>url</th>\n",
       "      <th>id</th>\n",
       "      <th>_category</th>\n",
       "      <th>_subcategory</th>\n",
       "      <th>_group</th>\n",
       "      <th>_subgroup</th>\n",
       "      <th>title</th>\n",
       "      <th>date</th>\n",
       "      <th>price</th>\n",
       "      <th>old_price</th>\n",
       "      <th>availability</th>\n",
       "      <th>error_group</th>\n",
       "    </tr>\n",
       "  </thead>\n",
       "  <tbody>\n",
       "    <tr>\n",
       "      <th>0</th>\n",
       "      <td>https://hi-tech.md/bytovaya-tehnika/klimaticheskaya-tehnika/kondicionery/kondicioner-electrolux-eacs-07hat-n321y/</td>\n",
       "      <td>Т-000078544</td>\n",
       "      <td>H_акция</td>\n",
       "      <td>H_рассрочка_12_месяцев___без_переплаты!</td>\n",
       "      <td>H_рассрочка_12_месяцев___без_переплаты!</td>\n",
       "      <td>H_рассрочка_12_месяцев___без_переплаты!</td>\n",
       "      <td>кондиционер Electrolux EACS-07HAT/N3_21Y</td>\n",
       "      <td>2024-06-23</td>\n",
       "      <td>3999.0</td>\n",
       "      <td>NaN</td>\n",
       "      <td>В наличии</td>\n",
       "      <td>0</td>\n",
       "    </tr>\n",
       "    <tr>\n",
       "      <th>1</th>\n",
       "      <td>https://hi-tech.md/bytovaya-tehnika/aksessuary-dlya-melkoy-bytovoy-tehniki/aksessuary-dlya-zubnyh-schetok/nasadka-d-zub-schetki-panasonic-ew0940w830-2sht/</td>\n",
       "      <td>Т-000056675</td>\n",
       "      <td>H_бытовая_техника</td>\n",
       "      <td>H_аксессуары_для_мелкой_бытовой_техники</td>\n",
       "      <td>H_аксессуары_для_зубных_щеток</td>\n",
       "      <td>H_аксессуары_для_зубных_щеток</td>\n",
       "      <td>насадка д/Зубная щетка Panasonic EW0940W830 2шт</td>\n",
       "      <td>2024-06-23</td>\n",
       "      <td>34.0</td>\n",
       "      <td>68.0</td>\n",
       "      <td>В наличии</td>\n",
       "      <td>0</td>\n",
       "    </tr>\n",
       "    <tr>\n",
       "      <th>2</th>\n",
       "      <td>https://hi-tech.md/bytovaya-tehnika/aksessuary-dlya-melkoy-bytovoy-tehniki/aksessuary-dlya-zubnyh-schetok/nasadka-d-zub-schetki-braun-eb10-2k-kids-frozen-1sht/</td>\n",
       "      <td>Т-000021198</td>\n",
       "      <td>H_бытовая_техника</td>\n",
       "      <td>H_аксессуары_для_мелкой_бытовой_техники</td>\n",
       "      <td>H_аксессуары_для_зубных_щеток</td>\n",
       "      <td>H_аксессуары_для_зубных_щеток</td>\n",
       "      <td>насадка д/Зубная щетка Braun EB10 Kids Frozen (1шт)</td>\n",
       "      <td>2024-06-23</td>\n",
       "      <td>94.0</td>\n",
       "      <td>NaN</td>\n",
       "      <td>В наличии</td>\n",
       "      <td>0</td>\n",
       "    </tr>\n",
       "    <tr>\n",
       "      <th>3</th>\n",
       "      <td>https://hi-tech.md/bytovaya-tehnika/aksessuary-dlya-melkoy-bytovoy-tehniki/aksessuary-dlya-zubnyh-schetok/nasadka-d-zub-schetki-braun-eb18-3d-white-1sht/</td>\n",
       "      <td>Т-000068433</td>\n",
       "      <td>H_бытовая_техника</td>\n",
       "      <td>H_аксессуары_для_мелкой_бытовой_техники</td>\n",
       "      <td>H_аксессуары_для_зубных_щеток</td>\n",
       "      <td>H_аксессуары_для_зубных_щеток</td>\n",
       "      <td>насадка д/Зубная щетка Braun EB18 3D White (1шт)</td>\n",
       "      <td>2024-06-23</td>\n",
       "      <td>94.0</td>\n",
       "      <td>NaN</td>\n",
       "      <td>В наличии</td>\n",
       "      <td>0</td>\n",
       "    </tr>\n",
       "    <tr>\n",
       "      <th>4</th>\n",
       "      <td>https://hi-tech.md/bytovaya-tehnika/aksessuary-dlya-melkoy-bytovoy-tehniki/aksessuary-dlya-zubnyh-schetok/nasadka-d-zub-schetki-braun-eb20rb-10-1sht/</td>\n",
       "      <td>Т-000068766</td>\n",
       "      <td>H_бытовая_техника</td>\n",
       "      <td>H_аксессуары_для_мелкой_бытовой_техники</td>\n",
       "      <td>H_аксессуары_для_зубных_щеток</td>\n",
       "      <td>H_аксессуары_для_зубных_щеток</td>\n",
       "      <td>насадка д/Зубная щетка Braun EB20 Precision Clean (1шт)</td>\n",
       "      <td>2024-06-23</td>\n",
       "      <td>94.0</td>\n",
       "      <td>NaN</td>\n",
       "      <td>В наличии</td>\n",
       "      <td>0</td>\n",
       "    </tr>\n",
       "  </tbody>\n",
       "</table>\n",
       "</div>"
      ],
      "text/plain": [
       "                                                                                                                                                               url  \\\n",
       "0                                                https://hi-tech.md/bytovaya-tehnika/klimaticheskaya-tehnika/kondicionery/kondicioner-electrolux-eacs-07hat-n321y/   \n",
       "1       https://hi-tech.md/bytovaya-tehnika/aksessuary-dlya-melkoy-bytovoy-tehniki/aksessuary-dlya-zubnyh-schetok/nasadka-d-zub-schetki-panasonic-ew0940w830-2sht/   \n",
       "2  https://hi-tech.md/bytovaya-tehnika/aksessuary-dlya-melkoy-bytovoy-tehniki/aksessuary-dlya-zubnyh-schetok/nasadka-d-zub-schetki-braun-eb10-2k-kids-frozen-1sht/   \n",
       "3        https://hi-tech.md/bytovaya-tehnika/aksessuary-dlya-melkoy-bytovoy-tehniki/aksessuary-dlya-zubnyh-schetok/nasadka-d-zub-schetki-braun-eb18-3d-white-1sht/   \n",
       "4            https://hi-tech.md/bytovaya-tehnika/aksessuary-dlya-melkoy-bytovoy-tehniki/aksessuary-dlya-zubnyh-schetok/nasadka-d-zub-schetki-braun-eb20rb-10-1sht/   \n",
       "\n",
       "            id          _category                             _subcategory  \\\n",
       "0  Т-000078544            H_акция  H_рассрочка_12_месяцев___без_переплаты!   \n",
       "1  Т-000056675  H_бытовая_техника  H_аксессуары_для_мелкой_бытовой_техники   \n",
       "2  Т-000021198  H_бытовая_техника  H_аксессуары_для_мелкой_бытовой_техники   \n",
       "3  Т-000068433  H_бытовая_техника  H_аксессуары_для_мелкой_бытовой_техники   \n",
       "4  Т-000068766  H_бытовая_техника  H_аксессуары_для_мелкой_бытовой_техники   \n",
       "\n",
       "                                    _group  \\\n",
       "0  H_рассрочка_12_месяцев___без_переплаты!   \n",
       "1            H_аксессуары_для_зубных_щеток   \n",
       "2            H_аксессуары_для_зубных_щеток   \n",
       "3            H_аксессуары_для_зубных_щеток   \n",
       "4            H_аксессуары_для_зубных_щеток   \n",
       "\n",
       "                                 _subgroup  \\\n",
       "0  H_рассрочка_12_месяцев___без_переплаты!   \n",
       "1            H_аксессуары_для_зубных_щеток   \n",
       "2            H_аксессуары_для_зубных_щеток   \n",
       "3            H_аксессуары_для_зубных_щеток   \n",
       "4            H_аксессуары_для_зубных_щеток   \n",
       "\n",
       "                                                     title        date  \\\n",
       "0                 кондиционер Electrolux EACS-07HAT/N3_21Y  2024-06-23   \n",
       "1          насадка д/Зубная щетка Panasonic EW0940W830 2шт  2024-06-23   \n",
       "2      насадка д/Зубная щетка Braun EB10 Kids Frozen (1шт)  2024-06-23   \n",
       "3         насадка д/Зубная щетка Braun EB18 3D White (1шт)  2024-06-23   \n",
       "4  насадка д/Зубная щетка Braun EB20 Precision Clean (1шт)  2024-06-23   \n",
       "\n",
       "    price  old_price availability  error_group  \n",
       "0  3999.0        NaN    В наличии            0  \n",
       "1    34.0       68.0    В наличии            0  \n",
       "2    94.0        NaN    В наличии            0  \n",
       "3    94.0        NaN    В наличии            0  \n",
       "4    94.0        NaN    В наличии            0  "
      ]
     },
     "metadata": {},
     "output_type": "display_data"
    },
    {
     "name": "stdout",
     "output_type": "stream",
     "text": [
      "****************************************************************************************************\n",
      "таблица имеет 8734 сторок и 12 столбцов\n",
      "****************************************************************************************************\n",
      "в таблице обнаружено дублекатов:0\n",
      "****************************************************************************************************\n",
      "в таблице обнаружены пропуски в следующих столбцах:\n"
     ]
    },
    {
     "data": {
      "text/plain": [
       "url                0\n",
       "id                 0\n",
       "_category          0\n",
       "_subcategory       0\n",
       "_group             0\n",
       "_subgroup          0\n",
       "title              0\n",
       "date               0\n",
       "price              0\n",
       "old_price       6546\n",
       "availability       0\n",
       "error_group        0\n",
       "dtype: int64"
      ]
     },
     "metadata": {},
     "output_type": "display_data"
    },
    {
     "name": "stdout",
     "output_type": "stream",
     "text": [
      "****************************************************************************************************\n",
      "Эти пропуски составлябт следующее количество в процентах\n"
     ]
    },
    {
     "data": {
      "text/plain": [
       "url              0.0\n",
       "id               0.0\n",
       "_category        0.0\n",
       "_subcategory     0.0\n",
       "_group           0.0\n",
       "_subgroup        0.0\n",
       "title            0.0\n",
       "date             0.0\n",
       "price            0.0\n",
       "old_price       74.9\n",
       "availability     0.0\n",
       "error_group      0.0\n",
       "dtype: float64"
      ]
     },
     "metadata": {},
     "output_type": "display_data"
    },
    {
     "name": "stdout",
     "output_type": "stream",
     "text": [
      "****************************************************************************************************\n",
      "столбцы имеют следующие типы:\n"
     ]
    },
    {
     "data": {
      "text/plain": [
       "url              object\n",
       "id               object\n",
       "_category        object\n",
       "_subcategory     object\n",
       "_group           object\n",
       "_subgroup        object\n",
       "title            object\n",
       "date             object\n",
       "price           float64\n",
       "old_price       float64\n",
       "availability     object\n",
       "error_group       int64\n",
       "dtype: object"
      ]
     },
     "metadata": {},
     "output_type": "display_data"
    },
    {
     "name": "stdout",
     "output_type": "stream",
     "text": [
      "****************************************************************************************************\n",
      "названия столбцов переписаны в нижнем регистре, пробелы заменены на нижнее подчеркивание\n",
      "****************************************************************************************************\n",
      "<class 'pandas.core.frame.DataFrame'>\n",
      "RangeIndex: 8734 entries, 0 to 8733\n",
      "Data columns (total 12 columns):\n",
      " #   Column        Non-Null Count  Dtype  \n",
      "---  ------        --------------  -----  \n",
      " 0   url           8734 non-null   object \n",
      " 1   id            8734 non-null   object \n",
      " 2   _category     8734 non-null   object \n",
      " 3   _subcategory  8734 non-null   object \n",
      " 4   _group        8734 non-null   object \n",
      " 5   _subgroup     8734 non-null   object \n",
      " 6   title         8734 non-null   object \n",
      " 7   date          8734 non-null   object \n",
      " 8   price         8734 non-null   float64\n",
      " 9   old_price     2188 non-null   float64\n",
      " 10  availability  8734 non-null   object \n",
      " 11  error_group   8734 non-null   int64  \n",
      "dtypes: float64(2), int64(1), object(9)\n",
      "memory usage: 818.9+ KB\n"
     ]
    },
    {
     "data": {
      "text/plain": [
       "None"
      ]
     },
     "metadata": {},
     "output_type": "display_data"
    }
   ],
   "source": [
    "preprocessing(df)"
   ]
  },
  {
   "cell_type": "markdown",
   "id": "23ddbd1e",
   "metadata": {},
   "source": [
    "просмотр данных после парсинга"
   ]
  },
  {
   "cell_type": "markdown",
   "id": "1c22a8c4",
   "metadata": {},
   "source": [
    "# Группировка товара"
   ]
  },
  {
   "cell_type": "markdown",
   "id": "01f53120",
   "metadata": {},
   "source": [
    "- разобраться с креслами в ногруп"
   ]
  },
  {
   "cell_type": "code",
   "execution_count": 42,
   "id": "cec421d4",
   "metadata": {},
   "outputs": [],
   "source": [
    "df.loc[df['_category']=='H_товар_без_акции', '_category'] = 'H_no_group'\n",
    "df.loc[df['_category']=='H_товар_по_акции', '_category'] = 'H_no_group'\n",
    "df.loc[df['_subcategory']=='H_мультимедиа', '_subcategory'] = 'H_аудиосистемы'\n",
    "df.loc[df['_group']=='H_акустические_системы', '_group'] = 'H_акустика'\n",
    "df.loc[df['_group']=='H_музыкальная_техника', '_group'] = 'H_акустика'\n",
    "df.loc[df['_subcategory']=='H_умный_дом_с_яндекс','_subcategory'] = 'H_аудиосистемы'\n",
    "df.loc[df['_group']=='H_яндекс_станции', '_group'] = 'H_акустика'\n",
    "df.loc[df['_group']=='H_airpods', '_subcategory'] = 'H_аудиосистемы'\n",
    "df.loc[df['_group']=='H_airpods', '_group'] = 'H_наушники'\n",
    "df.loc[df['_group']=='H_apple_watch', '_group'] = 'H_часы_и_браслеты'\n",
    "df.loc[df['_group']=='H_iphone', '_group'] = 'H_смартфоны'\n",
    "df.loc[df['_group']=='H_ipad', '_group'] = 'H_планшеты'\n",
    "df.loc[df['_group']=='H_macbook', '_group'] = 'H_ноутбуки'\n",
    "df.loc[df['_group']=='H_imac', '_group'] = 'H_моноблоки'\n",
    "df.loc[df['_group']=='H_часы_и_браслеты', '_subcategory'] = 'H_гаджеты'\n",
    "df.loc[df['_group']=='H_смартфоны', '_subcategory'] = 'H_смартфоны_и_аксессуары'\n",
    "df.loc[df['_group']=='H_планшеты', '_subcategory'] = 'H_готовые_решения'\n",
    "df.loc[df['_group']=='H_ноутбуки', '_subcategory'] = 'H_готовые_решения'\n",
    "df.loc[df['_group']=='H_моноблоки', '_subcategory'] = 'H_готовые_решения'\n",
    "df.loc[df['_subcategory']=='H_стиральные_и_сушильные_машины', '_group'] = 'H_стиральные_машины'\n",
    "df.loc[df['_subgroup']=='H_сушильные_машины', '_group'] = 'H_сушильные_машины'\n",
    "df.loc[df['_subgroup']=='H_наклейки', '_group'] = 'H_наклейки'\n",
    "df.loc[df['_subgroup']=='H_подставки', '_group'] = 'H_подставки'\n",
    "df.loc[df['_subgroup']=='H_замки', '_group'] = 'H_замки'\n",
    "df.loc[df['_subgroup']=='H_usb_hub', '_group'] = 'H_usb_hub'\n",
    "df.loc[df['_subgroup']=='H_сумки_и_чехлы', '_group'] = 'H_сумки_и_чехлы'\n",
    "df.loc[df['_subgroup']=='H_защитные_стекла', '_group'] = 'H_защитные_стекла'\n",
    "df.loc[df['_subcategory']=='H_мониторы','_group'] = 'H_мониторы'"
   ]
  },
  {
   "cell_type": "code",
   "execution_count": 43,
   "id": "517b0314",
   "metadata": {
    "scrolled": false
   },
   "outputs": [
    {
     "name": "stdout",
     "output_type": "stream",
     "text": [
      "H_акция\n",
      "['H_рассрочка_12_месяцев___без_переплаты!']\n",
      "----------------------------------------------------------------------------------------------------\n",
      "H_бытовая_техника\n",
      "['H_аксессуары_для_мелкой_бытовой_техники' 'H_климатическая_техника'\n",
      " 'H_крупная_техника_для_кухни' 'H_мелкая_техника_для_кухни' 'H_минимойки'\n",
      " 'H_приготовление_напитков' 'H_приготовление_пищи'\n",
      " 'H_пылесосы_и_аксессуары' 'H_стиральные_и_сушильные_машины'\n",
      " 'H_техника_karcher' 'H_техника_для_здоровья' 'H_техника_для_красоты'\n",
      " 'H_товары_для_ухода_за_одеждой' 'H_установка_бытовой_техники']\n",
      "----------------------------------------------------------------------------------------------------\n",
      "H_компьютерная_техника\n",
      "['H_аудиосистемы' 'H_гаджеты' 'H_готовые_решения'\n",
      " 'H_смартфоны_и_аксессуары' 'H_apple' 'H_аксессуары' 'H_видеотехника'\n",
      " 'H_игровые_приставки' 'H_комплектующие' 'H_крепления' 'H_мониторы'\n",
      " 'H_накопители' 'H_оргтехника' 'H_периферийные_устройства'\n",
      " 'H_проекторы_и_экраны' 'H_расходные_материалы' 'H_сетевое_оборудование'\n",
      " 'H_электропитание']\n",
      "----------------------------------------------------------------------------------------------------\n",
      "H_мебель_текстиль\n",
      "['H_мебель_для_офиса']\n",
      "----------------------------------------------------------------------------------------------------\n",
      "H_стройка_и_ремонт\n",
      "['H_техника_для_дома' 'H_электроинструменты']\n",
      "----------------------------------------------------------------------------------------------------\n",
      "H_телевизоры_и_электроника\n",
      "['H_аудиосистемы' 'H_батарейки_и_зарядные_устройства' 'H_гаджеты'\n",
      " 'H_крепления_для_тв' 'H_приставки_для_тв' 'H_смартфоны_и_аксессуары'\n",
      " 'H_телевизоры' 'H_телефоны_dect_и_проводные']\n",
      "----------------------------------------------------------------------------------------------------\n",
      "H_no_group\n",
      "['H_товар_без_акции' 'H_товар_по_акции']\n",
      "----------------------------------------------------------------------------------------------------\n",
      "H_товары_для_дома\n",
      "['H_бытовая_химия' 'H_кухонные_принадлежности' 'H_освещение'\n",
      " 'H_посуда_для_духовок_и_микроволновых_печей' 'H_приготовление_напитков'\n",
      " 'H_приготовление_пищи' 'H_сервировка_стола']\n",
      "----------------------------------------------------------------------------------------------------\n"
     ]
    }
   ],
   "source": [
    "for i in df['_category'].unique():\n",
    "    t = df[df['_category']==i]\n",
    "    print(i)\n",
    "    print(t['_subcategory'].unique())\n",
    "    print('-'*100)"
   ]
  },
  {
   "cell_type": "code",
   "execution_count": 44,
   "id": "e7b973f8",
   "metadata": {
    "scrolled": true
   },
   "outputs": [
    {
     "name": "stdout",
     "output_type": "stream",
     "text": [
      "H_рассрочка_12_месяцев___без_переплаты!\n",
      "['H_рассрочка_12_месяцев___без_переплаты!']\n",
      "----------------------------------------------------------------------------------------------------\n",
      "H_аксессуары_для_мелкой_бытовой_техники\n",
      "['H_аксессуары_для_зубных_щеток' 'H_аксессуары_для_электрических_бритв']\n",
      "----------------------------------------------------------------------------------------------------\n",
      "H_климатическая_техника\n",
      "['H_бойлеры' 'H_вентиляторы' 'H_комплектующие_для_климатической_техники'\n",
      " 'H_кондиционеры' 'H_кондиционеры_кассетные' 'H_кондиционеры_мульти_сплит'\n",
      " 'H_кондиционеры_промышленные' 'H_котлы_газовые' 'H_обогреватели'\n",
      " 'H_отопительные_печи' 'H_увлажнители_комплексы']\n",
      "----------------------------------------------------------------------------------------------------\n",
      "H_крупная_техника_для_кухни\n",
      "['H_варочные_поверхности' 'H_вытяжки' 'H_духовые_шкафы'\n",
      " 'H_кронштейны_для_микроволновых_печей' 'H_микроволновые_печи'\n",
      " 'H_морозильники_и_лари' 'H_плиты_газовые_и_электрические'\n",
      " 'H_посудомоечные_машины' 'H_холодильники' 'H_электропечи_и_духовки']\n",
      "----------------------------------------------------------------------------------------------------\n",
      "H_мелкая_техника_для_кухни\n",
      "['H_блендеры' 'H_вакууматоры' 'H_весы_кухонные' 'H_генераторы_льда'\n",
      " 'H_кухонные_комбайны' 'H_ломтерезки' 'H_миксеры' 'H_соковыжималки'\n",
      " 'H_соковыжималки_для_цитрусов' 'H_тостеры' 'H_чопперы'\n",
      " 'H_электромясорубки']\n",
      "----------------------------------------------------------------------------------------------------\n",
      "H_минимойки\n",
      "['H_минимойки']\n",
      "----------------------------------------------------------------------------------------------------\n",
      "H_приготовление_напитков\n",
      "['H_кофе' 'H_кофеварки' 'H_кофемашины' 'H_кофемолки' 'H_термопоты'\n",
      " 'H_турки_электрические' 'H_электрические_чайники' 'H_заварочные_чайники'\n",
      " 'H_кофеварки_гейзерные' 'H_термосы_термокружки_термосумки' 'H_турки'\n",
      " 'H_фильтры_для_воды' 'H_чайники_для_плиты']\n",
      "----------------------------------------------------------------------------------------------------\n",
      "H_приготовление_пищи\n",
      "['H_йогуртницы' 'H_мультиварки' 'H_мультиварки_скороварки' 'H_пароварки'\n",
      " 'H_сушилки_для_фруктов' 'H_сэндвичницы_и_вафельницы'\n",
      " 'H_фритюрницы_и_аэрогрили' 'H_хлебопечи' 'H_электрогрили' 'H_кастрюли'\n",
      " 'H_ковши' 'H_крышки' 'H_наборы_посуды' 'H_сковороды' 'H_сотейники']\n",
      "----------------------------------------------------------------------------------------------------\n",
      "H_пылесосы_и_аксессуары\n",
      "['H_аксессуары_к_пылесосам' 'H_пылесосы' 'H_фильтры_и_мешки_для_пыли']\n",
      "----------------------------------------------------------------------------------------------------\n",
      "H_стиральные_и_сушильные_машины\n",
      "['H_стиральные_машины' 'H_сушильные_машины']\n",
      "----------------------------------------------------------------------------------------------------\n",
      "H_техника_karcher\n",
      "['H_мешки_и_фильтры_karcher']\n",
      "----------------------------------------------------------------------------------------------------\n",
      "H_техника_для_здоровья\n",
      "['H_ирригаторы' 'H_массажеры_ванночки_для_ног' 'H_медицинские_приборы'\n",
      " 'H_электрические_зубные_щетки']\n",
      "----------------------------------------------------------------------------------------------------\n",
      "H_техника_для_красоты\n",
      "['H_весы_напольные' 'H_выпрямители_и_плойки_для_волос'\n",
      " 'H_наборы_для_укладки_волос' 'H_плойки' 'H_триммеры_машинки_для_стрижки'\n",
      " 'H_фены_для_волос' 'H_электрические_бритвы' 'H_эпиляторы']\n",
      "----------------------------------------------------------------------------------------------------\n",
      "H_товары_для_ухода_за_одеждой\n",
      "['H_гладильные_доски' 'H_машинки_для_удаления_катышков'\n",
      " 'H_отпариватели_для_одежды' 'H_парогенераторы' 'H_сушилки_для_белья'\n",
      " 'H_утюги' 'H_швейные_машины']\n",
      "----------------------------------------------------------------------------------------------------\n",
      "H_установка_бытовой_техники\n",
      "['H_установка_бытовой_техники']\n",
      "----------------------------------------------------------------------------------------------------\n",
      "H_аудиосистемы\n",
      "['H_наушники' 'H_акустика' 'H_микрофоны' 'H_радио' 'H_плееры'\n",
      " 'H_саундбары']\n",
      "----------------------------------------------------------------------------------------------------\n",
      "H_гаджеты\n",
      "['H_часы_и_браслеты' 'H_умный_дом']\n",
      "----------------------------------------------------------------------------------------------------\n",
      "H_готовые_решения\n",
      "['H_моноблоки' 'H_планшеты' 'H_ноутбуки' 'H_неттопы' 'H_системные_блоки'\n",
      " 'H_электронные_книги']\n",
      "----------------------------------------------------------------------------------------------------\n",
      "H_смартфоны_и_аксессуары\n",
      "['H_смартфоны' 'H_смартфоны_и_аксессуары' 'H_чехлы']\n",
      "----------------------------------------------------------------------------------------------------\n",
      "H_apple\n",
      "['H_аксессуары']\n",
      "----------------------------------------------------------------------------------------------------\n",
      "H_аксессуары\n",
      "['H_cardreader' 'H_usb_hub' 'H_замки' 'H_наклейки' 'H_подставки'\n",
      " 'H_сумки_и_чехлы' 'H_защитные_стекла' 'H_кабели_и_переходники'\n",
      " 'H_карманы']\n",
      "----------------------------------------------------------------------------------------------------\n",
      "H_видеотехника\n",
      "['H_видеонаблюдение' 'H_видеорегистраторы']\n",
      "----------------------------------------------------------------------------------------------------\n",
      "H_игровые_приставки\n",
      "['H_геймпады' 'H_приставки']\n",
      "----------------------------------------------------------------------------------------------------\n",
      "H_комплектующие\n",
      "['H_блоки_питания' 'H_видеокарты' 'H_звуковые_карты' 'H_корпуса'\n",
      " 'H_материнские_платы' 'H_модули_памяти' 'H_накопитель_(hdd)'\n",
      " 'H_накопитель_(ssd)' 'H_оптические_приводы' 'H_процессоры'\n",
      " 'H_системы_охлаждения' 'H_термопаста']\n",
      "----------------------------------------------------------------------------------------------------\n",
      "H_крепления\n",
      "['H_крепления']\n",
      "----------------------------------------------------------------------------------------------------\n",
      "H_мониторы\n",
      "['H_мониторы']\n",
      "----------------------------------------------------------------------------------------------------\n",
      "H_накопители\n",
      "['H_внешние_hdd_|_ssd' 'H_диски_cd_|_dvd' 'H_карты_памяти_sd_|_microsd'\n",
      " 'H_флешки_usb_|_type_c']\n",
      "----------------------------------------------------------------------------------------------------\n",
      "H_оргтехника\n",
      "['H_кабели' 'H_принтеры_и_мфу' 'H_сканеры' 'H_уничтожители_документов']\n",
      "----------------------------------------------------------------------------------------------------\n",
      "H_периферийные_устройства\n",
      "['H_веб_камеры' 'H_клавиатуры' 'H_манипуляторы' 'H_мыши' 'H_поверхности'\n",
      " 'H_рули']\n",
      "----------------------------------------------------------------------------------------------------\n",
      "H_проекторы_и_экраны\n",
      "['H_проекторы' 'H_экраны']\n",
      "----------------------------------------------------------------------------------------------------\n",
      "H_расходные_материалы\n",
      "['H_бумага' 'H_зипы' 'H_картриджи' 'H_стяжки' 'H_тонер' 'H_чернила'\n",
      " 'H_чистящие_средства']\n",
      "----------------------------------------------------------------------------------------------------\n",
      "H_сетевое_оборудование\n",
      "['H_адаптеры' 'H_инструмент' 'H_кабель_сетевой' 'H_карты_сетевые'\n",
      " 'H_коммутаторы' 'H_патч_корды' 'H_повторители_wifi' 'H_розетки'\n",
      " 'H_сетевые_шкафы' 'H_точки_доступа']\n",
      "----------------------------------------------------------------------------------------------------\n",
      "H_электропитание\n",
      "['H_powerbank' 'H_батареи' 'H_блоки_питания' 'H_зарядные_устройства'\n",
      " 'H_ибп' 'H_инверторы' 'H_стабилизаторы' 'H_фильтры']\n",
      "----------------------------------------------------------------------------------------------------\n",
      "H_мебель_для_офиса\n",
      "['H_офисные_кресла_и_стулья']\n",
      "----------------------------------------------------------------------------------------------------\n",
      "H_техника_для_дома\n",
      "['H_газонокосилки_и_триммеры' 'H_минимойки']\n",
      "----------------------------------------------------------------------------------------------------\n",
      "H_электроинструменты\n",
      "['H_аппараты_для_сварки' 'H_дрели' 'H_инструмент_для_работы_по_дереву'\n",
      " 'H_наборы_инструментов_и_измерительные_приборы' 'H_перфораторы'\n",
      " 'H_расходные_материалы' 'H_строительные_фены' 'H_шлифовальные_машинки'\n",
      " 'H_шуруповерты' 'H_электроинструменты']\n",
      "----------------------------------------------------------------------------------------------------\n",
      "H_батарейки_и_зарядные_устройства\n",
      "['H_батарейки_и_зарядные_устройства']\n",
      "----------------------------------------------------------------------------------------------------\n",
      "H_крепления_для_тв\n",
      "['H_крепления_для_тв']\n",
      "----------------------------------------------------------------------------------------------------\n",
      "H_приставки_для_тв\n",
      "['H_приставки_для_тв']\n",
      "----------------------------------------------------------------------------------------------------\n",
      "H_телевизоры\n",
      "['H_телевизоры' 'H_телевизоры_samsung']\n",
      "----------------------------------------------------------------------------------------------------\n",
      "H_телефоны_dect_и_проводные\n",
      "['H_телефоны_dect_и_проводные']\n",
      "----------------------------------------------------------------------------------------------------\n",
      "H_товар_без_акции\n",
      "['H_товар_без_акции']\n",
      "----------------------------------------------------------------------------------------------------\n",
      "H_товар_по_акции\n",
      "['H_товар_по_акции']\n",
      "----------------------------------------------------------------------------------------------------\n",
      "H_бытовая_химия\n",
      "['H_средства_для_посудомоечных_машин' 'H_средства_для_стирки'\n",
      " 'H_средства_по_уходу_за_техникой']\n",
      "----------------------------------------------------------------------------------------------------\n",
      "H_кухонные_принадлежности\n",
      "['H_кухонные_аксессуары' 'H_ножи'\n",
      " 'H_ёмкости_для_сыпучих_и_контейнеры_для_еды']\n",
      "----------------------------------------------------------------------------------------------------\n",
      "H_освещение\n",
      "['H_бра' 'H_интерьерное_освещение' 'H_лампочки_' 'H_лампы_настольные'\n",
      " 'H_люстры' 'H_светильники_светодиодные' 'H_фонари']\n",
      "----------------------------------------------------------------------------------------------------\n",
      "H_посуда_для_духовок_и_микроволновых_печей\n",
      "['H_формы_и_противни']\n",
      "----------------------------------------------------------------------------------------------------\n",
      "H_сервировка_стола\n",
      "['H_кофейные_и_чайные_чашки' 'H_прочие_предметы_сервировки'\n",
      " 'H_салатники_и_блюда_' 'H_сервировка_стола' 'H_столовые_приборы'\n",
      " 'H_столовые_сервизы_и_тарелки' 'H_фужеры_бокалы_стаканы']\n",
      "----------------------------------------------------------------------------------------------------\n"
     ]
    }
   ],
   "source": [
    "for i in df['_subcategory'].unique():\n",
    "    t = df[df['_subcategory']==i]\n",
    "    print(i)\n",
    "    print(t['_group'].unique())\n",
    "    print('-'*100)"
   ]
  },
  {
   "cell_type": "markdown",
   "id": "ad4ae26c",
   "metadata": {},
   "source": [
    "просмотр групп товаров в подкатегориях"
   ]
  },
  {
   "cell_type": "code",
   "execution_count": 45,
   "id": "1de3d753",
   "metadata": {},
   "outputs": [
    {
     "name": "stdout",
     "output_type": "stream",
     "text": [
      "H_рассрочка_12_месяцев___без_переплаты!\n",
      "['H_рассрочка_12_месяцев___без_переплаты!']\n",
      "----------------------------------------------------------------------------------------------------\n",
      "H_аксессуары_для_зубных_щеток\n",
      "['H_аксессуары_для_зубных_щеток']\n",
      "----------------------------------------------------------------------------------------------------\n",
      "H_аксессуары_для_электрических_бритв\n",
      "['H_аксессуары_для_электрических_бритв']\n",
      "----------------------------------------------------------------------------------------------------\n",
      "H_бойлеры\n",
      "['H_бойлеры']\n",
      "----------------------------------------------------------------------------------------------------\n",
      "H_вентиляторы\n",
      "['H_вентиляторы']\n",
      "----------------------------------------------------------------------------------------------------\n",
      "H_комплектующие_для_климатической_техники\n",
      "['H_комплектующие_для_климатической_техники']\n",
      "----------------------------------------------------------------------------------------------------\n",
      "H_кондиционеры\n",
      "['H_кондиционеры']\n",
      "----------------------------------------------------------------------------------------------------\n",
      "H_кондиционеры_кассетные\n",
      "['H_кондиционеры_кассетные']\n",
      "----------------------------------------------------------------------------------------------------\n",
      "H_кондиционеры_мульти_сплит\n",
      "['H_кондиционеры_мульти_сплит']\n",
      "----------------------------------------------------------------------------------------------------\n",
      "H_кондиционеры_промышленные\n",
      "['H_кондиционеры_промышленные']\n",
      "----------------------------------------------------------------------------------------------------\n",
      "H_котлы_газовые\n",
      "['H_котлы_газовые']\n",
      "----------------------------------------------------------------------------------------------------\n",
      "H_обогреватели\n",
      "['H_обогреватели']\n",
      "----------------------------------------------------------------------------------------------------\n",
      "H_отопительные_печи\n",
      "['H_отопительные_печи']\n",
      "----------------------------------------------------------------------------------------------------\n",
      "H_увлажнители_комплексы\n",
      "['H_увлажнители_комплексы']\n",
      "----------------------------------------------------------------------------------------------------\n",
      "H_варочные_поверхности\n",
      "['H_варочные_поверхности']\n",
      "----------------------------------------------------------------------------------------------------\n",
      "H_вытяжки\n",
      "['H_вытяжки']\n",
      "----------------------------------------------------------------------------------------------------\n",
      "H_духовые_шкафы\n",
      "['H_духовые_шкафы']\n",
      "----------------------------------------------------------------------------------------------------\n",
      "H_кронштейны_для_микроволновых_печей\n",
      "['H_кронштейны_для_микроволновых_печей']\n",
      "----------------------------------------------------------------------------------------------------\n",
      "H_микроволновые_печи\n",
      "['H_микроволновые_печи']\n",
      "----------------------------------------------------------------------------------------------------\n",
      "H_морозильники_и_лари\n",
      "['H_морозильники' 'H_морозильные_лари']\n",
      "----------------------------------------------------------------------------------------------------\n",
      "H_плиты_газовые_и_электрические\n",
      "['H_газовые_плиты' 'H_комбинированные_плиты'\n",
      " 'H_плиты_газовые_и_электрические' 'H_электрические_плиты']\n",
      "----------------------------------------------------------------------------------------------------\n",
      "H_посудомоечные_машины\n",
      "['H_посудомоечные_машины']\n",
      "----------------------------------------------------------------------------------------------------\n",
      "H_холодильники\n",
      "['H_side_by_side_и_french_door' 'H_винные_шкафы'\n",
      " 'H_встраиваемые_холодильники' 'H_однодверные_холодильники'\n",
      " 'H_с_верхней_морозильной_камерой' 'H_с_нижней_морозильной_камерой'\n",
      " 'H_холодильники' 'H_широкие_холодильники']\n",
      "----------------------------------------------------------------------------------------------------\n",
      "H_электропечи_и_духовки\n",
      "['H_электропечи_и_духовки']\n",
      "----------------------------------------------------------------------------------------------------\n",
      "H_блендеры\n",
      "['H_блендеры_погружные' 'H_блендеры_стационарные']\n",
      "----------------------------------------------------------------------------------------------------\n",
      "H_вакууматоры\n",
      "['H_вакууматоры']\n",
      "----------------------------------------------------------------------------------------------------\n",
      "H_весы_кухонные\n",
      "['H_весы_кухонные']\n",
      "----------------------------------------------------------------------------------------------------\n",
      "H_генераторы_льда\n",
      "['H_генераторы_льда']\n",
      "----------------------------------------------------------------------------------------------------\n",
      "H_кухонные_комбайны\n",
      "['H_кухонные_комбайны']\n",
      "----------------------------------------------------------------------------------------------------\n",
      "H_ломтерезки\n",
      "['H_ломтерезки']\n",
      "----------------------------------------------------------------------------------------------------\n",
      "H_миксеры\n",
      "['H_миксеры' 'H_миксеры_планетарные' 'H_миксеры_ручные'\n",
      " 'H_миксеры_стационарные']\n",
      "----------------------------------------------------------------------------------------------------\n",
      "H_соковыжималки\n",
      "['H_соковыжималки']\n",
      "----------------------------------------------------------------------------------------------------\n",
      "H_соковыжималки_для_цитрусов\n",
      "['H_соковыжималки_для_цитрусов']\n",
      "----------------------------------------------------------------------------------------------------\n",
      "H_тостеры\n",
      "['H_тостеры']\n",
      "----------------------------------------------------------------------------------------------------\n",
      "H_чопперы\n",
      "['H_чопперы']\n",
      "----------------------------------------------------------------------------------------------------\n",
      "H_электромясорубки\n",
      "['H_электромясорубки']\n",
      "----------------------------------------------------------------------------------------------------\n",
      "H_минимойки\n",
      "['H_минимойки']\n",
      "----------------------------------------------------------------------------------------------------\n",
      "H_кофе\n",
      "['H_кофе']\n",
      "----------------------------------------------------------------------------------------------------\n",
      "H_кофеварки\n",
      "['H_кофеварки']\n",
      "----------------------------------------------------------------------------------------------------\n",
      "H_кофемашины\n",
      "['H_кофемашины']\n",
      "----------------------------------------------------------------------------------------------------\n",
      "H_кофемолки\n",
      "['H_кофемолки']\n",
      "----------------------------------------------------------------------------------------------------\n",
      "H_термопоты\n",
      "['H_термопоты']\n",
      "----------------------------------------------------------------------------------------------------\n",
      "H_турки_электрические\n",
      "['H_турки_электрические']\n",
      "----------------------------------------------------------------------------------------------------\n",
      "H_электрические_чайники\n",
      "['H_электрические_чайники']\n",
      "----------------------------------------------------------------------------------------------------\n",
      "H_йогуртницы\n",
      "['H_йогуртницы']\n",
      "----------------------------------------------------------------------------------------------------\n",
      "H_мультиварки\n",
      "['H_мультиварки']\n",
      "----------------------------------------------------------------------------------------------------\n",
      "H_мультиварки_скороварки\n",
      "['H_мультиварки_скороварки']\n",
      "----------------------------------------------------------------------------------------------------\n",
      "H_пароварки\n",
      "['H_пароварки']\n",
      "----------------------------------------------------------------------------------------------------\n",
      "H_сушилки_для_фруктов\n",
      "['H_сушилки_для_фруктов']\n",
      "----------------------------------------------------------------------------------------------------\n",
      "H_сэндвичницы_и_вафельницы\n",
      "['H_сэндвичницы_и_вафельницы']\n",
      "----------------------------------------------------------------------------------------------------\n",
      "H_фритюрницы_и_аэрогрили\n",
      "['H_фритюрницы_и_аэрогрили']\n",
      "----------------------------------------------------------------------------------------------------\n",
      "H_хлебопечи\n",
      "['H_хлебопечи']\n",
      "----------------------------------------------------------------------------------------------------\n",
      "H_электрогрили\n",
      "['H_электрогрили']\n",
      "----------------------------------------------------------------------------------------------------\n",
      "H_аксессуары_к_пылесосам\n",
      "['H_аксессуары_к_пылесосам']\n",
      "----------------------------------------------------------------------------------------------------\n",
      "H_пылесосы\n",
      "['H_пылесосы' 'H_пылесосы_karcher' 'H_пылесосы_вертикальные'\n",
      " 'H_пылесосы_с_контейнером' 'H_пылесосы_с_мешком' 'H_роботы_пылесосы']\n",
      "----------------------------------------------------------------------------------------------------\n",
      "H_фильтры_и_мешки_для_пыли\n",
      "['H_фильтры_и_мешки_для_пыли']\n",
      "----------------------------------------------------------------------------------------------------\n",
      "H_стиральные_машины\n",
      "['H_вертикальные_стиральные_машины'\n",
      " 'H_полуавтоматические_стиральные_машины' 'H_стирально_сушильные_машины'\n",
      " 'H_стиральные_и_сушильные_машины' 'H_фронтальные_стиральные_машины']\n",
      "----------------------------------------------------------------------------------------------------\n",
      "H_сушильные_машины\n",
      "['H_сушильные_машины']\n",
      "----------------------------------------------------------------------------------------------------\n",
      "H_мешки_и_фильтры_karcher\n",
      "['H_мешки_и_фильтры_karcher']\n",
      "----------------------------------------------------------------------------------------------------\n",
      "H_ирригаторы\n",
      "['H_ирригаторы']\n",
      "----------------------------------------------------------------------------------------------------\n",
      "H_массажеры_ванночки_для_ног\n",
      "['H_массажеры_ванночки_для_ног']\n",
      "----------------------------------------------------------------------------------------------------\n",
      "H_медицинские_приборы\n",
      "['H_медицинские_приборы']\n",
      "----------------------------------------------------------------------------------------------------\n",
      "H_электрические_зубные_щетки\n",
      "['H_электрические_зубные_щетки']\n",
      "----------------------------------------------------------------------------------------------------\n",
      "H_весы_напольные\n",
      "['H_весы_напольные']\n",
      "----------------------------------------------------------------------------------------------------\n",
      "H_выпрямители_и_плойки_для_волос\n",
      "['H_выпрямители_и_плойки_для_волос']\n",
      "----------------------------------------------------------------------------------------------------\n",
      "H_наборы_для_укладки_волос\n",
      "['H_наборы_для_укладки_волос']\n",
      "----------------------------------------------------------------------------------------------------\n",
      "H_плойки\n",
      "['H_плойки']\n",
      "----------------------------------------------------------------------------------------------------\n",
      "H_триммеры_машинки_для_стрижки\n",
      "['H_триммеры_машинки_для_стрижки']\n",
      "----------------------------------------------------------------------------------------------------\n",
      "H_фены_для_волос\n",
      "['H_фены_для_волос']\n",
      "----------------------------------------------------------------------------------------------------\n",
      "H_электрические_бритвы\n",
      "['H_электрические_бритвы']\n",
      "----------------------------------------------------------------------------------------------------\n",
      "H_эпиляторы\n",
      "['H_эпиляторы']\n",
      "----------------------------------------------------------------------------------------------------\n",
      "H_гладильные_доски\n",
      "['H_гладильные_доски']\n",
      "----------------------------------------------------------------------------------------------------\n",
      "H_машинки_для_удаления_катышков\n",
      "['H_машинки_для_удаления_катышков']\n",
      "----------------------------------------------------------------------------------------------------\n",
      "H_отпариватели_для_одежды\n"
     ]
    },
    {
     "name": "stdout",
     "output_type": "stream",
     "text": [
      "['H_отпариватели_для_одежды']\n",
      "----------------------------------------------------------------------------------------------------\n",
      "H_парогенераторы\n",
      "['H_парогенераторы']\n",
      "----------------------------------------------------------------------------------------------------\n",
      "H_сушилки_для_белья\n",
      "['H_сушилки_для_белья']\n",
      "----------------------------------------------------------------------------------------------------\n",
      "H_утюги\n",
      "['H_утюги']\n",
      "----------------------------------------------------------------------------------------------------\n",
      "H_швейные_машины\n",
      "['H_швейные_машины']\n",
      "----------------------------------------------------------------------------------------------------\n",
      "H_установка_бытовой_техники\n",
      "['H_установка_бытовой_техники']\n",
      "----------------------------------------------------------------------------------------------------\n",
      "H_наушники\n",
      "['H_airpods' 'H_вкладыши' 'H_накладные' 'H_наушники']\n",
      "----------------------------------------------------------------------------------------------------\n",
      "H_часы_и_браслеты\n",
      "['H_apple_watch' 'H_браслеты' 'H_часы' 'H_часы_и_браслеты']\n",
      "----------------------------------------------------------------------------------------------------\n",
      "H_моноблоки\n",
      "['H_imac']\n",
      "----------------------------------------------------------------------------------------------------\n",
      "H_планшеты\n",
      "['H_ipad' 'H_планшеты']\n",
      "----------------------------------------------------------------------------------------------------\n",
      "H_смартфоны\n",
      "['H_iphone' 'H_смартфоны']\n",
      "----------------------------------------------------------------------------------------------------\n",
      "H_ноутбуки\n",
      "['H_macbook' 'H_игровые_ноутбуки'\n",
      " 'H_ноутбуки_для_бизнеса_и_предпринимателей'\n",
      " 'H_ноутбуки_для_личного_пользования']\n",
      "----------------------------------------------------------------------------------------------------\n",
      "H_аксессуары\n",
      "['H_charging']\n",
      "----------------------------------------------------------------------------------------------------\n",
      "H_cardreader\n",
      "['H_cardreader']\n",
      "----------------------------------------------------------------------------------------------------\n",
      "H_usb_hub\n",
      "['H_usb_hub']\n",
      "----------------------------------------------------------------------------------------------------\n",
      "H_замки\n",
      "['H_замки']\n",
      "----------------------------------------------------------------------------------------------------\n",
      "H_наклейки\n",
      "['H_наклейки']\n",
      "----------------------------------------------------------------------------------------------------\n",
      "H_подставки\n",
      "['H_подставки']\n",
      "----------------------------------------------------------------------------------------------------\n",
      "H_сумки_и_чехлы\n",
      "['H_сумки_и_чехлы']\n",
      "----------------------------------------------------------------------------------------------------\n",
      "H_защитные_стекла\n",
      "['H_защитные_стекла']\n",
      "----------------------------------------------------------------------------------------------------\n",
      "H_кабели_и_переходники\n",
      "['H_адаптер' 'H_кабель']\n",
      "----------------------------------------------------------------------------------------------------\n",
      "H_карманы\n",
      "['H_карманы']\n",
      "----------------------------------------------------------------------------------------------------\n",
      "H_видеонаблюдение\n",
      "['H_камеры' 'H_хранилища']\n",
      "----------------------------------------------------------------------------------------------------\n",
      "H_видеорегистраторы\n",
      "['H_видеорегистраторы']\n",
      "----------------------------------------------------------------------------------------------------\n",
      "H_неттопы\n",
      "['H_неттопы']\n",
      "----------------------------------------------------------------------------------------------------\n",
      "H_системные_блоки\n",
      "['H_системные_блоки']\n",
      "----------------------------------------------------------------------------------------------------\n",
      "H_электронные_книги\n",
      "['H_электронные_книги']\n",
      "----------------------------------------------------------------------------------------------------\n",
      "H_геймпады\n",
      "['H_геймпады']\n",
      "----------------------------------------------------------------------------------------------------\n",
      "H_приставки\n",
      "['H_приставки']\n",
      "----------------------------------------------------------------------------------------------------\n",
      "H_блоки_питания\n",
      "['H_блоки_питания']\n",
      "----------------------------------------------------------------------------------------------------\n",
      "H_видеокарты\n",
      "['H_nvidia' 'H_radeon']\n",
      "----------------------------------------------------------------------------------------------------\n",
      "H_звуковые_карты\n",
      "['H_звуковые_карты']\n",
      "----------------------------------------------------------------------------------------------------\n",
      "H_корпуса\n",
      "['H_корпуса']\n",
      "----------------------------------------------------------------------------------------------------\n",
      "H_материнские_платы\n",
      "['H_amd' 'H_intel' 'H_материнские_платы']\n",
      "----------------------------------------------------------------------------------------------------\n",
      "H_модули_памяти\n",
      "['H_dimm' 'H_sodimm']\n",
      "----------------------------------------------------------------------------------------------------\n",
      "H_накопитель_(hdd)\n",
      "['H_hdd_2.5\"' 'H_hdd_3.5\"']\n",
      "----------------------------------------------------------------------------------------------------\n",
      "H_накопитель_(ssd)\n",
      "['H_ssd_2.5\"' 'H_ssd_m.2']\n",
      "----------------------------------------------------------------------------------------------------\n",
      "H_оптические_приводы\n",
      "['H_оптические_приводы']\n",
      "----------------------------------------------------------------------------------------------------\n",
      "H_процессоры\n",
      "['H_amd' 'H_intel' 'H_процессоры']\n",
      "----------------------------------------------------------------------------------------------------\n",
      "H_системы_охлаждения\n",
      "['H_вентиляторы' 'H_кулера']\n",
      "----------------------------------------------------------------------------------------------------\n",
      "H_термопаста\n",
      "['H_термопаста']\n",
      "----------------------------------------------------------------------------------------------------\n",
      "H_крепления\n",
      "['H_крепления']\n",
      "----------------------------------------------------------------------------------------------------\n",
      "H_мониторы\n",
      "['H_smart_tv' 'H_изогнутый' 'H_плоский']\n",
      "----------------------------------------------------------------------------------------------------\n",
      "H_акустика\n",
      "['H_акустика' 'H_портативная' 'H_стационарная' 'H_яндекс_станции'\n",
      " 'H_акустические_системы' 'H_музыкальная_техника']\n",
      "----------------------------------------------------------------------------------------------------\n",
      "H_микрофоны\n",
      "['H_микрофоны']\n",
      "----------------------------------------------------------------------------------------------------\n",
      "H_радио\n",
      "['H_радио' 'H_радио_ит']\n",
      "----------------------------------------------------------------------------------------------------\n",
      "H_внешние_hdd_|_ssd\n",
      "['H_hdd' 'H_ssd' 'H_внешние_hdd_|_ssd']\n",
      "----------------------------------------------------------------------------------------------------\n",
      "H_диски_cd_|_dvd\n",
      "['H_диски_cd_|_dvd']\n",
      "----------------------------------------------------------------------------------------------------\n",
      "H_карты_памяти_sd_|_microsd\n",
      "['H_карты_памяти_sd_|_microsd']\n",
      "----------------------------------------------------------------------------------------------------\n",
      "H_флешки_usb_|_type_c\n",
      "['H_флешки_usb_|_type_c']\n",
      "----------------------------------------------------------------------------------------------------\n",
      "H_кабели\n",
      "['H_кабели']\n",
      "----------------------------------------------------------------------------------------------------\n",
      "H_принтеры_и_мфу\n",
      "['H_мфу' 'H_принтеры']\n",
      "----------------------------------------------------------------------------------------------------\n",
      "H_сканеры\n",
      "['H_сканеры']\n",
      "----------------------------------------------------------------------------------------------------\n",
      "H_уничтожители_документов\n",
      "['H_уничтожители_документов']\n",
      "----------------------------------------------------------------------------------------------------\n",
      "H_веб_камеры\n",
      "['H_веб_камеры']\n",
      "----------------------------------------------------------------------------------------------------\n",
      "H_клавиатуры\n",
      "['H_bluetooth' 'H_kit_usb' 'H_kit_wireless' 'H_usb' 'H_wireless']\n",
      "----------------------------------------------------------------------------------------------------\n",
      "H_манипуляторы\n",
      "['H_манипуляторы']\n",
      "----------------------------------------------------------------------------------------------------\n",
      "H_мыши\n",
      "['H_usb' 'H_wireless']\n",
      "----------------------------------------------------------------------------------------------------\n",
      "H_поверхности\n",
      "['H_поверхности']\n",
      "----------------------------------------------------------------------------------------------------\n",
      "H_рули\n",
      "['H_рули']\n",
      "----------------------------------------------------------------------------------------------------\n",
      "H_проекторы\n",
      "['H_проекторы']\n",
      "----------------------------------------------------------------------------------------------------\n",
      "H_экраны\n",
      "['H_экраны']\n",
      "----------------------------------------------------------------------------------------------------\n",
      "H_бумага\n",
      "['H_бумага']\n",
      "----------------------------------------------------------------------------------------------------\n",
      "H_зипы\n",
      "['H_зипы']\n",
      "----------------------------------------------------------------------------------------------------\n",
      "H_картриджи\n",
      "['H_картриджи']\n",
      "----------------------------------------------------------------------------------------------------\n",
      "H_стяжки\n",
      "['H_стяжки']\n",
      "----------------------------------------------------------------------------------------------------\n",
      "H_тонер\n",
      "['H_тонер']\n",
      "----------------------------------------------------------------------------------------------------\n",
      "H_чернила\n",
      "['H_чернила']\n",
      "----------------------------------------------------------------------------------------------------\n",
      "H_чистящие_средства\n",
      "['H_чистящие_средства']\n",
      "----------------------------------------------------------------------------------------------------\n",
      "H_адаптеры\n",
      "['H_адаптеры']\n",
      "----------------------------------------------------------------------------------------------------\n",
      "H_инструмент\n",
      "['H_инструмент']\n",
      "----------------------------------------------------------------------------------------------------\n",
      "H_кабель_сетевой\n",
      "['H_кабель_сетевой']\n",
      "----------------------------------------------------------------------------------------------------\n",
      "H_карты_сетевые\n",
      "['H_карты_сетевые']\n",
      "----------------------------------------------------------------------------------------------------\n",
      "H_коммутаторы\n",
      "['H_коммутаторы']\n",
      "----------------------------------------------------------------------------------------------------\n",
      "H_патч_корды\n",
      "['H_патч_корды']\n",
      "----------------------------------------------------------------------------------------------------\n",
      "H_повторители_wifi\n",
      "['H_повторители_wifi']\n",
      "----------------------------------------------------------------------------------------------------\n",
      "H_розетки\n",
      "['H_розетки']\n",
      "----------------------------------------------------------------------------------------------------\n",
      "H_сетевые_шкафы\n",
      "['H_сетевые_шкафы']\n",
      "----------------------------------------------------------------------------------------------------\n",
      "H_точки_доступа\n",
      "['H_точки_доступа']\n",
      "----------------------------------------------------------------------------------------------------\n",
      "H_powerbank\n",
      "['H_powerbank']\n",
      "----------------------------------------------------------------------------------------------------\n",
      "H_батареи\n",
      "['H_батареи']\n",
      "----------------------------------------------------------------------------------------------------\n",
      "H_зарядные_устройства\n",
      "['H_auto' 'H_nfc' 'H_power_220w' 'H_зарядные_устройства']\n",
      "----------------------------------------------------------------------------------------------------\n",
      "H_ибп\n",
      "['H_ибп']\n",
      "----------------------------------------------------------------------------------------------------\n",
      "H_инверторы\n",
      "['H_инверторы']\n",
      "----------------------------------------------------------------------------------------------------\n",
      "H_стабилизаторы\n",
      "['H_стабилизаторы']\n",
      "----------------------------------------------------------------------------------------------------\n",
      "H_фильтры\n",
      "['H_фильтры']\n",
      "----------------------------------------------------------------------------------------------------\n",
      "H_офисные_кресла_и_стулья\n",
      "['H_компьютерные_кресла']\n",
      "----------------------------------------------------------------------------------------------------\n",
      "H_газонокосилки_и_триммеры\n",
      "['H_газонокосилки_и_триммеры']\n",
      "----------------------------------------------------------------------------------------------------\n",
      "H_аппараты_для_сварки\n",
      "['H_аппараты_для_сварки']\n",
      "----------------------------------------------------------------------------------------------------\n",
      "H_дрели\n",
      "['H_дрели']\n",
      "----------------------------------------------------------------------------------------------------\n",
      "H_инструмент_для_работы_по_дереву\n",
      "['H_инструмент_для_работы_по_дереву']\n",
      "----------------------------------------------------------------------------------------------------\n",
      "H_наборы_инструментов_и_измерительные_приборы\n",
      "['H_наборы_инструментов_и_измерительные_приборы']\n",
      "----------------------------------------------------------------------------------------------------\n",
      "H_перфораторы\n",
      "['H_перфораторы']\n",
      "----------------------------------------------------------------------------------------------------\n",
      "H_расходные_материалы\n",
      "['H_расходные_материалы']\n",
      "----------------------------------------------------------------------------------------------------\n",
      "H_строительные_фены\n",
      "['H_строительные_фены']\n",
      "----------------------------------------------------------------------------------------------------\n",
      "H_шлифовальные_машинки\n",
      "['H_шлифовальные_машинки']\n",
      "----------------------------------------------------------------------------------------------------\n",
      "H_шуруповерты\n",
      "['H_шуруповерты']\n",
      "----------------------------------------------------------------------------------------------------\n",
      "H_электроинструменты\n",
      "['H_электроинструменты']\n",
      "----------------------------------------------------------------------------------------------------\n",
      "H_плееры\n",
      "['H_плееры']\n",
      "----------------------------------------------------------------------------------------------------\n",
      "H_саундбары\n",
      "['H_саундбары']\n",
      "----------------------------------------------------------------------------------------------------\n",
      "H_батарейки_и_зарядные_устройства\n",
      "['H_батарейки_и_зарядные_устройства']\n",
      "----------------------------------------------------------------------------------------------------\n",
      "H_умный_дом\n",
      "['H_умный_дом']\n",
      "----------------------------------------------------------------------------------------------------\n",
      "H_крепления_для_тв\n",
      "['H_крепления_для_тв']\n",
      "----------------------------------------------------------------------------------------------------\n",
      "H_приставки_для_тв\n",
      "['H_приставки_для_тв']\n",
      "----------------------------------------------------------------------------------------------------\n",
      "H_смартфоны_и_аксессуары\n",
      "['H_смартфоны_и_аксессуары']\n",
      "----------------------------------------------------------------------------------------------------\n",
      "H_чехлы\n",
      "['H_чехлы']\n",
      "----------------------------------------------------------------------------------------------------\n"
     ]
    },
    {
     "name": "stdout",
     "output_type": "stream",
     "text": [
      "H_телевизоры\n",
      "['H_телевизоры']\n",
      "----------------------------------------------------------------------------------------------------\n",
      "H_телевизоры_samsung\n",
      "['H_телевизоры_samsung']\n",
      "----------------------------------------------------------------------------------------------------\n",
      "H_телефоны_dect_и_проводные\n",
      "['H_телефоны_dect_и_проводные']\n",
      "----------------------------------------------------------------------------------------------------\n",
      "H_товар_без_акции\n",
      "['H_товар_без_акции']\n",
      "----------------------------------------------------------------------------------------------------\n",
      "H_товар_по_акции\n",
      "['H_товар_по_акции']\n",
      "----------------------------------------------------------------------------------------------------\n",
      "H_средства_для_посудомоечных_машин\n",
      "['H_средства_для_посудомоечных_машин']\n",
      "----------------------------------------------------------------------------------------------------\n",
      "H_средства_для_стирки\n",
      "['H_средства_для_стирки']\n",
      "----------------------------------------------------------------------------------------------------\n",
      "H_средства_по_уходу_за_техникой\n",
      "['H_средства_по_уходу_за_техникой']\n",
      "----------------------------------------------------------------------------------------------------\n",
      "H_кухонные_аксессуары\n",
      "['H_кухонные_аксессуары']\n",
      "----------------------------------------------------------------------------------------------------\n",
      "H_ножи\n",
      "['H_ножи']\n",
      "----------------------------------------------------------------------------------------------------\n",
      "H_ёмкости_для_сыпучих_и_контейнеры_для_еды\n",
      "['H_ёмкости_для_сыпучих_и_контейнеры_для_еды']\n",
      "----------------------------------------------------------------------------------------------------\n",
      "H_бра\n",
      "['H_бра']\n",
      "----------------------------------------------------------------------------------------------------\n",
      "H_интерьерное_освещение\n",
      "['H_интерьерное_освещение']\n",
      "----------------------------------------------------------------------------------------------------\n",
      "H_лампочки_\n",
      "['H_лампочки_ultra_astra']\n",
      "----------------------------------------------------------------------------------------------------\n",
      "H_лампы_настольные\n",
      "['H_лампы_настольные']\n",
      "----------------------------------------------------------------------------------------------------\n",
      "H_люстры\n",
      "['H_люстры']\n",
      "----------------------------------------------------------------------------------------------------\n",
      "H_светильники_светодиодные\n",
      "['H_светильники_светодиодные']\n",
      "----------------------------------------------------------------------------------------------------\n",
      "H_фонари\n",
      "['H_фонари']\n",
      "----------------------------------------------------------------------------------------------------\n",
      "H_формы_и_противни\n",
      "['H_формы_и_противни']\n",
      "----------------------------------------------------------------------------------------------------\n",
      "H_заварочные_чайники\n",
      "['H_заварочные_чайники']\n",
      "----------------------------------------------------------------------------------------------------\n",
      "H_кофеварки_гейзерные\n",
      "['H_кофеварки_гейзерные']\n",
      "----------------------------------------------------------------------------------------------------\n",
      "H_термосы_термокружки_термосумки\n",
      "['H_термосы_термокружки_термосумки']\n",
      "----------------------------------------------------------------------------------------------------\n",
      "H_турки\n",
      "['H_турки']\n",
      "----------------------------------------------------------------------------------------------------\n",
      "H_фильтры_для_воды\n",
      "['H_фильтры_для_воды']\n",
      "----------------------------------------------------------------------------------------------------\n",
      "H_чайники_для_плиты\n",
      "['H_чайники_для_плиты']\n",
      "----------------------------------------------------------------------------------------------------\n",
      "H_кастрюли\n",
      "['H_кастрюли']\n",
      "----------------------------------------------------------------------------------------------------\n",
      "H_ковши\n",
      "['H_ковши']\n",
      "----------------------------------------------------------------------------------------------------\n",
      "H_крышки\n",
      "['H_крышки']\n",
      "----------------------------------------------------------------------------------------------------\n",
      "H_наборы_посуды\n",
      "['H_наборы_посуды']\n",
      "----------------------------------------------------------------------------------------------------\n",
      "H_сковороды\n",
      "['H_сковороды']\n",
      "----------------------------------------------------------------------------------------------------\n",
      "H_сотейники\n",
      "['H_сотейники']\n",
      "----------------------------------------------------------------------------------------------------\n",
      "H_кофейные_и_чайные_чашки\n",
      "['H_кофейные_и_чайные_чашки']\n",
      "----------------------------------------------------------------------------------------------------\n",
      "H_прочие_предметы_сервировки\n",
      "['H_прочие_предметы_сервировки']\n",
      "----------------------------------------------------------------------------------------------------\n",
      "H_салатники_и_блюда_\n",
      "['H_салатники_и_блюда_']\n",
      "----------------------------------------------------------------------------------------------------\n",
      "H_сервировка_стола\n",
      "['H_сервировка_стола']\n",
      "----------------------------------------------------------------------------------------------------\n",
      "H_столовые_приборы\n",
      "['H_столовые_приборы']\n",
      "----------------------------------------------------------------------------------------------------\n",
      "H_столовые_сервизы_и_тарелки\n",
      "['H_столовые_сервизы_и_тарелки']\n",
      "----------------------------------------------------------------------------------------------------\n",
      "H_фужеры_бокалы_стаканы\n",
      "['H_фужеры_бокалы_стаканы']\n",
      "----------------------------------------------------------------------------------------------------\n"
     ]
    }
   ],
   "source": [
    "for i in df['_group'].unique():\n",
    "    t = df[df['_group']==i]\n",
    "    print(i)\n",
    "    print(t['_subgroup'].unique())\n",
    "    print('-'*100)"
   ]
  },
  {
   "cell_type": "code",
   "execution_count": 46,
   "id": "0d266764",
   "metadata": {},
   "outputs": [
    {
     "data": {
      "text/plain": [
       "array(['H_акция', 'H_бытовая_техника', 'H_компьютерная_техника',\n",
       "       'H_мебель_текстиль', 'H_стройка_и_ремонт',\n",
       "       'H_телевизоры_и_электроника', 'H_no_group', 'H_товары_для_дома'],\n",
       "      dtype=object)"
      ]
     },
     "execution_count": 46,
     "metadata": {},
     "output_type": "execute_result"
    }
   ],
   "source": [
    "df._category.unique()"
   ]
  },
  {
   "cell_type": "code",
   "execution_count": 47,
   "id": "6be4465c",
   "metadata": {},
   "outputs": [
    {
     "data": {
      "text/plain": [
       "array(['H_рассрочка_12_месяцев___без_переплаты!',\n",
       "       'H_аксессуары_для_мелкой_бытовой_техники',\n",
       "       'H_климатическая_техника', 'H_крупная_техника_для_кухни',\n",
       "       'H_мелкая_техника_для_кухни', 'H_минимойки',\n",
       "       'H_приготовление_напитков', 'H_приготовление_пищи',\n",
       "       'H_пылесосы_и_аксессуары', 'H_стиральные_и_сушильные_машины',\n",
       "       'H_техника_karcher', 'H_техника_для_здоровья',\n",
       "       'H_техника_для_красоты', 'H_товары_для_ухода_за_одеждой',\n",
       "       'H_установка_бытовой_техники', 'H_аудиосистемы', 'H_гаджеты',\n",
       "       'H_готовые_решения', 'H_смартфоны_и_аксессуары', 'H_apple',\n",
       "       'H_аксессуары', 'H_видеотехника', 'H_игровые_приставки',\n",
       "       'H_комплектующие', 'H_крепления', 'H_мониторы', 'H_накопители',\n",
       "       'H_оргтехника', 'H_периферийные_устройства',\n",
       "       'H_проекторы_и_экраны', 'H_расходные_материалы',\n",
       "       'H_сетевое_оборудование', 'H_электропитание', 'H_мебель_для_офиса',\n",
       "       'H_техника_для_дома', 'H_электроинструменты',\n",
       "       'H_батарейки_и_зарядные_устройства', 'H_крепления_для_тв',\n",
       "       'H_приставки_для_тв', 'H_телевизоры',\n",
       "       'H_телефоны_dect_и_проводные', 'H_товар_без_акции',\n",
       "       'H_товар_по_акции', 'H_бытовая_химия', 'H_кухонные_принадлежности',\n",
       "       'H_освещение', 'H_посуда_для_духовок_и_микроволновых_печей',\n",
       "       'H_сервировка_стола'], dtype=object)"
      ]
     },
     "execution_count": 47,
     "metadata": {},
     "output_type": "execute_result"
    }
   ],
   "source": [
    "df._subcategory.unique()"
   ]
  },
  {
   "cell_type": "code",
   "execution_count": 48,
   "id": "444f62d9",
   "metadata": {},
   "outputs": [
    {
     "data": {
      "text/plain": [
       "array(['H_рассрочка_12_месяцев___без_переплаты!',\n",
       "       'H_аксессуары_для_зубных_щеток',\n",
       "       'H_аксессуары_для_электрических_бритв', 'H_бойлеры',\n",
       "       'H_вентиляторы', 'H_комплектующие_для_климатической_техники',\n",
       "       'H_кондиционеры', 'H_кондиционеры_кассетные',\n",
       "       'H_кондиционеры_мульти_сплит', 'H_кондиционеры_промышленные',\n",
       "       'H_котлы_газовые', 'H_обогреватели', 'H_отопительные_печи',\n",
       "       'H_увлажнители_комплексы', 'H_варочные_поверхности', 'H_вытяжки',\n",
       "       'H_духовые_шкафы', 'H_кронштейны_для_микроволновых_печей',\n",
       "       'H_микроволновые_печи', 'H_морозильники_и_лари',\n",
       "       'H_плиты_газовые_и_электрические', 'H_посудомоечные_машины',\n",
       "       'H_холодильники', 'H_электропечи_и_духовки', 'H_блендеры',\n",
       "       'H_вакууматоры', 'H_весы_кухонные', 'H_генераторы_льда',\n",
       "       'H_кухонные_комбайны', 'H_ломтерезки', 'H_миксеры',\n",
       "       'H_соковыжималки', 'H_соковыжималки_для_цитрусов', 'H_тостеры',\n",
       "       'H_чопперы', 'H_электромясорубки', 'H_минимойки', 'H_кофе',\n",
       "       'H_кофеварки', 'H_кофемашины', 'H_кофемолки', 'H_термопоты',\n",
       "       'H_турки_электрические', 'H_электрические_чайники', 'H_йогуртницы',\n",
       "       'H_мультиварки', 'H_мультиварки_скороварки', 'H_пароварки',\n",
       "       'H_сушилки_для_фруктов', 'H_сэндвичницы_и_вафельницы',\n",
       "       'H_фритюрницы_и_аэрогрили', 'H_хлебопечи', 'H_электрогрили',\n",
       "       'H_аксессуары_к_пылесосам', 'H_пылесосы',\n",
       "       'H_фильтры_и_мешки_для_пыли', 'H_стиральные_машины',\n",
       "       'H_сушильные_машины', 'H_мешки_и_фильтры_karcher', 'H_ирригаторы',\n",
       "       'H_массажеры_ванночки_для_ног', 'H_медицинские_приборы',\n",
       "       'H_электрические_зубные_щетки', 'H_весы_напольные',\n",
       "       'H_выпрямители_и_плойки_для_волос', 'H_наборы_для_укладки_волос',\n",
       "       'H_плойки', 'H_триммеры_машинки_для_стрижки', 'H_фены_для_волос',\n",
       "       'H_электрические_бритвы', 'H_эпиляторы', 'H_гладильные_доски',\n",
       "       'H_машинки_для_удаления_катышков', 'H_отпариватели_для_одежды',\n",
       "       'H_парогенераторы', 'H_сушилки_для_белья', 'H_утюги',\n",
       "       'H_швейные_машины', 'H_установка_бытовой_техники', 'H_наушники',\n",
       "       'H_часы_и_браслеты', 'H_моноблоки', 'H_планшеты', 'H_смартфоны',\n",
       "       'H_ноутбуки', 'H_аксессуары', 'H_cardreader', 'H_usb_hub',\n",
       "       'H_замки', 'H_наклейки', 'H_подставки', 'H_сумки_и_чехлы',\n",
       "       'H_защитные_стекла', 'H_кабели_и_переходники', 'H_карманы',\n",
       "       'H_видеонаблюдение', 'H_видеорегистраторы', 'H_неттопы',\n",
       "       'H_системные_блоки', 'H_электронные_книги', 'H_геймпады',\n",
       "       'H_приставки', 'H_блоки_питания', 'H_видеокарты',\n",
       "       'H_звуковые_карты', 'H_корпуса', 'H_материнские_платы',\n",
       "       'H_модули_памяти', 'H_накопитель_(hdd)', 'H_накопитель_(ssd)',\n",
       "       'H_оптические_приводы', 'H_процессоры', 'H_системы_охлаждения',\n",
       "       'H_термопаста', 'H_крепления', 'H_мониторы', 'H_акустика',\n",
       "       'H_микрофоны', 'H_радио', 'H_внешние_hdd_|_ssd',\n",
       "       'H_диски_cd_|_dvd', 'H_карты_памяти_sd_|_microsd',\n",
       "       'H_флешки_usb_|_type_c', 'H_кабели', 'H_принтеры_и_мфу',\n",
       "       'H_сканеры', 'H_уничтожители_документов', 'H_веб_камеры',\n",
       "       'H_клавиатуры', 'H_манипуляторы', 'H_мыши', 'H_поверхности',\n",
       "       'H_рули', 'H_проекторы', 'H_экраны', 'H_бумага', 'H_зипы',\n",
       "       'H_картриджи', 'H_стяжки', 'H_тонер', 'H_чернила',\n",
       "       'H_чистящие_средства', 'H_адаптеры', 'H_инструмент',\n",
       "       'H_кабель_сетевой', 'H_карты_сетевые', 'H_коммутаторы',\n",
       "       'H_патч_корды', 'H_повторители_wifi', 'H_розетки',\n",
       "       'H_сетевые_шкафы', 'H_точки_доступа', 'H_powerbank', 'H_батареи',\n",
       "       'H_зарядные_устройства', 'H_ибп', 'H_инверторы', 'H_стабилизаторы',\n",
       "       'H_фильтры', 'H_офисные_кресла_и_стулья',\n",
       "       'H_газонокосилки_и_триммеры', 'H_аппараты_для_сварки', 'H_дрели',\n",
       "       'H_инструмент_для_работы_по_дереву',\n",
       "       'H_наборы_инструментов_и_измерительные_приборы', 'H_перфораторы',\n",
       "       'H_расходные_материалы', 'H_строительные_фены',\n",
       "       'H_шлифовальные_машинки', 'H_шуруповерты', 'H_электроинструменты',\n",
       "       'H_плееры', 'H_саундбары', 'H_батарейки_и_зарядные_устройства',\n",
       "       'H_умный_дом', 'H_крепления_для_тв', 'H_приставки_для_тв',\n",
       "       'H_смартфоны_и_аксессуары', 'H_чехлы', 'H_телевизоры',\n",
       "       'H_телевизоры_samsung', 'H_телефоны_dect_и_проводные',\n",
       "       'H_товар_без_акции', 'H_товар_по_акции',\n",
       "       'H_средства_для_посудомоечных_машин', 'H_средства_для_стирки',\n",
       "       'H_средства_по_уходу_за_техникой', 'H_кухонные_аксессуары',\n",
       "       'H_ножи', 'H_ёмкости_для_сыпучих_и_контейнеры_для_еды', 'H_бра',\n",
       "       'H_интерьерное_освещение', 'H_лампочки_', 'H_лампы_настольные',\n",
       "       'H_люстры', 'H_светильники_светодиодные', 'H_фонари',\n",
       "       'H_формы_и_противни', 'H_заварочные_чайники',\n",
       "       'H_кофеварки_гейзерные', 'H_термосы_термокружки_термосумки',\n",
       "       'H_турки', 'H_фильтры_для_воды', 'H_чайники_для_плиты',\n",
       "       'H_кастрюли', 'H_ковши', 'H_крышки', 'H_наборы_посуды',\n",
       "       'H_сковороды', 'H_сотейники', 'H_кофейные_и_чайные_чашки',\n",
       "       'H_прочие_предметы_сервировки', 'H_салатники_и_блюда_',\n",
       "       'H_сервировка_стола', 'H_столовые_приборы',\n",
       "       'H_столовые_сервизы_и_тарелки', 'H_фужеры_бокалы_стаканы'],\n",
       "      dtype=object)"
      ]
     },
     "execution_count": 48,
     "metadata": {},
     "output_type": "execute_result"
    }
   ],
   "source": [
    "df._group.unique()"
   ]
  },
  {
   "cell_type": "code",
   "execution_count": 49,
   "id": "e644f29c",
   "metadata": {},
   "outputs": [
    {
     "data": {
      "text/plain": [
       "array(['H_рассрочка_12_месяцев___без_переплаты!',\n",
       "       'H_аксессуары_для_зубных_щеток',\n",
       "       'H_аксессуары_для_электрических_бритв', 'H_бойлеры',\n",
       "       'H_вентиляторы', 'H_комплектующие_для_климатической_техники',\n",
       "       'H_кондиционеры', 'H_кондиционеры_кассетные',\n",
       "       'H_кондиционеры_мульти_сплит', 'H_кондиционеры_промышленные',\n",
       "       'H_котлы_газовые', 'H_обогреватели', 'H_отопительные_печи',\n",
       "       'H_увлажнители_комплексы', 'H_варочные_поверхности', 'H_вытяжки',\n",
       "       'H_духовые_шкафы', 'H_кронштейны_для_микроволновых_печей',\n",
       "       'H_микроволновые_печи', 'H_морозильники', 'H_морозильные_лари',\n",
       "       'H_газовые_плиты', 'H_комбинированные_плиты',\n",
       "       'H_плиты_газовые_и_электрические', 'H_электрические_плиты',\n",
       "       'H_посудомоечные_машины', 'H_side_by_side_и_french_door',\n",
       "       'H_винные_шкафы', 'H_встраиваемые_холодильники',\n",
       "       'H_однодверные_холодильники', 'H_с_верхней_морозильной_камерой',\n",
       "       'H_с_нижней_морозильной_камерой', 'H_холодильники',\n",
       "       'H_широкие_холодильники', 'H_электропечи_и_духовки',\n",
       "       'H_блендеры_погружные', 'H_блендеры_стационарные', 'H_вакууматоры',\n",
       "       'H_весы_кухонные', 'H_генераторы_льда', 'H_кухонные_комбайны',\n",
       "       'H_ломтерезки', 'H_миксеры', 'H_миксеры_планетарные',\n",
       "       'H_миксеры_ручные', 'H_миксеры_стационарные', 'H_соковыжималки',\n",
       "       'H_соковыжималки_для_цитрусов', 'H_тостеры', 'H_чопперы',\n",
       "       'H_электромясорубки', 'H_минимойки', 'H_кофе', 'H_кофеварки',\n",
       "       'H_кофемашины', 'H_кофемолки', 'H_термопоты',\n",
       "       'H_турки_электрические', 'H_электрические_чайники', 'H_йогуртницы',\n",
       "       'H_мультиварки', 'H_мультиварки_скороварки', 'H_пароварки',\n",
       "       'H_сушилки_для_фруктов', 'H_сэндвичницы_и_вафельницы',\n",
       "       'H_фритюрницы_и_аэрогрили', 'H_хлебопечи', 'H_электрогрили',\n",
       "       'H_аксессуары_к_пылесосам', 'H_пылесосы', 'H_пылесосы_karcher',\n",
       "       'H_пылесосы_вертикальные', 'H_пылесосы_с_контейнером',\n",
       "       'H_пылесосы_с_мешком', 'H_роботы_пылесосы',\n",
       "       'H_фильтры_и_мешки_для_пыли', 'H_вертикальные_стиральные_машины',\n",
       "       'H_полуавтоматические_стиральные_машины',\n",
       "       'H_стирально_сушильные_машины', 'H_стиральные_и_сушильные_машины',\n",
       "       'H_сушильные_машины', 'H_фронтальные_стиральные_машины',\n",
       "       'H_мешки_и_фильтры_karcher', 'H_ирригаторы',\n",
       "       'H_массажеры_ванночки_для_ног', 'H_медицинские_приборы',\n",
       "       'H_электрические_зубные_щетки', 'H_весы_напольные',\n",
       "       'H_выпрямители_и_плойки_для_волос', 'H_наборы_для_укладки_волос',\n",
       "       'H_плойки', 'H_триммеры_машинки_для_стрижки', 'H_фены_для_волос',\n",
       "       'H_электрические_бритвы', 'H_эпиляторы', 'H_гладильные_доски',\n",
       "       'H_машинки_для_удаления_катышков', 'H_отпариватели_для_одежды',\n",
       "       'H_парогенераторы', 'H_сушилки_для_белья', 'H_утюги',\n",
       "       'H_швейные_машины', 'H_установка_бытовой_техники', 'H_airpods',\n",
       "       'H_apple_watch', 'H_imac', 'H_ipad', 'H_iphone', 'H_macbook',\n",
       "       'H_charging', 'H_cardreader', 'H_usb_hub', 'H_замки', 'H_наклейки',\n",
       "       'H_подставки', 'H_сумки_и_чехлы', 'H_защитные_стекла', 'H_адаптер',\n",
       "       'H_кабель', 'H_карманы', 'H_камеры', 'H_хранилища',\n",
       "       'H_видеорегистраторы', 'H_неттопы', 'H_игровые_ноутбуки',\n",
       "       'H_ноутбуки_для_бизнеса_и_предпринимателей',\n",
       "       'H_ноутбуки_для_личного_пользования', 'H_планшеты',\n",
       "       'H_системные_блоки', 'H_электронные_книги', 'H_геймпады',\n",
       "       'H_приставки', 'H_блоки_питания', 'H_nvidia', 'H_radeon',\n",
       "       'H_звуковые_карты', 'H_корпуса', 'H_amd', 'H_intel',\n",
       "       'H_материнские_платы', 'H_dimm', 'H_sodimm', 'H_hdd_2.5\"',\n",
       "       'H_hdd_3.5\"', 'H_ssd_2.5\"', 'H_ssd_m.2', 'H_оптические_приводы',\n",
       "       'H_процессоры', 'H_кулера', 'H_термопаста', 'H_крепления',\n",
       "       'H_smart_tv', 'H_изогнутый', 'H_плоский', 'H_акустика',\n",
       "       'H_портативная', 'H_стационарная', 'H_микрофоны', 'H_вкладыши',\n",
       "       'H_накладные', 'H_радио', 'H_hdd', 'H_ssd', 'H_внешние_hdd_|_ssd',\n",
       "       'H_диски_cd_|_dvd', 'H_карты_памяти_sd_|_microsd',\n",
       "       'H_флешки_usb_|_type_c', 'H_кабели', 'H_мфу', 'H_принтеры',\n",
       "       'H_сканеры', 'H_уничтожители_документов', 'H_веб_камеры',\n",
       "       'H_bluetooth', 'H_kit_usb', 'H_kit_wireless', 'H_usb',\n",
       "       'H_wireless', 'H_манипуляторы', 'H_поверхности', 'H_рули',\n",
       "       'H_проекторы', 'H_экраны', 'H_бумага', 'H_зипы', 'H_картриджи',\n",
       "       'H_стяжки', 'H_тонер', 'H_чернила', 'H_чистящие_средства',\n",
       "       'H_адаптеры', 'H_инструмент', 'H_кабель_сетевой',\n",
       "       'H_карты_сетевые', 'H_коммутаторы', 'H_патч_корды',\n",
       "       'H_повторители_wifi', 'H_розетки', 'H_сетевые_шкафы',\n",
       "       'H_точки_доступа', 'H_яндекс_станции', 'H_powerbank', 'H_батареи',\n",
       "       'H_auto', 'H_nfc', 'H_power_220w', 'H_зарядные_устройства',\n",
       "       'H_ибп', 'H_инверторы', 'H_стабилизаторы', 'H_фильтры',\n",
       "       'H_компьютерные_кресла', 'H_газонокосилки_и_триммеры',\n",
       "       'H_аппараты_для_сварки', 'H_дрели',\n",
       "       'H_инструмент_для_работы_по_дереву',\n",
       "       'H_наборы_инструментов_и_измерительные_приборы', 'H_перфораторы',\n",
       "       'H_расходные_материалы', 'H_строительные_фены',\n",
       "       'H_шлифовальные_машинки', 'H_шуруповерты', 'H_электроинструменты',\n",
       "       'H_акустические_системы', 'H_музыкальная_техника', 'H_наушники',\n",
       "       'H_плееры', 'H_радио_ит', 'H_саундбары',\n",
       "       'H_батарейки_и_зарядные_устройства', 'H_умный_дом', 'H_браслеты',\n",
       "       'H_часы', 'H_часы_и_браслеты', 'H_крепления_для_тв',\n",
       "       'H_приставки_для_тв', 'H_смартфоны', 'H_смартфоны_и_аксессуары',\n",
       "       'H_чехлы', 'H_телевизоры', 'H_телевизоры_samsung',\n",
       "       'H_телефоны_dect_и_проводные', 'H_товар_без_акции',\n",
       "       'H_товар_по_акции', 'H_средства_для_посудомоечных_машин',\n",
       "       'H_средства_для_стирки', 'H_средства_по_уходу_за_техникой',\n",
       "       'H_кухонные_аксессуары', 'H_ножи',\n",
       "       'H_ёмкости_для_сыпучих_и_контейнеры_для_еды', 'H_бра',\n",
       "       'H_интерьерное_освещение', 'H_лампочки_ultra_astra',\n",
       "       'H_лампы_настольные', 'H_люстры', 'H_светильники_светодиодные',\n",
       "       'H_фонари', 'H_формы_и_противни', 'H_заварочные_чайники',\n",
       "       'H_кофеварки_гейзерные', 'H_термосы_термокружки_термосумки',\n",
       "       'H_турки', 'H_фильтры_для_воды', 'H_чайники_для_плиты',\n",
       "       'H_кастрюли', 'H_ковши', 'H_крышки', 'H_наборы_посуды',\n",
       "       'H_сковороды', 'H_сотейники', 'H_кофейные_и_чайные_чашки',\n",
       "       'H_прочие_предметы_сервировки', 'H_салатники_и_блюда_',\n",
       "       'H_сервировка_стола', 'H_столовые_приборы',\n",
       "       'H_столовые_сервизы_и_тарелки', 'H_фужеры_бокалы_стаканы'],\n",
       "      dtype=object)"
      ]
     },
     "execution_count": 49,
     "metadata": {},
     "output_type": "execute_result"
    }
   ],
   "source": [
    "df._subgroup.unique()"
   ]
  },
  {
   "cell_type": "markdown",
   "id": "3fa5656b",
   "metadata": {},
   "source": [
    "# Подготовка анализа"
   ]
  },
  {
   "cell_type": "code",
   "execution_count": 50,
   "id": "ba7b1765",
   "metadata": {},
   "outputs": [
    {
     "data": {
      "text/html": [
       "<div>\n",
       "<style scoped>\n",
       "    .dataframe tbody tr th:only-of-type {\n",
       "        vertical-align: middle;\n",
       "    }\n",
       "\n",
       "    .dataframe tbody tr th {\n",
       "        vertical-align: top;\n",
       "    }\n",
       "\n",
       "    .dataframe thead th {\n",
       "        text-align: right;\n",
       "    }\n",
       "</style>\n",
       "<table border=\"1\" class=\"dataframe\">\n",
       "  <thead>\n",
       "    <tr style=\"text-align: right;\">\n",
       "      <th></th>\n",
       "      <th>url</th>\n",
       "      <th>id</th>\n",
       "      <th>_category</th>\n",
       "      <th>_subcategory</th>\n",
       "      <th>_group</th>\n",
       "      <th>_subgroup</th>\n",
       "      <th>title</th>\n",
       "      <th>date</th>\n",
       "      <th>price</th>\n",
       "      <th>old_price</th>\n",
       "      <th>availability</th>\n",
       "      <th>error_group</th>\n",
       "    </tr>\n",
       "  </thead>\n",
       "  <tbody>\n",
       "    <tr>\n",
       "      <th>0</th>\n",
       "      <td>https://hi-tech.md/bytovaya-tehnika/klimaticheskaya-tehnika/kondicionery/kondicioner-electrolux-eacs-07hat-n321y/</td>\n",
       "      <td>Т-000078544</td>\n",
       "      <td>H_акция</td>\n",
       "      <td>H_рассрочка_12_месяцев___без_переплаты!</td>\n",
       "      <td>H_рассрочка_12_месяцев___без_переплаты!</td>\n",
       "      <td>H_рассрочка_12_месяцев___без_переплаты!</td>\n",
       "      <td>кондиционер Electrolux EACS-07HAT/N3_21Y</td>\n",
       "      <td>2024-06-23</td>\n",
       "      <td>3999.0</td>\n",
       "      <td>NaN</td>\n",
       "      <td>В наличии</td>\n",
       "      <td>0</td>\n",
       "    </tr>\n",
       "    <tr>\n",
       "      <th>1</th>\n",
       "      <td>https://hi-tech.md/bytovaya-tehnika/aksessuary-dlya-melkoy-bytovoy-tehniki/aksessuary-dlya-zubnyh-schetok/nasadka-d-zub-schetki-panasonic-ew0940w830-2sht/</td>\n",
       "      <td>Т-000056675</td>\n",
       "      <td>H_бытовая_техника</td>\n",
       "      <td>H_аксессуары_для_мелкой_бытовой_техники</td>\n",
       "      <td>H_аксессуары_для_зубных_щеток</td>\n",
       "      <td>H_аксессуары_для_зубных_щеток</td>\n",
       "      <td>насадка д/Зубная щетка Panasonic EW0940W830 2шт</td>\n",
       "      <td>2024-06-23</td>\n",
       "      <td>34.0</td>\n",
       "      <td>68.0</td>\n",
       "      <td>В наличии</td>\n",
       "      <td>0</td>\n",
       "    </tr>\n",
       "  </tbody>\n",
       "</table>\n",
       "</div>"
      ],
      "text/plain": [
       "                                                                                                                                                          url  \\\n",
       "0                                           https://hi-tech.md/bytovaya-tehnika/klimaticheskaya-tehnika/kondicionery/kondicioner-electrolux-eacs-07hat-n321y/   \n",
       "1  https://hi-tech.md/bytovaya-tehnika/aksessuary-dlya-melkoy-bytovoy-tehniki/aksessuary-dlya-zubnyh-schetok/nasadka-d-zub-schetki-panasonic-ew0940w830-2sht/   \n",
       "\n",
       "            id          _category                             _subcategory  \\\n",
       "0  Т-000078544            H_акция  H_рассрочка_12_месяцев___без_переплаты!   \n",
       "1  Т-000056675  H_бытовая_техника  H_аксессуары_для_мелкой_бытовой_техники   \n",
       "\n",
       "                                    _group  \\\n",
       "0  H_рассрочка_12_месяцев___без_переплаты!   \n",
       "1            H_аксессуары_для_зубных_щеток   \n",
       "\n",
       "                                 _subgroup  \\\n",
       "0  H_рассрочка_12_месяцев___без_переплаты!   \n",
       "1            H_аксессуары_для_зубных_щеток   \n",
       "\n",
       "                                             title        date   price  \\\n",
       "0         кондиционер Electrolux EACS-07HAT/N3_21Y  2024-06-23  3999.0   \n",
       "1  насадка д/Зубная щетка Panasonic EW0940W830 2шт  2024-06-23    34.0   \n",
       "\n",
       "   old_price availability  error_group  \n",
       "0        NaN    В наличии            0  \n",
       "1       68.0    В наличии            0  "
      ]
     },
     "execution_count": 50,
     "metadata": {},
     "output_type": "execute_result"
    }
   ],
   "source": [
    "df.head(2)"
   ]
  },
  {
   "cell_type": "code",
   "execution_count": 51,
   "id": "d291de15",
   "metadata": {},
   "outputs": [],
   "source": [
    "brend = pd.read_excel('csv/brend.xlsx')"
   ]
  },
  {
   "cell_type": "code",
   "execution_count": 52,
   "id": "3fd62f9c",
   "metadata": {},
   "outputs": [],
   "source": [
    "def lower(x):\n",
    "    return x.lower()\n",
    "brend['names'] = brend['name'].apply(lower)\n",
    "brend_up = brend.name.unique()\n",
    "brend_low = brend.names.unique()"
   ]
  },
  {
   "cell_type": "markdown",
   "id": "6d34081d",
   "metadata": {},
   "source": [
    "Создаем список брендов"
   ]
  },
  {
   "cell_type": "code",
   "execution_count": 53,
   "id": "a6cc999b",
   "metadata": {},
   "outputs": [
    {
     "data": {
      "application/vnd.jupyter.widget-view+json": {
       "model_id": "f41acd1279ac4ab491b21b4930727018",
       "version_major": 2,
       "version_minor": 0
      },
      "text/plain": [
       "  0%|          | 0/8734 [00:00<?, ?it/s]"
      ]
     },
     "metadata": {},
     "output_type": "display_data"
    }
   ],
   "source": [
    "def brends(x):\n",
    "    xx = x.replace('\\xa0', ' ')\n",
    "    xx = xx.split(' ')    \n",
    "    for i in range(len(xx)-1):\n",
    "        if xx[i].lower() in brend_low:\n",
    "            return xx[i].lower()\n",
    "        elif (str(xx[i].lower())+' '+str(xx[i+1].lower())) in brend_low:\n",
    "            return (str(xx[i].lower())+' '+str(xx[i+1].lower()))    \n",
    "    else:    \n",
    "        return 'другой'\n",
    "tqdm.pandas()\n",
    "df['brend'] = df['title'].progress_apply(brends)"
   ]
  },
  {
   "cell_type": "markdown",
   "id": "8adb4a8b",
   "metadata": {},
   "source": [
    "создаем столбец с брендами"
   ]
  },
  {
   "cell_type": "code",
   "execution_count": 54,
   "id": "3b17f090",
   "metadata": {},
   "outputs": [],
   "source": [
    "df['action_sale'] = 0\n",
    "df.loc[df['old_price'] > 0,'action_sale'] = 1"
   ]
  },
  {
   "cell_type": "markdown",
   "id": "5fcbcc3a",
   "metadata": {},
   "source": [
    "Создаем столбец с флагом акции"
   ]
  },
  {
   "cell_type": "code",
   "execution_count": 55,
   "id": "87e44d83",
   "metadata": {},
   "outputs": [],
   "source": [
    "df['sale'] = (100 - ((df['price']*100)/df['old_price'])).round(2) "
   ]
  },
  {
   "cell_type": "markdown",
   "id": "91917f95",
   "metadata": {},
   "source": [
    "создаем столбец показывающий скидку в процентах"
   ]
  },
  {
   "cell_type": "code",
   "execution_count": 56,
   "id": "55f9287e",
   "metadata": {},
   "outputs": [
    {
     "data": {
      "application/vnd.jupyter.widget-view+json": {
       "model_id": "2f76c39308d24c6885b124dc90d3673c",
       "version_major": 2,
       "version_minor": 0
      },
      "text/plain": [
       "  0%|          | 0/8734 [00:00<?, ?it/s]"
      ]
     },
     "metadata": {},
     "output_type": "display_data"
    }
   ],
   "source": [
    "def count_group(x):\n",
    "    return df[df['_group']==x]['id'].count()    \n",
    "tqdm.pandas()\n",
    "df['count_group'] = df['_group'].progress_apply(count_group)"
   ]
  },
  {
   "cell_type": "markdown",
   "id": "d7ef1d16",
   "metadata": {},
   "source": [
    "создание столбца с количеством товара в группе"
   ]
  },
  {
   "cell_type": "code",
   "execution_count": 57,
   "id": "6432c479",
   "metadata": {},
   "outputs": [
    {
     "data": {
      "application/vnd.jupyter.widget-view+json": {
       "model_id": "add33ef095bc426992316d0ce1751016",
       "version_major": 2,
       "version_minor": 0
      },
      "text/plain": [
       "  0%|          | 0/8734 [00:00<?, ?it/s]"
      ]
     },
     "metadata": {},
     "output_type": "display_data"
    }
   ],
   "source": [
    "def count_group_presence(x):\n",
    "    return df[(df['availability']=='В наличии')&(df['_group']==x)]['id'].count()   \n",
    "tqdm.pandas()\n",
    "df['activ_count_group'] = df['_group'].progress_apply(count_group_presence)"
   ]
  },
  {
   "cell_type": "markdown",
   "id": "2a6594ce",
   "metadata": {},
   "source": [
    "создание столбца с количеством товара, который есть в наличии, в группе"
   ]
  },
  {
   "cell_type": "code",
   "execution_count": 58,
   "id": "7b33f40d",
   "metadata": {},
   "outputs": [
    {
     "data": {
      "application/vnd.jupyter.widget-view+json": {
       "model_id": "e4f956ecebf34f5caf4ef70ccc1b1011",
       "version_major": 2,
       "version_minor": 0
      },
      "text/plain": [
       "  0%|          | 0/8734 [00:00<?, ?it/s]"
      ]
     },
     "metadata": {},
     "output_type": "display_data"
    }
   ],
   "source": [
    "def dif_price(x):    \n",
    "    max_price = df[(df['availability']=='В наличии')&(df['_group']==x)]['price'].max()\n",
    "    min_price = df[(df['availability']=='В наличии')&(df['_group']==x)]['price'].min() \n",
    "    return max_price / min_price\n",
    "tqdm.pandas()\n",
    "df['dif_price'] = df['_group'].progress_apply(dif_price)"
   ]
  },
  {
   "cell_type": "markdown",
   "id": "c88e2d0f",
   "metadata": {},
   "source": [
    "создам столбец с отношением самой дорогой цены в группе к самой дешевой."
   ]
  },
  {
   "cell_type": "code",
   "execution_count": 59,
   "id": "4ab26dc0",
   "metadata": {},
   "outputs": [],
   "source": [
    "df['group_prise'] = df.groupby('_group')['price'].transform(lambda x: pd.cut(x, bins = 4, labels=[\"бюджет\", \"стандарт\", 'дорогой', \"элитный\"]))"
   ]
  },
  {
   "cell_type": "markdown",
   "id": "ea4ee02c",
   "metadata": {},
   "source": [
    "создание столбца с ценовой категорией товара"
   ]
  },
  {
   "cell_type": "code",
   "execution_count": 60,
   "id": "a4e3227a",
   "metadata": {},
   "outputs": [],
   "source": [
    "df = df[['url', 'id', '_category', '_subcategory', '_group', '_subgroup', 'brend', \n",
    "         'title', 'date', 'price', 'old_price', 'action_sale', 'sale', 'group_prise', 'dif_price',\n",
    "         'availability', 'count_group', 'activ_count_group','error_group']]"
   ]
  },
  {
   "cell_type": "code",
   "execution_count": 61,
   "id": "491128a5",
   "metadata": {},
   "outputs": [],
   "source": [
    "df.drop('_subgroup', axis= 1 , inplace= True )"
   ]
  },
  {
   "cell_type": "code",
   "execution_count": 63,
   "id": "fbefe837",
   "metadata": {},
   "outputs": [],
   "source": [
    "df['tir'] = 0"
   ]
  },
  {
   "cell_type": "code",
   "execution_count": 64,
   "id": "de0e1102",
   "metadata": {},
   "outputs": [],
   "source": [
    "df.to_csv('csv/hi_tech_final_'+dt.datetime.now().strftime('%Y_%m_%d')+'.csv', index=False) "
   ]
  },
  {
   "cell_type": "markdown",
   "id": "eeced9ff",
   "metadata": {},
   "source": [
    "# Аналитика акционных товаров"
   ]
  },
  {
   "cell_type": "code",
   "execution_count": null,
   "id": "31c0c9c0",
   "metadata": {},
   "outputs": [],
   "source": [
    "df.head(3)"
   ]
  },
  {
   "cell_type": "code",
   "execution_count": null,
   "id": "68b845f5",
   "metadata": {},
   "outputs": [],
   "source": [
    "df.groupby('_group')['price'].mean().reset_index()"
   ]
  },
  {
   "cell_type": "code",
   "execution_count": null,
   "id": "80b0e7db",
   "metadata": {},
   "outputs": [],
   "source": [
    "plt.rcParams.update(plt.rcParamsDefault)"
   ]
  },
  {
   "cell_type": "code",
   "execution_count": null,
   "id": "09441400",
   "metadata": {},
   "outputs": [],
   "source": [
    "df[df['_group']=='H_пылесосы'].head(2)"
   ]
  },
  {
   "cell_type": "code",
   "execution_count": null,
   "id": "47598972",
   "metadata": {},
   "outputs": [],
   "source": [
    "separator = ['_group','brend','group_prise']"
   ]
  },
  {
   "cell_type": "code",
   "execution_count": null,
   "id": "9ee780a8",
   "metadata": {
    "scrolled": true
   },
   "outputs": [],
   "source": [
    "for x in separator:\n",
    "    for i in df['_subcategory'].unique():        \n",
    "        plt.figure(figsize=(16,9))\n",
    "        sns.barplot(df[df['_subcategory']==i].groupby([x ,'action_sale'])['id'].count().sort_values(ascending=False).reset_index(),\n",
    "                       x=x, y='id', hue='action_sale')\n",
    "        plt.xticks(rotation=20)\n",
    "        plt.title(f'количество товаров разных {x} в подкатегории {i} распределенные по наличию акции ')\n",
    "        plt.xlabel(f' {x}')\n",
    "        plt.ylabel('количество товара')\n",
    "        plt.show()"
   ]
  },
  {
   "cell_type": "code",
   "execution_count": null,
   "id": "98e3c96e",
   "metadata": {},
   "outputs": [],
   "source": [
    "df[df['_subcategory']=='пылесосы_и_аксессуары'].groupby(['_group' ])['action_sale'].mean().reset_index()"
   ]
  },
  {
   "cell_type": "code",
   "execution_count": null,
   "id": "65b05aab",
   "metadata": {
    "scrolled": true
   },
   "outputs": [],
   "source": [
    "for x in separator:\n",
    "    for i in df['_subcategory'].unique():        \n",
    "        plt.figure(figsize=(16,9))\n",
    "        sns.barplot(df[df['_subcategory']==i].groupby(x)['action_sale'].mean().sort_values(ascending=False).reset_index(),\n",
    "                       x=x, y='action_sale', color='blue')\n",
    "        plt.xticks(rotation=20)\n",
    "        plt.title(f'количество товаров разных {x} в подкатегории {i} ')\n",
    "        plt.xlabel(f' {x}')\n",
    "        plt.ylabel('доля акционного товара')\n",
    "        plt.show()"
   ]
  },
  {
   "cell_type": "code",
   "execution_count": null,
   "id": "159d9afb",
   "metadata": {},
   "outputs": [],
   "source": []
  }
 ],
 "metadata": {
  "kernelspec": {
   "display_name": "Python 3 (ipykernel)",
   "language": "python",
   "name": "python3"
  },
  "language_info": {
   "codemirror_mode": {
    "name": "ipython",
    "version": 3
   },
   "file_extension": ".py",
   "mimetype": "text/x-python",
   "name": "python",
   "nbconvert_exporter": "python",
   "pygments_lexer": "ipython3",
   "version": "3.11.3"
  }
 },
 "nbformat": 4,
 "nbformat_minor": 5
}
