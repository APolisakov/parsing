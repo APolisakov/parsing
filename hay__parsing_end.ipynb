{
 "cells": [
  {
   "cell_type": "markdown",
   "id": "fdc5a23c",
   "metadata": {},
   "source": [
    "#"
   ]
  },
  {
   "cell_type": "markdown",
   "id": "4fd89592",
   "metadata": {},
   "source": [
    "# Окончательный вариант парсинга"
   ]
  },
  {
   "cell_type": "code",
   "execution_count": 1,
   "id": "f84e78a4",
   "metadata": {},
   "outputs": [],
   "source": [
    "import pandas as pd\n",
    "import numpy as np\n",
    "import requests\n",
    "from bs4 import BeautifulSoup as bs\n",
    "import re\n",
    "from tqdm.notebook import trange, tqdm\n",
    "from tqdm.gui import tqdm as tqdm_gui\n",
    "from IPython.display import display"
   ]
  },
  {
   "cell_type": "markdown",
   "id": "50e2394a",
   "metadata": {},
   "source": [
    "импорт библиотек"
   ]
  },
  {
   "cell_type": "code",
   "execution_count": 2,
   "id": "40b4318c",
   "metadata": {},
   "outputs": [],
   "source": [
    "import warnings\n",
    "warnings.filterwarnings('ignore')"
   ]
  },
  {
   "cell_type": "markdown",
   "id": "283df9be",
   "metadata": {},
   "source": [
    "отключение ворнингов"
   ]
  },
  {
   "cell_type": "code",
   "execution_count": 3,
   "id": "db0e2f9e",
   "metadata": {},
   "outputs": [],
   "source": [
    "pd.set_option('display.max_colwidth', 1000)\n",
    "pd.set_option('display.max_columns', 1000)\n",
    "pd.set_option('display.max_rows', 1000)"
   ]
  },
  {
   "cell_type": "markdown",
   "id": "76c6f69a",
   "metadata": {},
   "source": [
    "задание параметров таблиц"
   ]
  },
  {
   "cell_type": "code",
   "execution_count": 4,
   "id": "caf0dc2d",
   "metadata": {},
   "outputs": [],
   "source": [
    "def find_id(x):\n",
    "    xxx = x.find('span', class_=\"ty-control-group__item\").text  \n",
    "    return xxx"
   ]
  },
  {
   "cell_type": "markdown",
   "id": "df262d57",
   "metadata": {},
   "source": [
    "функция создания столбца с кодом товара"
   ]
  },
  {
   "cell_type": "code",
   "execution_count": 5,
   "id": "bf143b36",
   "metadata": {},
   "outputs": [],
   "source": [
    "def find_availability(t):\n",
    "    xxx = (t.find('a', class_=\"ty-control-group product-list-field cm-external-click\")\n",
    "           .text.replace('\\ue924','').replace('\\ue86c','').replace('\\n',''))\n",
    "    return xxx  "
   ]
  },
  {
   "cell_type": "markdown",
   "id": "f59d7971",
   "metadata": {},
   "source": [
    "функция создания столбца с парсингом наличия товара"
   ]
  },
  {
   "cell_type": "code",
   "execution_count": 6,
   "id": "e6d33de3",
   "metadata": {},
   "outputs": [],
   "source": [
    "def find_title(t):\n",
    "    xxx = t.find('a', class_=\"product-title\").text\n",
    "    return xxx"
   ]
  },
  {
   "cell_type": "code",
   "execution_count": 7,
   "id": "56b59bb4",
   "metadata": {},
   "outputs": [],
   "source": [
    "def find_price(t):\n",
    "    xxx = t.find('span', class_=\"ty-price-num\").text.replace(u'\\xa0',u'')\n",
    "    return xxx"
   ]
  },
  {
   "cell_type": "code",
   "execution_count": 8,
   "id": "e2e3e51e",
   "metadata": {},
   "outputs": [],
   "source": [
    "def find_old_price(t):\n",
    "    try:\n",
    "        xxx = t.find('span', class_=\"ty-strike\").text.replace(u'\\xa0',u'').replace(u'руб',u'')\n",
    "        return xxx\n",
    "    except:\n",
    "        return np.NaN"
   ]
  },
  {
   "cell_type": "code",
   "execution_count": 9,
   "id": "aa448515",
   "metadata": {},
   "outputs": [],
   "source": [
    "def find_url(t):\n",
    "    xxx = t.find('a', class_=\"abt-single-image\")['href']\n",
    "    return xxx"
   ]
  },
  {
   "cell_type": "code",
   "execution_count": 10,
   "id": "7139fdb8",
   "metadata": {},
   "outputs": [],
   "source": [
    "def preprocessing(x):\n",
    "    print(f'таблица имеет следующий вид:')\n",
    "    display(x.head())\n",
    "    print('*'*100)\n",
    "    print(f'таблица имеет {x.shape[0]} сторок и {x.shape[1]} столбцов')\n",
    "    print('*'*100)\n",
    "    print(f'в таблице обнаружено дублекатов:{x.duplicated().sum()}')\n",
    "    print('*'*100)\n",
    "    print('в таблице обнаружены пропуски в следующих столбцах:')\n",
    "    display(x.isna().sum())\n",
    "    print('*'*100)\n",
    "    print('Эти пропуски составлябт следующее количество в процентах')\n",
    "    display((x.isna().mean()* 100).round(1))\n",
    "    print('*'*100)\n",
    "    print('столбцы имеют следующие типы:')\n",
    "    display(x.dtypes)\n",
    "    x.columns = [y.lower().replace(' ', '_') for y in x.columns.values] \n",
    "    print('*'*100)\n",
    "    print('названия столбцов переписаны в нижнем регистре, пробелы заменены на нижнее подчеркивание')\n",
    "    print('*'*100)\n",
    "    display(x.info())"
   ]
  },
  {
   "cell_type": "code",
   "execution_count": 11,
   "id": "2a8946a6",
   "metadata": {},
   "outputs": [],
   "source": [
    "def parsing_2(url):\n",
    "    data = pd.DataFrame(columns=['url', 'id', 'date', 'availability', 'title', 'price', 'old_price'])\n",
    "    for i in tqdm(url):        \n",
    "        q = 1\n",
    "        while q>0:        \n",
    "            reqx = requests.get(i + str(q))\n",
    "            soup = bs(reqx.text, 'html.parser')\n",
    "            datax = pd.DataFrame({'url':pd.Series(soup.findAll('div', class_='ypi-grid-list__item_body'),dtype = 'object')})\n",
    "            data = pd.concat([data, datax], ignore_index=True)\n",
    "            if len(list(soup.findAll('div', class_='ypi-grid-list__item_body'))) > 0:\n",
    "                q = q + 1\n",
    "            else:\n",
    "                q = 0\n",
    "    #data['soup_name'] = data['soup_name'].apply(names_correct)\n",
    "    data['id'] = data['url'].apply(find_id)\n",
    "    data['date'] = pd.to_datetime('today').normalize()\n",
    "    data['availability'] = data['url'].apply(find_availability)\n",
    "    data['title'] = data['url'].apply(find_title)\n",
    "    data['price'] = data['url'].apply(find_price)\n",
    "    data['old_price'] = data['url'].apply(find_old_price)\n",
    "    data['url'] = data['url'].apply(find_url)\n",
    "    data['price'] = data['price'].astype(float)\n",
    "    data.loc[data['old_price'] == '','old_price'] = np.nan\n",
    "    data['old_price'] = data['old_price'].astype(float)\n",
    "    return data"
   ]
  },
  {
   "cell_type": "markdown",
   "id": "2d627a07",
   "metadata": {},
   "source": [
    "# Парсинг цен кодов товара и url"
   ]
  },
  {
   "cell_type": "code",
   "execution_count": 12,
   "id": "afa38a8d",
   "metadata": {},
   "outputs": [],
   "source": [
    "all_url = ['https://hi-tech.md/televizory-i-elektronika/page-',\n",
    "           'https://hi-tech.md/bytovaya-tehnika/page-',\n",
    "           'https://hi-tech.md/kompyuternaya-tehnika/page-',\n",
    "           'https://hi-tech.md/mebel-tekstil/kompyuternaya-mebel/ofisnye-kresla-i-stulya/komp.-kresla/page-',\n",
    "           'https://hi-tech.md/instrumenty-i-oborudovanie/elektroinstrument/page-',\n",
    "           'https://hi-tech.md/tovary-dlya-doma/page-'\n",
    "          ]"
   ]
  },
  {
   "cell_type": "code",
   "execution_count": 13,
   "id": "064954c3",
   "metadata": {
    "scrolled": true
   },
   "outputs": [
    {
     "data": {
      "application/vnd.jupyter.widget-view+json": {
       "model_id": "b590caf210ec4ed99ffe1d8d754db47b",
       "version_major": 2,
       "version_minor": 0
      },
      "text/plain": [
       "  0%|          | 0/6 [00:00<?, ?it/s]"
      ]
     },
     "metadata": {},
     "output_type": "display_data"
    },
    {
     "data": {
      "text/html": [
       "<div>\n",
       "<style scoped>\n",
       "    .dataframe tbody tr th:only-of-type {\n",
       "        vertical-align: middle;\n",
       "    }\n",
       "\n",
       "    .dataframe tbody tr th {\n",
       "        vertical-align: top;\n",
       "    }\n",
       "\n",
       "    .dataframe thead th {\n",
       "        text-align: right;\n",
       "    }\n",
       "</style>\n",
       "<table border=\"1\" class=\"dataframe\">\n",
       "  <thead>\n",
       "    <tr style=\"text-align: right;\">\n",
       "      <th></th>\n",
       "      <th>url</th>\n",
       "      <th>id</th>\n",
       "      <th>date</th>\n",
       "      <th>availability</th>\n",
       "      <th>title</th>\n",
       "      <th>price</th>\n",
       "      <th>old_price</th>\n",
       "    </tr>\n",
       "  </thead>\n",
       "  <tbody>\n",
       "    <tr>\n",
       "      <th>0</th>\n",
       "      <td>https://hi-tech.md/televizory-i-elektronika/batareyki-i-zaryadnye-ustroystva/batareyka-energenie-eg-ba-cr1220-01/</td>\n",
       "      <td>Т-000088228</td>\n",
       "      <td>2024-06-12</td>\n",
       "      <td>В наличии</td>\n",
       "      <td>Батарейка Energenie EG-BA-CR1220-01</td>\n",
       "      <td>4.0</td>\n",
       "      <td>NaN</td>\n",
       "    </tr>\n",
       "    <tr>\n",
       "      <th>1</th>\n",
       "      <td>https://hi-tech.md/televizory-i-elektronika/batareyki-i-zaryadnye-ustroystva/batareyka-energenie-eg-ba-cr2016-01/</td>\n",
       "      <td>Т-000088229</td>\n",
       "      <td>2024-06-12</td>\n",
       "      <td>В наличии</td>\n",
       "      <td>Батарейка Energenie EG-BA-CR2016-01</td>\n",
       "      <td>4.0</td>\n",
       "      <td>NaN</td>\n",
       "    </tr>\n",
       "    <tr>\n",
       "      <th>2</th>\n",
       "      <td>https://hi-tech.md/televizory-i-elektronika/batareyki-i-zaryadnye-ustroystva/batareyka-energenie-eg-ba-aa4-01/</td>\n",
       "      <td>Т-000088221</td>\n",
       "      <td>2024-06-12</td>\n",
       "      <td>В наличии</td>\n",
       "      <td>Батарейка Energenie EG-BA-AA4-01</td>\n",
       "      <td>5.0</td>\n",
       "      <td>NaN</td>\n",
       "    </tr>\n",
       "    <tr>\n",
       "      <th>3</th>\n",
       "      <td>https://hi-tech.md/televizory-i-elektronika/batareyki-i-zaryadnye-ustroystva/batareyka-energenie-eg-ba-aaa4-01/</td>\n",
       "      <td>Т-000088222</td>\n",
       "      <td>2024-06-12</td>\n",
       "      <td>В наличии</td>\n",
       "      <td>Батарейка Energenie EG-BA-AAA4-01</td>\n",
       "      <td>5.0</td>\n",
       "      <td>NaN</td>\n",
       "    </tr>\n",
       "    <tr>\n",
       "      <th>4</th>\n",
       "      <td>https://hi-tech.md/televizory-i-elektronika/batareyki-i-zaryadnye-ustroystva/batareyka-energenie-eg-ba-cr2025-01/</td>\n",
       "      <td>Т-000088230</td>\n",
       "      <td>2024-06-12</td>\n",
       "      <td>В наличии</td>\n",
       "      <td>Батарейка Energenie EG-BA-CR2025-01</td>\n",
       "      <td>5.0</td>\n",
       "      <td>NaN</td>\n",
       "    </tr>\n",
       "    <tr>\n",
       "      <th>...</th>\n",
       "      <td>...</td>\n",
       "      <td>...</td>\n",
       "      <td>...</td>\n",
       "      <td>...</td>\n",
       "      <td>...</td>\n",
       "      <td>...</td>\n",
       "      <td>...</td>\n",
       "    </tr>\n",
       "    <tr>\n",
       "      <th>9291</th>\n",
       "      <td>https://hi-tech.md/tovary-dlya-doma/osveschenie/lyustry/lyustra-4pl-satipo-transparent-led15w-e27-5628-tkl/</td>\n",
       "      <td>Т-000085036</td>\n",
       "      <td>2024-06-12</td>\n",
       "      <td>В наличии</td>\n",
       "      <td>Люстра 4PL SATIPO TRANSPARENT LED15W E27 (5628) (TKL)</td>\n",
       "      <td>3279.0</td>\n",
       "      <td>4099.0</td>\n",
       "    </tr>\n",
       "    <tr>\n",
       "      <th>9292</th>\n",
       "      <td>https://hi-tech.md/tovary-dlya-doma/osveschenie/lyustry/lyustra-4pl-satipo-amber-led15w-e27-5625-tkl/</td>\n",
       "      <td>Т-000085037</td>\n",
       "      <td>2024-06-12</td>\n",
       "      <td>В наличии</td>\n",
       "      <td>Люстра 4PL SATIPO AMBER LED15W E27 (5625) (TKL)</td>\n",
       "      <td>3311.0</td>\n",
       "      <td>4139.0</td>\n",
       "    </tr>\n",
       "    <tr>\n",
       "      <th>9293</th>\n",
       "      <td>https://hi-tech.md/tovary-dlya-doma/osveschenie/lyustry/lyustra-3pl-universo-black-led15w-e27-4483-tkl/</td>\n",
       "      <td>Т-000085021</td>\n",
       "      <td>2024-06-12</td>\n",
       "      <td>В наличии</td>\n",
       "      <td>Люстра 3PL UNIVERSO BLACK LED15W E27 (4483) (TKL)</td>\n",
       "      <td>3359.0</td>\n",
       "      <td>4199.0</td>\n",
       "    </tr>\n",
       "    <tr>\n",
       "      <th>9294</th>\n",
       "      <td>https://hi-tech.md/tovary-dlya-doma/osveschenie/lyustry/lyustra-6pl-fairy-black-6w-g9-4856-tkl/</td>\n",
       "      <td>Т-000085033</td>\n",
       "      <td>2024-06-12</td>\n",
       "      <td>В наличии</td>\n",
       "      <td>Люстра 6PL FAIRY BLACK 6W G9 (4856) (TKL)</td>\n",
       "      <td>3471.0</td>\n",
       "      <td>4339.0</td>\n",
       "    </tr>\n",
       "    <tr>\n",
       "      <th>9295</th>\n",
       "      <td>https://hi-tech.md/tovary-dlya-doma/osveschenie/lyustry/lyustra-6pl-fairy-gold-6w-g9-3532-tkl/</td>\n",
       "      <td>Т-000085032</td>\n",
       "      <td>2024-06-12</td>\n",
       "      <td>В наличии</td>\n",
       "      <td>Люстра 6PL FAIRY GOLD 6W G9 (3532) (TKL)</td>\n",
       "      <td>3951.0</td>\n",
       "      <td>4939.0</td>\n",
       "    </tr>\n",
       "  </tbody>\n",
       "</table>\n",
       "<p>9296 rows × 7 columns</p>\n",
       "</div>"
      ],
      "text/plain": [
       "                                                                                                                    url  \\\n",
       "0     https://hi-tech.md/televizory-i-elektronika/batareyki-i-zaryadnye-ustroystva/batareyka-energenie-eg-ba-cr1220-01/   \n",
       "1     https://hi-tech.md/televizory-i-elektronika/batareyki-i-zaryadnye-ustroystva/batareyka-energenie-eg-ba-cr2016-01/   \n",
       "2        https://hi-tech.md/televizory-i-elektronika/batareyki-i-zaryadnye-ustroystva/batareyka-energenie-eg-ba-aa4-01/   \n",
       "3       https://hi-tech.md/televizory-i-elektronika/batareyki-i-zaryadnye-ustroystva/batareyka-energenie-eg-ba-aaa4-01/   \n",
       "4     https://hi-tech.md/televizory-i-elektronika/batareyki-i-zaryadnye-ustroystva/batareyka-energenie-eg-ba-cr2025-01/   \n",
       "...                                                                                                                 ...   \n",
       "9291        https://hi-tech.md/tovary-dlya-doma/osveschenie/lyustry/lyustra-4pl-satipo-transparent-led15w-e27-5628-tkl/   \n",
       "9292              https://hi-tech.md/tovary-dlya-doma/osveschenie/lyustry/lyustra-4pl-satipo-amber-led15w-e27-5625-tkl/   \n",
       "9293            https://hi-tech.md/tovary-dlya-doma/osveschenie/lyustry/lyustra-3pl-universo-black-led15w-e27-4483-tkl/   \n",
       "9294                    https://hi-tech.md/tovary-dlya-doma/osveschenie/lyustry/lyustra-6pl-fairy-black-6w-g9-4856-tkl/   \n",
       "9295                     https://hi-tech.md/tovary-dlya-doma/osveschenie/lyustry/lyustra-6pl-fairy-gold-6w-g9-3532-tkl/   \n",
       "\n",
       "               id       date availability  \\\n",
       "0     Т-000088228 2024-06-12    В наличии   \n",
       "1     Т-000088229 2024-06-12    В наличии   \n",
       "2     Т-000088221 2024-06-12    В наличии   \n",
       "3     Т-000088222 2024-06-12    В наличии   \n",
       "4     Т-000088230 2024-06-12    В наличии   \n",
       "...           ...        ...          ...   \n",
       "9291  Т-000085036 2024-06-12    В наличии   \n",
       "9292  Т-000085037 2024-06-12    В наличии   \n",
       "9293  Т-000085021 2024-06-12    В наличии   \n",
       "9294  Т-000085033 2024-06-12    В наличии   \n",
       "9295  Т-000085032 2024-06-12    В наличии   \n",
       "\n",
       "                                                      title   price  old_price  \n",
       "0                       Батарейка Energenie EG-BA-CR1220-01     4.0        NaN  \n",
       "1                       Батарейка Energenie EG-BA-CR2016-01     4.0        NaN  \n",
       "2                          Батарейка Energenie EG-BA-AA4-01     5.0        NaN  \n",
       "3                         Батарейка Energenie EG-BA-AAA4-01     5.0        NaN  \n",
       "4                       Батарейка Energenie EG-BA-CR2025-01     5.0        NaN  \n",
       "...                                                     ...     ...        ...  \n",
       "9291  Люстра 4PL SATIPO TRANSPARENT LED15W E27 (5628) (TKL)  3279.0     4099.0  \n",
       "9292        Люстра 4PL SATIPO AMBER LED15W E27 (5625) (TKL)  3311.0     4139.0  \n",
       "9293      Люстра 3PL UNIVERSO BLACK LED15W E27 (4483) (TKL)  3359.0     4199.0  \n",
       "9294              Люстра 6PL FAIRY BLACK 6W G9 (4856) (TKL)  3471.0     4339.0  \n",
       "9295               Люстра 6PL FAIRY GOLD 6W G9 (3532) (TKL)  3951.0     4939.0  \n",
       "\n",
       "[9296 rows x 7 columns]"
      ]
     },
     "execution_count": 13,
     "metadata": {},
     "output_type": "execute_result"
    }
   ],
   "source": [
    "df = parsing_2(all_url)\n",
    "df"
   ]
  },
  {
   "cell_type": "code",
   "execution_count": 14,
   "id": "630e3ac0",
   "metadata": {
    "scrolled": true
   },
   "outputs": [
    {
     "name": "stdout",
     "output_type": "stream",
     "text": [
      "таблица имеет следующий вид:\n"
     ]
    },
    {
     "data": {
      "text/html": [
       "<div>\n",
       "<style scoped>\n",
       "    .dataframe tbody tr th:only-of-type {\n",
       "        vertical-align: middle;\n",
       "    }\n",
       "\n",
       "    .dataframe tbody tr th {\n",
       "        vertical-align: top;\n",
       "    }\n",
       "\n",
       "    .dataframe thead th {\n",
       "        text-align: right;\n",
       "    }\n",
       "</style>\n",
       "<table border=\"1\" class=\"dataframe\">\n",
       "  <thead>\n",
       "    <tr style=\"text-align: right;\">\n",
       "      <th></th>\n",
       "      <th>url</th>\n",
       "      <th>id</th>\n",
       "      <th>date</th>\n",
       "      <th>availability</th>\n",
       "      <th>title</th>\n",
       "      <th>price</th>\n",
       "      <th>old_price</th>\n",
       "    </tr>\n",
       "  </thead>\n",
       "  <tbody>\n",
       "    <tr>\n",
       "      <th>0</th>\n",
       "      <td>https://hi-tech.md/televizory-i-elektronika/batareyki-i-zaryadnye-ustroystva/batareyka-energenie-eg-ba-cr1220-01/</td>\n",
       "      <td>Т-000088228</td>\n",
       "      <td>2024-06-12</td>\n",
       "      <td>В наличии</td>\n",
       "      <td>Батарейка Energenie EG-BA-CR1220-01</td>\n",
       "      <td>4.0</td>\n",
       "      <td>NaN</td>\n",
       "    </tr>\n",
       "    <tr>\n",
       "      <th>1</th>\n",
       "      <td>https://hi-tech.md/televizory-i-elektronika/batareyki-i-zaryadnye-ustroystva/batareyka-energenie-eg-ba-cr2016-01/</td>\n",
       "      <td>Т-000088229</td>\n",
       "      <td>2024-06-12</td>\n",
       "      <td>В наличии</td>\n",
       "      <td>Батарейка Energenie EG-BA-CR2016-01</td>\n",
       "      <td>4.0</td>\n",
       "      <td>NaN</td>\n",
       "    </tr>\n",
       "    <tr>\n",
       "      <th>2</th>\n",
       "      <td>https://hi-tech.md/televizory-i-elektronika/batareyki-i-zaryadnye-ustroystva/batareyka-energenie-eg-ba-aa4-01/</td>\n",
       "      <td>Т-000088221</td>\n",
       "      <td>2024-06-12</td>\n",
       "      <td>В наличии</td>\n",
       "      <td>Батарейка Energenie EG-BA-AA4-01</td>\n",
       "      <td>5.0</td>\n",
       "      <td>NaN</td>\n",
       "    </tr>\n",
       "    <tr>\n",
       "      <th>3</th>\n",
       "      <td>https://hi-tech.md/televizory-i-elektronika/batareyki-i-zaryadnye-ustroystva/batareyka-energenie-eg-ba-aaa4-01/</td>\n",
       "      <td>Т-000088222</td>\n",
       "      <td>2024-06-12</td>\n",
       "      <td>В наличии</td>\n",
       "      <td>Батарейка Energenie EG-BA-AAA4-01</td>\n",
       "      <td>5.0</td>\n",
       "      <td>NaN</td>\n",
       "    </tr>\n",
       "    <tr>\n",
       "      <th>4</th>\n",
       "      <td>https://hi-tech.md/televizory-i-elektronika/batareyki-i-zaryadnye-ustroystva/batareyka-energenie-eg-ba-cr2025-01/</td>\n",
       "      <td>Т-000088230</td>\n",
       "      <td>2024-06-12</td>\n",
       "      <td>В наличии</td>\n",
       "      <td>Батарейка Energenie EG-BA-CR2025-01</td>\n",
       "      <td>5.0</td>\n",
       "      <td>NaN</td>\n",
       "    </tr>\n",
       "  </tbody>\n",
       "</table>\n",
       "</div>"
      ],
      "text/plain": [
       "                                                                                                                 url  \\\n",
       "0  https://hi-tech.md/televizory-i-elektronika/batareyki-i-zaryadnye-ustroystva/batareyka-energenie-eg-ba-cr1220-01/   \n",
       "1  https://hi-tech.md/televizory-i-elektronika/batareyki-i-zaryadnye-ustroystva/batareyka-energenie-eg-ba-cr2016-01/   \n",
       "2     https://hi-tech.md/televizory-i-elektronika/batareyki-i-zaryadnye-ustroystva/batareyka-energenie-eg-ba-aa4-01/   \n",
       "3    https://hi-tech.md/televizory-i-elektronika/batareyki-i-zaryadnye-ustroystva/batareyka-energenie-eg-ba-aaa4-01/   \n",
       "4  https://hi-tech.md/televizory-i-elektronika/batareyki-i-zaryadnye-ustroystva/batareyka-energenie-eg-ba-cr2025-01/   \n",
       "\n",
       "            id       date availability                                title  \\\n",
       "0  Т-000088228 2024-06-12    В наличии  Батарейка Energenie EG-BA-CR1220-01   \n",
       "1  Т-000088229 2024-06-12    В наличии  Батарейка Energenie EG-BA-CR2016-01   \n",
       "2  Т-000088221 2024-06-12    В наличии     Батарейка Energenie EG-BA-AA4-01   \n",
       "3  Т-000088222 2024-06-12    В наличии    Батарейка Energenie EG-BA-AAA4-01   \n",
       "4  Т-000088230 2024-06-12    В наличии  Батарейка Energenie EG-BA-CR2025-01   \n",
       "\n",
       "   price  old_price  \n",
       "0    4.0        NaN  \n",
       "1    4.0        NaN  \n",
       "2    5.0        NaN  \n",
       "3    5.0        NaN  \n",
       "4    5.0        NaN  "
      ]
     },
     "metadata": {},
     "output_type": "display_data"
    },
    {
     "name": "stdout",
     "output_type": "stream",
     "text": [
      "****************************************************************************************************\n",
      "таблица имеет 9296 сторок и 7 столбцов\n",
      "****************************************************************************************************\n",
      "в таблице обнаружено дублекатов:573\n",
      "****************************************************************************************************\n",
      "в таблице обнаружены пропуски в следующих столбцах:\n"
     ]
    },
    {
     "data": {
      "text/plain": [
       "url                0\n",
       "id                 0\n",
       "date               0\n",
       "availability       0\n",
       "title              0\n",
       "price              0\n",
       "old_price       6846\n",
       "dtype: int64"
      ]
     },
     "metadata": {},
     "output_type": "display_data"
    },
    {
     "name": "stdout",
     "output_type": "stream",
     "text": [
      "****************************************************************************************************\n",
      "Эти пропуски составлябт следующее количество в процентах\n"
     ]
    },
    {
     "data": {
      "text/plain": [
       "url              0.0\n",
       "id               0.0\n",
       "date             0.0\n",
       "availability     0.0\n",
       "title            0.0\n",
       "price            0.0\n",
       "old_price       73.6\n",
       "dtype: float64"
      ]
     },
     "metadata": {},
     "output_type": "display_data"
    },
    {
     "name": "stdout",
     "output_type": "stream",
     "text": [
      "****************************************************************************************************\n",
      "столбцы имеют следующие типы:\n"
     ]
    },
    {
     "data": {
      "text/plain": [
       "url                     object\n",
       "id                      object\n",
       "date            datetime64[ns]\n",
       "availability            object\n",
       "title                   object\n",
       "price                  float64\n",
       "old_price              float64\n",
       "dtype: object"
      ]
     },
     "metadata": {},
     "output_type": "display_data"
    },
    {
     "name": "stdout",
     "output_type": "stream",
     "text": [
      "****************************************************************************************************\n",
      "названия столбцов переписаны в нижнем регистре, пробелы заменены на нижнее подчеркивание\n",
      "****************************************************************************************************\n",
      "<class 'pandas.core.frame.DataFrame'>\n",
      "RangeIndex: 9296 entries, 0 to 9295\n",
      "Data columns (total 7 columns):\n",
      " #   Column        Non-Null Count  Dtype         \n",
      "---  ------        --------------  -----         \n",
      " 0   url           9296 non-null   object        \n",
      " 1   id            9296 non-null   object        \n",
      " 2   date          9296 non-null   datetime64[ns]\n",
      " 3   availability  9296 non-null   object        \n",
      " 4   title         9296 non-null   object        \n",
      " 5   price         9296 non-null   float64       \n",
      " 6   old_price     2450 non-null   float64       \n",
      "dtypes: datetime64[ns](1), float64(2), object(4)\n",
      "memory usage: 508.5+ KB\n"
     ]
    },
    {
     "data": {
      "text/plain": [
       "None"
      ]
     },
     "metadata": {},
     "output_type": "display_data"
    }
   ],
   "source": [
    "preprocessing(df)"
   ]
  },
  {
   "cell_type": "code",
   "execution_count": 15,
   "id": "f7dcb3c2",
   "metadata": {
    "scrolled": true
   },
   "outputs": [],
   "source": [
    "df = df.drop_duplicates()"
   ]
  },
  {
   "cell_type": "code",
   "execution_count": 16,
   "id": "2ecc29f6",
   "metadata": {},
   "outputs": [],
   "source": [
    "def count_sity(x):\n",
    "    try:\n",
    "        reqx = requests.get(x)\n",
    "        soup = bs(reqx.text, 'html.parser')    \n",
    "        element = soup.findAll('div', class_='ty-warehouses-store__availability')\n",
    "        elem_2 = soup.findAll('div', class_='ty-breadcrumbs clearfix')\n",
    "        name = soup.findAll('span', class_='ty-breadcrumbs__current')\n",
    "        data = []\n",
    "        try:\n",
    "            data.append(element[0].text.strip().replace('В наличии', '1').replace('Нет в наличии','0')\n",
    "            .replace('Под заказ (1-3 дня)','0').replace('nan','0'))\n",
    "        except:\n",
    "            data.append(np.NaN)\n",
    "        try:\n",
    "            data.append(element[1].text.strip().replace('В наличии', '1').replace('Нет в наличии','0')\n",
    "            .replace('Под заказ (1-3 дня)','0').replace('nan','0'))\n",
    "        except:\n",
    "            data.append(np.NaN)\n",
    "        try:\n",
    "            data.append(element[2].text.strip().replace('В наличии', '1').replace('Нет в наличии','0')\n",
    "            .replace('Под заказ (1-3 дня)','0').replace('nan','0'))\n",
    "        except:\n",
    "            data.append(np.NaN)\n",
    "        try:\n",
    "            data.append(element[3].text.strip().replace('В наличии', '1').replace('Нет в наличии','0')\n",
    "            .replace('Под заказ (1-3 дня)','0').replace('nan','0'))\n",
    "        except:\n",
    "            data.append(np.NaN)\n",
    "        try:\n",
    "            data.append(element[4].text.strip().replace('В наличии', '1').replace('Нет в наличии','0')\n",
    "            .replace('Под заказ (1-3 дня)','0').replace('nan','0'))\n",
    "        except:\n",
    "            data.append(np.NaN)\n",
    "        try:\n",
    "            data.append(element[5].text.strip().replace('В наличии', '1').replace('Нет в наличии','0')\n",
    "            .replace('Под заказ (1-3 дня)','0').replace('nan','0'))\n",
    "        except:\n",
    "            data.append(np.NaN)\n",
    "        try:\n",
    "            data.append(element[6].text.strip().replace('В наличии', '1').replace('Нет в наличии','0')\n",
    "            .replace('Под заказ (1-3 дня)','0').replace('nan','0'))\n",
    "        except:\n",
    "            data.append(np.NaN)\n",
    "        try:\n",
    "            data.append(element[7].text.strip().replace('В наличии', '1').replace('Нет в наличии','0')\n",
    "            .replace('Под заказ (1-3 дня)','0').replace('nan','0'))\n",
    "        except:\n",
    "            data.append(np.NaN)\n",
    "        try:\n",
    "            data.append(element[8].text.strip().replace('В наличии', '1').replace('Нет в наличии','0')\n",
    "            .replace('Под заказ (1-3 дня)','0').replace('nan','0'))\n",
    "        except:\n",
    "            data.append(np.NaN)\n",
    "        try:\n",
    "            data.append(element[9].text.strip().replace('В наличии', '1').replace('Нет в наличии','0')\n",
    "            .replace('Под заказ (1-3 дня)','0').replace('nan','0'))\n",
    "        except:\n",
    "            data.append(np.NaN)\n",
    "        try:\n",
    "            data.append(element[10].text.strip().replace('В наличии', '1').replace('Нет в наличии','0')\n",
    "            .replace('Под заказ (1-3 дня)','0').replace('nan','0'))\n",
    "        except:\n",
    "            data.append(np.NaN)\n",
    "        try:\n",
    "            data.append(element[11].text.strip().replace('В наличии', '1').replace('Нет в наличии','0')\n",
    "            .replace('Под заказ (1-3 дня)','0').replace('nan','0'))\n",
    "        except:\n",
    "            data.append(np.NaN)\n",
    "        try:\n",
    "            data.append(element[12].text.strip().replace('В наличии', '1').replace('Нет в наличии','0')\n",
    "            .replace('Под заказ (1-3 дня)','0').replace('nan','0'))\n",
    "        except:\n",
    "            data.append(np.NaN)\n",
    "        try:\n",
    "            data.append(element[13].text.strip().replace('В наличии', '1').replace('Нет в наличии','0')\n",
    "            .replace('Под заказ (1-3 дня)','0').replace('nan','0'))\n",
    "        except:\n",
    "            data.append(np.NaN)\n",
    "        try:        \n",
    "            if name[0].text.find('/')<0:\n",
    "                ss = elem_2[0].text\n",
    "            else:\n",
    "                ss = elem_2[0].text[:elem_2[0].text.rfind('/')] + ' ' + elem_2[0].text[elem_2[0].text.rfind('/')+1:]           \n",
    "\n",
    "            if len(ss.split('/')) == 3:\n",
    "                data.append(ss.split(\"/\")[1])\n",
    "                data.append(ss.split(\"/\")[2])\n",
    "                data.append(ss.split(\"/\")[2])\n",
    "                data.append(len(ss.split('/')))\n",
    "            elif len(ss.split('/')) == 4:\n",
    "                data.append(ss.split(\"/\")[1])\n",
    "                data.append(ss.split(\"/\")[2])\n",
    "                data.append(ss.split(\"/\")[2])  \n",
    "                data.append(len(ss.split('/')))\n",
    "            elif len(ss.split('/')) == 5:\n",
    "                data.append(ss.split(\"/\")[1])\n",
    "                data.append(ss.split(\"/\")[2])\n",
    "                data.append(ss.split(\"/\")[3]) \n",
    "                data.append(len(ss.split('/')))\n",
    "            elif len(ss.split('/')) == 6:\n",
    "                data.append(ss.split(\"/\")[1])\n",
    "                data.append(ss.split(\"/\")[2])\n",
    "                data.append(ss.split(\"/\")[-3])  \n",
    "                data.append(len(ss.split('/')))\n",
    "            elif len(ss.split('/')) == 7:\n",
    "                data.append(ss.split(\"/\")[1])\n",
    "                data.append(ss.split(\"/\")[2])\n",
    "                data.append(ss.split(\"/\")[-4])  \n",
    "                data.append(len(ss.split('/')))\n",
    "            elif len(ss.split('/')) == 8:\n",
    "                data.append(ss.split(\"/\")[1])\n",
    "                data.append(ss.split(\"/\")[2])\n",
    "                data.append(ss.split(\"/\")[-5])  \n",
    "                data.append(len(ss.split('/')))\n",
    "            elif len(ss.split('/')) == 9:\n",
    "                data.append(ss.split(\"/\")[1])\n",
    "                data.append(ss.split(\"/\")[2])\n",
    "                data.append(ss.split(\"/\")[-6]) \n",
    "                data.append(len(ss.split('/')))\n",
    "            return data\n",
    "        except:\n",
    "            data.append(np.NaN)\n",
    "            data.append(np.NaN)\n",
    "            data.append(np.NaN)\n",
    "            data.append(np.NaN)\n",
    "            return data\n",
    "    except:\n",
    "        pass"
   ]
  },
  {
   "cell_type": "code",
   "execution_count": null,
   "id": "f1a98927",
   "metadata": {},
   "outputs": [
    {
     "data": {
      "application/vnd.jupyter.widget-view+json": {
       "model_id": "14746dcdb2544a01b56c6de1caa8a924",
       "version_major": 2,
       "version_minor": 0
      },
      "text/plain": [
       "  0%|          | 0/8723 [00:00<?, ?it/s]"
      ]
     },
     "metadata": {},
     "output_type": "display_data"
    }
   ],
   "source": [
    "tqdm.pandas()\n",
    "df['count_sity']= df['url'].progress_apply(count_sity)"
   ]
  },
  {
   "cell_type": "code",
   "execution_count": null,
   "id": "8f85eccd",
   "metadata": {},
   "outputs": [],
   "source": [
    "df['тир_юности_14а'] = df['count_sity'].str[0]\n",
    "df['тир_25_октября_69'] = df['count_sity'].str[1]\n",
    "df['бенд_спортивная_5'] = df['count_sity'].str[2]\n",
    "df['бенд_советская_5'] = df['count_sity'].str[3]\n",
    "df['бенд_советская_8'] = df['count_sity'].str[4]\n",
    "df['слободзея'] = df['count_sity'].str[5]\n",
    "df['днестровск'] = df['count_sity'].str[6]\n",
    "df['первомайск'] = df['count_sity'].str[7]\n",
    "df['григ_кмаркса_181а'] = df['count_sity'].str[8]\n",
    "df['григ_кмаркса_172'] = df['count_sity'].str[9]\n",
    "df['дубоссары'] = df['count_sity'].str[10]\n",
    "df['рыбн_вальченко_43'] = df['count_sity'].str[11]\n",
    "df['рыбн_кирова_135'] = df['count_sity'].str[12]\n",
    "df['каменка'] = df['count_sity'].str[13]\n",
    "df['_category'] = df['count_sity'].str[14]\n",
    "df['_subcategory'] = df['count_sity'].str[15]\n",
    "df['_group'] = df['count_sity'].str[16]\n",
    "df['len'] = df['count_sity'].str[17]"
   ]
  },
  {
   "cell_type": "code",
   "execution_count": null,
   "id": "4b45de1b",
   "metadata": {},
   "outputs": [],
   "source": [
    "df.drop(['count_sity'], axis= 1 , inplace= True )"
   ]
  },
  {
   "cell_type": "code",
   "execution_count": null,
   "id": "10271215",
   "metadata": {
    "scrolled": true
   },
   "outputs": [],
   "source": [
    "preprocessing(df)"
   ]
  },
  {
   "cell_type": "code",
   "execution_count": null,
   "id": "c5907fd5",
   "metadata": {},
   "outputs": [],
   "source": [
    "df['error_count'] = 0\n",
    "df.loc[df['каменка'].isna(), 'error_count'] = 1\n",
    "df['error_group'] = 0\n",
    "df.loc[df['len'].isna(), 'error_group'] = 1"
   ]
  },
  {
   "cell_type": "code",
   "execution_count": null,
   "id": "484a1007",
   "metadata": {
    "scrolled": true
   },
   "outputs": [],
   "source": [
    "df.loc[df['error_count']==1 , ['тир_юности_14а', 'ц_тир_25_октября_69', 'бенд_спортивная_5',\n",
    "       'бенд_советская_5', 'бенд_советская_8', 'слободзея', 'днестровск',\n",
    "       'первомайск', 'григ_кмаркса_181а', 'григ_кмаркса_172', 'дубоссары',\n",
    "       'рыбн_вальченко_43', 'рыбн_кирова_135', 'каменка']] = 0\n",
    "df.loc[df['error_group']==1 , ['_category',\n",
    "       '_subcategory', '_group']] = 'No_group'\n",
    "df.loc[df['error_group']==1 , ['len']] = 0"
   ]
  },
  {
   "cell_type": "code",
   "execution_count": null,
   "id": "fc4dfc5f",
   "metadata": {},
   "outputs": [],
   "source": [
    "df['тир_юности_14а'] = df['тир_юности_14а'].astype('int')\n",
    "df['тир_25_октября_69'] = df['тир_25_октября_69'].astype('int')\n",
    "df['тирасполь'] = df['тир_юности_14а'] + df['тир_25_октября_69']\n",
    "df['бенд_спортивная_5'] = df['бенд_спортивная_5'].astype('int')\n",
    "df['бенд_советская_5'] = df['бенд_советская_5'].astype('int')\n",
    "df['бенд_советская_8'] = df['бенд_советская_8'].astype('int')\n",
    "df['бендеры'] = df['бенд_спортивная_5'] + df['бенд_советская_5'] + df['бенд_советская_8']\n",
    "df['слободзея'] = df['слободзея'].astype('int')\n",
    "df['днестровск'] = df['днестровск'].astype('int')\n",
    "df['первомайск'] = df['первомайск'].astype('int')\n",
    "df['григ_кмаркса_181а'] = df['григ_кмаркса_181а'].astype('int')\n",
    "df['григ_кмаркса_172'] = df['григ_кмаркса_172'].astype('int')\n",
    "df['григориополь'] = df['григ_кмаркса_181а'] + df['григ_кмаркса_172']\n",
    "df['дубоссары'] = df['дубоссары'].astype('int')\n",
    "df['рыбн_вальченко_43'] = df['рыбн_вальченко_43'].astype('int')\n",
    "df['рыбн_кирова_135'] = df['рыбн_кирова_135'].astype('int')\n",
    "df['рыбница'] = df['рыбн_вальченко_43'] + df['рыбн_кирова_135']\n",
    "df['каменка'] = df['каменка'].astype('int')"
   ]
  },
  {
   "cell_type": "code",
   "execution_count": null,
   "id": "56622241",
   "metadata": {},
   "outputs": [],
   "source": [
    "df.columns = [['url', 'id', '_category', '_subcategory', '_group', 'title',\n",
    "               'date',   'price', 'old_price', 'availability', 'тирасполь',\n",
    "               'тир_юности_14а', 'тир_25_октября_69', 'бендеры', 'бенд_спортивная_5',\n",
    "               'бенд_советская_5', 'бенд_советская_8', 'рыбница', 'рыбн_вальченко_43', \n",
    "               'рыбн_кирова_135', 'дубоссары', 'днестровск', 'слободзея', 'первомайск',\n",
    "               'каменка', 'григориополь','григ_кмаркса_181а', 'григ_кмаркса_172',\n",
    "               'len', 'error_count', 'error_group', ]]"
   ]
  },
  {
   "cell_type": "code",
   "execution_count": null,
   "id": "567051bf",
   "metadata": {},
   "outputs": [],
   "source": [
    "dd = ['Батарейки и зарядные устройства', 'Крепления для тв',\n",
    "       'Аудиосистемы', 'Смартфоны и аксессуары', 'Мультимедиа',\n",
    "       'Приставки для ТВ', 'Гаджеты', 'Телефоны dect и проводные',\n",
    "       'Apple', 'Видеотехника', 'Товар без акции', 'Умный дом с Яндекс',\n",
    "       'Телевизоры', 'Пылесосы и аксессуары', 'Техника karcher',\n",
    "       'Аксессуары для мелкой бытовой техники',\n",
    "       'Товары для ухода за одеждой', 'Минимойки',\n",
    "       'Приготовление напитков', 'Мелкая техника для кухни',\n",
    "       'Техника для красоты', 'Стиральные и сушильные машины',\n",
    "       'Крупная техника для кухни', 'Техника для здоровья',\n",
    "       'Климатическая техника', 'Установка бытовой техники',\n",
    "       'Приготовление пищи', 'Техника для дома', 'Накопители',\n",
    "       'Сетевое оборудование', 'Аксессуары', 'Расходные материалы',\n",
    "       'Периферийные устройства', 'Оргтехника', 'Комплектующие',\n",
    "       'Крепления', 'Электропитание', 'Игровые приставки',\n",
    "       'Товар по акции', 'Мониторы', 'Проекторы и экраны',\n",
    "       'Готовые решения', 'Мебель для офиса', 'Электроинструменты',\n",
    "       'Сервировка стола', 'Кухонные принадлежности', 'Освещение',\n",
    "       'Посуда для духовок и микроволновых печей', 'Бытовая химия']"
   ]
  },
  {
   "cell_type": "code",
   "execution_count": null,
   "id": "22dbd0c3",
   "metadata": {},
   "outputs": [],
   "source": [
    "for i in dd:\n",
    "    t = df[df['_subcategory']==i]\n",
    "    print(i)\n",
    "    print(t._group.unique())\n",
    "    print('-'*100)"
   ]
  },
  {
   "cell_type": "code",
   "execution_count": null,
   "id": "d629b04e",
   "metadata": {},
   "outputs": [],
   "source": []
  }
 ],
 "metadata": {
  "kernelspec": {
   "display_name": "Python 3 (ipykernel)",
   "language": "python",
   "name": "python3"
  },
  "language_info": {
   "codemirror_mode": {
    "name": "ipython",
    "version": 3
   },
   "file_extension": ".py",
   "mimetype": "text/x-python",
   "name": "python",
   "nbconvert_exporter": "python",
   "pygments_lexer": "ipython3",
   "version": "3.11.4"
  }
 },
 "nbformat": 4,
 "nbformat_minor": 5
}
