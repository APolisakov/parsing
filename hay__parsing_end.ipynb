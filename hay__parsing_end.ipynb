{
 "cells": [
  {
   "cell_type": "markdown",
   "id": "b5a67d0b",
   "metadata": {},
   "source": [
    "# Окончательный вариант парсинга"
   ]
  },
  {
   "cell_type": "markdown",
   "id": "f4e9675f",
   "metadata": {},
   "source": [
    "# предварительный парсинг"
   ]
  },
  {
   "cell_type": "code",
   "execution_count": 1,
   "id": "f84e78a4",
   "metadata": {},
   "outputs": [],
   "source": [
    "import pandas as pd\n",
    "import numpy as np\n",
    "import requests\n",
    "from bs4 import BeautifulSoup as bs\n",
    "import re\n",
    "from tqdm.notebook import trange, tqdm\n",
    "from tqdm.gui import tqdm as tqdm_gui\n",
    "from IPython.display import display\n",
    "import datetime as dt"
   ]
  },
  {
   "cell_type": "markdown",
   "id": "50e2394a",
   "metadata": {},
   "source": [
    "импорт библиотек"
   ]
  },
  {
   "cell_type": "code",
   "execution_count": 2,
   "id": "40b4318c",
   "metadata": {},
   "outputs": [],
   "source": [
    "import warnings\n",
    "warnings.filterwarnings('ignore')"
   ]
  },
  {
   "cell_type": "markdown",
   "id": "283df9be",
   "metadata": {},
   "source": [
    "отключение ворнингов"
   ]
  },
  {
   "cell_type": "code",
   "execution_count": 3,
   "id": "db0e2f9e",
   "metadata": {},
   "outputs": [],
   "source": [
    "pd.set_option('display.max_colwidth', 1000)\n",
    "pd.set_option('display.max_columns', 1000)\n",
    "pd.set_option('display.max_rows', 1000)"
   ]
  },
  {
   "cell_type": "markdown",
   "id": "76c6f69a",
   "metadata": {},
   "source": [
    "задание параметров таблиц"
   ]
  },
  {
   "cell_type": "code",
   "execution_count": 4,
   "id": "caf0dc2d",
   "metadata": {},
   "outputs": [],
   "source": [
    "def find_id(x):\n",
    "    xxx = x.find('span', class_=\"ty-control-group__item\").text  \n",
    "    return xxx"
   ]
  },
  {
   "cell_type": "markdown",
   "id": "df262d57",
   "metadata": {},
   "source": [
    "функция создания столбца с кодом товара"
   ]
  },
  {
   "cell_type": "code",
   "execution_count": 5,
   "id": "b416d8fa",
   "metadata": {},
   "outputs": [],
   "source": [
    "def find_availability(t):\n",
    "    xxx = (t.find('a', class_=\"ty-control-group product-list-field cm-external-click\")\n",
    "           .text.replace('\\ue924','').replace('\\ue86c','').replace('\\n',''))\n",
    "    return xxx  "
   ]
  },
  {
   "cell_type": "markdown",
   "id": "6ee99509",
   "metadata": {},
   "source": [
    "функция создания столбца с парсингом наличия товара"
   ]
  },
  {
   "cell_type": "code",
   "execution_count": 6,
   "id": "e6d33de3",
   "metadata": {},
   "outputs": [],
   "source": [
    "def find_title(t):\n",
    "    xxx = t.find('a', class_=\"product-title\").text\n",
    "    return xxx"
   ]
  },
  {
   "cell_type": "markdown",
   "id": "e55649ab",
   "metadata": {},
   "source": [
    "функция создающая столбец с названием товара"
   ]
  },
  {
   "cell_type": "code",
   "execution_count": 7,
   "id": "56b59bb4",
   "metadata": {},
   "outputs": [],
   "source": [
    "def find_price(t):\n",
    "    xxx = t.find('span', class_=\"ty-price-num\").text.replace(u'\\xa0',u'')\n",
    "    return xxx"
   ]
  },
  {
   "cell_type": "markdown",
   "id": "f1152316",
   "metadata": {},
   "source": [
    "функция создающая столбец с продажной ценой товара"
   ]
  },
  {
   "cell_type": "code",
   "execution_count": 8,
   "id": "e2e3e51e",
   "metadata": {},
   "outputs": [],
   "source": [
    "def find_old_price(t):\n",
    "    try:\n",
    "        xxx = t.find('span', class_=\"ty-strike\").text.replace(u'\\xa0',u'').replace(u'руб',u'')\n",
    "        return xxx\n",
    "    except:\n",
    "        return np.NaN"
   ]
  },
  {
   "cell_type": "markdown",
   "id": "1382201a",
   "metadata": {},
   "source": [
    "функция созжающая столбец с предидущей ценой для акционного товара"
   ]
  },
  {
   "cell_type": "code",
   "execution_count": 9,
   "id": "aa448515",
   "metadata": {},
   "outputs": [],
   "source": [
    "def find_url(t):\n",
    "    xxx = t.find('a', class_=\"abt-single-image\")['href']\n",
    "    return xxx"
   ]
  },
  {
   "cell_type": "markdown",
   "id": "6eca4a17",
   "metadata": {},
   "source": [
    "Функция создающая столбец с урл адресом товара"
   ]
  },
  {
   "cell_type": "code",
   "execution_count": 10,
   "id": "085fc63b",
   "metadata": {},
   "outputs": [],
   "source": [
    "def preprocessing(x):\n",
    "    print(f'таблица имеет следующий вид:')\n",
    "    display(x.head())\n",
    "    print('*'*100)\n",
    "    print(f'таблица имеет {x.shape[0]} сторок и {x.shape[1]} столбцов')\n",
    "    print('*'*100)\n",
    "    print(f'в таблице обнаружено дублекатов:{x.duplicated().sum()}')\n",
    "    print('*'*100)\n",
    "    print('в таблице обнаружены пропуски в следующих столбцах:')\n",
    "    display(x.isna().sum())\n",
    "    print('*'*100)\n",
    "    print('Эти пропуски составлябт следующее количество в процентах')\n",
    "    display((x.isna().mean()* 100).round(1))\n",
    "    print('*'*100)\n",
    "    print('столбцы имеют следующие типы:')\n",
    "    display(x.dtypes)\n",
    "    x.columns = [y.lower().replace(' ', '_') for y in x.columns.values] \n",
    "    print('*'*100)\n",
    "    print('названия столбцов переписаны в нижнем регистре, пробелы заменены на нижнее подчеркивание')\n",
    "    print('*'*100)\n",
    "    display(x.info())"
   ]
  },
  {
   "cell_type": "markdown",
   "id": "938825e4",
   "metadata": {},
   "source": [
    "Функция для проверки датафрейма(вид дублекаты пропуски)"
   ]
  },
  {
   "cell_type": "code",
   "execution_count": 11,
   "id": "f5e1f4c1",
   "metadata": {},
   "outputs": [],
   "source": [
    "def parsing_2(url):\n",
    "    data = pd.DataFrame(columns=['url', 'id', 'date', 'availability', 'title', 'price', 'old_price'])\n",
    "    for i in tqdm(url):        \n",
    "        q = 1\n",
    "        while q>0:        \n",
    "            reqx = requests.get(i + str(q))\n",
    "            soup = bs(reqx.text, 'html.parser')\n",
    "            datax = pd.DataFrame({'url':pd.Series(soup.findAll('div', class_='ypi-grid-list__item_body'),dtype = 'object')})\n",
    "            data = pd.concat([data, datax], ignore_index=True)\n",
    "            if len(list(soup.findAll('div', class_='ypi-grid-list__item_body'))) > 0:\n",
    "                q = q + 1\n",
    "            else:\n",
    "                q = 0\n",
    "    data['id'] = data['url'].apply(find_id)\n",
    "    data['date'] = pd.to_datetime('today').normalize()\n",
    "    data['availability'] = data['url'].apply(find_availability)\n",
    "    data['title'] = data['url'].apply(find_title)\n",
    "    data['price'] = data['url'].apply(find_price)\n",
    "    data['old_price'] = data['url'].apply(find_old_price)\n",
    "    data['url'] = data['url'].apply(find_url)\n",
    "    data['price'] = data['price'].astype(float)\n",
    "    data.loc[data['old_price'] == '','old_price'] = np.nan\n",
    "    data['old_price'] = data['old_price'].astype(float)\n",
    "    return data"
   ]
  },
  {
   "cell_type": "markdown",
   "id": "ce9e3f74",
   "metadata": {},
   "source": [
    "Функция предварительного парсинга сайта, которая проходит по всем страницам в урл адресах переменной `all_url` и создает датафрейм в котором храняться: урл адреса товаров, индентефикатор товаров, дата предварительного парсинга товара, наличия товара, названия товара, цены товара, старой цены для акционного товара."
   ]
  },
  {
   "cell_type": "markdown",
   "id": "ccf8f7a9",
   "metadata": {},
   "source": [
    "# Парсинг цен кодов товара и url"
   ]
  },
  {
   "cell_type": "code",
   "execution_count": 12,
   "id": "4baee946",
   "metadata": {},
   "outputs": [],
   "source": [
    "all_url = ['https://hi-tech.md/televizory-i-elektronika/page-',\n",
    "           'https://hi-tech.md/bytovaya-tehnika/page-',\n",
    "           'https://hi-tech.md/kompyuternaya-tehnika/page-',\n",
    "           'https://hi-tech.md/mebel-tekstil/kompyuternaya-mebel/ofisnye-kresla-i-stulya/komp.-kresla/page-',\n",
    "           'https://hi-tech.md/instrumenty-i-oborudovanie/elektroinstrument/page-',\n",
    "           'https://hi-tech.md/tovary-dlya-doma/page-'\n",
    "          ]"
   ]
  },
  {
   "cell_type": "markdown",
   "id": "4845740a",
   "metadata": {},
   "source": [
    "all_url = [\n",
    "           'https://hi-tech.md/instrumenty-i-oborudovanie/elektroinstrument/page-',\n",
    "          ]"
   ]
  },
  {
   "cell_type": "markdown",
   "id": "6bc63d51",
   "metadata": {},
   "source": [
    "all_url = ['https://hi-tech.md/kompyuternaya-tehnika/page-']"
   ]
  },
  {
   "cell_type": "markdown",
   "id": "5983d163",
   "metadata": {},
   "source": [
    "переменная со списком ссылок на сайт для парсинга"
   ]
  },
  {
   "cell_type": "code",
   "execution_count": 13,
   "id": "064954c3",
   "metadata": {
    "scrolled": false
   },
   "outputs": [
    {
     "data": {
      "application/vnd.jupyter.widget-view+json": {
       "model_id": "2f92ef04de7d467db71e9598f24e0489",
       "version_major": 2,
       "version_minor": 0
      },
      "text/plain": [
       "  0%|          | 0/6 [00:00<?, ?it/s]"
      ]
     },
     "metadata": {},
     "output_type": "display_data"
    },
    {
     "data": {
      "text/html": [
       "<div>\n",
       "<style scoped>\n",
       "    .dataframe tbody tr th:only-of-type {\n",
       "        vertical-align: middle;\n",
       "    }\n",
       "\n",
       "    .dataframe tbody tr th {\n",
       "        vertical-align: top;\n",
       "    }\n",
       "\n",
       "    .dataframe thead th {\n",
       "        text-align: right;\n",
       "    }\n",
       "</style>\n",
       "<table border=\"1\" class=\"dataframe\">\n",
       "  <thead>\n",
       "    <tr style=\"text-align: right;\">\n",
       "      <th></th>\n",
       "      <th>url</th>\n",
       "      <th>id</th>\n",
       "      <th>date</th>\n",
       "      <th>availability</th>\n",
       "      <th>title</th>\n",
       "      <th>price</th>\n",
       "      <th>old_price</th>\n",
       "    </tr>\n",
       "  </thead>\n",
       "  <tbody>\n",
       "    <tr>\n",
       "      <th>0</th>\n",
       "      <td>https://hi-tech.md/televizory-i-elektronika/batareyki-i-zaryadnye-ustroystva/batareyka-energenie-eg-ba-cr1220-01/</td>\n",
       "      <td>Т-000088228</td>\n",
       "      <td>2024-06-13</td>\n",
       "      <td>В наличии</td>\n",
       "      <td>Батарейка Energenie EG-BA-CR1220-01</td>\n",
       "      <td>4.0</td>\n",
       "      <td>NaN</td>\n",
       "    </tr>\n",
       "    <tr>\n",
       "      <th>1</th>\n",
       "      <td>https://hi-tech.md/televizory-i-elektronika/batareyki-i-zaryadnye-ustroystva/batareyka-energenie-eg-ba-cr2016-01/</td>\n",
       "      <td>Т-000088229</td>\n",
       "      <td>2024-06-13</td>\n",
       "      <td>В наличии</td>\n",
       "      <td>Батарейка Energenie EG-BA-CR2016-01</td>\n",
       "      <td>4.0</td>\n",
       "      <td>NaN</td>\n",
       "    </tr>\n",
       "    <tr>\n",
       "      <th>2</th>\n",
       "      <td>https://hi-tech.md/televizory-i-elektronika/batareyki-i-zaryadnye-ustroystva/batareyka-energenie-eg-ba-aa4-01/</td>\n",
       "      <td>Т-000088221</td>\n",
       "      <td>2024-06-13</td>\n",
       "      <td>В наличии</td>\n",
       "      <td>Батарейка Energenie EG-BA-AA4-01</td>\n",
       "      <td>5.0</td>\n",
       "      <td>NaN</td>\n",
       "    </tr>\n",
       "    <tr>\n",
       "      <th>3</th>\n",
       "      <td>https://hi-tech.md/televizory-i-elektronika/batareyki-i-zaryadnye-ustroystva/batareyka-energenie-eg-ba-aaa4-01/</td>\n",
       "      <td>Т-000088222</td>\n",
       "      <td>2024-06-13</td>\n",
       "      <td>В наличии</td>\n",
       "      <td>Батарейка Energenie EG-BA-AAA4-01</td>\n",
       "      <td>5.0</td>\n",
       "      <td>NaN</td>\n",
       "    </tr>\n",
       "    <tr>\n",
       "      <th>4</th>\n",
       "      <td>https://hi-tech.md/televizory-i-elektronika/batareyki-i-zaryadnye-ustroystva/batareyka-energenie-eg-ba-cr2025-01/</td>\n",
       "      <td>Т-000088230</td>\n",
       "      <td>2024-06-13</td>\n",
       "      <td>В наличии</td>\n",
       "      <td>Батарейка Energenie EG-BA-CR2025-01</td>\n",
       "      <td>5.0</td>\n",
       "      <td>NaN</td>\n",
       "    </tr>\n",
       "    <tr>\n",
       "      <th>...</th>\n",
       "      <td>...</td>\n",
       "      <td>...</td>\n",
       "      <td>...</td>\n",
       "      <td>...</td>\n",
       "      <td>...</td>\n",
       "      <td>...</td>\n",
       "      <td>...</td>\n",
       "    </tr>\n",
       "    <tr>\n",
       "      <th>9274</th>\n",
       "      <td>https://hi-tech.md/tovary-dlya-doma/osveschenie/lyustry/lyustra-4pl-satipo-transparent-led15w-e27-5628-tkl/</td>\n",
       "      <td>Т-000085036</td>\n",
       "      <td>2024-06-13</td>\n",
       "      <td>В наличии</td>\n",
       "      <td>Люстра 4PL SATIPO TRANSPARENT LED15W E27 (5628) (TKL)</td>\n",
       "      <td>3279.0</td>\n",
       "      <td>4099.0</td>\n",
       "    </tr>\n",
       "    <tr>\n",
       "      <th>9275</th>\n",
       "      <td>https://hi-tech.md/tovary-dlya-doma/osveschenie/lyustry/lyustra-4pl-satipo-amber-led15w-e27-5625-tkl/</td>\n",
       "      <td>Т-000085037</td>\n",
       "      <td>2024-06-13</td>\n",
       "      <td>В наличии</td>\n",
       "      <td>Люстра 4PL SATIPO AMBER LED15W E27 (5625) (TKL)</td>\n",
       "      <td>3311.0</td>\n",
       "      <td>4139.0</td>\n",
       "    </tr>\n",
       "    <tr>\n",
       "      <th>9276</th>\n",
       "      <td>https://hi-tech.md/tovary-dlya-doma/osveschenie/lyustry/lyustra-3pl-universo-black-led15w-e27-4483-tkl/</td>\n",
       "      <td>Т-000085021</td>\n",
       "      <td>2024-06-13</td>\n",
       "      <td>В наличии</td>\n",
       "      <td>Люстра 3PL UNIVERSO BLACK LED15W E27 (4483) (TKL)</td>\n",
       "      <td>3359.0</td>\n",
       "      <td>4199.0</td>\n",
       "    </tr>\n",
       "    <tr>\n",
       "      <th>9277</th>\n",
       "      <td>https://hi-tech.md/tovary-dlya-doma/osveschenie/lyustry/lyustra-6pl-fairy-black-6w-g9-4856-tkl/</td>\n",
       "      <td>Т-000085033</td>\n",
       "      <td>2024-06-13</td>\n",
       "      <td>В наличии</td>\n",
       "      <td>Люстра 6PL FAIRY BLACK 6W G9 (4856) (TKL)</td>\n",
       "      <td>3471.0</td>\n",
       "      <td>4339.0</td>\n",
       "    </tr>\n",
       "    <tr>\n",
       "      <th>9278</th>\n",
       "      <td>https://hi-tech.md/tovary-dlya-doma/osveschenie/lyustry/lyustra-6pl-fairy-gold-6w-g9-3532-tkl/</td>\n",
       "      <td>Т-000085032</td>\n",
       "      <td>2024-06-13</td>\n",
       "      <td>В наличии</td>\n",
       "      <td>Люстра 6PL FAIRY GOLD 6W G9 (3532) (TKL)</td>\n",
       "      <td>3951.0</td>\n",
       "      <td>4939.0</td>\n",
       "    </tr>\n",
       "  </tbody>\n",
       "</table>\n",
       "<p>9279 rows × 7 columns</p>\n",
       "</div>"
      ],
      "text/plain": [
       "                                                                                                                    url  \\\n",
       "0     https://hi-tech.md/televizory-i-elektronika/batareyki-i-zaryadnye-ustroystva/batareyka-energenie-eg-ba-cr1220-01/   \n",
       "1     https://hi-tech.md/televizory-i-elektronika/batareyki-i-zaryadnye-ustroystva/batareyka-energenie-eg-ba-cr2016-01/   \n",
       "2        https://hi-tech.md/televizory-i-elektronika/batareyki-i-zaryadnye-ustroystva/batareyka-energenie-eg-ba-aa4-01/   \n",
       "3       https://hi-tech.md/televizory-i-elektronika/batareyki-i-zaryadnye-ustroystva/batareyka-energenie-eg-ba-aaa4-01/   \n",
       "4     https://hi-tech.md/televizory-i-elektronika/batareyki-i-zaryadnye-ustroystva/batareyka-energenie-eg-ba-cr2025-01/   \n",
       "...                                                                                                                 ...   \n",
       "9274        https://hi-tech.md/tovary-dlya-doma/osveschenie/lyustry/lyustra-4pl-satipo-transparent-led15w-e27-5628-tkl/   \n",
       "9275              https://hi-tech.md/tovary-dlya-doma/osveschenie/lyustry/lyustra-4pl-satipo-amber-led15w-e27-5625-tkl/   \n",
       "9276            https://hi-tech.md/tovary-dlya-doma/osveschenie/lyustry/lyustra-3pl-universo-black-led15w-e27-4483-tkl/   \n",
       "9277                    https://hi-tech.md/tovary-dlya-doma/osveschenie/lyustry/lyustra-6pl-fairy-black-6w-g9-4856-tkl/   \n",
       "9278                     https://hi-tech.md/tovary-dlya-doma/osveschenie/lyustry/lyustra-6pl-fairy-gold-6w-g9-3532-tkl/   \n",
       "\n",
       "               id       date availability  \\\n",
       "0     Т-000088228 2024-06-13    В наличии   \n",
       "1     Т-000088229 2024-06-13    В наличии   \n",
       "2     Т-000088221 2024-06-13    В наличии   \n",
       "3     Т-000088222 2024-06-13    В наличии   \n",
       "4     Т-000088230 2024-06-13    В наличии   \n",
       "...           ...        ...          ...   \n",
       "9274  Т-000085036 2024-06-13    В наличии   \n",
       "9275  Т-000085037 2024-06-13    В наличии   \n",
       "9276  Т-000085021 2024-06-13    В наличии   \n",
       "9277  Т-000085033 2024-06-13    В наличии   \n",
       "9278  Т-000085032 2024-06-13    В наличии   \n",
       "\n",
       "                                                      title   price  old_price  \n",
       "0                       Батарейка Energenie EG-BA-CR1220-01     4.0        NaN  \n",
       "1                       Батарейка Energenie EG-BA-CR2016-01     4.0        NaN  \n",
       "2                          Батарейка Energenie EG-BA-AA4-01     5.0        NaN  \n",
       "3                         Батарейка Energenie EG-BA-AAA4-01     5.0        NaN  \n",
       "4                       Батарейка Energenie EG-BA-CR2025-01     5.0        NaN  \n",
       "...                                                     ...     ...        ...  \n",
       "9274  Люстра 4PL SATIPO TRANSPARENT LED15W E27 (5628) (TKL)  3279.0     4099.0  \n",
       "9275        Люстра 4PL SATIPO AMBER LED15W E27 (5625) (TKL)  3311.0     4139.0  \n",
       "9276      Люстра 3PL UNIVERSO BLACK LED15W E27 (4483) (TKL)  3359.0     4199.0  \n",
       "9277              Люстра 6PL FAIRY BLACK 6W G9 (4856) (TKL)  3471.0     4339.0  \n",
       "9278               Люстра 6PL FAIRY GOLD 6W G9 (3532) (TKL)  3951.0     4939.0  \n",
       "\n",
       "[9279 rows x 7 columns]"
      ]
     },
     "execution_count": 13,
     "metadata": {},
     "output_type": "execute_result"
    }
   ],
   "source": [
    "df = parsing_2(all_url)\n",
    "df"
   ]
  },
  {
   "cell_type": "markdown",
   "id": "73f9ee1e",
   "metadata": {},
   "source": [
    "предварительный парсинг"
   ]
  },
  {
   "cell_type": "code",
   "execution_count": null,
   "id": "f7dcb3c2",
   "metadata": {
    "scrolled": true
   },
   "outputs": [],
   "source": [
    "df = df.drop_duplicates().reset_index(drop=Trye)"
   ]
  },
  {
   "cell_type": "markdown",
   "id": "70732817",
   "metadata": {},
   "source": [
    "удаление дублекатов"
   ]
  },
  {
   "cell_type": "code",
   "execution_count": 15,
   "id": "a8992e7b",
   "metadata": {},
   "outputs": [],
   "source": [
    "def xxx(x):\n",
    "    try:\n",
    "        reqx = requests.get(x)\n",
    "        soup = bs(reqx.text, 'html.parser')    \n",
    "        element = soup.findAll('div', class_='ty-warehouses-store__availability')\n",
    "        elem_2 = soup.findAll('div', class_='ty-breadcrumbs clearfix')\n",
    "        name = soup.findAll('span', class_='ty-breadcrumbs__current')\n",
    "        try:\n",
    "            d_0 = (element[0].text.strip().replace('В наличии', '1').replace('Нет в наличии','0')\n",
    "            .replace('Под заказ (1-3 дня)','0').replace('nan','0'))\n",
    "        except:\n",
    "            d_0 = (np.NaN)\n",
    "        try:\n",
    "            d_1 = (element[1].text.strip().replace('В наличии', '1').replace('Нет в наличии','0')\n",
    "            .replace('Под заказ (1-3 дня)','0').replace('nan','0'))\n",
    "        except:\n",
    "            d_1 = (np.NaN)\n",
    "        try:\n",
    "            d_2 = (element[2].text.strip().replace('В наличии', '1').replace('Нет в наличии','0')\n",
    "            .replace('Под заказ (1-3 дня)','0').replace('nan','0'))\n",
    "        except:\n",
    "            d_2 = (np.NaN)\n",
    "        try:\n",
    "            d_3 = (element[3].text.strip().replace('В наличии', '1').replace('Нет в наличии','0')\n",
    "            .replace('Под заказ (1-3 дня)','0').replace('nan','0'))\n",
    "        except:\n",
    "            d_3 = (np.NaN)\n",
    "        try:\n",
    "            d_4 = (element[4].text.strip().replace('В наличии', '1').replace('Нет в наличии','0')\n",
    "            .replace('Под заказ (1-3 дня)','0').replace('nan','0'))\n",
    "        except:\n",
    "            d_4 = (np.NaN)\n",
    "        try:\n",
    "            d_5 = (element[5].text.strip().replace('В наличии', '1').replace('Нет в наличии','0')\n",
    "            .replace('Под заказ (1-3 дня)','0').replace('nan','0'))\n",
    "        except:\n",
    "            d_5 = (np.NaN)\n",
    "        try:\n",
    "            d_6 = (element[6].text.strip().replace('В наличии', '1').replace('Нет в наличии','0')\n",
    "            .replace('Под заказ (1-3 дня)','0').replace('nan','0'))\n",
    "        except:\n",
    "            d_6 = (np.NaN)\n",
    "        try:\n",
    "            d_7 = (element[7].text.strip().replace('В наличии', '1').replace('Нет в наличии','0')\n",
    "            .replace('Под заказ (1-3 дня)','0').replace('nan','0'))\n",
    "        except:\n",
    "            d_7 = (np.NaN)\n",
    "        try:\n",
    "            d_8 = (element[8].text.strip().replace('В наличии', '1').replace('Нет в наличии','0')\n",
    "            .replace('Под заказ (1-3 дня)','0').replace('nan','0'))\n",
    "        except:\n",
    "            d_8 = (np.NaN)\n",
    "        try:\n",
    "            d_9 = (element[9].text.strip().replace('В наличии', '1').replace('Нет в наличии','0')\n",
    "            .replace('Под заказ (1-3 дня)','0').replace('nan','0'))\n",
    "        except:\n",
    "            d_9 = (np.NaN)\n",
    "        try:\n",
    "            d_10 = (element[10].text.strip().replace('В наличии', '1').replace('Нет в наличии','0')\n",
    "            .replace('Под заказ (1-3 дня)','0').replace('nan','0'))\n",
    "        except:\n",
    "            d_10 = (np.NaN)\n",
    "        try:\n",
    "            d_11 = (element[11].text.strip().replace('В наличии', '1').replace('Нет в наличии','0')\n",
    "            .replace('Под заказ (1-3 дня)','0').replace('nan','0'))\n",
    "        except:\n",
    "            d_11 = (np.NaN)\n",
    "        try:\n",
    "            d_12 = (element[12].text.strip().replace('В наличии', '1').replace('Нет в наличии','0')\n",
    "            .replace('Под заказ (1-3 дня)','0').replace('nan','0'))\n",
    "        except:\n",
    "            d_12 = (np.NaN)\n",
    "        try:\n",
    "            d_13 = (element[13].text.strip().replace('В наличии', '1').replace('Нет в наличии','0')\n",
    "            .replace('Под заказ (1-3 дня)','0').replace('nan','0'))\n",
    "        except:\n",
    "            d_13 = (np.NaN)\n",
    "        try:            \n",
    "            ss = elem_2[0].text.replace('/'+str(name[0].text),'').replace('\\n','')\n",
    "        except:\n",
    "            ss = '0/0/0/0'\n",
    "        if str(type(ss)) == \"<class 'NoneType'>\":\n",
    "            ss = '0/0/0/0'\n",
    "        else:\n",
    "            pass\n",
    "        \n",
    "        try:            \n",
    "            if len(ss.split('/')) <= 3:\n",
    "                d_14 = (ss.split(\"/\")[1])\n",
    "                d_15 = (ss.split(\"/\")[2])\n",
    "                d_16 = (ss.split(\"/\")[2])\n",
    "                d_17 = (len(ss.split('/')))\n",
    "            elif len(ss.split('/')) > 3:\n",
    "                d_14 = (ss.split(\"/\")[1])\n",
    "                d_15 = (ss.split(\"/\")[2])\n",
    "                d_16 = (ss.split(\"/\")[3])  \n",
    "                d_17 = (len(ss.split('/')))\n",
    "                \n",
    "            return pd.Series([(d_0), (d_1), (d_2), (d_3), (d_4), (d_5), (d_6), (d_7), (d_8), (d_9), (d_10), (d_11), (d_12), (d_13), (d_14), (d_15), (d_16), (d_17)])\n",
    "        except:\n",
    "            d_14 = (np.NaN)\n",
    "            d_15 = (np.NaN)\n",
    "            d_16 = (np.NaN)\n",
    "            d_17 = (np.NaN)\n",
    "            return pd.Series([(d_0), (d_1), (d_2), (d_3), (d_4), (d_5), (d_6), (d_7), (d_8), (d_9), (d_10), (d_11), (d_12), (d_13), (d_14), (d_15), (d_16), (d_17)])\n",
    "    except:\n",
    "        pass"
   ]
  },
  {
   "cell_type": "markdown",
   "id": "c920acc0",
   "metadata": {},
   "source": [
    "Функция основного парсинга, которая для каждой строки по урл адресу парсит и находит наличие товара в магахинах а также группу товара, категорию товара, подкатегорию товата и количество подкатегорий товара"
   ]
  },
  {
   "cell_type": "code",
   "execution_count": null,
   "id": "ab37478d",
   "metadata": {},
   "outputs": [
    {
     "data": {
      "application/vnd.jupyter.widget-view+json": {
       "model_id": "692d411369af420a88ea17ec871fbfa2",
       "version_major": 2,
       "version_minor": 0
      },
      "text/plain": [
       "  0%|          | 0/8710 [00:00<?, ?it/s]"
      ]
     },
     "metadata": {},
     "output_type": "display_data"
    }
   ],
   "source": [
    "tqdm.pandas() \n",
    "df[['тир_юности_14а','тир_25_октября_69','бенд_спортивная_5','бенд_советская_5','бенд_советская_8','слободзея','днестровск',\n",
    "   'первомайск','григ_кмаркса_181а','григ_кмаркса_172','дубоссары','рыбн_вальченко_43','рыбн_кирова_135','каменка',\n",
    "   '_category','_subcategory','_group','len']] = df['url'].progress_apply(xxx)"
   ]
  },
  {
   "cell_type": "markdown",
   "id": "3fd91844",
   "metadata": {},
   "source": [
    "Основной парсинг"
   ]
  },
  {
   "cell_type": "code",
   "execution_count": null,
   "id": "83d9dc4b",
   "metadata": {},
   "outputs": [],
   "source": [
    "df.to_csv('csv/hi_tech_test_'+dt.datetime.now().strftime('%Y_%m_%d')+'.csv', index=False)"
   ]
  },
  {
   "cell_type": "markdown",
   "id": "db907fbb",
   "metadata": {},
   "source": [
    "создание резервной копии парсинга данных"
   ]
  },
  {
   "cell_type": "code",
   "execution_count": null,
   "id": "1bf23dfc",
   "metadata": {},
   "outputs": [],
   "source": [
    "df = pd.read_csv('csv/hi_tech_test_'+dt.datetime.now().strftime('%Y_%m_%d')+'.csv')"
   ]
  },
  {
   "cell_type": "markdown",
   "id": "5d5d6881",
   "metadata": {},
   "source": [
    "загрузка резервной копии парсинга данных"
   ]
  },
  {
   "cell_type": "code",
   "execution_count": null,
   "id": "d1c13d02",
   "metadata": {},
   "outputs": [],
   "source": [
    "df['error_count'] = 0\n",
    "df.loc[df['каменка'].isna(), 'error_count'] = 1\n",
    "df['error_group'] = 0\n",
    "df.loc[df['len'].isna(), 'error_group'] = 1\n"
   ]
  },
  {
   "cell_type": "markdown",
   "id": "c6475ce8",
   "metadata": {},
   "source": [
    "Создание столбцов с флагом ошибки для товаров, для которых нет данных по остаткам хотябы в одном магазине"
   ]
  },
  {
   "cell_type": "code",
   "execution_count": null,
   "id": "830ab3db",
   "metadata": {},
   "outputs": [],
   "source": [
    "df.loc[df['error_count']==1 , ['тир_юности_14а', 'тир_25_октября_69', 'бенд_спортивная_5',\n",
    "       'бенд_советская_5', 'бенд_советская_8', 'слободзея', 'днестровск',\n",
    "       'первомайск', 'григ_кмаркса_181а', 'григ_кмаркса_172', 'дубоссары',\n",
    "       'рыбн_вальченко_43', 'рыбн_кирова_135', 'каменка']] = 0\n",
    "df.loc[df['error_group']==1 , ['_category',\n",
    "       '_subcategory', '_group']] = 'No_group'\n",
    "df.loc[df['error_group']==1 , ['len']] = 0"
   ]
  },
  {
   "cell_type": "markdown",
   "id": "a0a10ec6",
   "metadata": {},
   "source": [
    "удаление наличия товара в магазинах и наименовании группы если у товара есть ошибки в этих данны"
   ]
  },
  {
   "cell_type": "code",
   "execution_count": null,
   "id": "c3f123de",
   "metadata": {},
   "outputs": [],
   "source": [
    "df['тир_юности_14а'] = df['тир_юности_14а'].astype('float')\n",
    "df['тир_25_октября_69'] = df['тир_25_октября_69'].astype('float')\n",
    "df['тирасполь'] = df['тир_юности_14а'] + df['тир_25_октября_69']\n",
    "df['бенд_спортивная_5'] = df['бенд_спортивная_5'].astype('float')\n",
    "df['бенд_советская_5'] = df['бенд_советская_5'].astype('float')\n",
    "df['бенд_советская_8'] = df['бенд_советская_8'].astype('float')\n",
    "df['бендеры'] = df['бенд_спортивная_5'] + df['бенд_советская_5'] + df['бенд_советская_8']\n",
    "df['слободзея'] = df['слободзея'].astype('float')\n",
    "df['днестровск'] = df['днестровск'].astype('float')\n",
    "df['первомайск'] = df['первомайск'].astype('float')\n",
    "df['григ_кмаркса_181а'] = df['григ_кмаркса_181а'].astype('float')\n",
    "df['григ_кмаркса_172'] = df['григ_кмаркса_172'].astype('float')\n",
    "df['григориополь'] = df['григ_кмаркса_181а'] + df['григ_кмаркса_172']\n",
    "df['дубоссары'] = df['дубоссары'].astype('float')\n",
    "df['рыбн_вальченко_43'] = df['рыбн_вальченко_43'].astype('float')\n",
    "df['рыбн_кирова_135'] = df['рыбн_кирова_135'].astype('float')\n",
    "df['рыбница'] = df['рыбн_вальченко_43'] + df['рыбн_кирова_135']\n",
    "df['каменка'] = df['каменка'].astype('float')"
   ]
  },
  {
   "cell_type": "markdown",
   "id": "76eb939c",
   "metadata": {},
   "source": [
    "Изменение типов данных столбцов наличия товара в определенном магазине на тип данных `float`  и создания столбцов по наличию товара в магазинах городов"
   ]
  },
  {
   "cell_type": "code",
   "execution_count": null,
   "id": "797dbbe2",
   "metadata": {},
   "outputs": [],
   "source": [
    "df['_subgroup'] == df['_group'].copy()"
   ]
  },
  {
   "cell_type": "code",
   "execution_count": null,
   "id": "04801c42",
   "metadata": {},
   "outputs": [],
   "source": [
    "df = df[['url', 'id', '_category', '_subcategory', '_group', 'title',\n",
    "               'date',   'price', 'old_price', 'availability', 'тирасполь',\n",
    "               'тир_юности_14а', 'тир_25_октября_69', 'бендеры', 'бенд_спортивная_5',\n",
    "               'бенд_советская_5', 'бенд_советская_8', 'рыбница', 'рыбн_вальченко_43', \n",
    "               'рыбн_кирова_135', 'дубоссары', 'днестровск', 'слободзея', 'первомайск',\n",
    "               'каменка', 'григориополь','григ_кмаркса_181а', 'григ_кмаркса_172',\n",
    "               'len', 'error_count', 'error_group', ]]"
   ]
  },
  {
   "cell_type": "markdown",
   "id": "dbe487ad",
   "metadata": {},
   "source": [
    "изменение порядка располажения столбцов"
   ]
  },
  {
   "cell_type": "code",
   "execution_count": null,
   "id": "44843dcf",
   "metadata": {},
   "outputs": [],
   "source": [
    "preprocessing(df)"
   ]
  },
  {
   "cell_type": "markdown",
   "id": "a1c12a95",
   "metadata": {},
   "source": [
    "просмотр данных после парсинга"
   ]
  },
  {
   "cell_type": "markdown",
   "id": "9842689f",
   "metadata": {},
   "source": [
    "# Группировка товара"
   ]
  },
  {
   "cell_type": "code",
   "execution_count": null,
   "id": "e0323ed7",
   "metadata": {},
   "outputs": [],
   "source": [
    "for i in df['_subcategory'].unique():\n",
    "    t = df[df['_subcategory']==i]\n",
    "    print(i)\n",
    "    print(t['_group'].unique())\n",
    "    print('-'*100)"
   ]
  },
  {
   "cell_type": "markdown",
   "id": "f38f91f7",
   "metadata": {},
   "source": [
    "просмотр групп товаров в подкатегориях"
   ]
  },
  {
   "cell_type": "code",
   "execution_count": null,
   "id": "615237ec",
   "metadata": {},
   "outputs": [],
   "source": []
  },
  {
   "cell_type": "code",
   "execution_count": null,
   "id": "d8fde592",
   "metadata": {},
   "outputs": [],
   "source": [
    "df.head(2)"
   ]
  },
  {
   "cell_type": "code",
   "execution_count": null,
   "id": "8915c0af",
   "metadata": {},
   "outputs": [],
   "source": [
    "df._group.unique()"
   ]
  },
  {
   "cell_type": "code",
   "execution_count": null,
   "id": "63d6dec9",
   "metadata": {},
   "outputs": [],
   "source": [
    "df"
   ]
  },
  {
   "cell_type": "code",
   "execution_count": null,
   "id": "307d1f4a",
   "metadata": {},
   "outputs": [],
   "source": [
    "df._group.unique()"
   ]
  },
  {
   "cell_type": "code",
   "execution_count": null,
   "id": "59d49ce6",
   "metadata": {},
   "outputs": [],
   "source": [
    "df._subcategory.unique()"
   ]
  },
  {
   "cell_type": "code",
   "execution_count": null,
   "id": "605401be",
   "metadata": {},
   "outputs": [],
   "source": [
    "df.id.count()"
   ]
  },
  {
   "cell_type": "code",
   "execution_count": null,
   "id": "737982a1",
   "metadata": {},
   "outputs": [],
   "source": []
  },
  {
   "cell_type": "code",
   "execution_count": null,
   "id": "61c3c91e",
   "metadata": {},
   "outputs": [],
   "source": [
    "df.to_csv('csv/hi_tech_end_'+dt.datetime.now().strftime('%Y_%m_%d')+'.csv', index=False) "
   ]
  },
  {
   "cell_type": "code",
   "execution_count": null,
   "id": "1f8c87a3",
   "metadata": {},
   "outputs": [],
   "source": []
  }
 ],
 "metadata": {
  "kernelspec": {
   "display_name": "Python 3 (ipykernel)",
   "language": "python",
   "name": "python3"
  },
  "language_info": {
   "codemirror_mode": {
    "name": "ipython",
    "version": 3
   },
   "file_extension": ".py",
   "mimetype": "text/x-python",
   "name": "python",
   "nbconvert_exporter": "python",
   "pygments_lexer": "ipython3",
   "version": "3.11.3"
  }
 },
 "nbformat": 4,
 "nbformat_minor": 5
}
