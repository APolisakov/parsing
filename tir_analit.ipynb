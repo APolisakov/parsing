{
 "cells": [
  {
   "cell_type": "markdown",
   "id": "45284144",
   "metadata": {},
   "source": [
    "# аналитика тираэт"
   ]
  },
  {
   "cell_type": "code",
   "execution_count": 1,
   "id": "b0b7a4bc",
   "metadata": {},
   "outputs": [],
   "source": [
    "import pandas as pd\n",
    "import numpy as np\n",
    "import requests\n",
    "from bs4 import BeautifulSoup as bs\n",
    "import re\n",
    "from tqdm.notebook import trange, tqdm\n",
    "from tqdm.gui import tqdm as tqdm_gui\n",
    "from IPython.display import display\n",
    "import datetime as dt\n",
    "import seaborn as sns\n",
    "import matplotlib.pyplot as plt"
   ]
  },
  {
   "cell_type": "code",
   "execution_count": 2,
   "id": "cc9bef5d",
   "metadata": {},
   "outputs": [],
   "source": [
    "pd.set_option('display.max_colwidth', 1000)\n",
    "pd.set_option('display.max_columns', 1000)\n",
    "pd.set_option('display.max_rows', 200)"
   ]
  },
  {
   "cell_type": "code",
   "execution_count": 3,
   "id": "a9ef029a",
   "metadata": {},
   "outputs": [],
   "source": [
    "df = pd.read_csv('csv/tiraet_final_2024_06_19.csv')"
   ]
  },
  {
   "cell_type": "code",
   "execution_count": 4,
   "id": "8719710b",
   "metadata": {},
   "outputs": [],
   "source": [
    "data = df[~(df['_category']=='err_')].reset_index(drop=True)"
   ]
  },
  {
   "cell_type": "code",
   "execution_count": 5,
   "id": "e2507595",
   "metadata": {},
   "outputs": [],
   "source": [
    "data = data[['id', '_category','_subcategory','_group' ]]\n",
    "data = data.sort_values(['_category','_subcategory', '_group'])"
   ]
  },
  {
   "cell_type": "code",
   "execution_count": 6,
   "id": "59926eba",
   "metadata": {},
   "outputs": [],
   "source": [
    "data.to_csv('csv/atiraet_group.csv', index=False, sep='%')  "
   ]
  },
  {
   "cell_type": "code",
   "execution_count": 7,
   "id": "5706fa13",
   "metadata": {},
   "outputs": [],
   "source": [
    "t = df[(df['_category']=='err_')].reset_index(drop=True)\n"
   ]
  },
  {
   "cell_type": "code",
   "execution_count": 37,
   "id": "d878cd8a",
   "metadata": {},
   "outputs": [],
   "source": [
    "def find_groups(x):\n",
    "    reqx = requests.get(x)\n",
    "    soup = bs(reqx.text, 'html.parser')    \n",
    "    elem_1 = soup.findAll('a', class_='breadcrumbs__link colored_theme_hover_bg-el-svg')\n",
    "    elem_2 = soup.findAll('div', class_='breadcrumbs__item')\n",
    "    try:\n",
    "        if len(elem_1) <=2:\n",
    "            if len(elem_2) <= 4:\n",
    "                d_14 = (elem_1[0].text.replace(',','').replace(' ','_').lower())\n",
    "                d_15 = (elem_1[1].text.replace(',','').replace(' ','_').lower())\n",
    "                d_16 = (elem_1[1].text.replace(',','').replace(' ','_').lower())\n",
    "            else:\n",
    "                d_14 = (elem_1[0].text.replace(',','').replace(' ','_').lower())\n",
    "                d_15 = (elem_1[1].text.replace(',','').replace(' ','_').lower())\n",
    "                d_16 = (elem_2[4].text.replace(',','').replace(' ','_').lower())\n",
    "        else:\n",
    "            d_14 = (elem_1[0].text.replace(',','').replace(' ','_').lower())\n",
    "            d_15 = (elem_1[1].text.replace(',','').replace(' ','_').lower())\n",
    "            d_16 = (elem_1[2].text.replace(',','').replace(' ','_').lower())\n",
    "    except:\n",
    "        d_14 = 'err_'\n",
    "        d_15 = 'err_'\n",
    "        d_16 = 'err_'\n",
    "        \n",
    "    return pd.Series([ (d_14), (d_15), (d_16)])"
   ]
  },
  {
   "cell_type": "code",
   "execution_count": 38,
   "id": "68bbeb77",
   "metadata": {},
   "outputs": [
    {
     "data": {
      "application/vnd.jupyter.widget-view+json": {
       "model_id": "759aa654b4904416b17f41bf2433110a",
       "version_major": 2,
       "version_minor": 0
      },
      "text/plain": [
       "  0%|          | 0/1813 [00:00<?, ?it/s]"
      ]
     },
     "metadata": {},
     "output_type": "display_data"
    }
   ],
   "source": [
    "tqdm.pandas() \n",
    "t[['_category','_subcategory','_group']] = t['urls'].progress_apply(find_groups)"
   ]
  },
  {
   "cell_type": "code",
   "execution_count": 39,
   "id": "8c27fca1",
   "metadata": {},
   "outputs": [
    {
     "data": {
      "text/plain": [
       "array(['компьютерная_техника', 'мобильные_телефоны', 'err_', 'для_дома',\n",
       "       'светотехника', 'оргтехника', 'сетевое_и_серверное_оборудование',\n",
       "       'электропитание', 'автотовары', 'расходные_материалы'],\n",
       "      dtype=object)"
      ]
     },
     "execution_count": 39,
     "metadata": {},
     "output_type": "execute_result"
    }
   ],
   "source": [
    "t._category.unique()"
   ]
  },
  {
   "cell_type": "code",
   "execution_count": 40,
   "id": "0307d1e8",
   "metadata": {},
   "outputs": [
    {
     "data": {
      "text/html": [
       "<div>\n",
       "<style scoped>\n",
       "    .dataframe tbody tr th:only-of-type {\n",
       "        vertical-align: middle;\n",
       "    }\n",
       "\n",
       "    .dataframe tbody tr th {\n",
       "        vertical-align: top;\n",
       "    }\n",
       "\n",
       "    .dataframe thead th {\n",
       "        text-align: right;\n",
       "    }\n",
       "</style>\n",
       "<table border=\"1\" class=\"dataframe\">\n",
       "  <thead>\n",
       "    <tr style=\"text-align: right;\">\n",
       "      <th></th>\n",
       "      <th>title</th>\n",
       "      <th>urls</th>\n",
       "      <th>datе</th>\n",
       "      <th>counts</th>\n",
       "      <th>id</th>\n",
       "      <th>price</th>\n",
       "      <th>old_price</th>\n",
       "      <th>_category</th>\n",
       "      <th>_subcategory</th>\n",
       "      <th>_group</th>\n",
       "    </tr>\n",
       "  </thead>\n",
       "  <tbody>\n",
       "    <tr>\n",
       "      <th>344</th>\n",
       "      <td>СМАРТФОН APPLE IPHONE 12 4/64Gb Purple (A2403)  (MJNM3RM/A)</td>\n",
       "      <td>https://tiraet.com/catalog/2873/6183/smartfon_apple_iphone_12_4_64gb_purple_a2403_mjnm3rm_a/</td>\n",
       "      <td>2024-06-18</td>\n",
       "      <td>Мало</td>\n",
       "      <td>85374</td>\n",
       "      <td>8990.0</td>\n",
       "      <td>10449.0</td>\n",
       "      <td>err_</td>\n",
       "      <td>err_</td>\n",
       "      <td>err_</td>\n",
       "    </tr>\n",
       "    <tr>\n",
       "      <th>441</th>\n",
       "      <td>Насадка для пароочистителя (швабры) AENO ASMFM1</td>\n",
       "      <td>https://tiraet.com/catalog/Kompjuternaja-mebel/zapasnye-chasti/nasadka_dlya_paroochistitelya_shvabry_aeno_asmfm1/</td>\n",
       "      <td>2024-06-18</td>\n",
       "      <td>Мало</td>\n",
       "      <td>84403</td>\n",
       "      <td>88.9</td>\n",
       "      <td>NaN</td>\n",
       "      <td>err_</td>\n",
       "      <td>err_</td>\n",
       "      <td>err_</td>\n",
       "    </tr>\n",
       "    <tr>\n",
       "      <th>508</th>\n",
       "      <td>Подставка на колесах для телевизоров 32'-55' до 50кг. MACLEAN MC-661</td>\n",
       "      <td>https://tiraet.com/catalog/Kompjuternaja-mebel/mebel/tumby-pod-televizor/podstavka-na-kolesah-dlja-televizorov-32-55-do-50kg-maclean-mc-661/</td>\n",
       "      <td>2024-06-18</td>\n",
       "      <td>Мало</td>\n",
       "      <td>46281</td>\n",
       "      <td>2548.9</td>\n",
       "      <td>NaN</td>\n",
       "      <td>err_</td>\n",
       "      <td>err_</td>\n",
       "      <td>err_</td>\n",
       "    </tr>\n",
       "    <tr>\n",
       "      <th>562</th>\n",
       "      <td>Кабель спиральный для телефон. трубки c разъем. 4P4C,2м (TC4P4CS-2M-W)</td>\n",
       "      <td>https://tiraet.com/catalog/setevoe-oborudovanie/kabel-patchkordy/kabel-spiralnyj-dlja-telephon-trubki-c-razem-4p4c2m-tc4p4cs-2m-w/</td>\n",
       "      <td>2024-06-18</td>\n",
       "      <td>Много</td>\n",
       "      <td>56388</td>\n",
       "      <td>11.6</td>\n",
       "      <td>NaN</td>\n",
       "      <td>err_</td>\n",
       "      <td>err_</td>\n",
       "      <td>err_</td>\n",
       "    </tr>\n",
       "    <tr>\n",
       "      <th>563</th>\n",
       "      <td>Кабель спиральный для телефон. трубки c разъемами 4P4C, 2м, black(TC4P4CS-2M)</td>\n",
       "      <td>https://tiraet.com/catalog/setevoe-oborudovanie/kabel-patchkordy/kabel-spiralnyj-dlja-telephon-trubki-c-razemami-4p4c2m-tc4p4cs-2m/</td>\n",
       "      <td>2024-06-18</td>\n",
       "      <td>Достаточно</td>\n",
       "      <td>54529</td>\n",
       "      <td>11.6</td>\n",
       "      <td>NaN</td>\n",
       "      <td>err_</td>\n",
       "      <td>err_</td>\n",
       "      <td>err_</td>\n",
       "    </tr>\n",
       "    <tr>\n",
       "      <th>681</th>\n",
       "      <td>Патч-корд оптический LANBERG (FO-LULU-SD11-0020-YE) Yellow, 2м, LC, SM, Dupplex, стандарт полировки: UPC</td>\n",
       "      <td>https://tiraet.com/catalog/setevoe-oborudovanie/kabel-patchkordy/patch_kord_opticheskiy_lanberg_fo_lulu_sd11_0020_ye_yellow_2m_lc_sm_dupplex_standart_polirovki_upc/</td>\n",
       "      <td>2024-06-18</td>\n",
       "      <td>Достаточно</td>\n",
       "      <td>77861</td>\n",
       "      <td>90.8</td>\n",
       "      <td>NaN</td>\n",
       "      <td>err_</td>\n",
       "      <td>err_</td>\n",
       "      <td>err_</td>\n",
       "    </tr>\n",
       "    <tr>\n",
       "      <th>940</th>\n",
       "      <td>SWITCH Hikvision (DS-3E0106HP-E) 1p HiPoe 10/100Мб/с + 3p PoE 10/100Мб/с + 2pUplink 10/100Мб/с, бюджет PoE 60W</td>\n",
       "      <td>https://tiraet.com/catalog/setevoe-oborudovanie/Aktivnoe-setevoe-oborudovanie/</td>\n",
       "      <td>2024-06-18</td>\n",
       "      <td>Много</td>\n",
       "      <td>75610</td>\n",
       "      <td>1023.0</td>\n",
       "      <td>NaN</td>\n",
       "      <td>err_</td>\n",
       "      <td>err_</td>\n",
       "      <td>err_</td>\n",
       "    </tr>\n",
       "    <tr>\n",
       "      <th>1051</th>\n",
       "      <td>Точка доступа, потолочная, Wi-Fi 6, TP-LINK (EAP653) 802.11ax, 2.4/5ГГц, 574/2402Мбит/с, PoE+, 1p GLan</td>\n",
       "      <td>https://tiraet.com/catalog/setevoe-oborudovanie/tochki-dostupa/tochka_dostupa_potolochnaya_wi_fi_6_tp_link_eap653_802_11ax_2_4_5ggts_574_2402mbit_s_poe_1p_glan/</td>\n",
       "      <td>2024-06-18</td>\n",
       "      <td>Мало</td>\n",
       "      <td>78438</td>\n",
       "      <td>2339.2</td>\n",
       "      <td>2599.1</td>\n",
       "      <td>err_</td>\n",
       "      <td>err_</td>\n",
       "      <td>err_</td>\n",
       "    </tr>\n",
       "    <tr>\n",
       "      <th>1134</th>\n",
       "      <td>Шкаф коммутацион. LANBERG (FF01-8022-12BL) 19', 22U 800*1000, с дверью  Black (из 4-х частей)</td>\n",
       "      <td>https://tiraet.com/catalog/setevoe-oborudovanie/SHkaph-ETHERNET/shkaf_kommutatsion_lanberg_ff01_8022_12bl_19_22u_800_1000_s_dveryu_black_iz_4_kh_chastey/</td>\n",
       "      <td>2024-06-18</td>\n",
       "      <td>Мало</td>\n",
       "      <td>86946</td>\n",
       "      <td>11491.9</td>\n",
       "      <td>NaN</td>\n",
       "      <td>err_</td>\n",
       "      <td>err_</td>\n",
       "      <td>err_</td>\n",
       "    </tr>\n",
       "    <tr>\n",
       "      <th>1246</th>\n",
       "      <td>Блок UPS 2000VA /1200W GEMBIRD EG-UPS-035 (AVR, ЖК дисп, выход.роз. 2xC/F type (Schuko) + 3xIEC-C13)</td>\n",
       "      <td>https://tiraet.com/catalog/jelektropitanie/Bloki-besperebojnogo-pitanija-ups/blok_ups_2000va_1200w_gembird_eg_ups_035_avr_zhk_disp_vykhod_roz_2xc_f_type_schuko_3xiec_c13/</td>\n",
       "      <td>2024-06-18</td>\n",
       "      <td>Мало</td>\n",
       "      <td>79269</td>\n",
       "      <td>2799.1</td>\n",
       "      <td>NaN</td>\n",
       "      <td>err_</td>\n",
       "      <td>err_</td>\n",
       "      <td>err_</td>\n",
       "    </tr>\n",
       "    <tr>\n",
       "      <th>1247</th>\n",
       "      <td>Блок UPS 1500VA Energenie UPS-RACK-1500 (RM,ЖК,USB,LI)</td>\n",
       "      <td>https://tiraet.com/catalog/jelektropitanie/Bloki-besperebojnogo-pitanija-ups/blok-ups-1500va-ups-rack-1500displ/</td>\n",
       "      <td>2024-06-18</td>\n",
       "      <td>Мало</td>\n",
       "      <td>36544</td>\n",
       "      <td>2749.1</td>\n",
       "      <td>3089.0</td>\n",
       "      <td>err_</td>\n",
       "      <td>err_</td>\n",
       "      <td>err_</td>\n",
       "    </tr>\n",
       "    <tr>\n",
       "      <th>1596</th>\n",
       "      <td>Вал тефлоновый Samsung ML1210/1520/4100(JC71-00012B) Veaye</td>\n",
       "      <td>https://tiraet.com/catalog/rashodnye-materialy/zapchasti-dlja-printerov-i-kopirov/zapchasti_print/val_teflonovyy_samsung_ml1210_1520_4100_jc71_00012b_veaye/</td>\n",
       "      <td>2024-06-18</td>\n",
       "      <td>Мало</td>\n",
       "      <td>73073</td>\n",
       "      <td>181.5</td>\n",
       "      <td>NaN</td>\n",
       "      <td>err_</td>\n",
       "      <td>err_</td>\n",
       "      <td>err_</td>\n",
       "    </tr>\n",
       "    <tr>\n",
       "      <th>1656</th>\n",
       "      <td>Вал резиновый Samsung ML1510/1710/1615/2015/2570/SCX4200,JC66-00600A (Patron)</td>\n",
       "      <td>https://tiraet.com/catalog/rashodnye-materialy/zapchasti-dlja-printerov-i-kopirov/zapchasti_print/val_rezinovyy_samsung_ml1510_1710_1615_2015_2570_scx4200_patron/</td>\n",
       "      <td>2024-06-18</td>\n",
       "      <td>Мало</td>\n",
       "      <td>34506</td>\n",
       "      <td>280.5</td>\n",
       "      <td>NaN</td>\n",
       "      <td>err_</td>\n",
       "      <td>err_</td>\n",
       "      <td>err_</td>\n",
       "    </tr>\n",
       "  </tbody>\n",
       "</table>\n",
       "</div>"
      ],
      "text/plain": [
       "                                                                                                               title  \\\n",
       "344                                                      СМАРТФОН APPLE IPHONE 12 4/64Gb Purple (A2403)  (MJNM3RM/A)   \n",
       "441                                                                  Насадка для пароочистителя (швабры) AENO ASMFM1   \n",
       "508                                             Подставка на колесах для телевизоров 32'-55' до 50кг. MACLEAN MC-661   \n",
       "562                                           Кабель спиральный для телефон. трубки c разъем. 4P4C,2м (TC4P4CS-2M-W)   \n",
       "563                                    Кабель спиральный для телефон. трубки c разъемами 4P4C, 2м, black(TC4P4CS-2M)   \n",
       "681         Патч-корд оптический LANBERG (FO-LULU-SD11-0020-YE) Yellow, 2м, LC, SM, Dupplex, стандарт полировки: UPC   \n",
       "940   SWITCH Hikvision (DS-3E0106HP-E) 1p HiPoe 10/100Мб/с + 3p PoE 10/100Мб/с + 2pUplink 10/100Мб/с, бюджет PoE 60W   \n",
       "1051          Точка доступа, потолочная, Wi-Fi 6, TP-LINK (EAP653) 802.11ax, 2.4/5ГГц, 574/2402Мбит/с, PoE+, 1p GLan   \n",
       "1134                   Шкаф коммутацион. LANBERG (FF01-8022-12BL) 19', 22U 800*1000, с дверью  Black (из 4-х частей)   \n",
       "1246            Блок UPS 2000VA /1200W GEMBIRD EG-UPS-035 (AVR, ЖК дисп, выход.роз. 2xC/F type (Schuko) + 3xIEC-C13)   \n",
       "1247                                                          Блок UPS 1500VA Energenie UPS-RACK-1500 (RM,ЖК,USB,LI)   \n",
       "1596                                                      Вал тефлоновый Samsung ML1210/1520/4100(JC71-00012B) Veaye   \n",
       "1656                                   Вал резиновый Samsung ML1510/1710/1615/2015/2570/SCX4200,JC66-00600A (Patron)   \n",
       "\n",
       "                                                                                                                                                                            urls  \\\n",
       "344                                                                                 https://tiraet.com/catalog/2873/6183/smartfon_apple_iphone_12_4_64gb_purple_a2403_mjnm3rm_a/   \n",
       "441                                                            https://tiraet.com/catalog/Kompjuternaja-mebel/zapasnye-chasti/nasadka_dlya_paroochistitelya_shvabry_aeno_asmfm1/   \n",
       "508                                 https://tiraet.com/catalog/Kompjuternaja-mebel/mebel/tumby-pod-televizor/podstavka-na-kolesah-dlja-televizorov-32-55-do-50kg-maclean-mc-661/   \n",
       "562                                           https://tiraet.com/catalog/setevoe-oborudovanie/kabel-patchkordy/kabel-spiralnyj-dlja-telephon-trubki-c-razem-4p4c2m-tc4p4cs-2m-w/   \n",
       "563                                          https://tiraet.com/catalog/setevoe-oborudovanie/kabel-patchkordy/kabel-spiralnyj-dlja-telephon-trubki-c-razemami-4p4c2m-tc4p4cs-2m/   \n",
       "681         https://tiraet.com/catalog/setevoe-oborudovanie/kabel-patchkordy/patch_kord_opticheskiy_lanberg_fo_lulu_sd11_0020_ye_yellow_2m_lc_sm_dupplex_standart_polirovki_upc/   \n",
       "940                                                                                               https://tiraet.com/catalog/setevoe-oborudovanie/Aktivnoe-setevoe-oborudovanie/   \n",
       "1051            https://tiraet.com/catalog/setevoe-oborudovanie/tochki-dostupa/tochka_dostupa_potolochnaya_wi_fi_6_tp_link_eap653_802_11ax_2_4_5ggts_574_2402mbit_s_poe_1p_glan/   \n",
       "1134                   https://tiraet.com/catalog/setevoe-oborudovanie/SHkaph-ETHERNET/shkaf_kommutatsion_lanberg_ff01_8022_12bl_19_22u_800_1000_s_dveryu_black_iz_4_kh_chastey/   \n",
       "1246  https://tiraet.com/catalog/jelektropitanie/Bloki-besperebojnogo-pitanija-ups/blok_ups_2000va_1200w_gembird_eg_ups_035_avr_zhk_disp_vykhod_roz_2xc_f_type_schuko_3xiec_c13/   \n",
       "1247                                                            https://tiraet.com/catalog/jelektropitanie/Bloki-besperebojnogo-pitanija-ups/blok-ups-1500va-ups-rack-1500displ/   \n",
       "1596                https://tiraet.com/catalog/rashodnye-materialy/zapchasti-dlja-printerov-i-kopirov/zapchasti_print/val_teflonovyy_samsung_ml1210_1520_4100_jc71_00012b_veaye/   \n",
       "1656          https://tiraet.com/catalog/rashodnye-materialy/zapchasti-dlja-printerov-i-kopirov/zapchasti_print/val_rezinovyy_samsung_ml1510_1710_1615_2015_2570_scx4200_patron/   \n",
       "\n",
       "            datе      counts     id    price  old_price _category  \\\n",
       "344   2024-06-18        Мало  85374   8990.0    10449.0      err_   \n",
       "441   2024-06-18        Мало  84403     88.9        NaN      err_   \n",
       "508   2024-06-18        Мало  46281   2548.9        NaN      err_   \n",
       "562   2024-06-18       Много  56388     11.6        NaN      err_   \n",
       "563   2024-06-18  Достаточно  54529     11.6        NaN      err_   \n",
       "681   2024-06-18  Достаточно  77861     90.8        NaN      err_   \n",
       "940   2024-06-18       Много  75610   1023.0        NaN      err_   \n",
       "1051  2024-06-18        Мало  78438   2339.2     2599.1      err_   \n",
       "1134  2024-06-18        Мало  86946  11491.9        NaN      err_   \n",
       "1246  2024-06-18        Мало  79269   2799.1        NaN      err_   \n",
       "1247  2024-06-18        Мало  36544   2749.1     3089.0      err_   \n",
       "1596  2024-06-18        Мало  73073    181.5        NaN      err_   \n",
       "1656  2024-06-18        Мало  34506    280.5        NaN      err_   \n",
       "\n",
       "     _subcategory _group  \n",
       "344          err_   err_  \n",
       "441          err_   err_  \n",
       "508          err_   err_  \n",
       "562          err_   err_  \n",
       "563          err_   err_  \n",
       "681          err_   err_  \n",
       "940          err_   err_  \n",
       "1051         err_   err_  \n",
       "1134         err_   err_  \n",
       "1246         err_   err_  \n",
       "1247         err_   err_  \n",
       "1596         err_   err_  \n",
       "1656         err_   err_  "
      ]
     },
     "execution_count": 40,
     "metadata": {},
     "output_type": "execute_result"
    }
   ],
   "source": [
    "t[t['_category']=='err_'].id.count()"
   ]
  },
  {
   "cell_type": "code",
   "execution_count": 41,
   "id": "40274775",
   "metadata": {},
   "outputs": [
    {
     "data": {
      "text/plain": [
       "13"
      ]
     },
     "execution_count": 41,
     "metadata": {},
     "output_type": "execute_result"
    }
   ],
   "source": [
    "t[t['_category']=='err_'].id.count()"
   ]
  },
  {
   "cell_type": "code",
   "execution_count": 42,
   "id": "e3760101",
   "metadata": {
    "scrolled": true
   },
   "outputs": [
    {
     "data": {
      "text/plain": [
       "array(['мониторы', 'стекла_пленки', 'чехлы', 'стабилизаторы_селфи-палки',\n",
       "       'телефоны', 'смарт-брелки', 'смартфоны', 'err_', 'запасные_части',\n",
       "       'кухонная_утварь', 'фитосветильники', 'ламинаторы', 'уничтожители',\n",
       "       'проекционное_оборудование', 'доски_интерактивные',\n",
       "       'кабель_патчкорд', 'розетка_коннектор', 'аксессуары_к_шкафам',\n",
       "       'маршрутизаторы_модемы', 'адаптеры_беспроводные', 'карта_сетевая',\n",
       "       'модули_оптические', 'коммутаторы', 'точки_доступа_мост',\n",
       "       'адаптеры_powerline_усилители_wifi', 'грозозащита',\n",
       "       'медиаконвертеры', 'антенны', 'патч_панели', 'шкафы_стойки',\n",
       "       'хранилище_сетевое', 'серверы', 'удлинители', 'элементы_питания',\n",
       "       'инверторы_напряжения', 'стабилизаторы_напряжения',\n",
       "       'блоки_бесперебойного_питания', 'крепления_смартфонов/планшетов',\n",
       "       'навигаторы_gps', 'модуляторы_fm', 'авторегистратор',\n",
       "       'компрессоры', 'автомагнитола', 'динамики', 'автохолодильник',\n",
       "       'запчасти_принтеров_копиров_факсов',\n",
       "       'смазки_и_средства_обслуживания', 'расходные_3d_принтера',\n",
       "       'расходные_матричных_принтеров', 'расходные_струйных_принтеров'],\n",
       "      dtype=object)"
      ]
     },
     "execution_count": 42,
     "metadata": {},
     "output_type": "execute_result"
    }
   ],
   "source": [
    "t._subcategory.unique()"
   ]
  },
  {
   "cell_type": "code",
   "execution_count": 44,
   "id": "fb72c2df",
   "metadata": {},
   "outputs": [
    {
     "data": {
      "text/plain": [
       "13"
      ]
     },
     "execution_count": 44,
     "metadata": {},
     "output_type": "execute_result"
    }
   ],
   "source": [
    "t[t['_subcategory']=='err_'].id.count()"
   ]
  },
  {
   "cell_type": "code",
   "execution_count": 45,
   "id": "033ed7c4",
   "metadata": {},
   "outputs": [
    {
     "data": {
      "text/plain": [
       "array(['мониторы', 'стекла_пленки', 'чехлы', 'стабилизаторы_селфи-палки',\n",
       "       'телефоны', 'смарт-брелки', 'смартфоны', 'err_', 'запасные_части',\n",
       "       'посудадоски_разделочныепакеты_для_вакуумированиятермосыточилки_для_ножеймельницытермометры_кухонныекувшин-фильтр',\n",
       "       'фитосветильники', 'ламинаторы', 'уничтожители',\n",
       "       'проекторыкрепления_для_проекторовэкраны_для_проекторов',\n",
       "       'доски_интерактивные', 'кабель_патчкорд', 'розетка_коннектор',\n",
       "       'аксессуары_к_шкафам', 'маршрутизаторы_модемы',\n",
       "       'адаптеры_беспроводные', 'карта_сетевая', 'модули_оптические',\n",
       "       'коммутаторы', 'точки_доступа_мост',\n",
       "       'адаптеры_powerline_усилители_wifi', 'грозозащита',\n",
       "       'медиаконвертеры', 'антенны', 'патч_панели', 'шкафы_стойки',\n",
       "       'хранилище_сетевое', 'серверы', 'удлинители', 'элементы_питания',\n",
       "       'инверторы_напряжения', 'стабилизаторы_напряжения',\n",
       "       'блоки_бесперебойного_питания', 'крепления_смартфонов/планшетов',\n",
       "       'навигаторы_gps', 'модуляторы_fm', 'авторегистратор',\n",
       "       'компрессоры', 'автомагнитола', 'динамики', 'автохолодильник',\n",
       "       'запчасти', 'смазки_жидкости', 'запчасти_принтеров_копиров_факсов',\n",
       "       'филамент', 'лентакартриджи', 'расходные_струйных_принтеров'],\n",
       "      dtype=object)"
      ]
     },
     "execution_count": 45,
     "metadata": {},
     "output_type": "execute_result"
    }
   ],
   "source": [
    "t._group.unique()"
   ]
  },
  {
   "cell_type": "code",
   "execution_count": 46,
   "id": "feab81eb",
   "metadata": {},
   "outputs": [
    {
     "data": {
      "text/plain": [
       "13"
      ]
     },
     "execution_count": 46,
     "metadata": {},
     "output_type": "execute_result"
    }
   ],
   "source": [
    "t[t['_group']=='err_'].id.count()"
   ]
  },
  {
   "cell_type": "code",
   "execution_count": 47,
   "id": "b524b0bf",
   "metadata": {},
   "outputs": [],
   "source": [
    "df = t.copy()"
   ]
  },
  {
   "cell_type": "code",
   "execution_count": 48,
   "id": "89a7708e",
   "metadata": {},
   "outputs": [],
   "source": [
    "df = df[~((df['_category']=='err_') | \n",
    "   (df['_subcategory']=='err_') |\n",
    "   (df['_group']=='err_'))]"
   ]
  },
  {
   "cell_type": "code",
   "execution_count": 49,
   "id": "bf030a06",
   "metadata": {},
   "outputs": [
    {
     "data": {
      "text/plain": [
       "array(['мониторы', 'стекла_пленки', 'чехлы', 'стабилизаторы_селфи-палки',\n",
       "       'телефоны', 'смарт-брелки', 'смартфоны', 'запасные_части',\n",
       "       'посудадоски_разделочныепакеты_для_вакуумированиятермосыточилки_для_ножеймельницытермометры_кухонныекувшин-фильтр',\n",
       "       'фитосветильники', 'ламинаторы', 'уничтожители',\n",
       "       'проекторыкрепления_для_проекторовэкраны_для_проекторов',\n",
       "       'доски_интерактивные', 'кабель_патчкорд', 'розетка_коннектор',\n",
       "       'аксессуары_к_шкафам', 'маршрутизаторы_модемы',\n",
       "       'адаптеры_беспроводные', 'карта_сетевая', 'модули_оптические',\n",
       "       'коммутаторы', 'точки_доступа_мост',\n",
       "       'адаптеры_powerline_усилители_wifi', 'грозозащита',\n",
       "       'медиаконвертеры', 'антенны', 'патч_панели', 'шкафы_стойки',\n",
       "       'хранилище_сетевое', 'серверы', 'удлинители', 'элементы_питания',\n",
       "       'инверторы_напряжения', 'стабилизаторы_напряжения',\n",
       "       'блоки_бесперебойного_питания', 'крепления_смартфонов/планшетов',\n",
       "       'навигаторы_gps', 'модуляторы_fm', 'авторегистратор',\n",
       "       'компрессоры', 'автомагнитола', 'динамики', 'автохолодильник',\n",
       "       'запчасти', 'смазки_жидкости', 'запчасти_принтеров_копиров_факсов',\n",
       "       'филамент', 'лентакартриджи', 'расходные_струйных_принтеров'],\n",
       "      dtype=object)"
      ]
     },
     "execution_count": 49,
     "metadata": {},
     "output_type": "execute_result"
    }
   ],
   "source": [
    "df._group.unique()"
   ]
  },
  {
   "cell_type": "code",
   "execution_count": 50,
   "id": "bebd9793",
   "metadata": {},
   "outputs": [
    {
     "data": {
      "text/html": [
       "<div>\n",
       "<style scoped>\n",
       "    .dataframe tbody tr th:only-of-type {\n",
       "        vertical-align: middle;\n",
       "    }\n",
       "\n",
       "    .dataframe tbody tr th {\n",
       "        vertical-align: top;\n",
       "    }\n",
       "\n",
       "    .dataframe thead th {\n",
       "        text-align: right;\n",
       "    }\n",
       "</style>\n",
       "<table border=\"1\" class=\"dataframe\">\n",
       "  <thead>\n",
       "    <tr style=\"text-align: right;\">\n",
       "      <th></th>\n",
       "      <th>title</th>\n",
       "      <th>urls</th>\n",
       "      <th>datе</th>\n",
       "      <th>counts</th>\n",
       "      <th>id</th>\n",
       "      <th>price</th>\n",
       "      <th>old_price</th>\n",
       "      <th>_category</th>\n",
       "      <th>_subcategory</th>\n",
       "      <th>_group</th>\n",
       "    </tr>\n",
       "  </thead>\n",
       "  <tbody>\n",
       "    <tr>\n",
       "      <th>495</th>\n",
       "      <td>Кастрюля Polaris Graphit-24C  (алюмин, 4.2л, d=24см, крышка из стекла, антипригарное покрытие SILVER PROTECT)</td>\n",
       "      <td>https://tiraet.com/catalog/Kompjuternaja-mebel/kuhonnaja-utvar/kastrjuli/</td>\n",
       "      <td>2024-06-18</td>\n",
       "      <td>Достаточно</td>\n",
       "      <td>84747</td>\n",
       "      <td>499.0</td>\n",
       "      <td>NaN</td>\n",
       "      <td>для_дома</td>\n",
       "      <td>кухонная_утварь</td>\n",
       "      <td>посудадоски_разделочныепакеты_для_вакуумированиятермосыточилки_для_ножеймельницытермометры_кухонныекувшин-фильтр</td>\n",
       "    </tr>\n",
       "  </tbody>\n",
       "</table>\n",
       "</div>"
      ],
      "text/plain": [
       "                                                                                                             title  \\\n",
       "495  Кастрюля Polaris Graphit-24C  (алюмин, 4.2л, d=24см, крышка из стекла, антипригарное покрытие SILVER PROTECT)   \n",
       "\n",
       "                                                                          urls  \\\n",
       "495  https://tiraet.com/catalog/Kompjuternaja-mebel/kuhonnaja-utvar/kastrjuli/   \n",
       "\n",
       "           datе      counts     id  price  old_price _category  \\\n",
       "495  2024-06-18  Достаточно  84747  499.0        NaN  для_дома   \n",
       "\n",
       "        _subcategory  \\\n",
       "495  кухонная_утварь   \n",
       "\n",
       "                                                                                                               _group  \n",
       "495  посудадоски_разделочныепакеты_для_вакуумированиятермосыточилки_для_ножеймельницытермометры_кухонныекувшин-фильтр  "
      ]
     },
     "execution_count": 50,
     "metadata": {},
     "output_type": "execute_result"
    }
   ],
   "source": [
    "df[df['_group']=='посудадоски_разделочныепакеты_для_вакуумированиятермосыточилки_для_ножеймельницытермометры_кухонныекувшин-фильтр']"
   ]
  },
  {
   "cell_type": "code",
   "execution_count": null,
   "id": "83a20bf5",
   "metadata": {},
   "outputs": [],
   "source": [
    "df = df[~(df['id']==84747)]"
   ]
  },
  {
   "cell_type": "code",
   "execution_count": null,
   "id": "5f2e3f61",
   "metadata": {},
   "outputs": [],
   "source": [
    "df = df[~(df['id']==84432)]"
   ]
  },
  {
   "cell_type": "code",
   "execution_count": null,
   "id": "2d9d5629",
   "metadata": {},
   "outputs": [],
   "source": [
    "df"
   ]
  },
  {
   "cell_type": "code",
   "execution_count": null,
   "id": "cea76059",
   "metadata": {},
   "outputs": [],
   "source": [
    "df = df[['id', '_category','_subcategory','_group' ]].reset_index(drop=True)"
   ]
  },
  {
   "cell_type": "code",
   "execution_count": null,
   "id": "768d6d4e",
   "metadata": {
    "scrolled": false
   },
   "outputs": [],
   "source": [
    "df"
   ]
  },
  {
   "cell_type": "code",
   "execution_count": 51,
   "id": "82313810",
   "metadata": {},
   "outputs": [],
   "source": [
    "tiraet_group = pd.read_csv('csv/atiraet_group.csv', sep = '%')"
   ]
  },
  {
   "cell_type": "code",
   "execution_count": null,
   "id": "8fb82ff8",
   "metadata": {},
   "outputs": [],
   "source": [
    "tiraet_group = pd.concat([tiraet_group, df], ignore_index=True).sort_values(['_category','_subcategory', '_group']).reset_index(drop=True)"
   ]
  },
  {
   "cell_type": "code",
   "execution_count": null,
   "id": "4af81b70",
   "metadata": {},
   "outputs": [],
   "source": [
    "tiraet_group = tiraet_group.drop_duplicates().reset_index(drop=True)"
   ]
  },
  {
   "cell_type": "code",
   "execution_count": 55,
   "id": "1bb84e3b",
   "metadata": {},
   "outputs": [],
   "source": [
    "tiraet_group.to_csv('csv/atiraet_group.csv', index=False, sep='%')  "
   ]
  },
  {
   "cell_type": "code",
   "execution_count": null,
   "id": "d0a9c6e6",
   "metadata": {},
   "outputs": [],
   "source": []
  },
  {
   "cell_type": "markdown",
   "id": "ceeab645",
   "metadata": {},
   "source": [
    "# посуда"
   ]
  },
  {
   "cell_type": "code",
   "execution_count": 10,
   "id": "bf38ab5f",
   "metadata": {},
   "outputs": [],
   "source": [
    "reqx = requests.get('https://tiraet.com/catalog/Kompjuternaja-mebel/kuhonnaja-utvar/kastrjuli/kastryulya_polaris_graphit_24c_alyumin_4_2l_d_24sm_kryshka_iz_stekla_antiprigarnoe_pokrytie_silver_p/')\n",
    "soup = bs(reqx.text, 'html.parser')    \n",
    "elem_1 = soup.findAll('a', class_='breadcrumbs__link colored_theme_hover_bg-el-svg')\n",
    "elem_2 = soup.findAll('div', class_='breadcrumbs__item')"
   ]
  },
  {
   "cell_type": "code",
   "execution_count": 11,
   "id": "da0017fa",
   "metadata": {},
   "outputs": [
    {
     "data": {
      "text/plain": [
       "3"
      ]
     },
     "execution_count": 11,
     "metadata": {},
     "output_type": "execute_result"
    }
   ],
   "source": [
    "len(elem_1)"
   ]
  },
  {
   "cell_type": "code",
   "execution_count": 12,
   "id": "90fcb3ce",
   "metadata": {},
   "outputs": [
    {
     "name": "stdout",
     "output_type": "stream",
     "text": [
      "ДЛЯ ДОМА\n",
      "КУХОННАЯ УТВАРЬ\n",
      "Посуда\n"
     ]
    }
   ],
   "source": [
    "for i in elem_1:\n",
    "    print(i.text)"
   ]
  },
  {
   "cell_type": "code",
   "execution_count": 13,
   "id": "93474b46",
   "metadata": {},
   "outputs": [
    {
     "data": {
      "text/plain": [
       "5"
      ]
     },
     "execution_count": 13,
     "metadata": {},
     "output_type": "execute_result"
    }
   ],
   "source": [
    "len(elem_2)"
   ]
  },
  {
   "cell_type": "code",
   "execution_count": 14,
   "id": "1e9a5411",
   "metadata": {},
   "outputs": [
    {
     "name": "stdout",
     "output_type": "stream",
     "text": [
      "Главная страница\n",
      "Каталог\n",
      "ДЛЯ ДОМАКОМПЬЮТЕРНАЯ ТЕХНИКАМОБИЛЬНЫЕ ТЕЛЕФОНЫБЫТОВАЯ ТЕХНИКАБЕЗОПАСНОСТЬСВЕТОТЕХНИКАОРГТЕХНИКАФОТО, АУДИОСЕТЕВОЕ И СЕРВЕРНОЕ ОБОРУДОВАНИЕЭЛЕКТРОПИТАНИЕСПОРТ И УВЛЕЧЕНИЯАВТОТОВАРЫРАСХОДНЫЕ МАТЕРИАЛЫСЕРТИФИКАТЫПРОГРАММНОЕ ОБЕСПЕЧЕНИЕ\n",
      "КУХОННАЯ УТВАРЬБЫТОВАЯ ХИМИЯЗАПАСНЫЕ ЧАСТИКРЕПЛЕНИЯИНСТРУМЕНТЫМЕБЕЛЬПРОДУКТЫ ПИТАНИЯТЕКСТИЛЬХОЗЯЙСТВЕННЫЙ ИНВЕНТАРЬ\n",
      "ПосудаДоски разделочныеПакеты для вакуумированияТермосыТочилки для ножейМельницыТермометры кухонныеКувшин-фильтр\n"
     ]
    }
   ],
   "source": [
    "for i in elem_2:\n",
    "    print(i.text)"
   ]
  },
  {
   "cell_type": "code",
   "execution_count": 15,
   "id": "4204c7d6",
   "metadata": {},
   "outputs": [
    {
     "data": {
      "text/plain": [
       "'ДЛЯ ДОМА'"
      ]
     },
     "execution_count": 15,
     "metadata": {},
     "output_type": "execute_result"
    }
   ],
   "source": [
    "elem_1[0].text"
   ]
  },
  {
   "cell_type": "code",
   "execution_count": 16,
   "id": "600cc218",
   "metadata": {},
   "outputs": [
    {
     "data": {
      "text/plain": [
       "'КУХОННАЯ УТВАРЬ'"
      ]
     },
     "execution_count": 16,
     "metadata": {},
     "output_type": "execute_result"
    }
   ],
   "source": [
    "elem_1[1].text"
   ]
  },
  {
   "cell_type": "code",
   "execution_count": 17,
   "id": "cd69fcea",
   "metadata": {},
   "outputs": [
    {
     "data": {
      "text/plain": [
       "'Посуда'"
      ]
     },
     "execution_count": 17,
     "metadata": {},
     "output_type": "execute_result"
    }
   ],
   "source": [
    "elem_1[2].text "
   ]
  },
  {
   "cell_type": "code",
   "execution_count": 18,
   "id": "8ecd8acf",
   "metadata": {},
   "outputs": [
    {
     "data": {
      "text/plain": [
       "'ПосудаДоски разделочныеПакеты для вакуумированияТермосыТочилки для ножейМельницыТермометры кухонныеКувшин-фильтр'"
      ]
     },
     "execution_count": 18,
     "metadata": {},
     "output_type": "execute_result"
    }
   ],
   "source": [
    "elem_2[4].text"
   ]
  },
  {
   "cell_type": "markdown",
   "id": "963fb174",
   "metadata": {},
   "source": [
    "# охлаждение"
   ]
  },
  {
   "cell_type": "code",
   "execution_count": 19,
   "id": "f001164a",
   "metadata": {},
   "outputs": [],
   "source": [
    "reqx = requests.get('https://tiraet.com/catalog/Komplektujuschie/komplektujuschie/ventiljator/cooler_vodyanoe_okhlazhdenie_arctic_liquid_freezer_iii_240_a_rgb_black_acfre00142a_s_am4_am5_lga1851/')\n",
    "soup = bs(reqx.text, 'html.parser')    \n",
    "elem_1 = soup.findAll('a', class_='breadcrumbs__link colored_theme_hover_bg-el-svg')\n",
    "elem_2 = soup.findAll('div', class_='breadcrumbs__item')"
   ]
  },
  {
   "cell_type": "code",
   "execution_count": 20,
   "id": "fc89eebe",
   "metadata": {},
   "outputs": [
    {
     "data": {
      "text/plain": [
       "3"
      ]
     },
     "execution_count": 20,
     "metadata": {},
     "output_type": "execute_result"
    }
   ],
   "source": [
    "len(elem_1)"
   ]
  },
  {
   "cell_type": "code",
   "execution_count": 21,
   "id": "2cd1ad69",
   "metadata": {},
   "outputs": [
    {
     "name": "stdout",
     "output_type": "stream",
     "text": [
      "КОМПЬЮТЕРНАЯ ТЕХНИКА\n",
      "КОМПЛЕКТУЮЩИЕ\n",
      "Системы охлаждения\n"
     ]
    }
   ],
   "source": [
    "for i in elem_1:\n",
    "    print(i.text)"
   ]
  },
  {
   "cell_type": "code",
   "execution_count": 22,
   "id": "99331e12",
   "metadata": {},
   "outputs": [
    {
     "data": {
      "text/plain": [
       "5"
      ]
     },
     "execution_count": 22,
     "metadata": {},
     "output_type": "execute_result"
    }
   ],
   "source": [
    "len(elem_2)"
   ]
  },
  {
   "cell_type": "code",
   "execution_count": 23,
   "id": "31ababfe",
   "metadata": {},
   "outputs": [
    {
     "name": "stdout",
     "output_type": "stream",
     "text": [
      "Главная страница\n",
      "Каталог\n",
      "КОМПЬЮТЕРНАЯ ТЕХНИКАМОБИЛЬНЫЕ ТЕЛЕФОНЫДЛЯ ДОМАБЫТОВАЯ ТЕХНИКАБЕЗОПАСНОСТЬСВЕТОТЕХНИКАОРГТЕХНИКАФОТО, АУДИОСЕТЕВОЕ И СЕРВЕРНОЕ ОБОРУДОВАНИЕЭЛЕКТРОПИТАНИЕСПОРТ И УВЛЕЧЕНИЯАВТОТОВАРЫРАСХОДНЫЕ МАТЕРИАЛЫСЕРТИФИКАТЫПРОГРАММНОЕ ОБЕСПЕЧЕНИЕ\n",
      "КОМПЛЕКТУЮЩИЕАКСЕССУАРЫКОМПЬЮТЕРЫ, НОУТБУКИ, ПЛАНШЕТЫМАНИПУЛЯТОРЫМУЛЬТИМЕДИАМОНИТОРЫНАКОПИТЕЛИ\n",
      "Системы охлажденияБлоки питания ПКВидеокартыДок-станции для HDDЗвуковые картыКарманы HDDКорпусаКонтроллеры, адаптерыМатеринские платыНакопители SSDНакопители HDDПамятьПриводы оптическиеПроцессоры\n"
     ]
    }
   ],
   "source": [
    "for i in elem_2:\n",
    "    print(i.text)"
   ]
  },
  {
   "cell_type": "code",
   "execution_count": 24,
   "id": "dca4eed6",
   "metadata": {},
   "outputs": [
    {
     "data": {
      "text/plain": [
       "'КОМПЬЮТЕРНАЯ ТЕХНИКА'"
      ]
     },
     "execution_count": 24,
     "metadata": {},
     "output_type": "execute_result"
    }
   ],
   "source": [
    "elem_1[0].text"
   ]
  },
  {
   "cell_type": "code",
   "execution_count": 25,
   "id": "4475cb91",
   "metadata": {},
   "outputs": [
    {
     "data": {
      "text/plain": [
       "'КОМПЛЕКТУЮЩИЕ'"
      ]
     },
     "execution_count": 25,
     "metadata": {},
     "output_type": "execute_result"
    }
   ],
   "source": [
    "elem_1[1].text"
   ]
  },
  {
   "cell_type": "code",
   "execution_count": 26,
   "id": "4feb8825",
   "metadata": {},
   "outputs": [
    {
     "data": {
      "text/plain": [
       "'Системы охлаждения'"
      ]
     },
     "execution_count": 26,
     "metadata": {},
     "output_type": "execute_result"
    }
   ],
   "source": [
    "elem_1[2].text "
   ]
  },
  {
   "cell_type": "code",
   "execution_count": 27,
   "id": "45aa63d1",
   "metadata": {},
   "outputs": [
    {
     "data": {
      "text/plain": [
       "'Системы охлажденияБлоки питания ПКВидеокартыДок-станции для HDDЗвуковые картыКарманы HDDКорпусаКонтроллеры, адаптерыМатеринские платыНакопители SSDНакопители HDDПамятьПриводы оптическиеПроцессоры'"
      ]
     },
     "execution_count": 27,
     "metadata": {},
     "output_type": "execute_result"
    }
   ],
   "source": [
    "elem_2[4].text"
   ]
  },
  {
   "cell_type": "code",
   "execution_count": null,
   "id": "3128a91b",
   "metadata": {},
   "outputs": [],
   "source": []
  },
  {
   "cell_type": "code",
   "execution_count": null,
   "id": "28613b8a",
   "metadata": {},
   "outputs": [],
   "source": []
  },
  {
   "cell_type": "code",
   "execution_count": null,
   "id": "10fc22c4",
   "metadata": {},
   "outputs": [],
   "source": []
  },
  {
   "cell_type": "code",
   "execution_count": null,
   "id": "b0a42114",
   "metadata": {},
   "outputs": [],
   "source": []
  },
  {
   "cell_type": "markdown",
   "id": "44c87d9f",
   "metadata": {},
   "source": [
    "# запчасти"
   ]
  },
  {
   "cell_type": "code",
   "execution_count": 28,
   "id": "9e2cdafc",
   "metadata": {},
   "outputs": [],
   "source": [
    "reqx = requests.get('https://tiraet.com/catalog/rashodnye-materialy/zapchasti-dlja-printerov-i-kopirov/zapchasti_print/golovka-dlja-plotterov-canon-pf-03-2251b001/')\n",
    "soup = bs(reqx.text, 'html.parser')    \n",
    "elem_1 = soup.findAll('a', class_='breadcrumbs__link colored_theme_hover_bg-el-svg')\n",
    "elem_2 = soup.findAll('div', class_='breadcrumbs__item')"
   ]
  },
  {
   "cell_type": "code",
   "execution_count": 29,
   "id": "ffede5fe",
   "metadata": {},
   "outputs": [
    {
     "data": {
      "text/plain": [
       "2"
      ]
     },
     "execution_count": 29,
     "metadata": {},
     "output_type": "execute_result"
    }
   ],
   "source": [
    "len(elem_1)"
   ]
  },
  {
   "cell_type": "code",
   "execution_count": 36,
   "id": "d8a0786f",
   "metadata": {},
   "outputs": [
    {
     "name": "stdout",
     "output_type": "stream",
     "text": [
      "РАСХОДНЫЕ_МАТЕРИАЛЫ\n",
      "ЗАПЧАСТИ_ПРИНТЕРОВ_КОПИРОВ_ФАКСОВ\n"
     ]
    }
   ],
   "source": [
    "for i in elem_1:\n",
    "    print(i.text.replace(',','').replace(' ','_'))"
   ]
  },
  {
   "cell_type": "code",
   "execution_count": 31,
   "id": "71a78055",
   "metadata": {},
   "outputs": [
    {
     "data": {
      "text/plain": [
       "5"
      ]
     },
     "execution_count": 31,
     "metadata": {},
     "output_type": "execute_result"
    }
   ],
   "source": [
    "len(elem_2)"
   ]
  },
  {
   "cell_type": "code",
   "execution_count": 32,
   "id": "f2eadce1",
   "metadata": {},
   "outputs": [
    {
     "name": "stdout",
     "output_type": "stream",
     "text": [
      "Главная страница\n",
      "Каталог\n",
      "РАСХОДНЫЕ МАТЕРИАЛЫКОМПЬЮТЕРНАЯ ТЕХНИКАМОБИЛЬНЫЕ ТЕЛЕФОНЫДЛЯ ДОМАБЫТОВАЯ ТЕХНИКАБЕЗОПАСНОСТЬСВЕТОТЕХНИКАОРГТЕХНИКАФОТО, АУДИОСЕТЕВОЕ И СЕРВЕРНОЕ ОБОРУДОВАНИЕЭЛЕКТРОПИТАНИЕСПОРТ И УВЛЕЧЕНИЯАВТОТОВАРЫСЕРТИФИКАТЫПРОГРАММНОЕ ОБЕСПЕЧЕНИЕ\n",
      "ЗАПЧАСТИ ПРИНТЕРОВ, КОПИРОВ, ФАКСОВБУМАГА, ЛЕНТА, ПЛЕНКАРАСХОДНЫЕ КАРТРИДЖЕЙ КОПИРОВСМАЗКИ И СРЕДСТВА ОБСЛУЖИВАНИЯРАСХОДНЫЕ МАТРИЧНЫХ ПРИНТЕРОВРАСХОДНЫЕ СТРУЙНЫХ ПРИНТЕРОВРАСХОДНЫЕ КАРТРИДЖЕЙ ЛАЗЕРНЫХ ПРИНТЕРОВ, ФАКСОВРАСХОДНЫЕ 3D ПРИНТЕРА\n",
      "Запчасти\n"
     ]
    }
   ],
   "source": [
    "for i in elem_2:\n",
    "    print(i.text)"
   ]
  },
  {
   "cell_type": "code",
   "execution_count": 33,
   "id": "ecbac41b",
   "metadata": {},
   "outputs": [
    {
     "data": {
      "text/plain": [
       "'РАСХОДНЫЕ МАТЕРИАЛЫ'"
      ]
     },
     "execution_count": 33,
     "metadata": {},
     "output_type": "execute_result"
    }
   ],
   "source": [
    "elem_1[0].text"
   ]
  },
  {
   "cell_type": "code",
   "execution_count": 34,
   "id": "20eba646",
   "metadata": {},
   "outputs": [
    {
     "data": {
      "text/plain": [
       "'ЗАПЧАСТИ ПРИНТЕРОВ, КОПИРОВ, ФАКСОВ'"
      ]
     },
     "execution_count": 34,
     "metadata": {},
     "output_type": "execute_result"
    }
   ],
   "source": [
    "elem_1[1].text"
   ]
  },
  {
   "cell_type": "code",
   "execution_count": 35,
   "id": "63a92dec",
   "metadata": {},
   "outputs": [
    {
     "ename": "IndexError",
     "evalue": "list index out of range",
     "output_type": "error",
     "traceback": [
      "\u001b[1;31m---------------------------------------------------------------------------\u001b[0m",
      "\u001b[1;31mIndexError\u001b[0m                                Traceback (most recent call last)",
      "Cell \u001b[1;32mIn[35], line 1\u001b[0m\n\u001b[1;32m----> 1\u001b[0m elem_1[\u001b[38;5;241m2\u001b[39m]\u001b[38;5;241m.\u001b[39mtext\n",
      "\u001b[1;31mIndexError\u001b[0m: list index out of range"
     ]
    }
   ],
   "source": [
    "elem_1[2].text "
   ]
  },
  {
   "cell_type": "code",
   "execution_count": null,
   "id": "2d53a121",
   "metadata": {},
   "outputs": [],
   "source": [
    "elem_2[4].text "
   ]
  },
  {
   "cell_type": "markdown",
   "id": "fa471b45",
   "metadata": {},
   "source": [
    "# монитор"
   ]
  },
  {
   "cell_type": "code",
   "execution_count": null,
   "id": "8c84b4f4",
   "metadata": {},
   "outputs": [],
   "source": [
    "reqx = requests.get('https://tiraet.com/catalog/Komplektujuschie/monitory/monitor_22_hikvision_ds_d5022fn00_va_1920x1080_250kd_m_178_178_hdmi_d_sub_7_24h/')\n",
    "soup = bs(reqx.text, 'html.parser')    \n",
    "elem_1 = soup.findAll('a', class_='breadcrumbs__link colored_theme_hover_bg-el-svg')\n",
    "elem_2 = soup.findAll('div', class_='breadcrumbs__item')"
   ]
  },
  {
   "cell_type": "code",
   "execution_count": null,
   "id": "04afbb2f",
   "metadata": {},
   "outputs": [],
   "source": [
    "len(elem_1)"
   ]
  },
  {
   "cell_type": "code",
   "execution_count": null,
   "id": "e48fbbfb",
   "metadata": {},
   "outputs": [],
   "source": [
    "for i in elem_1:\n",
    "    print(i.text)"
   ]
  },
  {
   "cell_type": "code",
   "execution_count": null,
   "id": "bab91993",
   "metadata": {},
   "outputs": [],
   "source": [
    "len(elem_2)"
   ]
  },
  {
   "cell_type": "code",
   "execution_count": null,
   "id": "6bd029d2",
   "metadata": {},
   "outputs": [],
   "source": [
    "elem_1[0].text"
   ]
  },
  {
   "cell_type": "code",
   "execution_count": null,
   "id": "a643b6a6",
   "metadata": {},
   "outputs": [],
   "source": [
    "elem_1[1].text"
   ]
  },
  {
   "cell_type": "code",
   "execution_count": null,
   "id": "ab2e5ee2",
   "metadata": {},
   "outputs": [],
   "source": [
    "elem_1[2].text "
   ]
  },
  {
   "cell_type": "code",
   "execution_count": null,
   "id": "63bca298",
   "metadata": {},
   "outputs": [],
   "source": [
    "elem_2[4].text "
   ]
  },
  {
   "cell_type": "code",
   "execution_count": null,
   "id": "d8cad968",
   "metadata": {},
   "outputs": [],
   "source": [
    "url = ['https://tiraet.com/catalog/Kompjuternaja-mebel/kuhonnaja-utvar/kastrjuli/kastryulya_polaris_graphit_24c_alyumin_4_2l_d_24sm_kryshka_iz_stekla_antiprigarnoe_pokrytie_silver_p/',\n",
    "       'https://tiraet.com/catalog/Komplektujuschie/komplektujuschie/ventiljator/cooler_vodyanoe_okhlazhdenie_arctic_liquid_freezer_iii_240_a_rgb_black_acfre00142a_s_am4_am5_lga1851/',\n",
    "       'https://tiraet.com/catalog/rashodnye-materialy/zapchasti-dlja-printerov-i-kopirov/zapchasti_print/golovka-dlja-plotterov-canon-pf-03-2251b001/',\n",
    "       'https://tiraet.com/catalog/Komplektujuschie/monitory/monitor_22_hikvision_ds_d5022fn00_va_1920x1080_250kd_m_178_178_hdmi_d_sub_7_24h/']"
   ]
  },
  {
   "cell_type": "code",
   "execution_count": null,
   "id": "9a655955",
   "metadata": {},
   "outputs": [],
   "source": [
    "for i in url:\n",
    "    reqx = requests.get(i)\n",
    "    soup = bs(reqx.text, 'html.parser')    \n",
    "    elem_1 = soup.findAll('a', class_='breadcrumbs__link colored_theme_hover_bg-el-svg')\n",
    "    elem_2 = soup.findAll('div', class_='breadcrumbs__item')\n",
    "    \n",
    "    if len(elem_1) <=2:\n",
    "        if len(elem_2) <= 4:\n",
    "            print(elem_1[0].text)\n",
    "            print(elem_1[1].text)\n",
    "            print(elem_1[1].text)\n",
    "        else:\n",
    "            print(elem_1[0].text)\n",
    "            print(elem_1[1].text)\n",
    "            print(elem_2[4].text )\n",
    "    else:\n",
    "        print(elem_1[0].text)\n",
    "        print(elem_1[1].text)\n",
    "        print(elem_1[2].text)\n",
    "    \n",
    "    \n",
    "    "
   ]
  },
  {
   "cell_type": "code",
   "execution_count": null,
   "id": "ae80985c",
   "metadata": {},
   "outputs": [],
   "source": []
  },
  {
   "cell_type": "code",
   "execution_count": null,
   "id": "b81d54fc",
   "metadata": {},
   "outputs": [],
   "source": []
  },
  {
   "cell_type": "code",
   "execution_count": null,
   "id": "e06b674b",
   "metadata": {},
   "outputs": [],
   "source": []
  },
  {
   "cell_type": "code",
   "execution_count": null,
   "id": "f39bcfd8",
   "metadata": {},
   "outputs": [],
   "source": []
  },
  {
   "cell_type": "code",
   "execution_count": null,
   "id": "0830e503",
   "metadata": {},
   "outputs": [],
   "source": []
  },
  {
   "cell_type": "code",
   "execution_count": null,
   "id": "74c98372",
   "metadata": {},
   "outputs": [],
   "source": []
  },
  {
   "cell_type": "code",
   "execution_count": null,
   "id": "46872f32",
   "metadata": {},
   "outputs": [],
   "source": []
  },
  {
   "cell_type": "code",
   "execution_count": null,
   "id": "228a65b0",
   "metadata": {},
   "outputs": [],
   "source": []
  },
  {
   "cell_type": "code",
   "execution_count": null,
   "id": "98b6fad1",
   "metadata": {},
   "outputs": [],
   "source": []
  },
  {
   "cell_type": "code",
   "execution_count": null,
   "id": "c8b1d8c7",
   "metadata": {},
   "outputs": [],
   "source": []
  },
  {
   "cell_type": "code",
   "execution_count": null,
   "id": "dd791122",
   "metadata": {},
   "outputs": [],
   "source": []
  },
  {
   "cell_type": "code",
   "execution_count": null,
   "id": "3eb7e504",
   "metadata": {},
   "outputs": [],
   "source": []
  },
  {
   "cell_type": "code",
   "execution_count": null,
   "id": "d0ee783c",
   "metadata": {},
   "outputs": [],
   "source": []
  },
  {
   "cell_type": "code",
   "execution_count": null,
   "id": "69bf67d2",
   "metadata": {},
   "outputs": [],
   "source": []
  },
  {
   "cell_type": "code",
   "execution_count": null,
   "id": "9a0ca058",
   "metadata": {},
   "outputs": [],
   "source": [
    "brend = pd.read_excel('csv/brend.xlsx')"
   ]
  },
  {
   "cell_type": "code",
   "execution_count": null,
   "id": "136eddfa",
   "metadata": {},
   "outputs": [],
   "source": [
    "len(searchList)"
   ]
  },
  {
   "cell_type": "code",
   "execution_count": null,
   "id": "238b42a9",
   "metadata": {},
   "outputs": [],
   "source": [
    "def lower(x):\n",
    "    return x.lower()"
   ]
  },
  {
   "cell_type": "code",
   "execution_count": null,
   "id": "b56460b4",
   "metadata": {},
   "outputs": [],
   "source": [
    "brend['names'] = brend['name'].apply(lower)"
   ]
  },
  {
   "cell_type": "code",
   "execution_count": null,
   "id": "efc05e72",
   "metadata": {},
   "outputs": [],
   "source": [
    "brend_up = brend.name.unique()\n",
    "brend_low = brend.names.unique()"
   ]
  },
  {
   "cell_type": "markdown",
   "id": "cd4e65f8",
   "metadata": {},
   "source": [
    "загружаем и создаем переменную с брендами"
   ]
  },
  {
   "cell_type": "code",
   "execution_count": null,
   "id": "f650c8c1",
   "metadata": {},
   "outputs": [],
   "source": [
    "def brends(x):\n",
    "    xx = x.replace('\\xa0', ' ').replace(',', ' ')\n",
    "    xx = xx.split(' ')    \n",
    "    for i in range(len(xx)-1):\n",
    "        if xx[i].lower() in brend_low:\n",
    "            return xx[i].lower()\n",
    "        elif (str(xx[i].lower())+' '+str(xx[i+1].lower())) in brend_low:\n",
    "            return (str(xx[i].lower())+' '+str(xx[i+1].lower()))    \n",
    "    else:    \n",
    "        return 'другой'"
   ]
  },
  {
   "cell_type": "code",
   "execution_count": null,
   "id": "7a43e7bf",
   "metadata": {},
   "outputs": [],
   "source": []
  },
  {
   "cell_type": "code",
   "execution_count": null,
   "id": "da15fd89",
   "metadata": {},
   "outputs": [],
   "source": [
    "def category(x):\n",
    "    xx = x.split('/')\n",
    "    xx = (xx[4].replace('Komplektujuschie','КОМПЬЮТЕРНАЯ_ТЕХНИКА').\n",
    "          replace('2873','МОБИЛЬНЫЕ_ТЕЛЕФОНЫ').\n",
    "          replace('Kompjuternaja-mebel','ДЛЯ_ДОМА').\n",
    "          replace('bytovaya','БЫТОВАЯ_ТЕХНИКА').\n",
    "          replace('ohrannye-sistemy','БЕЗОПАСНОСТЬ').\n",
    "          replace('svet-i-jelektrika','СВЕТОТЕХНИКА').\n",
    "          replace('orgtehnika','ОРГТЕХНИКА').\n",
    "          replace('PHoto--i-video','ФОТО_АУДИО').\n",
    "          replace('setevoe-oborudovanie','LAN_ОБОРУДОВАНИЕ').\n",
    "          replace('jelektropitanie','ЭЛЕКТРОПИТАНИЕ').\n",
    "          replace('uslugi','СПОРТ').\n",
    "          replace('avtojelektronika','АВТОТОВАРЫ').\n",
    "          replace('rashodnye-materialy','РАСХОДНИКИ'))\n",
    "    return xx    "
   ]
  },
  {
   "cell_type": "code",
   "execution_count": null,
   "id": "c556b719",
   "metadata": {},
   "outputs": [],
   "source": [
    "def subcategory(x):\n",
    "    try:\n",
    "        reqx = requests.get(x)\n",
    "        soup = bs(reqx.text, 'html.parser')    \n",
    "        data = []\n",
    "        data.append(soup.findAll('span', class_='breadcrumbs__item-name font_xs')[3].text)\n",
    "        data.append(soup.findAll('span', class_='breadcrumbs__item-name font_xs')[4].text)\n",
    "    except:\n",
    "        data.append(soup.findAll('span', class_='breadcrumbs__item-name font_xs')[3].text)\n",
    "        data.append(soup.findAll('span', class_='breadcrumbs__item-name font_xs')[3].text)                    \n",
    "    return data"
   ]
  },
  {
   "cell_type": "code",
   "execution_count": null,
   "id": "4ca71d36",
   "metadata": {},
   "outputs": [],
   "source": [
    "def group(x):\n",
    "    xx = x.split('/')\n",
    "    if len(xx) == 7:\n",
    "        return xx[-3].replace('-','_')\n",
    "    elif len(xx) == 8:\n",
    "        return xx[-3].replace('-','_')\n",
    "    elif len(xx) == 9:\n",
    "        return xx[-4].replace('-','_')\n",
    "    elif len(xx) == 10:\n",
    "        return xx[-5].replace('-','_')\n",
    "    elif len(xx) == 11:\n",
    "        return xx[-6].replace('-','_')  "
   ]
  },
  {
   "cell_type": "code",
   "execution_count": null,
   "id": "976b099f",
   "metadata": {},
   "outputs": [],
   "source": [
    "df['action_sale'] = 0"
   ]
  },
  {
   "cell_type": "code",
   "execution_count": null,
   "id": "3ce988a4",
   "metadata": {},
   "outputs": [],
   "source": [
    "df.loc[df['old_price'] > 0,'action_sale'] = 1"
   ]
  },
  {
   "cell_type": "markdown",
   "id": "4e165838",
   "metadata": {},
   "source": [
    "создаем столбец который показывает является ли товар акционным(1 - акционный, 0 - не акционный)"
   ]
  },
  {
   "cell_type": "code",
   "execution_count": null,
   "id": "13d41a2a",
   "metadata": {},
   "outputs": [],
   "source": [
    "df['sale'] = (100 - ((df['price']*100)/df['old_price'])).round(2) "
   ]
  },
  {
   "cell_type": "markdown",
   "id": "47827f94",
   "metadata": {},
   "source": [
    "создаем столбец показывающий скидку в процентах"
   ]
  },
  {
   "cell_type": "code",
   "execution_count": null,
   "id": "d5b58d32",
   "metadata": {},
   "outputs": [],
   "source": [
    "df['category'] = df['urls'].apply(category)"
   ]
  },
  {
   "cell_type": "markdown",
   "id": "e32e52de",
   "metadata": {},
   "source": [
    "Создаем столбец показывающий категорию товаров"
   ]
  },
  {
   "cell_type": "code",
   "execution_count": null,
   "id": "0d99405c",
   "metadata": {},
   "outputs": [],
   "source": [
    "df = df[df['id']==82081]"
   ]
  },
  {
   "cell_type": "code",
   "execution_count": null,
   "id": "adab7479",
   "metadata": {},
   "outputs": [],
   "source": []
  },
  {
   "cell_type": "code",
   "execution_count": null,
   "id": "483c7b90",
   "metadata": {},
   "outputs": [],
   "source": [
    "df = df.head(5)"
   ]
  },
  {
   "cell_type": "markdown",
   "id": "2ed499f8",
   "metadata": {},
   "source": [
    "# Заглушка"
   ]
  },
  {
   "cell_type": "code",
   "execution_count": null,
   "id": "4bd17995",
   "metadata": {},
   "outputs": [],
   "source": [
    "df['subcategory'] = df['urls'].apply(subcategory)"
   ]
  },
  {
   "cell_type": "markdown",
   "id": "65733b4a",
   "metadata": {},
   "source": [
    "создаем столбец показывающий подкатегорию товаров"
   ]
  },
  {
   "cell_type": "code",
   "execution_count": null,
   "id": "2501fcef",
   "metadata": {},
   "outputs": [],
   "source": [
    "reqx = requests.get('https://tiraet.com/catalog/bytovaya/melkaja-bytovaja-tehnika/mashinki-dlja-udalenija-katyshkov/')\n",
    "soup = bs(reqx.text, 'html.parser')   "
   ]
  },
  {
   "cell_type": "code",
   "execution_count": null,
   "id": "70636652",
   "metadata": {},
   "outputs": [],
   "source": [
    "try:\n",
    "    x = soup.findAll('span', class_='breadcrumbs__item-name font_xs')[4].text\n",
    "except:\n",
    "    x = soup.findAll('span', class_='breadcrumbs__item-name font_xs')[3].text\n",
    "    "
   ]
  },
  {
   "cell_type": "code",
   "execution_count": null,
   "id": "a428dfbb",
   "metadata": {},
   "outputs": [],
   "source": [
    "x"
   ]
  },
  {
   "cell_type": "code",
   "execution_count": null,
   "id": "ba2ede54",
   "metadata": {},
   "outputs": [],
   "source": [
    "df"
   ]
  },
  {
   "cell_type": "code",
   "execution_count": null,
   "id": "b906a1ec",
   "metadata": {},
   "outputs": [],
   "source": []
  },
  {
   "cell_type": "code",
   "execution_count": null,
   "id": "999c70a0",
   "metadata": {},
   "outputs": [],
   "source": []
  },
  {
   "cell_type": "code",
   "execution_count": null,
   "id": "1aee42e1",
   "metadata": {},
   "outputs": [],
   "source": []
  },
  {
   "cell_type": "code",
   "execution_count": null,
   "id": "a496a75c",
   "metadata": {},
   "outputs": [],
   "source": []
  },
  {
   "cell_type": "code",
   "execution_count": null,
   "id": "12e29060",
   "metadata": {},
   "outputs": [],
   "source": []
  },
  {
   "cell_type": "code",
   "execution_count": null,
   "id": "6017a49d",
   "metadata": {},
   "outputs": [],
   "source": []
  },
  {
   "cell_type": "code",
   "execution_count": null,
   "id": "38516c44",
   "metadata": {},
   "outputs": [],
   "source": []
  },
  {
   "cell_type": "code",
   "execution_count": null,
   "id": "4251a6e3",
   "metadata": {},
   "outputs": [],
   "source": [
    "df['brend'] = df['title'].apply(brends)"
   ]
  },
  {
   "cell_type": "code",
   "execution_count": null,
   "id": "db5cefe5",
   "metadata": {},
   "outputs": [],
   "source": []
  },
  {
   "cell_type": "code",
   "execution_count": null,
   "id": "7faa2a6c",
   "metadata": {},
   "outputs": [],
   "source": []
  },
  {
   "cell_type": "code",
   "execution_count": null,
   "id": "861a9902",
   "metadata": {},
   "outputs": [],
   "source": []
  },
  {
   "cell_type": "code",
   "execution_count": null,
   "id": "3b59a9e1",
   "metadata": {},
   "outputs": [],
   "source": []
  }
 ],
 "metadata": {
  "kernelspec": {
   "display_name": "Python 3 (ipykernel)",
   "language": "python",
   "name": "python3"
  },
  "language_info": {
   "codemirror_mode": {
    "name": "ipython",
    "version": 3
   },
   "file_extension": ".py",
   "mimetype": "text/x-python",
   "name": "python",
   "nbconvert_exporter": "python",
   "pygments_lexer": "ipython3",
   "version": "3.11.3"
  }
 },
 "nbformat": 4,
 "nbformat_minor": 5
}
