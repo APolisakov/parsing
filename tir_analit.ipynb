{
 "cells": [
  {
   "cell_type": "markdown",
   "id": "45284144",
   "metadata": {},
   "source": [
    "# аналитика тираэт"
   ]
  },
  {
   "cell_type": "code",
   "execution_count": 25,
   "id": "b0b7a4bc",
   "metadata": {},
   "outputs": [],
   "source": [
    "import pandas as pd\n",
    "from tqdm import trange, tqdm\n",
    "import numpy as np\n",
    "from IPython.display import display\n",
    "import requests\n",
    "from bs4 import BeautifulSoup as bs\n",
    "import re"
   ]
  },
  {
   "cell_type": "code",
   "execution_count": 2,
   "id": "cc9bef5d",
   "metadata": {},
   "outputs": [],
   "source": [
    "pd.set_option('display.max_colwidth', 1000)\n",
    "pd.set_option('display.max_columns', 1000)"
   ]
  },
  {
   "cell_type": "code",
   "execution_count": 55,
   "id": "a9ef029a",
   "metadata": {},
   "outputs": [],
   "source": [
    "df = pd.read_csv('csv/tiraet_5_6_2024.csv')"
   ]
  },
  {
   "cell_type": "code",
   "execution_count": 4,
   "id": "9a0ca058",
   "metadata": {},
   "outputs": [],
   "source": [
    "brend = pd.read_excel('csv/brend.xlsx')"
   ]
  },
  {
   "cell_type": "code",
   "execution_count": 5,
   "id": "238b42a9",
   "metadata": {},
   "outputs": [],
   "source": [
    "def lower(x):\n",
    "    return x.lower()"
   ]
  },
  {
   "cell_type": "code",
   "execution_count": 6,
   "id": "b56460b4",
   "metadata": {},
   "outputs": [],
   "source": [
    "brend['names'] = brend['name'].apply(lower)"
   ]
  },
  {
   "cell_type": "code",
   "execution_count": 7,
   "id": "efc05e72",
   "metadata": {},
   "outputs": [],
   "source": [
    "brend_up = brend.name.unique()\n",
    "brend_low = brend.names.unique()"
   ]
  },
  {
   "cell_type": "markdown",
   "id": "cd4e65f8",
   "metadata": {},
   "source": [
    "загружаем и создаем переменную с брендами"
   ]
  },
  {
   "cell_type": "code",
   "execution_count": 8,
   "id": "f650c8c1",
   "metadata": {},
   "outputs": [],
   "source": [
    "def brends(x):\n",
    "    xx = x.replace('\\xa0', ' ').replace(',', ' ')\n",
    "    xx = xx.split(' ')    \n",
    "    for i in range(len(xx)-1):\n",
    "        if xx[i].lower() in brend_low:\n",
    "            return xx[i].lower()\n",
    "        elif (str(xx[i].lower())+' '+str(xx[i+1].lower())) in brend_low:\n",
    "            return (str(xx[i].lower())+' '+str(xx[i+1].lower()))    \n",
    "    else:    \n",
    "        return 'другой'"
   ]
  },
  {
   "cell_type": "code",
   "execution_count": null,
   "id": "7a43e7bf",
   "metadata": {},
   "outputs": [],
   "source": []
  },
  {
   "cell_type": "code",
   "execution_count": 9,
   "id": "da15fd89",
   "metadata": {},
   "outputs": [],
   "source": [
    "def category(x):\n",
    "    xx = x.split('/')\n",
    "    xx = (xx[4].replace('Komplektujuschie','КОМПЬЮТЕРНАЯ_ТЕХНИКА').\n",
    "          replace('2873','МОБИЛЬНЫЕ_ТЕЛЕФОНЫ').\n",
    "          replace('Kompjuternaja-mebel','ДЛЯ_ДОМА').\n",
    "          replace('bytovaya','БЫТОВАЯ_ТЕХНИКА').\n",
    "          replace('ohrannye-sistemy','БЕЗОПАСНОСТЬ').\n",
    "          replace('svet-i-jelektrika','СВЕТОТЕХНИКА').\n",
    "          replace('orgtehnika','ОРГТЕХНИКА').\n",
    "          replace('PHoto--i-video','ФОТО_АУДИО').\n",
    "          replace('setevoe-oborudovanie','LAN_ОБОРУДОВАНИЕ').\n",
    "          replace('jelektropitanie','ЭЛЕКТРОПИТАНИЕ').\n",
    "          replace('uslugi','СПОРТ').\n",
    "          replace('avtojelektronika','АВТОТОВАРЫ').\n",
    "          replace('rashodnye-materialy','РАСХОДНИКИ'))\n",
    "    return xx    "
   ]
  },
  {
   "cell_type": "code",
   "execution_count": 68,
   "id": "c556b719",
   "metadata": {},
   "outputs": [],
   "source": [
    "def subcategory(x):\n",
    "    reqx = requests.get(x)\n",
    "    soup = bs(reqx.text, 'html.parser')    \n",
    "    data = []\n",
    "    data.append(soup.findAll('span', class_='breadcrumbs__item-name font_xs')[3].text)\n",
    "\n",
    "                    \n",
    "    return data[0]"
   ]
  },
  {
   "cell_type": "code",
   "execution_count": 11,
   "id": "4ca71d36",
   "metadata": {},
   "outputs": [],
   "source": [
    "def group(x):\n",
    "    xx = x.split('/')\n",
    "    if len(xx) == 7:\n",
    "        return xx[-3].replace('-','_')\n",
    "    elif len(xx) == 8:\n",
    "        return xx[-3].replace('-','_')\n",
    "    elif len(xx) == 9:\n",
    "        return xx[-4].replace('-','_')\n",
    "    elif len(xx) == 10:\n",
    "        return xx[-5].replace('-','_')\n",
    "    elif len(xx) == 11:\n",
    "        return xx[-6].replace('-','_')  "
   ]
  },
  {
   "cell_type": "code",
   "execution_count": 12,
   "id": "976b099f",
   "metadata": {},
   "outputs": [],
   "source": [
    "df['action_sale'] = 0"
   ]
  },
  {
   "cell_type": "code",
   "execution_count": 13,
   "id": "3ce988a4",
   "metadata": {},
   "outputs": [],
   "source": [
    "df.loc[df['old_price'] > 0,'action_sale'] = 1"
   ]
  },
  {
   "cell_type": "markdown",
   "id": "4e165838",
   "metadata": {},
   "source": [
    "создаем столбец который показывает является ли товар акционным(1 - акционный, 0 - не акционный)"
   ]
  },
  {
   "cell_type": "code",
   "execution_count": 14,
   "id": "13d41a2a",
   "metadata": {},
   "outputs": [],
   "source": [
    "df['sale'] = (100 - ((df['price']*100)/df['old_price'])).round(2) "
   ]
  },
  {
   "cell_type": "markdown",
   "id": "47827f94",
   "metadata": {},
   "source": [
    "создаем столбец показывающий скидку в процентах"
   ]
  },
  {
   "cell_type": "code",
   "execution_count": 15,
   "id": "d5b58d32",
   "metadata": {},
   "outputs": [],
   "source": [
    "df['category'] = df['urls'].apply(category)"
   ]
  },
  {
   "cell_type": "markdown",
   "id": "e32e52de",
   "metadata": {},
   "source": [
    "Создаем столбец показывающий категорию товаров"
   ]
  },
  {
   "cell_type": "code",
   "execution_count": 70,
   "id": "4bd17995",
   "metadata": {},
   "outputs": [],
   "source": [
    "df['subcategory'] = df['urls'].apply(subcategory_new)"
   ]
  },
  {
   "cell_type": "markdown",
   "id": "65733b4a",
   "metadata": {},
   "source": [
    "создаем столбец показывающий подкатегорию товаров"
   ]
  },
  {
   "cell_type": "code",
   "execution_count": 83,
   "id": "2501fcef",
   "metadata": {},
   "outputs": [],
   "source": [
    "reqx = requests.get('https://tiraet.com/catalog/bytovaya/melkaja-bytovaja-tehnika/mashinki-dlja-udalenija-katyshkov/')\n",
    "soup = bs(reqx.text, 'html.parser')   "
   ]
  },
  {
   "cell_type": "code",
   "execution_count": 84,
   "id": "70636652",
   "metadata": {},
   "outputs": [],
   "source": [
    "try:\n",
    "    x = soup.findAll('span', class_='breadcrumbs__item-name font_xs')[4].text\n",
    "except:\n",
    "    x = soup.findAll('span', class_='breadcrumbs__item-name font_xs')[3].text\n",
    "    "
   ]
  },
  {
   "cell_type": "code",
   "execution_count": 85,
   "id": "a428dfbb",
   "metadata": {},
   "outputs": [
    {
     "data": {
      "text/plain": [
       "'Машинки для удаления катышков'"
      ]
     },
     "execution_count": 85,
     "metadata": {},
     "output_type": "execute_result"
    }
   ],
   "source": [
    "x"
   ]
  },
  {
   "cell_type": "code",
   "execution_count": 73,
   "id": "483c7b90",
   "metadata": {},
   "outputs": [],
   "source": [
    "df = df.head(5)"
   ]
  },
  {
   "cell_type": "code",
   "execution_count": 74,
   "id": "ba2ede54",
   "metadata": {},
   "outputs": [
    {
     "data": {
      "text/html": [
       "<div>\n",
       "<style scoped>\n",
       "    .dataframe tbody tr th:only-of-type {\n",
       "        vertical-align: middle;\n",
       "    }\n",
       "\n",
       "    .dataframe tbody tr th {\n",
       "        vertical-align: top;\n",
       "    }\n",
       "\n",
       "    .dataframe thead th {\n",
       "        text-align: right;\n",
       "    }\n",
       "</style>\n",
       "<table border=\"1\" class=\"dataframe\">\n",
       "  <thead>\n",
       "    <tr style=\"text-align: right;\">\n",
       "      <th></th>\n",
       "      <th>title</th>\n",
       "      <th>urls</th>\n",
       "      <th>datе</th>\n",
       "      <th>counts</th>\n",
       "      <th>id</th>\n",
       "      <th>price</th>\n",
       "      <th>old_price</th>\n",
       "      <th>subcategory_new</th>\n",
       "    </tr>\n",
       "  </thead>\n",
       "  <tbody>\n",
       "    <tr>\n",
       "      <th>11419</th>\n",
       "      <td>Головка для плоттеров Canon PF-03 (2251B001)</td>\n",
       "      <td>https://tiraet.com/catalog/rashodnye-materialy/zapchasti-dlja-printerov-i-kopirov/zapchasti_print/golovka-dlja-plotterov-canon-pf-03-2251b001/</td>\n",
       "      <td>2024-06-05</td>\n",
       "      <td>Мало</td>\n",
       "      <td>27477</td>\n",
       "      <td>7920.0</td>\n",
       "      <td>NaN</td>\n",
       "      <td>ЗАПЧАСТИ ПРИНТЕРОВ, КОПИРОВ, ФАКСОВ</td>\n",
       "    </tr>\n",
       "    <tr>\n",
       "      <th>11420</th>\n",
       "      <td>Узел термозакрепления (для сетевых апп)CANON iR2202/2204(FM1-F162-0XX)</td>\n",
       "      <td>https://tiraet.com/catalog/rashodnye-materialy/zapchasti-dlja-printerov-i-kopirov/zapchasti_print/uzel_termozakrepleniya_dlya_setevykh_app_canon_ir2202_2204_fm1_f162_0xx/</td>\n",
       "      <td>2024-06-05</td>\n",
       "      <td>Мало</td>\n",
       "      <td>55309</td>\n",
       "      <td>8085.0</td>\n",
       "      <td>NaN</td>\n",
       "      <td>ЗАПЧАСТИ ПРИНТЕРОВ, КОПИРОВ, ФАКСОВ</td>\n",
       "    </tr>\n",
       "    <tr>\n",
       "      <th>11421</th>\n",
       "      <td>Головка для плоттеров Canon PF-04 (3630B001)</td>\n",
       "      <td>https://tiraet.com/catalog/rashodnye-materialy/zapchasti-dlja-printerov-i-kopirov/zapchasti_print/golovka_dlya_plotterov_canon_pf_04_3630b001/</td>\n",
       "      <td>2024-06-05</td>\n",
       "      <td>Мало</td>\n",
       "      <td>56144</td>\n",
       "      <td>8250.0</td>\n",
       "      <td>NaN</td>\n",
       "      <td>ЗАПЧАСТИ ПРИНТЕРОВ, КОПИРОВ, ФАКСОВ</td>\n",
       "    </tr>\n",
       "    <tr>\n",
       "      <th>11422</th>\n",
       "      <td>Картридж EPSON MX-80/LX-300/400/800/850/880 Patron</td>\n",
       "      <td>https://tiraet.com/catalog/rashodnye-materialy/Rashodnye-k-matrichnym-printeram-kartridzhi-lenty/kartridji_matr/kartridzh-epson-lx-300400800850880mx-80/</td>\n",
       "      <td>2024-06-05</td>\n",
       "      <td>Нет в наличии</td>\n",
       "      <td>249</td>\n",
       "      <td>38.0</td>\n",
       "      <td>NaN</td>\n",
       "      <td>РАСХОДНЫЕ МАТРИЧНЫХ ПРИНТЕРОВ</td>\n",
       "    </tr>\n",
       "    <tr>\n",
       "      <th>11423</th>\n",
       "      <td>Комплект восстановления Canon IR-1435  CET5280N (фотобарабан, ракель, ВПЗ,чип ф/б)</td>\n",
       "      <td>https://tiraet.com/catalog/rashodnye-materialy/Rashodnye-k-lazernym-printeram-kartridzhi-toner/chip_laser/komplekt_vosstanovleniya_canon_ir_1435_cet5280n_fotobaraban_rakel_vpz_chip_f_b/</td>\n",
       "      <td>2024-06-05</td>\n",
       "      <td>Нет в наличии</td>\n",
       "      <td>68689</td>\n",
       "      <td>594.0</td>\n",
       "      <td>NaN</td>\n",
       "      <td>РАСХОДНЫЕ КАРТРИДЖЕЙ ЛАЗЕРНЫХ ПРИНТЕРОВ, ФАКСОВ</td>\n",
       "    </tr>\n",
       "  </tbody>\n",
       "</table>\n",
       "</div>"
      ],
      "text/plain": [
       "                                                                                    title  \\\n",
       "11419                                        Головка для плоттеров Canon PF-03 (2251B001)   \n",
       "11420              Узел термозакрепления (для сетевых апп)CANON iR2202/2204(FM1-F162-0XX)   \n",
       "11421                                        Головка для плоттеров Canon PF-04 (3630B001)   \n",
       "11422                                  Картридж EPSON MX-80/LX-300/400/800/850/880 Patron   \n",
       "11423  Комплект восстановления Canon IR-1435  CET5280N (фотобарабан, ракель, ВПЗ,чип ф/б)   \n",
       "\n",
       "                                                                                                                                                                                            urls  \\\n",
       "11419                                             https://tiraet.com/catalog/rashodnye-materialy/zapchasti-dlja-printerov-i-kopirov/zapchasti_print/golovka-dlja-plotterov-canon-pf-03-2251b001/   \n",
       "11420                 https://tiraet.com/catalog/rashodnye-materialy/zapchasti-dlja-printerov-i-kopirov/zapchasti_print/uzel_termozakrepleniya_dlya_setevykh_app_canon_ir2202_2204_fm1_f162_0xx/   \n",
       "11421                                             https://tiraet.com/catalog/rashodnye-materialy/zapchasti-dlja-printerov-i-kopirov/zapchasti_print/golovka_dlya_plotterov_canon_pf_04_3630b001/   \n",
       "11422                                   https://tiraet.com/catalog/rashodnye-materialy/Rashodnye-k-matrichnym-printeram-kartridzhi-lenty/kartridji_matr/kartridzh-epson-lx-300400800850880mx-80/   \n",
       "11423  https://tiraet.com/catalog/rashodnye-materialy/Rashodnye-k-lazernym-printeram-kartridzhi-toner/chip_laser/komplekt_vosstanovleniya_canon_ir_1435_cet5280n_fotobaraban_rakel_vpz_chip_f_b/   \n",
       "\n",
       "             datе         counts     id   price  old_price  \\\n",
       "11419  2024-06-05           Мало  27477  7920.0        NaN   \n",
       "11420  2024-06-05           Мало  55309  8085.0        NaN   \n",
       "11421  2024-06-05           Мало  56144  8250.0        NaN   \n",
       "11422  2024-06-05  Нет в наличии    249    38.0        NaN   \n",
       "11423  2024-06-05  Нет в наличии  68689   594.0        NaN   \n",
       "\n",
       "                                       subcategory_new  \n",
       "11419              ЗАПЧАСТИ ПРИНТЕРОВ, КОПИРОВ, ФАКСОВ  \n",
       "11420              ЗАПЧАСТИ ПРИНТЕРОВ, КОПИРОВ, ФАКСОВ  \n",
       "11421              ЗАПЧАСТИ ПРИНТЕРОВ, КОПИРОВ, ФАКСОВ  \n",
       "11422                    РАСХОДНЫЕ МАТРИЧНЫХ ПРИНТЕРОВ  \n",
       "11423  РАСХОДНЫЕ КАРТРИДЖЕЙ ЛАЗЕРНЫХ ПРИНТЕРОВ, ФАКСОВ  "
      ]
     },
     "execution_count": 74,
     "metadata": {},
     "output_type": "execute_result"
    }
   ],
   "source": [
    "df"
   ]
  },
  {
   "cell_type": "code",
   "execution_count": null,
   "id": "b906a1ec",
   "metadata": {},
   "outputs": [],
   "source": []
  },
  {
   "cell_type": "code",
   "execution_count": null,
   "id": "999c70a0",
   "metadata": {},
   "outputs": [],
   "source": []
  },
  {
   "cell_type": "code",
   "execution_count": null,
   "id": "1aee42e1",
   "metadata": {},
   "outputs": [],
   "source": []
  },
  {
   "cell_type": "code",
   "execution_count": null,
   "id": "a496a75c",
   "metadata": {},
   "outputs": [],
   "source": []
  },
  {
   "cell_type": "code",
   "execution_count": null,
   "id": "12e29060",
   "metadata": {},
   "outputs": [],
   "source": []
  },
  {
   "cell_type": "code",
   "execution_count": null,
   "id": "6017a49d",
   "metadata": {},
   "outputs": [],
   "source": []
  },
  {
   "cell_type": "code",
   "execution_count": null,
   "id": "38516c44",
   "metadata": {},
   "outputs": [],
   "source": []
  },
  {
   "cell_type": "code",
   "execution_count": 17,
   "id": "4251a6e3",
   "metadata": {},
   "outputs": [],
   "source": [
    "df['brend'] = df['title'].apply(brends)"
   ]
  },
  {
   "cell_type": "code",
   "execution_count": null,
   "id": "db5cefe5",
   "metadata": {},
   "outputs": [],
   "source": []
  },
  {
   "cell_type": "code",
   "execution_count": null,
   "id": "7faa2a6c",
   "metadata": {},
   "outputs": [],
   "source": []
  },
  {
   "cell_type": "code",
   "execution_count": null,
   "id": "861a9902",
   "metadata": {},
   "outputs": [],
   "source": []
  },
  {
   "cell_type": "code",
   "execution_count": null,
   "id": "3b59a9e1",
   "metadata": {},
   "outputs": [],
   "source": []
  }
 ],
 "metadata": {
  "kernelspec": {
   "display_name": "Python 3 (ipykernel)",
   "language": "python",
   "name": "python3"
  },
  "language_info": {
   "codemirror_mode": {
    "name": "ipython",
    "version": 3
   },
   "file_extension": ".py",
   "mimetype": "text/x-python",
   "name": "python",
   "nbconvert_exporter": "python",
   "pygments_lexer": "ipython3",
   "version": "3.11.3"
  }
 },
 "nbformat": 4,
 "nbformat_minor": 5
}
