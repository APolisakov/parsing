{
 "cells": [
  {
   "cell_type": "markdown",
   "id": "f661d034",
   "metadata": {},
   "source": [
    "# parsing_tir"
   ]
  },
  {
   "cell_type": "code",
   "execution_count": 1,
   "id": "c0a16e5a",
   "metadata": {},
   "outputs": [],
   "source": [
    "import pandas as pd\n",
    "import numpy as np\n",
    "import requests\n",
    "from bs4 import BeautifulSoup as bs\n",
    "import re\n",
    "from tqdm.notebook import trange, tqdm\n",
    "from tqdm.gui import tqdm as tqdm_gui\n",
    "import datetime as dt\n",
    "import seaborn as sns\n",
    "import matplotlib.pyplot as plt\n",
    "from IPython.display import display\n"
   ]
  },
  {
   "cell_type": "markdown",
   "id": "50e2394a",
   "metadata": {},
   "source": [
    "импорт библиотек"
   ]
  },
  {
   "cell_type": "markdown",
   "id": "e0b0f754",
   "metadata": {},
   "source": [
    "import warnings\n",
    "warnings.filterwarnings('ignore')"
   ]
  },
  {
   "cell_type": "code",
   "execution_count": 2,
   "id": "39938688",
   "metadata": {},
   "outputs": [],
   "source": [
    "pd.set_option('display.max_colwidth', 1000)\n",
    "pd.set_option('display.max_columns', 1000)\n",
    "pd.set_option('display.max_rows', 1000)"
   ]
  },
  {
   "cell_type": "code",
   "execution_count": 3,
   "id": "5a09642a",
   "metadata": {},
   "outputs": [],
   "source": [
    "def preprocessing(x):\n",
    "    print(f'таблица имеет следующий вид:')\n",
    "    display(x.head())\n",
    "    print('*'*100)\n",
    "    print(f'таблица имеет {x.shape[0]} сторок и {x.shape[1]} столбцов')\n",
    "    print('*'*100)\n",
    "    print(f'в таблице обнаружено дублекатов:{x.duplicated().sum()}')\n",
    "    print('*'*100)\n",
    "    print('в таблице обнаружены пропуски в следующих столбцах:')\n",
    "    display(x.isna().sum())\n",
    "    print('*'*100)\n",
    "    print('Эти пропуски составлябт следующее количество в процентах')\n",
    "    display((x.isna().mean()* 100).round(1))\n",
    "    print('*'*100)\n",
    "    print('столбцы имеют следующие типы:')\n",
    "    display(x.dtypes)\n",
    "    x.columns = [y.lower().replace(' ', '_') for y in x.columns.values] \n",
    "    print('*'*100)\n",
    "    print('названия столбцов переписаны в нижнем регистре, пробелы заменены на нижнее подчеркивание')\n",
    "    print('*'*100)\n",
    "    display(x.info())"
   ]
  },
  {
   "cell_type": "markdown",
   "id": "d21da9cc",
   "metadata": {},
   "source": [
    "создаем функцию предварительного просмотра данных"
   ]
  },
  {
   "cell_type": "markdown",
   "id": "e1781908",
   "metadata": {},
   "source": [
    "url = ['https://tiraet.com/catalog/PHoto--i-video/?PAGEN_1=']"
   ]
  },
  {
   "cell_type": "markdown",
   "id": "a87acbe4",
   "metadata": {},
   "source": [
    "oll_url = ['https://tiraet.com/catalog/avtojelektronika/?PAGEN_1='] "
   ]
  },
  {
   "cell_type": "code",
   "execution_count": 4,
   "id": "b596fd34",
   "metadata": {},
   "outputs": [],
   "source": [
    "oll_url=['https://tiraet.com/catalog/Komplektujuschie/?PAGEN_1=',\n",
    "         'https://tiraet.com/catalog/2873/?PAGEN_1=',\n",
    "         'https://tiraet.com/catalog/Kompjuternaja-mebel/?PAGEN_1=',\n",
    "         'https://tiraet.com/catalog/bytovaya/?PAGEN_1=',\n",
    "         'https://tiraet.com/catalog/ohrannye-sistemy/?PAGEN_1=',\n",
    "         'https://tiraet.com/catalog/svet-i-jelektrika/?PAGEN_1=',\n",
    "         'https://tiraet.com/catalog/orgtehnika/?PAGEN_1=',\n",
    "         'https://tiraet.com/catalog/PHoto--i-video/?PAGEN_1=',\n",
    "         'https://tiraet.com/catalog/setevoe-oborudovanie/?PAGEN_1=',\n",
    "         'https://tiraet.com/catalog/jelektropitanie/?PAGEN_1=',\n",
    "         'https://tiraet.com/catalog/uslugi/?PAGEN_1=',\n",
    "         'https://tiraet.com/catalog/avtojelektronika/?PAGEN_1=',\n",
    "         'https://tiraet.com/catalog/rashodnye-materialy/?PAGEN_1=',\n",
    "         \n",
    "]"
   ]
  },
  {
   "cell_type": "code",
   "execution_count": 5,
   "id": "7696c601",
   "metadata": {},
   "outputs": [],
   "source": [
    "j=1\n",
    "def parsing_2(url):\n",
    "    data = pd.DataFrame(columns=['title', 'url', 'date', 'availability', 'id', 'price', 'old_price', 'foto'])    \n",
    "    for u in url:\n",
    "        reqx = requests.get(u)\n",
    "        soup = bs(reqx.text, 'html.parser')\n",
    "        max_page = soup.findAll('div', class_='nums')\n",
    "        maxx = int(max_page[0].text.strip().split('\\n')[-1])\n",
    "        for j in tqdm(range(1,maxx + 1)):        \n",
    "            reqx = requests.get(u + str(j))\n",
    "            soup = bs(reqx.text, 'html.parser')\n",
    "            element = soup.findAll('div', class_='col-lg-3 col-md-4 col-sm-6 col-xs-6 col-xxs-12 item item-parent catalog-block-view__item js-notice-block item_block')            \n",
    "            datax = []\n",
    "            for i in element:\n",
    "                datax.append({'title' : i.find('a', class_='dark_link js-notice-block__title option-font-bold font_sm').text.strip(),\n",
    "                             'url' : 'https://tiraet.com' + i.find('a', class_='dark_link js-notice-block__title option-font-bold font_sm')['href'],\n",
    "                             'date' : pd.to_datetime('today').normalize(),\n",
    "                             'availability' : i.find('div', class_='item-stock js-show-stores js-show-info-block').text.strip(),\n",
    "                             'id' : int(i.find('div', class_='article_block').text.replace('Арт.: ','')),\n",
    "                             'price' : float(i.find('div', class_='price_matrix_wrapper').text.strip().replace(' руб','').replace(',','.').replace(' ','')) if str(type(i.find('div', class_='price_matrix_wrapper'))) != \"<class 'NoneType'>\" else np.NaN ,\n",
    "                             'old_price' : float(i.find('div', class_='price_matrix_wrapper strike_block').text.strip().replace(' руб','').replace(',','.').replace(' ','')) if str(type(i.find('div', class_='price_matrix_wrapper strike_block'))) != \"<class 'NoneType'>\" else np.NaN,\n",
    "                              'foto' : int(i.find('span',class_=\"section-gallery-wrapper__item _active\").text.replace('\\n\\n\\n', '1')) if i.find('span',class_=\"section-gallery-wrapper__item _active\") !=  None else 0\n",
    "                            })\n",
    "            \n",
    "            datax = pd.DataFrame(datax)\n",
    "            data = pd.concat([data, datax] , ignore_index=True)\n",
    "    return data"
   ]
  },
  {
   "cell_type": "markdown",
   "id": "1bca0b9a",
   "metadata": {},
   "source": [
    "179  -  16  -  23  -  100  -  33  -  60  -  10  -  4  -  31  -  25  -  5  -  5  -  81 "
   ]
  },
  {
   "cell_type": "code",
   "execution_count": 6,
   "id": "580002b9",
   "metadata": {
    "scrolled": true
   },
   "outputs": [
    {
     "data": {
      "application/vnd.jupyter.widget-view+json": {
       "model_id": "ad0bde859c4b4b7895854e686a62a1eb",
       "version_major": 2,
       "version_minor": 0
      },
      "text/plain": [
       "  0%|          | 0/185 [00:00<?, ?it/s]"
      ]
     },
     "metadata": {},
     "output_type": "display_data"
    },
    {
     "data": {
      "application/vnd.jupyter.widget-view+json": {
       "model_id": "a966b9ffe0994d5d85f7dd121bb95adb",
       "version_major": 2,
       "version_minor": 0
      },
      "text/plain": [
       "  0%|          | 0/17 [00:00<?, ?it/s]"
      ]
     },
     "metadata": {},
     "output_type": "display_data"
    },
    {
     "data": {
      "application/vnd.jupyter.widget-view+json": {
       "model_id": "d5dcf5f279c04767abe3a095dce0e249",
       "version_major": 2,
       "version_minor": 0
      },
      "text/plain": [
       "  0%|          | 0/26 [00:00<?, ?it/s]"
      ]
     },
     "metadata": {},
     "output_type": "display_data"
    },
    {
     "data": {
      "application/vnd.jupyter.widget-view+json": {
       "model_id": "5196e4ab03b747969f3fa67793092513",
       "version_major": 2,
       "version_minor": 0
      },
      "text/plain": [
       "  0%|          | 0/101 [00:00<?, ?it/s]"
      ]
     },
     "metadata": {},
     "output_type": "display_data"
    },
    {
     "data": {
      "application/vnd.jupyter.widget-view+json": {
       "model_id": "9b563e24c12f488f83b132bb4d419851",
       "version_major": 2,
       "version_minor": 0
      },
      "text/plain": [
       "  0%|          | 0/36 [00:00<?, ?it/s]"
      ]
     },
     "metadata": {},
     "output_type": "display_data"
    },
    {
     "data": {
      "application/vnd.jupyter.widget-view+json": {
       "model_id": "16701f922bc54a5f99717045dcd6f455",
       "version_major": 2,
       "version_minor": 0
      },
      "text/plain": [
       "  0%|          | 0/60 [00:00<?, ?it/s]"
      ]
     },
     "metadata": {},
     "output_type": "display_data"
    },
    {
     "data": {
      "application/vnd.jupyter.widget-view+json": {
       "model_id": "0d9a951cefeb456a85bfa5fb4b762067",
       "version_major": 2,
       "version_minor": 0
      },
      "text/plain": [
       "  0%|          | 0/12 [00:00<?, ?it/s]"
      ]
     },
     "metadata": {},
     "output_type": "display_data"
    },
    {
     "data": {
      "application/vnd.jupyter.widget-view+json": {
       "model_id": "b6d40f4b9d6c47d0b1b854058657d6c2",
       "version_major": 2,
       "version_minor": 0
      },
      "text/plain": [
       "  0%|          | 0/4 [00:00<?, ?it/s]"
      ]
     },
     "metadata": {},
     "output_type": "display_data"
    },
    {
     "data": {
      "application/vnd.jupyter.widget-view+json": {
       "model_id": "26ef923f776c4830b646bc2c3a832512",
       "version_major": 2,
       "version_minor": 0
      },
      "text/plain": [
       "  0%|          | 0/32 [00:00<?, ?it/s]"
      ]
     },
     "metadata": {},
     "output_type": "display_data"
    },
    {
     "data": {
      "application/vnd.jupyter.widget-view+json": {
       "model_id": "62434e172a6443f086f54f87d3f066d7",
       "version_major": 2,
       "version_minor": 0
      },
      "text/plain": [
       "  0%|          | 0/25 [00:00<?, ?it/s]"
      ]
     },
     "metadata": {},
     "output_type": "display_data"
    },
    {
     "data": {
      "application/vnd.jupyter.widget-view+json": {
       "model_id": "d2dd8f7b3985429f9bb201caefb72fb8",
       "version_major": 2,
       "version_minor": 0
      },
      "text/plain": [
       "  0%|          | 0/5 [00:00<?, ?it/s]"
      ]
     },
     "metadata": {},
     "output_type": "display_data"
    },
    {
     "data": {
      "application/vnd.jupyter.widget-view+json": {
       "model_id": "c9dcd58da2dd4bf2b9652313f8a2013d",
       "version_major": 2,
       "version_minor": 0
      },
      "text/plain": [
       "  0%|          | 0/6 [00:00<?, ?it/s]"
      ]
     },
     "metadata": {},
     "output_type": "display_data"
    },
    {
     "data": {
      "application/vnd.jupyter.widget-view+json": {
       "model_id": "e65440a1107e496e809cca0eb911efac",
       "version_major": 2,
       "version_minor": 0
      },
      "text/plain": [
       "  0%|          | 0/79 [00:00<?, ?it/s]"
      ]
     },
     "metadata": {},
     "output_type": "display_data"
    },
    {
     "data": {
      "text/html": [
       "<div>\n",
       "<style scoped>\n",
       "    .dataframe tbody tr th:only-of-type {\n",
       "        vertical-align: middle;\n",
       "    }\n",
       "\n",
       "    .dataframe tbody tr th {\n",
       "        vertical-align: top;\n",
       "    }\n",
       "\n",
       "    .dataframe thead th {\n",
       "        text-align: right;\n",
       "    }\n",
       "</style>\n",
       "<table border=\"1\" class=\"dataframe\">\n",
       "  <thead>\n",
       "    <tr style=\"text-align: right;\">\n",
       "      <th></th>\n",
       "      <th>title</th>\n",
       "      <th>url</th>\n",
       "      <th>date</th>\n",
       "      <th>availability</th>\n",
       "      <th>id</th>\n",
       "      <th>price</th>\n",
       "      <th>old_price</th>\n",
       "      <th>foto</th>\n",
       "    </tr>\n",
       "  </thead>\n",
       "  <tbody>\n",
       "    <tr>\n",
       "      <th>0</th>\n",
       "      <td>Стойка коммутацион.Netrack (NP5104) 19', 4U 482*177*530mm, black</td>\n",
       "      <td>https://tiraet.com/catalog/Komplektujuschie/komplektujuschie/Korpusa/stoyka_kommutatsion_netrack_np5104_19_4u_482_177_530mm_black/</td>\n",
       "      <td>2024-07-03</td>\n",
       "      <td>Достаточно</td>\n",
       "      <td>87094</td>\n",
       "      <td>NaN</td>\n",
       "      <td>NaN</td>\n",
       "      <td>1</td>\n",
       "    </tr>\n",
       "    <tr>\n",
       "      <th>1</th>\n",
       "      <td>Переходник для мыши COM в PS/2 (A-235)</td>\n",
       "      <td>https://tiraet.com/catalog/Komplektujuschie/aksessuarycomp/kabelja-udliniteli-i-perehodniki/Perehodnik-dlja-myshi-COM-v-PS2-A-235/</td>\n",
       "      <td>2024-07-03</td>\n",
       "      <td>Много</td>\n",
       "      <td>284</td>\n",
       "      <td>5.0</td>\n",
       "      <td>NaN</td>\n",
       "      <td>1</td>\n",
       "    </tr>\n",
       "    <tr>\n",
       "      <th>2</th>\n",
       "      <td>Кабель MINI USB2.0 (A - MINI USB 4PM)1,8м (CC-USB2-AM4P-6)</td>\n",
       "      <td>https://tiraet.com/catalog/Komplektujuschie/aksessuarycomp/kabelja-udliniteli-i-perehodniki/kabel-mini-usb20-a---mini-usb-4pm18m-cc-usb2-am4p-6/</td>\n",
       "      <td>2024-07-03</td>\n",
       "      <td>Много</td>\n",
       "      <td>8683</td>\n",
       "      <td>5.0</td>\n",
       "      <td>NaN</td>\n",
       "      <td>1</td>\n",
       "    </tr>\n",
       "    <tr>\n",
       "      <th>3</th>\n",
       "      <td>BOX для CD/DVD Verbatim Slim, на 1 диск 120мм,  PVC (49979) Black 1шт</td>\n",
       "      <td>https://tiraet.com/catalog/Komplektujuschie/aksessuarycomp/sumki-dlja-diskov/box_dlya_cd_dvd_verbatim_slim_na_1_disk_120mm_pvc_49979_black_1sht/</td>\n",
       "      <td>2024-07-03</td>\n",
       "      <td>Много</td>\n",
       "      <td>85078</td>\n",
       "      <td>6.6</td>\n",
       "      <td>NaN</td>\n",
       "      <td>1</td>\n",
       "    </tr>\n",
       "    <tr>\n",
       "      <th>4</th>\n",
       "      <td>Диск CD-R 700MB VERBATIM, 52X (1шт) EXTRA PROTECTION(43411/43351/43437)</td>\n",
       "      <td>https://tiraet.com/catalog/Komplektujuschie/aksessuarycomp/diski/disk_cdr_700mb_verbatim_52x_1sht_extra_protection_43411_43351_43437/</td>\n",
       "      <td>2024-07-03</td>\n",
       "      <td>Много</td>\n",
       "      <td>12819</td>\n",
       "      <td>6.6</td>\n",
       "      <td>NaN</td>\n",
       "      <td>1</td>\n",
       "    </tr>\n",
       "    <tr>\n",
       "      <th>...</th>\n",
       "      <td>...</td>\n",
       "      <td>...</td>\n",
       "      <td>...</td>\n",
       "      <td>...</td>\n",
       "      <td>...</td>\n",
       "      <td>...</td>\n",
       "      <td>...</td>\n",
       "      <td>...</td>\n",
       "    </tr>\n",
       "    <tr>\n",
       "      <th>11631</th>\n",
       "      <td>Головка для плоттеров Canon PF-03 (2251B001)</td>\n",
       "      <td>https://tiraet.com/catalog/rashodnye-materialy/zapchasti-dlja-printerov-i-kopirov/zapchasti_print/golovka-dlja-plotterov-canon-pf-03-2251b001/</td>\n",
       "      <td>2024-07-03</td>\n",
       "      <td>Мало</td>\n",
       "      <td>27477</td>\n",
       "      <td>7920.0</td>\n",
       "      <td>NaN</td>\n",
       "      <td>1</td>\n",
       "    </tr>\n",
       "    <tr>\n",
       "      <th>11632</th>\n",
       "      <td>Узел термозакрепления (для сетевых апп)CANON iR2202/2204(FM1-F162-0XX)</td>\n",
       "      <td>https://tiraet.com/catalog/rashodnye-materialy/zapchasti-dlja-printerov-i-kopirov/zapchasti_print/uzel_termozakrepleniya_dlya_setevykh_app_canon_ir2202_2204_fm1_f162_0xx/</td>\n",
       "      <td>2024-07-03</td>\n",
       "      <td>Мало</td>\n",
       "      <td>55309</td>\n",
       "      <td>8085.0</td>\n",
       "      <td>NaN</td>\n",
       "      <td>0</td>\n",
       "    </tr>\n",
       "    <tr>\n",
       "      <th>11633</th>\n",
       "      <td>Головка для плоттеров Canon PF-04 (3630B001)</td>\n",
       "      <td>https://tiraet.com/catalog/rashodnye-materialy/zapchasti-dlja-printerov-i-kopirov/zapchasti_print/golovka_dlya_plotterov_canon_pf_04_3630b001/</td>\n",
       "      <td>2024-07-03</td>\n",
       "      <td>Мало</td>\n",
       "      <td>56144</td>\n",
       "      <td>8250.0</td>\n",
       "      <td>NaN</td>\n",
       "      <td>0</td>\n",
       "    </tr>\n",
       "    <tr>\n",
       "      <th>11634</th>\n",
       "      <td>Картридж EPSON MX-80/LX-300/400/800/850/880 Patron</td>\n",
       "      <td>https://tiraet.com/catalog/rashodnye-materialy/Rashodnye-k-matrichnym-printeram-kartridzhi-lenty/kartridji_matr/kartridzh-epson-lx-300400800850880mx-80/</td>\n",
       "      <td>2024-07-03</td>\n",
       "      <td>Нет в наличии</td>\n",
       "      <td>249</td>\n",
       "      <td>38.0</td>\n",
       "      <td>NaN</td>\n",
       "      <td>1</td>\n",
       "    </tr>\n",
       "    <tr>\n",
       "      <th>11635</th>\n",
       "      <td>Комплект восстановления Canon IR-1435  CET5280N (фотобарабан, ракель, ВПЗ,чип ф/б)</td>\n",
       "      <td>https://tiraet.com/catalog/rashodnye-materialy/Rashodnye-k-lazernym-printeram-kartridzhi-toner/chip_laser/komplekt_vosstanovleniya_canon_ir_1435_cet5280n_fotobaraban_rakel_vpz_chip_f_b/</td>\n",
       "      <td>2024-07-03</td>\n",
       "      <td>Нет в наличии</td>\n",
       "      <td>68689</td>\n",
       "      <td>594.0</td>\n",
       "      <td>NaN</td>\n",
       "      <td>0</td>\n",
       "    </tr>\n",
       "  </tbody>\n",
       "</table>\n",
       "<p>11636 rows × 8 columns</p>\n",
       "</div>"
      ],
      "text/plain": [
       "                                                                                    title  \\\n",
       "0                        Стойка коммутацион.Netrack (NP5104) 19', 4U 482*177*530mm, black   \n",
       "1                                                  Переходник для мыши COM в PS/2 (A-235)   \n",
       "2                              Кабель MINI USB2.0 (A - MINI USB 4PM)1,8м (CC-USB2-AM4P-6)   \n",
       "3                   BOX для CD/DVD Verbatim Slim, на 1 диск 120мм,  PVC (49979) Black 1шт   \n",
       "4                 Диск CD-R 700MB VERBATIM, 52X (1шт) EXTRA PROTECTION(43411/43351/43437)   \n",
       "...                                                                                   ...   \n",
       "11631                                        Головка для плоттеров Canon PF-03 (2251B001)   \n",
       "11632              Узел термозакрепления (для сетевых апп)CANON iR2202/2204(FM1-F162-0XX)   \n",
       "11633                                        Головка для плоттеров Canon PF-04 (3630B001)   \n",
       "11634                                  Картридж EPSON MX-80/LX-300/400/800/850/880 Patron   \n",
       "11635  Комплект восстановления Canon IR-1435  CET5280N (фотобарабан, ракель, ВПЗ,чип ф/б)   \n",
       "\n",
       "                                                                                                                                                                                             url  \\\n",
       "0                                                             https://tiraet.com/catalog/Komplektujuschie/komplektujuschie/Korpusa/stoyka_kommutatsion_netrack_np5104_19_4u_482_177_530mm_black/   \n",
       "1                                                             https://tiraet.com/catalog/Komplektujuschie/aksessuarycomp/kabelja-udliniteli-i-perehodniki/Perehodnik-dlja-myshi-COM-v-PS2-A-235/   \n",
       "2                                               https://tiraet.com/catalog/Komplektujuschie/aksessuarycomp/kabelja-udliniteli-i-perehodniki/kabel-mini-usb20-a---mini-usb-4pm18m-cc-usb2-am4p-6/   \n",
       "3                                               https://tiraet.com/catalog/Komplektujuschie/aksessuarycomp/sumki-dlja-diskov/box_dlya_cd_dvd_verbatim_slim_na_1_disk_120mm_pvc_49979_black_1sht/   \n",
       "4                                                          https://tiraet.com/catalog/Komplektujuschie/aksessuarycomp/diski/disk_cdr_700mb_verbatim_52x_1sht_extra_protection_43411_43351_43437/   \n",
       "...                                                                                                                                                                                          ...   \n",
       "11631                                             https://tiraet.com/catalog/rashodnye-materialy/zapchasti-dlja-printerov-i-kopirov/zapchasti_print/golovka-dlja-plotterov-canon-pf-03-2251b001/   \n",
       "11632                 https://tiraet.com/catalog/rashodnye-materialy/zapchasti-dlja-printerov-i-kopirov/zapchasti_print/uzel_termozakrepleniya_dlya_setevykh_app_canon_ir2202_2204_fm1_f162_0xx/   \n",
       "11633                                             https://tiraet.com/catalog/rashodnye-materialy/zapchasti-dlja-printerov-i-kopirov/zapchasti_print/golovka_dlya_plotterov_canon_pf_04_3630b001/   \n",
       "11634                                   https://tiraet.com/catalog/rashodnye-materialy/Rashodnye-k-matrichnym-printeram-kartridzhi-lenty/kartridji_matr/kartridzh-epson-lx-300400800850880mx-80/   \n",
       "11635  https://tiraet.com/catalog/rashodnye-materialy/Rashodnye-k-lazernym-printeram-kartridzhi-toner/chip_laser/komplekt_vosstanovleniya_canon_ir_1435_cet5280n_fotobaraban_rakel_vpz_chip_f_b/   \n",
       "\n",
       "            date   availability     id   price  old_price foto  \n",
       "0     2024-07-03     Достаточно  87094     NaN        NaN    1  \n",
       "1     2024-07-03          Много    284     5.0        NaN    1  \n",
       "2     2024-07-03          Много   8683     5.0        NaN    1  \n",
       "3     2024-07-03          Много  85078     6.6        NaN    1  \n",
       "4     2024-07-03          Много  12819     6.6        NaN    1  \n",
       "...          ...            ...    ...     ...        ...  ...  \n",
       "11631 2024-07-03           Мало  27477  7920.0        NaN    1  \n",
       "11632 2024-07-03           Мало  55309  8085.0        NaN    0  \n",
       "11633 2024-07-03           Мало  56144  8250.0        NaN    0  \n",
       "11634 2024-07-03  Нет в наличии    249    38.0        NaN    1  \n",
       "11635 2024-07-03  Нет в наличии  68689   594.0        NaN    0  \n",
       "\n",
       "[11636 rows x 8 columns]"
      ]
     },
     "execution_count": 6,
     "metadata": {},
     "output_type": "execute_result"
    }
   ],
   "source": [
    "df = parsing_2(oll_url)\n",
    "df"
   ]
  },
  {
   "cell_type": "code",
   "execution_count": 7,
   "id": "e2840058",
   "metadata": {},
   "outputs": [
    {
     "name": "stdout",
     "output_type": "stream",
     "text": [
      "таблица имеет следующий вид:\n"
     ]
    },
    {
     "data": {
      "text/html": [
       "<div>\n",
       "<style scoped>\n",
       "    .dataframe tbody tr th:only-of-type {\n",
       "        vertical-align: middle;\n",
       "    }\n",
       "\n",
       "    .dataframe tbody tr th {\n",
       "        vertical-align: top;\n",
       "    }\n",
       "\n",
       "    .dataframe thead th {\n",
       "        text-align: right;\n",
       "    }\n",
       "</style>\n",
       "<table border=\"1\" class=\"dataframe\">\n",
       "  <thead>\n",
       "    <tr style=\"text-align: right;\">\n",
       "      <th></th>\n",
       "      <th>title</th>\n",
       "      <th>url</th>\n",
       "      <th>date</th>\n",
       "      <th>availability</th>\n",
       "      <th>id</th>\n",
       "      <th>price</th>\n",
       "      <th>old_price</th>\n",
       "      <th>foto</th>\n",
       "    </tr>\n",
       "  </thead>\n",
       "  <tbody>\n",
       "    <tr>\n",
       "      <th>0</th>\n",
       "      <td>Стойка коммутацион.Netrack (NP5104) 19', 4U 482*177*530mm, black</td>\n",
       "      <td>https://tiraet.com/catalog/Komplektujuschie/komplektujuschie/Korpusa/stoyka_kommutatsion_netrack_np5104_19_4u_482_177_530mm_black/</td>\n",
       "      <td>2024-07-03</td>\n",
       "      <td>Достаточно</td>\n",
       "      <td>87094</td>\n",
       "      <td>NaN</td>\n",
       "      <td>NaN</td>\n",
       "      <td>1</td>\n",
       "    </tr>\n",
       "    <tr>\n",
       "      <th>1</th>\n",
       "      <td>Переходник для мыши COM в PS/2 (A-235)</td>\n",
       "      <td>https://tiraet.com/catalog/Komplektujuschie/aksessuarycomp/kabelja-udliniteli-i-perehodniki/Perehodnik-dlja-myshi-COM-v-PS2-A-235/</td>\n",
       "      <td>2024-07-03</td>\n",
       "      <td>Много</td>\n",
       "      <td>284</td>\n",
       "      <td>5.0</td>\n",
       "      <td>NaN</td>\n",
       "      <td>1</td>\n",
       "    </tr>\n",
       "    <tr>\n",
       "      <th>2</th>\n",
       "      <td>Кабель MINI USB2.0 (A - MINI USB 4PM)1,8м (CC-USB2-AM4P-6)</td>\n",
       "      <td>https://tiraet.com/catalog/Komplektujuschie/aksessuarycomp/kabelja-udliniteli-i-perehodniki/kabel-mini-usb20-a---mini-usb-4pm18m-cc-usb2-am4p-6/</td>\n",
       "      <td>2024-07-03</td>\n",
       "      <td>Много</td>\n",
       "      <td>8683</td>\n",
       "      <td>5.0</td>\n",
       "      <td>NaN</td>\n",
       "      <td>1</td>\n",
       "    </tr>\n",
       "    <tr>\n",
       "      <th>3</th>\n",
       "      <td>BOX для CD/DVD Verbatim Slim, на 1 диск 120мм,  PVC (49979) Black 1шт</td>\n",
       "      <td>https://tiraet.com/catalog/Komplektujuschie/aksessuarycomp/sumki-dlja-diskov/box_dlya_cd_dvd_verbatim_slim_na_1_disk_120mm_pvc_49979_black_1sht/</td>\n",
       "      <td>2024-07-03</td>\n",
       "      <td>Много</td>\n",
       "      <td>85078</td>\n",
       "      <td>6.6</td>\n",
       "      <td>NaN</td>\n",
       "      <td>1</td>\n",
       "    </tr>\n",
       "    <tr>\n",
       "      <th>4</th>\n",
       "      <td>Диск CD-R 700MB VERBATIM, 52X (1шт) EXTRA PROTECTION(43411/43351/43437)</td>\n",
       "      <td>https://tiraet.com/catalog/Komplektujuschie/aksessuarycomp/diski/disk_cdr_700mb_verbatim_52x_1sht_extra_protection_43411_43351_43437/</td>\n",
       "      <td>2024-07-03</td>\n",
       "      <td>Много</td>\n",
       "      <td>12819</td>\n",
       "      <td>6.6</td>\n",
       "      <td>NaN</td>\n",
       "      <td>1</td>\n",
       "    </tr>\n",
       "  </tbody>\n",
       "</table>\n",
       "</div>"
      ],
      "text/plain": [
       "                                                                     title  \\\n",
       "0         Стойка коммутацион.Netrack (NP5104) 19', 4U 482*177*530mm, black   \n",
       "1                                   Переходник для мыши COM в PS/2 (A-235)   \n",
       "2               Кабель MINI USB2.0 (A - MINI USB 4PM)1,8м (CC-USB2-AM4P-6)   \n",
       "3    BOX для CD/DVD Verbatim Slim, на 1 диск 120мм,  PVC (49979) Black 1шт   \n",
       "4  Диск CD-R 700MB VERBATIM, 52X (1шт) EXTRA PROTECTION(43411/43351/43437)   \n",
       "\n",
       "                                                                                                                                                url  \\\n",
       "0                https://tiraet.com/catalog/Komplektujuschie/komplektujuschie/Korpusa/stoyka_kommutatsion_netrack_np5104_19_4u_482_177_530mm_black/   \n",
       "1                https://tiraet.com/catalog/Komplektujuschie/aksessuarycomp/kabelja-udliniteli-i-perehodniki/Perehodnik-dlja-myshi-COM-v-PS2-A-235/   \n",
       "2  https://tiraet.com/catalog/Komplektujuschie/aksessuarycomp/kabelja-udliniteli-i-perehodniki/kabel-mini-usb20-a---mini-usb-4pm18m-cc-usb2-am4p-6/   \n",
       "3  https://tiraet.com/catalog/Komplektujuschie/aksessuarycomp/sumki-dlja-diskov/box_dlya_cd_dvd_verbatim_slim_na_1_disk_120mm_pvc_49979_black_1sht/   \n",
       "4             https://tiraet.com/catalog/Komplektujuschie/aksessuarycomp/diski/disk_cdr_700mb_verbatim_52x_1sht_extra_protection_43411_43351_43437/   \n",
       "\n",
       "        date availability     id  price  old_price foto  \n",
       "0 2024-07-03   Достаточно  87094    NaN        NaN    1  \n",
       "1 2024-07-03        Много    284    5.0        NaN    1  \n",
       "2 2024-07-03        Много   8683    5.0        NaN    1  \n",
       "3 2024-07-03        Много  85078    6.6        NaN    1  \n",
       "4 2024-07-03        Много  12819    6.6        NaN    1  "
      ]
     },
     "metadata": {},
     "output_type": "display_data"
    },
    {
     "name": "stdout",
     "output_type": "stream",
     "text": [
      "****************************************************************************************************\n",
      "таблица имеет 11636 сторок и 8 столбцов\n",
      "****************************************************************************************************\n",
      "в таблице обнаружено дублекатов:0\n",
      "****************************************************************************************************\n",
      "в таблице обнаружены пропуски в следующих столбцах:\n"
     ]
    },
    {
     "data": {
      "text/plain": [
       "title               0\n",
       "url                 0\n",
       "date                0\n",
       "availability        0\n",
       "id                  0\n",
       "price               2\n",
       "old_price       10111\n",
       "foto                0\n",
       "dtype: int64"
      ]
     },
     "metadata": {},
     "output_type": "display_data"
    },
    {
     "name": "stdout",
     "output_type": "stream",
     "text": [
      "****************************************************************************************************\n",
      "Эти пропуски составлябт следующее количество в процентах\n"
     ]
    },
    {
     "data": {
      "text/plain": [
       "title            0.0\n",
       "url              0.0\n",
       "date             0.0\n",
       "availability     0.0\n",
       "id               0.0\n",
       "price            0.0\n",
       "old_price       86.9\n",
       "foto             0.0\n",
       "dtype: float64"
      ]
     },
     "metadata": {},
     "output_type": "display_data"
    },
    {
     "name": "stdout",
     "output_type": "stream",
     "text": [
      "****************************************************************************************************\n",
      "столбцы имеют следующие типы:\n"
     ]
    },
    {
     "data": {
      "text/plain": [
       "title                   object\n",
       "url                     object\n",
       "date            datetime64[ns]\n",
       "availability            object\n",
       "id                      object\n",
       "price                  float64\n",
       "old_price              float64\n",
       "foto                    object\n",
       "dtype: object"
      ]
     },
     "metadata": {},
     "output_type": "display_data"
    },
    {
     "name": "stdout",
     "output_type": "stream",
     "text": [
      "****************************************************************************************************\n",
      "названия столбцов переписаны в нижнем регистре, пробелы заменены на нижнее подчеркивание\n",
      "****************************************************************************************************\n",
      "<class 'pandas.core.frame.DataFrame'>\n",
      "RangeIndex: 11636 entries, 0 to 11635\n",
      "Data columns (total 8 columns):\n",
      " #   Column        Non-Null Count  Dtype         \n",
      "---  ------        --------------  -----         \n",
      " 0   title         11636 non-null  object        \n",
      " 1   url           11636 non-null  object        \n",
      " 2   date          11636 non-null  datetime64[ns]\n",
      " 3   availability  11636 non-null  object        \n",
      " 4   id            11636 non-null  object        \n",
      " 5   price         11634 non-null  float64       \n",
      " 6   old_price     1525 non-null   float64       \n",
      " 7   foto          11636 non-null  object        \n",
      "dtypes: datetime64[ns](1), float64(2), object(5)\n",
      "memory usage: 727.4+ KB\n"
     ]
    },
    {
     "data": {
      "text/plain": [
       "None"
      ]
     },
     "metadata": {},
     "output_type": "display_data"
    }
   ],
   "source": [
    "preprocessing(df)"
   ]
  },
  {
   "cell_type": "code",
   "execution_count": 8,
   "id": "71820256",
   "metadata": {},
   "outputs": [],
   "source": [
    "df.to_csv('csv/tiraet_foto_'+dt.datetime.now().strftime('%Y_%m_%d')+'.csv', index=False)  "
   ]
  },
  {
   "cell_type": "code",
   "execution_count": 21,
   "id": "17cd2b84",
   "metadata": {},
   "outputs": [],
   "source": [
    "df = pd.read_csv('csv/tiraet_foto_'+dt.datetime.now().strftime('%Y_%m_%d')+'.csv')"
   ]
  },
  {
   "cell_type": "code",
   "execution_count": 22,
   "id": "d3fd7242",
   "metadata": {},
   "outputs": [],
   "source": [
    "tiraet_foto = pd.read_csv('csv/atiraet_foto.csv')"
   ]
  },
  {
   "cell_type": "code",
   "execution_count": 23,
   "id": "c3dd1bda",
   "metadata": {},
   "outputs": [],
   "source": [
    "df = df.merge(tiraet_foto, how='left', on='id')"
   ]
  },
  {
   "cell_type": "code",
   "execution_count": 24,
   "id": "4e41f74c",
   "metadata": {},
   "outputs": [],
   "source": [
    "df_new = df[(df['_category'].isna()) | (df['_subcategory'].isna()) | (df['_group'].isna()) | (df['id_brend'].isna()) | (df['site_brend'].isna()) ]"
   ]
  },
  {
   "cell_type": "code",
   "execution_count": 25,
   "id": "c749214d",
   "metadata": {},
   "outputs": [],
   "source": [
    "df = df[~((df['_category'].isna()) | (df['_subcategory'].isna()) | (df['_group'].isna()) | (df['id_brend'].isna()) | (df['site_brend'].isna()))]"
   ]
  },
  {
   "cell_type": "code",
   "execution_count": 61,
   "id": "6576fb53",
   "metadata": {},
   "outputs": [],
   "source": [
    "def find_groups(x):\n",
    "    reqx = requests.get(x)\n",
    "    soup = bs(reqx.text, 'html.parser')    \n",
    "    elem_1 = soup.findAll('a', class_='breadcrumbs__link colored_theme_hover_bg-el-svg')\n",
    "    elem_2 = soup.findAll('div', class_='breadcrumbs__item')\n",
    "    elem_brend = soup.findAll('div', class_=\"brand\")\n",
    "    try:\n",
    "        if len(elem_brend) == 1:\n",
    "            d_17 = 1\n",
    "        elif len(elem_brend) == 0:\n",
    "            d_17 = 0\n",
    "        else:\n",
    "            d_17 = 'err_len'\n",
    "            \n",
    "        if len(elem_brend) == 1:\n",
    "            d_18 = str(elem_brend[0]).split('content=')[1].split('\"')[1]\n",
    "        elif len(elem_brend) == 0:\n",
    "            d_18 = \"no_brent\"\n",
    "        else:\n",
    "            d_18 = \"err_len\"            \n",
    "    except:\n",
    "        d_17 = 'err_'\n",
    "        d_18 = 'err_'\n",
    "    try:\n",
    "        if len(elem_1) <=2:\n",
    "            if len(elem_2) <= 4:\n",
    "                d_14 = 'T_'+(elem_1[0].text.replace(',','').replace(' ','_').replace('-','_').lower())\n",
    "                d_15 = 'T_'+(elem_1[1].text.replace(',','').replace(' ','_').replace('-','_').lower())\n",
    "                d_16 = 'T_'+(elem_1[1].text.replace(',','').replace(' ','_').replace('-','_').lower())                \n",
    "            else:\n",
    "                d_14 = 'T_'+(elem_1[0].text.replace(',','').replace(' ','_').replace('-','_').lower())\n",
    "                d_15 = 'T_'+(elem_1[1].text.replace(',','').replace(' ','_').replace('-','_').lower())\n",
    "                d_16 = 'T_'+(elem_2[4].text.replace(',','').replace(' ','_').replace('-','_').lower())\n",
    "        else:\n",
    "            d_14 = 'T_'+(elem_1[0].text.replace(',','').replace(' ','_').replace('-','_').lower())\n",
    "            d_15 = 'T_'+(elem_1[1].text.replace(',','').replace(' ','_').replace('-','_').lower())\n",
    "            d_16 = 'T_'+(elem_1[2].text.replace(',','').replace(' ','_').replace('-','_').lower())\n",
    "    except:\n",
    "        d_14 = 'err_'\n",
    "        d_15 = 'err_'\n",
    "        d_16 = 'err_'\n",
    "        \n",
    "    return pd.Series([ (d_14), (d_15), (d_16), (d_17), (d_18)])"
   ]
  },
  {
   "cell_type": "markdown",
   "id": "24aac9ef",
   "metadata": {},
   "source": [
    "len(df_new[df_new['price']>1000])"
   ]
  },
  {
   "cell_type": "markdown",
   "id": "263f78c6",
   "metadata": {},
   "source": [
    "df_new = df_new[df_new['price']>1000]"
   ]
  },
  {
   "cell_type": "markdown",
   "id": "e802e9e6",
   "metadata": {},
   "source": [
    "tqdm.pandas() \n",
    "t[['_category','_subcategory','_group', 'id_brend', 'site_brend']] = t['url'].progress_apply(find_groups)"
   ]
  },
  {
   "cell_type": "markdown",
   "id": "0974cb9a",
   "metadata": {},
   "source": [
    "t"
   ]
  },
  {
   "cell_type": "code",
   "execution_count": null,
   "id": "1f8cd323",
   "metadata": {},
   "outputs": [
    {
     "data": {
      "application/vnd.jupyter.widget-view+json": {
       "model_id": "fc966c4af9954e0fa8834831694e11e0",
       "version_major": 2,
       "version_minor": 0
      },
      "text/plain": [
       "  0%|          | 0/4034 [00:00<?, ?it/s]"
      ]
     },
     "metadata": {},
     "output_type": "display_data"
    }
   ],
   "source": [
    "tqdm.pandas() \n",
    "df_new[['_category','_subcategory','_group', 'id_brend', 'site_brend']] = df_new['url'].progress_apply(find_groups)"
   ]
  },
  {
   "cell_type": "code",
   "execution_count": null,
   "id": "fa7c8b3a",
   "metadata": {},
   "outputs": [],
   "source": [
    "data = df_new[~(df_new['_category']=='err_')].reset_index(drop=True)\n",
    "data = data[['id', '_category','_subcategory','_group', 'id_brend', 'site_brend' ]]\n"
   ]
  },
  {
   "cell_type": "code",
   "execution_count": null,
   "id": "d048a971",
   "metadata": {},
   "outputs": [],
   "source": [
    "tiraet_foto = pd.concat([tiraet_foto, data], ignore_index=True).reset_index(drop=True)\n",
    "tiraet_foto.to_csv('csv/atiraet_foto.csv', index=False)  "
   ]
  },
  {
   "cell_type": "code",
   "execution_count": null,
   "id": "a62a4033",
   "metadata": {},
   "outputs": [],
   "source": [
    "df = pd.concat([df, df_new], ignore_index=True).sort_values(['_category','_subcategory', '_group']).reset_index(drop=True)"
   ]
  },
  {
   "cell_type": "code",
   "execution_count": null,
   "id": "2c4d4f93",
   "metadata": {},
   "outputs": [],
   "source": [
    "df.to_csv('csv/tiraet_final_'+dt.datetime.now().strftime('%Y_%m_%d')+'.csv', index=False)  "
   ]
  },
  {
   "cell_type": "code",
   "execution_count": null,
   "id": "95a39ad0",
   "metadata": {},
   "outputs": [],
   "source": [
    "df[df['id_brend']=='err_'].id.count()"
   ]
  },
  {
   "cell_type": "code",
   "execution_count": null,
   "id": "b7d29db4",
   "metadata": {},
   "outputs": [],
   "source": [
    "df[df['id_brend']=='err_']"
   ]
  },
  {
   "cell_type": "code",
   "execution_count": null,
   "id": "f68bfd34",
   "metadata": {},
   "outputs": [],
   "source": [
    "df['error_group'] = 0\n",
    "df.loc[df['_category']=='err', 'error_group'] = 1"
   ]
  },
  {
   "cell_type": "code",
   "execution_count": null,
   "id": "56469f75",
   "metadata": {},
   "outputs": [],
   "source": [
    "df"
   ]
  },
  {
   "cell_type": "code",
   "execution_count": null,
   "id": "5ac063ea",
   "metadata": {},
   "outputs": [],
   "source": [
    "len(data)"
   ]
  },
  {
   "cell_type": "code",
   "execution_count": null,
   "id": "f44fa25c",
   "metadata": {
    "scrolled": true
   },
   "outputs": [],
   "source": [
    "for i in df['_category'].unique():\n",
    "    t = df[df['_category']==i]\n",
    "    print(i)\n",
    "    print(t['_subcategory'].unique())\n",
    "    print('-'*100)"
   ]
  },
  {
   "cell_type": "code",
   "execution_count": null,
   "id": "3b63f138",
   "metadata": {},
   "outputs": [],
   "source": []
  },
  {
   "cell_type": "markdown",
   "id": "e8445e1b",
   "metadata": {},
   "source": [
    "# Аналитика акционных товаров"
   ]
  },
  {
   "cell_type": "code",
   "execution_count": null,
   "id": "d291de15",
   "metadata": {},
   "outputs": [],
   "source": [
    "brend = pd.read_excel('csv/brend.xlsx')"
   ]
  },
  {
   "cell_type": "code",
   "execution_count": null,
   "id": "3fd62f9c",
   "metadata": {},
   "outputs": [],
   "source": [
    "def lower(x):\n",
    "    return x.lower()\n",
    "brend['names'] = brend['name'].apply(lower)\n",
    "brend_up = brend.name.unique()\n",
    "brend_low = brend.names.unique()"
   ]
  },
  {
   "cell_type": "markdown",
   "id": "6d34081d",
   "metadata": {},
   "source": [
    "Создаем список брендов"
   ]
  },
  {
   "cell_type": "code",
   "execution_count": null,
   "id": "a6cc999b",
   "metadata": {},
   "outputs": [],
   "source": [
    "def brends(x):\n",
    "    xx = x.replace('\\xa0', ' ')\n",
    "    xx = xx.split(' ')    \n",
    "    for i in range(len(xx)-1):\n",
    "        if xx[i].lower() in brend_low:\n",
    "            return xx[i].lower()\n",
    "        elif (str(xx[i].lower())+' '+str(xx[i+1].lower())) in brend_low:\n",
    "            return (str(xx[i].lower())+' '+str(xx[i+1].lower()))    \n",
    "    else:    \n",
    "        return 'другой'\n",
    "tqdm.pandas()\n",
    "df['brend'] = df['title'].progress_apply(brends)"
   ]
  },
  {
   "cell_type": "markdown",
   "id": "8adb4a8b",
   "metadata": {},
   "source": [
    "создаем столбец с брендами"
   ]
  },
  {
   "cell_type": "code",
   "execution_count": null,
   "id": "3b17f090",
   "metadata": {},
   "outputs": [],
   "source": [
    "df['action_sale'] = 0\n",
    "df.loc[df['old_price'] > 0,'action_sale'] = 1"
   ]
  },
  {
   "cell_type": "markdown",
   "id": "5fcbcc3a",
   "metadata": {},
   "source": [
    "Создаем столбец с флагом акции"
   ]
  },
  {
   "cell_type": "code",
   "execution_count": null,
   "id": "87e44d83",
   "metadata": {},
   "outputs": [],
   "source": [
    "df['sale'] = (100 - ((df['price']*100)/df['old_price'])).round(2) "
   ]
  },
  {
   "cell_type": "markdown",
   "id": "91917f95",
   "metadata": {},
   "source": [
    "создаем столбец показывающий скидку в процентах"
   ]
  },
  {
   "cell_type": "code",
   "execution_count": null,
   "id": "55f9287e",
   "metadata": {},
   "outputs": [],
   "source": [
    "def count_group(x):\n",
    "    return df[df['_group']==x]['id'].count()    \n",
    "tqdm.pandas()\n",
    "df['count_group'] = df['_group'].progress_apply(count_group)"
   ]
  },
  {
   "cell_type": "markdown",
   "id": "d7ef1d16",
   "metadata": {},
   "source": [
    "создание столбца с количеством товара в группе"
   ]
  },
  {
   "cell_type": "code",
   "execution_count": null,
   "id": "6432c479",
   "metadata": {},
   "outputs": [],
   "source": [
    "def count_group_presence(x):\n",
    "    return df[(df['availability'].isin(['Мало','Достаточно','Много']))&(df['_group']==x)]['id'].count()   \n",
    "tqdm.pandas()\n",
    "df['activ_count_group'] = df['_group'].progress_apply(count_group_presence)"
   ]
  },
  {
   "cell_type": "markdown",
   "id": "2a6594ce",
   "metadata": {},
   "source": [
    "создание столбца с количеством товара, который есть в наличии, в группе"
   ]
  },
  {
   "cell_type": "code",
   "execution_count": null,
   "id": "7b33f40d",
   "metadata": {},
   "outputs": [],
   "source": [
    "def dif_price(x):    \n",
    "    max_price = df[(df['availability'].isin(['Мало','Достаточно','Много']))&(df['_group']==x)]['price'].max()\n",
    "    min_price = df[(df['availability'].isin(['Мало','Достаточно','Много']))&(df['_group']==x)]['price'].min() \n",
    "    return max_price / min_price\n",
    "tqdm.pandas()\n",
    "df['dif_price'] = df['_group'].progress_apply(dif_price)"
   ]
  },
  {
   "cell_type": "markdown",
   "id": "c88e2d0f",
   "metadata": {},
   "source": [
    "создам столбец с отношением самой дорогой цены в группе к самой дешевой."
   ]
  },
  {
   "cell_type": "code",
   "execution_count": null,
   "id": "4ab26dc0",
   "metadata": {},
   "outputs": [],
   "source": [
    "df['group_prise'] = df.groupby('_group')['price'].transform(lambda x: pd.cut(x, bins = 4, labels=[\"бюджет\", \"стандарт\", 'дорогой', \"элитный\"]))"
   ]
  },
  {
   "cell_type": "markdown",
   "id": "ea4ee02c",
   "metadata": {},
   "source": [
    "создание столбца с ценовой категорией товара"
   ]
  },
  {
   "cell_type": "code",
   "execution_count": null,
   "id": "a4e3227a",
   "metadata": {},
   "outputs": [],
   "source": [
    "df = df[['url', 'id', '_category', '_subcategory', '_group', 'brend', \n",
    "         'title', 'date', 'price', 'old_price', 'action_sale', 'sale', 'group_prise', 'dif_price',\n",
    "         'availability', 'count_group', 'activ_count_group', 'error_group']]"
   ]
  },
  {
   "cell_type": "code",
   "execution_count": null,
   "id": "7fc96ff3",
   "metadata": {},
   "outputs": [],
   "source": [
    "df['tir'] = 1"
   ]
  },
  {
   "cell_type": "code",
   "execution_count": null,
   "id": "ec1c2a4f",
   "metadata": {},
   "outputs": [],
   "source": [
    "df = df.drop_duplicates().reset_index(drop=True)"
   ]
  },
  {
   "cell_type": "code",
   "execution_count": null,
   "id": "de0e1102",
   "metadata": {},
   "outputs": [],
   "source": [
    "df.to_csv('csv/tiraet_foto_'+dt.datetime.now().strftime('%Y_%m_%d')+'.csv', index=False) "
   ]
  },
  {
   "cell_type": "code",
   "execution_count": null,
   "id": "3cfbf34d",
   "metadata": {},
   "outputs": [],
   "source": [
    "df.head(2)"
   ]
  },
  {
   "cell_type": "code",
   "execution_count": null,
   "id": "6f990e76",
   "metadata": {},
   "outputs": [],
   "source": [
    "preprocessing(df)"
   ]
  },
  {
   "cell_type": "markdown",
   "id": "b7fa1bf9",
   "metadata": {},
   "source": [
    "# Тесты"
   ]
  },
  {
   "cell_type": "code",
   "execution_count": null,
   "id": "f939866c",
   "metadata": {},
   "outputs": [],
   "source": [
    "url = ['https://tiraet.com/catalog/PHoto--i-video/?PAGEN_1=']"
   ]
  },
  {
   "cell_type": "markdown",
   "id": "8d7d3b78",
   "metadata": {},
   "source": [
    "section-gallery-wrapper__item _active"
   ]
  },
  {
   "cell_type": "code",
   "execution_count": null,
   "id": "f2caf841",
   "metadata": {},
   "outputs": [],
   "source": [
    "https://tiraet.com/catalog/bytovaya/krupnaja-bytovaja-tehnika/pylesosy/pylesos_standart_kpa10e_8_uborka_sukhaya_sistema_tsiklon_filtr_hepa_moshchn_899vt/"
   ]
  },
  {
   "cell_type": "code",
   "execution_count": null,
   "id": "ee9a947c",
   "metadata": {},
   "outputs": [],
   "source": [
    "reqx = requests.get('https://tiraet.com/catalog/Kompjuternaja-mebel/zapasnye-chasti/modul_wi_fi_dlya_konditsionerov_royal_clima_eu_osk105_dlya_serii_mdv_forest_/')\n",
    "reqx"
   ]
  },
  {
   "cell_type": "code",
   "execution_count": null,
   "id": "ca275e0f",
   "metadata": {},
   "outputs": [],
   "source": [
    "reqx = requests.get('https://tiraet.com/catalog/rashodnye-materialy/zapchasti-dlja-printerov-i-kopirov/zapchasti_print/kontaktnaya_pruzhina_magnitnogo_vala_hp_lj1100_contact_nipple_type/')\n",
    "reqx"
   ]
  },
  {
   "cell_type": "code",
   "execution_count": null,
   "id": "b0dd897f",
   "metadata": {},
   "outputs": [],
   "source": [
    "reqx = requests.get('https://tiraet.com/catalog/bytovaya/krupnaja-bytovaja-tehnika/pylesosy/pylesos_standart_kpa10e_8_uborka_sukhaya_sistema_tsiklon_filtr_hepa_moshchn_899vt/')\n",
    "reqx"
   ]
  },
  {
   "cell_type": "code",
   "execution_count": null,
   "id": "a5c796a6",
   "metadata": {},
   "outputs": [],
   "source": [
    "soup = bs(reqx.text, 'html.parser')\n"
   ]
  },
  {
   "cell_type": "code",
   "execution_count": null,
   "id": "5cfe85dc",
   "metadata": {},
   "outputs": [],
   "source": [
    "elem_brend = soup.findAll('div', class_=\"brand\")"
   ]
  },
  {
   "cell_type": "code",
   "execution_count": null,
   "id": "1bd8a65a",
   "metadata": {},
   "outputs": [],
   "source": [
    "str(elem_brend[0]).split('content=')[1].split('\"')[1]"
   ]
  },
  {
   "cell_type": "code",
   "execution_count": null,
   "id": "01c8076f",
   "metadata": {},
   "outputs": [],
   "source": [
    "if len(elem_brend) == 1:\n",
    "    print (1)\n",
    "else:\n",
    "    print(0)"
   ]
  },
  {
   "cell_type": "code",
   "execution_count": null,
   "id": "6d896a92",
   "metadata": {},
   "outputs": [],
   "source": [
    "len(elem_brend)"
   ]
  },
  {
   "cell_type": "code",
   "execution_count": null,
   "id": "88f11455",
   "metadata": {},
   "outputs": [],
   "source": [
    "str(elem_brend[0])"
   ]
  },
  {
   "cell_type": "code",
   "execution_count": null,
   "id": "84232822",
   "metadata": {},
   "outputs": [],
   "source": []
  },
  {
   "cell_type": "code",
   "execution_count": null,
   "id": "662a9fe3",
   "metadata": {},
   "outputs": [],
   "source": []
  },
  {
   "cell_type": "code",
   "execution_count": null,
   "id": "2cf08450",
   "metadata": {},
   "outputs": [],
   "source": []
  }
 ],
 "metadata": {
  "kernelspec": {
   "display_name": "Python 3 (ipykernel)",
   "language": "python",
   "name": "python3"
  },
  "language_info": {
   "codemirror_mode": {
    "name": "ipython",
    "version": 3
   },
   "file_extension": ".py",
   "mimetype": "text/x-python",
   "name": "python",
   "nbconvert_exporter": "python",
   "pygments_lexer": "ipython3",
   "version": "3.11.4"
  }
 },
 "nbformat": 4,
 "nbformat_minor": 5
}
