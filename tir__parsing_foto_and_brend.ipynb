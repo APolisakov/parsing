{
 "cells": [
  {
   "cell_type": "markdown",
   "id": "f661d034",
   "metadata": {},
   "source": [
    "# parsing_tir"
   ]
  },
  {
   "cell_type": "code",
   "execution_count": 1,
   "id": "c0a16e5a",
   "metadata": {},
   "outputs": [],
   "source": [
    "import pandas as pd\n",
    "import numpy as np\n",
    "import requests\n",
    "from bs4 import BeautifulSoup as bs\n",
    "import re\n",
    "from tqdm.notebook import trange, tqdm\n",
    "from tqdm.gui import tqdm as tqdm_gui\n",
    "import datetime as dt\n",
    "import seaborn as sns\n",
    "import matplotlib.pyplot as plt\n",
    "from IPython.display import display\n"
   ]
  },
  {
   "cell_type": "markdown",
   "id": "50e2394a",
   "metadata": {},
   "source": [
    "импорт библиотек"
   ]
  },
  {
   "cell_type": "markdown",
   "id": "e0b0f754",
   "metadata": {},
   "source": [
    "import warnings\n",
    "warnings.filterwarnings('ignore')"
   ]
  },
  {
   "cell_type": "code",
   "execution_count": 2,
   "id": "39938688",
   "metadata": {},
   "outputs": [],
   "source": [
    "pd.set_option('display.max_colwidth', 1000)\n",
    "pd.set_option('display.max_columns', 1000)\n",
    "pd.set_option('display.max_rows', 1000)"
   ]
  },
  {
   "cell_type": "code",
   "execution_count": 3,
   "id": "5a09642a",
   "metadata": {},
   "outputs": [],
   "source": [
    "def preprocessing(x):\n",
    "    print(f'таблица имеет следующий вид:')\n",
    "    display(x.head())\n",
    "    print('*'*100)\n",
    "    print(f'таблица имеет {x.shape[0]} сторок и {x.shape[1]} столбцов')\n",
    "    print('*'*100)\n",
    "    print(f'в таблице обнаружено дублекатов:{x.duplicated().sum()}')\n",
    "    print('*'*100)\n",
    "    print('в таблице обнаружены пропуски в следующих столбцах:')\n",
    "    display(x.isna().sum())\n",
    "    print('*'*100)\n",
    "    print('Эти пропуски составлябт следующее количество в процентах')\n",
    "    display((x.isna().mean()* 100).round(1))\n",
    "    print('*'*100)\n",
    "    print('столбцы имеют следующие типы:')\n",
    "    display(x.dtypes)\n",
    "    x.columns = [y.lower().replace(' ', '_') for y in x.columns.values] \n",
    "    print('*'*100)\n",
    "    print('названия столбцов переписаны в нижнем регистре, пробелы заменены на нижнее подчеркивание')\n",
    "    print('*'*100)\n",
    "    display(x.info())"
   ]
  },
  {
   "cell_type": "markdown",
   "id": "d21da9cc",
   "metadata": {},
   "source": [
    "создаем функцию предварительного просмотра данных"
   ]
  },
  {
   "cell_type": "markdown",
   "id": "e1781908",
   "metadata": {},
   "source": [
    "url = ['https://tiraet.com/catalog/PHoto--i-video/?PAGEN_1=']"
   ]
  },
  {
   "cell_type": "markdown",
   "id": "296a7ce7",
   "metadata": {},
   "source": [
    "oll_url = ['https://tiraet.com/catalog/avtojelektronika/?PAGEN_1='] "
   ]
  },
  {
   "cell_type": "code",
   "execution_count": 4,
   "id": "c345c423",
   "metadata": {},
   "outputs": [],
   "source": [
    "oll_url=['https://tiraet.com/catalog/Komplektujuschie/?PAGEN_1=',\n",
    "         'https://tiraet.com/catalog/2873/?PAGEN_1=',\n",
    "         'https://tiraet.com/catalog/Kompjuternaja-mebel/?PAGEN_1=',\n",
    "         'https://tiraet.com/catalog/bytovaya/?PAGEN_1=',\n",
    "         'https://tiraet.com/catalog/ohrannye-sistemy/?PAGEN_1=',\n",
    "         'https://tiraet.com/catalog/svet-i-jelektrika/?PAGEN_1=',\n",
    "         'https://tiraet.com/catalog/orgtehnika/?PAGEN_1=',\n",
    "         'https://tiraet.com/catalog/PHoto--i-video/?PAGEN_1=',\n",
    "         'https://tiraet.com/catalog/setevoe-oborudovanie/?PAGEN_1=',\n",
    "         'https://tiraet.com/catalog/jelektropitanie/?PAGEN_1=',\n",
    "         'https://tiraet.com/catalog/sport/?PAGEN_1=',\n",
    "         'https://tiraet.com/catalog/avtojelektronika/?PAGEN_1=',\n",
    "         'https://tiraet.com/catalog/rashodnye-materialy/?PAGEN_1=',\n",
    "         \n",
    "]"
   ]
  },
  {
   "cell_type": "code",
   "execution_count": 5,
   "id": "7696c601",
   "metadata": {},
   "outputs": [],
   "source": [
    "j=1\n",
    "def parsing_2(url):\n",
    "    data = pd.DataFrame(columns=['title', 'url', 'date', 'availability', 'id', 'price', 'old_price', 'foto'])    \n",
    "    for u in url:\n",
    "        reqx = requests.get(u)\n",
    "        soup = bs(reqx.text, 'html.parser')\n",
    "        max_page = soup.findAll('div', class_='nums')\n",
    "        maxx = int(max_page[0].text.strip().split('\\n')[-1])\n",
    "        for j in tqdm(range(1,maxx + 1)):        \n",
    "            reqx = requests.get(u + str(j))\n",
    "            soup = bs(reqx.text, 'html.parser')\n",
    "            element = soup.findAll('div', class_='col-lg-3 col-md-4 col-sm-6 col-xs-6 col-xxs-12 item item-parent catalog-block-view__item js-notice-block item_block')            \n",
    "            datax = []\n",
    "            for i in element:\n",
    "                datax.append({'title' : i.find('a', class_='dark_link js-notice-block__title option-font-bold font_sm').text.strip(),\n",
    "                             'url' : 'https://tiraet.com' + i.find('a', class_='dark_link js-notice-block__title option-font-bold font_sm')['href'],\n",
    "                             'date' : pd.to_datetime('today').normalize(),\n",
    "                             'availability' : i.find('div', class_='item-stock js-show-stores js-show-info-block').text.strip(),\n",
    "                             'id' : int(i.find('div', class_='article_block').text.replace('Арт.: ','')),\n",
    "                             'price' : float(i.find('div', class_='price_matrix_wrapper').text.strip().replace(' руб','').replace(',','.').replace(' ','')) if str(type(i.find('div', class_='price_matrix_wrapper'))) != \"<class 'NoneType'>\" else np.NaN ,\n",
    "                             'old_price' : float(i.find('div', class_='price_matrix_wrapper strike_block').text.strip().replace(' руб','').replace(',','.').replace(' ','')) if str(type(i.find('div', class_='price_matrix_wrapper strike_block'))) != \"<class 'NoneType'>\" else np.NaN,\n",
    "                              'foto' : int(i.find('span',class_=\"section-gallery-wrapper__item _active\").text.replace('\\n\\n\\n', '1')) if i.find('span',class_=\"section-gallery-wrapper__item _active\") !=  None else 0\n",
    "                            })\n",
    "            \n",
    "            datax = pd.DataFrame(datax)\n",
    "            data = pd.concat([data, datax] , ignore_index=True)\n",
    "    return data"
   ]
  },
  {
   "cell_type": "markdown",
   "id": "1bca0b9a",
   "metadata": {},
   "source": [
    "179  -  16  -  23  -  100  -  33  -  60  -  10  -  4  -  31  -  25  -  5  -  5  -  81 "
   ]
  },
  {
   "cell_type": "code",
   "execution_count": 6,
   "id": "580002b9",
   "metadata": {
    "scrolled": true
   },
   "outputs": [
    {
     "data": {
      "application/vnd.jupyter.widget-view+json": {
       "model_id": "0a0dd2d68df84e74928f3f614313491a",
       "version_major": 2,
       "version_minor": 0
      },
      "text/plain": [
       "  0%|          | 0/186 [00:00<?, ?it/s]"
      ]
     },
     "metadata": {},
     "output_type": "display_data"
    },
    {
     "data": {
      "application/vnd.jupyter.widget-view+json": {
       "model_id": "a9690af0b4704f96a9af96afda77e0c3",
       "version_major": 2,
       "version_minor": 0
      },
      "text/plain": [
       "  0%|          | 0/17 [00:00<?, ?it/s]"
      ]
     },
     "metadata": {},
     "output_type": "display_data"
    },
    {
     "data": {
      "application/vnd.jupyter.widget-view+json": {
       "model_id": "112074a487144d5db8710a80923b4376",
       "version_major": 2,
       "version_minor": 0
      },
      "text/plain": [
       "  0%|          | 0/26 [00:00<?, ?it/s]"
      ]
     },
     "metadata": {},
     "output_type": "display_data"
    },
    {
     "data": {
      "application/vnd.jupyter.widget-view+json": {
       "model_id": "d82af8f9bd314c71be88ba6e362a34c3",
       "version_major": 2,
       "version_minor": 0
      },
      "text/plain": [
       "  0%|          | 0/103 [00:00<?, ?it/s]"
      ]
     },
     "metadata": {},
     "output_type": "display_data"
    },
    {
     "data": {
      "application/vnd.jupyter.widget-view+json": {
       "model_id": "a4d5c5da52a446f6904513c9228fe348",
       "version_major": 2,
       "version_minor": 0
      },
      "text/plain": [
       "  0%|          | 0/36 [00:00<?, ?it/s]"
      ]
     },
     "metadata": {},
     "output_type": "display_data"
    },
    {
     "data": {
      "application/vnd.jupyter.widget-view+json": {
       "model_id": "3ac2fce19af14d8f84ccd4e0bb921c78",
       "version_major": 2,
       "version_minor": 0
      },
      "text/plain": [
       "  0%|          | 0/60 [00:00<?, ?it/s]"
      ]
     },
     "metadata": {},
     "output_type": "display_data"
    },
    {
     "data": {
      "application/vnd.jupyter.widget-view+json": {
       "model_id": "ca484d66669e456fb0ef8a8cf70ea782",
       "version_major": 2,
       "version_minor": 0
      },
      "text/plain": [
       "  0%|          | 0/12 [00:00<?, ?it/s]"
      ]
     },
     "metadata": {},
     "output_type": "display_data"
    },
    {
     "data": {
      "application/vnd.jupyter.widget-view+json": {
       "model_id": "11f483c401874fe0821e3f6125f510f5",
       "version_major": 2,
       "version_minor": 0
      },
      "text/plain": [
       "  0%|          | 0/4 [00:00<?, ?it/s]"
      ]
     },
     "metadata": {},
     "output_type": "display_data"
    },
    {
     "data": {
      "application/vnd.jupyter.widget-view+json": {
       "model_id": "0b94fa2d011f40a181e0ba37526f49fe",
       "version_major": 2,
       "version_minor": 0
      },
      "text/plain": [
       "  0%|          | 0/31 [00:00<?, ?it/s]"
      ]
     },
     "metadata": {},
     "output_type": "display_data"
    },
    {
     "data": {
      "application/vnd.jupyter.widget-view+json": {
       "model_id": "0168a41ed81143f4bb2d6d31d594380f",
       "version_major": 2,
       "version_minor": 0
      },
      "text/plain": [
       "  0%|          | 0/25 [00:00<?, ?it/s]"
      ]
     },
     "metadata": {},
     "output_type": "display_data"
    },
    {
     "data": {
      "application/vnd.jupyter.widget-view+json": {
       "model_id": "24b4dd6c7fc24482b2d3d59f5c42066f",
       "version_major": 2,
       "version_minor": 0
      },
      "text/plain": [
       "  0%|          | 0/5 [00:00<?, ?it/s]"
      ]
     },
     "metadata": {},
     "output_type": "display_data"
    },
    {
     "data": {
      "application/vnd.jupyter.widget-view+json": {
       "model_id": "8919612103084178b6401e8370205d46",
       "version_major": 2,
       "version_minor": 0
      },
      "text/plain": [
       "  0%|          | 0/6 [00:00<?, ?it/s]"
      ]
     },
     "metadata": {},
     "output_type": "display_data"
    },
    {
     "data": {
      "application/vnd.jupyter.widget-view+json": {
       "model_id": "32704d3968c24e1bad150bd30977e144",
       "version_major": 2,
       "version_minor": 0
      },
      "text/plain": [
       "  0%|          | 0/80 [00:00<?, ?it/s]"
      ]
     },
     "metadata": {},
     "output_type": "display_data"
    },
    {
     "data": {
      "text/html": [
       "<div>\n",
       "<style scoped>\n",
       "    .dataframe tbody tr th:only-of-type {\n",
       "        vertical-align: middle;\n",
       "    }\n",
       "\n",
       "    .dataframe tbody tr th {\n",
       "        vertical-align: top;\n",
       "    }\n",
       "\n",
       "    .dataframe thead th {\n",
       "        text-align: right;\n",
       "    }\n",
       "</style>\n",
       "<table border=\"1\" class=\"dataframe\">\n",
       "  <thead>\n",
       "    <tr style=\"text-align: right;\">\n",
       "      <th></th>\n",
       "      <th>title</th>\n",
       "      <th>url</th>\n",
       "      <th>date</th>\n",
       "      <th>availability</th>\n",
       "      <th>id</th>\n",
       "      <th>price</th>\n",
       "      <th>old_price</th>\n",
       "      <th>foto</th>\n",
       "    </tr>\n",
       "  </thead>\n",
       "  <tbody>\n",
       "    <tr>\n",
       "      <th>0</th>\n",
       "      <td>Переходник для мыши COM в PS/2 (A-235)</td>\n",
       "      <td>https://tiraet.com/catalog/Komplektujuschie/aksessuarycomp/kabelja-udliniteli-i-perehodniki/Perehodnik-dlja-myshi-COM-v-PS2-A-235/</td>\n",
       "      <td>2024-07-15</td>\n",
       "      <td>Много</td>\n",
       "      <td>284</td>\n",
       "      <td>5.0</td>\n",
       "      <td>NaN</td>\n",
       "      <td>1</td>\n",
       "    </tr>\n",
       "    <tr>\n",
       "      <th>1</th>\n",
       "      <td>Кабель MINI USB2.0 (A - MINI USB 4PM)1,8м (CC-USB2-AM4P-6)</td>\n",
       "      <td>https://tiraet.com/catalog/Komplektujuschie/aksessuarycomp/kabelja-udliniteli-i-perehodniki/kabel-mini-usb20-a---mini-usb-4pm18m-cc-usb2-am4p-6/</td>\n",
       "      <td>2024-07-15</td>\n",
       "      <td>Много</td>\n",
       "      <td>8683</td>\n",
       "      <td>5.0</td>\n",
       "      <td>NaN</td>\n",
       "      <td>1</td>\n",
       "    </tr>\n",
       "    <tr>\n",
       "      <th>2</th>\n",
       "      <td>BOX для CD/DVD Verbatim Slim, на 1 диск 120мм,  PVC (49979) Black 1шт</td>\n",
       "      <td>https://tiraet.com/catalog/Komplektujuschie/aksessuarycomp/sumki-dlja-diskov/box_dlya_cd_dvd_verbatim_slim_na_1_disk_120mm_pvc_49979_black_1sht/</td>\n",
       "      <td>2024-07-15</td>\n",
       "      <td>Много</td>\n",
       "      <td>85078</td>\n",
       "      <td>6.6</td>\n",
       "      <td>NaN</td>\n",
       "      <td>1</td>\n",
       "    </tr>\n",
       "    <tr>\n",
       "      <th>3</th>\n",
       "      <td>Диск CD-R 700MB VERBATIM, 52X (1шт) EXTRA PROTECTION(43411/43351/43437)</td>\n",
       "      <td>https://tiraet.com/catalog/Komplektujuschie/aksessuarycomp/diski/disk_cdr_700mb_verbatim_52x_1sht_extra_protection_43411_43351_43437/</td>\n",
       "      <td>2024-07-15</td>\n",
       "      <td>Много</td>\n",
       "      <td>12819</td>\n",
       "      <td>6.6</td>\n",
       "      <td>NaN</td>\n",
       "      <td>1</td>\n",
       "    </tr>\n",
       "    <tr>\n",
       "      <th>4</th>\n",
       "      <td>Диск DVD+R VERBATIM 16X 4,7GB  (1шт.)  (43550/43551/43500/43498/43488)</td>\n",
       "      <td>https://tiraet.com/catalog/Komplektujuschie/aksessuarycomp/diski/disk_dvd_r_verbatim_16x_4_7gb_1sht_43550_43551_43500_43498_43488/</td>\n",
       "      <td>2024-07-15</td>\n",
       "      <td>Мало</td>\n",
       "      <td>4975</td>\n",
       "      <td>7.4</td>\n",
       "      <td>NaN</td>\n",
       "      <td>1</td>\n",
       "    </tr>\n",
       "    <tr>\n",
       "      <th>...</th>\n",
       "      <td>...</td>\n",
       "      <td>...</td>\n",
       "      <td>...</td>\n",
       "      <td>...</td>\n",
       "      <td>...</td>\n",
       "      <td>...</td>\n",
       "      <td>...</td>\n",
       "      <td>...</td>\n",
       "    </tr>\n",
       "    <tr>\n",
       "      <th>11716</th>\n",
       "      <td>Головка для плоттеров Canon PF-03 (2251B001)</td>\n",
       "      <td>https://tiraet.com/catalog/rashodnye-materialy/zapchasti-dlja-printerov-i-kopirov/zapchasti_print/golovka-dlja-plotterov-canon-pf-03-2251b001/</td>\n",
       "      <td>2024-07-15</td>\n",
       "      <td>Мало</td>\n",
       "      <td>27477</td>\n",
       "      <td>7920.0</td>\n",
       "      <td>NaN</td>\n",
       "      <td>1</td>\n",
       "    </tr>\n",
       "    <tr>\n",
       "      <th>11717</th>\n",
       "      <td>Узел термозакрепления (для сетевых апп)CANON iR2202/2204(FM1-F162-0XX)</td>\n",
       "      <td>https://tiraet.com/catalog/rashodnye-materialy/zapchasti-dlja-printerov-i-kopirov/zapchasti_print/uzel_termozakrepleniya_dlya_setevykh_app_canon_ir2202_2204_fm1_f162_0xx/</td>\n",
       "      <td>2024-07-15</td>\n",
       "      <td>Мало</td>\n",
       "      <td>55309</td>\n",
       "      <td>8085.0</td>\n",
       "      <td>NaN</td>\n",
       "      <td>0</td>\n",
       "    </tr>\n",
       "    <tr>\n",
       "      <th>11718</th>\n",
       "      <td>Головка для плоттеров Canon PF-04 (3630B001)</td>\n",
       "      <td>https://tiraet.com/catalog/rashodnye-materialy/zapchasti-dlja-printerov-i-kopirov/zapchasti_print/golovka_dlya_plotterov_canon_pf_04_3630b001/</td>\n",
       "      <td>2024-07-15</td>\n",
       "      <td>Мало</td>\n",
       "      <td>56144</td>\n",
       "      <td>8250.0</td>\n",
       "      <td>NaN</td>\n",
       "      <td>0</td>\n",
       "    </tr>\n",
       "    <tr>\n",
       "      <th>11719</th>\n",
       "      <td>Картридж EPSON MX-80/LX-300/400/800/850/880 Patron</td>\n",
       "      <td>https://tiraet.com/catalog/rashodnye-materialy/Rashodnye-k-matrichnym-printeram-kartridzhi-lenty/kartridji_matr/kartridzh-epson-lx-300400800850880mx-80/</td>\n",
       "      <td>2024-07-15</td>\n",
       "      <td>Нет в наличии</td>\n",
       "      <td>249</td>\n",
       "      <td>38.0</td>\n",
       "      <td>NaN</td>\n",
       "      <td>1</td>\n",
       "    </tr>\n",
       "    <tr>\n",
       "      <th>11720</th>\n",
       "      <td>Комплект восстановления Canon IR-1435  CET5280N (фотобарабан, ракель, ВПЗ,чип ф/б)</td>\n",
       "      <td>https://tiraet.com/catalog/rashodnye-materialy/Rashodnye-k-lazernym-printeram-kartridzhi-toner/chip_laser/komplekt_vosstanovleniya_canon_ir_1435_cet5280n_fotobaraban_rakel_vpz_chip_f_b/</td>\n",
       "      <td>2024-07-15</td>\n",
       "      <td>Нет в наличии</td>\n",
       "      <td>68689</td>\n",
       "      <td>594.0</td>\n",
       "      <td>NaN</td>\n",
       "      <td>0</td>\n",
       "    </tr>\n",
       "  </tbody>\n",
       "</table>\n",
       "<p>11721 rows × 8 columns</p>\n",
       "</div>"
      ],
      "text/plain": [
       "                                                                                    title  \\\n",
       "0                                                  Переходник для мыши COM в PS/2 (A-235)   \n",
       "1                              Кабель MINI USB2.0 (A - MINI USB 4PM)1,8м (CC-USB2-AM4P-6)   \n",
       "2                   BOX для CD/DVD Verbatim Slim, на 1 диск 120мм,  PVC (49979) Black 1шт   \n",
       "3                 Диск CD-R 700MB VERBATIM, 52X (1шт) EXTRA PROTECTION(43411/43351/43437)   \n",
       "4                  Диск DVD+R VERBATIM 16X 4,7GB  (1шт.)  (43550/43551/43500/43498/43488)   \n",
       "...                                                                                   ...   \n",
       "11716                                        Головка для плоттеров Canon PF-03 (2251B001)   \n",
       "11717              Узел термозакрепления (для сетевых апп)CANON iR2202/2204(FM1-F162-0XX)   \n",
       "11718                                        Головка для плоттеров Canon PF-04 (3630B001)   \n",
       "11719                                  Картридж EPSON MX-80/LX-300/400/800/850/880 Patron   \n",
       "11720  Комплект восстановления Canon IR-1435  CET5280N (фотобарабан, ракель, ВПЗ,чип ф/б)   \n",
       "\n",
       "                                                                                                                                                                                             url  \\\n",
       "0                                                             https://tiraet.com/catalog/Komplektujuschie/aksessuarycomp/kabelja-udliniteli-i-perehodniki/Perehodnik-dlja-myshi-COM-v-PS2-A-235/   \n",
       "1                                               https://tiraet.com/catalog/Komplektujuschie/aksessuarycomp/kabelja-udliniteli-i-perehodniki/kabel-mini-usb20-a---mini-usb-4pm18m-cc-usb2-am4p-6/   \n",
       "2                                               https://tiraet.com/catalog/Komplektujuschie/aksessuarycomp/sumki-dlja-diskov/box_dlya_cd_dvd_verbatim_slim_na_1_disk_120mm_pvc_49979_black_1sht/   \n",
       "3                                                          https://tiraet.com/catalog/Komplektujuschie/aksessuarycomp/diski/disk_cdr_700mb_verbatim_52x_1sht_extra_protection_43411_43351_43437/   \n",
       "4                                                             https://tiraet.com/catalog/Komplektujuschie/aksessuarycomp/diski/disk_dvd_r_verbatim_16x_4_7gb_1sht_43550_43551_43500_43498_43488/   \n",
       "...                                                                                                                                                                                          ...   \n",
       "11716                                             https://tiraet.com/catalog/rashodnye-materialy/zapchasti-dlja-printerov-i-kopirov/zapchasti_print/golovka-dlja-plotterov-canon-pf-03-2251b001/   \n",
       "11717                 https://tiraet.com/catalog/rashodnye-materialy/zapchasti-dlja-printerov-i-kopirov/zapchasti_print/uzel_termozakrepleniya_dlya_setevykh_app_canon_ir2202_2204_fm1_f162_0xx/   \n",
       "11718                                             https://tiraet.com/catalog/rashodnye-materialy/zapchasti-dlja-printerov-i-kopirov/zapchasti_print/golovka_dlya_plotterov_canon_pf_04_3630b001/   \n",
       "11719                                   https://tiraet.com/catalog/rashodnye-materialy/Rashodnye-k-matrichnym-printeram-kartridzhi-lenty/kartridji_matr/kartridzh-epson-lx-300400800850880mx-80/   \n",
       "11720  https://tiraet.com/catalog/rashodnye-materialy/Rashodnye-k-lazernym-printeram-kartridzhi-toner/chip_laser/komplekt_vosstanovleniya_canon_ir_1435_cet5280n_fotobaraban_rakel_vpz_chip_f_b/   \n",
       "\n",
       "            date   availability     id   price  old_price foto  \n",
       "0     2024-07-15          Много    284     5.0        NaN    1  \n",
       "1     2024-07-15          Много   8683     5.0        NaN    1  \n",
       "2     2024-07-15          Много  85078     6.6        NaN    1  \n",
       "3     2024-07-15          Много  12819     6.6        NaN    1  \n",
       "4     2024-07-15           Мало   4975     7.4        NaN    1  \n",
       "...          ...            ...    ...     ...        ...  ...  \n",
       "11716 2024-07-15           Мало  27477  7920.0        NaN    1  \n",
       "11717 2024-07-15           Мало  55309  8085.0        NaN    0  \n",
       "11718 2024-07-15           Мало  56144  8250.0        NaN    0  \n",
       "11719 2024-07-15  Нет в наличии    249    38.0        NaN    1  \n",
       "11720 2024-07-15  Нет в наличии  68689   594.0        NaN    0  \n",
       "\n",
       "[11721 rows x 8 columns]"
      ]
     },
     "execution_count": 6,
     "metadata": {},
     "output_type": "execute_result"
    }
   ],
   "source": [
    "df = parsing_2(oll_url)\n",
    "df"
   ]
  },
  {
   "cell_type": "code",
   "execution_count": 7,
   "id": "e2840058",
   "metadata": {},
   "outputs": [
    {
     "name": "stdout",
     "output_type": "stream",
     "text": [
      "таблица имеет следующий вид:\n"
     ]
    },
    {
     "data": {
      "text/html": [
       "<div>\n",
       "<style scoped>\n",
       "    .dataframe tbody tr th:only-of-type {\n",
       "        vertical-align: middle;\n",
       "    }\n",
       "\n",
       "    .dataframe tbody tr th {\n",
       "        vertical-align: top;\n",
       "    }\n",
       "\n",
       "    .dataframe thead th {\n",
       "        text-align: right;\n",
       "    }\n",
       "</style>\n",
       "<table border=\"1\" class=\"dataframe\">\n",
       "  <thead>\n",
       "    <tr style=\"text-align: right;\">\n",
       "      <th></th>\n",
       "      <th>title</th>\n",
       "      <th>url</th>\n",
       "      <th>date</th>\n",
       "      <th>availability</th>\n",
       "      <th>id</th>\n",
       "      <th>price</th>\n",
       "      <th>old_price</th>\n",
       "      <th>foto</th>\n",
       "    </tr>\n",
       "  </thead>\n",
       "  <tbody>\n",
       "    <tr>\n",
       "      <th>0</th>\n",
       "      <td>Переходник для мыши COM в PS/2 (A-235)</td>\n",
       "      <td>https://tiraet.com/catalog/Komplektujuschie/aksessuarycomp/kabelja-udliniteli-i-perehodniki/Perehodnik-dlja-myshi-COM-v-PS2-A-235/</td>\n",
       "      <td>2024-07-15</td>\n",
       "      <td>Много</td>\n",
       "      <td>284</td>\n",
       "      <td>5.0</td>\n",
       "      <td>NaN</td>\n",
       "      <td>1</td>\n",
       "    </tr>\n",
       "    <tr>\n",
       "      <th>1</th>\n",
       "      <td>Кабель MINI USB2.0 (A - MINI USB 4PM)1,8м (CC-USB2-AM4P-6)</td>\n",
       "      <td>https://tiraet.com/catalog/Komplektujuschie/aksessuarycomp/kabelja-udliniteli-i-perehodniki/kabel-mini-usb20-a---mini-usb-4pm18m-cc-usb2-am4p-6/</td>\n",
       "      <td>2024-07-15</td>\n",
       "      <td>Много</td>\n",
       "      <td>8683</td>\n",
       "      <td>5.0</td>\n",
       "      <td>NaN</td>\n",
       "      <td>1</td>\n",
       "    </tr>\n",
       "    <tr>\n",
       "      <th>2</th>\n",
       "      <td>BOX для CD/DVD Verbatim Slim, на 1 диск 120мм,  PVC (49979) Black 1шт</td>\n",
       "      <td>https://tiraet.com/catalog/Komplektujuschie/aksessuarycomp/sumki-dlja-diskov/box_dlya_cd_dvd_verbatim_slim_na_1_disk_120mm_pvc_49979_black_1sht/</td>\n",
       "      <td>2024-07-15</td>\n",
       "      <td>Много</td>\n",
       "      <td>85078</td>\n",
       "      <td>6.6</td>\n",
       "      <td>NaN</td>\n",
       "      <td>1</td>\n",
       "    </tr>\n",
       "    <tr>\n",
       "      <th>3</th>\n",
       "      <td>Диск CD-R 700MB VERBATIM, 52X (1шт) EXTRA PROTECTION(43411/43351/43437)</td>\n",
       "      <td>https://tiraet.com/catalog/Komplektujuschie/aksessuarycomp/diski/disk_cdr_700mb_verbatim_52x_1sht_extra_protection_43411_43351_43437/</td>\n",
       "      <td>2024-07-15</td>\n",
       "      <td>Много</td>\n",
       "      <td>12819</td>\n",
       "      <td>6.6</td>\n",
       "      <td>NaN</td>\n",
       "      <td>1</td>\n",
       "    </tr>\n",
       "    <tr>\n",
       "      <th>4</th>\n",
       "      <td>Диск DVD+R VERBATIM 16X 4,7GB  (1шт.)  (43550/43551/43500/43498/43488)</td>\n",
       "      <td>https://tiraet.com/catalog/Komplektujuschie/aksessuarycomp/diski/disk_dvd_r_verbatim_16x_4_7gb_1sht_43550_43551_43500_43498_43488/</td>\n",
       "      <td>2024-07-15</td>\n",
       "      <td>Мало</td>\n",
       "      <td>4975</td>\n",
       "      <td>7.4</td>\n",
       "      <td>NaN</td>\n",
       "      <td>1</td>\n",
       "    </tr>\n",
       "  </tbody>\n",
       "</table>\n",
       "</div>"
      ],
      "text/plain": [
       "                                                                     title  \\\n",
       "0                                   Переходник для мыши COM в PS/2 (A-235)   \n",
       "1               Кабель MINI USB2.0 (A - MINI USB 4PM)1,8м (CC-USB2-AM4P-6)   \n",
       "2    BOX для CD/DVD Verbatim Slim, на 1 диск 120мм,  PVC (49979) Black 1шт   \n",
       "3  Диск CD-R 700MB VERBATIM, 52X (1шт) EXTRA PROTECTION(43411/43351/43437)   \n",
       "4   Диск DVD+R VERBATIM 16X 4,7GB  (1шт.)  (43550/43551/43500/43498/43488)   \n",
       "\n",
       "                                                                                                                                                url  \\\n",
       "0                https://tiraet.com/catalog/Komplektujuschie/aksessuarycomp/kabelja-udliniteli-i-perehodniki/Perehodnik-dlja-myshi-COM-v-PS2-A-235/   \n",
       "1  https://tiraet.com/catalog/Komplektujuschie/aksessuarycomp/kabelja-udliniteli-i-perehodniki/kabel-mini-usb20-a---mini-usb-4pm18m-cc-usb2-am4p-6/   \n",
       "2  https://tiraet.com/catalog/Komplektujuschie/aksessuarycomp/sumki-dlja-diskov/box_dlya_cd_dvd_verbatim_slim_na_1_disk_120mm_pvc_49979_black_1sht/   \n",
       "3             https://tiraet.com/catalog/Komplektujuschie/aksessuarycomp/diski/disk_cdr_700mb_verbatim_52x_1sht_extra_protection_43411_43351_43437/   \n",
       "4                https://tiraet.com/catalog/Komplektujuschie/aksessuarycomp/diski/disk_dvd_r_verbatim_16x_4_7gb_1sht_43550_43551_43500_43498_43488/   \n",
       "\n",
       "        date availability     id  price  old_price foto  \n",
       "0 2024-07-15        Много    284    5.0        NaN    1  \n",
       "1 2024-07-15        Много   8683    5.0        NaN    1  \n",
       "2 2024-07-15        Много  85078    6.6        NaN    1  \n",
       "3 2024-07-15        Много  12819    6.6        NaN    1  \n",
       "4 2024-07-15         Мало   4975    7.4        NaN    1  "
      ]
     },
     "metadata": {},
     "output_type": "display_data"
    },
    {
     "name": "stdout",
     "output_type": "stream",
     "text": [
      "****************************************************************************************************\n",
      "таблица имеет 11721 сторок и 8 столбцов\n",
      "****************************************************************************************************\n",
      "в таблице обнаружено дублекатов:5\n",
      "****************************************************************************************************\n",
      "в таблице обнаружены пропуски в следующих столбцах:\n"
     ]
    },
    {
     "data": {
      "text/plain": [
       "title               0\n",
       "url                 0\n",
       "date                0\n",
       "availability        0\n",
       "id                  0\n",
       "price               0\n",
       "old_price       10267\n",
       "foto                0\n",
       "dtype: int64"
      ]
     },
     "metadata": {},
     "output_type": "display_data"
    },
    {
     "name": "stdout",
     "output_type": "stream",
     "text": [
      "****************************************************************************************************\n",
      "Эти пропуски составлябт следующее количество в процентах\n"
     ]
    },
    {
     "data": {
      "text/plain": [
       "title            0.0\n",
       "url              0.0\n",
       "date             0.0\n",
       "availability     0.0\n",
       "id               0.0\n",
       "price            0.0\n",
       "old_price       87.6\n",
       "foto             0.0\n",
       "dtype: float64"
      ]
     },
     "metadata": {},
     "output_type": "display_data"
    },
    {
     "name": "stdout",
     "output_type": "stream",
     "text": [
      "****************************************************************************************************\n",
      "столбцы имеют следующие типы:\n"
     ]
    },
    {
     "data": {
      "text/plain": [
       "title                   object\n",
       "url                     object\n",
       "date            datetime64[ns]\n",
       "availability            object\n",
       "id                      object\n",
       "price                  float64\n",
       "old_price              float64\n",
       "foto                    object\n",
       "dtype: object"
      ]
     },
     "metadata": {},
     "output_type": "display_data"
    },
    {
     "name": "stdout",
     "output_type": "stream",
     "text": [
      "****************************************************************************************************\n",
      "названия столбцов переписаны в нижнем регистре, пробелы заменены на нижнее подчеркивание\n",
      "****************************************************************************************************\n",
      "<class 'pandas.core.frame.DataFrame'>\n",
      "RangeIndex: 11721 entries, 0 to 11720\n",
      "Data columns (total 8 columns):\n",
      " #   Column        Non-Null Count  Dtype         \n",
      "---  ------        --------------  -----         \n",
      " 0   title         11721 non-null  object        \n",
      " 1   url           11721 non-null  object        \n",
      " 2   date          11721 non-null  datetime64[ns]\n",
      " 3   availability  11721 non-null  object        \n",
      " 4   id            11721 non-null  object        \n",
      " 5   price         11721 non-null  float64       \n",
      " 6   old_price     1454 non-null   float64       \n",
      " 7   foto          11721 non-null  object        \n",
      "dtypes: datetime64[ns](1), float64(2), object(5)\n",
      "memory usage: 732.7+ KB\n"
     ]
    },
    {
     "data": {
      "text/plain": [
       "None"
      ]
     },
     "metadata": {},
     "output_type": "display_data"
    }
   ],
   "source": [
    "preprocessing(df)"
   ]
  },
  {
   "cell_type": "code",
   "execution_count": 8,
   "id": "2e1153a6",
   "metadata": {},
   "outputs": [],
   "source": [
    "df.to_csv('csv/tiraet_foto_save.csv', index=False)  "
   ]
  },
  {
   "cell_type": "code",
   "execution_count": 9,
   "id": "40971662",
   "metadata": {},
   "outputs": [],
   "source": [
    "df = pd.read_csv('csv/tiraet_foto_save.csv')"
   ]
  },
  {
   "cell_type": "code",
   "execution_count": 10,
   "id": "d3fd7242",
   "metadata": {},
   "outputs": [],
   "source": [
    "tiraet_foto = pd.read_csv('csv/atiraet_foto.csv')"
   ]
  },
  {
   "cell_type": "code",
   "execution_count": 11,
   "id": "d4e1bca1",
   "metadata": {},
   "outputs": [],
   "source": [
    "tiraet_foto = tiraet_foto[tiraet_foto['id_brend'] == 1]"
   ]
  },
  {
   "cell_type": "code",
   "execution_count": 12,
   "id": "c3dd1bda",
   "metadata": {},
   "outputs": [],
   "source": [
    "df = df.merge(tiraet_foto, how='left', on='id')"
   ]
  },
  {
   "cell_type": "code",
   "execution_count": 13,
   "id": "4e41f74c",
   "metadata": {},
   "outputs": [],
   "source": [
    "df_new = df[(df['_category'].isna()) | (df['_subcategory'].isna()) | (df['_group'].isna()) | (df['id_brend'].isna()) | (df['site_brend'].isna()) | (df['id_brend'] == 0) ]"
   ]
  },
  {
   "cell_type": "code",
   "execution_count": 14,
   "id": "c749214d",
   "metadata": {},
   "outputs": [],
   "source": [
    "df = df[~((df['_category'].isna()) | (df['_subcategory'].isna()) | (df['_group'].isna()) | (df['id_brend'].isna()) | (df['site_brend'].isna()) | (df['id_brend'] == 0))]"
   ]
  },
  {
   "cell_type": "code",
   "execution_count": 15,
   "id": "6576fb53",
   "metadata": {},
   "outputs": [],
   "source": [
    "def find_groups(x):\n",
    "    reqx = requests.get(x)\n",
    "    soup = bs(reqx.text, 'html.parser')    \n",
    "    elem_1 = soup.findAll('a', class_='breadcrumbs__link colored_theme_hover_bg-el-svg')\n",
    "    elem_2 = soup.findAll('div', class_='breadcrumbs__item')\n",
    "    elem_brend = soup.findAll('div', class_=\"brand\")\n",
    "    try:\n",
    "        if len(elem_brend) == 1:\n",
    "            d_17 = 1\n",
    "        elif len(elem_brend) == 0:\n",
    "            d_17 = 0\n",
    "        else:\n",
    "            d_17 = 'err_len'\n",
    "            \n",
    "        if len(elem_brend) == 1:\n",
    "            d_18 = str(elem_brend[0]).split('content=')[1].split('\"')[1]\n",
    "        elif len(elem_brend) == 0:\n",
    "            d_18 = \"no_brent\"\n",
    "        else:\n",
    "            d_18 = \"err_len\"            \n",
    "    except:\n",
    "        d_17 = 'err_'\n",
    "        d_18 = 'err_'\n",
    "    try:\n",
    "        if len(elem_1) <=2:\n",
    "            if len(elem_2) <= 4:\n",
    "                d_14 = 'T_'+(elem_1[0].text.replace(',','').replace(' ','_').replace('-','_').lower())\n",
    "                d_15 = 'T_'+(elem_1[1].text.replace(',','').replace(' ','_').replace('-','_').lower())\n",
    "                d_16 = 'T_'+(elem_1[1].text.replace(',','').replace(' ','_').replace('-','_').lower())                \n",
    "            else:\n",
    "                d_14 = 'T_'+(elem_1[0].text.replace(',','').replace(' ','_').replace('-','_').lower())\n",
    "                d_15 = 'T_'+(elem_1[1].text.replace(',','').replace(' ','_').replace('-','_').lower())\n",
    "                d_16 = 'T_'+(elem_2[4].text.replace(',','').replace(' ','_').replace('-','_').lower())\n",
    "        else:\n",
    "            d_14 = 'T_'+(elem_1[0].text.replace(',','').replace(' ','_').replace('-','_').lower())\n",
    "            d_15 = 'T_'+(elem_1[1].text.replace(',','').replace(' ','_').replace('-','_').lower())\n",
    "            d_16 = 'T_'+(elem_1[2].text.replace(',','').replace(' ','_').replace('-','_').lower())\n",
    "    except:\n",
    "        d_14 = 'err_'\n",
    "        d_15 = 'err_'\n",
    "        d_16 = 'err_'\n",
    "        \n",
    "    return pd.Series([ (d_14), (d_15), (d_16), (d_17), (d_18)])"
   ]
  },
  {
   "cell_type": "markdown",
   "id": "c087e7e5",
   "metadata": {},
   "source": [
    "len(df_new[df_new['price']>1000])"
   ]
  },
  {
   "cell_type": "markdown",
   "id": "69e8d9c6",
   "metadata": {},
   "source": [
    "df_new = df_new[df_new['price']>1000]"
   ]
  },
  {
   "cell_type": "markdown",
   "id": "87d942b7",
   "metadata": {},
   "source": [
    "tqdm.pandas() \n",
    "t[['_category','_subcategory','_group', 'id_brend', 'site_brend']] = t['url'].progress_apply(find_groups)"
   ]
  },
  {
   "cell_type": "markdown",
   "id": "a4e89d26",
   "metadata": {},
   "source": [
    "t"
   ]
  },
  {
   "cell_type": "code",
   "execution_count": 16,
   "id": "1f8cd323",
   "metadata": {},
   "outputs": [
    {
     "data": {
      "application/vnd.jupyter.widget-view+json": {
       "model_id": "53115078b72e45f590c89094175596c9",
       "version_major": 2,
       "version_minor": 0
      },
      "text/plain": [
       "  0%|          | 0/2445 [00:00<?, ?it/s]"
      ]
     },
     "metadata": {},
     "output_type": "display_data"
    }
   ],
   "source": [
    "tqdm.pandas() \n",
    "df_new[['_category','_subcategory','_group', 'id_brend', 'site_brend']] = df_new['url'].progress_apply(find_groups)"
   ]
  },
  {
   "cell_type": "code",
   "execution_count": 17,
   "id": "fa7c8b3a",
   "metadata": {},
   "outputs": [],
   "source": [
    "data = df_new[~((df_new['_category']=='err_') | (df_new['id_brend']==0))].reset_index(drop=True)\n",
    "data = data[['id', '_category','_subcategory','_group', 'id_brend', 'site_brend' ]]\n"
   ]
  },
  {
   "cell_type": "code",
   "execution_count": 18,
   "id": "d048a971",
   "metadata": {},
   "outputs": [],
   "source": [
    "tiraet_foto = pd.concat([tiraet_foto, data], ignore_index=True).reset_index(drop=True)\n",
    "tiraet_foto.to_csv('csv/atiraet_foto.csv', index=False)  "
   ]
  },
  {
   "cell_type": "code",
   "execution_count": 19,
   "id": "a62a4033",
   "metadata": {},
   "outputs": [],
   "source": [
    "df = pd.concat([df, df_new], ignore_index=True).sort_values(['_category','_subcategory', '_group']).reset_index(drop=True)"
   ]
  },
  {
   "cell_type": "code",
   "execution_count": 20,
   "id": "d3da49da",
   "metadata": {},
   "outputs": [],
   "source": [
    "df.to_csv('csv/tiraet_foto_'+dt.datetime.now().strftime('%Y_%m_%d')+'.csv', index=False)  "
   ]
  },
  {
   "cell_type": "code",
   "execution_count": 21,
   "id": "95a39ad0",
   "metadata": {},
   "outputs": [
    {
     "data": {
      "text/plain": [
       "0"
      ]
     },
     "execution_count": 21,
     "metadata": {},
     "output_type": "execute_result"
    }
   ],
   "source": [
    "df[df['id_brend']=='err_'].id.count()"
   ]
  },
  {
   "cell_type": "code",
   "execution_count": 22,
   "id": "b7d29db4",
   "metadata": {},
   "outputs": [
    {
     "data": {
      "text/html": [
       "<div>\n",
       "<style scoped>\n",
       "    .dataframe tbody tr th:only-of-type {\n",
       "        vertical-align: middle;\n",
       "    }\n",
       "\n",
       "    .dataframe tbody tr th {\n",
       "        vertical-align: top;\n",
       "    }\n",
       "\n",
       "    .dataframe thead th {\n",
       "        text-align: right;\n",
       "    }\n",
       "</style>\n",
       "<table border=\"1\" class=\"dataframe\">\n",
       "  <thead>\n",
       "    <tr style=\"text-align: right;\">\n",
       "      <th></th>\n",
       "      <th>title</th>\n",
       "      <th>url</th>\n",
       "      <th>date</th>\n",
       "      <th>availability</th>\n",
       "      <th>id</th>\n",
       "      <th>price</th>\n",
       "      <th>old_price</th>\n",
       "      <th>foto</th>\n",
       "      <th>_category</th>\n",
       "      <th>_subcategory</th>\n",
       "      <th>_group</th>\n",
       "      <th>id_brend</th>\n",
       "      <th>site_brend</th>\n",
       "    </tr>\n",
       "  </thead>\n",
       "  <tbody>\n",
       "  </tbody>\n",
       "</table>\n",
       "</div>"
      ],
      "text/plain": [
       "Empty DataFrame\n",
       "Columns: [title, url, date, availability, id, price, old_price, foto, _category, _subcategory, _group, id_brend, site_brend]\n",
       "Index: []"
      ]
     },
     "execution_count": 22,
     "metadata": {},
     "output_type": "execute_result"
    }
   ],
   "source": [
    "df[df['id_brend']=='err_']"
   ]
  },
  {
   "cell_type": "code",
   "execution_count": 23,
   "id": "f68bfd34",
   "metadata": {},
   "outputs": [],
   "source": [
    "df['error_group'] = 0\n",
    "df.loc[df['_category']=='err', 'error_group'] = 1"
   ]
  },
  {
   "cell_type": "code",
   "execution_count": 24,
   "id": "56469f75",
   "metadata": {},
   "outputs": [
    {
     "data": {
      "text/html": [
       "<div>\n",
       "<style scoped>\n",
       "    .dataframe tbody tr th:only-of-type {\n",
       "        vertical-align: middle;\n",
       "    }\n",
       "\n",
       "    .dataframe tbody tr th {\n",
       "        vertical-align: top;\n",
       "    }\n",
       "\n",
       "    .dataframe thead th {\n",
       "        text-align: right;\n",
       "    }\n",
       "</style>\n",
       "<table border=\"1\" class=\"dataframe\">\n",
       "  <thead>\n",
       "    <tr style=\"text-align: right;\">\n",
       "      <th></th>\n",
       "      <th>title</th>\n",
       "      <th>url</th>\n",
       "      <th>date</th>\n",
       "      <th>availability</th>\n",
       "      <th>id</th>\n",
       "      <th>price</th>\n",
       "      <th>old_price</th>\n",
       "      <th>foto</th>\n",
       "      <th>_category</th>\n",
       "      <th>_subcategory</th>\n",
       "      <th>_group</th>\n",
       "      <th>id_brend</th>\n",
       "      <th>site_brend</th>\n",
       "      <th>error_group</th>\n",
       "    </tr>\n",
       "  </thead>\n",
       "  <tbody>\n",
       "    <tr>\n",
       "      <th>0</th>\n",
       "      <td>Автомагнитола NAVITEL RD5  (4x50Вт, mSD, 2*USB, Bluetooth)</td>\n",
       "      <td>https://tiraet.com/catalog/avtojelektronika/avtomagnitoly/avtomagnitola_navitel_rd5_4x50vt_msd_2_usb_bluetooth/</td>\n",
       "      <td>2024-07-15</td>\n",
       "      <td>Достаточно</td>\n",
       "      <td>80126</td>\n",
       "      <td>660.0</td>\n",
       "      <td>NaN</td>\n",
       "      <td>1</td>\n",
       "      <td>T_автотовары</td>\n",
       "      <td>T_автомагнитола</td>\n",
       "      <td>T_автомагнитола</td>\n",
       "      <td>1.0</td>\n",
       "      <td>Navitel</td>\n",
       "      <td>0</td>\n",
       "    </tr>\n",
       "    <tr>\n",
       "      <th>1</th>\n",
       "      <td>Автомагнитола Sencor SCT 3018MR (FM/AM, CD, MP3/WMA, USB, AUX, 4*40W, ISO/RCA, 1DIN)</td>\n",
       "      <td>https://tiraet.com/catalog/avtojelektronika/avtomagnitoly/avtomagnitola_sencor_sct_3018mr_fm_am_cd_mp3_wma_usb_aux_4_40w_iso_rca_1din/</td>\n",
       "      <td>2024-07-15</td>\n",
       "      <td>Мало</td>\n",
       "      <td>78604</td>\n",
       "      <td>660.0</td>\n",
       "      <td>NaN</td>\n",
       "      <td>1</td>\n",
       "      <td>T_автотовары</td>\n",
       "      <td>T_автомагнитола</td>\n",
       "      <td>T_автомагнитола</td>\n",
       "      <td>1.0</td>\n",
       "      <td>Sencor</td>\n",
       "      <td>0</td>\n",
       "    </tr>\n",
       "    <tr>\n",
       "      <th>2</th>\n",
       "      <td>Автомагнитола AKAI CA016A-9008U (Bluetooth, FM/AM, MP3, USB/SD, AUX, 4*25W,1DIN) black     4905192533076</td>\n",
       "      <td>https://tiraet.com/catalog/avtojelektronika/avtomagnitoly/avtomagnitola_akai_ca016a_9008u_bluetooth_fm_am_mp3_usb_sd_aux_4_25w_1din_black_4905192533076/</td>\n",
       "      <td>2024-07-15</td>\n",
       "      <td>Достаточно</td>\n",
       "      <td>83899</td>\n",
       "      <td>759.0</td>\n",
       "      <td>NaN</td>\n",
       "      <td>1</td>\n",
       "      <td>T_автотовары</td>\n",
       "      <td>T_автомагнитола</td>\n",
       "      <td>T_автомагнитола</td>\n",
       "      <td>1.0</td>\n",
       "      <td>Akai</td>\n",
       "      <td>0</td>\n",
       "    </tr>\n",
       "    <tr>\n",
       "      <th>3</th>\n",
       "      <td>Автомагнитола Kenwood KDC-130UG (FM/AM, MP3/WAV/WMA/FLAC, CD, USB, AUX, 4*50W, ISO/RCA, 1DIN) black</td>\n",
       "      <td>https://tiraet.com/catalog/avtojelektronika/avtomagnitoly/avtomagnitola_kenwood_kdc_130ug_fm_am_mp3_wav_wma_flac_cd_usb_aux_4_50w_iso_rca_1din_black/</td>\n",
       "      <td>2024-07-15</td>\n",
       "      <td>Мало</td>\n",
       "      <td>78235</td>\n",
       "      <td>1419.0</td>\n",
       "      <td>NaN</td>\n",
       "      <td>1</td>\n",
       "      <td>T_автотовары</td>\n",
       "      <td>T_автомагнитола</td>\n",
       "      <td>T_автомагнитола</td>\n",
       "      <td>1.0</td>\n",
       "      <td>Kenwood</td>\n",
       "      <td>0</td>\n",
       "    </tr>\n",
       "    <tr>\n",
       "      <th>4</th>\n",
       "      <td>Автомагнитола Pioneer MVH-29BT 4x50Вт, MP3/WMA/WAV/FLAC, FM/AM, USB, 1 DIN, Bluetooth, ISO/RCA</td>\n",
       "      <td>https://tiraet.com/catalog/avtojelektronika/avtomagnitoly/avtomagnitola-pioneer-mvh-29bt-4x50vt-mp3wmawavflac-fmam-usb-1-din-bluetooth-isorca/</td>\n",
       "      <td>2024-07-15</td>\n",
       "      <td>Достаточно</td>\n",
       "      <td>63822</td>\n",
       "      <td>1699.0</td>\n",
       "      <td>NaN</td>\n",
       "      <td>1</td>\n",
       "      <td>T_автотовары</td>\n",
       "      <td>T_автомагнитола</td>\n",
       "      <td>T_автомагнитола</td>\n",
       "      <td>1.0</td>\n",
       "      <td>Pioneer</td>\n",
       "      <td>0</td>\n",
       "    </tr>\n",
       "    <tr>\n",
       "      <th>...</th>\n",
       "      <td>...</td>\n",
       "      <td>...</td>\n",
       "      <td>...</td>\n",
       "      <td>...</td>\n",
       "      <td>...</td>\n",
       "      <td>...</td>\n",
       "      <td>...</td>\n",
       "      <td>...</td>\n",
       "      <td>...</td>\n",
       "      <td>...</td>\n",
       "      <td>...</td>\n",
       "      <td>...</td>\n",
       "      <td>...</td>\n",
       "      <td>...</td>\n",
       "    </tr>\n",
       "    <tr>\n",
       "      <th>12619</th>\n",
       "      <td>Элемент питания everActive PRO Alkaline 9V 6LR61 (крона) 10шт/уп. (EV6LR61PRO-10PAK)</td>\n",
       "      <td>https://tiraet.com/catalog/jelektropitanie/batarei-akkumuljatornye/jelementy-pitanija/element_pitaniya_everactive_pro_alkaline_9v_6lr61_krona_10sht_up_ev6lr61pro_10pak/</td>\n",
       "      <td>2024-07-15</td>\n",
       "      <td>Достаточно</td>\n",
       "      <td>77384</td>\n",
       "      <td>299.0</td>\n",
       "      <td>NaN</td>\n",
       "      <td>1</td>\n",
       "      <td>T_электропитание</td>\n",
       "      <td>T_элементы_питания</td>\n",
       "      <td>T_батарейки_аккумуляторы</td>\n",
       "      <td>1.0</td>\n",
       "      <td>everActive</td>\n",
       "      <td>0</td>\n",
       "    </tr>\n",
       "    <tr>\n",
       "      <th>12620</th>\n",
       "      <td>Аккумулятор Panasonic ENELOOP (BK-3MCDE/4BE) AA, 2000mAh, Ni-MH, 1.2V 4шт/уп.   (214421)</td>\n",
       "      <td>https://tiraet.com/catalog/jelektropitanie/batarei-akkumuljatornye/jelementy-pitanija/akkumulyator_panasonic_eneloop_bk_3mcde_4be_aa_2000mah_ni_mh_1_2v_4sht_up_214421/</td>\n",
       "      <td>2024-07-15</td>\n",
       "      <td>Достаточно</td>\n",
       "      <td>78714</td>\n",
       "      <td>260.0</td>\n",
       "      <td>330.0</td>\n",
       "      <td>1</td>\n",
       "      <td>T_электропитание</td>\n",
       "      <td>T_элементы_питания</td>\n",
       "      <td>T_батарейки_аккумуляторы</td>\n",
       "      <td>1.0</td>\n",
       "      <td>Panasonic</td>\n",
       "      <td>0</td>\n",
       "    </tr>\n",
       "    <tr>\n",
       "      <th>12621</th>\n",
       "      <td>Элемент питания Duracell BASIC AA/LR6/MN1500 Alkaline  1.5V 24шт/уп  (DURACELL AA LR6 BL24)</td>\n",
       "      <td>https://tiraet.com/catalog/jelektropitanie/batarei-akkumuljatornye/jelementy-pitanija/element_pitaniya_duracell_basic_aa_lr6_mn1500_alkaline_1_5v_24sht_up_duracell_aa_lr6_bl24/</td>\n",
       "      <td>2024-07-15</td>\n",
       "      <td>Мало</td>\n",
       "      <td>84971</td>\n",
       "      <td>399.6</td>\n",
       "      <td>NaN</td>\n",
       "      <td>1</td>\n",
       "      <td>T_электропитание</td>\n",
       "      <td>T_элементы_питания</td>\n",
       "      <td>T_батарейки_аккумуляторы</td>\n",
       "      <td>1.0</td>\n",
       "      <td>Duracell</td>\n",
       "      <td>0</td>\n",
       "    </tr>\n",
       "    <tr>\n",
       "      <th>12622</th>\n",
       "      <td>Элемент питания Duracell BASIC AAA/LR3/MN2400 Alkaline  1.5V 24шт/уп  (DURACELL BASIC AAA/LR3 BL24)</td>\n",
       "      <td>https://tiraet.com/catalog/jelektropitanie/batarei-akkumuljatornye/jelementy-pitanija/element_pitaniya_duracell_basic_aaa_lr3_mn2400_alkaline_1_5v_24sht_up_duracell_basic_aaa_lr3_bl24/</td>\n",
       "      <td>2024-07-15</td>\n",
       "      <td>Мало</td>\n",
       "      <td>84972</td>\n",
       "      <td>400.3</td>\n",
       "      <td>NaN</td>\n",
       "      <td>1</td>\n",
       "      <td>T_электропитание</td>\n",
       "      <td>T_элементы_питания</td>\n",
       "      <td>T_батарейки_аккумуляторы</td>\n",
       "      <td>1.0</td>\n",
       "      <td>Duracell</td>\n",
       "      <td>0</td>\n",
       "    </tr>\n",
       "    <tr>\n",
       "      <th>12623</th>\n",
       "      <td>Музыкальный центр PANASONIC SC-AKX320GSK (2.0, 450Вт, CD, FM, USB, SD, BT, Д/У) BLACK</td>\n",
       "      <td>https://tiraet.com/catalog/bytovaya/melkaja-bytovaja-tehnika/muzykalnye-centry/muzykalnyy_tsentr_panasonic_sc_akx320gsk_2_0_450vt_cd_fm_usb_sd_bt_d_u_black/</td>\n",
       "      <td>2024-07-15</td>\n",
       "      <td>Мало</td>\n",
       "      <td>87154</td>\n",
       "      <td>3799.0</td>\n",
       "      <td>NaN</td>\n",
       "      <td>1</td>\n",
       "      <td>err_</td>\n",
       "      <td>err_</td>\n",
       "      <td>err_</td>\n",
       "      <td>1.0</td>\n",
       "      <td>Panasonic</td>\n",
       "      <td>0</td>\n",
       "    </tr>\n",
       "  </tbody>\n",
       "</table>\n",
       "<p>12624 rows × 14 columns</p>\n",
       "</div>"
      ],
      "text/plain": [
       "                                                                                                          title  \\\n",
       "0                                                    Автомагнитола NAVITEL RD5  (4x50Вт, mSD, 2*USB, Bluetooth)   \n",
       "1                          Автомагнитола Sencor SCT 3018MR (FM/AM, CD, MP3/WMA, USB, AUX, 4*40W, ISO/RCA, 1DIN)   \n",
       "2      Автомагнитола AKAI CA016A-9008U (Bluetooth, FM/AM, MP3, USB/SD, AUX, 4*25W,1DIN) black     4905192533076   \n",
       "3           Автомагнитола Kenwood KDC-130UG (FM/AM, MP3/WAV/WMA/FLAC, CD, USB, AUX, 4*50W, ISO/RCA, 1DIN) black   \n",
       "4                Автомагнитола Pioneer MVH-29BT 4x50Вт, MP3/WMA/WAV/FLAC, FM/AM, USB, 1 DIN, Bluetooth, ISO/RCA   \n",
       "...                                                                                                         ...   \n",
       "12619                      Элемент питания everActive PRO Alkaline 9V 6LR61 (крона) 10шт/уп. (EV6LR61PRO-10PAK)   \n",
       "12620                  Аккумулятор Panasonic ENELOOP (BK-3MCDE/4BE) AA, 2000mAh, Ni-MH, 1.2V 4шт/уп.   (214421)   \n",
       "12621               Элемент питания Duracell BASIC AA/LR6/MN1500 Alkaline  1.5V 24шт/уп  (DURACELL AA LR6 BL24)   \n",
       "12622       Элемент питания Duracell BASIC AAA/LR3/MN2400 Alkaline  1.5V 24шт/уп  (DURACELL BASIC AAA/LR3 BL24)   \n",
       "12623                     Музыкальный центр PANASONIC SC-AKX320GSK (2.0, 450Вт, CD, FM, USB, SD, BT, Д/У) BLACK   \n",
       "\n",
       "                                                                                                                                                                                            url  \\\n",
       "0                                                                               https://tiraet.com/catalog/avtojelektronika/avtomagnitoly/avtomagnitola_navitel_rd5_4x50vt_msd_2_usb_bluetooth/   \n",
       "1                                                        https://tiraet.com/catalog/avtojelektronika/avtomagnitoly/avtomagnitola_sencor_sct_3018mr_fm_am_cd_mp3_wma_usb_aux_4_40w_iso_rca_1din/   \n",
       "2                                      https://tiraet.com/catalog/avtojelektronika/avtomagnitoly/avtomagnitola_akai_ca016a_9008u_bluetooth_fm_am_mp3_usb_sd_aux_4_25w_1din_black_4905192533076/   \n",
       "3                                         https://tiraet.com/catalog/avtojelektronika/avtomagnitoly/avtomagnitola_kenwood_kdc_130ug_fm_am_mp3_wav_wma_flac_cd_usb_aux_4_50w_iso_rca_1din_black/   \n",
       "4                                                https://tiraet.com/catalog/avtojelektronika/avtomagnitoly/avtomagnitola-pioneer-mvh-29bt-4x50vt-mp3wmawavflac-fmam-usb-1-din-bluetooth-isorca/   \n",
       "...                                                                                                                                                                                         ...   \n",
       "12619                  https://tiraet.com/catalog/jelektropitanie/batarei-akkumuljatornye/jelementy-pitanija/element_pitaniya_everactive_pro_alkaline_9v_6lr61_krona_10sht_up_ev6lr61pro_10pak/   \n",
       "12620                   https://tiraet.com/catalog/jelektropitanie/batarei-akkumuljatornye/jelementy-pitanija/akkumulyator_panasonic_eneloop_bk_3mcde_4be_aa_2000mah_ni_mh_1_2v_4sht_up_214421/   \n",
       "12621          https://tiraet.com/catalog/jelektropitanie/batarei-akkumuljatornye/jelementy-pitanija/element_pitaniya_duracell_basic_aa_lr6_mn1500_alkaline_1_5v_24sht_up_duracell_aa_lr6_bl24/   \n",
       "12622  https://tiraet.com/catalog/jelektropitanie/batarei-akkumuljatornye/jelementy-pitanija/element_pitaniya_duracell_basic_aaa_lr3_mn2400_alkaline_1_5v_24sht_up_duracell_basic_aaa_lr3_bl24/   \n",
       "12623                              https://tiraet.com/catalog/bytovaya/melkaja-bytovaja-tehnika/muzykalnye-centry/muzykalnyy_tsentr_panasonic_sc_akx320gsk_2_0_450vt_cd_fm_usb_sd_bt_d_u_black/   \n",
       "\n",
       "             date availability     id   price  old_price  foto  \\\n",
       "0      2024-07-15   Достаточно  80126   660.0        NaN     1   \n",
       "1      2024-07-15         Мало  78604   660.0        NaN     1   \n",
       "2      2024-07-15   Достаточно  83899   759.0        NaN     1   \n",
       "3      2024-07-15         Мало  78235  1419.0        NaN     1   \n",
       "4      2024-07-15   Достаточно  63822  1699.0        NaN     1   \n",
       "...           ...          ...    ...     ...        ...   ...   \n",
       "12619  2024-07-15   Достаточно  77384   299.0        NaN     1   \n",
       "12620  2024-07-15   Достаточно  78714   260.0      330.0     1   \n",
       "12621  2024-07-15         Мало  84971   399.6        NaN     1   \n",
       "12622  2024-07-15         Мало  84972   400.3        NaN     1   \n",
       "12623  2024-07-15         Мало  87154  3799.0        NaN     1   \n",
       "\n",
       "              _category        _subcategory                    _group  \\\n",
       "0          T_автотовары     T_автомагнитола           T_автомагнитола   \n",
       "1          T_автотовары     T_автомагнитола           T_автомагнитола   \n",
       "2          T_автотовары     T_автомагнитола           T_автомагнитола   \n",
       "3          T_автотовары     T_автомагнитола           T_автомагнитола   \n",
       "4          T_автотовары     T_автомагнитола           T_автомагнитола   \n",
       "...                 ...                 ...                       ...   \n",
       "12619  T_электропитание  T_элементы_питания  T_батарейки_аккумуляторы   \n",
       "12620  T_электропитание  T_элементы_питания  T_батарейки_аккумуляторы   \n",
       "12621  T_электропитание  T_элементы_питания  T_батарейки_аккумуляторы   \n",
       "12622  T_электропитание  T_элементы_питания  T_батарейки_аккумуляторы   \n",
       "12623              err_                err_                      err_   \n",
       "\n",
       "       id_brend  site_brend  error_group  \n",
       "0           1.0     Navitel            0  \n",
       "1           1.0      Sencor            0  \n",
       "2           1.0        Akai            0  \n",
       "3           1.0     Kenwood            0  \n",
       "4           1.0     Pioneer            0  \n",
       "...         ...         ...          ...  \n",
       "12619       1.0  everActive            0  \n",
       "12620       1.0   Panasonic            0  \n",
       "12621       1.0    Duracell            0  \n",
       "12622       1.0    Duracell            0  \n",
       "12623       1.0   Panasonic            0  \n",
       "\n",
       "[12624 rows x 14 columns]"
      ]
     },
     "execution_count": 24,
     "metadata": {},
     "output_type": "execute_result"
    }
   ],
   "source": [
    "df"
   ]
  },
  {
   "cell_type": "code",
   "execution_count": 25,
   "id": "5ac063ea",
   "metadata": {},
   "outputs": [
    {
     "data": {
      "text/plain": [
       "1020"
      ]
     },
     "execution_count": 25,
     "metadata": {},
     "output_type": "execute_result"
    }
   ],
   "source": [
    "len(data)"
   ]
  },
  {
   "cell_type": "code",
   "execution_count": 26,
   "id": "f44fa25c",
   "metadata": {
    "scrolled": true
   },
   "outputs": [
    {
     "name": "stdout",
     "output_type": "stream",
     "text": [
      "T_автотовары\n",
      "['T_автомагнитола' 'T_автопылесос' 'T_авторегистратор' 'T_автохолодильник'\n",
      " 'T_динамики' 'T_компрессоры' 'T_крепления_смартфонов/планшетов'\n",
      " 'T_модуляторы_fm' 'T_навигаторы_gps']\n",
      "----------------------------------------------------------------------------------------------------\n",
      "T_безопасность\n",
      "['T_видеонаблюдение' 'T_домофоны' 'T_монтаж_и_питание'\n",
      " 'T_оборудование_poe' 'T_сигнализация_охранно_пожарная' 'T_скуд'\n",
      " 'T_умный_дом']\n",
      "----------------------------------------------------------------------------------------------------\n",
      "T_бытовая_техника\n",
      "['T_гигиена_здоровье_уход' 'T_климатическая_техника'\n",
      " 'T_крупная_бытовая_техника' 'T_мелкая_бытовая_техника' 'T_телевизоры'\n",
      " 'T_техника_для_кухни' 'T_часы_наручные']\n",
      "----------------------------------------------------------------------------------------------------\n",
      "T_для_дома\n",
      "['T_бытовая_химия' 'T_запасные_части' 'T_инструменты' 'T_крепления'\n",
      " 'T_кухонная_утварь' 'T_мебель' 'T_текстиль' 'T_хозяйственный_инвентарь']\n",
      "----------------------------------------------------------------------------------------------------\n",
      "T_компьютерная_техника\n",
      "['T_аксессуары' 'T_комплектующие' 'T_компьютеры_ноутбуки_планшеты'\n",
      " 'T_манипуляторы' 'T_мониторы' 'T_мультимедиа' 'T_накопители']\n",
      "----------------------------------------------------------------------------------------------------\n",
      "T_мобильные_телефоны\n",
      "['T_смарт_брелки' 'T_смартфоны' 'T_стабилизаторы_селфи_палки'\n",
      " 'T_стекла_пленки' 'T_телефоны' 'T_чехлы']\n",
      "----------------------------------------------------------------------------------------------------\n",
      "T_оргтехника\n",
      "['T_банковское_оборудование' 'T_доски_интерактивные' 'T_ламинаторы'\n",
      " 'T_печатное_оборудование' 'T_проекционное_оборудование' 'T_сканеры'\n",
      " 'T_телефония' 'T_уничтожители']\n",
      "----------------------------------------------------------------------------------------------------\n",
      "T_расходные_материалы\n",
      "['T_бумага_лента_пленка' 'T_запчасти_принтеров_копиров_факсов'\n",
      " 'T_расходные_3d_принтера' 'T_расходные_картриджей_копиров'\n",
      " 'T_расходные_картриджей_лазерных_принтеров_факсов'\n",
      " 'T_расходные_матричных_принтеров' 'T_расходные_струйных_принтеров'\n",
      " 'T_смазки_и_средства_обслуживания']\n",
      "----------------------------------------------------------------------------------------------------\n",
      "T_светотехника\n",
      "['T_бытовое_освещение' 'T_кабельная_продукция' 'T_лампы'\n",
      " 'T_оборудование_электромонтажное' 'T_праздничная_светотехника'\n",
      " 'T_промышленное_офисное_освещение' 'T_разное' 'T_уличное_освещение'\n",
      " 'T_фитосветильники']\n",
      "----------------------------------------------------------------------------------------------------\n",
      "T_сетевое_и_серверное_оборудование\n",
      "['T_адаптеры_powerline_усилители_wifi' 'T_адаптеры_беспроводные'\n",
      " 'T_аксессуары_к_шкафам' 'T_антенны' 'T_грозозащита' 'T_кабель_патчкорд'\n",
      " 'T_карта_сетевая' 'T_коммутаторы' 'T_маршрутизаторы_модемы'\n",
      " 'T_медиаконвертеры' 'T_модули_оптические' 'T_патч_панели'\n",
      " 'T_розетка_коннектор' 'T_серверы' 'T_точки_доступа_мост'\n",
      " 'T_хранилище_сетевое' 'T_шкафы_стойки']\n",
      "----------------------------------------------------------------------------------------------------\n",
      "T_спорт_и_увлечения\n",
      "['T_защита_и_экипировка' 'T_игровые_приставки' 'T_игрушки'\n",
      " 'T_персональный_транспорт' 'T_туризм']\n",
      "----------------------------------------------------------------------------------------------------\n",
      "T_фото_аудио\n",
      "['T_аудиотехника' 'T_фототехника']\n",
      "----------------------------------------------------------------------------------------------------\n",
      "T_электропитание\n",
      "['T_блоки_бесперебойного_питания' 'T_блоки_питания'\n",
      " 'T_зарядные_устройства' 'T_инверторы_напряжения'\n",
      " 'T_стабилизаторы_напряжения' 'T_удлинители' 'T_элементы_питания']\n",
      "----------------------------------------------------------------------------------------------------\n",
      "err_\n",
      "['err_']\n",
      "----------------------------------------------------------------------------------------------------\n"
     ]
    }
   ],
   "source": [
    "for i in df['_category'].unique():\n",
    "    t = df[df['_category']==i]\n",
    "    print(i)\n",
    "    print(t['_subcategory'].unique())\n",
    "    print('-'*100)"
   ]
  },
  {
   "cell_type": "code",
   "execution_count": null,
   "id": "3b63f138",
   "metadata": {},
   "outputs": [],
   "source": []
  },
  {
   "cell_type": "markdown",
   "id": "e8445e1b",
   "metadata": {},
   "source": [
    "# Аналитика акционных товаров"
   ]
  },
  {
   "cell_type": "code",
   "execution_count": 27,
   "id": "d291de15",
   "metadata": {},
   "outputs": [],
   "source": [
    "brend = pd.read_excel('csv/brend.xlsx')"
   ]
  },
  {
   "cell_type": "code",
   "execution_count": 28,
   "id": "3fd62f9c",
   "metadata": {},
   "outputs": [],
   "source": [
    "def lower(x):\n",
    "    return x.lower()\n",
    "brend['names'] = brend['name'].apply(lower)\n",
    "brend_up = brend.name.unique()\n",
    "brend_low = brend.names.unique()"
   ]
  },
  {
   "cell_type": "markdown",
   "id": "6d34081d",
   "metadata": {},
   "source": [
    "Создаем список брендов"
   ]
  },
  {
   "cell_type": "code",
   "execution_count": 29,
   "id": "a6cc999b",
   "metadata": {},
   "outputs": [
    {
     "data": {
      "application/vnd.jupyter.widget-view+json": {
       "model_id": "2fe43a99b89f4d1182332883aa92f7ab",
       "version_major": 2,
       "version_minor": 0
      },
      "text/plain": [
       "  0%|          | 0/12624 [00:00<?, ?it/s]"
      ]
     },
     "metadata": {},
     "output_type": "display_data"
    }
   ],
   "source": [
    "def brends(x):\n",
    "    xx = x.replace('\\xa0', ' ')\n",
    "    xx = xx.split(' ')    \n",
    "    for i in range(len(xx)-1):\n",
    "        if xx[i].lower() in brend_low:\n",
    "            return xx[i].lower()\n",
    "        elif (str(xx[i].lower())+' '+str(xx[i+1].lower())) in brend_low:\n",
    "            return (str(xx[i].lower())+' '+str(xx[i+1].lower()))    \n",
    "    else:    \n",
    "        return 'другой'\n",
    "tqdm.pandas()\n",
    "df['brend'] = df['title'].progress_apply(brends)"
   ]
  },
  {
   "cell_type": "markdown",
   "id": "8adb4a8b",
   "metadata": {},
   "source": [
    "создаем столбец с брендами"
   ]
  },
  {
   "cell_type": "code",
   "execution_count": 30,
   "id": "3b17f090",
   "metadata": {},
   "outputs": [],
   "source": [
    "df['action_sale'] = 0\n",
    "df.loc[df['old_price'] > 0,'action_sale'] = 1"
   ]
  },
  {
   "cell_type": "markdown",
   "id": "5fcbcc3a",
   "metadata": {},
   "source": [
    "Создаем столбец с флагом акции"
   ]
  },
  {
   "cell_type": "code",
   "execution_count": 31,
   "id": "87e44d83",
   "metadata": {},
   "outputs": [],
   "source": [
    "df['sale'] = (100 - ((df['price']*100)/df['old_price'])).round(2) "
   ]
  },
  {
   "cell_type": "markdown",
   "id": "91917f95",
   "metadata": {},
   "source": [
    "создаем столбец показывающий скидку в процентах"
   ]
  },
  {
   "cell_type": "code",
   "execution_count": 32,
   "id": "55f9287e",
   "metadata": {},
   "outputs": [
    {
     "data": {
      "application/vnd.jupyter.widget-view+json": {
       "model_id": "a078e2a295b5419fba4a3b25e440d5a8",
       "version_major": 2,
       "version_minor": 0
      },
      "text/plain": [
       "  0%|          | 0/12624 [00:00<?, ?it/s]"
      ]
     },
     "metadata": {},
     "output_type": "display_data"
    }
   ],
   "source": [
    "def count_group(x):\n",
    "    return df[df['_group']==x]['id'].count()    \n",
    "tqdm.pandas()\n",
    "df['count_group'] = df['_group'].progress_apply(count_group)"
   ]
  },
  {
   "cell_type": "markdown",
   "id": "d7ef1d16",
   "metadata": {},
   "source": [
    "создание столбца с количеством товара в группе"
   ]
  },
  {
   "cell_type": "code",
   "execution_count": 33,
   "id": "6432c479",
   "metadata": {},
   "outputs": [
    {
     "data": {
      "application/vnd.jupyter.widget-view+json": {
       "model_id": "142c881d5cce4af6bfbe647faee278e3",
       "version_major": 2,
       "version_minor": 0
      },
      "text/plain": [
       "  0%|          | 0/12624 [00:00<?, ?it/s]"
      ]
     },
     "metadata": {},
     "output_type": "display_data"
    }
   ],
   "source": [
    "def count_group_presence(x):\n",
    "    return df[(df['availability'].isin(['Мало','Достаточно','Много']))&(df['_group']==x)]['id'].count()   \n",
    "tqdm.pandas()\n",
    "df['activ_count_group'] = df['_group'].progress_apply(count_group_presence)"
   ]
  },
  {
   "cell_type": "markdown",
   "id": "2a6594ce",
   "metadata": {},
   "source": [
    "создание столбца с количеством товара, который есть в наличии, в группе"
   ]
  },
  {
   "cell_type": "code",
   "execution_count": 34,
   "id": "7b33f40d",
   "metadata": {},
   "outputs": [
    {
     "data": {
      "application/vnd.jupyter.widget-view+json": {
       "model_id": "2cf52aad6ce9464e82499bba6c4ffc13",
       "version_major": 2,
       "version_minor": 0
      },
      "text/plain": [
       "  0%|          | 0/12624 [00:00<?, ?it/s]"
      ]
     },
     "metadata": {},
     "output_type": "display_data"
    }
   ],
   "source": [
    "def dif_price(x):    \n",
    "    max_price = df[(df['availability'].isin(['Мало','Достаточно','Много']))&(df['_group']==x)]['price'].max()\n",
    "    min_price = df[(df['availability'].isin(['Мало','Достаточно','Много']))&(df['_group']==x)]['price'].min() \n",
    "    return max_price / min_price\n",
    "tqdm.pandas()\n",
    "df['dif_price'] = df['_group'].progress_apply(dif_price)"
   ]
  },
  {
   "cell_type": "markdown",
   "id": "c88e2d0f",
   "metadata": {},
   "source": [
    "создам столбец с отношением самой дорогой цены в группе к самой дешевой."
   ]
  },
  {
   "cell_type": "code",
   "execution_count": 35,
   "id": "4ab26dc0",
   "metadata": {},
   "outputs": [],
   "source": [
    "df['group_prise'] = df.groupby('_group')['price'].transform(lambda x: pd.cut(x, bins = 4, labels=[\"бюджет\", \"стандарт\", 'дорогой', \"элитный\"]))"
   ]
  },
  {
   "cell_type": "markdown",
   "id": "ea4ee02c",
   "metadata": {},
   "source": [
    "создание столбца с ценовой категорией товара"
   ]
  },
  {
   "cell_type": "code",
   "execution_count": 36,
   "id": "a4e3227a",
   "metadata": {},
   "outputs": [],
   "source": [
    "df = df[['url', 'id', '_category', '_subcategory', '_group', 'brend', 'site_brend', 'id_brend', 'foto',\n",
    "         'title', 'date', 'price', 'old_price', 'action_sale', 'sale', 'group_prise', 'dif_price',\n",
    "         'availability', 'count_group', 'activ_count_group', 'error_group']]"
   ]
  },
  {
   "cell_type": "code",
   "execution_count": 37,
   "id": "7fc96ff3",
   "metadata": {},
   "outputs": [
    {
     "name": "stderr",
     "output_type": "stream",
     "text": [
      "C:\\Users\\user\\AppData\\Local\\Temp\\ipykernel_7220\\2466544301.py:1: SettingWithCopyWarning: \n",
      "A value is trying to be set on a copy of a slice from a DataFrame.\n",
      "Try using .loc[row_indexer,col_indexer] = value instead\n",
      "\n",
      "See the caveats in the documentation: https://pandas.pydata.org/pandas-docs/stable/user_guide/indexing.html#returning-a-view-versus-a-copy\n",
      "  df['tir'] = 1\n"
     ]
    }
   ],
   "source": [
    "df['tir'] = 1"
   ]
  },
  {
   "cell_type": "code",
   "execution_count": 38,
   "id": "ec1c2a4f",
   "metadata": {},
   "outputs": [],
   "source": [
    "df = df.drop_duplicates().reset_index(drop=True)"
   ]
  },
  {
   "cell_type": "code",
   "execution_count": 39,
   "id": "de0e1102",
   "metadata": {},
   "outputs": [],
   "source": [
    "df.to_csv('csv/tiraet_foto_'+dt.datetime.now().strftime('%Y_%m_%d')+'.csv', index=False) "
   ]
  },
  {
   "cell_type": "code",
   "execution_count": 40,
   "id": "3cfbf34d",
   "metadata": {},
   "outputs": [
    {
     "data": {
      "text/html": [
       "<div>\n",
       "<style scoped>\n",
       "    .dataframe tbody tr th:only-of-type {\n",
       "        vertical-align: middle;\n",
       "    }\n",
       "\n",
       "    .dataframe tbody tr th {\n",
       "        vertical-align: top;\n",
       "    }\n",
       "\n",
       "    .dataframe thead th {\n",
       "        text-align: right;\n",
       "    }\n",
       "</style>\n",
       "<table border=\"1\" class=\"dataframe\">\n",
       "  <thead>\n",
       "    <tr style=\"text-align: right;\">\n",
       "      <th></th>\n",
       "      <th>url</th>\n",
       "      <th>id</th>\n",
       "      <th>_category</th>\n",
       "      <th>_subcategory</th>\n",
       "      <th>_group</th>\n",
       "      <th>brend</th>\n",
       "      <th>site_brend</th>\n",
       "      <th>id_brend</th>\n",
       "      <th>foto</th>\n",
       "      <th>title</th>\n",
       "      <th>date</th>\n",
       "      <th>price</th>\n",
       "      <th>old_price</th>\n",
       "      <th>action_sale</th>\n",
       "      <th>sale</th>\n",
       "      <th>group_prise</th>\n",
       "      <th>dif_price</th>\n",
       "      <th>availability</th>\n",
       "      <th>count_group</th>\n",
       "      <th>activ_count_group</th>\n",
       "      <th>error_group</th>\n",
       "      <th>tir</th>\n",
       "    </tr>\n",
       "  </thead>\n",
       "  <tbody>\n",
       "    <tr>\n",
       "      <th>0</th>\n",
       "      <td>https://tiraet.com/catalog/avtojelektronika/avtomagnitoly/avtomagnitola_navitel_rd5_4x50vt_msd_2_usb_bluetooth/</td>\n",
       "      <td>80126</td>\n",
       "      <td>T_автотовары</td>\n",
       "      <td>T_автомагнитола</td>\n",
       "      <td>T_автомагнитола</td>\n",
       "      <td>navitel</td>\n",
       "      <td>Navitel</td>\n",
       "      <td>1.0</td>\n",
       "      <td>1</td>\n",
       "      <td>Автомагнитола NAVITEL RD5  (4x50Вт, mSD, 2*USB, Bluetooth)</td>\n",
       "      <td>2024-07-15</td>\n",
       "      <td>660.0</td>\n",
       "      <td>NaN</td>\n",
       "      <td>0</td>\n",
       "      <td>NaN</td>\n",
       "      <td>бюджет</td>\n",
       "      <td>3.331818</td>\n",
       "      <td>Достаточно</td>\n",
       "      <td>9</td>\n",
       "      <td>9</td>\n",
       "      <td>0</td>\n",
       "      <td>1</td>\n",
       "    </tr>\n",
       "    <tr>\n",
       "      <th>1</th>\n",
       "      <td>https://tiraet.com/catalog/avtojelektronika/avtomagnitoly/avtomagnitola_sencor_sct_3018mr_fm_am_cd_mp3_wma_usb_aux_4_40w_iso_rca_1din/</td>\n",
       "      <td>78604</td>\n",
       "      <td>T_автотовары</td>\n",
       "      <td>T_автомагнитола</td>\n",
       "      <td>T_автомагнитола</td>\n",
       "      <td>sencor</td>\n",
       "      <td>Sencor</td>\n",
       "      <td>1.0</td>\n",
       "      <td>1</td>\n",
       "      <td>Автомагнитола Sencor SCT 3018MR (FM/AM, CD, MP3/WMA, USB, AUX, 4*40W, ISO/RCA, 1DIN)</td>\n",
       "      <td>2024-07-15</td>\n",
       "      <td>660.0</td>\n",
       "      <td>NaN</td>\n",
       "      <td>0</td>\n",
       "      <td>NaN</td>\n",
       "      <td>бюджет</td>\n",
       "      <td>3.331818</td>\n",
       "      <td>Мало</td>\n",
       "      <td>9</td>\n",
       "      <td>9</td>\n",
       "      <td>0</td>\n",
       "      <td>1</td>\n",
       "    </tr>\n",
       "  </tbody>\n",
       "</table>\n",
       "</div>"
      ],
      "text/plain": [
       "                                                                                                                                      url  \\\n",
       "0                         https://tiraet.com/catalog/avtojelektronika/avtomagnitoly/avtomagnitola_navitel_rd5_4x50vt_msd_2_usb_bluetooth/   \n",
       "1  https://tiraet.com/catalog/avtojelektronika/avtomagnitoly/avtomagnitola_sencor_sct_3018mr_fm_am_cd_mp3_wma_usb_aux_4_40w_iso_rca_1din/   \n",
       "\n",
       "      id     _category     _subcategory           _group    brend site_brend  \\\n",
       "0  80126  T_автотовары  T_автомагнитола  T_автомагнитола  navitel    Navitel   \n",
       "1  78604  T_автотовары  T_автомагнитола  T_автомагнитола   sencor     Sencor   \n",
       "\n",
       "   id_brend  foto  \\\n",
       "0       1.0     1   \n",
       "1       1.0     1   \n",
       "\n",
       "                                                                                  title  \\\n",
       "0                            Автомагнитола NAVITEL RD5  (4x50Вт, mSD, 2*USB, Bluetooth)   \n",
       "1  Автомагнитола Sencor SCT 3018MR (FM/AM, CD, MP3/WMA, USB, AUX, 4*40W, ISO/RCA, 1DIN)   \n",
       "\n",
       "         date  price  old_price  action_sale  sale group_prise  dif_price  \\\n",
       "0  2024-07-15  660.0        NaN            0   NaN      бюджет   3.331818   \n",
       "1  2024-07-15  660.0        NaN            0   NaN      бюджет   3.331818   \n",
       "\n",
       "  availability  count_group  activ_count_group  error_group  tir  \n",
       "0   Достаточно            9                  9            0    1  \n",
       "1         Мало            9                  9            0    1  "
      ]
     },
     "execution_count": 40,
     "metadata": {},
     "output_type": "execute_result"
    }
   ],
   "source": [
    "df.head(2)"
   ]
  },
  {
   "cell_type": "code",
   "execution_count": 41,
   "id": "6f990e76",
   "metadata": {
    "scrolled": false
   },
   "outputs": [
    {
     "name": "stdout",
     "output_type": "stream",
     "text": [
      "таблица имеет следующий вид:\n"
     ]
    },
    {
     "data": {
      "text/html": [
       "<div>\n",
       "<style scoped>\n",
       "    .dataframe tbody tr th:only-of-type {\n",
       "        vertical-align: middle;\n",
       "    }\n",
       "\n",
       "    .dataframe tbody tr th {\n",
       "        vertical-align: top;\n",
       "    }\n",
       "\n",
       "    .dataframe thead th {\n",
       "        text-align: right;\n",
       "    }\n",
       "</style>\n",
       "<table border=\"1\" class=\"dataframe\">\n",
       "  <thead>\n",
       "    <tr style=\"text-align: right;\">\n",
       "      <th></th>\n",
       "      <th>url</th>\n",
       "      <th>id</th>\n",
       "      <th>_category</th>\n",
       "      <th>_subcategory</th>\n",
       "      <th>_group</th>\n",
       "      <th>brend</th>\n",
       "      <th>site_brend</th>\n",
       "      <th>id_brend</th>\n",
       "      <th>foto</th>\n",
       "      <th>title</th>\n",
       "      <th>date</th>\n",
       "      <th>price</th>\n",
       "      <th>old_price</th>\n",
       "      <th>action_sale</th>\n",
       "      <th>sale</th>\n",
       "      <th>group_prise</th>\n",
       "      <th>dif_price</th>\n",
       "      <th>availability</th>\n",
       "      <th>count_group</th>\n",
       "      <th>activ_count_group</th>\n",
       "      <th>error_group</th>\n",
       "      <th>tir</th>\n",
       "    </tr>\n",
       "  </thead>\n",
       "  <tbody>\n",
       "    <tr>\n",
       "      <th>0</th>\n",
       "      <td>https://tiraet.com/catalog/avtojelektronika/avtomagnitoly/avtomagnitola_navitel_rd5_4x50vt_msd_2_usb_bluetooth/</td>\n",
       "      <td>80126</td>\n",
       "      <td>T_автотовары</td>\n",
       "      <td>T_автомагнитола</td>\n",
       "      <td>T_автомагнитола</td>\n",
       "      <td>navitel</td>\n",
       "      <td>Navitel</td>\n",
       "      <td>1.0</td>\n",
       "      <td>1</td>\n",
       "      <td>Автомагнитола NAVITEL RD5  (4x50Вт, mSD, 2*USB, Bluetooth)</td>\n",
       "      <td>2024-07-15</td>\n",
       "      <td>660.0</td>\n",
       "      <td>NaN</td>\n",
       "      <td>0</td>\n",
       "      <td>NaN</td>\n",
       "      <td>бюджет</td>\n",
       "      <td>3.331818</td>\n",
       "      <td>Достаточно</td>\n",
       "      <td>9</td>\n",
       "      <td>9</td>\n",
       "      <td>0</td>\n",
       "      <td>1</td>\n",
       "    </tr>\n",
       "    <tr>\n",
       "      <th>1</th>\n",
       "      <td>https://tiraet.com/catalog/avtojelektronika/avtomagnitoly/avtomagnitola_sencor_sct_3018mr_fm_am_cd_mp3_wma_usb_aux_4_40w_iso_rca_1din/</td>\n",
       "      <td>78604</td>\n",
       "      <td>T_автотовары</td>\n",
       "      <td>T_автомагнитола</td>\n",
       "      <td>T_автомагнитола</td>\n",
       "      <td>sencor</td>\n",
       "      <td>Sencor</td>\n",
       "      <td>1.0</td>\n",
       "      <td>1</td>\n",
       "      <td>Автомагнитола Sencor SCT 3018MR (FM/AM, CD, MP3/WMA, USB, AUX, 4*40W, ISO/RCA, 1DIN)</td>\n",
       "      <td>2024-07-15</td>\n",
       "      <td>660.0</td>\n",
       "      <td>NaN</td>\n",
       "      <td>0</td>\n",
       "      <td>NaN</td>\n",
       "      <td>бюджет</td>\n",
       "      <td>3.331818</td>\n",
       "      <td>Мало</td>\n",
       "      <td>9</td>\n",
       "      <td>9</td>\n",
       "      <td>0</td>\n",
       "      <td>1</td>\n",
       "    </tr>\n",
       "    <tr>\n",
       "      <th>2</th>\n",
       "      <td>https://tiraet.com/catalog/avtojelektronika/avtomagnitoly/avtomagnitola_akai_ca016a_9008u_bluetooth_fm_am_mp3_usb_sd_aux_4_25w_1din_black_4905192533076/</td>\n",
       "      <td>83899</td>\n",
       "      <td>T_автотовары</td>\n",
       "      <td>T_автомагнитола</td>\n",
       "      <td>T_автомагнитола</td>\n",
       "      <td>akai</td>\n",
       "      <td>Akai</td>\n",
       "      <td>1.0</td>\n",
       "      <td>1</td>\n",
       "      <td>Автомагнитола AKAI CA016A-9008U (Bluetooth, FM/AM, MP3, USB/SD, AUX, 4*25W,1DIN) black     4905192533076</td>\n",
       "      <td>2024-07-15</td>\n",
       "      <td>759.0</td>\n",
       "      <td>NaN</td>\n",
       "      <td>0</td>\n",
       "      <td>NaN</td>\n",
       "      <td>бюджет</td>\n",
       "      <td>3.331818</td>\n",
       "      <td>Достаточно</td>\n",
       "      <td>9</td>\n",
       "      <td>9</td>\n",
       "      <td>0</td>\n",
       "      <td>1</td>\n",
       "    </tr>\n",
       "    <tr>\n",
       "      <th>3</th>\n",
       "      <td>https://tiraet.com/catalog/avtojelektronika/avtomagnitoly/avtomagnitola_kenwood_kdc_130ug_fm_am_mp3_wav_wma_flac_cd_usb_aux_4_50w_iso_rca_1din_black/</td>\n",
       "      <td>78235</td>\n",
       "      <td>T_автотовары</td>\n",
       "      <td>T_автомагнитола</td>\n",
       "      <td>T_автомагнитола</td>\n",
       "      <td>kenwood</td>\n",
       "      <td>Kenwood</td>\n",
       "      <td>1.0</td>\n",
       "      <td>1</td>\n",
       "      <td>Автомагнитола Kenwood KDC-130UG (FM/AM, MP3/WAV/WMA/FLAC, CD, USB, AUX, 4*50W, ISO/RCA, 1DIN) black</td>\n",
       "      <td>2024-07-15</td>\n",
       "      <td>1419.0</td>\n",
       "      <td>NaN</td>\n",
       "      <td>0</td>\n",
       "      <td>NaN</td>\n",
       "      <td>стандарт</td>\n",
       "      <td>3.331818</td>\n",
       "      <td>Мало</td>\n",
       "      <td>9</td>\n",
       "      <td>9</td>\n",
       "      <td>0</td>\n",
       "      <td>1</td>\n",
       "    </tr>\n",
       "    <tr>\n",
       "      <th>4</th>\n",
       "      <td>https://tiraet.com/catalog/avtojelektronika/avtomagnitoly/avtomagnitola-pioneer-mvh-29bt-4x50vt-mp3wmawavflac-fmam-usb-1-din-bluetooth-isorca/</td>\n",
       "      <td>63822</td>\n",
       "      <td>T_автотовары</td>\n",
       "      <td>T_автомагнитола</td>\n",
       "      <td>T_автомагнитола</td>\n",
       "      <td>pioneer</td>\n",
       "      <td>Pioneer</td>\n",
       "      <td>1.0</td>\n",
       "      <td>1</td>\n",
       "      <td>Автомагнитола Pioneer MVH-29BT 4x50Вт, MP3/WMA/WAV/FLAC, FM/AM, USB, 1 DIN, Bluetooth, ISO/RCA</td>\n",
       "      <td>2024-07-15</td>\n",
       "      <td>1699.0</td>\n",
       "      <td>NaN</td>\n",
       "      <td>0</td>\n",
       "      <td>NaN</td>\n",
       "      <td>дорогой</td>\n",
       "      <td>3.331818</td>\n",
       "      <td>Достаточно</td>\n",
       "      <td>9</td>\n",
       "      <td>9</td>\n",
       "      <td>0</td>\n",
       "      <td>1</td>\n",
       "    </tr>\n",
       "  </tbody>\n",
       "</table>\n",
       "</div>"
      ],
      "text/plain": [
       "                                                                                                                                                        url  \\\n",
       "0                                           https://tiraet.com/catalog/avtojelektronika/avtomagnitoly/avtomagnitola_navitel_rd5_4x50vt_msd_2_usb_bluetooth/   \n",
       "1                    https://tiraet.com/catalog/avtojelektronika/avtomagnitoly/avtomagnitola_sencor_sct_3018mr_fm_am_cd_mp3_wma_usb_aux_4_40w_iso_rca_1din/   \n",
       "2  https://tiraet.com/catalog/avtojelektronika/avtomagnitoly/avtomagnitola_akai_ca016a_9008u_bluetooth_fm_am_mp3_usb_sd_aux_4_25w_1din_black_4905192533076/   \n",
       "3     https://tiraet.com/catalog/avtojelektronika/avtomagnitoly/avtomagnitola_kenwood_kdc_130ug_fm_am_mp3_wav_wma_flac_cd_usb_aux_4_50w_iso_rca_1din_black/   \n",
       "4            https://tiraet.com/catalog/avtojelektronika/avtomagnitoly/avtomagnitola-pioneer-mvh-29bt-4x50vt-mp3wmawavflac-fmam-usb-1-din-bluetooth-isorca/   \n",
       "\n",
       "      id     _category     _subcategory           _group    brend site_brend  \\\n",
       "0  80126  T_автотовары  T_автомагнитола  T_автомагнитола  navitel    Navitel   \n",
       "1  78604  T_автотовары  T_автомагнитола  T_автомагнитола   sencor     Sencor   \n",
       "2  83899  T_автотовары  T_автомагнитола  T_автомагнитола     akai       Akai   \n",
       "3  78235  T_автотовары  T_автомагнитола  T_автомагнитола  kenwood    Kenwood   \n",
       "4  63822  T_автотовары  T_автомагнитола  T_автомагнитола  pioneer    Pioneer   \n",
       "\n",
       "   id_brend  foto  \\\n",
       "0       1.0     1   \n",
       "1       1.0     1   \n",
       "2       1.0     1   \n",
       "3       1.0     1   \n",
       "4       1.0     1   \n",
       "\n",
       "                                                                                                      title  \\\n",
       "0                                                Автомагнитола NAVITEL RD5  (4x50Вт, mSD, 2*USB, Bluetooth)   \n",
       "1                      Автомагнитола Sencor SCT 3018MR (FM/AM, CD, MP3/WMA, USB, AUX, 4*40W, ISO/RCA, 1DIN)   \n",
       "2  Автомагнитола AKAI CA016A-9008U (Bluetooth, FM/AM, MP3, USB/SD, AUX, 4*25W,1DIN) black     4905192533076   \n",
       "3       Автомагнитола Kenwood KDC-130UG (FM/AM, MP3/WAV/WMA/FLAC, CD, USB, AUX, 4*50W, ISO/RCA, 1DIN) black   \n",
       "4            Автомагнитола Pioneer MVH-29BT 4x50Вт, MP3/WMA/WAV/FLAC, FM/AM, USB, 1 DIN, Bluetooth, ISO/RCA   \n",
       "\n",
       "         date   price  old_price  action_sale  sale group_prise  dif_price  \\\n",
       "0  2024-07-15   660.0        NaN            0   NaN      бюджет   3.331818   \n",
       "1  2024-07-15   660.0        NaN            0   NaN      бюджет   3.331818   \n",
       "2  2024-07-15   759.0        NaN            0   NaN      бюджет   3.331818   \n",
       "3  2024-07-15  1419.0        NaN            0   NaN    стандарт   3.331818   \n",
       "4  2024-07-15  1699.0        NaN            0   NaN     дорогой   3.331818   \n",
       "\n",
       "  availability  count_group  activ_count_group  error_group  tir  \n",
       "0   Достаточно            9                  9            0    1  \n",
       "1         Мало            9                  9            0    1  \n",
       "2   Достаточно            9                  9            0    1  \n",
       "3         Мало            9                  9            0    1  \n",
       "4   Достаточно            9                  9            0    1  "
      ]
     },
     "metadata": {},
     "output_type": "display_data"
    },
    {
     "name": "stdout",
     "output_type": "stream",
     "text": [
      "****************************************************************************************************\n",
      "таблица имеет 11716 сторок и 22 столбцов\n",
      "****************************************************************************************************\n",
      "в таблице обнаружено дублекатов:0\n",
      "****************************************************************************************************\n",
      "в таблице обнаружены пропуски в следующих столбцах:\n"
     ]
    },
    {
     "data": {
      "text/plain": [
       "url                      0\n",
       "id                       0\n",
       "_category                0\n",
       "_subcategory             0\n",
       "_group                   0\n",
       "brend                    0\n",
       "site_brend               0\n",
       "id_brend                 0\n",
       "foto                     0\n",
       "title                    0\n",
       "date                     0\n",
       "price                    0\n",
       "old_price            10263\n",
       "action_sale              0\n",
       "sale                 10263\n",
       "group_prise              0\n",
       "dif_price                2\n",
       "availability             0\n",
       "count_group              0\n",
       "activ_count_group        0\n",
       "error_group              0\n",
       "tir                      0\n",
       "dtype: int64"
      ]
     },
     "metadata": {},
     "output_type": "display_data"
    },
    {
     "name": "stdout",
     "output_type": "stream",
     "text": [
      "****************************************************************************************************\n",
      "Эти пропуски составлябт следующее количество в процентах\n"
     ]
    },
    {
     "data": {
      "text/plain": [
       "url                   0.0\n",
       "id                    0.0\n",
       "_category             0.0\n",
       "_subcategory          0.0\n",
       "_group                0.0\n",
       "brend                 0.0\n",
       "site_brend            0.0\n",
       "id_brend              0.0\n",
       "foto                  0.0\n",
       "title                 0.0\n",
       "date                  0.0\n",
       "price                 0.0\n",
       "old_price            87.6\n",
       "action_sale           0.0\n",
       "sale                 87.6\n",
       "group_prise           0.0\n",
       "dif_price             0.0\n",
       "availability          0.0\n",
       "count_group           0.0\n",
       "activ_count_group     0.0\n",
       "error_group           0.0\n",
       "tir                   0.0\n",
       "dtype: float64"
      ]
     },
     "metadata": {},
     "output_type": "display_data"
    },
    {
     "name": "stdout",
     "output_type": "stream",
     "text": [
      "****************************************************************************************************\n",
      "столбцы имеют следующие типы:\n"
     ]
    },
    {
     "data": {
      "text/plain": [
       "url                    object\n",
       "id                      int64\n",
       "_category              object\n",
       "_subcategory           object\n",
       "_group                 object\n",
       "brend                  object\n",
       "site_brend             object\n",
       "id_brend              float64\n",
       "foto                    int64\n",
       "title                  object\n",
       "date                   object\n",
       "price                 float64\n",
       "old_price             float64\n",
       "action_sale             int64\n",
       "sale                  float64\n",
       "group_prise          category\n",
       "dif_price             float64\n",
       "availability           object\n",
       "count_group             int64\n",
       "activ_count_group       int64\n",
       "error_group             int64\n",
       "tir                     int64\n",
       "dtype: object"
      ]
     },
     "metadata": {},
     "output_type": "display_data"
    },
    {
     "name": "stdout",
     "output_type": "stream",
     "text": [
      "****************************************************************************************************\n",
      "названия столбцов переписаны в нижнем регистре, пробелы заменены на нижнее подчеркивание\n",
      "****************************************************************************************************\n",
      "<class 'pandas.core.frame.DataFrame'>\n",
      "RangeIndex: 11716 entries, 0 to 11715\n",
      "Data columns (total 22 columns):\n",
      " #   Column             Non-Null Count  Dtype   \n",
      "---  ------             --------------  -----   \n",
      " 0   url                11716 non-null  object  \n",
      " 1   id                 11716 non-null  int64   \n",
      " 2   _category          11716 non-null  object  \n",
      " 3   _subcategory       11716 non-null  object  \n",
      " 4   _group             11716 non-null  object  \n",
      " 5   brend              11716 non-null  object  \n",
      " 6   site_brend         11716 non-null  object  \n",
      " 7   id_brend           11716 non-null  float64 \n",
      " 8   foto               11716 non-null  int64   \n",
      " 9   title              11716 non-null  object  \n",
      " 10  date               11716 non-null  object  \n",
      " 11  price              11716 non-null  float64 \n",
      " 12  old_price          1453 non-null   float64 \n",
      " 13  action_sale        11716 non-null  int64   \n",
      " 14  sale               1453 non-null   float64 \n",
      " 15  group_prise        11716 non-null  category\n",
      " 16  dif_price          11714 non-null  float64 \n",
      " 17  availability       11716 non-null  object  \n",
      " 18  count_group        11716 non-null  int64   \n",
      " 19  activ_count_group  11716 non-null  int64   \n",
      " 20  error_group        11716 non-null  int64   \n",
      " 21  tir                11716 non-null  int64   \n",
      "dtypes: category(1), float64(5), int64(7), object(9)\n",
      "memory usage: 1.9+ MB\n"
     ]
    },
    {
     "data": {
      "text/plain": [
       "None"
      ]
     },
     "metadata": {},
     "output_type": "display_data"
    }
   ],
   "source": [
    "preprocessing(df)"
   ]
  },
  {
   "cell_type": "code",
   "execution_count": 42,
   "id": "dbf8b202",
   "metadata": {},
   "outputs": [
    {
     "data": {
      "text/plain": [
       "array(['T_автотовары', 'T_безопасность', 'T_бытовая_техника',\n",
       "       'T_для_дома', 'T_компьютерная_техника', 'T_мобильные_телефоны',\n",
       "       'T_оргтехника', 'T_расходные_материалы', 'T_светотехника',\n",
       "       'T_сетевое_и_серверное_оборудование', 'T_спорт_и_увлечения',\n",
       "       'T_фото_аудио', 'T_электропитание', 'err_'], dtype=object)"
      ]
     },
     "execution_count": 42,
     "metadata": {},
     "output_type": "execute_result"
    }
   ],
   "source": [
    "df._category.unique()"
   ]
  },
  {
   "cell_type": "code",
   "execution_count": 43,
   "id": "4e4f214d",
   "metadata": {
    "scrolled": true
   },
   "outputs": [
    {
     "data": {
      "text/plain": [
       "array([81981, 87552, 87551, 87549, 87554, 81922, 82711, 84852, 84851,\n",
       "       84850, 84849, 82416, 84857, 84856, 84855, 84858, 82407, 82406,\n",
       "       82420, 82419, 82418], dtype=int64)"
      ]
     },
     "execution_count": 43,
     "metadata": {},
     "output_type": "execute_result"
    }
   ],
   "source": [
    "df[(df['id_brend']==0)&(df['_category']=='T_мобильные_телефоны')].id.unique()"
   ]
  },
  {
   "cell_type": "code",
   "execution_count": 44,
   "id": "8c6145c0",
   "metadata": {},
   "outputs": [
    {
     "data": {
      "text/plain": [
       "array([1., 0.])"
      ]
     },
     "execution_count": 44,
     "metadata": {},
     "output_type": "execute_result"
    }
   ],
   "source": [
    "df.id_brend.unique()"
   ]
  },
  {
   "cell_type": "code",
   "execution_count": 45,
   "id": "dfba1a3d",
   "metadata": {},
   "outputs": [
    {
     "data": {
      "text/plain": [
       "array([74481, 74612, 61053, 77201, 82201, 44971, 38842, 38843, 38494,\n",
       "       38845, 42825, 39782, 38832, 38492, 39785, 42827, 37386, 37389,\n",
       "       13231, 87739, 87737,  3743, 86844, 78007, 87535, 87534, 87533,\n",
       "       87546, 87547, 87561], dtype=int64)"
      ]
     },
     "execution_count": 45,
     "metadata": {},
     "output_type": "execute_result"
    }
   ],
   "source": [
    "df[(df['foto']==0)&(df['_category']=='T_компьютерная_техника')].id.unique()"
   ]
  },
  {
   "cell_type": "markdown",
   "id": "b7fa1bf9",
   "metadata": {},
   "source": [
    "# Тесты"
   ]
  },
  {
   "cell_type": "code",
   "execution_count": 46,
   "id": "f939866c",
   "metadata": {},
   "outputs": [],
   "source": [
    "url = ['https://tiraet.com/catalog/PHoto--i-video/?PAGEN_1=']"
   ]
  },
  {
   "cell_type": "markdown",
   "id": "8d7d3b78",
   "metadata": {},
   "source": [
    "section-gallery-wrapper__item _active"
   ]
  },
  {
   "cell_type": "code",
   "execution_count": 47,
   "id": "ee9a947c",
   "metadata": {},
   "outputs": [
    {
     "data": {
      "text/plain": [
       "<Response [404]>"
      ]
     },
     "execution_count": 47,
     "metadata": {},
     "output_type": "execute_result"
    }
   ],
   "source": [
    "reqx = requests.get('https://tiraet.com/catalog/Kompjuternaja-mebel/zapasnye-chasti/modul_wi_fi_dlya_konditsionerov_royal_clima_eu_osk105_dlya_serii_mdv_forest_/')\n",
    "reqx"
   ]
  },
  {
   "cell_type": "code",
   "execution_count": 48,
   "id": "ca275e0f",
   "metadata": {},
   "outputs": [
    {
     "data": {
      "text/plain": [
       "<Response [200]>"
      ]
     },
     "execution_count": 48,
     "metadata": {},
     "output_type": "execute_result"
    }
   ],
   "source": [
    "reqx = requests.get('https://tiraet.com/catalog/rashodnye-materialy/zapchasti-dlja-printerov-i-kopirov/zapchasti_print/kontaktnaya_pruzhina_magnitnogo_vala_hp_lj1100_contact_nipple_type/')\n",
    "reqx"
   ]
  },
  {
   "cell_type": "code",
   "execution_count": 49,
   "id": "8dd02de5",
   "metadata": {},
   "outputs": [
    {
     "data": {
      "text/plain": [
       "<Response [200]>"
      ]
     },
     "execution_count": 49,
     "metadata": {},
     "output_type": "execute_result"
    }
   ],
   "source": [
    "reqx = requests.get('https://tiraet.com/catalog/bytovaya/krupnaja-bytovaja-tehnika/pylesosy/pylesos_standart_kpa10e_8_uborka_sukhaya_sistema_tsiklon_filtr_hepa_moshchn_899vt/')\n",
    "reqx"
   ]
  },
  {
   "cell_type": "code",
   "execution_count": 50,
   "id": "a5c796a6",
   "metadata": {},
   "outputs": [],
   "source": [
    "soup = bs(reqx.text, 'html.parser')\n"
   ]
  },
  {
   "cell_type": "code",
   "execution_count": 51,
   "id": "5cfe85dc",
   "metadata": {},
   "outputs": [],
   "source": [
    "elem_brend = soup.findAll('div', class_=\"brand\")"
   ]
  },
  {
   "cell_type": "code",
   "execution_count": 52,
   "id": "1bd8a65a",
   "metadata": {},
   "outputs": [
    {
     "data": {
      "text/plain": [
       "'StandArt'"
      ]
     },
     "execution_count": 52,
     "metadata": {},
     "output_type": "execute_result"
    }
   ],
   "source": [
    "str(elem_brend[0]).split('content=')[1].split('\"')[1]"
   ]
  },
  {
   "cell_type": "code",
   "execution_count": 53,
   "id": "01c8076f",
   "metadata": {},
   "outputs": [
    {
     "name": "stdout",
     "output_type": "stream",
     "text": [
      "1\n"
     ]
    }
   ],
   "source": [
    "if len(elem_brend) == 1:\n",
    "    print (1)\n",
    "else:\n",
    "    print(0)"
   ]
  },
  {
   "cell_type": "code",
   "execution_count": 54,
   "id": "6d896a92",
   "metadata": {},
   "outputs": [
    {
     "data": {
      "text/plain": [
       "1"
      ]
     },
     "execution_count": 54,
     "metadata": {},
     "output_type": "execute_result"
    }
   ],
   "source": [
    "len(elem_brend)"
   ]
  },
  {
   "cell_type": "code",
   "execution_count": 55,
   "id": "88f11455",
   "metadata": {},
   "outputs": [
    {
     "data": {
      "text/plain": [
       "'<div class=\"brand\">\\n<meta content=\"StandArt\" itemprop=\"brand\"/>\\n<a class=\"brand__link dark_link\" href=\"/info/brands/standart/\">StandArt</a>\\n</div>'"
      ]
     },
     "execution_count": 55,
     "metadata": {},
     "output_type": "execute_result"
    }
   ],
   "source": [
    "str(elem_brend[0])"
   ]
  },
  {
   "cell_type": "code",
   "execution_count": null,
   "id": "84232822",
   "metadata": {},
   "outputs": [],
   "source": []
  },
  {
   "cell_type": "code",
   "execution_count": null,
   "id": "d812752b",
   "metadata": {},
   "outputs": [],
   "source": []
  },
  {
   "cell_type": "code",
   "execution_count": null,
   "id": "86b121d7",
   "metadata": {},
   "outputs": [],
   "source": []
  }
 ],
 "metadata": {
  "kernelspec": {
   "display_name": "Python 3 (ipykernel)",
   "language": "python",
   "name": "python3"
  },
  "language_info": {
   "codemirror_mode": {
    "name": "ipython",
    "version": 3
   },
   "file_extension": ".py",
   "mimetype": "text/x-python",
   "name": "python",
   "nbconvert_exporter": "python",
   "pygments_lexer": "ipython3",
   "version": "3.11.4"
  }
 },
 "nbformat": 4,
 "nbformat_minor": 5
}
