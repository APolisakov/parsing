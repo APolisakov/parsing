{
 "cells": [
  {
   "cell_type": "code",
   "execution_count": 1,
   "id": "f84e78a4",
   "metadata": {},
   "outputs": [],
   "source": [
    "import pandas as pd\n",
    "import numpy as np\n",
    "import requests\n",
    "from bs4 import BeautifulSoup as bs\n",
    "import re\n",
    "from tqdm.notebook import trange, tqdm\n",
    "from tqdm.gui import tqdm as tqdm_gui\n",
    "from IPython.display import display\n",
    "import datetime as dt\n",
    "import seaborn as sns\n",
    "import matplotlib.pyplot as plt"
   ]
  },
  {
   "cell_type": "markdown",
   "id": "50e2394a",
   "metadata": {},
   "source": [
    "импорт библиотек"
   ]
  },
  {
   "cell_type": "code",
   "execution_count": 2,
   "id": "40b4318c",
   "metadata": {},
   "outputs": [],
   "source": [
    "import warnings\n",
    "warnings.filterwarnings('ignore')"
   ]
  },
  {
   "cell_type": "markdown",
   "id": "283df9be",
   "metadata": {},
   "source": [
    "отключение ворнингов"
   ]
  },
  {
   "cell_type": "code",
   "execution_count": 3,
   "id": "db0e2f9e",
   "metadata": {},
   "outputs": [],
   "source": [
    "pd.set_option('display.max_colwidth', 1000)\n",
    "pd.set_option('display.max_columns', 1000)\n",
    "pd.set_option('display.max_rows', 1000)"
   ]
  },
  {
   "cell_type": "markdown",
   "id": "76c6f69a",
   "metadata": {},
   "source": [
    "задание параметров таблиц"
   ]
  },
  {
   "cell_type": "code",
   "execution_count": 4,
   "id": "caf0dc2d",
   "metadata": {},
   "outputs": [],
   "source": [
    "def find_id(x):\n",
    "    xxx = x.find('span', class_=\"ty-control-group__item\").text  \n",
    "    return xxx"
   ]
  },
  {
   "cell_type": "markdown",
   "id": "df262d57",
   "metadata": {},
   "source": [
    "функция создания столбца с кодом товара"
   ]
  },
  {
   "cell_type": "code",
   "execution_count": 5,
   "id": "b416d8fa",
   "metadata": {},
   "outputs": [],
   "source": [
    "def find_availability(t):\n",
    "    xxx = (t.find('a', class_=\"ty-control-group product-list-field cm-external-click\")\n",
    "           .text.replace('\\ue924','').replace('\\ue86c','').replace('\\n',''))\n",
    "    return xxx  "
   ]
  },
  {
   "cell_type": "markdown",
   "id": "6ee99509",
   "metadata": {},
   "source": [
    "функция создания столбца с парсингом наличия товара"
   ]
  },
  {
   "cell_type": "code",
   "execution_count": 6,
   "id": "e6d33de3",
   "metadata": {},
   "outputs": [],
   "source": [
    "def find_title(t):\n",
    "    xxx = t.find('a', class_=\"product-title\").text\n",
    "    return xxx"
   ]
  },
  {
   "cell_type": "markdown",
   "id": "e55649ab",
   "metadata": {},
   "source": [
    "функция создающая столбец с названием товара"
   ]
  },
  {
   "cell_type": "code",
   "execution_count": 7,
   "id": "56b59bb4",
   "metadata": {},
   "outputs": [],
   "source": [
    "def find_price(t):\n",
    "    xxx = t.find('span', class_=\"ty-price-num\").text.replace(u'\\xa0',u'')\n",
    "    return xxx"
   ]
  },
  {
   "cell_type": "markdown",
   "id": "f1152316",
   "metadata": {},
   "source": [
    "функция создающая столбец с продажной ценой товара"
   ]
  },
  {
   "cell_type": "code",
   "execution_count": 8,
   "id": "e2e3e51e",
   "metadata": {},
   "outputs": [],
   "source": [
    "def find_old_price(t):\n",
    "    try:\n",
    "        xxx = t.find('span', class_=\"ty-strike\").text.replace(u'\\xa0',u'').replace(u'руб',u'')\n",
    "        return xxx\n",
    "    except:\n",
    "        return np.NaN"
   ]
  },
  {
   "cell_type": "markdown",
   "id": "1382201a",
   "metadata": {},
   "source": [
    "функция созжающая столбец с предидущей ценой для акционного товара"
   ]
  },
  {
   "cell_type": "code",
   "execution_count": 9,
   "id": "aa448515",
   "metadata": {},
   "outputs": [],
   "source": [
    "def find_url(t):\n",
    "    xxx = t.find('a', class_=\"abt-single-image\")['href']\n",
    "    return xxx"
   ]
  },
  {
   "cell_type": "markdown",
   "id": "6eca4a17",
   "metadata": {},
   "source": [
    "Функция создающая столбец с урл адресом товара"
   ]
  },
  {
   "cell_type": "code",
   "execution_count": 10,
   "id": "085fc63b",
   "metadata": {},
   "outputs": [],
   "source": [
    "def preprocessing(x):\n",
    "    print(f'таблица имеет следующий вид:')\n",
    "    display(x.head())\n",
    "    print('*'*100)\n",
    "    print(f'таблица имеет {x.shape[0]} сторок и {x.shape[1]} столбцов')\n",
    "    print('*'*100)\n",
    "    print(f'в таблице обнаружено дублекатов:{x.duplicated().sum()}')\n",
    "    print('*'*100)\n",
    "    print('в таблице обнаружены пропуски в следующих столбцах:')\n",
    "    display(x.isna().sum())\n",
    "    print('*'*100)\n",
    "    print('Эти пропуски составлябт следующее количество в процентах')\n",
    "    display((x.isna().mean()* 100).round(1))\n",
    "    print('*'*100)\n",
    "    print('столбцы имеют следующие типы:')\n",
    "    display(x.dtypes)\n",
    "    x.columns = [y.lower().replace(' ', '_') for y in x.columns.values] \n",
    "    print('*'*100)\n",
    "    print('названия столбцов переписаны в нижнем регистре, пробелы заменены на нижнее подчеркивание')\n",
    "    print('*'*100)\n",
    "    display(x.info())"
   ]
  },
  {
   "cell_type": "markdown",
   "id": "938825e4",
   "metadata": {},
   "source": [
    "Функция для проверки датафрейма(вид дублекаты пропуски)"
   ]
  },
  {
   "cell_type": "code",
   "execution_count": 11,
   "id": "f5e1f4c1",
   "metadata": {},
   "outputs": [],
   "source": [
    "def parsing_2(url):\n",
    "    data = pd.DataFrame(columns=['url', 'id', 'date', 'availability', 'title', 'price', 'old_price'])\n",
    "    for i in tqdm(url):        \n",
    "        q = 1\n",
    "        while q>0:        \n",
    "            reqx = requests.get(i + str(q))\n",
    "            soup = bs(reqx.text, 'html.parser')\n",
    "            datax = pd.DataFrame({'url':pd.Series(soup.findAll('div', class_='ypi-grid-list__item_body'),dtype = 'object')})\n",
    "            data = pd.concat([data, datax], ignore_index=True)\n",
    "            if len(list(soup.findAll('div', class_='ypi-grid-list__item_body'))) > 0:\n",
    "                q = q + 1\n",
    "            else:\n",
    "                q = 0\n",
    "    data['id'] = data['url'].apply(find_id)\n",
    "    data['date'] = pd.to_datetime('today').normalize()\n",
    "    data['availability'] = data['url'].apply(find_availability)\n",
    "    data['title'] = data['url'].apply(find_title)\n",
    "    data['price'] = data['url'].apply(find_price)\n",
    "    data['old_price'] = data['url'].apply(find_old_price)\n",
    "    data['url'] = data['url'].apply(find_url)\n",
    "    data['price'] = data['price'].astype(float)\n",
    "    data.loc[data['old_price'] == '','old_price'] = np.nan\n",
    "    data['old_price'] = data['old_price'].astype(float)\n",
    "    return data"
   ]
  },
  {
   "cell_type": "markdown",
   "id": "ce9e3f74",
   "metadata": {},
   "source": [
    "Функция предварительного парсинга сайта, которая проходит по всем страницам в урл адресах переменной `all_url` и создает датафрейм в котором храняться: урл адреса товаров, индентефикатор товаров, дата предварительного парсинга товара, наличия товара, названия товара, цены товара, старой цены для акционного товара."
   ]
  },
  {
   "cell_type": "markdown",
   "id": "ccf8f7a9",
   "metadata": {},
   "source": [
    "# Парсинг цен кодов товара и url"
   ]
  },
  {
   "cell_type": "code",
   "execution_count": 12,
   "id": "9c941385",
   "metadata": {},
   "outputs": [],
   "source": [
    "all_url = ['https://hi-tech.md/televizory-i-elektronika/page-',\n",
    "           'https://hi-tech.md/bytovaya-tehnika/page-',\n",
    "           'https://hi-tech.md/kompyuternaya-tehnika/page-',\n",
    "           'https://hi-tech.md/mebel-tekstil/kompyuternaya-mebel/ofisnye-kresla-i-stulya/komp.-kresla/page-',\n",
    "           'https://hi-tech.md/instrumenty-i-oborudovanie/elektroinstrument/page-',\n",
    "           'https://hi-tech.md/tovary-dlya-doma/page-'\n",
    "          ]"
   ]
  },
  {
   "cell_type": "markdown",
   "id": "c74534c5",
   "metadata": {},
   "source": [
    "all_url = ['https://hi-tech.md/televizory-i-elektronika/page-']"
   ]
  },
  {
   "cell_type": "markdown",
   "id": "a5a95a6d",
   "metadata": {},
   "source": [
    "all_url = ['https://hi-tech.md/bytovaya-tehnika/page-']"
   ]
  },
  {
   "cell_type": "markdown",
   "id": "96722603",
   "metadata": {},
   "source": [
    "all_url = ['https://hi-tech.md/kompyuternaya-tehnika/page-']"
   ]
  },
  {
   "cell_type": "markdown",
   "id": "e27255f9",
   "metadata": {},
   "source": [
    "all_url = ['https://hi-tech.md/mebel-tekstil/kompyuternaya-mebel/ofisnye-kresla-i-stulya/komp.-kresla/page-']"
   ]
  },
  {
   "cell_type": "markdown",
   "id": "6305750e",
   "metadata": {},
   "source": [
    "all_url = ['https://hi-tech.md/instrumenty-i-oborudovanie/elektroinstrument/page-']"
   ]
  },
  {
   "cell_type": "markdown",
   "id": "7d1cf379",
   "metadata": {},
   "source": [
    "all_url = ['https://hi-tech.md/tovary-dlya-doma/page-']"
   ]
  },
  {
   "cell_type": "markdown",
   "id": "3adeb90c",
   "metadata": {},
   "source": [
    "переменная со списком ссылок на сайт для парсинга"
   ]
  },
  {
   "cell_type": "code",
   "execution_count": null,
   "id": "064954c3",
   "metadata": {
    "scrolled": false
   },
   "outputs": [
    {
     "data": {
      "application/vnd.jupyter.widget-view+json": {
       "model_id": "0b6872b10f2a46c09952c61eb2883300",
       "version_major": 2,
       "version_minor": 0
      },
      "text/plain": [
       "  0%|          | 0/6 [00:00<?, ?it/s]"
      ]
     },
     "metadata": {},
     "output_type": "display_data"
    }
   ],
   "source": [
    "df = parsing_2(all_url)\n",
    "df"
   ]
  },
  {
   "cell_type": "markdown",
   "id": "41a328c8",
   "metadata": {},
   "source": [
    "предварительный парсинг"
   ]
  },
  {
   "cell_type": "code",
   "execution_count": null,
   "id": "f7dcb3c2",
   "metadata": {
    "scrolled": true
   },
   "outputs": [],
   "source": [
    "df = df.drop_duplicates().reset_index(drop=True)"
   ]
  },
  {
   "cell_type": "markdown",
   "id": "fee03afb",
   "metadata": {},
   "source": [
    "удаление дублекатов"
   ]
  },
  {
   "cell_type": "code",
   "execution_count": null,
   "id": "b1fc258d",
   "metadata": {},
   "outputs": [],
   "source": [
    "df.to_csv('csv/hi_tech_test_'+dt.datetime.now().strftime('%Y_%m_%d')+'.csv', index=False)"
   ]
  },
  {
   "cell_type": "markdown",
   "id": "77757780",
   "metadata": {},
   "source": [
    "создание резервной копии парсинга данных"
   ]
  },
  {
   "cell_type": "code",
   "execution_count": null,
   "id": "598938fa",
   "metadata": {},
   "outputs": [],
   "source": [
    "df = pd.read_csv('csv/hi_tech_test_'+dt.datetime.now().strftime('%Y_%m_%d')+'.csv')"
   ]
  },
  {
   "cell_type": "code",
   "execution_count": null,
   "id": "b41c7edb",
   "metadata": {},
   "outputs": [],
   "source": [
    "preprocessing(df)"
   ]
  },
  {
   "cell_type": "code",
   "execution_count": null,
   "id": "028404de",
   "metadata": {},
   "outputs": [],
   "source": [
    "hai_group = pd.read_csv('csv/ahay_group.csv')"
   ]
  },
  {
   "cell_type": "code",
   "execution_count": null,
   "id": "cf21c54b",
   "metadata": {},
   "outputs": [],
   "source": [
    "df = df.merge(hai_group, how='left', on='id')"
   ]
  },
  {
   "cell_type": "code",
   "execution_count": null,
   "id": "40405905",
   "metadata": {},
   "outputs": [],
   "source": [
    "df_new = df[(df['_category'].isna()) | (df['_subcategory'].isna()) | (df['_group'].isna()) | (df['_subgroup'].isna())]"
   ]
  },
  {
   "cell_type": "code",
   "execution_count": null,
   "id": "802ec40e",
   "metadata": {},
   "outputs": [],
   "source": [
    "df = df[~((df['_category'].isna()) | (df['_subcategory'].isna()) | (df['_group'].isna()) | (df['_subgroup'].isna()))]"
   ]
  },
  {
   "cell_type": "markdown",
   "id": "7187aa58",
   "metadata": {},
   "source": [
    "загрузка резервной копии парсинга данных"
   ]
  },
  {
   "cell_type": "markdown",
   "id": "66ebd550",
   "metadata": {},
   "source": [
    "df = df.sample(30)"
   ]
  },
  {
   "cell_type": "markdown",
   "id": "cc765b94",
   "metadata": {},
   "source": [
    "тестовое уменьшение таблици"
   ]
  },
  {
   "cell_type": "code",
   "execution_count": null,
   "id": "a8992e7b",
   "metadata": {},
   "outputs": [],
   "source": [
    "def xxx(x):\n",
    "    reqx = requests.get(x)\n",
    "    soup = bs(reqx.text, 'html.parser')    \n",
    "    elem_2 = soup.findAll('div', class_='ty-breadcrumbs clearfix')\n",
    "    name = soup.findAll('span', class_='ty-breadcrumbs__current')\n",
    "            \n",
    "    try:\n",
    "        names = name[0].text\n",
    "        name_group = elem_2[0].text.replace('/'+str(names),'').replace('\\n','')\n",
    "        err = 'err'\n",
    "    except:\n",
    "        names = 'Noname'\n",
    "        name_group = 'Noname/Noname/Noname/Noname/Noname/Noname'\n",
    "        err = 'Noname_err'\n",
    "    try:\n",
    "        len_name = len((elem_2[0].text.replace('/'+str(names),'').replace('\\n','')).split('/'))\n",
    "    except:\n",
    "        len_name = 1\n",
    "        \n",
    "    try:\n",
    "        if len_name <= 1:\n",
    "            d_14 = 'err1'\n",
    "            d_15 = 'err1'\n",
    "            d_16 = 'err1'\n",
    "            d_17 = 'err1'\n",
    "        elif len_name <= 2:\n",
    "            d_14 = 'H_'+(name_group.split(\"/\")[1]).replace(',','').replace(' ','_').replace('-','_').lower()\n",
    "            d_15 = 'H_'+(name_group.split(\"/\")[1]).replace(',','').replace(' ','_').replace('-','_').lower()\n",
    "            d_16 = 'H_'+(name_group.split(\"/\")[1]).replace(',','').replace(' ','_').replace('-','_').lower()\n",
    "            d_17 = 'H_'+(name_group.split(\"/\")[1]).replace(',','').replace(' ','_').replace('-','_').lower()      \n",
    "        elif len_name <= 3:\n",
    "            d_14 = 'H_'+(name_group.split(\"/\")[1]).replace(',','').replace(' ','_').replace('-','_').lower()\n",
    "            d_15 = 'H_'+(name_group.split(\"/\")[2]).replace(',','').replace(' ','_').replace('-','_').lower()\n",
    "            d_16 = 'H_'+(name_group.split(\"/\")[2]).replace(',','').replace(' ','_').replace('-','_').lower()\n",
    "            d_17 = 'H_'+(name_group.split(\"/\")[2]).replace(',','').replace(' ','_').replace('-','_').lower()\n",
    "        elif len_name == 4:\n",
    "            d_14 = 'H_'+(name_group.split(\"/\")[1]).replace(',','').replace(' ','_').replace('-','_').lower()\n",
    "            d_15 = 'H_'+(name_group.split(\"/\")[2]).replace(',','').replace(' ','_').replace('-','_').lower()\n",
    "            d_16 = 'H_'+(name_group.split(\"/\")[3]).replace(',','').replace(' ','_').replace('-','_').lower() \n",
    "            d_17 = 'H_'+(name_group.split(\"/\")[3]).replace(',','').replace(' ','_').replace('-','_').lower()\n",
    "        elif len_name > 4:\n",
    "            d_14 = 'H_'+(name_group.split(\"/\")[1]).replace(',','').replace(' ','_').replace('-','_').lower()\n",
    "            d_15 = 'H_'+(name_group.split(\"/\")[2]).replace(',','').replace(' ','_').replace('-','_').lower()\n",
    "            d_16 = 'H_'+(name_group.split(\"/\")[3]).replace(',','').replace(' ','_').replace('-','_').lower() \n",
    "            d_17 = 'H_'+s(name_group.split(\"/\")[4]).replace(',','').replace(' ','_').replace('-','_').lower()\n",
    "    except:\n",
    "        d_14 = 'err0'\n",
    "        d_15 = 'err0'\n",
    "        d_16 = 'err0'\n",
    "        d_17 = 'err0'\n",
    "        \n",
    "    return pd.Series([(d_14), (d_15), (d_16), (d_17)])"
   ]
  },
  {
   "cell_type": "markdown",
   "id": "52ea1dff",
   "metadata": {},
   "source": [
    "Функция основного парсинга, которая для каждой строки по урл адресу парсит и находит наличие товара в магахинах а также группу товара, категорию товара, подкатегорию товата и количество подкатегорий товара"
   ]
  },
  {
   "cell_type": "markdown",
   "id": "c2aff57b",
   "metadata": {},
   "source": [
    "# Парсинг групп товара"
   ]
  },
  {
   "cell_type": "code",
   "execution_count": null,
   "id": "ab37478d",
   "metadata": {},
   "outputs": [],
   "source": [
    "tqdm.pandas() \n",
    "df_new[['_category','_subcategory','_group','_subgroup']] = df_new['url'].progress_apply(xxx)"
   ]
  },
  {
   "cell_type": "code",
   "execution_count": null,
   "id": "c1ce5bd5",
   "metadata": {},
   "outputs": [],
   "source": []
  },
  {
   "cell_type": "code",
   "execution_count": null,
   "id": "a6db858f",
   "metadata": {},
   "outputs": [],
   "source": [
    "data = df_new[~((df_new['_category']=='err1') | (df_new['_category']=='err0'))].reset_index(drop=True)\n",
    "data = data[['id', '_category','_subcategory','_group', '_subgroup']]\n",
    "data = data.sort_values(['_category','_subcategory', '_group', '_subgroup'])"
   ]
  },
  {
   "cell_type": "code",
   "execution_count": null,
   "id": "17e960cf",
   "metadata": {},
   "outputs": [],
   "source": [
    "hai_group = pd.concat([hai_group, data], ignore_index=True).sort_values(['_category','_subcategory', '_group', '_subgroup']).reset_index(drop=True)\n",
    "hai_group.to_csv('csv/ahay_group.csv', index=False)  "
   ]
  },
  {
   "cell_type": "code",
   "execution_count": null,
   "id": "6adcdd1e",
   "metadata": {},
   "outputs": [],
   "source": [
    "df = pd.concat([df, df_new], ignore_index=True).sort_values(['_category','_subcategory', '_group', '_subgroup']).reset_index(drop=True)"
   ]
  },
  {
   "cell_type": "code",
   "execution_count": null,
   "id": "079ae453",
   "metadata": {},
   "outputs": [],
   "source": []
  },
  {
   "cell_type": "markdown",
   "id": "982728f2",
   "metadata": {},
   "source": [
    "Основной парсинг"
   ]
  },
  {
   "cell_type": "code",
   "execution_count": null,
   "id": "945119bc",
   "metadata": {},
   "outputs": [],
   "source": [
    "df._category.unique()"
   ]
  },
  {
   "cell_type": "code",
   "execution_count": null,
   "id": "2c53ef86",
   "metadata": {},
   "outputs": [],
   "source": [
    "df._subcategory.unique()"
   ]
  },
  {
   "cell_type": "code",
   "execution_count": null,
   "id": "97b79ee9",
   "metadata": {},
   "outputs": [],
   "source": [
    "df._group.unique()"
   ]
  },
  {
   "cell_type": "code",
   "execution_count": null,
   "id": "bdc660e9",
   "metadata": {},
   "outputs": [],
   "source": [
    "df[df['_category']=='err1'].id.count()"
   ]
  },
  {
   "cell_type": "code",
   "execution_count": null,
   "id": "51857ea8",
   "metadata": {},
   "outputs": [],
   "source": [
    "df[df['_category']=='err0'].id.count()"
   ]
  },
  {
   "cell_type": "code",
   "execution_count": null,
   "id": "0ff727b3",
   "metadata": {},
   "outputs": [],
   "source": [
    "df[df['_category']=='err1']"
   ]
  },
  {
   "cell_type": "code",
   "execution_count": null,
   "id": "742ea1d9",
   "metadata": {},
   "outputs": [],
   "source": [
    "df[df['_category']=='err0']"
   ]
  },
  {
   "cell_type": "code",
   "execution_count": null,
   "id": "15117f36",
   "metadata": {},
   "outputs": [],
   "source": [
    "preprocessing(df)"
   ]
  },
  {
   "cell_type": "code",
   "execution_count": null,
   "id": "56e68878",
   "metadata": {},
   "outputs": [],
   "source": [
    "df.to_csv('csv/hi_tech_test_'+dt.datetime.now().strftime('%Y_%m_%d')+'.csv', index=False)"
   ]
  },
  {
   "cell_type": "markdown",
   "id": "ad0bf190",
   "metadata": {},
   "source": [
    "создание резервной копии парсинга данных"
   ]
  },
  {
   "cell_type": "code",
   "execution_count": null,
   "id": "e636fb9f",
   "metadata": {},
   "outputs": [],
   "source": [
    "df = pd.read_csv('csv/hi_tech_test_'+dt.datetime.now().strftime('%Y_%m_%d')+'.csv')"
   ]
  },
  {
   "cell_type": "markdown",
   "id": "4c5e22f3",
   "metadata": {},
   "source": [
    "загрузка резервной копии парсинга данных"
   ]
  },
  {
   "cell_type": "code",
   "execution_count": null,
   "id": "e79ad13a",
   "metadata": {},
   "outputs": [],
   "source": [
    "df.head(2)"
   ]
  },
  {
   "cell_type": "code",
   "execution_count": null,
   "id": "e007213d",
   "metadata": {},
   "outputs": [],
   "source": [
    "df['error_group'] = 0\n",
    "df.loc[df['_subgroup'].isna(), 'error_group'] = 1\n",
    "df.loc[df['_subgroup']=='err0', 'error_group'] = 1\n",
    "df.loc[df['_subgroup']=='err1', 'error_group'] = 1"
   ]
  },
  {
   "cell_type": "markdown",
   "id": "c6475ce8",
   "metadata": {},
   "source": [
    "Создание столбцов с флагом ошибки для товаров, для которых нет данных по остаткам хотябы в одном магазине"
   ]
  },
  {
   "cell_type": "code",
   "execution_count": null,
   "id": "bd3fe729",
   "metadata": {},
   "outputs": [],
   "source": [
    "df.loc[df['error_group']==1 , ['_category',\n",
    "       '_subcategory', '_group', '_subgroup']] = 'H_no_group'"
   ]
  },
  {
   "cell_type": "markdown",
   "id": "95bf7a26",
   "metadata": {},
   "source": [
    "удаление наличия товара в магазинах и наименовании группы если у товара есть ошибки в этих данны"
   ]
  },
  {
   "cell_type": "markdown",
   "id": "76eb939c",
   "metadata": {},
   "source": [
    "Изменение типов данных столбцов наличия товара в определенном магазине на тип данных `float`  и создания столбцов по наличию товара в магазинах городов"
   ]
  },
  {
   "cell_type": "code",
   "execution_count": null,
   "id": "2cc0d63f",
   "metadata": {},
   "outputs": [],
   "source": [
    "df = df[['url', 'id', '_category', '_subcategory', '_group', '_subgroup', 'title',\n",
    "               'date',   'price', 'old_price', 'availability', 'error_group', ]]"
   ]
  },
  {
   "cell_type": "markdown",
   "id": "dbe487ad",
   "metadata": {},
   "source": [
    "изменение порядка располажения столбцов"
   ]
  },
  {
   "cell_type": "code",
   "execution_count": null,
   "id": "bfa9ccac",
   "metadata": {},
   "outputs": [],
   "source": [
    "preprocessing(df)"
   ]
  },
  {
   "cell_type": "markdown",
   "id": "23ddbd1e",
   "metadata": {},
   "source": [
    "просмотр данных после парсинга"
   ]
  },
  {
   "cell_type": "markdown",
   "id": "1c22a8c4",
   "metadata": {},
   "source": [
    "# Группировка товара"
   ]
  },
  {
   "cell_type": "markdown",
   "id": "01f53120",
   "metadata": {},
   "source": [
    "- разобраться с креслами в ногруп"
   ]
  },
  {
   "cell_type": "code",
   "execution_count": null,
   "id": "cec421d4",
   "metadata": {},
   "outputs": [],
   "source": [
    "df.loc[df['_category']=='H_товар_без_акции', '_category'] = 'H_no_group'\n",
    "df.loc[df['_category']=='H_товар_по_акции', '_category'] = 'H_no_group'\n",
    "df.loc[df['_subcategory']=='H_мультимедиа', '_subcategory'] = 'H_аудиосистемы'\n",
    "df.loc[df['_group']=='H_акустические_системы', '_group'] = 'H_акустика'\n",
    "df.loc[df['_group']=='H_музыкальная_техника', '_group'] = 'H_акустика'\n",
    "df.loc[df['_subcategory']=='H_умный_дом_с_яндекс','_subcategory'] = 'H_аудиосистемы'\n",
    "df.loc[df['_group']=='H_яндекс_станции', '_group'] = 'H_акустика'\n",
    "df.loc[df['_group']=='H_airpods', '_subcategory'] = 'H_аудиосистемы'\n",
    "df.loc[df['_group']=='H_airpods', '_group'] = 'H_наушники'\n",
    "df.loc[df['_group']=='H_apple_watch', '_group'] = 'H_часы_и_браслеты'\n",
    "df.loc[df['_group']=='H_iphone', '_group'] = 'H_смартфоны'\n",
    "df.loc[df['_group']=='H_ipad', '_group'] = 'H_планшеты'\n",
    "df.loc[df['_group']=='H_macbook', '_group'] = 'H_ноутбуки'\n",
    "df.loc[df['_group']=='H_imac', '_group'] = 'H_моноблоки'\n",
    "df.loc[df['_group']=='H_часы_и_браслеты', '_subcategory'] = 'H_гаджеты'\n",
    "df.loc[df['_group']=='H_смартфоны', '_subcategory'] = 'H_смартфоны_и_аксессуары'\n",
    "df.loc[df['_group']=='H_планшеты', '_subcategory'] = 'H_готовые_решения'\n",
    "df.loc[df['_group']=='H_ноутбуки', '_subcategory'] = 'H_готовые_решения'\n",
    "df.loc[df['_group']=='H_моноблоки', '_subcategory'] = 'H_готовые_решения'\n",
    "df.loc[df['_subcategory']=='H_стиральные_и_сушильные_машины', '_group'] = 'H_стиральные_машины'\n",
    "df.loc[df['_subgroup']=='H_сушильные_машины', '_group'] = 'H_сушильные_машины'\n",
    "df.loc[df['_subgroup']=='H_наклейки', '_group'] = 'H_наклейки'\n",
    "df.loc[df['_subgroup']=='H_подставки', '_group'] = 'H_подставки'\n",
    "df.loc[df['_subgroup']=='H_замки', '_group'] = 'H_замки'\n",
    "df.loc[df['_subgroup']=='H_usb_hub', '_group'] = 'H_usb_hub'\n",
    "df.loc[df['_subgroup']=='H_сумки_и_чехлы', '_group'] = 'H_сумки_и_чехлы'\n",
    "df.loc[df['_subgroup']=='H_защитные_стекла', '_group'] = 'H_защитные_стекла'\n",
    "df.loc[df['_subcategory']=='H_мониторы','_group'] = 'H_мониторы'"
   ]
  },
  {
   "cell_type": "code",
   "execution_count": null,
   "id": "517b0314",
   "metadata": {
    "scrolled": false
   },
   "outputs": [],
   "source": [
    "for i in df['_category'].unique():\n",
    "    t = df[df['_category']==i]\n",
    "    print(i)\n",
    "    print(t['_subcategory'].unique())\n",
    "    print('-'*100)"
   ]
  },
  {
   "cell_type": "code",
   "execution_count": null,
   "id": "e7b973f8",
   "metadata": {
    "scrolled": true
   },
   "outputs": [],
   "source": [
    "for i in df['_subcategory'].unique():\n",
    "    t = df[df['_subcategory']==i]\n",
    "    print(i)\n",
    "    print(t['_group'].unique())\n",
    "    print('-'*100)"
   ]
  },
  {
   "cell_type": "markdown",
   "id": "ad4ae26c",
   "metadata": {},
   "source": [
    "просмотр групп товаров в подкатегориях"
   ]
  },
  {
   "cell_type": "code",
   "execution_count": null,
   "id": "1de3d753",
   "metadata": {},
   "outputs": [],
   "source": [
    "for i in df['_group'].unique():\n",
    "    t = df[df['_group']==i]\n",
    "    print(i)\n",
    "    print(t['_subgroup'].unique())\n",
    "    print('-'*100)"
   ]
  },
  {
   "cell_type": "code",
   "execution_count": null,
   "id": "0d266764",
   "metadata": {},
   "outputs": [],
   "source": [
    "df._category.unique()"
   ]
  },
  {
   "cell_type": "code",
   "execution_count": null,
   "id": "6be4465c",
   "metadata": {},
   "outputs": [],
   "source": [
    "df._subcategory.unique()"
   ]
  },
  {
   "cell_type": "code",
   "execution_count": null,
   "id": "444f62d9",
   "metadata": {},
   "outputs": [],
   "source": [
    "df._group.unique()"
   ]
  },
  {
   "cell_type": "code",
   "execution_count": null,
   "id": "e644f29c",
   "metadata": {},
   "outputs": [],
   "source": [
    "df._subgroup.unique()"
   ]
  },
  {
   "cell_type": "markdown",
   "id": "3fa5656b",
   "metadata": {},
   "source": [
    "# Подготовка анализа"
   ]
  },
  {
   "cell_type": "code",
   "execution_count": null,
   "id": "ba7b1765",
   "metadata": {},
   "outputs": [],
   "source": [
    "df.head(2)"
   ]
  },
  {
   "cell_type": "code",
   "execution_count": null,
   "id": "d291de15",
   "metadata": {},
   "outputs": [],
   "source": [
    "brend = pd.read_excel('csv/brend.xlsx')"
   ]
  },
  {
   "cell_type": "code",
   "execution_count": null,
   "id": "3fd62f9c",
   "metadata": {},
   "outputs": [],
   "source": [
    "def lower(x):\n",
    "    return x.lower()\n",
    "brend['names'] = brend['name'].apply(lower)\n",
    "brend_up = brend.name.unique()\n",
    "brend_low = brend.names.unique()"
   ]
  },
  {
   "cell_type": "markdown",
   "id": "6d34081d",
   "metadata": {},
   "source": [
    "Создаем список брендов"
   ]
  },
  {
   "cell_type": "code",
   "execution_count": null,
   "id": "a6cc999b",
   "metadata": {},
   "outputs": [],
   "source": [
    "def brends(x):\n",
    "    xx = x.replace('\\xa0', ' ')\n",
    "    xx = xx.split(' ')    \n",
    "    for i in range(len(xx)-1):\n",
    "        if xx[i].lower() in brend_low:\n",
    "            return xx[i].lower()\n",
    "        elif (str(xx[i].lower())+' '+str(xx[i+1].lower())) in brend_low:\n",
    "            return (str(xx[i].lower())+' '+str(xx[i+1].lower()))    \n",
    "    else:    \n",
    "        return 'другой'\n",
    "tqdm.pandas()\n",
    "df['brend'] = df['title'].progress_apply(brends)"
   ]
  },
  {
   "cell_type": "markdown",
   "id": "8adb4a8b",
   "metadata": {},
   "source": [
    "создаем столбец с брендами"
   ]
  },
  {
   "cell_type": "code",
   "execution_count": null,
   "id": "3b17f090",
   "metadata": {},
   "outputs": [],
   "source": [
    "df['action_sale'] = 0\n",
    "df.loc[df['old_price'] > 0,'action_sale'] = 1"
   ]
  },
  {
   "cell_type": "markdown",
   "id": "5fcbcc3a",
   "metadata": {},
   "source": [
    "Создаем столбец с флагом акции"
   ]
  },
  {
   "cell_type": "code",
   "execution_count": null,
   "id": "87e44d83",
   "metadata": {},
   "outputs": [],
   "source": [
    "df['sale'] = (100 - ((df['price']*100)/df['old_price'])).round(2) "
   ]
  },
  {
   "cell_type": "markdown",
   "id": "91917f95",
   "metadata": {},
   "source": [
    "создаем столбец показывающий скидку в процентах"
   ]
  },
  {
   "cell_type": "code",
   "execution_count": null,
   "id": "55f9287e",
   "metadata": {},
   "outputs": [],
   "source": [
    "def count_group(x):\n",
    "    return df[df['_group']==x]['id'].count()    \n",
    "tqdm.pandas()\n",
    "df['count_group'] = df['_group'].progress_apply(count_group)"
   ]
  },
  {
   "cell_type": "markdown",
   "id": "d7ef1d16",
   "metadata": {},
   "source": [
    "создание столбца с количеством товара в группе"
   ]
  },
  {
   "cell_type": "code",
   "execution_count": null,
   "id": "6432c479",
   "metadata": {},
   "outputs": [],
   "source": [
    "def count_group_presence(x):\n",
    "    return df[(df['availability']=='В наличии')&(df['_group']==x)]['id'].count()   \n",
    "tqdm.pandas()\n",
    "df['activ_count_group'] = df['_group'].progress_apply(count_group_presence)"
   ]
  },
  {
   "cell_type": "markdown",
   "id": "2a6594ce",
   "metadata": {},
   "source": [
    "создание столбца с количеством товара, который есть в наличии, в группе"
   ]
  },
  {
   "cell_type": "code",
   "execution_count": null,
   "id": "7b33f40d",
   "metadata": {},
   "outputs": [],
   "source": [
    "def dif_price(x):    \n",
    "    max_price = df[(df['availability']=='В наличии')&(df['_group']==x)]['price'].max()\n",
    "    min_price = df[(df['availability']=='В наличии')&(df['_group']==x)]['price'].min() \n",
    "    return max_price / min_price\n",
    "tqdm.pandas()\n",
    "df['dif_price'] = df['_group'].progress_apply(dif_price)"
   ]
  },
  {
   "cell_type": "markdown",
   "id": "c88e2d0f",
   "metadata": {},
   "source": [
    "создам столбец с отношением самой дорогой цены в группе к самой дешевой."
   ]
  },
  {
   "cell_type": "code",
   "execution_count": null,
   "id": "4ab26dc0",
   "metadata": {},
   "outputs": [],
   "source": [
    "df['group_prise'] = df.groupby('_group')['price'].transform(lambda x: pd.cut(x, bins = 4, labels=[\"бюджет\", \"стандарт\", 'дорогой', \"элитный\"]))"
   ]
  },
  {
   "cell_type": "markdown",
   "id": "ea4ee02c",
   "metadata": {},
   "source": [
    "создание столбца с ценовой категорией товара"
   ]
  },
  {
   "cell_type": "code",
   "execution_count": null,
   "id": "a4e3227a",
   "metadata": {},
   "outputs": [],
   "source": [
    "df = df[['url', 'id', '_category', '_subcategory', '_group', '_subgroup', 'brend', \n",
    "         'title', 'date', 'price', 'old_price', 'action_sale', 'sale', 'group_prise', 'dif_price',\n",
    "         'availability', 'count_group', 'activ_count_group','error_group']]"
   ]
  },
  {
   "cell_type": "code",
   "execution_count": null,
   "id": "0e826ea6",
   "metadata": {},
   "outputs": [],
   "source": [
    "df.drop('_subgroup', axis= 1 , inplace= True )"
   ]
  },
  {
   "cell_type": "code",
   "execution_count": null,
   "id": "de0e1102",
   "metadata": {},
   "outputs": [],
   "source": [
    "df.to_csv('csv/hi_tech_final_'+dt.datetime.now().strftime('%Y_%m_%d')+'.csv', index=False) "
   ]
  },
  {
   "cell_type": "markdown",
   "id": "eeced9ff",
   "metadata": {},
   "source": [
    "# Аналитика акционных товаров"
   ]
  },
  {
   "cell_type": "code",
   "execution_count": null,
   "id": "31c0c9c0",
   "metadata": {},
   "outputs": [],
   "source": [
    "df.head(3)"
   ]
  },
  {
   "cell_type": "code",
   "execution_count": null,
   "id": "68b845f5",
   "metadata": {},
   "outputs": [],
   "source": [
    "df.groupby('_group')['price'].mean().reset_index()"
   ]
  },
  {
   "cell_type": "code",
   "execution_count": null,
   "id": "80b0e7db",
   "metadata": {},
   "outputs": [],
   "source": [
    "plt.rcParams.update(plt.rcParamsDefault)"
   ]
  },
  {
   "cell_type": "code",
   "execution_count": null,
   "id": "09441400",
   "metadata": {},
   "outputs": [],
   "source": [
    "df[df['_group']=='H_пылесосы'].head(2)"
   ]
  },
  {
   "cell_type": "code",
   "execution_count": null,
   "id": "47598972",
   "metadata": {},
   "outputs": [],
   "source": [
    "separator = ['_group','brend','group_prise']"
   ]
  },
  {
   "cell_type": "code",
   "execution_count": null,
   "id": "9ee780a8",
   "metadata": {
    "scrolled": true
   },
   "outputs": [],
   "source": [
    "for x in separator:\n",
    "    for i in df['_subcategory'].unique():        \n",
    "        plt.figure(figsize=(16,9))\n",
    "        sns.barplot(df[df['_subcategory']==i].groupby([x ,'action_sale'])['id'].count().sort_values(ascending=False).reset_index(),\n",
    "                       x=x, y='id', hue='action_sale')\n",
    "        plt.xticks(rotation=20)\n",
    "        plt.title(f'количество товаров разных {x} в подкатегории {i} распределенные по наличию акции ')\n",
    "        plt.xlabel(f' {x}')\n",
    "        plt.ylabel('количество товара')\n",
    "        plt.show()"
   ]
  },
  {
   "cell_type": "code",
   "execution_count": null,
   "id": "98e3c96e",
   "metadata": {},
   "outputs": [],
   "source": [
    "df[df['_subcategory']=='пылесосы_и_аксессуары'].groupby(['_group' ])['action_sale'].mean().reset_index()"
   ]
  },
  {
   "cell_type": "code",
   "execution_count": null,
   "id": "65b05aab",
   "metadata": {
    "scrolled": true
   },
   "outputs": [],
   "source": [
    "for x in separator:\n",
    "    for i in df['_subcategory'].unique():        \n",
    "        plt.figure(figsize=(16,9))\n",
    "        sns.barplot(df[df['_subcategory']==i].groupby(x)['action_sale'].mean().sort_values(ascending=False).reset_index(),\n",
    "                       x=x, y='action_sale', color='blue')\n",
    "        plt.xticks(rotation=20)\n",
    "        plt.title(f'количество товаров разных {x} в подкатегории {i} ')\n",
    "        plt.xlabel(f' {x}')\n",
    "        plt.ylabel('доля акционного товара')\n",
    "        plt.show()"
   ]
  },
  {
   "cell_type": "code",
   "execution_count": null,
   "id": "159d9afb",
   "metadata": {},
   "outputs": [],
   "source": []
  }
 ],
 "metadata": {
  "kernelspec": {
   "display_name": "Python 3 (ipykernel)",
   "language": "python",
   "name": "python3"
  },
  "language_info": {
   "codemirror_mode": {
    "name": "ipython",
    "version": 3
   },
   "file_extension": ".py",
   "mimetype": "text/x-python",
   "name": "python",
   "nbconvert_exporter": "python",
   "pygments_lexer": "ipython3",
   "version": "3.11.3"
  }
 },
 "nbformat": 4,
 "nbformat_minor": 5
}
