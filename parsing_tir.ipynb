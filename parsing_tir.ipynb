{
 "cells": [
  {
   "cell_type": "markdown",
   "id": "f661d034",
   "metadata": {},
   "source": [
    "# parsing_tir"
   ]
  },
  {
   "cell_type": "code",
   "execution_count": 1,
   "id": "c0a16e5a",
   "metadata": {},
   "outputs": [],
   "source": [
    "import pandas as pd\n",
    "import numpy as np\n",
    "import requests\n",
    "from bs4 import BeautifulSoup as bs\n",
    "import re\n",
    "from tqdm import trange, tqdm"
   ]
  },
  {
   "cell_type": "markdown",
   "id": "50e2394a",
   "metadata": {},
   "source": [
    "импорт библиотек"
   ]
  },
  {
   "cell_type": "code",
   "execution_count": 2,
   "id": "064c382c",
   "metadata": {},
   "outputs": [],
   "source": [
    "reqx = requests.get('https://tiraet.com/catalog/Komplektujuschie/')"
   ]
  },
  {
   "cell_type": "code",
   "execution_count": 3,
   "id": "ddcf2fda",
   "metadata": {},
   "outputs": [],
   "source": [
    "soup = bs(reqx.text, 'html.parser')"
   ]
  },
  {
   "cell_type": "code",
   "execution_count": 4,
   "id": "b520f4c1",
   "metadata": {
    "scrolled": true
   },
   "outputs": [
    {
     "data": {
      "text/html": [
       "<div>\n",
       "<style scoped>\n",
       "    .dataframe tbody tr th:only-of-type {\n",
       "        vertical-align: middle;\n",
       "    }\n",
       "\n",
       "    .dataframe tbody tr th {\n",
       "        vertical-align: top;\n",
       "    }\n",
       "\n",
       "    .dataframe thead th {\n",
       "        text-align: right;\n",
       "    }\n",
       "</style>\n",
       "<table border=\"1\" class=\"dataframe\">\n",
       "  <thead>\n",
       "    <tr style=\"text-align: right;\">\n",
       "      <th></th>\n",
       "      <th>soup_name</th>\n",
       "    </tr>\n",
       "  </thead>\n",
       "  <tbody>\n",
       "    <tr>\n",
       "      <th>0</th>\n",
       "      <td>[\\n, [\\n, [\\n, &lt;div class=\"blog-info__rating--...</td>\n",
       "    </tr>\n",
       "    <tr>\n",
       "      <th>1</th>\n",
       "      <td>[\\n, [\\n, [\\n, &lt;div class=\"blog-info__rating--...</td>\n",
       "    </tr>\n",
       "    <tr>\n",
       "      <th>2</th>\n",
       "      <td>[\\n, [\\n, [\\n, &lt;div class=\"blog-info__rating--...</td>\n",
       "    </tr>\n",
       "    <tr>\n",
       "      <th>3</th>\n",
       "      <td>[\\n, [\\n, [\\n, &lt;div class=\"blog-info__rating--...</td>\n",
       "    </tr>\n",
       "    <tr>\n",
       "      <th>4</th>\n",
       "      <td>[\\n, [\\n, [\\n, &lt;div class=\"blog-info__rating--...</td>\n",
       "    </tr>\n",
       "  </tbody>\n",
       "</table>\n",
       "</div>"
      ],
      "text/plain": [
       "                                           soup_name\n",
       "0  [\\n, [\\n, [\\n, <div class=\"blog-info__rating--...\n",
       "1  [\\n, [\\n, [\\n, <div class=\"blog-info__rating--...\n",
       "2  [\\n, [\\n, [\\n, <div class=\"blog-info__rating--...\n",
       "3  [\\n, [\\n, [\\n, <div class=\"blog-info__rating--...\n",
       "4  [\\n, [\\n, [\\n, <div class=\"blog-info__rating--..."
      ]
     },
     "execution_count": 4,
     "metadata": {},
     "output_type": "execute_result"
    }
   ],
   "source": [
    "data = pd.DataFrame({'soup_name':pd.Series(soup.findAll('div', class_='item_info'),dtype = 'object')})\n",
    "data.head()"
   ]
  },
  {
   "cell_type": "code",
   "execution_count": 5,
   "id": "62e3d099",
   "metadata": {},
   "outputs": [],
   "source": [
    "def names_correct(x):\n",
    "    name = str(x)\n",
    "    return  name "
   ]
  },
  {
   "cell_type": "code",
   "execution_count": 6,
   "id": "8a547a03",
   "metadata": {},
   "outputs": [],
   "source": [
    "data['soup_name'] = data['soup_name'].apply(names_correct)"
   ]
  },
  {
   "cell_type": "markdown",
   "id": "713e4c73",
   "metadata": {},
   "source": [
    "меняем данные парсинга на текстовый тип "
   ]
  },
  {
   "cell_type": "code",
   "execution_count": 7,
   "id": "caf0dc2d",
   "metadata": {},
   "outputs": [],
   "source": [
    "def find_id(x):\n",
    "    find = x.find('div class=\"article_block\"')\n",
    "    start = find+len('div class=\"article_block\" data-name=\"Арт.\" data-value=\"')\n",
    "    stop = x.find('><div',find)-1\n",
    "    xxx = x[start: stop]\n",
    "    return xxx"
   ]
  },
  {
   "cell_type": "code",
   "execution_count": 8,
   "id": "0f522c3d",
   "metadata": {},
   "outputs": [],
   "source": [
    "data['id'] = data['soup_name'].apply(find_id)"
   ]
  },
  {
   "cell_type": "markdown",
   "id": "df262d57",
   "metadata": {},
   "source": [
    "находим в тексте и созаем столбец с кодами товара"
   ]
  },
  {
   "cell_type": "code",
   "execution_count": 9,
   "id": "d69b1e57",
   "metadata": {},
   "outputs": [],
   "source": [
    "data['date'] = pd.to_datetime('today').normalize()"
   ]
  },
  {
   "cell_type": "markdown",
   "id": "941e68bd",
   "metadata": {},
   "source": [
    "создаем столбец с датой парсинга"
   ]
  },
  {
   "cell_type": "code",
   "execution_count": 10,
   "id": "5594eb89",
   "metadata": {},
   "outputs": [],
   "source": [
    "def find_availability(t):\n",
    "    find = t.find('class=\"value font_sxs\"')\n",
    "    find = t.find('>', find)\n",
    "    start = find+len('>')\n",
    "    stop = t.find('<', find)\n",
    "    xxx = t[start: stop]\n",
    "    return xxx"
   ]
  },
  {
   "cell_type": "code",
   "execution_count": 11,
   "id": "5bffe1bc",
   "metadata": {},
   "outputs": [],
   "source": [
    "data['availability'] = data['soup_name'].apply(find_availability)"
   ]
  },
  {
   "cell_type": "markdown",
   "id": "4d996511",
   "metadata": {},
   "source": [
    "находим в тексте и создаем столбец с наличием товара"
   ]
  },
  {
   "cell_type": "code",
   "execution_count": 12,
   "id": "e6d33de3",
   "metadata": {},
   "outputs": [],
   "source": [
    "def find_title(t):\n",
    "    find = t.find('class=\"dark_link js-notice-block__title option-font-bold font_sm\"')\n",
    "    find = t.find('<span>', find)\n",
    "    start = find+len('<span>')\n",
    "    stop = t.find('</span>', find)\n",
    "    xxx = t[start: stop]\n",
    "    return xxx\n"
   ]
  },
  {
   "cell_type": "code",
   "execution_count": 13,
   "id": "648e0b7c",
   "metadata": {},
   "outputs": [],
   "source": [
    "data['title'] = data['soup_name'].apply(find_title)"
   ]
  },
  {
   "cell_type": "markdown",
   "id": "e36a466d",
   "metadata": {},
   "source": [
    "находим в тексте и создаем столбец снаименованием товара"
   ]
  },
  {
   "cell_type": "code",
   "execution_count": 14,
   "id": "56b59bb4",
   "metadata": {},
   "outputs": [],
   "source": [
    "def find_price(t):\n",
    "    find = t.find('<div class=\"price_matrix_wrapper\">')\n",
    "    find = t.find('data-value=', find)\n",
    "    start = find+len('data-value=')+1\n",
    "    stop = t.find('>', find)-1\n",
    "    xxx = t[start: stop]\n",
    "    xxx = xxx.replace(u'\\xa0',u'')\n",
    "    return xxx"
   ]
  },
  {
   "cell_type": "code",
   "execution_count": 15,
   "id": "9068a1bf",
   "metadata": {},
   "outputs": [],
   "source": [
    "data['price'] = data['soup_name'].apply(find_price)"
   ]
  },
  {
   "cell_type": "markdown",
   "id": "ed9b62ef",
   "metadata": {},
   "source": [
    "Находим в тексте и создаем столбец с ценой товара"
   ]
  },
  {
   "cell_type": "code",
   "execution_count": 16,
   "id": "e2e3e51e",
   "metadata": {},
   "outputs": [],
   "source": [
    "def find_old_price(t):\n",
    "    find = t.find('class=\"price_matrix_wrapper strike_block\"')\n",
    "    find = t.find('data-value=', find)\n",
    "    start = find+len('data-value=')+1\n",
    "    stop = t.find('>', find)-1\n",
    "    xxx = t[start: stop]\n",
    "    if len(xxx) < 40:\n",
    "        return xxx\n",
    "    else:\n",
    "        return np.nan"
   ]
  },
  {
   "cell_type": "code",
   "execution_count": 17,
   "id": "149cfb16",
   "metadata": {},
   "outputs": [],
   "source": [
    "data['old_price'] = data['soup_name'].apply(find_old_price)"
   ]
  },
  {
   "cell_type": "markdown",
   "id": "9c4784d1",
   "metadata": {},
   "source": [
    "Для акционного товара Находим в тексте и создаем столбец со старой ценой до начала акции"
   ]
  },
  {
   "cell_type": "code",
   "execution_count": 18,
   "id": "aa448515",
   "metadata": {},
   "outputs": [],
   "source": [
    "def find_url(t):\n",
    "    find = t.find('<div class=\"item-title\">')\n",
    "    find = t.find('href=\"', find)\n",
    "    start = find+len('href=\"')\n",
    "    stop = t.find('title', find)-2\n",
    "    xxx = t[start: stop]\n",
    "    return 'https://tiraet.com'+str(xxx)"
   ]
  },
  {
   "cell_type": "code",
   "execution_count": 19,
   "id": "18f2730d",
   "metadata": {},
   "outputs": [],
   "source": [
    "data['soup_name'] = data['soup_name'].apply(find_url)"
   ]
  },
  {
   "cell_type": "markdown",
   "id": "db852f87",
   "metadata": {},
   "source": [
    "Находим в тексте информацию об адресе совара и переписываем эту информацию вместо парсинговой."
   ]
  },
  {
   "cell_type": "code",
   "execution_count": 20,
   "id": "5a09642a",
   "metadata": {},
   "outputs": [],
   "source": [
    "def preprocessing(x):\n",
    "    print(f'таблица имеет следующий вид:')\n",
    "    display(x.head())\n",
    "    print('*'*100)\n",
    "    print(f'таблица имеет {x.shape[0]} сторок и {x.shape[1]} столбцов')\n",
    "    print('*'*100)\n",
    "    print(f'в таблице обнаружено дублекатов:{x.duplicated().sum()}')\n",
    "    print('*'*100)\n",
    "    print('в таблице обнаружены пропуски в следующих столбцах:')\n",
    "    display(x.isna().sum())\n",
    "    print('*'*100)\n",
    "    print('Эти пропуски составлябт следующее количество в процентах')\n",
    "    display((x.isna().mean()* 100).round(1))\n",
    "    print('*'*100)\n",
    "    print('столбцы имеют следующие типы:')\n",
    "    display(x.dtypes)\n",
    "    x.columns = [y.lower().replace(' ', '_') for y in x.columns.values] \n",
    "    print('*'*100)\n",
    "    print('названия столбцов переписаны в нижнем регистре, пробелы заменены на нижнее подчеркивание')\n",
    "    print('*'*100)\n",
    "    display(x.info())"
   ]
  },
  {
   "cell_type": "markdown",
   "id": "d21da9cc",
   "metadata": {},
   "source": [
    "создаем функцию предварительного просмотра данных"
   ]
  },
  {
   "cell_type": "code",
   "execution_count": 21,
   "id": "7696c601",
   "metadata": {},
   "outputs": [],
   "source": [
    "def parsing_2(url):\n",
    "    data = pd.DataFrame(columns=['soup_name', 'id', 'date', 'availability', 'title', 'price', 'old_price'])\n",
    "    for i in tqdm(url):        \n",
    "        for j in tqdm(range(100)):        \n",
    "            reqx = requests.get(i + str(j))\n",
    "            soup = bs(reqx.text, 'html.parser')\n",
    "            datax = pd.DataFrame({'soup_name':pd.Series(soup.findAll('div', class_='item_info'),dtype = 'object')})\n",
    "            data = pd.concat([data, datax], ignore_index=True            \n",
    "            j = j + 1            \n",
    "    data['soup_name'] = data['soup_name'].apply(names_correct)\n",
    "    data['id'] = data['soup_name'].apply(find_id)\n",
    "    data['date'] = pd.to_datetime('today').normalize()\n",
    "    data['availability'] = data['soup_name'].apply(find_availability)\n",
    "    data['title'] = data['soup_name'].apply(find_title)\n",
    "    data['price'] = data['soup_name'].apply(find_price)\n",
    "    data['old_price'] = data['soup_name'].apply(find_old_price)\n",
    "    data['soup_name'] = data['soup_name'].apply(find_url)\n",
    "    data['price'] = data['price'].astype(float)\n",
    "    data.loc[data['old_price'] == '','old_price'] = np.nan\n",
    "    data['old_price'] = data['old_price'].astype(float)\n",
    "    data = data.drop_duplicates()\n",
    "    return data"
   ]
  },
  {
   "cell_type": "code",
   "execution_count": 22,
   "id": "f77f3847",
   "metadata": {},
   "outputs": [],
   "source": [
    "url = ['https://tiraet.com/catalog/Komplektujuschie/?PAGEN_1=']"
   ]
  },
  {
   "cell_type": "code",
   "execution_count": 23,
   "id": "580002b9",
   "metadata": {},
   "outputs": [
    {
     "name": "stderr",
     "output_type": "stream",
     "text": [
      "  0%|                                                                                            | 0/1 [00:00<?, ?it/s]\n",
      "  0%|                                                                                          | 0/100 [00:00<?, ?it/s]\u001b[A\n",
      "  1%|▊                                                                                 | 1/100 [00:01<02:55,  1.77s/it]\u001b[A\n",
      "  2%|█▋                                                                                | 2/100 [00:03<03:15,  1.99s/it]\u001b[A\n",
      "  3%|██▍                                                                               | 3/100 [00:05<03:04,  1.90s/it]\u001b[A\n",
      "  4%|███▎                                                                              | 4/100 [00:08<03:39,  2.29s/it]\u001b[A\n",
      "  5%|████                                                                              | 5/100 [00:10<03:36,  2.28s/it]\u001b[A\n",
      "  6%|████▉                                                                             | 6/100 [00:13<03:36,  2.31s/it]\u001b[A\n",
      "  7%|█████▋                                                                            | 7/100 [00:15<03:44,  2.41s/it]\u001b[A\n",
      "  8%|██████▌                                                                           | 8/100 [00:18<03:40,  2.40s/it]\u001b[A\n",
      "  9%|███████▍                                                                          | 9/100 [00:20<03:33,  2.35s/it]\u001b[A\n",
      " 10%|████████                                                                         | 10/100 [00:22<03:36,  2.40s/it]\u001b[A\n",
      " 11%|████████▉                                                                        | 11/100 [00:26<03:54,  2.64s/it]\u001b[A\n",
      " 12%|█████████▋                                                                       | 12/100 [00:28<03:33,  2.43s/it]\u001b[A\n",
      " 13%|██████████▌                                                                      | 13/100 [00:31<03:44,  2.58s/it]\u001b[A\n",
      " 14%|███████████▎                                                                     | 14/100 [00:35<04:21,  3.04s/it]\u001b[A\n",
      " 15%|████████████▏                                                                    | 15/100 [00:37<03:57,  2.80s/it]\u001b[A\n",
      " 16%|████████████▉                                                                    | 16/100 [00:39<03:27,  2.47s/it]\u001b[A\n",
      " 17%|█████████████▊                                                                   | 17/100 [00:42<03:55,  2.84s/it]\u001b[A\n",
      " 18%|██████████████▌                                                                  | 18/100 [00:45<03:50,  2.82s/it]\u001b[A\n",
      " 19%|███████████████▍                                                                 | 19/100 [00:49<04:13,  3.12s/it]\u001b[A\n",
      " 20%|████████████████▏                                                                | 20/100 [00:52<04:03,  3.04s/it]\u001b[A\n",
      " 21%|█████████████████                                                                | 21/100 [00:55<04:07,  3.13s/it]\u001b[A\n",
      " 22%|█████████████████▊                                                               | 22/100 [00:57<03:46,  2.91s/it]\u001b[A\n",
      " 23%|██████████████████▋                                                              | 23/100 [01:01<03:56,  3.07s/it]\u001b[A\n",
      " 24%|███████████████████▍                                                             | 24/100 [01:03<03:34,  2.82s/it]\u001b[A\n",
      " 25%|████████████████████▎                                                            | 25/100 [01:07<03:45,  3.01s/it]\u001b[A\n",
      " 26%|█████████████████████                                                            | 26/100 [01:09<03:37,  2.93s/it]\u001b[A\n",
      " 27%|█████████████████████▊                                                           | 27/100 [01:13<03:57,  3.25s/it]\u001b[A\n",
      " 28%|██████████████████████▋                                                          | 28/100 [01:18<04:21,  3.63s/it]\u001b[A\n",
      " 29%|███████████████████████▍                                                         | 29/100 [01:21<04:10,  3.53s/it]\u001b[A\n",
      " 30%|████████████████████████▎                                                        | 30/100 [01:24<03:45,  3.22s/it]\u001b[A\n",
      " 31%|█████████████████████████                                                        | 31/100 [01:29<04:26,  3.86s/it]\u001b[A\n",
      " 32%|█████████████████████████▉                                                       | 32/100 [01:31<03:54,  3.45s/it]\u001b[A\n",
      " 33%|██████████████████████████▋                                                      | 33/100 [01:34<03:38,  3.25s/it]\u001b[A\n",
      " 34%|███████████████████████████▌                                                     | 34/100 [01:39<04:01,  3.66s/it]\u001b[A\n",
      " 35%|████████████████████████████▎                                                    | 35/100 [01:43<03:59,  3.68s/it]\u001b[A\n",
      " 36%|█████████████████████████████▏                                                   | 36/100 [01:45<03:27,  3.24s/it]\u001b[A\n",
      " 37%|█████████████████████████████▉                                                   | 37/100 [01:49<03:38,  3.47s/it]\u001b[A\n",
      " 38%|██████████████████████████████▊                                                  | 38/100 [01:54<04:02,  3.91s/it]\u001b[A\n",
      " 39%|███████████████████████████████▌                                                 | 39/100 [01:56<03:26,  3.38s/it]\u001b[A\n",
      " 40%|████████████████████████████████▍                                                | 40/100 [02:01<03:44,  3.74s/it]\u001b[A\n",
      " 41%|█████████████████████████████████▏                                               | 41/100 [02:04<03:40,  3.74s/it]\u001b[A\n",
      " 42%|██████████████████████████████████                                               | 42/100 [02:07<03:20,  3.46s/it]\u001b[A\n",
      " 43%|██████████████████████████████████▊                                              | 43/100 [02:15<04:32,  4.78s/it]\u001b[A\n",
      " 44%|███████████████████████████████████▋                                             | 44/100 [02:19<04:11,  4.50s/it]\u001b[A\n",
      " 45%|████████████████████████████████████▍                                            | 45/100 [02:22<03:43,  4.06s/it]\u001b[A\n",
      " 46%|█████████████████████████████████████▎                                           | 46/100 [02:25<03:28,  3.86s/it]\u001b[A\n",
      " 47%|██████████████████████████████████████                                           | 47/100 [02:27<02:51,  3.23s/it]\u001b[A\n",
      " 48%|██████████████████████████████████████▉                                          | 48/100 [02:32<03:22,  3.89s/it]\u001b[A\n",
      " 49%|███████████████████████████████████████▋                                         | 49/100 [02:37<03:36,  4.24s/it]\u001b[A\n",
      " 50%|████████████████████████████████████████▌                                        | 50/100 [02:41<03:20,  4.01s/it]\u001b[A\n",
      " 51%|█████████████████████████████████████████▎                                       | 51/100 [02:45<03:17,  4.02s/it]\u001b[A\n",
      " 52%|██████████████████████████████████████████                                       | 52/100 [02:49<03:13,  4.03s/it]\u001b[A\n",
      " 53%|██████████████████████████████████████████▉                                      | 53/100 [02:53<03:09,  4.03s/it]\u001b[A\n",
      " 54%|███████████████████████████████████████████▋                                     | 54/100 [02:55<02:35,  3.38s/it]\u001b[A\n",
      " 55%|████████████████████████████████████████████▌                                    | 55/100 [03:01<03:06,  4.15s/it]\u001b[A\n",
      " 56%|█████████████████████████████████████████████▎                                   | 56/100 [03:04<02:49,  3.85s/it]\u001b[A\n",
      " 57%|██████████████████████████████████████████████▏                                  | 57/100 [03:10<03:11,  4.46s/it]\u001b[A\n",
      " 58%|██████████████████████████████████████████████▉                                  | 58/100 [03:13<02:56,  4.20s/it]\u001b[A\n",
      " 59%|███████████████████████████████████████████████▊                                 | 59/100 [03:17<02:43,  3.98s/it]\u001b[A\n",
      " 60%|████████████████████████████████████████████████▌                                | 60/100 [03:20<02:33,  3.83s/it]\u001b[A\n",
      " 61%|█████████████████████████████████████████████████▍                               | 61/100 [03:24<02:20,  3.61s/it]\u001b[A\n",
      " 62%|██████████████████████████████████████████████████▏                              | 62/100 [03:29<02:38,  4.16s/it]\u001b[A\n",
      " 63%|███████████████████████████████████████████████████                              | 63/100 [03:36<03:00,  4.89s/it]\u001b[A\n",
      " 64%|███████████████████████████████████████████████████▊                             | 64/100 [03:40<02:54,  4.86s/it]\u001b[A\n"
     ]
    },
    {
     "name": "stderr",
     "output_type": "stream",
     "text": [
      " 65%|████████████████████████████████████████████████████▋                            | 65/100 [03:43<02:32,  4.35s/it]\u001b[A\n",
      " 66%|█████████████████████████████████████████████████████▍                           | 66/100 [03:49<02:40,  4.73s/it]\u001b[A\n",
      " 67%|██████████████████████████████████████████████████████▎                          | 67/100 [03:54<02:33,  4.65s/it]\u001b[A\n",
      " 68%|███████████████████████████████████████████████████████                          | 68/100 [03:59<02:38,  4.97s/it]\u001b[A\n",
      " 69%|███████████████████████████████████████████████████████▉                         | 69/100 [04:07<02:58,  5.74s/it]\u001b[A\n",
      " 70%|████████████████████████████████████████████████████████▋                        | 70/100 [04:13<02:56,  5.88s/it]\u001b[A\n",
      " 71%|█████████████████████████████████████████████████████████▌                       | 71/100 [04:17<02:36,  5.38s/it]\u001b[A\n",
      " 72%|██████████████████████████████████████████████████████████▎                      | 72/100 [04:23<02:30,  5.38s/it]\u001b[A\n",
      " 73%|███████████████████████████████████████████████████████████▏                     | 73/100 [04:27<02:16,  5.07s/it]\u001b[A\n",
      " 74%|███████████████████████████████████████████████████████████▉                     | 74/100 [04:31<02:04,  4.79s/it]\u001b[A\n",
      " 75%|████████████████████████████████████████████████████████████▊                    | 75/100 [04:34<01:43,  4.15s/it]\u001b[A\n",
      " 76%|█████████████████████████████████████████████████████████████▌                   | 76/100 [04:39<01:46,  4.44s/it]\u001b[A\n",
      " 77%|██████████████████████████████████████████████████████████████▎                  | 77/100 [04:41<01:26,  3.76s/it]\u001b[A\n",
      " 78%|███████████████████████████████████████████████████████████████▏                 | 78/100 [04:45<01:25,  3.88s/it]\u001b[A\n",
      " 79%|███████████████████████████████████████████████████████████████▉                 | 79/100 [04:51<01:36,  4.59s/it]\u001b[A\n",
      " 80%|████████████████████████████████████████████████████████████████▊                | 80/100 [04:57<01:34,  4.73s/it]\u001b[A\n",
      " 81%|█████████████████████████████████████████████████████████████████▌               | 81/100 [05:01<01:28,  4.64s/it]\u001b[A\n",
      " 82%|██████████████████████████████████████████████████████████████████▍              | 82/100 [05:05<01:22,  4.59s/it]\u001b[A\n",
      " 83%|███████████████████████████████████████████████████████████████████▏             | 83/100 [05:12<01:27,  5.14s/it]\u001b[A\n",
      " 84%|████████████████████████████████████████████████████████████████████             | 84/100 [05:14<01:08,  4.28s/it]\u001b[A\n",
      " 85%|████████████████████████████████████████████████████████████████████▊            | 85/100 [05:18<01:03,  4.25s/it]\u001b[A\n",
      " 86%|█████████████████████████████████████████████████████████████████████▋           | 86/100 [05:25<01:11,  5.12s/it]\u001b[A\n",
      " 87%|██████████████████████████████████████████████████████████████████████▍          | 87/100 [05:29<01:01,  4.75s/it]\u001b[A\n",
      " 88%|███████████████████████████████████████████████████████████████████████▎         | 88/100 [05:32<00:51,  4.26s/it]\u001b[A\n",
      " 89%|████████████████████████████████████████████████████████████████████████         | 89/100 [05:37<00:46,  4.26s/it]\u001b[A\n",
      " 90%|████████████████████████████████████████████████████████████████████████▉        | 90/100 [05:40<00:38,  3.87s/it]\u001b[A\n",
      " 91%|█████████████████████████████████████████████████████████████████████████▋       | 91/100 [05:42<00:31,  3.53s/it]\u001b[A\n",
      " 92%|██████████████████████████████████████████████████████████████████████████▌      | 92/100 [05:47<00:31,  3.96s/it]\u001b[A\n",
      " 93%|███████████████████████████████████████████████████████████████████████████▎     | 93/100 [05:51<00:27,  3.99s/it]\u001b[A\n",
      " 94%|████████████████████████████████████████████████████████████████████████████▏    | 94/100 [05:56<00:24,  4.11s/it]\u001b[A\n",
      " 95%|████████████████████████████████████████████████████████████████████████████▉    | 95/100 [05:59<00:18,  3.73s/it]\u001b[A\n",
      " 96%|█████████████████████████████████████████████████████████████████████████████▊   | 96/100 [06:05<00:17,  4.37s/it]\u001b[A\n",
      " 97%|██████████████████████████████████████████████████████████████████████████████▌  | 97/100 [06:09<00:13,  4.39s/it]\u001b[A\n",
      " 98%|███████████████████████████████████████████████████████████████████████████████▍ | 98/100 [06:14<00:08,  4.44s/it]\u001b[A\n",
      " 99%|████████████████████████████████████████████████████████████████████████████████▏| 99/100 [06:19<00:04,  4.76s/it]\u001b[A\n",
      "100%|████████████████████████████████████████████████████████████████████████████████| 100/100 [06:22<00:00,  3.83s/it]\u001b[A\n",
      "100%|███████████████████████████████████████████████████████████████████████████████████| 1/1 [06:22<00:00, 382.95s/it]\n"
     ]
    },
    {
     "data": {
      "text/html": [
       "<div>\n",
       "<style scoped>\n",
       "    .dataframe tbody tr th:only-of-type {\n",
       "        vertical-align: middle;\n",
       "    }\n",
       "\n",
       "    .dataframe tbody tr th {\n",
       "        vertical-align: top;\n",
       "    }\n",
       "\n",
       "    .dataframe thead th {\n",
       "        text-align: right;\n",
       "    }\n",
       "</style>\n",
       "<table border=\"1\" class=\"dataframe\">\n",
       "  <thead>\n",
       "    <tr style=\"text-align: right;\">\n",
       "      <th></th>\n",
       "      <th>soup_name</th>\n",
       "      <th>id</th>\n",
       "      <th>date</th>\n",
       "      <th>availability</th>\n",
       "      <th>title</th>\n",
       "      <th>price</th>\n",
       "      <th>old_price</th>\n",
       "    </tr>\n",
       "  </thead>\n",
       "  <tbody>\n",
       "    <tr>\n",
       "      <th>0</th>\n",
       "      <td>https://tiraet.com/catalog/Komplektujuschie/ak...</td>\n",
       "      <td>284</td>\n",
       "      <td>2024-05-11</td>\n",
       "      <td>Много</td>\n",
       "      <td>Переходник для мыши COM в PS/2 (A-235)</td>\n",
       "      <td>4.95</td>\n",
       "      <td>NaN</td>\n",
       "    </tr>\n",
       "    <tr>\n",
       "      <th>1</th>\n",
       "      <td>https://tiraet.com/catalog/Komplektujuschie/ak...</td>\n",
       "      <td>8683</td>\n",
       "      <td>2024-05-11</td>\n",
       "      <td>Много</td>\n",
       "      <td>Кабель MINI USB2.0 (A - MINI USB 4PM)1,8м (CC-...</td>\n",
       "      <td>4.95</td>\n",
       "      <td>NaN</td>\n",
       "    </tr>\n",
       "    <tr>\n",
       "      <th>2</th>\n",
       "      <td>https://tiraet.com/catalog/Komplektujuschie/ak...</td>\n",
       "      <td>85078</td>\n",
       "      <td>2024-05-11</td>\n",
       "      <td>Много</td>\n",
       "      <td>BOX для CD/DVD Verbatim Slim, на 1 диск 120мм,...</td>\n",
       "      <td>6.60</td>\n",
       "      <td>NaN</td>\n",
       "    </tr>\n",
       "    <tr>\n",
       "      <th>3</th>\n",
       "      <td>https://tiraet.com/catalog/Komplektujuschie/ak...</td>\n",
       "      <td>12819</td>\n",
       "      <td>2024-05-11</td>\n",
       "      <td>Много</td>\n",
       "      <td>Диск CD-R 700MB VERBATIM, 52X (1шт) EXTRA PROT...</td>\n",
       "      <td>6.60</td>\n",
       "      <td>NaN</td>\n",
       "    </tr>\n",
       "    <tr>\n",
       "      <th>4</th>\n",
       "      <td>https://tiraet.com/catalog/Komplektujuschie/ak...</td>\n",
       "      <td>4975</td>\n",
       "      <td>2024-05-11</td>\n",
       "      <td>Много</td>\n",
       "      <td>Диск DVD+R VERBATIM 16X 4,7GB  (1шт.)  (43550/...</td>\n",
       "      <td>7.43</td>\n",
       "      <td>NaN</td>\n",
       "    </tr>\n",
       "    <tr>\n",
       "      <th>...</th>\n",
       "      <td>...</td>\n",
       "      <td>...</td>\n",
       "      <td>...</td>\n",
       "      <td>...</td>\n",
       "      <td>...</td>\n",
       "      <td>...</td>\n",
       "      <td>...</td>\n",
       "    </tr>\n",
       "    <tr>\n",
       "      <th>1995</th>\n",
       "      <td>https://tiraet.com/catalog/Komplektujuschie/ak...</td>\n",
       "      <td>79230</td>\n",
       "      <td>2024-05-11</td>\n",
       "      <td>Мало</td>\n",
       "      <td>Адаптер интерфейсов (HUB) Gembird (A-CM-COMBO1...</td>\n",
       "      <td>765.11</td>\n",
       "      <td>850.08</td>\n",
       "    </tr>\n",
       "    <tr>\n",
       "      <th>1996</th>\n",
       "      <td>https://tiraet.com/catalog/Komplektujuschie/ko...</td>\n",
       "      <td>70514</td>\n",
       "      <td>2024-05-11</td>\n",
       "      <td>Мало</td>\n",
       "      <td>CASE MIDITOWER ATX AeroCool Streak RGB BLACK U...</td>\n",
       "      <td>850.08</td>\n",
       "      <td>NaN</td>\n",
       "    </tr>\n",
       "    <tr>\n",
       "      <th>1997</th>\n",
       "      <td>https://tiraet.com/catalog/Komplektujuschie/ma...</td>\n",
       "      <td>66460</td>\n",
       "      <td>2024-05-11</td>\n",
       "      <td>Достаточно</td>\n",
       "      <td>MOUSE LOGITECH Wireless Mouse M705 Marathon bl...</td>\n",
       "      <td>852.72</td>\n",
       "      <td>NaN</td>\n",
       "    </tr>\n",
       "    <tr>\n",
       "      <th>1998</th>\n",
       "      <td>https://tiraet.com/catalog/Komplektujuschie/ma...</td>\n",
       "      <td>48383</td>\n",
       "      <td>2024-05-11</td>\n",
       "      <td>Мало</td>\n",
       "      <td>Ручка 3D Gembird (3DP-PEND-01) для рисования A...</td>\n",
       "      <td>852.72</td>\n",
       "      <td>NaN</td>\n",
       "    </tr>\n",
       "    <tr>\n",
       "      <th>1999</th>\n",
       "      <td>https://tiraet.com/catalog/Komplektujuschie/ak...</td>\n",
       "      <td>81570</td>\n",
       "      <td>2024-05-11</td>\n",
       "      <td>Мало</td>\n",
       "      <td>Адаптер интерфейсов (HUB) Verbatim (49141) USB...</td>\n",
       "      <td>729.30</td>\n",
       "      <td>858.00</td>\n",
       "    </tr>\n",
       "  </tbody>\n",
       "</table>\n",
       "<p>1980 rows × 7 columns</p>\n",
       "</div>"
      ],
      "text/plain": [
       "                                              soup_name     id       date  \\\n",
       "0     https://tiraet.com/catalog/Komplektujuschie/ak...    284 2024-05-11   \n",
       "1     https://tiraet.com/catalog/Komplektujuschie/ak...   8683 2024-05-11   \n",
       "2     https://tiraet.com/catalog/Komplektujuschie/ak...  85078 2024-05-11   \n",
       "3     https://tiraet.com/catalog/Komplektujuschie/ak...  12819 2024-05-11   \n",
       "4     https://tiraet.com/catalog/Komplektujuschie/ak...   4975 2024-05-11   \n",
       "...                                                 ...    ...        ...   \n",
       "1995  https://tiraet.com/catalog/Komplektujuschie/ak...  79230 2024-05-11   \n",
       "1996  https://tiraet.com/catalog/Komplektujuschie/ko...  70514 2024-05-11   \n",
       "1997  https://tiraet.com/catalog/Komplektujuschie/ma...  66460 2024-05-11   \n",
       "1998  https://tiraet.com/catalog/Komplektujuschie/ma...  48383 2024-05-11   \n",
       "1999  https://tiraet.com/catalog/Komplektujuschie/ak...  81570 2024-05-11   \n",
       "\n",
       "     availability                                              title   price  \\\n",
       "0           Много             Переходник для мыши COM в PS/2 (A-235)    4.95   \n",
       "1           Много  Кабель MINI USB2.0 (A - MINI USB 4PM)1,8м (CC-...    4.95   \n",
       "2           Много  BOX для CD/DVD Verbatim Slim, на 1 диск 120мм,...    6.60   \n",
       "3           Много  Диск CD-R 700MB VERBATIM, 52X (1шт) EXTRA PROT...    6.60   \n",
       "4           Много  Диск DVD+R VERBATIM 16X 4,7GB  (1шт.)  (43550/...    7.43   \n",
       "...           ...                                                ...     ...   \n",
       "1995         Мало  Адаптер интерфейсов (HUB) Gembird (A-CM-COMBO1...  765.11   \n",
       "1996         Мало  CASE MIDITOWER ATX AeroCool Streak RGB BLACK U...  850.08   \n",
       "1997   Достаточно  MOUSE LOGITECH Wireless Mouse M705 Marathon bl...  852.72   \n",
       "1998         Мало  Ручка 3D Gembird (3DP-PEND-01) для рисования A...  852.72   \n",
       "1999         Мало  Адаптер интерфейсов (HUB) Verbatim (49141) USB...  729.30   \n",
       "\n",
       "      old_price  \n",
       "0           NaN  \n",
       "1           NaN  \n",
       "2           NaN  \n",
       "3           NaN  \n",
       "4           NaN  \n",
       "...         ...  \n",
       "1995     850.08  \n",
       "1996        NaN  \n",
       "1997        NaN  \n",
       "1998        NaN  \n",
       "1999     858.00  \n",
       "\n",
       "[1980 rows x 7 columns]"
      ]
     },
     "execution_count": 23,
     "metadata": {},
     "output_type": "execute_result"
    }
   ],
   "source": [
    "df = parsing_2(url)\n",
    "df"
   ]
  },
  {
   "cell_type": "code",
   "execution_count": 24,
   "id": "0486d5b0",
   "metadata": {},
   "outputs": [
    {
     "name": "stdout",
     "output_type": "stream",
     "text": [
      "таблица имеет следующий вид:\n"
     ]
    },
    {
     "data": {
      "text/html": [
       "<div>\n",
       "<style scoped>\n",
       "    .dataframe tbody tr th:only-of-type {\n",
       "        vertical-align: middle;\n",
       "    }\n",
       "\n",
       "    .dataframe tbody tr th {\n",
       "        vertical-align: top;\n",
       "    }\n",
       "\n",
       "    .dataframe thead th {\n",
       "        text-align: right;\n",
       "    }\n",
       "</style>\n",
       "<table border=\"1\" class=\"dataframe\">\n",
       "  <thead>\n",
       "    <tr style=\"text-align: right;\">\n",
       "      <th></th>\n",
       "      <th>soup_name</th>\n",
       "      <th>id</th>\n",
       "      <th>date</th>\n",
       "      <th>availability</th>\n",
       "      <th>title</th>\n",
       "      <th>price</th>\n",
       "      <th>old_price</th>\n",
       "    </tr>\n",
       "  </thead>\n",
       "  <tbody>\n",
       "    <tr>\n",
       "      <th>0</th>\n",
       "      <td>https://tiraet.com/catalog/Komplektujuschie/ak...</td>\n",
       "      <td>284</td>\n",
       "      <td>2024-05-11</td>\n",
       "      <td>Много</td>\n",
       "      <td>Переходник для мыши COM в PS/2 (A-235)</td>\n",
       "      <td>4.95</td>\n",
       "      <td>NaN</td>\n",
       "    </tr>\n",
       "    <tr>\n",
       "      <th>1</th>\n",
       "      <td>https://tiraet.com/catalog/Komplektujuschie/ak...</td>\n",
       "      <td>8683</td>\n",
       "      <td>2024-05-11</td>\n",
       "      <td>Много</td>\n",
       "      <td>Кабель MINI USB2.0 (A - MINI USB 4PM)1,8м (CC-...</td>\n",
       "      <td>4.95</td>\n",
       "      <td>NaN</td>\n",
       "    </tr>\n",
       "    <tr>\n",
       "      <th>2</th>\n",
       "      <td>https://tiraet.com/catalog/Komplektujuschie/ak...</td>\n",
       "      <td>85078</td>\n",
       "      <td>2024-05-11</td>\n",
       "      <td>Много</td>\n",
       "      <td>BOX для CD/DVD Verbatim Slim, на 1 диск 120мм,...</td>\n",
       "      <td>6.60</td>\n",
       "      <td>NaN</td>\n",
       "    </tr>\n",
       "    <tr>\n",
       "      <th>3</th>\n",
       "      <td>https://tiraet.com/catalog/Komplektujuschie/ak...</td>\n",
       "      <td>12819</td>\n",
       "      <td>2024-05-11</td>\n",
       "      <td>Много</td>\n",
       "      <td>Диск CD-R 700MB VERBATIM, 52X (1шт) EXTRA PROT...</td>\n",
       "      <td>6.60</td>\n",
       "      <td>NaN</td>\n",
       "    </tr>\n",
       "    <tr>\n",
       "      <th>4</th>\n",
       "      <td>https://tiraet.com/catalog/Komplektujuschie/ak...</td>\n",
       "      <td>4975</td>\n",
       "      <td>2024-05-11</td>\n",
       "      <td>Много</td>\n",
       "      <td>Диск DVD+R VERBATIM 16X 4,7GB  (1шт.)  (43550/...</td>\n",
       "      <td>7.43</td>\n",
       "      <td>NaN</td>\n",
       "    </tr>\n",
       "  </tbody>\n",
       "</table>\n",
       "</div>"
      ],
      "text/plain": [
       "                                           soup_name     id       date  \\\n",
       "0  https://tiraet.com/catalog/Komplektujuschie/ak...    284 2024-05-11   \n",
       "1  https://tiraet.com/catalog/Komplektujuschie/ak...   8683 2024-05-11   \n",
       "2  https://tiraet.com/catalog/Komplektujuschie/ak...  85078 2024-05-11   \n",
       "3  https://tiraet.com/catalog/Komplektujuschie/ak...  12819 2024-05-11   \n",
       "4  https://tiraet.com/catalog/Komplektujuschie/ak...   4975 2024-05-11   \n",
       "\n",
       "  availability                                              title  price  \\\n",
       "0        Много             Переходник для мыши COM в PS/2 (A-235)   4.95   \n",
       "1        Много  Кабель MINI USB2.0 (A - MINI USB 4PM)1,8м (CC-...   4.95   \n",
       "2        Много  BOX для CD/DVD Verbatim Slim, на 1 диск 120мм,...   6.60   \n",
       "3        Много  Диск CD-R 700MB VERBATIM, 52X (1шт) EXTRA PROT...   6.60   \n",
       "4        Много  Диск DVD+R VERBATIM 16X 4,7GB  (1шт.)  (43550/...   7.43   \n",
       "\n",
       "   old_price  \n",
       "0        NaN  \n",
       "1        NaN  \n",
       "2        NaN  \n",
       "3        NaN  \n",
       "4        NaN  "
      ]
     },
     "metadata": {},
     "output_type": "display_data"
    },
    {
     "name": "stdout",
     "output_type": "stream",
     "text": [
      "****************************************************************************************************\n",
      "таблица имеет 1980 сторок и 7 столбцов\n",
      "****************************************************************************************************\n",
      "в таблице обнаружено дублекатов:0\n",
      "****************************************************************************************************\n",
      "в таблице обнаружены пропуски в следующих столбцах:\n"
     ]
    },
    {
     "data": {
      "text/plain": [
       "soup_name          0\n",
       "id                 0\n",
       "date               0\n",
       "availability       0\n",
       "title              0\n",
       "price              0\n",
       "old_price       1717\n",
       "dtype: int64"
      ]
     },
     "metadata": {},
     "output_type": "display_data"
    },
    {
     "name": "stdout",
     "output_type": "stream",
     "text": [
      "****************************************************************************************************\n",
      "Эти пропуски составлябт следующее количество в процентах\n"
     ]
    },
    {
     "data": {
      "text/plain": [
       "soup_name        0.0\n",
       "id               0.0\n",
       "date             0.0\n",
       "availability     0.0\n",
       "title            0.0\n",
       "price            0.0\n",
       "old_price       86.7\n",
       "dtype: float64"
      ]
     },
     "metadata": {},
     "output_type": "display_data"
    },
    {
     "name": "stdout",
     "output_type": "stream",
     "text": [
      "****************************************************************************************************\n",
      "столбцы имеют следующие типы:\n"
     ]
    },
    {
     "data": {
      "text/plain": [
       "soup_name               object\n",
       "id                      object\n",
       "date            datetime64[ns]\n",
       "availability            object\n",
       "title                   object\n",
       "price                  float64\n",
       "old_price              float64\n",
       "dtype: object"
      ]
     },
     "metadata": {},
     "output_type": "display_data"
    },
    {
     "name": "stdout",
     "output_type": "stream",
     "text": [
      "****************************************************************************************************\n",
      "названия столбцов переписаны в нижнем регистре, пробелы заменены на нижнее подчеркивание\n",
      "****************************************************************************************************\n",
      "<class 'pandas.core.frame.DataFrame'>\n",
      "Int64Index: 1980 entries, 0 to 1999\n",
      "Data columns (total 7 columns):\n",
      " #   Column        Non-Null Count  Dtype         \n",
      "---  ------        --------------  -----         \n",
      " 0   soup_name     1980 non-null   object        \n",
      " 1   id            1980 non-null   object        \n",
      " 2   date          1980 non-null   datetime64[ns]\n",
      " 3   availability  1980 non-null   object        \n",
      " 4   title         1980 non-null   object        \n",
      " 5   price         1980 non-null   float64       \n",
      " 6   old_price     263 non-null    float64       \n",
      "dtypes: datetime64[ns](1), float64(2), object(4)\n",
      "memory usage: 123.8+ KB\n"
     ]
    },
    {
     "data": {
      "text/plain": [
       "None"
      ]
     },
     "metadata": {},
     "output_type": "display_data"
    }
   ],
   "source": [
    "preprocessing(df)"
   ]
  },
  {
   "cell_type": "code",
   "execution_count": null,
   "id": "63e1eab5",
   "metadata": {},
   "outputs": [],
   "source": []
  }
 ],
 "metadata": {
  "kernelspec": {
   "display_name": "Python 3 (ipykernel)",
   "language": "python",
   "name": "python3"
  },
  "language_info": {
   "codemirror_mode": {
    "name": "ipython",
    "version": 3
   },
   "file_extension": ".py",
   "mimetype": "text/x-python",
   "name": "python",
   "nbconvert_exporter": "python",
   "pygments_lexer": "ipython3",
   "version": "3.11.3"
  }
 },
 "nbformat": 4,
 "nbformat_minor": 5
}
