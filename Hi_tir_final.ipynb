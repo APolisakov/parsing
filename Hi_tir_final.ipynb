{
 "cells": [
  {
   "cell_type": "markdown",
   "id": "c9a6cc97-701a-489b-b93b-0845a623d701",
   "metadata": {},
   "source": [
    "# Сравнение цен на сайтах Тираэт и Хайтек"
   ]
  },
  {
   "cell_type": "markdown",
   "id": "4a6cdafc-a22e-4ae8-b4e2-9ef714e73d5e",
   "metadata": {},
   "source": [
    "## Содержание"
   ]
  },
  {
   "cell_type": "markdown",
   "id": "d948375b-b63c-4e82-847e-3f8d0731e531",
   "metadata": {},
   "source": [
    "* [Описание проекта](q#01)\n",
    "  - [Цель проекта](q011)\n",
    "  - [Постановка задачи](#q012)\n",
    "  - [Описание данных](#q013)\n",
    "* [Загрузка необходимых библиотек и функций](#q02)\n",
    "  - [Инсталяция библиотек](#q021)\n",
    "  - [Импорт библиотек](#q022)\n",
    "  - [Выбор параметров](#q023)\n",
    "  - [Функции используемые в работе](#q024)\n",
    "* [Загрузка данных](#q03)\n",
    "* [Парсинг c сайта Тираэт](#q04)\n",
    "* [Парсинг c сайта Хайтек](#q05)\n",
    "  - [Группировка товара](#q051)\n",
    "* [Объединение данных](#q06)\n",
    "* [Аналитика товаров](#q07)\n",
    "* [Выгрузка данных](#q08)"
   ]
  },
  {
   "cell_type": "markdown",
   "id": "9f219350-4bda-422e-9b69-cd33b8a77389",
   "metadata": {},
   "source": [
    "## 1.Описание проекта "
   ]
  },
  {
   "cell_type": "markdown",
   "id": "66d185bf-aee5-448a-a375-8b974cfedaa3",
   "metadata": {},
   "source": [
    "### Цель проекта "
   ]
  },
  {
   "cell_type": "markdown",
   "id": "fc7f2bd2-3a5c-4552-acc4-fec8f5df3fa7",
   "metadata": {},
   "source": [
    "Цель данного проекта собрать данные с сайтов https://tiraet.com/ и https://hi-tech.md/ для анвлиза цен в категориях и группах товара"
   ]
  },
  {
   "cell_type": "markdown",
   "id": "53a68f98-43ef-47b8-88e8-520b73e5d97e",
   "metadata": {},
   "source": [
    "### Постановка задачи "
   ]
  },
  {
   "cell_type": "markdown",
   "id": "59bd833c-2f2e-4f0a-8c7f-8bf090e819fd",
   "metadata": {},
   "source": [
    "- загрузить данные с сайта Тираэт\n",
    "- Загрузить данные с сайта Хайтек\n",
    "- Объеденить данные в общей таблице\n",
    "- Добавить дополнительные признаки\n",
    "- Выгрузить данные в файл для дальнейшей аналитики в tableau"
   ]
  },
  {
   "cell_type": "markdown",
   "id": "8cc6fa44-af7c-4f5b-9ac3-5ec963f0dcf3",
   "metadata": {},
   "source": [
    "### Описание данных "
   ]
  },
  {
   "cell_type": "markdown",
   "id": "9b6d0e06-dc9a-48cc-ae0f-4f16cdd90531",
   "metadata": {},
   "source": [
    "- `url` Url адресс товара\n",
    "- `id` Интендификатор товара\n",
    "- `_category` Категория товара\n",
    "- `_subcategory` Подкатегория товара\n",
    "- `_group` Группа товара\n",
    "- `brend` Бренд товара\n",
    "- `title` Название товара\n",
    "- `date` Дата парсинга\n",
    "- `price` Цена товара\n",
    "- `old_price` Предидущая цена товара\n",
    "- `action_sale` Является ли товар акционным\n",
    "- `sale` Процент скидки на товар\n",
    "- `group_prise` Ценовая категория товара\n",
    "- `dif_price` Отношение максимальной к минимальной цене в группе товаров\n",
    "- `availability` Наличие товара\n",
    "- `count_group` Количество товара в группе\n",
    "- `activ_count_group` Количество товара в группе, который есть в наличии\n",
    "- `error_group` Наличие ошибки при парсинге товара"
   ]
  },
  {
   "cell_type": "markdown",
   "id": "113a21b4-c5c2-41bb-b415-1e8d59cc7ec6",
   "metadata": {},
   "source": [
    "##  Загрузка необходимых библиотек и функций"
   ]
  },
  {
   "cell_type": "markdown",
   "id": "c9cab4bb-d7b0-4082-8175-9923546c319a",
   "metadata": {},
   "source": [
    "### Инсталяция библиотек"
   ]
  },
  {
   "cell_type": "code",
   "execution_count": null,
   "id": "4cfa447d-0849-4534-b4d1-45c108018eef",
   "metadata": {},
   "outputs": [],
   "source": [
    "! pip install matplotlib -q\n",
    "! pip install matplotlib-inline -q\n",
    "! pip install missingno -q\n",
    "! pip install numba -q\n",
    "! pip install pandas -q\n",
    "! pip install seaborn -q\n",
    "! pip install transliterate -q\n",
    "! pip install ydata-profiling -q"
   ]
  },
  {
   "cell_type": "markdown",
   "id": "2b7794ec-96ec-42fe-a852-8a5559cc4a27",
   "metadata": {},
   "source": [
    "### Импорт библиотек "
   ]
  },
  {
   "cell_type": "code",
   "execution_count": 2,
   "id": "0726cce9-f50d-44dd-a1f2-0139a2252803",
   "metadata": {},
   "outputs": [],
   "source": [
    "import pandas as pd\n",
    "import numpy as np\n",
    "import requests\n",
    "from bs4 import BeautifulSoup as bs\n",
    "import re\n",
    "from tqdm.notebook import trange, tqdm\n",
    "from tqdm.gui import tqdm as tqdm_gui\n",
    "import datetime as dt\n",
    "import seaborn as sns\n",
    "import matplotlib.pyplot as plt\n",
    "from IPython.display import display\n",
    "import warnings\n",
    "from ydata_profiling import ProfileReport"
   ]
  },
  {
   "cell_type": "markdown",
   "id": "4fd0093b-da93-40c3-b42e-9bbc66975690",
   "metadata": {},
   "source": [
    "### Выбор параметров"
   ]
  },
  {
   "cell_type": "code",
   "execution_count": null,
   "id": "2e1d94bf-e711-4b34-9af6-6f9fbe787a06",
   "metadata": {},
   "outputs": [],
   "source": [
    "pd.set_option('display.max_colwidth', 1000)\n",
    "pd.set_option('display.max_columns', 1000)\n",
    "pd.set_option('display.max_rows', 1000)\n",
    "warnings.filterwarnings('ignore')"
   ]
  },
  {
   "cell_type": "markdown",
   "id": "d094d350-0347-443b-9d34-af22fab5b59a",
   "metadata": {},
   "source": [
    "###   Функции используемые в работе "
   ]
  },
  {
   "cell_type": "code",
   "execution_count": 6,
   "id": "5a09642a",
   "metadata": {},
   "outputs": [],
   "source": [
    "#  функция предварительного просмотра данных\n",
    "def preprocessing(x):\n",
    "    print(f'таблица имеет следующий вид:')\n",
    "    display(x.head())\n",
    "    print('*'*100)\n",
    "    print(f'таблица имеет {x.shape[0]} сторок и {x.shape[1]} столбцов')\n",
    "    print('*'*100)\n",
    "    print(f'в таблице обнаружено дублекатов:{x.duplicated().sum()}')\n",
    "    print('*'*100)\n",
    "    print('в таблице обнаружены пропуски в следующих столбцах:')\n",
    "    display(x.isna().sum())\n",
    "    print('*'*100)\n",
    "    print('Эти пропуски составлябт следующее количество в процентах')\n",
    "    display((x.isna().mean()* 100).round(1))\n",
    "    print('*'*100)\n",
    "    print('столбцы имеют следующие типы:')\n",
    "    display(x.dtypes)\n",
    "    x.columns = [y.lower().replace(' ', '_') for y in x.columns.values] \n",
    "    print('*'*100)\n",
    "    print('названия столбцов переписаны в нижнем регистре, пробелы заменены на нижнее подчеркивание')\n",
    "    print('*'*100)\n",
    "    display(x.info())"
   ]
  },
  {
   "cell_type": "code",
   "execution_count": 7,
   "id": "7696c601",
   "metadata": {},
   "outputs": [],
   "source": [
    "# функция предварительного парсинга\n",
    "def parsing_2(url):\n",
    "    data = pd.DataFrame(columns=['title', 'url', 'date', 'availability', 'id', 'price', 'old_price'])    \n",
    "    for u in url:\n",
    "        reqx = requests.get(u)\n",
    "        soup = bs(reqx.text, 'html.parser')\n",
    "        max_page = soup.findAll('div', class_='nums')\n",
    "        maxx = int(max_page[0].text.strip().split('\\n')[-1])\n",
    "        for start_position in tqdm(range(1,maxx + 1)):        \n",
    "            reqx = requests.get(u + str(start_position))\n",
    "            soup = bs(reqx.text, 'html.parser')\n",
    "            element = soup.findAll('div', class_='item_info')\n",
    "            datax = []\n",
    "            for i in element:\n",
    "                datax.append({'title' : i.find('a', class_='dark_link js-notice-block__title option-font-bold font_sm').text.strip(),\n",
    "                             'url' : 'https://tiraet.com' + i.find('a', class_='dark_link js-notice-block__title option-font-bold font_sm')['href'],\n",
    "                             'date' : pd.to_datetime('today').normalize(),\n",
    "                             'availability' : i.find('div', class_='item-stock js-show-stores js-show-info-block').text.strip(),\n",
    "                             'id' : int(i.find('div', class_='article_block').text.replace('Арт.: ','')),\n",
    "                             'price' : float(i.find('div', class_='price_matrix_wrapper').text.strip().replace(' руб','').replace(',','.').replace(' ','')) if str(type(i.find('div', class_='price_matrix_wrapper'))) != \"<class 'NoneType'>\" else np.NaN ,\n",
    "                             'old_price' : float(i.find('div', class_='price_matrix_wrapper strike_block').text.strip().replace(' руб','').replace(',','.').replace(' ','')) if str(type(i.find('div', class_='price_matrix_wrapper strike_block'))) != \"<class 'NoneType'>\" else np.NaN \n",
    "                            })\n",
    "            datax = pd.DataFrame(datax)\n",
    "            data = pd.concat([data, datax] , ignore_index=True)\n",
    "    return data"
   ]
  },
  {
   "cell_type": "code",
   "execution_count": 8,
   "id": "6576fb53",
   "metadata": {},
   "outputs": [],
   "source": [
    "#  функция для парсинга данных о группах и категориях товара\n",
    "def find_groups(x):\n",
    "    reqx = requests.get(x)\n",
    "    soup = bs(reqx.text, 'html.parser')    \n",
    "    elem_1 = soup.findAll('a', class_='breadcrumbs__link colored_theme_hover_bg-el-svg')\n",
    "    elem_2 = soup.findAll('div', class_='breadcrumbs__item')\n",
    "    try:\n",
    "        if len(elem_1) <=2:\n",
    "            if len(elem_2) <= 4:\n",
    "                d_14 = 'T_'+(elem_1[0].text.replace(',','').replace(' ','_').replace('-','_').lower())\n",
    "                d_15 = 'T_'+(elem_1[1].text.replace(',','').replace(' ','_').replace('-','_').lower())\n",
    "                d_16 = 'T_'+(elem_1[1].text.replace(',','').replace(' ','_').replace('-','_').lower())\n",
    "            else:\n",
    "                d_14 = 'T_'+(elem_1[0].text.replace(',','').replace(' ','_').replace('-','_').lower())\n",
    "                d_15 = 'T_'+(elem_1[1].text.replace(',','').replace(' ','_').replace('-','_').lower())\n",
    "                d_16 = 'T_'+(elem_2[4].text.replace(',','').replace(' ','_').replace('-','_').lower())\n",
    "        else:\n",
    "            d_14 = 'T_'+(elem_1[0].text.replace(',','').replace(' ','_').replace('-','_').lower())\n",
    "            d_15 = 'T_'+(elem_1[1].text.replace(',','').replace(' ','_').replace('-','_').lower())\n",
    "            d_16 = 'T_'+(elem_1[2].text.replace(',','').replace(' ','_').replace('-','_').lower())\n",
    "    except:\n",
    "        d_14 = 'err_'\n",
    "        d_15 = 'err_'\n",
    "        d_16 = 'err_'\n",
    "        \n",
    "    return pd.Series([ (d_14), (d_15), (d_16)])"
   ]
  },
  {
   "cell_type": "code",
   "execution_count": 9,
   "id": "7aad0218-397c-4bff-af17-f3bc12300591",
   "metadata": {},
   "outputs": [],
   "source": [
    "# функция дляизменения регистра записи на нижний\n",
    "def lower(x):\n",
    "    return x.lower()"
   ]
  },
  {
   "cell_type": "code",
   "execution_count": 10,
   "id": "707d223b-495c-4ce9-bc2e-e86dc439da3a",
   "metadata": {},
   "outputs": [],
   "source": [
    "# Функция создания бренда\n",
    "def brends(x):\n",
    "    xx = x.replace('\\xa0', ' ')\n",
    "    xx = xx.split(' ')    \n",
    "    for i in range(len(xx)-1):\n",
    "        if xx[i].lower() in brend_low:\n",
    "            return xx[i].lower()\n",
    "        elif (str(xx[i].lower())+' '+str(xx[i+1].lower())) in brend_low:\n",
    "            return (str(xx[i].lower())+' '+str(xx[i+1].lower()))    \n",
    "    else:    \n",
    "        return 'другой'"
   ]
  },
  {
   "cell_type": "code",
   "execution_count": 11,
   "id": "88977dc9-c123-4106-8867-4a29e94643b9",
   "metadata": {},
   "outputs": [],
   "source": [
    "# функция подсчета количества товаров в группе\n",
    "def count_group(x):\n",
    "    return df[df['_group']==x]['id'].count()"
   ]
  },
  {
   "cell_type": "code",
   "execution_count": 12,
   "id": "67d9ae7a-ab58-470d-bbfe-b03d7f82fb31",
   "metadata": {},
   "outputs": [],
   "source": [
    "# Функция подсчета количества товаров в группе\n",
    "def count_group_presence(x):\n",
    "    return df[(df['availability'].isin(['Мало','Достаточно','Много','В наличии']))&(df['_group']==x)]['id'].count()   "
   ]
  },
  {
   "cell_type": "code",
   "execution_count": 13,
   "id": "70c3d32e-86b0-430a-b74d-8088b3fc36dc",
   "metadata": {},
   "outputs": [],
   "source": [
    "# функция подсчета отношения максимума группы к минимуму\n",
    "def dif_price(x):    \n",
    "    max_price = df[(df['availability'].isin(['Мало','Достаточно','Много','В наличии']))&(df['_group']==x)]['price'].max()\n",
    "    min_price = df[(df['availability'].isin(['Мало','Достаточно','Много','В наличии']))&(df['_group']==x)]['price'].min() \n",
    "    return max_price / min_price"
   ]
  },
  {
   "cell_type": "code",
   "execution_count": 14,
   "id": "caf0dc2d",
   "metadata": {},
   "outputs": [],
   "source": [
    "# функция создания столбца с кодом товара\n",
    "def h_find_id(x):\n",
    "    xxx = x.find('span', class_=\"ty-control-group__item\").text  \n",
    "    return xxx"
   ]
  },
  {
   "cell_type": "code",
   "execution_count": 15,
   "id": "b416d8fa",
   "metadata": {},
   "outputs": [],
   "source": [
    "# функция создания столбца с парсингом наличия товара\n",
    "def h_find_availability(t):\n",
    "    xxx = (t.find('a', class_=\"ty-control-group product-list-field cm-external-click\")\n",
    "           .text.replace('\\ue924','').replace('\\ue86c','').replace('\\n','').replace('В н','В_н').replace(' ',''))\n",
    "    return xxx  "
   ]
  },
  {
   "cell_type": "code",
   "execution_count": 16,
   "id": "e6d33de3",
   "metadata": {},
   "outputs": [],
   "source": [
    "# функция создающая столбец с названием товара\n",
    "def h_find_title(t):\n",
    "    xxx = t.find('a', class_=\"product-title\").text\n",
    "    return xxx"
   ]
  },
  {
   "cell_type": "code",
   "execution_count": 17,
   "id": "56b59bb4",
   "metadata": {},
   "outputs": [],
   "source": [
    "# функция создающая столбец с продажной ценой товара\n",
    "def h_find_price(t):\n",
    "    xxx = t.find('span', class_=\"ty-price-num\").text.replace(u'\\xa0',u'')\n",
    "    return xxx"
   ]
  },
  {
   "cell_type": "code",
   "execution_count": 18,
   "id": "e2e3e51e",
   "metadata": {},
   "outputs": [],
   "source": [
    "# функция созжающая столбец с предидущей ценой для акционного товара\n",
    "def h_find_old_price(t):\n",
    "    try:\n",
    "        xxx = t.find('span', class_=\"ty-strike\").text.replace(u'\\xa0',u'').replace(u'руб',u'')\n",
    "        return xxx\n",
    "    except:\n",
    "        return np.NaN"
   ]
  },
  {
   "cell_type": "code",
   "execution_count": 19,
   "id": "aa448515",
   "metadata": {},
   "outputs": [],
   "source": [
    "# Функция создающая столбец с урл адресом товара\n",
    "def h_find_url(t):\n",
    "    xxx = t.find('a', class_=\"abt-single-image\")['href']\n",
    "    return xxx"
   ]
  },
  {
   "cell_type": "code",
   "execution_count": 20,
   "id": "f5e1f4c1",
   "metadata": {},
   "outputs": [],
   "source": [
    "# Функция предварительного парсинга сайта, которая проходит по всем страницам в урл адресах переменной all_url \n",
    "# и создает датафрейм в котором храняться: урл адреса товаров, индентефикатор товаров, дата предварительного парсинга товара, \n",
    "# наличия товара, названия товара, цены товара, старой цены для акционного товара.\n",
    "def h_parsing_2(url):\n",
    "    data = pd.DataFrame(columns=['url', 'id', 'date', 'availability', 'title', 'price', 'old_price'])\n",
    "    for i in tqdm(url):        \n",
    "        q = 1\n",
    "        attempt = 1\n",
    "        while q>0 or attempt<4:             \n",
    "            reqx = requests.get(i + str(q))\n",
    "            soup = bs(reqx.text, 'html.parser')\n",
    "            datax = pd.DataFrame({'url':pd.Series(soup.findAll('div', class_='ypi-grid-list__item_body'),dtype = 'object')})\n",
    "            data = pd.concat([data, datax], ignore_index=True)\n",
    "            if len(list(soup.findAll('div', class_='ypi-grid-list__item_body'))) > 0:\n",
    "                q = q + 1\n",
    "                attempt = 1                \n",
    "            else:\n",
    "                if attempt == 3:                    \n",
    "                    q = 0\n",
    "                    attempt += 1\n",
    "                else:\n",
    "                    attempt += 1                    \n",
    "    data['id'] = data['url'].apply(h_find_id)\n",
    "    data['date'] = pd.to_datetime('today').normalize()\n",
    "    data['availability'] = data['url'].apply(h_find_availability)\n",
    "    data['title'] = data['url'].apply(h_find_title)\n",
    "    data['price'] = data['url'].apply(h_find_price)\n",
    "    data['old_price'] = data['url'].apply(h_find_old_price)\n",
    "    data['url'] = data['url'].apply(h_find_url)\n",
    "    data['price'] = data['price'].astype(float)\n",
    "    data.loc[data['old_price'] == '','old_price'] = np.nan\n",
    "    data['old_price'] = data['old_price'].astype(float)\n",
    "    return data"
   ]
  },
  {
   "cell_type": "code",
   "execution_count": 21,
   "id": "a8992e7b",
   "metadata": {},
   "outputs": [],
   "source": [
    "# Функция основного парсинга, которая для каждой строки по урл адресу парсит и находит наличие товара\n",
    "# в магахинах а также группу товара, категорию товара, подкатегорию товата и количество подкатегорий товара\n",
    "def h_xxx(x):\n",
    "    reqx = requests.get(x)\n",
    "    soup = bs(reqx.text, 'html.parser')    \n",
    "    elem_2 = soup.findAll('div', class_='ty-breadcrumbs clearfix')\n",
    "    name = soup.findAll('span', class_='ty-breadcrumbs__current')\n",
    "            \n",
    "    try:\n",
    "        names = name[0].text\n",
    "        name_group = elem_2[0].text.replace('/'+str(names),'').replace('\\n','')\n",
    "        err = 'err'\n",
    "    except:\n",
    "        names = 'Noname'\n",
    "        name_group = 'Noname/Noname/Noname/Noname/Noname/Noname'\n",
    "        err = 'Noname_err'\n",
    "    try:\n",
    "        len_name = len((elem_2[0].text.replace('/'+str(names),'').replace('\\n','')).split('/'))\n",
    "    except:\n",
    "        len_name = 1\n",
    "        \n",
    "    try:\n",
    "        if len_name <= 1:\n",
    "            d_14 = 'err1'\n",
    "            d_15 = 'err1'\n",
    "            d_16 = 'err1'\n",
    "            d_17 = 'err1'\n",
    "        elif len_name <= 2:\n",
    "            d_14 = 'H_'+(name_group.split(\"/\")[1]).replace(',','').replace(' ','_').replace('-','_').lower()\n",
    "            d_15 = 'H_'+(name_group.split(\"/\")[1]).replace(',','').replace(' ','_').replace('-','_').lower()\n",
    "            d_16 = 'H_'+(name_group.split(\"/\")[1]).replace(',','').replace(' ','_').replace('-','_').lower()\n",
    "            d_17 = 'H_'+(name_group.split(\"/\")[1]).replace(',','').replace(' ','_').replace('-','_').lower()      \n",
    "        elif len_name <= 3:\n",
    "            d_14 = 'H_'+(name_group.split(\"/\")[1]).replace(',','').replace(' ','_').replace('-','_').lower()\n",
    "            d_15 = 'H_'+(name_group.split(\"/\")[2]).replace(',','').replace(' ','_').replace('-','_').lower()\n",
    "            d_16 = 'H_'+(name_group.split(\"/\")[2]).replace(',','').replace(' ','_').replace('-','_').lower()\n",
    "            d_17 = 'H_'+(name_group.split(\"/\")[2]).replace(',','').replace(' ','_').replace('-','_').lower()\n",
    "        elif len_name == 4:\n",
    "            d_14 = 'H_'+(name_group.split(\"/\")[1]).replace(',','').replace(' ','_').replace('-','_').lower()\n",
    "            d_15 = 'H_'+(name_group.split(\"/\")[2]).replace(',','').replace(' ','_').replace('-','_').lower()\n",
    "            d_16 = 'H_'+(name_group.split(\"/\")[3]).replace(',','').replace(' ','_').replace('-','_').lower() \n",
    "            d_17 = 'H_'+(name_group.split(\"/\")[3]).replace(',','').replace(' ','_').replace('-','_').lower()\n",
    "        elif len_name > 4:\n",
    "            d_14 = 'H_'+(name_group.split(\"/\")[1]).replace(',','').replace(' ','_').replace('-','_').lower()\n",
    "            d_15 = 'H_'+(name_group.split(\"/\")[2]).replace(',','').replace(' ','_').replace('-','_').lower()\n",
    "            d_16 = 'H_'+(name_group.split(\"/\")[3]).replace(',','').replace(' ','_').replace('-','_').lower() \n",
    "            d_17 = 'H_'+(name_group.split(\"/\")[4]).replace(',','').replace(' ','_').replace('-','_').lower()\n",
    "    except:\n",
    "        d_14 = 'err0'\n",
    "        d_15 = 'err0'\n",
    "        d_16 = 'err0'\n",
    "        d_17 = 'err0'\n",
    "        \n",
    "    return pd.Series([(d_14), (d_15), (d_16), (d_17)])"
   ]
  },
  {
   "cell_type": "markdown",
   "id": "a7ad33ef-08bb-46db-8746-bcd5b2afc220",
   "metadata": {},
   "source": [
    "## Загрузка данных"
   ]
  },
  {
   "cell_type": "code",
   "execution_count": 22,
   "id": "d291de15",
   "metadata": {},
   "outputs": [],
   "source": [
    "brend = pd.read_excel('csv/brend.xlsx')"
   ]
  },
  {
   "cell_type": "code",
   "execution_count": 23,
   "id": "d3fd7242",
   "metadata": {},
   "outputs": [],
   "source": [
    "tiraet_group = pd.read_csv('csv/atiraet_group.csv')"
   ]
  },
  {
   "cell_type": "code",
   "execution_count": 24,
   "id": "aefab233",
   "metadata": {},
   "outputs": [],
   "source": [
    "tir_url=['https://tiraet.com/catalog/Komplektujuschie/?PAGEN_1=',\n",
    "         'https://tiraet.com/catalog/2873/?PAGEN_1=',\n",
    "         'https://tiraet.com/catalog/Kompjuternaja-mebel/?PAGEN_1=',\n",
    "         'https://tiraet.com/catalog/bytovaya/?PAGEN_1=',\n",
    "         'https://tiraet.com/catalog/ohrannye-sistemy/?PAGEN_1=',\n",
    "         'https://tiraet.com/catalog/svet-i-jelektrika/?PAGEN_1=',\n",
    "         'https://tiraet.com/catalog/orgtehnika/?PAGEN_1=',\n",
    "         'https://tiraet.com/catalog/PHoto--i-video/?PAGEN_1=',\n",
    "         'https://tiraet.com/catalog/setevoe-oborudovanie/?PAGEN_1=',\n",
    "         'https://tiraet.com/catalog/jelektropitanie/?PAGEN_1=',\n",
    "         'https://tiraet.com/catalog/sport/?PAGEN_1=',\n",
    "         'https://tiraet.com/catalog/avtojelektronika/?PAGEN_1=',\n",
    "         'https://tiraet.com/catalog/rashodnye-materialy/?PAGEN_1=',         \n",
    "]"
   ]
  },
  {
   "cell_type": "code",
   "execution_count": 25,
   "id": "b9d7e31f-a50e-4459-be2b-fefeeaf4615b",
   "metadata": {},
   "outputs": [],
   "source": [
    "start_position=1"
   ]
  },
  {
   "cell_type": "code",
   "execution_count": 26,
   "id": "9c941385",
   "metadata": {},
   "outputs": [],
   "source": [
    "hi_url = ['https://hi-tech.md/televizory-i-elektronika/page-',\n",
    "           'https://hi-tech.md/bytovaya-tehnika/page-',\n",
    "           'https://hi-tech.md/kompyuternaya-tehnika/page-',\n",
    "           'https://hi-tech.md/mebel-tekstil/kompyuternaya-mebel/ofisnye-kresla-i-stulya/komp.-kresla/page-',\n",
    "           'https://hi-tech.md/instrumenty-i-oborudovanie/elektroinstrument/page-',\n",
    "           'https://hi-tech.md/tovary-dlya-doma/page-'\n",
    "          ]"
   ]
  },
  {
   "cell_type": "markdown",
   "id": "3adeb90c",
   "metadata": {},
   "source": [
    "переменная со списком ссылок на сайт для парсинга"
   ]
  },
  {
   "cell_type": "code",
   "execution_count": 27,
   "id": "5323f509",
   "metadata": {},
   "outputs": [],
   "source": [
    "hai_group = pd.read_csv('csv/ahay_group.csv')"
   ]
  },
  {
   "cell_type": "markdown",
   "id": "d07bed99",
   "metadata": {},
   "source": [
    "загрузка таблицы с группами товара"
   ]
  },
  {
   "cell_type": "markdown",
   "id": "3dd4e024-64b6-4e6b-a398-65f9c35a8060",
   "metadata": {},
   "source": [
    "## Парсинг c сайта Тираэт"
   ]
  },
  {
   "cell_type": "markdown",
   "id": "1bca0b9a",
   "metadata": {},
   "source": [
    "179  -  16  -  23  -  100  -  33  -  60  -  10  -  4  -  31  -  25  -  5  -  5  -  81 "
   ]
  },
  {
   "cell_type": "code",
   "execution_count": 28,
   "id": "580002b9",
   "metadata": {},
   "outputs": [
    {
     "data": {
      "application/vnd.jupyter.widget-view+json": {
       "model_id": "238e7b2041bc4e6da85c004c17a97abe",
       "version_major": 2,
       "version_minor": 0
      },
      "text/plain": [
       "  0%|          | 0/192 [00:00<?, ?it/s]"
      ]
     },
     "metadata": {},
     "output_type": "display_data"
    },
    {
     "data": {
      "application/vnd.jupyter.widget-view+json": {
       "model_id": "722b5aaefb36415baa56b4a4744c9c8d",
       "version_major": 2,
       "version_minor": 0
      },
      "text/plain": [
       "  0%|          | 0/28 [00:00<?, ?it/s]"
      ]
     },
     "metadata": {},
     "output_type": "display_data"
    },
    {
     "data": {
      "application/vnd.jupyter.widget-view+json": {
       "model_id": "9cef8ada5b8942d0b0d284ebd5f60caa",
       "version_major": 2,
       "version_minor": 0
      },
      "text/plain": [
       "  0%|          | 0/30 [00:00<?, ?it/s]"
      ]
     },
     "metadata": {},
     "output_type": "display_data"
    },
    {
     "data": {
      "application/vnd.jupyter.widget-view+json": {
       "model_id": "556b0dc84c7c44459bf10c34d8d1d097",
       "version_major": 2,
       "version_minor": 0
      },
      "text/plain": [
       "  0%|          | 0/100 [00:00<?, ?it/s]"
      ]
     },
     "metadata": {},
     "output_type": "display_data"
    },
    {
     "data": {
      "application/vnd.jupyter.widget-view+json": {
       "model_id": "546180a9584e48878263480b63e0f3a1",
       "version_major": 2,
       "version_minor": 0
      },
      "text/plain": [
       "  0%|          | 0/35 [00:00<?, ?it/s]"
      ]
     },
     "metadata": {},
     "output_type": "display_data"
    },
    {
     "data": {
      "application/vnd.jupyter.widget-view+json": {
       "model_id": "9de8eb35e9a04f44b027e13920c5a8a0",
       "version_major": 2,
       "version_minor": 0
      },
      "text/plain": [
       "  0%|          | 0/64 [00:00<?, ?it/s]"
      ]
     },
     "metadata": {},
     "output_type": "display_data"
    },
    {
     "data": {
      "application/vnd.jupyter.widget-view+json": {
       "model_id": "edea5c274eee429c8247aa823e0eeec3",
       "version_major": 2,
       "version_minor": 0
      },
      "text/plain": [
       "  0%|          | 0/11 [00:00<?, ?it/s]"
      ]
     },
     "metadata": {},
     "output_type": "display_data"
    },
    {
     "data": {
      "application/vnd.jupyter.widget-view+json": {
       "model_id": "34e7e435360045ae924e80a80bee0855",
       "version_major": 2,
       "version_minor": 0
      },
      "text/plain": [
       "  0%|          | 0/3 [00:00<?, ?it/s]"
      ]
     },
     "metadata": {},
     "output_type": "display_data"
    },
    {
     "data": {
      "application/vnd.jupyter.widget-view+json": {
       "model_id": "ae65d70d2b3f4ee995271cdd9b7166d8",
       "version_major": 2,
       "version_minor": 0
      },
      "text/plain": [
       "  0%|          | 0/36 [00:00<?, ?it/s]"
      ]
     },
     "metadata": {},
     "output_type": "display_data"
    },
    {
     "data": {
      "application/vnd.jupyter.widget-view+json": {
       "model_id": "80533c8c58624d92862f3c1632476a79",
       "version_major": 2,
       "version_minor": 0
      },
      "text/plain": [
       "  0%|          | 0/29 [00:00<?, ?it/s]"
      ]
     },
     "metadata": {},
     "output_type": "display_data"
    },
    {
     "data": {
      "application/vnd.jupyter.widget-view+json": {
       "model_id": "62e8f46799ba4a488401bc94cfd992ff",
       "version_major": 2,
       "version_minor": 0
      },
      "text/plain": [
       "  0%|          | 0/6 [00:00<?, ?it/s]"
      ]
     },
     "metadata": {},
     "output_type": "display_data"
    },
    {
     "data": {
      "application/vnd.jupyter.widget-view+json": {
       "model_id": "ed500524d7cc4c3dbf2f77b56f969cd9",
       "version_major": 2,
       "version_minor": 0
      },
      "text/plain": [
       "  0%|          | 0/4 [00:00<?, ?it/s]"
      ]
     },
     "metadata": {},
     "output_type": "display_data"
    },
    {
     "data": {
      "application/vnd.jupyter.widget-view+json": {
       "model_id": "b68d0e3b65da4eddb0616ca793e88ee3",
       "version_major": 2,
       "version_minor": 0
      },
      "text/plain": [
       "  0%|          | 0/78 [00:00<?, ?it/s]"
      ]
     },
     "metadata": {},
     "output_type": "display_data"
    }
   ],
   "source": [
    "dft = parsing_2(tir_url)"
   ]
  },
  {
   "cell_type": "markdown",
   "id": "64a2075c",
   "metadata": {},
   "source": [
    "Загружаем данные из файла  с информацией о группах и категориях товара по его `id`"
   ]
  },
  {
   "cell_type": "code",
   "execution_count": 29,
   "id": "80c974a2",
   "metadata": {},
   "outputs": [],
   "source": [
    "tiraet_group = tiraet_group.drop_duplicates(keep= False )"
   ]
  },
  {
   "cell_type": "markdown",
   "id": "7df8d202",
   "metadata": {},
   "source": [
    "Удаляем дублекаты в загруженном фрейме"
   ]
  },
  {
   "cell_type": "code",
   "execution_count": 30,
   "id": "f2599765-0f0d-4126-b5f7-8a96287cd634",
   "metadata": {},
   "outputs": [
    {
     "name": "stdout",
     "output_type": "stream",
     "text": [
      "таблица имеет следующий вид:\n"
     ]
    },
    {
     "data": {
      "text/html": [
       "<div>\n",
       "<style scoped>\n",
       "    .dataframe tbody tr th:only-of-type {\n",
       "        vertical-align: middle;\n",
       "    }\n",
       "\n",
       "    .dataframe tbody tr th {\n",
       "        vertical-align: top;\n",
       "    }\n",
       "\n",
       "    .dataframe thead th {\n",
       "        text-align: right;\n",
       "    }\n",
       "</style>\n",
       "<table border=\"1\" class=\"dataframe\">\n",
       "  <thead>\n",
       "    <tr style=\"text-align: right;\">\n",
       "      <th></th>\n",
       "      <th>title</th>\n",
       "      <th>url</th>\n",
       "      <th>date</th>\n",
       "      <th>availability</th>\n",
       "      <th>id</th>\n",
       "      <th>price</th>\n",
       "      <th>old_price</th>\n",
       "    </tr>\n",
       "  </thead>\n",
       "  <tbody>\n",
       "    <tr>\n",
       "      <th>0</th>\n",
       "      <td>Конверт бумажный для CD/DVD на 1 диск Verbatim (49992) 1 шт.</td>\n",
       "      <td>https://tiraet.com/catalog/Komplektujuschie/aksessuarycomp/sumki-dlja-diskov/konvert_bumazhnyy_dlya_cd_dvd_na_1_disk_verbatim_49992_1_sht/</td>\n",
       "      <td>2024-11-07</td>\n",
       "      <td>Достаточно</td>\n",
       "      <td>88716</td>\n",
       "      <td>1.0</td>\n",
       "      <td>NaN</td>\n",
       "    </tr>\n",
       "    <tr>\n",
       "      <th>1</th>\n",
       "      <td>BOX для CD/DVD Verbatim Slim, на 1 диск 120мм,  PVC (49979) Black 1шт</td>\n",
       "      <td>https://tiraet.com/catalog/Komplektujuschie/aksessuarycomp/sumki-dlja-diskov/box_dlya_cd_dvd_verbatim_slim_na_1_disk_120mm_pvc_49979_black_1sht/</td>\n",
       "      <td>2024-11-07</td>\n",
       "      <td>Много</td>\n",
       "      <td>85078</td>\n",
       "      <td>6.6</td>\n",
       "      <td>NaN</td>\n",
       "    </tr>\n",
       "    <tr>\n",
       "      <th>2</th>\n",
       "      <td>Диск CDR 700MB VERBATIM 52X (1шт.) Extra Protection арт.43787</td>\n",
       "      <td>https://tiraet.com/catalog/Komplektujuschie/aksessuarycomp/diski/disk_cdr_700mb_verbatim_52x_1sht_extra_protection_art_43787/</td>\n",
       "      <td>2024-11-07</td>\n",
       "      <td>Мало</td>\n",
       "      <td>55722</td>\n",
       "      <td>6.6</td>\n",
       "      <td>NaN</td>\n",
       "    </tr>\n",
       "    <tr>\n",
       "      <th>3</th>\n",
       "      <td>Диск CD-R 700MB VERBATIM, 52X (1шт) EXTRA PROTECTION(43411/43351/43437)</td>\n",
       "      <td>https://tiraet.com/catalog/Komplektujuschie/aksessuarycomp/diski/disk_cdr_700mb_verbatim_52x_1sht_extra_protection_43411_43351_43437/</td>\n",
       "      <td>2024-11-07</td>\n",
       "      <td>Много</td>\n",
       "      <td>12819</td>\n",
       "      <td>6.6</td>\n",
       "      <td>NaN</td>\n",
       "    </tr>\n",
       "    <tr>\n",
       "      <th>4</th>\n",
       "      <td>Диск DVD+R VERBATIM 16X 4,7GB  (1шт.)  (43550/43551/43500/43498/43488)</td>\n",
       "      <td>https://tiraet.com/catalog/Komplektujuschie/aksessuarycomp/diski/disk_dvd_r_verbatim_16x_4_7gb_1sht_43550_43551_43500_43498_43488/</td>\n",
       "      <td>2024-11-07</td>\n",
       "      <td>Мало</td>\n",
       "      <td>4975</td>\n",
       "      <td>7.4</td>\n",
       "      <td>NaN</td>\n",
       "    </tr>\n",
       "  </tbody>\n",
       "</table>\n",
       "</div>"
      ],
      "text/plain": [
       "                                                                     title  \\\n",
       "0             Конверт бумажный для CD/DVD на 1 диск Verbatim (49992) 1 шт.   \n",
       "1    BOX для CD/DVD Verbatim Slim, на 1 диск 120мм,  PVC (49979) Black 1шт   \n",
       "2            Диск CDR 700MB VERBATIM 52X (1шт.) Extra Protection арт.43787   \n",
       "3  Диск CD-R 700MB VERBATIM, 52X (1шт) EXTRA PROTECTION(43411/43351/43437)   \n",
       "4   Диск DVD+R VERBATIM 16X 4,7GB  (1шт.)  (43550/43551/43500/43498/43488)   \n",
       "\n",
       "                                                                                                                                                url  \\\n",
       "0        https://tiraet.com/catalog/Komplektujuschie/aksessuarycomp/sumki-dlja-diskov/konvert_bumazhnyy_dlya_cd_dvd_na_1_disk_verbatim_49992_1_sht/   \n",
       "1  https://tiraet.com/catalog/Komplektujuschie/aksessuarycomp/sumki-dlja-diskov/box_dlya_cd_dvd_verbatim_slim_na_1_disk_120mm_pvc_49979_black_1sht/   \n",
       "2                     https://tiraet.com/catalog/Komplektujuschie/aksessuarycomp/diski/disk_cdr_700mb_verbatim_52x_1sht_extra_protection_art_43787/   \n",
       "3             https://tiraet.com/catalog/Komplektujuschie/aksessuarycomp/diski/disk_cdr_700mb_verbatim_52x_1sht_extra_protection_43411_43351_43437/   \n",
       "4                https://tiraet.com/catalog/Komplektujuschie/aksessuarycomp/diski/disk_dvd_r_verbatim_16x_4_7gb_1sht_43550_43551_43500_43498_43488/   \n",
       "\n",
       "        date availability     id  price  old_price  \n",
       "0 2024-11-07   Достаточно  88716    1.0        NaN  \n",
       "1 2024-11-07        Много  85078    6.6        NaN  \n",
       "2 2024-11-07         Мало  55722    6.6        NaN  \n",
       "3 2024-11-07        Много  12819    6.6        NaN  \n",
       "4 2024-11-07         Мало   4975    7.4        NaN  "
      ]
     },
     "metadata": {},
     "output_type": "display_data"
    },
    {
     "name": "stdout",
     "output_type": "stream",
     "text": [
      "****************************************************************************************************\n",
      "таблица имеет 12190 сторок и 7 столбцов\n",
      "****************************************************************************************************\n",
      "в таблице обнаружено дублекатов:0\n",
      "****************************************************************************************************\n",
      "в таблице обнаружены пропуски в следующих столбцах:\n"
     ]
    },
    {
     "data": {
      "text/plain": [
       "title               0\n",
       "url                 0\n",
       "date                0\n",
       "availability        0\n",
       "id                  0\n",
       "price               5\n",
       "old_price       10217\n",
       "dtype: int64"
      ]
     },
     "metadata": {},
     "output_type": "display_data"
    },
    {
     "name": "stdout",
     "output_type": "stream",
     "text": [
      "****************************************************************************************************\n",
      "Эти пропуски составлябт следующее количество в процентах\n"
     ]
    },
    {
     "data": {
      "text/plain": [
       "title            0.0\n",
       "url              0.0\n",
       "date             0.0\n",
       "availability     0.0\n",
       "id               0.0\n",
       "price            0.0\n",
       "old_price       83.8\n",
       "dtype: float64"
      ]
     },
     "metadata": {},
     "output_type": "display_data"
    },
    {
     "name": "stdout",
     "output_type": "stream",
     "text": [
      "****************************************************************************************************\n",
      "столбцы имеют следующие типы:\n"
     ]
    },
    {
     "data": {
      "text/plain": [
       "title                   object\n",
       "url                     object\n",
       "date            datetime64[ns]\n",
       "availability            object\n",
       "id                      object\n",
       "price                  float64\n",
       "old_price              float64\n",
       "dtype: object"
      ]
     },
     "metadata": {},
     "output_type": "display_data"
    },
    {
     "name": "stdout",
     "output_type": "stream",
     "text": [
      "****************************************************************************************************\n",
      "названия столбцов переписаны в нижнем регистре, пробелы заменены на нижнее подчеркивание\n",
      "****************************************************************************************************\n",
      "<class 'pandas.core.frame.DataFrame'>\n",
      "RangeIndex: 12190 entries, 0 to 12189\n",
      "Data columns (total 7 columns):\n",
      " #   Column        Non-Null Count  Dtype         \n",
      "---  ------        --------------  -----         \n",
      " 0   title         12190 non-null  object        \n",
      " 1   url           12190 non-null  object        \n",
      " 2   date          12190 non-null  datetime64[ns]\n",
      " 3   availability  12190 non-null  object        \n",
      " 4   id            12190 non-null  object        \n",
      " 5   price         12185 non-null  float64       \n",
      " 6   old_price     1973 non-null   float64       \n",
      "dtypes: datetime64[ns](1), float64(2), object(4)\n",
      "memory usage: 666.8+ KB\n"
     ]
    },
    {
     "data": {
      "text/plain": [
       "None"
      ]
     },
     "metadata": {},
     "output_type": "display_data"
    }
   ],
   "source": [
    "preprocessing(dft)"
   ]
  },
  {
   "cell_type": "code",
   "execution_count": 31,
   "id": "c3dd1bda",
   "metadata": {},
   "outputs": [],
   "source": [
    "dft = dft.merge(tiraet_group, how='left', on='id')"
   ]
  },
  {
   "cell_type": "markdown",
   "id": "61d30983",
   "metadata": {},
   "source": [
    "Объединяем датафрейм предварительного парсинга с датафреймом о группах и категориях товара"
   ]
  },
  {
   "cell_type": "code",
   "execution_count": 32,
   "id": "4e41f74c",
   "metadata": {},
   "outputs": [],
   "source": [
    "t_df_new = dft[(dft['_category'].isna()) | (dft['_subcategory'].isna()) | (dft['_group'].isna())]"
   ]
  },
  {
   "cell_type": "markdown",
   "id": "f712d24b",
   "metadata": {},
   "source": [
    "Отфильтровываем в отдельный датафрейм данные не содержащие информацию о группах и категориях товара"
   ]
  },
  {
   "cell_type": "code",
   "execution_count": 33,
   "id": "c749214d",
   "metadata": {},
   "outputs": [],
   "source": [
    "dft = dft[~((dft['_category'].isna()) | (dft['_subcategory'].isna()) | (dft['_group'].isna()))]"
   ]
  },
  {
   "cell_type": "markdown",
   "id": "7a7b50bc",
   "metadata": {},
   "source": [
    "Отчищаем основной датафрейм от данных о товарах не содержащих информацию о группах и категориях"
   ]
  },
  {
   "cell_type": "code",
   "execution_count": 34,
   "id": "1f8cd323",
   "metadata": {},
   "outputs": [
    {
     "data": {
      "application/vnd.jupyter.widget-view+json": {
       "model_id": "3fb36cb7f97d48c6ab8f3ce2c0313a85",
       "version_major": 2,
       "version_minor": 0
      },
      "text/plain": [
       "  0%|          | 0/2 [00:00<?, ?it/s]"
      ]
     },
     "metadata": {},
     "output_type": "display_data"
    }
   ],
   "source": [
    "tqdm.pandas() \n",
    "t_df_new[['_category','_subcategory','_group']] = t_df_new['url'].progress_apply(find_groups)"
   ]
  },
  {
   "cell_type": "markdown",
   "id": "8e764ef7",
   "metadata": {},
   "source": [
    "Парсим данные о группах и категориях товара"
   ]
  },
  {
   "cell_type": "code",
   "execution_count": 35,
   "id": "fa7c8b3a",
   "metadata": {},
   "outputs": [],
   "source": [
    "t_data = t_df_new[~(t_df_new['_category']=='err_')].reset_index(drop=True)\n",
    "t_data = t_data[['id', '_category','_subcategory','_group' ]]\n",
    "t_data = t_data.sort_values(['_category','_subcategory', '_group'])"
   ]
  },
  {
   "cell_type": "markdown",
   "id": "b9119afe",
   "metadata": {},
   "source": [
    "Выделяем информацию о группах и категориях нового товара в отдельную переменную и сортируем ее"
   ]
  },
  {
   "cell_type": "code",
   "execution_count": 36,
   "id": "d048a971",
   "metadata": {},
   "outputs": [],
   "source": [
    "tiraet_group = pd.concat([tiraet_group, t_data], ignore_index=True).sort_values(['_category','_subcategory', '_group']).reset_index(drop=True)\n",
    "tiraet_group.to_csv('csv/atiraet_group.csv', index=False)  "
   ]
  },
  {
   "cell_type": "markdown",
   "id": "4333f3e4",
   "metadata": {},
   "source": [
    "Обединяем информацию о группах и категориях товара в один датафрейм и сохраняем ее в старый файл"
   ]
  },
  {
   "cell_type": "code",
   "execution_count": 37,
   "id": "a62a4033",
   "metadata": {},
   "outputs": [],
   "source": [
    "dft = pd.concat([dft, t_df_new], ignore_index=True).sort_values(['_category','_subcategory', '_group']).reset_index(drop=True)"
   ]
  },
  {
   "cell_type": "markdown",
   "id": "d9d853cc",
   "metadata": {},
   "source": [
    "Объединяем очищенный датафрейм с информацией о товарах и группах товаровс новым датафреймом о товарах и группах товаров"
   ]
  },
  {
   "cell_type": "code",
   "execution_count": 38,
   "id": "95a39ad0",
   "metadata": {},
   "outputs": [
    {
     "data": {
      "text/plain": [
       "0"
      ]
     },
     "execution_count": 38,
     "metadata": {},
     "output_type": "execute_result"
    }
   ],
   "source": [
    "dft[dft['_category']=='err_'].id.count()"
   ]
  },
  {
   "cell_type": "markdown",
   "id": "f0786588",
   "metadata": {},
   "source": [
    "смотрим количество данных спарсенное с ошибкой"
   ]
  },
  {
   "cell_type": "code",
   "execution_count": 39,
   "id": "b7d29db4",
   "metadata": {},
   "outputs": [
    {
     "data": {
      "text/html": [
       "<div>\n",
       "<style scoped>\n",
       "    .dataframe tbody tr th:only-of-type {\n",
       "        vertical-align: middle;\n",
       "    }\n",
       "\n",
       "    .dataframe tbody tr th {\n",
       "        vertical-align: top;\n",
       "    }\n",
       "\n",
       "    .dataframe thead th {\n",
       "        text-align: right;\n",
       "    }\n",
       "</style>\n",
       "<table border=\"1\" class=\"dataframe\">\n",
       "  <thead>\n",
       "    <tr style=\"text-align: right;\">\n",
       "      <th></th>\n",
       "      <th>title</th>\n",
       "      <th>url</th>\n",
       "      <th>date</th>\n",
       "      <th>availability</th>\n",
       "      <th>id</th>\n",
       "      <th>price</th>\n",
       "      <th>old_price</th>\n",
       "      <th>_category</th>\n",
       "      <th>_subcategory</th>\n",
       "      <th>_group</th>\n",
       "    </tr>\n",
       "  </thead>\n",
       "  <tbody>\n",
       "  </tbody>\n",
       "</table>\n",
       "</div>"
      ],
      "text/plain": [
       "Empty DataFrame\n",
       "Columns: [title, url, date, availability, id, price, old_price, _category, _subcategory, _group]\n",
       "Index: []"
      ]
     },
     "execution_count": 39,
     "metadata": {},
     "output_type": "execute_result"
    }
   ],
   "source": [
    "dft[dft['_category']=='err_']"
   ]
  },
  {
   "cell_type": "markdown",
   "id": "d8762f63",
   "metadata": {},
   "source": [
    "просматриваем данные спарсенные с ошибкой"
   ]
  },
  {
   "cell_type": "code",
   "execution_count": 40,
   "id": "f68bfd34",
   "metadata": {},
   "outputs": [],
   "source": [
    "dft['error_group'] = 0\n",
    "dft.loc[dft['_category']=='err', 'error_group'] = 1"
   ]
  },
  {
   "cell_type": "markdown",
   "id": "674b7bde",
   "metadata": {},
   "source": [
    "В датафрейме создаем столбец данные в котором равны \"1\", если данные о группе товаров спарсены с ошибкой"
   ]
  },
  {
   "cell_type": "code",
   "execution_count": 41,
   "id": "f44fa25c",
   "metadata": {
    "scrolled": true
   },
   "outputs": [
    {
     "name": "stdout",
     "output_type": "stream",
     "text": [
      "T_автотовары\n",
      "['T_автомагнитола' 'T_авторегистратор' 'T_автохолодильник'\n",
      " 'T_аксессуары_для_авто' 'T_динамики' 'T_компрессор' 'T_компрессоры'\n",
      " 'T_крепления_смартфонов/планшетов' 'T_модулятор_fm' 'T_модуляторы_fm'\n",
      " 'T_навигаторы_gps']\n",
      "----------------------------------------------------------------------------------------------------\n",
      "T_безопасность\n",
      "['T_видеонаблюдение' 'T_домофоны' 'T_монтаж_и_питание'\n",
      " 'T_оборудование_poe' 'T_сигнализация_охранно_пожарная' 'T_скуд'\n",
      " 'T_умный_дом']\n",
      "----------------------------------------------------------------------------------------------------\n",
      "T_бытовая_техника\n",
      "['T_гигиена_здоровье_уход' 'T_климатическая_техника'\n",
      " 'T_крупная_бытовая_техника' 'T_мелкая_бытовая_техника' 'T_телевизоры'\n",
      " 'T_техника_для_кухни' 'T_часы_наручные']\n",
      "----------------------------------------------------------------------------------------------------\n",
      "T_для_дома\n",
      "['T_бытовая_химия' 'T_запасные_части' 'T_инструменты' 'T_крепления'\n",
      " 'T_кухонная_утварь' 'T_мебель' 'T_текстиль' 'T_хозяйственный_инвентарь']\n",
      "----------------------------------------------------------------------------------------------------\n",
      "T_компьютерная_техника\n",
      "['T_аксессуары' 'T_аксессуары_компьютерные' 'T_комплектующие'\n",
      " 'T_компьютер_ноутбук_планшет' 'T_компьютеры_ноутбуки_планшеты'\n",
      " 'T_манипулятор' 'T_манипуляторы' 'T_монитор' 'T_мониторы' 'T_мультимедиа'\n",
      " 'T_накопители' 'T_накопитель']\n",
      "----------------------------------------------------------------------------------------------------\n",
      "T_мобильные_телефоны\n",
      "['T_аксессуары_к_телефонам' 'T_смарт_брелки' 'T_смарт_брелок' 'T_смартфон'\n",
      " 'T_смартфоны' 'T_стабилизаторы_селфи_палки' 'T_стекла_пленки'\n",
      " 'T_телефоны' 'T_чехлы']\n",
      "----------------------------------------------------------------------------------------------------\n",
      "T_мобильные_телефоны_часы\n",
      "['T_аксессуары_к_телефонам' 'T_смартфон' 'T_часы_наручные']\n",
      "----------------------------------------------------------------------------------------------------\n",
      "T_оргтехника\n",
      "['T_банковское_оборудование' 'T_доска_панель_интерактивная'\n",
      " 'T_доски_интерактивные' 'T_коммерческая_визуализация'\n",
      " 'T_печатное_оборудование' 'T_проекционное_оборудование' 'T_сканеры'\n",
      " 'T_телефония' 'T_уничтожители']\n",
      "----------------------------------------------------------------------------------------------------\n",
      "T_расходные_материалы\n",
      "['T_бумага_лента_пленка' 'T_запчасти_принтеров_копиров_факсов'\n",
      " 'T_расходные_3d_принтера' 'T_расходные_картриджей_копиров'\n",
      " 'T_расходные_картриджей_лазерных_принтеров_факсов'\n",
      " 'T_расходные_матричных_принтеров' 'T_расходные_струйных_принтеров'\n",
      " 'T_смазки_и_средства_обслуживания']\n",
      "----------------------------------------------------------------------------------------------------\n",
      "T_светотехника\n",
      "['T_бытовое_освещение' 'T_кабельная_продукция' 'T_лампа' 'T_лампы'\n",
      " 'T_оборудование_электромонтажное' 'T_праздничная_светотехника'\n",
      " 'T_промышленное_офисное_освещение' 'T_разное' 'T_уличное_освещение'\n",
      " 'T_фитосветильники']\n",
      "----------------------------------------------------------------------------------------------------\n",
      "T_сетевое_и_серверное_оборудование\n",
      "['T_адаптер_powerline_усилитель_wifi' 'T_адаптер_беспроводной'\n",
      " 'T_адаптеры_powerline_усилители_wifi' 'T_адаптеры_беспроводные'\n",
      " 'T_аксессуары_к_шкафам' 'T_антенны' 'T_грозозащита' 'T_кабель_патчкорд'\n",
      " 'T_карта_сетевая' 'T_коммутатор' 'T_коммутаторы' 'T_маршрутизатор_модем'\n",
      " 'T_маршрутизаторы_модемы' 'T_медиаконвертер' 'T_медиаконвертеры'\n",
      " 'T_модули_оптические' 'T_пассивное_сетевое_оборудование' 'T_патч_панели'\n",
      " 'T_патчь_панель' 'T_розетка_коннектор' 'T_серверное_оборудование'\n",
      " 'T_серверы' 'T_точка_доступа_мост' 'T_точки_доступа_мост' 'T_шкаф_стойка'\n",
      " 'T_шкафы_стойки']\n",
      "----------------------------------------------------------------------------------------------------\n",
      "T_спорт_и_увлечения\n",
      "['T_игровые_приставки' 'T_игрушки' 'T_персональный_транспорт' 'T_туризм']\n",
      "----------------------------------------------------------------------------------------------------\n",
      "T_спорт_туризм_увлечения\n",
      "['T_игровые_приставки' 'T_туризм']\n",
      "----------------------------------------------------------------------------------------------------\n",
      "T_фото_аудио\n",
      "['T_аудиотехника' 'T_видеотехника' 'T_фототехника']\n",
      "----------------------------------------------------------------------------------------------------\n",
      "T_электропитание\n",
      "['T_блок_бесперебойного_питания' 'T_блок_питания'\n",
      " 'T_блоки_бесперебойного_питания' 'T_блоки_питания'\n",
      " 'T_зарядное_устройство' 'T_зарядные_устройства' 'T_инверторы_напряжения'\n",
      " 'T_стабилизаторы_напряжения' 'T_удлинители' 'T_удлинитель'\n",
      " 'T_элемент_питания' 'T_элементы_питания']\n",
      "----------------------------------------------------------------------------------------------------\n"
     ]
    }
   ],
   "source": [
    "for i in dft['_category'].unique():\n",
    "    t = dft[dft['_category']==i]\n",
    "    print(i)\n",
    "    print(t['_subcategory'].unique())\n",
    "    print('-'*100)"
   ]
  },
  {
   "cell_type": "code",
   "execution_count": 42,
   "id": "7fc96ff3",
   "metadata": {},
   "outputs": [],
   "source": [
    "dft['tir'] = 1"
   ]
  },
  {
   "cell_type": "markdown",
   "id": "7b80f875",
   "metadata": {},
   "source": [
    "## Парсинг c сайта Хайтек"
   ]
  },
  {
   "cell_type": "code",
   "execution_count": 43,
   "id": "064954c3",
   "metadata": {},
   "outputs": [
    {
     "data": {
      "application/vnd.jupyter.widget-view+json": {
       "model_id": "a9a711bd2e734a1486c5d9f7ec72c60d",
       "version_major": 2,
       "version_minor": 0
      },
      "text/plain": [
       "  0%|          | 0/6 [00:00<?, ?it/s]"
      ]
     },
     "metadata": {},
     "output_type": "display_data"
    }
   ],
   "source": [
    "dfh = h_parsing_2(hi_url)"
   ]
  },
  {
   "cell_type": "markdown",
   "id": "41a328c8",
   "metadata": {},
   "source": [
    "предварительный парсинг"
   ]
  },
  {
   "cell_type": "code",
   "execution_count": 44,
   "id": "f7dcb3c2",
   "metadata": {
    "scrolled": true
   },
   "outputs": [],
   "source": [
    "dfh = dfh.drop_duplicates().reset_index(drop=True)"
   ]
  },
  {
   "cell_type": "markdown",
   "id": "fee03afb",
   "metadata": {},
   "source": [
    "удаление дублекатов"
   ]
  },
  {
   "cell_type": "code",
   "execution_count": 45,
   "id": "b41c7edb",
   "metadata": {},
   "outputs": [
    {
     "name": "stdout",
     "output_type": "stream",
     "text": [
      "таблица имеет следующий вид:\n"
     ]
    },
    {
     "data": {
      "text/html": [
       "<div>\n",
       "<style scoped>\n",
       "    .dataframe tbody tr th:only-of-type {\n",
       "        vertical-align: middle;\n",
       "    }\n",
       "\n",
       "    .dataframe tbody tr th {\n",
       "        vertical-align: top;\n",
       "    }\n",
       "\n",
       "    .dataframe thead th {\n",
       "        text-align: right;\n",
       "    }\n",
       "</style>\n",
       "<table border=\"1\" class=\"dataframe\">\n",
       "  <thead>\n",
       "    <tr style=\"text-align: right;\">\n",
       "      <th></th>\n",
       "      <th>url</th>\n",
       "      <th>id</th>\n",
       "      <th>date</th>\n",
       "      <th>availability</th>\n",
       "      <th>title</th>\n",
       "      <th>price</th>\n",
       "      <th>old_price</th>\n",
       "    </tr>\n",
       "  </thead>\n",
       "  <tbody>\n",
       "    <tr>\n",
       "      <th>0</th>\n",
       "      <td>https://hi-tech.md/televizory-i-elektronika/batareyki-i-zaryadnye-ustroystva/batareyka-energenie-eg-ba-cr1220-01/</td>\n",
       "      <td>Т-000088228</td>\n",
       "      <td>2024-11-07</td>\n",
       "      <td>В_наличии</td>\n",
       "      <td>Батарейка Energenie EG-BA-CR1220-01</td>\n",
       "      <td>4.0</td>\n",
       "      <td>NaN</td>\n",
       "    </tr>\n",
       "    <tr>\n",
       "      <th>1</th>\n",
       "      <td>https://hi-tech.md/televizory-i-elektronika/batareyki-i-zaryadnye-ustroystva/batareyka-energenie-eg-ba-cr2016-01/</td>\n",
       "      <td>Т-000088229</td>\n",
       "      <td>2024-11-07</td>\n",
       "      <td>В_наличии</td>\n",
       "      <td>Батарейка Energenie EG-BA-CR2016-01</td>\n",
       "      <td>4.0</td>\n",
       "      <td>NaN</td>\n",
       "    </tr>\n",
       "    <tr>\n",
       "      <th>2</th>\n",
       "      <td>https://hi-tech.md/televizory-i-elektronika/batareyki-i-zaryadnye-ustroystva/batareyka-energenie-eg-ba-aa4-01/</td>\n",
       "      <td>Т-000088221</td>\n",
       "      <td>2024-11-07</td>\n",
       "      <td>В_наличии</td>\n",
       "      <td>Батарейка Energenie EG-BA-AA4-01</td>\n",
       "      <td>5.0</td>\n",
       "      <td>NaN</td>\n",
       "    </tr>\n",
       "    <tr>\n",
       "      <th>3</th>\n",
       "      <td>https://hi-tech.md/televizory-i-elektronika/batareyki-i-zaryadnye-ustroystva/batareyka-energenie-eg-ba-aaa4-01/</td>\n",
       "      <td>Т-000088222</td>\n",
       "      <td>2024-11-07</td>\n",
       "      <td>В_наличии</td>\n",
       "      <td>Батарейка Energenie EG-BA-AAA4-01</td>\n",
       "      <td>5.0</td>\n",
       "      <td>NaN</td>\n",
       "    </tr>\n",
       "    <tr>\n",
       "      <th>4</th>\n",
       "      <td>https://hi-tech.md/televizory-i-elektronika/batareyki-i-zaryadnye-ustroystva/batareyka-energenie-eg-ba-cr2025-01/</td>\n",
       "      <td>Т-000088230</td>\n",
       "      <td>2024-11-07</td>\n",
       "      <td>В_наличии</td>\n",
       "      <td>Батарейка Energenie EG-BA-CR2025-01</td>\n",
       "      <td>5.0</td>\n",
       "      <td>NaN</td>\n",
       "    </tr>\n",
       "  </tbody>\n",
       "</table>\n",
       "</div>"
      ],
      "text/plain": [
       "                                                                                                                 url  \\\n",
       "0  https://hi-tech.md/televizory-i-elektronika/batareyki-i-zaryadnye-ustroystva/batareyka-energenie-eg-ba-cr1220-01/   \n",
       "1  https://hi-tech.md/televizory-i-elektronika/batareyki-i-zaryadnye-ustroystva/batareyka-energenie-eg-ba-cr2016-01/   \n",
       "2     https://hi-tech.md/televizory-i-elektronika/batareyki-i-zaryadnye-ustroystva/batareyka-energenie-eg-ba-aa4-01/   \n",
       "3    https://hi-tech.md/televizory-i-elektronika/batareyki-i-zaryadnye-ustroystva/batareyka-energenie-eg-ba-aaa4-01/   \n",
       "4  https://hi-tech.md/televizory-i-elektronika/batareyki-i-zaryadnye-ustroystva/batareyka-energenie-eg-ba-cr2025-01/   \n",
       "\n",
       "            id       date availability                                title  \\\n",
       "0  Т-000088228 2024-11-07    В_наличии  Батарейка Energenie EG-BA-CR1220-01   \n",
       "1  Т-000088229 2024-11-07    В_наличии  Батарейка Energenie EG-BA-CR2016-01   \n",
       "2  Т-000088221 2024-11-07    В_наличии     Батарейка Energenie EG-BA-AA4-01   \n",
       "3  Т-000088222 2024-11-07    В_наличии    Батарейка Energenie EG-BA-AAA4-01   \n",
       "4  Т-000088230 2024-11-07    В_наличии  Батарейка Energenie EG-BA-CR2025-01   \n",
       "\n",
       "   price  old_price  \n",
       "0    4.0        NaN  \n",
       "1    4.0        NaN  \n",
       "2    5.0        NaN  \n",
       "3    5.0        NaN  \n",
       "4    5.0        NaN  "
      ]
     },
     "metadata": {},
     "output_type": "display_data"
    },
    {
     "name": "stdout",
     "output_type": "stream",
     "text": [
      "****************************************************************************************************\n",
      "таблица имеет 8630 сторок и 7 столбцов\n",
      "****************************************************************************************************\n",
      "в таблице обнаружено дублекатов:0\n",
      "****************************************************************************************************\n",
      "в таблице обнаружены пропуски в следующих столбцах:\n"
     ]
    },
    {
     "data": {
      "text/plain": [
       "url                0\n",
       "id                 0\n",
       "date               0\n",
       "availability       0\n",
       "title              0\n",
       "price              0\n",
       "old_price       6665\n",
       "dtype: int64"
      ]
     },
     "metadata": {},
     "output_type": "display_data"
    },
    {
     "name": "stdout",
     "output_type": "stream",
     "text": [
      "****************************************************************************************************\n",
      "Эти пропуски составлябт следующее количество в процентах\n"
     ]
    },
    {
     "data": {
      "text/plain": [
       "url              0.0\n",
       "id               0.0\n",
       "date             0.0\n",
       "availability     0.0\n",
       "title            0.0\n",
       "price            0.0\n",
       "old_price       77.2\n",
       "dtype: float64"
      ]
     },
     "metadata": {},
     "output_type": "display_data"
    },
    {
     "name": "stdout",
     "output_type": "stream",
     "text": [
      "****************************************************************************************************\n",
      "столбцы имеют следующие типы:\n"
     ]
    },
    {
     "data": {
      "text/plain": [
       "url                     object\n",
       "id                      object\n",
       "date            datetime64[ns]\n",
       "availability            object\n",
       "title                   object\n",
       "price                  float64\n",
       "old_price              float64\n",
       "dtype: object"
      ]
     },
     "metadata": {},
     "output_type": "display_data"
    },
    {
     "name": "stdout",
     "output_type": "stream",
     "text": [
      "****************************************************************************************************\n",
      "названия столбцов переписаны в нижнем регистре, пробелы заменены на нижнее подчеркивание\n",
      "****************************************************************************************************\n",
      "<class 'pandas.core.frame.DataFrame'>\n",
      "RangeIndex: 8630 entries, 0 to 8629\n",
      "Data columns (total 7 columns):\n",
      " #   Column        Non-Null Count  Dtype         \n",
      "---  ------        --------------  -----         \n",
      " 0   url           8630 non-null   object        \n",
      " 1   id            8630 non-null   object        \n",
      " 2   date          8630 non-null   datetime64[ns]\n",
      " 3   availability  8630 non-null   object        \n",
      " 4   title         8630 non-null   object        \n",
      " 5   price         8630 non-null   float64       \n",
      " 6   old_price     1965 non-null   float64       \n",
      "dtypes: datetime64[ns](1), float64(2), object(4)\n",
      "memory usage: 472.1+ KB\n"
     ]
    },
    {
     "data": {
      "text/plain": [
       "None"
      ]
     },
     "metadata": {},
     "output_type": "display_data"
    }
   ],
   "source": [
    "preprocessing(dfh)"
   ]
  },
  {
   "cell_type": "code",
   "execution_count": 46,
   "id": "fcbc897e",
   "metadata": {},
   "outputs": [],
   "source": [
    "hai_group = hai_group.drop_duplicates(keep=False )"
   ]
  },
  {
   "cell_type": "code",
   "execution_count": 47,
   "id": "09ff7ce5",
   "metadata": {},
   "outputs": [],
   "source": [
    "dfh = dfh.merge(hai_group, how='left', on='id')"
   ]
  },
  {
   "cell_type": "markdown",
   "id": "00551e3b",
   "metadata": {},
   "source": [
    "обединение таблиц предварительного парсинга и таблицы групп товаров"
   ]
  },
  {
   "cell_type": "code",
   "execution_count": 48,
   "id": "e4242e86",
   "metadata": {},
   "outputs": [],
   "source": [
    "h_df_new = dfh[(dfh['_category'].isna()) | (dfh['_subcategory'].isna()) | (dfh['_group'].isna()) | (dfh['_subgroup'].isna())]"
   ]
  },
  {
   "cell_type": "markdown",
   "id": "57fc730a",
   "metadata": {},
   "source": [
    "создание тыблицы с товарами, у которых нет данных о группах"
   ]
  },
  {
   "cell_type": "code",
   "execution_count": 49,
   "id": "7a191804",
   "metadata": {},
   "outputs": [],
   "source": [
    "dfh = dfh[~((dfh['_category'].isna()) | (dfh['_subcategory'].isna()) | (dfh['_group'].isna()) | (dfh['_subgroup'].isna()))]"
   ]
  },
  {
   "cell_type": "markdown",
   "id": "7187aa58",
   "metadata": {},
   "source": [
    "отчистка таблицы парсинга от пропусков"
   ]
  },
  {
   "cell_type": "code",
   "execution_count": 50,
   "id": "ab37478d",
   "metadata": {},
   "outputs": [],
   "source": [
    "if len(h_df_new) > 0:\n",
    "    tqdm.pandas() \n",
    "    h_df_new[['_category','_subcategory','_group','_subgroup']] = h_df_new['url'].progress_apply(h_xxx)\n",
    "else:\n",
    "    pass"
   ]
  },
  {
   "cell_type": "code",
   "execution_count": 51,
   "id": "b4b71738",
   "metadata": {},
   "outputs": [],
   "source": [
    "h_data = h_df_new[~((h_df_new['_category']=='err1') | (h_df_new['_category']=='err0'))].reset_index(drop=True)\n",
    "h_data = h_data[['id', '_category','_subcategory','_group', '_subgroup']]\n",
    "h_data = h_data.sort_values(['_category','_subcategory', '_group', '_subgroup'])"
   ]
  },
  {
   "cell_type": "markdown",
   "id": "65d97636",
   "metadata": {},
   "source": [
    "создание таблици с группами нового товара"
   ]
  },
  {
   "cell_type": "code",
   "execution_count": 52,
   "id": "73c52ca7",
   "metadata": {},
   "outputs": [],
   "source": [
    "hai_group = pd.concat([hai_group, h_data], ignore_index=True).sort_values(['_category','_subcategory', '_group', '_subgroup']).reset_index(drop=True)\n",
    "hai_group.to_csv('csv/ahay_group.csv', index=False)  "
   ]
  },
  {
   "cell_type": "markdown",
   "id": "e114f6ef",
   "metadata": {},
   "source": [
    "добавление в таблицу с группами товара новых данных"
   ]
  },
  {
   "cell_type": "code",
   "execution_count": 53,
   "id": "ea897ac9",
   "metadata": {},
   "outputs": [],
   "source": [
    "dfh = pd.concat([dfh, h_df_new], ignore_index=True).sort_values(['_category','_subcategory', '_group', '_subgroup']).reset_index(drop=True)"
   ]
  },
  {
   "cell_type": "markdown",
   "id": "8084b2ce",
   "metadata": {},
   "source": [
    "объединение таблици со старыми и новыми товарами"
   ]
  },
  {
   "cell_type": "code",
   "execution_count": 54,
   "id": "e007213d",
   "metadata": {},
   "outputs": [],
   "source": [
    "dfh['error_group'] = 0\n",
    "dfh.loc[dfh['_subgroup'].isna(), 'error_group'] = 1\n",
    "dfh.loc[dfh['_subgroup']=='err0', 'error_group'] = 1\n",
    "dfh.loc[dfh['_subgroup']=='err1', 'error_group'] = 1"
   ]
  },
  {
   "cell_type": "markdown",
   "id": "c6475ce8",
   "metadata": {},
   "source": [
    "Создание столбцов с флагом ошибки для товаров, для которых нет данных по остаткам хотябы в одном магазине"
   ]
  },
  {
   "cell_type": "code",
   "execution_count": 55,
   "id": "bd3fe729",
   "metadata": {},
   "outputs": [],
   "source": [
    "dfh.loc[dfh['error_group']==1 , ['_category',\n",
    "       '_subcategory', '_group', '_subgroup']] = 'H_no_group'"
   ]
  },
  {
   "cell_type": "markdown",
   "id": "95bf7a26",
   "metadata": {},
   "source": [
    "удаление наличия товара в магазинах и наименовании группы если у товара есть ошибки в этих данны"
   ]
  },
  {
   "cell_type": "code",
   "execution_count": 56,
   "id": "2cc0d63f",
   "metadata": {},
   "outputs": [],
   "source": [
    "dfh = dfh[['url', 'id', '_category', '_subcategory', '_group', '_subgroup', 'title',\n",
    "               'date',   'price', 'old_price', 'availability', 'error_group', ]]"
   ]
  },
  {
   "cell_type": "code",
   "execution_count": 57,
   "id": "fbefe837",
   "metadata": {},
   "outputs": [],
   "source": [
    "dfh['tir'] = 0"
   ]
  },
  {
   "cell_type": "markdown",
   "id": "dbe487ad",
   "metadata": {},
   "source": [
    "изменение порядка располажения столбцов"
   ]
  },
  {
   "cell_type": "markdown",
   "id": "1c22a8c4",
   "metadata": {},
   "source": [
    "### Группировка товара"
   ]
  },
  {
   "cell_type": "markdown",
   "id": "01f53120",
   "metadata": {},
   "source": [
    "- разобраться с креслами в ногруп"
   ]
  },
  {
   "cell_type": "code",
   "execution_count": 58,
   "id": "cec421d4",
   "metadata": {},
   "outputs": [],
   "source": [
    "dfh.loc[dfh['_category']=='H_товар_без_акции', '_category'] = 'H_no_group'\n",
    "dfh.loc[dfh['_category']=='H_товар_по_акции', '_category'] = 'H_no_group'\n",
    "dfh.loc[dfh['_subcategory']=='H_мультимедиа', '_subcategory'] = 'H_аудиосистемы'\n",
    "dfh.loc[dfh['_group']=='H_акустические_системы', '_group'] = 'H_акустика'\n",
    "dfh.loc[dfh['_group']=='H_музыкальная_техника', '_group'] = 'H_акустика'\n",
    "dfh.loc[dfh['_subcategory']=='H_умный_дом_с_яндекс','_subcategory'] = 'H_аудиосистемы'\n",
    "dfh.loc[dfh['_group']=='H_яндекс_станции', '_group'] = 'H_акустика'\n",
    "dfh.loc[dfh['_group']=='H_airpods', '_subcategory'] = 'H_аудиосистемы'\n",
    "dfh.loc[dfh['_group']=='H_airpods', '_group'] = 'H_наушники'\n",
    "dfh.loc[dfh['_group']=='H_apple_watch', '_group'] = 'H_часы_и_браслеты'\n",
    "dfh.loc[dfh['_group']=='H_iphone', '_group'] = 'H_смартфоны'\n",
    "dfh.loc[dfh['_group']=='H_ipad', '_group'] = 'H_планшеты'\n",
    "dfh.loc[dfh['_group']=='H_macbook', '_group'] = 'H_ноутбуки'\n",
    "dfh.loc[dfh['_group']=='H_imac', '_group'] = 'H_моноблоки'\n",
    "dfh.loc[dfh['_group']=='H_часы_и_браслеты', '_subcategory'] = 'H_гаджеты'\n",
    "dfh.loc[dfh['_group']=='H_смартфоны', '_subcategory'] = 'H_смартфоны_и_аксессуары'\n",
    "dfh.loc[dfh['_group']=='H_планшеты', '_subcategory'] = 'H_готовые_решения'\n",
    "dfh.loc[dfh['_group']=='H_ноутбуки', '_subcategory'] = 'H_готовые_решения'\n",
    "dfh.loc[dfh['_group']=='H_моноблоки', '_subcategory'] = 'H_готовые_решения'\n",
    "dfh.loc[dfh['_subcategory']=='H_стиральные_и_сушильные_машины', '_group'] = 'H_стиральные_машины'\n",
    "dfh.loc[dfh['_subgroup']=='H_сушильные_машины', '_group'] = 'H_сушильные_машины'\n",
    "dfh.loc[dfh['_subgroup']=='H_наклейки', '_group'] = 'H_наклейки'\n",
    "dfh.loc[dfh['_subgroup']=='H_подставки', '_group'] = 'H_подставки'\n",
    "dfh.loc[dfh['_subgroup']=='H_замки', '_group'] = 'H_замки'\n",
    "dfh.loc[dfh['_subgroup']=='H_usb_hub', '_group'] = 'H_usb_hub'\n",
    "dfh.loc[dfh['_subgroup']=='H_сумки_и_чехлы', '_group'] = 'H_сумки_и_чехлы'\n",
    "dfh.loc[dfh['_subgroup']=='H_защитные_стекла', '_group'] = 'H_защитные_стекла'\n",
    "dfh.loc[dfh['_subcategory']=='H_мониторы','_group'] = 'H_мониторы'"
   ]
  },
  {
   "cell_type": "code",
   "execution_count": 59,
   "id": "517b0314",
   "metadata": {
    "scrolled": true
   },
   "outputs": [
    {
     "name": "stdout",
     "output_type": "stream",
     "text": [
      "H_бытовая_техника\n",
      "['H_аксессуары_для_мелкой_бытовой_техники' 'H_климатическая_техника'\n",
      " 'H_крупная_техника_для_кухни' 'H_мелкая_техника_для_кухни' 'H_минимойки'\n",
      " 'H_приготовление_напитков' 'H_приготовление_пищи'\n",
      " 'H_пылесосы_и_аксессуары' 'H_стиральные_и_сушильные_машины'\n",
      " 'H_техника_karcher' 'H_техника_для_здоровья' 'H_техника_для_красоты'\n",
      " 'H_товары_для_ухода_за_одеждой' 'H_установка_бытовой_техники']\n",
      "----------------------------------------------------------------------------------------------------\n",
      "H_компьютерная_техника\n",
      "['H_аудиосистемы' 'H_гаджеты' 'H_apple' 'H_готовые_решения'\n",
      " 'H_смартфоны_и_аксессуары' 'H_аксессуары' 'H_видеотехника'\n",
      " 'H_игровые_приставки' 'H_комплектующие' 'H_крепления' 'H_мониторы'\n",
      " 'H_накопители' 'H_оргтехника' 'H_периферийные_устройства'\n",
      " 'H_проекторы_и_экраны' 'H_расходные_материалы' 'H_сетевое_оборудование'\n",
      " 'H_электропитание']\n",
      "----------------------------------------------------------------------------------------------------\n",
      "H_мебель_текстиль\n",
      "['H_мебель_для_офиса']\n",
      "----------------------------------------------------------------------------------------------------\n",
      "H_по_умолчанию\n",
      "['H_по_умолчанию']\n",
      "----------------------------------------------------------------------------------------------------\n",
      "H_стройка_и_ремонт\n",
      "['H_полупромышленная_техника' 'H_техника_для_дома' 'H_электроинструменты']\n",
      "----------------------------------------------------------------------------------------------------\n",
      "H_телевизоры_и_электроника\n",
      "['H_аудиосистемы' 'H_батарейки_и_зарядные_устройства' 'H_гаджеты'\n",
      " 'H_крепления_для_тв' 'H_приставки_для_тв' 'H_смартфоны_и_аксессуары'\n",
      " 'H_телевизоры' 'H_телефоны_dect_и_проводные' 'H_умный_дом']\n",
      "----------------------------------------------------------------------------------------------------\n",
      "H_no_group\n",
      "['H_товар_без_акции' 'H_товар_по_акции']\n",
      "----------------------------------------------------------------------------------------------------\n",
      "H_товары_для_дома\n",
      "['H_бытовая_химия' 'H_кухонные_принадлежности' 'H_освещение'\n",
      " 'H_посуда_для_духовок_и_микроволновых_печей' 'H_приготовление_напитков'\n",
      " 'H_приготовление_пищи' 'H_сервировка_стола']\n",
      "----------------------------------------------------------------------------------------------------\n"
     ]
    }
   ],
   "source": [
    "for i in dfh['_category'].unique():\n",
    "    t = dfh[dfh['_category']==i]\n",
    "    print(i)\n",
    "    print(t['_subcategory'].unique())\n",
    "    print('-'*100)"
   ]
  },
  {
   "cell_type": "code",
   "execution_count": 60,
   "id": "e7b973f8",
   "metadata": {
    "scrolled": true
   },
   "outputs": [
    {
     "name": "stdout",
     "output_type": "stream",
     "text": [
      "H_аксессуары_для_мелкой_бытовой_техники\n",
      "['H_аксессуары_для_зубных_щеток' 'H_аксессуары_для_электрических_бритв']\n",
      "----------------------------------------------------------------------------------------------------\n",
      "H_климатическая_техника\n",
      "['H_бойлеры' 'H_вентиляторы' 'H_комплектующие_для_климатической_техники'\n",
      " 'H_кондиционеры' 'H_кондиционеры_кассетные' 'H_кондиционеры_мульти_сплит'\n",
      " 'H_кондиционеры_промышленные' 'H_котлы_газовые' 'H_обогреватели'\n",
      " 'H_отопительные_печи' 'H_увлажнители_комплексы']\n",
      "----------------------------------------------------------------------------------------------------\n",
      "H_крупная_техника_для_кухни\n",
      "['H_варочные_поверхности' 'H_вытяжки' 'H_духовые_шкафы'\n",
      " 'H_кронштейны_для_микроволновых_печей' 'H_микроволновые_печи'\n",
      " 'H_морозильники_и_лари' 'H_плиты_газовые_и_электрические'\n",
      " 'H_посудомоечные_машины' 'H_холодильники' 'H_электропечи_и_духовки']\n",
      "----------------------------------------------------------------------------------------------------\n",
      "H_мелкая_техника_для_кухни\n",
      "['H_блендеры' 'H_вакууматоры' 'H_весы_кухонные' 'H_генераторы_льда'\n",
      " 'H_кухонные_комбайны' 'H_ломтерезки' 'H_миксеры' 'H_соковыжималки'\n",
      " 'H_соковыжималки_для_цитрусов' 'H_тостеры' 'H_чопперы'\n",
      " 'H_электромясорубки']\n",
      "----------------------------------------------------------------------------------------------------\n",
      "H_минимойки\n",
      "['H_минимойки']\n",
      "----------------------------------------------------------------------------------------------------\n",
      "H_приготовление_напитков\n",
      "['H_кофе' 'H_кофеварки' 'H_кофемашины' 'H_кофемолки' 'H_термопоты'\n",
      " 'H_турки_электрические' 'H_электрические_чайники' 'H_заварочные_чайники'\n",
      " 'H_кофеварки_гейзерные' 'H_термосы_термокружки_термосумки' 'H_турки'\n",
      " 'H_фильтры_для_воды' 'H_чайники_для_плиты']\n",
      "----------------------------------------------------------------------------------------------------\n",
      "H_приготовление_пищи\n",
      "['H_йогуртницы' 'H_мультиварки' 'H_мультиварки_скороварки' 'H_пароварки'\n",
      " 'H_сушилки_для_фруктов' 'H_сэндвичницы_и_вафельницы'\n",
      " 'H_фритюрницы_и_аэрогрили' 'H_хлебопечи' 'H_электрогрили' 'H_кастрюли'\n",
      " 'H_ковши' 'H_крышки' 'H_наборы_посуды' 'H_сковороды' 'H_сотейники']\n",
      "----------------------------------------------------------------------------------------------------\n",
      "H_пылесосы_и_аксессуары\n",
      "['H_аксессуары_к_пылесосам' 'H_пылесосы' 'H_фильтры_и_мешки_для_пыли']\n",
      "----------------------------------------------------------------------------------------------------\n",
      "H_стиральные_и_сушильные_машины\n",
      "['H_стиральные_машины' 'H_сушильные_машины']\n",
      "----------------------------------------------------------------------------------------------------\n",
      "H_техника_karcher\n",
      "['H_комплектующие_и_сопутствующие_товары_karcher'\n",
      " 'H_мешки_и_фильтры_karcher']\n",
      "----------------------------------------------------------------------------------------------------\n",
      "H_техника_для_здоровья\n",
      "['H_ирригаторы' 'H_массажеры' 'H_массажеры_ванночки_для_ног'\n",
      " 'H_медицинские_приборы' 'H_электрические_зубные_щетки']\n",
      "----------------------------------------------------------------------------------------------------\n",
      "H_техника_для_красоты\n",
      "['H_весы_напольные' 'H_выпрямители_и_плойки_для_волос'\n",
      " 'H_наборы_для_укладки_волос' 'H_плойки' 'H_триммеры_машинки_для_стрижки'\n",
      " 'H_фены_для_волос' 'H_электрические_бритвы' 'H_эпиляторы']\n",
      "----------------------------------------------------------------------------------------------------\n",
      "H_товары_для_ухода_за_одеждой\n",
      "['H_гладильные_доски' 'H_машинки_для_удаления_катышков'\n",
      " 'H_отпариватели_для_одежды' 'H_парогенераторы' 'H_сушилки_для_белья'\n",
      " 'H_утюги' 'H_швейные_машины']\n",
      "----------------------------------------------------------------------------------------------------\n",
      "H_установка_бытовой_техники\n",
      "['H_установка_бытовой_техники']\n",
      "----------------------------------------------------------------------------------------------------\n",
      "H_аудиосистемы\n",
      "['H_наушники' 'H_акустика' 'H_микрофоны' 'H_радио' 'H_аудиосистемы'\n",
      " 'H_плееры' 'H_саундбары']\n",
      "----------------------------------------------------------------------------------------------------\n",
      "H_гаджеты\n",
      "['H_часы_и_браслеты' 'H_умный_дом']\n",
      "----------------------------------------------------------------------------------------------------\n",
      "H_apple\n",
      "['H_homepod' 'H_аксессуары']\n",
      "----------------------------------------------------------------------------------------------------\n",
      "H_готовые_решения\n",
      "['H_планшеты' 'H_ноутбуки' 'H_системные_блоки' 'H_электронные_книги']\n",
      "----------------------------------------------------------------------------------------------------\n",
      "H_смартфоны_и_аксессуары\n",
      "['H_смартфоны' 'H_смартфоны_и_аксессуары' 'H_чехлы']\n",
      "----------------------------------------------------------------------------------------------------\n",
      "H_аксессуары\n",
      "['H_cardreader' 'H_usb_hub' 'H_замки' 'H_наклейки' 'H_подставки'\n",
      " 'H_сумки_и_чехлы' 'H_защитные_стекла' 'H_кабели_и_переходники'\n",
      " 'H_карманы']\n",
      "----------------------------------------------------------------------------------------------------\n",
      "H_видеотехника\n",
      "['H_видеонаблюдение' 'H_видеорегистраторы']\n",
      "----------------------------------------------------------------------------------------------------\n",
      "H_игровые_приставки\n",
      "['H_геймпады' 'H_приставки']\n",
      "----------------------------------------------------------------------------------------------------\n",
      "H_комплектующие\n",
      "['H_блоки_питания' 'H_видеокарты' 'H_звуковые_карты' 'H_корпуса'\n",
      " 'H_материнские_платы' 'H_модули_памяти' 'H_накопитель_(hdd)'\n",
      " 'H_накопитель_(ssd)' 'H_оптические_приводы' 'H_процессоры'\n",
      " 'H_системы_охлаждения' 'H_термопаста']\n",
      "----------------------------------------------------------------------------------------------------\n",
      "H_крепления\n",
      "['H_крепления']\n",
      "----------------------------------------------------------------------------------------------------\n",
      "H_мониторы\n",
      "['H_мониторы']\n",
      "----------------------------------------------------------------------------------------------------\n",
      "H_накопители\n",
      "['H_внешние_hdd_|_ssd' 'H_диски_cd_|_dvd' 'H_карты_памяти_sd_|_microsd'\n",
      " 'H_флешки_usb_|_type_c']\n",
      "----------------------------------------------------------------------------------------------------\n",
      "H_оргтехника\n",
      "['H_кабели' 'H_принтеры_и_мфу' 'H_сканеры' 'H_уничтожители_документов']\n",
      "----------------------------------------------------------------------------------------------------\n",
      "H_периферийные_устройства\n",
      "['H_веб_камеры' 'H_клавиатуры' 'H_манипуляторы' 'H_мыши' 'H_поверхности'\n",
      " 'H_рули']\n",
      "----------------------------------------------------------------------------------------------------\n",
      "H_проекторы_и_экраны\n",
      "['H_проекторы' 'H_экраны']\n",
      "----------------------------------------------------------------------------------------------------\n",
      "H_расходные_материалы\n",
      "['H_бумага' 'H_зипы' 'H_картриджи' 'H_стяжки' 'H_тонер' 'H_чернила'\n",
      " 'H_чистящие_средства']\n",
      "----------------------------------------------------------------------------------------------------\n",
      "H_сетевое_оборудование\n",
      "['H_адаптеры' 'H_инструмент' 'H_кабель_сетевой' 'H_карты_сетевые'\n",
      " 'H_коммутаторы' 'H_патч_корды' 'H_повторители_wifi' 'H_розетки'\n",
      " 'H_сетевые_шкафы' 'H_точки_доступа']\n",
      "----------------------------------------------------------------------------------------------------\n",
      "H_электропитание\n",
      "['H_powerbank' 'H_батареи' 'H_блоки_питания' 'H_зарядные_устройства'\n",
      " 'H_ибп' 'H_инверторы' 'H_стабилизаторы' 'H_фильтры']\n",
      "----------------------------------------------------------------------------------------------------\n",
      "H_мебель_для_офиса\n",
      "['H_офисные_кресла_и_стулья']\n",
      "----------------------------------------------------------------------------------------------------\n",
      "H_по_умолчанию\n",
      "['H_по_умолчанию']\n",
      "----------------------------------------------------------------------------------------------------\n",
      "H_полупромышленная_техника\n",
      "['H_климатическая_техника']\n",
      "----------------------------------------------------------------------------------------------------\n",
      "H_техника_для_дома\n",
      "['H_газонокосилки_и_триммеры' 'H_минимойки' 'H_пароочистители']\n",
      "----------------------------------------------------------------------------------------------------\n",
      "H_электроинструменты\n",
      "['H_автомобильные_компрессоры' 'H_аппараты_для_сварки' 'H_дрели'\n",
      " 'H_инструмент_для_работы_по_дереву'\n",
      " 'H_наборы_инструментов_и_измерительные_приборы' 'H_перфораторы'\n",
      " 'H_расходные_материалы' 'H_строительные_фены' 'H_шлифовальные_машинки'\n",
      " 'H_шуруповерты']\n",
      "----------------------------------------------------------------------------------------------------\n",
      "H_батарейки_и_зарядные_устройства\n",
      "['H_батарейки_и_зарядные_устройства']\n",
      "----------------------------------------------------------------------------------------------------\n",
      "H_крепления_для_тв\n",
      "['H_крепления_для_тв']\n",
      "----------------------------------------------------------------------------------------------------\n",
      "H_приставки_для_тв\n",
      "['H_приставки_для_тв']\n",
      "----------------------------------------------------------------------------------------------------\n",
      "H_телевизоры\n",
      "['H_телевизоры' 'H_телевизоры_samsung']\n",
      "----------------------------------------------------------------------------------------------------\n",
      "H_телефоны_dect_и_проводные\n",
      "['H_телефоны_dect_и_проводные']\n",
      "----------------------------------------------------------------------------------------------------\n",
      "H_умный_дом\n",
      "['H_умный_дом']\n",
      "----------------------------------------------------------------------------------------------------\n",
      "H_товар_без_акции\n",
      "['H_товар_без_акции']\n",
      "----------------------------------------------------------------------------------------------------\n",
      "H_товар_по_акции\n",
      "['H_товар_по_акции']\n",
      "----------------------------------------------------------------------------------------------------\n",
      "H_бытовая_химия\n",
      "['H_средства_для_посудомоечных_машин' 'H_средства_для_стирки'\n",
      " 'H_средства_по_уходу_за_техникой']\n",
      "----------------------------------------------------------------------------------------------------\n",
      "H_кухонные_принадлежности\n",
      "['H_кухонные_аксессуары' 'H_ножи'\n",
      " 'H_ёмкости_для_сыпучих_и_контейнеры_для_еды']\n",
      "----------------------------------------------------------------------------------------------------\n",
      "H_освещение\n",
      "['H_бра' 'H_лампочки_' 'H_лампы_настольные' 'H_люстры'\n",
      " 'H_светильники_светодиодные' 'H_торшеры' 'H_фонари']\n",
      "----------------------------------------------------------------------------------------------------\n",
      "H_посуда_для_духовок_и_микроволновых_печей\n",
      "['H_формы_и_противни']\n",
      "----------------------------------------------------------------------------------------------------\n",
      "H_сервировка_стола\n",
      "['H_кофейные_и_чайные_чашки' 'H_прочие_предметы_сервировки'\n",
      " 'H_салатники_и_блюда_' 'H_сервировка_стола' 'H_столовые_приборы'\n",
      " 'H_столовые_сервизы_и_тарелки' 'H_фужеры_бокалы_стаканы']\n",
      "----------------------------------------------------------------------------------------------------\n"
     ]
    }
   ],
   "source": [
    "for i in dfh['_subcategory'].unique():\n",
    "    t = dfh[dfh['_subcategory']==i]\n",
    "    print(i)\n",
    "    print(t['_group'].unique())\n",
    "    print('-'*100)"
   ]
  },
  {
   "cell_type": "markdown",
   "id": "ad4ae26c",
   "metadata": {},
   "source": [
    "просмотр групп товаров в подкатегориях"
   ]
  },
  {
   "cell_type": "code",
   "execution_count": 61,
   "id": "1de3d753",
   "metadata": {
    "scrolled": true
   },
   "outputs": [
    {
     "name": "stdout",
     "output_type": "stream",
     "text": [
      "H_аксессуары_для_зубных_щеток\n",
      "['H_аксессуары_для_зубных_щеток']\n",
      "----------------------------------------------------------------------------------------------------\n",
      "H_аксессуары_для_электрических_бритв\n",
      "['H_аксессуары_для_электрических_бритв']\n",
      "----------------------------------------------------------------------------------------------------\n",
      "H_бойлеры\n",
      "['H_бойлеры']\n",
      "----------------------------------------------------------------------------------------------------\n",
      "H_вентиляторы\n",
      "['H_вентиляторы']\n",
      "----------------------------------------------------------------------------------------------------\n",
      "H_комплектующие_для_климатической_техники\n",
      "['H_комплектующие_для_климатической_техники']\n",
      "----------------------------------------------------------------------------------------------------\n",
      "H_кондиционеры\n",
      "['H_кондиционеры']\n",
      "----------------------------------------------------------------------------------------------------\n",
      "H_кондиционеры_кассетные\n",
      "['H_кондиционеры_кассетные']\n",
      "----------------------------------------------------------------------------------------------------\n",
      "H_кондиционеры_мульти_сплит\n",
      "['H_кондиционеры_мульти_сплит']\n",
      "----------------------------------------------------------------------------------------------------\n",
      "H_кондиционеры_промышленные\n",
      "['H_кондиционеры_промышленные']\n",
      "----------------------------------------------------------------------------------------------------\n",
      "H_котлы_газовые\n",
      "['H_котлы_газовые']\n",
      "----------------------------------------------------------------------------------------------------\n",
      "H_обогреватели\n",
      "['H_обогреватели']\n",
      "----------------------------------------------------------------------------------------------------\n",
      "H_отопительные_печи\n",
      "['H_отопительные_печи']\n",
      "----------------------------------------------------------------------------------------------------\n",
      "H_увлажнители_комплексы\n",
      "['H_увлажнители_комплексы']\n",
      "----------------------------------------------------------------------------------------------------\n",
      "H_варочные_поверхности\n",
      "['H_варочные_поверхности']\n",
      "----------------------------------------------------------------------------------------------------\n",
      "H_вытяжки\n",
      "['H_вытяжки']\n",
      "----------------------------------------------------------------------------------------------------\n",
      "H_духовые_шкафы\n",
      "['H_духовые_шкафы']\n",
      "----------------------------------------------------------------------------------------------------\n",
      "H_кронштейны_для_микроволновых_печей\n",
      "['H_кронштейны_для_микроволновых_печей']\n",
      "----------------------------------------------------------------------------------------------------\n",
      "H_микроволновые_печи\n",
      "['H_микроволновые_печи']\n",
      "----------------------------------------------------------------------------------------------------\n",
      "H_морозильники_и_лари\n",
      "['H_морозильники' 'H_морозильные_лари']\n",
      "----------------------------------------------------------------------------------------------------\n",
      "H_плиты_газовые_и_электрические\n",
      "['H_газовые_плиты' 'H_комбинированные_плиты'\n",
      " 'H_плиты_газовые_и_электрические' 'H_электрические_плиты']\n",
      "----------------------------------------------------------------------------------------------------\n",
      "H_посудомоечные_машины\n",
      "['H_посудомоечные_машины']\n",
      "----------------------------------------------------------------------------------------------------\n",
      "H_холодильники\n",
      "['H_side_by_side_и_french_door' 'H_встраиваемые_холодильники'\n",
      " 'H_однодверные_холодильники' 'H_с_верхней_морозильной_камерой'\n",
      " 'H_с_нижней_морозильной_камерой' 'H_холодильники'\n",
      " 'H_широкие_холодильники']\n",
      "----------------------------------------------------------------------------------------------------\n",
      "H_электропечи_и_духовки\n",
      "['H_электропечи_и_духовки']\n",
      "----------------------------------------------------------------------------------------------------\n",
      "H_блендеры\n",
      "['H_блендеры_погружные' 'H_блендеры_стационарные']\n",
      "----------------------------------------------------------------------------------------------------\n",
      "H_вакууматоры\n",
      "['H_вакууматоры']\n",
      "----------------------------------------------------------------------------------------------------\n",
      "H_весы_кухонные\n",
      "['H_весы_кухонные']\n",
      "----------------------------------------------------------------------------------------------------\n",
      "H_генераторы_льда\n",
      "['H_генераторы_льда']\n",
      "----------------------------------------------------------------------------------------------------\n",
      "H_кухонные_комбайны\n",
      "['H_кухонные_комбайны']\n",
      "----------------------------------------------------------------------------------------------------\n",
      "H_ломтерезки\n",
      "['H_ломтерезки']\n",
      "----------------------------------------------------------------------------------------------------\n",
      "H_миксеры\n",
      "['H_миксеры' 'H_миксеры_планетарные' 'H_миксеры_ручные'\n",
      " 'H_миксеры_стационарные']\n",
      "----------------------------------------------------------------------------------------------------\n",
      "H_соковыжималки\n",
      "['H_соковыжималки']\n",
      "----------------------------------------------------------------------------------------------------\n",
      "H_соковыжималки_для_цитрусов\n",
      "['H_соковыжималки_для_цитрусов']\n",
      "----------------------------------------------------------------------------------------------------\n",
      "H_тостеры\n",
      "['H_тостеры']\n",
      "----------------------------------------------------------------------------------------------------\n",
      "H_чопперы\n",
      "['H_чопперы']\n",
      "----------------------------------------------------------------------------------------------------\n",
      "H_электромясорубки\n",
      "['H_электромясорубки']\n",
      "----------------------------------------------------------------------------------------------------\n",
      "H_минимойки\n",
      "['H_минимойки']\n",
      "----------------------------------------------------------------------------------------------------\n",
      "H_кофе\n",
      "['H_кофе']\n",
      "----------------------------------------------------------------------------------------------------\n",
      "H_кофеварки\n",
      "['H_кофеварки']\n",
      "----------------------------------------------------------------------------------------------------\n",
      "H_кофемашины\n",
      "['H_кофемашины']\n",
      "----------------------------------------------------------------------------------------------------\n",
      "H_кофемолки\n",
      "['H_кофемолки']\n",
      "----------------------------------------------------------------------------------------------------\n",
      "H_термопоты\n",
      "['H_термопоты']\n",
      "----------------------------------------------------------------------------------------------------\n",
      "H_турки_электрические\n",
      "['H_турки_электрические']\n",
      "----------------------------------------------------------------------------------------------------\n",
      "H_электрические_чайники\n",
      "['H_электрические_чайники']\n",
      "----------------------------------------------------------------------------------------------------\n",
      "H_йогуртницы\n",
      "['H_йогуртницы']\n",
      "----------------------------------------------------------------------------------------------------\n",
      "H_мультиварки\n",
      "['H_мультиварки']\n",
      "----------------------------------------------------------------------------------------------------\n",
      "H_мультиварки_скороварки\n",
      "['H_мультиварки_скороварки']\n",
      "----------------------------------------------------------------------------------------------------\n",
      "H_пароварки\n",
      "['H_пароварки']\n",
      "----------------------------------------------------------------------------------------------------\n",
      "H_сушилки_для_фруктов\n",
      "['H_сушилки_для_фруктов']\n",
      "----------------------------------------------------------------------------------------------------\n",
      "H_сэндвичницы_и_вафельницы\n",
      "['H_сэндвичницы_и_вафельницы']\n",
      "----------------------------------------------------------------------------------------------------\n",
      "H_фритюрницы_и_аэрогрили\n",
      "['H_фритюрницы_и_аэрогрили']\n",
      "----------------------------------------------------------------------------------------------------\n",
      "H_хлебопечи\n",
      "['H_хлебопечи']\n",
      "----------------------------------------------------------------------------------------------------\n",
      "H_электрогрили\n",
      "['H_электрогрили']\n",
      "----------------------------------------------------------------------------------------------------\n",
      "H_аксессуары_к_пылесосам\n",
      "['H_аксессуары_к_пылесосам']\n",
      "----------------------------------------------------------------------------------------------------\n",
      "H_пылесосы\n",
      "['H_пылесосы' 'H_пылесосы_karcher' 'H_пылесосы_вертикальные'\n",
      " 'H_пылесосы_с_контейнером' 'H_пылесосы_с_мешком' 'H_роботы_пылесосы']\n",
      "----------------------------------------------------------------------------------------------------\n",
      "H_фильтры_и_мешки_для_пыли\n",
      "['H_фильтры_и_мешки_для_пыли']\n",
      "----------------------------------------------------------------------------------------------------\n",
      "H_стиральные_машины\n",
      "['H_вертикальные_стиральные_машины'\n",
      " 'H_полуавтоматические_стиральные_машины' 'H_стирально_сушильные_машины'\n",
      " 'H_стиральные_и_сушильные_машины' 'H_фронтальные_стиральные_машины']\n",
      "----------------------------------------------------------------------------------------------------\n",
      "H_сушильные_машины\n",
      "['H_сушильные_машины']\n",
      "----------------------------------------------------------------------------------------------------\n",
      "H_комплектующие_и_сопутствующие_товары_karcher\n",
      "['H_комплектующие_и_сопутствующие_товары_karcher']\n",
      "----------------------------------------------------------------------------------------------------\n",
      "H_мешки_и_фильтры_karcher\n",
      "['H_мешки_и_фильтры_karcher']\n",
      "----------------------------------------------------------------------------------------------------\n",
      "H_ирригаторы\n",
      "['H_ирригаторы']\n",
      "----------------------------------------------------------------------------------------------------\n",
      "H_массажеры\n",
      "['H_массажеры']\n",
      "----------------------------------------------------------------------------------------------------\n",
      "H_массажеры_ванночки_для_ног\n",
      "['H_массажеры_ванночки_для_ног']\n",
      "----------------------------------------------------------------------------------------------------\n",
      "H_медицинские_приборы\n",
      "['H_медицинские_приборы']\n",
      "----------------------------------------------------------------------------------------------------\n",
      "H_электрические_зубные_щетки\n",
      "['H_электрические_зубные_щетки']\n",
      "----------------------------------------------------------------------------------------------------\n",
      "H_весы_напольные\n",
      "['H_весы_напольные']\n",
      "----------------------------------------------------------------------------------------------------\n",
      "H_выпрямители_и_плойки_для_волос\n",
      "['H_выпрямители_и_плойки_для_волос']\n",
      "----------------------------------------------------------------------------------------------------\n",
      "H_наборы_для_укладки_волос\n",
      "['H_наборы_для_укладки_волос']\n",
      "----------------------------------------------------------------------------------------------------\n",
      "H_плойки\n",
      "['H_плойки']\n",
      "----------------------------------------------------------------------------------------------------\n",
      "H_триммеры_машинки_для_стрижки\n",
      "['H_триммеры_машинки_для_стрижки']\n",
      "----------------------------------------------------------------------------------------------------\n",
      "H_фены_для_волос\n",
      "['H_фены_для_волос']\n",
      "----------------------------------------------------------------------------------------------------\n",
      "H_электрические_бритвы\n",
      "['H_электрические_бритвы']\n",
      "----------------------------------------------------------------------------------------------------\n",
      "H_эпиляторы\n",
      "['H_эпиляторы']\n",
      "----------------------------------------------------------------------------------------------------\n",
      "H_гладильные_доски\n",
      "['H_гладильные_доски']\n",
      "----------------------------------------------------------------------------------------------------\n",
      "H_машинки_для_удаления_катышков\n",
      "['H_машинки_для_удаления_катышков']\n",
      "----------------------------------------------------------------------------------------------------\n",
      "H_отпариватели_для_одежды\n",
      "['H_отпариватели_для_одежды']\n",
      "----------------------------------------------------------------------------------------------------\n",
      "H_парогенераторы\n",
      "['H_парогенераторы']\n",
      "----------------------------------------------------------------------------------------------------\n",
      "H_сушилки_для_белья\n",
      "['H_сушилки_для_белья']\n",
      "----------------------------------------------------------------------------------------------------\n",
      "H_утюги\n",
      "['H_утюги']\n",
      "----------------------------------------------------------------------------------------------------\n",
      "H_швейные_машины\n",
      "['H_швейные_машины']\n",
      "----------------------------------------------------------------------------------------------------\n",
      "H_установка_бытовой_техники\n",
      "['H_установка_бытовой_техники']\n",
      "----------------------------------------------------------------------------------------------------\n",
      "H_наушники\n",
      "['H_airpods' 'H_вкладыши' 'H_накладные' 'H_наушники']\n",
      "----------------------------------------------------------------------------------------------------\n",
      "H_часы_и_браслеты\n",
      "['H_apple_watch' 'H_браслеты' 'H_часы']\n",
      "----------------------------------------------------------------------------------------------------\n",
      "H_homepod\n",
      "['H_homepod']\n",
      "----------------------------------------------------------------------------------------------------\n",
      "H_планшеты\n",
      "['H_ipad' 'H_планшеты']\n",
      "----------------------------------------------------------------------------------------------------\n",
      "H_смартфоны\n",
      "['H_iphone' 'H_смартфоны']\n",
      "----------------------------------------------------------------------------------------------------\n",
      "H_ноутбуки\n",
      "['H_macbook' 'H_игровые_ноутбуки'\n",
      " 'H_ноутбуки_для_бизнеса_и_предпринимателей'\n",
      " 'H_ноутбуки_для_личного_пользования']\n",
      "----------------------------------------------------------------------------------------------------\n",
      "H_аксессуары\n",
      "['H_charging']\n",
      "----------------------------------------------------------------------------------------------------\n",
      "H_cardreader\n",
      "['H_cardreader']\n",
      "----------------------------------------------------------------------------------------------------\n",
      "H_usb_hub\n",
      "['H_usb_hub']\n",
      "----------------------------------------------------------------------------------------------------\n",
      "H_замки\n",
      "['H_замки']\n",
      "----------------------------------------------------------------------------------------------------\n",
      "H_наклейки\n",
      "['H_наклейки']\n",
      "----------------------------------------------------------------------------------------------------\n",
      "H_подставки\n",
      "['H_подставки']\n",
      "----------------------------------------------------------------------------------------------------\n",
      "H_сумки_и_чехлы\n",
      "['H_сумки_и_чехлы']\n",
      "----------------------------------------------------------------------------------------------------\n",
      "H_защитные_стекла\n",
      "['H_защитные_стекла']\n",
      "----------------------------------------------------------------------------------------------------\n",
      "H_кабели_и_переходники\n",
      "['H_адаптер' 'H_кабель']\n",
      "----------------------------------------------------------------------------------------------------\n",
      "H_карманы\n",
      "['H_карманы']\n",
      "----------------------------------------------------------------------------------------------------\n",
      "H_видеонаблюдение\n",
      "['H_аксессуары' 'H_камеры' 'H_хранилища']\n",
      "----------------------------------------------------------------------------------------------------\n",
      "H_видеорегистраторы\n",
      "['H_видеорегистраторы']\n",
      "----------------------------------------------------------------------------------------------------\n",
      "H_системные_блоки\n",
      "['H_системные_блоки']\n",
      "----------------------------------------------------------------------------------------------------\n",
      "H_электронные_книги\n",
      "['H_электронные_книги']\n",
      "----------------------------------------------------------------------------------------------------\n",
      "H_геймпады\n",
      "['H_геймпады']\n",
      "----------------------------------------------------------------------------------------------------\n",
      "H_приставки\n",
      "['H_приставки']\n",
      "----------------------------------------------------------------------------------------------------\n",
      "H_блоки_питания\n",
      "['H_блоки_питания']\n",
      "----------------------------------------------------------------------------------------------------\n",
      "H_видеокарты\n",
      "['H_nvidia' 'H_radeon']\n",
      "----------------------------------------------------------------------------------------------------\n",
      "H_звуковые_карты\n",
      "['H_звуковые_карты']\n",
      "----------------------------------------------------------------------------------------------------\n",
      "H_корпуса\n",
      "['H_корпуса']\n",
      "----------------------------------------------------------------------------------------------------\n",
      "H_материнские_платы\n",
      "['H_amd' 'H_intel' 'H_материнские_платы']\n",
      "----------------------------------------------------------------------------------------------------\n",
      "H_модули_памяти\n",
      "['H_dimm' 'H_sodimm']\n",
      "----------------------------------------------------------------------------------------------------\n",
      "H_накопитель_(hdd)\n",
      "['H_hdd_2.5\"' 'H_hdd_3.5\"']\n",
      "----------------------------------------------------------------------------------------------------\n",
      "H_накопитель_(ssd)\n",
      "['H_ssd_2.5\"' 'H_ssd_m.2']\n",
      "----------------------------------------------------------------------------------------------------\n",
      "H_оптические_приводы\n",
      "['H_оптические_приводы']\n",
      "----------------------------------------------------------------------------------------------------\n",
      "H_процессоры\n",
      "['H_amd' 'H_intel' 'H_процессоры']\n",
      "----------------------------------------------------------------------------------------------------\n",
      "H_системы_охлаждения\n",
      "['H_вентиляторы' 'H_кулера']\n",
      "----------------------------------------------------------------------------------------------------\n",
      "H_термопаста\n",
      "['H_термопаста']\n",
      "----------------------------------------------------------------------------------------------------\n",
      "H_крепления\n",
      "['H_крепления']\n",
      "----------------------------------------------------------------------------------------------------\n",
      "H_мониторы\n",
      "['H_smart_tv' 'H_изогнутый' 'H_плоский']\n",
      "----------------------------------------------------------------------------------------------------\n",
      "H_акустика\n",
      "['H_акустика' 'H_портативная' 'H_стационарная' 'H_яндекс_станции'\n",
      " 'H_акустические_системы' 'H_музыкальная_техника']\n",
      "----------------------------------------------------------------------------------------------------\n",
      "H_микрофоны\n",
      "['H_микрофоны']\n",
      "----------------------------------------------------------------------------------------------------\n",
      "H_радио\n",
      "['H_радио' 'H_радио_ит']\n",
      "----------------------------------------------------------------------------------------------------\n",
      "H_внешние_hdd_|_ssd\n",
      "['H_ssd' 'H_внешние_hdd_|_ssd']\n",
      "----------------------------------------------------------------------------------------------------\n",
      "H_диски_cd_|_dvd\n",
      "['H_диски_cd_|_dvd']\n",
      "----------------------------------------------------------------------------------------------------\n",
      "H_карты_памяти_sd_|_microsd\n",
      "['H_карты_памяти_sd_|_microsd']\n",
      "----------------------------------------------------------------------------------------------------\n",
      "H_флешки_usb_|_type_c\n",
      "['H_флешки_usb_|_type_c']\n",
      "----------------------------------------------------------------------------------------------------\n",
      "H_кабели\n",
      "['H_кабели']\n",
      "----------------------------------------------------------------------------------------------------\n",
      "H_принтеры_и_мфу\n",
      "['H_мфу' 'H_принтеры']\n",
      "----------------------------------------------------------------------------------------------------\n",
      "H_сканеры\n",
      "['H_сканеры']\n",
      "----------------------------------------------------------------------------------------------------\n",
      "H_уничтожители_документов\n",
      "['H_уничтожители_документов']\n",
      "----------------------------------------------------------------------------------------------------\n",
      "H_веб_камеры\n",
      "['H_веб_камеры']\n",
      "----------------------------------------------------------------------------------------------------\n",
      "H_клавиатуры\n",
      "['H_bluetooth' 'H_kit_usb' 'H_kit_wireless' 'H_usb' 'H_usb_' 'H_wireless']\n",
      "----------------------------------------------------------------------------------------------------\n",
      "H_манипуляторы\n",
      "['H_манипуляторы']\n",
      "----------------------------------------------------------------------------------------------------\n",
      "H_мыши\n",
      "['H_bluetooth' 'H_usb' 'H_wireless']\n",
      "----------------------------------------------------------------------------------------------------\n",
      "H_поверхности\n",
      "['H_поверхности']\n",
      "----------------------------------------------------------------------------------------------------\n",
      "H_рули\n",
      "['H_рули']\n",
      "----------------------------------------------------------------------------------------------------\n",
      "H_проекторы\n",
      "['H_проекторы']\n",
      "----------------------------------------------------------------------------------------------------\n",
      "H_экраны\n",
      "['H_экраны']\n",
      "----------------------------------------------------------------------------------------------------\n",
      "H_бумага\n",
      "['H_бумага']\n",
      "----------------------------------------------------------------------------------------------------\n",
      "H_зипы\n",
      "['H_зипы']\n",
      "----------------------------------------------------------------------------------------------------\n",
      "H_картриджи\n",
      "['H_картриджи']\n",
      "----------------------------------------------------------------------------------------------------\n",
      "H_стяжки\n",
      "['H_стяжки']\n",
      "----------------------------------------------------------------------------------------------------\n",
      "H_тонер\n",
      "['H_тонер']\n",
      "----------------------------------------------------------------------------------------------------\n",
      "H_чернила\n",
      "['H_чернила']\n",
      "----------------------------------------------------------------------------------------------------\n",
      "H_чистящие_средства\n",
      "['H_чистящие_средства']\n",
      "----------------------------------------------------------------------------------------------------\n",
      "H_адаптеры\n",
      "['H_адаптеры']\n",
      "----------------------------------------------------------------------------------------------------\n",
      "H_инструмент\n",
      "['H_инструмент']\n",
      "----------------------------------------------------------------------------------------------------\n",
      "H_кабель_сетевой\n",
      "['H_кабель_сетевой']\n",
      "----------------------------------------------------------------------------------------------------\n",
      "H_карты_сетевые\n",
      "['H_карты_сетевые']\n",
      "----------------------------------------------------------------------------------------------------\n",
      "H_коммутаторы\n",
      "['H_коммутаторы']\n",
      "----------------------------------------------------------------------------------------------------\n",
      "H_патч_корды\n",
      "['H_патч_корды']\n",
      "----------------------------------------------------------------------------------------------------\n",
      "H_повторители_wifi\n",
      "['H_повторители_wifi']\n",
      "----------------------------------------------------------------------------------------------------\n",
      "H_розетки\n",
      "['H_розетки']\n",
      "----------------------------------------------------------------------------------------------------\n",
      "H_сетевые_шкафы\n",
      "['H_сетевые_шкафы']\n",
      "----------------------------------------------------------------------------------------------------\n",
      "H_точки_доступа\n",
      "['H_точки_доступа']\n",
      "----------------------------------------------------------------------------------------------------\n",
      "H_powerbank\n",
      "['H_powerbank']\n",
      "----------------------------------------------------------------------------------------------------\n",
      "H_батареи\n",
      "['H_батареи']\n",
      "----------------------------------------------------------------------------------------------------\n",
      "H_зарядные_устройства\n",
      "['H_auto' 'H_nfc' 'H_power_220w' 'H_зарядные_устройства']\n",
      "----------------------------------------------------------------------------------------------------\n",
      "H_ибп\n",
      "['H_ибп']\n",
      "----------------------------------------------------------------------------------------------------\n",
      "H_инверторы\n",
      "['H_инверторы']\n",
      "----------------------------------------------------------------------------------------------------\n",
      "H_стабилизаторы\n",
      "['H_стабилизаторы']\n",
      "----------------------------------------------------------------------------------------------------\n",
      "H_фильтры\n",
      "['H_фильтры']\n",
      "----------------------------------------------------------------------------------------------------\n",
      "H_офисные_кресла_и_стулья\n",
      "['H_компьютерные_кресла']\n",
      "----------------------------------------------------------------------------------------------------\n",
      "H_по_умолчанию\n",
      "['H_по_умолчанию']\n",
      "----------------------------------------------------------------------------------------------------\n",
      "H_климатическая_техника\n",
      "['H_канальные_и_напольно_потолочные_кондиционеры']\n",
      "----------------------------------------------------------------------------------------------------\n",
      "H_газонокосилки_и_триммеры\n",
      "['H_газонокосилки_и_триммеры']\n",
      "----------------------------------------------------------------------------------------------------\n",
      "H_пароочистители\n",
      "['H_пароочистители']\n",
      "----------------------------------------------------------------------------------------------------\n",
      "H_автомобильные_компрессоры\n",
      "['H_автомобильные_компрессоры']\n",
      "----------------------------------------------------------------------------------------------------\n",
      "H_аппараты_для_сварки\n",
      "['H_аппараты_для_сварки']\n",
      "----------------------------------------------------------------------------------------------------\n",
      "H_дрели\n",
      "['H_дрели']\n",
      "----------------------------------------------------------------------------------------------------\n",
      "H_инструмент_для_работы_по_дереву\n",
      "['H_инструмент_для_работы_по_дереву']\n",
      "----------------------------------------------------------------------------------------------------\n",
      "H_наборы_инструментов_и_измерительные_приборы\n",
      "['H_наборы_инструментов_и_измерительные_приборы']\n",
      "----------------------------------------------------------------------------------------------------\n",
      "H_перфораторы\n",
      "['H_перфораторы']\n",
      "----------------------------------------------------------------------------------------------------\n",
      "H_расходные_материалы\n",
      "['H_расходные_материалы']\n",
      "----------------------------------------------------------------------------------------------------\n",
      "H_строительные_фены\n",
      "['H_строительные_фены']\n",
      "----------------------------------------------------------------------------------------------------\n",
      "H_шлифовальные_машинки\n",
      "['H_шлифовальные_машинки']\n",
      "----------------------------------------------------------------------------------------------------\n",
      "H_шуруповерты\n",
      "['H_шуруповерты']\n",
      "----------------------------------------------------------------------------------------------------\n",
      "H_аудиосистемы\n",
      "['H_аудиосистемы']\n",
      "----------------------------------------------------------------------------------------------------\n",
      "H_плееры\n",
      "['H_плееры']\n",
      "----------------------------------------------------------------------------------------------------\n",
      "H_саундбары\n",
      "['H_саундбары']\n",
      "----------------------------------------------------------------------------------------------------\n",
      "H_батарейки_и_зарядные_устройства\n",
      "['H_батарейки_и_зарядные_устройства']\n",
      "----------------------------------------------------------------------------------------------------\n",
      "H_умный_дом\n",
      "['H_прочие_умные_аксессуары' 'H_умный_дом']\n",
      "----------------------------------------------------------------------------------------------------\n",
      "H_крепления_для_тв\n",
      "['H_крепления_для_тв']\n",
      "----------------------------------------------------------------------------------------------------\n",
      "H_приставки_для_тв\n",
      "['H_приставки_для_тв']\n",
      "----------------------------------------------------------------------------------------------------\n",
      "H_смартфоны_и_аксессуары\n",
      "['H_смартфоны_и_аксессуары']\n",
      "----------------------------------------------------------------------------------------------------\n",
      "H_чехлы\n",
      "['H_чехлы']\n",
      "----------------------------------------------------------------------------------------------------\n",
      "H_телевизоры\n",
      "['H_телевизоры']\n",
      "----------------------------------------------------------------------------------------------------\n",
      "H_телевизоры_samsung\n",
      "['H_телевизоры_samsung']\n",
      "----------------------------------------------------------------------------------------------------\n",
      "H_телефоны_dect_и_проводные\n",
      "['H_телефоны_dect_и_проводные']\n",
      "----------------------------------------------------------------------------------------------------\n",
      "H_товар_без_акции\n",
      "['H_товар_без_акции']\n",
      "----------------------------------------------------------------------------------------------------\n",
      "H_товар_по_акции\n",
      "['H_товар_по_акции']\n",
      "----------------------------------------------------------------------------------------------------\n",
      "H_средства_для_посудомоечных_машин\n",
      "['H_средства_для_посудомоечных_машин']\n",
      "----------------------------------------------------------------------------------------------------\n",
      "H_средства_для_стирки\n",
      "['H_средства_для_стирки']\n",
      "----------------------------------------------------------------------------------------------------\n",
      "H_средства_по_уходу_за_техникой\n",
      "['H_средства_по_уходу_за_техникой']\n",
      "----------------------------------------------------------------------------------------------------\n",
      "H_кухонные_аксессуары\n",
      "['H_кухонные_аксессуары']\n",
      "----------------------------------------------------------------------------------------------------\n",
      "H_ножи\n",
      "['H_ножи']\n",
      "----------------------------------------------------------------------------------------------------\n",
      "H_ёмкости_для_сыпучих_и_контейнеры_для_еды\n",
      "['H_ёмкости_для_сыпучих_и_контейнеры_для_еды']\n",
      "----------------------------------------------------------------------------------------------------\n",
      "H_бра\n",
      "['H_бра']\n",
      "----------------------------------------------------------------------------------------------------\n",
      "H_лампочки_\n",
      "['H_лампочки_ultra_astra']\n",
      "----------------------------------------------------------------------------------------------------\n",
      "H_лампы_настольные\n",
      "['H_лампы_настольные']\n",
      "----------------------------------------------------------------------------------------------------\n",
      "H_люстры\n",
      "['H_люстры']\n",
      "----------------------------------------------------------------------------------------------------\n",
      "H_светильники_светодиодные\n",
      "['H_светильники_светодиодные']\n",
      "----------------------------------------------------------------------------------------------------\n",
      "H_торшеры\n",
      "['H_торшеры']\n",
      "----------------------------------------------------------------------------------------------------\n",
      "H_фонари\n",
      "['H_фонари']\n",
      "----------------------------------------------------------------------------------------------------\n",
      "H_формы_и_противни\n",
      "['H_формы_и_противни']\n",
      "----------------------------------------------------------------------------------------------------\n",
      "H_заварочные_чайники\n",
      "['H_заварочные_чайники']\n",
      "----------------------------------------------------------------------------------------------------\n",
      "H_кофеварки_гейзерные\n",
      "['H_кофеварки_гейзерные']\n",
      "----------------------------------------------------------------------------------------------------\n",
      "H_термосы_термокружки_термосумки\n",
      "['H_термосы_термокружки_термосумки']\n",
      "----------------------------------------------------------------------------------------------------\n",
      "H_турки\n",
      "['H_турки']\n",
      "----------------------------------------------------------------------------------------------------\n",
      "H_фильтры_для_воды\n",
      "['H_фильтры_для_воды']\n",
      "----------------------------------------------------------------------------------------------------\n",
      "H_чайники_для_плиты\n",
      "['H_чайники_для_плиты']\n",
      "----------------------------------------------------------------------------------------------------\n",
      "H_кастрюли\n",
      "['H_кастрюли']\n",
      "----------------------------------------------------------------------------------------------------\n",
      "H_ковши\n",
      "['H_ковши']\n",
      "----------------------------------------------------------------------------------------------------\n",
      "H_крышки\n",
      "['H_крышки']\n",
      "----------------------------------------------------------------------------------------------------\n",
      "H_наборы_посуды\n",
      "['H_наборы_посуды']\n",
      "----------------------------------------------------------------------------------------------------\n",
      "H_сковороды\n",
      "['H_сковороды']\n",
      "----------------------------------------------------------------------------------------------------\n",
      "H_сотейники\n",
      "['H_сотейники']\n",
      "----------------------------------------------------------------------------------------------------\n",
      "H_кофейные_и_чайные_чашки\n",
      "['H_кофейные_и_чайные_чашки']\n",
      "----------------------------------------------------------------------------------------------------\n",
      "H_прочие_предметы_сервировки\n",
      "['H_прочие_предметы_сервировки']\n",
      "----------------------------------------------------------------------------------------------------\n",
      "H_салатники_и_блюда_\n",
      "['H_салатники_и_блюда_']\n",
      "----------------------------------------------------------------------------------------------------\n",
      "H_сервировка_стола\n",
      "['H_сервировка_стола']\n",
      "----------------------------------------------------------------------------------------------------\n",
      "H_столовые_приборы\n",
      "['H_столовые_приборы']\n",
      "----------------------------------------------------------------------------------------------------\n",
      "H_столовые_сервизы_и_тарелки\n",
      "['H_столовые_сервизы_и_тарелки']\n",
      "----------------------------------------------------------------------------------------------------\n",
      "H_фужеры_бокалы_стаканы\n",
      "['H_фужеры_бокалы_стаканы']\n",
      "----------------------------------------------------------------------------------------------------\n"
     ]
    }
   ],
   "source": [
    "for i in dfh['_group'].unique():\n",
    "    t = dfh[dfh['_group']==i]\n",
    "    print(i)\n",
    "    print(t['_subgroup'].unique())\n",
    "    print('-'*100)"
   ]
  },
  {
   "cell_type": "markdown",
   "id": "f470682a",
   "metadata": {},
   "source": [
    "## Объединение данных"
   ]
  },
  {
   "cell_type": "code",
   "execution_count": 62,
   "id": "746fcd88",
   "metadata": {},
   "outputs": [],
   "source": [
    "df = pd.concat([dfh, dft], ignore_index=True)"
   ]
  },
  {
   "cell_type": "code",
   "execution_count": 63,
   "id": "10368fc9",
   "metadata": {},
   "outputs": [],
   "source": [
    "df = df.drop_duplicates().reset_index(drop=True)"
   ]
  },
  {
   "cell_type": "markdown",
   "id": "e8445e1b",
   "metadata": {},
   "source": [
    "## Аналитика товаров"
   ]
  },
  {
   "cell_type": "code",
   "execution_count": 64,
   "id": "6c22c960-8811-4ea3-819c-08ac8ef940df",
   "metadata": {},
   "outputs": [],
   "source": [
    "brend['names'] = brend['name'].apply(lower)\n",
    "brend_up = brend.name.unique()\n",
    "brend_low = brend.names.unique()"
   ]
  },
  {
   "cell_type": "code",
   "execution_count": 65,
   "id": "c50464e9-1018-49f5-be53-00e2ec47e5fd",
   "metadata": {},
   "outputs": [
    {
     "data": {
      "application/vnd.jupyter.widget-view+json": {
       "model_id": "aff0d2e974ba43c7ae4d6b0bd2072075",
       "version_major": 2,
       "version_minor": 0
      },
      "text/plain": [
       "  0%|          | 0/20820 [00:00<?, ?it/s]"
      ]
     },
     "metadata": {},
     "output_type": "display_data"
    }
   ],
   "source": [
    "tqdm.pandas()\n",
    "df['brend'] = df['title'].progress_apply(brends)"
   ]
  },
  {
   "cell_type": "markdown",
   "id": "8adb4a8b",
   "metadata": {},
   "source": [
    "создаем столбец с брендами"
   ]
  },
  {
   "cell_type": "code",
   "execution_count": 66,
   "id": "3b17f090",
   "metadata": {},
   "outputs": [],
   "source": [
    "df['action_sale'] = 0\n",
    "df.loc[df['old_price'] > 0,'action_sale'] = 1"
   ]
  },
  {
   "cell_type": "markdown",
   "id": "5fcbcc3a",
   "metadata": {},
   "source": [
    "Создаем столбец с флагом акции"
   ]
  },
  {
   "cell_type": "code",
   "execution_count": 67,
   "id": "87e44d83",
   "metadata": {},
   "outputs": [],
   "source": [
    "df['sale'] = (100 - ((df['price']*100)/df['old_price'])).round(2) "
   ]
  },
  {
   "cell_type": "markdown",
   "id": "91917f95",
   "metadata": {},
   "source": [
    "создаем столбец показывающий скидку в процентах"
   ]
  },
  {
   "cell_type": "code",
   "execution_count": 68,
   "id": "f6d8ce63-acfc-423c-ba1e-e7070f9f7f1d",
   "metadata": {},
   "outputs": [
    {
     "data": {
      "application/vnd.jupyter.widget-view+json": {
       "model_id": "82ad615012a54031bf65b280a152b0bb",
       "version_major": 2,
       "version_minor": 0
      },
      "text/plain": [
       "  0%|          | 0/20820 [00:00<?, ?it/s]"
      ]
     },
     "metadata": {},
     "output_type": "display_data"
    }
   ],
   "source": [
    "tqdm.pandas()\n",
    "df['count_group'] = df['_group'].progress_apply(count_group)"
   ]
  },
  {
   "cell_type": "markdown",
   "id": "d7ef1d16",
   "metadata": {},
   "source": [
    "создание столбца с количеством товара в группе"
   ]
  },
  {
   "cell_type": "code",
   "execution_count": 69,
   "id": "cb0f8fc6-a101-487a-8108-fe89900a420e",
   "metadata": {},
   "outputs": [
    {
     "data": {
      "application/vnd.jupyter.widget-view+json": {
       "model_id": "ebd5d686a72f46d4ade2b1bf874ed147",
       "version_major": 2,
       "version_minor": 0
      },
      "text/plain": [
       "  0%|          | 0/20820 [00:00<?, ?it/s]"
      ]
     },
     "metadata": {},
     "output_type": "display_data"
    }
   ],
   "source": [
    "tqdm.pandas()\n",
    "df['activ_count_group'] = df['_group'].progress_apply(count_group_presence)"
   ]
  },
  {
   "cell_type": "markdown",
   "id": "2a6594ce",
   "metadata": {},
   "source": [
    "создание столбца с количеством товара, который есть в наличии, в группе"
   ]
  },
  {
   "cell_type": "code",
   "execution_count": 70,
   "id": "c3403c67-84d3-43bc-9017-1a11fa46d1f1",
   "metadata": {},
   "outputs": [
    {
     "data": {
      "application/vnd.jupyter.widget-view+json": {
       "model_id": "34b366072b97462091abffdbb4febf31",
       "version_major": 2,
       "version_minor": 0
      },
      "text/plain": [
       "  0%|          | 0/20820 [00:00<?, ?it/s]"
      ]
     },
     "metadata": {},
     "output_type": "display_data"
    }
   ],
   "source": [
    "tqdm.pandas()\n",
    "df['dif_price'] = df['_group'].progress_apply(dif_price)"
   ]
  },
  {
   "cell_type": "markdown",
   "id": "c88e2d0f",
   "metadata": {},
   "source": [
    "создам столбец с отношением самой дорогой цены в группе к самой дешевой."
   ]
  },
  {
   "cell_type": "code",
   "execution_count": 71,
   "id": "4ab26dc0",
   "metadata": {},
   "outputs": [],
   "source": [
    "df['group_prise'] = df.groupby('_group')['price'].transform(lambda x: pd.cut(x, bins = 4, labels=[\"бюджет\", \"стандарт\", 'дорогой', \"элитный\"]))"
   ]
  },
  {
   "cell_type": "markdown",
   "id": "ea4ee02c",
   "metadata": {},
   "source": [
    "создание столбца с ценовой категорией товара"
   ]
  },
  {
   "cell_type": "code",
   "execution_count": 72,
   "id": "a4e3227a",
   "metadata": {},
   "outputs": [],
   "source": [
    "df = df[['url', 'id', '_category', '_subcategory', '_group', 'brend', \n",
    "         'title', 'date', 'price', 'old_price', 'action_sale', 'sale', 'group_prise', 'dif_price',\n",
    "         'availability', 'count_group', 'activ_count_group', 'error_group']]"
   ]
  },
  {
   "cell_type": "code",
   "execution_count": 73,
   "id": "ec1c2a4f",
   "metadata": {},
   "outputs": [],
   "source": [
    "df = df.drop_duplicates().reset_index(drop=True)"
   ]
  },
  {
   "cell_type": "code",
   "execution_count": 74,
   "id": "da30f7eb",
   "metadata": {},
   "outputs": [
    {
     "name": "stdout",
     "output_type": "stream",
     "text": [
      "таблица имеет следующий вид:\n"
     ]
    },
    {
     "data": {
      "text/html": [
       "<div>\n",
       "<style scoped>\n",
       "    .dataframe tbody tr th:only-of-type {\n",
       "        vertical-align: middle;\n",
       "    }\n",
       "\n",
       "    .dataframe tbody tr th {\n",
       "        vertical-align: top;\n",
       "    }\n",
       "\n",
       "    .dataframe thead th {\n",
       "        text-align: right;\n",
       "    }\n",
       "</style>\n",
       "<table border=\"1\" class=\"dataframe\">\n",
       "  <thead>\n",
       "    <tr style=\"text-align: right;\">\n",
       "      <th></th>\n",
       "      <th>url</th>\n",
       "      <th>id</th>\n",
       "      <th>_category</th>\n",
       "      <th>_subcategory</th>\n",
       "      <th>_group</th>\n",
       "      <th>brend</th>\n",
       "      <th>title</th>\n",
       "      <th>date</th>\n",
       "      <th>price</th>\n",
       "      <th>old_price</th>\n",
       "      <th>action_sale</th>\n",
       "      <th>sale</th>\n",
       "      <th>group_prise</th>\n",
       "      <th>dif_price</th>\n",
       "      <th>availability</th>\n",
       "      <th>count_group</th>\n",
       "      <th>activ_count_group</th>\n",
       "      <th>error_group</th>\n",
       "    </tr>\n",
       "  </thead>\n",
       "  <tbody>\n",
       "    <tr>\n",
       "      <th>0</th>\n",
       "      <td>https://hi-tech.md/bytovaya-tehnika/aksessuary-dlya-melkoy-bytovoy-tehniki/aksessuary-dlya-zubnyh-schetok/nasadka-d-zub-schetki-panasonic-ew0940w830-2sht/</td>\n",
       "      <td>Т-000056675</td>\n",
       "      <td>H_бытовая_техника</td>\n",
       "      <td>H_аксессуары_для_мелкой_бытовой_техники</td>\n",
       "      <td>H_аксессуары_для_зубных_щеток</td>\n",
       "      <td>panasonic</td>\n",
       "      <td>насадка д/Зубная щетка Panasonic EW0940W830 2шт</td>\n",
       "      <td>2024-11-07</td>\n",
       "      <td>34.0</td>\n",
       "      <td>68.0</td>\n",
       "      <td>1</td>\n",
       "      <td>50.0</td>\n",
       "      <td>бюджет</td>\n",
       "      <td>NaN</td>\n",
       "      <td>В_наличии</td>\n",
       "      <td>7</td>\n",
       "      <td>0</td>\n",
       "      <td>0</td>\n",
       "    </tr>\n",
       "    <tr>\n",
       "      <th>1</th>\n",
       "      <td>https://hi-tech.md/bytovaya-tehnika/aksessuary-dlya-melkoy-bytovoy-tehniki/aksessuary-dlya-zubnyh-schetok/nasadka-d-zub-schetki-braun-eb10-2k-kids-frozen-1sht/</td>\n",
       "      <td>Т-000021198</td>\n",
       "      <td>H_бытовая_техника</td>\n",
       "      <td>H_аксессуары_для_мелкой_бытовой_техники</td>\n",
       "      <td>H_аксессуары_для_зубных_щеток</td>\n",
       "      <td>braun</td>\n",
       "      <td>насадка д/Зубная щетка Braun EB10 Kids Frozen (1шт)</td>\n",
       "      <td>2024-11-07</td>\n",
       "      <td>94.0</td>\n",
       "      <td>NaN</td>\n",
       "      <td>0</td>\n",
       "      <td>NaN</td>\n",
       "      <td>элитный</td>\n",
       "      <td>NaN</td>\n",
       "      <td>В_наличии</td>\n",
       "      <td>7</td>\n",
       "      <td>0</td>\n",
       "      <td>0</td>\n",
       "    </tr>\n",
       "    <tr>\n",
       "      <th>2</th>\n",
       "      <td>https://hi-tech.md/bytovaya-tehnika/aksessuary-dlya-melkoy-bytovoy-tehniki/aksessuary-dlya-zubnyh-schetok/nasadka-d-zub-schetki-braun-eb18-3d-white-1sht/</td>\n",
       "      <td>Т-000068433</td>\n",
       "      <td>H_бытовая_техника</td>\n",
       "      <td>H_аксессуары_для_мелкой_бытовой_техники</td>\n",
       "      <td>H_аксессуары_для_зубных_щеток</td>\n",
       "      <td>braun</td>\n",
       "      <td>насадка д/Зубная щетка Braun EB18 3D White (1шт)</td>\n",
       "      <td>2024-11-07</td>\n",
       "      <td>94.0</td>\n",
       "      <td>NaN</td>\n",
       "      <td>0</td>\n",
       "      <td>NaN</td>\n",
       "      <td>элитный</td>\n",
       "      <td>NaN</td>\n",
       "      <td>В_наличии</td>\n",
       "      <td>7</td>\n",
       "      <td>0</td>\n",
       "      <td>0</td>\n",
       "    </tr>\n",
       "    <tr>\n",
       "      <th>3</th>\n",
       "      <td>https://hi-tech.md/bytovaya-tehnika/aksessuary-dlya-melkoy-bytovoy-tehniki/aksessuary-dlya-zubnyh-schetok/nasadka-d-zub-schetki-braun-eb20rb-10-1sht/</td>\n",
       "      <td>Т-000068766</td>\n",
       "      <td>H_бытовая_техника</td>\n",
       "      <td>H_аксессуары_для_мелкой_бытовой_техники</td>\n",
       "      <td>H_аксессуары_для_зубных_щеток</td>\n",
       "      <td>braun</td>\n",
       "      <td>насадка д/Зубная щетка Braun EB20 Precision Clean (1шт)</td>\n",
       "      <td>2024-11-07</td>\n",
       "      <td>94.0</td>\n",
       "      <td>NaN</td>\n",
       "      <td>0</td>\n",
       "      <td>NaN</td>\n",
       "      <td>элитный</td>\n",
       "      <td>NaN</td>\n",
       "      <td>В_наличии</td>\n",
       "      <td>7</td>\n",
       "      <td>0</td>\n",
       "      <td>0</td>\n",
       "    </tr>\n",
       "    <tr>\n",
       "      <th>4</th>\n",
       "      <td>https://hi-tech.md/bytovaya-tehnika/aksessuary-dlya-melkoy-bytovoy-tehniki/aksessuary-dlya-zubnyh-schetok/nasadka-d-zubnaya-schetka-braun-eb50-5/</td>\n",
       "      <td>Т-000070385</td>\n",
       "      <td>H_бытовая_техника</td>\n",
       "      <td>H_аксессуары_для_мелкой_бытовой_техники</td>\n",
       "      <td>H_аксессуары_для_зубных_щеток</td>\n",
       "      <td>braun</td>\n",
       "      <td>насадка д/Зубная щетка Braun EB50 Cross Action White (1шт)</td>\n",
       "      <td>2024-11-07</td>\n",
       "      <td>94.0</td>\n",
       "      <td>NaN</td>\n",
       "      <td>0</td>\n",
       "      <td>NaN</td>\n",
       "      <td>элитный</td>\n",
       "      <td>NaN</td>\n",
       "      <td>В_наличии</td>\n",
       "      <td>7</td>\n",
       "      <td>0</td>\n",
       "      <td>0</td>\n",
       "    </tr>\n",
       "  </tbody>\n",
       "</table>\n",
       "</div>"
      ],
      "text/plain": [
       "                                                                                                                                                               url  \\\n",
       "0       https://hi-tech.md/bytovaya-tehnika/aksessuary-dlya-melkoy-bytovoy-tehniki/aksessuary-dlya-zubnyh-schetok/nasadka-d-zub-schetki-panasonic-ew0940w830-2sht/   \n",
       "1  https://hi-tech.md/bytovaya-tehnika/aksessuary-dlya-melkoy-bytovoy-tehniki/aksessuary-dlya-zubnyh-schetok/nasadka-d-zub-schetki-braun-eb10-2k-kids-frozen-1sht/   \n",
       "2        https://hi-tech.md/bytovaya-tehnika/aksessuary-dlya-melkoy-bytovoy-tehniki/aksessuary-dlya-zubnyh-schetok/nasadka-d-zub-schetki-braun-eb18-3d-white-1sht/   \n",
       "3            https://hi-tech.md/bytovaya-tehnika/aksessuary-dlya-melkoy-bytovoy-tehniki/aksessuary-dlya-zubnyh-schetok/nasadka-d-zub-schetki-braun-eb20rb-10-1sht/   \n",
       "4                https://hi-tech.md/bytovaya-tehnika/aksessuary-dlya-melkoy-bytovoy-tehniki/aksessuary-dlya-zubnyh-schetok/nasadka-d-zubnaya-schetka-braun-eb50-5/   \n",
       "\n",
       "            id          _category                             _subcategory  \\\n",
       "0  Т-000056675  H_бытовая_техника  H_аксессуары_для_мелкой_бытовой_техники   \n",
       "1  Т-000021198  H_бытовая_техника  H_аксессуары_для_мелкой_бытовой_техники   \n",
       "2  Т-000068433  H_бытовая_техника  H_аксессуары_для_мелкой_бытовой_техники   \n",
       "3  Т-000068766  H_бытовая_техника  H_аксессуары_для_мелкой_бытовой_техники   \n",
       "4  Т-000070385  H_бытовая_техника  H_аксессуары_для_мелкой_бытовой_техники   \n",
       "\n",
       "                          _group      brend  \\\n",
       "0  H_аксессуары_для_зубных_щеток  panasonic   \n",
       "1  H_аксессуары_для_зубных_щеток      braun   \n",
       "2  H_аксессуары_для_зубных_щеток      braun   \n",
       "3  H_аксессуары_для_зубных_щеток      braun   \n",
       "4  H_аксессуары_для_зубных_щеток      braun   \n",
       "\n",
       "                                                        title       date  \\\n",
       "0             насадка д/Зубная щетка Panasonic EW0940W830 2шт 2024-11-07   \n",
       "1         насадка д/Зубная щетка Braun EB10 Kids Frozen (1шт) 2024-11-07   \n",
       "2            насадка д/Зубная щетка Braun EB18 3D White (1шт) 2024-11-07   \n",
       "3     насадка д/Зубная щетка Braun EB20 Precision Clean (1шт) 2024-11-07   \n",
       "4  насадка д/Зубная щетка Braun EB50 Cross Action White (1шт) 2024-11-07   \n",
       "\n",
       "   price  old_price  action_sale  sale group_prise  dif_price availability  \\\n",
       "0   34.0       68.0            1  50.0      бюджет        NaN    В_наличии   \n",
       "1   94.0        NaN            0   NaN     элитный        NaN    В_наличии   \n",
       "2   94.0        NaN            0   NaN     элитный        NaN    В_наличии   \n",
       "3   94.0        NaN            0   NaN     элитный        NaN    В_наличии   \n",
       "4   94.0        NaN            0   NaN     элитный        NaN    В_наличии   \n",
       "\n",
       "   count_group  activ_count_group  error_group  \n",
       "0            7                  0            0  \n",
       "1            7                  0            0  \n",
       "2            7                  0            0  \n",
       "3            7                  0            0  \n",
       "4            7                  0            0  "
      ]
     },
     "metadata": {},
     "output_type": "display_data"
    },
    {
     "name": "stdout",
     "output_type": "stream",
     "text": [
      "****************************************************************************************************\n",
      "таблица имеет 20820 сторок и 18 столбцов\n",
      "****************************************************************************************************\n",
      "в таблице обнаружено дублекатов:0\n",
      "****************************************************************************************************\n",
      "в таблице обнаружены пропуски в следующих столбцах:\n"
     ]
    },
    {
     "data": {
      "text/plain": [
       "url                      0\n",
       "id                       0\n",
       "_category                0\n",
       "_subcategory             0\n",
       "_group                   0\n",
       "brend                    0\n",
       "title                    0\n",
       "date                     0\n",
       "price                    5\n",
       "old_price            16882\n",
       "action_sale              0\n",
       "sale                 16882\n",
       "group_prise              5\n",
       "dif_price             8632\n",
       "availability             0\n",
       "count_group              0\n",
       "activ_count_group        0\n",
       "error_group              0\n",
       "dtype: int64"
      ]
     },
     "metadata": {},
     "output_type": "display_data"
    },
    {
     "name": "stdout",
     "output_type": "stream",
     "text": [
      "****************************************************************************************************\n",
      "Эти пропуски составлябт следующее количество в процентах\n"
     ]
    },
    {
     "data": {
      "text/plain": [
       "url                   0.0\n",
       "id                    0.0\n",
       "_category             0.0\n",
       "_subcategory          0.0\n",
       "_group                0.0\n",
       "brend                 0.0\n",
       "title                 0.0\n",
       "date                  0.0\n",
       "price                 0.0\n",
       "old_price            81.1\n",
       "action_sale           0.0\n",
       "sale                 81.1\n",
       "group_prise           0.0\n",
       "dif_price            41.5\n",
       "availability          0.0\n",
       "count_group           0.0\n",
       "activ_count_group     0.0\n",
       "error_group           0.0\n",
       "dtype: float64"
      ]
     },
     "metadata": {},
     "output_type": "display_data"
    },
    {
     "name": "stdout",
     "output_type": "stream",
     "text": [
      "****************************************************************************************************\n",
      "столбцы имеют следующие типы:\n"
     ]
    },
    {
     "data": {
      "text/plain": [
       "url                          object\n",
       "id                           object\n",
       "_category                    object\n",
       "_subcategory                 object\n",
       "_group                       object\n",
       "brend                        object\n",
       "title                        object\n",
       "date                 datetime64[ns]\n",
       "price                       float64\n",
       "old_price                   float64\n",
       "action_sale                   int64\n",
       "sale                        float64\n",
       "group_prise                category\n",
       "dif_price                   float64\n",
       "availability                 object\n",
       "count_group                   int64\n",
       "activ_count_group             int64\n",
       "error_group                   int64\n",
       "dtype: object"
      ]
     },
     "metadata": {},
     "output_type": "display_data"
    },
    {
     "name": "stdout",
     "output_type": "stream",
     "text": [
      "****************************************************************************************************\n",
      "названия столбцов переписаны в нижнем регистре, пробелы заменены на нижнее подчеркивание\n",
      "****************************************************************************************************\n",
      "<class 'pandas.core.frame.DataFrame'>\n",
      "RangeIndex: 20820 entries, 0 to 20819\n",
      "Data columns (total 18 columns):\n",
      " #   Column             Non-Null Count  Dtype         \n",
      "---  ------             --------------  -----         \n",
      " 0   url                20820 non-null  object        \n",
      " 1   id                 20820 non-null  object        \n",
      " 2   _category          20820 non-null  object        \n",
      " 3   _subcategory       20820 non-null  object        \n",
      " 4   _group             20820 non-null  object        \n",
      " 5   brend              20820 non-null  object        \n",
      " 6   title              20820 non-null  object        \n",
      " 7   date               20820 non-null  datetime64[ns]\n",
      " 8   price              20815 non-null  float64       \n",
      " 9   old_price          3938 non-null   float64       \n",
      " 10  action_sale        20820 non-null  int64         \n",
      " 11  sale               3938 non-null   float64       \n",
      " 12  group_prise        20815 non-null  category      \n",
      " 13  dif_price          12188 non-null  float64       \n",
      " 14  availability       20820 non-null  object        \n",
      " 15  count_group        20820 non-null  int64         \n",
      " 16  activ_count_group  20820 non-null  int64         \n",
      " 17  error_group        20820 non-null  int64         \n",
      "dtypes: category(1), datetime64[ns](1), float64(4), int64(4), object(8)\n",
      "memory usage: 2.7+ MB\n"
     ]
    },
    {
     "data": {
      "text/plain": [
       "None"
      ]
     },
     "metadata": {},
     "output_type": "display_data"
    }
   ],
   "source": [
    "preprocessing(df)"
   ]
  },
  {
   "cell_type": "markdown",
   "id": "aebabd50-d869-4edf-af28-64dd55c43d2f",
   "metadata": {},
   "source": [
    "## Выгрузка данных"
   ]
  },
  {
   "cell_type": "code",
   "execution_count": 75,
   "id": "ef11344c",
   "metadata": {},
   "outputs": [],
   "source": [
    "df.to_csv('csv/hay_tir_'+dt.datetime.now().strftime('%Y_%m_%d')+'.csv', index=False)  "
   ]
  },
  {
   "cell_type": "code",
   "execution_count": 77,
   "id": "bbe6f082-30e4-4600-bf09-a2f2428d2e7e",
   "metadata": {},
   "outputs": [
    {
     "data": {
      "text/plain": [
       "Index(['url', 'id', '_category', '_subcategory', '_group', 'brend', 'title',\n",
       "       'date', 'price', 'old_price', 'action_sale', 'sale', 'group_prise',\n",
       "       'dif_price', 'availability', 'count_group', 'activ_count_group',\n",
       "       'error_group'],\n",
       "      dtype='object')"
      ]
     },
     "execution_count": 77,
     "metadata": {},
     "output_type": "execute_result"
    }
   ],
   "source": [
    "df.columns"
   ]
  },
  {
   "cell_type": "code",
   "execution_count": null,
   "id": "5c4c3a6e-0642-4cde-bb62-43b04e9a2530",
   "metadata": {},
   "outputs": [],
   "source": []
  }
 ],
 "metadata": {
  "kernelspec": {
   "display_name": "Python 3 (ipykernel)",
   "language": "python",
   "name": "python3"
  },
  "language_info": {
   "codemirror_mode": {
    "name": "ipython",
    "version": 3
   },
   "file_extension": ".py",
   "mimetype": "text/x-python",
   "name": "python",
   "nbconvert_exporter": "python",
   "pygments_lexer": "ipython3",
   "version": "3.11.9"
  },
  "widgets": {
   "application/vnd.jupyter.widget-state+json": {
    "state": {
     "00713ae13a6741deaec9f170443ba55e": {
      "model_module": "@jupyter-widgets/base",
      "model_module_version": "2.0.0",
      "model_name": "LayoutModel",
      "state": {}
     },
     "019c8cc7051f41c0821482654d17fec2": {
      "model_module": "@jupyter-widgets/controls",
      "model_module_version": "2.0.0",
      "model_name": "FloatProgressModel",
      "state": {
       "bar_style": "success",
       "layout": "IPY_MODEL_c7dde7d92487476f83d59d941be77aa0",
       "max": 2,
       "style": "IPY_MODEL_de2f5505b87c417490a1abbc1b357c34",
       "value": 2
      }
     },
     "0256604f2972492ab817a1d01918530f": {
      "model_module": "@jupyter-widgets/controls",
      "model_module_version": "2.0.0",
      "model_name": "ProgressStyleModel",
      "state": {
       "description_width": ""
      }
     },
     "0503161bf117415b9d884e187eec2a70": {
      "model_module": "@jupyter-widgets/base",
      "model_module_version": "2.0.0",
      "model_name": "LayoutModel",
      "state": {}
     },
     "05979a85bb454497a8f02688e86c5fff": {
      "model_module": "@jupyter-widgets/controls",
      "model_module_version": "2.0.0",
      "model_name": "HTMLModel",
      "state": {
       "layout": "IPY_MODEL_ba23f1d8c76743119bc31294aa49b6a3",
       "style": "IPY_MODEL_995454c5ad584a98bb08f6e23b8bdddc",
       "value": " 35/35 [02:08&lt;00:00,  3.69s/it]"
      }
     },
     "061939b85e204a17a7c01e534a83f63a": {
      "model_module": "@jupyter-widgets/controls",
      "model_module_version": "2.0.0",
      "model_name": "HTMLModel",
      "state": {
       "layout": "IPY_MODEL_a46e504b7c024c0bb1306953d653a1c9",
       "style": "IPY_MODEL_959bd5b763d949879b47c54ed0ef2b60",
       "value": " 11/11 [00:45&lt;00:00,  4.94s/it]"
      }
     },
     "072733db3aa8456ebd308a25c2e218af": {
      "model_module": "@jupyter-widgets/controls",
      "model_module_version": "2.0.0",
      "model_name": "FloatProgressModel",
      "state": {
       "bar_style": "success",
       "layout": "IPY_MODEL_7ec04b588f7d49b08979b91ca87423d3",
       "max": 6,
       "style": "IPY_MODEL_661d7c24849a45629a870bce06987aba",
       "value": 6
      }
     },
     "07500611c21043a8a43db62fafdb307e": {
      "model_module": "@jupyter-widgets/controls",
      "model_module_version": "2.0.0",
      "model_name": "HTMLStyleModel",
      "state": {
       "description_width": "",
       "font_size": null,
       "text_color": null
      }
     },
     "08ee8807a1c14cdb8ed3f7b8c2c18dc4": {
      "model_module": "@jupyter-widgets/controls",
      "model_module_version": "2.0.0",
      "model_name": "HTMLStyleModel",
      "state": {
       "description_width": "",
       "font_size": null,
       "text_color": null
      }
     },
     "0c8e1a8bf0ca4019bd5eb7eb50ce227d": {
      "model_module": "@jupyter-widgets/controls",
      "model_module_version": "2.0.0",
      "model_name": "HTMLModel",
      "state": {
       "layout": "IPY_MODEL_32bcd9f312f14bf494653caf3d75e767",
       "style": "IPY_MODEL_e71288e4f3c14d2d9d6f7e1a6ba67c19",
       "value": " 64/64 [03:05&lt;00:00,  2.97s/it]"
      }
     },
     "0d6e07d7e1e342c8bf54679003311976": {
      "model_module": "@jupyter-widgets/controls",
      "model_module_version": "2.0.0",
      "model_name": "HTMLModel",
      "state": {
       "layout": "IPY_MODEL_65fca61cc7ff460c9557fb04086fe43b",
       "style": "IPY_MODEL_9be26561b8ec4bec9fd603de57f5f1a4",
       "value": "100%"
      }
     },
     "0e51d392d92048d4a0bef2e60f50a7aa": {
      "model_module": "@jupyter-widgets/controls",
      "model_module_version": "2.0.0",
      "model_name": "HTMLModel",
      "state": {
       "layout": "IPY_MODEL_aa73f75acda047ab97d7c54a53e9cce9",
       "style": "IPY_MODEL_8c1c22ebb44a465aab79090b6645b0c9",
       "value": " 6/6 [00:32&lt;00:00,  5.17s/it]"
      }
     },
     "0e6627d1d8ed4f5a83438c3228655684": {
      "model_module": "@jupyter-widgets/controls",
      "model_module_version": "2.0.0",
      "model_name": "FloatProgressModel",
      "state": {
       "bar_style": "success",
       "layout": "IPY_MODEL_0eed28dd655f43d7a53c8f71eac81c52",
       "max": 11,
       "style": "IPY_MODEL_68d1d9b3a9024153a3c5cb8273bb6785",
       "value": 11
      }
     },
     "0eed28dd655f43d7a53c8f71eac81c52": {
      "model_module": "@jupyter-widgets/base",
      "model_module_version": "2.0.0",
      "model_name": "LayoutModel",
      "state": {}
     },
     "0fa82c1275164e93b494fa835494f9d0": {
      "model_module": "@jupyter-widgets/base",
      "model_module_version": "2.0.0",
      "model_name": "LayoutModel",
      "state": {}
     },
     "0fcf9afbfb1b4c9085aff5fb04583e02": {
      "model_module": "@jupyter-widgets/base",
      "model_module_version": "2.0.0",
      "model_name": "LayoutModel",
      "state": {}
     },
     "10ac75164160427781778b47f534a62e": {
      "model_module": "@jupyter-widgets/base",
      "model_module_version": "2.0.0",
      "model_name": "LayoutModel",
      "state": {}
     },
     "10d085875e5c4bea960178ee23766e52": {
      "model_module": "@jupyter-widgets/controls",
      "model_module_version": "2.0.0",
      "model_name": "HTMLModel",
      "state": {
       "layout": "IPY_MODEL_10ac75164160427781778b47f534a62e",
       "style": "IPY_MODEL_b6c3b271aaf54bf7b7e49747f41ebd89",
       "value": "100%"
      }
     },
     "13136e77699449d380b45380c7009c3a": {
      "model_module": "@jupyter-widgets/base",
      "model_module_version": "2.0.0",
      "model_name": "LayoutModel",
      "state": {}
     },
     "13ea26f043b5430f8c133b6cc82c8fb2": {
      "model_module": "@jupyter-widgets/controls",
      "model_module_version": "2.0.0",
      "model_name": "HTMLStyleModel",
      "state": {
       "description_width": "",
       "font_size": null,
       "text_color": null
      }
     },
     "15229b16fa434acba141643d403a8492": {
      "model_module": "@jupyter-widgets/controls",
      "model_module_version": "2.0.0",
      "model_name": "HTMLStyleModel",
      "state": {
       "description_width": "",
       "font_size": null,
       "text_color": null
      }
     },
     "170840578f5e4204bb3fa788a698468c": {
      "model_module": "@jupyter-widgets/controls",
      "model_module_version": "2.0.0",
      "model_name": "HTMLStyleModel",
      "state": {
       "description_width": "",
       "font_size": null,
       "text_color": null
      }
     },
     "1861aac8c678406982b6e0082da9ada3": {
      "model_module": "@jupyter-widgets/controls",
      "model_module_version": "2.0.0",
      "model_name": "HTMLModel",
      "state": {
       "layout": "IPY_MODEL_7ce1e4c94b724a9083181a3bfafa9030",
       "style": "IPY_MODEL_fa22fd08b98d4440a014debac9a5937f",
       "value": "100%"
      }
     },
     "1a1005be9cf94cacb42c2defb40275bd": {
      "model_module": "@jupyter-widgets/base",
      "model_module_version": "2.0.0",
      "model_name": "LayoutModel",
      "state": {}
     },
     "1a34189dfad14847bc07e4e04d5bdb7d": {
      "model_module": "@jupyter-widgets/controls",
      "model_module_version": "2.0.0",
      "model_name": "HTMLModel",
      "state": {
       "layout": "IPY_MODEL_ac4385057e2e4c6889bcd55c91f41858",
       "style": "IPY_MODEL_82e952c4717d43b7ad846dc54b2cfe05",
       "value": " 192/192 [15:25&lt;00:00,  6.07s/it]"
      }
     },
     "1d3f784a751c426382fa5e8492542c7f": {
      "model_module": "@jupyter-widgets/controls",
      "model_module_version": "2.0.0",
      "model_name": "FloatProgressModel",
      "state": {
       "bar_style": "success",
       "layout": "IPY_MODEL_5ab5cbeb6dc74704b330acaa28416f76",
       "max": 20820,
       "style": "IPY_MODEL_0256604f2972492ab817a1d01918530f",
       "value": 20820
      }
     },
     "1e29cba2887341638ccac8a97d1a2beb": {
      "model_module": "@jupyter-widgets/base",
      "model_module_version": "2.0.0",
      "model_name": "LayoutModel",
      "state": {}
     },
     "221d613b90db4a399c6e099ddeb5800a": {
      "model_module": "@jupyter-widgets/controls",
      "model_module_version": "2.0.0",
      "model_name": "HTMLModel",
      "state": {
       "layout": "IPY_MODEL_e60b36f5972047eb9492335272c4dd8c",
       "style": "IPY_MODEL_4efd464d6c234567aba3100c00463ac2",
       "value": "100%"
      }
     },
     "238e7b2041bc4e6da85c004c17a97abe": {
      "model_module": "@jupyter-widgets/controls",
      "model_module_version": "2.0.0",
      "model_name": "HBoxModel",
      "state": {
       "children": [
        "IPY_MODEL_3b147cad42aa42c78573a12d16660b83",
        "IPY_MODEL_7681c27d63594fa2b4371c8896a45e2f",
        "IPY_MODEL_1a34189dfad14847bc07e4e04d5bdb7d"
       ],
       "layout": "IPY_MODEL_b0534b1f56c745838c87a0a66e5dfeaa"
      }
     },
     "23a3f1f3d11b44c3b8c366e66dfc1116": {
      "model_module": "@jupyter-widgets/base",
      "model_module_version": "2.0.0",
      "model_name": "LayoutModel",
      "state": {}
     },
     "24b901fb46bb444db9daad145284b433": {
      "model_module": "@jupyter-widgets/base",
      "model_module_version": "2.0.0",
      "model_name": "LayoutModel",
      "state": {}
     },
     "2506357b587449e3b475e4dc756d8dd2": {
      "model_module": "@jupyter-widgets/base",
      "model_module_version": "2.0.0",
      "model_name": "LayoutModel",
      "state": {}
     },
     "27c66654c862429f8e2cf5a4aa1cb1df": {
      "model_module": "@jupyter-widgets/controls",
      "model_module_version": "2.0.0",
      "model_name": "HTMLStyleModel",
      "state": {
       "description_width": "",
       "font_size": null,
       "text_color": null
      }
     },
     "28879cc27573481ea44dbd91ae5891b7": {
      "model_module": "@jupyter-widgets/controls",
      "model_module_version": "2.0.0",
      "model_name": "HTMLModel",
      "state": {
       "layout": "IPY_MODEL_903c56faf7b84ccdaf3e2047fc9bb937",
       "style": "IPY_MODEL_c800b8ebb9304fcfbe524f3d66cb38e1",
       "value": " 20820/20820 [00:02&lt;00:00, 6743.86it/s]"
      }
     },
     "295e40b8d3004a79a0acff66d7ef2bd1": {
      "model_module": "@jupyter-widgets/controls",
      "model_module_version": "2.0.0",
      "model_name": "HTMLModel",
      "state": {
       "layout": "IPY_MODEL_75e53b1555984664af4a3795b3efb4d1",
       "style": "IPY_MODEL_d91a8dc04ad048d4b8f9b5d3e2cc2c51",
       "value": "100%"
      }
     },
     "2a5c057afe7c4b4f89dafb202b87df2d": {
      "model_module": "@jupyter-widgets/controls",
      "model_module_version": "2.0.0",
      "model_name": "HTMLModel",
      "state": {
       "layout": "IPY_MODEL_1e29cba2887341638ccac8a97d1a2beb",
       "style": "IPY_MODEL_15229b16fa434acba141643d403a8492",
       "value": "100%"
      }
     },
     "2b4dce2e73784bdaa375f1dd8871ee5d": {
      "model_module": "@jupyter-widgets/controls",
      "model_module_version": "2.0.0",
      "model_name": "FloatProgressModel",
      "state": {
       "bar_style": "success",
       "layout": "IPY_MODEL_fd7cd74a00e243e7b091b1df2f57d4c3",
       "max": 20820,
       "style": "IPY_MODEL_ef46d217f38a4bb0a49ef76c341fd288",
       "value": 20820
      }
     },
     "2d8af4cc6525444ba374bf552486de3a": {
      "model_module": "@jupyter-widgets/controls",
      "model_module_version": "2.0.0",
      "model_name": "HTMLModel",
      "state": {
       "layout": "IPY_MODEL_6461bba7f4074b1cacb32192be5be30a",
       "style": "IPY_MODEL_99d91e1a1e884953b9abd9564b4a3150",
       "value": " 20820/20820 [01:19&lt;00:00, 266.67it/s]"
      }
     },
     "2e0ff701d6684c2cb41ff5a017c43211": {
      "model_module": "@jupyter-widgets/base",
      "model_module_version": "2.0.0",
      "model_name": "LayoutModel",
      "state": {}
     },
     "2e790580d6f7493a8c548a7d9f96ce76": {
      "model_module": "@jupyter-widgets/base",
      "model_module_version": "2.0.0",
      "model_name": "LayoutModel",
      "state": {}
     },
     "302cf5094fa44c7788dc7b09d693a69a": {
      "model_module": "@jupyter-widgets/controls",
      "model_module_version": "2.0.0",
      "model_name": "FloatProgressModel",
      "state": {
       "bar_style": "success",
       "layout": "IPY_MODEL_3782b8eff8724cf99dd662faa9b54609",
       "max": 4,
       "style": "IPY_MODEL_7f1dcf58bf304b9196b2165d8d4a0621",
       "value": 4
      }
     },
     "3030b3bfd9c6440285fe1b3c17706b9e": {
      "model_module": "@jupyter-widgets/controls",
      "model_module_version": "2.0.0",
      "model_name": "HTMLModel",
      "state": {
       "layout": "IPY_MODEL_eeecde26191748db90f69dc16351e5d6",
       "style": "IPY_MODEL_aa317cc344574319861ce4daf32518f5",
       "value": " 4/4 [00:14&lt;00:00,  3.84s/it]"
      }
     },
     "304d44f0018449a08ce93477e38a8297": {
      "model_module": "@jupyter-widgets/controls",
      "model_module_version": "2.0.0",
      "model_name": "ProgressStyleModel",
      "state": {
       "description_width": ""
      }
     },
     "314bf70181a04dbb95e917a58c275c78": {
      "model_module": "@jupyter-widgets/controls",
      "model_module_version": "2.0.0",
      "model_name": "ProgressStyleModel",
      "state": {
       "description_width": ""
      }
     },
     "32b09ae7b15c48d6b827b5db430d83cb": {
      "model_module": "@jupyter-widgets/base",
      "model_module_version": "2.0.0",
      "model_name": "LayoutModel",
      "state": {}
     },
     "32bcd9f312f14bf494653caf3d75e767": {
      "model_module": "@jupyter-widgets/base",
      "model_module_version": "2.0.0",
      "model_name": "LayoutModel",
      "state": {}
     },
     "3313c1e16a3f4e6ab84bad70bb4f8581": {
      "model_module": "@jupyter-widgets/base",
      "model_module_version": "2.0.0",
      "model_name": "LayoutModel",
      "state": {}
     },
     "345c9ccee5ab4f91ac0522a51e282f8c": {
      "model_module": "@jupyter-widgets/controls",
      "model_module_version": "2.0.0",
      "model_name": "FloatProgressModel",
      "state": {
       "bar_style": "success",
       "layout": "IPY_MODEL_1a1005be9cf94cacb42c2defb40275bd",
       "max": 30,
       "style": "IPY_MODEL_35f3b71ff5a54c3b81985489f728f8ad",
       "value": 30
      }
     },
     "34727a4b8cb24c86b3c529990bced36e": {
      "model_module": "@jupyter-widgets/controls",
      "model_module_version": "2.0.0",
      "model_name": "HTMLStyleModel",
      "state": {
       "description_width": "",
       "font_size": null,
       "text_color": null
      }
     },
     "34b366072b97462091abffdbb4febf31": {
      "model_module": "@jupyter-widgets/controls",
      "model_module_version": "2.0.0",
      "model_name": "HBoxModel",
      "state": {
       "children": [
        "IPY_MODEL_a90e7cc103b4458ea7406e68a82d6222",
        "IPY_MODEL_1d3f784a751c426382fa5e8492542c7f",
        "IPY_MODEL_d22d5c9b388b48c39292edc60588b415"
       ],
       "layout": "IPY_MODEL_0fcf9afbfb1b4c9085aff5fb04583e02"
      }
     },
     "34e7e435360045ae924e80a80bee0855": {
      "model_module": "@jupyter-widgets/controls",
      "model_module_version": "2.0.0",
      "model_name": "HBoxModel",
      "state": {
       "children": [
        "IPY_MODEL_221d613b90db4a399c6e099ddeb5800a",
        "IPY_MODEL_63319420bffc4cdeb0f0d6853c18123f",
        "IPY_MODEL_ce1b549e4fbd47d68e2f597466ce4b8c"
       ],
       "layout": "IPY_MODEL_d3938fdd87cb438893c5a866a4cdc14b"
      }
     },
     "35f3b71ff5a54c3b81985489f728f8ad": {
      "model_module": "@jupyter-widgets/controls",
      "model_module_version": "2.0.0",
      "model_name": "ProgressStyleModel",
      "state": {
       "description_width": ""
      }
     },
     "3782b8eff8724cf99dd662faa9b54609": {
      "model_module": "@jupyter-widgets/base",
      "model_module_version": "2.0.0",
      "model_name": "LayoutModel",
      "state": {}
     },
     "38c2e6eb899349208f723c4c05bb39d1": {
      "model_module": "@jupyter-widgets/base",
      "model_module_version": "2.0.0",
      "model_name": "LayoutModel",
      "state": {}
     },
     "3b147cad42aa42c78573a12d16660b83": {
      "model_module": "@jupyter-widgets/controls",
      "model_module_version": "2.0.0",
      "model_name": "HTMLModel",
      "state": {
       "layout": "IPY_MODEL_6ab96f209f574c4bbb95a6532884a905",
       "style": "IPY_MODEL_92492cd8b0134a9d91275162d19eaaa2",
       "value": "100%"
      }
     },
     "3fb36cb7f97d48c6ab8f3ce2c0313a85": {
      "model_module": "@jupyter-widgets/controls",
      "model_module_version": "2.0.0",
      "model_name": "HBoxModel",
      "state": {
       "children": [
        "IPY_MODEL_0d6e07d7e1e342c8bf54679003311976",
        "IPY_MODEL_019c8cc7051f41c0821482654d17fec2",
        "IPY_MODEL_40fe30bd393846c6878175b25437c5a6"
       ],
       "layout": "IPY_MODEL_24b901fb46bb444db9daad145284b433"
      }
     },
     "40fe30bd393846c6878175b25437c5a6": {
      "model_module": "@jupyter-widgets/controls",
      "model_module_version": "2.0.0",
      "model_name": "HTMLModel",
      "state": {
       "layout": "IPY_MODEL_7cbcc9f5141449de92abd2656a36912f",
       "style": "IPY_MODEL_588e7e18bced4b5b9c991cad7c7e9b0b",
       "value": " 2/2 [00:03&lt;00:00,  1.08it/s]"
      }
     },
     "434a9a7340644eb9b01d569fc9db3e22": {
      "model_module": "@jupyter-widgets/controls",
      "model_module_version": "2.0.0",
      "model_name": "HTMLStyleModel",
      "state": {
       "description_width": "",
       "font_size": null,
       "text_color": null
      }
     },
     "43b33bdc387a4c3d8fd4727f2f8bd03d": {
      "model_module": "@jupyter-widgets/controls",
      "model_module_version": "2.0.0",
      "model_name": "HTMLModel",
      "state": {
       "layout": "IPY_MODEL_468bc6cc23b64345af4c1fca1e5b058f",
       "style": "IPY_MODEL_8e782003b05c4b3d8db05b8b8c7ab615",
       "value": " 78/78 [02:54&lt;00:00,  1.98s/it]"
      }
     },
     "446ec1eed2094e31ae93bd9348139b7e": {
      "model_module": "@jupyter-widgets/controls",
      "model_module_version": "2.0.0",
      "model_name": "HTMLStyleModel",
      "state": {
       "description_width": "",
       "font_size": null,
       "text_color": null
      }
     },
     "45ff7fa9dce64521b56094a76c05213d": {
      "model_module": "@jupyter-widgets/controls",
      "model_module_version": "2.0.0",
      "model_name": "HTMLModel",
      "state": {
       "layout": "IPY_MODEL_8d2a20d7f734415c94581c0cc8a47148",
       "style": "IPY_MODEL_434a9a7340644eb9b01d569fc9db3e22",
       "value": "100%"
      }
     },
     "468bc6cc23b64345af4c1fca1e5b058f": {
      "model_module": "@jupyter-widgets/base",
      "model_module_version": "2.0.0",
      "model_name": "LayoutModel",
      "state": {}
     },
     "4b65ff190c09499b879186aa49f1ce25": {
      "model_module": "@jupyter-widgets/controls",
      "model_module_version": "2.0.0",
      "model_name": "HTMLModel",
      "state": {
       "layout": "IPY_MODEL_13136e77699449d380b45380c7009c3a",
       "style": "IPY_MODEL_13ea26f043b5430f8c133b6cc82c8fb2",
       "value": " 20820/20820 [00:40&lt;00:00, 545.34it/s]"
      }
     },
     "4cfc3fa2b2414eb6b8d2122b886a0ffa": {
      "model_module": "@jupyter-widgets/controls",
      "model_module_version": "2.0.0",
      "model_name": "HTMLStyleModel",
      "state": {
       "description_width": "",
       "font_size": null,
       "text_color": null
      }
     },
     "4d9e1db8ee8b4b57834ed1009deb1559": {
      "model_module": "@jupyter-widgets/base",
      "model_module_version": "2.0.0",
      "model_name": "LayoutModel",
      "state": {}
     },
     "4ed5427fbd0249c79208da8d9cbcb54f": {
      "model_module": "@jupyter-widgets/controls",
      "model_module_version": "2.0.0",
      "model_name": "HTMLModel",
      "state": {
       "layout": "IPY_MODEL_8d47665220f94a80a358e26111b7eb45",
       "style": "IPY_MODEL_bbaa4b434089462886ceab15424e23f3",
       "value": "100%"
      }
     },
     "4efd464d6c234567aba3100c00463ac2": {
      "model_module": "@jupyter-widgets/controls",
      "model_module_version": "2.0.0",
      "model_name": "HTMLStyleModel",
      "state": {
       "description_width": "",
       "font_size": null,
       "text_color": null
      }
     },
     "4f2239387cb04d9d958df2045c8687d0": {
      "model_module": "@jupyter-widgets/controls",
      "model_module_version": "2.0.0",
      "model_name": "HTMLModel",
      "state": {
       "layout": "IPY_MODEL_3313c1e16a3f4e6ab84bad70bb4f8581",
       "style": "IPY_MODEL_170840578f5e4204bb3fa788a698468c",
       "value": "100%"
      }
     },
     "510a835daebf4d19ad0cb15686a7ff07": {
      "model_module": "@jupyter-widgets/controls",
      "model_module_version": "2.0.0",
      "model_name": "ProgressStyleModel",
      "state": {
       "description_width": ""
      }
     },
     "51262050370542c4a8721629a71e68eb": {
      "model_module": "@jupyter-widgets/controls",
      "model_module_version": "2.0.0",
      "model_name": "HTMLModel",
      "state": {
       "layout": "IPY_MODEL_7267758866d742c1b8b976936484757c",
       "style": "IPY_MODEL_08ee8807a1c14cdb8ed3f7b8c2c18dc4",
       "value": "100%"
      }
     },
     "51f947477d8849c9b7ca5d553b54955e": {
      "model_module": "@jupyter-widgets/base",
      "model_module_version": "2.0.0",
      "model_name": "LayoutModel",
      "state": {}
     },
     "528bbbd79aba43439d99c0937302f62f": {
      "model_module": "@jupyter-widgets/controls",
      "model_module_version": "2.0.0",
      "model_name": "HTMLStyleModel",
      "state": {
       "description_width": "",
       "font_size": null,
       "text_color": null
      }
     },
     "546180a9584e48878263480b63e0f3a1": {
      "model_module": "@jupyter-widgets/controls",
      "model_module_version": "2.0.0",
      "model_name": "HBoxModel",
      "state": {
       "children": [
        "IPY_MODEL_4f2239387cb04d9d958df2045c8687d0",
        "IPY_MODEL_5dfef9ff400a4bfc9dba1482937ea12d",
        "IPY_MODEL_05979a85bb454497a8f02688e86c5fff"
       ],
       "layout": "IPY_MODEL_a0e4e8c9fa26437589716d91a4b3d0c4"
      }
     },
     "556b0dc84c7c44459bf10c34d8d1d097": {
      "model_module": "@jupyter-widgets/controls",
      "model_module_version": "2.0.0",
      "model_name": "HBoxModel",
      "state": {
       "children": [
        "IPY_MODEL_61afd033407b4cfe9f1dd86d0ad33a64",
        "IPY_MODEL_84522377bea54b3b9cee3e36ccf792d9",
        "IPY_MODEL_6434873e46d24b47b59356e42d8f26d0"
       ],
       "layout": "IPY_MODEL_97ca981447ca4b6cb6ba5fe143bfdb7d"
      }
     },
     "57d8101c34474e08a272bf4cc336ef73": {
      "model_module": "@jupyter-widgets/base",
      "model_module_version": "2.0.0",
      "model_name": "LayoutModel",
      "state": {}
     },
     "5862ea5097c6466fa2926f999894c7f4": {
      "model_module": "@jupyter-widgets/controls",
      "model_module_version": "2.0.0",
      "model_name": "HTMLStyleModel",
      "state": {
       "description_width": "",
       "font_size": null,
       "text_color": null
      }
     },
     "588e7e18bced4b5b9c991cad7c7e9b0b": {
      "model_module": "@jupyter-widgets/controls",
      "model_module_version": "2.0.0",
      "model_name": "HTMLStyleModel",
      "state": {
       "description_width": "",
       "font_size": null,
       "text_color": null
      }
     },
     "599060a826df4da5b77c0ef6dfbd7b3d": {
      "model_module": "@jupyter-widgets/base",
      "model_module_version": "2.0.0",
      "model_name": "LayoutModel",
      "state": {}
     },
     "5a7bccc4cb084a93a275e2809fc7bc3b": {
      "model_module": "@jupyter-widgets/base",
      "model_module_version": "2.0.0",
      "model_name": "LayoutModel",
      "state": {}
     },
     "5ab5cbeb6dc74704b330acaa28416f76": {
      "model_module": "@jupyter-widgets/base",
      "model_module_version": "2.0.0",
      "model_name": "LayoutModel",
      "state": {}
     },
     "5c68eb24bc4e4631a985db12efe3880a": {
      "model_module": "@jupyter-widgets/controls",
      "model_module_version": "2.0.0",
      "model_name": "HTMLModel",
      "state": {
       "layout": "IPY_MODEL_c47bd95baf184adda8ec29290636c889",
       "style": "IPY_MODEL_d3509ba574b54ad581c1fa088cde8600",
       "value": " 6/6 [18:08&lt;00:00, 179.03s/it]"
      }
     },
     "5cabbbf5b78e4fcc9a8735913dbd3066": {
      "model_module": "@jupyter-widgets/controls",
      "model_module_version": "2.0.0",
      "model_name": "HTMLModel",
      "state": {
       "layout": "IPY_MODEL_b20b6111cb5d4b5d9ff9242cb397f139",
       "style": "IPY_MODEL_528bbbd79aba43439d99c0937302f62f",
       "value": "100%"
      }
     },
     "5dfef9ff400a4bfc9dba1482937ea12d": {
      "model_module": "@jupyter-widgets/controls",
      "model_module_version": "2.0.0",
      "model_name": "FloatProgressModel",
      "state": {
       "bar_style": "success",
       "layout": "IPY_MODEL_ebb91549e94540ca8bc30b8102d4834d",
       "max": 35,
       "style": "IPY_MODEL_621db61767d24fd0a05a9a9c4508b759",
       "value": 35
      }
     },
     "60bc887bf2b44ab7bc3b77530b9d8f3b": {
      "model_module": "@jupyter-widgets/controls",
      "model_module_version": "2.0.0",
      "model_name": "HTMLModel",
      "state": {
       "layout": "IPY_MODEL_892f03cf5e9d461dadf4f4539cd7a43e",
       "style": "IPY_MODEL_446ec1eed2094e31ae93bd9348139b7e",
       "value": "100%"
      }
     },
     "61afd033407b4cfe9f1dd86d0ad33a64": {
      "model_module": "@jupyter-widgets/controls",
      "model_module_version": "2.0.0",
      "model_name": "HTMLModel",
      "state": {
       "layout": "IPY_MODEL_720a26198719482ba2bf7cf93e43d2ad",
       "style": "IPY_MODEL_9ed1fca5d1bd4cb8b29b39e7c84355f3",
       "value": "100%"
      }
     },
     "621db61767d24fd0a05a9a9c4508b759": {
      "model_module": "@jupyter-widgets/controls",
      "model_module_version": "2.0.0",
      "model_name": "ProgressStyleModel",
      "state": {
       "description_width": ""
      }
     },
     "62e8f46799ba4a488401bc94cfd992ff": {
      "model_module": "@jupyter-widgets/controls",
      "model_module_version": "2.0.0",
      "model_name": "HBoxModel",
      "state": {
       "children": [
        "IPY_MODEL_10d085875e5c4bea960178ee23766e52",
        "IPY_MODEL_9c797256d5824343840c151f29c7303d",
        "IPY_MODEL_0e51d392d92048d4a0bef2e60f50a7aa"
       ],
       "layout": "IPY_MODEL_57d8101c34474e08a272bf4cc336ef73"
      }
     },
     "63319420bffc4cdeb0f0d6853c18123f": {
      "model_module": "@jupyter-widgets/controls",
      "model_module_version": "2.0.0",
      "model_name": "FloatProgressModel",
      "state": {
       "bar_style": "success",
       "layout": "IPY_MODEL_4d9e1db8ee8b4b57834ed1009deb1559",
       "max": 3,
       "style": "IPY_MODEL_510a835daebf4d19ad0cb15686a7ff07",
       "value": 3
      }
     },
     "6434873e46d24b47b59356e42d8f26d0": {
      "model_module": "@jupyter-widgets/controls",
      "model_module_version": "2.0.0",
      "model_name": "HTMLModel",
      "state": {
       "layout": "IPY_MODEL_cfa4abacd3d7429f923dd00bfde03c48",
       "style": "IPY_MODEL_4cfc3fa2b2414eb6b8d2122b886a0ffa",
       "value": " 100/100 [08:58&lt;00:00,  7.26s/it]"
      }
     },
     "6461bba7f4074b1cacb32192be5be30a": {
      "model_module": "@jupyter-widgets/base",
      "model_module_version": "2.0.0",
      "model_name": "LayoutModel",
      "state": {}
     },
     "65fca61cc7ff460c9557fb04086fe43b": {
      "model_module": "@jupyter-widgets/base",
      "model_module_version": "2.0.0",
      "model_name": "LayoutModel",
      "state": {}
     },
     "661d7c24849a45629a870bce06987aba": {
      "model_module": "@jupyter-widgets/controls",
      "model_module_version": "2.0.0",
      "model_name": "ProgressStyleModel",
      "state": {
       "description_width": ""
      }
     },
     "6681272fff9d477689cb399a4397a3d9": {
      "model_module": "@jupyter-widgets/base",
      "model_module_version": "2.0.0",
      "model_name": "LayoutModel",
      "state": {}
     },
     "67d8eaf835a34e68a849526553db4cf1": {
      "model_module": "@jupyter-widgets/controls",
      "model_module_version": "2.0.0",
      "model_name": "HTMLStyleModel",
      "state": {
       "description_width": "",
       "font_size": null,
       "text_color": null
      }
     },
     "68d1d9b3a9024153a3c5cb8273bb6785": {
      "model_module": "@jupyter-widgets/controls",
      "model_module_version": "2.0.0",
      "model_name": "ProgressStyleModel",
      "state": {
       "description_width": ""
      }
     },
     "699d72701ed041d2886bd685f9a78a9c": {
      "model_module": "@jupyter-widgets/controls",
      "model_module_version": "2.0.0",
      "model_name": "FloatProgressModel",
      "state": {
       "bar_style": "success",
       "layout": "IPY_MODEL_38c2e6eb899349208f723c4c05bb39d1",
       "max": 78,
       "style": "IPY_MODEL_a66d9a0752c14f41b9950f35581e4146",
       "value": 78
      }
     },
     "69d2a69e758d4978bd454aef26b26bd7": {
      "model_module": "@jupyter-widgets/controls",
      "model_module_version": "2.0.0",
      "model_name": "FloatProgressModel",
      "state": {
       "bar_style": "success",
       "layout": "IPY_MODEL_83d64b2aa8544b3c8d76ad8747287164",
       "max": 20820,
       "style": "IPY_MODEL_b16d6fd3ecc244eaae9cc2719940754a",
       "value": 20820
      }
     },
     "6ab96f209f574c4bbb95a6532884a905": {
      "model_module": "@jupyter-widgets/base",
      "model_module_version": "2.0.0",
      "model_name": "LayoutModel",
      "state": {}
     },
     "6bb827f28bb84f169eff221467d7ffd9": {
      "model_module": "@jupyter-widgets/controls",
      "model_module_version": "2.0.0",
      "model_name": "FloatProgressModel",
      "state": {
       "bar_style": "success",
       "layout": "IPY_MODEL_6681272fff9d477689cb399a4397a3d9",
       "max": 29,
       "style": "IPY_MODEL_b0c759ff12634056b6f3c3817ea5aec6",
       "value": 29
      }
     },
     "6bd5e89e17534e76828324f591472dfc": {
      "model_module": "@jupyter-widgets/base",
      "model_module_version": "2.0.0",
      "model_name": "LayoutModel",
      "state": {}
     },
     "720a26198719482ba2bf7cf93e43d2ad": {
      "model_module": "@jupyter-widgets/base",
      "model_module_version": "2.0.0",
      "model_name": "LayoutModel",
      "state": {}
     },
     "722b5aaefb36415baa56b4a4744c9c8d": {
      "model_module": "@jupyter-widgets/controls",
      "model_module_version": "2.0.0",
      "model_name": "HBoxModel",
      "state": {
       "children": [
        "IPY_MODEL_5cabbbf5b78e4fcc9a8735913dbd3066",
        "IPY_MODEL_dbccd1fcffef48698b8c76551b9c44d0",
        "IPY_MODEL_c7c982138aa64af791360eecd2303c86"
       ],
       "layout": "IPY_MODEL_feb54c42613847c4ba5a20a0b61a1171"
      }
     },
     "7267758866d742c1b8b976936484757c": {
      "model_module": "@jupyter-widgets/base",
      "model_module_version": "2.0.0",
      "model_name": "LayoutModel",
      "state": {}
     },
     "72d1b2ae6d394f5eab7412c3690832ab": {
      "model_module": "@jupyter-widgets/controls",
      "model_module_version": "2.0.0",
      "model_name": "ProgressStyleModel",
      "state": {
       "description_width": ""
      }
     },
     "739f2644af364da3bd2a75187d024f72": {
      "model_module": "@jupyter-widgets/controls",
      "model_module_version": "2.0.0",
      "model_name": "HTMLModel",
      "state": {
       "layout": "IPY_MODEL_97860b9fbdb1436babf98ee04b914f96",
       "style": "IPY_MODEL_a0b61058d1d444e2bacb37b2c7eb5c1b",
       "value": "100%"
      }
     },
     "751660abe86c4aa4a3d870ee27119d86": {
      "model_module": "@jupyter-widgets/controls",
      "model_module_version": "2.0.0",
      "model_name": "HTMLModel",
      "state": {
       "layout": "IPY_MODEL_986962742e734896abd6ffdb378c7ffa",
       "style": "IPY_MODEL_67d8eaf835a34e68a849526553db4cf1",
       "value": " 36/36 [02:30&lt;00:00,  4.00s/it]"
      }
     },
     "75e53b1555984664af4a3795b3efb4d1": {
      "model_module": "@jupyter-widgets/base",
      "model_module_version": "2.0.0",
      "model_name": "LayoutModel",
      "state": {}
     },
     "7681c27d63594fa2b4371c8896a45e2f": {
      "model_module": "@jupyter-widgets/controls",
      "model_module_version": "2.0.0",
      "model_name": "FloatProgressModel",
      "state": {
       "bar_style": "success",
       "layout": "IPY_MODEL_9b3f33556cb646cbb2fa5d08b5980333",
       "max": 192,
       "style": "IPY_MODEL_d03c922ab1c94a94a8d96a694ef03008",
       "value": 192
      }
     },
     "778061c6428c425eb67679bbca71483f": {
      "model_module": "@jupyter-widgets/controls",
      "model_module_version": "2.0.0",
      "model_name": "FloatProgressModel",
      "state": {
       "bar_style": "success",
       "layout": "IPY_MODEL_51f947477d8849c9b7ca5d553b54955e",
       "max": 64,
       "style": "IPY_MODEL_304d44f0018449a08ce93477e38a8297",
       "value": 64
      }
     },
     "783c621107234655b183ac734769d82a": {
      "model_module": "@jupyter-widgets/base",
      "model_module_version": "2.0.0",
      "model_name": "LayoutModel",
      "state": {}
     },
     "7cbcc9f5141449de92abd2656a36912f": {
      "model_module": "@jupyter-widgets/base",
      "model_module_version": "2.0.0",
      "model_name": "LayoutModel",
      "state": {}
     },
     "7ce1e4c94b724a9083181a3bfafa9030": {
      "model_module": "@jupyter-widgets/base",
      "model_module_version": "2.0.0",
      "model_name": "LayoutModel",
      "state": {}
     },
     "7cfefbee3e6d4918890487754c32c4f1": {
      "model_module": "@jupyter-widgets/controls",
      "model_module_version": "2.0.0",
      "model_name": "HTMLStyleModel",
      "state": {
       "description_width": "",
       "font_size": null,
       "text_color": null
      }
     },
     "7ec04b588f7d49b08979b91ca87423d3": {
      "model_module": "@jupyter-widgets/base",
      "model_module_version": "2.0.0",
      "model_name": "LayoutModel",
      "state": {}
     },
     "7f1dcf58bf304b9196b2165d8d4a0621": {
      "model_module": "@jupyter-widgets/controls",
      "model_module_version": "2.0.0",
      "model_name": "ProgressStyleModel",
      "state": {
       "description_width": ""
      }
     },
     "80533c8c58624d92862f3c1632476a79": {
      "model_module": "@jupyter-widgets/controls",
      "model_module_version": "2.0.0",
      "model_name": "HBoxModel",
      "state": {
       "children": [
        "IPY_MODEL_51262050370542c4a8721629a71e68eb",
        "IPY_MODEL_6bb827f28bb84f169eff221467d7ffd9",
        "IPY_MODEL_a7bece342a6c49c59cdb82028447603f"
       ],
       "layout": "IPY_MODEL_6bd5e89e17534e76828324f591472dfc"
      }
     },
     "8069d4cfa298486d939f8214798996a5": {
      "model_module": "@jupyter-widgets/controls",
      "model_module_version": "2.0.0",
      "model_name": "FloatProgressModel",
      "state": {
       "bar_style": "success",
       "layout": "IPY_MODEL_bb31b81ddaba475f8f0f9161c4d352d9",
       "max": 36,
       "style": "IPY_MODEL_314bf70181a04dbb95e917a58c275c78",
       "value": 36
      }
     },
     "82ad615012a54031bf65b280a152b0bb": {
      "model_module": "@jupyter-widgets/controls",
      "model_module_version": "2.0.0",
      "model_name": "HBoxModel",
      "state": {
       "children": [
        "IPY_MODEL_2a5c057afe7c4b4f89dafb202b87df2d",
        "IPY_MODEL_2b4dce2e73784bdaa375f1dd8871ee5d",
        "IPY_MODEL_4b65ff190c09499b879186aa49f1ce25"
       ],
       "layout": "IPY_MODEL_783c621107234655b183ac734769d82a"
      }
     },
     "82e952c4717d43b7ad846dc54b2cfe05": {
      "model_module": "@jupyter-widgets/controls",
      "model_module_version": "2.0.0",
      "model_name": "HTMLStyleModel",
      "state": {
       "description_width": "",
       "font_size": null,
       "text_color": null
      }
     },
     "83d64b2aa8544b3c8d76ad8747287164": {
      "model_module": "@jupyter-widgets/base",
      "model_module_version": "2.0.0",
      "model_name": "LayoutModel",
      "state": {}
     },
     "84522377bea54b3b9cee3e36ccf792d9": {
      "model_module": "@jupyter-widgets/controls",
      "model_module_version": "2.0.0",
      "model_name": "FloatProgressModel",
      "state": {
       "bar_style": "success",
       "layout": "IPY_MODEL_b19d9a96b72a4f1f93c76814ff216886",
       "style": "IPY_MODEL_f3cab0ce30ca4150b7936846089f9e1f",
       "value": 100
      }
     },
     "86cf352932444acc93f579944b6f7ded": {
      "model_module": "@jupyter-widgets/base",
      "model_module_version": "2.0.0",
      "model_name": "LayoutModel",
      "state": {}
     },
     "892f03cf5e9d461dadf4f4539cd7a43e": {
      "model_module": "@jupyter-widgets/base",
      "model_module_version": "2.0.0",
      "model_name": "LayoutModel",
      "state": {}
     },
     "89afb6312460442d971b098a1c4eb1b5": {
      "model_module": "@jupyter-widgets/base",
      "model_module_version": "2.0.0",
      "model_name": "LayoutModel",
      "state": {}
     },
     "8c1c22ebb44a465aab79090b6645b0c9": {
      "model_module": "@jupyter-widgets/controls",
      "model_module_version": "2.0.0",
      "model_name": "HTMLStyleModel",
      "state": {
       "description_width": "",
       "font_size": null,
       "text_color": null
      }
     },
     "8d2a20d7f734415c94581c0cc8a47148": {
      "model_module": "@jupyter-widgets/base",
      "model_module_version": "2.0.0",
      "model_name": "LayoutModel",
      "state": {}
     },
     "8d47665220f94a80a358e26111b7eb45": {
      "model_module": "@jupyter-widgets/base",
      "model_module_version": "2.0.0",
      "model_name": "LayoutModel",
      "state": {}
     },
     "8e782003b05c4b3d8db05b8b8c7ab615": {
      "model_module": "@jupyter-widgets/controls",
      "model_module_version": "2.0.0",
      "model_name": "HTMLStyleModel",
      "state": {
       "description_width": "",
       "font_size": null,
       "text_color": null
      }
     },
     "903c56faf7b84ccdaf3e2047fc9bb937": {
      "model_module": "@jupyter-widgets/base",
      "model_module_version": "2.0.0",
      "model_name": "LayoutModel",
      "state": {}
     },
     "92492cd8b0134a9d91275162d19eaaa2": {
      "model_module": "@jupyter-widgets/controls",
      "model_module_version": "2.0.0",
      "model_name": "HTMLStyleModel",
      "state": {
       "description_width": "",
       "font_size": null,
       "text_color": null
      }
     },
     "94f64f10a232484f89257489204cdc84": {
      "model_module": "@jupyter-widgets/controls",
      "model_module_version": "2.0.0",
      "model_name": "HTMLModel",
      "state": {
       "layout": "IPY_MODEL_599060a826df4da5b77c0ef6dfbd7b3d",
       "style": "IPY_MODEL_ea8dbadeaddd493e8b927df26df64276",
       "value": "100%"
      }
     },
     "959bd5b763d949879b47c54ed0ef2b60": {
      "model_module": "@jupyter-widgets/controls",
      "model_module_version": "2.0.0",
      "model_name": "HTMLStyleModel",
      "state": {
       "description_width": "",
       "font_size": null,
       "text_color": null
      }
     },
     "97860b9fbdb1436babf98ee04b914f96": {
      "model_module": "@jupyter-widgets/base",
      "model_module_version": "2.0.0",
      "model_name": "LayoutModel",
      "state": {}
     },
     "97ca981447ca4b6cb6ba5fe143bfdb7d": {
      "model_module": "@jupyter-widgets/base",
      "model_module_version": "2.0.0",
      "model_name": "LayoutModel",
      "state": {}
     },
     "9804aeef84764871a0aeb937796a4a5c": {
      "model_module": "@jupyter-widgets/base",
      "model_module_version": "2.0.0",
      "model_name": "LayoutModel",
      "state": {}
     },
     "986962742e734896abd6ffdb378c7ffa": {
      "model_module": "@jupyter-widgets/base",
      "model_module_version": "2.0.0",
      "model_name": "LayoutModel",
      "state": {}
     },
     "995454c5ad584a98bb08f6e23b8bdddc": {
      "model_module": "@jupyter-widgets/controls",
      "model_module_version": "2.0.0",
      "model_name": "HTMLStyleModel",
      "state": {
       "description_width": "",
       "font_size": null,
       "text_color": null
      }
     },
     "99c132ac2b034a56a6ff2317e55aad6f": {
      "model_module": "@jupyter-widgets/base",
      "model_module_version": "2.0.0",
      "model_name": "LayoutModel",
      "state": {}
     },
     "99d91e1a1e884953b9abd9564b4a3150": {
      "model_module": "@jupyter-widgets/controls",
      "model_module_version": "2.0.0",
      "model_name": "HTMLStyleModel",
      "state": {
       "description_width": "",
       "font_size": null,
       "text_color": null
      }
     },
     "9aee8d47d2d54fffa6c43597a4ed7528": {
      "model_module": "@jupyter-widgets/controls",
      "model_module_version": "2.0.0",
      "model_name": "HTMLModel",
      "state": {
       "layout": "IPY_MODEL_2e790580d6f7493a8c548a7d9f96ce76",
       "style": "IPY_MODEL_c88170497a544351bf8ddc0dcf022919",
       "value": " 30/30 [02:22&lt;00:00,  4.55s/it]"
      }
     },
     "9b3f33556cb646cbb2fa5d08b5980333": {
      "model_module": "@jupyter-widgets/base",
      "model_module_version": "2.0.0",
      "model_name": "LayoutModel",
      "state": {}
     },
     "9be26561b8ec4bec9fd603de57f5f1a4": {
      "model_module": "@jupyter-widgets/controls",
      "model_module_version": "2.0.0",
      "model_name": "HTMLStyleModel",
      "state": {
       "description_width": "",
       "font_size": null,
       "text_color": null
      }
     },
     "9c797256d5824343840c151f29c7303d": {
      "model_module": "@jupyter-widgets/controls",
      "model_module_version": "2.0.0",
      "model_name": "FloatProgressModel",
      "state": {
       "bar_style": "success",
       "layout": "IPY_MODEL_2506357b587449e3b475e4dc756d8dd2",
       "max": 6,
       "style": "IPY_MODEL_dd73f614166e41ba82988054ef3d9ad0",
       "value": 6
      }
     },
     "9cef8ada5b8942d0b0d284ebd5f60caa": {
      "model_module": "@jupyter-widgets/controls",
      "model_module_version": "2.0.0",
      "model_name": "HBoxModel",
      "state": {
       "children": [
        "IPY_MODEL_60bc887bf2b44ab7bc3b77530b9d8f3b",
        "IPY_MODEL_345c9ccee5ab4f91ac0522a51e282f8c",
        "IPY_MODEL_9aee8d47d2d54fffa6c43597a4ed7528"
       ],
       "layout": "IPY_MODEL_e0388c7ff447437894c6819e4139b7a5"
      }
     },
     "9de8eb35e9a04f44b027e13920c5a8a0": {
      "model_module": "@jupyter-widgets/controls",
      "model_module_version": "2.0.0",
      "model_name": "HBoxModel",
      "state": {
       "children": [
        "IPY_MODEL_94f64f10a232484f89257489204cdc84",
        "IPY_MODEL_778061c6428c425eb67679bbca71483f",
        "IPY_MODEL_0c8e1a8bf0ca4019bd5eb7eb50ce227d"
       ],
       "layout": "IPY_MODEL_9804aeef84764871a0aeb937796a4a5c"
      }
     },
     "9ed1fca5d1bd4cb8b29b39e7c84355f3": {
      "model_module": "@jupyter-widgets/controls",
      "model_module_version": "2.0.0",
      "model_name": "HTMLStyleModel",
      "state": {
       "description_width": "",
       "font_size": null,
       "text_color": null
      }
     },
     "a0b61058d1d444e2bacb37b2c7eb5c1b": {
      "model_module": "@jupyter-widgets/controls",
      "model_module_version": "2.0.0",
      "model_name": "HTMLStyleModel",
      "state": {
       "description_width": "",
       "font_size": null,
       "text_color": null
      }
     },
     "a0e4e8c9fa26437589716d91a4b3d0c4": {
      "model_module": "@jupyter-widgets/base",
      "model_module_version": "2.0.0",
      "model_name": "LayoutModel",
      "state": {}
     },
     "a46e504b7c024c0bb1306953d653a1c9": {
      "model_module": "@jupyter-widgets/base",
      "model_module_version": "2.0.0",
      "model_name": "LayoutModel",
      "state": {}
     },
     "a66d9a0752c14f41b9950f35581e4146": {
      "model_module": "@jupyter-widgets/controls",
      "model_module_version": "2.0.0",
      "model_name": "ProgressStyleModel",
      "state": {
       "description_width": ""
      }
     },
     "a7bece342a6c49c59cdb82028447603f": {
      "model_module": "@jupyter-widgets/controls",
      "model_module_version": "2.0.0",
      "model_name": "HTMLModel",
      "state": {
       "layout": "IPY_MODEL_0fa82c1275164e93b494fa835494f9d0",
       "style": "IPY_MODEL_07500611c21043a8a43db62fafdb307e",
       "value": " 29/29 [02:25&lt;00:00,  4.81s/it]"
      }
     },
     "a90e7cc103b4458ea7406e68a82d6222": {
      "model_module": "@jupyter-widgets/controls",
      "model_module_version": "2.0.0",
      "model_name": "HTMLModel",
      "state": {
       "layout": "IPY_MODEL_ee088e5d026d4a39b940aa6180b2787d",
       "style": "IPY_MODEL_5862ea5097c6466fa2926f999894c7f4",
       "value": "100%"
      }
     },
     "a9a711bd2e734a1486c5d9f7ec72c60d": {
      "model_module": "@jupyter-widgets/controls",
      "model_module_version": "2.0.0",
      "model_name": "HBoxModel",
      "state": {
       "children": [
        "IPY_MODEL_739f2644af364da3bd2a75187d024f72",
        "IPY_MODEL_072733db3aa8456ebd308a25c2e218af",
        "IPY_MODEL_5c68eb24bc4e4631a985db12efe3880a"
       ],
       "layout": "IPY_MODEL_5a7bccc4cb084a93a275e2809fc7bc3b"
      }
     },
     "a9b82e191df6453d9a2eda8469f83a07": {
      "model_module": "@jupyter-widgets/controls",
      "model_module_version": "2.0.0",
      "model_name": "FloatProgressModel",
      "state": {
       "bar_style": "success",
       "layout": "IPY_MODEL_2e0ff701d6684c2cb41ff5a017c43211",
       "max": 20820,
       "style": "IPY_MODEL_aec101389a984e089bc78ab310c1fb8c",
       "value": 20820
      }
     },
     "aa317cc344574319861ce4daf32518f5": {
      "model_module": "@jupyter-widgets/controls",
      "model_module_version": "2.0.0",
      "model_name": "HTMLStyleModel",
      "state": {
       "description_width": "",
       "font_size": null,
       "text_color": null
      }
     },
     "aa73f75acda047ab97d7c54a53e9cce9": {
      "model_module": "@jupyter-widgets/base",
      "model_module_version": "2.0.0",
      "model_name": "LayoutModel",
      "state": {}
     },
     "ac4385057e2e4c6889bcd55c91f41858": {
      "model_module": "@jupyter-widgets/base",
      "model_module_version": "2.0.0",
      "model_name": "LayoutModel",
      "state": {}
     },
     "ae65d70d2b3f4ee995271cdd9b7166d8": {
      "model_module": "@jupyter-widgets/controls",
      "model_module_version": "2.0.0",
      "model_name": "HBoxModel",
      "state": {
       "children": [
        "IPY_MODEL_b73ddce962194151836c16cb10291ac2",
        "IPY_MODEL_8069d4cfa298486d939f8214798996a5",
        "IPY_MODEL_751660abe86c4aa4a3d870ee27119d86"
       ],
       "layout": "IPY_MODEL_c0aea857d59e4461aa03fcc078a4d70b"
      }
     },
     "aec101389a984e089bc78ab310c1fb8c": {
      "model_module": "@jupyter-widgets/controls",
      "model_module_version": "2.0.0",
      "model_name": "ProgressStyleModel",
      "state": {
       "description_width": ""
      }
     },
     "aff0d2e974ba43c7ae4d6b0bd2072075": {
      "model_module": "@jupyter-widgets/controls",
      "model_module_version": "2.0.0",
      "model_name": "HBoxModel",
      "state": {
       "children": [
        "IPY_MODEL_295e40b8d3004a79a0acff66d7ef2bd1",
        "IPY_MODEL_69d2a69e758d4978bd454aef26b26bd7",
        "IPY_MODEL_28879cc27573481ea44dbd91ae5891b7"
       ],
       "layout": "IPY_MODEL_be02a94d403d4222850d86945c48ae0a"
      }
     },
     "b0534b1f56c745838c87a0a66e5dfeaa": {
      "model_module": "@jupyter-widgets/base",
      "model_module_version": "2.0.0",
      "model_name": "LayoutModel",
      "state": {}
     },
     "b0793b4e32a941ddab360225ae6dad37": {
      "model_module": "@jupyter-widgets/controls",
      "model_module_version": "2.0.0",
      "model_name": "HTMLStyleModel",
      "state": {
       "description_width": "",
       "font_size": null,
       "text_color": null
      }
     },
     "b0c759ff12634056b6f3c3817ea5aec6": {
      "model_module": "@jupyter-widgets/controls",
      "model_module_version": "2.0.0",
      "model_name": "ProgressStyleModel",
      "state": {
       "description_width": ""
      }
     },
     "b16d6fd3ecc244eaae9cc2719940754a": {
      "model_module": "@jupyter-widgets/controls",
      "model_module_version": "2.0.0",
      "model_name": "ProgressStyleModel",
      "state": {
       "description_width": ""
      }
     },
     "b175793d5d684de582c0db69485de43c": {
      "model_module": "@jupyter-widgets/base",
      "model_module_version": "2.0.0",
      "model_name": "LayoutModel",
      "state": {}
     },
     "b19d9a96b72a4f1f93c76814ff216886": {
      "model_module": "@jupyter-widgets/base",
      "model_module_version": "2.0.0",
      "model_name": "LayoutModel",
      "state": {}
     },
     "b20b6111cb5d4b5d9ff9242cb397f139": {
      "model_module": "@jupyter-widgets/base",
      "model_module_version": "2.0.0",
      "model_name": "LayoutModel",
      "state": {}
     },
     "b68d0e3b65da4eddb0616ca793e88ee3": {
      "model_module": "@jupyter-widgets/controls",
      "model_module_version": "2.0.0",
      "model_name": "HBoxModel",
      "state": {
       "children": [
        "IPY_MODEL_4ed5427fbd0249c79208da8d9cbcb54f",
        "IPY_MODEL_699d72701ed041d2886bd685f9a78a9c",
        "IPY_MODEL_43b33bdc387a4c3d8fd4727f2f8bd03d"
       ],
       "layout": "IPY_MODEL_23a3f1f3d11b44c3b8c366e66dfc1116"
      }
     },
     "b6c3b271aaf54bf7b7e49747f41ebd89": {
      "model_module": "@jupyter-widgets/controls",
      "model_module_version": "2.0.0",
      "model_name": "HTMLStyleModel",
      "state": {
       "description_width": "",
       "font_size": null,
       "text_color": null
      }
     },
     "b73ddce962194151836c16cb10291ac2": {
      "model_module": "@jupyter-widgets/controls",
      "model_module_version": "2.0.0",
      "model_name": "HTMLModel",
      "state": {
       "layout": "IPY_MODEL_0503161bf117415b9d884e187eec2a70",
       "style": "IPY_MODEL_f2e2c3488526492da6fa9e519dd44dca",
       "value": "100%"
      }
     },
     "ba23f1d8c76743119bc31294aa49b6a3": {
      "model_module": "@jupyter-widgets/base",
      "model_module_version": "2.0.0",
      "model_name": "LayoutModel",
      "state": {}
     },
     "bb31b81ddaba475f8f0f9161c4d352d9": {
      "model_module": "@jupyter-widgets/base",
      "model_module_version": "2.0.0",
      "model_name": "LayoutModel",
      "state": {}
     },
     "bbaa4b434089462886ceab15424e23f3": {
      "model_module": "@jupyter-widgets/controls",
      "model_module_version": "2.0.0",
      "model_name": "HTMLStyleModel",
      "state": {
       "description_width": "",
       "font_size": null,
       "text_color": null
      }
     },
     "be02a94d403d4222850d86945c48ae0a": {
      "model_module": "@jupyter-widgets/base",
      "model_module_version": "2.0.0",
      "model_name": "LayoutModel",
      "state": {}
     },
     "c0aea857d59e4461aa03fcc078a4d70b": {
      "model_module": "@jupyter-widgets/base",
      "model_module_version": "2.0.0",
      "model_name": "LayoutModel",
      "state": {}
     },
     "c47bd95baf184adda8ec29290636c889": {
      "model_module": "@jupyter-widgets/base",
      "model_module_version": "2.0.0",
      "model_name": "LayoutModel",
      "state": {}
     },
     "c7c982138aa64af791360eecd2303c86": {
      "model_module": "@jupyter-widgets/controls",
      "model_module_version": "2.0.0",
      "model_name": "HTMLModel",
      "state": {
       "layout": "IPY_MODEL_00713ae13a6741deaec9f170443ba55e",
       "style": "IPY_MODEL_7cfefbee3e6d4918890487754c32c4f1",
       "value": " 28/28 [02:49&lt;00:00,  5.11s/it]"
      }
     },
     "c7dde7d92487476f83d59d941be77aa0": {
      "model_module": "@jupyter-widgets/base",
      "model_module_version": "2.0.0",
      "model_name": "LayoutModel",
      "state": {}
     },
     "c800b8ebb9304fcfbe524f3d66cb38e1": {
      "model_module": "@jupyter-widgets/controls",
      "model_module_version": "2.0.0",
      "model_name": "HTMLStyleModel",
      "state": {
       "description_width": "",
       "font_size": null,
       "text_color": null
      }
     },
     "c88170497a544351bf8ddc0dcf022919": {
      "model_module": "@jupyter-widgets/controls",
      "model_module_version": "2.0.0",
      "model_name": "HTMLStyleModel",
      "state": {
       "description_width": "",
       "font_size": null,
       "text_color": null
      }
     },
     "ce1b549e4fbd47d68e2f597466ce4b8c": {
      "model_module": "@jupyter-widgets/controls",
      "model_module_version": "2.0.0",
      "model_name": "HTMLModel",
      "state": {
       "layout": "IPY_MODEL_32b09ae7b15c48d6b827b5db430d83cb",
       "style": "IPY_MODEL_34727a4b8cb24c86b3c529990bced36e",
       "value": " 3/3 [00:12&lt;00:00,  4.48s/it]"
      }
     },
     "cfa4abacd3d7429f923dd00bfde03c48": {
      "model_module": "@jupyter-widgets/base",
      "model_module_version": "2.0.0",
      "model_name": "LayoutModel",
      "state": {}
     },
     "d03c922ab1c94a94a8d96a694ef03008": {
      "model_module": "@jupyter-widgets/controls",
      "model_module_version": "2.0.0",
      "model_name": "ProgressStyleModel",
      "state": {
       "description_width": ""
      }
     },
     "d22d5c9b388b48c39292edc60588b415": {
      "model_module": "@jupyter-widgets/controls",
      "model_module_version": "2.0.0",
      "model_name": "HTMLModel",
      "state": {
       "layout": "IPY_MODEL_99c132ac2b034a56a6ff2317e55aad6f",
       "style": "IPY_MODEL_b0793b4e32a941ddab360225ae6dad37",
       "value": " 20820/20820 [02:36&lt;00:00, 134.60it/s]"
      }
     },
     "d3509ba574b54ad581c1fa088cde8600": {
      "model_module": "@jupyter-widgets/controls",
      "model_module_version": "2.0.0",
      "model_name": "HTMLStyleModel",
      "state": {
       "description_width": "",
       "font_size": null,
       "text_color": null
      }
     },
     "d3938fdd87cb438893c5a866a4cdc14b": {
      "model_module": "@jupyter-widgets/base",
      "model_module_version": "2.0.0",
      "model_name": "LayoutModel",
      "state": {}
     },
     "d91a8dc04ad048d4b8f9b5d3e2cc2c51": {
      "model_module": "@jupyter-widgets/controls",
      "model_module_version": "2.0.0",
      "model_name": "HTMLStyleModel",
      "state": {
       "description_width": "",
       "font_size": null,
       "text_color": null
      }
     },
     "dbccd1fcffef48698b8c76551b9c44d0": {
      "model_module": "@jupyter-widgets/controls",
      "model_module_version": "2.0.0",
      "model_name": "FloatProgressModel",
      "state": {
       "bar_style": "success",
       "layout": "IPY_MODEL_ff559f2d9ecf488ebd105859f3509996",
       "max": 28,
       "style": "IPY_MODEL_72d1b2ae6d394f5eab7412c3690832ab",
       "value": 28
      }
     },
     "dd73f614166e41ba82988054ef3d9ad0": {
      "model_module": "@jupyter-widgets/controls",
      "model_module_version": "2.0.0",
      "model_name": "ProgressStyleModel",
      "state": {
       "description_width": ""
      }
     },
     "de2f5505b87c417490a1abbc1b357c34": {
      "model_module": "@jupyter-widgets/controls",
      "model_module_version": "2.0.0",
      "model_name": "ProgressStyleModel",
      "state": {
       "description_width": ""
      }
     },
     "e0388c7ff447437894c6819e4139b7a5": {
      "model_module": "@jupyter-widgets/base",
      "model_module_version": "2.0.0",
      "model_name": "LayoutModel",
      "state": {}
     },
     "e2fd3a3165584462a1a6863a2b8d29c3": {
      "model_module": "@jupyter-widgets/controls",
      "model_module_version": "2.0.0",
      "model_name": "HTMLModel",
      "state": {
       "layout": "IPY_MODEL_86cf352932444acc93f579944b6f7ded",
       "style": "IPY_MODEL_27c66654c862429f8e2cf5a4aa1cb1df",
       "value": "100%"
      }
     },
     "e60b36f5972047eb9492335272c4dd8c": {
      "model_module": "@jupyter-widgets/base",
      "model_module_version": "2.0.0",
      "model_name": "LayoutModel",
      "state": {}
     },
     "e65ba8b5eca244c396264841f6f8c3f6": {
      "model_module": "@jupyter-widgets/base",
      "model_module_version": "2.0.0",
      "model_name": "LayoutModel",
      "state": {}
     },
     "e71288e4f3c14d2d9d6f7e1a6ba67c19": {
      "model_module": "@jupyter-widgets/controls",
      "model_module_version": "2.0.0",
      "model_name": "HTMLStyleModel",
      "state": {
       "description_width": "",
       "font_size": null,
       "text_color": null
      }
     },
     "ea8dbadeaddd493e8b927df26df64276": {
      "model_module": "@jupyter-widgets/controls",
      "model_module_version": "2.0.0",
      "model_name": "HTMLStyleModel",
      "state": {
       "description_width": "",
       "font_size": null,
       "text_color": null
      }
     },
     "ebb91549e94540ca8bc30b8102d4834d": {
      "model_module": "@jupyter-widgets/base",
      "model_module_version": "2.0.0",
      "model_name": "LayoutModel",
      "state": {}
     },
     "ebd5d686a72f46d4ade2b1bf874ed147": {
      "model_module": "@jupyter-widgets/controls",
      "model_module_version": "2.0.0",
      "model_name": "HBoxModel",
      "state": {
       "children": [
        "IPY_MODEL_45ff7fa9dce64521b56094a76c05213d",
        "IPY_MODEL_a9b82e191df6453d9a2eda8469f83a07",
        "IPY_MODEL_2d8af4cc6525444ba374bf552486de3a"
       ],
       "layout": "IPY_MODEL_89afb6312460442d971b098a1c4eb1b5"
      }
     },
     "ed500524d7cc4c3dbf2f77b56f969cd9": {
      "model_module": "@jupyter-widgets/controls",
      "model_module_version": "2.0.0",
      "model_name": "HBoxModel",
      "state": {
       "children": [
        "IPY_MODEL_1861aac8c678406982b6e0082da9ada3",
        "IPY_MODEL_302cf5094fa44c7788dc7b09d693a69a",
        "IPY_MODEL_3030b3bfd9c6440285fe1b3c17706b9e"
       ],
       "layout": "IPY_MODEL_b175793d5d684de582c0db69485de43c"
      }
     },
     "edea5c274eee429c8247aa823e0eeec3": {
      "model_module": "@jupyter-widgets/controls",
      "model_module_version": "2.0.0",
      "model_name": "HBoxModel",
      "state": {
       "children": [
        "IPY_MODEL_e2fd3a3165584462a1a6863a2b8d29c3",
        "IPY_MODEL_0e6627d1d8ed4f5a83438c3228655684",
        "IPY_MODEL_061939b85e204a17a7c01e534a83f63a"
       ],
       "layout": "IPY_MODEL_e65ba8b5eca244c396264841f6f8c3f6"
      }
     },
     "ee088e5d026d4a39b940aa6180b2787d": {
      "model_module": "@jupyter-widgets/base",
      "model_module_version": "2.0.0",
      "model_name": "LayoutModel",
      "state": {}
     },
     "eeecde26191748db90f69dc16351e5d6": {
      "model_module": "@jupyter-widgets/base",
      "model_module_version": "2.0.0",
      "model_name": "LayoutModel",
      "state": {}
     },
     "ef46d217f38a4bb0a49ef76c341fd288": {
      "model_module": "@jupyter-widgets/controls",
      "model_module_version": "2.0.0",
      "model_name": "ProgressStyleModel",
      "state": {
       "description_width": ""
      }
     },
     "f2e2c3488526492da6fa9e519dd44dca": {
      "model_module": "@jupyter-widgets/controls",
      "model_module_version": "2.0.0",
      "model_name": "HTMLStyleModel",
      "state": {
       "description_width": "",
       "font_size": null,
       "text_color": null
      }
     },
     "f3cab0ce30ca4150b7936846089f9e1f": {
      "model_module": "@jupyter-widgets/controls",
      "model_module_version": "2.0.0",
      "model_name": "ProgressStyleModel",
      "state": {
       "description_width": ""
      }
     },
     "fa22fd08b98d4440a014debac9a5937f": {
      "model_module": "@jupyter-widgets/controls",
      "model_module_version": "2.0.0",
      "model_name": "HTMLStyleModel",
      "state": {
       "description_width": "",
       "font_size": null,
       "text_color": null
      }
     },
     "fd7cd74a00e243e7b091b1df2f57d4c3": {
      "model_module": "@jupyter-widgets/base",
      "model_module_version": "2.0.0",
      "model_name": "LayoutModel",
      "state": {}
     },
     "feb54c42613847c4ba5a20a0b61a1171": {
      "model_module": "@jupyter-widgets/base",
      "model_module_version": "2.0.0",
      "model_name": "LayoutModel",
      "state": {}
     },
     "ff559f2d9ecf488ebd105859f3509996": {
      "model_module": "@jupyter-widgets/base",
      "model_module_version": "2.0.0",
      "model_name": "LayoutModel",
      "state": {}
     }
    },
    "version_major": 2,
    "version_minor": 0
   }
  }
 },
 "nbformat": 4,
 "nbformat_minor": 5
}
