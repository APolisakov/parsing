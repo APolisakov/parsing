{
 "cells": [
  {
   "cell_type": "markdown",
   "id": "12b7827e",
   "metadata": {},
   "source": [
    "# parsing_tir"
   ]
  },
  {
   "cell_type": "code",
   "execution_count": 1,
   "id": "c0a16e5a",
   "metadata": {},
   "outputs": [],
   "source": [
    "import pandas as pd\n",
    "import numpy as np\n",
    "import requests\n",
    "from bs4 import BeautifulSoup as bs\n",
    "import re\n",
    "from tqdm.notebook import trange, tqdm\n",
    "from tqdm.gui import tqdm as tqdm_gui\n",
    "import datetime as dt\n",
    "import seaborn as sns\n",
    "import matplotlib.pyplot as plt\n",
    "from IPython.display import display\n"
   ]
  },
  {
   "cell_type": "markdown",
   "id": "50e2394a",
   "metadata": {},
   "source": [
    "импорт библиотек"
   ]
  },
  {
   "cell_type": "markdown",
   "id": "e0b0f754",
   "metadata": {},
   "source": [
    "import warnings\n",
    "warnings.filterwarnings('ignore')"
   ]
  },
  {
   "cell_type": "code",
   "execution_count": 2,
   "id": "39938688",
   "metadata": {},
   "outputs": [],
   "source": [
    "pd.set_option('display.max_colwidth', 1000)\n",
    "pd.set_option('display.max_columns', 1000)\n",
    "pd.set_option('display.max_rows', 1000)"
   ]
  },
  {
   "cell_type": "code",
   "execution_count": 3,
   "id": "5a09642a",
   "metadata": {},
   "outputs": [],
   "source": [
    "def preprocessing(x):\n",
    "    print(f'таблица имеет следующий вид:')\n",
    "    display(x.head())\n",
    "    print('*'*100)\n",
    "    print(f'таблица имеет {x.shape[0]} сторок и {x.shape[1]} столбцов')\n",
    "    print('*'*100)\n",
    "    print(f'в таблице обнаружено дублекатов:{x.duplicated().sum()}')\n",
    "    print('*'*100)\n",
    "    print('в таблице обнаружены пропуски в следующих столбцах:')\n",
    "    display(x.isna().sum())\n",
    "    print('*'*100)\n",
    "    print('Эти пропуски составлябт следующее количество в процентах')\n",
    "    display((x.isna().mean()* 100).round(1))\n",
    "    print('*'*100)\n",
    "    print('столбцы имеют следующие типы:')\n",
    "    display(x.dtypes)\n",
    "    x.columns = [y.lower().replace(' ', '_') for y in x.columns.values] \n",
    "    print('*'*100)\n",
    "    print('названия столбцов переписаны в нижнем регистре, пробелы заменены на нижнее подчеркивание')\n",
    "    print('*'*100)\n",
    "    display(x.info())"
   ]
  },
  {
   "cell_type": "markdown",
   "id": "d21da9cc",
   "metadata": {},
   "source": [
    "создаем функцию предварительного просмотра данных"
   ]
  },
  {
   "cell_type": "code",
   "execution_count": 4,
   "id": "aefab233",
   "metadata": {},
   "outputs": [],
   "source": [
    "oll_url=['https://tiraet.com/catalog/Komplektujuschie/?PAGEN_1=',\n",
    "         'https://tiraet.com/catalog/2873/?PAGEN_1=',\n",
    "         'https://tiraet.com/catalog/Kompjuternaja-mebel/?PAGEN_1=',\n",
    "         'https://tiraet.com/catalog/bytovaya/?PAGEN_1=',\n",
    "         'https://tiraet.com/catalog/ohrannye-sistemy/?PAGEN_1=',\n",
    "         'https://tiraet.com/catalog/svet-i-jelektrika/?PAGEN_1=',\n",
    "         'https://tiraet.com/catalog/orgtehnika/?PAGEN_1=',\n",
    "         'https://tiraet.com/catalog/PHoto--i-video/?PAGEN_1=',\n",
    "         'https://tiraet.com/catalog/setevoe-oborudovanie/?PAGEN_1=',\n",
    "         'https://tiraet.com/catalog/jelektropitanie/?PAGEN_1=',\n",
    "         'https://tiraet.com/catalog/uslugi/?PAGEN_1=',\n",
    "         'https://tiraet.com/catalog/avtojelektronika/?PAGEN_1=',\n",
    "         'https://tiraet.com/catalog/rashodnye-materialy/?PAGEN_1=',\n",
    "         \n",
    "]"
   ]
  },
  {
   "cell_type": "code",
   "execution_count": 5,
   "id": "7696c601",
   "metadata": {},
   "outputs": [],
   "source": [
    "j=1\n",
    "def parsing_2(url):\n",
    "    data = pd.DataFrame(columns=['title', 'url', 'date', 'availability', 'id', 'price', 'old_price'])    \n",
    "    for u in url:\n",
    "        reqx = requests.get(u)\n",
    "        soup = bs(reqx.text, 'html.parser')\n",
    "        max_page = soup.findAll('div', class_='nums')\n",
    "        maxx = int(max_page[0].text.strip().split('\\n')[-1])\n",
    "        for j in tqdm(range(1,maxx + 1)):        \n",
    "            reqx = requests.get(u + str(j))\n",
    "            soup = bs(reqx.text, 'html.parser')\n",
    "            element = soup.findAll('div', class_='item_info')\n",
    "            datax = []\n",
    "            for i in element:\n",
    "                datax.append({'title' : i.find('a', class_='dark_link js-notice-block__title option-font-bold font_sm').text.strip(),\n",
    "                             'url' : 'https://tiraet.com' + i.find('a', class_='dark_link js-notice-block__title option-font-bold font_sm')['href'],\n",
    "                             'date' : pd.to_datetime('today').normalize(),\n",
    "                             'availability' : i.find('div', class_='item-stock js-show-stores js-show-info-block').text.strip(),\n",
    "                             'id' : int(i.find('div', class_='article_block').text.replace('Арт.: ','')),\n",
    "                             'price' : float(i.find('div', class_='price_matrix_wrapper').text.strip().replace(' руб','').replace(',','.').replace(' ','')) if str(type(i.find('div', class_='price_matrix_wrapper'))) != \"<class 'NoneType'>\" else np.NaN ,\n",
    "                             'old_price' : float(i.find('div', class_='price_matrix_wrapper strike_block').text.strip().replace(' руб','').replace(',','.').replace(' ','')) if str(type(i.find('div', class_='price_matrix_wrapper strike_block'))) != \"<class 'NoneType'>\" else np.NaN \n",
    "                            })\n",
    "            datax = pd.DataFrame(datax)\n",
    "            data = pd.concat([data, datax] , ignore_index=True)\n",
    "    return data"
   ]
  },
  {
   "cell_type": "markdown",
   "id": "1bca0b9a",
   "metadata": {},
   "source": [
    "179  -  16  -  23  -  100  -  33  -  60  -  10  -  4  -  31  -  25  -  5  -  5  -  81 "
   ]
  },
  {
   "cell_type": "code",
   "execution_count": 6,
   "id": "580002b9",
   "metadata": {
    "scrolled": false
   },
   "outputs": [
    {
     "data": {
      "application/vnd.jupyter.widget-view+json": {
       "model_id": "8c931cf90c534f4d9edec3d155027657",
       "version_major": 2,
       "version_minor": 0
      },
      "text/plain": [
       "  0%|          | 0/185 [00:00<?, ?it/s]"
      ]
     },
     "metadata": {},
     "output_type": "display_data"
    },
    {
     "data": {
      "application/vnd.jupyter.widget-view+json": {
       "model_id": "c2b2ed369fcc49d4b5a4e0f6ac0a1d94",
       "version_major": 2,
       "version_minor": 0
      },
      "text/plain": [
       "  0%|          | 0/16 [00:00<?, ?it/s]"
      ]
     },
     "metadata": {},
     "output_type": "display_data"
    },
    {
     "data": {
      "application/vnd.jupyter.widget-view+json": {
       "model_id": "c4e3269d7539444e974586775909bded",
       "version_major": 2,
       "version_minor": 0
      },
      "text/plain": [
       "  0%|          | 0/26 [00:00<?, ?it/s]"
      ]
     },
     "metadata": {},
     "output_type": "display_data"
    },
    {
     "data": {
      "application/vnd.jupyter.widget-view+json": {
       "model_id": "e280c395bcc749ddb4a88ff75ce7e4cd",
       "version_major": 2,
       "version_minor": 0
      },
      "text/plain": [
       "  0%|          | 0/101 [00:00<?, ?it/s]"
      ]
     },
     "metadata": {},
     "output_type": "display_data"
    },
    {
     "data": {
      "application/vnd.jupyter.widget-view+json": {
       "model_id": "24108d732a9e40bf8eb0dbffd2566188",
       "version_major": 2,
       "version_minor": 0
      },
      "text/plain": [
       "  0%|          | 0/36 [00:00<?, ?it/s]"
      ]
     },
     "metadata": {},
     "output_type": "display_data"
    },
    {
     "data": {
      "application/vnd.jupyter.widget-view+json": {
       "model_id": "d8c406f953f4475b9f1a9a669004b104",
       "version_major": 2,
       "version_minor": 0
      },
      "text/plain": [
       "  0%|          | 0/60 [00:00<?, ?it/s]"
      ]
     },
     "metadata": {},
     "output_type": "display_data"
    },
    {
     "data": {
      "application/vnd.jupyter.widget-view+json": {
       "model_id": "97f6ed4912114a8599cdb71a071b935e",
       "version_major": 2,
       "version_minor": 0
      },
      "text/plain": [
       "  0%|          | 0/12 [00:00<?, ?it/s]"
      ]
     },
     "metadata": {},
     "output_type": "display_data"
    },
    {
     "data": {
      "application/vnd.jupyter.widget-view+json": {
       "model_id": "a18877bc521c48f48bfaedfb3254a09e",
       "version_major": 2,
       "version_minor": 0
      },
      "text/plain": [
       "  0%|          | 0/4 [00:00<?, ?it/s]"
      ]
     },
     "metadata": {},
     "output_type": "display_data"
    },
    {
     "data": {
      "application/vnd.jupyter.widget-view+json": {
       "model_id": "2f7ebb8ab2394b35bdd7fa1a82f570c9",
       "version_major": 2,
       "version_minor": 0
      },
      "text/plain": [
       "  0%|          | 0/32 [00:00<?, ?it/s]"
      ]
     },
     "metadata": {},
     "output_type": "display_data"
    },
    {
     "data": {
      "application/vnd.jupyter.widget-view+json": {
       "model_id": "ec85e3f421224a848fc743abebec695f",
       "version_major": 2,
       "version_minor": 0
      },
      "text/plain": [
       "  0%|          | 0/25 [00:00<?, ?it/s]"
      ]
     },
     "metadata": {},
     "output_type": "display_data"
    },
    {
     "data": {
      "application/vnd.jupyter.widget-view+json": {
       "model_id": "ab392b31e3c14891bbac9e4363ce8651",
       "version_major": 2,
       "version_minor": 0
      },
      "text/plain": [
       "  0%|          | 0/5 [00:00<?, ?it/s]"
      ]
     },
     "metadata": {},
     "output_type": "display_data"
    },
    {
     "data": {
      "application/vnd.jupyter.widget-view+json": {
       "model_id": "46e2e58e8c8f4d08a34694f80ba92965",
       "version_major": 2,
       "version_minor": 0
      },
      "text/plain": [
       "  0%|          | 0/6 [00:00<?, ?it/s]"
      ]
     },
     "metadata": {},
     "output_type": "display_data"
    },
    {
     "data": {
      "application/vnd.jupyter.widget-view+json": {
       "model_id": "ec924c394b4f4a5397d0a8bd0a1bb02a",
       "version_major": 2,
       "version_minor": 0
      },
      "text/plain": [
       "  0%|          | 0/79 [00:00<?, ?it/s]"
      ]
     },
     "metadata": {},
     "output_type": "display_data"
    },
    {
     "data": {
      "text/html": [
       "<div>\n",
       "<style scoped>\n",
       "    .dataframe tbody tr th:only-of-type {\n",
       "        vertical-align: middle;\n",
       "    }\n",
       "\n",
       "    .dataframe tbody tr th {\n",
       "        vertical-align: top;\n",
       "    }\n",
       "\n",
       "    .dataframe thead th {\n",
       "        text-align: right;\n",
       "    }\n",
       "</style>\n",
       "<table border=\"1\" class=\"dataframe\">\n",
       "  <thead>\n",
       "    <tr style=\"text-align: right;\">\n",
       "      <th></th>\n",
       "      <th>title</th>\n",
       "      <th>url</th>\n",
       "      <th>date</th>\n",
       "      <th>availability</th>\n",
       "      <th>id</th>\n",
       "      <th>price</th>\n",
       "      <th>old_price</th>\n",
       "    </tr>\n",
       "  </thead>\n",
       "  <tbody>\n",
       "    <tr>\n",
       "      <th>0</th>\n",
       "      <td>Стойка коммутацион.Netrack (NP5104) 19', 4U 482*177*530mm, black</td>\n",
       "      <td>https://tiraet.com/catalog/Komplektujuschie/komplektujuschie/Korpusa/stoyka_kommutatsion_netrack_np5104_19_4u_482_177_530mm_black/</td>\n",
       "      <td>2024-07-03</td>\n",
       "      <td>Достаточно</td>\n",
       "      <td>87094</td>\n",
       "      <td>NaN</td>\n",
       "      <td>NaN</td>\n",
       "    </tr>\n",
       "    <tr>\n",
       "      <th>1</th>\n",
       "      <td>Переходник для мыши COM в PS/2 (A-235)</td>\n",
       "      <td>https://tiraet.com/catalog/Komplektujuschie/aksessuarycomp/kabelja-udliniteli-i-perehodniki/Perehodnik-dlja-myshi-COM-v-PS2-A-235/</td>\n",
       "      <td>2024-07-03</td>\n",
       "      <td>Много</td>\n",
       "      <td>284</td>\n",
       "      <td>5.0</td>\n",
       "      <td>NaN</td>\n",
       "    </tr>\n",
       "    <tr>\n",
       "      <th>2</th>\n",
       "      <td>Кабель MINI USB2.0 (A - MINI USB 4PM)1,8м (CC-USB2-AM4P-6)</td>\n",
       "      <td>https://tiraet.com/catalog/Komplektujuschie/aksessuarycomp/kabelja-udliniteli-i-perehodniki/kabel-mini-usb20-a---mini-usb-4pm18m-cc-usb2-am4p-6/</td>\n",
       "      <td>2024-07-03</td>\n",
       "      <td>Много</td>\n",
       "      <td>8683</td>\n",
       "      <td>5.0</td>\n",
       "      <td>NaN</td>\n",
       "    </tr>\n",
       "    <tr>\n",
       "      <th>3</th>\n",
       "      <td>BOX для CD/DVD Verbatim Slim, на 1 диск 120мм,  PVC (49979) Black 1шт</td>\n",
       "      <td>https://tiraet.com/catalog/Komplektujuschie/aksessuarycomp/sumki-dlja-diskov/box_dlya_cd_dvd_verbatim_slim_na_1_disk_120mm_pvc_49979_black_1sht/</td>\n",
       "      <td>2024-07-03</td>\n",
       "      <td>Много</td>\n",
       "      <td>85078</td>\n",
       "      <td>6.6</td>\n",
       "      <td>NaN</td>\n",
       "    </tr>\n",
       "    <tr>\n",
       "      <th>4</th>\n",
       "      <td>Диск CD-R 700MB VERBATIM, 52X (1шт) EXTRA PROTECTION(43411/43351/43437)</td>\n",
       "      <td>https://tiraet.com/catalog/Komplektujuschie/aksessuarycomp/diski/disk_cdr_700mb_verbatim_52x_1sht_extra_protection_43411_43351_43437/</td>\n",
       "      <td>2024-07-03</td>\n",
       "      <td>Много</td>\n",
       "      <td>12819</td>\n",
       "      <td>6.6</td>\n",
       "      <td>NaN</td>\n",
       "    </tr>\n",
       "    <tr>\n",
       "      <th>...</th>\n",
       "      <td>...</td>\n",
       "      <td>...</td>\n",
       "      <td>...</td>\n",
       "      <td>...</td>\n",
       "      <td>...</td>\n",
       "      <td>...</td>\n",
       "      <td>...</td>\n",
       "    </tr>\n",
       "    <tr>\n",
       "      <th>11637</th>\n",
       "      <td>Головка для плоттеров Canon PF-03 (2251B001)</td>\n",
       "      <td>https://tiraet.com/catalog/rashodnye-materialy/zapchasti-dlja-printerov-i-kopirov/zapchasti_print/golovka-dlja-plotterov-canon-pf-03-2251b001/</td>\n",
       "      <td>2024-07-03</td>\n",
       "      <td>Мало</td>\n",
       "      <td>27477</td>\n",
       "      <td>7920.0</td>\n",
       "      <td>NaN</td>\n",
       "    </tr>\n",
       "    <tr>\n",
       "      <th>11638</th>\n",
       "      <td>Узел термозакрепления (для сетевых апп)CANON iR2202/2204(FM1-F162-0XX)</td>\n",
       "      <td>https://tiraet.com/catalog/rashodnye-materialy/zapchasti-dlja-printerov-i-kopirov/zapchasti_print/uzel_termozakrepleniya_dlya_setevykh_app_canon_ir2202_2204_fm1_f162_0xx/</td>\n",
       "      <td>2024-07-03</td>\n",
       "      <td>Мало</td>\n",
       "      <td>55309</td>\n",
       "      <td>8085.0</td>\n",
       "      <td>NaN</td>\n",
       "    </tr>\n",
       "    <tr>\n",
       "      <th>11639</th>\n",
       "      <td>Головка для плоттеров Canon PF-04 (3630B001)</td>\n",
       "      <td>https://tiraet.com/catalog/rashodnye-materialy/zapchasti-dlja-printerov-i-kopirov/zapchasti_print/golovka_dlya_plotterov_canon_pf_04_3630b001/</td>\n",
       "      <td>2024-07-03</td>\n",
       "      <td>Мало</td>\n",
       "      <td>56144</td>\n",
       "      <td>8250.0</td>\n",
       "      <td>NaN</td>\n",
       "    </tr>\n",
       "    <tr>\n",
       "      <th>11640</th>\n",
       "      <td>Картридж EPSON MX-80/LX-300/400/800/850/880 Patron</td>\n",
       "      <td>https://tiraet.com/catalog/rashodnye-materialy/Rashodnye-k-matrichnym-printeram-kartridzhi-lenty/kartridji_matr/kartridzh-epson-lx-300400800850880mx-80/</td>\n",
       "      <td>2024-07-03</td>\n",
       "      <td>Нет в наличии</td>\n",
       "      <td>249</td>\n",
       "      <td>38.0</td>\n",
       "      <td>NaN</td>\n",
       "    </tr>\n",
       "    <tr>\n",
       "      <th>11641</th>\n",
       "      <td>Комплект восстановления Canon IR-1435  CET5280N (фотобарабан, ракель, ВПЗ,чип ф/б)</td>\n",
       "      <td>https://tiraet.com/catalog/rashodnye-materialy/Rashodnye-k-lazernym-printeram-kartridzhi-toner/chip_laser/komplekt_vosstanovleniya_canon_ir_1435_cet5280n_fotobaraban_rakel_vpz_chip_f_b/</td>\n",
       "      <td>2024-07-03</td>\n",
       "      <td>Нет в наличии</td>\n",
       "      <td>68689</td>\n",
       "      <td>594.0</td>\n",
       "      <td>NaN</td>\n",
       "    </tr>\n",
       "  </tbody>\n",
       "</table>\n",
       "<p>11642 rows × 7 columns</p>\n",
       "</div>"
      ],
      "text/plain": [
       "                                                                                    title  \\\n",
       "0                        Стойка коммутацион.Netrack (NP5104) 19', 4U 482*177*530mm, black   \n",
       "1                                                  Переходник для мыши COM в PS/2 (A-235)   \n",
       "2                              Кабель MINI USB2.0 (A - MINI USB 4PM)1,8м (CC-USB2-AM4P-6)   \n",
       "3                   BOX для CD/DVD Verbatim Slim, на 1 диск 120мм,  PVC (49979) Black 1шт   \n",
       "4                 Диск CD-R 700MB VERBATIM, 52X (1шт) EXTRA PROTECTION(43411/43351/43437)   \n",
       "...                                                                                   ...   \n",
       "11637                                        Головка для плоттеров Canon PF-03 (2251B001)   \n",
       "11638              Узел термозакрепления (для сетевых апп)CANON iR2202/2204(FM1-F162-0XX)   \n",
       "11639                                        Головка для плоттеров Canon PF-04 (3630B001)   \n",
       "11640                                  Картридж EPSON MX-80/LX-300/400/800/850/880 Patron   \n",
       "11641  Комплект восстановления Canon IR-1435  CET5280N (фотобарабан, ракель, ВПЗ,чип ф/б)   \n",
       "\n",
       "                                                                                                                                                                                             url  \\\n",
       "0                                                             https://tiraet.com/catalog/Komplektujuschie/komplektujuschie/Korpusa/stoyka_kommutatsion_netrack_np5104_19_4u_482_177_530mm_black/   \n",
       "1                                                             https://tiraet.com/catalog/Komplektujuschie/aksessuarycomp/kabelja-udliniteli-i-perehodniki/Perehodnik-dlja-myshi-COM-v-PS2-A-235/   \n",
       "2                                               https://tiraet.com/catalog/Komplektujuschie/aksessuarycomp/kabelja-udliniteli-i-perehodniki/kabel-mini-usb20-a---mini-usb-4pm18m-cc-usb2-am4p-6/   \n",
       "3                                               https://tiraet.com/catalog/Komplektujuschie/aksessuarycomp/sumki-dlja-diskov/box_dlya_cd_dvd_verbatim_slim_na_1_disk_120mm_pvc_49979_black_1sht/   \n",
       "4                                                          https://tiraet.com/catalog/Komplektujuschie/aksessuarycomp/diski/disk_cdr_700mb_verbatim_52x_1sht_extra_protection_43411_43351_43437/   \n",
       "...                                                                                                                                                                                          ...   \n",
       "11637                                             https://tiraet.com/catalog/rashodnye-materialy/zapchasti-dlja-printerov-i-kopirov/zapchasti_print/golovka-dlja-plotterov-canon-pf-03-2251b001/   \n",
       "11638                 https://tiraet.com/catalog/rashodnye-materialy/zapchasti-dlja-printerov-i-kopirov/zapchasti_print/uzel_termozakrepleniya_dlya_setevykh_app_canon_ir2202_2204_fm1_f162_0xx/   \n",
       "11639                                             https://tiraet.com/catalog/rashodnye-materialy/zapchasti-dlja-printerov-i-kopirov/zapchasti_print/golovka_dlya_plotterov_canon_pf_04_3630b001/   \n",
       "11640                                   https://tiraet.com/catalog/rashodnye-materialy/Rashodnye-k-matrichnym-printeram-kartridzhi-lenty/kartridji_matr/kartridzh-epson-lx-300400800850880mx-80/   \n",
       "11641  https://tiraet.com/catalog/rashodnye-materialy/Rashodnye-k-lazernym-printeram-kartridzhi-toner/chip_laser/komplekt_vosstanovleniya_canon_ir_1435_cet5280n_fotobaraban_rakel_vpz_chip_f_b/   \n",
       "\n",
       "            date   availability     id   price  old_price  \n",
       "0     2024-07-03     Достаточно  87094     NaN        NaN  \n",
       "1     2024-07-03          Много    284     5.0        NaN  \n",
       "2     2024-07-03          Много   8683     5.0        NaN  \n",
       "3     2024-07-03          Много  85078     6.6        NaN  \n",
       "4     2024-07-03          Много  12819     6.6        NaN  \n",
       "...          ...            ...    ...     ...        ...  \n",
       "11637 2024-07-03           Мало  27477  7920.0        NaN  \n",
       "11638 2024-07-03           Мало  55309  8085.0        NaN  \n",
       "11639 2024-07-03           Мало  56144  8250.0        NaN  \n",
       "11640 2024-07-03  Нет в наличии    249    38.0        NaN  \n",
       "11641 2024-07-03  Нет в наличии  68689   594.0        NaN  \n",
       "\n",
       "[11642 rows x 7 columns]"
      ]
     },
     "execution_count": 6,
     "metadata": {},
     "output_type": "execute_result"
    }
   ],
   "source": [
    "dft = parsing_2(oll_url)\n",
    "dft"
   ]
  },
  {
   "cell_type": "markdown",
   "id": "d63a9afb",
   "metadata": {},
   "source": [
    "dft.to_csv('csv/tiraet_'+dt.datetime.now().strftime('%Y_%m_%d')+'.csv', index=False)  "
   ]
  },
  {
   "cell_type": "markdown",
   "id": "57d07400",
   "metadata": {},
   "source": [
    "dft = pd.read_csv('csv/tiraet_'+dt.datetime.now().strftime('%Y_%m_%d')+'.csv')"
   ]
  },
  {
   "cell_type": "code",
   "execution_count": 7,
   "id": "d3fd7242",
   "metadata": {},
   "outputs": [],
   "source": [
    "tiraet_group = pd.read_csv('csv/atiraet_group.csv')"
   ]
  },
  {
   "cell_type": "code",
   "execution_count": 8,
   "id": "80c974a2",
   "metadata": {},
   "outputs": [],
   "source": [
    "tiraet_group = tiraet_group.drop_duplicates(keep= False )"
   ]
  },
  {
   "cell_type": "code",
   "execution_count": 9,
   "id": "c3dd1bda",
   "metadata": {},
   "outputs": [],
   "source": [
    "dft = dft.merge(tiraet_group, how='left', on='id')"
   ]
  },
  {
   "cell_type": "code",
   "execution_count": 10,
   "id": "4e41f74c",
   "metadata": {},
   "outputs": [],
   "source": [
    "t_df_new = dft[(dft['_category'].isna()) | (dft['_subcategory'].isna()) | (dft['_group'].isna())]"
   ]
  },
  {
   "cell_type": "code",
   "execution_count": 11,
   "id": "c749214d",
   "metadata": {},
   "outputs": [],
   "source": [
    "dft = dft[~((dft['_category'].isna()) | (dft['_subcategory'].isna()) | (dft['_group'].isna()))]"
   ]
  },
  {
   "cell_type": "code",
   "execution_count": 12,
   "id": "6576fb53",
   "metadata": {},
   "outputs": [],
   "source": [
    "def find_groups(x):\n",
    "    reqx = requests.get(x)\n",
    "    soup = bs(reqx.text, 'html.parser')    \n",
    "    elem_1 = soup.findAll('a', class_='breadcrumbs__link colored_theme_hover_bg-el-svg')\n",
    "    elem_2 = soup.findAll('div', class_='breadcrumbs__item')\n",
    "    try:\n",
    "        if len(elem_1) <=2:\n",
    "            if len(elem_2) <= 4:\n",
    "                d_14 = 'T_'+(elem_1[0].text.replace(',','').replace(' ','_').replace('-','_').lower())\n",
    "                d_15 = 'T_'+(elem_1[1].text.replace(',','').replace(' ','_').replace('-','_').lower())\n",
    "                d_16 = 'T_'+(elem_1[1].text.replace(',','').replace(' ','_').replace('-','_').lower())\n",
    "            else:\n",
    "                d_14 = 'T_'+(elem_1[0].text.replace(',','').replace(' ','_').replace('-','_').lower())\n",
    "                d_15 = 'T_'+(elem_1[1].text.replace(',','').replace(' ','_').replace('-','_').lower())\n",
    "                d_16 = 'T_'+(elem_2[4].text.replace(',','').replace(' ','_').replace('-','_').lower())\n",
    "        else:\n",
    "            d_14 = 'T_'+(elem_1[0].text.replace(',','').replace(' ','_').replace('-','_').lower())\n",
    "            d_15 = 'T_'+(elem_1[1].text.replace(',','').replace(' ','_').replace('-','_').lower())\n",
    "            d_16 = 'T_'+(elem_1[2].text.replace(',','').replace(' ','_').replace('-','_').lower())\n",
    "    except:\n",
    "        d_14 = 'err_'\n",
    "        d_15 = 'err_'\n",
    "        d_16 = 'err_'\n",
    "        \n",
    "    return pd.Series([ (d_14), (d_15), (d_16)])"
   ]
  },
  {
   "cell_type": "code",
   "execution_count": 13,
   "id": "1f8cd323",
   "metadata": {},
   "outputs": [
    {
     "data": {
      "application/vnd.jupyter.widget-view+json": {
       "model_id": "aef044eb59b94b6382ab354d3eb498e6",
       "version_major": 2,
       "version_minor": 0
      },
      "text/plain": [
       "  0%|          | 0/13 [00:00<?, ?it/s]"
      ]
     },
     "metadata": {},
     "output_type": "display_data"
    }
   ],
   "source": [
    "tqdm.pandas() \n",
    "t_df_new[['_category','_subcategory','_group']] = t_df_new['url'].progress_apply(find_groups)"
   ]
  },
  {
   "cell_type": "code",
   "execution_count": 14,
   "id": "764bf76c",
   "metadata": {},
   "outputs": [
    {
     "data": {
      "text/plain": [
       "array(['T_компьютерная_техника', 'T_для_дома', 'err_',\n",
       "       'T_спорт_и_увлечения'], dtype=object)"
      ]
     },
     "execution_count": 14,
     "metadata": {},
     "output_type": "execute_result"
    }
   ],
   "source": [
    "t_df_new._category.unique()"
   ]
  },
  {
   "cell_type": "code",
   "execution_count": 15,
   "id": "d64a4f3a",
   "metadata": {},
   "outputs": [
    {
     "data": {
      "text/plain": [
       "array(['T_комплектующие', 'T_аксессуары', 'T_мебель', 'err_',\n",
       "       'T_персональный_транспорт'], dtype=object)"
      ]
     },
     "execution_count": 15,
     "metadata": {},
     "output_type": "execute_result"
    }
   ],
   "source": [
    "t_df_new._subcategory.unique()"
   ]
  },
  {
   "cell_type": "code",
   "execution_count": 16,
   "id": "c92b1793",
   "metadata": {},
   "outputs": [
    {
     "data": {
      "text/plain": [
       "array(['T_приводы_оптические', 'T_диски_дискеты', 'T_кресла', 'err_',\n",
       "       'T_электросамокат'], dtype=object)"
      ]
     },
     "execution_count": 16,
     "metadata": {},
     "output_type": "execute_result"
    }
   ],
   "source": [
    "t_df_new._group.unique()"
   ]
  },
  {
   "cell_type": "code",
   "execution_count": 17,
   "id": "fa7c8b3a",
   "metadata": {},
   "outputs": [],
   "source": [
    "t_data = t_df_new[~(t_df_new['_category']=='err_')].reset_index(drop=True)\n",
    "t_data = t_data[['id', '_category','_subcategory','_group' ]]\n",
    "t_data = t_data.sort_values(['_category','_subcategory', '_group'])"
   ]
  },
  {
   "cell_type": "code",
   "execution_count": 18,
   "id": "d048a971",
   "metadata": {},
   "outputs": [],
   "source": [
    "tiraet_group = pd.concat([tiraet_group, t_data], ignore_index=True).sort_values(['_category','_subcategory', '_group']).reset_index(drop=True)\n",
    "tiraet_group.to_csv('csv/atiraet_group.csv', index=False)  "
   ]
  },
  {
   "cell_type": "code",
   "execution_count": 19,
   "id": "a62a4033",
   "metadata": {},
   "outputs": [],
   "source": [
    "dft = pd.concat([dft, t_df_new], ignore_index=True).sort_values(['_category','_subcategory', '_group']).reset_index(drop=True)"
   ]
  },
  {
   "cell_type": "markdown",
   "id": "a566f1fd",
   "metadata": {},
   "source": [
    "dft.to_csv('csv/tiraet_final_'+dt.datetime.now().strftime('%Y_%m_%d')+'.csv', index=False)  "
   ]
  },
  {
   "cell_type": "code",
   "execution_count": 20,
   "id": "95a39ad0",
   "metadata": {},
   "outputs": [
    {
     "data": {
      "text/plain": [
       "1"
      ]
     },
     "execution_count": 20,
     "metadata": {},
     "output_type": "execute_result"
    }
   ],
   "source": [
    "dft[dft['_category']=='err_'].id.count()"
   ]
  },
  {
   "cell_type": "code",
   "execution_count": 21,
   "id": "b7d29db4",
   "metadata": {},
   "outputs": [
    {
     "data": {
      "text/html": [
       "<div>\n",
       "<style scoped>\n",
       "    .dataframe tbody tr th:only-of-type {\n",
       "        vertical-align: middle;\n",
       "    }\n",
       "\n",
       "    .dataframe tbody tr th {\n",
       "        vertical-align: top;\n",
       "    }\n",
       "\n",
       "    .dataframe thead th {\n",
       "        text-align: right;\n",
       "    }\n",
       "</style>\n",
       "<table border=\"1\" class=\"dataframe\">\n",
       "  <thead>\n",
       "    <tr style=\"text-align: right;\">\n",
       "      <th></th>\n",
       "      <th>title</th>\n",
       "      <th>url</th>\n",
       "      <th>date</th>\n",
       "      <th>availability</th>\n",
       "      <th>id</th>\n",
       "      <th>price</th>\n",
       "      <th>old_price</th>\n",
       "      <th>_category</th>\n",
       "      <th>_subcategory</th>\n",
       "      <th>_group</th>\n",
       "    </tr>\n",
       "  </thead>\n",
       "  <tbody>\n",
       "    <tr>\n",
       "      <th>11641</th>\n",
       "      <td>Музыкальный центр PANASONIC SC-AKX320GSK (2.0, 450Вт, CD, FM, USB, SD, BT, Д/У) BLACK</td>\n",
       "      <td>https://tiraet.com/catalog/bytovaya/melkaja-bytovaja-tehnika/muzykalnye-centry/muzykalnyy_tsentr_panasonic_sc_akx320gsk_2_0_450vt_cd_fm_usb_sd_bt_d_u_black/</td>\n",
       "      <td>2024-07-03</td>\n",
       "      <td>Мало</td>\n",
       "      <td>87154</td>\n",
       "      <td>3799.0</td>\n",
       "      <td>NaN</td>\n",
       "      <td>err_</td>\n",
       "      <td>err_</td>\n",
       "      <td>err_</td>\n",
       "    </tr>\n",
       "  </tbody>\n",
       "</table>\n",
       "</div>"
      ],
      "text/plain": [
       "                                                                                       title  \\\n",
       "11641  Музыкальный центр PANASONIC SC-AKX320GSK (2.0, 450Вт, CD, FM, USB, SD, BT, Д/У) BLACK   \n",
       "\n",
       "                                                                                                                                                                url  \\\n",
       "11641  https://tiraet.com/catalog/bytovaya/melkaja-bytovaja-tehnika/muzykalnye-centry/muzykalnyy_tsentr_panasonic_sc_akx320gsk_2_0_450vt_cd_fm_usb_sd_bt_d_u_black/   \n",
       "\n",
       "            date availability     id   price  old_price _category  \\\n",
       "11641 2024-07-03         Мало  87154  3799.0        NaN      err_   \n",
       "\n",
       "      _subcategory _group  \n",
       "11641         err_   err_  "
      ]
     },
     "execution_count": 21,
     "metadata": {},
     "output_type": "execute_result"
    }
   ],
   "source": [
    "dft[dft['_category']=='err_']"
   ]
  },
  {
   "cell_type": "code",
   "execution_count": 22,
   "id": "f68bfd34",
   "metadata": {},
   "outputs": [],
   "source": [
    "dft['error_group'] = 0\n",
    "dft.loc[dft['_category']=='err', 'error_group'] = 1"
   ]
  },
  {
   "cell_type": "code",
   "execution_count": 23,
   "id": "56469f75",
   "metadata": {},
   "outputs": [
    {
     "data": {
      "text/html": [
       "<div>\n",
       "<style scoped>\n",
       "    .dataframe tbody tr th:only-of-type {\n",
       "        vertical-align: middle;\n",
       "    }\n",
       "\n",
       "    .dataframe tbody tr th {\n",
       "        vertical-align: top;\n",
       "    }\n",
       "\n",
       "    .dataframe thead th {\n",
       "        text-align: right;\n",
       "    }\n",
       "</style>\n",
       "<table border=\"1\" class=\"dataframe\">\n",
       "  <thead>\n",
       "    <tr style=\"text-align: right;\">\n",
       "      <th></th>\n",
       "      <th>title</th>\n",
       "      <th>url</th>\n",
       "      <th>date</th>\n",
       "      <th>availability</th>\n",
       "      <th>id</th>\n",
       "      <th>price</th>\n",
       "      <th>old_price</th>\n",
       "      <th>_category</th>\n",
       "      <th>_subcategory</th>\n",
       "      <th>_group</th>\n",
       "      <th>error_group</th>\n",
       "    </tr>\n",
       "  </thead>\n",
       "  <tbody>\n",
       "    <tr>\n",
       "      <th>0</th>\n",
       "      <td>Автомагнитола Sencor SCT 3018MR (FM/AM, CD, MP3/WMA, USB, AUX, 4*40W, ISO/RCA, 1DIN)</td>\n",
       "      <td>https://tiraet.com/catalog/avtojelektronika/avtomagnitoly/avtomagnitola_sencor_sct_3018mr_fm_am_cd_mp3_wma_usb_aux_4_40w_iso_rca_1din/</td>\n",
       "      <td>2024-07-03</td>\n",
       "      <td>Мало</td>\n",
       "      <td>78604</td>\n",
       "      <td>660.0</td>\n",
       "      <td>NaN</td>\n",
       "      <td>T_автотовары</td>\n",
       "      <td>T_автомагнитола</td>\n",
       "      <td>T_автомагнитола</td>\n",
       "      <td>0</td>\n",
       "    </tr>\n",
       "    <tr>\n",
       "      <th>1</th>\n",
       "      <td>Автомагнитола Kenwood KDC-130UG (FM/AM, MP3/WAV/WMA/FLAC, CD, USB, AUX, 4*50W, ISO/RCA, 1DIN) black</td>\n",
       "      <td>https://tiraet.com/catalog/avtojelektronika/avtomagnitoly/avtomagnitola_kenwood_kdc_130ug_fm_am_mp3_wav_wma_flac_cd_usb_aux_4_50w_iso_rca_1din_black/</td>\n",
       "      <td>2024-07-03</td>\n",
       "      <td>Мало</td>\n",
       "      <td>78235</td>\n",
       "      <td>1419.0</td>\n",
       "      <td>NaN</td>\n",
       "      <td>T_автотовары</td>\n",
       "      <td>T_автомагнитола</td>\n",
       "      <td>T_автомагнитола</td>\n",
       "      <td>0</td>\n",
       "    </tr>\n",
       "  </tbody>\n",
       "</table>\n",
       "</div>"
      ],
      "text/plain": [
       "                                                                                                 title  \\\n",
       "0                 Автомагнитола Sencor SCT 3018MR (FM/AM, CD, MP3/WMA, USB, AUX, 4*40W, ISO/RCA, 1DIN)   \n",
       "1  Автомагнитола Kenwood KDC-130UG (FM/AM, MP3/WAV/WMA/FLAC, CD, USB, AUX, 4*50W, ISO/RCA, 1DIN) black   \n",
       "\n",
       "                                                                                                                                                     url  \\\n",
       "0                 https://tiraet.com/catalog/avtojelektronika/avtomagnitoly/avtomagnitola_sencor_sct_3018mr_fm_am_cd_mp3_wma_usb_aux_4_40w_iso_rca_1din/   \n",
       "1  https://tiraet.com/catalog/avtojelektronika/avtomagnitoly/avtomagnitola_kenwood_kdc_130ug_fm_am_mp3_wav_wma_flac_cd_usb_aux_4_50w_iso_rca_1din_black/   \n",
       "\n",
       "        date availability     id   price  old_price     _category  \\\n",
       "0 2024-07-03         Мало  78604   660.0        NaN  T_автотовары   \n",
       "1 2024-07-03         Мало  78235  1419.0        NaN  T_автотовары   \n",
       "\n",
       "      _subcategory           _group  error_group  \n",
       "0  T_автомагнитола  T_автомагнитола            0  \n",
       "1  T_автомагнитола  T_автомагнитола            0  "
      ]
     },
     "execution_count": 23,
     "metadata": {},
     "output_type": "execute_result"
    }
   ],
   "source": [
    "dft.head(2)"
   ]
  },
  {
   "cell_type": "code",
   "execution_count": 24,
   "id": "5ac063ea",
   "metadata": {},
   "outputs": [
    {
     "data": {
      "text/plain": [
       "12"
      ]
     },
     "execution_count": 24,
     "metadata": {},
     "output_type": "execute_result"
    }
   ],
   "source": [
    "len(t_data)"
   ]
  },
  {
   "cell_type": "code",
   "execution_count": 25,
   "id": "f44fa25c",
   "metadata": {
    "scrolled": true
   },
   "outputs": [
    {
     "name": "stdout",
     "output_type": "stream",
     "text": [
      "T_автотовары\n",
      "['T_автомагнитола' 'T_автопылесос' 'T_авторегистратор' 'T_автохолодильник'\n",
      " 'T_динамики' 'T_компрессоры' 'T_крепления_смартфонов/планшетов'\n",
      " 'T_модуляторы_fm' 'T_навигаторы_gps']\n",
      "----------------------------------------------------------------------------------------------------\n",
      "T_безопасность\n",
      "['T_видеонаблюдение' 'T_домофоны' 'T_монтаж_и_питание'\n",
      " 'T_оборудование_poe' 'T_сигнализация_охранно_пожарная' 'T_скуд'\n",
      " 'T_умный_дом']\n",
      "----------------------------------------------------------------------------------------------------\n",
      "T_бытовая_техника\n",
      "['T_гигиена_здоровье_уход' 'T_климатическая_техника'\n",
      " 'T_крупная_бытовая_техника' 'T_мелкая_бытовая_техника' 'T_телевизоры'\n",
      " 'T_техника_для_кухни' 'T_часы_наручные']\n",
      "----------------------------------------------------------------------------------------------------\n",
      "T_для_дома\n",
      "['T_бытовая_химия' 'T_запасные_части' 'T_инструменты' 'T_крепления'\n",
      " 'T_кухонная_утварь' 'T_мебель' 'T_текстиль' 'T_хозяйственный_инвентарь']\n",
      "----------------------------------------------------------------------------------------------------\n",
      "T_компьютерная_техника\n",
      "['T_аксессуары' 'T_комплектующие' 'T_компьютеры_ноутбуки_планшеты'\n",
      " 'T_манипуляторы' 'T_мониторы' 'T_мультимедиа' 'T_накопители']\n",
      "----------------------------------------------------------------------------------------------------\n",
      "T_мобильные_телефоны\n",
      "['T_смарт_брелки' 'T_смартфоны' 'T_стабилизаторы_селфи_палки'\n",
      " 'T_стекла_пленки' 'T_телефоны' 'T_чехлы']\n",
      "----------------------------------------------------------------------------------------------------\n",
      "T_оргтехника\n",
      "['T_банковское_оборудование' 'T_доски_интерактивные' 'T_ламинаторы'\n",
      " 'T_печатное_оборудование' 'T_проекционное_оборудование' 'T_сканеры'\n",
      " 'T_телефония' 'T_уничтожители']\n",
      "----------------------------------------------------------------------------------------------------\n",
      "T_расходные_материалы\n",
      "['T_бумага_лента_пленка' 'T_запчасти_принтеров_копиров_факсов'\n",
      " 'T_расходные_3d_принтера' 'T_расходные_картриджей_копиров'\n",
      " 'T_расходные_картриджей_лазерных_принтеров_факсов'\n",
      " 'T_расходные_матричных_принтеров' 'T_расходные_струйных_принтеров'\n",
      " 'T_смазки_и_средства_обслуживания']\n",
      "----------------------------------------------------------------------------------------------------\n",
      "T_светотехника\n",
      "['T_бытовое_освещение' 'T_кабельная_продукция' 'T_лампы'\n",
      " 'T_оборудование_электромонтажное' 'T_праздничная_светотехника'\n",
      " 'T_промышленное_офисное_освещение' 'T_разное' 'T_уличное_освещение'\n",
      " 'T_фитосветильники']\n",
      "----------------------------------------------------------------------------------------------------\n",
      "T_сетевое_и_серверное_оборудование\n",
      "['T_адаптеры_powerline_усилители_wifi' 'T_адаптеры_беспроводные'\n",
      " 'T_аксессуары_к_шкафам' 'T_антенны' 'T_грозозащита' 'T_кабель_патчкорд'\n",
      " 'T_карта_сетевая' 'T_коммутаторы' 'T_маршрутизаторы_модемы'\n",
      " 'T_медиаконвертеры' 'T_модули_оптические' 'T_патч_панели'\n",
      " 'T_розетка_коннектор' 'T_серверы' 'T_точки_доступа_мост'\n",
      " 'T_хранилище_сетевое' 'T_шкафы_стойки']\n",
      "----------------------------------------------------------------------------------------------------\n",
      "T_спорт_и_увлечения\n",
      "['T_игровые_приставки' 'T_игрушки' 'T_персональный_транспорт' 'T_туризм']\n",
      "----------------------------------------------------------------------------------------------------\n",
      "T_фото_аудио\n",
      "['T_аудиотехника' 'T_фототехника']\n",
      "----------------------------------------------------------------------------------------------------\n",
      "T_электропитание\n",
      "['T_блоки_бесперебойного_питания' 'T_блоки_питания'\n",
      " 'T_зарядные_устройства' 'T_инверторы_напряжения'\n",
      " 'T_стабилизаторы_напряжения' 'T_удлинители' 'T_элементы_питания']\n",
      "----------------------------------------------------------------------------------------------------\n",
      "err_\n",
      "['err_']\n",
      "----------------------------------------------------------------------------------------------------\n"
     ]
    }
   ],
   "source": [
    "for i in dft['_category'].unique():\n",
    "    t = dft[dft['_category']==i]\n",
    "    print(i)\n",
    "    print(t['_subcategory'].unique())\n",
    "    print('-'*100)"
   ]
  },
  {
   "cell_type": "markdown",
   "id": "e8445e1b",
   "metadata": {},
   "source": [
    "# Аналитика акционных товаров"
   ]
  },
  {
   "cell_type": "code",
   "execution_count": 26,
   "id": "d291de15",
   "metadata": {},
   "outputs": [],
   "source": [
    "brend = pd.read_excel('csv/brend.xlsx')"
   ]
  },
  {
   "cell_type": "code",
   "execution_count": 27,
   "id": "3fd62f9c",
   "metadata": {},
   "outputs": [],
   "source": [
    "def lower(x):\n",
    "    return x.lower()\n",
    "brend['names'] = brend['name'].apply(lower)\n",
    "brend_up = brend.name.unique()\n",
    "brend_low = brend.names.unique()"
   ]
  },
  {
   "cell_type": "markdown",
   "id": "6d34081d",
   "metadata": {},
   "source": [
    "Создаем список брендов"
   ]
  },
  {
   "cell_type": "code",
   "execution_count": 28,
   "id": "a6cc999b",
   "metadata": {},
   "outputs": [
    {
     "data": {
      "application/vnd.jupyter.widget-view+json": {
       "model_id": "33b615512f724849b3c69e813aa4bba9",
       "version_major": 2,
       "version_minor": 0
      },
      "text/plain": [
       "  0%|          | 0/11642 [00:00<?, ?it/s]"
      ]
     },
     "metadata": {},
     "output_type": "display_data"
    }
   ],
   "source": [
    "def brends(x):\n",
    "    xx = x.replace('\\xa0', ' ')\n",
    "    xx = xx.split(' ')    \n",
    "    for i in range(len(xx)-1):\n",
    "        if xx[i].lower() in brend_low:\n",
    "            return xx[i].lower()\n",
    "        elif (str(xx[i].lower())+' '+str(xx[i+1].lower())) in brend_low:\n",
    "            return (str(xx[i].lower())+' '+str(xx[i+1].lower()))    \n",
    "    else:    \n",
    "        return 'другой'\n",
    "tqdm.pandas()\n",
    "dft['brend'] = dft['title'].progress_apply(brends)"
   ]
  },
  {
   "cell_type": "markdown",
   "id": "8adb4a8b",
   "metadata": {},
   "source": [
    "создаем столбец с брендами"
   ]
  },
  {
   "cell_type": "code",
   "execution_count": 29,
   "id": "3b17f090",
   "metadata": {},
   "outputs": [],
   "source": [
    "dft['action_sale'] = 0\n",
    "dft.loc[dft['old_price'] > 0,'action_sale'] = 1"
   ]
  },
  {
   "cell_type": "markdown",
   "id": "5fcbcc3a",
   "metadata": {},
   "source": [
    "Создаем столбец с флагом акции"
   ]
  },
  {
   "cell_type": "code",
   "execution_count": 30,
   "id": "87e44d83",
   "metadata": {},
   "outputs": [],
   "source": [
    "dft['sale'] = (100 - ((dft['price']*100)/dft['old_price'])).round(2) "
   ]
  },
  {
   "cell_type": "markdown",
   "id": "91917f95",
   "metadata": {},
   "source": [
    "создаем столбец показывающий скидку в процентах"
   ]
  },
  {
   "cell_type": "code",
   "execution_count": 31,
   "id": "55f9287e",
   "metadata": {},
   "outputs": [
    {
     "data": {
      "application/vnd.jupyter.widget-view+json": {
       "model_id": "b41b7dc3032a4b1aa0fb22fc7fd2d0d9",
       "version_major": 2,
       "version_minor": 0
      },
      "text/plain": [
       "  0%|          | 0/11642 [00:00<?, ?it/s]"
      ]
     },
     "metadata": {},
     "output_type": "display_data"
    }
   ],
   "source": [
    "def count_group(x):\n",
    "    return dft[dft['_group']==x]['id'].count()    \n",
    "tqdm.pandas()\n",
    "dft['count_group'] = dft['_group'].progress_apply(count_group)"
   ]
  },
  {
   "cell_type": "markdown",
   "id": "d7ef1d16",
   "metadata": {},
   "source": [
    "создание столбца с количеством товара в группе"
   ]
  },
  {
   "cell_type": "code",
   "execution_count": 32,
   "id": "6432c479",
   "metadata": {},
   "outputs": [
    {
     "data": {
      "application/vnd.jupyter.widget-view+json": {
       "model_id": "c34bce5586494e24aee4109a010dad79",
       "version_major": 2,
       "version_minor": 0
      },
      "text/plain": [
       "  0%|          | 0/11642 [00:00<?, ?it/s]"
      ]
     },
     "metadata": {},
     "output_type": "display_data"
    }
   ],
   "source": [
    "def count_group_presence(x):\n",
    "    return dft[(dft['availability'].isin(['Мало','Достаточно','Много']))&(dft['_group']==x)]['id'].count()   \n",
    "tqdm.pandas()\n",
    "dft['activ_count_group'] = dft['_group'].progress_apply(count_group_presence)"
   ]
  },
  {
   "cell_type": "markdown",
   "id": "2a6594ce",
   "metadata": {},
   "source": [
    "создание столбца с количеством товара, который есть в наличии, в группе"
   ]
  },
  {
   "cell_type": "code",
   "execution_count": 33,
   "id": "7b33f40d",
   "metadata": {},
   "outputs": [
    {
     "data": {
      "application/vnd.jupyter.widget-view+json": {
       "model_id": "b4bee855495f427fa7eccec49b2f56ae",
       "version_major": 2,
       "version_minor": 0
      },
      "text/plain": [
       "  0%|          | 0/11642 [00:00<?, ?it/s]"
      ]
     },
     "metadata": {},
     "output_type": "display_data"
    }
   ],
   "source": [
    "def dif_price(x):    \n",
    "    max_price = dft[(dft['availability'].isin(['Мало','Достаточно','Много']))&(dft['_group']==x)]['price'].max()\n",
    "    min_price = dft[(dft['availability'].isin(['Мало','Достаточно','Много']))&(dft['_group']==x)]['price'].min() \n",
    "    return max_price / min_price\n",
    "tqdm.pandas()\n",
    "dft['dif_price'] = dft['_group'].progress_apply(dif_price)"
   ]
  },
  {
   "cell_type": "markdown",
   "id": "c88e2d0f",
   "metadata": {},
   "source": [
    "создам столбец с отношением самой дорогой цены в группе к самой дешевой."
   ]
  },
  {
   "cell_type": "code",
   "execution_count": 34,
   "id": "4ab26dc0",
   "metadata": {},
   "outputs": [],
   "source": [
    "dft['group_prise'] = dft.groupby('_group')['price'].transform(lambda x: pd.cut(x, bins = 4, labels=[\"бюджет\", \"стандарт\", 'дорогой', \"элитный\"]))"
   ]
  },
  {
   "cell_type": "markdown",
   "id": "ea4ee02c",
   "metadata": {},
   "source": [
    "создание столбца с ценовой категорией товара"
   ]
  },
  {
   "cell_type": "code",
   "execution_count": 35,
   "id": "a4e3227a",
   "metadata": {},
   "outputs": [],
   "source": [
    "dft = dft[['url', 'id', '_category', '_subcategory', '_group', 'brend', \n",
    "         'title', 'date', 'price', 'old_price', 'action_sale', 'sale', 'group_prise', 'dif_price',\n",
    "         'availability', 'count_group', 'activ_count_group', 'error_group']]"
   ]
  },
  {
   "cell_type": "code",
   "execution_count": 36,
   "id": "7fc96ff3",
   "metadata": {},
   "outputs": [],
   "source": [
    "dft['tir'] = 1"
   ]
  },
  {
   "cell_type": "code",
   "execution_count": 37,
   "id": "ec1c2a4f",
   "metadata": {},
   "outputs": [],
   "source": [
    "dft = dft.drop_duplicates().reset_index(drop=True)"
   ]
  },
  {
   "cell_type": "code",
   "execution_count": 38,
   "id": "da30f7eb",
   "metadata": {},
   "outputs": [
    {
     "name": "stdout",
     "output_type": "stream",
     "text": [
      "таблица имеет следующий вид:\n"
     ]
    },
    {
     "data": {
      "text/html": [
       "<div>\n",
       "<style scoped>\n",
       "    .dataframe tbody tr th:only-of-type {\n",
       "        vertical-align: middle;\n",
       "    }\n",
       "\n",
       "    .dataframe tbody tr th {\n",
       "        vertical-align: top;\n",
       "    }\n",
       "\n",
       "    .dataframe thead th {\n",
       "        text-align: right;\n",
       "    }\n",
       "</style>\n",
       "<table border=\"1\" class=\"dataframe\">\n",
       "  <thead>\n",
       "    <tr style=\"text-align: right;\">\n",
       "      <th></th>\n",
       "      <th>url</th>\n",
       "      <th>id</th>\n",
       "      <th>_category</th>\n",
       "      <th>_subcategory</th>\n",
       "      <th>_group</th>\n",
       "      <th>brend</th>\n",
       "      <th>title</th>\n",
       "      <th>date</th>\n",
       "      <th>price</th>\n",
       "      <th>old_price</th>\n",
       "      <th>action_sale</th>\n",
       "      <th>sale</th>\n",
       "      <th>group_prise</th>\n",
       "      <th>dif_price</th>\n",
       "      <th>availability</th>\n",
       "      <th>count_group</th>\n",
       "      <th>activ_count_group</th>\n",
       "      <th>error_group</th>\n",
       "      <th>tir</th>\n",
       "    </tr>\n",
       "  </thead>\n",
       "  <tbody>\n",
       "    <tr>\n",
       "      <th>0</th>\n",
       "      <td>https://tiraet.com/catalog/avtojelektronika/avtomagnitoly/avtomagnitola_sencor_sct_3018mr_fm_am_cd_mp3_wma_usb_aux_4_40w_iso_rca_1din/</td>\n",
       "      <td>78604</td>\n",
       "      <td>T_автотовары</td>\n",
       "      <td>T_автомагнитола</td>\n",
       "      <td>T_автомагнитола</td>\n",
       "      <td>sencor</td>\n",
       "      <td>Автомагнитола Sencor SCT 3018MR (FM/AM, CD, MP3/WMA, USB, AUX, 4*40W, ISO/RCA, 1DIN)</td>\n",
       "      <td>2024-07-03</td>\n",
       "      <td>660.0</td>\n",
       "      <td>NaN</td>\n",
       "      <td>0</td>\n",
       "      <td>NaN</td>\n",
       "      <td>бюджет</td>\n",
       "      <td>3.331818</td>\n",
       "      <td>Мало</td>\n",
       "      <td>6</td>\n",
       "      <td>6</td>\n",
       "      <td>0</td>\n",
       "      <td>1</td>\n",
       "    </tr>\n",
       "    <tr>\n",
       "      <th>1</th>\n",
       "      <td>https://tiraet.com/catalog/avtojelektronika/avtomagnitoly/avtomagnitola_kenwood_kdc_130ug_fm_am_mp3_wav_wma_flac_cd_usb_aux_4_50w_iso_rca_1din_black/</td>\n",
       "      <td>78235</td>\n",
       "      <td>T_автотовары</td>\n",
       "      <td>T_автомагнитола</td>\n",
       "      <td>T_автомагнитола</td>\n",
       "      <td>kenwood</td>\n",
       "      <td>Автомагнитола Kenwood KDC-130UG (FM/AM, MP3/WAV/WMA/FLAC, CD, USB, AUX, 4*50W, ISO/RCA, 1DIN) black</td>\n",
       "      <td>2024-07-03</td>\n",
       "      <td>1419.0</td>\n",
       "      <td>NaN</td>\n",
       "      <td>0</td>\n",
       "      <td>NaN</td>\n",
       "      <td>стандарт</td>\n",
       "      <td>3.331818</td>\n",
       "      <td>Мало</td>\n",
       "      <td>6</td>\n",
       "      <td>6</td>\n",
       "      <td>0</td>\n",
       "      <td>1</td>\n",
       "    </tr>\n",
       "    <tr>\n",
       "      <th>2</th>\n",
       "      <td>https://tiraet.com/catalog/avtojelektronika/avtomagnitoly/avtomagnitola_kenwood_kmm_bt209_fm_am_bt_usb_aux_rca_4_50w_iso_1din/</td>\n",
       "      <td>80185</td>\n",
       "      <td>T_автотовары</td>\n",
       "      <td>T_автомагнитола</td>\n",
       "      <td>T_автомагнитола</td>\n",
       "      <td>kenwood</td>\n",
       "      <td>Автомагнитола Kenwood KMM-BT209 (FM/AM, BT, USB, AUX, RCA, 4*50W, ISO, 1DIN)</td>\n",
       "      <td>2024-07-03</td>\n",
       "      <td>1735.0</td>\n",
       "      <td>NaN</td>\n",
       "      <td>0</td>\n",
       "      <td>NaN</td>\n",
       "      <td>дорогой</td>\n",
       "      <td>3.331818</td>\n",
       "      <td>Достаточно</td>\n",
       "      <td>6</td>\n",
       "      <td>6</td>\n",
       "      <td>0</td>\n",
       "      <td>1</td>\n",
       "    </tr>\n",
       "    <tr>\n",
       "      <th>3</th>\n",
       "      <td>https://tiraet.com/catalog/avtojelektronika/avtomagnitoly/avtomagnitola_jvc_kdx_382bt_fm_am_bluetooth_usb_4_50w_iso_aux_1din/</td>\n",
       "      <td>80184</td>\n",
       "      <td>T_автотовары</td>\n",
       "      <td>T_автомагнитола</td>\n",
       "      <td>T_автомагнитола</td>\n",
       "      <td>jvc</td>\n",
       "      <td>Автомагнитола JVC KDX-382BT (FM/AM, Bluetooth, USB, 4*50W, ISO, AUX, 1DIN)</td>\n",
       "      <td>2024-07-03</td>\n",
       "      <td>1815.0</td>\n",
       "      <td>NaN</td>\n",
       "      <td>0</td>\n",
       "      <td>NaN</td>\n",
       "      <td>элитный</td>\n",
       "      <td>3.331818</td>\n",
       "      <td>Мало</td>\n",
       "      <td>6</td>\n",
       "      <td>6</td>\n",
       "      <td>0</td>\n",
       "      <td>1</td>\n",
       "    </tr>\n",
       "    <tr>\n",
       "      <th>4</th>\n",
       "      <td>https://tiraet.com/catalog/avtojelektronika/avtomagnitoly/avtomagnitola_jvc_kdt_702bt_fm_am_bluetooth_cd_usb_4_50w_1din/</td>\n",
       "      <td>80183</td>\n",
       "      <td>T_автотовары</td>\n",
       "      <td>T_автомагнитола</td>\n",
       "      <td>T_автомагнитола</td>\n",
       "      <td>jvc</td>\n",
       "      <td>Автомагнитола JVC KDT-702BT (FM/AM, Bluetooth, CD, USB, 4*50W, 1DIN)</td>\n",
       "      <td>2024-07-03</td>\n",
       "      <td>2099.0</td>\n",
       "      <td>NaN</td>\n",
       "      <td>0</td>\n",
       "      <td>NaN</td>\n",
       "      <td>элитный</td>\n",
       "      <td>3.331818</td>\n",
       "      <td>Достаточно</td>\n",
       "      <td>6</td>\n",
       "      <td>6</td>\n",
       "      <td>0</td>\n",
       "      <td>1</td>\n",
       "    </tr>\n",
       "  </tbody>\n",
       "</table>\n",
       "</div>"
      ],
      "text/plain": [
       "                                                                                                                                                     url  \\\n",
       "0                 https://tiraet.com/catalog/avtojelektronika/avtomagnitoly/avtomagnitola_sencor_sct_3018mr_fm_am_cd_mp3_wma_usb_aux_4_40w_iso_rca_1din/   \n",
       "1  https://tiraet.com/catalog/avtojelektronika/avtomagnitoly/avtomagnitola_kenwood_kdc_130ug_fm_am_mp3_wav_wma_flac_cd_usb_aux_4_50w_iso_rca_1din_black/   \n",
       "2                         https://tiraet.com/catalog/avtojelektronika/avtomagnitoly/avtomagnitola_kenwood_kmm_bt209_fm_am_bt_usb_aux_rca_4_50w_iso_1din/   \n",
       "3                          https://tiraet.com/catalog/avtojelektronika/avtomagnitoly/avtomagnitola_jvc_kdx_382bt_fm_am_bluetooth_usb_4_50w_iso_aux_1din/   \n",
       "4                               https://tiraet.com/catalog/avtojelektronika/avtomagnitoly/avtomagnitola_jvc_kdt_702bt_fm_am_bluetooth_cd_usb_4_50w_1din/   \n",
       "\n",
       "      id     _category     _subcategory           _group    brend  \\\n",
       "0  78604  T_автотовары  T_автомагнитола  T_автомагнитола   sencor   \n",
       "1  78235  T_автотовары  T_автомагнитола  T_автомагнитола  kenwood   \n",
       "2  80185  T_автотовары  T_автомагнитола  T_автомагнитола  kenwood   \n",
       "3  80184  T_автотовары  T_автомагнитола  T_автомагнитола      jvc   \n",
       "4  80183  T_автотовары  T_автомагнитола  T_автомагнитола      jvc   \n",
       "\n",
       "                                                                                                 title  \\\n",
       "0                 Автомагнитола Sencor SCT 3018MR (FM/AM, CD, MP3/WMA, USB, AUX, 4*40W, ISO/RCA, 1DIN)   \n",
       "1  Автомагнитола Kenwood KDC-130UG (FM/AM, MP3/WAV/WMA/FLAC, CD, USB, AUX, 4*50W, ISO/RCA, 1DIN) black   \n",
       "2                         Автомагнитола Kenwood KMM-BT209 (FM/AM, BT, USB, AUX, RCA, 4*50W, ISO, 1DIN)   \n",
       "3                           Автомагнитола JVC KDX-382BT (FM/AM, Bluetooth, USB, 4*50W, ISO, AUX, 1DIN)   \n",
       "4                                 Автомагнитола JVC KDT-702BT (FM/AM, Bluetooth, CD, USB, 4*50W, 1DIN)   \n",
       "\n",
       "        date   price  old_price  action_sale  sale group_prise  dif_price  \\\n",
       "0 2024-07-03   660.0        NaN            0   NaN      бюджет   3.331818   \n",
       "1 2024-07-03  1419.0        NaN            0   NaN    стандарт   3.331818   \n",
       "2 2024-07-03  1735.0        NaN            0   NaN     дорогой   3.331818   \n",
       "3 2024-07-03  1815.0        NaN            0   NaN     элитный   3.331818   \n",
       "4 2024-07-03  2099.0        NaN            0   NaN     элитный   3.331818   \n",
       "\n",
       "  availability  count_group  activ_count_group  error_group  tir  \n",
       "0         Мало            6                  6            0    1  \n",
       "1         Мало            6                  6            0    1  \n",
       "2   Достаточно            6                  6            0    1  \n",
       "3         Мало            6                  6            0    1  \n",
       "4   Достаточно            6                  6            0    1  "
      ]
     },
     "metadata": {},
     "output_type": "display_data"
    },
    {
     "name": "stdout",
     "output_type": "stream",
     "text": [
      "****************************************************************************************************\n",
      "таблица имеет 11642 сторок и 19 столбцов\n",
      "****************************************************************************************************\n",
      "в таблице обнаружено дублекатов:0\n",
      "****************************************************************************************************\n",
      "в таблице обнаружены пропуски в следующих столбцах:\n"
     ]
    },
    {
     "data": {
      "text/plain": [
       "url                      0\n",
       "id                       0\n",
       "_category                0\n",
       "_subcategory             0\n",
       "_group                   0\n",
       "brend                    0\n",
       "title                    0\n",
       "date                     0\n",
       "price                    2\n",
       "old_price            10119\n",
       "action_sale              0\n",
       "sale                 10119\n",
       "group_prise              2\n",
       "dif_price                2\n",
       "availability             0\n",
       "count_group              0\n",
       "activ_count_group        0\n",
       "error_group              0\n",
       "tir                      0\n",
       "dtype: int64"
      ]
     },
     "metadata": {},
     "output_type": "display_data"
    },
    {
     "name": "stdout",
     "output_type": "stream",
     "text": [
      "****************************************************************************************************\n",
      "Эти пропуски составлябт следующее количество в процентах\n"
     ]
    },
    {
     "data": {
      "text/plain": [
       "url                   0.0\n",
       "id                    0.0\n",
       "_category             0.0\n",
       "_subcategory          0.0\n",
       "_group                0.0\n",
       "brend                 0.0\n",
       "title                 0.0\n",
       "date                  0.0\n",
       "price                 0.0\n",
       "old_price            86.9\n",
       "action_sale           0.0\n",
       "sale                 86.9\n",
       "group_prise           0.0\n",
       "dif_price             0.0\n",
       "availability          0.0\n",
       "count_group           0.0\n",
       "activ_count_group     0.0\n",
       "error_group           0.0\n",
       "tir                   0.0\n",
       "dtype: float64"
      ]
     },
     "metadata": {},
     "output_type": "display_data"
    },
    {
     "name": "stdout",
     "output_type": "stream",
     "text": [
      "****************************************************************************************************\n",
      "столбцы имеют следующие типы:\n"
     ]
    },
    {
     "data": {
      "text/plain": [
       "url                          object\n",
       "id                           object\n",
       "_category                    object\n",
       "_subcategory                 object\n",
       "_group                       object\n",
       "brend                        object\n",
       "title                        object\n",
       "date                 datetime64[ns]\n",
       "price                       float64\n",
       "old_price                   float64\n",
       "action_sale                   int64\n",
       "sale                        float64\n",
       "group_prise                category\n",
       "dif_price                   float64\n",
       "availability                 object\n",
       "count_group                   int64\n",
       "activ_count_group             int64\n",
       "error_group                   int64\n",
       "tir                           int64\n",
       "dtype: object"
      ]
     },
     "metadata": {},
     "output_type": "display_data"
    },
    {
     "name": "stdout",
     "output_type": "stream",
     "text": [
      "****************************************************************************************************\n",
      "названия столбцов переписаны в нижнем регистре, пробелы заменены на нижнее подчеркивание\n",
      "****************************************************************************************************\n",
      "<class 'pandas.core.frame.DataFrame'>\n",
      "RangeIndex: 11642 entries, 0 to 11641\n",
      "Data columns (total 19 columns):\n",
      " #   Column             Non-Null Count  Dtype         \n",
      "---  ------             --------------  -----         \n",
      " 0   url                11642 non-null  object        \n",
      " 1   id                 11642 non-null  object        \n",
      " 2   _category          11642 non-null  object        \n",
      " 3   _subcategory       11642 non-null  object        \n",
      " 4   _group             11642 non-null  object        \n",
      " 5   brend              11642 non-null  object        \n",
      " 6   title              11642 non-null  object        \n",
      " 7   date               11642 non-null  datetime64[ns]\n",
      " 8   price              11640 non-null  float64       \n",
      " 9   old_price          1523 non-null   float64       \n",
      " 10  action_sale        11642 non-null  int64         \n",
      " 11  sale               1523 non-null   float64       \n",
      " 12  group_prise        11640 non-null  category      \n",
      " 13  dif_price          11640 non-null  float64       \n",
      " 14  availability       11642 non-null  object        \n",
      " 15  count_group        11642 non-null  int64         \n",
      " 16  activ_count_group  11642 non-null  int64         \n",
      " 17  error_group        11642 non-null  int64         \n",
      " 18  tir                11642 non-null  int64         \n",
      "dtypes: category(1), datetime64[ns](1), float64(4), int64(5), object(8)\n",
      "memory usage: 1.6+ MB\n"
     ]
    },
    {
     "data": {
      "text/plain": [
       "None"
      ]
     },
     "metadata": {},
     "output_type": "display_data"
    }
   ],
   "source": [
    "preprocessing(dft)"
   ]
  },
  {
   "cell_type": "markdown",
   "id": "7b80f875",
   "metadata": {},
   "source": [
    "# Парсинг Hi"
   ]
  },
  {
   "cell_type": "code",
   "execution_count": 39,
   "id": "caf0dc2d",
   "metadata": {},
   "outputs": [],
   "source": [
    "def h_find_id(x):\n",
    "    xxx = x.find('span', class_=\"ty-control-group__item\").text  \n",
    "    return xxx"
   ]
  },
  {
   "cell_type": "markdown",
   "id": "df262d57",
   "metadata": {},
   "source": [
    "функция создания столбца с кодом товара"
   ]
  },
  {
   "cell_type": "code",
   "execution_count": 40,
   "id": "b416d8fa",
   "metadata": {},
   "outputs": [],
   "source": [
    "def h_find_availability(t):\n",
    "    xxx = (t.find('a', class_=\"ty-control-group product-list-field cm-external-click\")\n",
    "           .text.replace('\\ue924','').replace('\\ue86c','').replace('\\n',''))\n",
    "    return xxx  "
   ]
  },
  {
   "cell_type": "markdown",
   "id": "6ee99509",
   "metadata": {},
   "source": [
    "функция создания столбца с парсингом наличия товара"
   ]
  },
  {
   "cell_type": "code",
   "execution_count": 41,
   "id": "e6d33de3",
   "metadata": {},
   "outputs": [],
   "source": [
    "def h_find_title(t):\n",
    "    xxx = t.find('a', class_=\"product-title\").text\n",
    "    return xxx"
   ]
  },
  {
   "cell_type": "markdown",
   "id": "e55649ab",
   "metadata": {},
   "source": [
    "функция создающая столбец с названием товара"
   ]
  },
  {
   "cell_type": "code",
   "execution_count": 42,
   "id": "56b59bb4",
   "metadata": {},
   "outputs": [],
   "source": [
    "def h_find_price(t):\n",
    "    xxx = t.find('span', class_=\"ty-price-num\").text.replace(u'\\xa0',u'')\n",
    "    return xxx"
   ]
  },
  {
   "cell_type": "markdown",
   "id": "f1152316",
   "metadata": {},
   "source": [
    "функция создающая столбец с продажной ценой товара"
   ]
  },
  {
   "cell_type": "code",
   "execution_count": 43,
   "id": "e2e3e51e",
   "metadata": {},
   "outputs": [],
   "source": [
    "def h_find_old_price(t):\n",
    "    try:\n",
    "        xxx = t.find('span', class_=\"ty-strike\").text.replace(u'\\xa0',u'').replace(u'руб',u'')\n",
    "        return xxx\n",
    "    except:\n",
    "        return np.NaN"
   ]
  },
  {
   "cell_type": "markdown",
   "id": "1382201a",
   "metadata": {},
   "source": [
    "функция созжающая столбец с предидущей ценой для акционного товара"
   ]
  },
  {
   "cell_type": "code",
   "execution_count": 44,
   "id": "aa448515",
   "metadata": {},
   "outputs": [],
   "source": [
    "def h_find_url(t):\n",
    "    xxx = t.find('a', class_=\"abt-single-image\")['href']\n",
    "    return xxx"
   ]
  },
  {
   "cell_type": "markdown",
   "id": "6eca4a17",
   "metadata": {},
   "source": [
    "Функция создающая столбец с урл адресом товара"
   ]
  },
  {
   "cell_type": "code",
   "execution_count": 45,
   "id": "f5e1f4c1",
   "metadata": {},
   "outputs": [],
   "source": [
    "def h_parsing_2(url):\n",
    "    data = pd.DataFrame(columns=['url', 'id', 'date', 'availability', 'title', 'price', 'old_price'])\n",
    "    for i in tqdm(url):        \n",
    "        q = 1\n",
    "        attempt = 1\n",
    "        while q>0 or attempt<4:             \n",
    "            reqx = requests.get(i + str(q))\n",
    "            soup = bs(reqx.text, 'html.parser')\n",
    "            datax = pd.DataFrame({'url':pd.Series(soup.findAll('div', class_='ypi-grid-list__item_body'),dtype = 'object')})\n",
    "            data = pd.concat([data, datax], ignore_index=True)\n",
    "            if len(list(soup.findAll('div', class_='ypi-grid-list__item_body'))) > 0:\n",
    "                q = q + 1\n",
    "                attempt = 1                \n",
    "            else:\n",
    "                if attempt == 3:                    \n",
    "                    q = 0\n",
    "                    attempt += 1\n",
    "                else:\n",
    "                    attempt += 1                    \n",
    "    data['id'] = data['url'].apply(h_find_id)\n",
    "    data['date'] = pd.to_datetime('today').normalize()\n",
    "    data['availability'] = data['url'].apply(h_find_availability)\n",
    "    data['title'] = data['url'].apply(h_find_title)\n",
    "    data['price'] = data['url'].apply(h_find_price)\n",
    "    data['old_price'] = data['url'].apply(h_find_old_price)\n",
    "    data['url'] = data['url'].apply(h_find_url)\n",
    "    data['price'] = data['price'].astype(float)\n",
    "    data.loc[data['old_price'] == '','old_price'] = np.nan\n",
    "    data['old_price'] = data['old_price'].astype(float)\n",
    "    return data"
   ]
  },
  {
   "cell_type": "markdown",
   "id": "ce9e3f74",
   "metadata": {},
   "source": [
    "Функция предварительного парсинга сайта, которая проходит по всем страницам в урл адресах переменной `all_url` и создает датафрейм в котором храняться: урл адреса товаров, индентефикатор товаров, дата предварительного парсинга товара, наличия товара, названия товара, цены товара, старой цены для акционного товара."
   ]
  },
  {
   "cell_type": "markdown",
   "id": "ccf8f7a9",
   "metadata": {},
   "source": [
    "# Парсинг цен кодов товара и url"
   ]
  },
  {
   "cell_type": "code",
   "execution_count": 46,
   "id": "9c941385",
   "metadata": {},
   "outputs": [],
   "source": [
    "all_url = ['https://hi-tech.md/televizory-i-elektronika/page-',\n",
    "           'https://hi-tech.md/bytovaya-tehnika/page-',\n",
    "           'https://hi-tech.md/kompyuternaya-tehnika/page-',\n",
    "           'https://hi-tech.md/mebel-tekstil/kompyuternaya-mebel/ofisnye-kresla-i-stulya/komp.-kresla/page-',\n",
    "           'https://hi-tech.md/instrumenty-i-oborudovanie/elektroinstrument/page-',\n",
    "           'https://hi-tech.md/tovary-dlya-doma/page-'\n",
    "          ]"
   ]
  },
  {
   "cell_type": "markdown",
   "id": "3adeb90c",
   "metadata": {},
   "source": [
    "переменная со списком ссылок на сайт для парсинга"
   ]
  },
  {
   "cell_type": "code",
   "execution_count": 47,
   "id": "064954c3",
   "metadata": {
    "scrolled": false
   },
   "outputs": [
    {
     "data": {
      "application/vnd.jupyter.widget-view+json": {
       "model_id": "e3e606001b984ddba83970bbc1308f35",
       "version_major": 2,
       "version_minor": 0
      },
      "text/plain": [
       "  0%|          | 0/6 [00:00<?, ?it/s]"
      ]
     },
     "metadata": {},
     "output_type": "display_data"
    }
   ],
   "source": [
    "dfh = h_parsing_2(all_url)"
   ]
  },
  {
   "cell_type": "markdown",
   "id": "41a328c8",
   "metadata": {},
   "source": [
    "предварительный парсинг"
   ]
  },
  {
   "cell_type": "code",
   "execution_count": 48,
   "id": "f7dcb3c2",
   "metadata": {
    "scrolled": true
   },
   "outputs": [],
   "source": [
    "dfh = dfh.drop_duplicates().reset_index(drop=True)"
   ]
  },
  {
   "cell_type": "markdown",
   "id": "fee03afb",
   "metadata": {},
   "source": [
    "удаление дублекатов"
   ]
  },
  {
   "cell_type": "markdown",
   "id": "0b986463",
   "metadata": {},
   "source": [
    "dfh.to_csv('csv/hi_tech_test_'+dt.datetime.now().strftime('%Y_%m_%d')+'.csv', index=False)"
   ]
  },
  {
   "cell_type": "markdown",
   "id": "77757780",
   "metadata": {},
   "source": [
    "создание резервной копии парсинга данных"
   ]
  },
  {
   "cell_type": "markdown",
   "id": "a5af704b",
   "metadata": {},
   "source": [
    "dfh = pd.read_csv('csv/hi_tech_test_'+dt.datetime.now().strftime('%Y_%m_%d')+'.csv')"
   ]
  },
  {
   "cell_type": "code",
   "execution_count": 49,
   "id": "b41c7edb",
   "metadata": {},
   "outputs": [
    {
     "name": "stdout",
     "output_type": "stream",
     "text": [
      "таблица имеет следующий вид:\n"
     ]
    },
    {
     "data": {
      "text/html": [
       "<div>\n",
       "<style scoped>\n",
       "    .dataframe tbody tr th:only-of-type {\n",
       "        vertical-align: middle;\n",
       "    }\n",
       "\n",
       "    .dataframe tbody tr th {\n",
       "        vertical-align: top;\n",
       "    }\n",
       "\n",
       "    .dataframe thead th {\n",
       "        text-align: right;\n",
       "    }\n",
       "</style>\n",
       "<table border=\"1\" class=\"dataframe\">\n",
       "  <thead>\n",
       "    <tr style=\"text-align: right;\">\n",
       "      <th></th>\n",
       "      <th>url</th>\n",
       "      <th>id</th>\n",
       "      <th>date</th>\n",
       "      <th>availability</th>\n",
       "      <th>title</th>\n",
       "      <th>price</th>\n",
       "      <th>old_price</th>\n",
       "    </tr>\n",
       "  </thead>\n",
       "  <tbody>\n",
       "    <tr>\n",
       "      <th>0</th>\n",
       "      <td>https://hi-tech.md/televizory-i-elektronika/batareyki-i-zaryadnye-ustroystva/batareyka-energenie-eg-ba-cr1220-01/</td>\n",
       "      <td>Т-000088228</td>\n",
       "      <td>2024-07-03</td>\n",
       "      <td>В наличии</td>\n",
       "      <td>Батарейка Energenie EG-BA-CR1220-01</td>\n",
       "      <td>4.0</td>\n",
       "      <td>NaN</td>\n",
       "    </tr>\n",
       "    <tr>\n",
       "      <th>1</th>\n",
       "      <td>https://hi-tech.md/televizory-i-elektronika/batareyki-i-zaryadnye-ustroystva/batareyka-energenie-eg-ba-cr2016-01/</td>\n",
       "      <td>Т-000088229</td>\n",
       "      <td>2024-07-03</td>\n",
       "      <td>В наличии</td>\n",
       "      <td>Батарейка Energenie EG-BA-CR2016-01</td>\n",
       "      <td>4.0</td>\n",
       "      <td>NaN</td>\n",
       "    </tr>\n",
       "    <tr>\n",
       "      <th>2</th>\n",
       "      <td>https://hi-tech.md/televizory-i-elektronika/batareyki-i-zaryadnye-ustroystva/batareyka-energenie-eg-ba-aa4-01/</td>\n",
       "      <td>Т-000088221</td>\n",
       "      <td>2024-07-03</td>\n",
       "      <td>В наличии</td>\n",
       "      <td>Батарейка Energenie EG-BA-AA4-01</td>\n",
       "      <td>5.0</td>\n",
       "      <td>NaN</td>\n",
       "    </tr>\n",
       "    <tr>\n",
       "      <th>3</th>\n",
       "      <td>https://hi-tech.md/televizory-i-elektronika/batareyki-i-zaryadnye-ustroystva/batareyka-energenie-eg-ba-aaa4-01/</td>\n",
       "      <td>Т-000088222</td>\n",
       "      <td>2024-07-03</td>\n",
       "      <td>В наличии</td>\n",
       "      <td>Батарейка Energenie EG-BA-AAA4-01</td>\n",
       "      <td>5.0</td>\n",
       "      <td>NaN</td>\n",
       "    </tr>\n",
       "    <tr>\n",
       "      <th>4</th>\n",
       "      <td>https://hi-tech.md/televizory-i-elektronika/batareyki-i-zaryadnye-ustroystva/batareyka-energenie-eg-ba-cr2025-01/</td>\n",
       "      <td>Т-000088230</td>\n",
       "      <td>2024-07-03</td>\n",
       "      <td>В наличии</td>\n",
       "      <td>Батарейка Energenie EG-BA-CR2025-01</td>\n",
       "      <td>5.0</td>\n",
       "      <td>NaN</td>\n",
       "    </tr>\n",
       "  </tbody>\n",
       "</table>\n",
       "</div>"
      ],
      "text/plain": [
       "                                                                                                                 url  \\\n",
       "0  https://hi-tech.md/televizory-i-elektronika/batareyki-i-zaryadnye-ustroystva/batareyka-energenie-eg-ba-cr1220-01/   \n",
       "1  https://hi-tech.md/televizory-i-elektronika/batareyki-i-zaryadnye-ustroystva/batareyka-energenie-eg-ba-cr2016-01/   \n",
       "2     https://hi-tech.md/televizory-i-elektronika/batareyki-i-zaryadnye-ustroystva/batareyka-energenie-eg-ba-aa4-01/   \n",
       "3    https://hi-tech.md/televizory-i-elektronika/batareyki-i-zaryadnye-ustroystva/batareyka-energenie-eg-ba-aaa4-01/   \n",
       "4  https://hi-tech.md/televizory-i-elektronika/batareyki-i-zaryadnye-ustroystva/batareyka-energenie-eg-ba-cr2025-01/   \n",
       "\n",
       "            id       date availability                                title  \\\n",
       "0  Т-000088228 2024-07-03    В наличии  Батарейка Energenie EG-BA-CR1220-01   \n",
       "1  Т-000088229 2024-07-03    В наличии  Батарейка Energenie EG-BA-CR2016-01   \n",
       "2  Т-000088221 2024-07-03    В наличии     Батарейка Energenie EG-BA-AA4-01   \n",
       "3  Т-000088222 2024-07-03    В наличии    Батарейка Energenie EG-BA-AAA4-01   \n",
       "4  Т-000088230 2024-07-03    В наличии  Батарейка Energenie EG-BA-CR2025-01   \n",
       "\n",
       "   price  old_price  \n",
       "0    4.0        NaN  \n",
       "1    4.0        NaN  \n",
       "2    5.0        NaN  \n",
       "3    5.0        NaN  \n",
       "4    5.0        NaN  "
      ]
     },
     "metadata": {},
     "output_type": "display_data"
    },
    {
     "name": "stdout",
     "output_type": "stream",
     "text": [
      "****************************************************************************************************\n",
      "таблица имеет 8396 сторок и 7 столбцов\n",
      "****************************************************************************************************\n",
      "в таблице обнаружено дублекатов:0\n",
      "****************************************************************************************************\n",
      "в таблице обнаружены пропуски в следующих столбцах:\n"
     ]
    },
    {
     "data": {
      "text/plain": [
       "url                0\n",
       "id                 0\n",
       "date               0\n",
       "availability       0\n",
       "title              0\n",
       "price              0\n",
       "old_price       6271\n",
       "dtype: int64"
      ]
     },
     "metadata": {},
     "output_type": "display_data"
    },
    {
     "name": "stdout",
     "output_type": "stream",
     "text": [
      "****************************************************************************************************\n",
      "Эти пропуски составлябт следующее количество в процентах\n"
     ]
    },
    {
     "data": {
      "text/plain": [
       "url              0.0\n",
       "id               0.0\n",
       "date             0.0\n",
       "availability     0.0\n",
       "title            0.0\n",
       "price            0.0\n",
       "old_price       74.7\n",
       "dtype: float64"
      ]
     },
     "metadata": {},
     "output_type": "display_data"
    },
    {
     "name": "stdout",
     "output_type": "stream",
     "text": [
      "****************************************************************************************************\n",
      "столбцы имеют следующие типы:\n"
     ]
    },
    {
     "data": {
      "text/plain": [
       "url                     object\n",
       "id                      object\n",
       "date            datetime64[ns]\n",
       "availability            object\n",
       "title                   object\n",
       "price                  float64\n",
       "old_price              float64\n",
       "dtype: object"
      ]
     },
     "metadata": {},
     "output_type": "display_data"
    },
    {
     "name": "stdout",
     "output_type": "stream",
     "text": [
      "****************************************************************************************************\n",
      "названия столбцов переписаны в нижнем регистре, пробелы заменены на нижнее подчеркивание\n",
      "****************************************************************************************************\n",
      "<class 'pandas.core.frame.DataFrame'>\n",
      "RangeIndex: 8396 entries, 0 to 8395\n",
      "Data columns (total 7 columns):\n",
      " #   Column        Non-Null Count  Dtype         \n",
      "---  ------        --------------  -----         \n",
      " 0   url           8396 non-null   object        \n",
      " 1   id            8396 non-null   object        \n",
      " 2   date          8396 non-null   datetime64[ns]\n",
      " 3   availability  8396 non-null   object        \n",
      " 4   title         8396 non-null   object        \n",
      " 5   price         8396 non-null   float64       \n",
      " 6   old_price     2125 non-null   float64       \n",
      "dtypes: datetime64[ns](1), float64(2), object(4)\n",
      "memory usage: 459.3+ KB\n"
     ]
    },
    {
     "data": {
      "text/plain": [
       "None"
      ]
     },
     "metadata": {},
     "output_type": "display_data"
    }
   ],
   "source": [
    "preprocessing(dfh)"
   ]
  },
  {
   "cell_type": "code",
   "execution_count": 50,
   "id": "5323f509",
   "metadata": {},
   "outputs": [],
   "source": [
    "hai_group = pd.read_csv('csv/ahay_group.csv')"
   ]
  },
  {
   "cell_type": "markdown",
   "id": "d07bed99",
   "metadata": {},
   "source": [
    "загрузка таблицы с группами товара"
   ]
  },
  {
   "cell_type": "code",
   "execution_count": 51,
   "id": "fcbc897e",
   "metadata": {},
   "outputs": [],
   "source": [
    "hai_group = hai_group.drop_duplicates(keep=False )"
   ]
  },
  {
   "cell_type": "code",
   "execution_count": 52,
   "id": "33609491",
   "metadata": {},
   "outputs": [
    {
     "data": {
      "text/plain": [
       "8974"
      ]
     },
     "execution_count": 52,
     "metadata": {},
     "output_type": "execute_result"
    }
   ],
   "source": [
    "len(hai_group)"
   ]
  },
  {
   "cell_type": "code",
   "execution_count": 53,
   "id": "09ff7ce5",
   "metadata": {},
   "outputs": [],
   "source": [
    "dfh = dfh.merge(hai_group, how='left', on='id')"
   ]
  },
  {
   "cell_type": "markdown",
   "id": "00551e3b",
   "metadata": {},
   "source": [
    "обединение таблиц предварительного парсинга и таблицы групп товаров"
   ]
  },
  {
   "cell_type": "code",
   "execution_count": 54,
   "id": "dd44922b",
   "metadata": {},
   "outputs": [
    {
     "data": {
      "text/html": [
       "<div>\n",
       "<style scoped>\n",
       "    .dataframe tbody tr th:only-of-type {\n",
       "        vertical-align: middle;\n",
       "    }\n",
       "\n",
       "    .dataframe tbody tr th {\n",
       "        vertical-align: top;\n",
       "    }\n",
       "\n",
       "    .dataframe thead th {\n",
       "        text-align: right;\n",
       "    }\n",
       "</style>\n",
       "<table border=\"1\" class=\"dataframe\">\n",
       "  <thead>\n",
       "    <tr style=\"text-align: right;\">\n",
       "      <th></th>\n",
       "      <th>url</th>\n",
       "      <th>id</th>\n",
       "      <th>date</th>\n",
       "      <th>availability</th>\n",
       "      <th>title</th>\n",
       "      <th>price</th>\n",
       "      <th>old_price</th>\n",
       "      <th>_category</th>\n",
       "      <th>_subcategory</th>\n",
       "      <th>_group</th>\n",
       "      <th>_subgroup</th>\n",
       "    </tr>\n",
       "  </thead>\n",
       "  <tbody>\n",
       "    <tr>\n",
       "      <th>0</th>\n",
       "      <td>https://hi-tech.md/televizory-i-elektronika/batareyki-i-zaryadnye-ustroystva/batareyka-energenie-eg-ba-cr1220-01/</td>\n",
       "      <td>Т-000088228</td>\n",
       "      <td>2024-07-03</td>\n",
       "      <td>В наличии</td>\n",
       "      <td>Батарейка Energenie EG-BA-CR1220-01</td>\n",
       "      <td>4.0</td>\n",
       "      <td>NaN</td>\n",
       "      <td>H_телевизоры_и_электроника</td>\n",
       "      <td>H_батарейки_и_зарядные_устройства</td>\n",
       "      <td>H_батарейки_и_зарядные_устройства</td>\n",
       "      <td>H_батарейки_и_зарядные_устройства</td>\n",
       "    </tr>\n",
       "    <tr>\n",
       "      <th>1</th>\n",
       "      <td>https://hi-tech.md/televizory-i-elektronika/batareyki-i-zaryadnye-ustroystva/batareyka-energenie-eg-ba-cr2016-01/</td>\n",
       "      <td>Т-000088229</td>\n",
       "      <td>2024-07-03</td>\n",
       "      <td>В наличии</td>\n",
       "      <td>Батарейка Energenie EG-BA-CR2016-01</td>\n",
       "      <td>4.0</td>\n",
       "      <td>NaN</td>\n",
       "      <td>H_телевизоры_и_электроника</td>\n",
       "      <td>H_батарейки_и_зарядные_устройства</td>\n",
       "      <td>H_батарейки_и_зарядные_устройства</td>\n",
       "      <td>H_батарейки_и_зарядные_устройства</td>\n",
       "    </tr>\n",
       "    <tr>\n",
       "      <th>2</th>\n",
       "      <td>https://hi-tech.md/televizory-i-elektronika/batareyki-i-zaryadnye-ustroystva/batareyka-energenie-eg-ba-aa4-01/</td>\n",
       "      <td>Т-000088221</td>\n",
       "      <td>2024-07-03</td>\n",
       "      <td>В наличии</td>\n",
       "      <td>Батарейка Energenie EG-BA-AA4-01</td>\n",
       "      <td>5.0</td>\n",
       "      <td>NaN</td>\n",
       "      <td>H_телевизоры_и_электроника</td>\n",
       "      <td>H_батарейки_и_зарядные_устройства</td>\n",
       "      <td>H_батарейки_и_зарядные_устройства</td>\n",
       "      <td>H_батарейки_и_зарядные_устройства</td>\n",
       "    </tr>\n",
       "    <tr>\n",
       "      <th>3</th>\n",
       "      <td>https://hi-tech.md/televizory-i-elektronika/batareyki-i-zaryadnye-ustroystva/batareyka-energenie-eg-ba-aaa4-01/</td>\n",
       "      <td>Т-000088222</td>\n",
       "      <td>2024-07-03</td>\n",
       "      <td>В наличии</td>\n",
       "      <td>Батарейка Energenie EG-BA-AAA4-01</td>\n",
       "      <td>5.0</td>\n",
       "      <td>NaN</td>\n",
       "      <td>H_телевизоры_и_электроника</td>\n",
       "      <td>H_батарейки_и_зарядные_устройства</td>\n",
       "      <td>H_батарейки_и_зарядные_устройства</td>\n",
       "      <td>H_батарейки_и_зарядные_устройства</td>\n",
       "    </tr>\n",
       "    <tr>\n",
       "      <th>4</th>\n",
       "      <td>https://hi-tech.md/televizory-i-elektronika/batareyki-i-zaryadnye-ustroystva/batareyka-energenie-eg-ba-cr2025-01/</td>\n",
       "      <td>Т-000088230</td>\n",
       "      <td>2024-07-03</td>\n",
       "      <td>В наличии</td>\n",
       "      <td>Батарейка Energenie EG-BA-CR2025-01</td>\n",
       "      <td>5.0</td>\n",
       "      <td>NaN</td>\n",
       "      <td>H_телевизоры_и_электроника</td>\n",
       "      <td>H_батарейки_и_зарядные_устройства</td>\n",
       "      <td>H_батарейки_и_зарядные_устройства</td>\n",
       "      <td>H_батарейки_и_зарядные_устройства</td>\n",
       "    </tr>\n",
       "    <tr>\n",
       "      <th>...</th>\n",
       "      <td>...</td>\n",
       "      <td>...</td>\n",
       "      <td>...</td>\n",
       "      <td>...</td>\n",
       "      <td>...</td>\n",
       "      <td>...</td>\n",
       "      <td>...</td>\n",
       "      <td>...</td>\n",
       "      <td>...</td>\n",
       "      <td>...</td>\n",
       "      <td>...</td>\n",
       "    </tr>\n",
       "    <tr>\n",
       "      <th>8391</th>\n",
       "      <td>https://hi-tech.md/tovary-dlya-doma/osveschenie/lyustry/lyustra-4pl-satipo-transparent-led15w-e27-5628-tkl/</td>\n",
       "      <td>Т-000085036</td>\n",
       "      <td>2024-07-03</td>\n",
       "      <td>В наличии</td>\n",
       "      <td>Люстра 4PL SATIPO TRANSPARENT LED15W E27 (5628) (TKL)</td>\n",
       "      <td>3279.0</td>\n",
       "      <td>4099.0</td>\n",
       "      <td>H_товары_для_дома</td>\n",
       "      <td>H_освещение</td>\n",
       "      <td>H_люстры</td>\n",
       "      <td>H_люстры</td>\n",
       "    </tr>\n",
       "    <tr>\n",
       "      <th>8392</th>\n",
       "      <td>https://hi-tech.md/tovary-dlya-doma/osveschenie/lyustry/lyustra-4pl-satipo-amber-led15w-e27-5625-tkl/</td>\n",
       "      <td>Т-000085037</td>\n",
       "      <td>2024-07-03</td>\n",
       "      <td>В наличии</td>\n",
       "      <td>Люстра 4PL SATIPO AMBER LED15W E27 (5625) (TKL)</td>\n",
       "      <td>3311.0</td>\n",
       "      <td>4139.0</td>\n",
       "      <td>H_товары_для_дома</td>\n",
       "      <td>H_освещение</td>\n",
       "      <td>H_люстры</td>\n",
       "      <td>H_люстры</td>\n",
       "    </tr>\n",
       "    <tr>\n",
       "      <th>8393</th>\n",
       "      <td>https://hi-tech.md/tovary-dlya-doma/osveschenie/lyustry/lyustra-3pl-universo-black-led15w-e27-4483-tkl/</td>\n",
       "      <td>Т-000085021</td>\n",
       "      <td>2024-07-03</td>\n",
       "      <td>В наличии</td>\n",
       "      <td>Люстра 3PL UNIVERSO BLACK LED15W E27 (4483) (TKL)</td>\n",
       "      <td>3359.0</td>\n",
       "      <td>4199.0</td>\n",
       "      <td>H_товары_для_дома</td>\n",
       "      <td>H_освещение</td>\n",
       "      <td>H_люстры</td>\n",
       "      <td>H_люстры</td>\n",
       "    </tr>\n",
       "    <tr>\n",
       "      <th>8394</th>\n",
       "      <td>https://hi-tech.md/tovary-dlya-doma/osveschenie/lyustry/lyustra-6pl-fairy-black-6w-g9-4856-tkl/</td>\n",
       "      <td>Т-000085033</td>\n",
       "      <td>2024-07-03</td>\n",
       "      <td>В наличии</td>\n",
       "      <td>Люстра 6PL FAIRY BLACK 6W G9 (4856) (TKL)</td>\n",
       "      <td>3471.0</td>\n",
       "      <td>4339.0</td>\n",
       "      <td>H_товары_для_дома</td>\n",
       "      <td>H_освещение</td>\n",
       "      <td>H_люстры</td>\n",
       "      <td>H_люстры</td>\n",
       "    </tr>\n",
       "    <tr>\n",
       "      <th>8395</th>\n",
       "      <td>https://hi-tech.md/tovary-dlya-doma/osveschenie/lyustry/lyustra-6pl-fairy-gold-6w-g9-3532-tkl/</td>\n",
       "      <td>Т-000085032</td>\n",
       "      <td>2024-07-03</td>\n",
       "      <td>В наличии</td>\n",
       "      <td>Люстра 6PL FAIRY GOLD 6W G9 (3532) (TKL)</td>\n",
       "      <td>3951.0</td>\n",
       "      <td>4939.0</td>\n",
       "      <td>H_товары_для_дома</td>\n",
       "      <td>H_освещение</td>\n",
       "      <td>H_люстры</td>\n",
       "      <td>H_люстры</td>\n",
       "    </tr>\n",
       "  </tbody>\n",
       "</table>\n",
       "<p>8396 rows × 11 columns</p>\n",
       "</div>"
      ],
      "text/plain": [
       "                                                                                                                    url  \\\n",
       "0     https://hi-tech.md/televizory-i-elektronika/batareyki-i-zaryadnye-ustroystva/batareyka-energenie-eg-ba-cr1220-01/   \n",
       "1     https://hi-tech.md/televizory-i-elektronika/batareyki-i-zaryadnye-ustroystva/batareyka-energenie-eg-ba-cr2016-01/   \n",
       "2        https://hi-tech.md/televizory-i-elektronika/batareyki-i-zaryadnye-ustroystva/batareyka-energenie-eg-ba-aa4-01/   \n",
       "3       https://hi-tech.md/televizory-i-elektronika/batareyki-i-zaryadnye-ustroystva/batareyka-energenie-eg-ba-aaa4-01/   \n",
       "4     https://hi-tech.md/televizory-i-elektronika/batareyki-i-zaryadnye-ustroystva/batareyka-energenie-eg-ba-cr2025-01/   \n",
       "...                                                                                                                 ...   \n",
       "8391        https://hi-tech.md/tovary-dlya-doma/osveschenie/lyustry/lyustra-4pl-satipo-transparent-led15w-e27-5628-tkl/   \n",
       "8392              https://hi-tech.md/tovary-dlya-doma/osveschenie/lyustry/lyustra-4pl-satipo-amber-led15w-e27-5625-tkl/   \n",
       "8393            https://hi-tech.md/tovary-dlya-doma/osveschenie/lyustry/lyustra-3pl-universo-black-led15w-e27-4483-tkl/   \n",
       "8394                    https://hi-tech.md/tovary-dlya-doma/osveschenie/lyustry/lyustra-6pl-fairy-black-6w-g9-4856-tkl/   \n",
       "8395                     https://hi-tech.md/tovary-dlya-doma/osveschenie/lyustry/lyustra-6pl-fairy-gold-6w-g9-3532-tkl/   \n",
       "\n",
       "               id       date availability  \\\n",
       "0     Т-000088228 2024-07-03    В наличии   \n",
       "1     Т-000088229 2024-07-03    В наличии   \n",
       "2     Т-000088221 2024-07-03    В наличии   \n",
       "3     Т-000088222 2024-07-03    В наличии   \n",
       "4     Т-000088230 2024-07-03    В наличии   \n",
       "...           ...        ...          ...   \n",
       "8391  Т-000085036 2024-07-03    В наличии   \n",
       "8392  Т-000085037 2024-07-03    В наличии   \n",
       "8393  Т-000085021 2024-07-03    В наличии   \n",
       "8394  Т-000085033 2024-07-03    В наличии   \n",
       "8395  Т-000085032 2024-07-03    В наличии   \n",
       "\n",
       "                                                      title   price  \\\n",
       "0                       Батарейка Energenie EG-BA-CR1220-01     4.0   \n",
       "1                       Батарейка Energenie EG-BA-CR2016-01     4.0   \n",
       "2                          Батарейка Energenie EG-BA-AA4-01     5.0   \n",
       "3                         Батарейка Energenie EG-BA-AAA4-01     5.0   \n",
       "4                       Батарейка Energenie EG-BA-CR2025-01     5.0   \n",
       "...                                                     ...     ...   \n",
       "8391  Люстра 4PL SATIPO TRANSPARENT LED15W E27 (5628) (TKL)  3279.0   \n",
       "8392        Люстра 4PL SATIPO AMBER LED15W E27 (5625) (TKL)  3311.0   \n",
       "8393      Люстра 3PL UNIVERSO BLACK LED15W E27 (4483) (TKL)  3359.0   \n",
       "8394              Люстра 6PL FAIRY BLACK 6W G9 (4856) (TKL)  3471.0   \n",
       "8395               Люстра 6PL FAIRY GOLD 6W G9 (3532) (TKL)  3951.0   \n",
       "\n",
       "      old_price                   _category  \\\n",
       "0           NaN  H_телевизоры_и_электроника   \n",
       "1           NaN  H_телевизоры_и_электроника   \n",
       "2           NaN  H_телевизоры_и_электроника   \n",
       "3           NaN  H_телевизоры_и_электроника   \n",
       "4           NaN  H_телевизоры_и_электроника   \n",
       "...         ...                         ...   \n",
       "8391     4099.0           H_товары_для_дома   \n",
       "8392     4139.0           H_товары_для_дома   \n",
       "8393     4199.0           H_товары_для_дома   \n",
       "8394     4339.0           H_товары_для_дома   \n",
       "8395     4939.0           H_товары_для_дома   \n",
       "\n",
       "                           _subcategory                             _group  \\\n",
       "0     H_батарейки_и_зарядные_устройства  H_батарейки_и_зарядные_устройства   \n",
       "1     H_батарейки_и_зарядные_устройства  H_батарейки_и_зарядные_устройства   \n",
       "2     H_батарейки_и_зарядные_устройства  H_батарейки_и_зарядные_устройства   \n",
       "3     H_батарейки_и_зарядные_устройства  H_батарейки_и_зарядные_устройства   \n",
       "4     H_батарейки_и_зарядные_устройства  H_батарейки_и_зарядные_устройства   \n",
       "...                                 ...                                ...   \n",
       "8391                        H_освещение                           H_люстры   \n",
       "8392                        H_освещение                           H_люстры   \n",
       "8393                        H_освещение                           H_люстры   \n",
       "8394                        H_освещение                           H_люстры   \n",
       "8395                        H_освещение                           H_люстры   \n",
       "\n",
       "                              _subgroup  \n",
       "0     H_батарейки_и_зарядные_устройства  \n",
       "1     H_батарейки_и_зарядные_устройства  \n",
       "2     H_батарейки_и_зарядные_устройства  \n",
       "3     H_батарейки_и_зарядные_устройства  \n",
       "4     H_батарейки_и_зарядные_устройства  \n",
       "...                                 ...  \n",
       "8391                           H_люстры  \n",
       "8392                           H_люстры  \n",
       "8393                           H_люстры  \n",
       "8394                           H_люстры  \n",
       "8395                           H_люстры  \n",
       "\n",
       "[8396 rows x 11 columns]"
      ]
     },
     "execution_count": 54,
     "metadata": {},
     "output_type": "execute_result"
    }
   ],
   "source": [
    "dfh"
   ]
  },
  {
   "cell_type": "code",
   "execution_count": 55,
   "id": "e4242e86",
   "metadata": {},
   "outputs": [],
   "source": [
    "h_df_new = dfh[(dfh['_category'].isna()) | (dfh['_subcategory'].isna()) | (dfh['_group'].isna()) | (dfh['_subgroup'].isna())]"
   ]
  },
  {
   "cell_type": "markdown",
   "id": "57fc730a",
   "metadata": {},
   "source": [
    "создание тыблицы с товарами, у которых нет данных о группах"
   ]
  },
  {
   "cell_type": "code",
   "execution_count": 56,
   "id": "2fec9060",
   "metadata": {},
   "outputs": [
    {
     "data": {
      "text/plain": [
       "55"
      ]
     },
     "execution_count": 56,
     "metadata": {},
     "output_type": "execute_result"
    }
   ],
   "source": [
    "len(h_df_new)"
   ]
  },
  {
   "cell_type": "code",
   "execution_count": 57,
   "id": "7a191804",
   "metadata": {},
   "outputs": [],
   "source": [
    "dfh = dfh[~((dfh['_category'].isna()) | (dfh['_subcategory'].isna()) | (dfh['_group'].isna()) | (dfh['_subgroup'].isna()))]"
   ]
  },
  {
   "cell_type": "markdown",
   "id": "7187aa58",
   "metadata": {},
   "source": [
    "отчистка таблицы парсинга от пропусков"
   ]
  },
  {
   "cell_type": "code",
   "execution_count": 58,
   "id": "d1034c9c",
   "metadata": {},
   "outputs": [
    {
     "data": {
      "text/plain": [
       "0"
      ]
     },
     "execution_count": 58,
     "metadata": {},
     "output_type": "execute_result"
    }
   ],
   "source": [
    "len(dfh[(dfh['_category'].isna()) | (dfh['_subcategory'].isna()) | (dfh['_group'].isna()) | (dfh['_subgroup'].isna())])"
   ]
  },
  {
   "cell_type": "markdown",
   "id": "66ebd550",
   "metadata": {},
   "source": [
    "dfh = dfh.sample(30)"
   ]
  },
  {
   "cell_type": "markdown",
   "id": "cc765b94",
   "metadata": {},
   "source": [
    "тестовое уменьшение таблици"
   ]
  },
  {
   "cell_type": "code",
   "execution_count": 59,
   "id": "a8992e7b",
   "metadata": {},
   "outputs": [],
   "source": [
    "def h_xxx(x):\n",
    "    reqx = requests.get(x)\n",
    "    soup = bs(reqx.text, 'html.parser')    \n",
    "    elem_2 = soup.findAll('div', class_='ty-breadcrumbs clearfix')\n",
    "    name = soup.findAll('span', class_='ty-breadcrumbs__current')\n",
    "            \n",
    "    try:\n",
    "        names = name[0].text\n",
    "        name_group = elem_2[0].text.replace('/'+str(names),'').replace('\\n','')\n",
    "        err = 'err'\n",
    "    except:\n",
    "        names = 'Noname'\n",
    "        name_group = 'Noname/Noname/Noname/Noname/Noname/Noname'\n",
    "        err = 'Noname_err'\n",
    "    try:\n",
    "        len_name = len((elem_2[0].text.replace('/'+str(names),'').replace('\\n','')).split('/'))\n",
    "    except:\n",
    "        len_name = 1\n",
    "        \n",
    "    try:\n",
    "        if len_name <= 1:\n",
    "            d_14 = 'err1'\n",
    "            d_15 = 'err1'\n",
    "            d_16 = 'err1'\n",
    "            d_17 = 'err1'\n",
    "        elif len_name <= 2:\n",
    "            d_14 = 'H_'+(name_group.split(\"/\")[1]).replace(',','').replace(' ','_').replace('-','_').lower()\n",
    "            d_15 = 'H_'+(name_group.split(\"/\")[1]).replace(',','').replace(' ','_').replace('-','_').lower()\n",
    "            d_16 = 'H_'+(name_group.split(\"/\")[1]).replace(',','').replace(' ','_').replace('-','_').lower()\n",
    "            d_17 = 'H_'+(name_group.split(\"/\")[1]).replace(',','').replace(' ','_').replace('-','_').lower()      \n",
    "        elif len_name <= 3:\n",
    "            d_14 = 'H_'+(name_group.split(\"/\")[1]).replace(',','').replace(' ','_').replace('-','_').lower()\n",
    "            d_15 = 'H_'+(name_group.split(\"/\")[2]).replace(',','').replace(' ','_').replace('-','_').lower()\n",
    "            d_16 = 'H_'+(name_group.split(\"/\")[2]).replace(',','').replace(' ','_').replace('-','_').lower()\n",
    "            d_17 = 'H_'+(name_group.split(\"/\")[2]).replace(',','').replace(' ','_').replace('-','_').lower()\n",
    "        elif len_name == 4:\n",
    "            d_14 = 'H_'+(name_group.split(\"/\")[1]).replace(',','').replace(' ','_').replace('-','_').lower()\n",
    "            d_15 = 'H_'+(name_group.split(\"/\")[2]).replace(',','').replace(' ','_').replace('-','_').lower()\n",
    "            d_16 = 'H_'+(name_group.split(\"/\")[3]).replace(',','').replace(' ','_').replace('-','_').lower() \n",
    "            d_17 = 'H_'+(name_group.split(\"/\")[3]).replace(',','').replace(' ','_').replace('-','_').lower()\n",
    "        elif len_name > 4:\n",
    "            d_14 = 'H_'+(name_group.split(\"/\")[1]).replace(',','').replace(' ','_').replace('-','_').lower()\n",
    "            d_15 = 'H_'+(name_group.split(\"/\")[2]).replace(',','').replace(' ','_').replace('-','_').lower()\n",
    "            d_16 = 'H_'+(name_group.split(\"/\")[3]).replace(',','').replace(' ','_').replace('-','_').lower() \n",
    "            d_17 = 'H_'+(name_group.split(\"/\")[4]).replace(',','').replace(' ','_').replace('-','_').lower()\n",
    "    except:\n",
    "        d_14 = 'err0'\n",
    "        d_15 = 'err0'\n",
    "        d_16 = 'err0'\n",
    "        d_17 = 'err0'\n",
    "        \n",
    "    return pd.Series([(d_14), (d_15), (d_16), (d_17)])"
   ]
  },
  {
   "cell_type": "markdown",
   "id": "52ea1dff",
   "metadata": {},
   "source": [
    "Функция основного парсинга, которая для каждой строки по урл адресу парсит и находит наличие товара в магахинах а также группу товара, категорию товара, подкатегорию товата и количество подкатегорий товара"
   ]
  },
  {
   "cell_type": "markdown",
   "id": "c2aff57b",
   "metadata": {},
   "source": [
    "# Парсинг групп товара"
   ]
  },
  {
   "cell_type": "code",
   "execution_count": 60,
   "id": "ab37478d",
   "metadata": {},
   "outputs": [
    {
     "data": {
      "application/vnd.jupyter.widget-view+json": {
       "model_id": "ac268a83d8994f209e73e1b118744dc4",
       "version_major": 2,
       "version_minor": 0
      },
      "text/plain": [
       "  0%|          | 0/55 [00:00<?, ?it/s]"
      ]
     },
     "metadata": {},
     "output_type": "display_data"
    },
    {
     "name": "stderr",
     "output_type": "stream",
     "text": [
      "C:\\Users\\user\\AppData\\Local\\Temp\\ipykernel_4808\\1426536857.py:3: SettingWithCopyWarning: \n",
      "A value is trying to be set on a copy of a slice from a DataFrame.\n",
      "Try using .loc[row_indexer,col_indexer] = value instead\n",
      "\n",
      "See the caveats in the documentation: https://pandas.pydata.org/pandas-docs/stable/user_guide/indexing.html#returning-a-view-versus-a-copy\n",
      "  h_df_new[['_category','_subcategory','_group','_subgroup']] = h_df_new['url'].progress_apply(h_xxx)\n"
     ]
    }
   ],
   "source": [
    "if len(h_df_new) > 0:\n",
    "    tqdm.pandas() \n",
    "    h_df_new[['_category','_subcategory','_group','_subgroup']] = h_df_new['url'].progress_apply(h_xxx)\n",
    "else:\n",
    "    pass"
   ]
  },
  {
   "cell_type": "code",
   "execution_count": null,
   "id": "26ec3005",
   "metadata": {},
   "outputs": [],
   "source": []
  },
  {
   "cell_type": "markdown",
   "id": "982728f2",
   "metadata": {},
   "source": [
    "Основной парсинг"
   ]
  },
  {
   "cell_type": "code",
   "execution_count": 61,
   "id": "b4b71738",
   "metadata": {},
   "outputs": [],
   "source": [
    "h_data = h_df_new[~((h_df_new['_category']=='err1') | (h_df_new['_category']=='err0'))].reset_index(drop=True)\n",
    "h_data = h_data[['id', '_category','_subcategory','_group', '_subgroup']]\n",
    "h_data = h_data.sort_values(['_category','_subcategory', '_group', '_subgroup'])"
   ]
  },
  {
   "cell_type": "code",
   "execution_count": 62,
   "id": "c2c8fc0a",
   "metadata": {},
   "outputs": [
    {
     "data": {
      "text/plain": [
       "49"
      ]
     },
     "execution_count": 62,
     "metadata": {},
     "output_type": "execute_result"
    }
   ],
   "source": [
    "len(h_data)"
   ]
  },
  {
   "cell_type": "markdown",
   "id": "65d97636",
   "metadata": {},
   "source": [
    "создание таблици с группами нового товара"
   ]
  },
  {
   "cell_type": "code",
   "execution_count": 63,
   "id": "73c52ca7",
   "metadata": {},
   "outputs": [],
   "source": [
    "hai_group = pd.concat([hai_group, h_data], ignore_index=True).sort_values(['_category','_subcategory', '_group', '_subgroup']).reset_index(drop=True)\n",
    "hai_group.to_csv('csv/ahay_group.csv', index=False)  "
   ]
  },
  {
   "cell_type": "markdown",
   "id": "e114f6ef",
   "metadata": {},
   "source": [
    "добавление в таблицу с группами товара новых данных"
   ]
  },
  {
   "cell_type": "code",
   "execution_count": 64,
   "id": "ea897ac9",
   "metadata": {},
   "outputs": [],
   "source": [
    "dfh = pd.concat([dfh, h_df_new], ignore_index=True).sort_values(['_category','_subcategory', '_group', '_subgroup']).reset_index(drop=True)"
   ]
  },
  {
   "cell_type": "markdown",
   "id": "8084b2ce",
   "metadata": {},
   "source": [
    "объединение таблици со старыми и новыми товарами"
   ]
  },
  {
   "cell_type": "code",
   "execution_count": 65,
   "id": "945119bc",
   "metadata": {},
   "outputs": [
    {
     "data": {
      "text/plain": [
       "array(['H_акция', 'H_бытовая_техника', 'H_компьютерная_техника',\n",
       "       'H_мебель_текстиль', 'H_стройка_и_ремонт',\n",
       "       'H_телевизоры_и_электроника', 'H_товар_без_акции',\n",
       "       'H_товар_по_акции', 'H_товары_для_дома', 'err1'], dtype=object)"
      ]
     },
     "execution_count": 65,
     "metadata": {},
     "output_type": "execute_result"
    }
   ],
   "source": [
    "dfh._category.unique()"
   ]
  },
  {
   "cell_type": "code",
   "execution_count": 66,
   "id": "2c53ef86",
   "metadata": {},
   "outputs": [
    {
     "data": {
      "text/plain": [
       "array(['H_рассрочка_12_месяцев___без_переплаты!',\n",
       "       'H_аксессуары_для_мелкой_бытовой_техники',\n",
       "       'H_климатическая_техника', 'H_крупная_техника_для_кухни',\n",
       "       'H_мелкая_техника_для_кухни', 'H_минимойки',\n",
       "       'H_приготовление_напитков', 'H_приготовление_пищи',\n",
       "       'H_пылесосы_и_аксессуары', 'H_стиральные_и_сушильные_машины',\n",
       "       'H_техника_karcher', 'H_техника_для_здоровья',\n",
       "       'H_техника_для_красоты', 'H_товары_для_ухода_за_одеждой',\n",
       "       'H_установка_бытовой_техники', 'H_apple', 'H_аксессуары',\n",
       "       'H_видеотехника', 'H_готовые_решения', 'H_игровые_приставки',\n",
       "       'H_комплектующие', 'H_крепления', 'H_мониторы', 'H_мультимедиа',\n",
       "       'H_накопители', 'H_оргтехника', 'H_периферийные_устройства',\n",
       "       'H_проекторы_и_экраны', 'H_расходные_материалы',\n",
       "       'H_сетевое_оборудование', 'H_умный_дом_с_яндекс',\n",
       "       'H_электропитание', 'H_мебель_для_офиса', 'H_техника_для_дома',\n",
       "       'H_электроинструменты', 'H_аудиосистемы',\n",
       "       'H_батарейки_и_зарядные_устройства', 'H_гаджеты',\n",
       "       'H_крепления_для_тв', 'H_приставки_для_тв',\n",
       "       'H_смартфоны_и_аксессуары', 'H_телевизоры',\n",
       "       'H_телефоны_dect_и_проводные', 'H_товар_без_акции',\n",
       "       'H_товар_по_акции', 'H_бытовая_химия', 'H_кухонные_принадлежности',\n",
       "       'H_освещение', 'H_посуда_для_духовок_и_микроволновых_печей',\n",
       "       'H_сервировка_стола', 'err1'], dtype=object)"
      ]
     },
     "execution_count": 66,
     "metadata": {},
     "output_type": "execute_result"
    }
   ],
   "source": [
    "dfh._subcategory.unique()"
   ]
  },
  {
   "cell_type": "code",
   "execution_count": 67,
   "id": "97b79ee9",
   "metadata": {},
   "outputs": [
    {
     "data": {
      "text/plain": [
       "array(['H_рассрочка_12_месяцев___без_переплаты!',\n",
       "       'H_аксессуары_для_зубных_щеток',\n",
       "       'H_аксессуары_для_электрических_бритв', 'H_бойлеры',\n",
       "       'H_вентиляторы', 'H_комплектующие_для_климатической_техники',\n",
       "       'H_кондиционеры', 'H_кондиционеры_мульти_сплит', 'H_обогреватели',\n",
       "       'H_отопительные_печи', 'H_увлажнители_комплексы',\n",
       "       'H_варочные_поверхности', 'H_вытяжки', 'H_духовые_шкафы',\n",
       "       'H_кронштейны_для_микроволновых_печей', 'H_микроволновые_печи',\n",
       "       'H_морозильники_и_лари', 'H_плиты_газовые_и_электрические',\n",
       "       'H_посудомоечные_машины', 'H_холодильники',\n",
       "       'H_электропечи_и_духовки', 'H_блендеры', 'H_вакууматоры',\n",
       "       'H_весы_кухонные', 'H_генераторы_льда', 'H_кухонные_комбайны',\n",
       "       'H_ломтерезки', 'H_миксеры', 'H_соковыжималки',\n",
       "       'H_соковыжималки_для_цитрусов', 'H_тостеры', 'H_чопперы',\n",
       "       'H_электромясорубки', 'H_минимойки', 'H_кофе', 'H_кофеварки',\n",
       "       'H_кофемашины', 'H_кофемолки', 'H_термопоты',\n",
       "       'H_турки_электрические', 'H_электрические_чайники', 'H_йогуртницы',\n",
       "       'H_мультиварки', 'H_мультиварки_скороварки', 'H_пароварки',\n",
       "       'H_сушилки_для_фруктов', 'H_сэндвичницы_и_вафельницы',\n",
       "       'H_фритюрницы_и_аэрогрили', 'H_хлебопечи', 'H_электрогрили',\n",
       "       'H_аксессуары_к_пылесосам', 'H_пылесосы',\n",
       "       'H_фильтры_и_мешки_для_пыли', 'H_вертикальные_стиральные_машины',\n",
       "       'H_полуавтоматические_стиральные_машины',\n",
       "       'H_стирально_сушильные_машины', 'H_стиральные_и_сушильные_машины',\n",
       "       'H_фронтальные_стиральные_машины', 'H_мешки_и_фильтры_karcher',\n",
       "       'H_ирригаторы', 'H_массажеры_ванночки_для_ног',\n",
       "       'H_медицинские_приборы', 'H_электрические_зубные_щетки',\n",
       "       'H_весы_напольные', 'H_выпрямители_и_плойки_для_волос',\n",
       "       'H_наборы_для_укладки_волос', 'H_плойки',\n",
       "       'H_триммеры_машинки_для_стрижки', 'H_фены_для_волос',\n",
       "       'H_электрические_бритвы', 'H_эпиляторы', 'H_гладильные_доски',\n",
       "       'H_машинки_для_удаления_катышков', 'H_отпариватели_для_одежды',\n",
       "       'H_парогенераторы', 'H_сушилки_для_белья', 'H_утюги',\n",
       "       'H_швейные_машины', 'H_установка_бытовой_техники', 'H_airpods',\n",
       "       'H_apple_watch', 'H_imac', 'H_ipad', 'H_iphone', 'H_macbook',\n",
       "       'H_аксессуары', 'H_cardreader', 'H_для_ноутбуков',\n",
       "       'H_для_планшетов', 'H_кабели_и_переходники', 'H_карманы',\n",
       "       'H_видеонаблюдение', 'H_видеорегистраторы', 'H_неттопы',\n",
       "       'H_ноутбуки', 'H_планшеты', 'H_системные_блоки',\n",
       "       'H_электронные_книги', 'H_геймпады', 'H_приставки',\n",
       "       'H_блоки_питания', 'H_видеокарты', 'H_звуковые_карты', 'H_корпуса',\n",
       "       'H_материнские_платы', 'H_модули_памяти', 'H_накопитель_(hdd)',\n",
       "       'H_накопитель_(ssd)', 'H_оптические_приводы', 'H_процессоры',\n",
       "       'H_системы_охлаждения', 'H_термопаста', 'H_крепления',\n",
       "       'H_smart_tv', 'H_изогнутый', 'H_плоский', 'H_акустика',\n",
       "       'H_микрофоны', 'H_наушники', 'H_радио', 'H_внешние_hdd_|_ssd',\n",
       "       'H_диски_cd_|_dvd', 'H_карты_памяти_sd_|_microsd',\n",
       "       'H_флешки_usb_|_type_c', 'H_кабели', 'H_принтеры_и_мфу',\n",
       "       'H_сканеры', 'H_уничтожители_документов', 'H_веб_камеры',\n",
       "       'H_клавиатуры', 'H_манипуляторы', 'H_мыши', 'H_поверхности',\n",
       "       'H_рули', 'H_проекторы', 'H_бумага', 'H_зипы', 'H_картриджи',\n",
       "       'H_стяжки', 'H_тонер', 'H_чернила', 'H_чистящие_средства',\n",
       "       'H_адаптеры', 'H_инструмент', 'H_кабель_сетевой',\n",
       "       'H_карты_сетевые', 'H_коммутаторы', 'H_патч_корды',\n",
       "       'H_повторители_wifi', 'H_розетки', 'H_сетевые_шкафы',\n",
       "       'H_точки_доступа', 'H_яндекс_станции', 'H_powerbank', 'H_батареи',\n",
       "       'H_зарядные_устройства', 'H_ибп', 'H_инверторы', 'H_стабилизаторы',\n",
       "       'H_фильтры', 'H_офисные_кресла_и_стулья',\n",
       "       'H_газонокосилки_и_триммеры', 'H_аппараты_для_сварки', 'H_дрели',\n",
       "       'H_инструмент_для_работы_по_дереву',\n",
       "       'H_наборы_инструментов_и_измерительные_приборы', 'H_перфораторы',\n",
       "       'H_расходные_материалы', 'H_строительные_фены',\n",
       "       'H_шлифовальные_машинки', 'H_шуруповерты', 'H_электроинструменты',\n",
       "       'H_акустические_системы', 'H_аудиосистемы',\n",
       "       'H_музыкальная_техника', 'H_плееры', 'H_саундбары',\n",
       "       'H_батарейки_и_зарядные_устройства', 'H_умный_дом',\n",
       "       'H_часы_и_браслеты', 'H_крепления_для_тв', 'H_приставки_для_тв',\n",
       "       'H_смартфоны', 'H_смартфоны_и_аксессуары', 'H_чехлы',\n",
       "       'H_телевизоры', 'H_телевизоры_samsung',\n",
       "       'H_телефоны_dect_и_проводные', 'H_товар_без_акции',\n",
       "       'H_товар_по_акции', 'H_средства_для_посудомоечных_машин',\n",
       "       'H_средства_для_стирки', 'H_средства_по_уходу_за_техникой',\n",
       "       'H_кухонные_аксессуары', 'H_ножи',\n",
       "       'H_ёмкости_для_сыпучих_и_контейнеры_для_еды', 'H_бра',\n",
       "       'H_интерьерное_освещение', 'H_лампочки_', 'H_лампы_настольные',\n",
       "       'H_люстры', 'H_светильники_светодиодные', 'H_фонари',\n",
       "       'H_формы_и_противни', 'H_заварочные_чайники',\n",
       "       'H_кофеварки_гейзерные', 'H_термосы_термокружки_термосумки',\n",
       "       'H_турки', 'H_фильтры_для_воды', 'H_чайники_для_плиты',\n",
       "       'H_кастрюли', 'H_ковши', 'H_крышки', 'H_наборы_посуды',\n",
       "       'H_сковороды', 'H_сотейники', 'H_кофейные_и_чайные_чашки',\n",
       "       'H_прочие_предметы_сервировки', 'H_салатники_и_блюда_',\n",
       "       'H_сервировка_стола', 'H_столовые_приборы',\n",
       "       'H_столовые_сервизы_и_тарелки', 'H_фужеры_бокалы_стаканы', 'err1'],\n",
       "      dtype=object)"
      ]
     },
     "execution_count": 67,
     "metadata": {},
     "output_type": "execute_result"
    }
   ],
   "source": [
    "dfh._group.unique()"
   ]
  },
  {
   "cell_type": "markdown",
   "id": "b5bec77d",
   "metadata": {},
   "source": [
    "просмотр категорий, подкатегорий и групп товаров"
   ]
  },
  {
   "cell_type": "code",
   "execution_count": 68,
   "id": "bdc660e9",
   "metadata": {},
   "outputs": [
    {
     "data": {
      "text/plain": [
       "6"
      ]
     },
     "execution_count": 68,
     "metadata": {},
     "output_type": "execute_result"
    }
   ],
   "source": [
    "dfh[dfh['_category']=='err1'].id.count()"
   ]
  },
  {
   "cell_type": "code",
   "execution_count": 69,
   "id": "51857ea8",
   "metadata": {},
   "outputs": [
    {
     "data": {
      "text/plain": [
       "0"
      ]
     },
     "execution_count": 69,
     "metadata": {},
     "output_type": "execute_result"
    }
   ],
   "source": [
    "dfh[dfh['_category']=='err0'].id.count()"
   ]
  },
  {
   "cell_type": "code",
   "execution_count": 70,
   "id": "0ff727b3",
   "metadata": {},
   "outputs": [
    {
     "data": {
      "text/html": [
       "<div>\n",
       "<style scoped>\n",
       "    .dataframe tbody tr th:only-of-type {\n",
       "        vertical-align: middle;\n",
       "    }\n",
       "\n",
       "    .dataframe tbody tr th {\n",
       "        vertical-align: top;\n",
       "    }\n",
       "\n",
       "    .dataframe thead th {\n",
       "        text-align: right;\n",
       "    }\n",
       "</style>\n",
       "<table border=\"1\" class=\"dataframe\">\n",
       "  <thead>\n",
       "    <tr style=\"text-align: right;\">\n",
       "      <th></th>\n",
       "      <th>url</th>\n",
       "      <th>id</th>\n",
       "      <th>date</th>\n",
       "      <th>availability</th>\n",
       "      <th>title</th>\n",
       "      <th>price</th>\n",
       "      <th>old_price</th>\n",
       "      <th>_category</th>\n",
       "      <th>_subcategory</th>\n",
       "      <th>_group</th>\n",
       "      <th>_subgroup</th>\n",
       "    </tr>\n",
       "  </thead>\n",
       "  <tbody>\n",
       "    <tr>\n",
       "      <th>8390</th>\n",
       "      <td>https://hi-tech.md/televizory-i-elektronika/smartfony-i-aksessuary/aksessuary/chehol-dlya-smartfona-becover-apple-iphone-11-704361-prozrachnyy/</td>\n",
       "      <td>Т-000093685</td>\n",
       "      <td>2024-07-03</td>\n",
       "      <td>В наличии</td>\n",
       "      <td>Чехол для смартфона BeCover Apple iPhone 11 (704361) прозрачный</td>\n",
       "      <td>99.0</td>\n",
       "      <td>NaN</td>\n",
       "      <td>err1</td>\n",
       "      <td>err1</td>\n",
       "      <td>err1</td>\n",
       "      <td>err1</td>\n",
       "    </tr>\n",
       "    <tr>\n",
       "      <th>8391</th>\n",
       "      <td>https://hi-tech.md/televizory-i-elektronika/smartfony-i-aksessuary/aksessuary/chehol-dlya-smartfona-becover-apple-iphone-13-707147-prozrachnyy/</td>\n",
       "      <td>Т-000093687</td>\n",
       "      <td>2024-07-03</td>\n",
       "      <td>В наличии</td>\n",
       "      <td>Чехол для смартфона BeCover Apple iPhone 13 (707147) прозрачный</td>\n",
       "      <td>99.0</td>\n",
       "      <td>NaN</td>\n",
       "      <td>err1</td>\n",
       "      <td>err1</td>\n",
       "      <td>err1</td>\n",
       "      <td>err1</td>\n",
       "    </tr>\n",
       "    <tr>\n",
       "      <th>8392</th>\n",
       "      <td>https://hi-tech.md/bytovaya-tehnika/melkaya-tehnika-dlya-kuhni/choppery/chopper-saturn-st-fp0062/</td>\n",
       "      <td>Т-000067213</td>\n",
       "      <td>2024-07-03</td>\n",
       "      <td>Предзаказ</td>\n",
       "      <td>чоппер Saturn ST-FP0062</td>\n",
       "      <td>499.0</td>\n",
       "      <td>NaN</td>\n",
       "      <td>err1</td>\n",
       "      <td>err1</td>\n",
       "      <td>err1</td>\n",
       "      <td>err1</td>\n",
       "    </tr>\n",
       "    <tr>\n",
       "      <th>8393</th>\n",
       "      <td>https://hi-tech.md/bytovaya-tehnika/krupnaya-tehnika-dlya-kuhni/elektro-pechi-i-duhovki/elektropech-laretti-lr-ec3910/</td>\n",
       "      <td>Т-000093796</td>\n",
       "      <td>2024-07-03</td>\n",
       "      <td>Предзаказ</td>\n",
       "      <td>Электропечь Laretti LR-EC3910</td>\n",
       "      <td>2899.0</td>\n",
       "      <td>NaN</td>\n",
       "      <td>err1</td>\n",
       "      <td>err1</td>\n",
       "      <td>err1</td>\n",
       "      <td>err1</td>\n",
       "    </tr>\n",
       "    <tr>\n",
       "      <th>8394</th>\n",
       "      <td>https://hi-tech.md/kompyuternaya-tehnika/aksessuary/dlya-planshetov/sumki-i-chehly/dlya-planshetov/chehol-dlya-plansheta-becover-premium-for-tab-a9-sm-x115-710113-deep-blue/</td>\n",
       "      <td>Т-000093692</td>\n",
       "      <td>2024-07-03</td>\n",
       "      <td>В наличии</td>\n",
       "      <td>Чехол для планшета BeCover Premium for Tab A9 SM-X115 (710113) Deep Blue</td>\n",
       "      <td>369.0</td>\n",
       "      <td>NaN</td>\n",
       "      <td>err1</td>\n",
       "      <td>err1</td>\n",
       "      <td>err1</td>\n",
       "      <td>err1</td>\n",
       "    </tr>\n",
       "    <tr>\n",
       "      <th>8395</th>\n",
       "      <td>https://hi-tech.md/kompyuternaya-tehnika/aksessuary/dlya-planshetov/sumki-i-chehly/dlya-planshetov/chehol-dlya-plansheta-becover-smart-case-for-apple-ipad-10.2-2019-2020-2021-704132-black/</td>\n",
       "      <td>Т-000093682</td>\n",
       "      <td>2024-07-03</td>\n",
       "      <td>В наличии</td>\n",
       "      <td>Чехол для планшета BeCover Smart Case for Apple iPad 10.2 2019/2020/2021 (704132) Black</td>\n",
       "      <td>399.0</td>\n",
       "      <td>NaN</td>\n",
       "      <td>err1</td>\n",
       "      <td>err1</td>\n",
       "      <td>err1</td>\n",
       "      <td>err1</td>\n",
       "    </tr>\n",
       "  </tbody>\n",
       "</table>\n",
       "</div>"
      ],
      "text/plain": [
       "                                                                                                                                                                                               url  \\\n",
       "8390                                               https://hi-tech.md/televizory-i-elektronika/smartfony-i-aksessuary/aksessuary/chehol-dlya-smartfona-becover-apple-iphone-11-704361-prozrachnyy/   \n",
       "8391                                               https://hi-tech.md/televizory-i-elektronika/smartfony-i-aksessuary/aksessuary/chehol-dlya-smartfona-becover-apple-iphone-13-707147-prozrachnyy/   \n",
       "8392                                                                                             https://hi-tech.md/bytovaya-tehnika/melkaya-tehnika-dlya-kuhni/choppery/chopper-saturn-st-fp0062/   \n",
       "8393                                                                        https://hi-tech.md/bytovaya-tehnika/krupnaya-tehnika-dlya-kuhni/elektro-pechi-i-duhovki/elektropech-laretti-lr-ec3910/   \n",
       "8394                 https://hi-tech.md/kompyuternaya-tehnika/aksessuary/dlya-planshetov/sumki-i-chehly/dlya-planshetov/chehol-dlya-plansheta-becover-premium-for-tab-a9-sm-x115-710113-deep-blue/   \n",
       "8395  https://hi-tech.md/kompyuternaya-tehnika/aksessuary/dlya-planshetov/sumki-i-chehly/dlya-planshetov/chehol-dlya-plansheta-becover-smart-case-for-apple-ipad-10.2-2019-2020-2021-704132-black/   \n",
       "\n",
       "               id       date availability  \\\n",
       "8390  Т-000093685 2024-07-03    В наличии   \n",
       "8391  Т-000093687 2024-07-03    В наличии   \n",
       "8392  Т-000067213 2024-07-03    Предзаказ   \n",
       "8393  Т-000093796 2024-07-03    Предзаказ   \n",
       "8394  Т-000093692 2024-07-03    В наличии   \n",
       "8395  Т-000093682 2024-07-03    В наличии   \n",
       "\n",
       "                                                                                        title  \\\n",
       "8390                          Чехол для смартфона BeCover Apple iPhone 11 (704361) прозрачный   \n",
       "8391                          Чехол для смартфона BeCover Apple iPhone 13 (707147) прозрачный   \n",
       "8392                                                                  чоппер Saturn ST-FP0062   \n",
       "8393                                                            Электропечь Laretti LR-EC3910   \n",
       "8394                 Чехол для планшета BeCover Premium for Tab A9 SM-X115 (710113) Deep Blue   \n",
       "8395  Чехол для планшета BeCover Smart Case for Apple iPad 10.2 2019/2020/2021 (704132) Black   \n",
       "\n",
       "       price  old_price _category _subcategory _group _subgroup  \n",
       "8390    99.0        NaN      err1         err1   err1      err1  \n",
       "8391    99.0        NaN      err1         err1   err1      err1  \n",
       "8392   499.0        NaN      err1         err1   err1      err1  \n",
       "8393  2899.0        NaN      err1         err1   err1      err1  \n",
       "8394   369.0        NaN      err1         err1   err1      err1  \n",
       "8395   399.0        NaN      err1         err1   err1      err1  "
      ]
     },
     "execution_count": 70,
     "metadata": {},
     "output_type": "execute_result"
    }
   ],
   "source": [
    "dfh[dfh['_category']=='err1']"
   ]
  },
  {
   "cell_type": "code",
   "execution_count": 71,
   "id": "742ea1d9",
   "metadata": {},
   "outputs": [
    {
     "data": {
      "text/html": [
       "<div>\n",
       "<style scoped>\n",
       "    .dataframe tbody tr th:only-of-type {\n",
       "        vertical-align: middle;\n",
       "    }\n",
       "\n",
       "    .dataframe tbody tr th {\n",
       "        vertical-align: top;\n",
       "    }\n",
       "\n",
       "    .dataframe thead th {\n",
       "        text-align: right;\n",
       "    }\n",
       "</style>\n",
       "<table border=\"1\" class=\"dataframe\">\n",
       "  <thead>\n",
       "    <tr style=\"text-align: right;\">\n",
       "      <th></th>\n",
       "      <th>url</th>\n",
       "      <th>id</th>\n",
       "      <th>date</th>\n",
       "      <th>availability</th>\n",
       "      <th>title</th>\n",
       "      <th>price</th>\n",
       "      <th>old_price</th>\n",
       "      <th>_category</th>\n",
       "      <th>_subcategory</th>\n",
       "      <th>_group</th>\n",
       "      <th>_subgroup</th>\n",
       "    </tr>\n",
       "  </thead>\n",
       "  <tbody>\n",
       "  </tbody>\n",
       "</table>\n",
       "</div>"
      ],
      "text/plain": [
       "Empty DataFrame\n",
       "Columns: [url, id, date, availability, title, price, old_price, _category, _subcategory, _group, _subgroup]\n",
       "Index: []"
      ]
     },
     "execution_count": 71,
     "metadata": {},
     "output_type": "execute_result"
    }
   ],
   "source": [
    "dfh[dfh['_category']=='err0']"
   ]
  },
  {
   "cell_type": "markdown",
   "id": "afa2ab5e",
   "metadata": {},
   "source": [
    "просмотр товаров с ошибками"
   ]
  },
  {
   "cell_type": "code",
   "execution_count": 72,
   "id": "15117f36",
   "metadata": {},
   "outputs": [
    {
     "name": "stdout",
     "output_type": "stream",
     "text": [
      "таблица имеет следующий вид:\n"
     ]
    },
    {
     "data": {
      "text/html": [
       "<div>\n",
       "<style scoped>\n",
       "    .dataframe tbody tr th:only-of-type {\n",
       "        vertical-align: middle;\n",
       "    }\n",
       "\n",
       "    .dataframe tbody tr th {\n",
       "        vertical-align: top;\n",
       "    }\n",
       "\n",
       "    .dataframe thead th {\n",
       "        text-align: right;\n",
       "    }\n",
       "</style>\n",
       "<table border=\"1\" class=\"dataframe\">\n",
       "  <thead>\n",
       "    <tr style=\"text-align: right;\">\n",
       "      <th></th>\n",
       "      <th>url</th>\n",
       "      <th>id</th>\n",
       "      <th>date</th>\n",
       "      <th>availability</th>\n",
       "      <th>title</th>\n",
       "      <th>price</th>\n",
       "      <th>old_price</th>\n",
       "      <th>_category</th>\n",
       "      <th>_subcategory</th>\n",
       "      <th>_group</th>\n",
       "      <th>_subgroup</th>\n",
       "    </tr>\n",
       "  </thead>\n",
       "  <tbody>\n",
       "    <tr>\n",
       "      <th>0</th>\n",
       "      <td>https://hi-tech.md/bytovaya-tehnika/klimaticheskaya-tehnika/kondicionery/kondicioner-electrolux-eacs-07hat-n321y/</td>\n",
       "      <td>Т-000078544</td>\n",
       "      <td>2024-07-03</td>\n",
       "      <td>В наличии</td>\n",
       "      <td>кондиционер Electrolux EACS-07HAT/N3_21Y</td>\n",
       "      <td>3999.0</td>\n",
       "      <td>NaN</td>\n",
       "      <td>H_акция</td>\n",
       "      <td>H_рассрочка_12_месяцев___без_переплаты!</td>\n",
       "      <td>H_рассрочка_12_месяцев___без_переплаты!</td>\n",
       "      <td>H_рассрочка_12_месяцев___без_переплаты!</td>\n",
       "    </tr>\n",
       "    <tr>\n",
       "      <th>1</th>\n",
       "      <td>https://hi-tech.md/bytovaya-tehnika/aksessuary-dlya-melkoy-bytovoy-tehniki/aksessuary-dlya-zubnyh-schetok/nasadka-d-zub-schetki-panasonic-ew0940w830-2sht/</td>\n",
       "      <td>Т-000056675</td>\n",
       "      <td>2024-07-03</td>\n",
       "      <td>В наличии</td>\n",
       "      <td>насадка д/Зубная щетка Panasonic EW0940W830 2шт</td>\n",
       "      <td>34.0</td>\n",
       "      <td>68.0</td>\n",
       "      <td>H_бытовая_техника</td>\n",
       "      <td>H_аксессуары_для_мелкой_бытовой_техники</td>\n",
       "      <td>H_аксессуары_для_зубных_щеток</td>\n",
       "      <td>H_аксессуары_для_зубных_щеток</td>\n",
       "    </tr>\n",
       "    <tr>\n",
       "      <th>2</th>\n",
       "      <td>https://hi-tech.md/bytovaya-tehnika/aksessuary-dlya-melkoy-bytovoy-tehniki/aksessuary-dlya-zubnyh-schetok/nasadka-d-zub-schetki-braun-eb10-2k-kids-frozen-1sht/</td>\n",
       "      <td>Т-000021198</td>\n",
       "      <td>2024-07-03</td>\n",
       "      <td>В наличии</td>\n",
       "      <td>насадка д/Зубная щетка Braun EB10 Kids Frozen (1шт)</td>\n",
       "      <td>94.0</td>\n",
       "      <td>NaN</td>\n",
       "      <td>H_бытовая_техника</td>\n",
       "      <td>H_аксессуары_для_мелкой_бытовой_техники</td>\n",
       "      <td>H_аксессуары_для_зубных_щеток</td>\n",
       "      <td>H_аксессуары_для_зубных_щеток</td>\n",
       "    </tr>\n",
       "    <tr>\n",
       "      <th>3</th>\n",
       "      <td>https://hi-tech.md/bytovaya-tehnika/aksessuary-dlya-melkoy-bytovoy-tehniki/aksessuary-dlya-zubnyh-schetok/nasadka-d-zub-schetki-braun-eb18-3d-white-1sht/</td>\n",
       "      <td>Т-000068433</td>\n",
       "      <td>2024-07-03</td>\n",
       "      <td>В наличии</td>\n",
       "      <td>насадка д/Зубная щетка Braun EB18 3D White (1шт)</td>\n",
       "      <td>94.0</td>\n",
       "      <td>NaN</td>\n",
       "      <td>H_бытовая_техника</td>\n",
       "      <td>H_аксессуары_для_мелкой_бытовой_техники</td>\n",
       "      <td>H_аксессуары_для_зубных_щеток</td>\n",
       "      <td>H_аксессуары_для_зубных_щеток</td>\n",
       "    </tr>\n",
       "    <tr>\n",
       "      <th>4</th>\n",
       "      <td>https://hi-tech.md/bytovaya-tehnika/aksessuary-dlya-melkoy-bytovoy-tehniki/aksessuary-dlya-zubnyh-schetok/nasadka-d-zub-schetki-braun-eb20rb-10-1sht/</td>\n",
       "      <td>Т-000068766</td>\n",
       "      <td>2024-07-03</td>\n",
       "      <td>В наличии</td>\n",
       "      <td>насадка д/Зубная щетка Braun EB20 Precision Clean (1шт)</td>\n",
       "      <td>94.0</td>\n",
       "      <td>NaN</td>\n",
       "      <td>H_бытовая_техника</td>\n",
       "      <td>H_аксессуары_для_мелкой_бытовой_техники</td>\n",
       "      <td>H_аксессуары_для_зубных_щеток</td>\n",
       "      <td>H_аксессуары_для_зубных_щеток</td>\n",
       "    </tr>\n",
       "  </tbody>\n",
       "</table>\n",
       "</div>"
      ],
      "text/plain": [
       "                                                                                                                                                               url  \\\n",
       "0                                                https://hi-tech.md/bytovaya-tehnika/klimaticheskaya-tehnika/kondicionery/kondicioner-electrolux-eacs-07hat-n321y/   \n",
       "1       https://hi-tech.md/bytovaya-tehnika/aksessuary-dlya-melkoy-bytovoy-tehniki/aksessuary-dlya-zubnyh-schetok/nasadka-d-zub-schetki-panasonic-ew0940w830-2sht/   \n",
       "2  https://hi-tech.md/bytovaya-tehnika/aksessuary-dlya-melkoy-bytovoy-tehniki/aksessuary-dlya-zubnyh-schetok/nasadka-d-zub-schetki-braun-eb10-2k-kids-frozen-1sht/   \n",
       "3        https://hi-tech.md/bytovaya-tehnika/aksessuary-dlya-melkoy-bytovoy-tehniki/aksessuary-dlya-zubnyh-schetok/nasadka-d-zub-schetki-braun-eb18-3d-white-1sht/   \n",
       "4            https://hi-tech.md/bytovaya-tehnika/aksessuary-dlya-melkoy-bytovoy-tehniki/aksessuary-dlya-zubnyh-schetok/nasadka-d-zub-schetki-braun-eb20rb-10-1sht/   \n",
       "\n",
       "            id       date availability  \\\n",
       "0  Т-000078544 2024-07-03    В наличии   \n",
       "1  Т-000056675 2024-07-03    В наличии   \n",
       "2  Т-000021198 2024-07-03    В наличии   \n",
       "3  Т-000068433 2024-07-03    В наличии   \n",
       "4  Т-000068766 2024-07-03    В наличии   \n",
       "\n",
       "                                                     title   price  old_price  \\\n",
       "0                 кондиционер Electrolux EACS-07HAT/N3_21Y  3999.0        NaN   \n",
       "1          насадка д/Зубная щетка Panasonic EW0940W830 2шт    34.0       68.0   \n",
       "2      насадка д/Зубная щетка Braun EB10 Kids Frozen (1шт)    94.0        NaN   \n",
       "3         насадка д/Зубная щетка Braun EB18 3D White (1шт)    94.0        NaN   \n",
       "4  насадка д/Зубная щетка Braun EB20 Precision Clean (1шт)    94.0        NaN   \n",
       "\n",
       "           _category                             _subcategory  \\\n",
       "0            H_акция  H_рассрочка_12_месяцев___без_переплаты!   \n",
       "1  H_бытовая_техника  H_аксессуары_для_мелкой_бытовой_техники   \n",
       "2  H_бытовая_техника  H_аксессуары_для_мелкой_бытовой_техники   \n",
       "3  H_бытовая_техника  H_аксессуары_для_мелкой_бытовой_техники   \n",
       "4  H_бытовая_техника  H_аксессуары_для_мелкой_бытовой_техники   \n",
       "\n",
       "                                    _group  \\\n",
       "0  H_рассрочка_12_месяцев___без_переплаты!   \n",
       "1            H_аксессуары_для_зубных_щеток   \n",
       "2            H_аксессуары_для_зубных_щеток   \n",
       "3            H_аксессуары_для_зубных_щеток   \n",
       "4            H_аксессуары_для_зубных_щеток   \n",
       "\n",
       "                                 _subgroup  \n",
       "0  H_рассрочка_12_месяцев___без_переплаты!  \n",
       "1            H_аксессуары_для_зубных_щеток  \n",
       "2            H_аксессуары_для_зубных_щеток  \n",
       "3            H_аксессуары_для_зубных_щеток  \n",
       "4            H_аксессуары_для_зубных_щеток  "
      ]
     },
     "metadata": {},
     "output_type": "display_data"
    },
    {
     "name": "stdout",
     "output_type": "stream",
     "text": [
      "****************************************************************************************************\n",
      "таблица имеет 8396 сторок и 11 столбцов\n",
      "****************************************************************************************************\n",
      "в таблице обнаружено дублекатов:0\n",
      "****************************************************************************************************\n",
      "в таблице обнаружены пропуски в следующих столбцах:\n"
     ]
    },
    {
     "data": {
      "text/plain": [
       "url                0\n",
       "id                 0\n",
       "date               0\n",
       "availability       0\n",
       "title              0\n",
       "price              0\n",
       "old_price       6271\n",
       "_category          0\n",
       "_subcategory       0\n",
       "_group             0\n",
       "_subgroup          0\n",
       "dtype: int64"
      ]
     },
     "metadata": {},
     "output_type": "display_data"
    },
    {
     "name": "stdout",
     "output_type": "stream",
     "text": [
      "****************************************************************************************************\n",
      "Эти пропуски составлябт следующее количество в процентах\n"
     ]
    },
    {
     "data": {
      "text/plain": [
       "url              0.0\n",
       "id               0.0\n",
       "date             0.0\n",
       "availability     0.0\n",
       "title            0.0\n",
       "price            0.0\n",
       "old_price       74.7\n",
       "_category        0.0\n",
       "_subcategory     0.0\n",
       "_group           0.0\n",
       "_subgroup        0.0\n",
       "dtype: float64"
      ]
     },
     "metadata": {},
     "output_type": "display_data"
    },
    {
     "name": "stdout",
     "output_type": "stream",
     "text": [
      "****************************************************************************************************\n",
      "столбцы имеют следующие типы:\n"
     ]
    },
    {
     "data": {
      "text/plain": [
       "url                     object\n",
       "id                      object\n",
       "date            datetime64[ns]\n",
       "availability            object\n",
       "title                   object\n",
       "price                  float64\n",
       "old_price              float64\n",
       "_category               object\n",
       "_subcategory            object\n",
       "_group                  object\n",
       "_subgroup               object\n",
       "dtype: object"
      ]
     },
     "metadata": {},
     "output_type": "display_data"
    },
    {
     "name": "stdout",
     "output_type": "stream",
     "text": [
      "****************************************************************************************************\n",
      "названия столбцов переписаны в нижнем регистре, пробелы заменены на нижнее подчеркивание\n",
      "****************************************************************************************************\n",
      "<class 'pandas.core.frame.DataFrame'>\n",
      "RangeIndex: 8396 entries, 0 to 8395\n",
      "Data columns (total 11 columns):\n",
      " #   Column        Non-Null Count  Dtype         \n",
      "---  ------        --------------  -----         \n",
      " 0   url           8396 non-null   object        \n",
      " 1   id            8396 non-null   object        \n",
      " 2   date          8396 non-null   datetime64[ns]\n",
      " 3   availability  8396 non-null   object        \n",
      " 4   title         8396 non-null   object        \n",
      " 5   price         8396 non-null   float64       \n",
      " 6   old_price     2125 non-null   float64       \n",
      " 7   _category     8396 non-null   object        \n",
      " 8   _subcategory  8396 non-null   object        \n",
      " 9   _group        8396 non-null   object        \n",
      " 10  _subgroup     8396 non-null   object        \n",
      "dtypes: datetime64[ns](1), float64(2), object(8)\n",
      "memory usage: 721.7+ KB\n"
     ]
    },
    {
     "data": {
      "text/plain": [
       "None"
      ]
     },
     "metadata": {},
     "output_type": "display_data"
    }
   ],
   "source": [
    "preprocessing(dfh)"
   ]
  },
  {
   "cell_type": "markdown",
   "id": "5e052a2e",
   "metadata": {},
   "source": [
    "просмотр данных о таблице"
   ]
  },
  {
   "cell_type": "markdown",
   "id": "3bd3c292",
   "metadata": {},
   "source": [
    "dfh.to_csv('csv/hi_tech_test_'+dt.datetime.now().strftime('%Y_%m_%d')+'.csv', index=False)"
   ]
  },
  {
   "cell_type": "markdown",
   "id": "ad0bf190",
   "metadata": {},
   "source": [
    "создание резервной копии парсинга данных"
   ]
  },
  {
   "cell_type": "markdown",
   "id": "df9287a9",
   "metadata": {},
   "source": [
    "dfh = pd.read_csv('csv/hi_tech_test_'+dt.datetime.now().strftime('%Y_%m_%d')+'.csv')"
   ]
  },
  {
   "cell_type": "markdown",
   "id": "4c5e22f3",
   "metadata": {},
   "source": [
    "загрузка резервной копии парсинга данных"
   ]
  },
  {
   "cell_type": "code",
   "execution_count": 73,
   "id": "e79ad13a",
   "metadata": {},
   "outputs": [
    {
     "data": {
      "text/html": [
       "<div>\n",
       "<style scoped>\n",
       "    .dataframe tbody tr th:only-of-type {\n",
       "        vertical-align: middle;\n",
       "    }\n",
       "\n",
       "    .dataframe tbody tr th {\n",
       "        vertical-align: top;\n",
       "    }\n",
       "\n",
       "    .dataframe thead th {\n",
       "        text-align: right;\n",
       "    }\n",
       "</style>\n",
       "<table border=\"1\" class=\"dataframe\">\n",
       "  <thead>\n",
       "    <tr style=\"text-align: right;\">\n",
       "      <th></th>\n",
       "      <th>url</th>\n",
       "      <th>id</th>\n",
       "      <th>date</th>\n",
       "      <th>availability</th>\n",
       "      <th>title</th>\n",
       "      <th>price</th>\n",
       "      <th>old_price</th>\n",
       "      <th>_category</th>\n",
       "      <th>_subcategory</th>\n",
       "      <th>_group</th>\n",
       "      <th>_subgroup</th>\n",
       "    </tr>\n",
       "  </thead>\n",
       "  <tbody>\n",
       "    <tr>\n",
       "      <th>0</th>\n",
       "      <td>https://hi-tech.md/bytovaya-tehnika/klimaticheskaya-tehnika/kondicionery/kondicioner-electrolux-eacs-07hat-n321y/</td>\n",
       "      <td>Т-000078544</td>\n",
       "      <td>2024-07-03</td>\n",
       "      <td>В наличии</td>\n",
       "      <td>кондиционер Electrolux EACS-07HAT/N3_21Y</td>\n",
       "      <td>3999.0</td>\n",
       "      <td>NaN</td>\n",
       "      <td>H_акция</td>\n",
       "      <td>H_рассрочка_12_месяцев___без_переплаты!</td>\n",
       "      <td>H_рассрочка_12_месяцев___без_переплаты!</td>\n",
       "      <td>H_рассрочка_12_месяцев___без_переплаты!</td>\n",
       "    </tr>\n",
       "    <tr>\n",
       "      <th>1</th>\n",
       "      <td>https://hi-tech.md/bytovaya-tehnika/aksessuary-dlya-melkoy-bytovoy-tehniki/aksessuary-dlya-zubnyh-schetok/nasadka-d-zub-schetki-panasonic-ew0940w830-2sht/</td>\n",
       "      <td>Т-000056675</td>\n",
       "      <td>2024-07-03</td>\n",
       "      <td>В наличии</td>\n",
       "      <td>насадка д/Зубная щетка Panasonic EW0940W830 2шт</td>\n",
       "      <td>34.0</td>\n",
       "      <td>68.0</td>\n",
       "      <td>H_бытовая_техника</td>\n",
       "      <td>H_аксессуары_для_мелкой_бытовой_техники</td>\n",
       "      <td>H_аксессуары_для_зубных_щеток</td>\n",
       "      <td>H_аксессуары_для_зубных_щеток</td>\n",
       "    </tr>\n",
       "  </tbody>\n",
       "</table>\n",
       "</div>"
      ],
      "text/plain": [
       "                                                                                                                                                          url  \\\n",
       "0                                           https://hi-tech.md/bytovaya-tehnika/klimaticheskaya-tehnika/kondicionery/kondicioner-electrolux-eacs-07hat-n321y/   \n",
       "1  https://hi-tech.md/bytovaya-tehnika/aksessuary-dlya-melkoy-bytovoy-tehniki/aksessuary-dlya-zubnyh-schetok/nasadka-d-zub-schetki-panasonic-ew0940w830-2sht/   \n",
       "\n",
       "            id       date availability  \\\n",
       "0  Т-000078544 2024-07-03    В наличии   \n",
       "1  Т-000056675 2024-07-03    В наличии   \n",
       "\n",
       "                                             title   price  old_price  \\\n",
       "0         кондиционер Electrolux EACS-07HAT/N3_21Y  3999.0        NaN   \n",
       "1  насадка д/Зубная щетка Panasonic EW0940W830 2шт    34.0       68.0   \n",
       "\n",
       "           _category                             _subcategory  \\\n",
       "0            H_акция  H_рассрочка_12_месяцев___без_переплаты!   \n",
       "1  H_бытовая_техника  H_аксессуары_для_мелкой_бытовой_техники   \n",
       "\n",
       "                                    _group  \\\n",
       "0  H_рассрочка_12_месяцев___без_переплаты!   \n",
       "1            H_аксессуары_для_зубных_щеток   \n",
       "\n",
       "                                 _subgroup  \n",
       "0  H_рассрочка_12_месяцев___без_переплаты!  \n",
       "1            H_аксессуары_для_зубных_щеток  "
      ]
     },
     "execution_count": 73,
     "metadata": {},
     "output_type": "execute_result"
    }
   ],
   "source": [
    "dfh.head(2)"
   ]
  },
  {
   "cell_type": "code",
   "execution_count": 74,
   "id": "e007213d",
   "metadata": {},
   "outputs": [],
   "source": [
    "dfh['error_group'] = 0\n",
    "dfh.loc[dfh['_subgroup'].isna(), 'error_group'] = 1\n",
    "dfh.loc[dfh['_subgroup']=='err0', 'error_group'] = 1\n",
    "dfh.loc[dfh['_subgroup']=='err1', 'error_group'] = 1"
   ]
  },
  {
   "cell_type": "markdown",
   "id": "c6475ce8",
   "metadata": {},
   "source": [
    "Создание столбцов с флагом ошибки для товаров, для которых нет данных по остаткам хотябы в одном магазине"
   ]
  },
  {
   "cell_type": "code",
   "execution_count": 75,
   "id": "bd3fe729",
   "metadata": {},
   "outputs": [],
   "source": [
    "dfh.loc[dfh['error_group']==1 , ['_category',\n",
    "       '_subcategory', '_group', '_subgroup']] = 'H_no_group'"
   ]
  },
  {
   "cell_type": "markdown",
   "id": "95bf7a26",
   "metadata": {},
   "source": [
    "удаление наличия товара в магазинах и наименовании группы если у товара есть ошибки в этих данны"
   ]
  },
  {
   "cell_type": "markdown",
   "id": "76eb939c",
   "metadata": {},
   "source": [
    "Изменение типов данных столбцов наличия товара в определенном магазине на тип данных `float`  и создания столбцов по наличию товара в магазинах городов"
   ]
  },
  {
   "cell_type": "code",
   "execution_count": 76,
   "id": "2cc0d63f",
   "metadata": {},
   "outputs": [],
   "source": [
    "dfh = dfh[['url', 'id', '_category', '_subcategory', '_group', '_subgroup', 'title',\n",
    "               'date',   'price', 'old_price', 'availability', 'error_group', ]]"
   ]
  },
  {
   "cell_type": "markdown",
   "id": "dbe487ad",
   "metadata": {},
   "source": [
    "изменение порядка располажения столбцов"
   ]
  },
  {
   "cell_type": "code",
   "execution_count": 77,
   "id": "bfa9ccac",
   "metadata": {},
   "outputs": [
    {
     "name": "stdout",
     "output_type": "stream",
     "text": [
      "таблица имеет следующий вид:\n"
     ]
    },
    {
     "data": {
      "text/html": [
       "<div>\n",
       "<style scoped>\n",
       "    .dataframe tbody tr th:only-of-type {\n",
       "        vertical-align: middle;\n",
       "    }\n",
       "\n",
       "    .dataframe tbody tr th {\n",
       "        vertical-align: top;\n",
       "    }\n",
       "\n",
       "    .dataframe thead th {\n",
       "        text-align: right;\n",
       "    }\n",
       "</style>\n",
       "<table border=\"1\" class=\"dataframe\">\n",
       "  <thead>\n",
       "    <tr style=\"text-align: right;\">\n",
       "      <th></th>\n",
       "      <th>url</th>\n",
       "      <th>id</th>\n",
       "      <th>_category</th>\n",
       "      <th>_subcategory</th>\n",
       "      <th>_group</th>\n",
       "      <th>_subgroup</th>\n",
       "      <th>title</th>\n",
       "      <th>date</th>\n",
       "      <th>price</th>\n",
       "      <th>old_price</th>\n",
       "      <th>availability</th>\n",
       "      <th>error_group</th>\n",
       "    </tr>\n",
       "  </thead>\n",
       "  <tbody>\n",
       "    <tr>\n",
       "      <th>0</th>\n",
       "      <td>https://hi-tech.md/bytovaya-tehnika/klimaticheskaya-tehnika/kondicionery/kondicioner-electrolux-eacs-07hat-n321y/</td>\n",
       "      <td>Т-000078544</td>\n",
       "      <td>H_акция</td>\n",
       "      <td>H_рассрочка_12_месяцев___без_переплаты!</td>\n",
       "      <td>H_рассрочка_12_месяцев___без_переплаты!</td>\n",
       "      <td>H_рассрочка_12_месяцев___без_переплаты!</td>\n",
       "      <td>кондиционер Electrolux EACS-07HAT/N3_21Y</td>\n",
       "      <td>2024-07-03</td>\n",
       "      <td>3999.0</td>\n",
       "      <td>NaN</td>\n",
       "      <td>В наличии</td>\n",
       "      <td>0</td>\n",
       "    </tr>\n",
       "    <tr>\n",
       "      <th>1</th>\n",
       "      <td>https://hi-tech.md/bytovaya-tehnika/aksessuary-dlya-melkoy-bytovoy-tehniki/aksessuary-dlya-zubnyh-schetok/nasadka-d-zub-schetki-panasonic-ew0940w830-2sht/</td>\n",
       "      <td>Т-000056675</td>\n",
       "      <td>H_бытовая_техника</td>\n",
       "      <td>H_аксессуары_для_мелкой_бытовой_техники</td>\n",
       "      <td>H_аксессуары_для_зубных_щеток</td>\n",
       "      <td>H_аксессуары_для_зубных_щеток</td>\n",
       "      <td>насадка д/Зубная щетка Panasonic EW0940W830 2шт</td>\n",
       "      <td>2024-07-03</td>\n",
       "      <td>34.0</td>\n",
       "      <td>68.0</td>\n",
       "      <td>В наличии</td>\n",
       "      <td>0</td>\n",
       "    </tr>\n",
       "    <tr>\n",
       "      <th>2</th>\n",
       "      <td>https://hi-tech.md/bytovaya-tehnika/aksessuary-dlya-melkoy-bytovoy-tehniki/aksessuary-dlya-zubnyh-schetok/nasadka-d-zub-schetki-braun-eb10-2k-kids-frozen-1sht/</td>\n",
       "      <td>Т-000021198</td>\n",
       "      <td>H_бытовая_техника</td>\n",
       "      <td>H_аксессуары_для_мелкой_бытовой_техники</td>\n",
       "      <td>H_аксессуары_для_зубных_щеток</td>\n",
       "      <td>H_аксессуары_для_зубных_щеток</td>\n",
       "      <td>насадка д/Зубная щетка Braun EB10 Kids Frozen (1шт)</td>\n",
       "      <td>2024-07-03</td>\n",
       "      <td>94.0</td>\n",
       "      <td>NaN</td>\n",
       "      <td>В наличии</td>\n",
       "      <td>0</td>\n",
       "    </tr>\n",
       "    <tr>\n",
       "      <th>3</th>\n",
       "      <td>https://hi-tech.md/bytovaya-tehnika/aksessuary-dlya-melkoy-bytovoy-tehniki/aksessuary-dlya-zubnyh-schetok/nasadka-d-zub-schetki-braun-eb18-3d-white-1sht/</td>\n",
       "      <td>Т-000068433</td>\n",
       "      <td>H_бытовая_техника</td>\n",
       "      <td>H_аксессуары_для_мелкой_бытовой_техники</td>\n",
       "      <td>H_аксессуары_для_зубных_щеток</td>\n",
       "      <td>H_аксессуары_для_зубных_щеток</td>\n",
       "      <td>насадка д/Зубная щетка Braun EB18 3D White (1шт)</td>\n",
       "      <td>2024-07-03</td>\n",
       "      <td>94.0</td>\n",
       "      <td>NaN</td>\n",
       "      <td>В наличии</td>\n",
       "      <td>0</td>\n",
       "    </tr>\n",
       "    <tr>\n",
       "      <th>4</th>\n",
       "      <td>https://hi-tech.md/bytovaya-tehnika/aksessuary-dlya-melkoy-bytovoy-tehniki/aksessuary-dlya-zubnyh-schetok/nasadka-d-zub-schetki-braun-eb20rb-10-1sht/</td>\n",
       "      <td>Т-000068766</td>\n",
       "      <td>H_бытовая_техника</td>\n",
       "      <td>H_аксессуары_для_мелкой_бытовой_техники</td>\n",
       "      <td>H_аксессуары_для_зубных_щеток</td>\n",
       "      <td>H_аксессуары_для_зубных_щеток</td>\n",
       "      <td>насадка д/Зубная щетка Braun EB20 Precision Clean (1шт)</td>\n",
       "      <td>2024-07-03</td>\n",
       "      <td>94.0</td>\n",
       "      <td>NaN</td>\n",
       "      <td>В наличии</td>\n",
       "      <td>0</td>\n",
       "    </tr>\n",
       "  </tbody>\n",
       "</table>\n",
       "</div>"
      ],
      "text/plain": [
       "                                                                                                                                                               url  \\\n",
       "0                                                https://hi-tech.md/bytovaya-tehnika/klimaticheskaya-tehnika/kondicionery/kondicioner-electrolux-eacs-07hat-n321y/   \n",
       "1       https://hi-tech.md/bytovaya-tehnika/aksessuary-dlya-melkoy-bytovoy-tehniki/aksessuary-dlya-zubnyh-schetok/nasadka-d-zub-schetki-panasonic-ew0940w830-2sht/   \n",
       "2  https://hi-tech.md/bytovaya-tehnika/aksessuary-dlya-melkoy-bytovoy-tehniki/aksessuary-dlya-zubnyh-schetok/nasadka-d-zub-schetki-braun-eb10-2k-kids-frozen-1sht/   \n",
       "3        https://hi-tech.md/bytovaya-tehnika/aksessuary-dlya-melkoy-bytovoy-tehniki/aksessuary-dlya-zubnyh-schetok/nasadka-d-zub-schetki-braun-eb18-3d-white-1sht/   \n",
       "4            https://hi-tech.md/bytovaya-tehnika/aksessuary-dlya-melkoy-bytovoy-tehniki/aksessuary-dlya-zubnyh-schetok/nasadka-d-zub-schetki-braun-eb20rb-10-1sht/   \n",
       "\n",
       "            id          _category                             _subcategory  \\\n",
       "0  Т-000078544            H_акция  H_рассрочка_12_месяцев___без_переплаты!   \n",
       "1  Т-000056675  H_бытовая_техника  H_аксессуары_для_мелкой_бытовой_техники   \n",
       "2  Т-000021198  H_бытовая_техника  H_аксессуары_для_мелкой_бытовой_техники   \n",
       "3  Т-000068433  H_бытовая_техника  H_аксессуары_для_мелкой_бытовой_техники   \n",
       "4  Т-000068766  H_бытовая_техника  H_аксессуары_для_мелкой_бытовой_техники   \n",
       "\n",
       "                                    _group  \\\n",
       "0  H_рассрочка_12_месяцев___без_переплаты!   \n",
       "1            H_аксессуары_для_зубных_щеток   \n",
       "2            H_аксессуары_для_зубных_щеток   \n",
       "3            H_аксессуары_для_зубных_щеток   \n",
       "4            H_аксессуары_для_зубных_щеток   \n",
       "\n",
       "                                 _subgroup  \\\n",
       "0  H_рассрочка_12_месяцев___без_переплаты!   \n",
       "1            H_аксессуары_для_зубных_щеток   \n",
       "2            H_аксессуары_для_зубных_щеток   \n",
       "3            H_аксессуары_для_зубных_щеток   \n",
       "4            H_аксессуары_для_зубных_щеток   \n",
       "\n",
       "                                                     title       date   price  \\\n",
       "0                 кондиционер Electrolux EACS-07HAT/N3_21Y 2024-07-03  3999.0   \n",
       "1          насадка д/Зубная щетка Panasonic EW0940W830 2шт 2024-07-03    34.0   \n",
       "2      насадка д/Зубная щетка Braun EB10 Kids Frozen (1шт) 2024-07-03    94.0   \n",
       "3         насадка д/Зубная щетка Braun EB18 3D White (1шт) 2024-07-03    94.0   \n",
       "4  насадка д/Зубная щетка Braun EB20 Precision Clean (1шт) 2024-07-03    94.0   \n",
       "\n",
       "   old_price availability  error_group  \n",
       "0        NaN    В наличии            0  \n",
       "1       68.0    В наличии            0  \n",
       "2        NaN    В наличии            0  \n",
       "3        NaN    В наличии            0  \n",
       "4        NaN    В наличии            0  "
      ]
     },
     "metadata": {},
     "output_type": "display_data"
    },
    {
     "name": "stdout",
     "output_type": "stream",
     "text": [
      "****************************************************************************************************\n",
      "таблица имеет 8396 сторок и 12 столбцов\n",
      "****************************************************************************************************\n",
      "в таблице обнаружено дублекатов:0\n",
      "****************************************************************************************************\n",
      "в таблице обнаружены пропуски в следующих столбцах:\n"
     ]
    },
    {
     "data": {
      "text/plain": [
       "url                0\n",
       "id                 0\n",
       "_category          0\n",
       "_subcategory       0\n",
       "_group             0\n",
       "_subgroup          0\n",
       "title              0\n",
       "date               0\n",
       "price              0\n",
       "old_price       6271\n",
       "availability       0\n",
       "error_group        0\n",
       "dtype: int64"
      ]
     },
     "metadata": {},
     "output_type": "display_data"
    },
    {
     "name": "stdout",
     "output_type": "stream",
     "text": [
      "****************************************************************************************************\n",
      "Эти пропуски составлябт следующее количество в процентах\n"
     ]
    },
    {
     "data": {
      "text/plain": [
       "url              0.0\n",
       "id               0.0\n",
       "_category        0.0\n",
       "_subcategory     0.0\n",
       "_group           0.0\n",
       "_subgroup        0.0\n",
       "title            0.0\n",
       "date             0.0\n",
       "price            0.0\n",
       "old_price       74.7\n",
       "availability     0.0\n",
       "error_group      0.0\n",
       "dtype: float64"
      ]
     },
     "metadata": {},
     "output_type": "display_data"
    },
    {
     "name": "stdout",
     "output_type": "stream",
     "text": [
      "****************************************************************************************************\n",
      "столбцы имеют следующие типы:\n"
     ]
    },
    {
     "data": {
      "text/plain": [
       "url                     object\n",
       "id                      object\n",
       "_category               object\n",
       "_subcategory            object\n",
       "_group                  object\n",
       "_subgroup               object\n",
       "title                   object\n",
       "date            datetime64[ns]\n",
       "price                  float64\n",
       "old_price              float64\n",
       "availability            object\n",
       "error_group              int64\n",
       "dtype: object"
      ]
     },
     "metadata": {},
     "output_type": "display_data"
    },
    {
     "name": "stdout",
     "output_type": "stream",
     "text": [
      "****************************************************************************************************\n",
      "названия столбцов переписаны в нижнем регистре, пробелы заменены на нижнее подчеркивание\n",
      "****************************************************************************************************\n",
      "<class 'pandas.core.frame.DataFrame'>\n",
      "RangeIndex: 8396 entries, 0 to 8395\n",
      "Data columns (total 12 columns):\n",
      " #   Column        Non-Null Count  Dtype         \n",
      "---  ------        --------------  -----         \n",
      " 0   url           8396 non-null   object        \n",
      " 1   id            8396 non-null   object        \n",
      " 2   _category     8396 non-null   object        \n",
      " 3   _subcategory  8396 non-null   object        \n",
      " 4   _group        8396 non-null   object        \n",
      " 5   _subgroup     8396 non-null   object        \n",
      " 6   title         8396 non-null   object        \n",
      " 7   date          8396 non-null   datetime64[ns]\n",
      " 8   price         8396 non-null   float64       \n",
      " 9   old_price     2125 non-null   float64       \n",
      " 10  availability  8396 non-null   object        \n",
      " 11  error_group   8396 non-null   int64         \n",
      "dtypes: datetime64[ns](1), float64(2), int64(1), object(8)\n",
      "memory usage: 787.3+ KB\n"
     ]
    },
    {
     "data": {
      "text/plain": [
       "None"
      ]
     },
     "metadata": {},
     "output_type": "display_data"
    }
   ],
   "source": [
    "preprocessing(dfh)"
   ]
  },
  {
   "cell_type": "markdown",
   "id": "23ddbd1e",
   "metadata": {},
   "source": [
    "просмотр данных после парсинга"
   ]
  },
  {
   "cell_type": "markdown",
   "id": "1c22a8c4",
   "metadata": {},
   "source": [
    "# Группировка товара"
   ]
  },
  {
   "cell_type": "markdown",
   "id": "01f53120",
   "metadata": {},
   "source": [
    "- разобраться с креслами в ногруп"
   ]
  },
  {
   "cell_type": "code",
   "execution_count": 78,
   "id": "cec421d4",
   "metadata": {},
   "outputs": [],
   "source": [
    "dfh.loc[dfh['_category']=='H_товар_без_акции', '_category'] = 'H_no_group'\n",
    "dfh.loc[dfh['_category']=='H_товар_по_акции', '_category'] = 'H_no_group'\n",
    "dfh.loc[dfh['_subcategory']=='H_мультимедиа', '_subcategory'] = 'H_аудиосистемы'\n",
    "dfh.loc[dfh['_group']=='H_акустические_системы', '_group'] = 'H_акустика'\n",
    "dfh.loc[dfh['_group']=='H_музыкальная_техника', '_group'] = 'H_акустика'\n",
    "dfh.loc[dfh['_subcategory']=='H_умный_дом_с_яндекс','_subcategory'] = 'H_аудиосистемы'\n",
    "dfh.loc[dfh['_group']=='H_яндекс_станции', '_group'] = 'H_акустика'\n",
    "dfh.loc[dfh['_group']=='H_airpods', '_subcategory'] = 'H_аудиосистемы'\n",
    "dfh.loc[dfh['_group']=='H_airpods', '_group'] = 'H_наушники'\n",
    "dfh.loc[dfh['_group']=='H_apple_watch', '_group'] = 'H_часы_и_браслеты'\n",
    "dfh.loc[dfh['_group']=='H_iphone', '_group'] = 'H_смартфоны'\n",
    "dfh.loc[dfh['_group']=='H_ipad', '_group'] = 'H_планшеты'\n",
    "dfh.loc[dfh['_group']=='H_macbook', '_group'] = 'H_ноутбуки'\n",
    "dfh.loc[dfh['_group']=='H_imac', '_group'] = 'H_моноблоки'\n",
    "dfh.loc[dfh['_group']=='H_часы_и_браслеты', '_subcategory'] = 'H_гаджеты'\n",
    "dfh.loc[dfh['_group']=='H_смартфоны', '_subcategory'] = 'H_смартфоны_и_аксессуары'\n",
    "dfh.loc[dfh['_group']=='H_планшеты', '_subcategory'] = 'H_готовые_решения'\n",
    "dfh.loc[dfh['_group']=='H_ноутбуки', '_subcategory'] = 'H_готовые_решения'\n",
    "dfh.loc[dfh['_group']=='H_моноблоки', '_subcategory'] = 'H_готовые_решения'\n",
    "dfh.loc[dfh['_subcategory']=='H_стиральные_и_сушильные_машины', '_group'] = 'H_стиральные_машины'\n",
    "dfh.loc[dfh['_subgroup']=='H_сушильные_машины', '_group'] = 'H_сушильные_машины'\n",
    "dfh.loc[dfh['_subgroup']=='H_наклейки', '_group'] = 'H_наклейки'\n",
    "dfh.loc[dfh['_subgroup']=='H_подставки', '_group'] = 'H_подставки'\n",
    "dfh.loc[dfh['_subgroup']=='H_замки', '_group'] = 'H_замки'\n",
    "dfh.loc[dfh['_subgroup']=='H_usb_hub', '_group'] = 'H_usb_hub'\n",
    "dfh.loc[dfh['_subgroup']=='H_сумки_и_чехлы', '_group'] = 'H_сумки_и_чехлы'\n",
    "dfh.loc[dfh['_subgroup']=='H_защитные_стекла', '_group'] = 'H_защитные_стекла'\n",
    "dfh.loc[dfh['_subcategory']=='H_мониторы','_group'] = 'H_мониторы'"
   ]
  },
  {
   "cell_type": "code",
   "execution_count": 79,
   "id": "517b0314",
   "metadata": {
    "scrolled": false
   },
   "outputs": [
    {
     "name": "stdout",
     "output_type": "stream",
     "text": [
      "H_акция\n",
      "['H_рассрочка_12_месяцев___без_переплаты!']\n",
      "----------------------------------------------------------------------------------------------------\n",
      "H_бытовая_техника\n",
      "['H_аксессуары_для_мелкой_бытовой_техники' 'H_климатическая_техника'\n",
      " 'H_крупная_техника_для_кухни' 'H_мелкая_техника_для_кухни' 'H_минимойки'\n",
      " 'H_приготовление_напитков' 'H_приготовление_пищи'\n",
      " 'H_пылесосы_и_аксессуары' 'H_стиральные_и_сушильные_машины'\n",
      " 'H_техника_karcher' 'H_техника_для_здоровья' 'H_техника_для_красоты'\n",
      " 'H_товары_для_ухода_за_одеждой' 'H_установка_бытовой_техники']\n",
      "----------------------------------------------------------------------------------------------------\n",
      "H_компьютерная_техника\n",
      "['H_аудиосистемы' 'H_гаджеты' 'H_готовые_решения'\n",
      " 'H_смартфоны_и_аксессуары' 'H_apple' 'H_аксессуары' 'H_видеотехника'\n",
      " 'H_игровые_приставки' 'H_комплектующие' 'H_крепления' 'H_мониторы'\n",
      " 'H_накопители' 'H_оргтехника' 'H_периферийные_устройства'\n",
      " 'H_проекторы_и_экраны' 'H_расходные_материалы' 'H_сетевое_оборудование'\n",
      " 'H_электропитание']\n",
      "----------------------------------------------------------------------------------------------------\n",
      "H_мебель_текстиль\n",
      "['H_мебель_для_офиса']\n",
      "----------------------------------------------------------------------------------------------------\n",
      "H_стройка_и_ремонт\n",
      "['H_техника_для_дома' 'H_электроинструменты']\n",
      "----------------------------------------------------------------------------------------------------\n",
      "H_телевизоры_и_электроника\n",
      "['H_аудиосистемы' 'H_батарейки_и_зарядные_устройства' 'H_гаджеты'\n",
      " 'H_крепления_для_тв' 'H_приставки_для_тв' 'H_смартфоны_и_аксессуары'\n",
      " 'H_телевизоры' 'H_телефоны_dect_и_проводные']\n",
      "----------------------------------------------------------------------------------------------------\n",
      "H_no_group\n",
      "['H_товар_без_акции' 'H_товар_по_акции' 'H_no_group']\n",
      "----------------------------------------------------------------------------------------------------\n",
      "H_товары_для_дома\n",
      "['H_бытовая_химия' 'H_кухонные_принадлежности' 'H_освещение'\n",
      " 'H_посуда_для_духовок_и_микроволновых_печей' 'H_приготовление_напитков'\n",
      " 'H_приготовление_пищи' 'H_сервировка_стола']\n",
      "----------------------------------------------------------------------------------------------------\n"
     ]
    }
   ],
   "source": [
    "for i in dfh['_category'].unique():\n",
    "    t = dfh[dfh['_category']==i]\n",
    "    print(i)\n",
    "    print(t['_subcategory'].unique())\n",
    "    print('-'*100)"
   ]
  },
  {
   "cell_type": "code",
   "execution_count": 80,
   "id": "e7b973f8",
   "metadata": {
    "scrolled": true
   },
   "outputs": [
    {
     "name": "stdout",
     "output_type": "stream",
     "text": [
      "H_рассрочка_12_месяцев___без_переплаты!\n",
      "['H_рассрочка_12_месяцев___без_переплаты!']\n",
      "----------------------------------------------------------------------------------------------------\n",
      "H_аксессуары_для_мелкой_бытовой_техники\n",
      "['H_аксессуары_для_зубных_щеток' 'H_аксессуары_для_электрических_бритв']\n",
      "----------------------------------------------------------------------------------------------------\n",
      "H_климатическая_техника\n",
      "['H_бойлеры' 'H_вентиляторы' 'H_комплектующие_для_климатической_техники'\n",
      " 'H_кондиционеры' 'H_кондиционеры_мульти_сплит' 'H_обогреватели'\n",
      " 'H_отопительные_печи' 'H_увлажнители_комплексы']\n",
      "----------------------------------------------------------------------------------------------------\n",
      "H_крупная_техника_для_кухни\n",
      "['H_варочные_поверхности' 'H_вытяжки' 'H_духовые_шкафы'\n",
      " 'H_кронштейны_для_микроволновых_печей' 'H_микроволновые_печи'\n",
      " 'H_морозильники_и_лари' 'H_плиты_газовые_и_электрические'\n",
      " 'H_посудомоечные_машины' 'H_холодильники' 'H_электропечи_и_духовки']\n",
      "----------------------------------------------------------------------------------------------------\n",
      "H_мелкая_техника_для_кухни\n",
      "['H_блендеры' 'H_вакууматоры' 'H_весы_кухонные' 'H_генераторы_льда'\n",
      " 'H_кухонные_комбайны' 'H_ломтерезки' 'H_миксеры' 'H_соковыжималки'\n",
      " 'H_соковыжималки_для_цитрусов' 'H_тостеры' 'H_чопперы'\n",
      " 'H_электромясорубки']\n",
      "----------------------------------------------------------------------------------------------------\n",
      "H_минимойки\n",
      "['H_минимойки']\n",
      "----------------------------------------------------------------------------------------------------\n",
      "H_приготовление_напитков\n",
      "['H_кофе' 'H_кофеварки' 'H_кофемашины' 'H_кофемолки' 'H_термопоты'\n",
      " 'H_турки_электрические' 'H_электрические_чайники' 'H_заварочные_чайники'\n",
      " 'H_кофеварки_гейзерные' 'H_термосы_термокружки_термосумки' 'H_турки'\n",
      " 'H_фильтры_для_воды' 'H_чайники_для_плиты']\n",
      "----------------------------------------------------------------------------------------------------\n",
      "H_приготовление_пищи\n",
      "['H_йогуртницы' 'H_мультиварки' 'H_мультиварки_скороварки' 'H_пароварки'\n",
      " 'H_сушилки_для_фруктов' 'H_сэндвичницы_и_вафельницы'\n",
      " 'H_фритюрницы_и_аэрогрили' 'H_хлебопечи' 'H_электрогрили' 'H_кастрюли'\n",
      " 'H_ковши' 'H_крышки' 'H_наборы_посуды' 'H_сковороды' 'H_сотейники']\n",
      "----------------------------------------------------------------------------------------------------\n",
      "H_пылесосы_и_аксессуары\n",
      "['H_аксессуары_к_пылесосам' 'H_пылесосы' 'H_фильтры_и_мешки_для_пыли']\n",
      "----------------------------------------------------------------------------------------------------\n",
      "H_стиральные_и_сушильные_машины\n",
      "['H_стиральные_машины']\n",
      "----------------------------------------------------------------------------------------------------\n",
      "H_техника_karcher\n",
      "['H_мешки_и_фильтры_karcher']\n",
      "----------------------------------------------------------------------------------------------------\n",
      "H_техника_для_здоровья\n",
      "['H_ирригаторы' 'H_массажеры_ванночки_для_ног' 'H_медицинские_приборы'\n",
      " 'H_электрические_зубные_щетки']\n",
      "----------------------------------------------------------------------------------------------------\n",
      "H_техника_для_красоты\n",
      "['H_весы_напольные' 'H_выпрямители_и_плойки_для_волос'\n",
      " 'H_наборы_для_укладки_волос' 'H_плойки' 'H_триммеры_машинки_для_стрижки'\n",
      " 'H_фены_для_волос' 'H_электрические_бритвы' 'H_эпиляторы']\n",
      "----------------------------------------------------------------------------------------------------\n",
      "H_товары_для_ухода_за_одеждой\n",
      "['H_гладильные_доски' 'H_машинки_для_удаления_катышков'\n",
      " 'H_отпариватели_для_одежды' 'H_парогенераторы' 'H_сушилки_для_белья'\n",
      " 'H_утюги' 'H_швейные_машины']\n",
      "----------------------------------------------------------------------------------------------------\n",
      "H_установка_бытовой_техники\n",
      "['H_установка_бытовой_техники']\n",
      "----------------------------------------------------------------------------------------------------\n",
      "H_аудиосистемы\n",
      "['H_наушники' 'H_акустика' 'H_микрофоны' 'H_радио' 'H_аудиосистемы'\n",
      " 'H_плееры' 'H_саундбары']\n",
      "----------------------------------------------------------------------------------------------------\n",
      "H_гаджеты\n",
      "['H_часы_и_браслеты' 'H_умный_дом']\n",
      "----------------------------------------------------------------------------------------------------\n",
      "H_готовые_решения\n",
      "['H_моноблоки' 'H_планшеты' 'H_ноутбуки' 'H_неттопы' 'H_системные_блоки'\n",
      " 'H_электронные_книги']\n",
      "----------------------------------------------------------------------------------------------------\n",
      "H_смартфоны_и_аксессуары\n",
      "['H_смартфоны' 'H_смартфоны_и_аксессуары' 'H_чехлы']\n",
      "----------------------------------------------------------------------------------------------------\n",
      "H_apple\n",
      "['H_аксессуары']\n",
      "----------------------------------------------------------------------------------------------------\n",
      "H_аксессуары\n",
      "['H_cardreader' 'H_usb_hub' 'H_замки' 'H_наклейки' 'H_подставки'\n",
      " 'H_сумки_и_чехлы' 'H_защитные_стекла' 'H_кабели_и_переходники'\n",
      " 'H_карманы']\n",
      "----------------------------------------------------------------------------------------------------\n",
      "H_видеотехника\n",
      "['H_видеонаблюдение' 'H_видеорегистраторы']\n",
      "----------------------------------------------------------------------------------------------------\n",
      "H_игровые_приставки\n",
      "['H_геймпады' 'H_приставки']\n",
      "----------------------------------------------------------------------------------------------------\n",
      "H_комплектующие\n",
      "['H_блоки_питания' 'H_видеокарты' 'H_звуковые_карты' 'H_корпуса'\n",
      " 'H_материнские_платы' 'H_модули_памяти' 'H_накопитель_(hdd)'\n",
      " 'H_накопитель_(ssd)' 'H_оптические_приводы' 'H_процессоры'\n",
      " 'H_системы_охлаждения' 'H_термопаста']\n",
      "----------------------------------------------------------------------------------------------------\n",
      "H_крепления\n",
      "['H_крепления']\n",
      "----------------------------------------------------------------------------------------------------\n",
      "H_мониторы\n",
      "['H_мониторы']\n",
      "----------------------------------------------------------------------------------------------------\n",
      "H_накопители\n",
      "['H_внешние_hdd_|_ssd' 'H_диски_cd_|_dvd' 'H_карты_памяти_sd_|_microsd'\n",
      " 'H_флешки_usb_|_type_c']\n",
      "----------------------------------------------------------------------------------------------------\n",
      "H_оргтехника\n",
      "['H_кабели' 'H_принтеры_и_мфу' 'H_сканеры' 'H_уничтожители_документов']\n",
      "----------------------------------------------------------------------------------------------------\n",
      "H_периферийные_устройства\n",
      "['H_веб_камеры' 'H_клавиатуры' 'H_манипуляторы' 'H_мыши' 'H_поверхности'\n",
      " 'H_рули']\n",
      "----------------------------------------------------------------------------------------------------\n",
      "H_проекторы_и_экраны\n",
      "['H_проекторы']\n",
      "----------------------------------------------------------------------------------------------------\n",
      "H_расходные_материалы\n",
      "['H_бумага' 'H_зипы' 'H_картриджи' 'H_стяжки' 'H_тонер' 'H_чернила'\n",
      " 'H_чистящие_средства']\n",
      "----------------------------------------------------------------------------------------------------\n",
      "H_сетевое_оборудование\n",
      "['H_адаптеры' 'H_инструмент' 'H_кабель_сетевой' 'H_карты_сетевые'\n",
      " 'H_коммутаторы' 'H_патч_корды' 'H_повторители_wifi' 'H_розетки'\n",
      " 'H_сетевые_шкафы' 'H_точки_доступа']\n",
      "----------------------------------------------------------------------------------------------------\n",
      "H_электропитание\n",
      "['H_powerbank' 'H_батареи' 'H_блоки_питания' 'H_зарядные_устройства'\n",
      " 'H_ибп' 'H_инверторы' 'H_стабилизаторы' 'H_фильтры']\n",
      "----------------------------------------------------------------------------------------------------\n",
      "H_мебель_для_офиса\n",
      "['H_офисные_кресла_и_стулья']\n",
      "----------------------------------------------------------------------------------------------------\n",
      "H_техника_для_дома\n",
      "['H_газонокосилки_и_триммеры' 'H_минимойки']\n",
      "----------------------------------------------------------------------------------------------------\n",
      "H_электроинструменты\n",
      "['H_аппараты_для_сварки' 'H_дрели' 'H_инструмент_для_работы_по_дереву'\n",
      " 'H_наборы_инструментов_и_измерительные_приборы' 'H_перфораторы'\n",
      " 'H_расходные_материалы' 'H_строительные_фены' 'H_шлифовальные_машинки'\n",
      " 'H_шуруповерты' 'H_электроинструменты']\n",
      "----------------------------------------------------------------------------------------------------\n",
      "H_батарейки_и_зарядные_устройства\n",
      "['H_батарейки_и_зарядные_устройства']\n",
      "----------------------------------------------------------------------------------------------------\n",
      "H_крепления_для_тв\n",
      "['H_крепления_для_тв']\n",
      "----------------------------------------------------------------------------------------------------\n",
      "H_приставки_для_тв\n",
      "['H_приставки_для_тв']\n",
      "----------------------------------------------------------------------------------------------------\n",
      "H_телевизоры\n",
      "['H_телевизоры' 'H_телевизоры_samsung']\n",
      "----------------------------------------------------------------------------------------------------\n",
      "H_телефоны_dect_и_проводные\n",
      "['H_телефоны_dect_и_проводные']\n",
      "----------------------------------------------------------------------------------------------------\n",
      "H_товар_без_акции\n",
      "['H_товар_без_акции']\n",
      "----------------------------------------------------------------------------------------------------\n",
      "H_товар_по_акции\n",
      "['H_товар_по_акции']\n",
      "----------------------------------------------------------------------------------------------------\n",
      "H_бытовая_химия\n",
      "['H_средства_для_посудомоечных_машин' 'H_средства_для_стирки'\n",
      " 'H_средства_по_уходу_за_техникой']\n",
      "----------------------------------------------------------------------------------------------------\n",
      "H_кухонные_принадлежности\n",
      "['H_кухонные_аксессуары' 'H_ножи'\n",
      " 'H_ёмкости_для_сыпучих_и_контейнеры_для_еды']\n",
      "----------------------------------------------------------------------------------------------------\n",
      "H_освещение\n",
      "['H_бра' 'H_интерьерное_освещение' 'H_лампочки_' 'H_лампы_настольные'\n",
      " 'H_люстры' 'H_светильники_светодиодные' 'H_фонари']\n",
      "----------------------------------------------------------------------------------------------------\n",
      "H_посуда_для_духовок_и_микроволновых_печей\n",
      "['H_формы_и_противни']\n",
      "----------------------------------------------------------------------------------------------------\n",
      "H_сервировка_стола\n",
      "['H_кофейные_и_чайные_чашки' 'H_прочие_предметы_сервировки'\n",
      " 'H_салатники_и_блюда_' 'H_сервировка_стола' 'H_столовые_приборы'\n",
      " 'H_столовые_сервизы_и_тарелки' 'H_фужеры_бокалы_стаканы']\n",
      "----------------------------------------------------------------------------------------------------\n",
      "H_no_group\n",
      "['H_no_group']\n",
      "----------------------------------------------------------------------------------------------------\n"
     ]
    }
   ],
   "source": [
    "for i in dfh['_subcategory'].unique():\n",
    "    t = dfh[dfh['_subcategory']==i]\n",
    "    print(i)\n",
    "    print(t['_group'].unique())\n",
    "    print('-'*100)"
   ]
  },
  {
   "cell_type": "markdown",
   "id": "ad4ae26c",
   "metadata": {},
   "source": [
    "просмотр групп товаров в подкатегориях"
   ]
  },
  {
   "cell_type": "code",
   "execution_count": 81,
   "id": "1de3d753",
   "metadata": {},
   "outputs": [
    {
     "name": "stdout",
     "output_type": "stream",
     "text": [
      "H_рассрочка_12_месяцев___без_переплаты!\n",
      "['H_рассрочка_12_месяцев___без_переплаты!']\n",
      "----------------------------------------------------------------------------------------------------\n",
      "H_аксессуары_для_зубных_щеток\n",
      "['H_аксессуары_для_зубных_щеток']\n",
      "----------------------------------------------------------------------------------------------------\n",
      "H_аксессуары_для_электрических_бритв\n",
      "['H_аксессуары_для_электрических_бритв']\n",
      "----------------------------------------------------------------------------------------------------\n",
      "H_бойлеры\n",
      "['H_бойлеры']\n",
      "----------------------------------------------------------------------------------------------------\n",
      "H_вентиляторы\n",
      "['H_вентиляторы']\n",
      "----------------------------------------------------------------------------------------------------\n",
      "H_комплектующие_для_климатической_техники\n",
      "['H_комплектующие_для_климатической_техники']\n",
      "----------------------------------------------------------------------------------------------------\n",
      "H_кондиционеры\n",
      "['H_кондиционеры']\n",
      "----------------------------------------------------------------------------------------------------\n",
      "H_кондиционеры_мульти_сплит\n",
      "['H_кондиционеры_мульти_сплит']\n",
      "----------------------------------------------------------------------------------------------------\n",
      "H_обогреватели\n",
      "['H_обогреватели']\n",
      "----------------------------------------------------------------------------------------------------\n",
      "H_отопительные_печи\n",
      "['H_отопительные_печи']\n",
      "----------------------------------------------------------------------------------------------------\n",
      "H_увлажнители_комплексы\n",
      "['H_увлажнители_комплексы']\n",
      "----------------------------------------------------------------------------------------------------\n",
      "H_варочные_поверхности\n",
      "['H_варочные_поверхности']\n",
      "----------------------------------------------------------------------------------------------------\n",
      "H_вытяжки\n",
      "['H_вытяжки']\n",
      "----------------------------------------------------------------------------------------------------\n",
      "H_духовые_шкафы\n",
      "['H_духовые_шкафы']\n",
      "----------------------------------------------------------------------------------------------------\n",
      "H_кронштейны_для_микроволновых_печей\n",
      "['H_кронштейны_для_микроволновых_печей']\n",
      "----------------------------------------------------------------------------------------------------\n",
      "H_микроволновые_печи\n",
      "['H_микроволновые_печи']\n",
      "----------------------------------------------------------------------------------------------------\n",
      "H_морозильники_и_лари\n",
      "['H_морозильники' 'H_морозильные_лари']\n",
      "----------------------------------------------------------------------------------------------------\n",
      "H_плиты_газовые_и_электрические\n",
      "['H_газовые_плиты' 'H_комбинированные_плиты'\n",
      " 'H_плиты_газовые_и_электрические' 'H_электрические_плиты']\n",
      "----------------------------------------------------------------------------------------------------\n",
      "H_посудомоечные_машины\n",
      "['H_посудомоечные_машины']\n",
      "----------------------------------------------------------------------------------------------------\n",
      "H_холодильники\n",
      "['H_винные_шкафы' 'H_однодверные_холодильники'\n",
      " 'H_с_верхней_морозильной_камерой' 'H_с_нижней_морозильной_камерой']\n",
      "----------------------------------------------------------------------------------------------------\n",
      "H_электропечи_и_духовки\n",
      "['H_электропечи_и_духовки']\n",
      "----------------------------------------------------------------------------------------------------\n",
      "H_блендеры\n",
      "['H_блендеры_погружные' 'H_блендеры_стационарные']\n",
      "----------------------------------------------------------------------------------------------------\n",
      "H_вакууматоры\n",
      "['H_вакууматоры']\n",
      "----------------------------------------------------------------------------------------------------\n",
      "H_весы_кухонные\n",
      "['H_весы_кухонные']\n",
      "----------------------------------------------------------------------------------------------------\n",
      "H_генераторы_льда\n",
      "['H_генераторы_льда']\n",
      "----------------------------------------------------------------------------------------------------\n",
      "H_кухонные_комбайны\n",
      "['H_кухонные_комбайны']\n",
      "----------------------------------------------------------------------------------------------------\n",
      "H_ломтерезки\n",
      "['H_ломтерезки']\n",
      "----------------------------------------------------------------------------------------------------\n",
      "H_миксеры\n",
      "['H_миксеры' 'H_миксеры_планетарные' 'H_миксеры_ручные'\n",
      " 'H_миксеры_стационарные']\n",
      "----------------------------------------------------------------------------------------------------\n",
      "H_соковыжималки\n",
      "['H_соковыжималки']\n",
      "----------------------------------------------------------------------------------------------------\n",
      "H_соковыжималки_для_цитрусов\n",
      "['H_соковыжималки_для_цитрусов']\n",
      "----------------------------------------------------------------------------------------------------\n",
      "H_тостеры\n",
      "['H_тостеры']\n",
      "----------------------------------------------------------------------------------------------------\n",
      "H_чопперы\n",
      "['H_чопперы']\n",
      "----------------------------------------------------------------------------------------------------\n",
      "H_электромясорубки\n",
      "['H_электромясорубки']\n",
      "----------------------------------------------------------------------------------------------------\n",
      "H_минимойки\n",
      "['H_минимойки']\n",
      "----------------------------------------------------------------------------------------------------\n",
      "H_кофе\n",
      "['H_кофе']\n",
      "----------------------------------------------------------------------------------------------------\n",
      "H_кофеварки\n",
      "['H_кофеварки']\n",
      "----------------------------------------------------------------------------------------------------\n",
      "H_кофемашины\n",
      "['H_кофемашины']\n",
      "----------------------------------------------------------------------------------------------------\n",
      "H_кофемолки\n",
      "['H_кофемолки']\n",
      "----------------------------------------------------------------------------------------------------\n",
      "H_термопоты\n",
      "['H_термопоты']\n",
      "----------------------------------------------------------------------------------------------------\n",
      "H_турки_электрические\n",
      "['H_турки_электрические']\n",
      "----------------------------------------------------------------------------------------------------\n",
      "H_электрические_чайники\n",
      "['H_электрические_чайники']\n",
      "----------------------------------------------------------------------------------------------------\n",
      "H_йогуртницы\n",
      "['H_йогуртницы']\n",
      "----------------------------------------------------------------------------------------------------\n",
      "H_мультиварки\n",
      "['H_мультиварки']\n",
      "----------------------------------------------------------------------------------------------------\n",
      "H_мультиварки_скороварки\n",
      "['H_мультиварки_скороварки']\n",
      "----------------------------------------------------------------------------------------------------\n",
      "H_пароварки\n",
      "['H_пароварки']\n",
      "----------------------------------------------------------------------------------------------------\n",
      "H_сушилки_для_фруктов\n",
      "['H_сушилки_для_фруктов']\n",
      "----------------------------------------------------------------------------------------------------\n",
      "H_сэндвичницы_и_вафельницы\n",
      "['H_сэндвичницы_и_вафельницы']\n",
      "----------------------------------------------------------------------------------------------------\n",
      "H_фритюрницы_и_аэрогрили\n",
      "['H_фритюрницы_и_аэрогрили']\n",
      "----------------------------------------------------------------------------------------------------\n",
      "H_хлебопечи\n",
      "['H_хлебопечи']\n",
      "----------------------------------------------------------------------------------------------------\n",
      "H_электрогрили\n",
      "['H_электрогрили']\n",
      "----------------------------------------------------------------------------------------------------\n",
      "H_аксессуары_к_пылесосам\n",
      "['H_аксессуары_к_пылесосам']\n",
      "----------------------------------------------------------------------------------------------------\n",
      "H_пылесосы\n",
      "['H_пылесосы' 'H_пылесосы_karcher' 'H_пылесосы_вертикальные'\n",
      " 'H_пылесосы_с_контейнером' 'H_пылесосы_с_мешком' 'H_роботы_пылесосы']\n",
      "----------------------------------------------------------------------------------------------------\n",
      "H_фильтры_и_мешки_для_пыли\n",
      "['H_фильтры_и_мешки_для_пыли']\n",
      "----------------------------------------------------------------------------------------------------\n",
      "H_стиральные_машины\n",
      "['H_вертикальные_стиральные_машины'\n",
      " 'H_полуавтоматические_стиральные_машины' 'H_стирально_сушильные_машины'\n",
      " 'H_стиральные_и_сушильные_машины' 'H_фронтальные_стиральные_машины']\n",
      "----------------------------------------------------------------------------------------------------\n",
      "H_мешки_и_фильтры_karcher\n",
      "['H_мешки_и_фильтры_karcher']\n",
      "----------------------------------------------------------------------------------------------------\n",
      "H_ирригаторы\n",
      "['H_ирригаторы']\n",
      "----------------------------------------------------------------------------------------------------\n",
      "H_массажеры_ванночки_для_ног\n",
      "['H_массажеры_ванночки_для_ног']\n",
      "----------------------------------------------------------------------------------------------------\n",
      "H_медицинские_приборы\n",
      "['H_медицинские_приборы']\n",
      "----------------------------------------------------------------------------------------------------\n",
      "H_электрические_зубные_щетки\n",
      "['H_электрические_зубные_щетки']\n",
      "----------------------------------------------------------------------------------------------------\n",
      "H_весы_напольные\n",
      "['H_весы_напольные']\n",
      "----------------------------------------------------------------------------------------------------\n",
      "H_выпрямители_и_плойки_для_волос\n",
      "['H_выпрямители_и_плойки_для_волос']\n",
      "----------------------------------------------------------------------------------------------------\n",
      "H_наборы_для_укладки_волос\n",
      "['H_наборы_для_укладки_волос']\n",
      "----------------------------------------------------------------------------------------------------\n",
      "H_плойки\n",
      "['H_плойки']\n",
      "----------------------------------------------------------------------------------------------------\n",
      "H_триммеры_машинки_для_стрижки\n",
      "['H_триммеры_машинки_для_стрижки']\n",
      "----------------------------------------------------------------------------------------------------\n",
      "H_фены_для_волос\n",
      "['H_фены_для_волос']\n",
      "----------------------------------------------------------------------------------------------------\n",
      "H_электрические_бритвы\n",
      "['H_электрические_бритвы']\n",
      "----------------------------------------------------------------------------------------------------\n",
      "H_эпиляторы\n",
      "['H_эпиляторы']\n",
      "----------------------------------------------------------------------------------------------------\n",
      "H_гладильные_доски\n",
      "['H_гладильные_доски']\n",
      "----------------------------------------------------------------------------------------------------\n",
      "H_машинки_для_удаления_катышков\n",
      "['H_машинки_для_удаления_катышков']\n",
      "----------------------------------------------------------------------------------------------------\n",
      "H_отпариватели_для_одежды\n",
      "['H_отпариватели_для_одежды']\n",
      "----------------------------------------------------------------------------------------------------\n",
      "H_парогенераторы\n",
      "['H_парогенераторы']\n",
      "----------------------------------------------------------------------------------------------------\n",
      "H_сушилки_для_белья\n",
      "['H_сушилки_для_белья']\n",
      "----------------------------------------------------------------------------------------------------\n",
      "H_утюги\n",
      "['H_утюги']\n",
      "----------------------------------------------------------------------------------------------------\n",
      "H_швейные_машины\n",
      "['H_швейные_машины']\n",
      "----------------------------------------------------------------------------------------------------\n",
      "H_установка_бытовой_техники\n",
      "['H_установка_бытовой_техники']\n",
      "----------------------------------------------------------------------------------------------------\n",
      "H_наушники\n",
      "['H_airpods' 'H_вкладыши' 'H_накладные' 'H_наушники']\n",
      "----------------------------------------------------------------------------------------------------\n",
      "H_часы_и_браслеты\n",
      "['H_apple_watch' 'H_браслеты' 'H_часы' 'H_часы_и_браслеты']\n",
      "----------------------------------------------------------------------------------------------------\n",
      "H_моноблоки\n",
      "['H_imac']\n",
      "----------------------------------------------------------------------------------------------------\n",
      "H_планшеты\n",
      "['H_ipad' 'H_планшеты']\n",
      "----------------------------------------------------------------------------------------------------\n",
      "H_смартфоны\n",
      "['H_iphone' 'H_смартфоны']\n",
      "----------------------------------------------------------------------------------------------------\n",
      "H_ноутбуки\n",
      "['H_macbook' 'H_игровые_ноутбуки'\n",
      " 'H_ноутбуки_для_бизнеса_и_предпринимателей'\n",
      " 'H_ноутбуки_для_личного_пользования']\n",
      "----------------------------------------------------------------------------------------------------\n",
      "H_аксессуары\n",
      "['H_charging']\n",
      "----------------------------------------------------------------------------------------------------\n",
      "H_cardreader\n",
      "['H_cardreader']\n",
      "----------------------------------------------------------------------------------------------------\n",
      "H_usb_hub\n",
      "['H_usb_hub']\n",
      "----------------------------------------------------------------------------------------------------\n",
      "H_замки\n",
      "['H_замки']\n",
      "----------------------------------------------------------------------------------------------------\n",
      "H_наклейки\n",
      "['H_наклейки']\n",
      "----------------------------------------------------------------------------------------------------\n",
      "H_подставки\n",
      "['H_подставки']\n",
      "----------------------------------------------------------------------------------------------------\n",
      "H_сумки_и_чехлы\n",
      "['H_сумки_и_чехлы']\n",
      "----------------------------------------------------------------------------------------------------\n",
      "H_защитные_стекла\n",
      "['H_защитные_стекла']\n",
      "----------------------------------------------------------------------------------------------------\n",
      "H_кабели_и_переходники\n",
      "['H_адаптер' 'H_кабель']\n",
      "----------------------------------------------------------------------------------------------------\n",
      "H_карманы\n",
      "['H_карманы']\n",
      "----------------------------------------------------------------------------------------------------\n",
      "H_видеонаблюдение\n",
      "['H_камеры' 'H_хранилища']\n",
      "----------------------------------------------------------------------------------------------------\n"
     ]
    },
    {
     "name": "stdout",
     "output_type": "stream",
     "text": [
      "H_видеорегистраторы\n",
      "['H_видеорегистраторы']\n",
      "----------------------------------------------------------------------------------------------------\n",
      "H_неттопы\n",
      "['H_неттопы']\n",
      "----------------------------------------------------------------------------------------------------\n",
      "H_системные_блоки\n",
      "['H_системные_блоки']\n",
      "----------------------------------------------------------------------------------------------------\n",
      "H_электронные_книги\n",
      "['H_электронные_книги']\n",
      "----------------------------------------------------------------------------------------------------\n",
      "H_геймпады\n",
      "['H_геймпады']\n",
      "----------------------------------------------------------------------------------------------------\n",
      "H_приставки\n",
      "['H_приставки']\n",
      "----------------------------------------------------------------------------------------------------\n",
      "H_блоки_питания\n",
      "['H_блоки_питания']\n",
      "----------------------------------------------------------------------------------------------------\n",
      "H_видеокарты\n",
      "['H_nvidia']\n",
      "----------------------------------------------------------------------------------------------------\n",
      "H_звуковые_карты\n",
      "['H_звуковые_карты']\n",
      "----------------------------------------------------------------------------------------------------\n",
      "H_корпуса\n",
      "['H_корпуса']\n",
      "----------------------------------------------------------------------------------------------------\n",
      "H_материнские_платы\n",
      "['H_amd' 'H_intel' 'H_материнские_платы']\n",
      "----------------------------------------------------------------------------------------------------\n",
      "H_модули_памяти\n",
      "['H_dimm' 'H_sodimm']\n",
      "----------------------------------------------------------------------------------------------------\n",
      "H_накопитель_(hdd)\n",
      "['H_hdd_2.5\"' 'H_hdd_3.5\"']\n",
      "----------------------------------------------------------------------------------------------------\n",
      "H_накопитель_(ssd)\n",
      "['H_ssd_2.5\"' 'H_ssd_m.2']\n",
      "----------------------------------------------------------------------------------------------------\n",
      "H_оптические_приводы\n",
      "['H_оптические_приводы']\n",
      "----------------------------------------------------------------------------------------------------\n",
      "H_процессоры\n",
      "['H_amd' 'H_intel' 'H_процессоры']\n",
      "----------------------------------------------------------------------------------------------------\n",
      "H_системы_охлаждения\n",
      "['H_вентиляторы' 'H_кулера']\n",
      "----------------------------------------------------------------------------------------------------\n",
      "H_термопаста\n",
      "['H_термопаста']\n",
      "----------------------------------------------------------------------------------------------------\n",
      "H_крепления\n",
      "['H_крепления']\n",
      "----------------------------------------------------------------------------------------------------\n",
      "H_мониторы\n",
      "['H_smart_tv' 'H_изогнутый' 'H_плоский']\n",
      "----------------------------------------------------------------------------------------------------\n",
      "H_акустика\n",
      "['H_акустика' 'H_портативная' 'H_стационарная' 'H_яндекс_станции'\n",
      " 'H_акустические_системы' 'H_музыкальная_техника']\n",
      "----------------------------------------------------------------------------------------------------\n",
      "H_микрофоны\n",
      "['H_микрофоны']\n",
      "----------------------------------------------------------------------------------------------------\n",
      "H_радио\n",
      "['H_радио' 'H_радио_ит']\n",
      "----------------------------------------------------------------------------------------------------\n",
      "H_внешние_hdd_|_ssd\n",
      "['H_hdd' 'H_ssd' 'H_внешние_hdd_|_ssd']\n",
      "----------------------------------------------------------------------------------------------------\n",
      "H_диски_cd_|_dvd\n",
      "['H_диски_cd_|_dvd']\n",
      "----------------------------------------------------------------------------------------------------\n",
      "H_карты_памяти_sd_|_microsd\n",
      "['H_карты_памяти_sd_|_microsd']\n",
      "----------------------------------------------------------------------------------------------------\n",
      "H_флешки_usb_|_type_c\n",
      "['H_флешки_usb_|_type_c']\n",
      "----------------------------------------------------------------------------------------------------\n",
      "H_кабели\n",
      "['H_кабели']\n",
      "----------------------------------------------------------------------------------------------------\n",
      "H_принтеры_и_мфу\n",
      "['H_мфу' 'H_принтеры']\n",
      "----------------------------------------------------------------------------------------------------\n",
      "H_сканеры\n",
      "['H_сканеры']\n",
      "----------------------------------------------------------------------------------------------------\n",
      "H_уничтожители_документов\n",
      "['H_уничтожители_документов']\n",
      "----------------------------------------------------------------------------------------------------\n",
      "H_веб_камеры\n",
      "['H_веб_камеры']\n",
      "----------------------------------------------------------------------------------------------------\n",
      "H_клавиатуры\n",
      "['H_bluetooth' 'H_kit_usb' 'H_kit_wireless' 'H_usb' 'H_wireless']\n",
      "----------------------------------------------------------------------------------------------------\n",
      "H_манипуляторы\n",
      "['H_манипуляторы']\n",
      "----------------------------------------------------------------------------------------------------\n",
      "H_мыши\n",
      "['H_usb' 'H_wireless']\n",
      "----------------------------------------------------------------------------------------------------\n",
      "H_поверхности\n",
      "['H_поверхности']\n",
      "----------------------------------------------------------------------------------------------------\n",
      "H_рули\n",
      "['H_рули']\n",
      "----------------------------------------------------------------------------------------------------\n",
      "H_проекторы\n",
      "['H_проекторы']\n",
      "----------------------------------------------------------------------------------------------------\n",
      "H_бумага\n",
      "['H_бумага']\n",
      "----------------------------------------------------------------------------------------------------\n",
      "H_зипы\n",
      "['H_зипы']\n",
      "----------------------------------------------------------------------------------------------------\n",
      "H_картриджи\n",
      "['H_картриджи']\n",
      "----------------------------------------------------------------------------------------------------\n",
      "H_стяжки\n",
      "['H_стяжки']\n",
      "----------------------------------------------------------------------------------------------------\n",
      "H_тонер\n",
      "['H_тонер']\n",
      "----------------------------------------------------------------------------------------------------\n",
      "H_чернила\n",
      "['H_чернила']\n",
      "----------------------------------------------------------------------------------------------------\n",
      "H_чистящие_средства\n",
      "['H_чистящие_средства']\n",
      "----------------------------------------------------------------------------------------------------\n",
      "H_адаптеры\n",
      "['H_адаптеры']\n",
      "----------------------------------------------------------------------------------------------------\n",
      "H_инструмент\n",
      "['H_инструмент']\n",
      "----------------------------------------------------------------------------------------------------\n",
      "H_кабель_сетевой\n",
      "['H_кабель_сетевой']\n",
      "----------------------------------------------------------------------------------------------------\n",
      "H_карты_сетевые\n",
      "['H_карты_сетевые']\n",
      "----------------------------------------------------------------------------------------------------\n",
      "H_коммутаторы\n",
      "['H_коммутаторы']\n",
      "----------------------------------------------------------------------------------------------------\n",
      "H_патч_корды\n",
      "['H_патч_корды']\n",
      "----------------------------------------------------------------------------------------------------\n",
      "H_повторители_wifi\n",
      "['H_повторители_wifi']\n",
      "----------------------------------------------------------------------------------------------------\n",
      "H_розетки\n",
      "['H_розетки']\n",
      "----------------------------------------------------------------------------------------------------\n",
      "H_сетевые_шкафы\n",
      "['H_сетевые_шкафы']\n",
      "----------------------------------------------------------------------------------------------------\n",
      "H_точки_доступа\n",
      "['H_точки_доступа']\n",
      "----------------------------------------------------------------------------------------------------\n",
      "H_powerbank\n",
      "['H_powerbank']\n",
      "----------------------------------------------------------------------------------------------------\n",
      "H_батареи\n",
      "['H_батареи']\n",
      "----------------------------------------------------------------------------------------------------\n",
      "H_зарядные_устройства\n",
      "['H_auto' 'H_nfc' 'H_power_220w' 'H_зарядные_устройства']\n",
      "----------------------------------------------------------------------------------------------------\n",
      "H_ибп\n",
      "['H_ибп']\n",
      "----------------------------------------------------------------------------------------------------\n",
      "H_инверторы\n",
      "['H_инверторы']\n",
      "----------------------------------------------------------------------------------------------------\n",
      "H_стабилизаторы\n",
      "['H_стабилизаторы']\n",
      "----------------------------------------------------------------------------------------------------\n",
      "H_фильтры\n",
      "['H_фильтры']\n",
      "----------------------------------------------------------------------------------------------------\n",
      "H_офисные_кресла_и_стулья\n",
      "['H_компьютерные_кресла']\n",
      "----------------------------------------------------------------------------------------------------\n",
      "H_газонокосилки_и_триммеры\n",
      "['H_газонокосилки_и_триммеры']\n",
      "----------------------------------------------------------------------------------------------------\n",
      "H_аппараты_для_сварки\n",
      "['H_аппараты_для_сварки']\n",
      "----------------------------------------------------------------------------------------------------\n",
      "H_дрели\n",
      "['H_дрели']\n",
      "----------------------------------------------------------------------------------------------------\n",
      "H_инструмент_для_работы_по_дереву\n",
      "['H_инструмент_для_работы_по_дереву']\n",
      "----------------------------------------------------------------------------------------------------\n",
      "H_наборы_инструментов_и_измерительные_приборы\n",
      "['H_наборы_инструментов_и_измерительные_приборы']\n",
      "----------------------------------------------------------------------------------------------------\n",
      "H_перфораторы\n",
      "['H_перфораторы']\n",
      "----------------------------------------------------------------------------------------------------\n",
      "H_расходные_материалы\n",
      "['H_расходные_материалы']\n",
      "----------------------------------------------------------------------------------------------------\n",
      "H_строительные_фены\n",
      "['H_строительные_фены']\n",
      "----------------------------------------------------------------------------------------------------\n",
      "H_шлифовальные_машинки\n",
      "['H_шлифовальные_машинки']\n",
      "----------------------------------------------------------------------------------------------------\n",
      "H_шуруповерты\n",
      "['H_шуруповерты']\n",
      "----------------------------------------------------------------------------------------------------\n",
      "H_электроинструменты\n",
      "['H_электроинструменты']\n",
      "----------------------------------------------------------------------------------------------------\n",
      "H_аудиосистемы\n"
     ]
    },
    {
     "name": "stdout",
     "output_type": "stream",
     "text": [
      "['H_аудиосистемы']\n",
      "----------------------------------------------------------------------------------------------------\n",
      "H_плееры\n",
      "['H_плееры']\n",
      "----------------------------------------------------------------------------------------------------\n",
      "H_саундбары\n",
      "['H_саундбары']\n",
      "----------------------------------------------------------------------------------------------------\n",
      "H_батарейки_и_зарядные_устройства\n",
      "['H_батарейки_и_зарядные_устройства']\n",
      "----------------------------------------------------------------------------------------------------\n",
      "H_умный_дом\n",
      "['H_умный_дом']\n",
      "----------------------------------------------------------------------------------------------------\n",
      "H_крепления_для_тв\n",
      "['H_крепления_для_тв']\n",
      "----------------------------------------------------------------------------------------------------\n",
      "H_приставки_для_тв\n",
      "['H_приставки_для_тв']\n",
      "----------------------------------------------------------------------------------------------------\n",
      "H_смартфоны_и_аксессуары\n",
      "['H_смартфоны_и_аксессуары']\n",
      "----------------------------------------------------------------------------------------------------\n",
      "H_чехлы\n",
      "['H_чехлы']\n",
      "----------------------------------------------------------------------------------------------------\n",
      "H_телевизоры\n",
      "['H_телевизоры']\n",
      "----------------------------------------------------------------------------------------------------\n",
      "H_телевизоры_samsung\n",
      "['H_телевизоры_samsung']\n",
      "----------------------------------------------------------------------------------------------------\n",
      "H_телефоны_dect_и_проводные\n",
      "['H_телефоны_dect_и_проводные']\n",
      "----------------------------------------------------------------------------------------------------\n",
      "H_товар_без_акции\n",
      "['H_товар_без_акции']\n",
      "----------------------------------------------------------------------------------------------------\n",
      "H_товар_по_акции\n",
      "['H_товар_по_акции']\n",
      "----------------------------------------------------------------------------------------------------\n",
      "H_средства_для_посудомоечных_машин\n",
      "['H_средства_для_посудомоечных_машин']\n",
      "----------------------------------------------------------------------------------------------------\n",
      "H_средства_для_стирки\n",
      "['H_средства_для_стирки']\n",
      "----------------------------------------------------------------------------------------------------\n",
      "H_средства_по_уходу_за_техникой\n",
      "['H_средства_по_уходу_за_техникой']\n",
      "----------------------------------------------------------------------------------------------------\n",
      "H_кухонные_аксессуары\n",
      "['H_кухонные_аксессуары']\n",
      "----------------------------------------------------------------------------------------------------\n",
      "H_ножи\n",
      "['H_ножи']\n",
      "----------------------------------------------------------------------------------------------------\n",
      "H_ёмкости_для_сыпучих_и_контейнеры_для_еды\n",
      "['H_ёмкости_для_сыпучих_и_контейнеры_для_еды']\n",
      "----------------------------------------------------------------------------------------------------\n",
      "H_бра\n",
      "['H_бра']\n",
      "----------------------------------------------------------------------------------------------------\n",
      "H_интерьерное_освещение\n",
      "['H_интерьерное_освещение']\n",
      "----------------------------------------------------------------------------------------------------\n",
      "H_лампочки_\n",
      "['H_лампочки_' 'H_лампочки_ultra_astra']\n",
      "----------------------------------------------------------------------------------------------------\n",
      "H_лампы_настольные\n",
      "['H_лампы_настольные']\n",
      "----------------------------------------------------------------------------------------------------\n",
      "H_люстры\n",
      "['H_люстры']\n",
      "----------------------------------------------------------------------------------------------------\n",
      "H_светильники_светодиодные\n",
      "['H_светильники_светодиодные']\n",
      "----------------------------------------------------------------------------------------------------\n",
      "H_фонари\n",
      "['H_фонари']\n",
      "----------------------------------------------------------------------------------------------------\n",
      "H_формы_и_противни\n",
      "['H_формы_и_противни']\n",
      "----------------------------------------------------------------------------------------------------\n",
      "H_заварочные_чайники\n",
      "['H_заварочные_чайники']\n",
      "----------------------------------------------------------------------------------------------------\n",
      "H_кофеварки_гейзерные\n",
      "['H_кофеварки_гейзерные']\n",
      "----------------------------------------------------------------------------------------------------\n",
      "H_термосы_термокружки_термосумки\n",
      "['H_термосы_термокружки_термосумки']\n",
      "----------------------------------------------------------------------------------------------------\n",
      "H_турки\n",
      "['H_турки']\n",
      "----------------------------------------------------------------------------------------------------\n",
      "H_фильтры_для_воды\n",
      "['H_фильтры_для_воды']\n",
      "----------------------------------------------------------------------------------------------------\n",
      "H_чайники_для_плиты\n",
      "['H_чайники_для_плиты']\n",
      "----------------------------------------------------------------------------------------------------\n",
      "H_кастрюли\n",
      "['H_кастрюли']\n",
      "----------------------------------------------------------------------------------------------------\n",
      "H_ковши\n",
      "['H_ковши']\n",
      "----------------------------------------------------------------------------------------------------\n",
      "H_крышки\n",
      "['H_крышки']\n",
      "----------------------------------------------------------------------------------------------------\n",
      "H_наборы_посуды\n",
      "['H_наборы_посуды']\n",
      "----------------------------------------------------------------------------------------------------\n",
      "H_сковороды\n",
      "['H_сковороды']\n",
      "----------------------------------------------------------------------------------------------------\n",
      "H_сотейники\n",
      "['H_сотейники']\n",
      "----------------------------------------------------------------------------------------------------\n",
      "H_кофейные_и_чайные_чашки\n",
      "['H_кофейные_и_чайные_чашки']\n",
      "----------------------------------------------------------------------------------------------------\n",
      "H_прочие_предметы_сервировки\n",
      "['H_прочие_предметы_сервировки']\n",
      "----------------------------------------------------------------------------------------------------\n",
      "H_салатники_и_блюда_\n",
      "['H_салатники_и_блюда_']\n",
      "----------------------------------------------------------------------------------------------------\n",
      "H_сервировка_стола\n",
      "['H_сервировка_стола']\n",
      "----------------------------------------------------------------------------------------------------\n",
      "H_столовые_приборы\n",
      "['H_столовые_приборы']\n",
      "----------------------------------------------------------------------------------------------------\n",
      "H_столовые_сервизы_и_тарелки\n",
      "['H_столовые_сервизы_и_тарелки']\n",
      "----------------------------------------------------------------------------------------------------\n",
      "H_фужеры_бокалы_стаканы\n",
      "['H_фужеры_бокалы_стаканы']\n",
      "----------------------------------------------------------------------------------------------------\n",
      "H_no_group\n",
      "['H_no_group']\n",
      "----------------------------------------------------------------------------------------------------\n"
     ]
    }
   ],
   "source": [
    "for i in dfh['_group'].unique():\n",
    "    t = dfh[dfh['_group']==i]\n",
    "    print(i)\n",
    "    print(t['_subgroup'].unique())\n",
    "    print('-'*100)"
   ]
  },
  {
   "cell_type": "code",
   "execution_count": 82,
   "id": "0d266764",
   "metadata": {},
   "outputs": [
    {
     "data": {
      "text/plain": [
       "array(['H_акция', 'H_бытовая_техника', 'H_компьютерная_техника',\n",
       "       'H_мебель_текстиль', 'H_стройка_и_ремонт',\n",
       "       'H_телевизоры_и_электроника', 'H_no_group', 'H_товары_для_дома'],\n",
       "      dtype=object)"
      ]
     },
     "execution_count": 82,
     "metadata": {},
     "output_type": "execute_result"
    }
   ],
   "source": [
    "dfh._category.unique()"
   ]
  },
  {
   "cell_type": "code",
   "execution_count": 83,
   "id": "6be4465c",
   "metadata": {},
   "outputs": [
    {
     "data": {
      "text/plain": [
       "array(['H_рассрочка_12_месяцев___без_переплаты!',\n",
       "       'H_аксессуары_для_мелкой_бытовой_техники',\n",
       "       'H_климатическая_техника', 'H_крупная_техника_для_кухни',\n",
       "       'H_мелкая_техника_для_кухни', 'H_минимойки',\n",
       "       'H_приготовление_напитков', 'H_приготовление_пищи',\n",
       "       'H_пылесосы_и_аксессуары', 'H_стиральные_и_сушильные_машины',\n",
       "       'H_техника_karcher', 'H_техника_для_здоровья',\n",
       "       'H_техника_для_красоты', 'H_товары_для_ухода_за_одеждой',\n",
       "       'H_установка_бытовой_техники', 'H_аудиосистемы', 'H_гаджеты',\n",
       "       'H_готовые_решения', 'H_смартфоны_и_аксессуары', 'H_apple',\n",
       "       'H_аксессуары', 'H_видеотехника', 'H_игровые_приставки',\n",
       "       'H_комплектующие', 'H_крепления', 'H_мониторы', 'H_накопители',\n",
       "       'H_оргтехника', 'H_периферийные_устройства',\n",
       "       'H_проекторы_и_экраны', 'H_расходные_материалы',\n",
       "       'H_сетевое_оборудование', 'H_электропитание', 'H_мебель_для_офиса',\n",
       "       'H_техника_для_дома', 'H_электроинструменты',\n",
       "       'H_батарейки_и_зарядные_устройства', 'H_крепления_для_тв',\n",
       "       'H_приставки_для_тв', 'H_телевизоры',\n",
       "       'H_телефоны_dect_и_проводные', 'H_товар_без_акции',\n",
       "       'H_товар_по_акции', 'H_бытовая_химия', 'H_кухонные_принадлежности',\n",
       "       'H_освещение', 'H_посуда_для_духовок_и_микроволновых_печей',\n",
       "       'H_сервировка_стола', 'H_no_group'], dtype=object)"
      ]
     },
     "execution_count": 83,
     "metadata": {},
     "output_type": "execute_result"
    }
   ],
   "source": [
    "dfh._subcategory.unique()"
   ]
  },
  {
   "cell_type": "code",
   "execution_count": 84,
   "id": "444f62d9",
   "metadata": {},
   "outputs": [
    {
     "data": {
      "text/plain": [
       "array(['H_рассрочка_12_месяцев___без_переплаты!',\n",
       "       'H_аксессуары_для_зубных_щеток',\n",
       "       'H_аксессуары_для_электрических_бритв', 'H_бойлеры',\n",
       "       'H_вентиляторы', 'H_комплектующие_для_климатической_техники',\n",
       "       'H_кондиционеры', 'H_кондиционеры_мульти_сплит', 'H_обогреватели',\n",
       "       'H_отопительные_печи', 'H_увлажнители_комплексы',\n",
       "       'H_варочные_поверхности', 'H_вытяжки', 'H_духовые_шкафы',\n",
       "       'H_кронштейны_для_микроволновых_печей', 'H_микроволновые_печи',\n",
       "       'H_морозильники_и_лари', 'H_плиты_газовые_и_электрические',\n",
       "       'H_посудомоечные_машины', 'H_холодильники',\n",
       "       'H_электропечи_и_духовки', 'H_блендеры', 'H_вакууматоры',\n",
       "       'H_весы_кухонные', 'H_генераторы_льда', 'H_кухонные_комбайны',\n",
       "       'H_ломтерезки', 'H_миксеры', 'H_соковыжималки',\n",
       "       'H_соковыжималки_для_цитрусов', 'H_тостеры', 'H_чопперы',\n",
       "       'H_электромясорубки', 'H_минимойки', 'H_кофе', 'H_кофеварки',\n",
       "       'H_кофемашины', 'H_кофемолки', 'H_термопоты',\n",
       "       'H_турки_электрические', 'H_электрические_чайники', 'H_йогуртницы',\n",
       "       'H_мультиварки', 'H_мультиварки_скороварки', 'H_пароварки',\n",
       "       'H_сушилки_для_фруктов', 'H_сэндвичницы_и_вафельницы',\n",
       "       'H_фритюрницы_и_аэрогрили', 'H_хлебопечи', 'H_электрогрили',\n",
       "       'H_аксессуары_к_пылесосам', 'H_пылесосы',\n",
       "       'H_фильтры_и_мешки_для_пыли', 'H_стиральные_машины',\n",
       "       'H_мешки_и_фильтры_karcher', 'H_ирригаторы',\n",
       "       'H_массажеры_ванночки_для_ног', 'H_медицинские_приборы',\n",
       "       'H_электрические_зубные_щетки', 'H_весы_напольные',\n",
       "       'H_выпрямители_и_плойки_для_волос', 'H_наборы_для_укладки_волос',\n",
       "       'H_плойки', 'H_триммеры_машинки_для_стрижки', 'H_фены_для_волос',\n",
       "       'H_электрические_бритвы', 'H_эпиляторы', 'H_гладильные_доски',\n",
       "       'H_машинки_для_удаления_катышков', 'H_отпариватели_для_одежды',\n",
       "       'H_парогенераторы', 'H_сушилки_для_белья', 'H_утюги',\n",
       "       'H_швейные_машины', 'H_установка_бытовой_техники', 'H_наушники',\n",
       "       'H_часы_и_браслеты', 'H_моноблоки', 'H_планшеты', 'H_смартфоны',\n",
       "       'H_ноутбуки', 'H_аксессуары', 'H_cardreader', 'H_usb_hub',\n",
       "       'H_замки', 'H_наклейки', 'H_подставки', 'H_сумки_и_чехлы',\n",
       "       'H_защитные_стекла', 'H_кабели_и_переходники', 'H_карманы',\n",
       "       'H_видеонаблюдение', 'H_видеорегистраторы', 'H_неттопы',\n",
       "       'H_системные_блоки', 'H_электронные_книги', 'H_геймпады',\n",
       "       'H_приставки', 'H_блоки_питания', 'H_видеокарты',\n",
       "       'H_звуковые_карты', 'H_корпуса', 'H_материнские_платы',\n",
       "       'H_модули_памяти', 'H_накопитель_(hdd)', 'H_накопитель_(ssd)',\n",
       "       'H_оптические_приводы', 'H_процессоры', 'H_системы_охлаждения',\n",
       "       'H_термопаста', 'H_крепления', 'H_мониторы', 'H_акустика',\n",
       "       'H_микрофоны', 'H_радио', 'H_внешние_hdd_|_ssd',\n",
       "       'H_диски_cd_|_dvd', 'H_карты_памяти_sd_|_microsd',\n",
       "       'H_флешки_usb_|_type_c', 'H_кабели', 'H_принтеры_и_мфу',\n",
       "       'H_сканеры', 'H_уничтожители_документов', 'H_веб_камеры',\n",
       "       'H_клавиатуры', 'H_манипуляторы', 'H_мыши', 'H_поверхности',\n",
       "       'H_рули', 'H_проекторы', 'H_бумага', 'H_зипы', 'H_картриджи',\n",
       "       'H_стяжки', 'H_тонер', 'H_чернила', 'H_чистящие_средства',\n",
       "       'H_адаптеры', 'H_инструмент', 'H_кабель_сетевой',\n",
       "       'H_карты_сетевые', 'H_коммутаторы', 'H_патч_корды',\n",
       "       'H_повторители_wifi', 'H_розетки', 'H_сетевые_шкафы',\n",
       "       'H_точки_доступа', 'H_powerbank', 'H_батареи',\n",
       "       'H_зарядные_устройства', 'H_ибп', 'H_инверторы', 'H_стабилизаторы',\n",
       "       'H_фильтры', 'H_офисные_кресла_и_стулья',\n",
       "       'H_газонокосилки_и_триммеры', 'H_аппараты_для_сварки', 'H_дрели',\n",
       "       'H_инструмент_для_работы_по_дереву',\n",
       "       'H_наборы_инструментов_и_измерительные_приборы', 'H_перфораторы',\n",
       "       'H_расходные_материалы', 'H_строительные_фены',\n",
       "       'H_шлифовальные_машинки', 'H_шуруповерты', 'H_электроинструменты',\n",
       "       'H_аудиосистемы', 'H_плееры', 'H_саундбары',\n",
       "       'H_батарейки_и_зарядные_устройства', 'H_умный_дом',\n",
       "       'H_крепления_для_тв', 'H_приставки_для_тв',\n",
       "       'H_смартфоны_и_аксессуары', 'H_чехлы', 'H_телевизоры',\n",
       "       'H_телевизоры_samsung', 'H_телефоны_dect_и_проводные',\n",
       "       'H_товар_без_акции', 'H_товар_по_акции',\n",
       "       'H_средства_для_посудомоечных_машин', 'H_средства_для_стирки',\n",
       "       'H_средства_по_уходу_за_техникой', 'H_кухонные_аксессуары',\n",
       "       'H_ножи', 'H_ёмкости_для_сыпучих_и_контейнеры_для_еды', 'H_бра',\n",
       "       'H_интерьерное_освещение', 'H_лампочки_', 'H_лампы_настольные',\n",
       "       'H_люстры', 'H_светильники_светодиодные', 'H_фонари',\n",
       "       'H_формы_и_противни', 'H_заварочные_чайники',\n",
       "       'H_кофеварки_гейзерные', 'H_термосы_термокружки_термосумки',\n",
       "       'H_турки', 'H_фильтры_для_воды', 'H_чайники_для_плиты',\n",
       "       'H_кастрюли', 'H_ковши', 'H_крышки', 'H_наборы_посуды',\n",
       "       'H_сковороды', 'H_сотейники', 'H_кофейные_и_чайные_чашки',\n",
       "       'H_прочие_предметы_сервировки', 'H_салатники_и_блюда_',\n",
       "       'H_сервировка_стола', 'H_столовые_приборы',\n",
       "       'H_столовые_сервизы_и_тарелки', 'H_фужеры_бокалы_стаканы',\n",
       "       'H_no_group'], dtype=object)"
      ]
     },
     "execution_count": 84,
     "metadata": {},
     "output_type": "execute_result"
    }
   ],
   "source": [
    "dfh._group.unique()"
   ]
  },
  {
   "cell_type": "code",
   "execution_count": 85,
   "id": "e644f29c",
   "metadata": {},
   "outputs": [
    {
     "data": {
      "text/plain": [
       "array(['H_рассрочка_12_месяцев___без_переплаты!',\n",
       "       'H_аксессуары_для_зубных_щеток',\n",
       "       'H_аксессуары_для_электрических_бритв', 'H_бойлеры',\n",
       "       'H_вентиляторы', 'H_комплектующие_для_климатической_техники',\n",
       "       'H_кондиционеры', 'H_кондиционеры_мульти_сплит', 'H_обогреватели',\n",
       "       'H_отопительные_печи', 'H_увлажнители_комплексы',\n",
       "       'H_варочные_поверхности', 'H_вытяжки', 'H_духовые_шкафы',\n",
       "       'H_кронштейны_для_микроволновых_печей', 'H_микроволновые_печи',\n",
       "       'H_морозильники', 'H_морозильные_лари', 'H_газовые_плиты',\n",
       "       'H_комбинированные_плиты', 'H_плиты_газовые_и_электрические',\n",
       "       'H_электрические_плиты', 'H_посудомоечные_машины',\n",
       "       'H_винные_шкафы', 'H_однодверные_холодильники',\n",
       "       'H_с_верхней_морозильной_камерой',\n",
       "       'H_с_нижней_морозильной_камерой', 'H_электропечи_и_духовки',\n",
       "       'H_блендеры_погружные', 'H_блендеры_стационарные', 'H_вакууматоры',\n",
       "       'H_весы_кухонные', 'H_генераторы_льда', 'H_кухонные_комбайны',\n",
       "       'H_ломтерезки', 'H_миксеры', 'H_миксеры_планетарные',\n",
       "       'H_миксеры_ручные', 'H_миксеры_стационарные', 'H_соковыжималки',\n",
       "       'H_соковыжималки_для_цитрусов', 'H_тостеры', 'H_чопперы',\n",
       "       'H_электромясорубки', 'H_минимойки', 'H_кофе', 'H_кофеварки',\n",
       "       'H_кофемашины', 'H_кофемолки', 'H_термопоты',\n",
       "       'H_турки_электрические', 'H_электрические_чайники', 'H_йогуртницы',\n",
       "       'H_мультиварки', 'H_мультиварки_скороварки', 'H_пароварки',\n",
       "       'H_сушилки_для_фруктов', 'H_сэндвичницы_и_вафельницы',\n",
       "       'H_фритюрницы_и_аэрогрили', 'H_хлебопечи', 'H_электрогрили',\n",
       "       'H_аксессуары_к_пылесосам', 'H_пылесосы', 'H_пылесосы_karcher',\n",
       "       'H_пылесосы_вертикальные', 'H_пылесосы_с_контейнером',\n",
       "       'H_пылесосы_с_мешком', 'H_роботы_пылесосы',\n",
       "       'H_фильтры_и_мешки_для_пыли', 'H_вертикальные_стиральные_машины',\n",
       "       'H_полуавтоматические_стиральные_машины',\n",
       "       'H_стирально_сушильные_машины', 'H_стиральные_и_сушильные_машины',\n",
       "       'H_фронтальные_стиральные_машины', 'H_мешки_и_фильтры_karcher',\n",
       "       'H_ирригаторы', 'H_массажеры_ванночки_для_ног',\n",
       "       'H_медицинские_приборы', 'H_электрические_зубные_щетки',\n",
       "       'H_весы_напольные', 'H_выпрямители_и_плойки_для_волос',\n",
       "       'H_наборы_для_укладки_волос', 'H_плойки',\n",
       "       'H_триммеры_машинки_для_стрижки', 'H_фены_для_волос',\n",
       "       'H_электрические_бритвы', 'H_эпиляторы', 'H_гладильные_доски',\n",
       "       'H_машинки_для_удаления_катышков', 'H_отпариватели_для_одежды',\n",
       "       'H_парогенераторы', 'H_сушилки_для_белья', 'H_утюги',\n",
       "       'H_швейные_машины', 'H_установка_бытовой_техники', 'H_airpods',\n",
       "       'H_apple_watch', 'H_imac', 'H_ipad', 'H_iphone', 'H_macbook',\n",
       "       'H_charging', 'H_cardreader', 'H_usb_hub', 'H_замки', 'H_наклейки',\n",
       "       'H_подставки', 'H_сумки_и_чехлы', 'H_защитные_стекла', 'H_адаптер',\n",
       "       'H_кабель', 'H_карманы', 'H_камеры', 'H_хранилища',\n",
       "       'H_видеорегистраторы', 'H_неттопы', 'H_игровые_ноутбуки',\n",
       "       'H_ноутбуки_для_бизнеса_и_предпринимателей',\n",
       "       'H_ноутбуки_для_личного_пользования', 'H_планшеты',\n",
       "       'H_системные_блоки', 'H_электронные_книги', 'H_геймпады',\n",
       "       'H_приставки', 'H_блоки_питания', 'H_nvidia', 'H_звуковые_карты',\n",
       "       'H_корпуса', 'H_amd', 'H_intel', 'H_материнские_платы', 'H_dimm',\n",
       "       'H_sodimm', 'H_hdd_2.5\"', 'H_hdd_3.5\"', 'H_ssd_2.5\"', 'H_ssd_m.2',\n",
       "       'H_оптические_приводы', 'H_процессоры', 'H_кулера', 'H_термопаста',\n",
       "       'H_крепления', 'H_smart_tv', 'H_изогнутый', 'H_плоский',\n",
       "       'H_акустика', 'H_портативная', 'H_стационарная', 'H_микрофоны',\n",
       "       'H_вкладыши', 'H_накладные', 'H_радио', 'H_hdd', 'H_ssd',\n",
       "       'H_внешние_hdd_|_ssd', 'H_диски_cd_|_dvd',\n",
       "       'H_карты_памяти_sd_|_microsd', 'H_флешки_usb_|_type_c', 'H_кабели',\n",
       "       'H_мфу', 'H_принтеры', 'H_сканеры', 'H_уничтожители_документов',\n",
       "       'H_веб_камеры', 'H_bluetooth', 'H_kit_usb', 'H_kit_wireless',\n",
       "       'H_usb', 'H_wireless', 'H_манипуляторы', 'H_поверхности', 'H_рули',\n",
       "       'H_проекторы', 'H_бумага', 'H_зипы', 'H_картриджи', 'H_стяжки',\n",
       "       'H_тонер', 'H_чернила', 'H_чистящие_средства', 'H_адаптеры',\n",
       "       'H_инструмент', 'H_кабель_сетевой', 'H_карты_сетевые',\n",
       "       'H_коммутаторы', 'H_патч_корды', 'H_повторители_wifi', 'H_розетки',\n",
       "       'H_сетевые_шкафы', 'H_точки_доступа', 'H_яндекс_станции',\n",
       "       'H_powerbank', 'H_батареи', 'H_auto', 'H_nfc', 'H_power_220w',\n",
       "       'H_зарядные_устройства', 'H_ибп', 'H_инверторы', 'H_стабилизаторы',\n",
       "       'H_фильтры', 'H_компьютерные_кресла', 'H_газонокосилки_и_триммеры',\n",
       "       'H_аппараты_для_сварки', 'H_дрели',\n",
       "       'H_инструмент_для_работы_по_дереву',\n",
       "       'H_наборы_инструментов_и_измерительные_приборы', 'H_перфораторы',\n",
       "       'H_расходные_материалы', 'H_строительные_фены',\n",
       "       'H_шлифовальные_машинки', 'H_шуруповерты', 'H_электроинструменты',\n",
       "       'H_акустические_системы', 'H_аудиосистемы',\n",
       "       'H_музыкальная_техника', 'H_наушники', 'H_плееры', 'H_радио_ит',\n",
       "       'H_саундбары', 'H_батарейки_и_зарядные_устройства', 'H_умный_дом',\n",
       "       'H_браслеты', 'H_часы', 'H_часы_и_браслеты', 'H_крепления_для_тв',\n",
       "       'H_приставки_для_тв', 'H_смартфоны', 'H_смартфоны_и_аксессуары',\n",
       "       'H_чехлы', 'H_телевизоры', 'H_телевизоры_samsung',\n",
       "       'H_телефоны_dect_и_проводные', 'H_товар_без_акции',\n",
       "       'H_товар_по_акции', 'H_средства_для_посудомоечных_машин',\n",
       "       'H_средства_для_стирки', 'H_средства_по_уходу_за_техникой',\n",
       "       'H_кухонные_аксессуары', 'H_ножи',\n",
       "       'H_ёмкости_для_сыпучих_и_контейнеры_для_еды', 'H_бра',\n",
       "       'H_интерьерное_освещение', 'H_лампочки_', 'H_лампочки_ultra_astra',\n",
       "       'H_лампы_настольные', 'H_люстры', 'H_светильники_светодиодные',\n",
       "       'H_фонари', 'H_формы_и_противни', 'H_заварочные_чайники',\n",
       "       'H_кофеварки_гейзерные', 'H_термосы_термокружки_термосумки',\n",
       "       'H_турки', 'H_фильтры_для_воды', 'H_чайники_для_плиты',\n",
       "       'H_кастрюли', 'H_ковши', 'H_крышки', 'H_наборы_посуды',\n",
       "       'H_сковороды', 'H_сотейники', 'H_кофейные_и_чайные_чашки',\n",
       "       'H_прочие_предметы_сервировки', 'H_салатники_и_блюда_',\n",
       "       'H_сервировка_стола', 'H_столовые_приборы',\n",
       "       'H_столовые_сервизы_и_тарелки', 'H_фужеры_бокалы_стаканы',\n",
       "       'H_no_group'], dtype=object)"
      ]
     },
     "execution_count": 85,
     "metadata": {},
     "output_type": "execute_result"
    }
   ],
   "source": [
    "dfh._subgroup.unique()"
   ]
  },
  {
   "cell_type": "markdown",
   "id": "3fa5656b",
   "metadata": {},
   "source": [
    "# Подготовка анализа"
   ]
  },
  {
   "cell_type": "code",
   "execution_count": 86,
   "id": "ba7b1765",
   "metadata": {},
   "outputs": [
    {
     "data": {
      "text/html": [
       "<div>\n",
       "<style scoped>\n",
       "    .dataframe tbody tr th:only-of-type {\n",
       "        vertical-align: middle;\n",
       "    }\n",
       "\n",
       "    .dataframe tbody tr th {\n",
       "        vertical-align: top;\n",
       "    }\n",
       "\n",
       "    .dataframe thead th {\n",
       "        text-align: right;\n",
       "    }\n",
       "</style>\n",
       "<table border=\"1\" class=\"dataframe\">\n",
       "  <thead>\n",
       "    <tr style=\"text-align: right;\">\n",
       "      <th></th>\n",
       "      <th>url</th>\n",
       "      <th>id</th>\n",
       "      <th>_category</th>\n",
       "      <th>_subcategory</th>\n",
       "      <th>_group</th>\n",
       "      <th>_subgroup</th>\n",
       "      <th>title</th>\n",
       "      <th>date</th>\n",
       "      <th>price</th>\n",
       "      <th>old_price</th>\n",
       "      <th>availability</th>\n",
       "      <th>error_group</th>\n",
       "    </tr>\n",
       "  </thead>\n",
       "  <tbody>\n",
       "    <tr>\n",
       "      <th>0</th>\n",
       "      <td>https://hi-tech.md/bytovaya-tehnika/klimaticheskaya-tehnika/kondicionery/kondicioner-electrolux-eacs-07hat-n321y/</td>\n",
       "      <td>Т-000078544</td>\n",
       "      <td>H_акция</td>\n",
       "      <td>H_рассрочка_12_месяцев___без_переплаты!</td>\n",
       "      <td>H_рассрочка_12_месяцев___без_переплаты!</td>\n",
       "      <td>H_рассрочка_12_месяцев___без_переплаты!</td>\n",
       "      <td>кондиционер Electrolux EACS-07HAT/N3_21Y</td>\n",
       "      <td>2024-07-03</td>\n",
       "      <td>3999.0</td>\n",
       "      <td>NaN</td>\n",
       "      <td>В наличии</td>\n",
       "      <td>0</td>\n",
       "    </tr>\n",
       "    <tr>\n",
       "      <th>1</th>\n",
       "      <td>https://hi-tech.md/bytovaya-tehnika/aksessuary-dlya-melkoy-bytovoy-tehniki/aksessuary-dlya-zubnyh-schetok/nasadka-d-zub-schetki-panasonic-ew0940w830-2sht/</td>\n",
       "      <td>Т-000056675</td>\n",
       "      <td>H_бытовая_техника</td>\n",
       "      <td>H_аксессуары_для_мелкой_бытовой_техники</td>\n",
       "      <td>H_аксессуары_для_зубных_щеток</td>\n",
       "      <td>H_аксессуары_для_зубных_щеток</td>\n",
       "      <td>насадка д/Зубная щетка Panasonic EW0940W830 2шт</td>\n",
       "      <td>2024-07-03</td>\n",
       "      <td>34.0</td>\n",
       "      <td>68.0</td>\n",
       "      <td>В наличии</td>\n",
       "      <td>0</td>\n",
       "    </tr>\n",
       "  </tbody>\n",
       "</table>\n",
       "</div>"
      ],
      "text/plain": [
       "                                                                                                                                                          url  \\\n",
       "0                                           https://hi-tech.md/bytovaya-tehnika/klimaticheskaya-tehnika/kondicionery/kondicioner-electrolux-eacs-07hat-n321y/   \n",
       "1  https://hi-tech.md/bytovaya-tehnika/aksessuary-dlya-melkoy-bytovoy-tehniki/aksessuary-dlya-zubnyh-schetok/nasadka-d-zub-schetki-panasonic-ew0940w830-2sht/   \n",
       "\n",
       "            id          _category                             _subcategory  \\\n",
       "0  Т-000078544            H_акция  H_рассрочка_12_месяцев___без_переплаты!   \n",
       "1  Т-000056675  H_бытовая_техника  H_аксессуары_для_мелкой_бытовой_техники   \n",
       "\n",
       "                                    _group  \\\n",
       "0  H_рассрочка_12_месяцев___без_переплаты!   \n",
       "1            H_аксессуары_для_зубных_щеток   \n",
       "\n",
       "                                 _subgroup  \\\n",
       "0  H_рассрочка_12_месяцев___без_переплаты!   \n",
       "1            H_аксессуары_для_зубных_щеток   \n",
       "\n",
       "                                             title       date   price  \\\n",
       "0         кондиционер Electrolux EACS-07HAT/N3_21Y 2024-07-03  3999.0   \n",
       "1  насадка д/Зубная щетка Panasonic EW0940W830 2шт 2024-07-03    34.0   \n",
       "\n",
       "   old_price availability  error_group  \n",
       "0        NaN    В наличии            0  \n",
       "1       68.0    В наличии            0  "
      ]
     },
     "execution_count": 86,
     "metadata": {},
     "output_type": "execute_result"
    }
   ],
   "source": [
    "dfh.head(2)"
   ]
  },
  {
   "cell_type": "markdown",
   "id": "05c08634",
   "metadata": {},
   "source": [
    "def lower(x):\n",
    "    return x.lower()\n",
    "brend['names'] = brend['name'].apply(lower)\n",
    "brend_up = brend.name.unique()\n",
    "brend_low = brend.names.unique()"
   ]
  },
  {
   "cell_type": "markdown",
   "id": "499fcd70",
   "metadata": {},
   "source": [
    "Создаем список брендов"
   ]
  },
  {
   "cell_type": "markdown",
   "id": "7f14d539",
   "metadata": {},
   "source": [
    "def brends(x):\n",
    "    xx = x.replace('\\xa0', ' ')\n",
    "    xx = xx.split(' ')    \n",
    "    for i in range(len(xx)-1):\n",
    "        if xx[i].lower() in brend_low:\n",
    "            return xx[i].lower()\n",
    "        elif (str(xx[i].lower())+' '+str(xx[i+1].lower())) in brend_low:\n",
    "            return (str(xx[i].lower())+' '+str(xx[i+1].lower()))    \n",
    "    else:    \n",
    "        return 'другой'\n",
    "tqdm.pandas()\n",
    "df['brend'] = df['title'].progress_apply(brends)"
   ]
  },
  {
   "cell_type": "code",
   "execution_count": 87,
   "id": "cdfc0295",
   "metadata": {},
   "outputs": [
    {
     "data": {
      "application/vnd.jupyter.widget-view+json": {
       "model_id": "3cc51af10aa2418395fc330bd3e7f5d1",
       "version_major": 2,
       "version_minor": 0
      },
      "text/plain": [
       "  0%|          | 0/8396 [00:00<?, ?it/s]"
      ]
     },
     "metadata": {},
     "output_type": "display_data"
    }
   ],
   "source": [
    "tqdm.pandas()\n",
    "dfh['brend'] = dfh['title'].progress_apply(brends)"
   ]
  },
  {
   "cell_type": "markdown",
   "id": "9058bd00",
   "metadata": {},
   "source": [
    "создаем столбец с брендами"
   ]
  },
  {
   "cell_type": "code",
   "execution_count": 88,
   "id": "0f2936e2",
   "metadata": {},
   "outputs": [],
   "source": [
    "dfh['action_sale'] = 0\n",
    "dfh.loc[dfh['old_price'] > 0,'action_sale'] = 1"
   ]
  },
  {
   "cell_type": "markdown",
   "id": "e5f49d97",
   "metadata": {},
   "source": [
    "Создаем столбец с флагом акции"
   ]
  },
  {
   "cell_type": "code",
   "execution_count": 89,
   "id": "83b72f0a",
   "metadata": {},
   "outputs": [],
   "source": [
    "dfh['sale'] = (100 - ((dfh['price']*100)/dfh['old_price'])).round(2) "
   ]
  },
  {
   "cell_type": "markdown",
   "id": "6fa8df1a",
   "metadata": {},
   "source": [
    "создаем столбец показывающий скидку в процентах"
   ]
  },
  {
   "cell_type": "code",
   "execution_count": 90,
   "id": "498284ff",
   "metadata": {},
   "outputs": [
    {
     "data": {
      "application/vnd.jupyter.widget-view+json": {
       "model_id": "8de7a3e0d99143a3b9d9fc038124226b",
       "version_major": 2,
       "version_minor": 0
      },
      "text/plain": [
       "  0%|          | 0/8396 [00:00<?, ?it/s]"
      ]
     },
     "metadata": {},
     "output_type": "display_data"
    }
   ],
   "source": [
    "def h_count_group(x):\n",
    "    return dfh[dfh['_group']==x]['id'].count()    \n",
    "tqdm.pandas()\n",
    "dfh['count_group'] = dfh['_group'].progress_apply(h_count_group)"
   ]
  },
  {
   "cell_type": "markdown",
   "id": "83cd51fa",
   "metadata": {},
   "source": [
    "создание столбца с количеством товара в группе"
   ]
  },
  {
   "cell_type": "code",
   "execution_count": 91,
   "id": "4efca59e",
   "metadata": {},
   "outputs": [
    {
     "data": {
      "application/vnd.jupyter.widget-view+json": {
       "model_id": "1ee8430244bb426d9e2a90da91ed6cf6",
       "version_major": 2,
       "version_minor": 0
      },
      "text/plain": [
       "  0%|          | 0/8396 [00:00<?, ?it/s]"
      ]
     },
     "metadata": {},
     "output_type": "display_data"
    }
   ],
   "source": [
    "def h_count_group_presence(x):\n",
    "    return dfh[(dfh['availability']=='В наличии')&(dfh['_group']==x)]['id'].count()   \n",
    "tqdm.pandas()\n",
    "dfh['activ_count_group'] = dfh['_group'].progress_apply(h_count_group_presence)"
   ]
  },
  {
   "cell_type": "markdown",
   "id": "d7b2925c",
   "metadata": {},
   "source": [
    "создание столбца с количеством товара, который есть в наличии, в группе"
   ]
  },
  {
   "cell_type": "code",
   "execution_count": 92,
   "id": "8031c74c",
   "metadata": {},
   "outputs": [
    {
     "data": {
      "application/vnd.jupyter.widget-view+json": {
       "model_id": "9752d973baba48c293e2111102ec55ae",
       "version_major": 2,
       "version_minor": 0
      },
      "text/plain": [
       "  0%|          | 0/8396 [00:00<?, ?it/s]"
      ]
     },
     "metadata": {},
     "output_type": "display_data"
    }
   ],
   "source": [
    "def h_dif_price(x):    \n",
    "    max_price = dfh[(dfh['availability']=='В наличии')&(dfh['_group']==x)]['price'].max()\n",
    "    min_price = dfh[(dfh['availability']=='В наличии')&(dfh['_group']==x)]['price'].min() \n",
    "    return max_price / min_price\n",
    "tqdm.pandas()\n",
    "dfh['dif_price'] = dfh['_group'].progress_apply(h_dif_price)"
   ]
  },
  {
   "cell_type": "markdown",
   "id": "aa563cda",
   "metadata": {},
   "source": [
    "создам столбец с отношением самой дорогой цены в группе к самой дешевой."
   ]
  },
  {
   "cell_type": "code",
   "execution_count": 93,
   "id": "b28ec242",
   "metadata": {},
   "outputs": [],
   "source": [
    "dfh['group_prise'] = dfh.groupby('_group')['price'].transform(lambda x: pd.cut(x, bins = 4, labels=[\"бюджет\", \"стандарт\", 'дорогой', \"элитный\"]))"
   ]
  },
  {
   "cell_type": "markdown",
   "id": "a41e8cef",
   "metadata": {},
   "source": [
    "создание столбца с ценовой категорией товара"
   ]
  },
  {
   "cell_type": "code",
   "execution_count": 94,
   "id": "d4ea7437",
   "metadata": {},
   "outputs": [],
   "source": [
    "dfh = dfh[['url', 'id', '_category', '_subcategory', '_group', '_subgroup', 'brend', \n",
    "         'title', 'date', 'price', 'old_price', 'action_sale', 'sale', 'group_prise', 'dif_price',\n",
    "         'availability', 'count_group', 'activ_count_group','error_group']]"
   ]
  },
  {
   "cell_type": "code",
   "execution_count": 95,
   "id": "491128a5",
   "metadata": {},
   "outputs": [],
   "source": [
    "dfh.drop('_subgroup', axis= 1 , inplace= True )"
   ]
  },
  {
   "cell_type": "code",
   "execution_count": 96,
   "id": "fbefe837",
   "metadata": {},
   "outputs": [],
   "source": [
    "dfh['tir'] = 0"
   ]
  },
  {
   "cell_type": "markdown",
   "id": "f470682a",
   "metadata": {},
   "source": [
    "# объединение"
   ]
  },
  {
   "cell_type": "code",
   "execution_count": 97,
   "id": "746fcd88",
   "metadata": {},
   "outputs": [],
   "source": [
    "df = pd.concat([dfh, dft], ignore_index=True)"
   ]
  },
  {
   "cell_type": "code",
   "execution_count": 98,
   "id": "10368fc9",
   "metadata": {},
   "outputs": [],
   "source": [
    "df = df.drop_duplicates().reset_index(drop=True)"
   ]
  },
  {
   "cell_type": "code",
   "execution_count": 99,
   "id": "ef11344c",
   "metadata": {},
   "outputs": [],
   "source": [
    "df.to_csv('csv/hay_tir_'+dt.datetime.now().strftime('%Y_%m_%d')+'.csv', index=False)  "
   ]
  },
  {
   "cell_type": "code",
   "execution_count": 100,
   "id": "5a69c47a",
   "metadata": {
    "scrolled": false
   },
   "outputs": [
    {
     "name": "stdout",
     "output_type": "stream",
     "text": [
      "таблица имеет следующий вид:\n"
     ]
    },
    {
     "data": {
      "text/html": [
       "<div>\n",
       "<style scoped>\n",
       "    .dataframe tbody tr th:only-of-type {\n",
       "        vertical-align: middle;\n",
       "    }\n",
       "\n",
       "    .dataframe tbody tr th {\n",
       "        vertical-align: top;\n",
       "    }\n",
       "\n",
       "    .dataframe thead th {\n",
       "        text-align: right;\n",
       "    }\n",
       "</style>\n",
       "<table border=\"1\" class=\"dataframe\">\n",
       "  <thead>\n",
       "    <tr style=\"text-align: right;\">\n",
       "      <th></th>\n",
       "      <th>url</th>\n",
       "      <th>id</th>\n",
       "      <th>_category</th>\n",
       "      <th>_subcategory</th>\n",
       "      <th>_group</th>\n",
       "      <th>brend</th>\n",
       "      <th>title</th>\n",
       "      <th>date</th>\n",
       "      <th>price</th>\n",
       "      <th>old_price</th>\n",
       "      <th>action_sale</th>\n",
       "      <th>sale</th>\n",
       "      <th>group_prise</th>\n",
       "      <th>dif_price</th>\n",
       "      <th>availability</th>\n",
       "      <th>count_group</th>\n",
       "      <th>activ_count_group</th>\n",
       "      <th>error_group</th>\n",
       "      <th>tir</th>\n",
       "    </tr>\n",
       "  </thead>\n",
       "  <tbody>\n",
       "    <tr>\n",
       "      <th>0</th>\n",
       "      <td>https://hi-tech.md/bytovaya-tehnika/klimaticheskaya-tehnika/kondicionery/kondicioner-electrolux-eacs-07hat-n321y/</td>\n",
       "      <td>Т-000078544</td>\n",
       "      <td>H_акция</td>\n",
       "      <td>H_рассрочка_12_месяцев___без_переплаты!</td>\n",
       "      <td>H_рассрочка_12_месяцев___без_переплаты!</td>\n",
       "      <td>electrolux</td>\n",
       "      <td>кондиционер Electrolux EACS-07HAT/N3_21Y</td>\n",
       "      <td>2024-07-03</td>\n",
       "      <td>3999.0</td>\n",
       "      <td>NaN</td>\n",
       "      <td>0</td>\n",
       "      <td>NaN</td>\n",
       "      <td>стандарт</td>\n",
       "      <td>1.000000</td>\n",
       "      <td>В наличии</td>\n",
       "      <td>1</td>\n",
       "      <td>1</td>\n",
       "      <td>0</td>\n",
       "      <td>0</td>\n",
       "    </tr>\n",
       "    <tr>\n",
       "      <th>1</th>\n",
       "      <td>https://hi-tech.md/bytovaya-tehnika/aksessuary-dlya-melkoy-bytovoy-tehniki/aksessuary-dlya-zubnyh-schetok/nasadka-d-zub-schetki-panasonic-ew0940w830-2sht/</td>\n",
       "      <td>Т-000056675</td>\n",
       "      <td>H_бытовая_техника</td>\n",
       "      <td>H_аксессуары_для_мелкой_бытовой_техники</td>\n",
       "      <td>H_аксессуары_для_зубных_щеток</td>\n",
       "      <td>panasonic</td>\n",
       "      <td>насадка д/Зубная щетка Panasonic EW0940W830 2шт</td>\n",
       "      <td>2024-07-03</td>\n",
       "      <td>34.0</td>\n",
       "      <td>68.0</td>\n",
       "      <td>1</td>\n",
       "      <td>50.0</td>\n",
       "      <td>бюджет</td>\n",
       "      <td>2.764706</td>\n",
       "      <td>В наличии</td>\n",
       "      <td>7</td>\n",
       "      <td>7</td>\n",
       "      <td>0</td>\n",
       "      <td>0</td>\n",
       "    </tr>\n",
       "    <tr>\n",
       "      <th>2</th>\n",
       "      <td>https://hi-tech.md/bytovaya-tehnika/aksessuary-dlya-melkoy-bytovoy-tehniki/aksessuary-dlya-zubnyh-schetok/nasadka-d-zub-schetki-braun-eb10-2k-kids-frozen-1sht/</td>\n",
       "      <td>Т-000021198</td>\n",
       "      <td>H_бытовая_техника</td>\n",
       "      <td>H_аксессуары_для_мелкой_бытовой_техники</td>\n",
       "      <td>H_аксессуары_для_зубных_щеток</td>\n",
       "      <td>braun</td>\n",
       "      <td>насадка д/Зубная щетка Braun EB10 Kids Frozen (1шт)</td>\n",
       "      <td>2024-07-03</td>\n",
       "      <td>94.0</td>\n",
       "      <td>NaN</td>\n",
       "      <td>0</td>\n",
       "      <td>NaN</td>\n",
       "      <td>элитный</td>\n",
       "      <td>2.764706</td>\n",
       "      <td>В наличии</td>\n",
       "      <td>7</td>\n",
       "      <td>7</td>\n",
       "      <td>0</td>\n",
       "      <td>0</td>\n",
       "    </tr>\n",
       "    <tr>\n",
       "      <th>3</th>\n",
       "      <td>https://hi-tech.md/bytovaya-tehnika/aksessuary-dlya-melkoy-bytovoy-tehniki/aksessuary-dlya-zubnyh-schetok/nasadka-d-zub-schetki-braun-eb18-3d-white-1sht/</td>\n",
       "      <td>Т-000068433</td>\n",
       "      <td>H_бытовая_техника</td>\n",
       "      <td>H_аксессуары_для_мелкой_бытовой_техники</td>\n",
       "      <td>H_аксессуары_для_зубных_щеток</td>\n",
       "      <td>braun</td>\n",
       "      <td>насадка д/Зубная щетка Braun EB18 3D White (1шт)</td>\n",
       "      <td>2024-07-03</td>\n",
       "      <td>94.0</td>\n",
       "      <td>NaN</td>\n",
       "      <td>0</td>\n",
       "      <td>NaN</td>\n",
       "      <td>элитный</td>\n",
       "      <td>2.764706</td>\n",
       "      <td>В наличии</td>\n",
       "      <td>7</td>\n",
       "      <td>7</td>\n",
       "      <td>0</td>\n",
       "      <td>0</td>\n",
       "    </tr>\n",
       "    <tr>\n",
       "      <th>4</th>\n",
       "      <td>https://hi-tech.md/bytovaya-tehnika/aksessuary-dlya-melkoy-bytovoy-tehniki/aksessuary-dlya-zubnyh-schetok/nasadka-d-zub-schetki-braun-eb20rb-10-1sht/</td>\n",
       "      <td>Т-000068766</td>\n",
       "      <td>H_бытовая_техника</td>\n",
       "      <td>H_аксессуары_для_мелкой_бытовой_техники</td>\n",
       "      <td>H_аксессуары_для_зубных_щеток</td>\n",
       "      <td>braun</td>\n",
       "      <td>насадка д/Зубная щетка Braun EB20 Precision Clean (1шт)</td>\n",
       "      <td>2024-07-03</td>\n",
       "      <td>94.0</td>\n",
       "      <td>NaN</td>\n",
       "      <td>0</td>\n",
       "      <td>NaN</td>\n",
       "      <td>элитный</td>\n",
       "      <td>2.764706</td>\n",
       "      <td>В наличии</td>\n",
       "      <td>7</td>\n",
       "      <td>7</td>\n",
       "      <td>0</td>\n",
       "      <td>0</td>\n",
       "    </tr>\n",
       "  </tbody>\n",
       "</table>\n",
       "</div>"
      ],
      "text/plain": [
       "                                                                                                                                                               url  \\\n",
       "0                                                https://hi-tech.md/bytovaya-tehnika/klimaticheskaya-tehnika/kondicionery/kondicioner-electrolux-eacs-07hat-n321y/   \n",
       "1       https://hi-tech.md/bytovaya-tehnika/aksessuary-dlya-melkoy-bytovoy-tehniki/aksessuary-dlya-zubnyh-schetok/nasadka-d-zub-schetki-panasonic-ew0940w830-2sht/   \n",
       "2  https://hi-tech.md/bytovaya-tehnika/aksessuary-dlya-melkoy-bytovoy-tehniki/aksessuary-dlya-zubnyh-schetok/nasadka-d-zub-schetki-braun-eb10-2k-kids-frozen-1sht/   \n",
       "3        https://hi-tech.md/bytovaya-tehnika/aksessuary-dlya-melkoy-bytovoy-tehniki/aksessuary-dlya-zubnyh-schetok/nasadka-d-zub-schetki-braun-eb18-3d-white-1sht/   \n",
       "4            https://hi-tech.md/bytovaya-tehnika/aksessuary-dlya-melkoy-bytovoy-tehniki/aksessuary-dlya-zubnyh-schetok/nasadka-d-zub-schetki-braun-eb20rb-10-1sht/   \n",
       "\n",
       "            id          _category                             _subcategory  \\\n",
       "0  Т-000078544            H_акция  H_рассрочка_12_месяцев___без_переплаты!   \n",
       "1  Т-000056675  H_бытовая_техника  H_аксессуары_для_мелкой_бытовой_техники   \n",
       "2  Т-000021198  H_бытовая_техника  H_аксессуары_для_мелкой_бытовой_техники   \n",
       "3  Т-000068433  H_бытовая_техника  H_аксессуары_для_мелкой_бытовой_техники   \n",
       "4  Т-000068766  H_бытовая_техника  H_аксессуары_для_мелкой_бытовой_техники   \n",
       "\n",
       "                                    _group       brend  \\\n",
       "0  H_рассрочка_12_месяцев___без_переплаты!  electrolux   \n",
       "1            H_аксессуары_для_зубных_щеток   panasonic   \n",
       "2            H_аксессуары_для_зубных_щеток       braun   \n",
       "3            H_аксессуары_для_зубных_щеток       braun   \n",
       "4            H_аксессуары_для_зубных_щеток       braun   \n",
       "\n",
       "                                                     title       date   price  \\\n",
       "0                 кондиционер Electrolux EACS-07HAT/N3_21Y 2024-07-03  3999.0   \n",
       "1          насадка д/Зубная щетка Panasonic EW0940W830 2шт 2024-07-03    34.0   \n",
       "2      насадка д/Зубная щетка Braun EB10 Kids Frozen (1шт) 2024-07-03    94.0   \n",
       "3         насадка д/Зубная щетка Braun EB18 3D White (1шт) 2024-07-03    94.0   \n",
       "4  насадка д/Зубная щетка Braun EB20 Precision Clean (1шт) 2024-07-03    94.0   \n",
       "\n",
       "   old_price  action_sale  sale group_prise  dif_price availability  \\\n",
       "0        NaN            0   NaN    стандарт   1.000000    В наличии   \n",
       "1       68.0            1  50.0      бюджет   2.764706    В наличии   \n",
       "2        NaN            0   NaN     элитный   2.764706    В наличии   \n",
       "3        NaN            0   NaN     элитный   2.764706    В наличии   \n",
       "4        NaN            0   NaN     элитный   2.764706    В наличии   \n",
       "\n",
       "   count_group  activ_count_group  error_group  tir  \n",
       "0            1                  1            0    0  \n",
       "1            7                  7            0    0  \n",
       "2            7                  7            0    0  \n",
       "3            7                  7            0    0  \n",
       "4            7                  7            0    0  "
      ]
     },
     "metadata": {},
     "output_type": "display_data"
    },
    {
     "name": "stdout",
     "output_type": "stream",
     "text": [
      "****************************************************************************************************\n",
      "таблица имеет 20038 сторок и 19 столбцов\n",
      "****************************************************************************************************\n",
      "в таблице обнаружено дублекатов:0\n",
      "****************************************************************************************************\n",
      "в таблице обнаружены пропуски в следующих столбцах:\n"
     ]
    },
    {
     "data": {
      "text/plain": [
       "url                      0\n",
       "id                       0\n",
       "_category                0\n",
       "_subcategory             0\n",
       "_group                   0\n",
       "brend                    0\n",
       "title                    0\n",
       "date                     0\n",
       "price                    2\n",
       "old_price            16390\n",
       "action_sale              0\n",
       "sale                 16390\n",
       "group_prise              2\n",
       "dif_price               25\n",
       "availability             0\n",
       "count_group              0\n",
       "activ_count_group        0\n",
       "error_group              0\n",
       "tir                      0\n",
       "dtype: int64"
      ]
     },
     "metadata": {},
     "output_type": "display_data"
    },
    {
     "name": "stdout",
     "output_type": "stream",
     "text": [
      "****************************************************************************************************\n",
      "Эти пропуски составлябт следующее количество в процентах\n"
     ]
    },
    {
     "data": {
      "text/plain": [
       "url                   0.0\n",
       "id                    0.0\n",
       "_category             0.0\n",
       "_subcategory          0.0\n",
       "_group                0.0\n",
       "brend                 0.0\n",
       "title                 0.0\n",
       "date                  0.0\n",
       "price                 0.0\n",
       "old_price            81.8\n",
       "action_sale           0.0\n",
       "sale                 81.8\n",
       "group_prise           0.0\n",
       "dif_price             0.1\n",
       "availability          0.0\n",
       "count_group           0.0\n",
       "activ_count_group     0.0\n",
       "error_group           0.0\n",
       "tir                   0.0\n",
       "dtype: float64"
      ]
     },
     "metadata": {},
     "output_type": "display_data"
    },
    {
     "name": "stdout",
     "output_type": "stream",
     "text": [
      "****************************************************************************************************\n",
      "столбцы имеют следующие типы:\n"
     ]
    },
    {
     "data": {
      "text/plain": [
       "url                          object\n",
       "id                           object\n",
       "_category                    object\n",
       "_subcategory                 object\n",
       "_group                       object\n",
       "brend                        object\n",
       "title                        object\n",
       "date                 datetime64[ns]\n",
       "price                       float64\n",
       "old_price                   float64\n",
       "action_sale                   int64\n",
       "sale                        float64\n",
       "group_prise                category\n",
       "dif_price                   float64\n",
       "availability                 object\n",
       "count_group                   int64\n",
       "activ_count_group             int64\n",
       "error_group                   int64\n",
       "tir                           int64\n",
       "dtype: object"
      ]
     },
     "metadata": {},
     "output_type": "display_data"
    },
    {
     "name": "stdout",
     "output_type": "stream",
     "text": [
      "****************************************************************************************************\n",
      "названия столбцов переписаны в нижнем регистре, пробелы заменены на нижнее подчеркивание\n",
      "****************************************************************************************************\n",
      "<class 'pandas.core.frame.DataFrame'>\n",
      "RangeIndex: 20038 entries, 0 to 20037\n",
      "Data columns (total 19 columns):\n",
      " #   Column             Non-Null Count  Dtype         \n",
      "---  ------             --------------  -----         \n",
      " 0   url                20038 non-null  object        \n",
      " 1   id                 20038 non-null  object        \n",
      " 2   _category          20038 non-null  object        \n",
      " 3   _subcategory       20038 non-null  object        \n",
      " 4   _group             20038 non-null  object        \n",
      " 5   brend              20038 non-null  object        \n",
      " 6   title              20038 non-null  object        \n",
      " 7   date               20038 non-null  datetime64[ns]\n",
      " 8   price              20036 non-null  float64       \n",
      " 9   old_price          3648 non-null   float64       \n",
      " 10  action_sale        20038 non-null  int64         \n",
      " 11  sale               3648 non-null   float64       \n",
      " 12  group_prise        20036 non-null  category      \n",
      " 13  dif_price          20013 non-null  float64       \n",
      " 14  availability       20038 non-null  object        \n",
      " 15  count_group        20038 non-null  int64         \n",
      " 16  activ_count_group  20038 non-null  int64         \n",
      " 17  error_group        20038 non-null  int64         \n",
      " 18  tir                20038 non-null  int64         \n",
      "dtypes: category(1), datetime64[ns](1), float64(4), int64(5), object(8)\n",
      "memory usage: 2.8+ MB\n"
     ]
    },
    {
     "data": {
      "text/plain": [
       "None"
      ]
     },
     "metadata": {},
     "output_type": "display_data"
    }
   ],
   "source": [
    "preprocessing(df)"
   ]
  },
  {
   "cell_type": "code",
   "execution_count": null,
   "id": "e69c4035",
   "metadata": {},
   "outputs": [],
   "source": []
  },
  {
   "cell_type": "code",
   "execution_count": null,
   "id": "455456a3",
   "metadata": {},
   "outputs": [],
   "source": []
  }
 ],
 "metadata": {
  "kernelspec": {
   "display_name": "Python 3 (ipykernel)",
   "language": "python",
   "name": "python3"
  },
  "language_info": {
   "codemirror_mode": {
    "name": "ipython",
    "version": 3
   },
   "file_extension": ".py",
   "mimetype": "text/x-python",
   "name": "python",
   "nbconvert_exporter": "python",
   "pygments_lexer": "ipython3",
   "version": "3.11.4"
  }
 },
 "nbformat": 4,
 "nbformat_minor": 5
}
