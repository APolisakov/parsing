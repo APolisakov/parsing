{
 "cells": [
  {
   "cell_type": "markdown",
   "id": "f661d034",
   "metadata": {},
   "source": [
    "# parsing_tir"
   ]
  },
  {
   "cell_type": "code",
   "execution_count": 1,
   "id": "c0a16e5a",
   "metadata": {},
   "outputs": [],
   "source": [
    "import pandas as pd\n",
    "import numpy as np\n",
    "import requests\n",
    "from bs4 import BeautifulSoup as bs\n",
    "import re\n",
    "from tqdm import trange, tqdm"
   ]
  },
  {
   "cell_type": "markdown",
   "id": "50e2394a",
   "metadata": {},
   "source": [
    "импорт библиотек"
   ]
  },
  {
   "cell_type": "code",
   "execution_count": null,
   "id": "064c382c",
   "metadata": {},
   "outputs": [],
   "source": [
    "reqx = requests.get('https://tiraet.com/catalog/bytovaya/?PAGEN_1=102')"
   ]
  },
  {
   "cell_type": "code",
   "execution_count": null,
   "id": "ddcf2fda",
   "metadata": {},
   "outputs": [],
   "source": [
    "soup = bs(reqx.text, 'html.parser')"
   ]
  },
  {
   "cell_type": "code",
   "execution_count": null,
   "id": "3fc017a2",
   "metadata": {},
   "outputs": [],
   "source": [
    "element = soup.findAll('div', class_='item_info')"
   ]
  },
  {
   "cell_type": "code",
   "execution_count": null,
   "id": "0ff2d7a4",
   "metadata": {},
   "outputs": [],
   "source": [
    "element"
   ]
  },
  {
   "cell_type": "code",
   "execution_count": 101,
   "id": "b28ca9ff",
   "metadata": {},
   "outputs": [
    {
     "data": {
      "text/plain": [
       "'Кофеварка Adler AD 4404cr (молотый кофе, эспрессо/капучино, рожк, 850Вт, 15бар, 1.6л)'"
      ]
     },
     "execution_count": 101,
     "metadata": {},
     "output_type": "execute_result"
    }
   ],
   "source": [
    "title = element[7].find('a', class_='dark_link js-notice-block__title option-font-bold font_sm').text.strip()\n",
    "title"
   ]
  },
  {
   "cell_type": "markdown",
   "id": "2ea6e209",
   "metadata": {},
   "source": [
    "создаем переменную с наименованием товара"
   ]
  },
  {
   "cell_type": "code",
   "execution_count": 102,
   "id": "0f40d00a",
   "metadata": {},
   "outputs": [],
   "source": [
    "urls = 'https://tiraet.com' + element[7].find('a', class_='dark_link js-notice-block__title option-font-bold font_sm')['href']"
   ]
  },
  {
   "cell_type": "code",
   "execution_count": 103,
   "id": "349b8881",
   "metadata": {
    "scrolled": true
   },
   "outputs": [],
   "source": [
    "counts = element[0].find('div', class_='item-stock js-show-stores js-show-info-block').text.strip()"
   ]
  },
  {
   "cell_type": "code",
   "execution_count": 104,
   "id": "b4c583d8",
   "metadata": {},
   "outputs": [],
   "source": [
    "art = int(element[0].find('div', class_='article_block').text.replace('Арт.: ',''))"
   ]
  },
  {
   "cell_type": "code",
   "execution_count": 105,
   "id": "e789b00b",
   "metadata": {},
   "outputs": [],
   "source": [
    "price = float(element[7].find('div', class_='price_matrix_wrapper').text.strip().replace(' руб','').replace(',','.').replace(' ',''))"
   ]
  },
  {
   "cell_type": "code",
   "execution_count": 106,
   "id": "66f72b8b",
   "metadata": {},
   "outputs": [],
   "source": [
    "old_price = float(element[7].find('div', class_='price_matrix_wrapper strike_block').text.strip().replace(' руб','').replace(',','.').replace(' ','')) if str(type(element[7].find('div', class_='price_matrix_wrapper strike_block'))) != \"<class 'NoneType'>\" else 0"
   ]
  },
  {
   "cell_type": "code",
   "execution_count": 107,
   "id": "9273d11d",
   "metadata": {},
   "outputs": [],
   "source": [
    "datе = pd.to_datetime('today').normalize()"
   ]
  },
  {
   "cell_type": "code",
   "execution_count": 110,
   "id": "ce99c49f",
   "metadata": {},
   "outputs": [],
   "source": [
    "data = []\n",
    "for i in element:\n",
    "    data.append({'title' : i.find('a', class_='dark_link js-notice-block__title option-font-bold font_sm').text.strip(),\n",
    "                 'urls' : 'https://tiraet.com' + i.find('a', class_='dark_link js-notice-block__title option-font-bold font_sm')['href'],  \n",
    "                 'datе' : pd.to_datetime('today').normalize(),                \n",
    "                 'counts' : i.find('div', class_='item-stock js-show-stores js-show-info-block').text.strip(),\n",
    "                'id' : int(i.find('div', class_='article_block').text.replace('Арт.: ','')),\n",
    "                 'price' : float(i.find('div', class_='price_matrix_wrapper').text.strip().replace(' руб','').replace(',','.').replace(' ','')) if str(type(i.find('div', class_='price_matrix_wrapper'))) != \"<class 'NoneType'>\" else np.NaN    ,\n",
    "                 'old_price' : float(i.find('div', class_='price_matrix_wrapper strike_block').text.strip().replace(' руб','').replace(',','.').replace(' ','')) if str(type(i.find('div', class_='price_matrix_wrapper strike_block'))) != \"<class 'NoneType'>\" else np.NaN                \n",
    "                })"
   ]
  },
  {
   "cell_type": "code",
   "execution_count": 120,
   "id": "236b2030",
   "metadata": {},
   "outputs": [
    {
     "data": {
      "text/html": [
       "<div>\n",
       "<style scoped>\n",
       "    .dataframe tbody tr th:only-of-type {\n",
       "        vertical-align: middle;\n",
       "    }\n",
       "\n",
       "    .dataframe tbody tr th {\n",
       "        vertical-align: top;\n",
       "    }\n",
       "\n",
       "    .dataframe thead th {\n",
       "        text-align: right;\n",
       "    }\n",
       "</style>\n",
       "<table border=\"1\" class=\"dataframe\">\n",
       "  <thead>\n",
       "    <tr style=\"text-align: right;\">\n",
       "      <th></th>\n",
       "      <th>title</th>\n",
       "      <th>urls</th>\n",
       "      <th>datе</th>\n",
       "      <th>counts</th>\n",
       "      <th>id</th>\n",
       "      <th>price</th>\n",
       "      <th>old_price</th>\n",
       "    </tr>\n",
       "  </thead>\n",
       "  <tbody>\n",
       "    <tr>\n",
       "      <th>0</th>\n",
       "      <td>85' Телевизор LED Samsung UE85CU7100UXUA SmTV,...</td>\n",
       "      <td>https://tiraet.com/catalog/bytovaya/televizor-...</td>\n",
       "      <td>2024-06-05</td>\n",
       "      <td>Мало</td>\n",
       "      <td>83664</td>\n",
       "      <td>34999.0</td>\n",
       "      <td>NaN</td>\n",
       "    </tr>\n",
       "    <tr>\n",
       "      <th>1</th>\n",
       "      <td>Кондиционер Cooper&amp;Hunter CHML-U36RK4 Outdoor ...</td>\n",
       "      <td>https://tiraet.com/catalog/bytovaya/klimatiche...</td>\n",
       "      <td>2024-06-05</td>\n",
       "      <td>Мало</td>\n",
       "      <td>80511</td>\n",
       "      <td>35599.1</td>\n",
       "      <td>NaN</td>\n",
       "    </tr>\n",
       "    <tr>\n",
       "      <th>2</th>\n",
       "      <td>Кондиционер Cooper&amp;Hunter CHML-U42RK5 Outdoor ...</td>\n",
       "      <td>https://tiraet.com/catalog/bytovaya/klimatiche...</td>\n",
       "      <td>2024-06-05</td>\n",
       "      <td>Достаточно</td>\n",
       "      <td>77115</td>\n",
       "      <td>36998.9</td>\n",
       "      <td>NaN</td>\n",
       "    </tr>\n",
       "    <tr>\n",
       "      <th>3</th>\n",
       "      <td>65' Телевизор OLED Samsung QE65S90CAUXUA SmTV,...</td>\n",
       "      <td>https://tiraet.com/catalog/bytovaya/televizor-...</td>\n",
       "      <td>2024-06-05</td>\n",
       "      <td>Мало</td>\n",
       "      <td>86148</td>\n",
       "      <td>35599.1</td>\n",
       "      <td>41998.9</td>\n",
       "    </tr>\n",
       "    <tr>\n",
       "      <th>4</th>\n",
       "      <td>75' Телевизор QLED Samsung QE75Q80CAUXUA SmTV,...</td>\n",
       "      <td>https://tiraet.com/catalog/bytovaya/televizor-...</td>\n",
       "      <td>2024-06-05</td>\n",
       "      <td>Мало</td>\n",
       "      <td>81035</td>\n",
       "      <td>40498.9</td>\n",
       "      <td>45799.1</td>\n",
       "    </tr>\n",
       "    <tr>\n",
       "      <th>5</th>\n",
       "      <td>85' Телевизор QLED Samsung QE85Q60CAUXUA SmTV,...</td>\n",
       "      <td>https://tiraet.com/catalog/bytovaya/televizor-...</td>\n",
       "      <td>2024-06-05</td>\n",
       "      <td>Мало</td>\n",
       "      <td>86142</td>\n",
       "      <td>36599.0</td>\n",
       "      <td>45999.0</td>\n",
       "    </tr>\n",
       "    <tr>\n",
       "      <th>6</th>\n",
       "      <td>Электрочайник Braun Multiquick 3 WK 300 (1.7л,...</td>\n",
       "      <td>https://tiraet.com/catalog/bytovaya/tehnika-dl...</td>\n",
       "      <td>2024-06-05</td>\n",
       "      <td>Нет в наличии</td>\n",
       "      <td>77716</td>\n",
       "      <td>NaN</td>\n",
       "      <td>NaN</td>\n",
       "    </tr>\n",
       "    <tr>\n",
       "      <th>7</th>\n",
       "      <td>Кофеварка Adler AD 4404cr (молотый кофе, эспре...</td>\n",
       "      <td>https://tiraet.com/catalog/bytovaya/tehnika-dl...</td>\n",
       "      <td>2024-06-05</td>\n",
       "      <td>Нет в наличии</td>\n",
       "      <td>75833</td>\n",
       "      <td>1558.0</td>\n",
       "      <td>NaN</td>\n",
       "    </tr>\n",
       "  </tbody>\n",
       "</table>\n",
       "</div>"
      ],
      "text/plain": [
       "                                               title  \\\n",
       "0  85' Телевизор LED Samsung UE85CU7100UXUA SmTV,...   \n",
       "1  Кондиционер Cooper&Hunter CHML-U36RK4 Outdoor ...   \n",
       "2  Кондиционер Cooper&Hunter CHML-U42RK5 Outdoor ...   \n",
       "3  65' Телевизор OLED Samsung QE65S90CAUXUA SmTV,...   \n",
       "4  75' Телевизор QLED Samsung QE75Q80CAUXUA SmTV,...   \n",
       "5  85' Телевизор QLED Samsung QE85Q60CAUXUA SmTV,...   \n",
       "6  Электрочайник Braun Multiquick 3 WK 300 (1.7л,...   \n",
       "7  Кофеварка Adler AD 4404cr (молотый кофе, эспре...   \n",
       "\n",
       "                                                urls       datе  \\\n",
       "0  https://tiraet.com/catalog/bytovaya/televizor-... 2024-06-05   \n",
       "1  https://tiraet.com/catalog/bytovaya/klimatiche... 2024-06-05   \n",
       "2  https://tiraet.com/catalog/bytovaya/klimatiche... 2024-06-05   \n",
       "3  https://tiraet.com/catalog/bytovaya/televizor-... 2024-06-05   \n",
       "4  https://tiraet.com/catalog/bytovaya/televizor-... 2024-06-05   \n",
       "5  https://tiraet.com/catalog/bytovaya/televizor-... 2024-06-05   \n",
       "6  https://tiraet.com/catalog/bytovaya/tehnika-dl... 2024-06-05   \n",
       "7  https://tiraet.com/catalog/bytovaya/tehnika-dl... 2024-06-05   \n",
       "\n",
       "          counts     id    price  old_price  \n",
       "0           Мало  83664  34999.0        NaN  \n",
       "1           Мало  80511  35599.1        NaN  \n",
       "2     Достаточно  77115  36998.9        NaN  \n",
       "3           Мало  86148  35599.1    41998.9  \n",
       "4           Мало  81035  40498.9    45799.1  \n",
       "5           Мало  86142  36599.0    45999.0  \n",
       "6  Нет в наличии  77716      NaN        NaN  \n",
       "7  Нет в наличии  75833   1558.0        NaN  "
      ]
     },
     "execution_count": 120,
     "metadata": {},
     "output_type": "execute_result"
    }
   ],
   "source": [
    "data = pd.DataFrame(data)\n",
    "data"
   ]
  },
  {
   "cell_type": "code",
   "execution_count": 15,
   "id": "5a09642a",
   "metadata": {},
   "outputs": [],
   "source": [
    "def preprocessing(x):\n",
    "    print(f'таблица имеет следующий вид:')\n",
    "    display(x.head())\n",
    "    print('*'*100)\n",
    "    print(f'таблица имеет {x.shape[0]} сторок и {x.shape[1]} столбцов')\n",
    "    print('*'*100)\n",
    "    print(f'в таблице обнаружено дублекатов:{x.duplicated().sum()}')\n",
    "    print('*'*100)\n",
    "    print('в таблице обнаружены пропуски в следующих столбцах:')\n",
    "    display(x.isna().sum())\n",
    "    print('*'*100)\n",
    "    print('Эти пропуски составлябт следующее количество в процентах')\n",
    "    display((x.isna().mean()* 100).round(1))\n",
    "    print('*'*100)\n",
    "    print('столбцы имеют следующие типы:')\n",
    "    display(x.dtypes)\n",
    "    x.columns = [y.lower().replace(' ', '_') for y in x.columns.values] \n",
    "    print('*'*100)\n",
    "    print('названия столбцов переписаны в нижнем регистре, пробелы заменены на нижнее подчеркивание')\n",
    "    print('*'*100)\n",
    "    display(x.info())"
   ]
  },
  {
   "cell_type": "markdown",
   "id": "d21da9cc",
   "metadata": {},
   "source": [
    "создаем функцию предварительного просмотра данных"
   ]
  },
  {
   "cell_type": "code",
   "execution_count": 16,
   "id": "f77f3847",
   "metadata": {},
   "outputs": [],
   "source": [
    "url = ['https://tiraet.com/catalog/PHoto--i-video/?PAGEN_1=']"
   ]
  },
  {
   "cell_type": "code",
   "execution_count": 117,
   "id": "e5f55a23",
   "metadata": {},
   "outputs": [],
   "source": [
    "url = ['https://tiraet.com/catalog/bytovaya/?PAGEN_1=102'] "
   ]
  },
  {
   "cell_type": "code",
   "execution_count": 72,
   "id": "aefab233",
   "metadata": {},
   "outputs": [],
   "source": [
    "oll_url=['https://tiraet.com/catalog/Komplektujuschie/?PAGEN_1=',\n",
    "         'https://tiraet.com/catalog/2873/?PAGEN_1=',\n",
    "         'https://tiraet.com/catalog/Kompjuternaja-mebel/?PAGEN_1=',\n",
    "         'https://tiraet.com/catalog/bytovaya/?PAGEN_1=',\n",
    "         'https://tiraet.com/catalog/ohrannye-sistemy/?PAGEN_1=',\n",
    "         'https://tiraet.com/catalog/svet-i-jelektrika/?PAGEN_1=',\n",
    "         'https://tiraet.com/catalog/orgtehnika/?PAGEN_1=',\n",
    "         'https://tiraet.com/catalog/PHoto--i-video/?PAGEN_1=',\n",
    "         'https://tiraet.com/catalog/setevoe-oborudovanie/?PAGEN_1=',\n",
    "         'https://tiraet.com/catalog/jelektropitanie/?PAGEN_1=',\n",
    "         'https://tiraet.com/catalog/uslugi/?PAGEN_1=',\n",
    "         'https://tiraet.com/catalog/avtojelektronika/?PAGEN_1=',\n",
    "         'https://tiraet.com/catalog/rashodnye-materialy/?PAGEN_1=',\n",
    "         \n",
    "]"
   ]
  },
  {
   "cell_type": "code",
   "execution_count": 111,
   "id": "7696c601",
   "metadata": {},
   "outputs": [],
   "source": [
    "j=1\n",
    "def parsing_2(url):\n",
    "    data = pd.DataFrame(columns=['title', 'urls', 'datе', 'counts', 'id', 'price', 'old_price'])    \n",
    "    for u in url:\n",
    "        reqx = requests.get(u)\n",
    "        soup = bs(reqx.text, 'html.parser')\n",
    "        max_page = soup.findAll('div', class_='nums')\n",
    "        maxx = int(max_page[0].text.strip().split('\\n')[-1])\n",
    "        for j in tqdm(range(1,maxx + 1)):        \n",
    "            reqx = requests.get(u + str(j))\n",
    "            soup = bs(reqx.text, 'html.parser')\n",
    "            element = soup.findAll('div', class_='item_info')\n",
    "            datax = []\n",
    "            for i in element:\n",
    "                datax.append({'title' : i.find('a', class_='dark_link js-notice-block__title option-font-bold font_sm').text.strip(),\n",
    "                             'urls' : 'https://tiraet.com' + i.find('a', class_='dark_link js-notice-block__title option-font-bold font_sm')['href'],\n",
    "                             'datе' : pd.to_datetime('today').normalize(),\n",
    "                             'counts' : i.find('div', class_='item-stock js-show-stores js-show-info-block').text.strip(),\n",
    "                             'id' : int(i.find('div', class_='article_block').text.replace('Арт.: ','')),\n",
    "                             'price' : float(i.find('div', class_='price_matrix_wrapper').text.strip().replace(' руб','').replace(',','.').replace(' ','')) if str(type(i.find('div', class_='price_matrix_wrapper'))) != \"<class 'NoneType'>\" else np.NaN ,\n",
    "                             'old_price' : float(i.find('div', class_='price_matrix_wrapper strike_block').text.strip().replace(' руб','').replace(',','.').replace(' ','')) if str(type(i.find('div', class_='price_matrix_wrapper strike_block'))) != \"<class 'NoneType'>\" else np.NaN \n",
    "                            })\n",
    "            datax = pd.DataFrame(datax)\n",
    "            data = pd.concat([data, datax] , ignore_index=True)\n",
    "    return data"
   ]
  },
  {
   "cell_type": "code",
   "execution_count": 121,
   "id": "580002b9",
   "metadata": {
    "scrolled": false
   },
   "outputs": [
    {
     "name": "stderr",
     "output_type": "stream",
     "text": [
      "100%|████████████████████████████████████████████████████████████████████████████████| 182/182 [12:27<00:00,  4.10s/it]\n",
      "100%|██████████████████████████████████████████████████████████████████████████████████| 16/16 [01:22<00:00,  5.14s/it]\n",
      "100%|██████████████████████████████████████████████████████████████████████████████████| 24/24 [01:32<00:00,  3.85s/it]\n",
      "100%|████████████████████████████████████████████████████████████████████████████████| 102/102 [07:32<00:00,  4.44s/it]\n",
      "100%|██████████████████████████████████████████████████████████████████████████████████| 34/34 [01:50<00:00,  3.24s/it]\n",
      "100%|██████████████████████████████████████████████████████████████████████████████████| 60/60 [02:48<00:00,  2.82s/it]\n",
      "100%|██████████████████████████████████████████████████████████████████████████████████| 10/10 [00:39<00:00,  3.92s/it]\n",
      "100%|████████████████████████████████████████████████████████████████████████████████████| 4/4 [00:12<00:00,  3.04s/it]\n",
      "100%|██████████████████████████████████████████████████████████████████████████████████| 32/32 [02:25<00:00,  4.54s/it]\n",
      "100%|██████████████████████████████████████████████████████████████████████████████████| 25/25 [01:54<00:00,  4.57s/it]\n",
      "100%|████████████████████████████████████████████████████████████████████████████████████| 5/5 [00:19<00:00,  3.86s/it]\n",
      "100%|████████████████████████████████████████████████████████████████████████████████████| 6/6 [00:31<00:00,  5.20s/it]\n",
      "100%|██████████████████████████████████████████████████████████████████████████████████| 80/80 [03:18<00:00,  2.48s/it]\n"
     ]
    },
    {
     "data": {
      "text/html": [
       "<div>\n",
       "<style scoped>\n",
       "    .dataframe tbody tr th:only-of-type {\n",
       "        vertical-align: middle;\n",
       "    }\n",
       "\n",
       "    .dataframe tbody tr th {\n",
       "        vertical-align: top;\n",
       "    }\n",
       "\n",
       "    .dataframe thead th {\n",
       "        text-align: right;\n",
       "    }\n",
       "</style>\n",
       "<table border=\"1\" class=\"dataframe\">\n",
       "  <thead>\n",
       "    <tr style=\"text-align: right;\">\n",
       "      <th></th>\n",
       "      <th>title</th>\n",
       "      <th>urls</th>\n",
       "      <th>datе</th>\n",
       "      <th>counts</th>\n",
       "      <th>id</th>\n",
       "      <th>price</th>\n",
       "      <th>old_price</th>\n",
       "    </tr>\n",
       "  </thead>\n",
       "  <tbody>\n",
       "    <tr>\n",
       "      <th>0</th>\n",
       "      <td>Переходник для мыши COM в PS/2 (A-235)</td>\n",
       "      <td>https://tiraet.com/catalog/Komplektujuschie/ak...</td>\n",
       "      <td>2024-06-05</td>\n",
       "      <td>Много</td>\n",
       "      <td>284</td>\n",
       "      <td>5.0</td>\n",
       "      <td>NaN</td>\n",
       "    </tr>\n",
       "    <tr>\n",
       "      <th>1</th>\n",
       "      <td>Кабель MINI USB2.0 (A - MINI USB 4PM)1,8м (CC-...</td>\n",
       "      <td>https://tiraet.com/catalog/Komplektujuschie/ak...</td>\n",
       "      <td>2024-06-05</td>\n",
       "      <td>Много</td>\n",
       "      <td>8683</td>\n",
       "      <td>5.0</td>\n",
       "      <td>NaN</td>\n",
       "    </tr>\n",
       "    <tr>\n",
       "      <th>2</th>\n",
       "      <td>BOX для CD/DVD Verbatim Slim, на 1 диск 120мм,...</td>\n",
       "      <td>https://tiraet.com/catalog/Komplektujuschie/ak...</td>\n",
       "      <td>2024-06-05</td>\n",
       "      <td>Много</td>\n",
       "      <td>85078</td>\n",
       "      <td>6.6</td>\n",
       "      <td>NaN</td>\n",
       "    </tr>\n",
       "    <tr>\n",
       "      <th>3</th>\n",
       "      <td>Диск CD-R 700MB VERBATIM, 52X (1шт) EXTRA PROT...</td>\n",
       "      <td>https://tiraet.com/catalog/Komplektujuschie/ak...</td>\n",
       "      <td>2024-06-05</td>\n",
       "      <td>Много</td>\n",
       "      <td>12819</td>\n",
       "      <td>6.6</td>\n",
       "      <td>NaN</td>\n",
       "    </tr>\n",
       "    <tr>\n",
       "      <th>4</th>\n",
       "      <td>Диск DVD+R VERBATIM 16X 4,7GB  (1шт.)  (43550/...</td>\n",
       "      <td>https://tiraet.com/catalog/Komplektujuschie/ak...</td>\n",
       "      <td>2024-06-05</td>\n",
       "      <td>Много</td>\n",
       "      <td>4975</td>\n",
       "      <td>7.4</td>\n",
       "      <td>NaN</td>\n",
       "    </tr>\n",
       "    <tr>\n",
       "      <th>...</th>\n",
       "      <td>...</td>\n",
       "      <td>...</td>\n",
       "      <td>...</td>\n",
       "      <td>...</td>\n",
       "      <td>...</td>\n",
       "      <td>...</td>\n",
       "      <td>...</td>\n",
       "    </tr>\n",
       "    <tr>\n",
       "      <th>11419</th>\n",
       "      <td>Головка для плоттеров Canon PF-03 (2251B001)</td>\n",
       "      <td>https://tiraet.com/catalog/rashodnye-materialy...</td>\n",
       "      <td>2024-06-05</td>\n",
       "      <td>Мало</td>\n",
       "      <td>27477</td>\n",
       "      <td>7920.0</td>\n",
       "      <td>NaN</td>\n",
       "    </tr>\n",
       "    <tr>\n",
       "      <th>11420</th>\n",
       "      <td>Узел термозакрепления (для сетевых апп)CANON i...</td>\n",
       "      <td>https://tiraet.com/catalog/rashodnye-materialy...</td>\n",
       "      <td>2024-06-05</td>\n",
       "      <td>Мало</td>\n",
       "      <td>55309</td>\n",
       "      <td>8085.0</td>\n",
       "      <td>NaN</td>\n",
       "    </tr>\n",
       "    <tr>\n",
       "      <th>11421</th>\n",
       "      <td>Головка для плоттеров Canon PF-04 (3630B001)</td>\n",
       "      <td>https://tiraet.com/catalog/rashodnye-materialy...</td>\n",
       "      <td>2024-06-05</td>\n",
       "      <td>Мало</td>\n",
       "      <td>56144</td>\n",
       "      <td>8250.0</td>\n",
       "      <td>NaN</td>\n",
       "    </tr>\n",
       "    <tr>\n",
       "      <th>11422</th>\n",
       "      <td>Картридж EPSON MX-80/LX-300/400/800/850/880 Pa...</td>\n",
       "      <td>https://tiraet.com/catalog/rashodnye-materialy...</td>\n",
       "      <td>2024-06-05</td>\n",
       "      <td>Нет в наличии</td>\n",
       "      <td>249</td>\n",
       "      <td>38.0</td>\n",
       "      <td>NaN</td>\n",
       "    </tr>\n",
       "    <tr>\n",
       "      <th>11423</th>\n",
       "      <td>Комплект восстановления Canon IR-1435  CET5280...</td>\n",
       "      <td>https://tiraet.com/catalog/rashodnye-materialy...</td>\n",
       "      <td>2024-06-05</td>\n",
       "      <td>Нет в наличии</td>\n",
       "      <td>68689</td>\n",
       "      <td>594.0</td>\n",
       "      <td>NaN</td>\n",
       "    </tr>\n",
       "  </tbody>\n",
       "</table>\n",
       "<p>11424 rows × 7 columns</p>\n",
       "</div>"
      ],
      "text/plain": [
       "                                                   title  \\\n",
       "0                 Переходник для мыши COM в PS/2 (A-235)   \n",
       "1      Кабель MINI USB2.0 (A - MINI USB 4PM)1,8м (CC-...   \n",
       "2      BOX для CD/DVD Verbatim Slim, на 1 диск 120мм,...   \n",
       "3      Диск CD-R 700MB VERBATIM, 52X (1шт) EXTRA PROT...   \n",
       "4      Диск DVD+R VERBATIM 16X 4,7GB  (1шт.)  (43550/...   \n",
       "...                                                  ...   \n",
       "11419       Головка для плоттеров Canon PF-03 (2251B001)   \n",
       "11420  Узел термозакрепления (для сетевых апп)CANON i...   \n",
       "11421       Головка для плоттеров Canon PF-04 (3630B001)   \n",
       "11422  Картридж EPSON MX-80/LX-300/400/800/850/880 Pa...   \n",
       "11423  Комплект восстановления Canon IR-1435  CET5280...   \n",
       "\n",
       "                                                    urls       datе  \\\n",
       "0      https://tiraet.com/catalog/Komplektujuschie/ak... 2024-06-05   \n",
       "1      https://tiraet.com/catalog/Komplektujuschie/ak... 2024-06-05   \n",
       "2      https://tiraet.com/catalog/Komplektujuschie/ak... 2024-06-05   \n",
       "3      https://tiraet.com/catalog/Komplektujuschie/ak... 2024-06-05   \n",
       "4      https://tiraet.com/catalog/Komplektujuschie/ak... 2024-06-05   \n",
       "...                                                  ...        ...   \n",
       "11419  https://tiraet.com/catalog/rashodnye-materialy... 2024-06-05   \n",
       "11420  https://tiraet.com/catalog/rashodnye-materialy... 2024-06-05   \n",
       "11421  https://tiraet.com/catalog/rashodnye-materialy... 2024-06-05   \n",
       "11422  https://tiraet.com/catalog/rashodnye-materialy... 2024-06-05   \n",
       "11423  https://tiraet.com/catalog/rashodnye-materialy... 2024-06-05   \n",
       "\n",
       "              counts     id   price  old_price  \n",
       "0              Много    284     5.0        NaN  \n",
       "1              Много   8683     5.0        NaN  \n",
       "2              Много  85078     6.6        NaN  \n",
       "3              Много  12819     6.6        NaN  \n",
       "4              Много   4975     7.4        NaN  \n",
       "...              ...    ...     ...        ...  \n",
       "11419           Мало  27477  7920.0        NaN  \n",
       "11420           Мало  55309  8085.0        NaN  \n",
       "11421           Мало  56144  8250.0        NaN  \n",
       "11422  Нет в наличии    249    38.0        NaN  \n",
       "11423  Нет в наличии  68689   594.0        NaN  \n",
       "\n",
       "[11424 rows x 7 columns]"
      ]
     },
     "execution_count": 121,
     "metadata": {},
     "output_type": "execute_result"
    }
   ],
   "source": [
    "df = parsing_2(oll_url)\n",
    "df"
   ]
  },
  {
   "cell_type": "code",
   "execution_count": 122,
   "id": "0132aa7b",
   "metadata": {},
   "outputs": [],
   "source": [
    "today = pd.to_datetime('today').normalize()"
   ]
  },
  {
   "cell_type": "code",
   "execution_count": 123,
   "id": "daf1786b",
   "metadata": {},
   "outputs": [],
   "source": [
    "today = today.to_pydatetime()"
   ]
  },
  {
   "cell_type": "markdown",
   "id": "10fef9fd",
   "metadata": {},
   "source": [
    "создаем переменную, которая хранит информацию о текущей дате"
   ]
  },
  {
   "cell_type": "code",
   "execution_count": 124,
   "id": "898e3a24",
   "metadata": {},
   "outputs": [],
   "source": [
    "df.to_csv('csv/tiraet_'+str(today.day)+'_'+str(today.month)+'_'+str(today.year)+'.csv', index=False)  "
   ]
  },
  {
   "cell_type": "code",
   "execution_count": 125,
   "id": "cb8cca84",
   "metadata": {},
   "outputs": [
    {
     "data": {
      "text/html": [
       "<div>\n",
       "<style scoped>\n",
       "    .dataframe tbody tr th:only-of-type {\n",
       "        vertical-align: middle;\n",
       "    }\n",
       "\n",
       "    .dataframe tbody tr th {\n",
       "        vertical-align: top;\n",
       "    }\n",
       "\n",
       "    .dataframe thead th {\n",
       "        text-align: right;\n",
       "    }\n",
       "</style>\n",
       "<table border=\"1\" class=\"dataframe\">\n",
       "  <thead>\n",
       "    <tr style=\"text-align: right;\">\n",
       "      <th></th>\n",
       "      <th>title</th>\n",
       "      <th>urls</th>\n",
       "      <th>datе</th>\n",
       "      <th>counts</th>\n",
       "      <th>id</th>\n",
       "      <th>price</th>\n",
       "      <th>old_price</th>\n",
       "    </tr>\n",
       "  </thead>\n",
       "  <tbody>\n",
       "    <tr>\n",
       "      <th>3622</th>\n",
       "      <td>DVD+-RW/CD-RW LITEON IHAS124-04 DL, BLACK</td>\n",
       "      <td>https://tiraet.com/catalog/Komplektujuschie/ko...</td>\n",
       "      <td>2024-06-05</td>\n",
       "      <td>Нет в наличии</td>\n",
       "      <td>36716</td>\n",
       "      <td>278.8</td>\n",
       "      <td>NaN</td>\n",
       "    </tr>\n",
       "    <tr>\n",
       "      <th>4398</th>\n",
       "      <td>Освежитель воздуха автоматический Air Wick Lif...</td>\n",
       "      <td>https://tiraet.com/catalog/Kompjuternaja-mebel...</td>\n",
       "      <td>2024-06-05</td>\n",
       "      <td>Нет в наличии</td>\n",
       "      <td>77805</td>\n",
       "      <td>99.0</td>\n",
       "      <td>NaN</td>\n",
       "    </tr>\n",
       "    <tr>\n",
       "      <th>4399</th>\n",
       "      <td>Освежитель воздуха автоматический Air Wick Lif...</td>\n",
       "      <td>https://tiraet.com/catalog/Kompjuternaja-mebel...</td>\n",
       "      <td>2024-06-05</td>\n",
       "      <td>Нет в наличии</td>\n",
       "      <td>77803</td>\n",
       "      <td>99.0</td>\n",
       "      <td>NaN</td>\n",
       "    </tr>\n",
       "    <tr>\n",
       "      <th>6426</th>\n",
       "      <td>Электрочайник Braun Multiquick 3 WK 300 (1.7л,...</td>\n",
       "      <td>https://tiraet.com/catalog/bytovaya/tehnika-dl...</td>\n",
       "      <td>2024-06-05</td>\n",
       "      <td>Нет в наличии</td>\n",
       "      <td>77716</td>\n",
       "      <td>NaN</td>\n",
       "      <td>NaN</td>\n",
       "    </tr>\n",
       "    <tr>\n",
       "      <th>6427</th>\n",
       "      <td>Кофеварка Adler AD 4404cr (молотый кофе, эспре...</td>\n",
       "      <td>https://tiraet.com/catalog/bytovaya/tehnika-dl...</td>\n",
       "      <td>2024-06-05</td>\n",
       "      <td>Нет в наличии</td>\n",
       "      <td>75833</td>\n",
       "      <td>1558.0</td>\n",
       "      <td>NaN</td>\n",
       "    </tr>\n",
       "    <tr>\n",
       "      <th>8274</th>\n",
       "      <td>Лампа светодиодная BELLIGHT R63 7,5W E27 4000K</td>\n",
       "      <td>https://tiraet.com/catalog/svet-i-jelektrika/l...</td>\n",
       "      <td>2024-06-05</td>\n",
       "      <td>Нет в наличии</td>\n",
       "      <td>78759</td>\n",
       "      <td>NaN</td>\n",
       "      <td>NaN</td>\n",
       "    </tr>\n",
       "    <tr>\n",
       "      <th>9151</th>\n",
       "      <td>Точка доступа, настенная установка, Wi-Fi 6, T...</td>\n",
       "      <td>https://tiraet.com/catalog/setevoe-oborudovani...</td>\n",
       "      <td>2024-06-05</td>\n",
       "      <td>Нет в наличии</td>\n",
       "      <td>78432</td>\n",
       "      <td>NaN</td>\n",
       "      <td>NaN</td>\n",
       "    </tr>\n",
       "    <tr>\n",
       "      <th>9152</th>\n",
       "      <td>PATCH CORD FTP CAT.5E, 20м. LANBERG (PCF5-10CC...</td>\n",
       "      <td>https://tiraet.com/catalog/setevoe-oborudovani...</td>\n",
       "      <td>2024-06-05</td>\n",
       "      <td>Нет в наличии</td>\n",
       "      <td>75701</td>\n",
       "      <td>6.5</td>\n",
       "      <td>7.0</td>\n",
       "    </tr>\n",
       "    <tr>\n",
       "      <th>11422</th>\n",
       "      <td>Картридж EPSON MX-80/LX-300/400/800/850/880 Pa...</td>\n",
       "      <td>https://tiraet.com/catalog/rashodnye-materialy...</td>\n",
       "      <td>2024-06-05</td>\n",
       "      <td>Нет в наличии</td>\n",
       "      <td>249</td>\n",
       "      <td>38.0</td>\n",
       "      <td>NaN</td>\n",
       "    </tr>\n",
       "    <tr>\n",
       "      <th>11423</th>\n",
       "      <td>Комплект восстановления Canon IR-1435  CET5280...</td>\n",
       "      <td>https://tiraet.com/catalog/rashodnye-materialy...</td>\n",
       "      <td>2024-06-05</td>\n",
       "      <td>Нет в наличии</td>\n",
       "      <td>68689</td>\n",
       "      <td>594.0</td>\n",
       "      <td>NaN</td>\n",
       "    </tr>\n",
       "  </tbody>\n",
       "</table>\n",
       "</div>"
      ],
      "text/plain": [
       "                                                   title  \\\n",
       "3622           DVD+-RW/CD-RW LITEON IHAS124-04 DL, BLACK   \n",
       "4398   Освежитель воздуха автоматический Air Wick Lif...   \n",
       "4399   Освежитель воздуха автоматический Air Wick Lif...   \n",
       "6426   Электрочайник Braun Multiquick 3 WK 300 (1.7л,...   \n",
       "6427   Кофеварка Adler AD 4404cr (молотый кофе, эспре...   \n",
       "8274      Лампа светодиодная BELLIGHT R63 7,5W E27 4000K   \n",
       "9151   Точка доступа, настенная установка, Wi-Fi 6, T...   \n",
       "9152   PATCH CORD FTP CAT.5E, 20м. LANBERG (PCF5-10CC...   \n",
       "11422  Картридж EPSON MX-80/LX-300/400/800/850/880 Pa...   \n",
       "11423  Комплект восстановления Canon IR-1435  CET5280...   \n",
       "\n",
       "                                                    urls       datе  \\\n",
       "3622   https://tiraet.com/catalog/Komplektujuschie/ko... 2024-06-05   \n",
       "4398   https://tiraet.com/catalog/Kompjuternaja-mebel... 2024-06-05   \n",
       "4399   https://tiraet.com/catalog/Kompjuternaja-mebel... 2024-06-05   \n",
       "6426   https://tiraet.com/catalog/bytovaya/tehnika-dl... 2024-06-05   \n",
       "6427   https://tiraet.com/catalog/bytovaya/tehnika-dl... 2024-06-05   \n",
       "8274   https://tiraet.com/catalog/svet-i-jelektrika/l... 2024-06-05   \n",
       "9151   https://tiraet.com/catalog/setevoe-oborudovani... 2024-06-05   \n",
       "9152   https://tiraet.com/catalog/setevoe-oborudovani... 2024-06-05   \n",
       "11422  https://tiraet.com/catalog/rashodnye-materialy... 2024-06-05   \n",
       "11423  https://tiraet.com/catalog/rashodnye-materialy... 2024-06-05   \n",
       "\n",
       "              counts     id   price  old_price  \n",
       "3622   Нет в наличии  36716   278.8        NaN  \n",
       "4398   Нет в наличии  77805    99.0        NaN  \n",
       "4399   Нет в наличии  77803    99.0        NaN  \n",
       "6426   Нет в наличии  77716     NaN        NaN  \n",
       "6427   Нет в наличии  75833  1558.0        NaN  \n",
       "8274   Нет в наличии  78759     NaN        NaN  \n",
       "9151   Нет в наличии  78432     NaN        NaN  \n",
       "9152   Нет в наличии  75701     6.5        7.0  \n",
       "11422  Нет в наличии    249    38.0        NaN  \n",
       "11423  Нет в наличии  68689   594.0        NaN  "
      ]
     },
     "execution_count": 125,
     "metadata": {},
     "output_type": "execute_result"
    }
   ],
   "source": [
    "df[df['counts']=='Нет в наличии']"
   ]
  },
  {
   "cell_type": "code",
   "execution_count": 126,
   "id": "8df57eb8",
   "metadata": {},
   "outputs": [
    {
     "data": {
      "text/plain": [
       "array(['Много', 'Мало', 'Достаточно', 'Нет в наличии'], dtype=object)"
      ]
     },
     "execution_count": 126,
     "metadata": {},
     "output_type": "execute_result"
    }
   ],
   "source": [
    "df['counts'].unique()"
   ]
  },
  {
   "cell_type": "code",
   "execution_count": null,
   "id": "777027af",
   "metadata": {},
   "outputs": [],
   "source": []
  },
  {
   "cell_type": "code",
   "execution_count": null,
   "id": "0486d5b0",
   "metadata": {
    "scrolled": true
   },
   "outputs": [],
   "source": [
    "preprocessing(df)"
   ]
  }
 ],
 "metadata": {
  "kernelspec": {
   "display_name": "Python 3 (ipykernel)",
   "language": "python",
   "name": "python3"
  },
  "language_info": {
   "codemirror_mode": {
    "name": "ipython",
    "version": 3
   },
   "file_extension": ".py",
   "mimetype": "text/x-python",
   "name": "python",
   "nbconvert_exporter": "python",
   "pygments_lexer": "ipython3",
   "version": "3.11.4"
  }
 },
 "nbformat": 4,
 "nbformat_minor": 5
}
