{
 "cells": [
  {
   "cell_type": "markdown",
   "id": "cf7192eb",
   "metadata": {},
   "source": [
    "# аналитика хайтек"
   ]
  },
  {
   "cell_type": "code",
   "execution_count": 1,
   "id": "b2c57ca7",
   "metadata": {},
   "outputs": [],
   "source": [
    "import pandas as pd\n",
    "from tqdm import trange, tqdm\n",
    "import numpy as np\n",
    "from IPython.display import display"
   ]
  },
  {
   "cell_type": "markdown",
   "id": "b1476e7c",
   "metadata": {},
   "source": [
    "импортируем библиотеки"
   ]
  },
  {
   "cell_type": "code",
   "execution_count": 2,
   "id": "e79d6ae2",
   "metadata": {},
   "outputs": [],
   "source": [
    "df = pd.read_csv('csv/hi_tech_2024_6_7.csv')   "
   ]
  },
  {
   "cell_type": "markdown",
   "id": "2979e3bd",
   "metadata": {},
   "source": [
    "загружаем файл"
   ]
  },
  {
   "cell_type": "code",
   "execution_count": 3,
   "id": "97a726ea",
   "metadata": {},
   "outputs": [],
   "source": [
    "brend = pd.read_excel('csv/brend.xlsx')"
   ]
  },
  {
   "cell_type": "code",
   "execution_count": 4,
   "id": "5a4e6e8b",
   "metadata": {},
   "outputs": [],
   "source": [
    "def lower(x):\n",
    "    return x.lower()"
   ]
  },
  {
   "cell_type": "code",
   "execution_count": 5,
   "id": "ac3d1d3c",
   "metadata": {},
   "outputs": [],
   "source": [
    "brend['names'] = brend['name'].apply(lower)"
   ]
  },
  {
   "cell_type": "code",
   "execution_count": 6,
   "id": "88463ec0",
   "metadata": {},
   "outputs": [],
   "source": [
    "brend_up = brend.name.unique()\n",
    "brend_low = brend.names.unique()"
   ]
  },
  {
   "cell_type": "markdown",
   "id": "68058b8b",
   "metadata": {},
   "source": [
    "загружаем и создаем переменную с брендами"
   ]
  },
  {
   "cell_type": "code",
   "execution_count": 7,
   "id": "22df1005",
   "metadata": {},
   "outputs": [
    {
     "data": {
      "text/html": [
       "<div>\n",
       "<style scoped>\n",
       "    .dataframe tbody tr th:only-of-type {\n",
       "        vertical-align: middle;\n",
       "    }\n",
       "\n",
       "    .dataframe tbody tr th {\n",
       "        vertical-align: top;\n",
       "    }\n",
       "\n",
       "    .dataframe thead th {\n",
       "        text-align: right;\n",
       "    }\n",
       "</style>\n",
       "<table border=\"1\" class=\"dataframe\">\n",
       "  <thead>\n",
       "    <tr style=\"text-align: right;\">\n",
       "      <th></th>\n",
       "      <th>soup_name</th>\n",
       "      <th>id</th>\n",
       "      <th>date</th>\n",
       "      <th>availability</th>\n",
       "      <th>title</th>\n",
       "      <th>price</th>\n",
       "      <th>old_price</th>\n",
       "    </tr>\n",
       "  </thead>\n",
       "  <tbody>\n",
       "    <tr>\n",
       "      <th>0</th>\n",
       "      <td>https://hi-tech.md/televizory-i-elektronika/ba...</td>\n",
       "      <td>Т-000088228</td>\n",
       "      <td>2024-06-07</td>\n",
       "      <td>В наличии</td>\n",
       "      <td>Батарейка Energenie EG-BA-CR1220-01</td>\n",
       "      <td>4.0</td>\n",
       "      <td>NaN</td>\n",
       "    </tr>\n",
       "    <tr>\n",
       "      <th>1</th>\n",
       "      <td>https://hi-tech.md/televizory-i-elektronika/ba...</td>\n",
       "      <td>Т-000088229</td>\n",
       "      <td>2024-06-07</td>\n",
       "      <td>В наличии</td>\n",
       "      <td>Батарейка Energenie EG-BA-CR2016-01</td>\n",
       "      <td>4.0</td>\n",
       "      <td>NaN</td>\n",
       "    </tr>\n",
       "    <tr>\n",
       "      <th>2</th>\n",
       "      <td>https://hi-tech.md/televizory-i-elektronika/ba...</td>\n",
       "      <td>Т-000088221</td>\n",
       "      <td>2024-06-07</td>\n",
       "      <td>В наличии</td>\n",
       "      <td>Батарейка Energenie EG-BA-AA4-01</td>\n",
       "      <td>5.0</td>\n",
       "      <td>NaN</td>\n",
       "    </tr>\n",
       "    <tr>\n",
       "      <th>3</th>\n",
       "      <td>https://hi-tech.md/televizory-i-elektronika/ba...</td>\n",
       "      <td>Т-000088222</td>\n",
       "      <td>2024-06-07</td>\n",
       "      <td>В наличии</td>\n",
       "      <td>Батарейка Energenie EG-BA-AAA4-01</td>\n",
       "      <td>5.0</td>\n",
       "      <td>NaN</td>\n",
       "    </tr>\n",
       "    <tr>\n",
       "      <th>4</th>\n",
       "      <td>https://hi-tech.md/televizory-i-elektronika/ba...</td>\n",
       "      <td>Т-000088230</td>\n",
       "      <td>2024-06-07</td>\n",
       "      <td>В наличии</td>\n",
       "      <td>Батарейка Energenie EG-BA-CR2025-01</td>\n",
       "      <td>5.0</td>\n",
       "      <td>NaN</td>\n",
       "    </tr>\n",
       "    <tr>\n",
       "      <th>...</th>\n",
       "      <td>...</td>\n",
       "      <td>...</td>\n",
       "      <td>...</td>\n",
       "      <td>...</td>\n",
       "      <td>...</td>\n",
       "      <td>...</td>\n",
       "      <td>...</td>\n",
       "    </tr>\n",
       "    <tr>\n",
       "      <th>5971</th>\n",
       "      <td>https://hi-tech.md/kompyuternaya-tehnika/tovar...</td>\n",
       "      <td>Т-000089380</td>\n",
       "      <td>2024-06-07</td>\n",
       "      <td>Предзаказ</td>\n",
       "      <td>Моноблок Apple iMac 24\" 2023 Blue (MQRR3RU/A)</td>\n",
       "      <td>34799.0</td>\n",
       "      <td>38799.0</td>\n",
       "    </tr>\n",
       "    <tr>\n",
       "      <th>5972</th>\n",
       "      <td>https://hi-tech.md/kompyuternaya-tehnika/tovar...</td>\n",
       "      <td>Т-000089357</td>\n",
       "      <td>2024-06-07</td>\n",
       "      <td>Предзаказ</td>\n",
       "      <td>Ноутбук Apple MacBook PRO 14.2\" 2023 Silver (M...</td>\n",
       "      <td>35399.0</td>\n",
       "      <td>NaN</td>\n",
       "    </tr>\n",
       "    <tr>\n",
       "      <th>5973</th>\n",
       "      <td>https://hi-tech.md/kompyuternaya-tehnika/tovar...</td>\n",
       "      <td>Т-000089359</td>\n",
       "      <td>2024-06-07</td>\n",
       "      <td>Предзаказ</td>\n",
       "      <td>Ноутбук Apple MacBook PRO 14.2\" 2023 Silver (M...</td>\n",
       "      <td>39399.0</td>\n",
       "      <td>NaN</td>\n",
       "    </tr>\n",
       "    <tr>\n",
       "      <th>5974</th>\n",
       "      <td>https://hi-tech.md/kompyuternaya-tehnika/tovar...</td>\n",
       "      <td>Т-000089360</td>\n",
       "      <td>2024-06-07</td>\n",
       "      <td>Предзаказ</td>\n",
       "      <td>Ноутбук Apple MacBook PRO 14.2\" 2023 Space Gre...</td>\n",
       "      <td>39399.0</td>\n",
       "      <td>NaN</td>\n",
       "    </tr>\n",
       "    <tr>\n",
       "      <th>5975</th>\n",
       "      <td>https://hi-tech.md/kompyuternaya-tehnika/tovar...</td>\n",
       "      <td>Т-000089356</td>\n",
       "      <td>2024-06-07</td>\n",
       "      <td>Предзаказ</td>\n",
       "      <td>Ноутбук Apple MacBook PRO 14.2\" 2023 Silver (M...</td>\n",
       "      <td>69599.0</td>\n",
       "      <td>NaN</td>\n",
       "    </tr>\n",
       "  </tbody>\n",
       "</table>\n",
       "<p>5976 rows × 7 columns</p>\n",
       "</div>"
      ],
      "text/plain": [
       "                                              soup_name           id  \\\n",
       "0     https://hi-tech.md/televizory-i-elektronika/ba...  Т-000088228   \n",
       "1     https://hi-tech.md/televizory-i-elektronika/ba...  Т-000088229   \n",
       "2     https://hi-tech.md/televizory-i-elektronika/ba...  Т-000088221   \n",
       "3     https://hi-tech.md/televizory-i-elektronika/ba...  Т-000088222   \n",
       "4     https://hi-tech.md/televizory-i-elektronika/ba...  Т-000088230   \n",
       "...                                                 ...          ...   \n",
       "5971  https://hi-tech.md/kompyuternaya-tehnika/tovar...  Т-000089380   \n",
       "5972  https://hi-tech.md/kompyuternaya-tehnika/tovar...  Т-000089357   \n",
       "5973  https://hi-tech.md/kompyuternaya-tehnika/tovar...  Т-000089359   \n",
       "5974  https://hi-tech.md/kompyuternaya-tehnika/tovar...  Т-000089360   \n",
       "5975  https://hi-tech.md/kompyuternaya-tehnika/tovar...  Т-000089356   \n",
       "\n",
       "            date availability  \\\n",
       "0     2024-06-07    В наличии   \n",
       "1     2024-06-07    В наличии   \n",
       "2     2024-06-07    В наличии   \n",
       "3     2024-06-07    В наличии   \n",
       "4     2024-06-07    В наличии   \n",
       "...          ...          ...   \n",
       "5971  2024-06-07    Предзаказ   \n",
       "5972  2024-06-07    Предзаказ   \n",
       "5973  2024-06-07    Предзаказ   \n",
       "5974  2024-06-07    Предзаказ   \n",
       "5975  2024-06-07    Предзаказ   \n",
       "\n",
       "                                                  title    price  old_price  \n",
       "0                   Батарейка Energenie EG-BA-CR1220-01      4.0        NaN  \n",
       "1                   Батарейка Energenie EG-BA-CR2016-01      4.0        NaN  \n",
       "2                      Батарейка Energenie EG-BA-AA4-01      5.0        NaN  \n",
       "3                     Батарейка Energenie EG-BA-AAA4-01      5.0        NaN  \n",
       "4                   Батарейка Energenie EG-BA-CR2025-01      5.0        NaN  \n",
       "...                                                 ...      ...        ...  \n",
       "5971      Моноблок Apple iMac 24\" 2023 Blue (MQRR3RU/A)  34799.0    38799.0  \n",
       "5972  Ноутбук Apple MacBook PRO 14.2\" 2023 Silver (M...  35399.0        NaN  \n",
       "5973  Ноутбук Apple MacBook PRO 14.2\" 2023 Silver (M...  39399.0        NaN  \n",
       "5974  Ноутбук Apple MacBook PRO 14.2\" 2023 Space Gre...  39399.0        NaN  \n",
       "5975  Ноутбук Apple MacBook PRO 14.2\" 2023 Silver (M...  69599.0        NaN  \n",
       "\n",
       "[5976 rows x 7 columns]"
      ]
     },
     "execution_count": 7,
     "metadata": {},
     "output_type": "execute_result"
    }
   ],
   "source": [
    "df"
   ]
  },
  {
   "cell_type": "code",
   "execution_count": 8,
   "id": "4f5aeb43",
   "metadata": {},
   "outputs": [],
   "source": [
    "def category(x):\n",
    "    xx = x.split('/')\n",
    "    xx = xx[3].replace('-','_')\n",
    "    return xx    "
   ]
  },
  {
   "cell_type": "code",
   "execution_count": 9,
   "id": "c8f1cc0b",
   "metadata": {},
   "outputs": [],
   "source": [
    "def subcategory(x):\n",
    "    xx = x.split('/')\n",
    "    xx = xx[4].replace('-','_')\n",
    "    return xx   "
   ]
  },
  {
   "cell_type": "code",
   "execution_count": 10,
   "id": "21f19571",
   "metadata": {},
   "outputs": [],
   "source": [
    "def subgroup(x):\n",
    "    xx = x.split('/')\n",
    "    xx = xx[-3].replace('-','_')\n",
    "    return xx   "
   ]
  },
  {
   "cell_type": "code",
   "execution_count": 11,
   "id": "10937f64",
   "metadata": {},
   "outputs": [],
   "source": [
    "def group(x):\n",
    "    xx = x.split('/')\n",
    "    if len(xx) == 7:\n",
    "        return xx[-3].replace('-','_')\n",
    "    elif len(xx) == 8:\n",
    "        return xx[-3].replace('-','_')\n",
    "    elif len(xx) == 9:\n",
    "        return xx[-4].replace('-','_')\n",
    "    elif len(xx) == 10:\n",
    "        return xx[-5].replace('-','_')\n",
    "    elif len(xx) == 11:\n",
    "        return xx[-6].replace('-','_')  "
   ]
  },
  {
   "cell_type": "markdown",
   "id": "849d22e8",
   "metadata": {},
   "source": [
    "создаем вспомогательные функции"
   ]
  },
  {
   "cell_type": "code",
   "execution_count": 12,
   "id": "469c69ac",
   "metadata": {},
   "outputs": [],
   "source": [
    "df['action_sale'] = 0"
   ]
  },
  {
   "cell_type": "code",
   "execution_count": 13,
   "id": "e562294a",
   "metadata": {},
   "outputs": [],
   "source": [
    "df.loc[df['old_price'] > 0,'action_sale'] = 1"
   ]
  },
  {
   "cell_type": "markdown",
   "id": "6d669ef9",
   "metadata": {},
   "source": [
    "создаем столбец который показывает является ли товар акционным(1 - акционный, 0 - не акционный)"
   ]
  },
  {
   "cell_type": "code",
   "execution_count": 14,
   "id": "f96150c2",
   "metadata": {},
   "outputs": [],
   "source": [
    "df['sale'] = (100 - ((df['price']*100)/df['old_price'])).round(2) "
   ]
  },
  {
   "cell_type": "markdown",
   "id": "63f425c2",
   "metadata": {},
   "source": [
    "создаем столбец показывающий скидку в процентах"
   ]
  },
  {
   "cell_type": "code",
   "execution_count": 15,
   "id": "2017904c",
   "metadata": {},
   "outputs": [],
   "source": [
    "df['category'] = df['soup_name'].apply(category)"
   ]
  },
  {
   "cell_type": "markdown",
   "id": "49fc2893",
   "metadata": {},
   "source": [
    "Создаем столбец показывающий категорию товаров"
   ]
  },
  {
   "cell_type": "code",
   "execution_count": 16,
   "id": "79790d09",
   "metadata": {},
   "outputs": [],
   "source": [
    "df['subcategory'] = df['soup_name'].apply(subcategory)"
   ]
  },
  {
   "cell_type": "markdown",
   "id": "c4d3e6ea",
   "metadata": {},
   "source": [
    "создаем столбец показывающий подкатегорию товаров"
   ]
  },
  {
   "cell_type": "code",
   "execution_count": 17,
   "id": "33af0a93",
   "metadata": {},
   "outputs": [],
   "source": [
    "df['group'] = df['soup_name'].apply(group)"
   ]
  },
  {
   "cell_type": "markdown",
   "id": "e0ea58de",
   "metadata": {},
   "source": [
    "создаем столбец показывающий группу товаров"
   ]
  },
  {
   "cell_type": "code",
   "execution_count": 18,
   "id": "b6a53087",
   "metadata": {},
   "outputs": [],
   "source": [
    "#df['subgroup'] = df['soup_name'].apply(subgroup)"
   ]
  },
  {
   "cell_type": "code",
   "execution_count": 19,
   "id": "4a7a62e4",
   "metadata": {},
   "outputs": [],
   "source": [
    "df.loc[df['subcategory']=='monitory','group'] = 'monitory'"
   ]
  },
  {
   "cell_type": "markdown",
   "id": "bb6985a6",
   "metadata": {},
   "source": [
    "в подкатегории мониторы меняем названия групп на мониторы"
   ]
  },
  {
   "cell_type": "code",
   "execution_count": 20,
   "id": "cddc565e",
   "metadata": {},
   "outputs": [
    {
     "data": {
      "text/html": [
       "<div>\n",
       "<style scoped>\n",
       "    .dataframe tbody tr th:only-of-type {\n",
       "        vertical-align: middle;\n",
       "    }\n",
       "\n",
       "    .dataframe tbody tr th {\n",
       "        vertical-align: top;\n",
       "    }\n",
       "\n",
       "    .dataframe thead th {\n",
       "        text-align: right;\n",
       "    }\n",
       "</style>\n",
       "<table border=\"1\" class=\"dataframe\">\n",
       "  <thead>\n",
       "    <tr style=\"text-align: right;\">\n",
       "      <th></th>\n",
       "      <th>soup_name</th>\n",
       "      <th>id</th>\n",
       "      <th>date</th>\n",
       "      <th>availability</th>\n",
       "      <th>title</th>\n",
       "      <th>price</th>\n",
       "      <th>old_price</th>\n",
       "      <th>action_sale</th>\n",
       "      <th>sale</th>\n",
       "      <th>category</th>\n",
       "      <th>subcategory</th>\n",
       "      <th>group</th>\n",
       "    </tr>\n",
       "  </thead>\n",
       "  <tbody>\n",
       "    <tr>\n",
       "      <th>0</th>\n",
       "      <td>https://hi-tech.md/televizory-i-elektronika/ba...</td>\n",
       "      <td>Т-000088228</td>\n",
       "      <td>2024-06-07</td>\n",
       "      <td>В наличии</td>\n",
       "      <td>Батарейка Energenie EG-BA-CR1220-01</td>\n",
       "      <td>4.0</td>\n",
       "      <td>NaN</td>\n",
       "      <td>0</td>\n",
       "      <td>NaN</td>\n",
       "      <td>televizory_i_elektronika</td>\n",
       "      <td>batareyki_i_zaryadnye_ustroystva</td>\n",
       "      <td>batareyki_i_zaryadnye_ustroystva</td>\n",
       "    </tr>\n",
       "    <tr>\n",
       "      <th>1</th>\n",
       "      <td>https://hi-tech.md/televizory-i-elektronika/ba...</td>\n",
       "      <td>Т-000088229</td>\n",
       "      <td>2024-06-07</td>\n",
       "      <td>В наличии</td>\n",
       "      <td>Батарейка Energenie EG-BA-CR2016-01</td>\n",
       "      <td>4.0</td>\n",
       "      <td>NaN</td>\n",
       "      <td>0</td>\n",
       "      <td>NaN</td>\n",
       "      <td>televizory_i_elektronika</td>\n",
       "      <td>batareyki_i_zaryadnye_ustroystva</td>\n",
       "      <td>batareyki_i_zaryadnye_ustroystva</td>\n",
       "    </tr>\n",
       "    <tr>\n",
       "      <th>2</th>\n",
       "      <td>https://hi-tech.md/televizory-i-elektronika/ba...</td>\n",
       "      <td>Т-000088221</td>\n",
       "      <td>2024-06-07</td>\n",
       "      <td>В наличии</td>\n",
       "      <td>Батарейка Energenie EG-BA-AA4-01</td>\n",
       "      <td>5.0</td>\n",
       "      <td>NaN</td>\n",
       "      <td>0</td>\n",
       "      <td>NaN</td>\n",
       "      <td>televizory_i_elektronika</td>\n",
       "      <td>batareyki_i_zaryadnye_ustroystva</td>\n",
       "      <td>batareyki_i_zaryadnye_ustroystva</td>\n",
       "    </tr>\n",
       "    <tr>\n",
       "      <th>3</th>\n",
       "      <td>https://hi-tech.md/televizory-i-elektronika/ba...</td>\n",
       "      <td>Т-000088222</td>\n",
       "      <td>2024-06-07</td>\n",
       "      <td>В наличии</td>\n",
       "      <td>Батарейка Energenie EG-BA-AAA4-01</td>\n",
       "      <td>5.0</td>\n",
       "      <td>NaN</td>\n",
       "      <td>0</td>\n",
       "      <td>NaN</td>\n",
       "      <td>televizory_i_elektronika</td>\n",
       "      <td>batareyki_i_zaryadnye_ustroystva</td>\n",
       "      <td>batareyki_i_zaryadnye_ustroystva</td>\n",
       "    </tr>\n",
       "    <tr>\n",
       "      <th>4</th>\n",
       "      <td>https://hi-tech.md/televizory-i-elektronika/ba...</td>\n",
       "      <td>Т-000088230</td>\n",
       "      <td>2024-06-07</td>\n",
       "      <td>В наличии</td>\n",
       "      <td>Батарейка Energenie EG-BA-CR2025-01</td>\n",
       "      <td>5.0</td>\n",
       "      <td>NaN</td>\n",
       "      <td>0</td>\n",
       "      <td>NaN</td>\n",
       "      <td>televizory_i_elektronika</td>\n",
       "      <td>batareyki_i_zaryadnye_ustroystva</td>\n",
       "      <td>batareyki_i_zaryadnye_ustroystva</td>\n",
       "    </tr>\n",
       "  </tbody>\n",
       "</table>\n",
       "</div>"
      ],
      "text/plain": [
       "                                           soup_name           id        date  \\\n",
       "0  https://hi-tech.md/televizory-i-elektronika/ba...  Т-000088228  2024-06-07   \n",
       "1  https://hi-tech.md/televizory-i-elektronika/ba...  Т-000088229  2024-06-07   \n",
       "2  https://hi-tech.md/televizory-i-elektronika/ba...  Т-000088221  2024-06-07   \n",
       "3  https://hi-tech.md/televizory-i-elektronika/ba...  Т-000088222  2024-06-07   \n",
       "4  https://hi-tech.md/televizory-i-elektronika/ba...  Т-000088230  2024-06-07   \n",
       "\n",
       "  availability                                title  price  old_price  \\\n",
       "0    В наличии  Батарейка Energenie EG-BA-CR1220-01    4.0        NaN   \n",
       "1    В наличии  Батарейка Energenie EG-BA-CR2016-01    4.0        NaN   \n",
       "2    В наличии     Батарейка Energenie EG-BA-AA4-01    5.0        NaN   \n",
       "3    В наличии    Батарейка Energenie EG-BA-AAA4-01    5.0        NaN   \n",
       "4    В наличии  Батарейка Energenie EG-BA-CR2025-01    5.0        NaN   \n",
       "\n",
       "   action_sale  sale                  category  \\\n",
       "0            0   NaN  televizory_i_elektronika   \n",
       "1            0   NaN  televizory_i_elektronika   \n",
       "2            0   NaN  televizory_i_elektronika   \n",
       "3            0   NaN  televizory_i_elektronika   \n",
       "4            0   NaN  televizory_i_elektronika   \n",
       "\n",
       "                        subcategory                             group  \n",
       "0  batareyki_i_zaryadnye_ustroystva  batareyki_i_zaryadnye_ustroystva  \n",
       "1  batareyki_i_zaryadnye_ustroystva  batareyki_i_zaryadnye_ustroystva  \n",
       "2  batareyki_i_zaryadnye_ustroystva  batareyki_i_zaryadnye_ustroystva  \n",
       "3  batareyki_i_zaryadnye_ustroystva  batareyki_i_zaryadnye_ustroystva  \n",
       "4  batareyki_i_zaryadnye_ustroystva  batareyki_i_zaryadnye_ustroystva  "
      ]
     },
     "execution_count": 20,
     "metadata": {},
     "output_type": "execute_result"
    }
   ],
   "source": [
    "df.head()"
   ]
  },
  {
   "cell_type": "code",
   "execution_count": 21,
   "id": "c1396a25",
   "metadata": {},
   "outputs": [
    {
     "data": {
      "text/plain": [
       "array(['televizory_i_elektronika', 'kompyuternaya_tehnika',\n",
       "       'diskont_ne_deystvuet_ru', 'bytovaya_tehnika', 'tovar_po_akcii',\n",
       "       'instrumenty_i_oborudovanie'], dtype=object)"
      ]
     },
     "execution_count": 21,
     "metadata": {},
     "output_type": "execute_result"
    }
   ],
   "source": [
    "df['category'].unique()"
   ]
  },
  {
   "cell_type": "code",
   "execution_count": 22,
   "id": "540df2f4",
   "metadata": {},
   "outputs": [
    {
     "data": {
      "text/plain": [
       "array(['batareyki_i_zaryadnye_ustroystva', 'nastennye_krepleniya_dlya_tv',\n",
       "       'audiotehnika', 'smartfony_i_aksessuary', 'multimedia',\n",
       "       'pristavki_dlya_tv', 'gadzhety', 'telefony_dect_i_provodnye',\n",
       "       'tovary_apple', 'sport_i_otdyh',\n",
       "       'hd_cvi_videokamera_dahua_dh_hac_hdw1220mp_0280b_s2',\n",
       "       'umnyy_dom_s_yandeks', 'televizory', 'pylesosy_i_aksessuary',\n",
       "       'tehnika_karcher', 'aksessuary_dlya_melkoy_bytovoy_tehniki',\n",
       "       'tovary_dlya_uhoda_za_odezhdoy', 'minimoyki',\n",
       "       'prigotovlenie_napitkov', 'melkaya_tehnika_dlya_kuhni',\n",
       "       'tehnika_dlya_krasoty', 'stiralnye_i_sushilnye_mashiny',\n",
       "       'krupnaya_tehnika_dlya_kuhni', 'tehnika_dlya_zdorovya',\n",
       "       'klimaticheskaya_tehnika', 'ustanovka_bytovoy_tehniki',\n",
       "       'prigotovlenie_pischi', 'teploventilyator_tesy_hl_213v',\n",
       "       'elektroplita_zilan_zln8092', 'tekhnika_dlya_doma',\n",
       "       'kolpachok_rj_45_gembird_bt5bk_5', 'nakopiteli',\n",
       "       'setevoe_oborudovanie', 'aksessuary', 'rashodnye_materialy',\n",
       "       'periferiynye_ustroystva', 'orgtehnika', 'komplektuyuschie',\n",
       "       'krepleniya_dlya_monitora', 'elektropitanie',\n",
       "       'konnektor_rj_45_gembird_cat5e_lc_8p8c_001_100',\n",
       "       'rul_sven_gc_w300', 'xbox_playstation', 'rul_sven_gc_w800_usb',\n",
       "       'monitory', 'proektory_i_ekrany', 'noutbuki_planshety...',\n",
       "       'processor_intel_core_i5_12400_box',\n",
       "       'processor_amd_ryzen_r7_5800x_box'], dtype=object)"
      ]
     },
     "execution_count": 22,
     "metadata": {},
     "output_type": "execute_result"
    }
   ],
   "source": [
    "df['subcategory'].unique()"
   ]
  },
  {
   "cell_type": "code",
   "execution_count": 23,
   "id": "46c4776a",
   "metadata": {},
   "outputs": [
    {
     "data": {
      "text/plain": [
       "array(['batareyki_i_zaryadnye_ustroystva', 'nastennye_krepleniya_dlya_tv',\n",
       "       'mikrofony', 'naushniki', 'aksessuary', 'smartfony_i_aksessuary',\n",
       "       'akusticheskie_sistemy', 'akustika', 'pristavki_dlya_tv',\n",
       "       'muzykalnaya_tehnika', 'pleery', 'umny_dom', 'radio',\n",
       "       'telefony_dect_i_provodnye', 'saundbary', 'airpods',\n",
       "       'smart_gadzhety', 'hd_cvi_kamery', None, 'yandeks_stancii',\n",
       "       'televizory', 'smartfony', 'homepod', 'apple_whatch', 'iphone',\n",
       "       'filtry_i_meshki_dlya_pyli', 'meshki_i_filtry_karcher',\n",
       "       'aksessuary_k_pylesosam', 'aksessuary_dlya_zubnyh_schetok',\n",
       "       'mashinki_dlya_udaleniya_katyshkov', 'minimoyki',\n",
       "       'gladilnye_doski', 'sushilki_dlya_belya', 'turki_elektricheskie',\n",
       "       'vakuumatory', 'vypryamiteli_dlya_volos',\n",
       "       'frontalnye_stiralnye_mashiny', 'kofevarki', 'vesy_napolnye',\n",
       "       'kofe', 'miksery', 'vesy_kuhonnye', 'vytyazhki', 'feny_dlya_volos',\n",
       "       'elektricheskie_chayniki', 'varochnye_poverhnosti', 'ployki',\n",
       "       'tostery', 'kronshteyny_dlya_mikrovolnovyh_pechey',\n",
       "       'plity_gazovye_i_elektricheskie', 'kofemolki', 'blendery',\n",
       "       'elektricheskie_zubnye_schetki', 'obogrevateli', 'sokovyzhimalki',\n",
       "       'ustanovka_bytovoy_tehniki', 'sendvichnicy_i_vafelnicy',\n",
       "       'komplektuyuschie_dlya_klimaticheskoy_tehniki',\n",
       "       'trimmery_mashinki_dlya_strizhki', 'ventilyatory',\n",
       "       'sokovyzhimalki_dlya_citrusov', 'yogurtnicy', 'utyugi',\n",
       "       'kofemashiny', 'elektrogrili',\n",
       "       'aksessuary_dlya_elektricheskih_britv', 'uvlazhniteli_kompleksy',\n",
       "       'massazhery_vannochki_dlya_nog', 'medicinskie_pribory',\n",
       "       'otparivateli_dlya_odezhdy', 'elektricheskie_britvy',\n",
       "       'nabory_dlya_ukladki_volos', 'pylesosy', 'choppery', 'boylery',\n",
       "       'kondicionery', 'elektromyasorubki', 'epilyatory',\n",
       "       'kuhonnye_kombayny', 'sushilki_dlya_fruktov',\n",
       "       'frityurnicy_i_aerogrili', 'elektro_pechi_i_duhovki', 'irrigatory',\n",
       "       'parovarki', 'multivarki', 'mikrovolnovye_pechi', 'parogeneratory',\n",
       "       'lomterezki', 'stiralnye_i_sushilnye_mashiny',\n",
       "       'poluavtomaticheskie_stiralnye_mashiny', 'holodilniki',\n",
       "       'hlebopechi', 'generatory_lda', 'termopoty', 'shveynye_mashiny',\n",
       "       'multivarki_skorovarki', 'duhovye_shkafy', 'morozilniki_i_lari',\n",
       "       'kondicionery_multi_split', 'posudomoechnye_mashiny',\n",
       "       'vertikalnye_stiralnye_mashiny', 'otopitelnye_pechi',\n",
       "       'stiralno_sushilnye_mashiny', 'sushilnye_mashiny', 'kotly_gazovye',\n",
       "       'kondicionery_kassetnye', 'promyshlennye_kondicionery',\n",
       "       'diski_cd_dvd', 'patch_kordy', 'kabeli_i_perehodniki', 'zipy',\n",
       "       'bumaga', 'kovriki_dlya_myshi', 'dlya_noutbukov',\n",
       "       'kabeli_dlya_printerov', 'styazhki', 'termopasta',\n",
       "       'sistemy_ohlazhdeniya', 'kardridery', 'chernila',\n",
       "       'krepleniya_dlya_monitora', 'myshi', 'chistyaschie_sredstva',\n",
       "       'zaryadnye_usb', 'dzhoystiki_i_ruli', 'dlya_planshetov',\n",
       "       'zvukovye_karty', 'setevye_filtry', 'karty_pamyati', 'adaptery',\n",
       "       'fleshki', 'karmany_dlya_hdd_ssd', 'klaviatury_i_komplekty',\n",
       "       'karty_setevye', 'toner', 'instrument', 'kommutatory',\n",
       "       'veb_kamery', 'batarei', 'povtoriteli_wifi', 'opticheskie_privody',\n",
       "       'moduli_pamyati', 'tochki_dostupa',\n",
       "       'bloki_pitaniya_dlya_noutbukov', 'bloki_pitaniya',\n",
       "       'portativnye_akkumulyatory', 'invertory', 'videoregistratory',\n",
       "       'kartridzhi', 'nakopitel_ssd', 'stabilizatory', 'korpusa',\n",
       "       'nakopitel_hdd', 'printery_i_mfu', 'skanery', 'ibp', 'ruli',\n",
       "       'processory', 'vneshnie_hdd', 'unichtozhiteli_dokumentov',\n",
       "       'geympady_ps4_hbox', 'materinskie_platy', 'videokarty', 'monitory',\n",
       "       'ekrany_dlya_proektorov', 'planshetnye_pk', 'kabel_setevoy',\n",
       "       'setevye_shkafy', 'elektronnye_knigi', 'nettopy',\n",
       "       'sistemnye_bloki', 'noutbuki', 'pristavki_ps4_xbox', 'ipad',\n",
       "       'proektory', 'macbook', 'imac'], dtype=object)"
      ]
     },
     "execution_count": 23,
     "metadata": {},
     "output_type": "execute_result"
    }
   ],
   "source": [
    "df.group.unique()"
   ]
  },
  {
   "cell_type": "markdown",
   "id": "e5bd38a2",
   "metadata": {},
   "source": [
    "проссматриваем названия категорий подкатегорий и групп товаров"
   ]
  },
  {
   "cell_type": "code",
   "execution_count": 24,
   "id": "eff6db1e",
   "metadata": {},
   "outputs": [
    {
     "data": {
      "text/html": [
       "<div>\n",
       "<style scoped>\n",
       "    .dataframe tbody tr th:only-of-type {\n",
       "        vertical-align: middle;\n",
       "    }\n",
       "\n",
       "    .dataframe tbody tr th {\n",
       "        vertical-align: top;\n",
       "    }\n",
       "\n",
       "    .dataframe thead th {\n",
       "        text-align: right;\n",
       "    }\n",
       "</style>\n",
       "<table border=\"1\" class=\"dataframe\">\n",
       "  <thead>\n",
       "    <tr style=\"text-align: right;\">\n",
       "      <th></th>\n",
       "      <th>soup_name</th>\n",
       "      <th>id</th>\n",
       "      <th>date</th>\n",
       "      <th>availability</th>\n",
       "      <th>title</th>\n",
       "      <th>price</th>\n",
       "      <th>old_price</th>\n",
       "      <th>action_sale</th>\n",
       "      <th>sale</th>\n",
       "      <th>category</th>\n",
       "      <th>subcategory</th>\n",
       "      <th>group</th>\n",
       "    </tr>\n",
       "  </thead>\n",
       "  <tbody>\n",
       "    <tr>\n",
       "      <th>427</th>\n",
       "      <td>https://hi-tech.md/diskont-ne-deystvuet-ru/hd-...</td>\n",
       "      <td>Т-000072433</td>\n",
       "      <td>2024-06-07</td>\n",
       "      <td>Предзаказ</td>\n",
       "      <td>HD-CVI-видеокамера Dahua (DH-HAC-HDW1220MP-028...</td>\n",
       "      <td>645.0</td>\n",
       "      <td>NaN</td>\n",
       "      <td>0</td>\n",
       "      <td>NaN</td>\n",
       "      <td>diskont_ne_deystvuet_ru</td>\n",
       "      <td>hd_cvi_videokamera_dahua_dh_hac_hdw1220mp_0280...</td>\n",
       "      <td>None</td>\n",
       "    </tr>\n",
       "    <tr>\n",
       "      <th>1563</th>\n",
       "      <td>https://hi-tech.md/tovar-po-akcii/teploventily...</td>\n",
       "      <td>Т-000080755</td>\n",
       "      <td>2024-06-07</td>\n",
       "      <td>В наличии</td>\n",
       "      <td>Тепловентилятор Tesy HL-213V</td>\n",
       "      <td>359.0</td>\n",
       "      <td>399.0</td>\n",
       "      <td>1</td>\n",
       "      <td>10.03</td>\n",
       "      <td>tovar_po_akcii</td>\n",
       "      <td>teploventilyator_tesy_hl_213v</td>\n",
       "      <td>None</td>\n",
       "    </tr>\n",
       "    <tr>\n",
       "      <th>1690</th>\n",
       "      <td>https://hi-tech.md/diskont-ne-deystvuet-ru/ele...</td>\n",
       "      <td>Т-000089085</td>\n",
       "      <td>2024-06-07</td>\n",
       "      <td>В наличии</td>\n",
       "      <td>Электроплита Zilan ZLN8092</td>\n",
       "      <td>459.0</td>\n",
       "      <td>NaN</td>\n",
       "      <td>0</td>\n",
       "      <td>NaN</td>\n",
       "      <td>diskont_ne_deystvuet_ru</td>\n",
       "      <td>elektroplita_zilan_zln8092</td>\n",
       "      <td>None</td>\n",
       "    </tr>\n",
       "    <tr>\n",
       "      <th>3795</th>\n",
       "      <td>https://hi-tech.md/diskont-ne-deystvuet-ru/kol...</td>\n",
       "      <td>Т-000042701</td>\n",
       "      <td>2024-06-07</td>\n",
       "      <td>В наличии</td>\n",
       "      <td>Колпачок RJ-45 Gembird BT5BK/5</td>\n",
       "      <td>1.0</td>\n",
       "      <td>NaN</td>\n",
       "      <td>0</td>\n",
       "      <td>NaN</td>\n",
       "      <td>diskont_ne_deystvuet_ru</td>\n",
       "      <td>kolpachok_rj_45_gembird_bt5bk_5</td>\n",
       "      <td>None</td>\n",
       "    </tr>\n",
       "    <tr>\n",
       "      <th>4533</th>\n",
       "      <td>https://hi-tech.md/diskont-ne-deystvuet-ru/kon...</td>\n",
       "      <td>Т-000054702</td>\n",
       "      <td>2024-06-07</td>\n",
       "      <td>В наличии</td>\n",
       "      <td>Коннектор RJ-45 Gembird CAT5e (LC-8P8C-001/100)</td>\n",
       "      <td>259.0</td>\n",
       "      <td>NaN</td>\n",
       "      <td>0</td>\n",
       "      <td>NaN</td>\n",
       "      <td>diskont_ne_deystvuet_ru</td>\n",
       "      <td>konnektor_rj_45_gembird_cat5e_lc_8p8c_001_100</td>\n",
       "      <td>None</td>\n",
       "    </tr>\n",
       "    <tr>\n",
       "      <th>4929</th>\n",
       "      <td>https://hi-tech.md/diskont-ne-deystvuet-ru/rul...</td>\n",
       "      <td>Т-000064265</td>\n",
       "      <td>2024-06-07</td>\n",
       "      <td>В наличии</td>\n",
       "      <td>Руль Sven GC-W300</td>\n",
       "      <td>799.0</td>\n",
       "      <td>NaN</td>\n",
       "      <td>0</td>\n",
       "      <td>NaN</td>\n",
       "      <td>diskont_ne_deystvuet_ru</td>\n",
       "      <td>rul_sven_gc_w300</td>\n",
       "      <td>None</td>\n",
       "    </tr>\n",
       "    <tr>\n",
       "      <th>5159</th>\n",
       "      <td>https://hi-tech.md/diskont-ne-deystvuet-ru/rul...</td>\n",
       "      <td>Т-000047602</td>\n",
       "      <td>2024-06-07</td>\n",
       "      <td>В наличии</td>\n",
       "      <td>Руль Sven GC-W800 USB</td>\n",
       "      <td>1399.0</td>\n",
       "      <td>NaN</td>\n",
       "      <td>0</td>\n",
       "      <td>NaN</td>\n",
       "      <td>diskont_ne_deystvuet_ru</td>\n",
       "      <td>rul_sven_gc_w800_usb</td>\n",
       "      <td>None</td>\n",
       "    </tr>\n",
       "    <tr>\n",
       "      <th>5539</th>\n",
       "      <td>https://hi-tech.md/diskont-ne-deystvuet-ru/pro...</td>\n",
       "      <td>Т-000075780</td>\n",
       "      <td>2024-06-07</td>\n",
       "      <td>В наличии</td>\n",
       "      <td>Процессор Intel Core i5-12400 BOX</td>\n",
       "      <td>3629.0</td>\n",
       "      <td>NaN</td>\n",
       "      <td>0</td>\n",
       "      <td>NaN</td>\n",
       "      <td>diskont_ne_deystvuet_ru</td>\n",
       "      <td>processor_intel_core_i5_12400_box</td>\n",
       "      <td>None</td>\n",
       "    </tr>\n",
       "    <tr>\n",
       "      <th>5588</th>\n",
       "      <td>https://hi-tech.md/diskont-ne-deystvuet-ru/pro...</td>\n",
       "      <td>Т-000070966</td>\n",
       "      <td>2024-06-07</td>\n",
       "      <td>В наличии</td>\n",
       "      <td>Процессор AMD Ryzen R7-5800X WOF</td>\n",
       "      <td>4279.0</td>\n",
       "      <td>NaN</td>\n",
       "      <td>0</td>\n",
       "      <td>NaN</td>\n",
       "      <td>diskont_ne_deystvuet_ru</td>\n",
       "      <td>processor_amd_ryzen_r7_5800x_box</td>\n",
       "      <td>None</td>\n",
       "    </tr>\n",
       "  </tbody>\n",
       "</table>\n",
       "</div>"
      ],
      "text/plain": [
       "                                              soup_name           id  \\\n",
       "427   https://hi-tech.md/diskont-ne-deystvuet-ru/hd-...  Т-000072433   \n",
       "1563  https://hi-tech.md/tovar-po-akcii/teploventily...  Т-000080755   \n",
       "1690  https://hi-tech.md/diskont-ne-deystvuet-ru/ele...  Т-000089085   \n",
       "3795  https://hi-tech.md/diskont-ne-deystvuet-ru/kol...  Т-000042701   \n",
       "4533  https://hi-tech.md/diskont-ne-deystvuet-ru/kon...  Т-000054702   \n",
       "4929  https://hi-tech.md/diskont-ne-deystvuet-ru/rul...  Т-000064265   \n",
       "5159  https://hi-tech.md/diskont-ne-deystvuet-ru/rul...  Т-000047602   \n",
       "5539  https://hi-tech.md/diskont-ne-deystvuet-ru/pro...  Т-000075780   \n",
       "5588  https://hi-tech.md/diskont-ne-deystvuet-ru/pro...  Т-000070966   \n",
       "\n",
       "            date availability  \\\n",
       "427   2024-06-07    Предзаказ   \n",
       "1563  2024-06-07    В наличии   \n",
       "1690  2024-06-07    В наличии   \n",
       "3795  2024-06-07    В наличии   \n",
       "4533  2024-06-07    В наличии   \n",
       "4929  2024-06-07    В наличии   \n",
       "5159  2024-06-07    В наличии   \n",
       "5539  2024-06-07    В наличии   \n",
       "5588  2024-06-07    В наличии   \n",
       "\n",
       "                                                  title   price  old_price  \\\n",
       "427   HD-CVI-видеокамера Dahua (DH-HAC-HDW1220MP-028...   645.0        NaN   \n",
       "1563                       Тепловентилятор Tesy HL-213V   359.0      399.0   \n",
       "1690                         Электроплита Zilan ZLN8092   459.0        NaN   \n",
       "3795                     Колпачок RJ-45 Gembird BT5BK/5     1.0        NaN   \n",
       "4533    Коннектор RJ-45 Gembird CAT5e (LC-8P8C-001/100)   259.0        NaN   \n",
       "4929                                  Руль Sven GC-W300   799.0        NaN   \n",
       "5159                              Руль Sven GC-W800 USB  1399.0        NaN   \n",
       "5539                  Процессор Intel Core i5-12400 BOX  3629.0        NaN   \n",
       "5588                   Процессор AMD Ryzen R7-5800X WOF  4279.0        NaN   \n",
       "\n",
       "      action_sale   sale                 category  \\\n",
       "427             0    NaN  diskont_ne_deystvuet_ru   \n",
       "1563            1  10.03           tovar_po_akcii   \n",
       "1690            0    NaN  diskont_ne_deystvuet_ru   \n",
       "3795            0    NaN  diskont_ne_deystvuet_ru   \n",
       "4533            0    NaN  diskont_ne_deystvuet_ru   \n",
       "4929            0    NaN  diskont_ne_deystvuet_ru   \n",
       "5159            0    NaN  diskont_ne_deystvuet_ru   \n",
       "5539            0    NaN  diskont_ne_deystvuet_ru   \n",
       "5588            0    NaN  diskont_ne_deystvuet_ru   \n",
       "\n",
       "                                            subcategory group  \n",
       "427   hd_cvi_videokamera_dahua_dh_hac_hdw1220mp_0280...  None  \n",
       "1563                      teploventilyator_tesy_hl_213v  None  \n",
       "1690                         elektroplita_zilan_zln8092  None  \n",
       "3795                    kolpachok_rj_45_gembird_bt5bk_5  None  \n",
       "4533      konnektor_rj_45_gembird_cat5e_lc_8p8c_001_100  None  \n",
       "4929                                   rul_sven_gc_w300  None  \n",
       "5159                               rul_sven_gc_w800_usb  None  \n",
       "5539                  processor_intel_core_i5_12400_box  None  \n",
       "5588                   processor_amd_ryzen_r7_5800x_box  None  "
      ]
     },
     "execution_count": 24,
     "metadata": {},
     "output_type": "execute_result"
    }
   ],
   "source": [
    "df[df['group'].isna()]"
   ]
  },
  {
   "cell_type": "code",
   "execution_count": 25,
   "id": "fd3d97e5",
   "metadata": {},
   "outputs": [],
   "source": [
    "df.loc[df['group'].isna(),'group'] = 'No_group'"
   ]
  },
  {
   "cell_type": "markdown",
   "id": "aaaaf3e5",
   "metadata": {},
   "source": [
    "удалеем из столбца group все значения None"
   ]
  },
  {
   "cell_type": "code",
   "execution_count": 26,
   "id": "30c11169",
   "metadata": {},
   "outputs": [],
   "source": [
    "def count_group(x):\n",
    "    return df[df['group']==x]['id'].count()    "
   ]
  },
  {
   "cell_type": "code",
   "execution_count": 27,
   "id": "e37c2f0c",
   "metadata": {},
   "outputs": [],
   "source": [
    "df['count_group'] = df['group'].apply(count_group)"
   ]
  },
  {
   "cell_type": "markdown",
   "id": "0e8efdc1",
   "metadata": {},
   "source": [
    "создание столбца с количеством товара в группе"
   ]
  },
  {
   "cell_type": "code",
   "execution_count": 28,
   "id": "d27d6fcc",
   "metadata": {},
   "outputs": [],
   "source": [
    "def count_group_presence(x):\n",
    "    return df[(df['availability']=='В наличии')&(df['group']==x)]['id'].count()   "
   ]
  },
  {
   "cell_type": "code",
   "execution_count": 29,
   "id": "8eefa94f",
   "metadata": {},
   "outputs": [],
   "source": [
    "df['count_group_presence'] = df['group'].apply(count_group_presence)"
   ]
  },
  {
   "cell_type": "markdown",
   "id": "22092d0e",
   "metadata": {},
   "source": [
    "создание столбца с количеством товара, который есть в наличии, в группе"
   ]
  },
  {
   "cell_type": "code",
   "execution_count": 30,
   "id": "08fac5d3",
   "metadata": {},
   "outputs": [],
   "source": [
    "def dif_price(x):    \n",
    "    max_price = df[(df['availability']=='В наличии')&(df['group']==x)]['price'].max()\n",
    "    min_price = df[(df['availability']=='В наличии')&(df['group']==x)]['price'].min() \n",
    "    return max_price / min_price"
   ]
  },
  {
   "cell_type": "code",
   "execution_count": 31,
   "id": "b61e6a6e",
   "metadata": {},
   "outputs": [],
   "source": [
    "df['dif_price'] = df['group'].apply(dif_price)"
   ]
  },
  {
   "cell_type": "markdown",
   "id": "5feb0b17",
   "metadata": {},
   "source": [
    "создам столбец с отношением самой дорогой цены в группе к самой дешевой."
   ]
  },
  {
   "cell_type": "code",
   "execution_count": 32,
   "id": "9de9d8e9",
   "metadata": {},
   "outputs": [],
   "source": [
    "def brends(x):\n",
    "    xx = x.replace('\\xa0', ' ')\n",
    "    xx = xx.split(' ')    \n",
    "    for i in range(len(xx)-1):\n",
    "        if xx[i].lower() in brend_low:\n",
    "            return xx[i].lower()\n",
    "        elif (str(xx[i].lower())+' '+str(xx[i+1].lower())) in brend_low:\n",
    "            return (str(xx[i].lower())+' '+str(xx[i+1].lower()))    \n",
    "    else:    \n",
    "        return 'другой'"
   ]
  },
  {
   "cell_type": "code",
   "execution_count": 33,
   "id": "d3863bbc",
   "metadata": {},
   "outputs": [],
   "source": [
    "df['brend'] = df['title'].apply(brends)"
   ]
  },
  {
   "cell_type": "code",
   "execution_count": 34,
   "id": "1cc31bd6",
   "metadata": {},
   "outputs": [],
   "source": [
    "df['group_prise'] = df.groupby('group')['price'].transform(lambda x: pd.cut(x, bins = 4, labels=[\"бюджет\", \"стандарт\", \"элит\", \"топ\"]))"
   ]
  },
  {
   "cell_type": "code",
   "execution_count": 35,
   "id": "0aefc7ff",
   "metadata": {},
   "outputs": [
    {
     "data": {
      "text/html": [
       "<div>\n",
       "<style scoped>\n",
       "    .dataframe tbody tr th:only-of-type {\n",
       "        vertical-align: middle;\n",
       "    }\n",
       "\n",
       "    .dataframe tbody tr th {\n",
       "        vertical-align: top;\n",
       "    }\n",
       "\n",
       "    .dataframe thead th {\n",
       "        text-align: right;\n",
       "    }\n",
       "</style>\n",
       "<table border=\"1\" class=\"dataframe\">\n",
       "  <thead>\n",
       "    <tr style=\"text-align: right;\">\n",
       "      <th></th>\n",
       "      <th>soup_name</th>\n",
       "      <th>id</th>\n",
       "      <th>date</th>\n",
       "      <th>availability</th>\n",
       "      <th>title</th>\n",
       "      <th>price</th>\n",
       "      <th>old_price</th>\n",
       "      <th>action_sale</th>\n",
       "      <th>sale</th>\n",
       "      <th>category</th>\n",
       "      <th>subcategory</th>\n",
       "      <th>group</th>\n",
       "      <th>count_group</th>\n",
       "      <th>count_group_presence</th>\n",
       "      <th>dif_price</th>\n",
       "      <th>brend</th>\n",
       "      <th>group_prise</th>\n",
       "    </tr>\n",
       "  </thead>\n",
       "  <tbody>\n",
       "    <tr>\n",
       "      <th>0</th>\n",
       "      <td>https://hi-tech.md/televizory-i-elektronika/ba...</td>\n",
       "      <td>Т-000088228</td>\n",
       "      <td>2024-06-07</td>\n",
       "      <td>В наличии</td>\n",
       "      <td>Батарейка Energenie EG-BA-CR1220-01</td>\n",
       "      <td>4.0</td>\n",
       "      <td>NaN</td>\n",
       "      <td>0</td>\n",
       "      <td>NaN</td>\n",
       "      <td>televizory_i_elektronika</td>\n",
       "      <td>batareyki_i_zaryadnye_ustroystva</td>\n",
       "      <td>batareyki_i_zaryadnye_ustroystva</td>\n",
       "      <td>76</td>\n",
       "      <td>76</td>\n",
       "      <td>199.75</td>\n",
       "      <td>energenie</td>\n",
       "      <td>бюджет</td>\n",
       "    </tr>\n",
       "    <tr>\n",
       "      <th>1</th>\n",
       "      <td>https://hi-tech.md/televizory-i-elektronika/ba...</td>\n",
       "      <td>Т-000088229</td>\n",
       "      <td>2024-06-07</td>\n",
       "      <td>В наличии</td>\n",
       "      <td>Батарейка Energenie EG-BA-CR2016-01</td>\n",
       "      <td>4.0</td>\n",
       "      <td>NaN</td>\n",
       "      <td>0</td>\n",
       "      <td>NaN</td>\n",
       "      <td>televizory_i_elektronika</td>\n",
       "      <td>batareyki_i_zaryadnye_ustroystva</td>\n",
       "      <td>batareyki_i_zaryadnye_ustroystva</td>\n",
       "      <td>76</td>\n",
       "      <td>76</td>\n",
       "      <td>199.75</td>\n",
       "      <td>energenie</td>\n",
       "      <td>бюджет</td>\n",
       "    </tr>\n",
       "    <tr>\n",
       "      <th>2</th>\n",
       "      <td>https://hi-tech.md/televizory-i-elektronika/ba...</td>\n",
       "      <td>Т-000088221</td>\n",
       "      <td>2024-06-07</td>\n",
       "      <td>В наличии</td>\n",
       "      <td>Батарейка Energenie EG-BA-AA4-01</td>\n",
       "      <td>5.0</td>\n",
       "      <td>NaN</td>\n",
       "      <td>0</td>\n",
       "      <td>NaN</td>\n",
       "      <td>televizory_i_elektronika</td>\n",
       "      <td>batareyki_i_zaryadnye_ustroystva</td>\n",
       "      <td>batareyki_i_zaryadnye_ustroystva</td>\n",
       "      <td>76</td>\n",
       "      <td>76</td>\n",
       "      <td>199.75</td>\n",
       "      <td>energenie</td>\n",
       "      <td>бюджет</td>\n",
       "    </tr>\n",
       "    <tr>\n",
       "      <th>3</th>\n",
       "      <td>https://hi-tech.md/televizory-i-elektronika/ba...</td>\n",
       "      <td>Т-000088222</td>\n",
       "      <td>2024-06-07</td>\n",
       "      <td>В наличии</td>\n",
       "      <td>Батарейка Energenie EG-BA-AAA4-01</td>\n",
       "      <td>5.0</td>\n",
       "      <td>NaN</td>\n",
       "      <td>0</td>\n",
       "      <td>NaN</td>\n",
       "      <td>televizory_i_elektronika</td>\n",
       "      <td>batareyki_i_zaryadnye_ustroystva</td>\n",
       "      <td>batareyki_i_zaryadnye_ustroystva</td>\n",
       "      <td>76</td>\n",
       "      <td>76</td>\n",
       "      <td>199.75</td>\n",
       "      <td>energenie</td>\n",
       "      <td>бюджет</td>\n",
       "    </tr>\n",
       "    <tr>\n",
       "      <th>4</th>\n",
       "      <td>https://hi-tech.md/televizory-i-elektronika/ba...</td>\n",
       "      <td>Т-000088230</td>\n",
       "      <td>2024-06-07</td>\n",
       "      <td>В наличии</td>\n",
       "      <td>Батарейка Energenie EG-BA-CR2025-01</td>\n",
       "      <td>5.0</td>\n",
       "      <td>NaN</td>\n",
       "      <td>0</td>\n",
       "      <td>NaN</td>\n",
       "      <td>televizory_i_elektronika</td>\n",
       "      <td>batareyki_i_zaryadnye_ustroystva</td>\n",
       "      <td>batareyki_i_zaryadnye_ustroystva</td>\n",
       "      <td>76</td>\n",
       "      <td>76</td>\n",
       "      <td>199.75</td>\n",
       "      <td>energenie</td>\n",
       "      <td>бюджет</td>\n",
       "    </tr>\n",
       "  </tbody>\n",
       "</table>\n",
       "</div>"
      ],
      "text/plain": [
       "                                           soup_name           id        date  \\\n",
       "0  https://hi-tech.md/televizory-i-elektronika/ba...  Т-000088228  2024-06-07   \n",
       "1  https://hi-tech.md/televizory-i-elektronika/ba...  Т-000088229  2024-06-07   \n",
       "2  https://hi-tech.md/televizory-i-elektronika/ba...  Т-000088221  2024-06-07   \n",
       "3  https://hi-tech.md/televizory-i-elektronika/ba...  Т-000088222  2024-06-07   \n",
       "4  https://hi-tech.md/televizory-i-elektronika/ba...  Т-000088230  2024-06-07   \n",
       "\n",
       "  availability                                title  price  old_price  \\\n",
       "0    В наличии  Батарейка Energenie EG-BA-CR1220-01    4.0        NaN   \n",
       "1    В наличии  Батарейка Energenie EG-BA-CR2016-01    4.0        NaN   \n",
       "2    В наличии     Батарейка Energenie EG-BA-AA4-01    5.0        NaN   \n",
       "3    В наличии    Батарейка Energenie EG-BA-AAA4-01    5.0        NaN   \n",
       "4    В наличии  Батарейка Energenie EG-BA-CR2025-01    5.0        NaN   \n",
       "\n",
       "   action_sale  sale                  category  \\\n",
       "0            0   NaN  televizory_i_elektronika   \n",
       "1            0   NaN  televizory_i_elektronika   \n",
       "2            0   NaN  televizory_i_elektronika   \n",
       "3            0   NaN  televizory_i_elektronika   \n",
       "4            0   NaN  televizory_i_elektronika   \n",
       "\n",
       "                        subcategory                             group  \\\n",
       "0  batareyki_i_zaryadnye_ustroystva  batareyki_i_zaryadnye_ustroystva   \n",
       "1  batareyki_i_zaryadnye_ustroystva  batareyki_i_zaryadnye_ustroystva   \n",
       "2  batareyki_i_zaryadnye_ustroystva  batareyki_i_zaryadnye_ustroystva   \n",
       "3  batareyki_i_zaryadnye_ustroystva  batareyki_i_zaryadnye_ustroystva   \n",
       "4  batareyki_i_zaryadnye_ustroystva  batareyki_i_zaryadnye_ustroystva   \n",
       "\n",
       "   count_group  count_group_presence  dif_price      brend group_prise  \n",
       "0           76                    76     199.75  energenie      бюджет  \n",
       "1           76                    76     199.75  energenie      бюджет  \n",
       "2           76                    76     199.75  energenie      бюджет  \n",
       "3           76                    76     199.75  energenie      бюджет  \n",
       "4           76                    76     199.75  energenie      бюджет  "
      ]
     },
     "execution_count": 35,
     "metadata": {},
     "output_type": "execute_result"
    }
   ],
   "source": [
    "df.head()"
   ]
  },
  {
   "cell_type": "code",
   "execution_count": null,
   "id": "32e11009",
   "metadata": {},
   "outputs": [],
   "source": []
  },
  {
   "cell_type": "code",
   "execution_count": null,
   "id": "7a0630f4",
   "metadata": {},
   "outputs": [],
   "source": []
  },
  {
   "cell_type": "code",
   "execution_count": null,
   "id": "6b466cf5",
   "metadata": {},
   "outputs": [],
   "source": []
  },
  {
   "cell_type": "code",
   "execution_count": null,
   "id": "b2efabdd",
   "metadata": {},
   "outputs": [],
   "source": []
  },
  {
   "cell_type": "code",
   "execution_count": null,
   "id": "49aed871",
   "metadata": {},
   "outputs": [],
   "source": []
  },
  {
   "cell_type": "code",
   "execution_count": null,
   "id": "c24b0f2a",
   "metadata": {},
   "outputs": [],
   "source": []
  },
  {
   "cell_type": "code",
   "execution_count": null,
   "id": "cee29019",
   "metadata": {},
   "outputs": [],
   "source": []
  },
  {
   "cell_type": "code",
   "execution_count": null,
   "id": "fc8e0415",
   "metadata": {},
   "outputs": [],
   "source": []
  },
  {
   "cell_type": "code",
   "execution_count": 36,
   "id": "d6a865b7",
   "metadata": {},
   "outputs": [],
   "source": [
    "today = pd.to_datetime('today').normalize()\n",
    "today = today.to_pydatetime()\n",
    "df.to_csv('csv/hi_tech_'+str(today.day)+'_'+str(today.month)+'_'+str(today.year)+'.csv', index=False)  "
   ]
  },
  {
   "cell_type": "code",
   "execution_count": null,
   "id": "29c0b6ed",
   "metadata": {},
   "outputs": [],
   "source": []
  }
 ],
 "metadata": {
  "kernelspec": {
   "display_name": "Python 3 (ipykernel)",
   "language": "python",
   "name": "python3"
  },
  "language_info": {
   "codemirror_mode": {
    "name": "ipython",
    "version": 3
   },
   "file_extension": ".py",
   "mimetype": "text/x-python",
   "name": "python",
   "nbconvert_exporter": "python",
   "pygments_lexer": "ipython3",
   "version": "3.11.3"
  }
 },
 "nbformat": 4,
 "nbformat_minor": 5
}
