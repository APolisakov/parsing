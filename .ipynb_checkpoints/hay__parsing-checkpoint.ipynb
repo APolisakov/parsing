{
 "cells": [
  {
   "cell_type": "markdown",
   "id": "eacccf3d",
   "metadata": {},
   "source": [
    "# parsing хайтек"
   ]
  },
  {
   "cell_type": "code",
   "execution_count": null,
   "id": "c0a16e5a",
   "metadata": {},
   "outputs": [],
   "source": [
    "import pandas as pd\n",
    "import numpy as np\n",
    "import requests\n",
    "from bs4 import BeautifulSoup as bs\n",
    "import re\n",
    "from tqdm.notebook import trange, tqdm\n",
    "from tqdm.gui import tqdm as tqdm_gui\n",
    "from IPython.display import display"
   ]
  },
  {
   "cell_type": "markdown",
   "id": "50e2394a",
   "metadata": {},
   "source": [
    "импорт библиотек"
   ]
  },
  {
   "cell_type": "code",
   "execution_count": null,
   "id": "10b909aa",
   "metadata": {},
   "outputs": [],
   "source": [
    "import warnings\n",
    "warnings.filterwarnings('ignore')"
   ]
  },
  {
   "cell_type": "markdown",
   "id": "283df9be",
   "metadata": {},
   "source": [
    "отключение ворнингов"
   ]
  },
  {
   "cell_type": "code",
   "execution_count": null,
   "id": "6911eae7",
   "metadata": {},
   "outputs": [],
   "source": [
    "pd.set_option('display.max_colwidth', 1000)\n",
    "pd.set_option('display.max_columns', 1000)\n",
    "pd.set_option('display.max_rows', 1000)"
   ]
  },
  {
   "cell_type": "markdown",
   "id": "76c6f69a",
   "metadata": {},
   "source": [
    "задание параметров таблиц"
   ]
  },
  {
   "cell_type": "code",
   "execution_count": null,
   "id": "064c382c",
   "metadata": {},
   "outputs": [],
   "source": [
    "reqx = requests.get('https://hi-tech.md/televizory-i-elektronika/page-1/')"
   ]
  },
  {
   "cell_type": "code",
   "execution_count": null,
   "id": "ddcf2fda",
   "metadata": {},
   "outputs": [],
   "source": [
    "soup = bs(reqx.text, 'html.parser')"
   ]
  },
  {
   "cell_type": "code",
   "execution_count": null,
   "id": "b520f4c1",
   "metadata": {
    "scrolled": true
   },
   "outputs": [],
   "source": [
    "data = pd.DataFrame({'soup_name':pd.Series(soup.findAll('div', class_='ypi-grid-list__item_body'),dtype = 'object')})\n",
    "data"
   ]
  },
  {
   "cell_type": "markdown",
   "id": "00ed53e4",
   "metadata": {},
   "source": [
    "data.loc[0,'soup_name'].find('span', class_=\"ty-strike\").text.replace(u'\\xa0',u'').replace(u'руб',u'')"
   ]
  },
  {
   "cell_type": "markdown",
   "id": "2b33265e",
   "metadata": {},
   "source": [
    "data.loc[5,'soup_name']"
   ]
  },
  {
   "cell_type": "markdown",
   "id": "72aa2c71",
   "metadata": {},
   "source": [
    "парсинг тестовой страници сайта "
   ]
  },
  {
   "cell_type": "markdown",
   "id": "8ce298d2",
   "metadata": {},
   "source": [
    "def names_correct(x):\n",
    "    name = str(x)\n",
    "    return  name "
   ]
  },
  {
   "cell_type": "markdown",
   "id": "ec561a51",
   "metadata": {},
   "source": [
    "data['soup_name'] = data['soup_name'].apply(names_correct)"
   ]
  },
  {
   "cell_type": "markdown",
   "id": "713e4c73",
   "metadata": {},
   "source": [
    "меняем данные парсинга на текстовый тип "
   ]
  },
  {
   "cell_type": "code",
   "execution_count": null,
   "id": "caf0dc2d",
   "metadata": {},
   "outputs": [],
   "source": [
    "def find_id(x):\n",
    "    xxx = x.find('span', class_=\"ty-control-group__item\").text  \n",
    "    return xxx"
   ]
  },
  {
   "cell_type": "code",
   "execution_count": null,
   "id": "0f522c3d",
   "metadata": {},
   "outputs": [],
   "source": [
    "data['id'] = data['soup_name'].apply(find_id)"
   ]
  },
  {
   "cell_type": "markdown",
   "id": "df262d57",
   "metadata": {},
   "source": [
    "находим в тексте и созаем столбец с кодами товара"
   ]
  },
  {
   "cell_type": "code",
   "execution_count": null,
   "id": "d69b1e57",
   "metadata": {},
   "outputs": [],
   "source": [
    "data['date'] = pd.to_datetime('today').normalize()"
   ]
  },
  {
   "cell_type": "markdown",
   "id": "941e68bd",
   "metadata": {},
   "source": [
    "создаем столбец с датой парсинга"
   ]
  },
  {
   "cell_type": "code",
   "execution_count": null,
   "id": "5594eb89",
   "metadata": {},
   "outputs": [],
   "source": [
    "def find_availability(t):\n",
    "    xxx = t.find('a', class_=\"ty-control-group product-list-field cm-external-click\").text.replace('\\ue924','').replace('\\n','')\n",
    "    return xxx"
   ]
  },
  {
   "cell_type": "code",
   "execution_count": null,
   "id": "5bffe1bc",
   "metadata": {},
   "outputs": [],
   "source": [
    "data['availability'] = data['soup_name'].apply(find_availability)"
   ]
  },
  {
   "cell_type": "markdown",
   "id": "4d996511",
   "metadata": {},
   "source": [
    "находим в тексте и создаем столбец с наличием товара"
   ]
  },
  {
   "cell_type": "code",
   "execution_count": null,
   "id": "e6d33de3",
   "metadata": {},
   "outputs": [],
   "source": [
    "def find_title(t):\n",
    "    xxx = t.find('a', class_=\"product-title\").text\n",
    "    return xxx"
   ]
  },
  {
   "cell_type": "code",
   "execution_count": null,
   "id": "648e0b7c",
   "metadata": {},
   "outputs": [],
   "source": [
    "data['title'] = data['soup_name'].apply(find_title)"
   ]
  },
  {
   "cell_type": "markdown",
   "id": "e36a466d",
   "metadata": {},
   "source": [
    "находим в тексте и создаем столбец снаименованием товара"
   ]
  },
  {
   "cell_type": "code",
   "execution_count": null,
   "id": "56b59bb4",
   "metadata": {},
   "outputs": [],
   "source": [
    "def find_price(t):\n",
    "    xxx = t.find('span', class_=\"ty-price-num\").text.replace(u'\\xa0',u'')\n",
    "    return xxx"
   ]
  },
  {
   "cell_type": "code",
   "execution_count": null,
   "id": "9068a1bf",
   "metadata": {},
   "outputs": [],
   "source": [
    "data['price'] = data['soup_name'].apply(find_price)"
   ]
  },
  {
   "cell_type": "markdown",
   "id": "ed9b62ef",
   "metadata": {},
   "source": [
    "Находим в тексте и создаем столбец с ценой товара"
   ]
  },
  {
   "cell_type": "code",
   "execution_count": null,
   "id": "e2e3e51e",
   "metadata": {},
   "outputs": [],
   "source": [
    "def find_old_price(t):\n",
    "    try:\n",
    "        xxx = t.find('span', class_=\"ty-strike\").text.replace(u'\\xa0',u'').replace(u'руб',u'')\n",
    "        return xxx\n",
    "    except:\n",
    "        return np.NaN"
   ]
  },
  {
   "cell_type": "code",
   "execution_count": null,
   "id": "149cfb16",
   "metadata": {},
   "outputs": [],
   "source": [
    "data['old_price'] = data['soup_name'].apply(find_old_price)"
   ]
  },
  {
   "cell_type": "markdown",
   "id": "9c4784d1",
   "metadata": {},
   "source": [
    "Для акционного товара Находим в тексте и создаем столбец со старой ценой до начала акции"
   ]
  },
  {
   "cell_type": "code",
   "execution_count": null,
   "id": "aa448515",
   "metadata": {},
   "outputs": [],
   "source": [
    "def find_url(t):\n",
    "    xxx = t.find('a', class_=\"abt-single-image\")['href']\n",
    "    return xxx"
   ]
  },
  {
   "cell_type": "code",
   "execution_count": null,
   "id": "18f2730d",
   "metadata": {},
   "outputs": [],
   "source": [
    "data['soup_name'] = data['soup_name'].apply(find_url)"
   ]
  },
  {
   "cell_type": "markdown",
   "id": "db852f87",
   "metadata": {},
   "source": [
    "Находим в тексте информацию об адресе совара и переписываем эту информацию вместо парсинговой."
   ]
  },
  {
   "cell_type": "code",
   "execution_count": null,
   "id": "5a09642a",
   "metadata": {},
   "outputs": [],
   "source": [
    "def preprocessing(x):\n",
    "    print(f'таблица имеет следующий вид:')\n",
    "    display(x.head())\n",
    "    print('*'*100)\n",
    "    print(f'таблица имеет {x.shape[0]} сторок и {x.shape[1]} столбцов')\n",
    "    print('*'*100)\n",
    "    print(f'в таблице обнаружено дублекатов:{x.duplicated().sum()}')\n",
    "    print('*'*100)\n",
    "    print('в таблице обнаружены пропуски в следующих столбцах:')\n",
    "    display(x.isna().sum())\n",
    "    print('*'*100)\n",
    "    print('Эти пропуски составлябт следующее количество в процентах')\n",
    "    display((x.isna().mean()* 100).round(1))\n",
    "    print('*'*100)\n",
    "    print('столбцы имеют следующие типы:')\n",
    "    display(x.dtypes)\n",
    "    x.columns = [y.lower().replace(' ', '_') for y in x.columns.values] \n",
    "    print('*'*100)\n",
    "    print('названия столбцов переписаны в нижнем регистре, пробелы заменены на нижнее подчеркивание')\n",
    "    print('*'*100)\n",
    "    display(x.info())"
   ]
  },
  {
   "cell_type": "markdown",
   "id": "d21da9cc",
   "metadata": {},
   "source": [
    "создаем функцию предварительного просмотра данных"
   ]
  },
  {
   "cell_type": "code",
   "execution_count": null,
   "id": "7696c601",
   "metadata": {},
   "outputs": [],
   "source": [
    "def parsing_2(url):\n",
    "    data = pd.DataFrame(columns=['soup_name', 'id', 'date', 'availability', 'title', 'price', 'old_price'])\n",
    "    for i in tqdm(url):        \n",
    "        q = 1\n",
    "        while q>0:        \n",
    "            reqx = requests.get(i + str(q))\n",
    "            soup = bs(reqx.text, 'html.parser')\n",
    "            datax = pd.DataFrame({'soup_name':pd.Series(soup.findAll('div', class_='ypi-grid-list__item_body'),dtype = 'object')})\n",
    "            data = pd.concat([data, datax], ignore_index=True)\n",
    "            if len(list(soup.findAll('div', class_='ypi-grid-list__item_body'))) > 0:\n",
    "                q = q + 1\n",
    "            else:\n",
    "                q = 0\n",
    "    #data['soup_name'] = data['soup_name'].apply(names_correct)\n",
    "    data['id'] = data['soup_name'].apply(find_id)\n",
    "    data['date'] = pd.to_datetime('today').normalize()\n",
    "    data['availability'] = data['soup_name'].apply(find_availability)\n",
    "    data['title'] = data['soup_name'].apply(find_title)\n",
    "    data['price'] = data['soup_name'].apply(find_price)\n",
    "    data['old_price'] = data['soup_name'].apply(find_old_price)\n",
    "    data['soup_name'] = data['soup_name'].apply(find_url)\n",
    "    data['price'] = data['price'].astype(float)\n",
    "    data.loc[data['old_price'] == '','old_price'] = np.nan\n",
    "    data['old_price'] = data['old_price'].astype(float)\n",
    "    return data"
   ]
  },
  {
   "cell_type": "markdown",
   "id": "6eb85bbd",
   "metadata": {},
   "source": [
    "создаем функцию, которая по списку url проходит и парсит всю доступную информацию, преобразуя ее в датафрейм."
   ]
  },
  {
   "cell_type": "markdown",
   "id": "ea9d2f0a",
   "metadata": {},
   "source": [
    "all_url = ['https://hi-tech.md/televizory-i-elektronika/page-',\n",
    "       'https://hi-tech.md/bytovaya-tehnika/page-',\n",
    "       'https://hi-tech.md/kompyuternaya-tehnika/page-']"
   ]
  },
  {
   "cell_type": "markdown",
   "id": "a3ac8dac",
   "metadata": {},
   "source": [
    "all_url = ['https://hi-tech.md/bytovaya-tehnika/page-']"
   ]
  },
  {
   "cell_type": "code",
   "execution_count": null,
   "id": "d6efb7a3",
   "metadata": {},
   "outputs": [],
   "source": [
    "all_url = ['https://hi-tech.md/televizory-i-elektronika/page-',\n",
    "           'https://hi-tech.md/bytovaya-tehnika/page-',\n",
    "           'https://hi-tech.md/kompyuternaya-tehnika/page-',\n",
    "           'https://hi-tech.md/mebel-tekstil/kompyuternaya-mebel/ofisnye-kresla-i-stulya/komp.-kresla/page-',\n",
    "           'https://hi-tech.md/instrumenty-i-oborudovanie/elektroinstrument/page-',\n",
    "           'https://hi-tech.md/tovary-dlya-doma/page-'\n",
    "          ]"
   ]
  },
  {
   "cell_type": "markdown",
   "id": "2b4beffa",
   "metadata": {},
   "source": [
    "список url по которым будет парсится сайт"
   ]
  },
  {
   "cell_type": "code",
   "execution_count": null,
   "id": "064954c3",
   "metadata": {
    "scrolled": true
   },
   "outputs": [],
   "source": [
    "df = parsing_2(all_url)\n",
    "df"
   ]
  },
  {
   "cell_type": "markdown",
   "id": "1c2995b3",
   "metadata": {},
   "source": [
    "полученная информация"
   ]
  },
  {
   "cell_type": "code",
   "execution_count": null,
   "id": "630e3ac0",
   "metadata": {
    "scrolled": true
   },
   "outputs": [],
   "source": [
    "preprocessing(df)"
   ]
  },
  {
   "cell_type": "code",
   "execution_count": null,
   "id": "f7dcb3c2",
   "metadata": {
    "scrolled": true
   },
   "outputs": [],
   "source": [
    " df = df.drop_duplicates()"
   ]
  },
  {
   "cell_type": "code",
   "execution_count": null,
   "id": "595353da",
   "metadata": {},
   "outputs": [],
   "source": [
    "today = pd.to_datetime('today').normalize()\n",
    "today = today.to_pydatetime()\n",
    "df.to_csv('csv/hi_tech_test1_'+str(today.year)+'_'+str(today.month)+'_'+str(today.day)+'.csv', index=False)  "
   ]
  },
  {
   "cell_type": "markdown",
   "id": "17af301b",
   "metadata": {},
   "source": [
    "Переписывем датафрейм в файл"
   ]
  },
  {
   "cell_type": "markdown",
   "id": "abbe786c",
   "metadata": {},
   "source": [
    "# аналитика хайтек"
   ]
  },
  {
   "cell_type": "code",
   "execution_count": null,
   "id": "97a726ea",
   "metadata": {},
   "outputs": [],
   "source": [
    "brend = pd.read_excel('csv/brend.xlsx')"
   ]
  },
  {
   "cell_type": "code",
   "execution_count": null,
   "id": "5a4e6e8b",
   "metadata": {},
   "outputs": [],
   "source": [
    "def lower(x):\n",
    "    return x.lower()"
   ]
  },
  {
   "cell_type": "code",
   "execution_count": null,
   "id": "ac3d1d3c",
   "metadata": {},
   "outputs": [],
   "source": [
    "brend['names'] = brend['name'].apply(lower)"
   ]
  },
  {
   "cell_type": "code",
   "execution_count": null,
   "id": "88463ec0",
   "metadata": {},
   "outputs": [],
   "source": [
    "brend_up = brend.name.unique()\n",
    "brend_low = brend.names.unique()"
   ]
  },
  {
   "cell_type": "markdown",
   "id": "68058b8b",
   "metadata": {},
   "source": [
    "загружаем и создаем переменную с брендами"
   ]
  },
  {
   "cell_type": "code",
   "execution_count": null,
   "id": "22df1005",
   "metadata": {},
   "outputs": [],
   "source": [
    "df"
   ]
  },
  {
   "cell_type": "code",
   "execution_count": null,
   "id": "4f5aeb43",
   "metadata": {},
   "outputs": [],
   "source": [
    "def category(x):\n",
    "    xx = x.split('/')\n",
    "    xx = xx[3].replace('-','_')\n",
    "    return xx    "
   ]
  },
  {
   "cell_type": "code",
   "execution_count": null,
   "id": "c8f1cc0b",
   "metadata": {},
   "outputs": [],
   "source": [
    "def subcategory(x):\n",
    "    xx = x.split('/')\n",
    "    xx = xx[4].replace('-','_')\n",
    "    return xx   "
   ]
  },
  {
   "cell_type": "code",
   "execution_count": null,
   "id": "10937f64",
   "metadata": {},
   "outputs": [],
   "source": [
    "def group(x):\n",
    "    xx = x.split('/')\n",
    "    if len(xx) == 7:\n",
    "        return xx[-3].replace('-','_')\n",
    "    elif len(xx) == 8:\n",
    "        return xx[-3].replace('-','_')\n",
    "    elif len(xx) == 9:\n",
    "        return xx[-4].replace('-','_')\n",
    "    elif len(xx) == 10:\n",
    "        return xx[-5].replace('-','_')\n",
    "    elif len(xx) == 11:\n",
    "        return xx[-6].replace('-','_')  "
   ]
  },
  {
   "cell_type": "markdown",
   "id": "849d22e8",
   "metadata": {},
   "source": [
    "создаем вспомогательные функции"
   ]
  },
  {
   "cell_type": "code",
   "execution_count": null,
   "id": "469c69ac",
   "metadata": {},
   "outputs": [],
   "source": [
    "df['action_sale'] = 0"
   ]
  },
  {
   "cell_type": "code",
   "execution_count": null,
   "id": "e562294a",
   "metadata": {},
   "outputs": [],
   "source": [
    "df.loc[df['old_price'] > 0,'action_sale'] = 1"
   ]
  },
  {
   "cell_type": "markdown",
   "id": "6d669ef9",
   "metadata": {},
   "source": [
    "создаем столбец который показывает является ли товар акционным(1 - акционный, 0 - не акционный)"
   ]
  },
  {
   "cell_type": "code",
   "execution_count": null,
   "id": "f96150c2",
   "metadata": {},
   "outputs": [],
   "source": [
    "df['sale'] = (100 - ((df['price']*100)/df['old_price'])).round(2) "
   ]
  },
  {
   "cell_type": "markdown",
   "id": "63f425c2",
   "metadata": {},
   "source": [
    "создаем столбец показывающий скидку в процентах"
   ]
  },
  {
   "cell_type": "code",
   "execution_count": null,
   "id": "2017904c",
   "metadata": {},
   "outputs": [],
   "source": [
    "df['category'] = df['soup_name'].apply(category)"
   ]
  },
  {
   "cell_type": "markdown",
   "id": "49fc2893",
   "metadata": {},
   "source": [
    "Создаем столбец показывающий категорию товаров"
   ]
  },
  {
   "cell_type": "code",
   "execution_count": null,
   "id": "79790d09",
   "metadata": {},
   "outputs": [],
   "source": [
    "df['subcategory'] = df['soup_name'].apply(subcategory)"
   ]
  },
  {
   "cell_type": "markdown",
   "id": "c4d3e6ea",
   "metadata": {},
   "source": [
    "создаем столбец показывающий подкатегорию товаров"
   ]
  },
  {
   "cell_type": "code",
   "execution_count": null,
   "id": "33af0a93",
   "metadata": {},
   "outputs": [],
   "source": [
    "df['group'] = df['soup_name'].apply(group)"
   ]
  },
  {
   "cell_type": "markdown",
   "id": "e0ea58de",
   "metadata": {},
   "source": [
    "создаем столбец показывающий группу товаров"
   ]
  },
  {
   "cell_type": "code",
   "execution_count": null,
   "id": "4a7a62e4",
   "metadata": {},
   "outputs": [],
   "source": [
    "df.loc[df['subcategory']=='monitory','group'] = 'monitory'"
   ]
  },
  {
   "cell_type": "markdown",
   "id": "bb6985a6",
   "metadata": {},
   "source": [
    "в подкатегории мониторы меняем названия групп на мониторы"
   ]
  },
  {
   "cell_type": "code",
   "execution_count": null,
   "id": "cddc565e",
   "metadata": {},
   "outputs": [],
   "source": [
    "df.head()"
   ]
  },
  {
   "cell_type": "code",
   "execution_count": null,
   "id": "c1396a25",
   "metadata": {},
   "outputs": [],
   "source": [
    "df['category'].unique()"
   ]
  },
  {
   "cell_type": "code",
   "execution_count": null,
   "id": "540df2f4",
   "metadata": {},
   "outputs": [],
   "source": [
    "df['subcategory'].unique()"
   ]
  },
  {
   "cell_type": "code",
   "execution_count": null,
   "id": "46c4776a",
   "metadata": {},
   "outputs": [],
   "source": [
    "df.group.unique()"
   ]
  },
  {
   "cell_type": "markdown",
   "id": "e5bd38a2",
   "metadata": {},
   "source": [
    "проссматриваем названия категорий подкатегорий и групп товаров"
   ]
  },
  {
   "cell_type": "code",
   "execution_count": null,
   "id": "fd3d97e5",
   "metadata": {},
   "outputs": [],
   "source": [
    "df.loc[df['group'].isna(),'group'] = 'No_group'"
   ]
  },
  {
   "cell_type": "markdown",
   "id": "aaaaf3e5",
   "metadata": {},
   "source": [
    "удалеем из столбца group все значения None"
   ]
  },
  {
   "cell_type": "code",
   "execution_count": null,
   "id": "30c11169",
   "metadata": {},
   "outputs": [],
   "source": [
    "def count_group(x):\n",
    "    return df[df['group']==x]['id'].count()    "
   ]
  },
  {
   "cell_type": "code",
   "execution_count": null,
   "id": "e37c2f0c",
   "metadata": {},
   "outputs": [],
   "source": [
    "tqdm.pandas()\n",
    "df['count_group'] = df['group'].progress_apply(count_group)"
   ]
  },
  {
   "cell_type": "markdown",
   "id": "0e8efdc1",
   "metadata": {},
   "source": [
    "создание столбца с количеством товара в группе"
   ]
  },
  {
   "cell_type": "code",
   "execution_count": null,
   "id": "d27d6fcc",
   "metadata": {},
   "outputs": [],
   "source": [
    "def count_group_presence(x):\n",
    "    return df[(df['availability']=='В наличии')&(df['group']==x)]['id'].count()   "
   ]
  },
  {
   "cell_type": "code",
   "execution_count": null,
   "id": "8eefa94f",
   "metadata": {},
   "outputs": [],
   "source": [
    "tqdm.pandas()\n",
    "df['count_group_presence'] = df['group'].progress_apply(count_group_presence)"
   ]
  },
  {
   "cell_type": "markdown",
   "id": "22092d0e",
   "metadata": {},
   "source": [
    "создание столбца с количеством товара, который есть в наличии, в группе"
   ]
  },
  {
   "cell_type": "code",
   "execution_count": null,
   "id": "08fac5d3",
   "metadata": {},
   "outputs": [],
   "source": [
    "def dif_price(x):    \n",
    "    max_price = df[(df['availability']=='В наличии')&(df['group']==x)]['price'].max()\n",
    "    min_price = df[(df['availability']=='В наличии')&(df['group']==x)]['price'].min() \n",
    "    return max_price / min_price"
   ]
  },
  {
   "cell_type": "code",
   "execution_count": null,
   "id": "b61e6a6e",
   "metadata": {},
   "outputs": [],
   "source": [
    "tqdm.pandas()\n",
    "df['dif_price'] = df['group'].progress_apply(dif_price)"
   ]
  },
  {
   "cell_type": "markdown",
   "id": "5feb0b17",
   "metadata": {},
   "source": [
    "создам столбец с отношением самой дорогой цены в группе к самой дешевой."
   ]
  },
  {
   "cell_type": "code",
   "execution_count": null,
   "id": "9de9d8e9",
   "metadata": {},
   "outputs": [],
   "source": [
    "def brends(x):\n",
    "    xx = x.replace('\\xa0', ' ')\n",
    "    xx = xx.split(' ')    \n",
    "    for i in range(len(xx)-1):\n",
    "        if xx[i].lower() in brend_low:\n",
    "            return xx[i].lower()\n",
    "        elif (str(xx[i].lower())+' '+str(xx[i+1].lower())) in brend_low:\n",
    "            return (str(xx[i].lower())+' '+str(xx[i+1].lower()))    \n",
    "    else:    \n",
    "        return 'другой'"
   ]
  },
  {
   "cell_type": "code",
   "execution_count": null,
   "id": "d3863bbc",
   "metadata": {},
   "outputs": [],
   "source": [
    "tqdm.pandas()\n",
    "df['brend'] = df['title'].progress_apply(brends)"
   ]
  },
  {
   "cell_type": "code",
   "execution_count": null,
   "id": "f1132a94",
   "metadata": {},
   "outputs": [],
   "source": [
    "df['group_prise'] = df.groupby('group')['price'].transform(lambda x: pd.cut(x, bins = 4, labels=[\"бюджет\", \"стандарт\", \"элит\", \"топ\"]))"
   ]
  },
  {
   "cell_type": "code",
   "execution_count": null,
   "id": "de8416bc",
   "metadata": {},
   "outputs": [],
   "source": [
    "today = pd.to_datetime('today').normalize()\n",
    "today = today.to_pydatetime()\n",
    "df.to_csv('csv/hi_tech_sity_'+str(today.year)+'_'+str(today.month)+'_'+str(today.day)+'.csv', index=False)  "
   ]
  },
  {
   "cell_type": "markdown",
   "id": "1b7e5d9b",
   "metadata": {},
   "source": [
    "# Добавление остатков по магазинам"
   ]
  },
  {
   "cell_type": "markdown",
   "id": "9bb02da7",
   "metadata": {},
   "source": [
    "def count_sity(x):\n",
    "    try:\n",
    "        reqx = requests.get(x)\n",
    "        soup = bs(reqx.text, 'html.parser')    \n",
    "        element = soup.findAll('div', class_='ty-warehouses-store__availability')\n",
    "        elem_2 = soup.findAll('div', class_='ty-breadcrumbs clearfix')\n",
    "        name = soup.findAll('span', class_='ty-breadcrumbs__current')\n",
    "        data = []\n",
    "        if len(element) == 14:\n",
    "            data.append(element[0].text.strip().replace('В наличии', '1').replace('Нет в наличии','0')\n",
    "            .replace('Под заказ (1-3 дня)','0').replace('nan','0'))    \n",
    "            data.append(element[1].text.strip().replace('В наличии', '1').replace('Нет в наличии','0')\n",
    "            .replace('Под заказ (1-3 дня)','0').replace('nan','0'))\n",
    "            data.append(element[2].text.strip().replace('В наличии', '1').replace('Нет в наличии','0')\n",
    "            .replace('Под заказ (1-3 дня)','0').replace('nan','0'))\n",
    "            data.append(element[3].text.strip().replace('В наличии', '1').replace('Нет в наличии','0')\n",
    "            .replace('Под заказ (1-3 дня)','0').replace('nan','0'))\n",
    "            data.append(element[4].text.strip().replace('В наличии', '1').replace('Нет в наличии','0')\n",
    "            .replace('Под заказ (1-3 дня)','0').replace('nan','0')) \n",
    "            data.append(element[5].text.strip().replace('В наличии', '1').replace('Нет в наличии','0')\n",
    "            .replace('Под заказ (1-3 дня)','0').replace('nan','0'))\n",
    "            data.append(element[6].text.strip().replace('В наличии', '1').replace('Нет в наличии','0')\n",
    "            .replace('Под заказ (1-3 дня)','0').replace('nan','0'))\n",
    "            data.append(element[7].text.strip().replace('В наличии', '1').replace('Нет в наличии','0')\n",
    "            .replace('Под заказ (1-3 дня)','0').replace('nan','0'))\n",
    "            data.append(element[8].text.strip().replace('В наличии', '1').replace('Нет в наличии','0')\n",
    "            .replace('Под заказ (1-3 дня)','0').replace('nan','0'))\n",
    "            data.append(element[9].text.strip().replace('В наличии', '1').replace('Нет в наличии','0')\n",
    "            .replace('Под заказ (1-3 дня)','0').replace('nan','0'))\n",
    "            data.append(element[10].text.strip().replace('В наличии', '1').replace('Нет в наличии','0')\n",
    "            .replace('Под заказ (1-3 дня)','0').replace('nan','0'))\n",
    "            data.append(element[11].text.strip().replace('В наличии', '1').replace('Нет в наличии','0')\n",
    "            .replace('Под заказ (1-3 дня)','0').replace('nan','0'))\n",
    "            data.append(element[12].text.strip().replace('В наличии', '1').replace('Нет в наличии','0')\n",
    "            .replace('Под заказ (1-3 дня)','0').replace('nan','0'))\n",
    "            data.append(element[13].text.strip().replace('В наличии', '1').replace('Нет в наличии','0')\n",
    "            .replace('Под заказ (1-3 дня)','0').replace('nan','0'))\n",
    "            data.append(0)\n",
    "            if name[0].text.find('/')<0:\n",
    "                ss = elem_2[0].text\n",
    "            else:\n",
    "                ss = elem_2[0].text[:elem_2[0].text.rfind('/')] + ' ' + elem_2[0].text[elem_2[0].text.rfind('/')+1:]           \n",
    "\n",
    "            if len(ss.split('/')) == 3:\n",
    "                data.append(ss.split(\"/\")[1])\n",
    "                data.append(ss.split(\"/\")[2])\n",
    "                data.append(ss.split(\"/\")[2])\n",
    "                data.append(len(ss.split('/')))\n",
    "            elif len(ss.split('/')) == 4:\n",
    "                data.append(ss.split(\"/\")[1])\n",
    "                data.append(ss.split(\"/\")[2])\n",
    "                data.append(ss.split(\"/\")[2])  \n",
    "                data.append(len(ss.split('/')))\n",
    "            elif len(ss.split('/')) == 5:\n",
    "                data.append(ss.split(\"/\")[1])\n",
    "                data.append(ss.split(\"/\")[2])\n",
    "                data.append(ss.split(\"/\")[3]) \n",
    "                data.append(len(ss.split('/')))\n",
    "            elif len(ss.split('/')) == 6:\n",
    "                data.append(ss.split(\"/\")[1])\n",
    "                data.append(ss.split(\"/\")[2])\n",
    "                data.append(ss.split(\"/\")[-3])  \n",
    "                data.append(len(ss.split('/')))\n",
    "            elif len(ss.split('/')) == 7:\n",
    "                data.append(ss.split(\"/\")[1])\n",
    "                data.append(ss.split(\"/\")[2])\n",
    "                data.append(ss.split(\"/\")[-4])  \n",
    "                data.append(len(ss.split('/')))\n",
    "            elif len(ss.split('/')) == 8:\n",
    "                data.append(ss.split(\"/\")[1])\n",
    "                data.append(ss.split(\"/\")[2])\n",
    "                data.append(ss.split(\"/\")[-5])  \n",
    "                data.append(len(ss.split('/')))\n",
    "            elif len(ss.split('/')) == 9:\n",
    "                data.append(ss.split(\"/\")[1])\n",
    "                data.append(ss.split(\"/\")[2])\n",
    "                data.append(ss.split(\"/\")[-6]) \n",
    "                data.append(len(ss.split('/')))\n",
    "            return data\n",
    "        else:\n",
    "            data.append(0)\n",
    "            data.append(0)\n",
    "            data.append(0)\n",
    "            data.append(0)\n",
    "            data.append(0)\n",
    "            data.append(0)\n",
    "            data.append(0)\n",
    "            data.append(0)\n",
    "            data.append(0)\n",
    "            data.append(0)\n",
    "            data.append(0)\n",
    "            data.append(0)\n",
    "            data.append(0)\n",
    "            data.append(0)\n",
    "            data.append(1)\n",
    "            if len(ss.split('/')) == 3:\n",
    "                data.append(ss.split(\"/\")[1])\n",
    "                data.append(ss.split(\"/\")[2])\n",
    "                data.append(ss.split(\"/\")[2])\n",
    "                data.append(len(ss.split('/')))\n",
    "            elif len(ss.split('/')) == 4:\n",
    "                data.append(ss.split(\"/\")[1])\n",
    "                data.append(ss.split(\"/\")[2])\n",
    "                data.append(ss.split(\"/\")[2])  \n",
    "                data.append(len(ss.split('/')))\n",
    "            elif len(ss.split('/')) == 5:\n",
    "                data.append(ss.split(\"/\")[1])\n",
    "                data.append(ss.split(\"/\")[2])\n",
    "                data.append(ss.split(\"/\")[3]) \n",
    "                data.append(len(ss.split('/')))\n",
    "            elif len(ss.split('/')) == 6:\n",
    "                data.append(ss.split(\"/\")[1])\n",
    "                data.append(ss.split(\"/\")[2])\n",
    "                data.append(ss.split(\"/\")[-3])  \n",
    "                data.append(len(ss.split('/')))\n",
    "            elif len(ss.split('/')) == 7:\n",
    "                data.append(ss.split(\"/\")[1])\n",
    "                data.append(ss.split(\"/\")[2])\n",
    "                data.append(ss.split(\"/\")[-4])  \n",
    "                data.append(len(ss.split('/')))\n",
    "            elif len(ss.split('/')) == 8:\n",
    "                data.append(ss.split(\"/\")[1])\n",
    "                data.append(ss.split(\"/\")[2])\n",
    "                data.append(ss.split(\"/\")[-5])  \n",
    "                data.append(len(ss.split('/')))\n",
    "            elif len(ss.split('/')) == 9:\n",
    "                data.append(ss.split(\"/\")[1])\n",
    "                data.append(ss.split(\"/\")[2])\n",
    "                data.append(ss.split(\"/\")[-6]) \n",
    "                data.append(len(ss.split('/')))\n",
    "            return data\n",
    "    except:\n",
    "        pass\n"
   ]
  },
  {
   "cell_type": "code",
   "execution_count": null,
   "id": "17d7c887",
   "metadata": {},
   "outputs": [],
   "source": [
    "def count_sity(x):\n",
    "    try:\n",
    "        reqx = requests.get(x)\n",
    "        soup = bs(reqx.text, 'html.parser')    \n",
    "        element = soup.findAll('div', class_='ty-warehouses-store__availability')\n",
    "        elem_2 = soup.findAll('div', class_='ty-breadcrumbs clearfix')\n",
    "        name = soup.findAll('span', class_='ty-breadcrumbs__current')\n",
    "        data = []\n",
    "        try:\n",
    "            data.append(element[0].text.strip().replace('В наличии', '1').replace('Нет в наличии','0')\n",
    "            .replace('Под заказ (1-3 дня)','0').replace('nan','0'))\n",
    "        except:\n",
    "            data.append(np.NaN)\n",
    "        try:\n",
    "            data.append(element[1].text.strip().replace('В наличии', '1').replace('Нет в наличии','0')\n",
    "            .replace('Под заказ (1-3 дня)','0').replace('nan','0'))\n",
    "        except:\n",
    "            data.append(np.NaN)\n",
    "        try:\n",
    "            data.append(element[2].text.strip().replace('В наличии', '1').replace('Нет в наличии','0')\n",
    "            .replace('Под заказ (1-3 дня)','0').replace('nan','0'))\n",
    "        except:\n",
    "            data.append(np.NaN)\n",
    "        try:\n",
    "            data.append(element[3].text.strip().replace('В наличии', '1').replace('Нет в наличии','0')\n",
    "            .replace('Под заказ (1-3 дня)','0').replace('nan','0'))\n",
    "        except:\n",
    "            data.append(np.NaN)\n",
    "        try:\n",
    "            data.append(element[4].text.strip().replace('В наличии', '1').replace('Нет в наличии','0')\n",
    "            .replace('Под заказ (1-3 дня)','0').replace('nan','0'))\n",
    "        except:\n",
    "            data.append(np.NaN)\n",
    "        try:\n",
    "            data.append(element[5].text.strip().replace('В наличии', '1').replace('Нет в наличии','0')\n",
    "            .replace('Под заказ (1-3 дня)','0').replace('nan','0'))\n",
    "        except:\n",
    "            data.append(np.NaN)\n",
    "        try:\n",
    "            data.append(element[6].text.strip().replace('В наличии', '1').replace('Нет в наличии','0')\n",
    "            .replace('Под заказ (1-3 дня)','0').replace('nan','0'))\n",
    "        except:\n",
    "            data.append(np.NaN)\n",
    "        try:\n",
    "            data.append(element[7].text.strip().replace('В наличии', '1').replace('Нет в наличии','0')\n",
    "            .replace('Под заказ (1-3 дня)','0').replace('nan','0'))\n",
    "        except:\n",
    "            data.append(np.NaN)\n",
    "        try:\n",
    "            data.append(element[8].text.strip().replace('В наличии', '1').replace('Нет в наличии','0')\n",
    "            .replace('Под заказ (1-3 дня)','0').replace('nan','0'))\n",
    "        except:\n",
    "            data.append(np.NaN)\n",
    "        try:\n",
    "            data.append(element[9].text.strip().replace('В наличии', '1').replace('Нет в наличии','0')\n",
    "            .replace('Под заказ (1-3 дня)','0').replace('nan','0'))\n",
    "        except:\n",
    "            data.append(np.NaN)\n",
    "        try:\n",
    "            data.append(element[10].text.strip().replace('В наличии', '1').replace('Нет в наличии','0')\n",
    "            .replace('Под заказ (1-3 дня)','0').replace('nan','0'))\n",
    "        except:\n",
    "            data.append(np.NaN)\n",
    "        try:\n",
    "            data.append(element[11].text.strip().replace('В наличии', '1').replace('Нет в наличии','0')\n",
    "            .replace('Под заказ (1-3 дня)','0').replace('nan','0'))\n",
    "        except:\n",
    "            data.append(np.NaN)\n",
    "        try:\n",
    "            data.append(element[12].text.strip().replace('В наличии', '1').replace('Нет в наличии','0')\n",
    "            .replace('Под заказ (1-3 дня)','0').replace('nan','0'))\n",
    "        except:\n",
    "            data.append(np.NaN)\n",
    "        try:\n",
    "            data.append(element[13].text.strip().replace('В наличии', '1').replace('Нет в наличии','0')\n",
    "            .replace('Под заказ (1-3 дня)','0').replace('nan','0'))\n",
    "        except:\n",
    "            data.append(np.NaN)\n",
    "        try:        \n",
    "            if name[0].text.find('/')<0:\n",
    "                ss = elem_2[0].text\n",
    "            else:\n",
    "                ss = elem_2[0].text[:elem_2[0].text.rfind('/')] + ' ' + elem_2[0].text[elem_2[0].text.rfind('/')+1:]           \n",
    "\n",
    "            if len(ss.split('/')) == 3:\n",
    "                data.append(ss.split(\"/\")[1])\n",
    "                data.append(ss.split(\"/\")[2])\n",
    "                data.append(ss.split(\"/\")[2])\n",
    "                data.append(len(ss.split('/')))\n",
    "            elif len(ss.split('/')) == 4:\n",
    "                data.append(ss.split(\"/\")[1])\n",
    "                data.append(ss.split(\"/\")[2])\n",
    "                data.append(ss.split(\"/\")[2])  \n",
    "                data.append(len(ss.split('/')))\n",
    "            elif len(ss.split('/')) == 5:\n",
    "                data.append(ss.split(\"/\")[1])\n",
    "                data.append(ss.split(\"/\")[2])\n",
    "                data.append(ss.split(\"/\")[3]) \n",
    "                data.append(len(ss.split('/')))\n",
    "            elif len(ss.split('/')) == 6:\n",
    "                data.append(ss.split(\"/\")[1])\n",
    "                data.append(ss.split(\"/\")[2])\n",
    "                data.append(ss.split(\"/\")[-3])  \n",
    "                data.append(len(ss.split('/')))\n",
    "            elif len(ss.split('/')) == 7:\n",
    "                data.append(ss.split(\"/\")[1])\n",
    "                data.append(ss.split(\"/\")[2])\n",
    "                data.append(ss.split(\"/\")[-4])  \n",
    "                data.append(len(ss.split('/')))\n",
    "            elif len(ss.split('/')) == 8:\n",
    "                data.append(ss.split(\"/\")[1])\n",
    "                data.append(ss.split(\"/\")[2])\n",
    "                data.append(ss.split(\"/\")[-5])  \n",
    "                data.append(len(ss.split('/')))\n",
    "            elif len(ss.split('/')) == 9:\n",
    "                data.append(ss.split(\"/\")[1])\n",
    "                data.append(ss.split(\"/\")[2])\n",
    "                data.append(ss.split(\"/\")[-6]) \n",
    "                data.append(len(ss.split('/')))\n",
    "            return data\n",
    "        except:\n",
    "            data.append(np.NaN)\n",
    "            data.append(np.NaN)\n",
    "            data.append(np.NaN)\n",
    "            data.append(np.NaN)\n",
    "            return data\n",
    "    except:\n",
    "        pass"
   ]
  },
  {
   "cell_type": "code",
   "execution_count": null,
   "id": "2cb8c15c",
   "metadata": {
    "scrolled": true
   },
   "outputs": [],
   "source": [
    "tqdm.pandas()\n",
    "df['count_sity']= df['soup_name'].progress_apply(count_sity)"
   ]
  },
  {
   "cell_type": "code",
   "execution_count": null,
   "id": "5333d83f",
   "metadata": {},
   "outputs": [],
   "source": [
    "df['Тир_Юности_14А'] = df['count_sity'].str[0]\n",
    "df['Ц_Тир_25_Октября_69'] = df['count_sity'].str[1]\n",
    "df['Бенд_Спортивная_5'] = df['count_sity'].str[2]\n",
    "df['Бенд_Советская_5'] = df['count_sity'].str[3]\n",
    "df['Бенд_Советская_8'] = df['count_sity'].str[4]\n",
    "df['СЛОБОДЗЕЯ'] = df['count_sity'].str[5]\n",
    "df['ДНЕСТРОВСК'] = df['count_sity'].str[6]\n",
    "df['Первомайск'] = df['count_sity'].str[7]\n",
    "df['Григ_КМаркса_181А'] = df['count_sity'].str[8]\n",
    "df['Григ_КМаркса_172'] = df['count_sity'].str[9]\n",
    "df['ДУБОССАРЫ'] = df['count_sity'].str[10]\n",
    "df['Рыбн_Вальченко_43'] = df['count_sity'].str[11]\n",
    "df['Рыбн_Кирова_135'] = df['count_sity'].str[12]\n",
    "df['Каменка'] = df['count_sity'].str[13]\n",
    "df['_category'] = df['count_sity'].str[15]\n",
    "df['_subcategory'] = df['count_sity'].str[16]\n",
    "df['_group'] = df['count_sity'].str[17]\n",
    "df['len'] = df['count_sity'].str[18]"
   ]
  },
  {
   "cell_type": "code",
   "execution_count": null,
   "id": "cdea4329",
   "metadata": {},
   "outputs": [],
   "source": [
    "df = df[~(df['Тир_Юности_14А'].isnull())]"
   ]
  },
  {
   "cell_type": "code",
   "execution_count": null,
   "id": "ab07bb41",
   "metadata": {},
   "outputs": [],
   "source": [
    "df['Тир_Юности_14А'] = df['Тир_Юности_14А'].astype('int')\n",
    "df['Ц_Тир_25_Октября_69'] = df['Ц_Тир_25_Октября_69'].astype('int')\n",
    "df['ТИРАСПОЛЬ'] = df['Тир_Юности_14А'] + df['Ц_Тир_25_Октября_69']\n",
    "df['Бенд_Спортивная_5'] = df['Бенд_Спортивная_5'].astype('int')\n",
    "df['Бенд_Советская_5'] = df['Бенд_Советская_5'].astype('int')\n",
    "df['Бенд_Советская_8'] = df['Бенд_Советская_8'].astype('int')\n",
    "df['БЕНДЕРЫ'] = df['Бенд_Спортивная_5'] + df['Бенд_Советская_5'] + df['Бенд_Советская_8']\n",
    "df['СЛОБОДЗЕЯ'] = df['СЛОБОДЗЕЯ'].astype('int')\n",
    "df['ДНЕСТРОВСК'] = df['ДНЕСТРОВСК'].astype('int')\n",
    "df['Первомайск'] = df['Первомайск'].astype('int')\n",
    "df['Григ_КМаркса_181А'] = df['Григ_КМаркса_181А'].astype('int')\n",
    "df['Григ_КМаркса_172'] = df['Григ_КМаркса_172'].astype('int')\n",
    "df['Григориополь'] = df['Григ_КМаркса_181А'] + df['Григ_КМаркса_172']\n",
    "df['ДУБОССАРЫ'] = df['ДУБОССАРЫ'].astype('int')\n",
    "df['Рыбн_Вальченко_43'] = df['Рыбн_Вальченко_43'].astype('int')\n",
    "df['Рыбн_Кирова_135'] = df['Рыбн_Кирова_135'].astype('int')\n",
    "df['РЫБНИЦА'] = df['Рыбн_Вальченко_43'] + df['Рыбн_Кирова_135']\n",
    "df['Каменка'] = df['Каменка'].astype('int')"
   ]
  },
  {
   "cell_type": "code",
   "execution_count": null,
   "id": "7c7f9b32",
   "metadata": {},
   "outputs": [],
   "source": [
    "df.drop(['count_sity'], axis= 1 , inplace= True )"
   ]
  },
  {
   "cell_type": "code",
   "execution_count": null,
   "id": "86d41bc1",
   "metadata": {
    "scrolled": false
   },
   "outputs": [],
   "source": [
    "preprocessing(df)"
   ]
  },
  {
   "cell_type": "code",
   "execution_count": null,
   "id": "10ff610b",
   "metadata": {},
   "outputs": [],
   "source": [
    "separator_categori = ['Товар без акции', 'Акция', 'Товар по акции']"
   ]
  },
  {
   "cell_type": "code",
   "execution_count": null,
   "id": "5bf57474",
   "metadata": {},
   "outputs": [],
   "source": [
    "for i in separator_categori:\n",
    "    df.loc[df['_categori'] == i,'_subcategory'] = i\n",
    "    df.loc[df['_categori'] == i,'_group'] = i"
   ]
  },
  {
   "cell_type": "code",
   "execution_count": null,
   "id": "3324c55f",
   "metadata": {},
   "outputs": [],
   "source": [
    "today = pd.to_datetime('today').normalize()\n",
    "today = today.to_pydatetime()\n",
    "df.to_csv('csv/hi_tech_end_'+str(today.year)+'_'+str(today.month)+'_'+str(today.day)+'.csv', index=False)  "
   ]
  },
  {
   "cell_type": "code",
   "execution_count": null,
   "id": "4eb49480",
   "metadata": {},
   "outputs": [],
   "source": [
    "df.head(2)"
   ]
  },
  {
   "cell_type": "code",
   "execution_count": null,
   "id": "866f4f5b",
   "metadata": {
    "scrolled": false
   },
   "outputs": [],
   "source": [
    "df._group.unique()"
   ]
  },
  {
   "cell_type": "code",
   "execution_count": null,
   "id": "b6afb285",
   "metadata": {},
   "outputs": [],
   "source": [
    "df._subcategory.unique()"
   ]
  },
  {
   "cell_type": "code",
   "execution_count": null,
   "id": "9daea6de",
   "metadata": {},
   "outputs": [],
   "source": [
    "dd = ['Батарейки и зарядные устройства', 'Крепления для тв',\n",
    "       'Аудиосистемы', 'Смартфоны и аксессуары', 'Мультимедиа',\n",
    "       'Приставки для ТВ', 'Гаджеты', 'Телефоны dect и проводные',\n",
    "       'Apple', 'Видеотехника', 'Товар без акции', 'Умный дом с Яндекс',\n",
    "       'Телевизоры', 'Пылесосы и аксессуары', 'Техника karcher',\n",
    "       'Аксессуары для мелкой бытовой техники',\n",
    "       'Товары для ухода за одеждой', 'Минимойки',\n",
    "       'Приготовление напитков', 'Мелкая техника для кухни',\n",
    "       'Техника для красоты', 'Стиральные и сушильные машины',\n",
    "       'Крупная техника для кухни', 'Техника для здоровья',\n",
    "       'Климатическая техника', 'Установка бытовой техники',\n",
    "       'Приготовление пищи', 'Техника для дома', 'Накопители',\n",
    "       'Сетевое оборудование', 'Аксессуары', 'Расходные материалы',\n",
    "       'Периферийные устройства', 'Оргтехника', 'Комплектующие',\n",
    "       'Крепления', 'Электропитание', 'Игровые приставки',\n",
    "       'Товар по акции', 'Мониторы', 'Проекторы и экраны',\n",
    "       'Готовые решения', 'Мебель для офиса', 'Электроинструменты',\n",
    "       'Сервировка стола', 'Кухонные принадлежности', 'Освещение',\n",
    "       'Посуда для духовок и микроволновых печей', 'Бытовая химия']"
   ]
  },
  {
   "cell_type": "code",
   "execution_count": null,
   "id": "859607a9",
   "metadata": {
    "scrolled": false
   },
   "outputs": [],
   "source": [
    "for i in dd:\n",
    "    t = df[df['_subcategory']==i]\n",
    "    print(i)\n",
    "    print(t._group.unique())\n",
    "    print('-'*100)"
   ]
  },
  {
   "cell_type": "code",
   "execution_count": null,
   "id": "c67a50b2",
   "metadata": {},
   "outputs": [],
   "source": [
    "t._group.unique()"
   ]
  },
  {
   "cell_type": "code",
   "execution_count": null,
   "id": "eac72d01",
   "metadata": {},
   "outputs": [],
   "source": [
    "df.head(2)"
   ]
  },
  {
   "cell_type": "code",
   "execution_count": null,
   "id": "7fbabc9a",
   "metadata": {},
   "outputs": [],
   "source": [
    "df.len.unique()"
   ]
  },
  {
   "cell_type": "code",
   "execution_count": null,
   "id": "193b6c0b",
   "metadata": {},
   "outputs": [],
   "source": [
    "df[df['len'] == 9]"
   ]
  },
  {
   "cell_type": "code",
   "execution_count": null,
   "id": "d9bd7fee",
   "metadata": {},
   "outputs": [],
   "source": []
  }
 ],
 "metadata": {
  "kernelspec": {
   "display_name": "Python 3 (ipykernel)",
   "language": "python",
   "name": "python3"
  },
  "language_info": {
   "codemirror_mode": {
    "name": "ipython",
    "version": 3
   },
   "file_extension": ".py",
   "mimetype": "text/x-python",
   "name": "python",
   "nbconvert_exporter": "python",
   "pygments_lexer": "ipython3",
   "version": "3.11.4"
  }
 },
 "nbformat": 4,
 "nbformat_minor": 5
}
