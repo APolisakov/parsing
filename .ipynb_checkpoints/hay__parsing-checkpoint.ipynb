{
 "cells": [
  {
   "cell_type": "markdown",
   "id": "eacccf3d",
   "metadata": {},
   "source": [
    "# parsing хайтек"
   ]
  },
  {
   "cell_type": "code",
   "execution_count": 1,
   "id": "c0a16e5a",
   "metadata": {},
   "outputs": [],
   "source": [
    "import pandas as pd\n",
    "import numpy as np\n",
    "import requests\n",
    "from bs4 import BeautifulSoup as bs\n",
    "import re\n",
    "from tqdm.notebook import trange, tqdm\n",
    "from tqdm.gui import tqdm as tqdm_gui\n",
    "from IPython.display import display"
   ]
  },
  {
   "cell_type": "markdown",
   "id": "50e2394a",
   "metadata": {},
   "source": [
    "импорт библиотек"
   ]
  },
  {
   "cell_type": "code",
   "execution_count": 2,
   "id": "10b909aa",
   "metadata": {},
   "outputs": [],
   "source": [
    "import warnings\n",
    "warnings.filterwarnings('ignore')"
   ]
  },
  {
   "cell_type": "markdown",
   "id": "283df9be",
   "metadata": {},
   "source": [
    "отключение ворнингов"
   ]
  },
  {
   "cell_type": "code",
   "execution_count": 3,
   "id": "6911eae7",
   "metadata": {},
   "outputs": [],
   "source": [
    "pd.set_option('display.max_colwidth', 1000)\n",
    "pd.set_option('display.max_columns', 1000)\n",
    "pd.set_option('display.max_rows', 1000)"
   ]
  },
  {
   "cell_type": "markdown",
   "id": "76c6f69a",
   "metadata": {},
   "source": [
    "задание параметров таблиц"
   ]
  },
  {
   "cell_type": "code",
   "execution_count": 4,
   "id": "064c382c",
   "metadata": {},
   "outputs": [],
   "source": [
    "reqx = requests.get('https://hi-tech.md/televizory-i-elektronika/page-1/')"
   ]
  },
  {
   "cell_type": "code",
   "execution_count": 5,
   "id": "ddcf2fda",
   "metadata": {},
   "outputs": [],
   "source": [
    "soup = bs(reqx.text, 'html.parser')"
   ]
  },
  {
   "cell_type": "code",
   "execution_count": 6,
   "id": "b520f4c1",
   "metadata": {
    "scrolled": true
   },
   "outputs": [
    {
     "data": {
      "text/html": [
       "<div>\n",
       "<style scoped>\n",
       "    .dataframe tbody tr th:only-of-type {\n",
       "        vertical-align: middle;\n",
       "    }\n",
       "\n",
       "    .dataframe tbody tr th {\n",
       "        vertical-align: top;\n",
       "    }\n",
       "\n",
       "    .dataframe thead th {\n",
       "        text-align: right;\n",
       "    }\n",
       "</style>\n",
       "<table border=\"1\" class=\"dataframe\">\n",
       "  <thead>\n",
       "    <tr style=\"text-align: right;\">\n",
       "      <th></th>\n",
       "      <th>soup_name</th>\n",
       "    </tr>\n",
       "  </thead>\n",
       "  <tbody>\n",
       "    <tr>\n",
       "      <th>0</th>\n",
       "      <td>[[ , [\\n, &lt;input name=\"appearance[show_sku]\" type=\"hidden\" value=\"1\"&gt;\\n&lt;label class=\"ty-control-group__label\" id=\"sku_116027\"&gt;КОД:&lt;/label&gt;\\n&lt;span class=\"ty-control-group__item\"&gt;Т-000088228&lt;/span&gt;\\n&lt;/input&gt;], \\n, [\\n, &lt;input name=\"appearance[show_product_amount]\" type=\"hidden\" value=\"1\"&gt;\\n&lt;a class=\"ty-control-group product-list-field cm-external-click\" data-ca-external-click-id=\"availability_in_stores\" href=\"#availability_in_stores\"&gt;\\n&lt;span class=\"ty-qty-in-stock ty-control-group__item\" id=\"in_stock_info_116027\"&gt;\\n&lt;i class=\"material-icons\"&gt;&lt;/i&gt;В наличии\\n&lt;/span&gt;\\n&lt;/a&gt;\\n&lt;/input&gt;], \\n], [\\n, [\\n, &lt;a class=\"ty-btn ty-btn__tertiary ty-add-to-wish cm-submit text-button\" data-ca-dispatch=\"dispatch[wishlist.add..116027]\" id=\"button_wishlist_116027\" title=\"Отложить\"&gt;&lt;span&gt;&lt;i class=\"ty-icon-heart\"&gt;&lt;/i&gt;&lt;/span&gt;&lt;/a&gt;, \\n, &lt;a class=\"ty-btn ty-btn__tertiary ty-add-to-compare cm-ajax cm-ajax-full-render text-button\" data-ca-target-id=\"comparison_list,account_info*\" href=\"https://hi-tech.md/index.p...</td>\n",
       "    </tr>\n",
       "    <tr>\n",
       "      <th>1</th>\n",
       "      <td>[[ , [\\n, &lt;input name=\"appearance[show_sku]\" type=\"hidden\" value=\"1\"&gt;\\n&lt;label class=\"ty-control-group__label\" id=\"sku_116029\"&gt;КОД:&lt;/label&gt;\\n&lt;span class=\"ty-control-group__item\"&gt;Т-000088229&lt;/span&gt;\\n&lt;/input&gt;], \\n, [\\n, &lt;input name=\"appearance[show_product_amount]\" type=\"hidden\" value=\"1\"&gt;\\n&lt;a class=\"ty-control-group product-list-field cm-external-click\" data-ca-external-click-id=\"availability_in_stores\" href=\"#availability_in_stores\"&gt;\\n&lt;span class=\"ty-qty-in-stock ty-control-group__item\" id=\"in_stock_info_116029\"&gt;\\n&lt;i class=\"material-icons\"&gt;&lt;/i&gt;В наличии\\n&lt;/span&gt;\\n&lt;/a&gt;\\n&lt;/input&gt;], \\n], [\\n, [\\n, &lt;a class=\"ty-btn ty-btn__tertiary ty-add-to-wish cm-submit text-button\" data-ca-dispatch=\"dispatch[wishlist.add..116029]\" id=\"button_wishlist_116029\" title=\"Отложить\"&gt;&lt;span&gt;&lt;i class=\"ty-icon-heart\"&gt;&lt;/i&gt;&lt;/span&gt;&lt;/a&gt;, \\n, &lt;a class=\"ty-btn ty-btn__tertiary ty-add-to-compare cm-ajax cm-ajax-full-render text-button\" data-ca-target-id=\"comparison_list,account_info*\" href=\"https://hi-tech.md/index.p...</td>\n",
       "    </tr>\n",
       "    <tr>\n",
       "      <th>2</th>\n",
       "      <td>[[ , [\\n, &lt;input name=\"appearance[show_sku]\" type=\"hidden\" value=\"1\"&gt;\\n&lt;label class=\"ty-control-group__label\" id=\"sku_116025\"&gt;КОД:&lt;/label&gt;\\n&lt;span class=\"ty-control-group__item\"&gt;Т-000088221&lt;/span&gt;\\n&lt;/input&gt;], \\n, [\\n, &lt;input name=\"appearance[show_product_amount]\" type=\"hidden\" value=\"1\"&gt;\\n&lt;a class=\"ty-control-group product-list-field cm-external-click\" data-ca-external-click-id=\"availability_in_stores\" href=\"#availability_in_stores\"&gt;\\n&lt;span class=\"ty-qty-in-stock ty-control-group__item\" id=\"in_stock_info_116025\"&gt;\\n&lt;i class=\"material-icons\"&gt;&lt;/i&gt;В наличии\\n&lt;/span&gt;\\n&lt;/a&gt;\\n&lt;/input&gt;], \\n], [\\n, [\\n, &lt;a class=\"ty-btn ty-btn__tertiary ty-add-to-wish cm-submit text-button\" data-ca-dispatch=\"dispatch[wishlist.add..116025]\" id=\"button_wishlist_116025\" title=\"Отложить\"&gt;&lt;span&gt;&lt;i class=\"ty-icon-heart\"&gt;&lt;/i&gt;&lt;/span&gt;&lt;/a&gt;, \\n, &lt;a class=\"ty-btn ty-btn__tertiary ty-add-to-compare cm-ajax cm-ajax-full-render text-button\" data-ca-target-id=\"comparison_list,account_info*\" href=\"https://hi-tech.md/index.p...</td>\n",
       "    </tr>\n",
       "    <tr>\n",
       "      <th>3</th>\n",
       "      <td>[[ , [\\n, &lt;input name=\"appearance[show_sku]\" type=\"hidden\" value=\"1\"/&gt;, \\n, &lt;label class=\"ty-control-group__label\" id=\"sku_116026\"&gt;КОД:&lt;/label&gt;, \\n, &lt;span class=\"ty-control-group__item\"&gt;Т-000088222&lt;/span&gt;, \\n], \\n, [\\n, &lt;input name=\"appearance[show_product_amount]\" type=\"hidden\" value=\"1\"/&gt;, \\n, &lt;a class=\"ty-control-group product-list-field cm-external-click\" data-ca-external-click-id=\"availability_in_stores\" href=\"#availability_in_stores\"&gt;\\n&lt;span class=\"ty-qty-in-stock ty-control-group__item\" id=\"in_stock_info_116026\"&gt;\\n&lt;i class=\"material-icons\"&gt;&lt;/i&gt;В наличии\\n&lt;/span&gt;\\n&lt;/a&gt;, \\n], \\n], [\\n, [\\n, &lt;a class=\"ty-btn ty-btn__tertiary ty-add-to-wish cm-submit text-button\" data-ca-dispatch=\"dispatch[wishlist.add..116026]\" id=\"button_wishlist_116026\" title=\"Отложить\"&gt;&lt;span&gt;&lt;i class=\"ty-icon-heart\"&gt;&lt;/i&gt;&lt;/span&gt;&lt;/a&gt;, \\n, &lt;a class=\"ty-btn ty-btn__tertiary ty-add-to-compare cm-ajax cm-ajax-full-render text-button\" data-ca-target-id=\"comparison_list,account_info*\" href=\"https://hi-tech.md/index...</td>\n",
       "    </tr>\n",
       "    <tr>\n",
       "      <th>4</th>\n",
       "      <td>[[ , [\\n, &lt;input name=\"appearance[show_sku]\" type=\"hidden\" value=\"1\"/&gt;, \\n, &lt;label class=\"ty-control-group__label\" id=\"sku_116030\"&gt;КОД:&lt;/label&gt;, \\n, &lt;span class=\"ty-control-group__item\"&gt;Т-000088230&lt;/span&gt;, \\n], \\n, [\\n, &lt;input name=\"appearance[show_product_amount]\" type=\"hidden\" value=\"1\"/&gt;, \\n, &lt;a class=\"ty-control-group product-list-field cm-external-click\" data-ca-external-click-id=\"availability_in_stores\" href=\"#availability_in_stores\"&gt;\\n&lt;span class=\"ty-qty-in-stock ty-control-group__item\" id=\"in_stock_info_116030\"&gt;\\n&lt;i class=\"material-icons\"&gt;&lt;/i&gt;В наличии\\n&lt;/span&gt;\\n&lt;/a&gt;, \\n], \\n], [\\n, [\\n, &lt;a class=\"ty-btn ty-btn__tertiary ty-add-to-wish cm-submit text-button\" data-ca-dispatch=\"dispatch[wishlist.add..116030]\" id=\"button_wishlist_116030\" title=\"Отложить\"&gt;&lt;span&gt;&lt;i class=\"ty-icon-heart\"&gt;&lt;/i&gt;&lt;/span&gt;&lt;/a&gt;, \\n, &lt;a class=\"ty-btn ty-btn__tertiary ty-add-to-compare cm-ajax cm-ajax-full-render text-button\" data-ca-target-id=\"comparison_list,account_info*\" href=\"https://hi-tech.md/index...</td>\n",
       "    </tr>\n",
       "    <tr>\n",
       "      <th>5</th>\n",
       "      <td>[[ , [\\n, &lt;input name=\"appearance[show_sku]\" type=\"hidden\" value=\"1\"/&gt;, \\n, &lt;label class=\"ty-control-group__label\" id=\"sku_16611\"&gt;КОД:&lt;/label&gt;, \\n, &lt;span class=\"ty-control-group__item\"&gt;Т-000037889&lt;/span&gt;, \\n], \\n, [\\n, &lt;input name=\"appearance[show_product_amount]\" type=\"hidden\" value=\"1\"/&gt;, \\n, &lt;a class=\"ty-control-group product-list-field cm-external-click\" data-ca-external-click-id=\"availability_in_stores\" href=\"#availability_in_stores\"&gt;\\n&lt;span class=\"ty-qty-in-stock ty-control-group__item\" id=\"in_stock_info_16611\"&gt;\\n&lt;i class=\"material-icons\"&gt;&lt;/i&gt;В наличии\\n&lt;/span&gt;\\n&lt;/a&gt;, \\n], \\n], [\\n, [\\n, &lt;a class=\"ty-btn ty-btn__tertiary ty-add-to-wish cm-submit text-button\" data-ca-dispatch=\"dispatch[wishlist.add..16611]\" id=\"button_wishlist_16611\" title=\"Отложить\"&gt;&lt;span&gt;&lt;i class=\"ty-icon-heart\"&gt;&lt;/i&gt;&lt;/span&gt;&lt;/a&gt;, \\n, &lt;a class=\"ty-btn ty-btn__tertiary ty-add-to-compare cm-ajax cm-ajax-full-render text-button\" data-ca-target-id=\"comparison_list,account_info*\" href=\"https://hi-tech.md/index.php...</td>\n",
       "    </tr>\n",
       "    <tr>\n",
       "      <th>6</th>\n",
       "      <td>[[ , [\\n, &lt;input name=\"appearance[show_sku]\" type=\"hidden\" value=\"1\"/&gt;, \\n, &lt;label class=\"ty-control-group__label\" id=\"sku_16612\"&gt;КОД:&lt;/label&gt;, \\n, &lt;span class=\"ty-control-group__item\"&gt;Т-000037892&lt;/span&gt;, \\n], \\n, [\\n, &lt;input name=\"appearance[show_product_amount]\" type=\"hidden\" value=\"1\"/&gt;, \\n, &lt;a class=\"ty-control-group product-list-field cm-external-click\" data-ca-external-click-id=\"availability_in_stores\" href=\"#availability_in_stores\"&gt;\\n&lt;span class=\"ty-qty-in-stock ty-control-group__item\" id=\"in_stock_info_16612\"&gt;\\n&lt;i class=\"material-icons\"&gt;&lt;/i&gt;В наличии\\n&lt;/span&gt;\\n&lt;/a&gt;, \\n], \\n], [\\n, [\\n, &lt;a class=\"ty-btn ty-btn__tertiary ty-add-to-wish cm-submit text-button\" data-ca-dispatch=\"dispatch[wishlist.add..16612]\" id=\"button_wishlist_16612\" title=\"Отложить\"&gt;&lt;span&gt;&lt;i class=\"ty-icon-heart\"&gt;&lt;/i&gt;&lt;/span&gt;&lt;/a&gt;, \\n, &lt;a class=\"ty-btn ty-btn__tertiary ty-add-to-compare cm-ajax cm-ajax-full-render text-button\" data-ca-target-id=\"comparison_list,account_info*\" href=\"https://hi-tech.md/index.php...</td>\n",
       "    </tr>\n",
       "    <tr>\n",
       "      <th>7</th>\n",
       "      <td>[[ , [\\n, &lt;input name=\"appearance[show_sku]\" type=\"hidden\" value=\"1\"/&gt;, \\n, &lt;label class=\"ty-control-group__label\" id=\"sku_16605\"&gt;КОД:&lt;/label&gt;, \\n, &lt;span class=\"ty-control-group__item\"&gt;Т-000039418&lt;/span&gt;, \\n], \\n, [\\n, &lt;input name=\"appearance[show_product_amount]\" type=\"hidden\" value=\"1\"/&gt;, \\n, &lt;a class=\"ty-control-group product-list-field cm-external-click\" data-ca-external-click-id=\"availability_in_stores\" href=\"#availability_in_stores\"&gt;\\n&lt;span class=\"ty-qty-in-stock ty-control-group__item\" id=\"in_stock_info_16605\"&gt;\\n&lt;i class=\"material-icons\"&gt;&lt;/i&gt;В наличии\\n&lt;/span&gt;\\n&lt;/a&gt;, \\n], \\n], [\\n, [\\n, &lt;a class=\"ty-btn ty-btn__tertiary ty-add-to-wish cm-submit text-button\" data-ca-dispatch=\"dispatch[wishlist.add..16605]\" id=\"button_wishlist_16605\" title=\"Отложить\"&gt;&lt;span&gt;&lt;i class=\"ty-icon-heart\"&gt;&lt;/i&gt;&lt;/span&gt;&lt;/a&gt;, \\n, &lt;a class=\"ty-btn ty-btn__tertiary ty-add-to-compare cm-ajax cm-ajax-full-render text-button\" data-ca-target-id=\"comparison_list,account_info*\" href=\"https://hi-tech.md/index.php...</td>\n",
       "    </tr>\n",
       "    <tr>\n",
       "      <th>8</th>\n",
       "      <td>[[ , [\\n, &lt;input name=\"appearance[show_sku]\" type=\"hidden\" value=\"1\"/&gt;, \\n, &lt;label class=\"ty-control-group__label\" id=\"sku_16633\"&gt;КОД:&lt;/label&gt;, \\n, &lt;span class=\"ty-control-group__item\"&gt;Т-000017828&lt;/span&gt;, \\n], \\n, [\\n, &lt;input name=\"appearance[show_product_amount]\" type=\"hidden\" value=\"1\"/&gt;, \\n, &lt;a class=\"ty-control-group product-list-field cm-external-click\" data-ca-external-click-id=\"availability_in_stores\" href=\"#availability_in_stores\"&gt;\\n&lt;span class=\"ty-qty-in-stock ty-control-group__item\" id=\"in_stock_info_16633\"&gt;\\n&lt;i class=\"material-icons\"&gt;&lt;/i&gt;В наличии\\n&lt;/span&gt;\\n&lt;/a&gt;, \\n], \\n], [\\n, [\\n, &lt;a class=\"ty-btn ty-btn__tertiary ty-add-to-wish cm-submit text-button\" data-ca-dispatch=\"dispatch[wishlist.add..16633]\" id=\"button_wishlist_16633\" title=\"Отложить\"&gt;&lt;span&gt;&lt;i class=\"ty-icon-heart\"&gt;&lt;/i&gt;&lt;/span&gt;&lt;/a&gt;, \\n, &lt;a class=\"ty-btn ty-btn__tertiary ty-add-to-compare cm-ajax cm-ajax-full-render text-button\" data-ca-target-id=\"comparison_list,account_info*\" href=\"https://hi-tech.md/index.php...</td>\n",
       "    </tr>\n",
       "    <tr>\n",
       "      <th>9</th>\n",
       "      <td>[[ , [\\n, &lt;input name=\"appearance[show_sku]\" type=\"hidden\" value=\"1\"/&gt;, \\n, &lt;label class=\"ty-control-group__label\" id=\"sku_16644\"&gt;КОД:&lt;/label&gt;, \\n, &lt;span class=\"ty-control-group__item\"&gt;Т-000023835&lt;/span&gt;, \\n], \\n, [\\n, &lt;input name=\"appearance[show_product_amount]\" type=\"hidden\" value=\"1\"/&gt;, \\n, &lt;a class=\"ty-control-group product-list-field cm-external-click\" data-ca-external-click-id=\"availability_in_stores\" href=\"#availability_in_stores\"&gt;\\n&lt;span class=\"ty-qty-in-stock ty-control-group__item\" id=\"in_stock_info_16644\"&gt;\\n&lt;i class=\"material-icons\"&gt;&lt;/i&gt;В наличии\\n&lt;/span&gt;\\n&lt;/a&gt;, \\n], \\n], [\\n, [\\n, &lt;a class=\"ty-btn ty-btn__tertiary ty-add-to-wish cm-submit text-button\" data-ca-dispatch=\"dispatch[wishlist.add..16644]\" id=\"button_wishlist_16644\" title=\"Отложить\"&gt;&lt;span&gt;&lt;i class=\"ty-icon-heart\"&gt;&lt;/i&gt;&lt;/span&gt;&lt;/a&gt;, \\n, &lt;a class=\"ty-btn ty-btn__tertiary ty-add-to-compare cm-ajax cm-ajax-full-render text-button\" data-ca-target-id=\"comparison_list,account_info*\" href=\"https://hi-tech.md/index.php...</td>\n",
       "    </tr>\n",
       "    <tr>\n",
       "      <th>10</th>\n",
       "      <td>[[ , [\\n, &lt;input name=\"appearance[show_sku]\" type=\"hidden\" value=\"1\"/&gt;, \\n, &lt;label class=\"ty-control-group__label\" id=\"sku_16634\"&gt;КОД:&lt;/label&gt;, \\n, &lt;span class=\"ty-control-group__item\"&gt;Т-000040957&lt;/span&gt;, \\n], \\n, [\\n, &lt;input name=\"appearance[show_product_amount]\" type=\"hidden\" value=\"1\"/&gt;, \\n, &lt;a class=\"ty-control-group product-list-field cm-external-click\" data-ca-external-click-id=\"availability_in_stores\" href=\"#availability_in_stores\"&gt;\\n&lt;span class=\"ty-qty-in-stock ty-control-group__item\" id=\"in_stock_info_16634\"&gt;\\n&lt;i class=\"material-icons\"&gt;&lt;/i&gt;В наличии\\n&lt;/span&gt;\\n&lt;/a&gt;, \\n], \\n], [\\n, [\\n, &lt;a class=\"ty-btn ty-btn__tertiary ty-add-to-wish cm-submit text-button\" data-ca-dispatch=\"dispatch[wishlist.add..16634]\" id=\"button_wishlist_16634\" title=\"Отложить\"&gt;&lt;span&gt;&lt;i class=\"ty-icon-heart\"&gt;&lt;/i&gt;&lt;/span&gt;&lt;/a&gt;, \\n, &lt;a class=\"ty-btn ty-btn__tertiary ty-add-to-compare cm-ajax cm-ajax-full-render text-button\" data-ca-target-id=\"comparison_list,account_info*\" href=\"https://hi-tech.md/index.php...</td>\n",
       "    </tr>\n",
       "    <tr>\n",
       "      <th>11</th>\n",
       "      <td>[[ , [\\n, &lt;input name=\"appearance[show_sku]\" type=\"hidden\" value=\"1\"/&gt;, \\n, &lt;label class=\"ty-control-group__label\" id=\"sku_16636\"&gt;КОД:&lt;/label&gt;, \\n, &lt;span class=\"ty-control-group__item\"&gt;Т-000025100&lt;/span&gt;, \\n], \\n, [\\n, &lt;input name=\"appearance[show_product_amount]\" type=\"hidden\" value=\"1\"/&gt;, \\n, &lt;a class=\"ty-control-group product-list-field cm-external-click\" data-ca-external-click-id=\"availability_in_stores\" href=\"#availability_in_stores\"&gt;\\n&lt;span class=\"ty-qty-in-stock ty-control-group__item\" id=\"in_stock_info_16636\"&gt;\\n&lt;i class=\"material-icons\"&gt;&lt;/i&gt;В наличии\\n&lt;/span&gt;\\n&lt;/a&gt;, \\n], \\n], [\\n, [\\n, &lt;a class=\"ty-btn ty-btn__tertiary ty-add-to-wish cm-submit text-button\" data-ca-dispatch=\"dispatch[wishlist.add..16636]\" id=\"button_wishlist_16636\" title=\"Отложить\"&gt;&lt;span&gt;&lt;i class=\"ty-icon-heart\"&gt;&lt;/i&gt;&lt;/span&gt;&lt;/a&gt;, \\n, &lt;a class=\"ty-btn ty-btn__tertiary ty-add-to-compare cm-ajax cm-ajax-full-render text-button\" data-ca-target-id=\"comparison_list,account_info*\" href=\"https://hi-tech.md/index.php...</td>\n",
       "    </tr>\n",
       "    <tr>\n",
       "      <th>12</th>\n",
       "      <td>[[ , [\\n, &lt;input name=\"appearance[show_sku]\" type=\"hidden\" value=\"1\"/&gt;, \\n, &lt;label class=\"ty-control-group__label\" id=\"sku_16645\"&gt;КОД:&lt;/label&gt;, \\n, &lt;span class=\"ty-control-group__item\"&gt;Т-000040958&lt;/span&gt;, \\n], \\n, [\\n, &lt;input name=\"appearance[show_product_amount]\" type=\"hidden\" value=\"1\"/&gt;, \\n, &lt;a class=\"ty-control-group product-list-field cm-external-click\" data-ca-external-click-id=\"availability_in_stores\" href=\"#availability_in_stores\"&gt;\\n&lt;span class=\"ty-qty-in-stock ty-control-group__item\" id=\"in_stock_info_16645\"&gt;\\n&lt;i class=\"material-icons\"&gt;&lt;/i&gt;В наличии\\n&lt;/span&gt;\\n&lt;/a&gt;, \\n], \\n], [\\n, [\\n, &lt;a class=\"ty-btn ty-btn__tertiary ty-add-to-wish cm-submit text-button\" data-ca-dispatch=\"dispatch[wishlist.add..16645]\" id=\"button_wishlist_16645\" title=\"Отложить\"&gt;&lt;span&gt;&lt;i class=\"ty-icon-heart\"&gt;&lt;/i&gt;&lt;/span&gt;&lt;/a&gt;, \\n, &lt;a class=\"ty-btn ty-btn__tertiary ty-add-to-compare cm-ajax cm-ajax-full-render text-button\" data-ca-target-id=\"comparison_list,account_info*\" href=\"https://hi-tech.md/index.php...</td>\n",
       "    </tr>\n",
       "    <tr>\n",
       "      <th>13</th>\n",
       "      <td>[[ , [\\n, &lt;input name=\"appearance[show_sku]\" type=\"hidden\" value=\"1\"/&gt;, \\n, &lt;label class=\"ty-control-group__label\" id=\"sku_16646\"&gt;КОД:&lt;/label&gt;, \\n, &lt;span class=\"ty-control-group__item\"&gt;Т-000027462&lt;/span&gt;, \\n], \\n, [\\n, &lt;input name=\"appearance[show_product_amount]\" type=\"hidden\" value=\"1\"/&gt;, \\n, &lt;a class=\"ty-control-group product-list-field cm-external-click\" data-ca-external-click-id=\"availability_in_stores\" href=\"#availability_in_stores\"&gt;\\n&lt;span class=\"ty-qty-in-stock ty-control-group__item\" id=\"in_stock_info_16646\"&gt;\\n&lt;i class=\"material-icons\"&gt;&lt;/i&gt;В наличии\\n&lt;/span&gt;\\n&lt;/a&gt;, \\n], \\n], [\\n, [\\n, &lt;a class=\"ty-btn ty-btn__tertiary ty-add-to-wish cm-submit text-button\" data-ca-dispatch=\"dispatch[wishlist.add..16646]\" id=\"button_wishlist_16646\" title=\"Отложить\"&gt;&lt;span&gt;&lt;i class=\"ty-icon-heart\"&gt;&lt;/i&gt;&lt;/span&gt;&lt;/a&gt;, \\n, &lt;a class=\"ty-btn ty-btn__tertiary ty-add-to-compare cm-ajax cm-ajax-full-render text-button\" data-ca-target-id=\"comparison_list,account_info*\" href=\"https://hi-tech.md/index.php...</td>\n",
       "    </tr>\n",
       "    <tr>\n",
       "      <th>14</th>\n",
       "      <td>[[ , [\\n, &lt;input name=\"appearance[show_sku]\" type=\"hidden\" value=\"1\"/&gt;, \\n, &lt;label class=\"ty-control-group__label\" id=\"sku_52166\"&gt;КОД:&lt;/label&gt;, \\n, &lt;span class=\"ty-control-group__item\"&gt;Т-000075396&lt;/span&gt;, \\n], \\n, [\\n, &lt;input name=\"appearance[show_product_amount]\" type=\"hidden\" value=\"1\"/&gt;, \\n, &lt;a class=\"ty-control-group product-list-field cm-external-click\" data-ca-external-click-id=\"availability_in_stores\" href=\"#availability_in_stores\"&gt;\\n&lt;span class=\"ty-qty-in-stock ty-control-group__item\" id=\"in_stock_info_52166\"&gt;\\n&lt;i class=\"material-icons\"&gt;&lt;/i&gt;В наличии\\n&lt;/span&gt;\\n&lt;/a&gt;, \\n], \\n], [\\n, [\\n, &lt;a class=\"ty-btn ty-btn__tertiary ty-add-to-wish cm-submit text-button\" data-ca-dispatch=\"dispatch[wishlist.add..52166]\" id=\"button_wishlist_52166\" title=\"Отложить\"&gt;&lt;span&gt;&lt;i class=\"ty-icon-heart\"&gt;&lt;/i&gt;&lt;/span&gt;&lt;/a&gt;, \\n, &lt;a class=\"ty-btn ty-btn__tertiary ty-add-to-compare cm-ajax cm-ajax-full-render text-button\" data-ca-target-id=\"comparison_list,account_info*\" href=\"https://hi-tech.md/index.php...</td>\n",
       "    </tr>\n",
       "    <tr>\n",
       "      <th>15</th>\n",
       "      <td>[[ , [\\n, &lt;input name=\"appearance[show_sku]\" type=\"hidden\" value=\"1\"/&gt;, \\n, &lt;label class=\"ty-control-group__label\" id=\"sku_52167\"&gt;КОД:&lt;/label&gt;, \\n, &lt;span class=\"ty-control-group__item\"&gt;Т-000075397&lt;/span&gt;, \\n], \\n, [\\n, &lt;input name=\"appearance[show_product_amount]\" type=\"hidden\" value=\"1\"/&gt;, \\n, &lt;a class=\"ty-control-group product-list-field cm-external-click\" data-ca-external-click-id=\"availability_in_stores\" href=\"#availability_in_stores\"&gt;\\n&lt;span class=\"ty-qty-in-stock ty-control-group__item\" id=\"in_stock_info_52167\"&gt;\\n&lt;i class=\"material-icons\"&gt;&lt;/i&gt;В наличии\\n&lt;/span&gt;\\n&lt;/a&gt;, \\n], \\n], [\\n, [\\n, &lt;a class=\"ty-btn ty-btn__tertiary ty-add-to-wish cm-submit text-button\" data-ca-dispatch=\"dispatch[wishlist.add..52167]\" id=\"button_wishlist_52167\" title=\"Отложить\"&gt;&lt;span&gt;&lt;i class=\"ty-icon-heart\"&gt;&lt;/i&gt;&lt;/span&gt;&lt;/a&gt;, \\n, &lt;a class=\"ty-btn ty-btn__tertiary ty-add-to-compare cm-ajax cm-ajax-full-render text-button\" data-ca-target-id=\"comparison_list,account_info*\" href=\"https://hi-tech.md/index.php...</td>\n",
       "    </tr>\n",
       "    <tr>\n",
       "      <th>16</th>\n",
       "      <td>[[ , [\\n, &lt;input name=\"appearance[show_sku]\" type=\"hidden\" value=\"1\"/&gt;, \\n, &lt;label class=\"ty-control-group__label\" id=\"sku_16637\"&gt;КОД:&lt;/label&gt;, \\n, &lt;span class=\"ty-control-group__item\"&gt;Т-000017832&lt;/span&gt;, \\n], \\n, [\\n, &lt;input name=\"appearance[show_product_amount]\" type=\"hidden\" value=\"1\"/&gt;, \\n, &lt;a class=\"ty-control-group product-list-field cm-external-click\" data-ca-external-click-id=\"availability_in_stores\" href=\"#availability_in_stores\"&gt;\\n&lt;span class=\"ty-qty-in-stock ty-control-group__item\" id=\"in_stock_info_16637\"&gt;\\n&lt;i class=\"material-icons\"&gt;&lt;/i&gt;В наличии\\n&lt;/span&gt;\\n&lt;/a&gt;, \\n], \\n], [\\n, [\\n, &lt;a class=\"ty-btn ty-btn__tertiary ty-add-to-wish cm-submit text-button\" data-ca-dispatch=\"dispatch[wishlist.add..16637]\" id=\"button_wishlist_16637\" title=\"Отложить\"&gt;&lt;span&gt;&lt;i class=\"ty-icon-heart\"&gt;&lt;/i&gt;&lt;/span&gt;&lt;/a&gt;, \\n, &lt;a class=\"ty-btn ty-btn__tertiary ty-add-to-compare cm-ajax cm-ajax-full-render text-button\" data-ca-target-id=\"comparison_list,account_info*\" href=\"https://hi-tech.md/index.php...</td>\n",
       "    </tr>\n",
       "    <tr>\n",
       "      <th>17</th>\n",
       "      <td>[[ , [\\n, &lt;input name=\"appearance[show_sku]\" type=\"hidden\" value=\"1\"/&gt;, \\n, &lt;label class=\"ty-control-group__label\" id=\"sku_16647\"&gt;КОД:&lt;/label&gt;, \\n, &lt;span class=\"ty-control-group__item\"&gt;Т-000017840&lt;/span&gt;, \\n], \\n, [\\n, &lt;input name=\"appearance[show_product_amount]\" type=\"hidden\" value=\"1\"/&gt;, \\n, &lt;a class=\"ty-control-group product-list-field cm-external-click\" data-ca-external-click-id=\"availability_in_stores\" href=\"#availability_in_stores\"&gt;\\n&lt;span class=\"ty-qty-in-stock ty-control-group__item\" id=\"in_stock_info_16647\"&gt;\\n&lt;i class=\"material-icons\"&gt;&lt;/i&gt;В наличии\\n&lt;/span&gt;\\n&lt;/a&gt;, \\n], \\n], [\\n, [\\n, &lt;a class=\"ty-btn ty-btn__tertiary ty-add-to-wish cm-submit text-button\" data-ca-dispatch=\"dispatch[wishlist.add..16647]\" id=\"button_wishlist_16647\" title=\"Отложить\"&gt;&lt;span&gt;&lt;i class=\"ty-icon-heart\"&gt;&lt;/i&gt;&lt;/span&gt;&lt;/a&gt;, \\n, &lt;a class=\"ty-btn ty-btn__tertiary ty-add-to-compare cm-ajax cm-ajax-full-render text-button\" data-ca-target-id=\"comparison_list,account_info*\" href=\"https://hi-tech.md/index.php...</td>\n",
       "    </tr>\n",
       "    <tr>\n",
       "      <th>18</th>\n",
       "      <td>[[ , [\\n, &lt;input name=\"appearance[show_sku]\" type=\"hidden\" value=\"1\"/&gt;, \\n, &lt;label class=\"ty-control-group__label\" id=\"sku_16656\"&gt;КОД:&lt;/label&gt;, \\n, &lt;span class=\"ty-control-group__item\"&gt;Т-000044640&lt;/span&gt;, \\n], \\n, [\\n, &lt;input name=\"appearance[show_product_amount]\" type=\"hidden\" value=\"1\"/&gt;, \\n, &lt;a class=\"ty-control-group product-list-field cm-external-click\" data-ca-external-click-id=\"availability_in_stores\" href=\"#availability_in_stores\"&gt;\\n&lt;span class=\"ty-qty-in-stock ty-control-group__item\" id=\"in_stock_info_16656\"&gt;\\n&lt;i class=\"material-icons\"&gt;&lt;/i&gt;В наличии\\n&lt;/span&gt;\\n&lt;/a&gt;, \\n], \\n], [\\n, [\\n, &lt;a class=\"ty-btn ty-btn__tertiary ty-add-to-wish cm-submit text-button\" data-ca-dispatch=\"dispatch[wishlist.add..16656]\" id=\"button_wishlist_16656\" title=\"Отложить\"&gt;&lt;span&gt;&lt;i class=\"ty-icon-heart\"&gt;&lt;/i&gt;&lt;/span&gt;&lt;/a&gt;, \\n, &lt;a class=\"ty-btn ty-btn__tertiary ty-add-to-compare cm-ajax cm-ajax-full-render text-button\" data-ca-target-id=\"comparison_list,account_info*\" href=\"https://hi-tech.md/index.php...</td>\n",
       "    </tr>\n",
       "    <tr>\n",
       "      <th>19</th>\n",
       "      <td>[[ , [\\n, &lt;input name=\"appearance[show_sku]\" type=\"hidden\" value=\"1\"/&gt;, \\n, &lt;label class=\"ty-control-group__label\" id=\"sku_116032\"&gt;КОД:&lt;/label&gt;, \\n, &lt;span class=\"ty-control-group__item\"&gt;Т-000088223&lt;/span&gt;, \\n], \\n, [\\n, &lt;input name=\"appearance[show_product_amount]\" type=\"hidden\" value=\"1\"/&gt;, \\n, &lt;a class=\"ty-control-group product-list-field cm-external-click\" data-ca-external-click-id=\"availability_in_stores\" href=\"#availability_in_stores\"&gt;\\n&lt;span class=\"ty-qty-in-stock ty-control-group__item\" id=\"in_stock_info_116032\"&gt;\\n&lt;i class=\"material-icons\"&gt;&lt;/i&gt;В наличии\\n&lt;/span&gt;\\n&lt;/a&gt;, \\n], \\n], [\\n, [\\n, &lt;a class=\"ty-btn ty-btn__tertiary ty-add-to-wish cm-submit text-button\" data-ca-dispatch=\"dispatch[wishlist.add..116032]\" id=\"button_wishlist_116032\" title=\"Отложить\"&gt;&lt;span&gt;&lt;i class=\"ty-icon-heart\"&gt;&lt;/i&gt;&lt;/span&gt;&lt;/a&gt;, \\n, &lt;a class=\"ty-btn ty-btn__tertiary ty-add-to-compare cm-ajax cm-ajax-full-render text-button\" data-ca-target-id=\"comparison_list,account_info*\" href=\"https://hi-tech.md/index...</td>\n",
       "    </tr>\n",
       "    <tr>\n",
       "      <th>20</th>\n",
       "      <td>[[ , [\\n, &lt;input name=\"appearance[show_sku]\" type=\"hidden\" value=\"1\"/&gt;, \\n, &lt;label class=\"ty-control-group__label\" id=\"sku_16632\"&gt;КОД:&lt;/label&gt;, \\n, &lt;span class=\"ty-control-group__item\"&gt;Т-000027459&lt;/span&gt;, \\n], \\n, [\\n, &lt;input name=\"appearance[show_product_amount]\" type=\"hidden\" value=\"1\"/&gt;, \\n, &lt;a class=\"ty-control-group product-list-field cm-external-click\" data-ca-external-click-id=\"availability_in_stores\" href=\"#availability_in_stores\"&gt;\\n&lt;span class=\"ty-qty-in-stock ty-control-group__item\" id=\"in_stock_info_16632\"&gt;\\n&lt;i class=\"material-icons\"&gt;&lt;/i&gt;В наличии\\n&lt;/span&gt;\\n&lt;/a&gt;, \\n], \\n], [\\n, [\\n, &lt;a class=\"ty-btn ty-btn__tertiary ty-add-to-wish cm-submit text-button\" data-ca-dispatch=\"dispatch[wishlist.add..16632]\" id=\"button_wishlist_16632\" title=\"Отложить\"&gt;&lt;span&gt;&lt;i class=\"ty-icon-heart\"&gt;&lt;/i&gt;&lt;/span&gt;&lt;/a&gt;, \\n, &lt;a class=\"ty-btn ty-btn__tertiary ty-add-to-compare cm-ajax cm-ajax-full-render text-button\" data-ca-target-id=\"comparison_list,account_info*\" href=\"https://hi-tech.md/index.php...</td>\n",
       "    </tr>\n",
       "    <tr>\n",
       "      <th>21</th>\n",
       "      <td>[[ , [\\n, &lt;input name=\"appearance[show_sku]\" type=\"hidden\" value=\"1\"/&gt;, \\n, &lt;label class=\"ty-control-group__label\" id=\"sku_16643\"&gt;КОД:&lt;/label&gt;, \\n, &lt;span class=\"ty-control-group__item\"&gt;Т-000027458&lt;/span&gt;, \\n], \\n, [\\n, &lt;input name=\"appearance[show_product_amount]\" type=\"hidden\" value=\"1\"/&gt;, \\n, &lt;a class=\"ty-control-group product-list-field cm-external-click\" data-ca-external-click-id=\"availability_in_stores\" href=\"#availability_in_stores\"&gt;\\n&lt;span class=\"ty-qty-in-stock ty-control-group__item\" id=\"in_stock_info_16643\"&gt;\\n&lt;i class=\"material-icons\"&gt;&lt;/i&gt;В наличии\\n&lt;/span&gt;\\n&lt;/a&gt;, \\n], \\n], [\\n, [\\n, &lt;a class=\"ty-btn ty-btn__tertiary ty-add-to-wish cm-submit text-button\" data-ca-dispatch=\"dispatch[wishlist.add..16643]\" id=\"button_wishlist_16643\" title=\"Отложить\"&gt;&lt;span&gt;&lt;i class=\"ty-icon-heart\"&gt;&lt;/i&gt;&lt;/span&gt;&lt;/a&gt;, \\n, &lt;a class=\"ty-btn ty-btn__tertiary ty-add-to-compare cm-ajax cm-ajax-full-render text-button\" data-ca-target-id=\"comparison_list,account_info*\" href=\"https://hi-tech.md/index.php...</td>\n",
       "    </tr>\n",
       "    <tr>\n",
       "      <th>22</th>\n",
       "      <td>[[ , [\\n, &lt;input name=\"appearance[show_sku]\" type=\"hidden\" value=\"1\"/&gt;, \\n, &lt;label class=\"ty-control-group__label\" id=\"sku_153876\"&gt;КОД:&lt;/label&gt;, \\n, &lt;span class=\"ty-control-group__item\"&gt;Т-000091418&lt;/span&gt;, \\n], \\n, [\\n, &lt;input name=\"appearance[show_product_amount]\" type=\"hidden\" value=\"1\"/&gt;, \\n, &lt;a class=\"ty-control-group product-list-field cm-external-click\" data-ca-external-click-id=\"availability_in_stores\" href=\"#availability_in_stores\"&gt;\\n&lt;span class=\"ty-qty-in-stock ty-control-group__item\" id=\"in_stock_info_153876\"&gt;\\n&lt;i class=\"material-icons\"&gt;&lt;/i&gt;В наличии\\n&lt;/span&gt;\\n&lt;/a&gt;, \\n], \\n], [\\n, [\\n, &lt;a class=\"ty-btn ty-btn__tertiary ty-add-to-wish cm-submit text-button\" data-ca-dispatch=\"dispatch[wishlist.add..153876]\" id=\"button_wishlist_153876\" title=\"Отложить\"&gt;&lt;span&gt;&lt;i class=\"ty-icon-heart\"&gt;&lt;/i&gt;&lt;/span&gt;&lt;/a&gt;, \\n, &lt;a class=\"ty-btn ty-btn__tertiary ty-add-to-compare cm-ajax cm-ajax-full-render text-button\" data-ca-target-id=\"comparison_list,account_info*\" href=\"https://hi-tech.md/index...</td>\n",
       "    </tr>\n",
       "    <tr>\n",
       "      <th>23</th>\n",
       "      <td>[[ , [\\n, &lt;input name=\"appearance[show_sku]\" type=\"hidden\" value=\"1\"/&gt;, \\n, &lt;label class=\"ty-control-group__label\" id=\"sku_16622\"&gt;КОД:&lt;/label&gt;, \\n, &lt;span class=\"ty-control-group__item\"&gt;Т-000066315&lt;/span&gt;, \\n], \\n, [\\n, &lt;input name=\"appearance[show_product_amount]\" type=\"hidden\" value=\"1\"/&gt;, \\n, &lt;a class=\"ty-control-group product-list-field cm-external-click\" data-ca-external-click-id=\"availability_in_stores\" href=\"#availability_in_stores\"&gt;\\n&lt;span class=\"ty-qty-in-stock ty-control-group__item\" id=\"in_stock_info_16622\"&gt;\\n&lt;i class=\"material-icons\"&gt;&lt;/i&gt;В наличии\\n&lt;/span&gt;\\n&lt;/a&gt;, \\n], \\n], [\\n, [\\n, &lt;a class=\"ty-btn ty-btn__tertiary ty-add-to-wish cm-submit text-button\" data-ca-dispatch=\"dispatch[wishlist.add..16622]\" id=\"button_wishlist_16622\" title=\"Отложить\"&gt;&lt;span&gt;&lt;i class=\"ty-icon-heart\"&gt;&lt;/i&gt;&lt;/span&gt;&lt;/a&gt;, \\n, &lt;a class=\"ty-btn ty-btn__tertiary ty-add-to-compare cm-ajax cm-ajax-full-render text-button\" data-ca-target-id=\"comparison_list,account_info*\" href=\"https://hi-tech.md/index.php...</td>\n",
       "    </tr>\n",
       "    <tr>\n",
       "      <th>24</th>\n",
       "      <td>[[ , [\\n, &lt;input name=\"appearance[show_sku]\" type=\"hidden\" value=\"1\"/&gt;, \\n, &lt;label class=\"ty-control-group__label\" id=\"sku_16623\"&gt;КОД:&lt;/label&gt;, \\n, &lt;span class=\"ty-control-group__item\"&gt;Т-000040959&lt;/span&gt;, \\n], \\n, [\\n, &lt;input name=\"appearance[show_product_amount]\" type=\"hidden\" value=\"1\"/&gt;, \\n, &lt;a class=\"ty-control-group product-list-field cm-external-click\" data-ca-external-click-id=\"availability_in_stores\" href=\"#availability_in_stores\"&gt;\\n&lt;span class=\"ty-qty-in-stock ty-control-group__item\" id=\"in_stock_info_16623\"&gt;\\n&lt;i class=\"material-icons\"&gt;&lt;/i&gt;В наличии\\n&lt;/span&gt;\\n&lt;/a&gt;, \\n], \\n], [\\n, [\\n, &lt;a class=\"ty-btn ty-btn__tertiary ty-add-to-wish cm-submit text-button\" data-ca-dispatch=\"dispatch[wishlist.add..16623]\" id=\"button_wishlist_16623\" title=\"Отложить\"&gt;&lt;span&gt;&lt;i class=\"ty-icon-heart\"&gt;&lt;/i&gt;&lt;/span&gt;&lt;/a&gt;, \\n, &lt;a class=\"ty-btn ty-btn__tertiary ty-add-to-compare cm-ajax cm-ajax-full-render text-button\" data-ca-target-id=\"comparison_list,account_info*\" href=\"https://hi-tech.md/index.php...</td>\n",
       "    </tr>\n",
       "    <tr>\n",
       "      <th>25</th>\n",
       "      <td>[[ , [\\n, &lt;input name=\"appearance[show_sku]\" type=\"hidden\" value=\"1\"/&gt;, \\n, &lt;label class=\"ty-control-group__label\" id=\"sku_16624\"&gt;КОД:&lt;/label&gt;, \\n, &lt;span class=\"ty-control-group__item\"&gt;Т-000017813&lt;/span&gt;, \\n], \\n, [\\n, &lt;input name=\"appearance[show_product_amount]\" type=\"hidden\" value=\"1\"/&gt;, \\n, &lt;a class=\"ty-control-group product-list-field cm-external-click\" data-ca-external-click-id=\"availability_in_stores\" href=\"#availability_in_stores\"&gt;\\n&lt;span class=\"ty-qty-in-stock ty-control-group__item\" id=\"in_stock_info_16624\"&gt;\\n&lt;i class=\"material-icons\"&gt;&lt;/i&gt;В наличии\\n&lt;/span&gt;\\n&lt;/a&gt;, \\n], \\n], [\\n, [\\n, &lt;a class=\"ty-btn ty-btn__tertiary ty-add-to-wish cm-submit text-button\" data-ca-dispatch=\"dispatch[wishlist.add..16624]\" id=\"button_wishlist_16624\" title=\"Отложить\"&gt;&lt;span&gt;&lt;i class=\"ty-icon-heart\"&gt;&lt;/i&gt;&lt;/span&gt;&lt;/a&gt;, \\n, &lt;a class=\"ty-btn ty-btn__tertiary ty-add-to-compare cm-ajax cm-ajax-full-render text-button\" data-ca-target-id=\"comparison_list,account_info*\" href=\"https://hi-tech.md/index.php...</td>\n",
       "    </tr>\n",
       "    <tr>\n",
       "      <th>26</th>\n",
       "      <td>[[ , [\\n, &lt;input name=\"appearance[show_sku]\" type=\"hidden\" value=\"1\"/&gt;, \\n, &lt;label class=\"ty-control-group__label\" id=\"sku_16626\"&gt;КОД:&lt;/label&gt;, \\n, &lt;span class=\"ty-control-group__item\"&gt;Т-000017814&lt;/span&gt;, \\n], \\n, [\\n, &lt;input name=\"appearance[show_product_amount]\" type=\"hidden\" value=\"1\"/&gt;, \\n, &lt;a class=\"ty-control-group product-list-field cm-external-click\" data-ca-external-click-id=\"availability_in_stores\" href=\"#availability_in_stores\"&gt;\\n&lt;span class=\"ty-qty-in-stock ty-control-group__item\" id=\"in_stock_info_16626\"&gt;\\n&lt;i class=\"material-icons\"&gt;&lt;/i&gt;В наличии\\n&lt;/span&gt;\\n&lt;/a&gt;, \\n], \\n], [\\n, [\\n, &lt;a class=\"ty-btn ty-btn__tertiary ty-add-to-wish cm-submit text-button\" data-ca-dispatch=\"dispatch[wishlist.add..16626]\" id=\"button_wishlist_16626\" title=\"Отложить\"&gt;&lt;span&gt;&lt;i class=\"ty-icon-heart\"&gt;&lt;/i&gt;&lt;/span&gt;&lt;/a&gt;, \\n, &lt;a class=\"ty-btn ty-btn__tertiary ty-add-to-compare cm-ajax cm-ajax-full-render text-button\" data-ca-target-id=\"comparison_list,account_info*\" href=\"https://hi-tech.md/index.php...</td>\n",
       "    </tr>\n",
       "    <tr>\n",
       "      <th>27</th>\n",
       "      <td>[[ , [\\n, &lt;input name=\"appearance[show_sku]\" type=\"hidden\" value=\"1\"/&gt;, \\n, &lt;label class=\"ty-control-group__label\" id=\"sku_16649\"&gt;КОД:&lt;/label&gt;, \\n, &lt;span class=\"ty-control-group__item\"&gt;Т-000037887&lt;/span&gt;, \\n], \\n, [\\n, &lt;input name=\"appearance[show_product_amount]\" type=\"hidden\" value=\"1\"/&gt;, \\n, &lt;a class=\"ty-control-group product-list-field cm-external-click\" data-ca-external-click-id=\"availability_in_stores\" href=\"#availability_in_stores\"&gt;\\n&lt;span class=\"ty-qty-in-stock ty-control-group__item\" id=\"in_stock_info_16649\"&gt;\\n&lt;i class=\"material-icons\"&gt;&lt;/i&gt;В наличии\\n&lt;/span&gt;\\n&lt;/a&gt;, \\n], \\n], [\\n, [\\n, &lt;a class=\"ty-btn ty-btn__tertiary ty-add-to-wish cm-submit text-button\" data-ca-dispatch=\"dispatch[wishlist.add..16649]\" id=\"button_wishlist_16649\" title=\"Отложить\"&gt;&lt;span&gt;&lt;i class=\"ty-icon-heart\"&gt;&lt;/i&gt;&lt;/span&gt;&lt;/a&gt;, \\n, &lt;a class=\"ty-btn ty-btn__tertiary ty-add-to-compare cm-ajax cm-ajax-full-render text-button\" data-ca-target-id=\"comparison_list,account_info*\" href=\"https://hi-tech.md/index.php...</td>\n",
       "    </tr>\n",
       "    <tr>\n",
       "      <th>28</th>\n",
       "      <td>[[ , [\\n, &lt;input name=\"appearance[show_sku]\" type=\"hidden\" value=\"1\"/&gt;, \\n, &lt;label class=\"ty-control-group__label\" id=\"sku_116033\"&gt;КОД:&lt;/label&gt;, \\n, &lt;span class=\"ty-control-group__item\"&gt;Т-000088224&lt;/span&gt;, \\n], \\n, [\\n, &lt;input name=\"appearance[show_product_amount]\" type=\"hidden\" value=\"1\"/&gt;, \\n, &lt;a class=\"ty-control-group product-list-field cm-external-click\" data-ca-external-click-id=\"availability_in_stores\" href=\"#availability_in_stores\"&gt;\\n&lt;span class=\"ty-qty-in-stock ty-control-group__item\" id=\"in_stock_info_116033\"&gt;\\n&lt;i class=\"material-icons\"&gt;&lt;/i&gt;В наличии\\n&lt;/span&gt;\\n&lt;/a&gt;, \\n], \\n], [\\n, [\\n, &lt;a class=\"ty-btn ty-btn__tertiary ty-add-to-wish cm-submit text-button\" data-ca-dispatch=\"dispatch[wishlist.add..116033]\" id=\"button_wishlist_116033\" title=\"Отложить\"&gt;&lt;span&gt;&lt;i class=\"ty-icon-heart\"&gt;&lt;/i&gt;&lt;/span&gt;&lt;/a&gt;, \\n, &lt;a class=\"ty-btn ty-btn__tertiary ty-add-to-compare cm-ajax cm-ajax-full-render text-button\" data-ca-target-id=\"comparison_list,account_info*\" href=\"https://hi-tech.md/index...</td>\n",
       "    </tr>\n",
       "    <tr>\n",
       "      <th>29</th>\n",
       "      <td>[[ , [\\n, &lt;input name=\"appearance[show_sku]\" type=\"hidden\" value=\"1\"/&gt;, \\n, &lt;label class=\"ty-control-group__label\" id=\"sku_16564\"&gt;КОД:&lt;/label&gt;, \\n, &lt;span class=\"ty-control-group__item\"&gt;Т-000066365&lt;/span&gt;, \\n], \\n, [\\n, &lt;input name=\"appearance[show_product_amount]\" type=\"hidden\" value=\"1\"/&gt;, \\n, &lt;a class=\"ty-control-group product-list-field cm-external-click\" data-ca-external-click-id=\"availability_in_stores\" href=\"#availability_in_stores\"&gt;\\n&lt;span class=\"ty-qty-in-stock ty-control-group__item\" id=\"in_stock_info_16564\"&gt;\\n&lt;i class=\"material-icons\"&gt;&lt;/i&gt;В наличии\\n&lt;/span&gt;\\n&lt;/a&gt;, \\n], \\n], [\\n, [\\n, &lt;a class=\"ty-btn ty-btn__tertiary ty-add-to-wish cm-submit text-button\" data-ca-dispatch=\"dispatch[wishlist.add..16564]\" id=\"button_wishlist_16564\" title=\"Отложить\"&gt;&lt;span&gt;&lt;i class=\"ty-icon-heart\"&gt;&lt;/i&gt;&lt;/span&gt;&lt;/a&gt;, \\n, &lt;a class=\"ty-btn ty-btn__tertiary ty-add-to-compare cm-ajax cm-ajax-full-render text-button\" data-ca-target-id=\"comparison_list,account_info*\" href=\"https://hi-tech.md/index.php...</td>\n",
       "    </tr>\n",
       "    <tr>\n",
       "      <th>30</th>\n",
       "      <td>[[ , [\\n, &lt;input name=\"appearance[show_sku]\" type=\"hidden\" value=\"1\"/&gt;, \\n, &lt;label class=\"ty-control-group__label\" id=\"sku_16619\"&gt;КОД:&lt;/label&gt;, \\n, &lt;span class=\"ty-control-group__item\"&gt;Т-000037894&lt;/span&gt;, \\n], \\n, [\\n, &lt;input name=\"appearance[show_product_amount]\" type=\"hidden\" value=\"1\"/&gt;, \\n, &lt;a class=\"ty-control-group product-list-field cm-external-click\" data-ca-external-click-id=\"availability_in_stores\" href=\"#availability_in_stores\"&gt;\\n&lt;span class=\"ty-qty-in-stock ty-control-group__item\" id=\"in_stock_info_16619\"&gt;\\n&lt;i class=\"material-icons\"&gt;&lt;/i&gt;В наличии\\n&lt;/span&gt;\\n&lt;/a&gt;, \\n], \\n], [\\n, [\\n, &lt;a class=\"ty-btn ty-btn__tertiary ty-add-to-wish cm-submit text-button\" data-ca-dispatch=\"dispatch[wishlist.add..16619]\" id=\"button_wishlist_16619\" title=\"Отложить\"&gt;&lt;span&gt;&lt;i class=\"ty-icon-heart\"&gt;&lt;/i&gt;&lt;/span&gt;&lt;/a&gt;, \\n, &lt;a class=\"ty-btn ty-btn__tertiary ty-add-to-compare cm-ajax cm-ajax-full-render text-button\" data-ca-target-id=\"comparison_list,account_info*\" href=\"https://hi-tech.md/index.php...</td>\n",
       "    </tr>\n",
       "    <tr>\n",
       "      <th>31</th>\n",
       "      <td>[[ , [\\n, &lt;input name=\"appearance[show_sku]\" type=\"hidden\" value=\"1\"/&gt;, \\n, &lt;label class=\"ty-control-group__label\" id=\"sku_16620\"&gt;КОД:&lt;/label&gt;, \\n, &lt;span class=\"ty-control-group__item\"&gt;Т-000037895&lt;/span&gt;, \\n], \\n, [\\n, &lt;input name=\"appearance[show_product_amount]\" type=\"hidden\" value=\"1\"/&gt;, \\n, &lt;a class=\"ty-control-group product-list-field cm-external-click\" data-ca-external-click-id=\"availability_in_stores\" href=\"#availability_in_stores\"&gt;\\n&lt;span class=\"ty-qty-in-stock ty-control-group__item\" id=\"in_stock_info_16620\"&gt;\\n&lt;i class=\"material-icons\"&gt;&lt;/i&gt;В наличии\\n&lt;/span&gt;\\n&lt;/a&gt;, \\n], \\n], [\\n, [\\n, &lt;a class=\"ty-btn ty-btn__tertiary ty-add-to-wish cm-submit text-button\" data-ca-dispatch=\"dispatch[wishlist.add..16620]\" id=\"button_wishlist_16620\" title=\"Отложить\"&gt;&lt;span&gt;&lt;i class=\"ty-icon-heart\"&gt;&lt;/i&gt;&lt;/span&gt;&lt;/a&gt;, \\n, &lt;a class=\"ty-btn ty-btn__tertiary ty-add-to-compare cm-ajax cm-ajax-full-render text-button\" data-ca-target-id=\"comparison_list,account_info*\" href=\"https://hi-tech.md/index.php...</td>\n",
       "    </tr>\n",
       "    <tr>\n",
       "      <th>32</th>\n",
       "      <td>[[ , [\\n, &lt;input name=\"appearance[show_sku]\" type=\"hidden\" value=\"1\"/&gt;, \\n, &lt;label class=\"ty-control-group__label\" id=\"sku_16648\"&gt;КОД:&lt;/label&gt;, \\n, &lt;span class=\"ty-control-group__item\"&gt;Т-000023836&lt;/span&gt;, \\n], \\n, [\\n, &lt;input name=\"appearance[show_product_amount]\" type=\"hidden\" value=\"1\"/&gt;, \\n, &lt;a class=\"ty-control-group product-list-field cm-external-click\" data-ca-external-click-id=\"availability_in_stores\" href=\"#availability_in_stores\"&gt;\\n&lt;span class=\"ty-qty-in-stock ty-control-group__item\" id=\"in_stock_info_16648\"&gt;\\n&lt;i class=\"material-icons\"&gt;&lt;/i&gt;В наличии\\n&lt;/span&gt;\\n&lt;/a&gt;, \\n], \\n], [\\n, [\\n, &lt;a class=\"ty-btn ty-btn__tertiary ty-add-to-wish cm-submit text-button\" data-ca-dispatch=\"dispatch[wishlist.add..16648]\" id=\"button_wishlist_16648\" title=\"Отложить\"&gt;&lt;span&gt;&lt;i class=\"ty-icon-heart\"&gt;&lt;/i&gt;&lt;/span&gt;&lt;/a&gt;, \\n, &lt;a class=\"ty-btn ty-btn__tertiary ty-add-to-compare cm-ajax cm-ajax-full-render text-button\" data-ca-target-id=\"comparison_list,account_info*\" href=\"https://hi-tech.md/index.php...</td>\n",
       "    </tr>\n",
       "    <tr>\n",
       "      <th>33</th>\n",
       "      <td>[[ , [\\n, &lt;input name=\"appearance[show_sku]\" type=\"hidden\" value=\"1\"/&gt;, \\n, &lt;label class=\"ty-control-group__label\" id=\"sku_16630\"&gt;КОД:&lt;/label&gt;, \\n, &lt;span class=\"ty-control-group__item\"&gt;Т-000037884&lt;/span&gt;, \\n], \\n, [\\n, &lt;input name=\"appearance[show_product_amount]\" type=\"hidden\" value=\"1\"/&gt;, \\n, &lt;a class=\"ty-control-group product-list-field cm-external-click\" data-ca-external-click-id=\"availability_in_stores\" href=\"#availability_in_stores\"&gt;\\n&lt;span class=\"ty-qty-in-stock ty-control-group__item\" id=\"in_stock_info_16630\"&gt;\\n&lt;i class=\"material-icons\"&gt;&lt;/i&gt;В наличии\\n&lt;/span&gt;\\n&lt;/a&gt;, \\n], \\n], [\\n, [\\n, &lt;a class=\"ty-btn ty-btn__tertiary ty-add-to-wish cm-submit text-button\" data-ca-dispatch=\"dispatch[wishlist.add..16630]\" id=\"button_wishlist_16630\" title=\"Отложить\"&gt;&lt;span&gt;&lt;i class=\"ty-icon-heart\"&gt;&lt;/i&gt;&lt;/span&gt;&lt;/a&gt;, \\n, &lt;a class=\"ty-btn ty-btn__tertiary ty-add-to-compare cm-ajax cm-ajax-full-render text-button\" data-ca-target-id=\"comparison_list,account_info*\" href=\"https://hi-tech.md/index.php...</td>\n",
       "    </tr>\n",
       "    <tr>\n",
       "      <th>34</th>\n",
       "      <td>[[ , [\\n, &lt;input name=\"appearance[show_sku]\" type=\"hidden\" value=\"1\"/&gt;, \\n, &lt;label class=\"ty-control-group__label\" id=\"sku_16631\"&gt;КОД:&lt;/label&gt;, \\n, &lt;span class=\"ty-control-group__item\"&gt;Т-000037885&lt;/span&gt;, \\n], \\n, [\\n, &lt;input name=\"appearance[show_product_amount]\" type=\"hidden\" value=\"1\"/&gt;, \\n, &lt;a class=\"ty-control-group product-list-field cm-external-click\" data-ca-external-click-id=\"availability_in_stores\" href=\"#availability_in_stores\"&gt;\\n&lt;span class=\"ty-qty-in-stock ty-control-group__item\" id=\"in_stock_info_16631\"&gt;\\n&lt;i class=\"material-icons\"&gt;&lt;/i&gt;В наличии\\n&lt;/span&gt;\\n&lt;/a&gt;, \\n], \\n], [\\n, [\\n, &lt;a class=\"ty-btn ty-btn__tertiary ty-add-to-wish cm-submit text-button\" data-ca-dispatch=\"dispatch[wishlist.add..16631]\" id=\"button_wishlist_16631\" title=\"Отложить\"&gt;&lt;span&gt;&lt;i class=\"ty-icon-heart\"&gt;&lt;/i&gt;&lt;/span&gt;&lt;/a&gt;, \\n, &lt;a class=\"ty-btn ty-btn__tertiary ty-add-to-compare cm-ajax cm-ajax-full-render text-button\" data-ca-target-id=\"comparison_list,account_info*\" href=\"https://hi-tech.md/index.php...</td>\n",
       "    </tr>\n",
       "    <tr>\n",
       "      <th>35</th>\n",
       "      <td>[[ , [\\n, &lt;input name=\"appearance[show_sku]\" type=\"hidden\" value=\"1\"/&gt;, \\n, &lt;label class=\"ty-control-group__label\" id=\"sku_16639\"&gt;КОД:&lt;/label&gt;, \\n, &lt;span class=\"ty-control-group__item\"&gt;Т-000027461&lt;/span&gt;, \\n], \\n, [\\n, &lt;input name=\"appearance[show_product_amount]\" type=\"hidden\" value=\"1\"/&gt;, \\n, &lt;a class=\"ty-control-group product-list-field cm-external-click\" data-ca-external-click-id=\"availability_in_stores\" href=\"#availability_in_stores\"&gt;\\n&lt;span class=\"ty-qty-in-stock ty-control-group__item\" id=\"in_stock_info_16639\"&gt;\\n&lt;i class=\"material-icons\"&gt;&lt;/i&gt;В наличии\\n&lt;/span&gt;\\n&lt;/a&gt;, \\n], \\n], [\\n, [\\n, &lt;a class=\"ty-btn ty-btn__tertiary ty-add-to-wish cm-submit text-button\" data-ca-dispatch=\"dispatch[wishlist.add..16639]\" id=\"button_wishlist_16639\" title=\"Отложить\"&gt;&lt;span&gt;&lt;i class=\"ty-icon-heart\"&gt;&lt;/i&gt;&lt;/span&gt;&lt;/a&gt;, \\n, &lt;a class=\"ty-btn ty-btn__tertiary ty-add-to-compare cm-ajax cm-ajax-full-render text-button\" data-ca-target-id=\"comparison_list,account_info*\" href=\"https://hi-tech.md/index.php...</td>\n",
       "    </tr>\n",
       "  </tbody>\n",
       "</table>\n",
       "</div>"
      ],
      "text/plain": [
       "                                                                                                                                                                                                                                                                                                                                                                                                                                                                                                                                                                                                                                                                                                                                                                                                                                                                                                                                                                                                                                  soup_name\n",
       "0   [[ , [\\n, <input name=\"appearance[show_sku]\" type=\"hidden\" value=\"1\">\\n<label class=\"ty-control-group__label\" id=\"sku_116027\">КОД:</label>\\n<span class=\"ty-control-group__item\">Т-000088228</span>\\n</input>], \\n, [\\n, <input name=\"appearance[show_product_amount]\" type=\"hidden\" value=\"1\">\\n<a class=\"ty-control-group product-list-field cm-external-click\" data-ca-external-click-id=\"availability_in_stores\" href=\"#availability_in_stores\">\\n<span class=\"ty-qty-in-stock ty-control-group__item\" id=\"in_stock_info_116027\">\\n<i class=\"material-icons\"></i>В наличии\\n</span>\\n</a>\\n</input>], \\n], [\\n, [\\n, <a class=\"ty-btn ty-btn__tertiary ty-add-to-wish cm-submit text-button\" data-ca-dispatch=\"dispatch[wishlist.add..116027]\" id=\"button_wishlist_116027\" title=\"Отложить\"><span><i class=\"ty-icon-heart\"></i></span></a>, \\n, <a class=\"ty-btn ty-btn__tertiary ty-add-to-compare cm-ajax cm-ajax-full-render text-button\" data-ca-target-id=\"comparison_list,account_info*\" href=\"https://hi-tech.md/index.p...\n",
       "1   [[ , [\\n, <input name=\"appearance[show_sku]\" type=\"hidden\" value=\"1\">\\n<label class=\"ty-control-group__label\" id=\"sku_116029\">КОД:</label>\\n<span class=\"ty-control-group__item\">Т-000088229</span>\\n</input>], \\n, [\\n, <input name=\"appearance[show_product_amount]\" type=\"hidden\" value=\"1\">\\n<a class=\"ty-control-group product-list-field cm-external-click\" data-ca-external-click-id=\"availability_in_stores\" href=\"#availability_in_stores\">\\n<span class=\"ty-qty-in-stock ty-control-group__item\" id=\"in_stock_info_116029\">\\n<i class=\"material-icons\"></i>В наличии\\n</span>\\n</a>\\n</input>], \\n], [\\n, [\\n, <a class=\"ty-btn ty-btn__tertiary ty-add-to-wish cm-submit text-button\" data-ca-dispatch=\"dispatch[wishlist.add..116029]\" id=\"button_wishlist_116029\" title=\"Отложить\"><span><i class=\"ty-icon-heart\"></i></span></a>, \\n, <a class=\"ty-btn ty-btn__tertiary ty-add-to-compare cm-ajax cm-ajax-full-render text-button\" data-ca-target-id=\"comparison_list,account_info*\" href=\"https://hi-tech.md/index.p...\n",
       "2   [[ , [\\n, <input name=\"appearance[show_sku]\" type=\"hidden\" value=\"1\">\\n<label class=\"ty-control-group__label\" id=\"sku_116025\">КОД:</label>\\n<span class=\"ty-control-group__item\">Т-000088221</span>\\n</input>], \\n, [\\n, <input name=\"appearance[show_product_amount]\" type=\"hidden\" value=\"1\">\\n<a class=\"ty-control-group product-list-field cm-external-click\" data-ca-external-click-id=\"availability_in_stores\" href=\"#availability_in_stores\">\\n<span class=\"ty-qty-in-stock ty-control-group__item\" id=\"in_stock_info_116025\">\\n<i class=\"material-icons\"></i>В наличии\\n</span>\\n</a>\\n</input>], \\n], [\\n, [\\n, <a class=\"ty-btn ty-btn__tertiary ty-add-to-wish cm-submit text-button\" data-ca-dispatch=\"dispatch[wishlist.add..116025]\" id=\"button_wishlist_116025\" title=\"Отложить\"><span><i class=\"ty-icon-heart\"></i></span></a>, \\n, <a class=\"ty-btn ty-btn__tertiary ty-add-to-compare cm-ajax cm-ajax-full-render text-button\" data-ca-target-id=\"comparison_list,account_info*\" href=\"https://hi-tech.md/index.p...\n",
       "3   [[ , [\\n, <input name=\"appearance[show_sku]\" type=\"hidden\" value=\"1\"/>, \\n, <label class=\"ty-control-group__label\" id=\"sku_116026\">КОД:</label>, \\n, <span class=\"ty-control-group__item\">Т-000088222</span>, \\n], \\n, [\\n, <input name=\"appearance[show_product_amount]\" type=\"hidden\" value=\"1\"/>, \\n, <a class=\"ty-control-group product-list-field cm-external-click\" data-ca-external-click-id=\"availability_in_stores\" href=\"#availability_in_stores\">\\n<span class=\"ty-qty-in-stock ty-control-group__item\" id=\"in_stock_info_116026\">\\n<i class=\"material-icons\"></i>В наличии\\n</span>\\n</a>, \\n], \\n], [\\n, [\\n, <a class=\"ty-btn ty-btn__tertiary ty-add-to-wish cm-submit text-button\" data-ca-dispatch=\"dispatch[wishlist.add..116026]\" id=\"button_wishlist_116026\" title=\"Отложить\"><span><i class=\"ty-icon-heart\"></i></span></a>, \\n, <a class=\"ty-btn ty-btn__tertiary ty-add-to-compare cm-ajax cm-ajax-full-render text-button\" data-ca-target-id=\"comparison_list,account_info*\" href=\"https://hi-tech.md/index...\n",
       "4   [[ , [\\n, <input name=\"appearance[show_sku]\" type=\"hidden\" value=\"1\"/>, \\n, <label class=\"ty-control-group__label\" id=\"sku_116030\">КОД:</label>, \\n, <span class=\"ty-control-group__item\">Т-000088230</span>, \\n], \\n, [\\n, <input name=\"appearance[show_product_amount]\" type=\"hidden\" value=\"1\"/>, \\n, <a class=\"ty-control-group product-list-field cm-external-click\" data-ca-external-click-id=\"availability_in_stores\" href=\"#availability_in_stores\">\\n<span class=\"ty-qty-in-stock ty-control-group__item\" id=\"in_stock_info_116030\">\\n<i class=\"material-icons\"></i>В наличии\\n</span>\\n</a>, \\n], \\n], [\\n, [\\n, <a class=\"ty-btn ty-btn__tertiary ty-add-to-wish cm-submit text-button\" data-ca-dispatch=\"dispatch[wishlist.add..116030]\" id=\"button_wishlist_116030\" title=\"Отложить\"><span><i class=\"ty-icon-heart\"></i></span></a>, \\n, <a class=\"ty-btn ty-btn__tertiary ty-add-to-compare cm-ajax cm-ajax-full-render text-button\" data-ca-target-id=\"comparison_list,account_info*\" href=\"https://hi-tech.md/index...\n",
       "5   [[ , [\\n, <input name=\"appearance[show_sku]\" type=\"hidden\" value=\"1\"/>, \\n, <label class=\"ty-control-group__label\" id=\"sku_16611\">КОД:</label>, \\n, <span class=\"ty-control-group__item\">Т-000037889</span>, \\n], \\n, [\\n, <input name=\"appearance[show_product_amount]\" type=\"hidden\" value=\"1\"/>, \\n, <a class=\"ty-control-group product-list-field cm-external-click\" data-ca-external-click-id=\"availability_in_stores\" href=\"#availability_in_stores\">\\n<span class=\"ty-qty-in-stock ty-control-group__item\" id=\"in_stock_info_16611\">\\n<i class=\"material-icons\"></i>В наличии\\n</span>\\n</a>, \\n], \\n], [\\n, [\\n, <a class=\"ty-btn ty-btn__tertiary ty-add-to-wish cm-submit text-button\" data-ca-dispatch=\"dispatch[wishlist.add..16611]\" id=\"button_wishlist_16611\" title=\"Отложить\"><span><i class=\"ty-icon-heart\"></i></span></a>, \\n, <a class=\"ty-btn ty-btn__tertiary ty-add-to-compare cm-ajax cm-ajax-full-render text-button\" data-ca-target-id=\"comparison_list,account_info*\" href=\"https://hi-tech.md/index.php...\n",
       "6   [[ , [\\n, <input name=\"appearance[show_sku]\" type=\"hidden\" value=\"1\"/>, \\n, <label class=\"ty-control-group__label\" id=\"sku_16612\">КОД:</label>, \\n, <span class=\"ty-control-group__item\">Т-000037892</span>, \\n], \\n, [\\n, <input name=\"appearance[show_product_amount]\" type=\"hidden\" value=\"1\"/>, \\n, <a class=\"ty-control-group product-list-field cm-external-click\" data-ca-external-click-id=\"availability_in_stores\" href=\"#availability_in_stores\">\\n<span class=\"ty-qty-in-stock ty-control-group__item\" id=\"in_stock_info_16612\">\\n<i class=\"material-icons\"></i>В наличии\\n</span>\\n</a>, \\n], \\n], [\\n, [\\n, <a class=\"ty-btn ty-btn__tertiary ty-add-to-wish cm-submit text-button\" data-ca-dispatch=\"dispatch[wishlist.add..16612]\" id=\"button_wishlist_16612\" title=\"Отложить\"><span><i class=\"ty-icon-heart\"></i></span></a>, \\n, <a class=\"ty-btn ty-btn__tertiary ty-add-to-compare cm-ajax cm-ajax-full-render text-button\" data-ca-target-id=\"comparison_list,account_info*\" href=\"https://hi-tech.md/index.php...\n",
       "7   [[ , [\\n, <input name=\"appearance[show_sku]\" type=\"hidden\" value=\"1\"/>, \\n, <label class=\"ty-control-group__label\" id=\"sku_16605\">КОД:</label>, \\n, <span class=\"ty-control-group__item\">Т-000039418</span>, \\n], \\n, [\\n, <input name=\"appearance[show_product_amount]\" type=\"hidden\" value=\"1\"/>, \\n, <a class=\"ty-control-group product-list-field cm-external-click\" data-ca-external-click-id=\"availability_in_stores\" href=\"#availability_in_stores\">\\n<span class=\"ty-qty-in-stock ty-control-group__item\" id=\"in_stock_info_16605\">\\n<i class=\"material-icons\"></i>В наличии\\n</span>\\n</a>, \\n], \\n], [\\n, [\\n, <a class=\"ty-btn ty-btn__tertiary ty-add-to-wish cm-submit text-button\" data-ca-dispatch=\"dispatch[wishlist.add..16605]\" id=\"button_wishlist_16605\" title=\"Отложить\"><span><i class=\"ty-icon-heart\"></i></span></a>, \\n, <a class=\"ty-btn ty-btn__tertiary ty-add-to-compare cm-ajax cm-ajax-full-render text-button\" data-ca-target-id=\"comparison_list,account_info*\" href=\"https://hi-tech.md/index.php...\n",
       "8   [[ , [\\n, <input name=\"appearance[show_sku]\" type=\"hidden\" value=\"1\"/>, \\n, <label class=\"ty-control-group__label\" id=\"sku_16633\">КОД:</label>, \\n, <span class=\"ty-control-group__item\">Т-000017828</span>, \\n], \\n, [\\n, <input name=\"appearance[show_product_amount]\" type=\"hidden\" value=\"1\"/>, \\n, <a class=\"ty-control-group product-list-field cm-external-click\" data-ca-external-click-id=\"availability_in_stores\" href=\"#availability_in_stores\">\\n<span class=\"ty-qty-in-stock ty-control-group__item\" id=\"in_stock_info_16633\">\\n<i class=\"material-icons\"></i>В наличии\\n</span>\\n</a>, \\n], \\n], [\\n, [\\n, <a class=\"ty-btn ty-btn__tertiary ty-add-to-wish cm-submit text-button\" data-ca-dispatch=\"dispatch[wishlist.add..16633]\" id=\"button_wishlist_16633\" title=\"Отложить\"><span><i class=\"ty-icon-heart\"></i></span></a>, \\n, <a class=\"ty-btn ty-btn__tertiary ty-add-to-compare cm-ajax cm-ajax-full-render text-button\" data-ca-target-id=\"comparison_list,account_info*\" href=\"https://hi-tech.md/index.php...\n",
       "9   [[ , [\\n, <input name=\"appearance[show_sku]\" type=\"hidden\" value=\"1\"/>, \\n, <label class=\"ty-control-group__label\" id=\"sku_16644\">КОД:</label>, \\n, <span class=\"ty-control-group__item\">Т-000023835</span>, \\n], \\n, [\\n, <input name=\"appearance[show_product_amount]\" type=\"hidden\" value=\"1\"/>, \\n, <a class=\"ty-control-group product-list-field cm-external-click\" data-ca-external-click-id=\"availability_in_stores\" href=\"#availability_in_stores\">\\n<span class=\"ty-qty-in-stock ty-control-group__item\" id=\"in_stock_info_16644\">\\n<i class=\"material-icons\"></i>В наличии\\n</span>\\n</a>, \\n], \\n], [\\n, [\\n, <a class=\"ty-btn ty-btn__tertiary ty-add-to-wish cm-submit text-button\" data-ca-dispatch=\"dispatch[wishlist.add..16644]\" id=\"button_wishlist_16644\" title=\"Отложить\"><span><i class=\"ty-icon-heart\"></i></span></a>, \\n, <a class=\"ty-btn ty-btn__tertiary ty-add-to-compare cm-ajax cm-ajax-full-render text-button\" data-ca-target-id=\"comparison_list,account_info*\" href=\"https://hi-tech.md/index.php...\n",
       "10  [[ , [\\n, <input name=\"appearance[show_sku]\" type=\"hidden\" value=\"1\"/>, \\n, <label class=\"ty-control-group__label\" id=\"sku_16634\">КОД:</label>, \\n, <span class=\"ty-control-group__item\">Т-000040957</span>, \\n], \\n, [\\n, <input name=\"appearance[show_product_amount]\" type=\"hidden\" value=\"1\"/>, \\n, <a class=\"ty-control-group product-list-field cm-external-click\" data-ca-external-click-id=\"availability_in_stores\" href=\"#availability_in_stores\">\\n<span class=\"ty-qty-in-stock ty-control-group__item\" id=\"in_stock_info_16634\">\\n<i class=\"material-icons\"></i>В наличии\\n</span>\\n</a>, \\n], \\n], [\\n, [\\n, <a class=\"ty-btn ty-btn__tertiary ty-add-to-wish cm-submit text-button\" data-ca-dispatch=\"dispatch[wishlist.add..16634]\" id=\"button_wishlist_16634\" title=\"Отложить\"><span><i class=\"ty-icon-heart\"></i></span></a>, \\n, <a class=\"ty-btn ty-btn__tertiary ty-add-to-compare cm-ajax cm-ajax-full-render text-button\" data-ca-target-id=\"comparison_list,account_info*\" href=\"https://hi-tech.md/index.php...\n",
       "11  [[ , [\\n, <input name=\"appearance[show_sku]\" type=\"hidden\" value=\"1\"/>, \\n, <label class=\"ty-control-group__label\" id=\"sku_16636\">КОД:</label>, \\n, <span class=\"ty-control-group__item\">Т-000025100</span>, \\n], \\n, [\\n, <input name=\"appearance[show_product_amount]\" type=\"hidden\" value=\"1\"/>, \\n, <a class=\"ty-control-group product-list-field cm-external-click\" data-ca-external-click-id=\"availability_in_stores\" href=\"#availability_in_stores\">\\n<span class=\"ty-qty-in-stock ty-control-group__item\" id=\"in_stock_info_16636\">\\n<i class=\"material-icons\"></i>В наличии\\n</span>\\n</a>, \\n], \\n], [\\n, [\\n, <a class=\"ty-btn ty-btn__tertiary ty-add-to-wish cm-submit text-button\" data-ca-dispatch=\"dispatch[wishlist.add..16636]\" id=\"button_wishlist_16636\" title=\"Отложить\"><span><i class=\"ty-icon-heart\"></i></span></a>, \\n, <a class=\"ty-btn ty-btn__tertiary ty-add-to-compare cm-ajax cm-ajax-full-render text-button\" data-ca-target-id=\"comparison_list,account_info*\" href=\"https://hi-tech.md/index.php...\n",
       "12  [[ , [\\n, <input name=\"appearance[show_sku]\" type=\"hidden\" value=\"1\"/>, \\n, <label class=\"ty-control-group__label\" id=\"sku_16645\">КОД:</label>, \\n, <span class=\"ty-control-group__item\">Т-000040958</span>, \\n], \\n, [\\n, <input name=\"appearance[show_product_amount]\" type=\"hidden\" value=\"1\"/>, \\n, <a class=\"ty-control-group product-list-field cm-external-click\" data-ca-external-click-id=\"availability_in_stores\" href=\"#availability_in_stores\">\\n<span class=\"ty-qty-in-stock ty-control-group__item\" id=\"in_stock_info_16645\">\\n<i class=\"material-icons\"></i>В наличии\\n</span>\\n</a>, \\n], \\n], [\\n, [\\n, <a class=\"ty-btn ty-btn__tertiary ty-add-to-wish cm-submit text-button\" data-ca-dispatch=\"dispatch[wishlist.add..16645]\" id=\"button_wishlist_16645\" title=\"Отложить\"><span><i class=\"ty-icon-heart\"></i></span></a>, \\n, <a class=\"ty-btn ty-btn__tertiary ty-add-to-compare cm-ajax cm-ajax-full-render text-button\" data-ca-target-id=\"comparison_list,account_info*\" href=\"https://hi-tech.md/index.php...\n",
       "13  [[ , [\\n, <input name=\"appearance[show_sku]\" type=\"hidden\" value=\"1\"/>, \\n, <label class=\"ty-control-group__label\" id=\"sku_16646\">КОД:</label>, \\n, <span class=\"ty-control-group__item\">Т-000027462</span>, \\n], \\n, [\\n, <input name=\"appearance[show_product_amount]\" type=\"hidden\" value=\"1\"/>, \\n, <a class=\"ty-control-group product-list-field cm-external-click\" data-ca-external-click-id=\"availability_in_stores\" href=\"#availability_in_stores\">\\n<span class=\"ty-qty-in-stock ty-control-group__item\" id=\"in_stock_info_16646\">\\n<i class=\"material-icons\"></i>В наличии\\n</span>\\n</a>, \\n], \\n], [\\n, [\\n, <a class=\"ty-btn ty-btn__tertiary ty-add-to-wish cm-submit text-button\" data-ca-dispatch=\"dispatch[wishlist.add..16646]\" id=\"button_wishlist_16646\" title=\"Отложить\"><span><i class=\"ty-icon-heart\"></i></span></a>, \\n, <a class=\"ty-btn ty-btn__tertiary ty-add-to-compare cm-ajax cm-ajax-full-render text-button\" data-ca-target-id=\"comparison_list,account_info*\" href=\"https://hi-tech.md/index.php...\n",
       "14  [[ , [\\n, <input name=\"appearance[show_sku]\" type=\"hidden\" value=\"1\"/>, \\n, <label class=\"ty-control-group__label\" id=\"sku_52166\">КОД:</label>, \\n, <span class=\"ty-control-group__item\">Т-000075396</span>, \\n], \\n, [\\n, <input name=\"appearance[show_product_amount]\" type=\"hidden\" value=\"1\"/>, \\n, <a class=\"ty-control-group product-list-field cm-external-click\" data-ca-external-click-id=\"availability_in_stores\" href=\"#availability_in_stores\">\\n<span class=\"ty-qty-in-stock ty-control-group__item\" id=\"in_stock_info_52166\">\\n<i class=\"material-icons\"></i>В наличии\\n</span>\\n</a>, \\n], \\n], [\\n, [\\n, <a class=\"ty-btn ty-btn__tertiary ty-add-to-wish cm-submit text-button\" data-ca-dispatch=\"dispatch[wishlist.add..52166]\" id=\"button_wishlist_52166\" title=\"Отложить\"><span><i class=\"ty-icon-heart\"></i></span></a>, \\n, <a class=\"ty-btn ty-btn__tertiary ty-add-to-compare cm-ajax cm-ajax-full-render text-button\" data-ca-target-id=\"comparison_list,account_info*\" href=\"https://hi-tech.md/index.php...\n",
       "15  [[ , [\\n, <input name=\"appearance[show_sku]\" type=\"hidden\" value=\"1\"/>, \\n, <label class=\"ty-control-group__label\" id=\"sku_52167\">КОД:</label>, \\n, <span class=\"ty-control-group__item\">Т-000075397</span>, \\n], \\n, [\\n, <input name=\"appearance[show_product_amount]\" type=\"hidden\" value=\"1\"/>, \\n, <a class=\"ty-control-group product-list-field cm-external-click\" data-ca-external-click-id=\"availability_in_stores\" href=\"#availability_in_stores\">\\n<span class=\"ty-qty-in-stock ty-control-group__item\" id=\"in_stock_info_52167\">\\n<i class=\"material-icons\"></i>В наличии\\n</span>\\n</a>, \\n], \\n], [\\n, [\\n, <a class=\"ty-btn ty-btn__tertiary ty-add-to-wish cm-submit text-button\" data-ca-dispatch=\"dispatch[wishlist.add..52167]\" id=\"button_wishlist_52167\" title=\"Отложить\"><span><i class=\"ty-icon-heart\"></i></span></a>, \\n, <a class=\"ty-btn ty-btn__tertiary ty-add-to-compare cm-ajax cm-ajax-full-render text-button\" data-ca-target-id=\"comparison_list,account_info*\" href=\"https://hi-tech.md/index.php...\n",
       "16  [[ , [\\n, <input name=\"appearance[show_sku]\" type=\"hidden\" value=\"1\"/>, \\n, <label class=\"ty-control-group__label\" id=\"sku_16637\">КОД:</label>, \\n, <span class=\"ty-control-group__item\">Т-000017832</span>, \\n], \\n, [\\n, <input name=\"appearance[show_product_amount]\" type=\"hidden\" value=\"1\"/>, \\n, <a class=\"ty-control-group product-list-field cm-external-click\" data-ca-external-click-id=\"availability_in_stores\" href=\"#availability_in_stores\">\\n<span class=\"ty-qty-in-stock ty-control-group__item\" id=\"in_stock_info_16637\">\\n<i class=\"material-icons\"></i>В наличии\\n</span>\\n</a>, \\n], \\n], [\\n, [\\n, <a class=\"ty-btn ty-btn__tertiary ty-add-to-wish cm-submit text-button\" data-ca-dispatch=\"dispatch[wishlist.add..16637]\" id=\"button_wishlist_16637\" title=\"Отложить\"><span><i class=\"ty-icon-heart\"></i></span></a>, \\n, <a class=\"ty-btn ty-btn__tertiary ty-add-to-compare cm-ajax cm-ajax-full-render text-button\" data-ca-target-id=\"comparison_list,account_info*\" href=\"https://hi-tech.md/index.php...\n",
       "17  [[ , [\\n, <input name=\"appearance[show_sku]\" type=\"hidden\" value=\"1\"/>, \\n, <label class=\"ty-control-group__label\" id=\"sku_16647\">КОД:</label>, \\n, <span class=\"ty-control-group__item\">Т-000017840</span>, \\n], \\n, [\\n, <input name=\"appearance[show_product_amount]\" type=\"hidden\" value=\"1\"/>, \\n, <a class=\"ty-control-group product-list-field cm-external-click\" data-ca-external-click-id=\"availability_in_stores\" href=\"#availability_in_stores\">\\n<span class=\"ty-qty-in-stock ty-control-group__item\" id=\"in_stock_info_16647\">\\n<i class=\"material-icons\"></i>В наличии\\n</span>\\n</a>, \\n], \\n], [\\n, [\\n, <a class=\"ty-btn ty-btn__tertiary ty-add-to-wish cm-submit text-button\" data-ca-dispatch=\"dispatch[wishlist.add..16647]\" id=\"button_wishlist_16647\" title=\"Отложить\"><span><i class=\"ty-icon-heart\"></i></span></a>, \\n, <a class=\"ty-btn ty-btn__tertiary ty-add-to-compare cm-ajax cm-ajax-full-render text-button\" data-ca-target-id=\"comparison_list,account_info*\" href=\"https://hi-tech.md/index.php...\n",
       "18  [[ , [\\n, <input name=\"appearance[show_sku]\" type=\"hidden\" value=\"1\"/>, \\n, <label class=\"ty-control-group__label\" id=\"sku_16656\">КОД:</label>, \\n, <span class=\"ty-control-group__item\">Т-000044640</span>, \\n], \\n, [\\n, <input name=\"appearance[show_product_amount]\" type=\"hidden\" value=\"1\"/>, \\n, <a class=\"ty-control-group product-list-field cm-external-click\" data-ca-external-click-id=\"availability_in_stores\" href=\"#availability_in_stores\">\\n<span class=\"ty-qty-in-stock ty-control-group__item\" id=\"in_stock_info_16656\">\\n<i class=\"material-icons\"></i>В наличии\\n</span>\\n</a>, \\n], \\n], [\\n, [\\n, <a class=\"ty-btn ty-btn__tertiary ty-add-to-wish cm-submit text-button\" data-ca-dispatch=\"dispatch[wishlist.add..16656]\" id=\"button_wishlist_16656\" title=\"Отложить\"><span><i class=\"ty-icon-heart\"></i></span></a>, \\n, <a class=\"ty-btn ty-btn__tertiary ty-add-to-compare cm-ajax cm-ajax-full-render text-button\" data-ca-target-id=\"comparison_list,account_info*\" href=\"https://hi-tech.md/index.php...\n",
       "19  [[ , [\\n, <input name=\"appearance[show_sku]\" type=\"hidden\" value=\"1\"/>, \\n, <label class=\"ty-control-group__label\" id=\"sku_116032\">КОД:</label>, \\n, <span class=\"ty-control-group__item\">Т-000088223</span>, \\n], \\n, [\\n, <input name=\"appearance[show_product_amount]\" type=\"hidden\" value=\"1\"/>, \\n, <a class=\"ty-control-group product-list-field cm-external-click\" data-ca-external-click-id=\"availability_in_stores\" href=\"#availability_in_stores\">\\n<span class=\"ty-qty-in-stock ty-control-group__item\" id=\"in_stock_info_116032\">\\n<i class=\"material-icons\"></i>В наличии\\n</span>\\n</a>, \\n], \\n], [\\n, [\\n, <a class=\"ty-btn ty-btn__tertiary ty-add-to-wish cm-submit text-button\" data-ca-dispatch=\"dispatch[wishlist.add..116032]\" id=\"button_wishlist_116032\" title=\"Отложить\"><span><i class=\"ty-icon-heart\"></i></span></a>, \\n, <a class=\"ty-btn ty-btn__tertiary ty-add-to-compare cm-ajax cm-ajax-full-render text-button\" data-ca-target-id=\"comparison_list,account_info*\" href=\"https://hi-tech.md/index...\n",
       "20  [[ , [\\n, <input name=\"appearance[show_sku]\" type=\"hidden\" value=\"1\"/>, \\n, <label class=\"ty-control-group__label\" id=\"sku_16632\">КОД:</label>, \\n, <span class=\"ty-control-group__item\">Т-000027459</span>, \\n], \\n, [\\n, <input name=\"appearance[show_product_amount]\" type=\"hidden\" value=\"1\"/>, \\n, <a class=\"ty-control-group product-list-field cm-external-click\" data-ca-external-click-id=\"availability_in_stores\" href=\"#availability_in_stores\">\\n<span class=\"ty-qty-in-stock ty-control-group__item\" id=\"in_stock_info_16632\">\\n<i class=\"material-icons\"></i>В наличии\\n</span>\\n</a>, \\n], \\n], [\\n, [\\n, <a class=\"ty-btn ty-btn__tertiary ty-add-to-wish cm-submit text-button\" data-ca-dispatch=\"dispatch[wishlist.add..16632]\" id=\"button_wishlist_16632\" title=\"Отложить\"><span><i class=\"ty-icon-heart\"></i></span></a>, \\n, <a class=\"ty-btn ty-btn__tertiary ty-add-to-compare cm-ajax cm-ajax-full-render text-button\" data-ca-target-id=\"comparison_list,account_info*\" href=\"https://hi-tech.md/index.php...\n",
       "21  [[ , [\\n, <input name=\"appearance[show_sku]\" type=\"hidden\" value=\"1\"/>, \\n, <label class=\"ty-control-group__label\" id=\"sku_16643\">КОД:</label>, \\n, <span class=\"ty-control-group__item\">Т-000027458</span>, \\n], \\n, [\\n, <input name=\"appearance[show_product_amount]\" type=\"hidden\" value=\"1\"/>, \\n, <a class=\"ty-control-group product-list-field cm-external-click\" data-ca-external-click-id=\"availability_in_stores\" href=\"#availability_in_stores\">\\n<span class=\"ty-qty-in-stock ty-control-group__item\" id=\"in_stock_info_16643\">\\n<i class=\"material-icons\"></i>В наличии\\n</span>\\n</a>, \\n], \\n], [\\n, [\\n, <a class=\"ty-btn ty-btn__tertiary ty-add-to-wish cm-submit text-button\" data-ca-dispatch=\"dispatch[wishlist.add..16643]\" id=\"button_wishlist_16643\" title=\"Отложить\"><span><i class=\"ty-icon-heart\"></i></span></a>, \\n, <a class=\"ty-btn ty-btn__tertiary ty-add-to-compare cm-ajax cm-ajax-full-render text-button\" data-ca-target-id=\"comparison_list,account_info*\" href=\"https://hi-tech.md/index.php...\n",
       "22  [[ , [\\n, <input name=\"appearance[show_sku]\" type=\"hidden\" value=\"1\"/>, \\n, <label class=\"ty-control-group__label\" id=\"sku_153876\">КОД:</label>, \\n, <span class=\"ty-control-group__item\">Т-000091418</span>, \\n], \\n, [\\n, <input name=\"appearance[show_product_amount]\" type=\"hidden\" value=\"1\"/>, \\n, <a class=\"ty-control-group product-list-field cm-external-click\" data-ca-external-click-id=\"availability_in_stores\" href=\"#availability_in_stores\">\\n<span class=\"ty-qty-in-stock ty-control-group__item\" id=\"in_stock_info_153876\">\\n<i class=\"material-icons\"></i>В наличии\\n</span>\\n</a>, \\n], \\n], [\\n, [\\n, <a class=\"ty-btn ty-btn__tertiary ty-add-to-wish cm-submit text-button\" data-ca-dispatch=\"dispatch[wishlist.add..153876]\" id=\"button_wishlist_153876\" title=\"Отложить\"><span><i class=\"ty-icon-heart\"></i></span></a>, \\n, <a class=\"ty-btn ty-btn__tertiary ty-add-to-compare cm-ajax cm-ajax-full-render text-button\" data-ca-target-id=\"comparison_list,account_info*\" href=\"https://hi-tech.md/index...\n",
       "23  [[ , [\\n, <input name=\"appearance[show_sku]\" type=\"hidden\" value=\"1\"/>, \\n, <label class=\"ty-control-group__label\" id=\"sku_16622\">КОД:</label>, \\n, <span class=\"ty-control-group__item\">Т-000066315</span>, \\n], \\n, [\\n, <input name=\"appearance[show_product_amount]\" type=\"hidden\" value=\"1\"/>, \\n, <a class=\"ty-control-group product-list-field cm-external-click\" data-ca-external-click-id=\"availability_in_stores\" href=\"#availability_in_stores\">\\n<span class=\"ty-qty-in-stock ty-control-group__item\" id=\"in_stock_info_16622\">\\n<i class=\"material-icons\"></i>В наличии\\n</span>\\n</a>, \\n], \\n], [\\n, [\\n, <a class=\"ty-btn ty-btn__tertiary ty-add-to-wish cm-submit text-button\" data-ca-dispatch=\"dispatch[wishlist.add..16622]\" id=\"button_wishlist_16622\" title=\"Отложить\"><span><i class=\"ty-icon-heart\"></i></span></a>, \\n, <a class=\"ty-btn ty-btn__tertiary ty-add-to-compare cm-ajax cm-ajax-full-render text-button\" data-ca-target-id=\"comparison_list,account_info*\" href=\"https://hi-tech.md/index.php...\n",
       "24  [[ , [\\n, <input name=\"appearance[show_sku]\" type=\"hidden\" value=\"1\"/>, \\n, <label class=\"ty-control-group__label\" id=\"sku_16623\">КОД:</label>, \\n, <span class=\"ty-control-group__item\">Т-000040959</span>, \\n], \\n, [\\n, <input name=\"appearance[show_product_amount]\" type=\"hidden\" value=\"1\"/>, \\n, <a class=\"ty-control-group product-list-field cm-external-click\" data-ca-external-click-id=\"availability_in_stores\" href=\"#availability_in_stores\">\\n<span class=\"ty-qty-in-stock ty-control-group__item\" id=\"in_stock_info_16623\">\\n<i class=\"material-icons\"></i>В наличии\\n</span>\\n</a>, \\n], \\n], [\\n, [\\n, <a class=\"ty-btn ty-btn__tertiary ty-add-to-wish cm-submit text-button\" data-ca-dispatch=\"dispatch[wishlist.add..16623]\" id=\"button_wishlist_16623\" title=\"Отложить\"><span><i class=\"ty-icon-heart\"></i></span></a>, \\n, <a class=\"ty-btn ty-btn__tertiary ty-add-to-compare cm-ajax cm-ajax-full-render text-button\" data-ca-target-id=\"comparison_list,account_info*\" href=\"https://hi-tech.md/index.php...\n",
       "25  [[ , [\\n, <input name=\"appearance[show_sku]\" type=\"hidden\" value=\"1\"/>, \\n, <label class=\"ty-control-group__label\" id=\"sku_16624\">КОД:</label>, \\n, <span class=\"ty-control-group__item\">Т-000017813</span>, \\n], \\n, [\\n, <input name=\"appearance[show_product_amount]\" type=\"hidden\" value=\"1\"/>, \\n, <a class=\"ty-control-group product-list-field cm-external-click\" data-ca-external-click-id=\"availability_in_stores\" href=\"#availability_in_stores\">\\n<span class=\"ty-qty-in-stock ty-control-group__item\" id=\"in_stock_info_16624\">\\n<i class=\"material-icons\"></i>В наличии\\n</span>\\n</a>, \\n], \\n], [\\n, [\\n, <a class=\"ty-btn ty-btn__tertiary ty-add-to-wish cm-submit text-button\" data-ca-dispatch=\"dispatch[wishlist.add..16624]\" id=\"button_wishlist_16624\" title=\"Отложить\"><span><i class=\"ty-icon-heart\"></i></span></a>, \\n, <a class=\"ty-btn ty-btn__tertiary ty-add-to-compare cm-ajax cm-ajax-full-render text-button\" data-ca-target-id=\"comparison_list,account_info*\" href=\"https://hi-tech.md/index.php...\n",
       "26  [[ , [\\n, <input name=\"appearance[show_sku]\" type=\"hidden\" value=\"1\"/>, \\n, <label class=\"ty-control-group__label\" id=\"sku_16626\">КОД:</label>, \\n, <span class=\"ty-control-group__item\">Т-000017814</span>, \\n], \\n, [\\n, <input name=\"appearance[show_product_amount]\" type=\"hidden\" value=\"1\"/>, \\n, <a class=\"ty-control-group product-list-field cm-external-click\" data-ca-external-click-id=\"availability_in_stores\" href=\"#availability_in_stores\">\\n<span class=\"ty-qty-in-stock ty-control-group__item\" id=\"in_stock_info_16626\">\\n<i class=\"material-icons\"></i>В наличии\\n</span>\\n</a>, \\n], \\n], [\\n, [\\n, <a class=\"ty-btn ty-btn__tertiary ty-add-to-wish cm-submit text-button\" data-ca-dispatch=\"dispatch[wishlist.add..16626]\" id=\"button_wishlist_16626\" title=\"Отложить\"><span><i class=\"ty-icon-heart\"></i></span></a>, \\n, <a class=\"ty-btn ty-btn__tertiary ty-add-to-compare cm-ajax cm-ajax-full-render text-button\" data-ca-target-id=\"comparison_list,account_info*\" href=\"https://hi-tech.md/index.php...\n",
       "27  [[ , [\\n, <input name=\"appearance[show_sku]\" type=\"hidden\" value=\"1\"/>, \\n, <label class=\"ty-control-group__label\" id=\"sku_16649\">КОД:</label>, \\n, <span class=\"ty-control-group__item\">Т-000037887</span>, \\n], \\n, [\\n, <input name=\"appearance[show_product_amount]\" type=\"hidden\" value=\"1\"/>, \\n, <a class=\"ty-control-group product-list-field cm-external-click\" data-ca-external-click-id=\"availability_in_stores\" href=\"#availability_in_stores\">\\n<span class=\"ty-qty-in-stock ty-control-group__item\" id=\"in_stock_info_16649\">\\n<i class=\"material-icons\"></i>В наличии\\n</span>\\n</a>, \\n], \\n], [\\n, [\\n, <a class=\"ty-btn ty-btn__tertiary ty-add-to-wish cm-submit text-button\" data-ca-dispatch=\"dispatch[wishlist.add..16649]\" id=\"button_wishlist_16649\" title=\"Отложить\"><span><i class=\"ty-icon-heart\"></i></span></a>, \\n, <a class=\"ty-btn ty-btn__tertiary ty-add-to-compare cm-ajax cm-ajax-full-render text-button\" data-ca-target-id=\"comparison_list,account_info*\" href=\"https://hi-tech.md/index.php...\n",
       "28  [[ , [\\n, <input name=\"appearance[show_sku]\" type=\"hidden\" value=\"1\"/>, \\n, <label class=\"ty-control-group__label\" id=\"sku_116033\">КОД:</label>, \\n, <span class=\"ty-control-group__item\">Т-000088224</span>, \\n], \\n, [\\n, <input name=\"appearance[show_product_amount]\" type=\"hidden\" value=\"1\"/>, \\n, <a class=\"ty-control-group product-list-field cm-external-click\" data-ca-external-click-id=\"availability_in_stores\" href=\"#availability_in_stores\">\\n<span class=\"ty-qty-in-stock ty-control-group__item\" id=\"in_stock_info_116033\">\\n<i class=\"material-icons\"></i>В наличии\\n</span>\\n</a>, \\n], \\n], [\\n, [\\n, <a class=\"ty-btn ty-btn__tertiary ty-add-to-wish cm-submit text-button\" data-ca-dispatch=\"dispatch[wishlist.add..116033]\" id=\"button_wishlist_116033\" title=\"Отложить\"><span><i class=\"ty-icon-heart\"></i></span></a>, \\n, <a class=\"ty-btn ty-btn__tertiary ty-add-to-compare cm-ajax cm-ajax-full-render text-button\" data-ca-target-id=\"comparison_list,account_info*\" href=\"https://hi-tech.md/index...\n",
       "29  [[ , [\\n, <input name=\"appearance[show_sku]\" type=\"hidden\" value=\"1\"/>, \\n, <label class=\"ty-control-group__label\" id=\"sku_16564\">КОД:</label>, \\n, <span class=\"ty-control-group__item\">Т-000066365</span>, \\n], \\n, [\\n, <input name=\"appearance[show_product_amount]\" type=\"hidden\" value=\"1\"/>, \\n, <a class=\"ty-control-group product-list-field cm-external-click\" data-ca-external-click-id=\"availability_in_stores\" href=\"#availability_in_stores\">\\n<span class=\"ty-qty-in-stock ty-control-group__item\" id=\"in_stock_info_16564\">\\n<i class=\"material-icons\"></i>В наличии\\n</span>\\n</a>, \\n], \\n], [\\n, [\\n, <a class=\"ty-btn ty-btn__tertiary ty-add-to-wish cm-submit text-button\" data-ca-dispatch=\"dispatch[wishlist.add..16564]\" id=\"button_wishlist_16564\" title=\"Отложить\"><span><i class=\"ty-icon-heart\"></i></span></a>, \\n, <a class=\"ty-btn ty-btn__tertiary ty-add-to-compare cm-ajax cm-ajax-full-render text-button\" data-ca-target-id=\"comparison_list,account_info*\" href=\"https://hi-tech.md/index.php...\n",
       "30  [[ , [\\n, <input name=\"appearance[show_sku]\" type=\"hidden\" value=\"1\"/>, \\n, <label class=\"ty-control-group__label\" id=\"sku_16619\">КОД:</label>, \\n, <span class=\"ty-control-group__item\">Т-000037894</span>, \\n], \\n, [\\n, <input name=\"appearance[show_product_amount]\" type=\"hidden\" value=\"1\"/>, \\n, <a class=\"ty-control-group product-list-field cm-external-click\" data-ca-external-click-id=\"availability_in_stores\" href=\"#availability_in_stores\">\\n<span class=\"ty-qty-in-stock ty-control-group__item\" id=\"in_stock_info_16619\">\\n<i class=\"material-icons\"></i>В наличии\\n</span>\\n</a>, \\n], \\n], [\\n, [\\n, <a class=\"ty-btn ty-btn__tertiary ty-add-to-wish cm-submit text-button\" data-ca-dispatch=\"dispatch[wishlist.add..16619]\" id=\"button_wishlist_16619\" title=\"Отложить\"><span><i class=\"ty-icon-heart\"></i></span></a>, \\n, <a class=\"ty-btn ty-btn__tertiary ty-add-to-compare cm-ajax cm-ajax-full-render text-button\" data-ca-target-id=\"comparison_list,account_info*\" href=\"https://hi-tech.md/index.php...\n",
       "31  [[ , [\\n, <input name=\"appearance[show_sku]\" type=\"hidden\" value=\"1\"/>, \\n, <label class=\"ty-control-group__label\" id=\"sku_16620\">КОД:</label>, \\n, <span class=\"ty-control-group__item\">Т-000037895</span>, \\n], \\n, [\\n, <input name=\"appearance[show_product_amount]\" type=\"hidden\" value=\"1\"/>, \\n, <a class=\"ty-control-group product-list-field cm-external-click\" data-ca-external-click-id=\"availability_in_stores\" href=\"#availability_in_stores\">\\n<span class=\"ty-qty-in-stock ty-control-group__item\" id=\"in_stock_info_16620\">\\n<i class=\"material-icons\"></i>В наличии\\n</span>\\n</a>, \\n], \\n], [\\n, [\\n, <a class=\"ty-btn ty-btn__tertiary ty-add-to-wish cm-submit text-button\" data-ca-dispatch=\"dispatch[wishlist.add..16620]\" id=\"button_wishlist_16620\" title=\"Отложить\"><span><i class=\"ty-icon-heart\"></i></span></a>, \\n, <a class=\"ty-btn ty-btn__tertiary ty-add-to-compare cm-ajax cm-ajax-full-render text-button\" data-ca-target-id=\"comparison_list,account_info*\" href=\"https://hi-tech.md/index.php...\n",
       "32  [[ , [\\n, <input name=\"appearance[show_sku]\" type=\"hidden\" value=\"1\"/>, \\n, <label class=\"ty-control-group__label\" id=\"sku_16648\">КОД:</label>, \\n, <span class=\"ty-control-group__item\">Т-000023836</span>, \\n], \\n, [\\n, <input name=\"appearance[show_product_amount]\" type=\"hidden\" value=\"1\"/>, \\n, <a class=\"ty-control-group product-list-field cm-external-click\" data-ca-external-click-id=\"availability_in_stores\" href=\"#availability_in_stores\">\\n<span class=\"ty-qty-in-stock ty-control-group__item\" id=\"in_stock_info_16648\">\\n<i class=\"material-icons\"></i>В наличии\\n</span>\\n</a>, \\n], \\n], [\\n, [\\n, <a class=\"ty-btn ty-btn__tertiary ty-add-to-wish cm-submit text-button\" data-ca-dispatch=\"dispatch[wishlist.add..16648]\" id=\"button_wishlist_16648\" title=\"Отложить\"><span><i class=\"ty-icon-heart\"></i></span></a>, \\n, <a class=\"ty-btn ty-btn__tertiary ty-add-to-compare cm-ajax cm-ajax-full-render text-button\" data-ca-target-id=\"comparison_list,account_info*\" href=\"https://hi-tech.md/index.php...\n",
       "33  [[ , [\\n, <input name=\"appearance[show_sku]\" type=\"hidden\" value=\"1\"/>, \\n, <label class=\"ty-control-group__label\" id=\"sku_16630\">КОД:</label>, \\n, <span class=\"ty-control-group__item\">Т-000037884</span>, \\n], \\n, [\\n, <input name=\"appearance[show_product_amount]\" type=\"hidden\" value=\"1\"/>, \\n, <a class=\"ty-control-group product-list-field cm-external-click\" data-ca-external-click-id=\"availability_in_stores\" href=\"#availability_in_stores\">\\n<span class=\"ty-qty-in-stock ty-control-group__item\" id=\"in_stock_info_16630\">\\n<i class=\"material-icons\"></i>В наличии\\n</span>\\n</a>, \\n], \\n], [\\n, [\\n, <a class=\"ty-btn ty-btn__tertiary ty-add-to-wish cm-submit text-button\" data-ca-dispatch=\"dispatch[wishlist.add..16630]\" id=\"button_wishlist_16630\" title=\"Отложить\"><span><i class=\"ty-icon-heart\"></i></span></a>, \\n, <a class=\"ty-btn ty-btn__tertiary ty-add-to-compare cm-ajax cm-ajax-full-render text-button\" data-ca-target-id=\"comparison_list,account_info*\" href=\"https://hi-tech.md/index.php...\n",
       "34  [[ , [\\n, <input name=\"appearance[show_sku]\" type=\"hidden\" value=\"1\"/>, \\n, <label class=\"ty-control-group__label\" id=\"sku_16631\">КОД:</label>, \\n, <span class=\"ty-control-group__item\">Т-000037885</span>, \\n], \\n, [\\n, <input name=\"appearance[show_product_amount]\" type=\"hidden\" value=\"1\"/>, \\n, <a class=\"ty-control-group product-list-field cm-external-click\" data-ca-external-click-id=\"availability_in_stores\" href=\"#availability_in_stores\">\\n<span class=\"ty-qty-in-stock ty-control-group__item\" id=\"in_stock_info_16631\">\\n<i class=\"material-icons\"></i>В наличии\\n</span>\\n</a>, \\n], \\n], [\\n, [\\n, <a class=\"ty-btn ty-btn__tertiary ty-add-to-wish cm-submit text-button\" data-ca-dispatch=\"dispatch[wishlist.add..16631]\" id=\"button_wishlist_16631\" title=\"Отложить\"><span><i class=\"ty-icon-heart\"></i></span></a>, \\n, <a class=\"ty-btn ty-btn__tertiary ty-add-to-compare cm-ajax cm-ajax-full-render text-button\" data-ca-target-id=\"comparison_list,account_info*\" href=\"https://hi-tech.md/index.php...\n",
       "35  [[ , [\\n, <input name=\"appearance[show_sku]\" type=\"hidden\" value=\"1\"/>, \\n, <label class=\"ty-control-group__label\" id=\"sku_16639\">КОД:</label>, \\n, <span class=\"ty-control-group__item\">Т-000027461</span>, \\n], \\n, [\\n, <input name=\"appearance[show_product_amount]\" type=\"hidden\" value=\"1\"/>, \\n, <a class=\"ty-control-group product-list-field cm-external-click\" data-ca-external-click-id=\"availability_in_stores\" href=\"#availability_in_stores\">\\n<span class=\"ty-qty-in-stock ty-control-group__item\" id=\"in_stock_info_16639\">\\n<i class=\"material-icons\"></i>В наличии\\n</span>\\n</a>, \\n], \\n], [\\n, [\\n, <a class=\"ty-btn ty-btn__tertiary ty-add-to-wish cm-submit text-button\" data-ca-dispatch=\"dispatch[wishlist.add..16639]\" id=\"button_wishlist_16639\" title=\"Отложить\"><span><i class=\"ty-icon-heart\"></i></span></a>, \\n, <a class=\"ty-btn ty-btn__tertiary ty-add-to-compare cm-ajax cm-ajax-full-render text-button\" data-ca-target-id=\"comparison_list,account_info*\" href=\"https://hi-tech.md/index.php..."
      ]
     },
     "execution_count": 6,
     "metadata": {},
     "output_type": "execute_result"
    }
   ],
   "source": [
    "data = pd.DataFrame({'soup_name':pd.Series(soup.findAll('div', class_='ypi-grid-list__item_body'),dtype = 'object')})\n",
    "data"
   ]
  },
  {
   "cell_type": "markdown",
   "id": "00ed53e4",
   "metadata": {},
   "source": [
    "data.loc[0,'soup_name'].find('span', class_=\"ty-strike\").text.replace(u'\\xa0',u'').replace(u'руб',u'')"
   ]
  },
  {
   "cell_type": "markdown",
   "id": "2b33265e",
   "metadata": {},
   "source": [
    "data.loc[5,'soup_name']"
   ]
  },
  {
   "cell_type": "markdown",
   "id": "72aa2c71",
   "metadata": {},
   "source": [
    "парсинг тестовой страници сайта "
   ]
  },
  {
   "cell_type": "markdown",
   "id": "8ce298d2",
   "metadata": {},
   "source": [
    "def names_correct(x):\n",
    "    name = str(x)\n",
    "    return  name "
   ]
  },
  {
   "cell_type": "markdown",
   "id": "ec561a51",
   "metadata": {},
   "source": [
    "data['soup_name'] = data['soup_name'].apply(names_correct)"
   ]
  },
  {
   "cell_type": "markdown",
   "id": "713e4c73",
   "metadata": {},
   "source": [
    "меняем данные парсинга на текстовый тип "
   ]
  },
  {
   "cell_type": "code",
   "execution_count": 7,
   "id": "caf0dc2d",
   "metadata": {},
   "outputs": [],
   "source": [
    "def find_id(x):\n",
    "    xxx = x.find('span', class_=\"ty-control-group__item\").text  \n",
    "    return xxx"
   ]
  },
  {
   "cell_type": "code",
   "execution_count": 8,
   "id": "0f522c3d",
   "metadata": {},
   "outputs": [],
   "source": [
    "data['id'] = data['soup_name'].apply(find_id)"
   ]
  },
  {
   "cell_type": "markdown",
   "id": "df262d57",
   "metadata": {},
   "source": [
    "находим в тексте и созаем столбец с кодами товара"
   ]
  },
  {
   "cell_type": "code",
   "execution_count": 9,
   "id": "d69b1e57",
   "metadata": {},
   "outputs": [],
   "source": [
    "data['date'] = pd.to_datetime('today').normalize()"
   ]
  },
  {
   "cell_type": "markdown",
   "id": "941e68bd",
   "metadata": {},
   "source": [
    "создаем столбец с датой парсинга"
   ]
  },
  {
   "cell_type": "code",
   "execution_count": 10,
   "id": "5594eb89",
   "metadata": {},
   "outputs": [],
   "source": [
    "def find_availability(t):\n",
    "    xxx = t.find('a', class_=\"ty-control-group product-list-field cm-external-click\").text.replace('\\ue924','').replace('\\n','')\n",
    "    return xxx"
   ]
  },
  {
   "cell_type": "code",
   "execution_count": 11,
   "id": "5bffe1bc",
   "metadata": {},
   "outputs": [],
   "source": [
    "data['availability'] = data['soup_name'].apply(find_availability)"
   ]
  },
  {
   "cell_type": "markdown",
   "id": "4d996511",
   "metadata": {},
   "source": [
    "находим в тексте и создаем столбец с наличием товара"
   ]
  },
  {
   "cell_type": "code",
   "execution_count": 12,
   "id": "e6d33de3",
   "metadata": {},
   "outputs": [],
   "source": [
    "def find_title(t):\n",
    "    xxx = t.find('a', class_=\"product-title\").text\n",
    "    return xxx"
   ]
  },
  {
   "cell_type": "code",
   "execution_count": 13,
   "id": "648e0b7c",
   "metadata": {},
   "outputs": [],
   "source": [
    "data['title'] = data['soup_name'].apply(find_title)"
   ]
  },
  {
   "cell_type": "markdown",
   "id": "e36a466d",
   "metadata": {},
   "source": [
    "находим в тексте и создаем столбец снаименованием товара"
   ]
  },
  {
   "cell_type": "code",
   "execution_count": 14,
   "id": "56b59bb4",
   "metadata": {},
   "outputs": [],
   "source": [
    "def find_price(t):\n",
    "    xxx = t.find('span', class_=\"ty-price-num\").text.replace(u'\\xa0',u'')\n",
    "    return xxx"
   ]
  },
  {
   "cell_type": "code",
   "execution_count": 15,
   "id": "9068a1bf",
   "metadata": {},
   "outputs": [],
   "source": [
    "data['price'] = data['soup_name'].apply(find_price)"
   ]
  },
  {
   "cell_type": "markdown",
   "id": "ed9b62ef",
   "metadata": {},
   "source": [
    "Находим в тексте и создаем столбец с ценой товара"
   ]
  },
  {
   "cell_type": "code",
   "execution_count": 16,
   "id": "e2e3e51e",
   "metadata": {},
   "outputs": [],
   "source": [
    "def find_old_price(t):\n",
    "    try:\n",
    "        xxx = t.find('span', class_=\"ty-strike\").text.replace(u'\\xa0',u'').replace(u'руб',u'')\n",
    "        return xxx\n",
    "    except:\n",
    "        return np.NaN"
   ]
  },
  {
   "cell_type": "code",
   "execution_count": 17,
   "id": "149cfb16",
   "metadata": {},
   "outputs": [],
   "source": [
    "data['old_price'] = data['soup_name'].apply(find_old_price)"
   ]
  },
  {
   "cell_type": "markdown",
   "id": "9c4784d1",
   "metadata": {},
   "source": [
    "Для акционного товара Находим в тексте и создаем столбец со старой ценой до начала акции"
   ]
  },
  {
   "cell_type": "code",
   "execution_count": 18,
   "id": "aa448515",
   "metadata": {},
   "outputs": [],
   "source": [
    "def find_url(t):\n",
    "    xxx = t.find('a', class_=\"abt-single-image\")['href']\n",
    "    return xxx"
   ]
  },
  {
   "cell_type": "code",
   "execution_count": 19,
   "id": "18f2730d",
   "metadata": {},
   "outputs": [],
   "source": [
    "data['soup_name'] = data['soup_name'].apply(find_url)"
   ]
  },
  {
   "cell_type": "markdown",
   "id": "db852f87",
   "metadata": {},
   "source": [
    "Находим в тексте информацию об адресе совара и переписываем эту информацию вместо парсинговой."
   ]
  },
  {
   "cell_type": "code",
   "execution_count": 20,
   "id": "5a09642a",
   "metadata": {},
   "outputs": [],
   "source": [
    "def preprocessing(x):\n",
    "    print(f'таблица имеет следующий вид:')\n",
    "    display(x.head())\n",
    "    print('*'*100)\n",
    "    print(f'таблица имеет {x.shape[0]} сторок и {x.shape[1]} столбцов')\n",
    "    print('*'*100)\n",
    "    print(f'в таблице обнаружено дублекатов:{x.duplicated().sum()}')\n",
    "    print('*'*100)\n",
    "    print('в таблице обнаружены пропуски в следующих столбцах:')\n",
    "    display(x.isna().sum())\n",
    "    print('*'*100)\n",
    "    print('Эти пропуски составлябт следующее количество в процентах')\n",
    "    display((x.isna().mean()* 100).round(1))\n",
    "    print('*'*100)\n",
    "    print('столбцы имеют следующие типы:')\n",
    "    display(x.dtypes)\n",
    "    x.columns = [y.lower().replace(' ', '_') for y in x.columns.values] \n",
    "    print('*'*100)\n",
    "    print('названия столбцов переписаны в нижнем регистре, пробелы заменены на нижнее подчеркивание')\n",
    "    print('*'*100)\n",
    "    display(x.info())"
   ]
  },
  {
   "cell_type": "markdown",
   "id": "d21da9cc",
   "metadata": {},
   "source": [
    "создаем функцию предварительного просмотра данных"
   ]
  },
  {
   "cell_type": "code",
   "execution_count": 24,
   "id": "7696c601",
   "metadata": {},
   "outputs": [],
   "source": [
    "def parsing_2(url):\n",
    "    data = pd.DataFrame(columns=['soup_name', 'id', 'date', 'availability', 'title', 'price', 'old_price'])\n",
    "    for i in tqdm(url):        \n",
    "        q = 1\n",
    "        while q>0:        \n",
    "            reqx = requests.get(i + str(q))\n",
    "            soup = bs(reqx.text, 'html.parser')\n",
    "            datax = pd.DataFrame({'soup_name':pd.Series(soup.findAll('div', class_='ypi-grid-list__item_body'),dtype = 'object')})\n",
    "            data = pd.concat([data, datax], ignore_index=True)\n",
    "            if len(list(soup.findAll('div', class_='ypi-grid-list__item_body'))) > 0:\n",
    "                q = q + 1\n",
    "            else:\n",
    "                q = 0\n",
    "    #data['soup_name'] = data['soup_name'].apply(names_correct)\n",
    "    data['id'] = data['soup_name'].apply(find_id)\n",
    "    data['date'] = pd.to_datetime('today').normalize()\n",
    "    data['availability'] = data['soup_name'].apply(find_availability)\n",
    "    data['title'] = data['soup_name'].apply(find_title)\n",
    "    data['price'] = data['soup_name'].apply(find_price)\n",
    "    data['old_price'] = data['soup_name'].apply(find_old_price)\n",
    "    data['soup_name'] = data['soup_name'].apply(find_url)\n",
    "    data['price'] = data['price'].astype(float)\n",
    "    data.loc[data['old_price'] == '','old_price'] = np.nan\n",
    "    data['old_price'] = data['old_price'].astype(float)\n",
    "    return data"
   ]
  },
  {
   "cell_type": "markdown",
   "id": "6eb85bbd",
   "metadata": {},
   "source": [
    "создаем функцию, которая по списку url проходит и парсит всю доступную информацию, преобразуя ее в датафрейм."
   ]
  },
  {
   "cell_type": "markdown",
   "id": "ea9d2f0a",
   "metadata": {},
   "source": [
    "all_url = ['https://hi-tech.md/televizory-i-elektronika/page-',\n",
    "       'https://hi-tech.md/bytovaya-tehnika/page-',\n",
    "       'https://hi-tech.md/kompyuternaya-tehnika/page-']"
   ]
  },
  {
   "cell_type": "markdown",
   "id": "a3ac8dac",
   "metadata": {},
   "source": [
    "all_url = ['https://hi-tech.md/bytovaya-tehnika/page-']"
   ]
  },
  {
   "cell_type": "code",
   "execution_count": 22,
   "id": "d6efb7a3",
   "metadata": {},
   "outputs": [],
   "source": [
    "all_url = ['https://hi-tech.md/televizory-i-elektronika/page-',\n",
    "           'https://hi-tech.md/bytovaya-tehnika/page-',\n",
    "           'https://hi-tech.md/kompyuternaya-tehnika/page-',\n",
    "           'https://hi-tech.md/mebel-tekstil/kompyuternaya-mebel/ofisnye-kresla-i-stulya/komp.-kresla/page-',\n",
    "           'https://hi-tech.md/instrumenty-i-oborudovanie/elektroinstrument/page-',\n",
    "           'https://hi-tech.md/tovary-dlya-doma/page-'\n",
    "          ]"
   ]
  },
  {
   "cell_type": "markdown",
   "id": "2b4beffa",
   "metadata": {},
   "source": [
    "список url по которым будет парсится сайт"
   ]
  },
  {
   "cell_type": "code",
   "execution_count": 25,
   "id": "064954c3",
   "metadata": {},
   "outputs": [
    {
     "data": {
      "application/vnd.jupyter.widget-view+json": {
       "model_id": "a7dcedafe98a4704af69828c956d3521",
       "version_major": 2,
       "version_minor": 0
      },
      "text/plain": [
       "  0%|          | 0/6 [00:00<?, ?it/s]"
      ]
     },
     "metadata": {},
     "output_type": "display_data"
    },
    {
     "data": {
      "text/html": [
       "<div>\n",
       "<style scoped>\n",
       "    .dataframe tbody tr th:only-of-type {\n",
       "        vertical-align: middle;\n",
       "    }\n",
       "\n",
       "    .dataframe tbody tr th {\n",
       "        vertical-align: top;\n",
       "    }\n",
       "\n",
       "    .dataframe thead th {\n",
       "        text-align: right;\n",
       "    }\n",
       "</style>\n",
       "<table border=\"1\" class=\"dataframe\">\n",
       "  <thead>\n",
       "    <tr style=\"text-align: right;\">\n",
       "      <th></th>\n",
       "      <th>soup_name</th>\n",
       "      <th>id</th>\n",
       "      <th>date</th>\n",
       "      <th>availability</th>\n",
       "      <th>title</th>\n",
       "      <th>price</th>\n",
       "      <th>old_price</th>\n",
       "    </tr>\n",
       "  </thead>\n",
       "  <tbody>\n",
       "    <tr>\n",
       "      <th>0</th>\n",
       "      <td>https://hi-tech.md/televizory-i-elektronika/batareyki-i-zaryadnye-ustroystva/batareyka-energenie-eg-ba-cr1220-01/</td>\n",
       "      <td>Т-000088228</td>\n",
       "      <td>2024-06-11</td>\n",
       "      <td>В наличии</td>\n",
       "      <td>Батарейка Energenie EG-BA-CR1220-01</td>\n",
       "      <td>4.0</td>\n",
       "      <td>NaN</td>\n",
       "    </tr>\n",
       "    <tr>\n",
       "      <th>1</th>\n",
       "      <td>https://hi-tech.md/televizory-i-elektronika/batareyki-i-zaryadnye-ustroystva/batareyka-energenie-eg-ba-cr2016-01/</td>\n",
       "      <td>Т-000088229</td>\n",
       "      <td>2024-06-11</td>\n",
       "      <td>В наличии</td>\n",
       "      <td>Батарейка Energenie EG-BA-CR2016-01</td>\n",
       "      <td>4.0</td>\n",
       "      <td>NaN</td>\n",
       "    </tr>\n",
       "    <tr>\n",
       "      <th>2</th>\n",
       "      <td>https://hi-tech.md/televizory-i-elektronika/batareyki-i-zaryadnye-ustroystva/batareyka-energenie-eg-ba-aa4-01/</td>\n",
       "      <td>Т-000088221</td>\n",
       "      <td>2024-06-11</td>\n",
       "      <td>В наличии</td>\n",
       "      <td>Батарейка Energenie EG-BA-AA4-01</td>\n",
       "      <td>5.0</td>\n",
       "      <td>NaN</td>\n",
       "    </tr>\n",
       "    <tr>\n",
       "      <th>3</th>\n",
       "      <td>https://hi-tech.md/televizory-i-elektronika/batareyki-i-zaryadnye-ustroystva/batareyka-energenie-eg-ba-aaa4-01/</td>\n",
       "      <td>Т-000088222</td>\n",
       "      <td>2024-06-11</td>\n",
       "      <td>В наличии</td>\n",
       "      <td>Батарейка Energenie EG-BA-AAA4-01</td>\n",
       "      <td>5.0</td>\n",
       "      <td>NaN</td>\n",
       "    </tr>\n",
       "    <tr>\n",
       "      <th>4</th>\n",
       "      <td>https://hi-tech.md/televizory-i-elektronika/batareyki-i-zaryadnye-ustroystva/batareyka-energenie-eg-ba-cr2025-01/</td>\n",
       "      <td>Т-000088230</td>\n",
       "      <td>2024-06-11</td>\n",
       "      <td>В наличии</td>\n",
       "      <td>Батарейка Energenie EG-BA-CR2025-01</td>\n",
       "      <td>5.0</td>\n",
       "      <td>NaN</td>\n",
       "    </tr>\n",
       "    <tr>\n",
       "      <th>...</th>\n",
       "      <td>...</td>\n",
       "      <td>...</td>\n",
       "      <td>...</td>\n",
       "      <td>...</td>\n",
       "      <td>...</td>\n",
       "      <td>...</td>\n",
       "      <td>...</td>\n",
       "    </tr>\n",
       "    <tr>\n",
       "      <th>9297</th>\n",
       "      <td>https://hi-tech.md/tovary-dlya-doma/osveschenie/lyustry/lyustra-4pl-satipo-transparent-led15w-e27-5628-tkl/</td>\n",
       "      <td>Т-000085036</td>\n",
       "      <td>2024-06-11</td>\n",
       "      <td>В наличии</td>\n",
       "      <td>Люстра 4PL SATIPO TRANSPARENT LED15W E27 (5628) (TKL)</td>\n",
       "      <td>3279.0</td>\n",
       "      <td>4099.0</td>\n",
       "    </tr>\n",
       "    <tr>\n",
       "      <th>9298</th>\n",
       "      <td>https://hi-tech.md/tovary-dlya-doma/osveschenie/lyustry/lyustra-4pl-satipo-amber-led15w-e27-5625-tkl/</td>\n",
       "      <td>Т-000085037</td>\n",
       "      <td>2024-06-11</td>\n",
       "      <td>В наличии</td>\n",
       "      <td>Люстра 4PL SATIPO AMBER LED15W E27 (5625) (TKL)</td>\n",
       "      <td>3311.0</td>\n",
       "      <td>4139.0</td>\n",
       "    </tr>\n",
       "    <tr>\n",
       "      <th>9299</th>\n",
       "      <td>https://hi-tech.md/tovary-dlya-doma/osveschenie/lyustry/lyustra-3pl-universo-black-led15w-e27-4483-tkl/</td>\n",
       "      <td>Т-000085021</td>\n",
       "      <td>2024-06-11</td>\n",
       "      <td>В наличии</td>\n",
       "      <td>Люстра 3PL UNIVERSO BLACK LED15W E27 (4483) (TKL)</td>\n",
       "      <td>3359.0</td>\n",
       "      <td>4199.0</td>\n",
       "    </tr>\n",
       "    <tr>\n",
       "      <th>9300</th>\n",
       "      <td>https://hi-tech.md/tovary-dlya-doma/osveschenie/lyustry/lyustra-6pl-fairy-black-6w-g9-4856-tkl/</td>\n",
       "      <td>Т-000085033</td>\n",
       "      <td>2024-06-11</td>\n",
       "      <td>В наличии</td>\n",
       "      <td>Люстра 6PL FAIRY BLACK 6W G9 (4856) (TKL)</td>\n",
       "      <td>3471.0</td>\n",
       "      <td>4339.0</td>\n",
       "    </tr>\n",
       "    <tr>\n",
       "      <th>9301</th>\n",
       "      <td>https://hi-tech.md/tovary-dlya-doma/osveschenie/lyustry/lyustra-6pl-fairy-gold-6w-g9-3532-tkl/</td>\n",
       "      <td>Т-000085032</td>\n",
       "      <td>2024-06-11</td>\n",
       "      <td>В наличии</td>\n",
       "      <td>Люстра 6PL FAIRY GOLD 6W G9 (3532) (TKL)</td>\n",
       "      <td>3951.0</td>\n",
       "      <td>4939.0</td>\n",
       "    </tr>\n",
       "  </tbody>\n",
       "</table>\n",
       "<p>9302 rows × 7 columns</p>\n",
       "</div>"
      ],
      "text/plain": [
       "                                                                                                              soup_name  \\\n",
       "0     https://hi-tech.md/televizory-i-elektronika/batareyki-i-zaryadnye-ustroystva/batareyka-energenie-eg-ba-cr1220-01/   \n",
       "1     https://hi-tech.md/televizory-i-elektronika/batareyki-i-zaryadnye-ustroystva/batareyka-energenie-eg-ba-cr2016-01/   \n",
       "2        https://hi-tech.md/televizory-i-elektronika/batareyki-i-zaryadnye-ustroystva/batareyka-energenie-eg-ba-aa4-01/   \n",
       "3       https://hi-tech.md/televizory-i-elektronika/batareyki-i-zaryadnye-ustroystva/batareyka-energenie-eg-ba-aaa4-01/   \n",
       "4     https://hi-tech.md/televizory-i-elektronika/batareyki-i-zaryadnye-ustroystva/batareyka-energenie-eg-ba-cr2025-01/   \n",
       "...                                                                                                                 ...   \n",
       "9297        https://hi-tech.md/tovary-dlya-doma/osveschenie/lyustry/lyustra-4pl-satipo-transparent-led15w-e27-5628-tkl/   \n",
       "9298              https://hi-tech.md/tovary-dlya-doma/osveschenie/lyustry/lyustra-4pl-satipo-amber-led15w-e27-5625-tkl/   \n",
       "9299            https://hi-tech.md/tovary-dlya-doma/osveschenie/lyustry/lyustra-3pl-universo-black-led15w-e27-4483-tkl/   \n",
       "9300                    https://hi-tech.md/tovary-dlya-doma/osveschenie/lyustry/lyustra-6pl-fairy-black-6w-g9-4856-tkl/   \n",
       "9301                     https://hi-tech.md/tovary-dlya-doma/osveschenie/lyustry/lyustra-6pl-fairy-gold-6w-g9-3532-tkl/   \n",
       "\n",
       "               id       date availability  \\\n",
       "0     Т-000088228 2024-06-11   В наличии   \n",
       "1     Т-000088229 2024-06-11   В наличии   \n",
       "2     Т-000088221 2024-06-11   В наличии   \n",
       "3     Т-000088222 2024-06-11   В наличии   \n",
       "4     Т-000088230 2024-06-11   В наличии   \n",
       "...           ...        ...          ...   \n",
       "9297  Т-000085036 2024-06-11   В наличии   \n",
       "9298  Т-000085037 2024-06-11   В наличии   \n",
       "9299  Т-000085021 2024-06-11   В наличии   \n",
       "9300  Т-000085033 2024-06-11   В наличии   \n",
       "9301  Т-000085032 2024-06-11   В наличии   \n",
       "\n",
       "                                                      title   price  old_price  \n",
       "0                       Батарейка Energenie EG-BA-CR1220-01     4.0        NaN  \n",
       "1                       Батарейка Energenie EG-BA-CR2016-01     4.0        NaN  \n",
       "2                          Батарейка Energenie EG-BA-AA4-01     5.0        NaN  \n",
       "3                         Батарейка Energenie EG-BA-AAA4-01     5.0        NaN  \n",
       "4                       Батарейка Energenie EG-BA-CR2025-01     5.0        NaN  \n",
       "...                                                     ...     ...        ...  \n",
       "9297  Люстра 4PL SATIPO TRANSPARENT LED15W E27 (5628) (TKL)  3279.0     4099.0  \n",
       "9298        Люстра 4PL SATIPO AMBER LED15W E27 (5625) (TKL)  3311.0     4139.0  \n",
       "9299      Люстра 3PL UNIVERSO BLACK LED15W E27 (4483) (TKL)  3359.0     4199.0  \n",
       "9300              Люстра 6PL FAIRY BLACK 6W G9 (4856) (TKL)  3471.0     4339.0  \n",
       "9301               Люстра 6PL FAIRY GOLD 6W G9 (3532) (TKL)  3951.0     4939.0  \n",
       "\n",
       "[9302 rows x 7 columns]"
      ]
     },
     "execution_count": 25,
     "metadata": {},
     "output_type": "execute_result"
    }
   ],
   "source": [
    "df = parsing_2(all_url)\n",
    "df"
   ]
  },
  {
   "cell_type": "markdown",
   "id": "1c2995b3",
   "metadata": {},
   "source": [
    "полученная информация"
   ]
  },
  {
   "cell_type": "code",
   "execution_count": null,
   "id": "630e3ac0",
   "metadata": {},
   "outputs": [],
   "source": [
    "preprocessing(df)"
   ]
  },
  {
   "cell_type": "code",
   "execution_count": null,
   "id": "f7dcb3c2",
   "metadata": {},
   "outputs": [],
   "source": [
    " df = df.drop_duplicates()"
   ]
  },
  {
   "cell_type": "markdown",
   "id": "ce32cb5a",
   "metadata": {
    "scrolled": true
   },
   "source": [
    "today = pd.to_datetime('today').normalize()\n",
    "today = today.to_pydatetime()\n",
    "df.to_csv('csv/hi_tech_test1_'+str(today.year)+'_'+str(today.month)+'_'+str(today.day)+'.csv', index=False)  "
   ]
  },
  {
   "cell_type": "markdown",
   "id": "17af301b",
   "metadata": {},
   "source": [
    "Переписывем датафрейм в файл"
   ]
  },
  {
   "cell_type": "markdown",
   "id": "abbe786c",
   "metadata": {},
   "source": [
    "# аналитика хайтек"
   ]
  },
  {
   "cell_type": "code",
   "execution_count": null,
   "id": "97a726ea",
   "metadata": {},
   "outputs": [],
   "source": [
    "brend = pd.read_excel('csv/brend.xlsx')"
   ]
  },
  {
   "cell_type": "code",
   "execution_count": null,
   "id": "5a4e6e8b",
   "metadata": {},
   "outputs": [],
   "source": [
    "def lower(x):\n",
    "    return x.lower()"
   ]
  },
  {
   "cell_type": "code",
   "execution_count": null,
   "id": "ac3d1d3c",
   "metadata": {},
   "outputs": [],
   "source": [
    "brend['names'] = brend['name'].apply(lower)"
   ]
  },
  {
   "cell_type": "code",
   "execution_count": null,
   "id": "88463ec0",
   "metadata": {},
   "outputs": [],
   "source": [
    "brend_up = brend.name.unique()\n",
    "brend_low = brend.names.unique()"
   ]
  },
  {
   "cell_type": "markdown",
   "id": "68058b8b",
   "metadata": {},
   "source": [
    "загружаем и создаем переменную с брендами"
   ]
  },
  {
   "cell_type": "code",
   "execution_count": null,
   "id": "22df1005",
   "metadata": {},
   "outputs": [],
   "source": [
    "df"
   ]
  },
  {
   "cell_type": "code",
   "execution_count": null,
   "id": "4f5aeb43",
   "metadata": {},
   "outputs": [],
   "source": [
    "def category(x):\n",
    "    xx = x.split('/')\n",
    "    xx = xx[3].replace('-','_')\n",
    "    return xx    "
   ]
  },
  {
   "cell_type": "code",
   "execution_count": null,
   "id": "c8f1cc0b",
   "metadata": {},
   "outputs": [],
   "source": [
    "def subcategory(x):\n",
    "    xx = x.split('/')\n",
    "    xx = xx[4].replace('-','_')\n",
    "    return xx   "
   ]
  },
  {
   "cell_type": "code",
   "execution_count": null,
   "id": "10937f64",
   "metadata": {},
   "outputs": [],
   "source": [
    "def group(x):\n",
    "    xx = x.split('/')\n",
    "    if len(xx) == 7:\n",
    "        return xx[-3].replace('-','_')\n",
    "    elif len(xx) == 8:\n",
    "        return xx[-3].replace('-','_')\n",
    "    elif len(xx) == 9:\n",
    "        return xx[-4].replace('-','_')\n",
    "    elif len(xx) == 10:\n",
    "        return xx[-5].replace('-','_')\n",
    "    elif len(xx) == 11:\n",
    "        return xx[-6].replace('-','_')  "
   ]
  },
  {
   "cell_type": "markdown",
   "id": "849d22e8",
   "metadata": {},
   "source": [
    "создаем вспомогательные функции"
   ]
  },
  {
   "cell_type": "code",
   "execution_count": null,
   "id": "469c69ac",
   "metadata": {},
   "outputs": [],
   "source": [
    "df['action_sale'] = 0"
   ]
  },
  {
   "cell_type": "code",
   "execution_count": null,
   "id": "e562294a",
   "metadata": {},
   "outputs": [],
   "source": [
    "df.loc[df['old_price'] > 0,'action_sale'] = 1"
   ]
  },
  {
   "cell_type": "markdown",
   "id": "6d669ef9",
   "metadata": {},
   "source": [
    "создаем столбец который показывает является ли товар акционным(1 - акционный, 0 - не акционный)"
   ]
  },
  {
   "cell_type": "code",
   "execution_count": null,
   "id": "f96150c2",
   "metadata": {},
   "outputs": [],
   "source": [
    "df['sale'] = (100 - ((df['price']*100)/df['old_price'])).round(2) "
   ]
  },
  {
   "cell_type": "markdown",
   "id": "63f425c2",
   "metadata": {},
   "source": [
    "создаем столбец показывающий скидку в процентах"
   ]
  },
  {
   "cell_type": "code",
   "execution_count": null,
   "id": "2017904c",
   "metadata": {},
   "outputs": [],
   "source": [
    "df['category'] = df['soup_name'].apply(category)"
   ]
  },
  {
   "cell_type": "markdown",
   "id": "49fc2893",
   "metadata": {},
   "source": [
    "Создаем столбец показывающий категорию товаров"
   ]
  },
  {
   "cell_type": "code",
   "execution_count": null,
   "id": "79790d09",
   "metadata": {},
   "outputs": [],
   "source": [
    "df['subcategory'] = df['soup_name'].apply(subcategory)"
   ]
  },
  {
   "cell_type": "markdown",
   "id": "c4d3e6ea",
   "metadata": {},
   "source": [
    "создаем столбец показывающий подкатегорию товаров"
   ]
  },
  {
   "cell_type": "code",
   "execution_count": null,
   "id": "33af0a93",
   "metadata": {},
   "outputs": [],
   "source": [
    "df['group'] = df['soup_name'].apply(group)"
   ]
  },
  {
   "cell_type": "markdown",
   "id": "e0ea58de",
   "metadata": {},
   "source": [
    "создаем столбец показывающий группу товаров"
   ]
  },
  {
   "cell_type": "code",
   "execution_count": null,
   "id": "4a7a62e4",
   "metadata": {},
   "outputs": [],
   "source": [
    "df.loc[df['subcategory']=='monitory','group'] = 'monitory'"
   ]
  },
  {
   "cell_type": "markdown",
   "id": "bb6985a6",
   "metadata": {},
   "source": [
    "в подкатегории мониторы меняем названия групп на мониторы"
   ]
  },
  {
   "cell_type": "code",
   "execution_count": null,
   "id": "cddc565e",
   "metadata": {},
   "outputs": [],
   "source": [
    "df.head()"
   ]
  },
  {
   "cell_type": "code",
   "execution_count": null,
   "id": "c1396a25",
   "metadata": {},
   "outputs": [],
   "source": [
    "df['category'].unique()"
   ]
  },
  {
   "cell_type": "code",
   "execution_count": null,
   "id": "540df2f4",
   "metadata": {},
   "outputs": [],
   "source": [
    "df['subcategory'].unique()"
   ]
  },
  {
   "cell_type": "code",
   "execution_count": null,
   "id": "46c4776a",
   "metadata": {},
   "outputs": [],
   "source": [
    "df.group.unique()"
   ]
  },
  {
   "cell_type": "markdown",
   "id": "e5bd38a2",
   "metadata": {},
   "source": [
    "проссматриваем названия категорий подкатегорий и групп товаров"
   ]
  },
  {
   "cell_type": "code",
   "execution_count": null,
   "id": "fd3d97e5",
   "metadata": {},
   "outputs": [],
   "source": [
    "df.loc[df['group'].isna(),'group'] = 'No_group'"
   ]
  },
  {
   "cell_type": "markdown",
   "id": "aaaaf3e5",
   "metadata": {},
   "source": [
    "удалеем из столбца group все значения None"
   ]
  },
  {
   "cell_type": "code",
   "execution_count": null,
   "id": "30c11169",
   "metadata": {},
   "outputs": [],
   "source": [
    "def count_group(x):\n",
    "    return df[df['group']==x]['id'].count()    "
   ]
  },
  {
   "cell_type": "code",
   "execution_count": null,
   "id": "e37c2f0c",
   "metadata": {},
   "outputs": [],
   "source": [
    "tqdm.pandas()\n",
    "df['count_group'] = df['group'].progress_apply(count_group)"
   ]
  },
  {
   "cell_type": "markdown",
   "id": "0e8efdc1",
   "metadata": {},
   "source": [
    "создание столбца с количеством товара в группе"
   ]
  },
  {
   "cell_type": "code",
   "execution_count": null,
   "id": "d27d6fcc",
   "metadata": {},
   "outputs": [],
   "source": [
    "def count_group_presence(x):\n",
    "    return df[(df['availability']=='В наличии')&(df['group']==x)]['id'].count()   "
   ]
  },
  {
   "cell_type": "code",
   "execution_count": null,
   "id": "8eefa94f",
   "metadata": {},
   "outputs": [],
   "source": [
    "tqdm.pandas()\n",
    "df['count_group_presence'] = df['group'].progress_apply(count_group_presence)"
   ]
  },
  {
   "cell_type": "markdown",
   "id": "22092d0e",
   "metadata": {},
   "source": [
    "создание столбца с количеством товара, который есть в наличии, в группе"
   ]
  },
  {
   "cell_type": "code",
   "execution_count": null,
   "id": "08fac5d3",
   "metadata": {},
   "outputs": [],
   "source": [
    "def dif_price(x):    \n",
    "    max_price = df[(df['availability']=='В наличии')&(df['group']==x)]['price'].max()\n",
    "    min_price = df[(df['availability']=='В наличии')&(df['group']==x)]['price'].min() \n",
    "    return max_price / min_price"
   ]
  },
  {
   "cell_type": "code",
   "execution_count": null,
   "id": "b61e6a6e",
   "metadata": {},
   "outputs": [],
   "source": [
    "tqdm.pandas()\n",
    "df['dif_price'] = df['group'].progress_apply(dif_price)"
   ]
  },
  {
   "cell_type": "markdown",
   "id": "5feb0b17",
   "metadata": {},
   "source": [
    "создам столбец с отношением самой дорогой цены в группе к самой дешевой."
   ]
  },
  {
   "cell_type": "code",
   "execution_count": null,
   "id": "9de9d8e9",
   "metadata": {},
   "outputs": [],
   "source": [
    "def brends(x):\n",
    "    xx = x.replace('\\xa0', ' ')\n",
    "    xx = xx.split(' ')    \n",
    "    for i in range(len(xx)-1):\n",
    "        if xx[i].lower() in brend_low:\n",
    "            return xx[i].lower()\n",
    "        elif (str(xx[i].lower())+' '+str(xx[i+1].lower())) in brend_low:\n",
    "            return (str(xx[i].lower())+' '+str(xx[i+1].lower()))    \n",
    "    else:    \n",
    "        return 'другой'"
   ]
  },
  {
   "cell_type": "code",
   "execution_count": null,
   "id": "d3863bbc",
   "metadata": {},
   "outputs": [],
   "source": [
    "tqdm.pandas()\n",
    "df['brend'] = df['title'].progress_apply(brends)"
   ]
  },
  {
   "cell_type": "code",
   "execution_count": null,
   "id": "f1132a94",
   "metadata": {},
   "outputs": [],
   "source": [
    "df['group_prise'] = df.groupby('group')['price'].transform(lambda x: pd.cut(x, bins = 4, labels=[\"бюджет\", \"стандарт\", \"элит\", \"топ\"]))"
   ]
  },
  {
   "cell_type": "code",
   "execution_count": null,
   "id": "de8416bc",
   "metadata": {},
   "outputs": [],
   "source": [
    "today = pd.to_datetime('today').normalize()\n",
    "today = today.to_pydatetime()\n",
    "df.to_csv('csv/hi_tech_sity_'+str(today.year)+'_'+str(today.month)+'_'+str(today.day)+'.csv', index=False)  "
   ]
  },
  {
   "cell_type": "markdown",
   "id": "1b7e5d9b",
   "metadata": {},
   "source": [
    "# Добавление остатков по магазинам"
   ]
  },
  {
   "cell_type": "code",
   "execution_count": null,
   "id": "18a5594b",
   "metadata": {},
   "outputs": [],
   "source": [
    "def count_sity(x):\n",
    "    try:\n",
    "        reqx = requests.get(x)\n",
    "        soup = bs(reqx.text, 'html.parser')    \n",
    "        element = soup.findAll('div', class_='ty-warehouses-store__availability')\n",
    "        elem_2 = soup.findAll('div', class_='ty-breadcrumbs clearfix')\n",
    "        name = soup.findAll('span', class_='ty-breadcrumbs__current')\n",
    "        data = []\n",
    "        if len(element) == 14:\n",
    "            data.append(element[0].text.strip().replace('В наличии', '1').replace('Нет в наличии','0')\n",
    "            .replace('Под заказ (1-3 дня)','0').replace('nan','0'))    \n",
    "            data.append(element[1].text.strip().replace('В наличии', '1').replace('Нет в наличии','0')\n",
    "            .replace('Под заказ (1-3 дня)','0').replace('nan','0'))\n",
    "            data.append(element[2].text.strip().replace('В наличии', '1').replace('Нет в наличии','0')\n",
    "            .replace('Под заказ (1-3 дня)','0').replace('nan','0'))\n",
    "            data.append(element[3].text.strip().replace('В наличии', '1').replace('Нет в наличии','0')\n",
    "            .replace('Под заказ (1-3 дня)','0').replace('nan','0'))\n",
    "            data.append(element[4].text.strip().replace('В наличии', '1').replace('Нет в наличии','0')\n",
    "            .replace('Под заказ (1-3 дня)','0').replace('nan','0')) \n",
    "            data.append(element[5].text.strip().replace('В наличии', '1').replace('Нет в наличии','0')\n",
    "            .replace('Под заказ (1-3 дня)','0').replace('nan','0'))\n",
    "            data.append(element[6].text.strip().replace('В наличии', '1').replace('Нет в наличии','0')\n",
    "            .replace('Под заказ (1-3 дня)','0').replace('nan','0'))\n",
    "            data.append(element[7].text.strip().replace('В наличии', '1').replace('Нет в наличии','0')\n",
    "            .replace('Под заказ (1-3 дня)','0').replace('nan','0'))\n",
    "            data.append(element[8].text.strip().replace('В наличии', '1').replace('Нет в наличии','0')\n",
    "            .replace('Под заказ (1-3 дня)','0').replace('nan','0'))\n",
    "            data.append(element[9].text.strip().replace('В наличии', '1').replace('Нет в наличии','0')\n",
    "            .replace('Под заказ (1-3 дня)','0').replace('nan','0'))\n",
    "            data.append(element[10].text.strip().replace('В наличии', '1').replace('Нет в наличии','0')\n",
    "            .replace('Под заказ (1-3 дня)','0').replace('nan','0'))\n",
    "            data.append(element[11].text.strip().replace('В наличии', '1').replace('Нет в наличии','0')\n",
    "            .replace('Под заказ (1-3 дня)','0').replace('nan','0'))\n",
    "            data.append(element[12].text.strip().replace('В наличии', '1').replace('Нет в наличии','0')\n",
    "            .replace('Под заказ (1-3 дня)','0').replace('nan','0'))\n",
    "            data.append(element[13].text.strip().replace('В наличии', '1').replace('Нет в наличии','0')\n",
    "            .replace('Под заказ (1-3 дня)','0').replace('nan','0'))\n",
    "            data.append(0)\n",
    "            if name[0].text.find('/')<0:\n",
    "                ss = elem_2[0].text\n",
    "            else:\n",
    "                ss = elem_2[0].text[:elem_2[0].text.rfind('/')] + ' ' + elem_2[0].text[elem_2[0].text.rfind('/')+1:]           \n",
    "\n",
    "            if len(ss.split('/')) == 3:\n",
    "                data.append(ss.split(\"/\")[1])\n",
    "                data.append(ss.split(\"/\")[2])\n",
    "                data.append(ss.split(\"/\")[2])\n",
    "                data.append(len(ss.split('/')))\n",
    "            elif len(ss.split('/')) == 4:\n",
    "                data.append(ss.split(\"/\")[1])\n",
    "                data.append(ss.split(\"/\")[2])\n",
    "                data.append(ss.split(\"/\")[2])  \n",
    "                data.append(len(ss.split('/')))\n",
    "            elif len(ss.split('/')) == 5:\n",
    "                data.append(ss.split(\"/\")[1])\n",
    "                data.append(ss.split(\"/\")[2])\n",
    "                data.append(ss.split(\"/\")[3]) \n",
    "                data.append(len(ss.split('/')))\n",
    "            elif len(ss.split('/')) == 6:\n",
    "                data.append(ss.split(\"/\")[1])\n",
    "                data.append(ss.split(\"/\")[2])\n",
    "                data.append(ss.split(\"/\")[-3])  \n",
    "                data.append(len(ss.split('/')))\n",
    "            elif len(ss.split('/')) == 7:\n",
    "                data.append(ss.split(\"/\")[1])\n",
    "                data.append(ss.split(\"/\")[2])\n",
    "                data.append(ss.split(\"/\")[-4])  \n",
    "                data.append(len(ss.split('/')))\n",
    "            elif len(ss.split('/')) == 8:\n",
    "                data.append(ss.split(\"/\")[1])\n",
    "                data.append(ss.split(\"/\")[2])\n",
    "                data.append(ss.split(\"/\")[-5])  \n",
    "                data.append(len(ss.split('/')))\n",
    "            elif len(ss.split('/')) == 9:\n",
    "                data.append(ss.split(\"/\")[1])\n",
    "                data.append(ss.split(\"/\")[2])\n",
    "                data.append(ss.split(\"/\")[-6]) \n",
    "                data.append(len(ss.split('/')))\n",
    "            return data\n",
    "        else:\n",
    "            data.append(0)\n",
    "            data.append(0)\n",
    "            data.append(0)\n",
    "            data.append(0)\n",
    "            data.append(0)\n",
    "            data.append(0)\n",
    "            data.append(0)\n",
    "            data.append(0)\n",
    "            data.append(0)\n",
    "            data.append(0)\n",
    "            data.append(0)\n",
    "            data.append(0)\n",
    "            data.append(0)\n",
    "            data.append(0)\n",
    "            data.append(1)\n",
    "            if len(ss.split('/')) == 3:\n",
    "                data.append(ss.split(\"/\")[1])\n",
    "                data.append(ss.split(\"/\")[2])\n",
    "                data.append(ss.split(\"/\")[2])\n",
    "                data.append(len(ss.split('/')))\n",
    "            elif len(ss.split('/')) == 4:\n",
    "                data.append(ss.split(\"/\")[1])\n",
    "                data.append(ss.split(\"/\")[2])\n",
    "                data.append(ss.split(\"/\")[2])  \n",
    "                data.append(len(ss.split('/')))\n",
    "            elif len(ss.split('/')) == 5:\n",
    "                data.append(ss.split(\"/\")[1])\n",
    "                data.append(ss.split(\"/\")[2])\n",
    "                data.append(ss.split(\"/\")[3]) \n",
    "                data.append(len(ss.split('/')))\n",
    "            elif len(ss.split('/')) == 6:\n",
    "                data.append(ss.split(\"/\")[1])\n",
    "                data.append(ss.split(\"/\")[2])\n",
    "                data.append(ss.split(\"/\")[-3])  \n",
    "                data.append(len(ss.split('/')))\n",
    "            elif len(ss.split('/')) == 7:\n",
    "                data.append(ss.split(\"/\")[1])\n",
    "                data.append(ss.split(\"/\")[2])\n",
    "                data.append(ss.split(\"/\")[-4])  \n",
    "                data.append(len(ss.split('/')))\n",
    "            elif len(ss.split('/')) == 8:\n",
    "                data.append(ss.split(\"/\")[1])\n",
    "                data.append(ss.split(\"/\")[2])\n",
    "                data.append(ss.split(\"/\")[-5])  \n",
    "                data.append(len(ss.split('/')))\n",
    "            elif len(ss.split('/')) == 9:\n",
    "                data.append(ss.split(\"/\")[1])\n",
    "                data.append(ss.split(\"/\")[2])\n",
    "                data.append(ss.split(\"/\")[-6]) \n",
    "                data.append(len(ss.split('/')))\n",
    "            return data\n",
    "    except:\n",
    "        pass\n"
   ]
  },
  {
   "cell_type": "code",
   "execution_count": null,
   "id": "2cb8c15c",
   "metadata": {
    "scrolled": true
   },
   "outputs": [],
   "source": [
    "tqdm.pandas()\n",
    "df['count_sity']= df['soup_name'].progress_apply(count_sity)"
   ]
  },
  {
   "cell_type": "code",
   "execution_count": null,
   "id": "5333d83f",
   "metadata": {},
   "outputs": [],
   "source": [
    "df['Тир_Юности_14А'] = df['count_sity'].str[0]\n",
    "df['Ц_Тир_25_Октября_69'] = df['count_sity'].str[1]\n",
    "df['Бенд_Спортивная_5'] = df['count_sity'].str[2]\n",
    "df['Бенд_Советская_5'] = df['count_sity'].str[3]\n",
    "df['Бенд_Советская_8'] = df['count_sity'].str[4]\n",
    "df['СЛОБОДЗЕЯ'] = df['count_sity'].str[5]\n",
    "df['ДНЕСТРОВСК'] = df['count_sity'].str[6]\n",
    "df['Первомайск'] = df['count_sity'].str[7]\n",
    "df['Григ_КМаркса_181А'] = df['count_sity'].str[8]\n",
    "df['Григ_КМаркса_172'] = df['count_sity'].str[9]\n",
    "df['ДУБОССАРЫ'] = df['count_sity'].str[10]\n",
    "df['Рыбн_Вальченко_43'] = df['count_sity'].str[11]\n",
    "df['Рыбн_Кирова_135'] = df['count_sity'].str[12]\n",
    "df['Каменка'] = df['count_sity'].str[13]\n",
    "df['_category'] = df['count_sity'].str[15]\n",
    "df['_subcategory'] = df['count_sity'].str[16]\n",
    "df['_group'] = df['count_sity'].str[17]\n",
    "df['len'] = df['count_sity'].str[18]"
   ]
  },
  {
   "cell_type": "code",
   "execution_count": null,
   "id": "cdea4329",
   "metadata": {},
   "outputs": [],
   "source": [
    "df = df[~(df['Тир_Юности_14А'].isnull())]"
   ]
  },
  {
   "cell_type": "code",
   "execution_count": null,
   "id": "ab07bb41",
   "metadata": {},
   "outputs": [],
   "source": [
    "df['Тир_Юности_14А'] = df['Тир_Юности_14А'].astype('int')\n",
    "df['Ц_Тир_25_Октября_69'] = df['Ц_Тир_25_Октября_69'].astype('int')\n",
    "df['ТИРАСПОЛЬ'] = df['Тир_Юности_14А'] + df['Ц_Тир_25_Октября_69']\n",
    "df['Бенд_Спортивная_5'] = df['Бенд_Спортивная_5'].astype('int')\n",
    "df['Бенд_Советская_5'] = df['Бенд_Советская_5'].astype('int')\n",
    "df['Бенд_Советская_8'] = df['Бенд_Советская_8'].astype('int')\n",
    "df['БЕНДЕРЫ'] = df['Бенд_Спортивная_5'] + df['Бенд_Советская_5'] + df['Бенд_Советская_8']\n",
    "df['СЛОБОДЗЕЯ'] = df['СЛОБОДЗЕЯ'].astype('int')\n",
    "df['ДНЕСТРОВСК'] = df['ДНЕСТРОВСК'].astype('int')\n",
    "df['Первомайск'] = df['Первомайск'].astype('int')\n",
    "df['Григ_КМаркса_181А'] = df['Григ_КМаркса_181А'].astype('int')\n",
    "df['Григ_КМаркса_172'] = df['Григ_КМаркса_172'].astype('int')\n",
    "df['Григориополь'] = df['Григ_КМаркса_181А'] + df['Григ_КМаркса_172']\n",
    "df['ДУБОССАРЫ'] = df['ДУБОССАРЫ'].astype('int')\n",
    "df['Рыбн_Вальченко_43'] = df['Рыбн_Вальченко_43'].astype('int')\n",
    "df['Рыбн_Кирова_135'] = df['Рыбн_Кирова_135'].astype('int')\n",
    "df['РЫБНИЦА'] = df['Рыбн_Вальченко_43'] + df['Рыбн_Кирова_135']\n",
    "df['Каменка'] = df['Каменка'].astype('int')"
   ]
  },
  {
   "cell_type": "code",
   "execution_count": null,
   "id": "7c7f9b32",
   "metadata": {},
   "outputs": [],
   "source": [
    "df.drop(['count_sity'], axis= 1 , inplace= True )"
   ]
  },
  {
   "cell_type": "code",
   "execution_count": null,
   "id": "86d41bc1",
   "metadata": {
    "scrolled": false
   },
   "outputs": [],
   "source": [
    "preprocessing(df)"
   ]
  },
  {
   "cell_type": "code",
   "execution_count": null,
   "id": "10ff610b",
   "metadata": {},
   "outputs": [],
   "source": [
    "separator_categori = ['Товар без акции', 'Акция', 'Товар по акции']"
   ]
  },
  {
   "cell_type": "code",
   "execution_count": null,
   "id": "5bf57474",
   "metadata": {},
   "outputs": [],
   "source": [
    "for i in separator_categori:\n",
    "    df.loc[df['_categori'] == i,'_subcategory'] = i\n",
    "    df.loc[df['_categori'] == i,'_group'] = i"
   ]
  },
  {
   "cell_type": "code",
   "execution_count": null,
   "id": "3324c55f",
   "metadata": {},
   "outputs": [],
   "source": [
    "df.to_csv('csv/hi_tech_end_'+str(today.year)+'_'+str(today.month)+'_'+str(today.day)+'.csv', index=False)  "
   ]
  },
  {
   "cell_type": "code",
   "execution_count": null,
   "id": "4eb49480",
   "metadata": {},
   "outputs": [],
   "source": [
    "df.head(2)"
   ]
  },
  {
   "cell_type": "code",
   "execution_count": null,
   "id": "866f4f5b",
   "metadata": {
    "scrolled": false
   },
   "outputs": [],
   "source": [
    "df._group.unique()"
   ]
  },
  {
   "cell_type": "code",
   "execution_count": null,
   "id": "b6afb285",
   "metadata": {},
   "outputs": [],
   "source": [
    "df._subcategory.unique()"
   ]
  },
  {
   "cell_type": "code",
   "execution_count": null,
   "id": "9daea6de",
   "metadata": {},
   "outputs": [],
   "source": [
    "dd = ['Батарейки и зарядные устройства', 'Крепления для тв',\n",
    "       'Аудиосистемы', 'Смартфоны и аксессуары', 'Мультимедиа',\n",
    "       'Приставки для ТВ', 'Гаджеты', 'Телефоны dect и проводные',\n",
    "       'Apple', 'Видеотехника', 'Товар без акции', 'Умный дом с Яндекс',\n",
    "       'Телевизоры', 'Пылесосы и аксессуары', 'Техника karcher',\n",
    "       'Аксессуары для мелкой бытовой техники',\n",
    "       'Товары для ухода за одеждой', 'Минимойки',\n",
    "       'Приготовление напитков', 'Мелкая техника для кухни',\n",
    "       'Техника для красоты', 'Стиральные и сушильные машины',\n",
    "       'Крупная техника для кухни', 'Техника для здоровья',\n",
    "       'Климатическая техника', 'Установка бытовой техники',\n",
    "       'Приготовление пищи', 'Техника для дома', 'Накопители',\n",
    "       'Сетевое оборудование', 'Аксессуары', 'Расходные материалы',\n",
    "       'Периферийные устройства', 'Оргтехника', 'Комплектующие',\n",
    "       'Крепления', 'Электропитание', 'Игровые приставки',\n",
    "       'Товар по акции', 'Мониторы', 'Проекторы и экраны',\n",
    "       'Готовые решения', 'Мебель для офиса', 'Электроинструменты',\n",
    "       'Сервировка стола', 'Кухонные принадлежности', 'Освещение',\n",
    "       'Посуда для духовок и микроволновых печей', 'Бытовая химия']"
   ]
  },
  {
   "cell_type": "code",
   "execution_count": null,
   "id": "859607a9",
   "metadata": {
    "scrolled": false
   },
   "outputs": [],
   "source": [
    "for i in dd:\n",
    "    t = df[df['_subcategory']==i]\n",
    "    print(i)\n",
    "    print(t._group.unique())\n",
    "    print('-'*100)"
   ]
  },
  {
   "cell_type": "code",
   "execution_count": null,
   "id": "c67a50b2",
   "metadata": {},
   "outputs": [],
   "source": [
    "t._group.unique()"
   ]
  },
  {
   "cell_type": "code",
   "execution_count": null,
   "id": "eac72d01",
   "metadata": {},
   "outputs": [],
   "source": [
    "df.head(2)"
   ]
  },
  {
   "cell_type": "code",
   "execution_count": null,
   "id": "7fbabc9a",
   "metadata": {},
   "outputs": [],
   "source": [
    "df.len.unique()"
   ]
  },
  {
   "cell_type": "code",
   "execution_count": null,
   "id": "193b6c0b",
   "metadata": {},
   "outputs": [],
   "source": [
    "df[df['len'] == 9]"
   ]
  },
  {
   "cell_type": "code",
   "execution_count": null,
   "id": "73b1a6b5",
   "metadata": {},
   "outputs": [],
   "source": []
  }
 ],
 "metadata": {
  "kernelspec": {
   "display_name": "Python 3 (ipykernel)",
   "language": "python",
   "name": "python3"
  },
  "language_info": {
   "codemirror_mode": {
    "name": "ipython",
    "version": 3
   },
   "file_extension": ".py",
   "mimetype": "text/x-python",
   "name": "python",
   "nbconvert_exporter": "python",
   "pygments_lexer": "ipython3",
   "version": "3.11.4"
  }
 },
 "nbformat": 4,
 "nbformat_minor": 5
}
