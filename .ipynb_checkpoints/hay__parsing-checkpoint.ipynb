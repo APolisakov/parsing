{
 "cells": [
  {
   "cell_type": "markdown",
   "id": "eacccf3d",
   "metadata": {},
   "source": [
    "# parsing хайтек"
   ]
  },
  {
   "cell_type": "code",
   "execution_count": 1,
   "id": "c0a16e5a",
   "metadata": {},
   "outputs": [],
   "source": [
    "import pandas as pd\n",
    "import numpy as np\n",
    "import requests\n",
    "from bs4 import BeautifulSoup as bs\n",
    "import re\n",
    "from tqdm import trange, tqdm\n",
    "from IPython.display import display"
   ]
  },
  {
   "cell_type": "markdown",
   "id": "50e2394a",
   "metadata": {},
   "source": [
    "импорт библиотек"
   ]
  },
  {
   "cell_type": "code",
   "execution_count": 2,
   "id": "6911eae7",
   "metadata": {},
   "outputs": [],
   "source": [
    "pd.set_option('display.max_colwidth', 1000)\n",
    "pd.set_option('display.max_columns', 1000)"
   ]
  },
  {
   "cell_type": "code",
   "execution_count": 3,
   "id": "064c382c",
   "metadata": {},
   "outputs": [],
   "source": [
    "reqx = requests.get('https://hi-tech.md/kompyuternaya-tehnika/sport-i-otdyh/hd-cvi-kamery/ip-kamery/')"
   ]
  },
  {
   "cell_type": "code",
   "execution_count": 4,
   "id": "ddcf2fda",
   "metadata": {},
   "outputs": [],
   "source": [
    "soup = bs(reqx.text, 'html.parser')"
   ]
  },
  {
   "cell_type": "code",
   "execution_count": 5,
   "id": "b520f4c1",
   "metadata": {
    "scrolled": true
   },
   "outputs": [
    {
     "data": {
      "text/html": [
       "<div>\n",
       "<style scoped>\n",
       "    .dataframe tbody tr th:only-of-type {\n",
       "        vertical-align: middle;\n",
       "    }\n",
       "\n",
       "    .dataframe tbody tr th {\n",
       "        vertical-align: top;\n",
       "    }\n",
       "\n",
       "    .dataframe thead th {\n",
       "        text-align: right;\n",
       "    }\n",
       "</style>\n",
       "<table border=\"1\" class=\"dataframe\">\n",
       "  <thead>\n",
       "    <tr style=\"text-align: right;\">\n",
       "      <th></th>\n",
       "      <th>soup_name</th>\n",
       "    </tr>\n",
       "  </thead>\n",
       "  <tbody>\n",
       "    <tr>\n",
       "      <th>0</th>\n",
       "      <td>[[ , [\\n, &lt;input name=\"appearance[show_sku]\" type=\"hidden\" value=\"1\"&gt;\\n&lt;label class=\"ty-control-group__label\" id=\"sku_42965\"&gt;КОД:&lt;/label&gt;\\n&lt;span class=\"ty-control-group__item\"&gt;Т-000072435&lt;/span&gt;\\n&lt;/input&gt;], \\n, [\\n, &lt;input name=\"appearance[show_product_amount]\" type=\"hidden\" value=\"1\"&gt;\\n&lt;a class=\"ty-control-group product-list-field cm-external-click\" data-ca-external-click-id=\"availability_in_stores\" href=\"#availability_in_stores\"&gt;\\n&lt;span class=\"ty-qty-in-stock preorder ty-control-group__item\" id=\"in_stock_info_42965\"&gt;\\n&lt;i class=\"material-icons\"&gt;&lt;/i&gt;Предзаказ\\n&lt;/span&gt;\\n&lt;/a&gt;\\n&lt;/input&gt;], \\n], [\\n, [\\n, &lt;a class=\"ty-btn ty-btn__tertiary ty-add-to-wish cm-submit text-button\" data-ca-dispatch=\"dispatch[wishlist.add..42965]\" id=\"button_wishlist_42965\" title=\"Отложить\"&gt;&lt;span&gt;&lt;i class=\"ty-icon-heart\"&gt;&lt;/i&gt;&lt;/span&gt;&lt;/a&gt;, \\n, &lt;a class=\"ty-btn ty-btn__tertiary ty-add-to-compare cm-ajax cm-ajax-full-render text-button\" data-ca-target-id=\"comparison_list,account_info*\" href=\"https://hi-tech.md/in...</td>\n",
       "    </tr>\n",
       "    <tr>\n",
       "      <th>1</th>\n",
       "      <td>[[ , [\\n, &lt;input name=\"appearance[show_sku]\" type=\"hidden\" value=\"1\"/&gt;, \\n, &lt;label class=\"ty-control-group__label\" id=\"sku_42964\"&gt;КОД:&lt;/label&gt;, \\n, &lt;span class=\"ty-control-group__item\"&gt;Т-000072433&lt;/span&gt;, \\n], \\n, [\\n, &lt;input name=\"appearance[show_product_amount]\" type=\"hidden\" value=\"1\"/&gt;, \\n, &lt;a class=\"ty-control-group product-list-field cm-external-click\" data-ca-external-click-id=\"availability_in_stores\" href=\"#availability_in_stores\"&gt;\\n&lt;span class=\"ty-qty-in-stock preorder ty-control-group__item\" id=\"in_stock_info_42964\"&gt;\\n&lt;i class=\"material-icons\"&gt;&lt;/i&gt;Предзаказ\\n&lt;/span&gt;\\n&lt;/a&gt;, \\n], \\n], [\\n, [\\n, &lt;a class=\"ty-btn ty-btn__tertiary ty-add-to-wish cm-submit text-button\" data-ca-dispatch=\"dispatch[wishlist.add..42964]\" id=\"button_wishlist_42964\" title=\"Отложить\"&gt;&lt;span&gt;&lt;i class=\"ty-icon-heart\"&gt;&lt;/i&gt;&lt;/span&gt;&lt;/a&gt;, \\n, &lt;a class=\"ty-btn ty-btn__tertiary ty-add-to-compare cm-ajax cm-ajax-full-render text-button\" data-ca-target-id=\"comparison_list,account_info*\" href=\"https://hi-tech.md/...</td>\n",
       "    </tr>\n",
       "    <tr>\n",
       "      <th>2</th>\n",
       "      <td>[[ , [\\n, &lt;input name=\"appearance[show_sku]\" type=\"hidden\" value=\"1\"/&gt;, \\n, &lt;label class=\"ty-control-group__label\" id=\"sku_42963\"&gt;КОД:&lt;/label&gt;, \\n, &lt;span class=\"ty-control-group__item\"&gt;Т-000072432&lt;/span&gt;, \\n], \\n, [\\n, &lt;input name=\"appearance[show_product_amount]\" type=\"hidden\" value=\"1\"/&gt;, \\n, &lt;a class=\"ty-control-group product-list-field cm-external-click\" data-ca-external-click-id=\"availability_in_stores\" href=\"#availability_in_stores\"&gt;\\n&lt;span class=\"ty-qty-in-stock preorder ty-control-group__item\" id=\"in_stock_info_42963\"&gt;\\n&lt;i class=\"material-icons\"&gt;&lt;/i&gt;Предзаказ\\n&lt;/span&gt;\\n&lt;/a&gt;, \\n], \\n], [\\n, [\\n, &lt;a class=\"ty-btn ty-btn__tertiary ty-add-to-wish cm-submit text-button\" data-ca-dispatch=\"dispatch[wishlist.add..42963]\" id=\"button_wishlist_42963\" title=\"Отложить\"&gt;&lt;span&gt;&lt;i class=\"ty-icon-heart\"&gt;&lt;/i&gt;&lt;/span&gt;&lt;/a&gt;, \\n, &lt;a class=\"ty-btn ty-btn__tertiary ty-add-to-compare cm-ajax cm-ajax-full-render text-button\" data-ca-target-id=\"comparison_list,account_info*\" href=\"https://hi-tech.md/...</td>\n",
       "    </tr>\n",
       "    <tr>\n",
       "      <th>3</th>\n",
       "      <td>[[ , [\\n, &lt;input name=\"appearance[show_sku]\" type=\"hidden\" value=\"1\"/&gt;, \\n, &lt;label class=\"ty-control-group__label\" id=\"sku_149701\"&gt;КОД:&lt;/label&gt;, \\n, &lt;span class=\"ty-control-group__item\"&gt;Т-000089904&lt;/span&gt;, \\n], \\n, [\\n, &lt;input name=\"appearance[show_product_amount]\" type=\"hidden\" value=\"1\"/&gt;, \\n, &lt;a class=\"ty-control-group product-list-field cm-external-click\" data-ca-external-click-id=\"availability_in_stores\" href=\"#availability_in_stores\"&gt;\\n&lt;span class=\"ty-qty-in-stock preorder ty-control-group__item\" id=\"in_stock_info_149701\"&gt;\\n&lt;i class=\"material-icons\"&gt;&lt;/i&gt;Предзаказ\\n&lt;/span&gt;\\n&lt;/a&gt;, \\n], \\n], [\\n, [\\n, &lt;a class=\"ty-btn ty-btn__tertiary ty-add-to-wish cm-submit text-button\" data-ca-dispatch=\"dispatch[wishlist.add..149701]\" id=\"button_wishlist_149701\" title=\"Отложить\"&gt;&lt;span&gt;&lt;i class=\"ty-icon-heart\"&gt;&lt;/i&gt;&lt;/span&gt;&lt;/a&gt;, \\n, &lt;a class=\"ty-btn ty-btn__tertiary ty-add-to-compare cm-ajax cm-ajax-full-render text-button\" data-ca-target-id=\"comparison_list,account_info*\" href=\"https://hi-tech...</td>\n",
       "    </tr>\n",
       "    <tr>\n",
       "      <th>4</th>\n",
       "      <td>[[ , [\\n, &lt;input name=\"appearance[show_sku]\" type=\"hidden\" value=\"1\"/&gt;, \\n, &lt;label class=\"ty-control-group__label\" id=\"sku_154538\"&gt;КОД:&lt;/label&gt;, \\n, &lt;span class=\"ty-control-group__item\"&gt;Т-000092006&lt;/span&gt;, \\n], \\n, [\\n, &lt;input name=\"appearance[show_product_amount]\" type=\"hidden\" value=\"1\"/&gt;, \\n, &lt;a class=\"ty-control-group product-list-field cm-external-click\" data-ca-external-click-id=\"availability_in_stores\" href=\"#availability_in_stores\"&gt;\\n&lt;span class=\"ty-qty-in-stock ty-control-group__item\" id=\"in_stock_info_154538\"&gt;\\n&lt;i class=\"material-icons\"&gt;&lt;/i&gt;В наличии\\n&lt;/span&gt;\\n&lt;/a&gt;, \\n], \\n], [\\n, [\\n, &lt;a class=\"ty-btn ty-btn__tertiary ty-add-to-wish cm-submit text-button\" data-ca-dispatch=\"dispatch[wishlist.add..154538]\" id=\"button_wishlist_154538\" title=\"Отложить\"&gt;&lt;span&gt;&lt;i class=\"ty-icon-heart\"&gt;&lt;/i&gt;&lt;/span&gt;&lt;/a&gt;, \\n, &lt;a class=\"ty-btn ty-btn__tertiary ty-add-to-compare cm-ajax cm-ajax-full-render text-button\" data-ca-target-id=\"comparison_list,account_info*\" href=\"https://hi-tech.md/index...</td>\n",
       "    </tr>\n",
       "  </tbody>\n",
       "</table>\n",
       "</div>"
      ],
      "text/plain": [
       "                                                                                                                                                                                                                                                                                                                                                                                                                                                                                                                                                                                                                                                                                                                                                                                                                                                                                                                                                                                                                                 soup_name\n",
       "0  [[ , [\\n, <input name=\"appearance[show_sku]\" type=\"hidden\" value=\"1\">\\n<label class=\"ty-control-group__label\" id=\"sku_42965\">КОД:</label>\\n<span class=\"ty-control-group__item\">Т-000072435</span>\\n</input>], \\n, [\\n, <input name=\"appearance[show_product_amount]\" type=\"hidden\" value=\"1\">\\n<a class=\"ty-control-group product-list-field cm-external-click\" data-ca-external-click-id=\"availability_in_stores\" href=\"#availability_in_stores\">\\n<span class=\"ty-qty-in-stock preorder ty-control-group__item\" id=\"in_stock_info_42965\">\\n<i class=\"material-icons\"></i>Предзаказ\\n</span>\\n</a>\\n</input>], \\n], [\\n, [\\n, <a class=\"ty-btn ty-btn__tertiary ty-add-to-wish cm-submit text-button\" data-ca-dispatch=\"dispatch[wishlist.add..42965]\" id=\"button_wishlist_42965\" title=\"Отложить\"><span><i class=\"ty-icon-heart\"></i></span></a>, \\n, <a class=\"ty-btn ty-btn__tertiary ty-add-to-compare cm-ajax cm-ajax-full-render text-button\" data-ca-target-id=\"comparison_list,account_info*\" href=\"https://hi-tech.md/in...\n",
       "1  [[ , [\\n, <input name=\"appearance[show_sku]\" type=\"hidden\" value=\"1\"/>, \\n, <label class=\"ty-control-group__label\" id=\"sku_42964\">КОД:</label>, \\n, <span class=\"ty-control-group__item\">Т-000072433</span>, \\n], \\n, [\\n, <input name=\"appearance[show_product_amount]\" type=\"hidden\" value=\"1\"/>, \\n, <a class=\"ty-control-group product-list-field cm-external-click\" data-ca-external-click-id=\"availability_in_stores\" href=\"#availability_in_stores\">\\n<span class=\"ty-qty-in-stock preorder ty-control-group__item\" id=\"in_stock_info_42964\">\\n<i class=\"material-icons\"></i>Предзаказ\\n</span>\\n</a>, \\n], \\n], [\\n, [\\n, <a class=\"ty-btn ty-btn__tertiary ty-add-to-wish cm-submit text-button\" data-ca-dispatch=\"dispatch[wishlist.add..42964]\" id=\"button_wishlist_42964\" title=\"Отложить\"><span><i class=\"ty-icon-heart\"></i></span></a>, \\n, <a class=\"ty-btn ty-btn__tertiary ty-add-to-compare cm-ajax cm-ajax-full-render text-button\" data-ca-target-id=\"comparison_list,account_info*\" href=\"https://hi-tech.md/...\n",
       "2  [[ , [\\n, <input name=\"appearance[show_sku]\" type=\"hidden\" value=\"1\"/>, \\n, <label class=\"ty-control-group__label\" id=\"sku_42963\">КОД:</label>, \\n, <span class=\"ty-control-group__item\">Т-000072432</span>, \\n], \\n, [\\n, <input name=\"appearance[show_product_amount]\" type=\"hidden\" value=\"1\"/>, \\n, <a class=\"ty-control-group product-list-field cm-external-click\" data-ca-external-click-id=\"availability_in_stores\" href=\"#availability_in_stores\">\\n<span class=\"ty-qty-in-stock preorder ty-control-group__item\" id=\"in_stock_info_42963\">\\n<i class=\"material-icons\"></i>Предзаказ\\n</span>\\n</a>, \\n], \\n], [\\n, [\\n, <a class=\"ty-btn ty-btn__tertiary ty-add-to-wish cm-submit text-button\" data-ca-dispatch=\"dispatch[wishlist.add..42963]\" id=\"button_wishlist_42963\" title=\"Отложить\"><span><i class=\"ty-icon-heart\"></i></span></a>, \\n, <a class=\"ty-btn ty-btn__tertiary ty-add-to-compare cm-ajax cm-ajax-full-render text-button\" data-ca-target-id=\"comparison_list,account_info*\" href=\"https://hi-tech.md/...\n",
       "3  [[ , [\\n, <input name=\"appearance[show_sku]\" type=\"hidden\" value=\"1\"/>, \\n, <label class=\"ty-control-group__label\" id=\"sku_149701\">КОД:</label>, \\n, <span class=\"ty-control-group__item\">Т-000089904</span>, \\n], \\n, [\\n, <input name=\"appearance[show_product_amount]\" type=\"hidden\" value=\"1\"/>, \\n, <a class=\"ty-control-group product-list-field cm-external-click\" data-ca-external-click-id=\"availability_in_stores\" href=\"#availability_in_stores\">\\n<span class=\"ty-qty-in-stock preorder ty-control-group__item\" id=\"in_stock_info_149701\">\\n<i class=\"material-icons\"></i>Предзаказ\\n</span>\\n</a>, \\n], \\n], [\\n, [\\n, <a class=\"ty-btn ty-btn__tertiary ty-add-to-wish cm-submit text-button\" data-ca-dispatch=\"dispatch[wishlist.add..149701]\" id=\"button_wishlist_149701\" title=\"Отложить\"><span><i class=\"ty-icon-heart\"></i></span></a>, \\n, <a class=\"ty-btn ty-btn__tertiary ty-add-to-compare cm-ajax cm-ajax-full-render text-button\" data-ca-target-id=\"comparison_list,account_info*\" href=\"https://hi-tech...\n",
       "4  [[ , [\\n, <input name=\"appearance[show_sku]\" type=\"hidden\" value=\"1\"/>, \\n, <label class=\"ty-control-group__label\" id=\"sku_154538\">КОД:</label>, \\n, <span class=\"ty-control-group__item\">Т-000092006</span>, \\n], \\n, [\\n, <input name=\"appearance[show_product_amount]\" type=\"hidden\" value=\"1\"/>, \\n, <a class=\"ty-control-group product-list-field cm-external-click\" data-ca-external-click-id=\"availability_in_stores\" href=\"#availability_in_stores\">\\n<span class=\"ty-qty-in-stock ty-control-group__item\" id=\"in_stock_info_154538\">\\n<i class=\"material-icons\"></i>В наличии\\n</span>\\n</a>, \\n], \\n], [\\n, [\\n, <a class=\"ty-btn ty-btn__tertiary ty-add-to-wish cm-submit text-button\" data-ca-dispatch=\"dispatch[wishlist.add..154538]\" id=\"button_wishlist_154538\" title=\"Отложить\"><span><i class=\"ty-icon-heart\"></i></span></a>, \\n, <a class=\"ty-btn ty-btn__tertiary ty-add-to-compare cm-ajax cm-ajax-full-render text-button\" data-ca-target-id=\"comparison_list,account_info*\" href=\"https://hi-tech.md/index..."
      ]
     },
     "execution_count": 5,
     "metadata": {},
     "output_type": "execute_result"
    }
   ],
   "source": [
    "data = pd.DataFrame({'soup_name':pd.Series(soup.findAll('div', class_='ypi-grid-list__item_body'),dtype = 'object')})\n",
    "data.head()"
   ]
  },
  {
   "cell_type": "markdown",
   "id": "72aa2c71",
   "metadata": {},
   "source": [
    "парсинг тестовой страници сайта "
   ]
  },
  {
   "cell_type": "code",
   "execution_count": 7,
   "id": "62e3d099",
   "metadata": {},
   "outputs": [],
   "source": [
    "def names_correct(x):\n",
    "    name = str(x)\n",
    "    return  name "
   ]
  },
  {
   "cell_type": "code",
   "execution_count": 8,
   "id": "8a547a03",
   "metadata": {},
   "outputs": [],
   "source": [
    "data['soup_name'] = data['soup_name'].apply(names_correct)"
   ]
  },
  {
   "cell_type": "markdown",
   "id": "713e4c73",
   "metadata": {},
   "source": [
    "меняем данные парсинга на текстовый тип "
   ]
  },
  {
   "cell_type": "code",
   "execution_count": 9,
   "id": "caf0dc2d",
   "metadata": {},
   "outputs": [],
   "source": [
    "def find_id(x):\n",
    "    find = x.find('span class=\"ty-control-group__item\"')\n",
    "    start = find+len('span class=\"ty-control-group__item\"')+1\n",
    "    stop = find+12+ len('span class=\"ty-control-group__item\"')\n",
    "    xxx = x[start: stop]\n",
    "    return xxx"
   ]
  },
  {
   "cell_type": "code",
   "execution_count": 10,
   "id": "0f522c3d",
   "metadata": {},
   "outputs": [],
   "source": [
    "data['id'] = data['soup_name'].apply(find_id)"
   ]
  },
  {
   "cell_type": "markdown",
   "id": "df262d57",
   "metadata": {},
   "source": [
    "находим в тексте и созаем столбец с кодами товара"
   ]
  },
  {
   "cell_type": "code",
   "execution_count": 11,
   "id": "d69b1e57",
   "metadata": {},
   "outputs": [],
   "source": [
    "data['date'] = pd.to_datetime('today').normalize()"
   ]
  },
  {
   "cell_type": "markdown",
   "id": "941e68bd",
   "metadata": {},
   "source": [
    "создаем столбец с датой парсинга"
   ]
  },
  {
   "cell_type": "code",
   "execution_count": 12,
   "id": "5594eb89",
   "metadata": {},
   "outputs": [],
   "source": [
    "def find_availability(t):\n",
    "    find = t.find('i class=\"material-icons\"')\n",
    "    find = t.find('</i>', find)\n",
    "    start = find+len('</i>')\n",
    "    stop = t.find('\\n', find)\n",
    "    xxx = t[start: stop]\n",
    "    return xxx"
   ]
  },
  {
   "cell_type": "code",
   "execution_count": 13,
   "id": "5bffe1bc",
   "metadata": {},
   "outputs": [],
   "source": [
    "data['availability'] = data['soup_name'].apply(find_availability)"
   ]
  },
  {
   "cell_type": "markdown",
   "id": "4d996511",
   "metadata": {},
   "source": [
    "находим в тексте и создаем столбец с наличием товара"
   ]
  },
  {
   "cell_type": "code",
   "execution_count": 14,
   "id": "e6d33de3",
   "metadata": {},
   "outputs": [],
   "source": [
    "def find_title(t):\n",
    "    find = t.find('a class=\"product-title\"')\n",
    "    find = t.find('title=', find)\n",
    "    start = find+len('title=')+1\n",
    "    stop = t.find('>', find)-1\n",
    "    xxx = t[start: stop]\n",
    "    return xxx\n"
   ]
  },
  {
   "cell_type": "code",
   "execution_count": 15,
   "id": "648e0b7c",
   "metadata": {},
   "outputs": [],
   "source": [
    "data['title'] = data['soup_name'].apply(find_title)"
   ]
  },
  {
   "cell_type": "markdown",
   "id": "e36a466d",
   "metadata": {},
   "source": [
    "находим в тексте и создаем столбец снаименованием товара"
   ]
  },
  {
   "cell_type": "code",
   "execution_count": 16,
   "id": "56b59bb4",
   "metadata": {},
   "outputs": [],
   "source": [
    "def find_price(t):\n",
    "    find = t.find('span class=\"ty-price-num\"')\n",
    "    find = t.find('>', find)\n",
    "    start = find+len('>')\n",
    "    stop = t.find('<', find)\n",
    "    xxx = t[start: stop]\n",
    "    xxx = xxx.replace(u'\\xa0',u'')\n",
    "    return xxx"
   ]
  },
  {
   "cell_type": "code",
   "execution_count": 17,
   "id": "9068a1bf",
   "metadata": {},
   "outputs": [],
   "source": [
    "data['price'] = data['soup_name'].apply(find_price)"
   ]
  },
  {
   "cell_type": "markdown",
   "id": "ed9b62ef",
   "metadata": {},
   "source": [
    "Находим в тексте и создаем столбец с ценой товара"
   ]
  },
  {
   "cell_type": "code",
   "execution_count": 18,
   "id": "e2e3e51e",
   "metadata": {},
   "outputs": [],
   "source": [
    "def find_old_price(t):\n",
    "    find = t.find('span class=\"ty-strike\"')\n",
    "    find = t.find('span class=\"ty-list-price ty-nowrap\"',find)\n",
    "    find = t.find('>', find)\n",
    "    start = find+len('>')\n",
    "    stop = t.find('<', find)\n",
    "    xxx = t[start: stop]\n",
    "    xxx = xxx.replace(u'\\xa0',u'')\n",
    "    return xxx"
   ]
  },
  {
   "cell_type": "code",
   "execution_count": 19,
   "id": "149cfb16",
   "metadata": {},
   "outputs": [],
   "source": [
    "data['old_price'] = data['soup_name'].apply(find_old_price)"
   ]
  },
  {
   "cell_type": "markdown",
   "id": "9c4784d1",
   "metadata": {},
   "source": [
    "Для акционного товара Находим в тексте и создаем столбец со старой ценой до начала акции"
   ]
  },
  {
   "cell_type": "code",
   "execution_count": 20,
   "id": "aa448515",
   "metadata": {},
   "outputs": [],
   "source": [
    "def find_url(t):\n",
    "    find = t.find('a class=\"product-title\"')\n",
    "    find = t.find('href=\"', find)\n",
    "    start = find+len('href=\"')\n",
    "    stop = t.find('title', find)-2\n",
    "    xxx = t[start: stop]\n",
    "    return xxx"
   ]
  },
  {
   "cell_type": "code",
   "execution_count": 21,
   "id": "18f2730d",
   "metadata": {},
   "outputs": [],
   "source": [
    "data['soup_name'] = data['soup_name'].apply(find_url)"
   ]
  },
  {
   "cell_type": "markdown",
   "id": "db852f87",
   "metadata": {},
   "source": [
    "Находим в тексте информацию об адресе совара и переписываем эту информацию вместо парсинговой."
   ]
  },
  {
   "cell_type": "code",
   "execution_count": 22,
   "id": "5a09642a",
   "metadata": {},
   "outputs": [],
   "source": [
    "def preprocessing(x):\n",
    "    print(f'таблица имеет следующий вид:')\n",
    "    display(x.head())\n",
    "    print('*'*100)\n",
    "    print(f'таблица имеет {x.shape[0]} сторок и {x.shape[1]} столбцов')\n",
    "    print('*'*100)\n",
    "    print(f'в таблице обнаружено дублекатов:{x.duplicated().sum()}')\n",
    "    print('*'*100)\n",
    "    print('в таблице обнаружены пропуски в следующих столбцах:')\n",
    "    display(x.isna().sum())\n",
    "    print('*'*100)\n",
    "    print('Эти пропуски составлябт следующее количество в процентах')\n",
    "    display((x.isna().mean()* 100).round(1))\n",
    "    print('*'*100)\n",
    "    print('столбцы имеют следующие типы:')\n",
    "    display(x.dtypes)\n",
    "    x.columns = [y.lower().replace(' ', '_') for y in x.columns.values] \n",
    "    print('*'*100)\n",
    "    print('названия столбцов переписаны в нижнем регистре, пробелы заменены на нижнее подчеркивание')\n",
    "    print('*'*100)\n",
    "    display(x.info())"
   ]
  },
  {
   "cell_type": "markdown",
   "id": "d21da9cc",
   "metadata": {},
   "source": [
    "создаем функцию предварительного просмотра данных"
   ]
  },
  {
   "cell_type": "code",
   "execution_count": 23,
   "id": "7696c601",
   "metadata": {},
   "outputs": [],
   "source": [
    "def parsing_2(url):\n",
    "    data = pd.DataFrame(columns=['soup_name', 'id', 'date', 'availability', 'title', 'price', 'old_price'])\n",
    "    for i in tqdm(url):        \n",
    "        q = 1\n",
    "        while q>0:        \n",
    "            reqx = requests.get(i + str(q))\n",
    "            soup = bs(reqx.text, 'html.parser')\n",
    "            datax = pd.DataFrame({'soup_name':pd.Series(soup.findAll('div', class_='ypi-grid-list__item_body'),dtype = 'object')})\n",
    "            data = pd.concat([data, datax], ignore_index=True)\n",
    "            if len(list(soup.findAll('div', class_='ypi-grid-list__item_body'))) > 0:\n",
    "                q = q + 1\n",
    "            else:\n",
    "                q = 0\n",
    "    data['soup_name'] = data['soup_name'].apply(names_correct)\n",
    "    data['id'] = data['soup_name'].apply(find_id)\n",
    "    data['date'] = pd.to_datetime('today').normalize()\n",
    "    data['availability'] = data['soup_name'].apply(find_availability)\n",
    "    data['title'] = data['soup_name'].apply(find_title)\n",
    "    data['price'] = data['soup_name'].apply(find_price)\n",
    "    data['old_price'] = data['soup_name'].apply(find_old_price)\n",
    "    data['soup_name'] = data['soup_name'].apply(find_url)\n",
    "    data['price'] = data['price'].astype(float)\n",
    "    data.loc[data['old_price'] == '','old_price'] = np.nan\n",
    "    data['old_price'] = data['old_price'].astype(float)\n",
    "    data = data.drop_duplicates()\n",
    "    return data"
   ]
  },
  {
   "cell_type": "markdown",
   "id": "6eb85bbd",
   "metadata": {},
   "source": [
    "создаем функцию, которая по списку url проходит и парсит всю доступную информацию, преобразуя ее в датафрейм."
   ]
  },
  {
   "cell_type": "markdown",
   "id": "ea9d2f0a",
   "metadata": {},
   "source": [
    "all_url = ['https://hi-tech.md/televizory-i-elektronika/page-',\n",
    "       'https://hi-tech.md/bytovaya-tehnika/page-',\n",
    "       'https://hi-tech.md/kompyuternaya-tehnika/page-']"
   ]
  },
  {
   "cell_type": "markdown",
   "id": "3a3508e4",
   "metadata": {},
   "source": [
    "all_url = ['https://hi-tech.md/televizory-i-elektronika/page-']"
   ]
  },
  {
   "cell_type": "code",
   "execution_count": 24,
   "id": "7b819186",
   "metadata": {},
   "outputs": [],
   "source": [
    "all_url = ['https://hi-tech.md/televizory-i-elektronika/page-',\n",
    "           'https://hi-tech.md/bytovaya-tehnika/page-',\n",
    "           'https://hi-tech.md/kompyuternaya-tehnika/page-',\n",
    "           'https://hi-tech.md/mebel-tekstil/kompyuternaya-mebel/ofisnye-kresla-i-stulya/komp.-kresla/page-',\n",
    "           'https://hi-tech.md/instrumenty-i-oborudovanie/elektroinstrument/page-',\n",
    "           'https://hi-tech.md/tovary-dlya-doma/page-'\n",
    "          ]"
   ]
  },
  {
   "cell_type": "markdown",
   "id": "2b4beffa",
   "metadata": {},
   "source": [
    "список url по которым будет парсится сайт"
   ]
  },
  {
   "cell_type": "code",
   "execution_count": 25,
   "id": "064954c3",
   "metadata": {},
   "outputs": [
    {
     "name": "stderr",
     "output_type": "stream",
     "text": [
      "100%|████████████████████████████████████████████████████████████████████████████████████| 6/6 [02:30<00:00, 25.00s/it]\n"
     ]
    },
    {
     "data": {
      "text/html": [
       "<div>\n",
       "<style scoped>\n",
       "    .dataframe tbody tr th:only-of-type {\n",
       "        vertical-align: middle;\n",
       "    }\n",
       "\n",
       "    .dataframe tbody tr th {\n",
       "        vertical-align: top;\n",
       "    }\n",
       "\n",
       "    .dataframe thead th {\n",
       "        text-align: right;\n",
       "    }\n",
       "</style>\n",
       "<table border=\"1\" class=\"dataframe\">\n",
       "  <thead>\n",
       "    <tr style=\"text-align: right;\">\n",
       "      <th></th>\n",
       "      <th>soup_name</th>\n",
       "      <th>id</th>\n",
       "      <th>date</th>\n",
       "      <th>availability</th>\n",
       "      <th>title</th>\n",
       "      <th>price</th>\n",
       "      <th>old_price</th>\n",
       "    </tr>\n",
       "  </thead>\n",
       "  <tbody>\n",
       "    <tr>\n",
       "      <th>0</th>\n",
       "      <td>https://hi-tech.md/televizory-i-elektronika/batareyki-i-zaryadnye-ustroystva/batareyka-energenie-eg-ba-cr1220-01/</td>\n",
       "      <td>Т-000088228</td>\n",
       "      <td>2024-06-07</td>\n",
       "      <td>В наличии</td>\n",
       "      <td>Батарейка Energenie EG-BA-CR1220-01</td>\n",
       "      <td>4.0</td>\n",
       "      <td>NaN</td>\n",
       "    </tr>\n",
       "    <tr>\n",
       "      <th>1</th>\n",
       "      <td>https://hi-tech.md/televizory-i-elektronika/batareyki-i-zaryadnye-ustroystva/batareyka-energenie-eg-ba-cr2016-01/</td>\n",
       "      <td>Т-000088229</td>\n",
       "      <td>2024-06-07</td>\n",
       "      <td>В наличии</td>\n",
       "      <td>Батарейка Energenie EG-BA-CR2016-01</td>\n",
       "      <td>4.0</td>\n",
       "      <td>NaN</td>\n",
       "    </tr>\n",
       "    <tr>\n",
       "      <th>2</th>\n",
       "      <td>https://hi-tech.md/televizory-i-elektronika/batareyki-i-zaryadnye-ustroystva/batareyka-energenie-eg-ba-aa4-01/</td>\n",
       "      <td>Т-000088221</td>\n",
       "      <td>2024-06-07</td>\n",
       "      <td>В наличии</td>\n",
       "      <td>Батарейка Energenie EG-BA-AA4-01</td>\n",
       "      <td>5.0</td>\n",
       "      <td>NaN</td>\n",
       "    </tr>\n",
       "    <tr>\n",
       "      <th>3</th>\n",
       "      <td>https://hi-tech.md/televizory-i-elektronika/batareyki-i-zaryadnye-ustroystva/batareyka-energenie-eg-ba-aaa4-01/</td>\n",
       "      <td>Т-000088222</td>\n",
       "      <td>2024-06-07</td>\n",
       "      <td>В наличии</td>\n",
       "      <td>Батарейка Energenie EG-BA-AAA4-01</td>\n",
       "      <td>5.0</td>\n",
       "      <td>NaN</td>\n",
       "    </tr>\n",
       "    <tr>\n",
       "      <th>4</th>\n",
       "      <td>https://hi-tech.md/televizory-i-elektronika/batareyki-i-zaryadnye-ustroystva/batareyka-energenie-eg-ba-cr2025-01/</td>\n",
       "      <td>Т-000088230</td>\n",
       "      <td>2024-06-07</td>\n",
       "      <td>В наличии</td>\n",
       "      <td>Батарейка Energenie EG-BA-CR2025-01</td>\n",
       "      <td>5.0</td>\n",
       "      <td>NaN</td>\n",
       "    </tr>\n",
       "    <tr>\n",
       "      <th>...</th>\n",
       "      <td>...</td>\n",
       "      <td>...</td>\n",
       "      <td>...</td>\n",
       "      <td>...</td>\n",
       "      <td>...</td>\n",
       "      <td>...</td>\n",
       "      <td>...</td>\n",
       "    </tr>\n",
       "    <tr>\n",
       "      <th>9327</th>\n",
       "      <td>https://hi-tech.md/tovary-dlya-doma/osveschenie/lyustry/lyustra-4pl-satipo-transparent-led15w-e27-5628-tkl/</td>\n",
       "      <td>Т-000085036</td>\n",
       "      <td>2024-06-07</td>\n",
       "      <td>В наличии</td>\n",
       "      <td>Люстра 4PL SATIPO TRANSPARENT LED15W E27 (5628) (TKL)</td>\n",
       "      <td>3279.0</td>\n",
       "      <td>4099.0</td>\n",
       "    </tr>\n",
       "    <tr>\n",
       "      <th>9328</th>\n",
       "      <td>https://hi-tech.md/tovary-dlya-doma/osveschenie/lyustry/lyustra-4pl-satipo-amber-led15w-e27-5625-tkl/</td>\n",
       "      <td>Т-000085037</td>\n",
       "      <td>2024-06-07</td>\n",
       "      <td>В наличии</td>\n",
       "      <td>Люстра 4PL SATIPO AMBER LED15W E27 (5625) (TKL)</td>\n",
       "      <td>3311.0</td>\n",
       "      <td>4139.0</td>\n",
       "    </tr>\n",
       "    <tr>\n",
       "      <th>9329</th>\n",
       "      <td>https://hi-tech.md/tovary-dlya-doma/osveschenie/lyustry/lyustra-3pl-universo-black-led15w-e27-4483-tkl/</td>\n",
       "      <td>Т-000085021</td>\n",
       "      <td>2024-06-07</td>\n",
       "      <td>В наличии</td>\n",
       "      <td>Люстра 3PL UNIVERSO BLACK LED15W E27 (4483) (TKL)</td>\n",
       "      <td>3359.0</td>\n",
       "      <td>4199.0</td>\n",
       "    </tr>\n",
       "    <tr>\n",
       "      <th>9330</th>\n",
       "      <td>https://hi-tech.md/tovary-dlya-doma/osveschenie/lyustry/lyustra-6pl-fairy-black-6w-g9-4856-tkl/</td>\n",
       "      <td>Т-000085033</td>\n",
       "      <td>2024-06-07</td>\n",
       "      <td>В наличии</td>\n",
       "      <td>Люстра 6PL FAIRY BLACK 6W G9 (4856) (TKL)</td>\n",
       "      <td>3471.0</td>\n",
       "      <td>4339.0</td>\n",
       "    </tr>\n",
       "    <tr>\n",
       "      <th>9331</th>\n",
       "      <td>https://hi-tech.md/tovary-dlya-doma/osveschenie/lyustry/lyustra-6pl-fairy-gold-6w-g9-3532-tkl/</td>\n",
       "      <td>Т-000085032</td>\n",
       "      <td>2024-06-07</td>\n",
       "      <td>В наличии</td>\n",
       "      <td>Люстра 6PL FAIRY GOLD 6W G9 (3532) (TKL)</td>\n",
       "      <td>3951.0</td>\n",
       "      <td>4939.0</td>\n",
       "    </tr>\n",
       "  </tbody>\n",
       "</table>\n",
       "<p>8760 rows × 7 columns</p>\n",
       "</div>"
      ],
      "text/plain": [
       "                                                                                                              soup_name  \\\n",
       "0     https://hi-tech.md/televizory-i-elektronika/batareyki-i-zaryadnye-ustroystva/batareyka-energenie-eg-ba-cr1220-01/   \n",
       "1     https://hi-tech.md/televizory-i-elektronika/batareyki-i-zaryadnye-ustroystva/batareyka-energenie-eg-ba-cr2016-01/   \n",
       "2        https://hi-tech.md/televizory-i-elektronika/batareyki-i-zaryadnye-ustroystva/batareyka-energenie-eg-ba-aa4-01/   \n",
       "3       https://hi-tech.md/televizory-i-elektronika/batareyki-i-zaryadnye-ustroystva/batareyka-energenie-eg-ba-aaa4-01/   \n",
       "4     https://hi-tech.md/televizory-i-elektronika/batareyki-i-zaryadnye-ustroystva/batareyka-energenie-eg-ba-cr2025-01/   \n",
       "...                                                                                                                 ...   \n",
       "9327        https://hi-tech.md/tovary-dlya-doma/osveschenie/lyustry/lyustra-4pl-satipo-transparent-led15w-e27-5628-tkl/   \n",
       "9328              https://hi-tech.md/tovary-dlya-doma/osveschenie/lyustry/lyustra-4pl-satipo-amber-led15w-e27-5625-tkl/   \n",
       "9329            https://hi-tech.md/tovary-dlya-doma/osveschenie/lyustry/lyustra-3pl-universo-black-led15w-e27-4483-tkl/   \n",
       "9330                    https://hi-tech.md/tovary-dlya-doma/osveschenie/lyustry/lyustra-6pl-fairy-black-6w-g9-4856-tkl/   \n",
       "9331                     https://hi-tech.md/tovary-dlya-doma/osveschenie/lyustry/lyustra-6pl-fairy-gold-6w-g9-3532-tkl/   \n",
       "\n",
       "               id       date availability  \\\n",
       "0     Т-000088228 2024-06-07    В наличии   \n",
       "1     Т-000088229 2024-06-07    В наличии   \n",
       "2     Т-000088221 2024-06-07    В наличии   \n",
       "3     Т-000088222 2024-06-07    В наличии   \n",
       "4     Т-000088230 2024-06-07    В наличии   \n",
       "...           ...        ...          ...   \n",
       "9327  Т-000085036 2024-06-07    В наличии   \n",
       "9328  Т-000085037 2024-06-07    В наличии   \n",
       "9329  Т-000085021 2024-06-07    В наличии   \n",
       "9330  Т-000085033 2024-06-07    В наличии   \n",
       "9331  Т-000085032 2024-06-07    В наличии   \n",
       "\n",
       "                                                      title   price  old_price  \n",
       "0                       Батарейка Energenie EG-BA-CR1220-01     4.0        NaN  \n",
       "1                       Батарейка Energenie EG-BA-CR2016-01     4.0        NaN  \n",
       "2                          Батарейка Energenie EG-BA-AA4-01     5.0        NaN  \n",
       "3                         Батарейка Energenie EG-BA-AAA4-01     5.0        NaN  \n",
       "4                       Батарейка Energenie EG-BA-CR2025-01     5.0        NaN  \n",
       "...                                                     ...     ...        ...  \n",
       "9327  Люстра 4PL SATIPO TRANSPARENT LED15W E27 (5628) (TKL)  3279.0     4099.0  \n",
       "9328        Люстра 4PL SATIPO AMBER LED15W E27 (5625) (TKL)  3311.0     4139.0  \n",
       "9329      Люстра 3PL UNIVERSO BLACK LED15W E27 (4483) (TKL)  3359.0     4199.0  \n",
       "9330              Люстра 6PL FAIRY BLACK 6W G9 (4856) (TKL)  3471.0     4339.0  \n",
       "9331               Люстра 6PL FAIRY GOLD 6W G9 (3532) (TKL)  3951.0     4939.0  \n",
       "\n",
       "[8760 rows x 7 columns]"
      ]
     },
     "execution_count": 25,
     "metadata": {},
     "output_type": "execute_result"
    }
   ],
   "source": [
    "df = parsing_2(all_url)\n",
    "df"
   ]
  },
  {
   "cell_type": "markdown",
   "id": "1c2995b3",
   "metadata": {},
   "source": [
    "полученная информация"
   ]
  },
  {
   "cell_type": "code",
   "execution_count": 26,
   "id": "630e3ac0",
   "metadata": {},
   "outputs": [
    {
     "name": "stdout",
     "output_type": "stream",
     "text": [
      "таблица имеет следующий вид:\n"
     ]
    },
    {
     "data": {
      "text/html": [
       "<div>\n",
       "<style scoped>\n",
       "    .dataframe tbody tr th:only-of-type {\n",
       "        vertical-align: middle;\n",
       "    }\n",
       "\n",
       "    .dataframe tbody tr th {\n",
       "        vertical-align: top;\n",
       "    }\n",
       "\n",
       "    .dataframe thead th {\n",
       "        text-align: right;\n",
       "    }\n",
       "</style>\n",
       "<table border=\"1\" class=\"dataframe\">\n",
       "  <thead>\n",
       "    <tr style=\"text-align: right;\">\n",
       "      <th></th>\n",
       "      <th>soup_name</th>\n",
       "      <th>id</th>\n",
       "      <th>date</th>\n",
       "      <th>availability</th>\n",
       "      <th>title</th>\n",
       "      <th>price</th>\n",
       "      <th>old_price</th>\n",
       "    </tr>\n",
       "  </thead>\n",
       "  <tbody>\n",
       "    <tr>\n",
       "      <th>0</th>\n",
       "      <td>https://hi-tech.md/televizory-i-elektronika/batareyki-i-zaryadnye-ustroystva/batareyka-energenie-eg-ba-cr1220-01/</td>\n",
       "      <td>Т-000088228</td>\n",
       "      <td>2024-06-07</td>\n",
       "      <td>В наличии</td>\n",
       "      <td>Батарейка Energenie EG-BA-CR1220-01</td>\n",
       "      <td>4.0</td>\n",
       "      <td>NaN</td>\n",
       "    </tr>\n",
       "    <tr>\n",
       "      <th>1</th>\n",
       "      <td>https://hi-tech.md/televizory-i-elektronika/batareyki-i-zaryadnye-ustroystva/batareyka-energenie-eg-ba-cr2016-01/</td>\n",
       "      <td>Т-000088229</td>\n",
       "      <td>2024-06-07</td>\n",
       "      <td>В наличии</td>\n",
       "      <td>Батарейка Energenie EG-BA-CR2016-01</td>\n",
       "      <td>4.0</td>\n",
       "      <td>NaN</td>\n",
       "    </tr>\n",
       "    <tr>\n",
       "      <th>2</th>\n",
       "      <td>https://hi-tech.md/televizory-i-elektronika/batareyki-i-zaryadnye-ustroystva/batareyka-energenie-eg-ba-aa4-01/</td>\n",
       "      <td>Т-000088221</td>\n",
       "      <td>2024-06-07</td>\n",
       "      <td>В наличии</td>\n",
       "      <td>Батарейка Energenie EG-BA-AA4-01</td>\n",
       "      <td>5.0</td>\n",
       "      <td>NaN</td>\n",
       "    </tr>\n",
       "    <tr>\n",
       "      <th>3</th>\n",
       "      <td>https://hi-tech.md/televizory-i-elektronika/batareyki-i-zaryadnye-ustroystva/batareyka-energenie-eg-ba-aaa4-01/</td>\n",
       "      <td>Т-000088222</td>\n",
       "      <td>2024-06-07</td>\n",
       "      <td>В наличии</td>\n",
       "      <td>Батарейка Energenie EG-BA-AAA4-01</td>\n",
       "      <td>5.0</td>\n",
       "      <td>NaN</td>\n",
       "    </tr>\n",
       "    <tr>\n",
       "      <th>4</th>\n",
       "      <td>https://hi-tech.md/televizory-i-elektronika/batareyki-i-zaryadnye-ustroystva/batareyka-energenie-eg-ba-cr2025-01/</td>\n",
       "      <td>Т-000088230</td>\n",
       "      <td>2024-06-07</td>\n",
       "      <td>В наличии</td>\n",
       "      <td>Батарейка Energenie EG-BA-CR2025-01</td>\n",
       "      <td>5.0</td>\n",
       "      <td>NaN</td>\n",
       "    </tr>\n",
       "  </tbody>\n",
       "</table>\n",
       "</div>"
      ],
      "text/plain": [
       "                                                                                                           soup_name  \\\n",
       "0  https://hi-tech.md/televizory-i-elektronika/batareyki-i-zaryadnye-ustroystva/batareyka-energenie-eg-ba-cr1220-01/   \n",
       "1  https://hi-tech.md/televizory-i-elektronika/batareyki-i-zaryadnye-ustroystva/batareyka-energenie-eg-ba-cr2016-01/   \n",
       "2     https://hi-tech.md/televizory-i-elektronika/batareyki-i-zaryadnye-ustroystva/batareyka-energenie-eg-ba-aa4-01/   \n",
       "3    https://hi-tech.md/televizory-i-elektronika/batareyki-i-zaryadnye-ustroystva/batareyka-energenie-eg-ba-aaa4-01/   \n",
       "4  https://hi-tech.md/televizory-i-elektronika/batareyki-i-zaryadnye-ustroystva/batareyka-energenie-eg-ba-cr2025-01/   \n",
       "\n",
       "            id       date availability                                title  \\\n",
       "0  Т-000088228 2024-06-07    В наличии  Батарейка Energenie EG-BA-CR1220-01   \n",
       "1  Т-000088229 2024-06-07    В наличии  Батарейка Energenie EG-BA-CR2016-01   \n",
       "2  Т-000088221 2024-06-07    В наличии     Батарейка Energenie EG-BA-AA4-01   \n",
       "3  Т-000088222 2024-06-07    В наличии    Батарейка Energenie EG-BA-AAA4-01   \n",
       "4  Т-000088230 2024-06-07    В наличии  Батарейка Energenie EG-BA-CR2025-01   \n",
       "\n",
       "   price  old_price  \n",
       "0    4.0        NaN  \n",
       "1    4.0        NaN  \n",
       "2    5.0        NaN  \n",
       "3    5.0        NaN  \n",
       "4    5.0        NaN  "
      ]
     },
     "metadata": {},
     "output_type": "display_data"
    },
    {
     "name": "stdout",
     "output_type": "stream",
     "text": [
      "****************************************************************************************************\n",
      "таблица имеет 8760 сторок и 7 столбцов\n",
      "****************************************************************************************************\n",
      "в таблице обнаружено дублекатов:0\n",
      "****************************************************************************************************\n",
      "в таблице обнаружены пропуски в следующих столбцах:\n"
     ]
    },
    {
     "data": {
      "text/plain": [
       "soup_name          0\n",
       "id                 0\n",
       "date               0\n",
       "availability       0\n",
       "title              0\n",
       "price              0\n",
       "old_price       6675\n",
       "dtype: int64"
      ]
     },
     "metadata": {},
     "output_type": "display_data"
    },
    {
     "name": "stdout",
     "output_type": "stream",
     "text": [
      "****************************************************************************************************\n",
      "Эти пропуски составлябт следующее количество в процентах\n"
     ]
    },
    {
     "data": {
      "text/plain": [
       "soup_name        0.0\n",
       "id               0.0\n",
       "date             0.0\n",
       "availability     0.0\n",
       "title            0.0\n",
       "price            0.0\n",
       "old_price       76.2\n",
       "dtype: float64"
      ]
     },
     "metadata": {},
     "output_type": "display_data"
    },
    {
     "name": "stdout",
     "output_type": "stream",
     "text": [
      "****************************************************************************************************\n",
      "столбцы имеют следующие типы:\n"
     ]
    },
    {
     "data": {
      "text/plain": [
       "soup_name               object\n",
       "id                      object\n",
       "date            datetime64[ns]\n",
       "availability            object\n",
       "title                   object\n",
       "price                  float64\n",
       "old_price              float64\n",
       "dtype: object"
      ]
     },
     "metadata": {},
     "output_type": "display_data"
    },
    {
     "name": "stdout",
     "output_type": "stream",
     "text": [
      "****************************************************************************************************\n",
      "названия столбцов переписаны в нижнем регистре, пробелы заменены на нижнее подчеркивание\n",
      "****************************************************************************************************\n",
      "<class 'pandas.core.frame.DataFrame'>\n",
      "Int64Index: 8760 entries, 0 to 9331\n",
      "Data columns (total 7 columns):\n",
      " #   Column        Non-Null Count  Dtype         \n",
      "---  ------        --------------  -----         \n",
      " 0   soup_name     8760 non-null   object        \n",
      " 1   id            8760 non-null   object        \n",
      " 2   date          8760 non-null   datetime64[ns]\n",
      " 3   availability  8760 non-null   object        \n",
      " 4   title         8760 non-null   object        \n",
      " 5   price         8760 non-null   float64       \n",
      " 6   old_price     2085 non-null   float64       \n",
      "dtypes: datetime64[ns](1), float64(2), object(4)\n",
      "memory usage: 547.5+ KB\n"
     ]
    },
    {
     "data": {
      "text/plain": [
       "None"
      ]
     },
     "metadata": {},
     "output_type": "display_data"
    }
   ],
   "source": [
    "preprocessing(df)"
   ]
  },
  {
   "cell_type": "code",
   "execution_count": 27,
   "id": "f1702db2",
   "metadata": {
    "scrolled": true
   },
   "outputs": [],
   "source": [
    "today = pd.to_datetime('today').normalize()\n",
    "today = today.to_pydatetime()\n",
    "df.to_csv('csv/hi_tech_'+str(today.year)+'_'+str(today.month)+'_'+str(today.day)+'.csv', index=False)  "
   ]
  },
  {
   "cell_type": "markdown",
   "id": "17af301b",
   "metadata": {},
   "source": [
    "Переписывем датафрейм в файл"
   ]
  },
  {
   "cell_type": "markdown",
   "id": "abbe786c",
   "metadata": {},
   "source": [
    "# аналитика хайтек"
   ]
  },
  {
   "cell_type": "code",
   "execution_count": 28,
   "id": "97a726ea",
   "metadata": {},
   "outputs": [],
   "source": [
    "brend = pd.read_excel('csv/brend.xlsx')"
   ]
  },
  {
   "cell_type": "code",
   "execution_count": 29,
   "id": "5a4e6e8b",
   "metadata": {},
   "outputs": [],
   "source": [
    "def lower(x):\n",
    "    return x.lower()"
   ]
  },
  {
   "cell_type": "code",
   "execution_count": 30,
   "id": "ac3d1d3c",
   "metadata": {},
   "outputs": [],
   "source": [
    "brend['names'] = brend['name'].apply(lower)"
   ]
  },
  {
   "cell_type": "code",
   "execution_count": 31,
   "id": "88463ec0",
   "metadata": {},
   "outputs": [],
   "source": [
    "brend_up = brend.name.unique()\n",
    "brend_low = brend.names.unique()"
   ]
  },
  {
   "cell_type": "markdown",
   "id": "68058b8b",
   "metadata": {},
   "source": [
    "загружаем и создаем переменную с брендами"
   ]
  },
  {
   "cell_type": "code",
   "execution_count": 32,
   "id": "22df1005",
   "metadata": {},
   "outputs": [
    {
     "data": {
      "text/html": [
       "<div>\n",
       "<style scoped>\n",
       "    .dataframe tbody tr th:only-of-type {\n",
       "        vertical-align: middle;\n",
       "    }\n",
       "\n",
       "    .dataframe tbody tr th {\n",
       "        vertical-align: top;\n",
       "    }\n",
       "\n",
       "    .dataframe thead th {\n",
       "        text-align: right;\n",
       "    }\n",
       "</style>\n",
       "<table border=\"1\" class=\"dataframe\">\n",
       "  <thead>\n",
       "    <tr style=\"text-align: right;\">\n",
       "      <th></th>\n",
       "      <th>soup_name</th>\n",
       "      <th>id</th>\n",
       "      <th>date</th>\n",
       "      <th>availability</th>\n",
       "      <th>title</th>\n",
       "      <th>price</th>\n",
       "      <th>old_price</th>\n",
       "    </tr>\n",
       "  </thead>\n",
       "  <tbody>\n",
       "    <tr>\n",
       "      <th>0</th>\n",
       "      <td>https://hi-tech.md/televizory-i-elektronika/batareyki-i-zaryadnye-ustroystva/batareyka-energenie-eg-ba-cr1220-01/</td>\n",
       "      <td>Т-000088228</td>\n",
       "      <td>2024-06-07</td>\n",
       "      <td>В наличии</td>\n",
       "      <td>Батарейка Energenie EG-BA-CR1220-01</td>\n",
       "      <td>4.0</td>\n",
       "      <td>NaN</td>\n",
       "    </tr>\n",
       "    <tr>\n",
       "      <th>1</th>\n",
       "      <td>https://hi-tech.md/televizory-i-elektronika/batareyki-i-zaryadnye-ustroystva/batareyka-energenie-eg-ba-cr2016-01/</td>\n",
       "      <td>Т-000088229</td>\n",
       "      <td>2024-06-07</td>\n",
       "      <td>В наличии</td>\n",
       "      <td>Батарейка Energenie EG-BA-CR2016-01</td>\n",
       "      <td>4.0</td>\n",
       "      <td>NaN</td>\n",
       "    </tr>\n",
       "    <tr>\n",
       "      <th>2</th>\n",
       "      <td>https://hi-tech.md/televizory-i-elektronika/batareyki-i-zaryadnye-ustroystva/batareyka-energenie-eg-ba-aa4-01/</td>\n",
       "      <td>Т-000088221</td>\n",
       "      <td>2024-06-07</td>\n",
       "      <td>В наличии</td>\n",
       "      <td>Батарейка Energenie EG-BA-AA4-01</td>\n",
       "      <td>5.0</td>\n",
       "      <td>NaN</td>\n",
       "    </tr>\n",
       "    <tr>\n",
       "      <th>3</th>\n",
       "      <td>https://hi-tech.md/televizory-i-elektronika/batareyki-i-zaryadnye-ustroystva/batareyka-energenie-eg-ba-aaa4-01/</td>\n",
       "      <td>Т-000088222</td>\n",
       "      <td>2024-06-07</td>\n",
       "      <td>В наличии</td>\n",
       "      <td>Батарейка Energenie EG-BA-AAA4-01</td>\n",
       "      <td>5.0</td>\n",
       "      <td>NaN</td>\n",
       "    </tr>\n",
       "    <tr>\n",
       "      <th>4</th>\n",
       "      <td>https://hi-tech.md/televizory-i-elektronika/batareyki-i-zaryadnye-ustroystva/batareyka-energenie-eg-ba-cr2025-01/</td>\n",
       "      <td>Т-000088230</td>\n",
       "      <td>2024-06-07</td>\n",
       "      <td>В наличии</td>\n",
       "      <td>Батарейка Energenie EG-BA-CR2025-01</td>\n",
       "      <td>5.0</td>\n",
       "      <td>NaN</td>\n",
       "    </tr>\n",
       "    <tr>\n",
       "      <th>...</th>\n",
       "      <td>...</td>\n",
       "      <td>...</td>\n",
       "      <td>...</td>\n",
       "      <td>...</td>\n",
       "      <td>...</td>\n",
       "      <td>...</td>\n",
       "      <td>...</td>\n",
       "    </tr>\n",
       "    <tr>\n",
       "      <th>9327</th>\n",
       "      <td>https://hi-tech.md/tovary-dlya-doma/osveschenie/lyustry/lyustra-4pl-satipo-transparent-led15w-e27-5628-tkl/</td>\n",
       "      <td>Т-000085036</td>\n",
       "      <td>2024-06-07</td>\n",
       "      <td>В наличии</td>\n",
       "      <td>Люстра 4PL SATIPO TRANSPARENT LED15W E27 (5628) (TKL)</td>\n",
       "      <td>3279.0</td>\n",
       "      <td>4099.0</td>\n",
       "    </tr>\n",
       "    <tr>\n",
       "      <th>9328</th>\n",
       "      <td>https://hi-tech.md/tovary-dlya-doma/osveschenie/lyustry/lyustra-4pl-satipo-amber-led15w-e27-5625-tkl/</td>\n",
       "      <td>Т-000085037</td>\n",
       "      <td>2024-06-07</td>\n",
       "      <td>В наличии</td>\n",
       "      <td>Люстра 4PL SATIPO AMBER LED15W E27 (5625) (TKL)</td>\n",
       "      <td>3311.0</td>\n",
       "      <td>4139.0</td>\n",
       "    </tr>\n",
       "    <tr>\n",
       "      <th>9329</th>\n",
       "      <td>https://hi-tech.md/tovary-dlya-doma/osveschenie/lyustry/lyustra-3pl-universo-black-led15w-e27-4483-tkl/</td>\n",
       "      <td>Т-000085021</td>\n",
       "      <td>2024-06-07</td>\n",
       "      <td>В наличии</td>\n",
       "      <td>Люстра 3PL UNIVERSO BLACK LED15W E27 (4483) (TKL)</td>\n",
       "      <td>3359.0</td>\n",
       "      <td>4199.0</td>\n",
       "    </tr>\n",
       "    <tr>\n",
       "      <th>9330</th>\n",
       "      <td>https://hi-tech.md/tovary-dlya-doma/osveschenie/lyustry/lyustra-6pl-fairy-black-6w-g9-4856-tkl/</td>\n",
       "      <td>Т-000085033</td>\n",
       "      <td>2024-06-07</td>\n",
       "      <td>В наличии</td>\n",
       "      <td>Люстра 6PL FAIRY BLACK 6W G9 (4856) (TKL)</td>\n",
       "      <td>3471.0</td>\n",
       "      <td>4339.0</td>\n",
       "    </tr>\n",
       "    <tr>\n",
       "      <th>9331</th>\n",
       "      <td>https://hi-tech.md/tovary-dlya-doma/osveschenie/lyustry/lyustra-6pl-fairy-gold-6w-g9-3532-tkl/</td>\n",
       "      <td>Т-000085032</td>\n",
       "      <td>2024-06-07</td>\n",
       "      <td>В наличии</td>\n",
       "      <td>Люстра 6PL FAIRY GOLD 6W G9 (3532) (TKL)</td>\n",
       "      <td>3951.0</td>\n",
       "      <td>4939.0</td>\n",
       "    </tr>\n",
       "  </tbody>\n",
       "</table>\n",
       "<p>8760 rows × 7 columns</p>\n",
       "</div>"
      ],
      "text/plain": [
       "                                                                                                              soup_name  \\\n",
       "0     https://hi-tech.md/televizory-i-elektronika/batareyki-i-zaryadnye-ustroystva/batareyka-energenie-eg-ba-cr1220-01/   \n",
       "1     https://hi-tech.md/televizory-i-elektronika/batareyki-i-zaryadnye-ustroystva/batareyka-energenie-eg-ba-cr2016-01/   \n",
       "2        https://hi-tech.md/televizory-i-elektronika/batareyki-i-zaryadnye-ustroystva/batareyka-energenie-eg-ba-aa4-01/   \n",
       "3       https://hi-tech.md/televizory-i-elektronika/batareyki-i-zaryadnye-ustroystva/batareyka-energenie-eg-ba-aaa4-01/   \n",
       "4     https://hi-tech.md/televizory-i-elektronika/batareyki-i-zaryadnye-ustroystva/batareyka-energenie-eg-ba-cr2025-01/   \n",
       "...                                                                                                                 ...   \n",
       "9327        https://hi-tech.md/tovary-dlya-doma/osveschenie/lyustry/lyustra-4pl-satipo-transparent-led15w-e27-5628-tkl/   \n",
       "9328              https://hi-tech.md/tovary-dlya-doma/osveschenie/lyustry/lyustra-4pl-satipo-amber-led15w-e27-5625-tkl/   \n",
       "9329            https://hi-tech.md/tovary-dlya-doma/osveschenie/lyustry/lyustra-3pl-universo-black-led15w-e27-4483-tkl/   \n",
       "9330                    https://hi-tech.md/tovary-dlya-doma/osveschenie/lyustry/lyustra-6pl-fairy-black-6w-g9-4856-tkl/   \n",
       "9331                     https://hi-tech.md/tovary-dlya-doma/osveschenie/lyustry/lyustra-6pl-fairy-gold-6w-g9-3532-tkl/   \n",
       "\n",
       "               id       date availability  \\\n",
       "0     Т-000088228 2024-06-07    В наличии   \n",
       "1     Т-000088229 2024-06-07    В наличии   \n",
       "2     Т-000088221 2024-06-07    В наличии   \n",
       "3     Т-000088222 2024-06-07    В наличии   \n",
       "4     Т-000088230 2024-06-07    В наличии   \n",
       "...           ...        ...          ...   \n",
       "9327  Т-000085036 2024-06-07    В наличии   \n",
       "9328  Т-000085037 2024-06-07    В наличии   \n",
       "9329  Т-000085021 2024-06-07    В наличии   \n",
       "9330  Т-000085033 2024-06-07    В наличии   \n",
       "9331  Т-000085032 2024-06-07    В наличии   \n",
       "\n",
       "                                                      title   price  old_price  \n",
       "0                       Батарейка Energenie EG-BA-CR1220-01     4.0        NaN  \n",
       "1                       Батарейка Energenie EG-BA-CR2016-01     4.0        NaN  \n",
       "2                          Батарейка Energenie EG-BA-AA4-01     5.0        NaN  \n",
       "3                         Батарейка Energenie EG-BA-AAA4-01     5.0        NaN  \n",
       "4                       Батарейка Energenie EG-BA-CR2025-01     5.0        NaN  \n",
       "...                                                     ...     ...        ...  \n",
       "9327  Люстра 4PL SATIPO TRANSPARENT LED15W E27 (5628) (TKL)  3279.0     4099.0  \n",
       "9328        Люстра 4PL SATIPO AMBER LED15W E27 (5625) (TKL)  3311.0     4139.0  \n",
       "9329      Люстра 3PL UNIVERSO BLACK LED15W E27 (4483) (TKL)  3359.0     4199.0  \n",
       "9330              Люстра 6PL FAIRY BLACK 6W G9 (4856) (TKL)  3471.0     4339.0  \n",
       "9331               Люстра 6PL FAIRY GOLD 6W G9 (3532) (TKL)  3951.0     4939.0  \n",
       "\n",
       "[8760 rows x 7 columns]"
      ]
     },
     "execution_count": 32,
     "metadata": {},
     "output_type": "execute_result"
    }
   ],
   "source": [
    "df"
   ]
  },
  {
   "cell_type": "code",
   "execution_count": 33,
   "id": "4f5aeb43",
   "metadata": {},
   "outputs": [],
   "source": [
    "def category(x):\n",
    "    xx = x.split('/')\n",
    "    xx = xx[3].replace('-','_')\n",
    "    return xx    "
   ]
  },
  {
   "cell_type": "code",
   "execution_count": 34,
   "id": "c8f1cc0b",
   "metadata": {},
   "outputs": [],
   "source": [
    "def subcategory(x):\n",
    "    xx = x.split('/')\n",
    "    xx = xx[4].replace('-','_')\n",
    "    return xx   "
   ]
  },
  {
   "cell_type": "code",
   "execution_count": 35,
   "id": "21f19571",
   "metadata": {},
   "outputs": [],
   "source": [
    "def subgroup(x):\n",
    "    xx = x.split('/')\n",
    "    xx = xx[-3].replace('-','_')\n",
    "    return xx   "
   ]
  },
  {
   "cell_type": "code",
   "execution_count": 36,
   "id": "10937f64",
   "metadata": {},
   "outputs": [],
   "source": [
    "def group(x):\n",
    "    xx = x.split('/')\n",
    "    if len(xx) == 7:\n",
    "        return xx[-3].replace('-','_')\n",
    "    elif len(xx) == 8:\n",
    "        return xx[-3].replace('-','_')\n",
    "    elif len(xx) == 9:\n",
    "        return xx[-4].replace('-','_')\n",
    "    elif len(xx) == 10:\n",
    "        return xx[-5].replace('-','_')\n",
    "    elif len(xx) == 11:\n",
    "        return xx[-6].replace('-','_')  "
   ]
  },
  {
   "cell_type": "markdown",
   "id": "849d22e8",
   "metadata": {},
   "source": [
    "создаем вспомогательные функции"
   ]
  },
  {
   "cell_type": "code",
   "execution_count": 37,
   "id": "469c69ac",
   "metadata": {},
   "outputs": [],
   "source": [
    "df['action_sale'] = 0"
   ]
  },
  {
   "cell_type": "code",
   "execution_count": 38,
   "id": "e562294a",
   "metadata": {},
   "outputs": [],
   "source": [
    "df.loc[df['old_price'] > 0,'action_sale'] = 1"
   ]
  },
  {
   "cell_type": "markdown",
   "id": "6d669ef9",
   "metadata": {},
   "source": [
    "создаем столбец который показывает является ли товар акционным(1 - акционный, 0 - не акционный)"
   ]
  },
  {
   "cell_type": "code",
   "execution_count": 39,
   "id": "f96150c2",
   "metadata": {},
   "outputs": [],
   "source": [
    "df['sale'] = (100 - ((df['price']*100)/df['old_price'])).round(2) "
   ]
  },
  {
   "cell_type": "markdown",
   "id": "63f425c2",
   "metadata": {},
   "source": [
    "создаем столбец показывающий скидку в процентах"
   ]
  },
  {
   "cell_type": "code",
   "execution_count": 40,
   "id": "2017904c",
   "metadata": {},
   "outputs": [],
   "source": [
    "df['category'] = df['soup_name'].apply(category)"
   ]
  },
  {
   "cell_type": "markdown",
   "id": "49fc2893",
   "metadata": {},
   "source": [
    "Создаем столбец показывающий категорию товаров"
   ]
  },
  {
   "cell_type": "code",
   "execution_count": 41,
   "id": "79790d09",
   "metadata": {},
   "outputs": [],
   "source": [
    "df['subcategory'] = df['soup_name'].apply(subcategory)"
   ]
  },
  {
   "cell_type": "markdown",
   "id": "c4d3e6ea",
   "metadata": {},
   "source": [
    "создаем столбец показывающий подкатегорию товаров"
   ]
  },
  {
   "cell_type": "code",
   "execution_count": 42,
   "id": "33af0a93",
   "metadata": {},
   "outputs": [],
   "source": [
    "df['group'] = df['soup_name'].apply(group)"
   ]
  },
  {
   "cell_type": "markdown",
   "id": "e0ea58de",
   "metadata": {},
   "source": [
    "создаем столбец показывающий группу товаров"
   ]
  },
  {
   "cell_type": "code",
   "execution_count": 43,
   "id": "4a7a62e4",
   "metadata": {},
   "outputs": [],
   "source": [
    "df.loc[df['subcategory']=='monitory','group'] = 'monitory'"
   ]
  },
  {
   "cell_type": "markdown",
   "id": "bb6985a6",
   "metadata": {},
   "source": [
    "в подкатегории мониторы меняем названия групп на мониторы"
   ]
  },
  {
   "cell_type": "code",
   "execution_count": 44,
   "id": "cddc565e",
   "metadata": {},
   "outputs": [
    {
     "data": {
      "text/html": [
       "<div>\n",
       "<style scoped>\n",
       "    .dataframe tbody tr th:only-of-type {\n",
       "        vertical-align: middle;\n",
       "    }\n",
       "\n",
       "    .dataframe tbody tr th {\n",
       "        vertical-align: top;\n",
       "    }\n",
       "\n",
       "    .dataframe thead th {\n",
       "        text-align: right;\n",
       "    }\n",
       "</style>\n",
       "<table border=\"1\" class=\"dataframe\">\n",
       "  <thead>\n",
       "    <tr style=\"text-align: right;\">\n",
       "      <th></th>\n",
       "      <th>soup_name</th>\n",
       "      <th>id</th>\n",
       "      <th>date</th>\n",
       "      <th>availability</th>\n",
       "      <th>title</th>\n",
       "      <th>price</th>\n",
       "      <th>old_price</th>\n",
       "      <th>action_sale</th>\n",
       "      <th>sale</th>\n",
       "      <th>category</th>\n",
       "      <th>subcategory</th>\n",
       "      <th>group</th>\n",
       "    </tr>\n",
       "  </thead>\n",
       "  <tbody>\n",
       "    <tr>\n",
       "      <th>0</th>\n",
       "      <td>https://hi-tech.md/televizory-i-elektronika/batareyki-i-zaryadnye-ustroystva/batareyka-energenie-eg-ba-cr1220-01/</td>\n",
       "      <td>Т-000088228</td>\n",
       "      <td>2024-06-07</td>\n",
       "      <td>В наличии</td>\n",
       "      <td>Батарейка Energenie EG-BA-CR1220-01</td>\n",
       "      <td>4.0</td>\n",
       "      <td>NaN</td>\n",
       "      <td>0</td>\n",
       "      <td>NaN</td>\n",
       "      <td>televizory_i_elektronika</td>\n",
       "      <td>batareyki_i_zaryadnye_ustroystva</td>\n",
       "      <td>batareyki_i_zaryadnye_ustroystva</td>\n",
       "    </tr>\n",
       "    <tr>\n",
       "      <th>1</th>\n",
       "      <td>https://hi-tech.md/televizory-i-elektronika/batareyki-i-zaryadnye-ustroystva/batareyka-energenie-eg-ba-cr2016-01/</td>\n",
       "      <td>Т-000088229</td>\n",
       "      <td>2024-06-07</td>\n",
       "      <td>В наличии</td>\n",
       "      <td>Батарейка Energenie EG-BA-CR2016-01</td>\n",
       "      <td>4.0</td>\n",
       "      <td>NaN</td>\n",
       "      <td>0</td>\n",
       "      <td>NaN</td>\n",
       "      <td>televizory_i_elektronika</td>\n",
       "      <td>batareyki_i_zaryadnye_ustroystva</td>\n",
       "      <td>batareyki_i_zaryadnye_ustroystva</td>\n",
       "    </tr>\n",
       "    <tr>\n",
       "      <th>2</th>\n",
       "      <td>https://hi-tech.md/televizory-i-elektronika/batareyki-i-zaryadnye-ustroystva/batareyka-energenie-eg-ba-aa4-01/</td>\n",
       "      <td>Т-000088221</td>\n",
       "      <td>2024-06-07</td>\n",
       "      <td>В наличии</td>\n",
       "      <td>Батарейка Energenie EG-BA-AA4-01</td>\n",
       "      <td>5.0</td>\n",
       "      <td>NaN</td>\n",
       "      <td>0</td>\n",
       "      <td>NaN</td>\n",
       "      <td>televizory_i_elektronika</td>\n",
       "      <td>batareyki_i_zaryadnye_ustroystva</td>\n",
       "      <td>batareyki_i_zaryadnye_ustroystva</td>\n",
       "    </tr>\n",
       "    <tr>\n",
       "      <th>3</th>\n",
       "      <td>https://hi-tech.md/televizory-i-elektronika/batareyki-i-zaryadnye-ustroystva/batareyka-energenie-eg-ba-aaa4-01/</td>\n",
       "      <td>Т-000088222</td>\n",
       "      <td>2024-06-07</td>\n",
       "      <td>В наличии</td>\n",
       "      <td>Батарейка Energenie EG-BA-AAA4-01</td>\n",
       "      <td>5.0</td>\n",
       "      <td>NaN</td>\n",
       "      <td>0</td>\n",
       "      <td>NaN</td>\n",
       "      <td>televizory_i_elektronika</td>\n",
       "      <td>batareyki_i_zaryadnye_ustroystva</td>\n",
       "      <td>batareyki_i_zaryadnye_ustroystva</td>\n",
       "    </tr>\n",
       "    <tr>\n",
       "      <th>4</th>\n",
       "      <td>https://hi-tech.md/televizory-i-elektronika/batareyki-i-zaryadnye-ustroystva/batareyka-energenie-eg-ba-cr2025-01/</td>\n",
       "      <td>Т-000088230</td>\n",
       "      <td>2024-06-07</td>\n",
       "      <td>В наличии</td>\n",
       "      <td>Батарейка Energenie EG-BA-CR2025-01</td>\n",
       "      <td>5.0</td>\n",
       "      <td>NaN</td>\n",
       "      <td>0</td>\n",
       "      <td>NaN</td>\n",
       "      <td>televizory_i_elektronika</td>\n",
       "      <td>batareyki_i_zaryadnye_ustroystva</td>\n",
       "      <td>batareyki_i_zaryadnye_ustroystva</td>\n",
       "    </tr>\n",
       "  </tbody>\n",
       "</table>\n",
       "</div>"
      ],
      "text/plain": [
       "                                                                                                           soup_name  \\\n",
       "0  https://hi-tech.md/televizory-i-elektronika/batareyki-i-zaryadnye-ustroystva/batareyka-energenie-eg-ba-cr1220-01/   \n",
       "1  https://hi-tech.md/televizory-i-elektronika/batareyki-i-zaryadnye-ustroystva/batareyka-energenie-eg-ba-cr2016-01/   \n",
       "2     https://hi-tech.md/televizory-i-elektronika/batareyki-i-zaryadnye-ustroystva/batareyka-energenie-eg-ba-aa4-01/   \n",
       "3    https://hi-tech.md/televizory-i-elektronika/batareyki-i-zaryadnye-ustroystva/batareyka-energenie-eg-ba-aaa4-01/   \n",
       "4  https://hi-tech.md/televizory-i-elektronika/batareyki-i-zaryadnye-ustroystva/batareyka-energenie-eg-ba-cr2025-01/   \n",
       "\n",
       "            id       date availability                                title  \\\n",
       "0  Т-000088228 2024-06-07    В наличии  Батарейка Energenie EG-BA-CR1220-01   \n",
       "1  Т-000088229 2024-06-07    В наличии  Батарейка Energenie EG-BA-CR2016-01   \n",
       "2  Т-000088221 2024-06-07    В наличии     Батарейка Energenie EG-BA-AA4-01   \n",
       "3  Т-000088222 2024-06-07    В наличии    Батарейка Energenie EG-BA-AAA4-01   \n",
       "4  Т-000088230 2024-06-07    В наличии  Батарейка Energenie EG-BA-CR2025-01   \n",
       "\n",
       "   price  old_price  action_sale  sale                  category  \\\n",
       "0    4.0        NaN            0   NaN  televizory_i_elektronika   \n",
       "1    4.0        NaN            0   NaN  televizory_i_elektronika   \n",
       "2    5.0        NaN            0   NaN  televizory_i_elektronika   \n",
       "3    5.0        NaN            0   NaN  televizory_i_elektronika   \n",
       "4    5.0        NaN            0   NaN  televizory_i_elektronika   \n",
       "\n",
       "                        subcategory                             group  \n",
       "0  batareyki_i_zaryadnye_ustroystva  batareyki_i_zaryadnye_ustroystva  \n",
       "1  batareyki_i_zaryadnye_ustroystva  batareyki_i_zaryadnye_ustroystva  \n",
       "2  batareyki_i_zaryadnye_ustroystva  batareyki_i_zaryadnye_ustroystva  \n",
       "3  batareyki_i_zaryadnye_ustroystva  batareyki_i_zaryadnye_ustroystva  \n",
       "4  batareyki_i_zaryadnye_ustroystva  batareyki_i_zaryadnye_ustroystva  "
      ]
     },
     "execution_count": 44,
     "metadata": {},
     "output_type": "execute_result"
    }
   ],
   "source": [
    "df.head()"
   ]
  },
  {
   "cell_type": "code",
   "execution_count": 45,
   "id": "c1396a25",
   "metadata": {},
   "outputs": [
    {
     "data": {
      "text/plain": [
       "array(['televizory_i_elektronika', 'kompyuternaya_tehnika',\n",
       "       'diskont_ne_deystvuet_ru', 'bytovaya_tehnika', 'tovar_po_akcii',\n",
       "       'instrumenty_i_oborudovanie', 'mebel_tekstil', 'akciya',\n",
       "       'tovary_dlya_doma'], dtype=object)"
      ]
     },
     "execution_count": 45,
     "metadata": {},
     "output_type": "execute_result"
    }
   ],
   "source": [
    "df['category'].unique()"
   ]
  },
  {
   "cell_type": "code",
   "execution_count": 46,
   "id": "540df2f4",
   "metadata": {},
   "outputs": [
    {
     "data": {
      "text/plain": [
       "array(['batareyki_i_zaryadnye_ustroystva', 'nastennye_krepleniya_dlya_tv',\n",
       "       'audiotehnika', 'smartfony_i_aksessuary', 'multimedia',\n",
       "       'pristavki_dlya_tv', 'gadzhety', 'telefony_dect_i_provodnye',\n",
       "       'tovary_apple', 'sport_i_otdyh',\n",
       "       'hd_cvi_videokamera_dahua_dh_hac_hdw1220mp_0280b_s2',\n",
       "       'umnyy_dom_s_yandeks', 'televizory', 'pylesosy_i_aksessuary',\n",
       "       'tehnika_karcher', 'aksessuary_dlya_melkoy_bytovoy_tehniki',\n",
       "       'tovary_dlya_uhoda_za_odezhdoy', 'minimoyki',\n",
       "       'prigotovlenie_napitkov', 'melkaya_tehnika_dlya_kuhni',\n",
       "       'tehnika_dlya_krasoty', 'stiralnye_i_sushilnye_mashiny',\n",
       "       'krupnaya_tehnika_dlya_kuhni', 'tehnika_dlya_zdorovya',\n",
       "       'klimaticheskaya_tehnika', 'ustanovka_bytovoy_tehniki',\n",
       "       'prigotovlenie_pischi', 'teploventilyator_tesy_hl_213v',\n",
       "       'elektroplita_zilan_zln8092', 'tekhnika_dlya_doma',\n",
       "       'kolpachok_rj_45_gembird_bt5bk_5', 'nakopiteli',\n",
       "       'setevoe_oborudovanie', 'aksessuary', 'rashodnye_materialy',\n",
       "       'periferiynye_ustroystva', 'orgtehnika', 'komplektuyuschie',\n",
       "       'krepleniya_dlya_monitora', 'elektropitanie',\n",
       "       'konnektor_rj_45_gembird_cat5e_lc_8p8c_001_100',\n",
       "       'rul_sven_gc_w300', 'xbox_playstation', 'rul_sven_gc_w800_usb',\n",
       "       'monitory', 'proektory_i_ekrany', 'noutbuki_planshety...',\n",
       "       'processor_intel_core_i5_12400_box',\n",
       "       'processor_amd_ryzen_r7_5800x_box',\n",
       "       'kreslo_komp._obrotowy_q_025_cvet_chernyy_sl_ucenka',\n",
       "       'kreslo_komp._obrotowy_q_g2_cvet_rozovyy_sl',\n",
       "       'kreslo_komp._obrotowy_q_g2_cvet_sine_chernyy_sl',\n",
       "       'kompyuternaya_mebel',\n",
       "       'kreslo_komp._obrotowy_q_g2_cvet_rozovo_seryy_sl',\n",
       "       'kreslo_komp._tokio_cvet_seryy_barhat_18_ami',\n",
       "       'kreslo_komp._siti_cvet_bezhevyy_holland_velvet_03_ami',\n",
       "       'kreslo_furniture_ch_801_black_orange',\n",
       "       'kreslo_furniture_ch_804_grey_blue',\n",
       "       'kreslo_furniture_ch_805_black', 'kreslo_furniture_d038_black',\n",
       "       'kreslo_furniture_d038_gray',\n",
       "       'kreslo_komp._obrotowy_q_078_cvet_chernyy_sl',\n",
       "       'gotovimsya_k_shkole_so_skidkami_do_30',\n",
       "       'kreslo_komp._obrotowy_q_025_cvet_sero_chernyy_sl',\n",
       "       'kreslo_komp._dexter_cvet_rozovo_belyy_sl',\n",
       "       'kreslo_komp._obrotowy_q_025_cvet_seryy_material_sl',\n",
       "       'kreslo_komp._daisy_cvet_seryy_sl',\n",
       "       'kreslo_komp._daisy_cvet_rozovyy_sl',\n",
       "       'kreslo_komp._dolly_cvet_rozovyy_sl',\n",
       "       'kreslo_komp._camaro_cvet_cherno_zheltyy_sl',\n",
       "       'kreslo_komp._camaro_cvet_cherno_krasnyy_sl',\n",
       "       'kreslo_komp._camaro_cvet_cherno_seryy_sl',\n",
       "       'kreslo_komp._obrotowy_q_319_cvet_chernyy_sl',\n",
       "       'kreslo_komp._obrotowy_q_319_cvet_seryy_sl',\n",
       "       'kreslo_komp._obrotowy_q_019_cvet_chernyy_sl',\n",
       "       'kreslo_furniture_3078_1_black_r',\n",
       "       'kreslo_furniture_3078_1_black_r_ucenka',\n",
       "       'kreslo_komp._obrotowy_q_033_cvet_chernyy_sl',\n",
       "       'kreslo_komp._obrotowy_q_831_cvet_seryy_sl',\n",
       "       'kreslo_furniture_3100a_black_yellow',\n",
       "       'kreslo_komp._obrotowy_q_022_cvet_belyy_sl',\n",
       "       'kreslo_komp._obrotowy_q_022_cvet_seryy_sl',\n",
       "       'kreslo_komp._obrotowy_q_022_cvet_chernyy_sl',\n",
       "       'kreslo_komp._obrotowy_q_022_cvet_rozovyy_sl',\n",
       "       'kreslo_komp._obrotowy_q_022_cvet_seryy_bluvel_14_sl',\n",
       "       'kreslo_komp._obrotowy_q_022_cvet_chernyy_bluvel_19_sl',\n",
       "       'kreslo_komp._obrotowy_q_022_cvet_seryy_material_sl',\n",
       "       'kreslo_komp._obrotowy_q_035_cvet_seryy_s_belymi_bokami_sl',\n",
       "       'kreslo_komp._q_939_cvet_cherno_seroe_sl',\n",
       "       'kreslo_komp._obrotowy_q_409_cvet_cherno_belyy_sl',\n",
       "       'kreslo_furniture_9366_beige_k_ucenka',\n",
       "       'kreslo_komp._obrotowy_q_031_cvet_bezhevyy_sl',\n",
       "       'kreslo_komp._obrotowy_q_031_cvet_seryy_sl',\n",
       "       'kreslo_komp._obrotowy_q_031_cvet_chernyy_sl',\n",
       "       'kreslo_furniture_hf_459_black',\n",
       "       'kreslo_komp._obrotowy_q_087_cvet_seryy_sl',\n",
       "       'kreslo_komp._obrotowy_q_087_cvet_chernyy_sl',\n",
       "       'kreslo_komp._obrotowy_q_229_cvet_cherno_seryy_sl',\n",
       "       'kreslo_komp._q_270_cvet_chernyy_sl',\n",
       "       'kreslo_komp._obrotowy_q_154_cvet_cheryy_sl',\n",
       "       'kreslo_furniture_9375_black_k', 'kreslo_furniture_1709_a',\n",
       "       'kreslo_furniture_1709_k', 'kreslo_furniture_1709_s',\n",
       "       'kreslo_furniture_9368_black_k', 'kreslo_furniture_9368_brown',\n",
       "       'kreslo_furniture_9368_coffee_k',\n",
       "       'kreslo_komp._obrotowy_viper_cvet_cherno_zheltyy_sl',\n",
       "       'kreslo_komp._obrotowy_viper_cvet_cherno_krasnyy_sl',\n",
       "       'kreslo_komp._obrotowy_viper_cvet_cherno_seryy_sl',\n",
       "       'kreslo_komp._viper_cvet_cherno_goluboy_sl',\n",
       "       'kreslo_furniture_a909_black',\n",
       "       'kreslo_komp._maryland_cvet_chernyy_sl',\n",
       "       'kreslo_kozhanoe_furniture_9341_black_k',\n",
       "       'kreslo_kozhanoe_furniture_9576_1_white_k',\n",
       "       'kreslo_kozhanoe_furniture_9368_black_k', 'elektroinstrument',\n",
       "       'servirovka_stola', 'kuhonnye_prinadlezhnosti', 'osveschenie',\n",
       "       'posuda_dlya_duhovok_i_mikrovolnovyh_pechey', 'bytovaya_himiya',\n",
       "       'kastryulya_ocuisine_204ac_2_1l_kryshka_ucenka'], dtype=object)"
      ]
     },
     "execution_count": 46,
     "metadata": {},
     "output_type": "execute_result"
    }
   ],
   "source": [
    "df['subcategory'].unique()"
   ]
  },
  {
   "cell_type": "code",
   "execution_count": 47,
   "id": "46c4776a",
   "metadata": {},
   "outputs": [
    {
     "data": {
      "text/plain": [
       "array(['batareyki_i_zaryadnye_ustroystva', 'nastennye_krepleniya_dlya_tv',\n",
       "       'mikrofony', 'naushniki', 'aksessuary', 'smartfony_i_aksessuary',\n",
       "       'akusticheskie_sistemy', 'akustika', 'pristavki_dlya_tv',\n",
       "       'muzykalnaya_tehnika', 'pleery', 'umny_dom', 'radio',\n",
       "       'telefony_dect_i_provodnye', 'saundbary', 'airpods',\n",
       "       'smart_gadzhety', 'hd_cvi_kamery', None, 'yandeks_stancii',\n",
       "       'televizory', 'smartfony', 'homepod', 'apple_whatch', 'iphone',\n",
       "       'filtry_i_meshki_dlya_pyli', 'meshki_i_filtry_karcher',\n",
       "       'aksessuary_k_pylesosam', 'aksessuary_dlya_zubnyh_schetok',\n",
       "       'mashinki_dlya_udaleniya_katyshkov', 'minimoyki',\n",
       "       'gladilnye_doski', 'sushilki_dlya_belya', 'turki_elektricheskie',\n",
       "       'vakuumatory', 'vypryamiteli_dlya_volos',\n",
       "       'frontalnye_stiralnye_mashiny', 'kofevarki', 'vesy_napolnye',\n",
       "       'kofe', 'miksery', 'vesy_kuhonnye', 'vytyazhki', 'feny_dlya_volos',\n",
       "       'elektricheskie_chayniki', 'varochnye_poverhnosti', 'ployki',\n",
       "       'tostery', 'kronshteyny_dlya_mikrovolnovyh_pechey',\n",
       "       'plity_gazovye_i_elektricheskie', 'kofemolki', 'blendery',\n",
       "       'elektricheskie_zubnye_schetki', 'obogrevateli', 'sokovyzhimalki',\n",
       "       'ustanovka_bytovoy_tehniki', 'sendvichnicy_i_vafelnicy',\n",
       "       'komplektuyuschie_dlya_klimaticheskoy_tehniki',\n",
       "       'trimmery_mashinki_dlya_strizhki', 'ventilyatory',\n",
       "       'sokovyzhimalki_dlya_citrusov', 'yogurtnicy', 'utyugi',\n",
       "       'kofemashiny', 'elektrogrili',\n",
       "       'aksessuary_dlya_elektricheskih_britv', 'uvlazhniteli_kompleksy',\n",
       "       'massazhery_vannochki_dlya_nog', 'medicinskie_pribory',\n",
       "       'otparivateli_dlya_odezhdy', 'elektricheskie_britvy',\n",
       "       'nabory_dlya_ukladki_volos', 'pylesosy', 'choppery', 'boylery',\n",
       "       'kondicionery', 'elektromyasorubki', 'epilyatory',\n",
       "       'kuhonnye_kombayny', 'sushilki_dlya_fruktov',\n",
       "       'frityurnicy_i_aerogrili', 'elektro_pechi_i_duhovki', 'irrigatory',\n",
       "       'parovarki', 'multivarki', 'mikrovolnovye_pechi', 'parogeneratory',\n",
       "       'lomterezki', 'stiralnye_i_sushilnye_mashiny',\n",
       "       'poluavtomaticheskie_stiralnye_mashiny', 'holodilniki',\n",
       "       'hlebopechi', 'generatory_lda', 'termopoty', 'shveynye_mashiny',\n",
       "       'multivarki_skorovarki', 'duhovye_shkafy', 'morozilniki_i_lari',\n",
       "       'kondicionery_multi_split', 'posudomoechnye_mashiny',\n",
       "       'vertikalnye_stiralnye_mashiny', 'otopitelnye_pechi',\n",
       "       'stiralno_sushilnye_mashiny', 'sushilnye_mashiny', 'kotly_gazovye',\n",
       "       'kondicionery_kassetnye', 'promyshlennye_kondicionery',\n",
       "       'diski_cd_dvd', 'patch_kordy', 'kabeli_i_perehodniki', 'zipy',\n",
       "       'bumaga', 'kovriki_dlya_myshi', 'dlya_noutbukov',\n",
       "       'kabeli_dlya_printerov', 'styazhki', 'termopasta',\n",
       "       'sistemy_ohlazhdeniya', 'kardridery', 'chernila',\n",
       "       'krepleniya_dlya_monitora', 'myshi', 'chistyaschie_sredstva',\n",
       "       'zaryadnye_usb', 'dzhoystiki_i_ruli', 'dlya_planshetov',\n",
       "       'zvukovye_karty', 'setevye_filtry', 'karty_pamyati', 'adaptery',\n",
       "       'fleshki', 'karmany_dlya_hdd_ssd', 'klaviatury_i_komplekty',\n",
       "       'karty_setevye', 'toner', 'instrument', 'kommutatory',\n",
       "       'veb_kamery', 'batarei', 'povtoriteli_wifi', 'opticheskie_privody',\n",
       "       'moduli_pamyati', 'tochki_dostupa',\n",
       "       'bloki_pitaniya_dlya_noutbukov', 'bloki_pitaniya',\n",
       "       'portativnye_akkumulyatory', 'invertory', 'videoregistratory',\n",
       "       'kartridzhi', 'nakopitel_ssd', 'stabilizatory', 'korpusa',\n",
       "       'nakopitel_hdd', 'printery_i_mfu', 'skanery', 'ibp', 'ruli',\n",
       "       'processory', 'vneshnie_hdd', 'unichtozhiteli_dokumentov',\n",
       "       'geympady_ps4_hbox', 'materinskie_platy', 'videokarty', 'monitory',\n",
       "       'ekrany_dlya_proektorov', 'planshetnye_pk', 'kabel_setevoy',\n",
       "       'setevye_shkafy', 'elektronnye_knigi', 'nettopy',\n",
       "       'sistemnye_bloki', 'noutbuki', 'pristavki_ps4_xbox', 'ipad',\n",
       "       'proektory', 'macbook', 'imac', 'ofisnye_kresla_i_stulya',\n",
       "       'gotovimsya_k_shkole_so_skidkami_do_30', 'rashodnye_materialy',\n",
       "       'nabory_instrumentov_i_izmeritelnye_pribory', 'shurupoverty',\n",
       "       'stroitelnye_feny', 'dreli', 'shlifovalnye_mashinki',\n",
       "       'apparaty_dlya_svarki_trub', 'instrument_dlya_raboty_po_derevu',\n",
       "       'perforatory', 'gazonokosilki_i_trimmery', 'elektroinstrument',\n",
       "       'prochie_predmety_servirovki', 'stolovye_pribory',\n",
       "       'kuhonnye_aksessuary', 'lampochki', 'salatniki_i_blyuda',\n",
       "       'formy_dlya_vypechki',\n",
       "       'emkosti_dlya_sypuchih_i_konteynery_dlya_edy', 'fuzhery_i_bokaly',\n",
       "       'nozhi', 'stolovye_servizy', 'kofeynye_i_chaynye_chashki',\n",
       "       'svetilniki_svetodiodnye', 'sredstva_dlya_stirki',\n",
       "       'sredstva_po_uhodu_za_tehnikoy', 'fonari', 'turki',\n",
       "       'sredstva_dlya_posudomoechnyh_mashin', 'kryshki',\n",
       "       'termosy_termokruzhki_termosumki', 'zavarochnye_chayniki',\n",
       "       'servirovka_stola', 'skovorody', 'filtry_dlya_vody', 'lyustry',\n",
       "       'kofevarki_geyzernye', 'lampy_nastolnye', 'kastryuli', 'kovshi',\n",
       "       'soteyniki', 'interernoe_osveschenie', 'chayniki_dlya_plity',\n",
       "       'bra', 'nabory_posudy', 'torshery'], dtype=object)"
      ]
     },
     "execution_count": 47,
     "metadata": {},
     "output_type": "execute_result"
    }
   ],
   "source": [
    "df.group.unique()"
   ]
  },
  {
   "cell_type": "markdown",
   "id": "e5bd38a2",
   "metadata": {},
   "source": [
    "проссматриваем названия категорий подкатегорий и групп товаров"
   ]
  },
  {
   "cell_type": "code",
   "execution_count": 48,
   "id": "fd3d97e5",
   "metadata": {},
   "outputs": [],
   "source": [
    "df.loc[df['group'].isna(),'group'] = 'No_group'"
   ]
  },
  {
   "cell_type": "markdown",
   "id": "aaaaf3e5",
   "metadata": {},
   "source": [
    "удалеем из столбца group все значения None"
   ]
  },
  {
   "cell_type": "code",
   "execution_count": 49,
   "id": "30c11169",
   "metadata": {},
   "outputs": [],
   "source": [
    "def count_group(x):\n",
    "    return df[df['group']==x]['id'].count()    "
   ]
  },
  {
   "cell_type": "code",
   "execution_count": 50,
   "id": "e37c2f0c",
   "metadata": {},
   "outputs": [],
   "source": [
    "df['count_group'] = df['group'].apply(count_group)"
   ]
  },
  {
   "cell_type": "markdown",
   "id": "0e8efdc1",
   "metadata": {},
   "source": [
    "создание столбца с количеством товара в группе"
   ]
  },
  {
   "cell_type": "code",
   "execution_count": 51,
   "id": "d27d6fcc",
   "metadata": {},
   "outputs": [],
   "source": [
    "def count_group_presence(x):\n",
    "    return df[(df['availability']=='В наличии')&(df['group']==x)]['id'].count()   "
   ]
  },
  {
   "cell_type": "code",
   "execution_count": 52,
   "id": "8eefa94f",
   "metadata": {},
   "outputs": [],
   "source": [
    "df['count_group_presence'] = df['group'].apply(count_group_presence)"
   ]
  },
  {
   "cell_type": "markdown",
   "id": "22092d0e",
   "metadata": {},
   "source": [
    "создание столбца с количеством товара, который есть в наличии, в группе"
   ]
  },
  {
   "cell_type": "code",
   "execution_count": 53,
   "id": "08fac5d3",
   "metadata": {},
   "outputs": [],
   "source": [
    "def dif_price(x):    \n",
    "    max_price = df[(df['availability']=='В наличии')&(df['group']==x)]['price'].max()\n",
    "    min_price = df[(df['availability']=='В наличии')&(df['group']==x)]['price'].min() \n",
    "    return max_price / min_price"
   ]
  },
  {
   "cell_type": "code",
   "execution_count": 54,
   "id": "b61e6a6e",
   "metadata": {},
   "outputs": [],
   "source": [
    "df['dif_price'] = df['group'].apply(dif_price)"
   ]
  },
  {
   "cell_type": "markdown",
   "id": "5feb0b17",
   "metadata": {},
   "source": [
    "создам столбец с отношением самой дорогой цены в группе к самой дешевой."
   ]
  },
  {
   "cell_type": "code",
   "execution_count": 55,
   "id": "9de9d8e9",
   "metadata": {},
   "outputs": [],
   "source": [
    "def brends(x):\n",
    "    xx = x.replace('\\xa0', ' ')\n",
    "    xx = xx.split(' ')    \n",
    "    for i in range(len(xx)-1):\n",
    "        if xx[i].lower() in brend_low:\n",
    "            return xx[i].lower()\n",
    "        elif (str(xx[i].lower())+' '+str(xx[i+1].lower())) in brend_low:\n",
    "            return (str(xx[i].lower())+' '+str(xx[i+1].lower()))    \n",
    "    else:    \n",
    "        return 'другой'"
   ]
  },
  {
   "cell_type": "code",
   "execution_count": 56,
   "id": "d3863bbc",
   "metadata": {},
   "outputs": [],
   "source": [
    "df['brend'] = df['title'].apply(brends)"
   ]
  },
  {
   "cell_type": "code",
   "execution_count": 57,
   "id": "f1132a94",
   "metadata": {},
   "outputs": [],
   "source": [
    "df['group_prise'] = df.groupby('group')['price'].transform(lambda x: pd.cut(x, bins = 4, labels=[\"бюджет\", \"стандарт\", \"элит\", \"топ\"]))"
   ]
  },
  {
   "cell_type": "code",
   "execution_count": 58,
   "id": "de8416bc",
   "metadata": {},
   "outputs": [],
   "source": [
    "today = pd.to_datetime('today').normalize()\n",
    "today = today.to_pydatetime()\n",
    "df.to_csv('csv/hi_tech_sity_'+str(today.year)+'_'+str(today.month)+'_'+str(today.day)+'.csv', index=False)  "
   ]
  },
  {
   "cell_type": "markdown",
   "id": "1b7e5d9b",
   "metadata": {},
   "source": [
    "# Добавление остатков по магазинам"
   ]
  },
  {
   "cell_type": "code",
   "execution_count": 59,
   "id": "abeb76b7",
   "metadata": {},
   "outputs": [],
   "source": [
    "def count_sity(x):\n",
    "    reqx = requests.get(x)\n",
    "    soup = bs(reqx.text, 'html.parser')    \n",
    "    data = []\n",
    "    data.append((soup.findAll('div', class_='ty-product-block__sku'))[0].text.split()[1])\n",
    "    element = soup.findAll('div', class_='ty-warehouses-store__availability')\n",
    "    for i in (element):\n",
    "        data.append(i.text.strip()\n",
    "                    .replace('В наличии', '1')\n",
    "                    .replace('Нет в наличии','0')\n",
    "                    .replace('Под заказ (1-3 дня)','0')\n",
    "                    .replace('nan','0'))\n",
    "    return data"
   ]
  },
  {
   "cell_type": "code",
   "execution_count": 60,
   "id": "0532b066",
   "metadata": {
    "scrolled": true
   },
   "outputs": [
    {
     "name": "stderr",
     "output_type": "stream",
     "text": [
      "3183it [31:55,  1.66it/s]\n"
     ]
    },
    {
     "ename": "IndexError",
     "evalue": "list index out of range",
     "output_type": "error",
     "traceback": [
      "\u001b[1;31m---------------------------------------------------------------------------\u001b[0m",
      "\u001b[1;31mIndexError\u001b[0m                                Traceback (most recent call last)",
      "Cell \u001b[1;32mIn[60], line 16\u001b[0m\n\u001b[0;32m     14\u001b[0m df\u001b[38;5;241m.\u001b[39mloc[[x],[\u001b[38;5;124m'\u001b[39m\u001b[38;5;124mЦ_Тир_25_Октября_69\u001b[39m\u001b[38;5;124m'\u001b[39m]]\u001b[38;5;241m=\u001b[39m data[\u001b[38;5;241m1\u001b[39m]\n\u001b[0;32m     15\u001b[0m df\u001b[38;5;241m.\u001b[39mloc[[x],[\u001b[38;5;124m'\u001b[39m\u001b[38;5;124mЦ_Бенд_Спортивная_5\u001b[39m\u001b[38;5;124m'\u001b[39m]]\u001b[38;5;241m=\u001b[39m data[\u001b[38;5;241m2\u001b[39m]\n\u001b[1;32m---> 16\u001b[0m df\u001b[38;5;241m.\u001b[39mloc[[x],[\u001b[38;5;124m'\u001b[39m\u001b[38;5;124mБенд_Советская_5\u001b[39m\u001b[38;5;124m'\u001b[39m]]\u001b[38;5;241m=\u001b[39m data[\u001b[38;5;241m3\u001b[39m]\n\u001b[0;32m     17\u001b[0m df\u001b[38;5;241m.\u001b[39mloc[[x],[\u001b[38;5;124m'\u001b[39m\u001b[38;5;124mБенд_Советская_8\u001b[39m\u001b[38;5;124m'\u001b[39m]]\u001b[38;5;241m=\u001b[39m data[\u001b[38;5;241m4\u001b[39m] \n\u001b[0;32m     18\u001b[0m df\u001b[38;5;241m.\u001b[39mloc[[x],[\u001b[38;5;124m'\u001b[39m\u001b[38;5;124mСлоб_Ленина_97А\u001b[39m\u001b[38;5;124m'\u001b[39m]]\u001b[38;5;241m=\u001b[39m data[\u001b[38;5;241m5\u001b[39m]\n",
      "\u001b[1;31mIndexError\u001b[0m: list index out of range"
     ]
    }
   ],
   "source": [
    "for x, url in tqdm(enumerate(df['soup_name'])):\n",
    "    reqx = requests.get(url)\n",
    "    soup = bs(reqx.text, 'html.parser')    \n",
    "    data = []\n",
    "    #data.append((soup.findAll('div', class_='ty-product-block__sku'))[0].text.split()[1])\n",
    "    element = soup.findAll('div', class_='ty-warehouses-store__availability')\n",
    "    for i in (element):\n",
    "        data.append(i.text.strip()\n",
    "                    .replace('В наличии', '1')\n",
    "                    .replace('Нет в наличии','0')\n",
    "                    .replace('Под заказ (1-3 дня)','0')\n",
    "                    .replace('nan','0'))\n",
    "    df.loc[[x],['Тир_Юности_14А']]=  data[0]\n",
    "    df.loc[[x],['Ц_Тир_25_Октября_69']]= data[1]\n",
    "    df.loc[[x],['Ц_Бенд_Спортивная_5']]= data[2]\n",
    "    df.loc[[x],['Бенд_Советская_5']]= data[3]\n",
    "    df.loc[[x],['Бенд_Советская_8']]= data[4] \n",
    "    df.loc[[x],['Слоб_Ленина_97А']]= data[5]\n",
    "    df.loc[[x],['Днестр_Строителей_18']]= data[6]\n",
    "    df.loc[[x],['Первом_Ленина_88']]= data[7]\n",
    "    df.loc[[x],['Григ_КМаркса_181А']]= data[8] \n",
    "    df.loc[[x],['Григ_КМаркса_172']]= data[9]\n",
    "    df.loc[[x],['Дуб_Горького_29']]= data[10] \n",
    "    df.loc[[x],['Рыбн_Вальченко_43/1']]= data[11]\n",
    "    df.loc[[x],['Рыбн_Кирова_135']]= data[12]\n",
    "    df.loc[[x],['Кам_Кирова_240']]= data[13]"
   ]
  },
  {
   "cell_type": "code",
   "execution_count": null,
   "id": "f3ae284c",
   "metadata": {},
   "outputs": [],
   "source": [
    "#df['count_sity'] = df['soup_name'].apply(count_sity)"
   ]
  },
  {
   "cell_type": "markdown",
   "id": "b7baecb2",
   "metadata": {},
   "source": [
    "t = pd.DataFrame({ 'id': df['count_sity'].str[0] ,\n",
    "                  'Тир_Юности_14А': df['count_sity'].str[1], \n",
    "                  'Ц_Тир_25_Октября_69': df['count_sity'].str[2],\n",
    "                  'Ц_Бенд_Спортивная_5': df['count_sity'].str[3],\n",
    "                  'Бенд_Советская_5': df['count_sity'].str[4],\n",
    "                  'Бенд_Советская_8': df['count_sity'].str[5], \n",
    "                  'Слоб_Ленина_97А': df['count_sity'].str[6],\n",
    "                  'Днестр_Строителей_18': df['count_sity'].str[7],\n",
    "                  'Первом_Ленина_88': df['count_sity'].str[8],\n",
    "                  'Григ_КМаркса_181А': df['count_sity'].str[9], \n",
    "                  'Григ_КМаркса_172': df['count_sity'].str[10],\n",
    "                  'Дуб_Горького_29': df['count_sity'].str[11], \n",
    "                  'Рыбн_Вальченко_43/1': df['count_sity'].str[12], \n",
    "                  'Рыбн_Кирова_135': df['count_sity'].str[13],\n",
    "                  'Кам_Кирова_240': df['count_sity'].str[14]})\n",
    "t"
   ]
  },
  {
   "cell_type": "markdown",
   "id": "29046fe6",
   "metadata": {},
   "source": [
    "df = df.merge(t, on='id')"
   ]
  },
  {
   "cell_type": "markdown",
   "id": "53a9e422",
   "metadata": {},
   "source": [
    "df.drop(['count_sity'], axis= 1 , inplace= True )"
   ]
  },
  {
   "cell_type": "code",
   "execution_count": null,
   "id": "3324c55f",
   "metadata": {},
   "outputs": [],
   "source": [
    "df.to_csv('csv/hi_tech_end_'+str(today.year)+'_'+str(today.month)+'_'+str(today.day)+'.csv', index=False)  "
   ]
  },
  {
   "cell_type": "code",
   "execution_count": 64,
   "id": "06323552",
   "metadata": {},
   "outputs": [
    {
     "data": {
      "text/plain": [
       "'T-900000003'"
      ]
     },
     "execution_count": 64,
     "metadata": {},
     "output_type": "execute_result"
    }
   ],
   "source": [
    "df.loc[3183,'id']"
   ]
  },
  {
   "cell_type": "code",
   "execution_count": 63,
   "id": "2ef79a12",
   "metadata": {},
   "outputs": [
    {
     "data": {
      "text/html": [
       "<div>\n",
       "<style scoped>\n",
       "    .dataframe tbody tr th:only-of-type {\n",
       "        vertical-align: middle;\n",
       "    }\n",
       "\n",
       "    .dataframe tbody tr th {\n",
       "        vertical-align: top;\n",
       "    }\n",
       "\n",
       "    .dataframe thead th {\n",
       "        text-align: right;\n",
       "    }\n",
       "</style>\n",
       "<table border=\"1\" class=\"dataframe\">\n",
       "  <thead>\n",
       "    <tr style=\"text-align: right;\">\n",
       "      <th></th>\n",
       "      <th>soup_name</th>\n",
       "      <th>id</th>\n",
       "      <th>date</th>\n",
       "      <th>availability</th>\n",
       "      <th>title</th>\n",
       "      <th>price</th>\n",
       "      <th>old_price</th>\n",
       "      <th>action_sale</th>\n",
       "      <th>sale</th>\n",
       "      <th>category</th>\n",
       "      <th>subcategory</th>\n",
       "      <th>group</th>\n",
       "      <th>count_group</th>\n",
       "      <th>count_group_presence</th>\n",
       "      <th>dif_price</th>\n",
       "      <th>brend</th>\n",
       "      <th>group_prise</th>\n",
       "      <th>Тир_Юности_14А</th>\n",
       "      <th>Ц_Тир_25_Октября_69</th>\n",
       "      <th>Ц_Бенд_Спортивная_5</th>\n",
       "      <th>Бенд_Советская_5</th>\n",
       "      <th>Бенд_Советская_8</th>\n",
       "      <th>Слоб_Ленина_97А</th>\n",
       "      <th>Днестр_Строителей_18</th>\n",
       "      <th>Первом_Ленина_88</th>\n",
       "      <th>Григ_КМаркса_181А</th>\n",
       "      <th>Григ_КМаркса_172</th>\n",
       "      <th>Дуб_Горького_29</th>\n",
       "      <th>Рыбн_Вальченко_43/1</th>\n",
       "      <th>Рыбн_Кирова_135</th>\n",
       "      <th>Кам_Кирова_240</th>\n",
       "    </tr>\n",
       "  </thead>\n",
       "  <tbody>\n",
       "    <tr>\n",
       "      <th>0</th>\n",
       "      <td>https://hi-tech.md/televizory-i-elektronika/batareyki-i-zaryadnye-ustroystva/batareyka-energenie-eg-ba-cr1220-01/</td>\n",
       "      <td>Т-000088228</td>\n",
       "      <td>2024-06-07</td>\n",
       "      <td>В наличии</td>\n",
       "      <td>Батарейка Energenie EG-BA-CR1220-01</td>\n",
       "      <td>4.0</td>\n",
       "      <td>NaN</td>\n",
       "      <td>0</td>\n",
       "      <td>NaN</td>\n",
       "      <td>televizory_i_elektronika</td>\n",
       "      <td>batareyki_i_zaryadnye_ustroystva</td>\n",
       "      <td>batareyki_i_zaryadnye_ustroystva</td>\n",
       "      <td>76</td>\n",
       "      <td>76</td>\n",
       "      <td>199.750000</td>\n",
       "      <td>energenie</td>\n",
       "      <td>бюджет</td>\n",
       "      <td>1</td>\n",
       "      <td>1</td>\n",
       "      <td>1</td>\n",
       "      <td>1</td>\n",
       "      <td>0</td>\n",
       "      <td>1</td>\n",
       "      <td>1</td>\n",
       "      <td>1</td>\n",
       "      <td>1</td>\n",
       "      <td>1</td>\n",
       "      <td>1</td>\n",
       "      <td>1</td>\n",
       "      <td>1</td>\n",
       "      <td>1</td>\n",
       "    </tr>\n",
       "    <tr>\n",
       "      <th>1</th>\n",
       "      <td>https://hi-tech.md/televizory-i-elektronika/batareyki-i-zaryadnye-ustroystva/batareyka-energenie-eg-ba-cr2016-01/</td>\n",
       "      <td>Т-000088229</td>\n",
       "      <td>2024-06-07</td>\n",
       "      <td>В наличии</td>\n",
       "      <td>Батарейка Energenie EG-BA-CR2016-01</td>\n",
       "      <td>4.0</td>\n",
       "      <td>NaN</td>\n",
       "      <td>0</td>\n",
       "      <td>NaN</td>\n",
       "      <td>televizory_i_elektronika</td>\n",
       "      <td>batareyki_i_zaryadnye_ustroystva</td>\n",
       "      <td>batareyki_i_zaryadnye_ustroystva</td>\n",
       "      <td>76</td>\n",
       "      <td>76</td>\n",
       "      <td>199.750000</td>\n",
       "      <td>energenie</td>\n",
       "      <td>бюджет</td>\n",
       "      <td>1</td>\n",
       "      <td>1</td>\n",
       "      <td>1</td>\n",
       "      <td>1</td>\n",
       "      <td>0</td>\n",
       "      <td>1</td>\n",
       "      <td>1</td>\n",
       "      <td>1</td>\n",
       "      <td>1</td>\n",
       "      <td>1</td>\n",
       "      <td>1</td>\n",
       "      <td>1</td>\n",
       "      <td>1</td>\n",
       "      <td>1</td>\n",
       "    </tr>\n",
       "    <tr>\n",
       "      <th>2</th>\n",
       "      <td>https://hi-tech.md/televizory-i-elektronika/batareyki-i-zaryadnye-ustroystva/batareyka-energenie-eg-ba-aa4-01/</td>\n",
       "      <td>Т-000088221</td>\n",
       "      <td>2024-06-07</td>\n",
       "      <td>В наличии</td>\n",
       "      <td>Батарейка Energenie EG-BA-AA4-01</td>\n",
       "      <td>5.0</td>\n",
       "      <td>NaN</td>\n",
       "      <td>0</td>\n",
       "      <td>NaN</td>\n",
       "      <td>televizory_i_elektronika</td>\n",
       "      <td>batareyki_i_zaryadnye_ustroystva</td>\n",
       "      <td>batareyki_i_zaryadnye_ustroystva</td>\n",
       "      <td>76</td>\n",
       "      <td>76</td>\n",
       "      <td>199.750000</td>\n",
       "      <td>energenie</td>\n",
       "      <td>бюджет</td>\n",
       "      <td>1</td>\n",
       "      <td>1</td>\n",
       "      <td>1</td>\n",
       "      <td>1</td>\n",
       "      <td>1</td>\n",
       "      <td>1</td>\n",
       "      <td>1</td>\n",
       "      <td>1</td>\n",
       "      <td>1</td>\n",
       "      <td>1</td>\n",
       "      <td>1</td>\n",
       "      <td>1</td>\n",
       "      <td>1</td>\n",
       "      <td>1</td>\n",
       "    </tr>\n",
       "    <tr>\n",
       "      <th>3</th>\n",
       "      <td>https://hi-tech.md/televizory-i-elektronika/batareyki-i-zaryadnye-ustroystva/batareyka-energenie-eg-ba-aaa4-01/</td>\n",
       "      <td>Т-000088222</td>\n",
       "      <td>2024-06-07</td>\n",
       "      <td>В наличии</td>\n",
       "      <td>Батарейка Energenie EG-BA-AAA4-01</td>\n",
       "      <td>5.0</td>\n",
       "      <td>NaN</td>\n",
       "      <td>0</td>\n",
       "      <td>NaN</td>\n",
       "      <td>televizory_i_elektronika</td>\n",
       "      <td>batareyki_i_zaryadnye_ustroystva</td>\n",
       "      <td>batareyki_i_zaryadnye_ustroystva</td>\n",
       "      <td>76</td>\n",
       "      <td>76</td>\n",
       "      <td>199.750000</td>\n",
       "      <td>energenie</td>\n",
       "      <td>бюджет</td>\n",
       "      <td>1</td>\n",
       "      <td>1</td>\n",
       "      <td>1</td>\n",
       "      <td>1</td>\n",
       "      <td>1</td>\n",
       "      <td>1</td>\n",
       "      <td>1</td>\n",
       "      <td>1</td>\n",
       "      <td>1</td>\n",
       "      <td>1</td>\n",
       "      <td>1</td>\n",
       "      <td>1</td>\n",
       "      <td>1</td>\n",
       "      <td>1</td>\n",
       "    </tr>\n",
       "    <tr>\n",
       "      <th>4</th>\n",
       "      <td>https://hi-tech.md/televizory-i-elektronika/batareyki-i-zaryadnye-ustroystva/batareyka-energenie-eg-ba-cr2025-01/</td>\n",
       "      <td>Т-000088230</td>\n",
       "      <td>2024-06-07</td>\n",
       "      <td>В наличии</td>\n",
       "      <td>Батарейка Energenie EG-BA-CR2025-01</td>\n",
       "      <td>5.0</td>\n",
       "      <td>NaN</td>\n",
       "      <td>0</td>\n",
       "      <td>NaN</td>\n",
       "      <td>televizory_i_elektronika</td>\n",
       "      <td>batareyki_i_zaryadnye_ustroystva</td>\n",
       "      <td>batareyki_i_zaryadnye_ustroystva</td>\n",
       "      <td>76</td>\n",
       "      <td>76</td>\n",
       "      <td>199.750000</td>\n",
       "      <td>energenie</td>\n",
       "      <td>бюджет</td>\n",
       "      <td>1</td>\n",
       "      <td>1</td>\n",
       "      <td>1</td>\n",
       "      <td>1</td>\n",
       "      <td>0</td>\n",
       "      <td>1</td>\n",
       "      <td>1</td>\n",
       "      <td>1</td>\n",
       "      <td>1</td>\n",
       "      <td>1</td>\n",
       "      <td>1</td>\n",
       "      <td>1</td>\n",
       "      <td>1</td>\n",
       "      <td>0</td>\n",
       "    </tr>\n",
       "    <tr>\n",
       "      <th>...</th>\n",
       "      <td>...</td>\n",
       "      <td>...</td>\n",
       "      <td>...</td>\n",
       "      <td>...</td>\n",
       "      <td>...</td>\n",
       "      <td>...</td>\n",
       "      <td>...</td>\n",
       "      <td>...</td>\n",
       "      <td>...</td>\n",
       "      <td>...</td>\n",
       "      <td>...</td>\n",
       "      <td>...</td>\n",
       "      <td>...</td>\n",
       "      <td>...</td>\n",
       "      <td>...</td>\n",
       "      <td>...</td>\n",
       "      <td>...</td>\n",
       "      <td>...</td>\n",
       "      <td>...</td>\n",
       "      <td>...</td>\n",
       "      <td>...</td>\n",
       "      <td>...</td>\n",
       "      <td>...</td>\n",
       "      <td>...</td>\n",
       "      <td>...</td>\n",
       "      <td>...</td>\n",
       "      <td>...</td>\n",
       "      <td>...</td>\n",
       "      <td>...</td>\n",
       "      <td>...</td>\n",
       "      <td>...</td>\n",
       "    </tr>\n",
       "    <tr>\n",
       "      <th>9327</th>\n",
       "      <td>https://hi-tech.md/tovary-dlya-doma/osveschenie/lyustry/lyustra-4pl-satipo-transparent-led15w-e27-5628-tkl/</td>\n",
       "      <td>Т-000085036</td>\n",
       "      <td>2024-06-07</td>\n",
       "      <td>В наличии</td>\n",
       "      <td>Люстра 4PL SATIPO TRANSPARENT LED15W E27 (5628) (TKL)</td>\n",
       "      <td>3279.0</td>\n",
       "      <td>4099.0</td>\n",
       "      <td>1</td>\n",
       "      <td>20.0</td>\n",
       "      <td>tovary_dlya_doma</td>\n",
       "      <td>osveschenie</td>\n",
       "      <td>lyustry</td>\n",
       "      <td>196</td>\n",
       "      <td>175</td>\n",
       "      <td>41.589474</td>\n",
       "      <td>другой</td>\n",
       "      <td>топ</td>\n",
       "      <td>NaN</td>\n",
       "      <td>NaN</td>\n",
       "      <td>NaN</td>\n",
       "      <td>NaN</td>\n",
       "      <td>NaN</td>\n",
       "      <td>NaN</td>\n",
       "      <td>NaN</td>\n",
       "      <td>NaN</td>\n",
       "      <td>NaN</td>\n",
       "      <td>NaN</td>\n",
       "      <td>NaN</td>\n",
       "      <td>NaN</td>\n",
       "      <td>NaN</td>\n",
       "      <td>NaN</td>\n",
       "    </tr>\n",
       "    <tr>\n",
       "      <th>9328</th>\n",
       "      <td>https://hi-tech.md/tovary-dlya-doma/osveschenie/lyustry/lyustra-4pl-satipo-amber-led15w-e27-5625-tkl/</td>\n",
       "      <td>Т-000085037</td>\n",
       "      <td>2024-06-07</td>\n",
       "      <td>В наличии</td>\n",
       "      <td>Люстра 4PL SATIPO AMBER LED15W E27 (5625) (TKL)</td>\n",
       "      <td>3311.0</td>\n",
       "      <td>4139.0</td>\n",
       "      <td>1</td>\n",
       "      <td>20.0</td>\n",
       "      <td>tovary_dlya_doma</td>\n",
       "      <td>osveschenie</td>\n",
       "      <td>lyustry</td>\n",
       "      <td>196</td>\n",
       "      <td>175</td>\n",
       "      <td>41.589474</td>\n",
       "      <td>другой</td>\n",
       "      <td>топ</td>\n",
       "      <td>NaN</td>\n",
       "      <td>NaN</td>\n",
       "      <td>NaN</td>\n",
       "      <td>NaN</td>\n",
       "      <td>NaN</td>\n",
       "      <td>NaN</td>\n",
       "      <td>NaN</td>\n",
       "      <td>NaN</td>\n",
       "      <td>NaN</td>\n",
       "      <td>NaN</td>\n",
       "      <td>NaN</td>\n",
       "      <td>NaN</td>\n",
       "      <td>NaN</td>\n",
       "      <td>NaN</td>\n",
       "    </tr>\n",
       "    <tr>\n",
       "      <th>9329</th>\n",
       "      <td>https://hi-tech.md/tovary-dlya-doma/osveschenie/lyustry/lyustra-3pl-universo-black-led15w-e27-4483-tkl/</td>\n",
       "      <td>Т-000085021</td>\n",
       "      <td>2024-06-07</td>\n",
       "      <td>В наличии</td>\n",
       "      <td>Люстра 3PL UNIVERSO BLACK LED15W E27 (4483) (TKL)</td>\n",
       "      <td>3359.0</td>\n",
       "      <td>4199.0</td>\n",
       "      <td>1</td>\n",
       "      <td>20.0</td>\n",
       "      <td>tovary_dlya_doma</td>\n",
       "      <td>osveschenie</td>\n",
       "      <td>lyustry</td>\n",
       "      <td>196</td>\n",
       "      <td>175</td>\n",
       "      <td>41.589474</td>\n",
       "      <td>другой</td>\n",
       "      <td>топ</td>\n",
       "      <td>NaN</td>\n",
       "      <td>NaN</td>\n",
       "      <td>NaN</td>\n",
       "      <td>NaN</td>\n",
       "      <td>NaN</td>\n",
       "      <td>NaN</td>\n",
       "      <td>NaN</td>\n",
       "      <td>NaN</td>\n",
       "      <td>NaN</td>\n",
       "      <td>NaN</td>\n",
       "      <td>NaN</td>\n",
       "      <td>NaN</td>\n",
       "      <td>NaN</td>\n",
       "      <td>NaN</td>\n",
       "    </tr>\n",
       "    <tr>\n",
       "      <th>9330</th>\n",
       "      <td>https://hi-tech.md/tovary-dlya-doma/osveschenie/lyustry/lyustra-6pl-fairy-black-6w-g9-4856-tkl/</td>\n",
       "      <td>Т-000085033</td>\n",
       "      <td>2024-06-07</td>\n",
       "      <td>В наличии</td>\n",
       "      <td>Люстра 6PL FAIRY BLACK 6W G9 (4856) (TKL)</td>\n",
       "      <td>3471.0</td>\n",
       "      <td>4339.0</td>\n",
       "      <td>1</td>\n",
       "      <td>20.0</td>\n",
       "      <td>tovary_dlya_doma</td>\n",
       "      <td>osveschenie</td>\n",
       "      <td>lyustry</td>\n",
       "      <td>196</td>\n",
       "      <td>175</td>\n",
       "      <td>41.589474</td>\n",
       "      <td>другой</td>\n",
       "      <td>топ</td>\n",
       "      <td>NaN</td>\n",
       "      <td>NaN</td>\n",
       "      <td>NaN</td>\n",
       "      <td>NaN</td>\n",
       "      <td>NaN</td>\n",
       "      <td>NaN</td>\n",
       "      <td>NaN</td>\n",
       "      <td>NaN</td>\n",
       "      <td>NaN</td>\n",
       "      <td>NaN</td>\n",
       "      <td>NaN</td>\n",
       "      <td>NaN</td>\n",
       "      <td>NaN</td>\n",
       "      <td>NaN</td>\n",
       "    </tr>\n",
       "    <tr>\n",
       "      <th>9331</th>\n",
       "      <td>https://hi-tech.md/tovary-dlya-doma/osveschenie/lyustry/lyustra-6pl-fairy-gold-6w-g9-3532-tkl/</td>\n",
       "      <td>Т-000085032</td>\n",
       "      <td>2024-06-07</td>\n",
       "      <td>В наличии</td>\n",
       "      <td>Люстра 6PL FAIRY GOLD 6W G9 (3532) (TKL)</td>\n",
       "      <td>3951.0</td>\n",
       "      <td>4939.0</td>\n",
       "      <td>1</td>\n",
       "      <td>20.0</td>\n",
       "      <td>tovary_dlya_doma</td>\n",
       "      <td>osveschenie</td>\n",
       "      <td>lyustry</td>\n",
       "      <td>196</td>\n",
       "      <td>175</td>\n",
       "      <td>41.589474</td>\n",
       "      <td>другой</td>\n",
       "      <td>топ</td>\n",
       "      <td>NaN</td>\n",
       "      <td>NaN</td>\n",
       "      <td>NaN</td>\n",
       "      <td>NaN</td>\n",
       "      <td>NaN</td>\n",
       "      <td>NaN</td>\n",
       "      <td>NaN</td>\n",
       "      <td>NaN</td>\n",
       "      <td>NaN</td>\n",
       "      <td>NaN</td>\n",
       "      <td>NaN</td>\n",
       "      <td>NaN</td>\n",
       "      <td>NaN</td>\n",
       "      <td>NaN</td>\n",
       "    </tr>\n",
       "  </tbody>\n",
       "</table>\n",
       "<p>8760 rows × 31 columns</p>\n",
       "</div>"
      ],
      "text/plain": [
       "                                                                                                              soup_name  \\\n",
       "0     https://hi-tech.md/televizory-i-elektronika/batareyki-i-zaryadnye-ustroystva/batareyka-energenie-eg-ba-cr1220-01/   \n",
       "1     https://hi-tech.md/televizory-i-elektronika/batareyki-i-zaryadnye-ustroystva/batareyka-energenie-eg-ba-cr2016-01/   \n",
       "2        https://hi-tech.md/televizory-i-elektronika/batareyki-i-zaryadnye-ustroystva/batareyka-energenie-eg-ba-aa4-01/   \n",
       "3       https://hi-tech.md/televizory-i-elektronika/batareyki-i-zaryadnye-ustroystva/batareyka-energenie-eg-ba-aaa4-01/   \n",
       "4     https://hi-tech.md/televizory-i-elektronika/batareyki-i-zaryadnye-ustroystva/batareyka-energenie-eg-ba-cr2025-01/   \n",
       "...                                                                                                                 ...   \n",
       "9327        https://hi-tech.md/tovary-dlya-doma/osveschenie/lyustry/lyustra-4pl-satipo-transparent-led15w-e27-5628-tkl/   \n",
       "9328              https://hi-tech.md/tovary-dlya-doma/osveschenie/lyustry/lyustra-4pl-satipo-amber-led15w-e27-5625-tkl/   \n",
       "9329            https://hi-tech.md/tovary-dlya-doma/osveschenie/lyustry/lyustra-3pl-universo-black-led15w-e27-4483-tkl/   \n",
       "9330                    https://hi-tech.md/tovary-dlya-doma/osveschenie/lyustry/lyustra-6pl-fairy-black-6w-g9-4856-tkl/   \n",
       "9331                     https://hi-tech.md/tovary-dlya-doma/osveschenie/lyustry/lyustra-6pl-fairy-gold-6w-g9-3532-tkl/   \n",
       "\n",
       "               id       date availability  \\\n",
       "0     Т-000088228 2024-06-07    В наличии   \n",
       "1     Т-000088229 2024-06-07    В наличии   \n",
       "2     Т-000088221 2024-06-07    В наличии   \n",
       "3     Т-000088222 2024-06-07    В наличии   \n",
       "4     Т-000088230 2024-06-07    В наличии   \n",
       "...           ...        ...          ...   \n",
       "9327  Т-000085036 2024-06-07    В наличии   \n",
       "9328  Т-000085037 2024-06-07    В наличии   \n",
       "9329  Т-000085021 2024-06-07    В наличии   \n",
       "9330  Т-000085033 2024-06-07    В наличии   \n",
       "9331  Т-000085032 2024-06-07    В наличии   \n",
       "\n",
       "                                                      title   price  \\\n",
       "0                       Батарейка Energenie EG-BA-CR1220-01     4.0   \n",
       "1                       Батарейка Energenie EG-BA-CR2016-01     4.0   \n",
       "2                          Батарейка Energenie EG-BA-AA4-01     5.0   \n",
       "3                         Батарейка Energenie EG-BA-AAA4-01     5.0   \n",
       "4                       Батарейка Energenie EG-BA-CR2025-01     5.0   \n",
       "...                                                     ...     ...   \n",
       "9327  Люстра 4PL SATIPO TRANSPARENT LED15W E27 (5628) (TKL)  3279.0   \n",
       "9328        Люстра 4PL SATIPO AMBER LED15W E27 (5625) (TKL)  3311.0   \n",
       "9329      Люстра 3PL UNIVERSO BLACK LED15W E27 (4483) (TKL)  3359.0   \n",
       "9330              Люстра 6PL FAIRY BLACK 6W G9 (4856) (TKL)  3471.0   \n",
       "9331               Люстра 6PL FAIRY GOLD 6W G9 (3532) (TKL)  3951.0   \n",
       "\n",
       "      old_price  action_sale  sale                  category  \\\n",
       "0           NaN            0   NaN  televizory_i_elektronika   \n",
       "1           NaN            0   NaN  televizory_i_elektronika   \n",
       "2           NaN            0   NaN  televizory_i_elektronika   \n",
       "3           NaN            0   NaN  televizory_i_elektronika   \n",
       "4           NaN            0   NaN  televizory_i_elektronika   \n",
       "...         ...          ...   ...                       ...   \n",
       "9327     4099.0            1  20.0          tovary_dlya_doma   \n",
       "9328     4139.0            1  20.0          tovary_dlya_doma   \n",
       "9329     4199.0            1  20.0          tovary_dlya_doma   \n",
       "9330     4339.0            1  20.0          tovary_dlya_doma   \n",
       "9331     4939.0            1  20.0          tovary_dlya_doma   \n",
       "\n",
       "                           subcategory                             group  \\\n",
       "0     batareyki_i_zaryadnye_ustroystva  batareyki_i_zaryadnye_ustroystva   \n",
       "1     batareyki_i_zaryadnye_ustroystva  batareyki_i_zaryadnye_ustroystva   \n",
       "2     batareyki_i_zaryadnye_ustroystva  batareyki_i_zaryadnye_ustroystva   \n",
       "3     batareyki_i_zaryadnye_ustroystva  batareyki_i_zaryadnye_ustroystva   \n",
       "4     batareyki_i_zaryadnye_ustroystva  batareyki_i_zaryadnye_ustroystva   \n",
       "...                                ...                               ...   \n",
       "9327                       osveschenie                           lyustry   \n",
       "9328                       osveschenie                           lyustry   \n",
       "9329                       osveschenie                           lyustry   \n",
       "9330                       osveschenie                           lyustry   \n",
       "9331                       osveschenie                           lyustry   \n",
       "\n",
       "      count_group  count_group_presence   dif_price      brend group_prise  \\\n",
       "0              76                    76  199.750000  energenie      бюджет   \n",
       "1              76                    76  199.750000  energenie      бюджет   \n",
       "2              76                    76  199.750000  energenie      бюджет   \n",
       "3              76                    76  199.750000  energenie      бюджет   \n",
       "4              76                    76  199.750000  energenie      бюджет   \n",
       "...           ...                   ...         ...        ...         ...   \n",
       "9327          196                   175   41.589474     другой         топ   \n",
       "9328          196                   175   41.589474     другой         топ   \n",
       "9329          196                   175   41.589474     другой         топ   \n",
       "9330          196                   175   41.589474     другой         топ   \n",
       "9331          196                   175   41.589474     другой         топ   \n",
       "\n",
       "     Тир_Юности_14А Ц_Тир_25_Октября_69 Ц_Бенд_Спортивная_5 Бенд_Советская_5  \\\n",
       "0                 1                   1                   1                1   \n",
       "1                 1                   1                   1                1   \n",
       "2                 1                   1                   1                1   \n",
       "3                 1                   1                   1                1   \n",
       "4                 1                   1                   1                1   \n",
       "...             ...                 ...                 ...              ...   \n",
       "9327            NaN                 NaN                 NaN              NaN   \n",
       "9328            NaN                 NaN                 NaN              NaN   \n",
       "9329            NaN                 NaN                 NaN              NaN   \n",
       "9330            NaN                 NaN                 NaN              NaN   \n",
       "9331            NaN                 NaN                 NaN              NaN   \n",
       "\n",
       "     Бенд_Советская_8 Слоб_Ленина_97А Днестр_Строителей_18 Первом_Ленина_88  \\\n",
       "0                   0               1                    1                1   \n",
       "1                   0               1                    1                1   \n",
       "2                   1               1                    1                1   \n",
       "3                   1               1                    1                1   \n",
       "4                   0               1                    1                1   \n",
       "...               ...             ...                  ...              ...   \n",
       "9327              NaN             NaN                  NaN              NaN   \n",
       "9328              NaN             NaN                  NaN              NaN   \n",
       "9329              NaN             NaN                  NaN              NaN   \n",
       "9330              NaN             NaN                  NaN              NaN   \n",
       "9331              NaN             NaN                  NaN              NaN   \n",
       "\n",
       "     Григ_КМаркса_181А Григ_КМаркса_172 Дуб_Горького_29 Рыбн_Вальченко_43/1  \\\n",
       "0                    1                1               1                   1   \n",
       "1                    1                1               1                   1   \n",
       "2                    1                1               1                   1   \n",
       "3                    1                1               1                   1   \n",
       "4                    1                1               1                   1   \n",
       "...                ...              ...             ...                 ...   \n",
       "9327               NaN              NaN             NaN                 NaN   \n",
       "9328               NaN              NaN             NaN                 NaN   \n",
       "9329               NaN              NaN             NaN                 NaN   \n",
       "9330               NaN              NaN             NaN                 NaN   \n",
       "9331               NaN              NaN             NaN                 NaN   \n",
       "\n",
       "     Рыбн_Кирова_135 Кам_Кирова_240  \n",
       "0                  1              1  \n",
       "1                  1              1  \n",
       "2                  1              1  \n",
       "3                  1              1  \n",
       "4                  1              0  \n",
       "...              ...            ...  \n",
       "9327             NaN            NaN  \n",
       "9328             NaN            NaN  \n",
       "9329             NaN            NaN  \n",
       "9330             NaN            NaN  \n",
       "9331             NaN            NaN  \n",
       "\n",
       "[8760 rows x 31 columns]"
      ]
     },
     "execution_count": 63,
     "metadata": {},
     "output_type": "execute_result"
    }
   ],
   "source": [
    "df"
   ]
  },
  {
   "cell_type": "code",
   "execution_count": null,
   "id": "b9f2e645",
   "metadata": {},
   "outputs": [],
   "source": [
    "bed = 'T-900000003'"
   ]
  }
 ],
 "metadata": {
  "kernelspec": {
   "display_name": "Python 3 (ipykernel)",
   "language": "python",
   "name": "python3"
  },
  "language_info": {
   "codemirror_mode": {
    "name": "ipython",
    "version": 3
   },
   "file_extension": ".py",
   "mimetype": "text/x-python",
   "name": "python",
   "nbconvert_exporter": "python",
   "pygments_lexer": "ipython3",
   "version": "3.11.3"
  }
 },
 "nbformat": 4,
 "nbformat_minor": 5
}
