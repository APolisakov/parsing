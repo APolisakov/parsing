{
 "cells": [
  {
   "cell_type": "code",
   "execution_count": 1,
   "id": "c0a16e5a",
   "metadata": {},
   "outputs": [],
   "source": [
    "import pandas as pd\n",
    "import numpy as np\n",
    "import requests\n",
    "from bs4 import BeautifulSoup as bs\n",
    "import re\n",
    "from tqdm import trange, tqdm"
   ]
  },
  {
   "cell_type": "markdown",
   "id": "50e2394a",
   "metadata": {},
   "source": [
    "импорт библиотек"
   ]
  },
  {
   "cell_type": "code",
   "execution_count": 2,
   "id": "064c382c",
   "metadata": {},
   "outputs": [],
   "source": [
    "reqx = requests.get('https://hi-tech.md/kompyuternaya-tehnika/sport-i-otdyh/hd-cvi-kamery/ip-kamery/')"
   ]
  },
  {
   "cell_type": "code",
   "execution_count": 3,
   "id": "ddcf2fda",
   "metadata": {},
   "outputs": [],
   "source": [
    "soup = bs(reqx.text, 'html.parser')"
   ]
  },
  {
   "cell_type": "code",
   "execution_count": 37,
   "id": "b520f4c1",
   "metadata": {
    "scrolled": false
   },
   "outputs": [
    {
     "data": {
      "text/html": [
       "<div>\n",
       "<style scoped>\n",
       "    .dataframe tbody tr th:only-of-type {\n",
       "        vertical-align: middle;\n",
       "    }\n",
       "\n",
       "    .dataframe tbody tr th {\n",
       "        vertical-align: top;\n",
       "    }\n",
       "\n",
       "    .dataframe thead th {\n",
       "        text-align: right;\n",
       "    }\n",
       "</style>\n",
       "<table border=\"1\" class=\"dataframe\">\n",
       "  <thead>\n",
       "    <tr style=\"text-align: right;\">\n",
       "      <th></th>\n",
       "      <th>soup_name</th>\n",
       "    </tr>\n",
       "  </thead>\n",
       "  <tbody>\n",
       "    <tr>\n",
       "      <th>0</th>\n",
       "      <td>[[ , [\\n, &lt;input name=\"appearance[show_sku]\" t...</td>\n",
       "    </tr>\n",
       "    <tr>\n",
       "      <th>1</th>\n",
       "      <td>[[ , [\\n, &lt;input name=\"appearance[show_sku]\" t...</td>\n",
       "    </tr>\n",
       "    <tr>\n",
       "      <th>2</th>\n",
       "      <td>[[ , [\\n, &lt;input name=\"appearance[show_sku]\" t...</td>\n",
       "    </tr>\n",
       "    <tr>\n",
       "      <th>3</th>\n",
       "      <td>[[ , [\\n, &lt;input name=\"appearance[show_sku]\" t...</td>\n",
       "    </tr>\n",
       "    <tr>\n",
       "      <th>4</th>\n",
       "      <td>[[ , [\\n, &lt;input name=\"appearance[show_sku]\" t...</td>\n",
       "    </tr>\n",
       "  </tbody>\n",
       "</table>\n",
       "</div>"
      ],
      "text/plain": [
       "                                           soup_name\n",
       "0  [[ , [\\n, <input name=\"appearance[show_sku]\" t...\n",
       "1  [[ , [\\n, <input name=\"appearance[show_sku]\" t...\n",
       "2  [[ , [\\n, <input name=\"appearance[show_sku]\" t...\n",
       "3  [[ , [\\n, <input name=\"appearance[show_sku]\" t...\n",
       "4  [[ , [\\n, <input name=\"appearance[show_sku]\" t..."
      ]
     },
     "execution_count": 37,
     "metadata": {},
     "output_type": "execute_result"
    }
   ],
   "source": [
    "data = pd.DataFrame({'soup_name':pd.Series(soup.findAll('div', class_='ypi-grid-list__item_body'),dtype = 'object')})\n",
    "data.head()"
   ]
  },
  {
   "cell_type": "markdown",
   "id": "72aa2c71",
   "metadata": {},
   "source": [
    "парсинг тестовой страници сайта "
   ]
  },
  {
   "cell_type": "code",
   "execution_count": 38,
   "id": "d1eeceb1",
   "metadata": {},
   "outputs": [
    {
     "data": {
      "text/plain": [
       "<div class=\"ypi-grid-list__item_body\" style=\"min-height: 430px\"><div class=\"stock-block\"> <div class=\"ty-control-group ty-sku-item cm-hidden-wrapper cm-reload-42964\" id=\"sku_update_42964\">\n",
       "<input name=\"appearance[show_sku]\" type=\"hidden\" value=\"1\"/>\n",
       "<label class=\"ty-control-group__label\" id=\"sku_42964\">КОД:</label>\n",
       "<span class=\"ty-control-group__item\">Т-000072433</span>\n",
       "</div>\n",
       "<div class=\"cm-reload-42964 stock-wrap\" id=\"product_amount_update_42964\">\n",
       "<input name=\"appearance[show_product_amount]\" type=\"hidden\" value=\"1\"/>\n",
       "<a class=\"ty-control-group product-list-field cm-external-click\" data-ca-external-click-id=\"availability_in_stores\" href=\"#availability_in_stores\">\n",
       "<span class=\"ty-qty-in-stock preorder ty-control-group__item\" id=\"in_stock_info_42964\">\n",
       "<i class=\"material-icons\"></i>Предзаказ\n",
       "</span>\n",
       "</a>\n",
       "</div>\n",
       "</div><div class=\"ty-grid-list__image\" style=\"height: 230px;\">\n",
       "<div class=\"ypi-list-bt-block hidden\">\n",
       "<a class=\"ty-btn ty-btn__tertiary ty-add-to-wish cm-submit text-button\" data-ca-dispatch=\"dispatch[wishlist.add..42964]\" id=\"button_wishlist_42964\" title=\"Отложить\"><span><i class=\"ty-icon-heart\"></i></span></a>\n",
       "<a class=\"ty-btn ty-btn__tertiary ty-add-to-compare cm-ajax cm-ajax-full-render text-button\" data-ca-target-id=\"comparison_list,account_info*\" href=\"https://hi-tech.md/index.php?dispatch=product_features.add_product&amp;product_id=42964&amp;redirect_url=index.php%3Fdispatch%3Dcategories.view%26category_id%3D898\" rel=\"nofollow\" title=\"Добавить в список сравнения\"><span></span></a>\n",
       "</div>\n",
       "<a class=\"abt-single-image\" href=\"https://hi-tech.md/diskont-ne-deystvuet-ru/hd-cvi-videokamera-dahua-dh-hac-hdw1220mp-0280b-s2/\">\n",
       "<img alt=\"\" class=\"ty-pict cm-image\" data-lazy_src=\"https://hi-tech.md/images/thumbnails/230/230/detailed/151/hd__cvi__videokamera__dahua__dh__hac__hdw1220mp__0280b__s2__152724.jpg\" id=\"det_img_42964\" title=\"\">\n",
       "</img></a>\n",
       "</div><div class=\"block-top\">\n",
       "<div class=\"grid-list__rating\">\n",
       "<span class=\"ty-nowrap ty-stars\">\n",
       "<a href=\"https://hi-tech.md/diskont-ne-deystvuet-ru/hd-cvi-videokamera-dahua-dh-hac-hdw1220mp-0280b-s2/?selected_section=discussion#discussion\">\n",
       "<i class=\"ty-stars__icon ty-icon-star-empty\"></i>\n",
       "<i class=\"ty-stars__icon ty-icon-star-empty\"></i>\n",
       "<i class=\"ty-stars__icon ty-icon-star-empty\"></i>\n",
       "<i class=\"ty-stars__icon ty-icon-star-empty\"></i>\n",
       "<i class=\"ty-stars__icon ty-icon-star-empty\"></i>\n",
       "</a>\n",
       "</span>\n",
       "</div></div><div class=\"ty-grid-list__item-name\"><bdi>\n",
       "<a class=\"product-title\" href=\"https://hi-tech.md/diskont-ne-deystvuet-ru/hd-cvi-videokamera-dahua-dh-hac-hdw1220mp-0280b-s2/\" title=\"HD-CVI-видеокамера Dahua (DH-HAC-HDW1220MP-0280B-S2)\">HD-CVI-видеокамера Dahua (DH-HAC-HDW1220MP-0280B-S2)</a>\n",
       "</bdi></div><div class=\"block-bottom\"><div class=\"v-align-bottom\"><div class=\"ypi-product__option\"> </div><div class=\"ypi-product__qty\">\n",
       "<div class=\"cm-reload-42964\" id=\"qty_update_42964\">\n",
       "<input name=\"appearance[show_qty]\" type=\"hidden\" value=\"\"/>\n",
       "<input name=\"appearance[capture_options_vs_qty]\" type=\"hidden\" value=\"\"/>\n",
       "<input name=\"product_data[42964][amount]\" type=\"hidden\" value=\"1\"/>\n",
       "</div>\n",
       "</div><div class=\"ty-grid-list__price\"> <span class=\"cm-reload-42964\" id=\"old_price_update_42964\">\n",
       "</span>\n",
       "<span class=\"cm-reload-42964 ty-price-update\" id=\"price_update_42964\">\n",
       "<input name=\"appearance[show_price_values]\" type=\"hidden\" value=\"1\"/>\n",
       "<input name=\"appearance[show_price]\" type=\"hidden\" value=\"1\"/>\n",
       "<span class=\"ty-price\" id=\"line_discounted_price_42964\"><bdi><span class=\"ty-price-num\" id=\"sec_discounted_price_42964\">645</span> <span class=\"ty-price-num\">руб</span></bdi></span>\n",
       "</span>\n",
       "</div><div class=\"ty-grid-list__control show-list-buttons\"><div class=\"button-container\"><div class=\"ty-grid-list__rassrochka\"><div class=\"label\">Рассрочка:</div><span class=\"price\">57</span><span class=\"per_month\">руб/мес.</span></div><div class=\"cm-reload-42964\" id=\"add_to_cart_update_42964\">\n",
       "<input name=\"appearance[show_add_to_cart]\" type=\"hidden\" value=\"1\"/>\n",
       "<input name=\"appearance[show_list_buttons]\" type=\"hidden\" value=\"1\"/>\n",
       "<input name=\"appearance[but_role]\" type=\"hidden\" value=\"action\"/>\n",
       "<input name=\"appearance[quick_view]\" type=\"hidden\" value=\"\"/>\n",
       "<button class=\"ty-btn__add-to-cart cm-form-dialog-closer ty-btn cm-tooltip\" id=\"button_cart_42964\" name=\"dispatch[checkout.add..42964]\" title=\"Добавить в корзину\" type=\"submit\"><svg fill=\"#fff\" height=\"100%\" viewbox=\"0 0 700 600\" width=\"100%\" xmlns:xlink=\"http://www.w3.org/1999/xlink\"><use xlink:href=\"#btn-add-to-cart\"></use></svg></button>\n",
       "<a class=\"ypi-quick-view-button ty-btn ty-btn__tertiary cm-dialog-opener cm-tooltip cm-dialog-auto-size\" data-ca-dialog-title=\"Быстрый просмотр товаров\" data-ca-target-id=\"product_quick_view\" data-ca-view-id=\"42964\" href=\"https://hi-tech.md/index.php?dispatch=products.quick_view&amp;product_id=42964&amp;prev_url=index.php%3Fdispatch%3Dcategories.view%26category_id%3D898&amp;n_items=42965%2C42964%2C42963%2C149701%2C154538%2C149693%2C149694%2C154539%2C149698%2C51771%2C149700%2C149702%2C149759%2C149699%2C149703%2C149704%2C111971%2C149723%2C149737%2C149738%2C149722%2C149721%2C149736%2C100588%2C149739%2C51770%2C100589%2C151438%2C151439%2C43285%2C149718%2C149728%2C149724%2C149725%2C149742%2C95796\" rel=\"nofollow\" title=\"Быстрый просмотр\"><i class=\"material-icons md-24\"></i></a>\n",
       "</div>\n",
       "</div>\n",
       "</div></div></div><div class=\"block-middle\">\n",
       "<div class=\"product-feature\">\n",
       "<div class=\"cm-reload-42964\" id=\"product_features_update_42964\">\n",
       "<input name=\"appearance[show_features]\" type=\"hidden\" value=\"1\"/>\n",
       "<em> <span class=\"ty-control-group f-variant\" data-feature-id=\"3046\"><span class=\"ty-product-feature__label\"><em class=\"abt-yt-feature-name\">Подключение</em></span><span><em><span class=\"f-variant-item\">Ethernet</span></em></span></span></em>\n",
       "</div>\n",
       "</div></div></div>"
      ]
     },
     "execution_count": 38,
     "metadata": {},
     "output_type": "execute_result"
    }
   ],
   "source": [
    "t = pd.DataFrame({'soup_name':pd.Series(soup.findAll('div', class_='ypi-grid-list__item_body'))}).loc[1,'soup_name']\n",
    "t"
   ]
  },
  {
   "cell_type": "markdown",
   "id": "3884d571",
   "metadata": {},
   "source": [
    "создание временной переменной для поиска полей для парсинга"
   ]
  },
  {
   "cell_type": "code",
   "execution_count": 7,
   "id": "62e3d099",
   "metadata": {},
   "outputs": [],
   "source": [
    "def names_correct(x):\n",
    "    name = str(x)\n",
    "    return  name "
   ]
  },
  {
   "cell_type": "code",
   "execution_count": 8,
   "id": "8a547a03",
   "metadata": {},
   "outputs": [],
   "source": [
    "data['soup_name'] = data['soup_name'].apply(names_correct)"
   ]
  },
  {
   "cell_type": "markdown",
   "id": "713e4c73",
   "metadata": {},
   "source": [
    "меняем данные парсинга на текстовый тип "
   ]
  },
  {
   "cell_type": "code",
   "execution_count": 9,
   "id": "caf0dc2d",
   "metadata": {},
   "outputs": [],
   "source": [
    "def find_id(x):\n",
    "    find = x.find('span class=\"ty-control-group__item\"')\n",
    "    start = find+len('span class=\"ty-control-group__item\"')+1\n",
    "    stop = find+12+ len('span class=\"ty-control-group__item\"')\n",
    "    xxx = x[start: stop]\n",
    "    return xxx"
   ]
  },
  {
   "cell_type": "code",
   "execution_count": 10,
   "id": "0f522c3d",
   "metadata": {},
   "outputs": [],
   "source": [
    "data['id'] = data['soup_name'].apply(find_id)"
   ]
  },
  {
   "cell_type": "markdown",
   "id": "df262d57",
   "metadata": {},
   "source": [
    "находим в тексте и созаем столбец с кодами товара"
   ]
  },
  {
   "cell_type": "code",
   "execution_count": 11,
   "id": "d69b1e57",
   "metadata": {},
   "outputs": [],
   "source": [
    "data['date'] = pd.to_datetime('today').normalize()"
   ]
  },
  {
   "cell_type": "markdown",
   "id": "941e68bd",
   "metadata": {},
   "source": [
    "создаем столбец с датой парсинга"
   ]
  },
  {
   "cell_type": "code",
   "execution_count": 12,
   "id": "5594eb89",
   "metadata": {},
   "outputs": [],
   "source": [
    "def find_availability(t):\n",
    "    find = t.find('i class=\"material-icons\"')\n",
    "    find = t.find('</i>', find)\n",
    "    start = find+len('</i>')\n",
    "    stop = t.find('\\n', find)\n",
    "    xxx = t[start: stop]\n",
    "    return xxx"
   ]
  },
  {
   "cell_type": "code",
   "execution_count": 13,
   "id": "5bffe1bc",
   "metadata": {},
   "outputs": [],
   "source": [
    "data['availability'] = data['soup_name'].apply(find_availability)"
   ]
  },
  {
   "cell_type": "markdown",
   "id": "4d996511",
   "metadata": {},
   "source": [
    "находим в тексте и создаем столбец с наличием товара"
   ]
  },
  {
   "cell_type": "code",
   "execution_count": 14,
   "id": "e6d33de3",
   "metadata": {},
   "outputs": [],
   "source": [
    "def find_title(t):\n",
    "    find = t.find('a class=\"product-title\"')\n",
    "    find = t.find('title=', find)\n",
    "    start = find+len('title=')+1\n",
    "    stop = t.find('>', find)-1\n",
    "    xxx = t[start: stop]\n",
    "    return xxx\n"
   ]
  },
  {
   "cell_type": "code",
   "execution_count": 15,
   "id": "648e0b7c",
   "metadata": {},
   "outputs": [],
   "source": [
    "data['title'] = data['soup_name'].apply(find_title)"
   ]
  },
  {
   "cell_type": "markdown",
   "id": "e36a466d",
   "metadata": {},
   "source": [
    "находим в тексте и создаем столбец снаименованием товара"
   ]
  },
  {
   "cell_type": "code",
   "execution_count": 16,
   "id": "56b59bb4",
   "metadata": {},
   "outputs": [],
   "source": [
    "def find_price(t):\n",
    "    find = t.find('span class=\"ty-price-num\"')\n",
    "    find = t.find('>', find)\n",
    "    start = find+len('>')\n",
    "    stop = t.find('<', find)\n",
    "    xxx = t[start: stop]\n",
    "    xxx = xxx.replace(u'\\xa0',u'')\n",
    "    return xxx"
   ]
  },
  {
   "cell_type": "code",
   "execution_count": 17,
   "id": "9068a1bf",
   "metadata": {},
   "outputs": [],
   "source": [
    "data['price'] = data['soup_name'].apply(find_price)"
   ]
  },
  {
   "cell_type": "markdown",
   "id": "ed9b62ef",
   "metadata": {},
   "source": [
    "Находим в тексте и создаем столбец с ценой товара"
   ]
  },
  {
   "cell_type": "code",
   "execution_count": 18,
   "id": "e2e3e51e",
   "metadata": {},
   "outputs": [],
   "source": [
    "def find_old_price(t):\n",
    "    find = t.find('span class=\"ty-strike\"')\n",
    "    find = t.find('span class=\"ty-list-price ty-nowrap\"',find)\n",
    "    find = t.find('>', find)\n",
    "    start = find+len('>')\n",
    "    stop = t.find('<', find)\n",
    "    xxx = t[start: stop]\n",
    "    xxx = xxx.replace(u'\\xa0',u'')\n",
    "    return xxx"
   ]
  },
  {
   "cell_type": "code",
   "execution_count": 19,
   "id": "149cfb16",
   "metadata": {},
   "outputs": [],
   "source": [
    "data['old_price'] = data['soup_name'].apply(find_old_price)"
   ]
  },
  {
   "cell_type": "markdown",
   "id": "9c4784d1",
   "metadata": {},
   "source": [
    "Для акционного товара Находим в тексте и создаем столбец со старой ценой до начала акции"
   ]
  },
  {
   "cell_type": "code",
   "execution_count": 20,
   "id": "aa448515",
   "metadata": {},
   "outputs": [],
   "source": [
    "def find_url(t):\n",
    "    find = t.find('a class=\"product-title\"')\n",
    "    find = t.find('href=\"', find)\n",
    "    start = find+len('href=\"')\n",
    "    stop = t.find('title', find)-2\n",
    "    xxx = t[start: stop]\n",
    "    return xxx"
   ]
  },
  {
   "cell_type": "code",
   "execution_count": 21,
   "id": "18f2730d",
   "metadata": {},
   "outputs": [],
   "source": [
    "data['soup_name'] = data['soup_name'].apply(find_url)"
   ]
  },
  {
   "cell_type": "markdown",
   "id": "db852f87",
   "metadata": {},
   "source": [
    "Находим в тексте информацию об адресе совара и переписываем эту информацию вместо парсинговой."
   ]
  },
  {
   "cell_type": "code",
   "execution_count": 22,
   "id": "5a09642a",
   "metadata": {},
   "outputs": [],
   "source": [
    "def preprocessing(x):\n",
    "    print(f'таблица имеет следующий вид:')\n",
    "    display(x.head())\n",
    "    print('*'*100)\n",
    "    print(f'таблица имеет {x.shape[0]} сторок и {x.shape[1]} столбцов')\n",
    "    print('*'*100)\n",
    "    print(f'в таблице обнаружено дублекатов:{x.duplicated().sum()}')\n",
    "    print('*'*100)\n",
    "    print('в таблице обнаружены пропуски в следующих столбцах:')\n",
    "    display(x.isna().sum())\n",
    "    print('*'*100)\n",
    "    print('Эти пропуски составлябт следующее количество в процентах')\n",
    "    display((x.isna().mean()* 100).round(1))\n",
    "    print('*'*100)\n",
    "    print('столбцы имеют следующие типы:')\n",
    "    display(x.dtypes)\n",
    "    x.columns = [y.lower().replace(' ', '_') for y in x.columns.values] \n",
    "    print('*'*100)\n",
    "    print('названия столбцов переписаны в нижнем регистре, пробелы заменены на нижнее подчеркивание')\n",
    "    print('*'*100)\n",
    "    display(x.info())"
   ]
  },
  {
   "cell_type": "markdown",
   "id": "d21da9cc",
   "metadata": {},
   "source": [
    "создаем функцию предварительного просмотра данных"
   ]
  },
  {
   "cell_type": "code",
   "execution_count": 23,
   "id": "7696c601",
   "metadata": {},
   "outputs": [],
   "source": [
    "def parsing_2(url):\n",
    "    data = pd.DataFrame(columns=['soup_name', 'id', 'date', 'availability', 'title', 'price', 'old_price'])\n",
    "    for i in tqdm(url):        \n",
    "        q = 1\n",
    "        while q>0:        \n",
    "            reqx = requests.get(i + str(q))\n",
    "            soup = bs(reqx.text, 'html.parser')\n",
    "            datax = pd.DataFrame({'soup_name':pd.Series(soup.findAll('div', class_='ypi-grid-list__item_body'),dtype = 'object')})\n",
    "            data = pd.concat([data, datax], ignore_index=True)\n",
    "            if len(list(soup.findAll('div', class_='ypi-grid-list__item_body'))) > 0:\n",
    "                q = q + 1\n",
    "            else:\n",
    "                q = 0\n",
    "    data['soup_name'] = data['soup_name'].apply(names_correct)\n",
    "    data['id'] = data['soup_name'].apply(find_id)\n",
    "    data['date'] = pd.to_datetime('today').normalize()\n",
    "    data['availability'] = data['soup_name'].apply(find_availability)\n",
    "    data['title'] = data['soup_name'].apply(find_title)\n",
    "    data['price'] = data['soup_name'].apply(find_price)\n",
    "    data['old_price'] = data['soup_name'].apply(find_old_price)\n",
    "    data['soup_name'] = data['soup_name'].apply(find_url)\n",
    "    data['price'] = data['price'].astype(float)\n",
    "    data.loc[data['old_price'] == '','old_price'] = np.nan\n",
    "    data['old_price'] = data['old_price'].astype(float)\n",
    "    data = data.drop_duplicates()\n",
    "    return data"
   ]
  },
  {
   "cell_type": "markdown",
   "id": "6eb85bbd",
   "metadata": {},
   "source": [
    "создаем функцию, которая по списку url проходит и парсит всю доступную информацию, преобразуя ее в датафрейм."
   ]
  },
  {
   "cell_type": "code",
   "execution_count": 24,
   "id": "f3cbaeb8",
   "metadata": {},
   "outputs": [],
   "source": [
    "url = ['https://hi-tech.md/televizory-i-elektronika/page-',\n",
    "       'https://hi-tech.md/bytovaya-tehnika/page-',\n",
    "       'https://hi-tech.md/kompyuternaya-tehnika/page-']"
   ]
  },
  {
   "cell_type": "markdown",
   "id": "7b18d07a",
   "metadata": {},
   "source": [
    "url = ['https://hi-tech.md/televizory-i-elektronika/page-']"
   ]
  },
  {
   "cell_type": "markdown",
   "id": "2b4beffa",
   "metadata": {},
   "source": [
    "список url по которым будет парсится сайт"
   ]
  },
  {
   "cell_type": "code",
   "execution_count": 25,
   "id": "064954c3",
   "metadata": {},
   "outputs": [
    {
     "name": "stderr",
     "output_type": "stream",
     "text": [
      "100%|████████████████████████████████████████████████████████████████████████████████████| 3/3 [02:27<00:00, 49.09s/it]\n"
     ]
    },
    {
     "data": {
      "text/html": [
       "<div>\n",
       "<style scoped>\n",
       "    .dataframe tbody tr th:only-of-type {\n",
       "        vertical-align: middle;\n",
       "    }\n",
       "\n",
       "    .dataframe tbody tr th {\n",
       "        vertical-align: top;\n",
       "    }\n",
       "\n",
       "    .dataframe thead th {\n",
       "        text-align: right;\n",
       "    }\n",
       "</style>\n",
       "<table border=\"1\" class=\"dataframe\">\n",
       "  <thead>\n",
       "    <tr style=\"text-align: right;\">\n",
       "      <th></th>\n",
       "      <th>soup_name</th>\n",
       "      <th>id</th>\n",
       "      <th>date</th>\n",
       "      <th>availability</th>\n",
       "      <th>title</th>\n",
       "      <th>price</th>\n",
       "      <th>old_price</th>\n",
       "    </tr>\n",
       "  </thead>\n",
       "  <tbody>\n",
       "    <tr>\n",
       "      <th>0</th>\n",
       "      <td>https://hi-tech.md/televizory-i-elektronika/ba...</td>\n",
       "      <td>Т-000088228</td>\n",
       "      <td>2024-05-10</td>\n",
       "      <td>В наличии</td>\n",
       "      <td>Батарейка Energenie EG-BA-CR1220-01</td>\n",
       "      <td>4.0</td>\n",
       "      <td>NaN</td>\n",
       "    </tr>\n",
       "    <tr>\n",
       "      <th>1</th>\n",
       "      <td>https://hi-tech.md/televizory-i-elektronika/ba...</td>\n",
       "      <td>Т-000088229</td>\n",
       "      <td>2024-05-10</td>\n",
       "      <td>В наличии</td>\n",
       "      <td>Батарейка Energenie EG-BA-CR2016-01</td>\n",
       "      <td>4.0</td>\n",
       "      <td>NaN</td>\n",
       "    </tr>\n",
       "    <tr>\n",
       "      <th>2</th>\n",
       "      <td>https://hi-tech.md/televizory-i-elektronika/ba...</td>\n",
       "      <td>Т-000088221</td>\n",
       "      <td>2024-05-10</td>\n",
       "      <td>В наличии</td>\n",
       "      <td>Батарейка Energenie EG-BA-AA4-01</td>\n",
       "      <td>5.0</td>\n",
       "      <td>NaN</td>\n",
       "    </tr>\n",
       "    <tr>\n",
       "      <th>3</th>\n",
       "      <td>https://hi-tech.md/televizory-i-elektronika/ba...</td>\n",
       "      <td>Т-000088222</td>\n",
       "      <td>2024-05-10</td>\n",
       "      <td>В наличии</td>\n",
       "      <td>Батарейка Energenie EG-BA-AAA4-01</td>\n",
       "      <td>5.0</td>\n",
       "      <td>NaN</td>\n",
       "    </tr>\n",
       "    <tr>\n",
       "      <th>4</th>\n",
       "      <td>https://hi-tech.md/televizory-i-elektronika/ba...</td>\n",
       "      <td>Т-000088230</td>\n",
       "      <td>2024-05-10</td>\n",
       "      <td>В наличии</td>\n",
       "      <td>Батарейка Energenie EG-BA-CR2025-01</td>\n",
       "      <td>5.0</td>\n",
       "      <td>NaN</td>\n",
       "    </tr>\n",
       "    <tr>\n",
       "      <th>...</th>\n",
       "      <td>...</td>\n",
       "      <td>...</td>\n",
       "      <td>...</td>\n",
       "      <td>...</td>\n",
       "      <td>...</td>\n",
       "      <td>...</td>\n",
       "      <td>...</td>\n",
       "    </tr>\n",
       "    <tr>\n",
       "      <th>6420</th>\n",
       "      <td>https://hi-tech.md/kompyuternaya-tehnika/tovar...</td>\n",
       "      <td>Т-000089380</td>\n",
       "      <td>2024-05-10</td>\n",
       "      <td>Предзаказ</td>\n",
       "      <td>Моноблок Apple iMac 24\" 2023 Blue (MQRR3RU/A)</td>\n",
       "      <td>34799.0</td>\n",
       "      <td>38799.0</td>\n",
       "    </tr>\n",
       "    <tr>\n",
       "      <th>6424</th>\n",
       "      <td>https://hi-tech.md/kompyuternaya-tehnika/tovar...</td>\n",
       "      <td>Т-000089357</td>\n",
       "      <td>2024-05-10</td>\n",
       "      <td>Предзаказ</td>\n",
       "      <td>Ноутбук Apple MacBook PRO 14.2\" 2023 Silver (M...</td>\n",
       "      <td>35399.0</td>\n",
       "      <td>NaN</td>\n",
       "    </tr>\n",
       "    <tr>\n",
       "      <th>6425</th>\n",
       "      <td>https://hi-tech.md/kompyuternaya-tehnika/tovar...</td>\n",
       "      <td>Т-000089359</td>\n",
       "      <td>2024-05-10</td>\n",
       "      <td>Предзаказ</td>\n",
       "      <td>Ноутбук Apple MacBook PRO 14.2\" 2023 Silver (M...</td>\n",
       "      <td>39399.0</td>\n",
       "      <td>NaN</td>\n",
       "    </tr>\n",
       "    <tr>\n",
       "      <th>6426</th>\n",
       "      <td>https://hi-tech.md/kompyuternaya-tehnika/tovar...</td>\n",
       "      <td>Т-000089360</td>\n",
       "      <td>2024-05-10</td>\n",
       "      <td>Предзаказ</td>\n",
       "      <td>Ноутбук Apple MacBook PRO 14.2\" 2023 Space Gre...</td>\n",
       "      <td>39399.0</td>\n",
       "      <td>NaN</td>\n",
       "    </tr>\n",
       "    <tr>\n",
       "      <th>6427</th>\n",
       "      <td>https://hi-tech.md/kompyuternaya-tehnika/tovar...</td>\n",
       "      <td>Т-000089356</td>\n",
       "      <td>2024-05-10</td>\n",
       "      <td>Предзаказ</td>\n",
       "      <td>Ноутбук Apple MacBook PRO 14.2\" 2023 Silver (M...</td>\n",
       "      <td>69599.0</td>\n",
       "      <td>NaN</td>\n",
       "    </tr>\n",
       "  </tbody>\n",
       "</table>\n",
       "<p>5884 rows × 7 columns</p>\n",
       "</div>"
      ],
      "text/plain": [
       "                                              soup_name           id  \\\n",
       "0     https://hi-tech.md/televizory-i-elektronika/ba...  Т-000088228   \n",
       "1     https://hi-tech.md/televizory-i-elektronika/ba...  Т-000088229   \n",
       "2     https://hi-tech.md/televizory-i-elektronika/ba...  Т-000088221   \n",
       "3     https://hi-tech.md/televizory-i-elektronika/ba...  Т-000088222   \n",
       "4     https://hi-tech.md/televizory-i-elektronika/ba...  Т-000088230   \n",
       "...                                                 ...          ...   \n",
       "6420  https://hi-tech.md/kompyuternaya-tehnika/tovar...  Т-000089380   \n",
       "6424  https://hi-tech.md/kompyuternaya-tehnika/tovar...  Т-000089357   \n",
       "6425  https://hi-tech.md/kompyuternaya-tehnika/tovar...  Т-000089359   \n",
       "6426  https://hi-tech.md/kompyuternaya-tehnika/tovar...  Т-000089360   \n",
       "6427  https://hi-tech.md/kompyuternaya-tehnika/tovar...  Т-000089356   \n",
       "\n",
       "           date availability  \\\n",
       "0    2024-05-10    В наличии   \n",
       "1    2024-05-10    В наличии   \n",
       "2    2024-05-10    В наличии   \n",
       "3    2024-05-10    В наличии   \n",
       "4    2024-05-10    В наличии   \n",
       "...         ...          ...   \n",
       "6420 2024-05-10    Предзаказ   \n",
       "6424 2024-05-10    Предзаказ   \n",
       "6425 2024-05-10    Предзаказ   \n",
       "6426 2024-05-10    Предзаказ   \n",
       "6427 2024-05-10    Предзаказ   \n",
       "\n",
       "                                                  title    price  old_price  \n",
       "0                   Батарейка Energenie EG-BA-CR1220-01      4.0        NaN  \n",
       "1                   Батарейка Energenie EG-BA-CR2016-01      4.0        NaN  \n",
       "2                      Батарейка Energenie EG-BA-AA4-01      5.0        NaN  \n",
       "3                     Батарейка Energenie EG-BA-AAA4-01      5.0        NaN  \n",
       "4                   Батарейка Energenie EG-BA-CR2025-01      5.0        NaN  \n",
       "...                                                 ...      ...        ...  \n",
       "6420      Моноблок Apple iMac 24\" 2023 Blue (MQRR3RU/A)  34799.0    38799.0  \n",
       "6424  Ноутбук Apple MacBook PRO 14.2\" 2023 Silver (M...  35399.0        NaN  \n",
       "6425  Ноутбук Apple MacBook PRO 14.2\" 2023 Silver (M...  39399.0        NaN  \n",
       "6426  Ноутбук Apple MacBook PRO 14.2\" 2023 Space Gre...  39399.0        NaN  \n",
       "6427  Ноутбук Apple MacBook PRO 14.2\" 2023 Silver (M...  69599.0        NaN  \n",
       "\n",
       "[5884 rows x 7 columns]"
      ]
     },
     "execution_count": 25,
     "metadata": {},
     "output_type": "execute_result"
    }
   ],
   "source": [
    "df = parsing_2(url)\n",
    "df"
   ]
  },
  {
   "cell_type": "markdown",
   "id": "1c2995b3",
   "metadata": {},
   "source": [
    "полученная информация"
   ]
  },
  {
   "cell_type": "markdown",
   "id": "e0f13518",
   "metadata": {},
   "source": [
    "data"
   ]
  },
  {
   "cell_type": "code",
   "execution_count": 26,
   "id": "630e3ac0",
   "metadata": {},
   "outputs": [
    {
     "name": "stdout",
     "output_type": "stream",
     "text": [
      "таблица имеет следующий вид:\n"
     ]
    },
    {
     "data": {
      "text/html": [
       "<div>\n",
       "<style scoped>\n",
       "    .dataframe tbody tr th:only-of-type {\n",
       "        vertical-align: middle;\n",
       "    }\n",
       "\n",
       "    .dataframe tbody tr th {\n",
       "        vertical-align: top;\n",
       "    }\n",
       "\n",
       "    .dataframe thead th {\n",
       "        text-align: right;\n",
       "    }\n",
       "</style>\n",
       "<table border=\"1\" class=\"dataframe\">\n",
       "  <thead>\n",
       "    <tr style=\"text-align: right;\">\n",
       "      <th></th>\n",
       "      <th>soup_name</th>\n",
       "      <th>id</th>\n",
       "      <th>date</th>\n",
       "      <th>availability</th>\n",
       "      <th>title</th>\n",
       "      <th>price</th>\n",
       "      <th>old_price</th>\n",
       "    </tr>\n",
       "  </thead>\n",
       "  <tbody>\n",
       "    <tr>\n",
       "      <th>0</th>\n",
       "      <td>https://hi-tech.md/televizory-i-elektronika/ba...</td>\n",
       "      <td>Т-000088228</td>\n",
       "      <td>2024-05-10</td>\n",
       "      <td>В наличии</td>\n",
       "      <td>Батарейка Energenie EG-BA-CR1220-01</td>\n",
       "      <td>4.0</td>\n",
       "      <td>NaN</td>\n",
       "    </tr>\n",
       "    <tr>\n",
       "      <th>1</th>\n",
       "      <td>https://hi-tech.md/televizory-i-elektronika/ba...</td>\n",
       "      <td>Т-000088229</td>\n",
       "      <td>2024-05-10</td>\n",
       "      <td>В наличии</td>\n",
       "      <td>Батарейка Energenie EG-BA-CR2016-01</td>\n",
       "      <td>4.0</td>\n",
       "      <td>NaN</td>\n",
       "    </tr>\n",
       "    <tr>\n",
       "      <th>2</th>\n",
       "      <td>https://hi-tech.md/televizory-i-elektronika/ba...</td>\n",
       "      <td>Т-000088221</td>\n",
       "      <td>2024-05-10</td>\n",
       "      <td>В наличии</td>\n",
       "      <td>Батарейка Energenie EG-BA-AA4-01</td>\n",
       "      <td>5.0</td>\n",
       "      <td>NaN</td>\n",
       "    </tr>\n",
       "    <tr>\n",
       "      <th>3</th>\n",
       "      <td>https://hi-tech.md/televizory-i-elektronika/ba...</td>\n",
       "      <td>Т-000088222</td>\n",
       "      <td>2024-05-10</td>\n",
       "      <td>В наличии</td>\n",
       "      <td>Батарейка Energenie EG-BA-AAA4-01</td>\n",
       "      <td>5.0</td>\n",
       "      <td>NaN</td>\n",
       "    </tr>\n",
       "    <tr>\n",
       "      <th>4</th>\n",
       "      <td>https://hi-tech.md/televizory-i-elektronika/ba...</td>\n",
       "      <td>Т-000088230</td>\n",
       "      <td>2024-05-10</td>\n",
       "      <td>В наличии</td>\n",
       "      <td>Батарейка Energenie EG-BA-CR2025-01</td>\n",
       "      <td>5.0</td>\n",
       "      <td>NaN</td>\n",
       "    </tr>\n",
       "  </tbody>\n",
       "</table>\n",
       "</div>"
      ],
      "text/plain": [
       "                                           soup_name           id       date  \\\n",
       "0  https://hi-tech.md/televizory-i-elektronika/ba...  Т-000088228 2024-05-10   \n",
       "1  https://hi-tech.md/televizory-i-elektronika/ba...  Т-000088229 2024-05-10   \n",
       "2  https://hi-tech.md/televizory-i-elektronika/ba...  Т-000088221 2024-05-10   \n",
       "3  https://hi-tech.md/televizory-i-elektronika/ba...  Т-000088222 2024-05-10   \n",
       "4  https://hi-tech.md/televizory-i-elektronika/ba...  Т-000088230 2024-05-10   \n",
       "\n",
       "  availability                                title  price  old_price  \n",
       "0    В наличии  Батарейка Energenie EG-BA-CR1220-01    4.0        NaN  \n",
       "1    В наличии  Батарейка Energenie EG-BA-CR2016-01    4.0        NaN  \n",
       "2    В наличии     Батарейка Energenie EG-BA-AA4-01    5.0        NaN  \n",
       "3    В наличии    Батарейка Energenie EG-BA-AAA4-01    5.0        NaN  \n",
       "4    В наличии  Батарейка Energenie EG-BA-CR2025-01    5.0        NaN  "
      ]
     },
     "metadata": {},
     "output_type": "display_data"
    },
    {
     "name": "stdout",
     "output_type": "stream",
     "text": [
      "****************************************************************************************************\n",
      "таблица имеет 5884 сторок и 7 столбцов\n",
      "****************************************************************************************************\n",
      "в таблице обнаружено дублекатов:0\n",
      "****************************************************************************************************\n",
      "в таблице обнаружены пропуски в следующих столбцах:\n"
     ]
    },
    {
     "data": {
      "text/plain": [
       "soup_name          0\n",
       "id                 0\n",
       "date               0\n",
       "availability       0\n",
       "title              0\n",
       "price              0\n",
       "old_price       4391\n",
       "dtype: int64"
      ]
     },
     "metadata": {},
     "output_type": "display_data"
    },
    {
     "name": "stdout",
     "output_type": "stream",
     "text": [
      "****************************************************************************************************\n",
      "Эти пропуски составлябт следующее количество в процентах\n"
     ]
    },
    {
     "data": {
      "text/plain": [
       "soup_name        0.0\n",
       "id               0.0\n",
       "date             0.0\n",
       "availability     0.0\n",
       "title            0.0\n",
       "price            0.0\n",
       "old_price       74.6\n",
       "dtype: float64"
      ]
     },
     "metadata": {},
     "output_type": "display_data"
    },
    {
     "name": "stdout",
     "output_type": "stream",
     "text": [
      "****************************************************************************************************\n",
      "столбцы имеют следующие типы:\n"
     ]
    },
    {
     "data": {
      "text/plain": [
       "soup_name               object\n",
       "id                      object\n",
       "date            datetime64[ns]\n",
       "availability            object\n",
       "title                   object\n",
       "price                  float64\n",
       "old_price              float64\n",
       "dtype: object"
      ]
     },
     "metadata": {},
     "output_type": "display_data"
    },
    {
     "name": "stdout",
     "output_type": "stream",
     "text": [
      "****************************************************************************************************\n",
      "названия столбцов переписаны в нижнем регистре, пробелы заменены на нижнее подчеркивание\n",
      "****************************************************************************************************\n",
      "<class 'pandas.core.frame.DataFrame'>\n",
      "Int64Index: 5884 entries, 0 to 6427\n",
      "Data columns (total 7 columns):\n",
      " #   Column        Non-Null Count  Dtype         \n",
      "---  ------        --------------  -----         \n",
      " 0   soup_name     5884 non-null   object        \n",
      " 1   id            5884 non-null   object        \n",
      " 2   date          5884 non-null   datetime64[ns]\n",
      " 3   availability  5884 non-null   object        \n",
      " 4   title         5884 non-null   object        \n",
      " 5   price         5884 non-null   float64       \n",
      " 6   old_price     1493 non-null   float64       \n",
      "dtypes: datetime64[ns](1), float64(2), object(4)\n",
      "memory usage: 367.8+ KB\n"
     ]
    },
    {
     "data": {
      "text/plain": [
       "None"
      ]
     },
     "metadata": {},
     "output_type": "display_data"
    }
   ],
   "source": [
    "preprocessing(df)"
   ]
  },
  {
   "cell_type": "code",
   "execution_count": 27,
   "id": "8ea5c29b",
   "metadata": {},
   "outputs": [],
   "source": [
    "today = pd.to_datetime('today').normalize()"
   ]
  },
  {
   "cell_type": "code",
   "execution_count": 28,
   "id": "c062a039",
   "metadata": {},
   "outputs": [],
   "source": [
    "today = today.to_pydatetime()"
   ]
  },
  {
   "cell_type": "markdown",
   "id": "7f47c421",
   "metadata": {},
   "source": [
    "создаем переменную, которая хранит информацию о текущей дате"
   ]
  },
  {
   "cell_type": "code",
   "execution_count": 29,
   "id": "f1702db2",
   "metadata": {
    "scrolled": true
   },
   "outputs": [],
   "source": [
    "df.to_csv('csv/hi_tech_'+str(today.day)+'_'+str(today.month)+'_'+str(today.year)+'.csv', index=False)  "
   ]
  },
  {
   "cell_type": "markdown",
   "id": "17af301b",
   "metadata": {},
   "source": [
    "Переписывем датафрейм в файл"
   ]
  },
  {
   "cell_type": "markdown",
   "id": "01beb3b0",
   "metadata": {},
   "source": [
    "# пробные функции"
   ]
  },
  {
   "cell_type": "code",
   "execution_count": 30,
   "id": "a27dcdfb",
   "metadata": {
    "scrolled": false
   },
   "outputs": [
    {
     "data": {
      "text/plain": [
       "'://hi-tech.md/kompyuternaya-tehnika/sport-i-otdyh/hd-cvi-kamery/ip-kamery/hd-cvi-videokamera-dahua-dh-hac-hdw1230mp-028'"
      ]
     },
     "execution_count": 30,
     "metadata": {},
     "output_type": "execute_result"
    }
   ],
   "source": [
    "t = data.loc[0,'soup_name']\n",
    "t = str(t)\n",
    "find = t.find('a class=\"product-title\"')\n",
    "find = t.find('href=\"', find)\n",
    "start = find+len('href=\"')\n",
    "stop = t.find('title', find)-2\n",
    "xxx = t[start: stop]\n",
    "xxx   "
   ]
  },
  {
   "cell_type": "code",
   "execution_count": 31,
   "id": "603c515e",
   "metadata": {},
   "outputs": [],
   "source": [
    "urls = df['soup_name'].unique()"
   ]
  },
  {
   "cell_type": "code",
   "execution_count": 32,
   "id": "a4c4e638",
   "metadata": {},
   "outputs": [],
   "source": [
    "reqx = requests.get('https://hi-tech.md/kompyuternaya-tehnika/sport-i-otdyh/hd-cvi-kamery/ip-kamery/')"
   ]
  },
  {
   "cell_type": "code",
   "execution_count": 33,
   "id": "3bb9430e",
   "metadata": {},
   "outputs": [],
   "source": [
    "soup = bs(reqx.text, 'html.parser')"
   ]
  },
  {
   "cell_type": "code",
   "execution_count": 34,
   "id": "22c7caac",
   "metadata": {},
   "outputs": [
    {
     "data": {
      "text/html": [
       "<div>\n",
       "<style scoped>\n",
       "    .dataframe tbody tr th:only-of-type {\n",
       "        vertical-align: middle;\n",
       "    }\n",
       "\n",
       "    .dataframe tbody tr th {\n",
       "        vertical-align: top;\n",
       "    }\n",
       "\n",
       "    .dataframe thead th {\n",
       "        text-align: right;\n",
       "    }\n",
       "</style>\n",
       "<table border=\"1\" class=\"dataframe\">\n",
       "  <thead>\n",
       "    <tr style=\"text-align: right;\">\n",
       "      <th></th>\n",
       "      <th>soup_name</th>\n",
       "    </tr>\n",
       "  </thead>\n",
       "  <tbody>\n",
       "    <tr>\n",
       "      <th>0</th>\n",
       "      <td>[[ , [\\n, &lt;input name=\"appearance[show_sku]\" t...</td>\n",
       "    </tr>\n",
       "    <tr>\n",
       "      <th>1</th>\n",
       "      <td>[[ , [\\n, &lt;input name=\"appearance[show_sku]\" t...</td>\n",
       "    </tr>\n",
       "    <tr>\n",
       "      <th>2</th>\n",
       "      <td>[[ , [\\n, &lt;input name=\"appearance[show_sku]\" t...</td>\n",
       "    </tr>\n",
       "    <tr>\n",
       "      <th>3</th>\n",
       "      <td>[[ , [\\n, &lt;input name=\"appearance[show_sku]\" t...</td>\n",
       "    </tr>\n",
       "    <tr>\n",
       "      <th>4</th>\n",
       "      <td>[[ , [\\n, &lt;input name=\"appearance[show_sku]\" t...</td>\n",
       "    </tr>\n",
       "  </tbody>\n",
       "</table>\n",
       "</div>"
      ],
      "text/plain": [
       "                                           soup_name\n",
       "0  [[ , [\\n, <input name=\"appearance[show_sku]\" t...\n",
       "1  [[ , [\\n, <input name=\"appearance[show_sku]\" t...\n",
       "2  [[ , [\\n, <input name=\"appearance[show_sku]\" t...\n",
       "3  [[ , [\\n, <input name=\"appearance[show_sku]\" t...\n",
       "4  [[ , [\\n, <input name=\"appearance[show_sku]\" t..."
      ]
     },
     "execution_count": 34,
     "metadata": {},
     "output_type": "execute_result"
    }
   ],
   "source": [
    "data = pd.DataFrame({'soup_name':pd.Series(soup.findAll('div', class_='ypi-grid-list__item_body'),dtype = 'object')})\n",
    "data.head()"
   ]
  },
  {
   "cell_type": "code",
   "execution_count": 35,
   "id": "5d4a938b",
   "metadata": {},
   "outputs": [
    {
     "data": {
      "text/plain": [
       "<div class=\"ypi-grid-list__item_body\" style=\"min-height: 430px\"><div class=\"stock-block\"> <div class=\"ty-control-group ty-sku-item cm-hidden-wrapper cm-reload-42965\" id=\"sku_update_42965\">\n",
       "<input name=\"appearance[show_sku]\" type=\"hidden\" value=\"1\">\n",
       "<label class=\"ty-control-group__label\" id=\"sku_42965\">КОД:</label>\n",
       "<span class=\"ty-control-group__item\">Т-000072435</span>\n",
       "</input></div>\n",
       "<div class=\"cm-reload-42965 stock-wrap\" id=\"product_amount_update_42965\">\n",
       "<input name=\"appearance[show_product_amount]\" type=\"hidden\" value=\"1\">\n",
       "<a class=\"ty-control-group product-list-field cm-external-click\" data-ca-external-click-id=\"availability_in_stores\" href=\"#availability_in_stores\">\n",
       "<span class=\"ty-qty-in-stock preorder ty-control-group__item\" id=\"in_stock_info_42965\">\n",
       "<i class=\"material-icons\"></i>Предзаказ\n",
       "</span>\n",
       "</a>\n",
       "</input></div>\n",
       "</div><div class=\"ty-grid-list__image\" style=\"height: 230px;\">\n",
       "<div class=\"ypi-list-bt-block hidden\">\n",
       "<a class=\"ty-btn ty-btn__tertiary ty-add-to-wish cm-submit text-button\" data-ca-dispatch=\"dispatch[wishlist.add..42965]\" id=\"button_wishlist_42965\" title=\"Отложить\"><span><i class=\"ty-icon-heart\"></i></span></a>\n",
       "<a class=\"ty-btn ty-btn__tertiary ty-add-to-compare cm-ajax cm-ajax-full-render text-button\" data-ca-target-id=\"comparison_list,account_info*\" href=\"https://hi-tech.md/index.php?dispatch=product_features.add_product&amp;product_id=42965&amp;redirect_url=index.php%3Fdispatch%3Dcategories.view%26category_id%3D898\" rel=\"nofollow\" title=\"Добавить в список сравнения\"><span></span></a>\n",
       "</div>\n",
       "<a class=\"abt-single-image\" href=\"https://hi-tech.md/kompyuternaya-tehnika/sport-i-otdyh/hd-cvi-kamery/ip-kamery/hd-cvi-videokamera-dahua-dh-hac-hdw1230mp-0280b/\">\n",
       "<img alt=\"\" class=\"ty-pict cm-image\" data-lazy_src=\"https://hi-tech.md/images/thumbnails/230/230/detailed/151/hd__cvi__videokamera__dahua__dh__hac__hdw1230mp__0280b__152727.jpg\" id=\"det_img_42965\" title=\"\">\n",
       "</img></a>\n",
       "</div><div class=\"block-top\">\n",
       "<div class=\"grid-list__rating\">\n",
       "<span class=\"ty-nowrap ty-stars\">\n",
       "<a href=\"https://hi-tech.md/kompyuternaya-tehnika/sport-i-otdyh/hd-cvi-kamery/ip-kamery/hd-cvi-videokamera-dahua-dh-hac-hdw1230mp-0280b/?selected_section=discussion#discussion\">\n",
       "<i class=\"ty-stars__icon ty-icon-star-empty\"></i>\n",
       "<i class=\"ty-stars__icon ty-icon-star-empty\"></i>\n",
       "<i class=\"ty-stars__icon ty-icon-star-empty\"></i>\n",
       "<i class=\"ty-stars__icon ty-icon-star-empty\"></i>\n",
       "<i class=\"ty-stars__icon ty-icon-star-empty\"></i>\n",
       "</a>\n",
       "</span>\n",
       "</div></div><div class=\"ty-grid-list__item-name\"><bdi>\n",
       "<a class=\"product-title\" href=\"https://hi-tech.md/kompyuternaya-tehnika/sport-i-otdyh/hd-cvi-kamery/ip-kamery/hd-cvi-videokamera-dahua-dh-hac-hdw1230mp-0280b/\" title=\"HD-CVI-видеокамера Dahua (DH-HAC-HDW1230MP-0280B)\">HD-CVI-видеокамера Dahua (DH-HAC-HDW1230MP-0280B)</a>\n",
       "</bdi></div><div class=\"block-bottom\"><div class=\"v-align-bottom\"><div class=\"ypi-product__option\"> </div><div class=\"ypi-product__qty\">\n",
       "<div class=\"cm-reload-42965\" id=\"qty_update_42965\">\n",
       "<input name=\"appearance[show_qty]\" type=\"hidden\" value=\"\">\n",
       "<input name=\"appearance[capture_options_vs_qty]\" type=\"hidden\" value=\"\">\n",
       "<input name=\"product_data[42965][amount]\" type=\"hidden\" value=\"1\">\n",
       "</input></input></input></div>\n",
       "</div><div class=\"ty-grid-list__price\"> <span class=\"cm-reload-42965\" id=\"old_price_update_42965\">\n",
       "</span>\n",
       "<span class=\"cm-reload-42965 ty-price-update\" id=\"price_update_42965\">\n",
       "<input name=\"appearance[show_price_values]\" type=\"hidden\" value=\"1\">\n",
       "<input name=\"appearance[show_price]\" type=\"hidden\" value=\"1\">\n",
       "<span class=\"ty-price\" id=\"line_discounted_price_42965\"><bdi><span class=\"ty-price-num\" id=\"sec_discounted_price_42965\">610</span> <span class=\"ty-price-num\">руб</span></bdi></span>\n",
       "</input></input></span>\n",
       "</div><div class=\"ty-grid-list__control show-list-buttons\"><div class=\"button-container\"><div class=\"ty-grid-list__rassrochka\"><div class=\"label\">Рассрочка:</div><span class=\"price\">54</span><span class=\"per_month\">руб/мес.</span></div><div class=\"cm-reload-42965\" id=\"add_to_cart_update_42965\">\n",
       "<input name=\"appearance[show_add_to_cart]\" type=\"hidden\" value=\"1\">\n",
       "<input name=\"appearance[show_list_buttons]\" type=\"hidden\" value=\"1\">\n",
       "<input name=\"appearance[but_role]\" type=\"hidden\" value=\"action\">\n",
       "<input name=\"appearance[quick_view]\" type=\"hidden\" value=\"\">\n",
       "<button class=\"ty-btn__add-to-cart cm-form-dialog-closer ty-btn cm-tooltip\" id=\"button_cart_42965\" name=\"dispatch[checkout.add..42965]\" title=\"Добавить в корзину\" type=\"submit\"><svg fill=\"#fff\" height=\"100%\" viewbox=\"0 0 700 600\" width=\"100%\" xmlns:xlink=\"http://www.w3.org/1999/xlink\"><use xlink:href=\"#btn-add-to-cart\"></use></svg></button>\n",
       "<a class=\"ypi-quick-view-button ty-btn ty-btn__tertiary cm-dialog-opener cm-tooltip cm-dialog-auto-size\" data-ca-dialog-title=\"Быстрый просмотр товаров\" data-ca-target-id=\"product_quick_view\" data-ca-view-id=\"42965\" href=\"https://hi-tech.md/index.php?dispatch=products.quick_view&amp;product_id=42965&amp;prev_url=index.php%3Fdispatch%3Dcategories.view%26category_id%3D898&amp;n_items=42965%2C42964%2C42963%2C149701%2C154538%2C149693%2C149694%2C154539%2C149698%2C51771%2C149700%2C149702%2C149759%2C149699%2C149703%2C149704%2C111971%2C149723%2C149737%2C149738%2C149722%2C149721%2C149736%2C100588%2C149739%2C51770%2C100589%2C151438%2C151439%2C43285%2C149718%2C149728%2C149724%2C149725%2C149742%2C95796\" rel=\"nofollow\" title=\"Быстрый просмотр\"><i class=\"material-icons md-24\"></i></a>\n",
       "</input></input></input></input></div>\n",
       "</div>\n",
       "</div></div></div><div class=\"block-middle\">\n",
       "<div class=\"product-feature\">\n",
       "<div class=\"cm-reload-42965\" id=\"product_features_update_42965\">\n",
       "<input name=\"appearance[show_features]\" type=\"hidden\" value=\"1\">\n",
       "<em> <span class=\"ty-control-group f-variant\" data-feature-id=\"3046\"><span class=\"ty-product-feature__label\"><em class=\"abt-yt-feature-name\">Подключение</em></span><span><em><span class=\"f-variant-item\">Ethernet</span></em></span></span></em>\n",
       "</input></div>\n",
       "</div></div></div>"
      ]
     },
     "execution_count": 35,
     "metadata": {},
     "output_type": "execute_result"
    }
   ],
   "source": [
    "data.loc[0,'soup_name']"
   ]
  },
  {
   "cell_type": "code",
   "execution_count": 36,
   "id": "809876d1",
   "metadata": {},
   "outputs": [
    {
     "name": "stderr",
     "output_type": "stream",
     "text": [
      "C:\\Users\\user\\AppData\\Local\\Temp\\ipykernel_468\\710482726.py:1: FutureWarning: The default dtype for empty Series will be 'object' instead of 'float64' in a future version. Specify a dtype explicitly to silence this warning.\n",
      "  t = pd.DataFrame({'soup_name':pd.Series(soup.findAll('div', class_=\"ty-warehouses-store__group\"))}).loc[0,'soup_name']\n"
     ]
    },
    {
     "ename": "KeyError",
     "evalue": "0",
     "output_type": "error",
     "traceback": [
      "\u001b[1;31m---------------------------------------------------------------------------\u001b[0m",
      "\u001b[1;31mValueError\u001b[0m                                Traceback (most recent call last)",
      "File \u001b[1;32m~\\anaconda3\\Lib\\site-packages\\pandas\\core\\indexes\\range.py:391\u001b[0m, in \u001b[0;36mRangeIndex.get_loc\u001b[1;34m(self, key, method, tolerance)\u001b[0m\n\u001b[0;32m    390\u001b[0m \u001b[38;5;28;01mtry\u001b[39;00m:\n\u001b[1;32m--> 391\u001b[0m     \u001b[38;5;28;01mreturn\u001b[39;00m \u001b[38;5;28mself\u001b[39m\u001b[38;5;241m.\u001b[39m_range\u001b[38;5;241m.\u001b[39mindex(new_key)\n\u001b[0;32m    392\u001b[0m \u001b[38;5;28;01mexcept\u001b[39;00m \u001b[38;5;167;01mValueError\u001b[39;00m \u001b[38;5;28;01mas\u001b[39;00m err:\n",
      "\u001b[1;31mValueError\u001b[0m: 0 is not in range",
      "\nThe above exception was the direct cause of the following exception:\n",
      "\u001b[1;31mKeyError\u001b[0m                                  Traceback (most recent call last)",
      "Cell \u001b[1;32mIn[36], line 1\u001b[0m\n\u001b[1;32m----> 1\u001b[0m t \u001b[38;5;241m=\u001b[39m pd\u001b[38;5;241m.\u001b[39mDataFrame({\u001b[38;5;124m'\u001b[39m\u001b[38;5;124msoup_name\u001b[39m\u001b[38;5;124m'\u001b[39m:pd\u001b[38;5;241m.\u001b[39mSeries(soup\u001b[38;5;241m.\u001b[39mfindAll(\u001b[38;5;124m'\u001b[39m\u001b[38;5;124mdiv\u001b[39m\u001b[38;5;124m'\u001b[39m, class_\u001b[38;5;241m=\u001b[39m\u001b[38;5;124m\"\u001b[39m\u001b[38;5;124mty-warehouses-store__group\u001b[39m\u001b[38;5;124m\"\u001b[39m))})\u001b[38;5;241m.\u001b[39mloc[\u001b[38;5;241m0\u001b[39m,\u001b[38;5;124m'\u001b[39m\u001b[38;5;124msoup_name\u001b[39m\u001b[38;5;124m'\u001b[39m]\n\u001b[0;32m      2\u001b[0m t\n",
      "File \u001b[1;32m~\\anaconda3\\Lib\\site-packages\\pandas\\core\\indexing.py:1066\u001b[0m, in \u001b[0;36m_LocationIndexer.__getitem__\u001b[1;34m(self, key)\u001b[0m\n\u001b[0;32m   1064\u001b[0m     key \u001b[38;5;241m=\u001b[39m \u001b[38;5;28mtuple\u001b[39m(com\u001b[38;5;241m.\u001b[39mapply_if_callable(x, \u001b[38;5;28mself\u001b[39m\u001b[38;5;241m.\u001b[39mobj) \u001b[38;5;28;01mfor\u001b[39;00m x \u001b[38;5;129;01min\u001b[39;00m key)\n\u001b[0;32m   1065\u001b[0m     \u001b[38;5;28;01mif\u001b[39;00m \u001b[38;5;28mself\u001b[39m\u001b[38;5;241m.\u001b[39m_is_scalar_access(key):\n\u001b[1;32m-> 1066\u001b[0m         \u001b[38;5;28;01mreturn\u001b[39;00m \u001b[38;5;28mself\u001b[39m\u001b[38;5;241m.\u001b[39mobj\u001b[38;5;241m.\u001b[39m_get_value(\u001b[38;5;241m*\u001b[39mkey, takeable\u001b[38;5;241m=\u001b[39m\u001b[38;5;28mself\u001b[39m\u001b[38;5;241m.\u001b[39m_takeable)\n\u001b[0;32m   1067\u001b[0m     \u001b[38;5;28;01mreturn\u001b[39;00m \u001b[38;5;28mself\u001b[39m\u001b[38;5;241m.\u001b[39m_getitem_tuple(key)\n\u001b[0;32m   1068\u001b[0m \u001b[38;5;28;01melse\u001b[39;00m:\n\u001b[0;32m   1069\u001b[0m     \u001b[38;5;66;03m# we by definition only have the 0th axis\u001b[39;00m\n",
      "File \u001b[1;32m~\\anaconda3\\Lib\\site-packages\\pandas\\core\\frame.py:3924\u001b[0m, in \u001b[0;36mDataFrame._get_value\u001b[1;34m(self, index, col, takeable)\u001b[0m\n\u001b[0;32m   3918\u001b[0m engine \u001b[38;5;241m=\u001b[39m \u001b[38;5;28mself\u001b[39m\u001b[38;5;241m.\u001b[39mindex\u001b[38;5;241m.\u001b[39m_engine\n\u001b[0;32m   3920\u001b[0m \u001b[38;5;28;01mif\u001b[39;00m \u001b[38;5;129;01mnot\u001b[39;00m \u001b[38;5;28misinstance\u001b[39m(\u001b[38;5;28mself\u001b[39m\u001b[38;5;241m.\u001b[39mindex, MultiIndex):\n\u001b[0;32m   3921\u001b[0m     \u001b[38;5;66;03m# CategoricalIndex: Trying to use the engine fastpath may give incorrect\u001b[39;00m\n\u001b[0;32m   3922\u001b[0m     \u001b[38;5;66;03m#  results if our categories are integers that dont match our codes\u001b[39;00m\n\u001b[0;32m   3923\u001b[0m     \u001b[38;5;66;03m# IntervalIndex: IntervalTree has no get_loc\u001b[39;00m\n\u001b[1;32m-> 3924\u001b[0m     row \u001b[38;5;241m=\u001b[39m \u001b[38;5;28mself\u001b[39m\u001b[38;5;241m.\u001b[39mindex\u001b[38;5;241m.\u001b[39mget_loc(index)\n\u001b[0;32m   3925\u001b[0m     \u001b[38;5;28;01mreturn\u001b[39;00m series\u001b[38;5;241m.\u001b[39m_values[row]\n\u001b[0;32m   3927\u001b[0m \u001b[38;5;66;03m# For MultiIndex going through engine effectively restricts us to\u001b[39;00m\n\u001b[0;32m   3928\u001b[0m \u001b[38;5;66;03m#  same-length tuples; see test_get_set_value_no_partial_indexing\u001b[39;00m\n",
      "File \u001b[1;32m~\\anaconda3\\Lib\\site-packages\\pandas\\core\\indexes\\range.py:393\u001b[0m, in \u001b[0;36mRangeIndex.get_loc\u001b[1;34m(self, key, method, tolerance)\u001b[0m\n\u001b[0;32m    391\u001b[0m         \u001b[38;5;28;01mreturn\u001b[39;00m \u001b[38;5;28mself\u001b[39m\u001b[38;5;241m.\u001b[39m_range\u001b[38;5;241m.\u001b[39mindex(new_key)\n\u001b[0;32m    392\u001b[0m     \u001b[38;5;28;01mexcept\u001b[39;00m \u001b[38;5;167;01mValueError\u001b[39;00m \u001b[38;5;28;01mas\u001b[39;00m err:\n\u001b[1;32m--> 393\u001b[0m         \u001b[38;5;28;01mraise\u001b[39;00m \u001b[38;5;167;01mKeyError\u001b[39;00m(key) \u001b[38;5;28;01mfrom\u001b[39;00m \u001b[38;5;21;01merr\u001b[39;00m\n\u001b[0;32m    394\u001b[0m \u001b[38;5;28mself\u001b[39m\u001b[38;5;241m.\u001b[39m_check_indexing_error(key)\n\u001b[0;32m    395\u001b[0m \u001b[38;5;28;01mraise\u001b[39;00m \u001b[38;5;167;01mKeyError\u001b[39;00m(key)\n",
      "\u001b[1;31mKeyError\u001b[0m: 0"
     ]
    }
   ],
   "source": [
    "t = pd.DataFrame({'soup_name':pd.Series(soup.findAll('div', class_=\"ty-warehouses-store__group\"))}).loc[0,'soup_name']\n",
    "t"
   ]
  },
  {
   "cell_type": "code",
   "execution_count": null,
   "id": "da91c6ed",
   "metadata": {},
   "outputs": [],
   "source": [
    "list(soup.findAll('div', class_=\"ty-wysiwyg-content content-availability_in_stores\"))"
   ]
  },
  {
   "cell_type": "code",
   "execution_count": null,
   "id": "4081c304",
   "metadata": {},
   "outputs": [],
   "source": [
    "soup"
   ]
  }
 ],
 "metadata": {
  "kernelspec": {
   "display_name": "Python 3 (ipykernel)",
   "language": "python",
   "name": "python3"
  },
  "language_info": {
   "codemirror_mode": {
    "name": "ipython",
    "version": 3
   },
   "file_extension": ".py",
   "mimetype": "text/x-python",
   "name": "python",
   "nbconvert_exporter": "python",
   "pygments_lexer": "ipython3",
   "version": "3.11.3"
  }
 },
 "nbformat": 4,
 "nbformat_minor": 5
}
